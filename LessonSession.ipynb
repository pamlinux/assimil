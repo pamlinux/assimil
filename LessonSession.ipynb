{
 "cells": [
  {
   "cell_type": "code",
   "execution_count": 1,
   "id": "5b5587f2-af25-4400-8a50-9dacc63dbcf9",
   "metadata": {},
   "outputs": [
    {
     "name": "stdout",
     "output_type": "stream",
     "text": [
      "2024-09-04 11:13:32,981 INFO sqlalchemy.engine.Engine BEGIN (implicit)\n",
      "2024-09-04 11:13:32,981 INFO sqlalchemy.engine.Engine PRAGMA main.table_info(\"word_dict\")\n",
      "2024-09-04 11:13:32,981 INFO sqlalchemy.engine.Engine [raw sql] ()\n",
      "2024-09-04 11:13:32,982 INFO sqlalchemy.engine.Engine PRAGMA main.table_info(\"word_index\")\n",
      "2024-09-04 11:13:32,982 INFO sqlalchemy.engine.Engine [raw sql] ()\n",
      "2024-09-04 11:13:32,982 INFO sqlalchemy.engine.Engine PRAGMA main.table_info(\"sentences\")\n",
      "2024-09-04 11:13:32,983 INFO sqlalchemy.engine.Engine [raw sql] ()\n",
      "2024-09-04 11:13:32,983 INFO sqlalchemy.engine.Engine PRAGMA main.table_info(\"marked_sentences\")\n",
      "2024-09-04 11:13:32,983 INFO sqlalchemy.engine.Engine [raw sql] ()\n",
      "2024-09-04 11:13:32,983 INFO sqlalchemy.engine.Engine PRAGMA main.table_info(\"lesson_sessions\")\n",
      "2024-09-04 11:13:32,984 INFO sqlalchemy.engine.Engine [raw sql] ()\n",
      "2024-09-04 11:13:32,985 INFO sqlalchemy.engine.Engine COMMIT\n"
     ]
    }
   ],
   "source": [
    "from sqlalchemy import ForeignKey, select, String, and_\n",
    "from sqlalchemy.orm import Session\n",
    "from database import MarkedSentence, LessonSession, engine"
   ]
  },
  {
   "cell_type": "code",
   "execution_count": 2,
   "id": "4242b764-aa9e-4ed3-8804-bf57302c7d59",
   "metadata": {},
   "outputs": [
    {
     "name": "stdout",
     "output_type": "stream",
     "text": [
      "2024-09-04 10:16:48,484 INFO sqlalchemy.engine.Engine BEGIN (implicit)\n",
      "2024-09-04 10:16:48,499 INFO sqlalchemy.engine.Engine SELECT lesson_sessions.id, lesson_sessions.lesson, lesson_sessions.date_time, lesson_sessions.errors_number \n",
      "FROM lesson_sessions\n",
      "2024-09-04 10:16:48,500 INFO sqlalchemy.engine.Engine [generated in 0.00105s] ()\n",
      "Session du datetime.datetime(2024, 9, 4, 9, 48, 33, 151416) de la lesson 4 avec 7 erreurs\n",
      "Session du datetime.datetime(2024, 9, 4, 9, 49, 37, 82219) de la lesson 2 avec 3 erreurs\n",
      "2024-09-04 10:16:48,501 INFO sqlalchemy.engine.Engine ROLLBACK\n"
     ]
    }
   ],
   "source": [
    "stmt = select(LessonSession)\n",
    "with Session(engine) as session:\n",
    "    for entry in session.scalars(stmt):\n",
    "        print(entry)"
   ]
  },
  {
   "cell_type": "code",
   "execution_count": 4,
   "id": "f53695ed-467b-4e8d-bbf0-88343454a3d8",
   "metadata": {},
   "outputs": [
    {
     "name": "stdout",
     "output_type": "stream",
     "text": [
      "2024-09-04 10:18:37,040 INFO sqlalchemy.engine.Engine BEGIN (implicit)\n",
      "2024-09-04 10:18:37,044 INFO sqlalchemy.engine.Engine SELECT lesson_sessions.id, lesson_sessions.lesson, lesson_sessions.date_time, lesson_sessions.errors_number \n",
      "FROM lesson_sessions\n",
      "2024-09-04 10:18:37,046 INFO sqlalchemy.engine.Engine [cached since 108.6s ago] ()\n",
      "2024-09-04 10:18:37,050 INFO sqlalchemy.engine.Engine SELECT marked_sentences.id AS marked_sentences_id, marked_sentences.sentence AS marked_sentences_sentence, marked_sentences.comment AS marked_sentences_comment, marked_sentences.line AS marked_sentences_line, marked_sentences.session_id AS marked_sentences_session_id \n",
      "FROM marked_sentences \n",
      "WHERE ? = marked_sentences.session_id\n",
      "2024-09-04 10:18:37,051 INFO sqlalchemy.engine.Engine [cached since 83.15s ago] (1,)\n",
      "Session du datetime.datetime(2024, 9, 4, 9, 48, 33, 151416) de la lesson 4 avec 7 erreurs\n",
      "Session du datetime.datetime(2024, 9, 4, 9, 48, 33, 151416) de la lesson 4 avec 7 erreurs\n",
      "Session du datetime.datetime(2024, 9, 4, 9, 48, 33, 151416) de la lesson 4 avec 7 erreurs\n",
      "Session du datetime.datetime(2024, 9, 4, 9, 48, 33, 151416) de la lesson 4 avec 7 erreurs\n",
      "Session du datetime.datetime(2024, 9, 4, 9, 48, 33, 151416) de la lesson 4 avec 7 erreurs\n",
      "Session du datetime.datetime(2024, 9, 4, 9, 48, 33, 151416) de la lesson 4 avec 7 erreurs\n",
      "Session du datetime.datetime(2024, 9, 4, 9, 48, 33, 151416) de la lesson 4 avec 7 erreurs\n",
      "2024-09-04 10:18:37,053 INFO sqlalchemy.engine.Engine SELECT marked_sentences.id AS marked_sentences_id, marked_sentences.sentence AS marked_sentences_sentence, marked_sentences.comment AS marked_sentences_comment, marked_sentences.line AS marked_sentences_line, marked_sentences.session_id AS marked_sentences_session_id \n",
      "FROM marked_sentences \n",
      "WHERE ? = marked_sentences.session_id\n",
      "2024-09-04 10:18:37,054 INFO sqlalchemy.engine.Engine [cached since 83.15s ago] (2,)\n",
      "Session du datetime.datetime(2024, 9, 4, 9, 49, 37, 82219) de la lesson 2 avec 3 erreurs\n",
      "Session du datetime.datetime(2024, 9, 4, 9, 49, 37, 82219) de la lesson 2 avec 3 erreurs\n",
      "Session du datetime.datetime(2024, 9, 4, 9, 49, 37, 82219) de la lesson 2 avec 3 erreurs\n",
      "2024-09-04 10:18:37,056 INFO sqlalchemy.engine.Engine ROLLBACK\n"
     ]
    }
   ],
   "source": [
    "stmt = select(LessonSession)\n",
    "with Session(engine) as session:\n",
    "    for entry in session.scalars(stmt):\n",
    "        for sentence in entry.errored_sentences:\n",
    "            print(sentence.session)\n",
    "            "
   ]
  },
  {
   "cell_type": "code",
   "execution_count": 2,
   "id": "5e3d0040-6ce2-42b9-8232-805d0c04a76a",
   "metadata": {},
   "outputs": [],
   "source": [
    "from database import get_lesson_sessions_history"
   ]
  },
  {
   "cell_type": "code",
   "execution_count": 5,
   "id": "23c5260a-c13d-43f1-9b48-a10fb295b7a5",
   "metadata": {},
   "outputs": [
    {
     "name": "stdout",
     "output_type": "stream",
     "text": [
      "----------------- begin_date : None\n",
      "----------------- end_date : None\n",
      "2024-09-04 11:37:35,778 INFO sqlalchemy.engine.Engine BEGIN (implicit)\n",
      "2024-09-04 11:37:35,780 INFO sqlalchemy.engine.Engine SELECT lesson_sessions.id, lesson_sessions.lesson, lesson_sessions.date_time, lesson_sessions.errors_number \n",
      "FROM lesson_sessions \n",
      "WHERE lesson_sessions.date_time >= ? AND lesson_sessions.date_time <= ? AND lesson_sessions.lesson <= ? AND lesson_sessions.lesson >= ?\n",
      "2024-09-04 11:37:35,781 INFO sqlalchemy.engine.Engine [cached since 1438s ago] ('0001-01-01 00:00:00.000000', '9999-12-31 23:59:59.999999', 100, 1)\n",
      "2024-09-04 11:37:35,784 INFO sqlalchemy.engine.Engine ROLLBACK\n"
     ]
    }
   ],
   "source": [
    "sessions = get_lesson_sessions_history()"
   ]
  },
  {
   "cell_type": "code",
   "execution_count": 6,
   "id": "56c1e924-62b6-4b52-88ce-d779376c216c",
   "metadata": {},
   "outputs": [
    {
     "data": {
      "text/plain": [
       "{4: {datetime.datetime(2024, 9, 4, 9, 48, 33, 151416): 7,\n",
       "  datetime.datetime(2024, 9, 4, 11, 10, 19, 374186): 3,\n",
       "  datetime.datetime(2024, 9, 4, 11, 10, 35, 350477): 2,\n",
       "  datetime.datetime(2024, 9, 4, 11, 11, 46, 599893): 1},\n",
       " 2: {datetime.datetime(2024, 9, 4, 9, 49, 37, 82219): 3},\n",
       " 5: {datetime.datetime(2024, 9, 4, 11, 12, 53, 984478): 3},\n",
       " 97: {datetime.datetime(2024, 9, 4, 11, 13, 21, 895157): 3},\n",
       " 3: {datetime.datetime(2024, 9, 4, 11, 37, 14, 196147): 0}}"
      ]
     },
     "execution_count": 6,
     "metadata": {},
     "output_type": "execute_result"
    }
   ],
   "source": [
    "sessions"
   ]
  },
  {
   "cell_type": "code",
   "execution_count": null,
   "id": "51a177f0-a7e2-4e65-9963-77102cec6161",
   "metadata": {},
   "outputs": [],
   "source": []
  }
 ],
 "metadata": {
  "kernelspec": {
   "display_name": "Python 3 (ipykernel)",
   "language": "python",
   "name": "python3"
  },
  "language_info": {
   "codemirror_mode": {
    "name": "ipython",
    "version": 3
   },
   "file_extension": ".py",
   "mimetype": "text/x-python",
   "name": "python",
   "nbconvert_exporter": "python",
   "pygments_lexer": "ipython3",
   "version": "3.11.3"
  }
 },
 "nbformat": 4,
 "nbformat_minor": 5
}
