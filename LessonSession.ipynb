{
 "cells": [
  {
   "cell_type": "code",
   "execution_count": 1,
   "id": "5b5587f2-af25-4400-8a50-9dacc63dbcf9",
   "metadata": {},
   "outputs": [],
   "source": [
    "from sqlalchemy import ForeignKey, select, delete, String, and_\n",
    "from sqlalchemy.orm import Session\n",
    "from database import MarkedSentence, LessonSession, engine"
   ]
  },
  {
   "cell_type": "code",
   "execution_count": 2,
   "id": "f53695ed-467b-4e8d-bbf0-88343454a3d8",
   "metadata": {},
   "outputs": [
    {
     "name": "stdout",
     "output_type": "stream",
     "text": [
      "date time : datetime.datetime(2024, 9, 5, 9, 19, 11, 922138), lesson 51 errors number : 3\n",
      "date time : datetime.datetime(2024, 9, 5, 9, 19, 11, 922138), lesson 51 errors number : 3\n",
      "date time : datetime.datetime(2024, 9, 5, 9, 19, 11, 922138), lesson 51 errors number : 3\n",
      "date time : datetime.datetime(2024, 9, 6, 23, 54, 35, 589923), lesson 3 errors number : 3\n",
      "date time : datetime.datetime(2024, 9, 6, 23, 54, 35, 589923), lesson 3 errors number : 3\n",
      "date time : datetime.datetime(2024, 9, 6, 23, 54, 35, 589923), lesson 3 errors number : 3\n",
      "date time : datetime.datetime(2024, 9, 6, 23, 30, 29, 589456), lesson 52 errors number : 5\n",
      "date time : datetime.datetime(2024, 9, 6, 23, 30, 29, 589456), lesson 52 errors number : 5\n",
      "date time : datetime.datetime(2024, 9, 6, 23, 30, 29, 589456), lesson 52 errors number : 5\n",
      "date time : datetime.datetime(2024, 9, 6, 23, 30, 29, 589456), lesson 52 errors number : 5\n",
      "date time : datetime.datetime(2024, 9, 6, 23, 30, 29, 589456), lesson 52 errors number : 5\n",
      "date time : datetime.datetime(2024, 9, 7, 15, 38, 11, 304630), lesson 53 errors number : 4\n",
      "date time : datetime.datetime(2024, 9, 7, 15, 38, 11, 304630), lesson 53 errors number : 4\n",
      "date time : datetime.datetime(2024, 9, 7, 15, 38, 11, 304630), lesson 53 errors number : 4\n",
      "date time : datetime.datetime(2024, 9, 7, 15, 38, 11, 304630), lesson 53 errors number : 4\n",
      "date time : datetime.datetime(2024, 9, 9, 0, 33, 9, 558002), lesson 54 errors number : 4\n",
      "date time : datetime.datetime(2024, 9, 9, 0, 33, 9, 558002), lesson 54 errors number : 4\n",
      "date time : datetime.datetime(2024, 9, 9, 0, 33, 9, 558002), lesson 54 errors number : 4\n",
      "date time : datetime.datetime(2024, 9, 9, 0, 33, 9, 558002), lesson 54 errors number : 4\n",
      "date time : datetime.datetime(2024, 9, 9, 23, 49, 20, 733862), lesson 55 errors number : 8\n",
      "date time : datetime.datetime(2024, 9, 9, 23, 49, 20, 733862), lesson 55 errors number : 8\n",
      "date time : datetime.datetime(2024, 9, 9, 23, 49, 20, 733862), lesson 55 errors number : 8\n",
      "date time : datetime.datetime(2024, 9, 9, 23, 49, 20, 733862), lesson 55 errors number : 8\n",
      "date time : datetime.datetime(2024, 9, 9, 23, 49, 20, 733862), lesson 55 errors number : 8\n",
      "date time : datetime.datetime(2024, 9, 9, 23, 49, 20, 733862), lesson 55 errors number : 8\n",
      "date time : datetime.datetime(2024, 9, 9, 23, 49, 20, 733862), lesson 55 errors number : 8\n",
      "date time : datetime.datetime(2024, 9, 9, 23, 49, 20, 733862), lesson 55 errors number : 8\n",
      "date time : datetime.datetime(2024, 9, 10, 11, 28, 32, 681006), lesson 56 errors number : 10\n",
      "date time : datetime.datetime(2024, 9, 10, 11, 28, 32, 681006), lesson 56 errors number : 10\n",
      "date time : datetime.datetime(2024, 9, 10, 11, 28, 32, 681006), lesson 56 errors number : 10\n",
      "date time : datetime.datetime(2024, 9, 10, 11, 28, 32, 681006), lesson 56 errors number : 10\n",
      "date time : datetime.datetime(2024, 9, 10, 11, 28, 32, 681006), lesson 56 errors number : 10\n",
      "date time : datetime.datetime(2024, 9, 10, 11, 28, 32, 681006), lesson 56 errors number : 10\n",
      "date time : datetime.datetime(2024, 9, 10, 11, 28, 32, 681006), lesson 56 errors number : 10\n",
      "date time : datetime.datetime(2024, 9, 10, 11, 28, 32, 681006), lesson 56 errors number : 10\n",
      "date time : datetime.datetime(2024, 9, 10, 11, 28, 32, 681006), lesson 56 errors number : 10\n",
      "date time : datetime.datetime(2024, 9, 10, 11, 28, 32, 681006), lesson 56 errors number : 10\n",
      "date time : datetime.datetime(2024, 9, 10, 11, 34, 52, 105091), lesson 7 errors number : 2\n",
      "date time : datetime.datetime(2024, 9, 10, 11, 34, 52, 105091), lesson 7 errors number : 2\n",
      "date time : datetime.datetime(2024, 9, 11, 15, 24, 26, 952928), lesson 57 errors number : 7\n",
      "date time : datetime.datetime(2024, 9, 11, 15, 24, 26, 952928), lesson 57 errors number : 7\n",
      "date time : datetime.datetime(2024, 9, 11, 15, 24, 26, 952928), lesson 57 errors number : 7\n",
      "date time : datetime.datetime(2024, 9, 11, 15, 24, 26, 952928), lesson 57 errors number : 7\n",
      "date time : datetime.datetime(2024, 9, 11, 15, 24, 26, 952928), lesson 57 errors number : 7\n",
      "date time : datetime.datetime(2024, 9, 11, 15, 24, 26, 952928), lesson 57 errors number : 7\n",
      "date time : datetime.datetime(2024, 9, 11, 15, 24, 26, 952928), lesson 57 errors number : 7\n",
      "date time : datetime.datetime(2024, 9, 12, 18, 13, 29, 359135), lesson 58 errors number : 4\n",
      "date time : datetime.datetime(2024, 9, 12, 18, 13, 29, 359135), lesson 58 errors number : 4\n",
      "date time : datetime.datetime(2024, 9, 12, 18, 13, 29, 359135), lesson 58 errors number : 4\n",
      "date time : datetime.datetime(2024, 9, 12, 18, 13, 29, 359135), lesson 58 errors number : 4\n",
      "date time : datetime.datetime(2024, 9, 13, 9, 47, 17, 289446), lesson 6 errors number : 2\n",
      "date time : datetime.datetime(2024, 9, 13, 9, 47, 17, 289446), lesson 6 errors number : 2\n",
      "date time : datetime.datetime(2024, 9, 14, 19, 34, 55, 403665), lesson 59 errors number : 5\n",
      "date time : datetime.datetime(2024, 9, 14, 19, 34, 55, 403665), lesson 59 errors number : 5\n",
      "date time : datetime.datetime(2024, 9, 14, 19, 34, 55, 403665), lesson 59 errors number : 5\n",
      "date time : datetime.datetime(2024, 9, 14, 19, 34, 55, 403665), lesson 59 errors number : 5\n",
      "date time : datetime.datetime(2024, 9, 14, 19, 34, 55, 403665), lesson 59 errors number : 5\n",
      "date time : datetime.datetime(2024, 9, 14, 20, 33, 44, 326247), lesson 6 errors number : 1\n",
      "date time : datetime.datetime(2024, 9, 14, 20, 48, 41, 13369), lesson 8 errors number : 1\n",
      "date time : datetime.datetime(2024, 9, 15, 0, 8, 28, 172602), lesson 9 errors number : 1\n",
      "date time : datetime.datetime(2024, 9, 15, 13, 22, 39, 591806), lesson 60 errors number : 9\n",
      "date time : datetime.datetime(2024, 9, 15, 13, 22, 39, 591806), lesson 60 errors number : 9\n",
      "date time : datetime.datetime(2024, 9, 15, 13, 22, 39, 591806), lesson 60 errors number : 9\n",
      "date time : datetime.datetime(2024, 9, 15, 13, 22, 39, 591806), lesson 60 errors number : 9\n",
      "date time : datetime.datetime(2024, 9, 15, 13, 22, 39, 591806), lesson 60 errors number : 9\n",
      "date time : datetime.datetime(2024, 9, 15, 13, 22, 39, 591806), lesson 60 errors number : 9\n",
      "date time : datetime.datetime(2024, 9, 15, 13, 22, 39, 591806), lesson 60 errors number : 9\n",
      "date time : datetime.datetime(2024, 9, 15, 13, 22, 39, 591806), lesson 60 errors number : 9\n",
      "date time : datetime.datetime(2024, 9, 15, 13, 22, 39, 591806), lesson 60 errors number : 9\n",
      "date time : datetime.datetime(2024, 9, 15, 13, 29, 12, 319298), lesson 11 errors number : 1\n",
      "date time : datetime.datetime(2024, 9, 15, 15, 22, 24, 347706), lesson 61 errors number : 1\n",
      "date time : datetime.datetime(2024, 9, 15, 20, 59, 22, 890332), lesson 62 errors number : 4\n",
      "date time : datetime.datetime(2024, 9, 15, 20, 59, 22, 890332), lesson 62 errors number : 4\n",
      "date time : datetime.datetime(2024, 9, 15, 20, 59, 22, 890332), lesson 62 errors number : 4\n",
      "date time : datetime.datetime(2024, 9, 15, 20, 59, 22, 890332), lesson 62 errors number : 4\n",
      "date time : datetime.datetime(2024, 9, 15, 21, 6, 58, 485276), lesson 12 errors number : 1\n",
      "date time : datetime.datetime(2024, 9, 16, 14, 44, 1, 463345), lesson 63 errors number : 3\n",
      "date time : datetime.datetime(2024, 9, 16, 14, 44, 1, 463345), lesson 63 errors number : 3\n",
      "date time : datetime.datetime(2024, 9, 16, 14, 44, 1, 463345), lesson 63 errors number : 3\n",
      "date time : datetime.datetime(2024, 9, 16, 14, 50, 1, 866604), lesson 14 errors number : 1\n",
      "date time : datetime.datetime(2024, 9, 16, 14, 54, 35, 130542), lesson 13 errors number : 2\n",
      "date time : datetime.datetime(2024, 9, 16, 14, 54, 35, 130542), lesson 13 errors number : 2\n",
      "date time : datetime.datetime(2024, 9, 16, 17, 44, 29, 162827), lesson 15 errors number : 2\n",
      "date time : datetime.datetime(2024, 9, 16, 17, 44, 29, 162827), lesson 15 errors number : 2\n",
      "date time : datetime.datetime(2024, 9, 16, 18, 6, 17, 538096), lesson 64 errors number : 2\n",
      "date time : datetime.datetime(2024, 9, 16, 18, 6, 17, 538096), lesson 64 errors number : 2\n",
      "date time : datetime.datetime(2024, 9, 16, 18, 45, 2, 732172), lesson 65 errors number : 8\n",
      "date time : datetime.datetime(2024, 9, 16, 18, 45, 2, 732172), lesson 65 errors number : 8\n",
      "date time : datetime.datetime(2024, 9, 16, 18, 45, 2, 732172), lesson 65 errors number : 8\n",
      "date time : datetime.datetime(2024, 9, 16, 18, 45, 2, 732172), lesson 65 errors number : 8\n",
      "date time : datetime.datetime(2024, 9, 16, 18, 45, 2, 732172), lesson 65 errors number : 8\n",
      "date time : datetime.datetime(2024, 9, 16, 18, 45, 2, 732172), lesson 65 errors number : 8\n",
      "date time : datetime.datetime(2024, 9, 16, 18, 45, 2, 732172), lesson 65 errors number : 8\n",
      "date time : datetime.datetime(2024, 9, 16, 18, 45, 2, 732172), lesson 65 errors number : 8\n",
      "date time : datetime.datetime(2024, 9, 16, 18, 53, 35, 781937), lesson 16 errors number : 3\n",
      "date time : datetime.datetime(2024, 9, 16, 18, 53, 35, 781937), lesson 16 errors number : 3\n",
      "date time : datetime.datetime(2024, 9, 16, 18, 53, 35, 781937), lesson 16 errors number : 3\n",
      "date time : datetime.datetime(2024, 9, 17, 10, 53, 4, 772061), lesson 66 errors number : 7\n",
      "date time : datetime.datetime(2024, 9, 17, 10, 53, 4, 772061), lesson 66 errors number : 7\n",
      "date time : datetime.datetime(2024, 9, 17, 10, 53, 4, 772061), lesson 66 errors number : 7\n",
      "date time : datetime.datetime(2024, 9, 17, 10, 53, 4, 772061), lesson 66 errors number : 7\n",
      "date time : datetime.datetime(2024, 9, 17, 10, 53, 4, 772061), lesson 66 errors number : 7\n",
      "date time : datetime.datetime(2024, 9, 17, 10, 53, 4, 772061), lesson 66 errors number : 7\n",
      "date time : datetime.datetime(2024, 9, 17, 10, 53, 4, 772061), lesson 66 errors number : 7\n",
      "date time : datetime.datetime(2024, 9, 17, 11, 56, 7, 400645), lesson 27 errors number : 4\n",
      "date time : datetime.datetime(2024, 9, 17, 11, 56, 7, 400645), lesson 27 errors number : 4\n",
      "date time : datetime.datetime(2024, 9, 17, 11, 56, 7, 400645), lesson 27 errors number : 4\n",
      "date time : datetime.datetime(2024, 9, 17, 11, 56, 7, 400645), lesson 27 errors number : 4\n",
      "date time : datetime.datetime(2024, 9, 18, 9, 12, 4, 805903), lesson 17 errors number : 2\n",
      "date time : datetime.datetime(2024, 9, 18, 9, 12, 4, 805903), lesson 17 errors number : 2\n",
      "date time : datetime.datetime(2024, 9, 18, 9, 41, 35, 126584), lesson 67 errors number : 7\n",
      "date time : datetime.datetime(2024, 9, 18, 9, 41, 35, 126584), lesson 67 errors number : 7\n",
      "date time : datetime.datetime(2024, 9, 18, 9, 41, 35, 126584), lesson 67 errors number : 7\n",
      "date time : datetime.datetime(2024, 9, 18, 9, 41, 35, 126584), lesson 67 errors number : 7\n",
      "date time : datetime.datetime(2024, 9, 18, 9, 41, 35, 126584), lesson 67 errors number : 7\n",
      "date time : datetime.datetime(2024, 9, 18, 9, 41, 35, 126584), lesson 67 errors number : 7\n",
      "date time : datetime.datetime(2024, 9, 18, 9, 41, 35, 126584), lesson 67 errors number : 7\n",
      "date time : datetime.datetime(2024, 9, 18, 9, 56, 45, 691129), lesson 18 errors number : 4\n",
      "date time : datetime.datetime(2024, 9, 18, 9, 56, 45, 691129), lesson 18 errors number : 4\n",
      "date time : datetime.datetime(2024, 9, 18, 9, 56, 45, 691129), lesson 18 errors number : 4\n",
      "date time : datetime.datetime(2024, 9, 18, 9, 56, 45, 691129), lesson 18 errors number : 4\n",
      "date time : datetime.datetime(2024, 9, 18, 14, 14, 56, 370397), lesson 68 errors number : 6\n",
      "date time : datetime.datetime(2024, 9, 18, 14, 14, 56, 370397), lesson 68 errors number : 6\n",
      "date time : datetime.datetime(2024, 9, 18, 14, 14, 56, 370397), lesson 68 errors number : 6\n",
      "date time : datetime.datetime(2024, 9, 18, 14, 14, 56, 370397), lesson 68 errors number : 6\n",
      "date time : datetime.datetime(2024, 9, 18, 14, 14, 56, 370397), lesson 68 errors number : 6\n",
      "date time : datetime.datetime(2024, 9, 18, 14, 14, 56, 370397), lesson 68 errors number : 6\n",
      "date time : datetime.datetime(2024, 9, 18, 14, 19, 0, 66773), lesson 19 errors number : 1\n",
      "date time : datetime.datetime(2024, 9, 18, 19, 2, 12, 30975), lesson 69 errors number : 7\n",
      "date time : datetime.datetime(2024, 9, 18, 19, 2, 12, 30975), lesson 69 errors number : 7\n",
      "date time : datetime.datetime(2024, 9, 18, 19, 2, 12, 30975), lesson 69 errors number : 7\n",
      "date time : datetime.datetime(2024, 9, 18, 19, 2, 12, 30975), lesson 69 errors number : 7\n",
      "date time : datetime.datetime(2024, 9, 18, 19, 2, 12, 30975), lesson 69 errors number : 7\n",
      "date time : datetime.datetime(2024, 9, 18, 19, 2, 12, 30975), lesson 69 errors number : 7\n",
      "date time : datetime.datetime(2024, 9, 18, 19, 2, 12, 30975), lesson 69 errors number : 7\n",
      "date time : datetime.datetime(2024, 9, 18, 19, 13, 43, 283937), lesson 20 errors number : 3\n",
      "date time : datetime.datetime(2024, 9, 18, 19, 13, 43, 283937), lesson 20 errors number : 3\n",
      "date time : datetime.datetime(2024, 9, 18, 19, 13, 43, 283937), lesson 20 errors number : 3\n",
      "date time : datetime.datetime(2024, 9, 19, 10, 26, 46, 474381), lesson 70 errors number : 3\n",
      "date time : datetime.datetime(2024, 9, 19, 10, 26, 46, 474381), lesson 70 errors number : 3\n",
      "date time : datetime.datetime(2024, 9, 19, 10, 26, 46, 474381), lesson 70 errors number : 3\n",
      "date time : datetime.datetime(2024, 9, 19, 10, 36, 22, 437087), lesson 21 errors number : 4\n",
      "date time : datetime.datetime(2024, 9, 19, 10, 36, 22, 437087), lesson 21 errors number : 4\n",
      "date time : datetime.datetime(2024, 9, 19, 10, 36, 22, 437087), lesson 21 errors number : 4\n",
      "date time : datetime.datetime(2024, 9, 19, 10, 36, 22, 437087), lesson 21 errors number : 4\n",
      "date time : datetime.datetime(2024, 9, 19, 12, 45, 38, 54870), lesson 71 errors number : 7\n",
      "date time : datetime.datetime(2024, 9, 19, 12, 45, 38, 54870), lesson 71 errors number : 7\n",
      "date time : datetime.datetime(2024, 9, 19, 12, 45, 38, 54870), lesson 71 errors number : 7\n",
      "date time : datetime.datetime(2024, 9, 19, 12, 45, 38, 54870), lesson 71 errors number : 7\n",
      "date time : datetime.datetime(2024, 9, 19, 12, 45, 38, 54870), lesson 71 errors number : 7\n",
      "date time : datetime.datetime(2024, 9, 19, 12, 45, 38, 54870), lesson 71 errors number : 7\n",
      "date time : datetime.datetime(2024, 9, 19, 12, 45, 38, 54870), lesson 71 errors number : 7\n",
      "date time : datetime.datetime(2024, 9, 19, 17, 21, 45, 562965), lesson 72 errors number : 2\n",
      "date time : datetime.datetime(2024, 9, 19, 17, 21, 45, 562965), lesson 72 errors number : 2\n",
      "date time : datetime.datetime(2024, 9, 19, 23, 46, 22, 395526), lesson 23 errors number : 1\n",
      "date time : datetime.datetime(2024, 9, 20, 12, 10, 41, 836940), lesson 73 errors number : 9\n",
      "date time : datetime.datetime(2024, 9, 20, 12, 10, 41, 836940), lesson 73 errors number : 9\n",
      "date time : datetime.datetime(2024, 9, 20, 12, 10, 41, 836940), lesson 73 errors number : 9\n",
      "date time : datetime.datetime(2024, 9, 20, 12, 10, 41, 836940), lesson 73 errors number : 9\n",
      "date time : datetime.datetime(2024, 9, 20, 12, 10, 41, 836940), lesson 73 errors number : 9\n",
      "date time : datetime.datetime(2024, 9, 20, 12, 10, 41, 836940), lesson 73 errors number : 9\n",
      "date time : datetime.datetime(2024, 9, 20, 12, 10, 41, 836940), lesson 73 errors number : 9\n",
      "date time : datetime.datetime(2024, 9, 20, 12, 10, 41, 836940), lesson 73 errors number : 9\n",
      "date time : datetime.datetime(2024, 9, 20, 12, 10, 41, 836940), lesson 73 errors number : 9\n",
      "date time : datetime.datetime(2024, 9, 20, 12, 17, 41, 568494), lesson 24 errors number : 1\n",
      "date time : datetime.datetime(2024, 9, 20, 12, 47, 14, 28627), lesson 74 errors number : 7\n",
      "date time : datetime.datetime(2024, 9, 20, 12, 47, 14, 28627), lesson 74 errors number : 7\n",
      "date time : datetime.datetime(2024, 9, 20, 12, 47, 14, 28627), lesson 74 errors number : 7\n",
      "date time : datetime.datetime(2024, 9, 20, 12, 47, 14, 28627), lesson 74 errors number : 7\n",
      "date time : datetime.datetime(2024, 9, 20, 12, 47, 14, 28627), lesson 74 errors number : 7\n",
      "date time : datetime.datetime(2024, 9, 20, 12, 47, 14, 28627), lesson 74 errors number : 7\n",
      "date time : datetime.datetime(2024, 9, 20, 12, 47, 14, 28627), lesson 74 errors number : 7\n",
      "date time : datetime.datetime(2024, 9, 20, 12, 54, 53, 623765), lesson 25 errors number : 4\n",
      "date time : datetime.datetime(2024, 9, 20, 12, 54, 53, 623765), lesson 25 errors number : 4\n",
      "date time : datetime.datetime(2024, 9, 20, 12, 54, 53, 623765), lesson 25 errors number : 4\n",
      "date time : datetime.datetime(2024, 9, 20, 12, 54, 53, 623765), lesson 25 errors number : 4\n",
      "date time : datetime.datetime(2024, 9, 20, 13, 59, 15, 337417), lesson 75 errors number : 8\n",
      "date time : datetime.datetime(2024, 9, 20, 13, 59, 15, 337417), lesson 75 errors number : 8\n",
      "date time : datetime.datetime(2024, 9, 20, 13, 59, 15, 337417), lesson 75 errors number : 8\n",
      "date time : datetime.datetime(2024, 9, 20, 13, 59, 15, 337417), lesson 75 errors number : 8\n",
      "date time : datetime.datetime(2024, 9, 20, 13, 59, 15, 337417), lesson 75 errors number : 8\n",
      "date time : datetime.datetime(2024, 9, 20, 13, 59, 15, 337417), lesson 75 errors number : 8\n",
      "date time : datetime.datetime(2024, 9, 20, 13, 59, 15, 337417), lesson 75 errors number : 8\n",
      "date time : datetime.datetime(2024, 9, 20, 13, 59, 15, 337417), lesson 75 errors number : 8\n",
      "date time : datetime.datetime(2024, 9, 20, 14, 7, 0, 845464), lesson 26 errors number : 3\n",
      "date time : datetime.datetime(2024, 9, 20, 14, 7, 0, 845464), lesson 26 errors number : 3\n",
      "date time : datetime.datetime(2024, 9, 20, 14, 7, 0, 845464), lesson 26 errors number : 3\n",
      "date time : datetime.datetime(2024, 9, 22, 12, 33, 40, 88581), lesson 76 errors number : 8\n",
      "date time : datetime.datetime(2024, 9, 22, 12, 33, 40, 88581), lesson 76 errors number : 8\n",
      "date time : datetime.datetime(2024, 9, 22, 12, 33, 40, 88581), lesson 76 errors number : 8\n",
      "date time : datetime.datetime(2024, 9, 22, 12, 33, 40, 88581), lesson 76 errors number : 8\n",
      "date time : datetime.datetime(2024, 9, 22, 12, 33, 40, 88581), lesson 76 errors number : 8\n",
      "date time : datetime.datetime(2024, 9, 22, 12, 33, 40, 88581), lesson 76 errors number : 8\n",
      "date time : datetime.datetime(2024, 9, 22, 12, 33, 40, 88581), lesson 76 errors number : 8\n",
      "date time : datetime.datetime(2024, 9, 22, 12, 33, 40, 88581), lesson 76 errors number : 8\n",
      "date time : datetime.datetime(2024, 9, 22, 12, 40, 38, 507573), lesson 27 errors number : 1\n",
      "date time : datetime.datetime(2024, 9, 22, 13, 50, 41, 571803), lesson 77 errors number : 5\n",
      "date time : datetime.datetime(2024, 9, 22, 13, 50, 41, 571803), lesson 77 errors number : 5\n",
      "date time : datetime.datetime(2024, 9, 22, 13, 50, 41, 571803), lesson 77 errors number : 5\n",
      "date time : datetime.datetime(2024, 9, 22, 13, 50, 41, 571803), lesson 77 errors number : 5\n",
      "date time : datetime.datetime(2024, 9, 22, 13, 50, 41, 571803), lesson 77 errors number : 5\n",
      "date time : datetime.datetime(2024, 9, 22, 18, 23, 27, 842343), lesson 78 errors number : 7\n",
      "date time : datetime.datetime(2024, 9, 22, 18, 23, 27, 842343), lesson 78 errors number : 7\n",
      "date time : datetime.datetime(2024, 9, 22, 18, 23, 27, 842343), lesson 78 errors number : 7\n",
      "date time : datetime.datetime(2024, 9, 22, 18, 23, 27, 842343), lesson 78 errors number : 7\n",
      "date time : datetime.datetime(2024, 9, 22, 18, 23, 27, 842343), lesson 78 errors number : 7\n",
      "date time : datetime.datetime(2024, 9, 22, 18, 23, 27, 842343), lesson 78 errors number : 7\n",
      "date time : datetime.datetime(2024, 9, 22, 18, 23, 27, 842343), lesson 78 errors number : 7\n",
      "date time : datetime.datetime(2024, 9, 22, 18, 37, 36, 521255), lesson 29 errors number : 4\n",
      "date time : datetime.datetime(2024, 9, 22, 18, 37, 36, 521255), lesson 29 errors number : 4\n",
      "date time : datetime.datetime(2024, 9, 22, 18, 37, 36, 521255), lesson 29 errors number : 4\n",
      "date time : datetime.datetime(2024, 9, 22, 18, 37, 36, 521255), lesson 29 errors number : 4\n",
      "date time : datetime.datetime(2024, 9, 23, 10, 58, 18, 773913), lesson 79 errors number : 6\n",
      "date time : datetime.datetime(2024, 9, 23, 10, 58, 18, 773913), lesson 79 errors number : 6\n",
      "date time : datetime.datetime(2024, 9, 23, 10, 58, 18, 773913), lesson 79 errors number : 6\n",
      "date time : datetime.datetime(2024, 9, 23, 10, 58, 18, 773913), lesson 79 errors number : 6\n",
      "date time : datetime.datetime(2024, 9, 23, 10, 58, 18, 773913), lesson 79 errors number : 6\n",
      "date time : datetime.datetime(2024, 9, 23, 10, 58, 18, 773913), lesson 79 errors number : 6\n",
      "date time : datetime.datetime(2024, 9, 23, 11, 5, 0, 806891), lesson 28 errors number : 3\n",
      "date time : datetime.datetime(2024, 9, 23, 11, 5, 0, 806891), lesson 28 errors number : 3\n",
      "date time : datetime.datetime(2024, 9, 23, 11, 5, 0, 806891), lesson 28 errors number : 3\n",
      "date time : datetime.datetime(2024, 9, 23, 11, 45, 43, 464876), lesson 80 errors number : 4\n",
      "date time : datetime.datetime(2024, 9, 23, 11, 45, 43, 464876), lesson 80 errors number : 4\n",
      "date time : datetime.datetime(2024, 9, 23, 11, 45, 43, 464876), lesson 80 errors number : 4\n",
      "date time : datetime.datetime(2024, 9, 23, 11, 45, 43, 464876), lesson 80 errors number : 4\n",
      "date time : datetime.datetime(2024, 9, 23, 11, 57, 29, 954237), lesson 31 errors number : 2\n",
      "date time : datetime.datetime(2024, 9, 23, 11, 57, 29, 954237), lesson 31 errors number : 2\n",
      "date time : datetime.datetime(2024, 9, 23, 12, 54, 38, 88224), lesson 81 errors number : 6\n",
      "date time : datetime.datetime(2024, 9, 23, 12, 54, 38, 88224), lesson 81 errors number : 6\n",
      "date time : datetime.datetime(2024, 9, 23, 12, 54, 38, 88224), lesson 81 errors number : 6\n",
      "date time : datetime.datetime(2024, 9, 23, 12, 54, 38, 88224), lesson 81 errors number : 6\n",
      "date time : datetime.datetime(2024, 9, 23, 12, 54, 38, 88224), lesson 81 errors number : 6\n",
      "date time : datetime.datetime(2024, 9, 23, 12, 54, 38, 88224), lesson 81 errors number : 6\n",
      "date time : datetime.datetime(2024, 9, 23, 16, 37, 49, 23549), lesson 82 errors number : 6\n",
      "date time : datetime.datetime(2024, 9, 23, 16, 37, 49, 23549), lesson 82 errors number : 6\n",
      "date time : datetime.datetime(2024, 9, 23, 16, 37, 49, 23549), lesson 82 errors number : 6\n",
      "date time : datetime.datetime(2024, 9, 23, 16, 37, 49, 23549), lesson 82 errors number : 6\n",
      "date time : datetime.datetime(2024, 9, 23, 16, 37, 49, 23549), lesson 82 errors number : 6\n",
      "date time : datetime.datetime(2024, 9, 23, 16, 37, 49, 23549), lesson 82 errors number : 6\n",
      "date time : datetime.datetime(2024, 9, 23, 16, 45, 19, 486036), lesson 32 errors number : 1\n",
      "date time : datetime.datetime(2024, 9, 23, 16, 59, 55, 812358), lesson 33 errors number : 3\n",
      "date time : datetime.datetime(2024, 9, 23, 16, 59, 55, 812358), lesson 33 errors number : 3\n",
      "date time : datetime.datetime(2024, 9, 23, 16, 59, 55, 812358), lesson 33 errors number : 3\n",
      "date time : datetime.datetime(2024, 9, 24, 0, 13, 43, 282236), lesson 83 errors number : 7\n",
      "date time : datetime.datetime(2024, 9, 24, 0, 13, 43, 282236), lesson 83 errors number : 7\n",
      "date time : datetime.datetime(2024, 9, 24, 0, 13, 43, 282236), lesson 83 errors number : 7\n",
      "date time : datetime.datetime(2024, 9, 24, 0, 13, 43, 282236), lesson 83 errors number : 7\n",
      "date time : datetime.datetime(2024, 9, 24, 0, 13, 43, 282236), lesson 83 errors number : 7\n",
      "date time : datetime.datetime(2024, 9, 24, 0, 13, 43, 282236), lesson 83 errors number : 7\n",
      "date time : datetime.datetime(2024, 9, 24, 0, 13, 43, 282236), lesson 83 errors number : 7\n",
      "date time : datetime.datetime(2024, 9, 24, 8, 24, 10, 169893), lesson 34 errors number : 7\n",
      "date time : datetime.datetime(2024, 9, 24, 8, 24, 10, 169893), lesson 34 errors number : 7\n",
      "date time : datetime.datetime(2024, 9, 24, 8, 24, 10, 169893), lesson 34 errors number : 7\n",
      "date time : datetime.datetime(2024, 9, 24, 8, 24, 10, 169893), lesson 34 errors number : 7\n",
      "date time : datetime.datetime(2024, 9, 24, 8, 24, 10, 169893), lesson 34 errors number : 7\n",
      "date time : datetime.datetime(2024, 9, 24, 8, 24, 10, 169893), lesson 34 errors number : 7\n",
      "date time : datetime.datetime(2024, 9, 24, 8, 24, 10, 169893), lesson 34 errors number : 7\n",
      "date time : datetime.datetime(2024, 9, 24, 8, 41, 31, 345565), lesson 84 errors number : 6\n",
      "date time : datetime.datetime(2024, 9, 24, 8, 41, 31, 345565), lesson 84 errors number : 6\n",
      "date time : datetime.datetime(2024, 9, 24, 8, 41, 31, 345565), lesson 84 errors number : 6\n",
      "date time : datetime.datetime(2024, 9, 24, 8, 41, 31, 345565), lesson 84 errors number : 6\n",
      "date time : datetime.datetime(2024, 9, 24, 8, 41, 31, 345565), lesson 84 errors number : 6\n",
      "date time : datetime.datetime(2024, 9, 24, 8, 41, 31, 345565), lesson 84 errors number : 6\n",
      "date time : datetime.datetime(2024, 9, 24, 8, 51, 6, 239588), lesson 35 errors number : 5\n",
      "date time : datetime.datetime(2024, 9, 24, 8, 51, 6, 239588), lesson 35 errors number : 5\n",
      "date time : datetime.datetime(2024, 9, 24, 8, 51, 6, 239588), lesson 35 errors number : 5\n",
      "date time : datetime.datetime(2024, 9, 24, 8, 51, 6, 239588), lesson 35 errors number : 5\n",
      "date time : datetime.datetime(2024, 9, 24, 8, 51, 6, 239588), lesson 35 errors number : 5\n",
      "date time : datetime.datetime(2024, 9, 25, 0, 11, 48, 737526), lesson 85 errors number : 12\n",
      "date time : datetime.datetime(2024, 9, 25, 0, 11, 48, 737526), lesson 85 errors number : 12\n",
      "date time : datetime.datetime(2024, 9, 25, 0, 11, 48, 737526), lesson 85 errors number : 12\n",
      "date time : datetime.datetime(2024, 9, 25, 0, 11, 48, 737526), lesson 85 errors number : 12\n",
      "date time : datetime.datetime(2024, 9, 25, 0, 11, 48, 737526), lesson 85 errors number : 12\n",
      "date time : datetime.datetime(2024, 9, 25, 0, 11, 48, 737526), lesson 85 errors number : 12\n",
      "date time : datetime.datetime(2024, 9, 25, 0, 11, 48, 737526), lesson 85 errors number : 12\n",
      "date time : datetime.datetime(2024, 9, 25, 0, 11, 48, 737526), lesson 85 errors number : 12\n",
      "date time : datetime.datetime(2024, 9, 25, 0, 11, 48, 737526), lesson 85 errors number : 12\n",
      "date time : datetime.datetime(2024, 9, 25, 0, 11, 48, 737526), lesson 85 errors number : 12\n",
      "date time : datetime.datetime(2024, 9, 25, 0, 11, 48, 737526), lesson 85 errors number : 12\n",
      "date time : datetime.datetime(2024, 9, 25, 0, 11, 48, 737526), lesson 85 errors number : 12\n",
      "date time : datetime.datetime(2024, 9, 25, 8, 49, 6, 191984), lesson 36 errors number : 1\n",
      "date time : datetime.datetime(2024, 9, 25, 9, 20, 24, 989902), lesson 86 errors number : 10\n",
      "date time : datetime.datetime(2024, 9, 25, 9, 20, 24, 989902), lesson 86 errors number : 10\n",
      "date time : datetime.datetime(2024, 9, 25, 9, 20, 24, 989902), lesson 86 errors number : 10\n",
      "date time : datetime.datetime(2024, 9, 25, 9, 20, 24, 989902), lesson 86 errors number : 10\n",
      "date time : datetime.datetime(2024, 9, 25, 9, 20, 24, 989902), lesson 86 errors number : 10\n",
      "date time : datetime.datetime(2024, 9, 25, 9, 20, 24, 989902), lesson 86 errors number : 10\n",
      "date time : datetime.datetime(2024, 9, 25, 9, 20, 24, 989902), lesson 86 errors number : 10\n",
      "date time : datetime.datetime(2024, 9, 25, 9, 20, 24, 989902), lesson 86 errors number : 10\n",
      "date time : datetime.datetime(2024, 9, 25, 9, 20, 24, 989902), lesson 86 errors number : 10\n",
      "date time : datetime.datetime(2024, 9, 25, 9, 20, 24, 989902), lesson 86 errors number : 10\n",
      "date time : datetime.datetime(2024, 9, 25, 9, 41, 32, 438810), lesson 37 errors number : 2\n",
      "date time : datetime.datetime(2024, 9, 25, 9, 41, 32, 438810), lesson 37 errors number : 2\n",
      "date time : datetime.datetime(2024, 9, 25, 10, 15, 0, 809807), lesson 87 errors number : 9\n",
      "date time : datetime.datetime(2024, 9, 25, 10, 15, 0, 809807), lesson 87 errors number : 9\n",
      "date time : datetime.datetime(2024, 9, 25, 10, 15, 0, 809807), lesson 87 errors number : 9\n",
      "date time : datetime.datetime(2024, 9, 25, 10, 15, 0, 809807), lesson 87 errors number : 9\n",
      "date time : datetime.datetime(2024, 9, 25, 10, 15, 0, 809807), lesson 87 errors number : 9\n",
      "date time : datetime.datetime(2024, 9, 25, 10, 15, 0, 809807), lesson 87 errors number : 9\n",
      "date time : datetime.datetime(2024, 9, 25, 10, 15, 0, 809807), lesson 87 errors number : 9\n",
      "date time : datetime.datetime(2024, 9, 25, 10, 15, 0, 809807), lesson 87 errors number : 9\n",
      "date time : datetime.datetime(2024, 9, 25, 10, 15, 0, 809807), lesson 87 errors number : 9\n",
      "date time : datetime.datetime(2024, 9, 25, 10, 27, 39, 77481), lesson 38 errors number : 1\n",
      "date time : datetime.datetime(2024, 9, 25, 12, 39, 31, 294142), lesson 88 errors number : 7\n",
      "date time : datetime.datetime(2024, 9, 25, 12, 39, 31, 294142), lesson 88 errors number : 7\n",
      "date time : datetime.datetime(2024, 9, 25, 12, 39, 31, 294142), lesson 88 errors number : 7\n",
      "date time : datetime.datetime(2024, 9, 25, 12, 39, 31, 294142), lesson 88 errors number : 7\n",
      "date time : datetime.datetime(2024, 9, 25, 12, 39, 31, 294142), lesson 88 errors number : 7\n",
      "date time : datetime.datetime(2024, 9, 25, 12, 39, 31, 294142), lesson 88 errors number : 7\n",
      "date time : datetime.datetime(2024, 9, 25, 12, 39, 31, 294142), lesson 88 errors number : 7\n",
      "date time : datetime.datetime(2024, 9, 25, 12, 50, 46, 8456), lesson 39 errors number : 3\n",
      "date time : datetime.datetime(2024, 9, 25, 12, 50, 46, 8456), lesson 39 errors number : 3\n",
      "date time : datetime.datetime(2024, 9, 25, 12, 50, 46, 8456), lesson 39 errors number : 3\n",
      "date time : datetime.datetime(2024, 9, 25, 14, 50, 1, 721441), lesson 89 errors number : 6\n",
      "date time : datetime.datetime(2024, 9, 25, 14, 50, 1, 721441), lesson 89 errors number : 6\n",
      "date time : datetime.datetime(2024, 9, 25, 14, 50, 1, 721441), lesson 89 errors number : 6\n",
      "date time : datetime.datetime(2024, 9, 25, 14, 50, 1, 721441), lesson 89 errors number : 6\n",
      "date time : datetime.datetime(2024, 9, 25, 14, 50, 1, 721441), lesson 89 errors number : 6\n",
      "date time : datetime.datetime(2024, 9, 25, 14, 50, 1, 721441), lesson 89 errors number : 6\n",
      "date time : datetime.datetime(2024, 9, 25, 17, 12, 49, 816859), lesson 40 errors number : 2\n",
      "date time : datetime.datetime(2024, 9, 25, 17, 12, 49, 816859), lesson 40 errors number : 2\n",
      "date time : datetime.datetime(2024, 9, 25, 18, 15, 18, 39429), lesson 90 errors number : 11\n",
      "date time : datetime.datetime(2024, 9, 25, 18, 15, 18, 39429), lesson 90 errors number : 11\n",
      "date time : datetime.datetime(2024, 9, 25, 18, 15, 18, 39429), lesson 90 errors number : 11\n",
      "date time : datetime.datetime(2024, 9, 25, 18, 15, 18, 39429), lesson 90 errors number : 11\n",
      "date time : datetime.datetime(2024, 9, 25, 18, 15, 18, 39429), lesson 90 errors number : 11\n",
      "date time : datetime.datetime(2024, 9, 25, 18, 15, 18, 39429), lesson 90 errors number : 11\n",
      "date time : datetime.datetime(2024, 9, 25, 18, 15, 18, 39429), lesson 90 errors number : 11\n",
      "date time : datetime.datetime(2024, 9, 25, 18, 15, 18, 39429), lesson 90 errors number : 11\n",
      "date time : datetime.datetime(2024, 9, 25, 18, 15, 18, 39429), lesson 90 errors number : 11\n",
      "date time : datetime.datetime(2024, 9, 25, 18, 15, 18, 39429), lesson 90 errors number : 11\n",
      "date time : datetime.datetime(2024, 9, 25, 18, 15, 18, 39429), lesson 90 errors number : 11\n",
      "date time : datetime.datetime(2024, 9, 25, 18, 26, 33, 620823), lesson 41 errors number : 4\n",
      "date time : datetime.datetime(2024, 9, 25, 18, 26, 33, 620823), lesson 41 errors number : 4\n",
      "date time : datetime.datetime(2024, 9, 25, 18, 26, 33, 620823), lesson 41 errors number : 4\n",
      "date time : datetime.datetime(2024, 9, 25, 18, 26, 33, 620823), lesson 41 errors number : 4\n",
      "date time : datetime.datetime(2024, 9, 26, 9, 13, 39, 543672), lesson 91 errors number : 6\n",
      "date time : datetime.datetime(2024, 9, 26, 9, 13, 39, 543672), lesson 91 errors number : 6\n",
      "date time : datetime.datetime(2024, 9, 26, 9, 13, 39, 543672), lesson 91 errors number : 6\n",
      "date time : datetime.datetime(2024, 9, 26, 9, 13, 39, 543672), lesson 91 errors number : 6\n",
      "date time : datetime.datetime(2024, 9, 26, 9, 13, 39, 543672), lesson 91 errors number : 6\n",
      "date time : datetime.datetime(2024, 9, 26, 9, 13, 39, 543672), lesson 91 errors number : 6\n",
      "date time : datetime.datetime(2024, 9, 26, 9, 30, 8, 538560), lesson 42 errors number : 3\n",
      "date time : datetime.datetime(2024, 9, 26, 9, 30, 8, 538560), lesson 42 errors number : 3\n",
      "date time : datetime.datetime(2024, 9, 26, 9, 30, 8, 538560), lesson 42 errors number : 3\n",
      "date time : datetime.datetime(2024, 9, 28, 8, 16, 26, 79431), lesson 93 errors number : 10\n",
      "date time : datetime.datetime(2024, 9, 28, 8, 16, 26, 79431), lesson 93 errors number : 10\n",
      "date time : datetime.datetime(2024, 9, 28, 8, 16, 26, 79431), lesson 93 errors number : 10\n",
      "date time : datetime.datetime(2024, 9, 28, 8, 16, 26, 79431), lesson 93 errors number : 10\n",
      "date time : datetime.datetime(2024, 9, 28, 8, 16, 26, 79431), lesson 93 errors number : 10\n",
      "date time : datetime.datetime(2024, 9, 28, 8, 16, 26, 79431), lesson 93 errors number : 10\n",
      "date time : datetime.datetime(2024, 9, 28, 8, 16, 26, 79431), lesson 93 errors number : 10\n",
      "date time : datetime.datetime(2024, 9, 28, 8, 16, 26, 79431), lesson 93 errors number : 10\n",
      "date time : datetime.datetime(2024, 9, 28, 8, 16, 26, 79431), lesson 93 errors number : 10\n",
      "date time : datetime.datetime(2024, 9, 28, 8, 16, 26, 79431), lesson 93 errors number : 10\n",
      "date time : datetime.datetime(2024, 9, 28, 8, 24, 23, 610013), lesson 44 errors number : 1\n",
      "date time : datetime.datetime(2024, 9, 29, 10, 23, 41, 472719), lesson 94 errors number : 8\n",
      "date time : datetime.datetime(2024, 9, 29, 10, 23, 41, 472719), lesson 94 errors number : 8\n",
      "date time : datetime.datetime(2024, 9, 29, 10, 23, 41, 472719), lesson 94 errors number : 8\n",
      "date time : datetime.datetime(2024, 9, 29, 10, 23, 41, 472719), lesson 94 errors number : 8\n",
      "date time : datetime.datetime(2024, 9, 29, 10, 23, 41, 472719), lesson 94 errors number : 8\n",
      "date time : datetime.datetime(2024, 9, 29, 10, 23, 41, 472719), lesson 94 errors number : 8\n",
      "date time : datetime.datetime(2024, 9, 29, 10, 23, 41, 472719), lesson 94 errors number : 8\n",
      "date time : datetime.datetime(2024, 9, 29, 10, 23, 41, 472719), lesson 94 errors number : 8\n",
      "date time : datetime.datetime(2024, 9, 30, 8, 38, 52, 303139), lesson 45 errors number : 3\n",
      "date time : datetime.datetime(2024, 9, 30, 8, 38, 52, 303139), lesson 45 errors number : 3\n",
      "date time : datetime.datetime(2024, 9, 30, 8, 38, 52, 303139), lesson 45 errors number : 3\n",
      "date time : datetime.datetime(2024, 9, 30, 9, 9, 0, 665756), lesson 95 errors number : 8\n",
      "date time : datetime.datetime(2024, 9, 30, 9, 9, 0, 665756), lesson 95 errors number : 8\n",
      "date time : datetime.datetime(2024, 9, 30, 9, 9, 0, 665756), lesson 95 errors number : 8\n",
      "date time : datetime.datetime(2024, 9, 30, 9, 9, 0, 665756), lesson 95 errors number : 8\n",
      "date time : datetime.datetime(2024, 9, 30, 9, 9, 0, 665756), lesson 95 errors number : 8\n",
      "date time : datetime.datetime(2024, 9, 30, 9, 9, 0, 665756), lesson 95 errors number : 8\n",
      "date time : datetime.datetime(2024, 9, 30, 9, 9, 0, 665756), lesson 95 errors number : 8\n",
      "date time : datetime.datetime(2024, 9, 30, 9, 9, 0, 665756), lesson 95 errors number : 8\n",
      "date time : datetime.datetime(2024, 9, 30, 9, 25, 43, 438807), lesson 46 errors number : 1\n",
      "date time : datetime.datetime(2024, 10, 1, 9, 1, 24, 55819), lesson 97 errors number : 4\n",
      "date time : datetime.datetime(2024, 10, 1, 9, 1, 24, 55819), lesson 97 errors number : 4\n",
      "date time : datetime.datetime(2024, 10, 1, 9, 1, 24, 55819), lesson 97 errors number : 4\n",
      "date time : datetime.datetime(2024, 10, 1, 9, 1, 24, 55819), lesson 97 errors number : 4\n",
      "date time : datetime.datetime(2024, 10, 4, 12, 29, 21, 724371), lesson 96 errors number : 8\n",
      "date time : datetime.datetime(2024, 10, 4, 12, 29, 21, 724371), lesson 96 errors number : 8\n",
      "date time : datetime.datetime(2024, 10, 4, 12, 29, 21, 724371), lesson 96 errors number : 8\n",
      "date time : datetime.datetime(2024, 10, 4, 12, 29, 21, 724371), lesson 96 errors number : 8\n",
      "date time : datetime.datetime(2024, 10, 4, 12, 29, 21, 724371), lesson 96 errors number : 8\n",
      "date time : datetime.datetime(2024, 10, 4, 12, 29, 21, 724371), lesson 96 errors number : 8\n",
      "date time : datetime.datetime(2024, 10, 4, 12, 29, 21, 724371), lesson 96 errors number : 8\n",
      "date time : datetime.datetime(2024, 10, 4, 12, 29, 21, 724371), lesson 96 errors number : 8\n",
      "date time : datetime.datetime(2024, 10, 4, 12, 46, 5, 78920), lesson 47 errors number : 5\n",
      "date time : datetime.datetime(2024, 10, 4, 12, 46, 5, 78920), lesson 47 errors number : 5\n",
      "date time : datetime.datetime(2024, 10, 4, 12, 46, 5, 78920), lesson 47 errors number : 5\n",
      "date time : datetime.datetime(2024, 10, 4, 12, 46, 5, 78920), lesson 47 errors number : 5\n",
      "date time : datetime.datetime(2024, 10, 4, 12, 46, 5, 78920), lesson 47 errors number : 5\n",
      "date time : datetime.datetime(2024, 10, 5, 12, 1, 7, 187979), lesson 98 errors number : 6\n",
      "date time : datetime.datetime(2024, 10, 5, 12, 1, 7, 187979), lesson 98 errors number : 6\n",
      "date time : datetime.datetime(2024, 10, 5, 12, 1, 7, 187979), lesson 98 errors number : 6\n",
      "date time : datetime.datetime(2024, 10, 5, 12, 1, 7, 187979), lesson 98 errors number : 6\n",
      "date time : datetime.datetime(2024, 10, 5, 12, 1, 7, 187979), lesson 98 errors number : 6\n",
      "date time : datetime.datetime(2024, 10, 5, 12, 1, 7, 187979), lesson 98 errors number : 6\n",
      "date time : datetime.datetime(2024, 10, 5, 12, 9, 43, 502139), lesson 49 errors number : 3\n",
      "date time : datetime.datetime(2024, 10, 5, 12, 9, 43, 502139), lesson 49 errors number : 3\n",
      "date time : datetime.datetime(2024, 10, 5, 12, 9, 43, 502139), lesson 49 errors number : 3\n",
      "date time : datetime.datetime(2024, 10, 5, 13, 58, 8, 314337), lesson 99 errors number : 8\n",
      "date time : datetime.datetime(2024, 10, 5, 13, 58, 8, 314337), lesson 99 errors number : 8\n",
      "date time : datetime.datetime(2024, 10, 5, 13, 58, 8, 314337), lesson 99 errors number : 8\n",
      "date time : datetime.datetime(2024, 10, 5, 13, 58, 8, 314337), lesson 99 errors number : 8\n",
      "date time : datetime.datetime(2024, 10, 5, 13, 58, 8, 314337), lesson 99 errors number : 8\n",
      "date time : datetime.datetime(2024, 10, 5, 13, 58, 8, 314337), lesson 99 errors number : 8\n",
      "date time : datetime.datetime(2024, 10, 5, 13, 58, 8, 314337), lesson 99 errors number : 8\n",
      "date time : datetime.datetime(2024, 10, 5, 13, 58, 8, 314337), lesson 99 errors number : 8\n",
      "date time : datetime.datetime(2024, 10, 5, 14, 6, 25, 644865), lesson 50 errors number : 3\n",
      "date time : datetime.datetime(2024, 10, 5, 14, 6, 25, 644865), lesson 50 errors number : 3\n",
      "date time : datetime.datetime(2024, 10, 5, 14, 6, 25, 644865), lesson 50 errors number : 3\n",
      "date time : datetime.datetime(2024, 10, 6, 10, 44, 24, 545336), lesson 100 errors number : 6\n",
      "date time : datetime.datetime(2024, 10, 6, 10, 44, 24, 545336), lesson 100 errors number : 6\n",
      "date time : datetime.datetime(2024, 10, 6, 10, 44, 24, 545336), lesson 100 errors number : 6\n",
      "date time : datetime.datetime(2024, 10, 6, 10, 44, 24, 545336), lesson 100 errors number : 6\n",
      "date time : datetime.datetime(2024, 10, 6, 10, 44, 24, 545336), lesson 100 errors number : 6\n",
      "date time : datetime.datetime(2024, 10, 6, 10, 44, 24, 545336), lesson 100 errors number : 6\n",
      "date time : datetime.datetime(2024, 10, 6, 16, 49, 32, 220693), lesson 51 errors number : 2\n",
      "date time : datetime.datetime(2024, 10, 6, 16, 49, 32, 220693), lesson 51 errors number : 2\n",
      "date time : datetime.datetime(2024, 10, 6, 17, 43, 40, 596969), lesson 52 errors number : 2\n",
      "date time : datetime.datetime(2024, 10, 6, 17, 43, 40, 596969), lesson 52 errors number : 2\n",
      "date time : datetime.datetime(2024, 10, 6, 17, 47, 42, 75951), lesson 3 errors number : 1\n",
      "date time : datetime.datetime(2024, 10, 7, 9, 12, 42, 447977), lesson 53 errors number : 8\n",
      "date time : datetime.datetime(2024, 10, 7, 9, 12, 42, 447977), lesson 53 errors number : 8\n",
      "date time : datetime.datetime(2024, 10, 7, 9, 12, 42, 447977), lesson 53 errors number : 8\n",
      "date time : datetime.datetime(2024, 10, 7, 9, 12, 42, 447977), lesson 53 errors number : 8\n",
      "date time : datetime.datetime(2024, 10, 7, 9, 12, 42, 447977), lesson 53 errors number : 8\n",
      "date time : datetime.datetime(2024, 10, 7, 9, 12, 42, 447977), lesson 53 errors number : 8\n",
      "date time : datetime.datetime(2024, 10, 7, 9, 12, 42, 447977), lesson 53 errors number : 8\n",
      "date time : datetime.datetime(2024, 10, 7, 9, 12, 42, 447977), lesson 53 errors number : 8\n",
      "date time : datetime.datetime(2024, 10, 7, 10, 8, 15, 428303), lesson 4 errors number : 1\n",
      "date time : datetime.datetime(2024, 10, 8, 17, 59, 9, 352906), lesson 54 errors number : 3\n",
      "date time : datetime.datetime(2024, 10, 8, 17, 59, 9, 352906), lesson 54 errors number : 3\n",
      "date time : datetime.datetime(2024, 10, 8, 17, 59, 9, 352906), lesson 54 errors number : 3\n",
      "date time : datetime.datetime(2024, 10, 8, 18, 1, 44, 249145), lesson 5 errors number : 2\n",
      "date time : datetime.datetime(2024, 10, 8, 18, 1, 44, 249145), lesson 5 errors number : 2\n",
      "date time : datetime.datetime(2024, 10, 9, 10, 47, 31, 487843), lesson 55 errors number : 2\n",
      "date time : datetime.datetime(2024, 10, 9, 10, 47, 31, 487843), lesson 55 errors number : 2\n"
     ]
    }
   ],
   "source": [
    "stmt = select(LessonSession)\n",
    "with Session(engine) as session:\n",
    "    for entry in session.scalars(stmt):\n",
    "        for sentence in entry.errored_sentences:\n",
    "            print(sentence.session)\n",
    "            "
   ]
  },
  {
   "cell_type": "code",
   "execution_count": 3,
   "id": "4242b764-aa9e-4ed3-8804-bf57302c7d59",
   "metadata": {
    "scrolled": true
   },
   "outputs": [
    {
     "name": "stdout",
     "output_type": "stream",
     "text": [
      "date time : datetime.datetime(2024, 9, 4, 23, 2, 0, 780033), lesson 1 errors number : 0\n",
      "date time : datetime.datetime(2024, 9, 5, 9, 19, 11, 922138), lesson 51 errors number : 3\n",
      "date time : datetime.datetime(2024, 9, 6, 23, 54, 35, 589923), lesson 3 errors number : 3\n",
      "date time : datetime.datetime(2024, 9, 6, 23, 30, 29, 589456), lesson 52 errors number : 5\n",
      "date time : datetime.datetime(2024, 9, 7, 15, 38, 11, 304630), lesson 53 errors number : 4\n",
      "date time : datetime.datetime(2024, 9, 7, 15, 47, 54, 852500), lesson 4 errors number : 0\n",
      "date time : datetime.datetime(2024, 9, 9, 0, 33, 9, 558002), lesson 54 errors number : 4\n",
      "date time : datetime.datetime(2024, 9, 9, 0, 37, 30, 688736), lesson 5 errors number : 0\n",
      "date time : datetime.datetime(2024, 9, 9, 23, 49, 20, 733862), lesson 55 errors number : 8\n",
      "date time : datetime.datetime(2024, 9, 10, 11, 28, 32, 681006), lesson 56 errors number : 10\n",
      "date time : datetime.datetime(2024, 9, 10, 11, 34, 52, 105091), lesson 7 errors number : 2\n",
      "date time : datetime.datetime(2024, 9, 11, 15, 24, 26, 952928), lesson 57 errors number : 7\n",
      "date time : datetime.datetime(2024, 9, 12, 18, 13, 29, 359135), lesson 58 errors number : 4\n",
      "date time : datetime.datetime(2024, 9, 13, 9, 25, 10, 802152), lesson 2 errors number : 0\n",
      "date time : datetime.datetime(2024, 9, 13, 9, 47, 17, 289446), lesson 6 errors number : 2\n",
      "date time : datetime.datetime(2024, 9, 14, 19, 34, 55, 403665), lesson 59 errors number : 5\n",
      "date time : datetime.datetime(2024, 9, 14, 20, 33, 44, 326247), lesson 6 errors number : 1\n",
      "date time : datetime.datetime(2024, 9, 14, 20, 36, 34, 61151), lesson 7 errors number : 0\n",
      "date time : datetime.datetime(2024, 9, 14, 20, 48, 41, 13369), lesson 8 errors number : 1\n",
      "date time : datetime.datetime(2024, 9, 15, 0, 8, 28, 172602), lesson 9 errors number : 1\n",
      "date time : datetime.datetime(2024, 9, 15, 0, 12, 3, 35027), lesson 10 errors number : 0\n",
      "date time : datetime.datetime(2024, 9, 15, 13, 22, 39, 591806), lesson 60 errors number : 9\n",
      "date time : datetime.datetime(2024, 9, 15, 13, 29, 12, 319298), lesson 11 errors number : 1\n",
      "date time : datetime.datetime(2024, 9, 15, 15, 22, 24, 347706), lesson 61 errors number : 1\n",
      "date time : datetime.datetime(2024, 9, 15, 20, 59, 22, 890332), lesson 62 errors number : 4\n",
      "date time : datetime.datetime(2024, 9, 15, 21, 6, 58, 485276), lesson 12 errors number : 1\n",
      "date time : datetime.datetime(2024, 9, 16, 14, 44, 1, 463345), lesson 63 errors number : 3\n",
      "date time : datetime.datetime(2024, 9, 16, 14, 50, 1, 866604), lesson 14 errors number : 1\n",
      "date time : datetime.datetime(2024, 9, 16, 14, 54, 35, 130542), lesson 13 errors number : 2\n",
      "date time : datetime.datetime(2024, 9, 16, 17, 44, 29, 162827), lesson 15 errors number : 2\n",
      "date time : datetime.datetime(2024, 9, 16, 18, 6, 17, 538096), lesson 64 errors number : 2\n",
      "date time : datetime.datetime(2024, 9, 16, 18, 45, 2, 732172), lesson 65 errors number : 8\n",
      "date time : datetime.datetime(2024, 9, 16, 18, 53, 35, 781937), lesson 16 errors number : 3\n",
      "date time : datetime.datetime(2024, 9, 17, 10, 53, 4, 772061), lesson 66 errors number : 7\n",
      "date time : datetime.datetime(2024, 9, 17, 11, 56, 7, 400645), lesson 27 errors number : 4\n",
      "date time : datetime.datetime(2024, 9, 18, 9, 12, 4, 805903), lesson 17 errors number : 2\n",
      "date time : datetime.datetime(2024, 9, 18, 9, 41, 35, 126584), lesson 67 errors number : 7\n",
      "date time : datetime.datetime(2024, 9, 18, 9, 56, 45, 691129), lesson 18 errors number : 4\n",
      "date time : datetime.datetime(2024, 9, 18, 14, 14, 56, 370397), lesson 68 errors number : 6\n",
      "date time : datetime.datetime(2024, 9, 18, 14, 19, 0, 66773), lesson 19 errors number : 1\n",
      "date time : datetime.datetime(2024, 9, 18, 19, 2, 12, 30975), lesson 69 errors number : 7\n",
      "date time : datetime.datetime(2024, 9, 18, 19, 13, 43, 283937), lesson 20 errors number : 3\n",
      "date time : datetime.datetime(2024, 9, 19, 10, 26, 46, 474381), lesson 70 errors number : 3\n",
      "date time : datetime.datetime(2024, 9, 19, 10, 36, 22, 437087), lesson 21 errors number : 4\n",
      "date time : datetime.datetime(2024, 9, 19, 12, 45, 38, 54870), lesson 71 errors number : 7\n",
      "date time : datetime.datetime(2024, 9, 19, 12, 53, 8, 504790), lesson 22 errors number : 0\n",
      "date time : datetime.datetime(2024, 9, 19, 17, 21, 45, 562965), lesson 72 errors number : 2\n",
      "date time : datetime.datetime(2024, 9, 19, 23, 46, 22, 395526), lesson 23 errors number : 1\n",
      "date time : datetime.datetime(2024, 9, 20, 12, 10, 41, 836940), lesson 73 errors number : 9\n",
      "date time : datetime.datetime(2024, 9, 20, 12, 17, 41, 568494), lesson 24 errors number : 1\n",
      "date time : datetime.datetime(2024, 9, 20, 12, 47, 14, 28627), lesson 74 errors number : 7\n",
      "date time : datetime.datetime(2024, 9, 20, 12, 54, 53, 623765), lesson 25 errors number : 4\n",
      "date time : datetime.datetime(2024, 9, 20, 13, 59, 15, 337417), lesson 75 errors number : 8\n",
      "date time : datetime.datetime(2024, 9, 20, 14, 7, 0, 845464), lesson 26 errors number : 3\n",
      "date time : datetime.datetime(2024, 9, 22, 12, 33, 40, 88581), lesson 76 errors number : 8\n",
      "date time : datetime.datetime(2024, 9, 22, 12, 40, 38, 507573), lesson 27 errors number : 1\n",
      "date time : datetime.datetime(2024, 9, 22, 13, 50, 41, 571803), lesson 77 errors number : 5\n",
      "date time : datetime.datetime(2024, 9, 22, 18, 23, 27, 842343), lesson 78 errors number : 7\n",
      "date time : datetime.datetime(2024, 9, 22, 18, 37, 36, 521255), lesson 29 errors number : 4\n",
      "date time : datetime.datetime(2024, 9, 23, 10, 58, 18, 773913), lesson 79 errors number : 6\n",
      "date time : datetime.datetime(2024, 9, 23, 11, 5, 0, 806891), lesson 28 errors number : 3\n",
      "date time : datetime.datetime(2024, 9, 23, 11, 15, 9, 388413), lesson 30 errors number : 0\n",
      "date time : datetime.datetime(2024, 9, 23, 11, 45, 43, 464876), lesson 80 errors number : 4\n",
      "date time : datetime.datetime(2024, 9, 23, 11, 57, 29, 954237), lesson 31 errors number : 2\n",
      "date time : datetime.datetime(2024, 9, 23, 12, 54, 38, 88224), lesson 81 errors number : 6\n",
      "date time : datetime.datetime(2024, 9, 23, 16, 37, 49, 23549), lesson 82 errors number : 6\n",
      "date time : datetime.datetime(2024, 9, 23, 16, 45, 19, 486036), lesson 32 errors number : 1\n",
      "date time : datetime.datetime(2024, 9, 23, 16, 59, 55, 812358), lesson 33 errors number : 3\n",
      "date time : datetime.datetime(2024, 9, 24, 0, 13, 43, 282236), lesson 83 errors number : 7\n",
      "date time : datetime.datetime(2024, 9, 24, 8, 24, 10, 169893), lesson 34 errors number : 7\n",
      "date time : datetime.datetime(2024, 9, 24, 8, 41, 31, 345565), lesson 84 errors number : 6\n",
      "date time : datetime.datetime(2024, 9, 24, 8, 51, 6, 239588), lesson 35 errors number : 5\n",
      "date time : datetime.datetime(2024, 9, 25, 0, 11, 48, 737526), lesson 85 errors number : 12\n",
      "date time : datetime.datetime(2024, 9, 25, 8, 49, 6, 191984), lesson 36 errors number : 1\n",
      "date time : datetime.datetime(2024, 9, 25, 9, 20, 24, 989902), lesson 86 errors number : 10\n",
      "date time : datetime.datetime(2024, 9, 25, 9, 41, 32, 438810), lesson 37 errors number : 2\n",
      "date time : datetime.datetime(2024, 9, 25, 10, 15, 0, 809807), lesson 87 errors number : 9\n",
      "date time : datetime.datetime(2024, 9, 25, 10, 27, 39, 77481), lesson 38 errors number : 1\n",
      "date time : datetime.datetime(2024, 9, 25, 12, 39, 31, 294142), lesson 88 errors number : 7\n",
      "date time : datetime.datetime(2024, 9, 25, 12, 50, 46, 8456), lesson 39 errors number : 3\n",
      "date time : datetime.datetime(2024, 9, 25, 14, 50, 1, 721441), lesson 89 errors number : 6\n",
      "date time : datetime.datetime(2024, 9, 25, 17, 12, 49, 816859), lesson 40 errors number : 2\n",
      "date time : datetime.datetime(2024, 9, 25, 18, 15, 18, 39429), lesson 90 errors number : 11\n",
      "date time : datetime.datetime(2024, 9, 25, 18, 26, 33, 620823), lesson 41 errors number : 4\n",
      "date time : datetime.datetime(2024, 9, 26, 9, 13, 39, 543672), lesson 91 errors number : 6\n",
      "date time : datetime.datetime(2024, 9, 26, 9, 30, 8, 538560), lesson 42 errors number : 3\n",
      "date time : datetime.datetime(2024, 9, 28, 8, 16, 26, 79431), lesson 93 errors number : 10\n",
      "date time : datetime.datetime(2024, 9, 28, 8, 24, 23, 610013), lesson 44 errors number : 1\n",
      "date time : datetime.datetime(2024, 9, 29, 10, 23, 41, 472719), lesson 94 errors number : 8\n",
      "date time : datetime.datetime(2024, 9, 30, 8, 38, 52, 303139), lesson 45 errors number : 3\n",
      "date time : datetime.datetime(2024, 9, 30, 9, 9, 0, 665756), lesson 95 errors number : 8\n",
      "date time : datetime.datetime(2024, 9, 30, 9, 25, 43, 438807), lesson 46 errors number : 1\n",
      "date time : datetime.datetime(2024, 10, 1, 9, 1, 24, 55819), lesson 97 errors number : 4\n",
      "date time : datetime.datetime(2024, 10, 1, 9, 11, 40, 635326), lesson 48 errors number : 0\n",
      "date time : datetime.datetime(2024, 10, 4, 12, 29, 21, 724371), lesson 96 errors number : 8\n",
      "date time : datetime.datetime(2024, 10, 4, 12, 46, 5, 78920), lesson 47 errors number : 5\n",
      "date time : datetime.datetime(2024, 10, 5, 12, 1, 7, 187979), lesson 98 errors number : 6\n",
      "date time : datetime.datetime(2024, 10, 5, 12, 9, 43, 502139), lesson 49 errors number : 3\n",
      "date time : datetime.datetime(2024, 10, 5, 13, 58, 8, 314337), lesson 99 errors number : 8\n",
      "date time : datetime.datetime(2024, 10, 5, 14, 6, 25, 644865), lesson 50 errors number : 3\n",
      "date time : datetime.datetime(2024, 10, 6, 10, 44, 24, 545336), lesson 100 errors number : 6\n",
      "date time : datetime.datetime(2024, 10, 6, 16, 49, 32, 220693), lesson 51 errors number : 2\n",
      "date time : datetime.datetime(2024, 10, 6, 17, 11, 27, 307901), lesson 1 errors number : 0\n",
      "date time : datetime.datetime(2024, 10, 6, 17, 14, 36, 988165), lesson 2 errors number : 0\n",
      "date time : datetime.datetime(2024, 10, 6, 17, 43, 40, 596969), lesson 52 errors number : 2\n",
      "date time : datetime.datetime(2024, 10, 6, 17, 47, 42, 75951), lesson 3 errors number : 1\n",
      "date time : datetime.datetime(2024, 10, 7, 9, 12, 42, 447977), lesson 53 errors number : 8\n",
      "date time : datetime.datetime(2024, 10, 7, 10, 8, 15, 428303), lesson 4 errors number : 1\n",
      "date time : datetime.datetime(2024, 10, 8, 17, 59, 9, 352906), lesson 54 errors number : 3\n",
      "date time : datetime.datetime(2024, 10, 8, 18, 1, 44, 249145), lesson 5 errors number : 2\n",
      "date time : datetime.datetime(2024, 10, 9, 10, 47, 31, 487843), lesson 55 errors number : 2\n",
      "date time : datetime.datetime(2024, 10, 9, 10, 50, 19, 705334), lesson 6 errors number : 0\n",
      "date time : datetime.datetime(2024, 10, 9, 10, 57, 57, 767134), lesson 6 errors number : 0\n"
     ]
    }
   ],
   "source": [
    "stmt = select(LessonSession)\n",
    "with Session(engine) as session:\n",
    "    for entry in session.scalars(stmt):\n",
    "        print(entry)"
   ]
  },
  {
   "cell_type": "code",
   "execution_count": 38,
   "id": "5e3d0040-6ce2-42b9-8232-805d0c04a76a",
   "metadata": {},
   "outputs": [],
   "source": [
    "from database import get_lesson_sessions_history"
   ]
  },
  {
   "cell_type": "code",
   "execution_count": 46,
   "id": "23c5260a-c13d-43f1-9b48-a10fb295b7a5",
   "metadata": {},
   "outputs": [
    {
     "name": "stdout",
     "output_type": "stream",
     "text": [
      "----------------- begin_date : None\n",
      "----------------- end_date : None\n"
     ]
    }
   ],
   "source": [
    "sessions = get_lesson_sessions_history()"
   ]
  },
  {
   "cell_type": "code",
   "execution_count": 47,
   "id": "56c1e924-62b6-4b52-88ce-d779376c216c",
   "metadata": {},
   "outputs": [
    {
     "data": {
      "text/plain": [
       "{50: {datetime.datetime(2024, 9, 4, 22, 42, 30, 759328): 6},\n",
       " 1: {datetime.datetime(2024, 9, 4, 23, 2, 0, 780033): 0},\n",
       " 51: {datetime.datetime(2024, 9, 5, 9, 19, 11, 922138): 3},\n",
       " 3: {datetime.datetime(2024, 9, 6, 23, 54, 35, 589923): 3},\n",
       " 52: {datetime.datetime(2024, 9, 6, 23, 30, 29, 589456): 5},\n",
       " 53: {datetime.datetime(2024, 9, 7, 15, 38, 11, 304630): 4},\n",
       " 4: {datetime.datetime(2024, 9, 7, 15, 47, 54, 852500): 0},\n",
       " 54: {datetime.datetime(2024, 9, 9, 0, 33, 9, 558002): 4},\n",
       " 5: {datetime.datetime(2024, 9, 9, 0, 37, 30, 688736): 0},\n",
       " 55: {datetime.datetime(2024, 9, 9, 23, 49, 20, 733862): 8},\n",
       " 56: {datetime.datetime(2024, 9, 10, 11, 28, 32, 681006): 10},\n",
       " 7: {datetime.datetime(2024, 9, 10, 11, 34, 52, 105091): 2,\n",
       "  datetime.datetime(2024, 9, 14, 20, 36, 34, 61151): 0},\n",
       " 57: {datetime.datetime(2024, 9, 11, 15, 24, 26, 952928): 7},\n",
       " 58: {datetime.datetime(2024, 9, 12, 18, 13, 29, 359135): 4},\n",
       " 2: {datetime.datetime(2024, 9, 13, 9, 25, 10, 802152): 0},\n",
       " 6: {datetime.datetime(2024, 9, 13, 9, 47, 17, 289446): 2,\n",
       "  datetime.datetime(2024, 9, 14, 20, 33, 44, 326247): 1},\n",
       " 59: {datetime.datetime(2024, 9, 14, 19, 34, 55, 403665): 5},\n",
       " 8: {datetime.datetime(2024, 9, 14, 20, 48, 41, 13369): 1},\n",
       " 9: {datetime.datetime(2024, 9, 15, 0, 8, 28, 172602): 1},\n",
       " 10: {datetime.datetime(2024, 9, 15, 0, 12, 3, 35027): 0},\n",
       " 60: {datetime.datetime(2024, 9, 15, 13, 22, 39, 591806): 9},\n",
       " 11: {datetime.datetime(2024, 9, 15, 13, 29, 12, 319298): 1},\n",
       " 61: {datetime.datetime(2024, 9, 15, 15, 22, 24, 347706): 1},\n",
       " 62: {datetime.datetime(2024, 9, 15, 20, 59, 22, 890332): 4},\n",
       " 12: {datetime.datetime(2024, 9, 15, 21, 6, 58, 485276): 1},\n",
       " 63: {datetime.datetime(2024, 9, 16, 14, 44, 1, 463345): 3},\n",
       " 14: {datetime.datetime(2024, 9, 16, 14, 50, 1, 866604): 1},\n",
       " 13: {datetime.datetime(2024, 9, 16, 14, 54, 35, 130542): 2},\n",
       " 15: {datetime.datetime(2024, 9, 16, 17, 44, 29, 162827): 2},\n",
       " 64: {datetime.datetime(2024, 9, 16, 18, 6, 17, 538096): 2},\n",
       " 65: {datetime.datetime(2024, 9, 16, 18, 45, 2, 732172): 8},\n",
       " 16: {datetime.datetime(2024, 9, 16, 18, 53, 35, 781937): 3},\n",
       " 66: {datetime.datetime(2024, 9, 17, 10, 53, 4, 772061): 7},\n",
       " 27: {datetime.datetime(2024, 9, 17, 11, 56, 7, 400645): 4,\n",
       "  datetime.datetime(2024, 9, 22, 12, 40, 38, 507573): 1},\n",
       " 17: {datetime.datetime(2024, 9, 18, 9, 12, 4, 805903): 2},\n",
       " 67: {datetime.datetime(2024, 9, 18, 9, 41, 35, 126584): 7},\n",
       " 18: {datetime.datetime(2024, 9, 18, 9, 56, 45, 691129): 4},\n",
       " 68: {datetime.datetime(2024, 9, 18, 14, 14, 56, 370397): 6},\n",
       " 19: {datetime.datetime(2024, 9, 18, 14, 19, 0, 66773): 1},\n",
       " 69: {datetime.datetime(2024, 9, 18, 19, 2, 12, 30975): 7},\n",
       " 20: {datetime.datetime(2024, 9, 18, 19, 13, 43, 283937): 3},\n",
       " 70: {datetime.datetime(2024, 9, 19, 10, 26, 46, 474381): 3},\n",
       " 21: {datetime.datetime(2024, 9, 19, 10, 36, 22, 437087): 4},\n",
       " 71: {datetime.datetime(2024, 9, 19, 12, 45, 38, 54870): 7},\n",
       " 22: {datetime.datetime(2024, 9, 19, 12, 53, 8, 504790): 0},\n",
       " 72: {datetime.datetime(2024, 9, 19, 17, 21, 45, 562965): 2},\n",
       " 23: {datetime.datetime(2024, 9, 19, 23, 46, 22, 395526): 1},\n",
       " 73: {datetime.datetime(2024, 9, 20, 12, 10, 41, 836940): 9},\n",
       " 24: {datetime.datetime(2024, 9, 20, 12, 17, 41, 568494): 1},\n",
       " 74: {datetime.datetime(2024, 9, 20, 12, 47, 14, 28627): 7},\n",
       " 25: {datetime.datetime(2024, 9, 20, 12, 54, 53, 623765): 4},\n",
       " 75: {datetime.datetime(2024, 9, 20, 13, 59, 15, 337417): 8},\n",
       " 26: {datetime.datetime(2024, 9, 20, 14, 7, 0, 845464): 3},\n",
       " 76: {datetime.datetime(2024, 9, 22, 12, 33, 40, 88581): 8},\n",
       " 77: {datetime.datetime(2024, 9, 22, 13, 50, 41, 571803): 5},\n",
       " 78: {datetime.datetime(2024, 9, 22, 18, 23, 27, 842343): 7},\n",
       " 29: {datetime.datetime(2024, 9, 22, 18, 37, 36, 521255): 4},\n",
       " 79: {datetime.datetime(2024, 9, 23, 10, 58, 18, 773913): 6},\n",
       " 28: {datetime.datetime(2024, 9, 23, 11, 5, 0, 806891): 3},\n",
       " 30: {datetime.datetime(2024, 9, 23, 11, 15, 9, 388413): 0},\n",
       " 80: {datetime.datetime(2024, 9, 23, 11, 45, 43, 464876): 4},\n",
       " 31: {datetime.datetime(2024, 9, 23, 11, 57, 29, 954237): 2},\n",
       " 81: {datetime.datetime(2024, 9, 23, 12, 54, 38, 88224): 6},\n",
       " 82: {datetime.datetime(2024, 9, 23, 16, 37, 49, 23549): 6},\n",
       " 32: {datetime.datetime(2024, 9, 23, 16, 45, 19, 486036): 1},\n",
       " 33: {datetime.datetime(2024, 9, 23, 16, 59, 55, 812358): 3},\n",
       " 83: {datetime.datetime(2024, 9, 24, 0, 13, 43, 282236): 7},\n",
       " 34: {datetime.datetime(2024, 9, 24, 8, 24, 10, 169893): 7},\n",
       " 84: {datetime.datetime(2024, 9, 24, 8, 41, 31, 345565): 6},\n",
       " 35: {datetime.datetime(2024, 9, 24, 8, 51, 6, 239588): 5},\n",
       " 85: {datetime.datetime(2024, 9, 25, 0, 11, 48, 737526): 12},\n",
       " 36: {datetime.datetime(2024, 9, 25, 8, 49, 6, 191984): 1},\n",
       " 86: {datetime.datetime(2024, 9, 25, 9, 20, 24, 989902): 10},\n",
       " 37: {datetime.datetime(2024, 9, 25, 9, 41, 32, 438810): 2},\n",
       " 87: {datetime.datetime(2024, 9, 25, 10, 15, 0, 809807): 9},\n",
       " 38: {datetime.datetime(2024, 9, 25, 10, 27, 39, 77481): 1},\n",
       " 88: {datetime.datetime(2024, 9, 25, 12, 39, 31, 294142): 7},\n",
       " 39: {datetime.datetime(2024, 9, 25, 12, 50, 46, 8456): 3},\n",
       " 89: {datetime.datetime(2024, 9, 25, 14, 50, 1, 721441): 6},\n",
       " 40: {datetime.datetime(2024, 9, 25, 17, 12, 49, 816859): 2},\n",
       " 90: {datetime.datetime(2024, 9, 25, 18, 15, 18, 39429): 11},\n",
       " 41: {datetime.datetime(2024, 9, 25, 18, 26, 33, 620823): 4},\n",
       " 91: {datetime.datetime(2024, 9, 26, 9, 13, 39, 543672): 6},\n",
       " 42: {datetime.datetime(2024, 9, 26, 9, 30, 8, 538560): 3},\n",
       " 93: {datetime.datetime(2024, 9, 28, 8, 16, 26, 79431): 10},\n",
       " 44: {datetime.datetime(2024, 9, 28, 8, 24, 23, 610013): 1},\n",
       " 94: {datetime.datetime(2024, 9, 29, 10, 23, 41, 472719): 8},\n",
       " 45: {datetime.datetime(2024, 9, 30, 8, 38, 52, 303139): 3},\n",
       " 95: {datetime.datetime(2024, 9, 30, 9, 9, 0, 665756): 8},\n",
       " 46: {datetime.datetime(2024, 9, 30, 9, 25, 43, 438807): 1},\n",
       " 97: {datetime.datetime(2024, 10, 1, 9, 1, 24, 55819): 4},\n",
       " 48: {datetime.datetime(2024, 10, 1, 9, 11, 40, 635326): 0}}"
      ]
     },
     "execution_count": 47,
     "metadata": {},
     "output_type": "execute_result"
    }
   ],
   "source": [
    "sessions"
   ]
  },
  {
   "cell_type": "code",
   "execution_count": 26,
   "id": "6ffce796-3582-4b88-9655-05765d8928e9",
   "metadata": {},
   "outputs": [],
   "source": [
    "import datetime"
   ]
  },
  {
   "cell_type": "code",
   "execution_count": 16,
   "id": "dc1c6acc-abaa-47ec-838b-326fafea70f5",
   "metadata": {},
   "outputs": [
    {
     "name": "stdout",
     "output_type": "stream",
     "text": [
      "date time : datetime.datetime(2024, 9, 4, 22, 42, 30, 759328), lesson 50 errors number : 6\n"
     ]
    }
   ],
   "source": [
    "stmt = select(LessonSession).where(LessonSession.date_time == datetime.datetime(2024, 9, 4, 22, 42, 30, 759328))\n",
    "with Session(engine) as session:\n",
    "    for lesson_session in session.scalars(stmt):\n",
    "        print(lesson_session)\n",
    "    \n",
    "\n"
   ]
  },
  {
   "cell_type": "code",
   "execution_count": 6,
   "id": "ca72fc33-e6aa-40ba-9945-35b7267b4744",
   "metadata": {},
   "outputs": [
    {
     "name": "stdout",
     "output_type": "stream",
     "text": [
      "date time : datetime.datetime(2024, 10, 9, 10, 57, 57, 767134), lesson 6 errors number : 0\n"
     ]
    }
   ],
   "source": [
    "import datetime\n",
    "stmt = select(LessonSession).where(LessonSession.date_time == datetime.datetime(2024, 10, 9, 10, 57, 57, 767134))\n",
    "with Session(engine) as session:\n",
    "    for lesson_session in session.scalars(stmt):\n",
    "        print(lesson_session)\n",
    "        session.delete(lesson_session)\n",
    "    session.commit()\n",
    "\n"
   ]
  },
  {
   "cell_type": "code",
   "execution_count": 45,
   "id": "d5f4a369-7fa6-4472-b43d-88259b559812",
   "metadata": {},
   "outputs": [],
   "source": [
    "stmt = select(LessonSession)\n",
    "with Session(engine) as session:\n",
    "    session.execute(delete(LessonSession).where(LessonSession.date_time >=  datetime.datetime(2024, 10, 4)))\n",
    "    session.commit()"
   ]
  },
  {
   "cell_type": "code",
   "execution_count": 9,
   "id": "51a177f0-a7e2-4e65-9963-77102cec6161",
   "metadata": {},
   "outputs": [],
   "source": [
    "html_with_selection = \"\"\"<p> N52-Lec<b>ción</b> cin<b>cuen</b>ta y dos </p>                  <p> S00-TITLE-La co<b>ci</b>na mexi<b>ca</b>na </p>                  <p> S01-No me has <b>di</b>cho <b>na</b>da de la co<b>ci</b>na mexi<b>ca</b>na </p>                  <p> S02-¿O a lo me<b>jor</b> no te atre<b>vis</b>te a pro<b>bar</b>la?  </p>                  <p> S03-¡Por su<b>pues</b>to que la pro<b>bé</b>! Me gus<b>tó</b> <b>so</b>bre <b>to</b>do el <b>mo</b>le es <b>u</b>na <b>sal</b>sa de ca<b>ca</b>o y guin<b>di</b>llas.  </p>                  <p> S04-¿Choco<b>la</b>te pi<b>can</b>te? ¿No te <mark class='V' title='3ème personne du singulier du passé simple de dar : dio et non pas di.'>dio</mark> <b>as</b>co?  </p>                  <p> S05-¡Qué va! ¡Es<b>tá</b> muy <b>ri</b>co! Lo a<b>mar</b>go va muy bien con lo pi<b>can</b>te.  </p>                  <p> S06-Los <b>pue</b>blos precolom<b>bi</b>nos ha<b>cí</b>an <b>u</b>na be<b>bi</b>da <b>ro</b>ja con el ca<b>ca</b>o.  </p>                  <p> S07-¡Por <b>e</b>so los conquista<b>do</b>res cre<b>ye</b>ron que be<b>bí</b>an <b>san</b>gre!  </p>                  <p> S08-¿<b>Pe</b>ro <b>nun</b>ca lo <mark class='V' title='3ème personne du pluriel du présent du verbe tomar.'><b>to</b>man</mark> <b></b><b>dul</b>ce?  </p>                  <p> S09-Sí, <b>cla</b>ro, hoy en <b>dí</b>a tam<b>bién</b> <mark class='G' title='cacao est complément d&#39;objet indirect donc=\"le\" et non pas \"lo\"'>le</mark> <b>e</b>chan a<b>zú</b>car,  </p>                  <p> S10-<b>pe</b>ro en la tradi<b>ción</b> in<b>dí</b>gena no se <mark class='G' title='cacao est complément d&#39;objet indirect donc=\"le\" et non pas \"lo\"'>le</mark> a<b>ña</b>de <b>le</b>che, <b>so</b>lo <b>a</b>gua.  </p>                  <p> S11-<b></b><mark class='O'><b></b><mark class='O' title='Meriendas est féminin, donc nuestras et non pas nuestros.'><b>Nues</b>tras</mark></mark> me<b>rien</b>das sí que las e<b>cha</b>ba de <b>me</b>nos un buen choco<b>la</b>te con <b>chu</b>rros. . .  </p>                  <p> S12-<b>E</b>so, <b>pa</b>ra meren<b>dar</b>, ¡<b>na</b>da <b>co</b>mo Es<b>pa</b>ña!  </p>                  <p> T00-TRANSLATE-Ejer<b>ci</b>cio 1 – Tra<b>duz</b>ca </p>                  <p> T01-No me has <b>di</b>cho si te gus<b>tó</b> la <b>sal</b>sa de ca<b>ca</b>o y guin<b>di</b>llas.  </p>                  <p> T02-¿Te atre<b>vis</b>te a to<b>mar</b> choco<b>la</b>te a<b>mar</b>go, pi<b>can</b>te y sin a<b>zú</b>car?  </p>                  <p> T03-¡Qué va! Me dio <b>as</b>co y no lo pro<b>bé</b>.  </p>                  <p> T04-Pues a lo me<b>jor</b> es<b>tá</b> muy <b>ri</b>co, <b>pe</b>ro pre<b>fie</b>ro un choco<b>la</b>te con <b>chu</b>rros.  </p>                  <p> T05-<b>E</b>cho de <b>me</b>nos la co<b>ci</b>na mexi<b>ca</b>na.  </p>\"\"\""
   ]
  },
  {
   "cell_type": "code",
   "execution_count": 11,
   "id": "309071e0-38c2-415a-9d4e-46719477167c",
   "metadata": {},
   "outputs": [
    {
     "name": "stdout",
     "output_type": "stream",
     "text": [
      "<p> N52-Lec<b>ción</b> cin<b>cuen</b>ta y dos </p>                  <p> S00-TITLE-La co<b>ci</b>na mexi<b>ca</b>na </p>                  <p> S01-No me has <b>di</b>cho <b>na</b>da de la co<b>ci</b>na mexi<b>ca</b>na </p>                  <p> S02-¿O a lo me<b>jor</b> no te atre<b>vis</b>te a pro<b>bar</b>la?  </p>                  <p> S03-¡Por su<b>pues</b>to que la pro<b>bé</b>! Me gus<b>tó</b> <b>so</b>bre <b>to</b>do el <b>mo</b>le es <b>u</b>na <b>sal</b>sa de ca<b>ca</b>o y guin<b>di</b>llas.  </p>                  <p> S04-¿Choco<b>la</b>te pi<b>can</b>te? ¿No te <mark class='V' title='3ème personne du singulier du passé simple de dar : dio et non pas di.'>dio</mark> <b>as</b>co?  </p>                  <p> S05-¡Qué va! ¡Es<b>tá</b> muy <b>ri</b>co! Lo a<b>mar</b>go va muy bien con lo pi<b>can</b>te.  </p>                  <p> S06-Los <b>pue</b>blos precolom<b>bi</b>nos ha<b>cí</b>an <b>u</b>na be<b>bi</b>da <b>ro</b>ja con el ca<b>ca</b>o.  </p>                  <p> S07-¡Por <b>e</b>so los conquista<b>do</b>res cre<b>ye</b>ron que be<b>bí</b>an <b>san</b>gre!  </p>                  <p> S08-¿<b>Pe</b>ro <b>nun</b>ca lo <mark class='V' title='3ème personne du pluriel du présent du verbe tomar.'><b>to</b>man</mark> <b></b><b>dul</b>ce?  </p>                  <p> S09-Sí, <b>cla</b>ro, hoy en <b>dí</b>a tam<b>bién</b> <mark class='G' title='cacao est complément d&#39;objet indirect donc=\"le\" et non pas \"lo\"'>le</mark> <b>e</b>chan a<b>zú</b>car,  </p>                  <p> S10-<b>pe</b>ro en la tradi<b>ción</b> in<b>dí</b>gena no se <mark class='G' title='cacao est complément d&#39;objet indirect donc=\"le\" et non pas \"lo\"'>le</mark> a<b>ña</b>de <b>le</b>che, <b>so</b>lo <b>a</b>gua.  </p>                  <p> S11-<b></b><mark class='O'><b></b><mark class='O' title='Meriendas est féminin, donc nuestras et non pas nuestros.'><b>Nues</b>tras</mark></mark> me<b>rien</b>das sí que las e<b>cha</b>ba de <b>me</b>nos un buen choco<b>la</b>te con <b>chu</b>rros. . .  </p>                  <p> S12-<b>E</b>so, <b>pa</b>ra meren<b>dar</b>, ¡<b>na</b>da <b>co</b>mo Es<b>pa</b>ña!  </p>                  <p> T00-TRANSLATE-Ejer<b>ci</b>cio 1 – Tra<b>duz</b>ca </p>                  <p> T01-No me has <b>di</b>cho si te gus<b>tó</b> la <b>sal</b>sa de ca<b>ca</b>o y guin<b>di</b>llas.  </p>                  <p> T02-¿Te atre<b>vis</b>te a to<b>mar</b> choco<b>la</b>te a<b>mar</b>go, pi<b>can</b>te y sin a<b>zú</b>car?  </p>                  <p> T03-¡Qué va! Me dio <b>as</b>co y no lo pro<b>bé</b>.  </p>                  <p> T04-Pues a lo me<b>jor</b> es<b>tá</b> muy <b>ri</b>co, <b>pe</b>ro pre<b>fie</b>ro un choco<b>la</b>te con <b>chu</b>rros.  </p>                  <p> T05-<b>E</b>cho de <b>me</b>nos la co<b>ci</b>na mexi<b>ca</b>na.  </p>\n"
     ]
    }
   ],
   "source": [
    "print(html_with_selection)"
   ]
  },
  {
   "cell_type": "code",
   "execution_count": 47,
   "id": "f687b69a-f81a-4fd9-bf04-c6b29b4e5f5d",
   "metadata": {},
   "outputs": [
    {
     "data": {
      "text/plain": [
       "'<p> N52-Lec<b>ción</b> cin<b>cuen</b>ta y dos </p>                  <p> S00-TITLE-La co<b>ci</b>na mexi<b>ca</b>na </p>                  <p> S01-No me has <b>di</b>cho <b>na</b>da de la co<b>ci</b>na mexi<b>ca</b>na </p>                  <p> S02-¿O a lo me<b>jor</b> no te atre<b>vis</b>te a pro<b>bar</b>la?  </p>                  <p> S03-¡Por su<b>pues</b>to que la pro<b>bé</b>! Me gus<b>tó</b> <b>so</b>bre <b>to</b>do el <b>mo</b>le es <b>u</b>na <b>sal</b>sa de ca<b>ca</b>o y guin<b>di</b>llas.  </p>                  <p> S04-¿Choco<b>la</b>te pi<b>can</b>te? ¿No te <mark class=\\'V\\' title=\\'3ème personne du singulier du passé simple de dar : dio et non pas di.\\'>dio</mark> <b>as</b>co?  </p>                  <p> S05-¡Qué va! ¡Es<b>tá</b> muy <b>ri</b>co! Lo a<b>mar</b>go va muy bien con lo pi<b>can</b>te.  </p>                  <p> S06-Los <b>pue</b>blos precolom<b>bi</b>nos ha<b>cí</b>an <b>u</b>na be<b>bi</b>da <b>ro</b>ja con el ca<b>ca</b>o.  </p>                  <p> S07-¡Por <b>e</b>so los conquista<b>do</b>res cre<b>ye</b>ron que be<b>bí</b>an <b>san</b>gre!  </p>                  <p> S08-¿<b>Pe</b>ro <b>nun</b>ca lo <mark class=\\'V\\' title=\\'3ème personne du pluriel du présent du verbe tomar.\\'><b>to</b>man</mark> <b></b><b>dul</b>ce?  </p>                  <p> S09-Sí, <b>cla</b>ro, hoy en <b>dí</b>a tam<b>bién</b> <mark class=\\'G\\' title=\\'cacao est complément d&#39;objet indirect donc=\"le\" et non pas \"lo\"\\'>le</mark> <b>e</b>chan a<b>zú</b>car,  </p>                  <p> S10-<b>pe</b>ro en la tradi<b>ción</b> in<b>dí</b>gena no se <mark class=\\'G\\' title=\\'cacao est complément d&#39;objet indirect donc=\"le\" et non pas \"lo\"\\'>le</mark> a<b>ña</b>de <b>le</b>che, <b>so</b>lo <b>a</b>gua.  </p>                  <p> S11-<b></b><mark class=\\'O\\'><b></b><mark class=\\'O\\' title=\\'Meriendas est féminin, donc nuestras et non pas nuestros.\\'><b>Nues</b>tras</mark></mark> me<b>rien</b>das sí que las e<b>cha</b>ba de <b>me</b>nos un buen choco<b>la</b>te con <b>chu</b>rros. . .  </p>                  <p> S12-<b>E</b>so, <b>pa</b>ra meren<b>dar</b>, ¡<b>na</b>da <b>co</b>mo Es<b>pa</b>ña!  </p>                  <p> T00-TRANSLATE-Ejer<b>ci</b>cio 1 – Tra<b>duz</b>ca </p>                  <p> T01-No me has <b>di</b>cho si te gus<b>tó</b> la <b>sal</b>sa de ca<b>ca</b>o y guin<b>di</b>llas.  </p>                  <p> T02-¿Te atre<b>vis</b>te a to<b>mar</b> choco<b>la</b>te a<b>mar</b>go, pi<b>can</b>te y sin a<b>zú</b>car?  </p>                  <p> T03-¡Qué va! Me dio <b>as</b>co y no lo pro<b>bé</b>.  </p>                  <p> T04-Pues a lo me<b>jor</b> es<b>tá</b> muy <b>ri</b>co, <b>pe</b>ro pre<b>fie</b>ro un choco<b>la</b>te con <b>chu</b>rros.  </p>                  <p> T05-<b>E</b>cho de <b>me</b>nos la co<b>ci</b>na mexi<b>ca</b>na.  </p>'"
      ]
     },
     "execution_count": 47,
     "metadata": {},
     "output_type": "execute_result"
    }
   ],
   "source": [
    "html_with_selection"
   ]
  },
  {
   "cell_type": "code",
   "execution_count": 48,
   "id": "b684bf44-f689-4322-8303-380cc8041fde",
   "metadata": {},
   "outputs": [],
   "source": [
    "from selection import extract_selection"
   ]
  },
  {
   "cell_type": "code",
   "execution_count": 49,
   "id": "8445bb88-4efb-425e-bb57-65d7b1736de0",
   "metadata": {},
   "outputs": [
    {
     "name": "stdout",
     "output_type": "stream",
     "text": [
      "attr_name : class, attr_value : V\n",
      "---- in convert_to_html_escape, returning V\n",
      "---- escaped_attr_value : V\n",
      "attr_name = class, char : V, 86, 0\n",
      "attr_name : title, attr_value : 3ème personne du singulier du passé simple de dar : dio et non pas di.\n",
      "---- in convert_to_html_escape, returning 3ème personne du singulier du passé simple de dar : dio et non pas di.\n",
      "---- escaped_attr_value : 3ème personne du singulier du passé simple de dar : dio et non pas di.\n",
      "attr_name = title, char : 3, 51, 0\n",
      "attr_name = title, char : è, 232, 1\n",
      "attr_name = title, char : m, 109, 2\n",
      "attr_name = title, char : e, 101, 3\n",
      "attr_name = title, char :  , 32, 4\n",
      "attr_name = title, char : p, 112, 5\n",
      "attr_name = title, char : e, 101, 6\n",
      "attr_name = title, char : r, 114, 7\n",
      "attr_name = title, char : s, 115, 8\n",
      "attr_name = title, char : o, 111, 9\n",
      "attr_name = title, char : n, 110, 10\n",
      "attr_name = title, char : n, 110, 11\n",
      "attr_name = title, char : e, 101, 12\n",
      "attr_name = title, char :  , 32, 13\n",
      "attr_name = title, char : d, 100, 14\n",
      "attr_name = title, char : u, 117, 15\n",
      "attr_name = title, char :  , 32, 16\n",
      "attr_name = title, char : s, 115, 17\n",
      "attr_name = title, char : i, 105, 18\n",
      "attr_name = title, char : n, 110, 19\n",
      "attr_name = title, char : g, 103, 20\n",
      "attr_name = title, char : u, 117, 21\n",
      "attr_name = title, char : l, 108, 22\n",
      "attr_name = title, char : i, 105, 23\n",
      "attr_name = title, char : e, 101, 24\n",
      "attr_name = title, char : r, 114, 25\n",
      "attr_name = title, char :  , 32, 26\n",
      "attr_name = title, char : d, 100, 27\n",
      "attr_name = title, char : u, 117, 28\n",
      "attr_name = title, char :  , 32, 29\n",
      "attr_name = title, char : p, 112, 30\n",
      "attr_name = title, char : a, 97, 31\n",
      "attr_name = title, char : s, 115, 32\n",
      "attr_name = title, char : s, 115, 33\n",
      "attr_name = title, char : é, 233, 34\n",
      "attr_name = title, char :  , 32, 35\n",
      "attr_name = title, char : s, 115, 36\n",
      "attr_name = title, char : i, 105, 37\n",
      "attr_name = title, char : m, 109, 38\n",
      "attr_name = title, char : p, 112, 39\n",
      "attr_name = title, char : l, 108, 40\n",
      "attr_name = title, char : e, 101, 41\n",
      "attr_name = title, char :  , 32, 42\n",
      "attr_name = title, char : d, 100, 43\n",
      "attr_name = title, char : e, 101, 44\n",
      "attr_name = title, char :  , 32, 45\n",
      "attr_name = title, char : d, 100, 46\n",
      "attr_name = title, char : a, 97, 47\n",
      "attr_name = title, char : r, 114, 48\n",
      "attr_name = title, char :  , 32, 49\n",
      "attr_name = title, char : :, 58, 50\n",
      "attr_name = title, char :  , 32, 51\n",
      "attr_name = title, char : d, 100, 52\n",
      "attr_name = title, char : i, 105, 53\n",
      "attr_name = title, char : o, 111, 54\n",
      "attr_name = title, char :  , 32, 55\n",
      "attr_name = title, char : e, 101, 56\n",
      "attr_name = title, char : t, 116, 57\n",
      "attr_name = title, char :  , 32, 58\n",
      "attr_name = title, char : n, 110, 59\n",
      "attr_name = title, char : o, 111, 60\n",
      "attr_name = title, char : n, 110, 61\n",
      "attr_name = title, char :  , 32, 62\n",
      "attr_name = title, char : p, 112, 63\n",
      "attr_name = title, char : a, 97, 64\n",
      "attr_name = title, char : s, 115, 65\n",
      "attr_name = title, char :  , 32, 66\n",
      "attr_name = title, char : d, 100, 67\n",
      "attr_name = title, char : i, 105, 68\n",
      "attr_name = title, char : ., 46, 69\n",
      "attr_name : class, attr_value : V\n",
      "---- in convert_to_html_escape, returning V\n",
      "---- escaped_attr_value : V\n",
      "attr_name = class, char : V, 86, 0\n",
      "attr_name : title, attr_value : 3ème personne du pluriel du présent du verbe tomar.\n",
      "---- in convert_to_html_escape, returning 3ème personne du pluriel du présent du verbe tomar.\n",
      "---- escaped_attr_value : 3ème personne du pluriel du présent du verbe tomar.\n",
      "attr_name = title, char : 3, 51, 0\n",
      "attr_name = title, char : è, 232, 1\n",
      "attr_name = title, char : m, 109, 2\n",
      "attr_name = title, char : e, 101, 3\n",
      "attr_name = title, char :  , 32, 4\n",
      "attr_name = title, char : p, 112, 5\n",
      "attr_name = title, char : e, 101, 6\n",
      "attr_name = title, char : r, 114, 7\n",
      "attr_name = title, char : s, 115, 8\n",
      "attr_name = title, char : o, 111, 9\n",
      "attr_name = title, char : n, 110, 10\n",
      "attr_name = title, char : n, 110, 11\n",
      "attr_name = title, char : e, 101, 12\n",
      "attr_name = title, char :  , 32, 13\n",
      "attr_name = title, char : d, 100, 14\n",
      "attr_name = title, char : u, 117, 15\n",
      "attr_name = title, char :  , 32, 16\n",
      "attr_name = title, char : p, 112, 17\n",
      "attr_name = title, char : l, 108, 18\n",
      "attr_name = title, char : u, 117, 19\n",
      "attr_name = title, char : r, 114, 20\n",
      "attr_name = title, char : i, 105, 21\n",
      "attr_name = title, char : e, 101, 22\n",
      "attr_name = title, char : l, 108, 23\n",
      "attr_name = title, char :  , 32, 24\n",
      "attr_name = title, char : d, 100, 25\n",
      "attr_name = title, char : u, 117, 26\n",
      "attr_name = title, char :  , 32, 27\n",
      "attr_name = title, char : p, 112, 28\n",
      "attr_name = title, char : r, 114, 29\n",
      "attr_name = title, char : é, 233, 30\n",
      "attr_name = title, char : s, 115, 31\n",
      "attr_name = title, char : e, 101, 32\n",
      "attr_name = title, char : n, 110, 33\n",
      "attr_name = title, char : t, 116, 34\n",
      "attr_name = title, char :  , 32, 35\n",
      "attr_name = title, char : d, 100, 36\n",
      "attr_name = title, char : u, 117, 37\n",
      "attr_name = title, char :  , 32, 38\n",
      "attr_name = title, char : v, 118, 39\n",
      "attr_name = title, char : e, 101, 40\n",
      "attr_name = title, char : r, 114, 41\n",
      "attr_name = title, char : b, 98, 42\n",
      "attr_name = title, char : e, 101, 43\n",
      "attr_name = title, char :  , 32, 44\n",
      "attr_name = title, char : t, 116, 45\n",
      "attr_name = title, char : o, 111, 46\n",
      "attr_name = title, char : m, 109, 47\n",
      "attr_name = title, char : a, 97, 48\n",
      "attr_name = title, char : r, 114, 49\n",
      "attr_name = title, char : ., 46, 50\n",
      "attr_name : class, attr_value : G\n",
      "---- in convert_to_html_escape, returning G\n",
      "---- escaped_attr_value : G\n",
      "attr_name = class, char : G, 71, 0\n",
      "attr_name : title, attr_value : cacao est complément d'objet indirect donc=\"le\" et non pas \"lo\"\n",
      "---- in convert_to_html_escape, returning cacao est complément d'objet indirect donc=\"le\" et non pas \"lo\"\n",
      "---- escaped_attr_value : cacao est complément d&#039;objet indirect donc=&#034;le&#034; et non pas &#034;lo&#034;\n",
      "attr_name = title, char : c, 99, 0\n",
      "attr_name = title, char : a, 97, 1\n",
      "attr_name = title, char : c, 99, 2\n",
      "attr_name = title, char : a, 97, 3\n",
      "attr_name = title, char : o, 111, 4\n",
      "attr_name = title, char :  , 32, 5\n",
      "attr_name = title, char : e, 101, 6\n",
      "attr_name = title, char : s, 115, 7\n",
      "attr_name = title, char : t, 116, 8\n",
      "attr_name = title, char :  , 32, 9\n",
      "attr_name = title, char : c, 99, 10\n",
      "attr_name = title, char : o, 111, 11\n",
      "attr_name = title, char : m, 109, 12\n",
      "attr_name = title, char : p, 112, 13\n",
      "attr_name = title, char : l, 108, 14\n",
      "attr_name = title, char : é, 233, 15\n",
      "attr_name = title, char : m, 109, 16\n",
      "attr_name = title, char : e, 101, 17\n",
      "attr_name = title, char : n, 110, 18\n",
      "attr_name = title, char : t, 116, 19\n",
      "attr_name = title, char :  , 32, 20\n",
      "attr_name = title, char : d, 100, 21\n",
      "attr_name = title, char : ', 39, 22\n",
      "attr_name = title, char : o, 111, 23\n",
      "attr_name = title, char : b, 98, 24\n",
      "attr_name = title, char : j, 106, 25\n",
      "attr_name = title, char : e, 101, 26\n",
      "attr_name = title, char : t, 116, 27\n",
      "attr_name = title, char :  , 32, 28\n",
      "attr_name = title, char : i, 105, 29\n",
      "attr_name = title, char : n, 110, 30\n",
      "attr_name = title, char : d, 100, 31\n",
      "attr_name = title, char : i, 105, 32\n",
      "attr_name = title, char : r, 114, 33\n",
      "attr_name = title, char : e, 101, 34\n",
      "attr_name = title, char : c, 99, 35\n",
      "attr_name = title, char : t, 116, 36\n",
      "attr_name = title, char :  , 32, 37\n",
      "attr_name = title, char : d, 100, 38\n",
      "attr_name = title, char : o, 111, 39\n",
      "attr_name = title, char : n, 110, 40\n",
      "attr_name = title, char : c, 99, 41\n",
      "attr_name = title, char : =, 61, 42\n",
      "attr_name = title, char : \", 34, 43\n",
      "attr_name = title, char : l, 108, 44\n",
      "attr_name = title, char : e, 101, 45\n",
      "attr_name = title, char : \", 34, 46\n",
      "attr_name = title, char :  , 32, 47\n",
      "attr_name = title, char : e, 101, 48\n",
      "attr_name = title, char : t, 116, 49\n",
      "attr_name = title, char :  , 32, 50\n",
      "attr_name = title, char : n, 110, 51\n",
      "attr_name = title, char : o, 111, 52\n",
      "attr_name = title, char : n, 110, 53\n",
      "attr_name = title, char :  , 32, 54\n",
      "attr_name = title, char : p, 112, 55\n",
      "attr_name = title, char : a, 97, 56\n",
      "attr_name = title, char : s, 115, 57\n",
      "attr_name = title, char :  , 32, 58\n",
      "attr_name = title, char : \", 34, 59\n",
      "attr_name = title, char : l, 108, 60\n",
      "attr_name = title, char : o, 111, 61\n",
      "attr_name = title, char : \", 34, 62\n",
      "attr_name : class, attr_value : G\n",
      "---- in convert_to_html_escape, returning G\n",
      "---- escaped_attr_value : G\n",
      "attr_name = class, char : G, 71, 0\n",
      "attr_name : title, attr_value : cacao est complément d'objet indirect donc=\"le\" et non pas \"lo\"\n",
      "---- in convert_to_html_escape, returning cacao est complément d'objet indirect donc=\"le\" et non pas \"lo\"\n",
      "---- escaped_attr_value : cacao est complément d&#039;objet indirect donc=&#034;le&#034; et non pas &#034;lo&#034;\n",
      "attr_name = title, char : c, 99, 0\n",
      "attr_name = title, char : a, 97, 1\n",
      "attr_name = title, char : c, 99, 2\n",
      "attr_name = title, char : a, 97, 3\n",
      "attr_name = title, char : o, 111, 4\n",
      "attr_name = title, char :  , 32, 5\n",
      "attr_name = title, char : e, 101, 6\n",
      "attr_name = title, char : s, 115, 7\n",
      "attr_name = title, char : t, 116, 8\n",
      "attr_name = title, char :  , 32, 9\n",
      "attr_name = title, char : c, 99, 10\n",
      "attr_name = title, char : o, 111, 11\n",
      "attr_name = title, char : m, 109, 12\n",
      "attr_name = title, char : p, 112, 13\n",
      "attr_name = title, char : l, 108, 14\n",
      "attr_name = title, char : é, 233, 15\n",
      "attr_name = title, char : m, 109, 16\n",
      "attr_name = title, char : e, 101, 17\n",
      "attr_name = title, char : n, 110, 18\n",
      "attr_name = title, char : t, 116, 19\n",
      "attr_name = title, char :  , 32, 20\n",
      "attr_name = title, char : d, 100, 21\n",
      "attr_name = title, char : ', 39, 22\n",
      "attr_name = title, char : o, 111, 23\n",
      "attr_name = title, char : b, 98, 24\n",
      "attr_name = title, char : j, 106, 25\n",
      "attr_name = title, char : e, 101, 26\n",
      "attr_name = title, char : t, 116, 27\n",
      "attr_name = title, char :  , 32, 28\n",
      "attr_name = title, char : i, 105, 29\n",
      "attr_name = title, char : n, 110, 30\n",
      "attr_name = title, char : d, 100, 31\n",
      "attr_name = title, char : i, 105, 32\n",
      "attr_name = title, char : r, 114, 33\n",
      "attr_name = title, char : e, 101, 34\n",
      "attr_name = title, char : c, 99, 35\n",
      "attr_name = title, char : t, 116, 36\n",
      "attr_name = title, char :  , 32, 37\n",
      "attr_name = title, char : d, 100, 38\n",
      "attr_name = title, char : o, 111, 39\n",
      "attr_name = title, char : n, 110, 40\n",
      "attr_name = title, char : c, 99, 41\n",
      "attr_name = title, char : =, 61, 42\n",
      "attr_name = title, char : \", 34, 43\n",
      "attr_name = title, char : l, 108, 44\n",
      "attr_name = title, char : e, 101, 45\n",
      "attr_name = title, char : \", 34, 46\n",
      "attr_name = title, char :  , 32, 47\n",
      "attr_name = title, char : e, 101, 48\n",
      "attr_name = title, char : t, 116, 49\n",
      "attr_name = title, char :  , 32, 50\n",
      "attr_name = title, char : n, 110, 51\n",
      "attr_name = title, char : o, 111, 52\n",
      "attr_name = title, char : n, 110, 53\n",
      "attr_name = title, char :  , 32, 54\n",
      "attr_name = title, char : p, 112, 55\n",
      "attr_name = title, char : a, 97, 56\n",
      "attr_name = title, char : s, 115, 57\n",
      "attr_name = title, char :  , 32, 58\n",
      "attr_name = title, char : \", 34, 59\n",
      "attr_name = title, char : l, 108, 60\n",
      "attr_name = title, char : o, 111, 61\n",
      "attr_name = title, char : \", 34, 62\n",
      "attr_name : class, attr_value : O\n",
      "---- in convert_to_html_escape, returning O\n",
      "---- escaped_attr_value : O\n",
      "attr_name = class, char : O, 79, 0\n",
      "attr_name : class, attr_value : O\n",
      "---- in convert_to_html_escape, returning O\n",
      "---- escaped_attr_value : O\n",
      "attr_name = class, char : O, 79, 0\n",
      "attr_name : title, attr_value : Meriendas est féminin, donc nuestras et non pas nuestros.\n",
      "---- in convert_to_html_escape, returning Meriendas est féminin, donc nuestras et non pas nuestros.\n",
      "---- escaped_attr_value : Meriendas est féminin, donc nuestras et non pas nuestros.\n",
      "attr_name = title, char : M, 77, 0\n",
      "attr_name = title, char : e, 101, 1\n",
      "attr_name = title, char : r, 114, 2\n",
      "attr_name = title, char : i, 105, 3\n",
      "attr_name = title, char : e, 101, 4\n",
      "attr_name = title, char : n, 110, 5\n",
      "attr_name = title, char : d, 100, 6\n",
      "attr_name = title, char : a, 97, 7\n",
      "attr_name = title, char : s, 115, 8\n",
      "attr_name = title, char :  , 32, 9\n",
      "attr_name = title, char : e, 101, 10\n",
      "attr_name = title, char : s, 115, 11\n",
      "attr_name = title, char : t, 116, 12\n",
      "attr_name = title, char :  , 32, 13\n",
      "attr_name = title, char : f, 102, 14\n",
      "attr_name = title, char : é, 233, 15\n",
      "attr_name = title, char : m, 109, 16\n",
      "attr_name = title, char : i, 105, 17\n",
      "attr_name = title, char : n, 110, 18\n",
      "attr_name = title, char : i, 105, 19\n",
      "attr_name = title, char : n, 110, 20\n",
      "attr_name = title, char : ,, 44, 21\n",
      "attr_name = title, char :  , 32, 22\n",
      "attr_name = title, char : d, 100, 23\n",
      "attr_name = title, char : o, 111, 24\n",
      "attr_name = title, char : n, 110, 25\n",
      "attr_name = title, char : c, 99, 26\n",
      "attr_name = title, char :  , 32, 27\n",
      "attr_name = title, char : n, 110, 28\n",
      "attr_name = title, char : u, 117, 29\n",
      "attr_name = title, char : e, 101, 30\n",
      "attr_name = title, char : s, 115, 31\n",
      "attr_name = title, char : t, 116, 32\n",
      "attr_name = title, char : r, 114, 33\n",
      "attr_name = title, char : a, 97, 34\n",
      "attr_name = title, char : s, 115, 35\n",
      "attr_name = title, char :  , 32, 36\n",
      "attr_name = title, char : e, 101, 37\n",
      "attr_name = title, char : t, 116, 38\n",
      "attr_name = title, char :  , 32, 39\n",
      "attr_name = title, char : n, 110, 40\n",
      "attr_name = title, char : o, 111, 41\n",
      "attr_name = title, char : n, 110, 42\n",
      "attr_name = title, char :  , 32, 43\n",
      "attr_name = title, char : p, 112, 44\n",
      "attr_name = title, char : a, 97, 45\n",
      "attr_name = title, char : s, 115, 46\n",
      "attr_name = title, char :  , 32, 47\n",
      "attr_name = title, char : n, 110, 48\n",
      "attr_name = title, char : u, 117, 49\n",
      "attr_name = title, char : e, 101, 50\n",
      "attr_name = title, char : s, 115, 51\n",
      "attr_name = title, char : t, 116, 52\n",
      "attr_name = title, char : r, 114, 53\n",
      "attr_name = title, char : o, 111, 54\n",
      "attr_name = title, char : s, 115, 55\n",
      "attr_name = title, char : ., 46, 56\n"
     ]
    }
   ],
   "source": [
    "marked_lines_numbers, sentences = extract_selection(html_with_selection)"
   ]
  },
  {
   "cell_type": "code",
   "execution_count": 50,
   "id": "502f92d5-7a28-4460-831f-e1635f3fd23c",
   "metadata": {},
   "outputs": [
    {
     "data": {
      "text/plain": [
       "{5: True, 9: True, 10: True, 11: True, 12: True}"
      ]
     },
     "execution_count": 50,
     "metadata": {},
     "output_type": "execute_result"
    }
   ],
   "source": [
    "marked_lines_numbers"
   ]
  },
  {
   "cell_type": "code",
   "execution_count": 51,
   "id": "f57f2431-c403-4d25-aa1d-0308f8d411dc",
   "metadata": {},
   "outputs": [
    {
     "data": {
      "text/plain": [
       "['N52-Lec<b>ción</b> cin<b>cuen</b>ta y dos',\n",
       " 'S00-TITLE-La co<b>ci</b>na mexi<b>ca</b>na',\n",
       " 'S01-No me has <b>di</b>cho <b>na</b>da de la co<b>ci</b>na mexi<b>ca</b>na',\n",
       " 'S02-¿O a lo me<b>jor</b> no te atre<b>vis</b>te a pro<b>bar</b>la?',\n",
       " 'S03-¡Por su<b>pues</b>to que la pro<b>bé</b>! Me gus<b>tó</b> <b>so</b>bre <b>to</b>do el <b>mo</b>le es <b>u</b>na <b>sal</b>sa de ca<b>ca</b>o y guin<b>di</b>llas.',\n",
       " \"S04-¿Choco<b>la</b>te pi<b>can</b>te? ¿No te <mark class='V' title='3ème personne du singulier du passé simple de dar : dio et non pas di.'>dio</mark> <b>as</b>co?\",\n",
       " 'S05-¡Qué va! ¡Es<b>tá</b> muy <b>ri</b>co! Lo a<b>mar</b>go va muy bien con lo pi<b>can</b>te.',\n",
       " 'S06-Los <b>pue</b>blos precolom<b>bi</b>nos ha<b>cí</b>an <b>u</b>na be<b>bi</b>da <b>ro</b>ja con el ca<b>ca</b>o.',\n",
       " 'S07-¡Por <b>e</b>so los conquista<b>do</b>res cre<b>ye</b>ron que be<b>bí</b>an <b>san</b>gre!',\n",
       " \"S08-¿<b>Pe</b>ro <b>nun</b>ca lo <mark class='V' title='3ème personne du pluriel du présent du verbe tomar.'><b>to</b>man</mark> <b></b><b>dul</b>ce?\",\n",
       " \"S09-Sí, <b>cla</b>ro, hoy en <b>dí</b>a tam<b>bién</b> <mark class='G' title='cacao est complément d&#039;objet indirect donc=&#034;le&#034; et non pas &#034;lo&#034;'>le</mark> <b>e</b>chan a<b>zú</b>car,\",\n",
       " \"S10-<b>pe</b>ro en la tradi<b>ción</b> in<b>dí</b>gena no se <mark class='G' title='cacao est complément d&#039;objet indirect donc=&#034;le&#034; et non pas &#034;lo&#034;'>le</mark> a<b>ña</b>de <b>le</b>che, <b>so</b>lo <b>a</b>gua.\",\n",
       " \"S11-<b></b><mark class='O'><b></b><mark class='O' title='Meriendas est féminin, donc nuestras et non pas nuestros.'><b>Nues</b>tras</mark></mark> me<b>rien</b>das sí que las e<b>cha</b>ba de <b>me</b>nos un buen choco<b>la</b>te con <b>chu</b>rros. . .\",\n",
       " 'S12-<b>E</b>so, <b>pa</b>ra meren<b>dar</b>, ¡<b>na</b>da <b>co</b>mo Es<b>pa</b>ña!',\n",
       " 'T00-TRANSLATE-Ejer<b>ci</b>cio 1 – Tra<b>duz</b>ca',\n",
       " 'T01-No me has <b>di</b>cho si te gus<b>tó</b> la <b>sal</b>sa de ca<b>ca</b>o y guin<b>di</b>llas.',\n",
       " 'T02-¿Te atre<b>vis</b>te a to<b>mar</b> choco<b>la</b>te a<b>mar</b>go, pi<b>can</b>te y sin a<b>zú</b>car?',\n",
       " 'T03-¡Qué va! Me dio <b>as</b>co y no lo pro<b>bé</b>.',\n",
       " 'T04-Pues a lo me<b>jor</b> es<b>tá</b> muy <b>ri</b>co, <b>pe</b>ro pre<b>fie</b>ro un choco<b>la</b>te con <b>chu</b>rros.',\n",
       " 'T05-<b>E</b>cho de <b>me</b>nos la co<b>ci</b>na mexi<b>ca</b>na.']"
      ]
     },
     "execution_count": 51,
     "metadata": {},
     "output_type": "execute_result"
    }
   ],
   "source": [
    "sentences"
   ]
  },
  {
   "cell_type": "code",
   "execution_count": 52,
   "id": "ad7c76d0-2323-4026-aab1-13b32fdd53dc",
   "metadata": {},
   "outputs": [
    {
     "name": "stdout",
     "output_type": "stream",
     "text": [
      "0 N52-Lec<b>ción</b> cin<b>cuen</b>ta y dos\n",
      "1 S00-TITLE-La co<b>ci</b>na mexi<b>ca</b>na\n",
      "2 S01-No me has <b>di</b>cho <b>na</b>da de la co<b>ci</b>na mexi<b>ca</b>na\n",
      "3 S02-¿O a lo me<b>jor</b> no te atre<b>vis</b>te a pro<b>bar</b>la?\n",
      "4 S03-¡Por su<b>pues</b>to que la pro<b>bé</b>! Me gus<b>tó</b> <b>so</b>bre <b>to</b>do el <b>mo</b>le es <b>u</b>na <b>sal</b>sa de ca<b>ca</b>o y guin<b>di</b>llas.\n",
      "5 S04-¿Choco<b>la</b>te pi<b>can</b>te? ¿No te <mark class='V' title='3ème personne du singulier du passé simple de dar : dio et non pas di.'>dio</mark> <b>as</b>co?\n",
      "6 S05-¡Qué va! ¡Es<b>tá</b> muy <b>ri</b>co! Lo a<b>mar</b>go va muy bien con lo pi<b>can</b>te.\n",
      "7 S06-Los <b>pue</b>blos precolom<b>bi</b>nos ha<b>cí</b>an <b>u</b>na be<b>bi</b>da <b>ro</b>ja con el ca<b>ca</b>o.\n",
      "8 S07-¡Por <b>e</b>so los conquista<b>do</b>res cre<b>ye</b>ron que be<b>bí</b>an <b>san</b>gre!\n",
      "9 S08-¿<b>Pe</b>ro <b>nun</b>ca lo <mark class='V' title='3ème personne du pluriel du présent du verbe tomar.'><b>to</b>man</mark> <b></b><b>dul</b>ce?\n",
      "10 S09-Sí, <b>cla</b>ro, hoy en <b>dí</b>a tam<b>bién</b> <mark class='G' title='cacao est complément d&#039;objet indirect donc=&#034;le&#034; et non pas &#034;lo&#034;'>le</mark> <b>e</b>chan a<b>zú</b>car,\n",
      "11 S10-<b>pe</b>ro en la tradi<b>ción</b> in<b>dí</b>gena no se <mark class='G' title='cacao est complément d&#039;objet indirect donc=&#034;le&#034; et non pas &#034;lo&#034;'>le</mark> a<b>ña</b>de <b>le</b>che, <b>so</b>lo <b>a</b>gua.\n",
      "12 S11-<b></b><mark class='O'><b></b><mark class='O' title='Meriendas est féminin, donc nuestras et non pas nuestros.'><b>Nues</b>tras</mark></mark> me<b>rien</b>das sí que las e<b>cha</b>ba de <b>me</b>nos un buen choco<b>la</b>te con <b>chu</b>rros. . .\n",
      "13 S12-<b>E</b>so, <b>pa</b>ra meren<b>dar</b>, ¡<b>na</b>da <b>co</b>mo Es<b>pa</b>ña!\n",
      "14 T00-TRANSLATE-Ejer<b>ci</b>cio 1 – Tra<b>duz</b>ca\n",
      "15 T01-No me has <b>di</b>cho si te gus<b>tó</b> la <b>sal</b>sa de ca<b>ca</b>o y guin<b>di</b>llas.\n",
      "16 T02-¿Te atre<b>vis</b>te a to<b>mar</b> choco<b>la</b>te a<b>mar</b>go, pi<b>can</b>te y sin a<b>zú</b>car?\n",
      "17 T03-¡Qué va! Me dio <b>as</b>co y no lo pro<b>bé</b>.\n",
      "18 T04-Pues a lo me<b>jor</b> es<b>tá</b> muy <b>ri</b>co, <b>pe</b>ro pre<b>fie</b>ro un choco<b>la</b>te con <b>chu</b>rros.\n",
      "19 T05-<b>E</b>cho de <b>me</b>nos la co<b>ci</b>na mexi<b>ca</b>na.\n"
     ]
    }
   ],
   "source": [
    "for index, sentence in enumerate(sentences):\n",
    "    print(index, sentence)"
   ]
  },
  {
   "cell_type": "code",
   "execution_count": 15,
   "id": "a74114ba-a672-4f91-acd1-56f56245106b",
   "metadata": {},
   "outputs": [
    {
     "name": "stdout",
     "output_type": "stream",
     "text": [
      "2024-09-12 18:15:40,450 INFO sqlalchemy.engine.Engine BEGIN (implicit)\n",
      "2024-09-12 18:15:40,453 INFO sqlalchemy.engine.Engine SELECT marked_sentences.id, marked_sentences.sentence, marked_sentences.comment, marked_sentences.line, marked_sentences.session_id \n",
      "FROM marked_sentences\n",
      "2024-09-12 18:15:40,454 INFO sqlalchemy.engine.Engine [cached since 538.1s ago] ()\n",
      "Sentence(id=1, line=2, sentence =\"S01-Fe<b>li</b>pe, <b>gua</b>po, <b>da</b>me diez <b>lon</b>chas de <mark class='A'>ja<b>món</b></mark><b></b> de york, por fa<b>vor</b>.\", comment=None)\n",
      "Sentence(id=2, line=5, sentence =\"S04-Y <mark class='E'>yo</mark> se la di a <b>es</b>ta se<b>ño</b>ra.\", comment=None)\n",
      "Sentence(id=3, line=6, sentence =\"S05-O <b>se</b>a, que a<b>ho</b>ra me <b>to</b>ca a mí, y us<b>ted</b> ¡a ha<b>cer</b> <b>co</b>la i<b>gual</b> que <mark class='O'>los</mark> de<b>más</b>!\", comment=None)\n",
      "Sentence(id=4, line=10, sentence =\"S09-<b></b><mark class='E'><b>Ven</b>ga</mark>, <b>pa</b>se, <b>pe</b>ro que <b>se</b>a <b>rá</b>pido.\", comment=None)\n",
      "Sentence(id=5, line=15, sentence =\"T01-Te <mark class='E'>pe<b>dí</b></mark><b></b> diez <b>lon</b>chas de ja<b>món</b> de York y <b>me</b>dio <b>ki</b>lo de <b>car</b>ne pi<b>ca</b>da.\", comment=None)\n",
      "Sentence(id=6, line=19, sentence =\"T05-Me <b></b><mark class='G'><b>ha</b>cen</mark> <b>fal</b>ta <b>cua</b>tro <b>mus</b>los de <b>po</b>llo y dos pe<b>chu</b>gas.\", comment=None)\n",
      "Sentence(id=7, line=7, sentence =\"S06-¡En <b>to</b>das <b>par</b>tes! Pri<b>me</b>ro en <mark class='O'>el</mark> Ca<b>ri</b>be.\", comment=None)\n",
      "Sentence(id=8, line=20, sentence =\"T03-Via<b>ja</b>mos por <b>to</b>do el pa<b>ís</b> y <b></b><mark class='V'><b>fui</b>mos</mark> a <b>to</b>das <b>par</b>tes.\", comment=None)\n",
      "Sentence(id=9, line=21, sentence =\"T04-No me gus<b>tó</b> Ciu<b>dad</b> de <b>Mé</b>xico, <b>pe</b>ro la <b>gen</b>te <mark class='V'>me pare<b>ció</b></mark><b></b> encanta<b>do</b>ra.\", comment=None)\n",
      "Sentence(id=15, line=1, sentence =\"S00-TITLE-¡<mark class='O' title='      '>Bienve<b>ni</b>da</mark>!\", comment=None)\n",
      "Sentence(id=16, line=5, sentence =\"S04-No, no soy madri<b>le</b>ña. Soy <mark class='O' title='andaluza avec z'>anda<b>lu</b>za</mark>, de Se<b>vi</b>lla.\", comment=None)\n",
      "Sentence(id=17, line=6, sentence =\"S05-¡Pues <mark class='O' title='bienvenida et non pas benvenida.'>bienve<b>ni</b>da</mark> a Ma<b>drid</b>, mo<b>re</b>na!\", comment=None)\n",
      "Sentence(id=18, line=5, sentence =\"S04-¿Choco<b>la</b>te pi<b>can</b>te? ¿No te <mark class='V' title='3ème personne du singulier du passé simple de dar : dio et non pas di.'>dio</mark> <b>as</b>co?\", comment=None)\n",
      "Sentence(id=19, line=9, sentence =\"S08-¿<b>Pe</b>ro <b>nun</b>ca lo <mark class='V' title='3ème personne du pluriel du présent du verbe tomar.'><b>to</b>man</mark> <b></b><b>dul</b>ce?\", comment=None)\n",
      "Sentence(id=20, line=10, sentence =\"S09-Sí, <b>cla</b>ro, hoy en <b>dí</b>a tam<b>bién</b> <mark class='G' title='cacao est complément d&#039;objet indirect donc=&#034;le&#034; et non pas &#034;lo&#034;'>le</mark> <b>e</b>chan a<b>zú</b>car,\", comment=None)\n",
      "Sentence(id=21, line=11, sentence =\"S10-<b>pe</b>ro en la tradi<b>ción</b> in<b>dí</b>gena no se <mark class='G' title='cacao est complément d&#039;objet indirect donc=&#034;le&#034; et non pas &#034;lo&#034;'>le</mark> a<b>ña</b>de <b>le</b>che, <b>so</b>lo <b>a</b>gua.\", comment=None)\n",
      "Sentence(id=22, line=12, sentence =\"S11-<b></b><mark class='O'><b></b><mark class='O' title='Meriendas est féminin, donc nuestras et non pas nuestros.'><b>Nues</b>tras</mark></mark> me<b>rien</b>das sí que las e<b>cha</b>ba de <b>me</b>nos un buen choco<b>la</b>te con <b>chu</b>rros. . .\", comment=None)\n",
      "Sentence(id=23, line=2, sentence =\"S01-Cris<b>tó</b>bal Co<b>l<mark class='A' title='      '>ó</mark>n</b> sa<b>bí</b>a que la <b>Tie</b>rra <b>e</b>ra re<b>don</b>da y <b>qui</b>so alcan<b>zar</b> las <b>In</b>dias <b>yen</b>do <b>siem</b>pre <b></b><mark class='O' title='hacia et non pas hasta'><b>ha</b>cia</mark> el o<b>es</b>te.\", comment=None)\n",
      "Sentence(id=24, line=8, sentence =\"S07-y <mark class='V' title='Passé simple irrégulier de traer au passé simple dont le radical devient traj'>tra<b>je</b>ron</mark> <b></b><mark class='G'><b></b><mark class='G' title='Au pluriel'><b>o</b>tros <b>tan</b>tos</mark></mark> a Eu<b>ro</b>pa.\", comment=None)\n",
      "Sentence(id=25, line=11, sentence =\"S10-<b>nues</b>tros <b>pos</b>tres sin vai<b>ni</b>lla o los <b>Pie</b>les <b></b><mark class='O' title='Terminaison en a de Roja'><b>Ro</b>jas</mark> sin ca<b>ba</b>llos?\", comment=None)\n",
      "Sentence(id=26, line=12, sentence =\"S11-Un <b>nue</b>vo <b>mun</b>do <mark class='V' title='nació\\xa0et non pas naci'>na<b>ció</b></mark><b></b> el 12 de oc<b>tu</b>bre de 1492 mil cuatro<b>cien</b>tos no<b>ven</b>ta y dos.\", comment=None)\n",
      "Sentence(id=27, line=2, sentence =\"S01-¡<mark class='E' title='&#034;Ya&#034; está au lieu de &#034;Ya&#034;'>Ya</mark> <b></b><mark class='O' title='&#034;fue&#034; au lieu de &#034;hice&#034;'><b>hi</b>ce</mark> la entre<b>vis</b>ta!\", comment=None)\n",
      "Sentence(id=28, line=15, sentence =\"S14-Por Dios ¿Y qué <mark class='V' title='3ème du singulier du assé simple de pasar.'>pa<b>só</b></mark><b></b>?\", comment=None)\n",
      "Sentence(id=29, line=17, sentence =\"S16-Te lo <b></b><mark class='V' title='&#034;digo&#034; et non pas &#034;dicho&#034;'><b>di</b>go</mark> el <b>pues</b>to es <b>mí</b>o.\", comment=None)\n",
      "Sentence(id=30, line=19, sentence =\"T01-He te<b>ni</b>do <b>suer</b>te, la entre<b>vis</b>ta <mark class='E' title='&#034;me fue&#034; et non pas &#034;se pasó&#034;'>me fue</mark> muy bien y he conse<b>gui</b>do el <b>pues</b>to.\", comment=None)\n",
      "Sentence(id=31, line=3, sentence =\"S02-<mark class='G' title='Cazadora est féminin, donc le pronom est &#034;la&#034;'>La</mark> com<b>pré</b> a<b>yer</b> en el <b>Ras</b>tro, no <b>pu</b>de resis<b>tir</b>me.\", comment=None)\n",
      "Sentence(id=32, line=4, sentence =\"S03-<b>Tu</b>ve que regate<b>ar</b> un buen <b>ra</b>to, el <b>tí</b>o no <mark class='V' title='Querer à l&#039;imparfait et non pas au passé simple.'>que<b>rí</b>a</mark> ba<b>jar</b> el <b>pre</b>cio.\", comment=None)\n",
      "Sentence(id=33, line=6, sentence =\"S05-que no <b>i</b>ba a encon<b>trar</b> <b></b><mark class='G' title='Cazadora féminin, donc &#034;otra&#034; et non pas &#034;otro&#034;'><b>o</b>tra</mark> i<b>gual</b>.\", comment=None)\n",
      "Sentence(id=34, line=7, sentence =\"S06-Le pa<b>gué</b> la mi<b>tad</b> de lo que <mark class='O' title='&#034;pedir&#034; et non pas &#034;preguntar&#034;. De plus à l&#039;imparfait et non pas au passé simple.'>pe<b>dí</b>a</mark> al prin<b>ci</b>pio, <mark class='O' title='&#034;doscientos&#034; en un seul mot.'>dos<b>cien</b>tos</mark> <b>eu</b>ros. ¡<b>U</b>na <b>gan</b>ga!\", comment=None)\n",
      "Sentence(id=35, line=13, sentence =\"S12-No <b>pe</b>sa <b>mu</b>cho, pa<b>re</b>ce <b>fal</b>sa. . . ¿<mark class='E' title='&#034;De verdad&#034; placé avant crees pour insister dessus.'>De ver<b>dad</b></mark><b></b> <b>cre</b>es que es de <b>cue</b>ro?\", comment=None)\n",
      "Sentence(id=36, line=15, sentence =\"S14-A<b>mi</b>go <b>mí</b>o, me pa<b>re</b>ce que te han <b>da</b>do <b>ga</b>to por <b></b><mark class='O' title='&#034;liebre&#034; et non pas &#034;liebro&#034;'><b>lie</b>bre</mark>\", comment=None)\n",
      "Sentence(id=37, line=18, sentence =\"T02-<b></b><mark class='O' title='&#034;Trater&#034; et non pas &#034;probar&#034;'><b>Tra</b>té</mark> de regate<b>ar</b>, <b>pe</b>ro el <b>tí</b>o no <b>qui</b>so ba<b>jar</b> el <b>pre</b>cio.\", comment=None)\n",
      "Sentence(id=38, line=19, sentence =\"T03-<b>Tu</b>ve que pa<b>gar</b> lo que <mark class='V' title='Imparfait et non pas passé simple.'>pe<b>dí</b>a</mark> al prin<b>ci</b>pio.\", comment=None)\n",
      "Sentence(id=39, line=3, sentence =\"S02-Es<b>toy</b> conven<b>ci</b>do de que sí. Pa<b>sé</b> la entre<b>vis</b>ta a<b>yer</b> y <b>cre</b>o que <b>su</b>pe contes<b>tar</b> a <b>to</b>do lo que me <mark class='V' title='Passé simple 3ème personne des verbes en -ar : terminaison -aron'>pregun<b>ta</b>ron</mark>.\", comment=None)\n",
      "Sentence(id=40, line=4, sentence =\"S03-¡Enhora<b>bue</b>na! <b>Pe</b>ro, <b>di</b>me, ¿qué <b>ti</b>po de pre<b>gun</b>tas te <mark class='V' title='Passé simple 3ème personne des verbes en -er et ir : terminaison -ieron'>hi<b>cie</b>ron</mark>? A <b>ve</b>ces hay <b>tram</b>pas en las entre<b>vis</b>tas, ¿<b>sa</b>bes?\", comment=None)\n",
      "Sentence(id=41, line=5, sentence =\"S04-¡<mark class='E' title='&#034;En absoluto&#034; convient aussi.'>Qué va!</mark> <b>Fue</b>ron la mar de a<b>ma</b>bles y edu<b>ca</b>dos.\", comment=None)\n",
      "Sentence(id=42, line=6, sentence =\"S05-Me di<b>je</b>ron que a lo me<b>jor</b> <b>i</b>ban a man<b>dar</b>me a traba<b>jar</b> a Ciu<b>dad</b> de <b>Mé</b>xico y qui<b>sier</b>on sa<b>ber</b> si ya <mark class='V' title='Imparfait &#034;había&#034; et non pas le passé simple'>ha<b>bí</b>a</mark> es<b>ta</b>do a<b>llí</b>.\", comment=None)\n",
      "Sentence(id=43, line=7, sentence =\"S06-Les contes<b>té</b> que por su<b>pues</b>to cono<b>cí</b>a Latinoa<b>mé</b>rica y nos <mark class='V' title='&#034;pusimos&#034;\\xa0passé simple de poner'>pu<b>si</b>mos</mark> a ha<b>blar</b> de la <b>vi</b>da en <b>Mé</b>xico.\", comment=None)\n",
      "Sentence(id=44, line=8, sentence =\"S07-Les con<b>té</b> que ha<b>bí</b>a es<b>ta</b>do en <b>to</b>das <b></b><mark class='V' title='&#034;partes&#034; et non pas &#034;partas&#034;'><b>par</b>tes</mark> y que <b>has</b>ta ha<b>bí</b>a rega<b>tea</b>do el <b>pre</b>cio de un jer<b>sey</b> muy <b>chu</b>lo en un mer<b>ca</b>do in<b>dí</b>gena.\", comment=None)\n",
      "Sentence(id=45, line=9, sentence =\"S08-¿Te atre<b>vis</b>te a <mark class='G' title='&#034;contarles&#034; et non pas &#034;les contar&#034;'>con<b>tar</b>les</mark> <b>e</b>so?\", comment=None)\n",
      "Sentence(id=46, line=10, sentence =\"S09-Sí, ¡les <b></b><mark class='V' title='&#034;hizo&#034; passé simple et non imparfait'><b>hi</b>zo</mark> <b>mu</b>cha <b>gra</b>cia!\", comment=None)\n",
      "Sentence(id=47, line=11, sentence =\"S10-¿Y les <mark class='V' title='&#034;dijiste&#034; passé simple et non imparfait'>di<b>jis</b>te</mark> tam<b>bién</b> que te ha<b>bí</b>a <b>da</b>do <b>as</b>co la co<b>ci</b>na mexi<b>ca</b>na, que no la ha<b>bí</b>as pro<b>ba</b>do y que e<b>cha</b>bas de <b>me</b>nos las me<b>rien</b>das <mark class='O' title='&#034;españolas&#034; acord au féminin'>espa<b>ño</b>las</mark>?\", comment=None)\n",
      "Sentence(id=48, line=12, sentence =\"S11-No, <b></b><mark class='E' title='Formule courrante'><b>e</b>so sí</mark> que no lo <b>di</b>je\", comment=None)\n",
      "Sentence(id=49, line=4, sentence =\"S03-Muy bien, <b>pe</b>ro ¡<b></b><mark class='A' title='      '><b>há</b>blame</mark> de tú, por fa<b>vor</b>!\", comment=None)\n",
      "Sentence(id=50, line=6, sentence =\"S05-<mark class='O' title='&#034;Encantada&#034; et non pas &#034;Encantadora&#034;'>Encan<b>ta</b>da</mark>. Me <b>lla</b>mo <b>Mon</b>tse. ¿<b>E</b>res de Barce<b>lo</b>na?\", comment=None)\n",
      "Sentence(id=51, line=2, sentence =\"S01-<mark class='O' title='&#034;Anoche&#034; et non pas &#034;anteanoche&#034; qui signifie avant hier soir'>A<b>no</b>che</mark> <b>tu</b>ve un <b>sue</b>ño ex<b>tra</b>ño. \", comment=None)\n",
      "Sentence(id=52, line=6, sentence ='S05-¿Por qué? ¿Tú no hay <b>dí</b>as en que es<b>tás</b> can<b>sa</b>do del <b></b><b>trá</b>fico, del <b>rui</b>do y de los a<b>tas</b>cos? ', comment=None)\n",
      "Sentence(id=53, line=8, sentence =\"S07-<mark class='E' title='&#034;quizás&#034;\\xa0et &#034;tal vez&#034; sont équivalents'>qui<b>zás</b></mark><b></b> <b>ha</b>ya <b>me</b>nos contamina<b>ción</b>, <b>pe</b>ro te a<b>bu</b>rres <b>co</b>mo <b>u</b>na <b>os</b>tra. \", comment=None)\n",
      "Sentence(id=54, line=9, sentence =\"S08-Mi cu<b>ña</b>do de<b>cí</b>a lo <b>mis</b>mo que tú. Se <mark class='V' title='&#034;fue&#034; au lieu de &#034;iba&#034;'>fue</mark> a vi<b>vir</b> al <b>pue</b>blo y al <b>ca</b>bo de seis <b>me</b>ses vol<b>vió</b>. \", comment=None)\n",
      "Sentence(id=55, line=11, sentence =\"S10-Pues, que yo <b>se</b>pa, <mark class='E' title='&#034;tú no te\\xa0pierdes\\xa0nunca&#034; au lieu &#034;tú\\xa0nunca te\\xa0pierdes&#034;'>tú no te <b>pier</b>des <b>nun</b>ca</mark> las <b>fies</b>tas de tu <b>pue</b>blo, ¿no? \", comment=None)\n",
      "Sentence(id=56, line=14, sentence =\"S13-Ah, por <b>cier</b>to <mark class='S' title='&#034;el&#034; au lieu de &#034;mi&#034;'>el</mark> <b>je</b>fe no me son<b>rió</b>. \", comment=None)\n",
      "Sentence(id=57, line=17, sentence =\"T02-Que yo <b>se</b>pa, <b>nun</b>ca te <mark class='V' title='&#034;has perdido&#034; au lieu &#034;perdies&#034;'>has per<b>di</b>do</mark> las <b>fies</b>tas de tu <b>pue</b>blo. \", comment=None)\n",
      "Sentence(id=58, line=7, sentence =\"S06-De<b>cí</b>an que <b>e</b>ra entrete<b>ni</b>do, y me ha pare<b>ci</b>do <mark class='B'>aburri<b>dí</b>simo</mark>. \", comment=None)\n",
      "Sentence(id=59, line=9, sentence =\"S08-¿Me es<b>tá</b> <mark class='O' title='&#034;gastando&#034; et non pas &#034;haciendo&#034;'>gas<b>tan</b>do</mark> <b>u</b>na <b>bro</b>ma? \", comment=None)\n",
      "Sentence(id=60, line=10, sentence =\"S09-En abso<b>lu</b>to. <b>Cuan</b>do un apa<b>ra</b>to no fun<b>cio</b>na, <b>pi</b>de que se lo a<b>rre</b>glen o que le <mark class='V' title='&#034;devuelvan&#034; est au subjonctif'>de<b>vuel</b>van</mark> el di<b>ne</b>ro, ¿no? \", comment=None)\n",
      "Sentence(id=61, line=13, sentence =\"S12-Soy muy cuida<b>do</b>so con los <b>li</b>bros, <mark class='E' title='&#034;incluso&#034; au lieu de &#034;hasta&#034;'>in<b>clu</b>so</mark> con los que no me <b>gus</b>tan. \", comment=None)\n",
      "2024-09-12 18:15:40,475 INFO sqlalchemy.engine.Engine ROLLBACK\n"
     ]
    }
   ],
   "source": [
    "stmt = select(MarkedSentence)\n",
    "with Session(engine) as session:\n",
    "    for entry in session.scalars(stmt):\n",
    "        print(entry)\n"
   ]
  },
  {
   "cell_type": "code",
   "execution_count": 32,
   "id": "cd01f078-9e2e-4cba-ab2c-d06f39e57dca",
   "metadata": {},
   "outputs": [],
   "source": [
    "stmt = select(MarkedSentence)\n",
    "with Session(engine) as session:\n",
    "    for entry in session.scalars(stmt):\n",
    "        try:\n",
    "            lesson = entry.session.lesson\n",
    "        except:\n",
    "            print(\"----entry without lesson : \", entry)\n",
    "\n"
   ]
  },
  {
   "cell_type": "code",
   "execution_count": 33,
   "id": "e4f810dd-7717-441c-9821-8ef2446642b0",
   "metadata": {},
   "outputs": [],
   "source": [
    "stmt = select(MarkedSentence)\n",
    "with Session(engine) as session:\n",
    "    for entry in session.scalars(stmt):\n",
    "        try:\n",
    "            lesson = entry.session.lesson\n",
    "        except:\n",
    "            print(\"----entry without lesson : \", entry.id)\n",
    "            session.execute(delete(MarkedSentence).where(MarkedSentence.id == entry.id))\n",
    "    session.commit()\n",
    "\n",
    "            #session.execute(delete(entry))\n",
    "            "
   ]
  },
  {
   "cell_type": "code",
   "execution_count": null,
   "id": "a110169c-7878-47fb-bce6-d0be74e7671a",
   "metadata": {},
   "outputs": [],
   "source": []
  },
  {
   "cell_type": "code",
   "execution_count": null,
   "id": "f30c3f3f-7865-4786-a572-2e7cfe9b57ce",
   "metadata": {},
   "outputs": [],
   "source": []
  },
  {
   "cell_type": "code",
   "execution_count": 54,
   "id": "5fec2476-9045-488e-b580-ff57d7cb68bc",
   "metadata": {},
   "outputs": [],
   "source": [
    "from selection import store_lesson_errors"
   ]
  },
  {
   "cell_type": "code",
   "execution_count": null,
   "id": "8dc406a6-3b20-409b-b0da-c9174ce72476",
   "metadata": {},
   "outputs": [],
   "source": []
  },
  {
   "cell_type": "code",
   "execution_count": 55,
   "id": "cec0de19-8465-4430-871e-adb2e3e2c1d0",
   "metadata": {},
   "outputs": [
    {
     "name": "stdout",
     "output_type": "stream",
     "text": [
      "-------------- In store_lesson_errors\n",
      "---- 0 ------ N52-Lec<b>ción</b> cin<b>cuen</b>ta y dos\n",
      "---- 1 ------ S00-TITLE-La co<b>ci</b>na mexi<b>ca</b>na\n",
      "---- 2 ------ S01-No me has <b>di</b>cho <b>na</b>da de la co<b>ci</b>na mexi<b>ca</b>na\n",
      "---- 3 ------ S02-¿O a lo me<b>jor</b> no te atre<b>vis</b>te a pro<b>bar</b>la?\n",
      "---- 4 ------ S03-¡Por su<b>pues</b>to que la pro<b>bé</b>! Me gus<b>tó</b> <b>so</b>bre <b>to</b>do el <b>mo</b>le es <b>u</b>na <b>sal</b>sa de ca<b>ca</b>o y guin<b>di</b>llas.\n",
      "---- 5 ------ S04-¿Choco<b>la</b>te pi<b>can</b>te? ¿No te <mark class='V' title='3ème personne du singulier du passé simple de dar : dio et non pas di.'>dio</mark> <b>as</b>co?\n",
      "---- 6 ------ S05-¡Qué va! ¡Es<b>tá</b> muy <b>ri</b>co! Lo a<b>mar</b>go va muy bien con lo pi<b>can</b>te.\n",
      "---- 7 ------ S06-Los <b>pue</b>blos precolom<b>bi</b>nos ha<b>cí</b>an <b>u</b>na be<b>bi</b>da <b>ro</b>ja con el ca<b>ca</b>o.\n",
      "---- 8 ------ S07-¡Por <b>e</b>so los conquista<b>do</b>res cre<b>ye</b>ron que be<b>bí</b>an <b>san</b>gre!\n",
      "---- 9 ------ S08-¿<b>Pe</b>ro <b>nun</b>ca lo <mark class='V' title='3ème personne du pluriel du présent du verbe tomar.'><b>to</b>man</mark> <b></b><b>dul</b>ce?\n",
      "---- 10 ------ S09-Sí, <b>cla</b>ro, hoy en <b>dí</b>a tam<b>bién</b> <mark class='G' title='cacao est complément d&#039;objet indirect donc=&#034;le&#034; et non pas &#034;lo&#034;'>le</mark> <b>e</b>chan a<b>zú</b>car,\n",
      "---- 11 ------ S10-<b>pe</b>ro en la tradi<b>ción</b> in<b>dí</b>gena no se <mark class='G' title='cacao est complément d&#039;objet indirect donc=&#034;le&#034; et non pas &#034;lo&#034;'>le</mark> a<b>ña</b>de <b>le</b>che, <b>so</b>lo <b>a</b>gua.\n",
      "---- 12 ------ S11-<b></b><mark class='O'><b></b><mark class='O' title='Meriendas est féminin, donc nuestras et non pas nuestros.'><b>Nues</b>tras</mark></mark> me<b>rien</b>das sí que las e<b>cha</b>ba de <b>me</b>nos un buen choco<b>la</b>te con <b>chu</b>rros. . .\n",
      "---- 13 ------ S12-<b>E</b>so, <b>pa</b>ra meren<b>dar</b>, ¡<b>na</b>da <b>co</b>mo Es<b>pa</b>ña!\n",
      "---- 14 ------ T00-TRANSLATE-Ejer<b>ci</b>cio 1 – Tra<b>duz</b>ca\n",
      "---- 15 ------ T01-No me has <b>di</b>cho si te gus<b>tó</b> la <b>sal</b>sa de ca<b>ca</b>o y guin<b>di</b>llas.\n",
      "---- 16 ------ T02-¿Te atre<b>vis</b>te a to<b>mar</b> choco<b>la</b>te a<b>mar</b>go, pi<b>can</b>te y sin a<b>zú</b>car?\n",
      "---- 17 ------ T03-¡Qué va! Me dio <b>as</b>co y no lo pro<b>bé</b>.\n",
      "---- 18 ------ T04-Pues a lo me<b>jor</b> es<b>tá</b> muy <b>ri</b>co, <b>pe</b>ro pre<b>fie</b>ro un choco<b>la</b>te con <b>chu</b>rros.\n",
      "---- 19 ------ T05-<b>E</b>cho de <b>me</b>nos la co<b>ci</b>na mexi<b>ca</b>na.\n",
      "2024-09-07 14:18:05,413 INFO sqlalchemy.engine.Engine BEGIN (implicit)\n",
      "2024-09-07 14:18:05,415 INFO sqlalchemy.engine.Engine INSERT INTO lesson_sessions (lesson, date_time, errors_number) VALUES (?, ?, ?)\n",
      "2024-09-07 14:18:05,416 INFO sqlalchemy.engine.Engine [cached since 2141s ago] (52, '2024-09-06 23:30:29.589456', 5)\n",
      "2024-09-07 14:18:05,419 INFO sqlalchemy.engine.Engine INSERT INTO marked_sentences (sentence, comment, line, session_id) VALUES (?, ?, ?, ?) RETURNING id\n",
      "2024-09-07 14:18:05,419 INFO sqlalchemy.engine.Engine [cached since 2141s ago (insertmanyvalues) 1/5 (ordered; batch not supported)] (\"S04-¿Choco<b>la</b>te pi<b>can</b>te? ¿No te <mark class='V' title='3ème personne du singulier du passé simple de dar : dio et non pas di.'>dio</mark> <b>as</b>co?\", None, 5, 6)\n",
      "2024-09-07 14:18:05,421 INFO sqlalchemy.engine.Engine INSERT INTO marked_sentences (sentence, comment, line, session_id) VALUES (?, ?, ?, ?) RETURNING id\n",
      "2024-09-07 14:18:05,421 INFO sqlalchemy.engine.Engine [insertmanyvalues 2/5 (ordered; batch not supported)] (\"S08-¿<b>Pe</b>ro <b>nun</b>ca lo <mark class='V' title='3ème personne du pluriel du présent du verbe tomar.'><b>to</b>man</mark> <b></b><b>dul</b>ce?\", None, 9, 6)\n",
      "2024-09-07 14:18:05,422 INFO sqlalchemy.engine.Engine INSERT INTO marked_sentences (sentence, comment, line, session_id) VALUES (?, ?, ?, ?) RETURNING id\n",
      "2024-09-07 14:18:05,423 INFO sqlalchemy.engine.Engine [insertmanyvalues 3/5 (ordered; batch not supported)] (\"S09-Sí, <b>cla</b>ro, hoy en <b>dí</b>a tam<b>bién</b> <mark class='G' title='cacao est complément d&#039;objet indirect donc=&#034;le&#034; et non pas &#034;lo&#034;'>le</mark> <b>e</b>chan a<b>zú</b>car,\", None, 10, 6)\n",
      "2024-09-07 14:18:05,424 INFO sqlalchemy.engine.Engine INSERT INTO marked_sentences (sentence, comment, line, session_id) VALUES (?, ?, ?, ?) RETURNING id\n",
      "2024-09-07 14:18:05,425 INFO sqlalchemy.engine.Engine [insertmanyvalues 4/5 (ordered; batch not supported)] (\"S10-<b>pe</b>ro en la tradi<b>ción</b> in<b>dí</b>gena no se <mark class='G' title='cacao est complément d&#039;objet indirect donc=&#034;le&#034; et non pas &#034;lo&#034;'>le</mark> a<b>ña</b>de <b>le</b>che, <b>so</b>lo <b>a</b>gua.\", None, 11, 6)\n",
      "2024-09-07 14:18:05,426 INFO sqlalchemy.engine.Engine INSERT INTO marked_sentences (sentence, comment, line, session_id) VALUES (?, ?, ?, ?) RETURNING id\n",
      "2024-09-07 14:18:05,426 INFO sqlalchemy.engine.Engine [insertmanyvalues 5/5 (ordered; batch not supported)] (\"S11-<b></b><mark class='O'><b></b><mark class='O' title='Meriendas est féminin, donc nuestras et non pas nuestros.'><b>Nues</b>tras</mark></mark> me<b>rien</b>das sí que las e<b>cha</b>ba de <b>me</b>nos un buen choco<b>la</b>te con <b>chu</b>rros. . .\", None, 12, 6)\n",
      "2024-09-07 14:18:05,428 INFO sqlalchemy.engine.Engine COMMIT\n"
     ]
    }
   ],
   "source": [
    "store_lesson_errors(52, sentences, marked_lines_numbers, datetime.datetime(2024, 9, 6, 23, 30, 29, 589456))"
   ]
  },
  {
   "cell_type": "code",
   "execution_count": 56,
   "id": "d58ea373-9e63-4def-821d-82232dff6bdd",
   "metadata": {},
   "outputs": [
    {
     "data": {
      "text/plain": [
       "<function sqlalchemy.sql._selectable_constructors.select(*entities: '_ColumnsClauseArgument[Any]', **__kw: 'Any') -> 'Select[Any]'>"
      ]
     },
     "execution_count": 56,
     "metadata": {},
     "output_type": "execute_result"
    }
   ],
   "source": [
    "select"
   ]
  },
  {
   "cell_type": "code",
   "execution_count": 57,
   "id": "5c3593ee-39ec-4525-a646-842ce204ac4c",
   "metadata": {},
   "outputs": [],
   "source": [
    "from database import MarkedSentence"
   ]
  },
  {
   "cell_type": "code",
   "execution_count": 24,
   "id": "edbcfd8e-a9b9-4bfb-bb78-2e33b75d40f5",
   "metadata": {},
   "outputs": [
    {
     "name": "stdout",
     "output_type": "stream",
     "text": [
      "2024-09-12 18:23:06,707 INFO sqlalchemy.engine.Engine BEGIN (implicit)\n",
      "2024-09-12 18:23:06,731 INFO sqlalchemy.engine.Engine SELECT lesson_sessions.id, lesson_sessions.lesson, lesson_sessions.date_time, lesson_sessions.errors_number \n",
      "FROM lesson_sessions \n",
      "WHERE lesson_sessions.lesson = ?\n",
      "2024-09-12 18:23:06,733 INFO sqlalchemy.engine.Engine [cached since 341.9s ago] (58,)\n",
      "2024-09-12 18:23:06,736 INFO sqlalchemy.engine.Engine SELECT marked_sentences.id AS marked_sentences_id, marked_sentences.sentence AS marked_sentences_sentence, marked_sentences.comment AS marked_sentences_comment, marked_sentences.line AS marked_sentences_line, marked_sentences.session_id AS marked_sentences_session_id \n",
      "FROM marked_sentences \n",
      "WHERE ? = marked_sentences.session_id\n",
      "2024-09-12 18:23:06,737 INFO sqlalchemy.engine.Engine [cached since 7.148e+04s ago] (15,)\n",
      "58 date time : datetime.datetime(2024, 9, 12, 18, 13, 29, 359135), lesson 58 errors number : 4\n",
      "59 date time : datetime.datetime(2024, 9, 12, 18, 13, 29, 359135), lesson 58 errors number : 4\n",
      "60 date time : datetime.datetime(2024, 9, 12, 18, 13, 29, 359135), lesson 58 errors number : 4\n",
      "61 date time : datetime.datetime(2024, 9, 12, 18, 13, 29, 359135), lesson 58 errors number : 4\n",
      "2024-09-12 18:23:06,740 INFO sqlalchemy.engine.Engine ROLLBACK\n"
     ]
    }
   ],
   "source": [
    "stmt = select(LessonSession).where(\n",
    "                        LessonSession.lesson == 58)\n",
    "\n",
    "with Session(engine) as session:\n",
    "    for entry in session.scalars(stmt):\n",
    "        for sentence in entry.errored_sentences:\n",
    "            print(sentence.id, sentence.session)\n"
   ]
  },
  {
   "cell_type": "code",
   "execution_count": 18,
   "id": "1f90ac53-9663-40af-b261-b905de61139f",
   "metadata": {},
   "outputs": [
    {
     "data": {
      "text/plain": [
       "[Sentence(id=58, line=7, sentence =\"S06-De<b>cí</b>an que <b>e</b>ra entrete<b>ni</b>do, y me ha pare<b>ci</b>do <mark class='B'>aburri<b>dí</b>simo</mark>. \", comment=None),\n",
       " Sentence(id=59, line=9, sentence =\"S08-¿Me es<b>tá</b> <mark class='O' title='&#034;gastando&#034; et non pas &#034;haciendo&#034;'>gas<b>tan</b>do</mark> <b>u</b>na <b>bro</b>ma? \", comment=None),\n",
       " Sentence(id=60, line=10, sentence =\"S09-En abso<b>lu</b>to. <b>Cuan</b>do un apa<b>ra</b>to no fun<b>cio</b>na, <b>pi</b>de que se lo a<b>rre</b>glen o que le <mark class='V' title='&#034;devuelvan&#034; est au subjonctif'>de<b>vuel</b>van</mark> el di<b>ne</b>ro, ¿no? \", comment=None),\n",
       " Sentence(id=61, line=13, sentence =\"S12-Soy muy cuida<b>do</b>so con los <b>li</b>bros, <mark class='E' title='&#034;incluso&#034; au lieu de &#034;hasta&#034;'>in<b>clu</b>so</mark> con los que no me <b>gus</b>tan. \", comment=None)]"
      ]
     },
     "execution_count": 18,
     "metadata": {},
     "output_type": "execute_result"
    }
   ],
   "source": [
    "sfdb"
   ]
  },
  {
   "cell_type": "code",
   "execution_count": 20,
   "id": "cb18b601-9643-4f86-8e06-64c83af61d7f",
   "metadata": {},
   "outputs": [
    {
     "ename": "DetachedInstanceError",
     "evalue": "Parent instance <MarkedSentence at 0x108acfb50> is not bound to a Session; lazy load operation of attribute 'session' cannot proceed (Background on this error at: https://sqlalche.me/e/20/bhk3)",
     "output_type": "error",
     "traceback": [
      "\u001b[0;31m---------------------------------------------------------------------------\u001b[0m",
      "\u001b[0;31mDetachedInstanceError\u001b[0m                     Traceback (most recent call last)",
      "Cell \u001b[0;32mIn[20], line 1\u001b[0m\n\u001b[0;32m----> 1\u001b[0m \u001b[43msfdb\u001b[49m\u001b[43m[\u001b[49m\u001b[38;5;241;43m0\u001b[39;49m\u001b[43m]\u001b[49m\u001b[38;5;241;43m.\u001b[39;49m\u001b[43msession\u001b[49m\n",
      "File \u001b[0;32m~/.pyenv/versions/symbolic/lib/python3.11/site-packages/sqlalchemy/orm/attributes.py:566\u001b[0m, in \u001b[0;36mInstrumentedAttribute.__get__\u001b[0;34m(self, instance, owner)\u001b[0m\n\u001b[1;32m    564\u001b[0m \u001b[38;5;28;01mexcept\u001b[39;00m \u001b[38;5;167;01mAttributeError\u001b[39;00m \u001b[38;5;28;01mas\u001b[39;00m err:\n\u001b[1;32m    565\u001b[0m     \u001b[38;5;28;01mraise\u001b[39;00m orm_exc\u001b[38;5;241m.\u001b[39mUnmappedInstanceError(instance) \u001b[38;5;28;01mfrom\u001b[39;00m \u001b[38;5;21;01merr\u001b[39;00m\n\u001b[0;32m--> 566\u001b[0m \u001b[38;5;28;01mreturn\u001b[39;00m \u001b[38;5;28;43mself\u001b[39;49m\u001b[38;5;241;43m.\u001b[39;49m\u001b[43mimpl\u001b[49m\u001b[38;5;241;43m.\u001b[39;49m\u001b[43mget\u001b[49m\u001b[43m(\u001b[49m\u001b[43mstate\u001b[49m\u001b[43m,\u001b[49m\u001b[43m \u001b[49m\u001b[43mdict_\u001b[49m\u001b[43m)\u001b[49m\n",
      "File \u001b[0;32m~/.pyenv/versions/symbolic/lib/python3.11/site-packages/sqlalchemy/orm/attributes.py:1086\u001b[0m, in \u001b[0;36mAttributeImpl.get\u001b[0;34m(self, state, dict_, passive)\u001b[0m\n\u001b[1;32m   1083\u001b[0m \u001b[38;5;28;01mif\u001b[39;00m \u001b[38;5;129;01mnot\u001b[39;00m passive \u001b[38;5;241m&\u001b[39m CALLABLES_OK:\n\u001b[1;32m   1084\u001b[0m     \u001b[38;5;28;01mreturn\u001b[39;00m PASSIVE_NO_RESULT\n\u001b[0;32m-> 1086\u001b[0m value \u001b[38;5;241m=\u001b[39m \u001b[38;5;28;43mself\u001b[39;49m\u001b[38;5;241;43m.\u001b[39;49m\u001b[43m_fire_loader_callables\u001b[49m\u001b[43m(\u001b[49m\u001b[43mstate\u001b[49m\u001b[43m,\u001b[49m\u001b[43m \u001b[49m\u001b[43mkey\u001b[49m\u001b[43m,\u001b[49m\u001b[43m \u001b[49m\u001b[43mpassive\u001b[49m\u001b[43m)\u001b[49m\n\u001b[1;32m   1088\u001b[0m \u001b[38;5;28;01mif\u001b[39;00m value \u001b[38;5;129;01mis\u001b[39;00m PASSIVE_NO_RESULT \u001b[38;5;129;01mor\u001b[39;00m value \u001b[38;5;129;01mis\u001b[39;00m NO_VALUE:\n\u001b[1;32m   1089\u001b[0m     \u001b[38;5;28;01mreturn\u001b[39;00m value\n",
      "File \u001b[0;32m~/.pyenv/versions/symbolic/lib/python3.11/site-packages/sqlalchemy/orm/attributes.py:1121\u001b[0m, in \u001b[0;36mAttributeImpl._fire_loader_callables\u001b[0;34m(self, state, key, passive)\u001b[0m\n\u001b[1;32m   1119\u001b[0m     \u001b[38;5;28;01mreturn\u001b[39;00m callable_(state, passive)\n\u001b[1;32m   1120\u001b[0m \u001b[38;5;28;01melif\u001b[39;00m \u001b[38;5;28mself\u001b[39m\u001b[38;5;241m.\u001b[39mcallable_:\n\u001b[0;32m-> 1121\u001b[0m     \u001b[38;5;28;01mreturn\u001b[39;00m \u001b[38;5;28;43mself\u001b[39;49m\u001b[38;5;241;43m.\u001b[39;49m\u001b[43mcallable_\u001b[49m\u001b[43m(\u001b[49m\u001b[43mstate\u001b[49m\u001b[43m,\u001b[49m\u001b[43m \u001b[49m\u001b[43mpassive\u001b[49m\u001b[43m)\u001b[49m\n\u001b[1;32m   1122\u001b[0m \u001b[38;5;28;01melse\u001b[39;00m:\n\u001b[1;32m   1123\u001b[0m     \u001b[38;5;28;01mreturn\u001b[39;00m ATTR_EMPTY\n",
      "File \u001b[0;32m~/.pyenv/versions/symbolic/lib/python3.11/site-packages/sqlalchemy/orm/strategies.py:918\u001b[0m, in \u001b[0;36mLazyLoader._load_for_state\u001b[0;34m(self, state, passive, loadopt, extra_criteria, extra_options, alternate_effective_path, execution_options)\u001b[0m\n\u001b[1;32m    915\u001b[0m     \u001b[38;5;28;01mif\u001b[39;00m passive \u001b[38;5;241m&\u001b[39m PassiveFlag\u001b[38;5;241m.\u001b[39mNO_RAISE:\n\u001b[1;32m    916\u001b[0m         \u001b[38;5;28;01mreturn\u001b[39;00m LoaderCallableStatus\u001b[38;5;241m.\u001b[39mPASSIVE_NO_RESULT\n\u001b[0;32m--> 918\u001b[0m     \u001b[38;5;28;01mraise\u001b[39;00m orm_exc\u001b[38;5;241m.\u001b[39mDetachedInstanceError(\n\u001b[1;32m    919\u001b[0m         \u001b[38;5;124m\"\u001b[39m\u001b[38;5;124mParent instance \u001b[39m\u001b[38;5;132;01m%s\u001b[39;00m\u001b[38;5;124m is not bound to a Session; \u001b[39m\u001b[38;5;124m\"\u001b[39m\n\u001b[1;32m    920\u001b[0m         \u001b[38;5;124m\"\u001b[39m\u001b[38;5;124mlazy load operation of attribute \u001b[39m\u001b[38;5;124m'\u001b[39m\u001b[38;5;132;01m%s\u001b[39;00m\u001b[38;5;124m'\u001b[39m\u001b[38;5;124m cannot proceed\u001b[39m\u001b[38;5;124m\"\u001b[39m\n\u001b[1;32m    921\u001b[0m         \u001b[38;5;241m%\u001b[39m (orm_util\u001b[38;5;241m.\u001b[39mstate_str(state), \u001b[38;5;28mself\u001b[39m\u001b[38;5;241m.\u001b[39mkey)\n\u001b[1;32m    922\u001b[0m     )\n\u001b[1;32m    924\u001b[0m \u001b[38;5;66;03m# if we have a simple primary key load, check the\u001b[39;00m\n\u001b[1;32m    925\u001b[0m \u001b[38;5;66;03m# identity map without generating a Query at all\u001b[39;00m\n\u001b[1;32m    926\u001b[0m \u001b[38;5;28;01mif\u001b[39;00m use_get:\n",
      "\u001b[0;31mDetachedInstanceError\u001b[0m: Parent instance <MarkedSentence at 0x108acfb50> is not bound to a Session; lazy load operation of attribute 'session' cannot proceed (Background on this error at: https://sqlalche.me/e/20/bhk3)"
     ]
    }
   ],
   "source": [
    "sfdb[0].session\n"
   ]
  },
  {
   "cell_type": "code",
   "execution_count": 61,
   "id": "9d690ea6-7718-4fc5-b79b-6854ce8a98f0",
   "metadata": {},
   "outputs": [
    {
     "name": "stdout",
     "output_type": "stream",
     "text": [
      "S09-Sí, <b>cla</b>ro, hoy en <b>dí</b>a tam<b>bién</b> <mark class='G' title='cacao est complément d&#039;objet indirect donc=&#034;le&#034; et non pas &#034;lo&#034;'>le</mark> <b>e</b>chan a<b>zú</b>car,\n"
     ]
    }
   ],
   "source": [
    "print(sfdb[2].sentence)"
   ]
  },
  {
   "cell_type": "code",
   "execution_count": 35,
   "id": "21e5ec99-2be8-4dc9-a123-2adb747dc1bb",
   "metadata": {},
   "outputs": [
    {
     "data": {
      "text/plain": [
       "5"
      ]
     },
     "execution_count": 35,
     "metadata": {},
     "output_type": "execute_result"
    }
   ],
   "source": [
    "len(sfdb)"
   ]
  },
  {
   "cell_type": "code",
   "execution_count": 3,
   "id": "359633fd-2154-4f80-9d86-3cf5a52cd2a7",
   "metadata": {},
   "outputs": [
    {
     "ename": "ImportError",
     "evalue": "cannot import name 'User' from 'database' (/Users/pam/assimil/database.py)",
     "output_type": "error",
     "traceback": [
      "\u001b[0;31m---------------------------------------------------------------------------\u001b[0m",
      "\u001b[0;31mImportError\u001b[0m                               Traceback (most recent call last)",
      "Cell \u001b[0;32mIn[3], line 4\u001b[0m\n\u001b[1;32m      2\u001b[0m \u001b[38;5;28;01mfrom\u001b[39;00m \u001b[38;5;21;01msqlalchemy\u001b[39;00m \u001b[38;5;28;01mimport\u001b[39;00m ForeignKey, select, delete, String, and_\n\u001b[1;32m      3\u001b[0m \u001b[38;5;28;01mfrom\u001b[39;00m \u001b[38;5;21;01msqlalchemy\u001b[39;00m\u001b[38;5;21;01m.\u001b[39;00m\u001b[38;5;21;01morm\u001b[39;00m \u001b[38;5;28;01mimport\u001b[39;00m Session\n\u001b[0;32m----> 4\u001b[0m \u001b[38;5;28;01mfrom\u001b[39;00m \u001b[38;5;21;01mdatabase\u001b[39;00m \u001b[38;5;28;01mimport\u001b[39;00m MarkedSentence, LessonSession, User, engine\n",
      "\u001b[0;31mImportError\u001b[0m: cannot import name 'User' from 'database' (/Users/pam/assimil/database.py)"
     ]
    }
   ],
   "source": [
    "import database\n",
    "from sqlalchemy import ForeignKey, select, delete, String, and_\n",
    "from sqlalchemy.orm import Session\n",
    "from database import MarkedSentence, LessonSession, User, engine"
   ]
  },
  {
   "cell_type": "code",
   "execution_count": 2,
   "id": "48a67b62-73a7-4eea-b9ee-8320817715f9",
   "metadata": {},
   "outputs": [
    {
     "ename": "NameError",
     "evalue": "name 'select' is not defined",
     "output_type": "error",
     "traceback": [
      "\u001b[0;31m---------------------------------------------------------------------------\u001b[0m",
      "\u001b[0;31mNameError\u001b[0m                                 Traceback (most recent call last)",
      "Cell \u001b[0;32mIn[2], line 1\u001b[0m\n\u001b[0;32m----> 1\u001b[0m stmt \u001b[38;5;241m=\u001b[39m \u001b[43mselect\u001b[49m(LessonSession)\u001b[38;5;241m.\u001b[39mwhere(\n\u001b[1;32m      2\u001b[0m                         LessonSession\u001b[38;5;241m.\u001b[39mlesson \u001b[38;5;241m==\u001b[39m \u001b[38;5;241m58\u001b[39m)\n\u001b[1;32m      4\u001b[0m \u001b[38;5;28;01mwith\u001b[39;00m Session(engine) \u001b[38;5;28;01mas\u001b[39;00m session:\n\u001b[1;32m      5\u001b[0m     \u001b[38;5;28;01mfor\u001b[39;00m entry \u001b[38;5;129;01min\u001b[39;00m session\u001b[38;5;241m.\u001b[39mscalars(stmt):\n",
      "\u001b[0;31mNameError\u001b[0m: name 'select' is not defined"
     ]
    }
   ],
   "source": [
    "stmt = select(LessonSession).where(\n",
    "                        LessonSession.lesson == 58)\n",
    "\n",
    "with Session(engine) as session:\n",
    "    for entry in session.scalars(stmt):\n",
    "        for sentence in entry.errored_sentences:\n",
    "            print(sentence.id, sentence.session)\n"
   ]
  },
  {
   "cell_type": "code",
   "execution_count": 1,
   "id": "455e95f2-a282-4a42-b452-35a855e7cd58",
   "metadata": {},
   "outputs": [
    {
     "name": "stdout",
     "output_type": "stream",
     "text": [
      "2024-09-12 21:26:25,934 INFO sqlalchemy.engine.Engine BEGIN (implicit)\n",
      "2024-09-12 21:26:25,935 INFO sqlalchemy.engine.Engine PRAGMA main.table_info(\"word_dict\")\n",
      "2024-09-12 21:26:25,935 INFO sqlalchemy.engine.Engine [raw sql] ()\n",
      "2024-09-12 21:26:25,936 INFO sqlalchemy.engine.Engine PRAGMA main.table_info(\"word_index\")\n",
      "2024-09-12 21:26:25,936 INFO sqlalchemy.engine.Engine [raw sql] ()\n",
      "2024-09-12 21:26:25,936 INFO sqlalchemy.engine.Engine PRAGMA main.table_info(\"sentences\")\n",
      "2024-09-12 21:26:25,936 INFO sqlalchemy.engine.Engine [raw sql] ()\n",
      "2024-09-12 21:26:25,936 INFO sqlalchemy.engine.Engine PRAGMA main.table_info(\"marked_sentences\")\n",
      "2024-09-12 21:26:25,937 INFO sqlalchemy.engine.Engine [raw sql] ()\n",
      "2024-09-12 21:26:25,937 INFO sqlalchemy.engine.Engine PRAGMA main.table_info(\"user_account\")\n",
      "2024-09-12 21:26:25,937 INFO sqlalchemy.engine.Engine [raw sql] ()\n",
      "2024-09-12 21:26:25,937 INFO sqlalchemy.engine.Engine PRAGMA main.table_info(\"lesson_sessions\")\n",
      "2024-09-12 21:26:25,937 INFO sqlalchemy.engine.Engine [raw sql] ()\n",
      "2024-09-12 21:26:25,938 INFO sqlalchemy.engine.Engine COMMIT\n",
      "2024-09-12 21:26:25,942 INFO sqlalchemy.engine.Engine BEGIN (implicit)\n",
      "2024-09-12 21:26:25,942 INFO sqlalchemy.engine.Engine PRAGMA main.table_info(\"word_dict\")\n",
      "2024-09-12 21:26:25,942 INFO sqlalchemy.engine.Engine [raw sql] ()\n",
      "2024-09-12 21:26:25,943 INFO sqlalchemy.engine.Engine PRAGMA main.table_info(\"word_index\")\n",
      "2024-09-12 21:26:25,943 INFO sqlalchemy.engine.Engine [raw sql] ()\n",
      "2024-09-12 21:26:25,943 INFO sqlalchemy.engine.Engine PRAGMA main.table_info(\"sentences\")\n",
      "2024-09-12 21:26:25,943 INFO sqlalchemy.engine.Engine [raw sql] ()\n",
      "2024-09-12 21:26:25,943 INFO sqlalchemy.engine.Engine PRAGMA main.table_info(\"marked_sentences\")\n",
      "2024-09-12 21:26:25,944 INFO sqlalchemy.engine.Engine [raw sql] ()\n",
      "2024-09-12 21:26:25,944 INFO sqlalchemy.engine.Engine PRAGMA main.table_info(\"lesson_sessions\")\n",
      "2024-09-12 21:26:25,944 INFO sqlalchemy.engine.Engine [raw sql] ()\n",
      "2024-09-12 21:26:25,944 INFO sqlalchemy.engine.Engine COMMIT\n"
     ]
    }
   ],
   "source": [
    "import database\n",
    "import databaseold\n",
    "from sqlalchemy import ForeignKey, select, delete, String, and_\n",
    "from sqlalchemy.orm import Session"
   ]
  },
  {
   "cell_type": "code",
   "execution_count": 2,
   "id": "ac2cbe0e-4146-4474-94fb-27d1254fa823",
   "metadata": {},
   "outputs": [],
   "source": [
    "from database import engine as engine_new"
   ]
  },
  {
   "cell_type": "code",
   "execution_count": 3,
   "id": "ef4967a5-5081-4465-972d-4a6bd37849b0",
   "metadata": {},
   "outputs": [],
   "source": [
    "from databaseold import engine as engine_old"
   ]
  },
  {
   "cell_type": "code",
   "execution_count": 4,
   "id": "e94fb3a3-facc-43ca-9dd7-a555343dce46",
   "metadata": {},
   "outputs": [],
   "source": [
    "from database import User"
   ]
  },
  {
   "cell_type": "code",
   "execution_count": 5,
   "id": "1b1e27d7-a351-4ba2-86a8-921a61600c9b",
   "metadata": {},
   "outputs": [
    {
     "name": "stdout",
     "output_type": "stream",
     "text": [
      "2024-09-12 21:10:55,477 INFO sqlalchemy.engine.Engine BEGIN (implicit)\n",
      "2024-09-12 21:10:55,479 INFO sqlalchemy.engine.Engine INSERT INTO user_account (username, password, fullname, email) VALUES (?, ?, ?, ?)\n",
      "2024-09-12 21:10:55,480 INFO sqlalchemy.engine.Engine [generated in 0.00043s] ('pam', 'TOTO1234', 'Pierre-Alain Moret', 'moret.pierre.alain@gmail.com')\n",
      "2024-09-12 21:10:55,481 INFO sqlalchemy.engine.Engine COMMIT\n"
     ]
    }
   ],
   "source": [
    "with Session(engine_new) as session:\n",
    "    pam = User(\n",
    "        username=\"pam\",\n",
    "        password=\"TOTO1234\",\n",
    "        fullname=\"Pierre-Alain Moret\",\n",
    "        email=\"moret.pierre.alain@gmail.com\"\n",
    "    )\n",
    "    session.add(pam)\n",
    "    session.commit()"
   ]
  },
  {
   "cell_type": "code",
   "execution_count": 20,
   "id": "3d9e420d-5e79-4340-971f-3a1299e733ba",
   "metadata": {},
   "outputs": [
    {
     "name": "stdout",
     "output_type": "stream",
     "text": [
      "2024-09-12 20:39:43,052 INFO sqlalchemy.engine.Engine BEGIN (implicit)\n",
      "2024-09-12 20:39:43,053 INFO sqlalchemy.engine.Engine SELECT user.id, user.username, user.password, user.fullname, user.email \n",
      "FROM user\n",
      "2024-09-12 20:39:43,054 INFO sqlalchemy.engine.Engine [cached since 211.6s ago] ()\n",
      "1 pam moret.pierre.alain@gmail.com\n",
      "2024-09-12 20:39:43,056 INFO sqlalchemy.engine.Engine ROLLBACK\n"
     ]
    }
   ],
   "source": [
    "stmt = select(User)\n",
    "with Session(engine_new) as session:\n",
    "    for user in session.scalars(stmt):\n",
    "        #for sentence in entry.errored_sentences:\n",
    "            print(user.id, user.username, user.email)\n"
   ]
  },
  {
   "cell_type": "code",
   "execution_count": 10,
   "id": "aa7bf6a1-5618-4afe-b527-816114c73c94",
   "metadata": {},
   "outputs": [
    {
     "name": "stdout",
     "output_type": "stream",
     "text": [
      "2024-09-12 21:21:48,726 INFO sqlalchemy.engine.Engine SELECT user_account.id, user_account.username, user_account.password, user_account.fullname, user_account.email \n",
      "FROM user_account \n",
      "WHERE user_account.username = ?\n",
      "2024-09-12 21:21:48,735 INFO sqlalchemy.engine.Engine [cached since 641.4s ago] ('pam',)\n",
      "username : 'pam', password : 'TOTO1234', full name :Pierre-Alain Moret\n",
      "2024-09-12 21:21:48,752 INFO sqlalchemy.engine.Engine BEGIN (implicit)\n",
      "2024-09-12 21:21:48,754 INFO sqlalchemy.engine.Engine SELECT lesson_sessions.id, lesson_sessions.lesson, lesson_sessions.date_time, lesson_sessions.errors_number \n",
      "FROM lesson_sessions\n",
      "2024-09-12 21:21:48,757 INFO sqlalchemy.engine.Engine [cached since 411s ago] ()\n",
      "2024-09-12 21:21:48,760 INFO sqlalchemy.engine.Engine ROLLBACK\n"
     ]
    }
   ],
   "source": [
    "stmt_old = select(databaseold.LessonSession)\n",
    "session_new = Session(engine_new) \n",
    "stmt_new = select(User).where(User.username == \"pam\")\n",
    "pam = session.scalars(stmt_new).one()\n",
    "print(pam)\n",
    "with Session(engine_old) as session_old:\n",
    "    for user_session in session_old.scalars(stmt_old):\n",
    "        print(user_session.id)\n",
    "        pam.lesson_sessions.append(database.LessonSession(\n",
    "            user=pam,\n",
    "            lesson = user_session.lesson,\n",
    "            date_time = user_session.date_time\n",
    "        ))\n",
    "    session_new.commit()\n",
    "    \n",
    "            \n"
   ]
  },
  {
   "cell_type": "code",
   "execution_count": 12,
   "id": "8fff9b2f-ddaa-4ab1-9b47-2509717b5a9a",
   "metadata": {},
   "outputs": [
    {
     "name": "stdout",
     "output_type": "stream",
     "text": [
      "2024-09-12 21:22:13,757 INFO sqlalchemy.engine.Engine SELECT user_account.id, user_account.username, user_account.password, user_account.fullname, user_account.email \n",
      "FROM user_account \n",
      "WHERE user_account.username = ?\n",
      "2024-09-12 21:22:13,759 INFO sqlalchemy.engine.Engine [cached since 666.4s ago] ('pam',)\n"
     ]
    },
    {
     "data": {
      "text/plain": [
       "username : 'pam', password : 'TOTO1234', full name :Pierre-Alain Moret"
      ]
     },
     "execution_count": 12,
     "metadata": {},
     "output_type": "execute_result"
    }
   ],
   "source": [
    "stmt_new = select(User).where(User.username == \"pam\")\n",
    "pam = session.scalars(stmt_new).one()\n",
    "\n",
    "pam\n",
    "    \n"
   ]
  },
  {
   "cell_type": "code",
   "execution_count": 11,
   "id": "0e56d178-cb65-4d4d-86eb-bde2e5cd0b4b",
   "metadata": {},
   "outputs": [
    {
     "name": "stdout",
     "output_type": "stream",
     "text": [
      "2024-09-12 21:22:05,455 INFO sqlalchemy.engine.Engine BEGIN (implicit)\n",
      "2024-09-12 21:22:05,457 INFO sqlalchemy.engine.Engine SELECT lesson_sessions.id, lesson_sessions.lesson, lesson_sessions.date_time, lesson_sessions.errors_number, lesson_sessions.user_id \n",
      "FROM lesson_sessions\n",
      "2024-09-12 21:22:05,458 INFO sqlalchemy.engine.Engine [cached since 244.8s ago] ()\n",
      "2024-09-12 21:22:05,460 INFO sqlalchemy.engine.Engine ROLLBACK\n"
     ]
    }
   ],
   "source": [
    "stmt_new = select(database.LessonSession)\n",
    "with Session(engine_new) as session_new:\n",
    "    for user_session in session_new.scalars(stmt_new):\n",
    "        print(user_session)"
   ]
  },
  {
   "cell_type": "code",
   "execution_count": 5,
   "id": "f34fe8d4-82ef-434e-8b91-3f6406ecc0b7",
   "metadata": {},
   "outputs": [
    {
     "name": "stdout",
     "output_type": "stream",
     "text": [
      "2024-09-12 21:26:43,398 INFO sqlalchemy.engine.Engine BEGIN (implicit)\n",
      "2024-09-12 21:26:43,414 INFO sqlalchemy.engine.Engine SELECT lesson_sessions.id, lesson_sessions.lesson, lesson_sessions.date_time, lesson_sessions.errors_number \n",
      "FROM lesson_sessions\n",
      "2024-09-12 21:26:43,414 INFO sqlalchemy.engine.Engine [generated in 0.00078s] ()\n",
      "2024-09-12 21:26:43,416 INFO sqlalchemy.engine.Engine ROLLBACK\n"
     ]
    }
   ],
   "source": [
    "stmt_old = select(databaseold.LessonSession)\n",
    "with Session(engine_old) as session_old:\n",
    "    for lesson_session in session_old.scalars(stmt_old):\n",
    "        print(lesson_session)"
   ]
  },
  {
   "cell_type": "code",
   "execution_count": 10,
   "id": "ebcc9986-8b4f-4f76-b983-dafbd6c96d6b",
   "metadata": {},
   "outputs": [],
   "source": [
    "from database import get_single_lesson_errors"
   ]
  },
  {
   "cell_type": "code",
   "execution_count": 14,
   "id": "af3ab79b-50fb-4204-8d9e-f9e5a102d0c5",
   "metadata": {},
   "outputs": [],
   "source": [
    "date_time = datetime.datetime(2024, 9, 14, 19, 34, 55, 403665)"
   ]
  },
  {
   "cell_type": "code",
   "execution_count": 15,
   "id": "97dd6e63-20dc-4a62-8f15-12960e11f75e",
   "metadata": {},
   "outputs": [
    {
     "name": "stdout",
     "output_type": "stream",
     "text": [
      "----- In get_single_lesson_errors  date : 2024-09-14 19:34:55.403665, of type <class 'datetime.datetime'>\n"
     ]
    },
    {
     "data": {
      "text/plain": [
       "{0: \"N6-Lec<b>ción</b> <b></b><mark class='O' title='&#034;sexta&#034; et non pas &#034;sesenta&#034;. De plus le nombre ordinal se situe après le nom'><b>sex</b>ta</mark>\",\n",
       " 2: \"S01-¿En qué <mark class='O' title='&#034;trabajas&#034; et non pas &#034;trabajes&#034;'>tra<b>ba</b>jas</mark>? \",\n",
       " 4: \"S03-El <mark class='B'>aconteci<b>mien</b>to</mark> de la tempo<b>ra</b>da es la <b>úl</b>tima <b>o</b>bra del fa<b>mo</b>so direc<b>tor</b> de Un cora<b>zón</b> tan <b>frá</b>gil. \",\n",
       " 5: \"S04-Sí, <mark class='G' title='&#034;aquella&#034; et non pas &#034;esta&#034;'>a<b>que</b>lla</mark> <b>fui</b>mos a <b>ver</b>la. <mark class='V' title='&#034;Recuerdo&#034; et non pas &#034;me Recuerdo&#034;'>Re<b>cuer</b>do</mark> <b>so</b>bre <b>to</b>do el prin<b>ci</b>pio. \",\n",
       " 7: \"S06-Sí, <b>lue</b>go me dor<b>mí</b>. Y el que es<b>ta</b>ba al <b>la</b>do <b>mí</b>o tam<b>bién</b> se <mark class='V'>dur<b>mió</b></mark><b></b>. \",\n",
       " 11: \"S10-¿Pre<b>fie</b>res <mark class='E'>al<b>gu</b>na</mark> de va<b>que</b>ros? No, ¡me<b>jor</b> <b>u</b>na de <b>e</b>sas <b>don</b>de se dan <b>hos</b>tias! \",\n",
       " 18: \"T01-En prima<b>ve</b>ra, <b>cuan</b>do la <b>fies</b>ta del <b>ci</b>ne, las en<b>tra</b>das son muy <mark class='E' title='baratìsimas'>ba<b>ra</b>tas</mark>, ¡<b>ca</b>si <b>gra</b>tis! \"}"
      ]
     },
     "execution_count": 15,
     "metadata": {},
     "output_type": "execute_result"
    }
   ],
   "source": [
    "get_single_lesson_errors(59, date_time)"
   ]
  },
  {
   "cell_type": "code",
   "execution_count": 11,
   "id": "49535b5d-1529-4233-9d30-c1293365eb9e",
   "metadata": {},
   "outputs": [],
   "source": [
    "stmt = select(LessonSession).where(LessonSession.lesson == 59)"
   ]
  },
  {
   "cell_type": "code",
   "execution_count": 21,
   "id": "da0644f7-a9a3-4869-bfb4-72b0d3607a6a",
   "metadata": {},
   "outputs": [
    {
     "name": "stdout",
     "output_type": "stream",
     "text": [
      "2024-09-14 20:23:43,404 INFO sqlalchemy.engine.Engine BEGIN (implicit)\n",
      "2024-09-14 20:23:43,405 INFO sqlalchemy.engine.Engine SELECT lesson_sessions.id, lesson_sessions.lesson, lesson_sessions.date_time, lesson_sessions.errors_number, lesson_sessions.user_id \n",
      "FROM lesson_sessions \n",
      "WHERE lesson_sessions.lesson = ?\n",
      "2024-09-14 20:23:43,405 INFO sqlalchemy.engine.Engine [cached since 271.5s ago] (59,)\n",
      "2024-09-14 20:23:43,408 INFO sqlalchemy.engine.Engine SELECT marked_sentences.id AS marked_sentences_id, marked_sentences.sentence AS marked_sentences_sentence, marked_sentences.comment AS marked_sentences_comment, marked_sentences.line AS marked_sentences_line, marked_sentences.session_id AS marked_sentences_session_id \n",
      "FROM marked_sentences \n",
      "WHERE ? = marked_sentences.session_id\n",
      "2024-09-14 20:23:43,408 INFO sqlalchemy.engine.Engine [cached since 593.8s ago] (17,)\n",
      "59 [Sentence(id=59, line=0, sentence =\"N6-Lec<b>ción</b> <b></b><mark class='O' title='&#034;sexta&#034; et non pas &#034;sesenta&#034;. De plus le nombre ordinal se situe après le nom'><b>sex</b>ta</mark>\", comment=None), Sentence(id=60, line=2, sentence =\"S01-¿En qué <mark class='O' title='&#034;trabajas&#034; et non pas &#034;trabajes&#034;'>tra<b>ba</b>jas</mark>? \", comment=None), Sentence(id=71, line=4, sentence =\"S03-El <mark class='B'>aconteci<b>mien</b>to</mark> de la tempo<b>ra</b>da es la <b>úl</b>tima <b>o</b>bra del fa<b>mo</b>so direc<b>tor</b> de Un cora<b>zón</b> tan <b>frá</b>gil. \", comment=None), Sentence(id=72, line=5, sentence =\"S04-Sí, <mark class='G' title='&#034;aquella&#034; et non pas &#034;esta&#034;'>a<b>que</b>lla</mark> <b>fui</b>mos a <b>ver</b>la. <mark class='V' title='&#034;Recuerdo&#034; et non pas &#034;me Recuerdo&#034;'>Re<b>cuer</b>do</mark> <b>so</b>bre <b>to</b>do el prin<b>ci</b>pio. \", comment=None), Sentence(id=73, line=7, sentence =\"S06-Sí, <b>lue</b>go me dor<b>mí</b>. Y el que es<b>ta</b>ba al <b>la</b>do <b>mí</b>o tam<b>bién</b> se <mark class='V'>dur<b>mió</b></mark><b></b>. \", comment=None), Sentence(id=74, line=11, sentence =\"S10-¿Pre<b>fie</b>res <mark class='E'>al<b>gu</b>na</mark> de va<b>que</b>ros? No, ¡me<b>jor</b> <b>u</b>na de <b>e</b>sas <b>don</b>de se dan <b>hos</b>tias! \", comment=None), Sentence(id=75, line=18, sentence =\"T01-En prima<b>ve</b>ra, <b>cuan</b>do la <b>fies</b>ta del <b>ci</b>ne, las en<b>tra</b>das son muy <mark class='E' title='baratìsimas'>ba<b>ra</b>tas</mark>, ¡<b>ca</b>si <b>gra</b>tis! \", comment=None)]\n",
      "2024-09-14 20:23:43,412 INFO sqlalchemy.engine.Engine DELETE FROM marked_sentences WHERE marked_sentences.id = ?\n",
      "2024-09-14 20:23:43,414 INFO sqlalchemy.engine.Engine [generated in 0.00128s] [(59,), (60,)]\n",
      "2024-09-14 20:23:43,416 INFO sqlalchemy.engine.Engine COMMIT\n"
     ]
    }
   ],
   "source": [
    "with Session(engine) as session:\n",
    "    for lesson_session in session.scalars(stmt):\n",
    "        print(lesson_session.lesson, lesson_session.errored_sentences)\n",
    "        errors = lesson_session.errored_sentences\n",
    "        new_errors = errors[2:]\n",
    "        lesson_session.errored_sentences=new_errors\n",
    "    session.commit()\n",
    "        "
   ]
  },
  {
   "cell_type": "code",
   "execution_count": 26,
   "id": "02101b4d-2127-4178-a3cf-fc686d4eee1b",
   "metadata": {},
   "outputs": [
    {
     "ename": "DetachedInstanceError",
     "evalue": "Instance <MarkedSentence at 0x109ad1750> is not bound to a Session; attribute refresh operation cannot proceed (Background on this error at: https://sqlalche.me/e/20/bhk3)",
     "output_type": "error",
     "traceback": [
      "\u001b[0;31m---------------------------------------------------------------------------\u001b[0m",
      "\u001b[0;31mDetachedInstanceError\u001b[0m                     Traceback (most recent call last)",
      "File \u001b[0;32m~/.pyenv/versions/symbolic/lib/python3.11/site-packages/IPython/core/formatters.py:708\u001b[0m, in \u001b[0;36mPlainTextFormatter.__call__\u001b[0;34m(self, obj)\u001b[0m\n\u001b[1;32m    701\u001b[0m stream \u001b[38;5;241m=\u001b[39m StringIO()\n\u001b[1;32m    702\u001b[0m printer \u001b[38;5;241m=\u001b[39m pretty\u001b[38;5;241m.\u001b[39mRepresentationPrinter(stream, \u001b[38;5;28mself\u001b[39m\u001b[38;5;241m.\u001b[39mverbose,\n\u001b[1;32m    703\u001b[0m     \u001b[38;5;28mself\u001b[39m\u001b[38;5;241m.\u001b[39mmax_width, \u001b[38;5;28mself\u001b[39m\u001b[38;5;241m.\u001b[39mnewline,\n\u001b[1;32m    704\u001b[0m     max_seq_length\u001b[38;5;241m=\u001b[39m\u001b[38;5;28mself\u001b[39m\u001b[38;5;241m.\u001b[39mmax_seq_length,\n\u001b[1;32m    705\u001b[0m     singleton_pprinters\u001b[38;5;241m=\u001b[39m\u001b[38;5;28mself\u001b[39m\u001b[38;5;241m.\u001b[39msingleton_printers,\n\u001b[1;32m    706\u001b[0m     type_pprinters\u001b[38;5;241m=\u001b[39m\u001b[38;5;28mself\u001b[39m\u001b[38;5;241m.\u001b[39mtype_printers,\n\u001b[1;32m    707\u001b[0m     deferred_pprinters\u001b[38;5;241m=\u001b[39m\u001b[38;5;28mself\u001b[39m\u001b[38;5;241m.\u001b[39mdeferred_printers)\n\u001b[0;32m--> 708\u001b[0m \u001b[43mprinter\u001b[49m\u001b[38;5;241;43m.\u001b[39;49m\u001b[43mpretty\u001b[49m\u001b[43m(\u001b[49m\u001b[43mobj\u001b[49m\u001b[43m)\u001b[49m\n\u001b[1;32m    709\u001b[0m printer\u001b[38;5;241m.\u001b[39mflush()\n\u001b[1;32m    710\u001b[0m \u001b[38;5;28;01mreturn\u001b[39;00m stream\u001b[38;5;241m.\u001b[39mgetvalue()\n",
      "File \u001b[0;32m~/.pyenv/versions/symbolic/lib/python3.11/site-packages/IPython/lib/pretty.py:410\u001b[0m, in \u001b[0;36mRepresentationPrinter.pretty\u001b[0;34m(self, obj)\u001b[0m\n\u001b[1;32m    407\u001b[0m                         \u001b[38;5;28;01mreturn\u001b[39;00m meth(obj, \u001b[38;5;28mself\u001b[39m, cycle)\n\u001b[1;32m    408\u001b[0m                 \u001b[38;5;28;01mif\u001b[39;00m \u001b[38;5;28mcls\u001b[39m \u001b[38;5;129;01mis\u001b[39;00m \u001b[38;5;129;01mnot\u001b[39;00m \u001b[38;5;28mobject\u001b[39m \\\n\u001b[1;32m    409\u001b[0m                         \u001b[38;5;129;01mand\u001b[39;00m \u001b[38;5;28mcallable\u001b[39m(\u001b[38;5;28mcls\u001b[39m\u001b[38;5;241m.\u001b[39m\u001b[38;5;18m__dict__\u001b[39m\u001b[38;5;241m.\u001b[39mget(\u001b[38;5;124m'\u001b[39m\u001b[38;5;124m__repr__\u001b[39m\u001b[38;5;124m'\u001b[39m)):\n\u001b[0;32m--> 410\u001b[0m                     \u001b[38;5;28;01mreturn\u001b[39;00m \u001b[43m_repr_pprint\u001b[49m\u001b[43m(\u001b[49m\u001b[43mobj\u001b[49m\u001b[43m,\u001b[49m\u001b[43m \u001b[49m\u001b[38;5;28;43mself\u001b[39;49m\u001b[43m,\u001b[49m\u001b[43m \u001b[49m\u001b[43mcycle\u001b[49m\u001b[43m)\u001b[49m\n\u001b[1;32m    412\u001b[0m     \u001b[38;5;28;01mreturn\u001b[39;00m _default_pprint(obj, \u001b[38;5;28mself\u001b[39m, cycle)\n\u001b[1;32m    413\u001b[0m \u001b[38;5;28;01mfinally\u001b[39;00m:\n",
      "File \u001b[0;32m~/.pyenv/versions/symbolic/lib/python3.11/site-packages/IPython/lib/pretty.py:778\u001b[0m, in \u001b[0;36m_repr_pprint\u001b[0;34m(obj, p, cycle)\u001b[0m\n\u001b[1;32m    776\u001b[0m \u001b[38;5;250m\u001b[39m\u001b[38;5;124;03m\"\"\"A pprint that just redirects to the normal repr function.\"\"\"\u001b[39;00m\n\u001b[1;32m    777\u001b[0m \u001b[38;5;66;03m# Find newlines and replace them with p.break_()\u001b[39;00m\n\u001b[0;32m--> 778\u001b[0m output \u001b[38;5;241m=\u001b[39m \u001b[38;5;28mrepr\u001b[39m(obj)\n\u001b[1;32m    779\u001b[0m lines \u001b[38;5;241m=\u001b[39m output\u001b[38;5;241m.\u001b[39msplitlines()\n\u001b[1;32m    780\u001b[0m \u001b[38;5;28;01mwith\u001b[39;00m p\u001b[38;5;241m.\u001b[39mgroup():\n",
      "File \u001b[0;32m~/assimil/database.py:73\u001b[0m, in \u001b[0;36mMarkedSentence.__repr__\u001b[0;34m(self)\u001b[0m\n\u001b[1;32m     72\u001b[0m \u001b[38;5;28;01mdef\u001b[39;00m \u001b[38;5;21m__repr__\u001b[39m(\u001b[38;5;28mself\u001b[39m) \u001b[38;5;241m-\u001b[39m\u001b[38;5;241m>\u001b[39m \u001b[38;5;28mstr\u001b[39m:\n\u001b[0;32m---> 73\u001b[0m     \u001b[38;5;28;01mreturn\u001b[39;00m \u001b[38;5;124mf\u001b[39m\u001b[38;5;124m\"\u001b[39m\u001b[38;5;124mSentence(id=\u001b[39m\u001b[38;5;132;01m{\u001b[39;00m\u001b[38;5;28;43mself\u001b[39;49m\u001b[38;5;241;43m.\u001b[39;49m\u001b[43mid\u001b[49m\u001b[38;5;132;01m!r}\u001b[39;00m\u001b[38;5;124m, line=\u001b[39m\u001b[38;5;132;01m{\u001b[39;00m\u001b[38;5;28mself\u001b[39m\u001b[38;5;241m.\u001b[39mline\u001b[38;5;132;01m!r}\u001b[39;00m\u001b[38;5;124m, sentence =\u001b[39m\u001b[38;5;132;01m{\u001b[39;00m\u001b[38;5;28mself\u001b[39m\u001b[38;5;241m.\u001b[39msentence\u001b[38;5;132;01m!r}\u001b[39;00m\u001b[38;5;124m, comment=\u001b[39m\u001b[38;5;132;01m{\u001b[39;00m\u001b[38;5;28mself\u001b[39m\u001b[38;5;241m.\u001b[39mcomment\u001b[38;5;132;01m!r}\u001b[39;00m\u001b[38;5;124m)\u001b[39m\u001b[38;5;124m\"\u001b[39m\n",
      "File \u001b[0;32m~/.pyenv/versions/symbolic/lib/python3.11/site-packages/sqlalchemy/orm/attributes.py:566\u001b[0m, in \u001b[0;36mInstrumentedAttribute.__get__\u001b[0;34m(self, instance, owner)\u001b[0m\n\u001b[1;32m    564\u001b[0m \u001b[38;5;28;01mexcept\u001b[39;00m \u001b[38;5;167;01mAttributeError\u001b[39;00m \u001b[38;5;28;01mas\u001b[39;00m err:\n\u001b[1;32m    565\u001b[0m     \u001b[38;5;28;01mraise\u001b[39;00m orm_exc\u001b[38;5;241m.\u001b[39mUnmappedInstanceError(instance) \u001b[38;5;28;01mfrom\u001b[39;00m \u001b[38;5;21;01merr\u001b[39;00m\n\u001b[0;32m--> 566\u001b[0m \u001b[38;5;28;01mreturn\u001b[39;00m \u001b[38;5;28;43mself\u001b[39;49m\u001b[38;5;241;43m.\u001b[39;49m\u001b[43mimpl\u001b[49m\u001b[38;5;241;43m.\u001b[39;49m\u001b[43mget\u001b[49m\u001b[43m(\u001b[49m\u001b[43mstate\u001b[49m\u001b[43m,\u001b[49m\u001b[43m \u001b[49m\u001b[43mdict_\u001b[49m\u001b[43m)\u001b[49m\n",
      "File \u001b[0;32m~/.pyenv/versions/symbolic/lib/python3.11/site-packages/sqlalchemy/orm/attributes.py:1086\u001b[0m, in \u001b[0;36mAttributeImpl.get\u001b[0;34m(self, state, dict_, passive)\u001b[0m\n\u001b[1;32m   1083\u001b[0m \u001b[38;5;28;01mif\u001b[39;00m \u001b[38;5;129;01mnot\u001b[39;00m passive \u001b[38;5;241m&\u001b[39m CALLABLES_OK:\n\u001b[1;32m   1084\u001b[0m     \u001b[38;5;28;01mreturn\u001b[39;00m PASSIVE_NO_RESULT\n\u001b[0;32m-> 1086\u001b[0m value \u001b[38;5;241m=\u001b[39m \u001b[38;5;28;43mself\u001b[39;49m\u001b[38;5;241;43m.\u001b[39;49m\u001b[43m_fire_loader_callables\u001b[49m\u001b[43m(\u001b[49m\u001b[43mstate\u001b[49m\u001b[43m,\u001b[49m\u001b[43m \u001b[49m\u001b[43mkey\u001b[49m\u001b[43m,\u001b[49m\u001b[43m \u001b[49m\u001b[43mpassive\u001b[49m\u001b[43m)\u001b[49m\n\u001b[1;32m   1088\u001b[0m \u001b[38;5;28;01mif\u001b[39;00m value \u001b[38;5;129;01mis\u001b[39;00m PASSIVE_NO_RESULT \u001b[38;5;129;01mor\u001b[39;00m value \u001b[38;5;129;01mis\u001b[39;00m NO_VALUE:\n\u001b[1;32m   1089\u001b[0m     \u001b[38;5;28;01mreturn\u001b[39;00m value\n",
      "File \u001b[0;32m~/.pyenv/versions/symbolic/lib/python3.11/site-packages/sqlalchemy/orm/attributes.py:1116\u001b[0m, in \u001b[0;36mAttributeImpl._fire_loader_callables\u001b[0;34m(self, state, key, passive)\u001b[0m\n\u001b[1;32m   1108\u001b[0m \u001b[38;5;28;01mdef\u001b[39;00m \u001b[38;5;21m_fire_loader_callables\u001b[39m(\n\u001b[1;32m   1109\u001b[0m     \u001b[38;5;28mself\u001b[39m, state: InstanceState[Any], key: \u001b[38;5;28mstr\u001b[39m, passive: PassiveFlag\n\u001b[1;32m   1110\u001b[0m ) \u001b[38;5;241m-\u001b[39m\u001b[38;5;241m>\u001b[39m Any:\n\u001b[1;32m   1111\u001b[0m     \u001b[38;5;28;01mif\u001b[39;00m (\n\u001b[1;32m   1112\u001b[0m         \u001b[38;5;28mself\u001b[39m\u001b[38;5;241m.\u001b[39maccepts_scalar_loader\n\u001b[1;32m   1113\u001b[0m         \u001b[38;5;129;01mand\u001b[39;00m \u001b[38;5;28mself\u001b[39m\u001b[38;5;241m.\u001b[39mload_on_unexpire\n\u001b[1;32m   1114\u001b[0m         \u001b[38;5;129;01mand\u001b[39;00m key \u001b[38;5;129;01min\u001b[39;00m state\u001b[38;5;241m.\u001b[39mexpired_attributes\n\u001b[1;32m   1115\u001b[0m     ):\n\u001b[0;32m-> 1116\u001b[0m         \u001b[38;5;28;01mreturn\u001b[39;00m \u001b[43mstate\u001b[49m\u001b[38;5;241;43m.\u001b[39;49m\u001b[43m_load_expired\u001b[49m\u001b[43m(\u001b[49m\u001b[43mstate\u001b[49m\u001b[43m,\u001b[49m\u001b[43m \u001b[49m\u001b[43mpassive\u001b[49m\u001b[43m)\u001b[49m\n\u001b[1;32m   1117\u001b[0m     \u001b[38;5;28;01melif\u001b[39;00m key \u001b[38;5;129;01min\u001b[39;00m state\u001b[38;5;241m.\u001b[39mcallables:\n\u001b[1;32m   1118\u001b[0m         callable_ \u001b[38;5;241m=\u001b[39m state\u001b[38;5;241m.\u001b[39mcallables[key]\n",
      "File \u001b[0;32m~/.pyenv/versions/symbolic/lib/python3.11/site-packages/sqlalchemy/orm/state.py:803\u001b[0m, in \u001b[0;36mInstanceState._load_expired\u001b[0;34m(self, state, passive)\u001b[0m\n\u001b[1;32m    796\u001b[0m toload \u001b[38;5;241m=\u001b[39m \u001b[38;5;28mself\u001b[39m\u001b[38;5;241m.\u001b[39mexpired_attributes\u001b[38;5;241m.\u001b[39mintersection(\u001b[38;5;28mself\u001b[39m\u001b[38;5;241m.\u001b[39munmodified)\n\u001b[1;32m    797\u001b[0m toload \u001b[38;5;241m=\u001b[39m toload\u001b[38;5;241m.\u001b[39mdifference(\n\u001b[1;32m    798\u001b[0m     attr\n\u001b[1;32m    799\u001b[0m     \u001b[38;5;28;01mfor\u001b[39;00m attr \u001b[38;5;129;01min\u001b[39;00m toload\n\u001b[1;32m    800\u001b[0m     \u001b[38;5;28;01mif\u001b[39;00m \u001b[38;5;129;01mnot\u001b[39;00m \u001b[38;5;28mself\u001b[39m\u001b[38;5;241m.\u001b[39mmanager[attr]\u001b[38;5;241m.\u001b[39mimpl\u001b[38;5;241m.\u001b[39mload_on_unexpire\n\u001b[1;32m    801\u001b[0m )\n\u001b[0;32m--> 803\u001b[0m \u001b[38;5;28;43mself\u001b[39;49m\u001b[38;5;241;43m.\u001b[39;49m\u001b[43mmanager\u001b[49m\u001b[38;5;241;43m.\u001b[39;49m\u001b[43mexpired_attribute_loader\u001b[49m\u001b[43m(\u001b[49m\u001b[38;5;28;43mself\u001b[39;49m\u001b[43m,\u001b[49m\u001b[43m \u001b[49m\u001b[43mtoload\u001b[49m\u001b[43m,\u001b[49m\u001b[43m \u001b[49m\u001b[43mpassive\u001b[49m\u001b[43m)\u001b[49m\n\u001b[1;32m    805\u001b[0m \u001b[38;5;66;03m# if the loader failed, or this\u001b[39;00m\n\u001b[1;32m    806\u001b[0m \u001b[38;5;66;03m# instance state didn't have an identity,\u001b[39;00m\n\u001b[1;32m    807\u001b[0m \u001b[38;5;66;03m# the attributes still might be in the callables\u001b[39;00m\n\u001b[1;32m    808\u001b[0m \u001b[38;5;66;03m# dict.  ensure they are removed.\u001b[39;00m\n\u001b[1;32m    809\u001b[0m \u001b[38;5;28mself\u001b[39m\u001b[38;5;241m.\u001b[39mexpired_attributes\u001b[38;5;241m.\u001b[39mclear()\n",
      "File \u001b[0;32m~/.pyenv/versions/symbolic/lib/python3.11/site-packages/sqlalchemy/orm/loading.py:1603\u001b[0m, in \u001b[0;36mload_scalar_attributes\u001b[0;34m(mapper, state, attribute_names, passive)\u001b[0m\n\u001b[1;32m   1601\u001b[0m session \u001b[38;5;241m=\u001b[39m state\u001b[38;5;241m.\u001b[39msession\n\u001b[1;32m   1602\u001b[0m \u001b[38;5;28;01mif\u001b[39;00m \u001b[38;5;129;01mnot\u001b[39;00m session:\n\u001b[0;32m-> 1603\u001b[0m     \u001b[38;5;28;01mraise\u001b[39;00m orm_exc\u001b[38;5;241m.\u001b[39mDetachedInstanceError(\n\u001b[1;32m   1604\u001b[0m         \u001b[38;5;124m\"\u001b[39m\u001b[38;5;124mInstance \u001b[39m\u001b[38;5;132;01m%s\u001b[39;00m\u001b[38;5;124m is not bound to a Session; \u001b[39m\u001b[38;5;124m\"\u001b[39m\n\u001b[1;32m   1605\u001b[0m         \u001b[38;5;124m\"\u001b[39m\u001b[38;5;124mattribute refresh operation cannot proceed\u001b[39m\u001b[38;5;124m\"\u001b[39m \u001b[38;5;241m%\u001b[39m (state_str(state))\n\u001b[1;32m   1606\u001b[0m     )\n\u001b[1;32m   1608\u001b[0m no_autoflush \u001b[38;5;241m=\u001b[39m \u001b[38;5;28mbool\u001b[39m(passive \u001b[38;5;241m&\u001b[39m attributes\u001b[38;5;241m.\u001b[39mNO_AUTOFLUSH)\n\u001b[1;32m   1610\u001b[0m \u001b[38;5;66;03m# in the case of inheritance, particularly concrete and abstract\u001b[39;00m\n\u001b[1;32m   1611\u001b[0m \u001b[38;5;66;03m# concrete inheritance, the class manager might have some keys\u001b[39;00m\n\u001b[1;32m   1612\u001b[0m \u001b[38;5;66;03m# of attributes on the superclass that we didn't actually map.\u001b[39;00m\n\u001b[1;32m   1613\u001b[0m \u001b[38;5;66;03m# These could be mapped as \"concrete, don't load\" or could be completely\u001b[39;00m\n\u001b[1;32m   1614\u001b[0m \u001b[38;5;66;03m# excluded from the mapping and we know nothing about them.  Filter them\u001b[39;00m\n\u001b[1;32m   1615\u001b[0m \u001b[38;5;66;03m# here to prevent them from coming through.\u001b[39;00m\n",
      "\u001b[0;31mDetachedInstanceError\u001b[0m: Instance <MarkedSentence at 0x109ad1750> is not bound to a Session; attribute refresh operation cannot proceed (Background on this error at: https://sqlalche.me/e/20/bhk3)"
     ]
    }
   ],
   "source": [
    "errors[4]"
   ]
  },
  {
   "cell_type": "code",
   "execution_count": 18,
   "id": "7ebaba07-e707-4b35-aa02-566696166511",
   "metadata": {},
   "outputs": [],
   "source": [
    "new_errors = errors[2:]"
   ]
  },
  {
   "cell_type": "code",
   "execution_count": 19,
   "id": "e90add48-2fac-4ada-950c-203fd4929b0b",
   "metadata": {},
   "outputs": [
    {
     "data": {
      "text/plain": [
       "[Sentence(id=71, line=4, sentence =\"S03-El <mark class='B'>aconteci<b>mien</b>to</mark> de la tempo<b>ra</b>da es la <b>úl</b>tima <b>o</b>bra del fa<b>mo</b>so direc<b>tor</b> de Un cora<b>zón</b> tan <b>frá</b>gil. \", comment=None),\n",
       " Sentence(id=72, line=5, sentence =\"S04-Sí, <mark class='G' title='&#034;aquella&#034; et non pas &#034;esta&#034;'>a<b>que</b>lla</mark> <b>fui</b>mos a <b>ver</b>la. <mark class='V' title='&#034;Recuerdo&#034; et non pas &#034;me Recuerdo&#034;'>Re<b>cuer</b>do</mark> <b>so</b>bre <b>to</b>do el prin<b>ci</b>pio. \", comment=None),\n",
       " Sentence(id=73, line=7, sentence =\"S06-Sí, <b>lue</b>go me dor<b>mí</b>. Y el que es<b>ta</b>ba al <b>la</b>do <b>mí</b>o tam<b>bién</b> se <mark class='V'>dur<b>mió</b></mark><b></b>. \", comment=None),\n",
       " Sentence(id=74, line=11, sentence =\"S10-¿Pre<b>fie</b>res <mark class='E'>al<b>gu</b>na</mark> de va<b>que</b>ros? No, ¡me<b>jor</b> <b>u</b>na de <b>e</b>sas <b>don</b>de se dan <b>hos</b>tias! \", comment=None),\n",
       " Sentence(id=75, line=18, sentence =\"T01-En prima<b>ve</b>ra, <b>cuan</b>do la <b>fies</b>ta del <b>ci</b>ne, las en<b>tra</b>das son muy <mark class='E' title='baratìsimas'>ba<b>ra</b>tas</mark>, ¡<b>ca</b>si <b>gra</b>tis! \", comment=None)]"
      ]
     },
     "execution_count": 19,
     "metadata": {},
     "output_type": "execute_result"
    }
   ],
   "source": [
    "new_errors"
   ]
  },
  {
   "cell_type": "code",
   "execution_count": 27,
   "id": "ea5f849b-4bf3-44ec-a299-486252634bca",
   "metadata": {},
   "outputs": [
    {
     "name": "stdout",
     "output_type": "stream",
     "text": [
      "2024-09-14 20:27:28,502 INFO sqlalchemy.engine.Engine BEGIN (implicit)\n",
      "2024-09-14 20:27:28,503 INFO sqlalchemy.engine.Engine SELECT lesson_sessions.id, lesson_sessions.lesson, lesson_sessions.date_time, lesson_sessions.errors_number, lesson_sessions.user_id \n",
      "FROM lesson_sessions \n",
      "WHERE lesson_sessions.lesson = ?\n",
      "2024-09-14 20:27:28,503 INFO sqlalchemy.engine.Engine [cached since 496.6s ago] (59,)\n",
      "2024-09-14 20:27:28,506 INFO sqlalchemy.engine.Engine SELECT marked_sentences.id AS marked_sentences_id, marked_sentences.sentence AS marked_sentences_sentence, marked_sentences.comment AS marked_sentences_comment, marked_sentences.line AS marked_sentences_line, marked_sentences.session_id AS marked_sentences_session_id \n",
      "FROM marked_sentences \n",
      "WHERE ? = marked_sentences.session_id\n",
      "2024-09-14 20:27:28,506 INFO sqlalchemy.engine.Engine [cached since 818.9s ago] (17,)\n",
      "59 [Sentence(id=71, line=4, sentence =\"S03-El <mark class='B'>aconteci<b>mien</b>to</mark> de la tempo<b>ra</b>da es la <b>úl</b>tima <b>o</b>bra del fa<b>mo</b>so direc<b>tor</b> de Un cora<b>zón</b> tan <b>frá</b>gil. \", comment=None), Sentence(id=72, line=5, sentence =\"S04-Sí, <mark class='G' title='&#034;aquella&#034; et non pas &#034;esta&#034;'>a<b>que</b>lla</mark> <b>fui</b>mos a <b>ver</b>la. <mark class='V' title='&#034;Recuerdo&#034; et non pas &#034;me Recuerdo&#034;'>Re<b>cuer</b>do</mark> <b>so</b>bre <b>to</b>do el prin<b>ci</b>pio. \", comment=None), Sentence(id=73, line=7, sentence =\"S06-Sí, <b>lue</b>go me dor<b>mí</b>. Y el que es<b>ta</b>ba al <b>la</b>do <b>mí</b>o tam<b>bién</b> se <mark class='V'>dur<b>mió</b></mark><b></b>. \", comment=None), Sentence(id=74, line=11, sentence =\"S10-¿Pre<b>fie</b>res <mark class='E'>al<b>gu</b>na</mark> de va<b>que</b>ros? No, ¡me<b>jor</b> <b>u</b>na de <b>e</b>sas <b>don</b>de se dan <b>hos</b>tias! \", comment=None), Sentence(id=75, line=18, sentence =\"T01-En prima<b>ve</b>ra, <b>cuan</b>do la <b>fies</b>ta del <b>ci</b>ne, las en<b>tra</b>das son muy <mark class='E' title='baratìsimas'>ba<b>ra</b>tas</mark>, ¡<b>ca</b>si <b>gra</b>tis! \", comment=None)]\n",
      "2024-09-14 20:27:28,508 INFO sqlalchemy.engine.Engine ROLLBACK\n"
     ]
    }
   ],
   "source": [
    "with Session(engine) as session:\n",
    "    for lesson_session in session.scalars(stmt):\n",
    "        print(lesson_session.lesson, lesson_session.errored_sentences)\n",
    "\n"
   ]
  },
  {
   "cell_type": "code",
   "execution_count": 23,
   "id": "f776430b-edf9-42c1-8c31-29840934af00",
   "metadata": {},
   "outputs": [
    {
     "ename": "DetachedInstanceError",
     "evalue": "Instance <MarkedSentence at 0x109ad3e90> is not bound to a Session; attribute refresh operation cannot proceed (Background on this error at: https://sqlalche.me/e/20/bhk3)",
     "output_type": "error",
     "traceback": [
      "\u001b[0;31m---------------------------------------------------------------------------\u001b[0m",
      "\u001b[0;31mDetachedInstanceError\u001b[0m                     Traceback (most recent call last)",
      "File \u001b[0;32m~/.pyenv/versions/symbolic/lib/python3.11/site-packages/IPython/core/formatters.py:708\u001b[0m, in \u001b[0;36mPlainTextFormatter.__call__\u001b[0;34m(self, obj)\u001b[0m\n\u001b[1;32m    701\u001b[0m stream \u001b[38;5;241m=\u001b[39m StringIO()\n\u001b[1;32m    702\u001b[0m printer \u001b[38;5;241m=\u001b[39m pretty\u001b[38;5;241m.\u001b[39mRepresentationPrinter(stream, \u001b[38;5;28mself\u001b[39m\u001b[38;5;241m.\u001b[39mverbose,\n\u001b[1;32m    703\u001b[0m     \u001b[38;5;28mself\u001b[39m\u001b[38;5;241m.\u001b[39mmax_width, \u001b[38;5;28mself\u001b[39m\u001b[38;5;241m.\u001b[39mnewline,\n\u001b[1;32m    704\u001b[0m     max_seq_length\u001b[38;5;241m=\u001b[39m\u001b[38;5;28mself\u001b[39m\u001b[38;5;241m.\u001b[39mmax_seq_length,\n\u001b[1;32m    705\u001b[0m     singleton_pprinters\u001b[38;5;241m=\u001b[39m\u001b[38;5;28mself\u001b[39m\u001b[38;5;241m.\u001b[39msingleton_printers,\n\u001b[1;32m    706\u001b[0m     type_pprinters\u001b[38;5;241m=\u001b[39m\u001b[38;5;28mself\u001b[39m\u001b[38;5;241m.\u001b[39mtype_printers,\n\u001b[1;32m    707\u001b[0m     deferred_pprinters\u001b[38;5;241m=\u001b[39m\u001b[38;5;28mself\u001b[39m\u001b[38;5;241m.\u001b[39mdeferred_printers)\n\u001b[0;32m--> 708\u001b[0m \u001b[43mprinter\u001b[49m\u001b[38;5;241;43m.\u001b[39;49m\u001b[43mpretty\u001b[49m\u001b[43m(\u001b[49m\u001b[43mobj\u001b[49m\u001b[43m)\u001b[49m\n\u001b[1;32m    709\u001b[0m printer\u001b[38;5;241m.\u001b[39mflush()\n\u001b[1;32m    710\u001b[0m \u001b[38;5;28;01mreturn\u001b[39;00m stream\u001b[38;5;241m.\u001b[39mgetvalue()\n",
      "File \u001b[0;32m~/.pyenv/versions/symbolic/lib/python3.11/site-packages/IPython/lib/pretty.py:393\u001b[0m, in \u001b[0;36mRepresentationPrinter.pretty\u001b[0;34m(self, obj)\u001b[0m\n\u001b[1;32m    390\u001b[0m \u001b[38;5;28;01mfor\u001b[39;00m \u001b[38;5;28mcls\u001b[39m \u001b[38;5;129;01min\u001b[39;00m _get_mro(obj_class):\n\u001b[1;32m    391\u001b[0m     \u001b[38;5;28;01mif\u001b[39;00m \u001b[38;5;28mcls\u001b[39m \u001b[38;5;129;01min\u001b[39;00m \u001b[38;5;28mself\u001b[39m\u001b[38;5;241m.\u001b[39mtype_pprinters:\n\u001b[1;32m    392\u001b[0m         \u001b[38;5;66;03m# printer registered in self.type_pprinters\u001b[39;00m\n\u001b[0;32m--> 393\u001b[0m         \u001b[38;5;28;01mreturn\u001b[39;00m \u001b[38;5;28;43mself\u001b[39;49m\u001b[38;5;241;43m.\u001b[39;49m\u001b[43mtype_pprinters\u001b[49m\u001b[43m[\u001b[49m\u001b[38;5;28;43mcls\u001b[39;49m\u001b[43m]\u001b[49m\u001b[43m(\u001b[49m\u001b[43mobj\u001b[49m\u001b[43m,\u001b[49m\u001b[43m \u001b[49m\u001b[38;5;28;43mself\u001b[39;49m\u001b[43m,\u001b[49m\u001b[43m \u001b[49m\u001b[43mcycle\u001b[49m\u001b[43m)\u001b[49m\n\u001b[1;32m    394\u001b[0m     \u001b[38;5;28;01melse\u001b[39;00m:\n\u001b[1;32m    395\u001b[0m         \u001b[38;5;66;03m# deferred printer\u001b[39;00m\n\u001b[1;32m    396\u001b[0m         printer \u001b[38;5;241m=\u001b[39m \u001b[38;5;28mself\u001b[39m\u001b[38;5;241m.\u001b[39m_in_deferred_types(\u001b[38;5;28mcls\u001b[39m)\n",
      "File \u001b[0;32m~/.pyenv/versions/symbolic/lib/python3.11/site-packages/IPython/lib/pretty.py:640\u001b[0m, in \u001b[0;36m_seq_pprinter_factory.<locals>.inner\u001b[0;34m(obj, p, cycle)\u001b[0m\n\u001b[1;32m    638\u001b[0m         p\u001b[38;5;241m.\u001b[39mtext(\u001b[38;5;124m'\u001b[39m\u001b[38;5;124m,\u001b[39m\u001b[38;5;124m'\u001b[39m)\n\u001b[1;32m    639\u001b[0m         p\u001b[38;5;241m.\u001b[39mbreakable()\n\u001b[0;32m--> 640\u001b[0m     \u001b[43mp\u001b[49m\u001b[38;5;241;43m.\u001b[39;49m\u001b[43mpretty\u001b[49m\u001b[43m(\u001b[49m\u001b[43mx\u001b[49m\u001b[43m)\u001b[49m\n\u001b[1;32m    641\u001b[0m \u001b[38;5;28;01mif\u001b[39;00m \u001b[38;5;28mlen\u001b[39m(obj) \u001b[38;5;241m==\u001b[39m \u001b[38;5;241m1\u001b[39m \u001b[38;5;129;01mand\u001b[39;00m \u001b[38;5;28misinstance\u001b[39m(obj, \u001b[38;5;28mtuple\u001b[39m):\n\u001b[1;32m    642\u001b[0m     \u001b[38;5;66;03m# Special case for 1-item tuples.\u001b[39;00m\n\u001b[1;32m    643\u001b[0m     p\u001b[38;5;241m.\u001b[39mtext(\u001b[38;5;124m'\u001b[39m\u001b[38;5;124m,\u001b[39m\u001b[38;5;124m'\u001b[39m)\n",
      "File \u001b[0;32m~/.pyenv/versions/symbolic/lib/python3.11/site-packages/IPython/lib/pretty.py:410\u001b[0m, in \u001b[0;36mRepresentationPrinter.pretty\u001b[0;34m(self, obj)\u001b[0m\n\u001b[1;32m    407\u001b[0m                         \u001b[38;5;28;01mreturn\u001b[39;00m meth(obj, \u001b[38;5;28mself\u001b[39m, cycle)\n\u001b[1;32m    408\u001b[0m                 \u001b[38;5;28;01mif\u001b[39;00m \u001b[38;5;28mcls\u001b[39m \u001b[38;5;129;01mis\u001b[39;00m \u001b[38;5;129;01mnot\u001b[39;00m \u001b[38;5;28mobject\u001b[39m \\\n\u001b[1;32m    409\u001b[0m                         \u001b[38;5;129;01mand\u001b[39;00m \u001b[38;5;28mcallable\u001b[39m(\u001b[38;5;28mcls\u001b[39m\u001b[38;5;241m.\u001b[39m\u001b[38;5;18m__dict__\u001b[39m\u001b[38;5;241m.\u001b[39mget(\u001b[38;5;124m'\u001b[39m\u001b[38;5;124m__repr__\u001b[39m\u001b[38;5;124m'\u001b[39m)):\n\u001b[0;32m--> 410\u001b[0m                     \u001b[38;5;28;01mreturn\u001b[39;00m \u001b[43m_repr_pprint\u001b[49m\u001b[43m(\u001b[49m\u001b[43mobj\u001b[49m\u001b[43m,\u001b[49m\u001b[43m \u001b[49m\u001b[38;5;28;43mself\u001b[39;49m\u001b[43m,\u001b[49m\u001b[43m \u001b[49m\u001b[43mcycle\u001b[49m\u001b[43m)\u001b[49m\n\u001b[1;32m    412\u001b[0m     \u001b[38;5;28;01mreturn\u001b[39;00m _default_pprint(obj, \u001b[38;5;28mself\u001b[39m, cycle)\n\u001b[1;32m    413\u001b[0m \u001b[38;5;28;01mfinally\u001b[39;00m:\n",
      "File \u001b[0;32m~/.pyenv/versions/symbolic/lib/python3.11/site-packages/IPython/lib/pretty.py:778\u001b[0m, in \u001b[0;36m_repr_pprint\u001b[0;34m(obj, p, cycle)\u001b[0m\n\u001b[1;32m    776\u001b[0m \u001b[38;5;250m\u001b[39m\u001b[38;5;124;03m\"\"\"A pprint that just redirects to the normal repr function.\"\"\"\u001b[39;00m\n\u001b[1;32m    777\u001b[0m \u001b[38;5;66;03m# Find newlines and replace them with p.break_()\u001b[39;00m\n\u001b[0;32m--> 778\u001b[0m output \u001b[38;5;241m=\u001b[39m \u001b[38;5;28mrepr\u001b[39m(obj)\n\u001b[1;32m    779\u001b[0m lines \u001b[38;5;241m=\u001b[39m output\u001b[38;5;241m.\u001b[39msplitlines()\n\u001b[1;32m    780\u001b[0m \u001b[38;5;28;01mwith\u001b[39;00m p\u001b[38;5;241m.\u001b[39mgroup():\n",
      "File \u001b[0;32m~/assimil/database.py:73\u001b[0m, in \u001b[0;36mMarkedSentence.__repr__\u001b[0;34m(self)\u001b[0m\n\u001b[1;32m     72\u001b[0m \u001b[38;5;28;01mdef\u001b[39;00m \u001b[38;5;21m__repr__\u001b[39m(\u001b[38;5;28mself\u001b[39m) \u001b[38;5;241m-\u001b[39m\u001b[38;5;241m>\u001b[39m \u001b[38;5;28mstr\u001b[39m:\n\u001b[0;32m---> 73\u001b[0m     \u001b[38;5;28;01mreturn\u001b[39;00m \u001b[38;5;124mf\u001b[39m\u001b[38;5;124m\"\u001b[39m\u001b[38;5;124mSentence(id=\u001b[39m\u001b[38;5;132;01m{\u001b[39;00m\u001b[38;5;28;43mself\u001b[39;49m\u001b[38;5;241;43m.\u001b[39;49m\u001b[43mid\u001b[49m\u001b[38;5;132;01m!r}\u001b[39;00m\u001b[38;5;124m, line=\u001b[39m\u001b[38;5;132;01m{\u001b[39;00m\u001b[38;5;28mself\u001b[39m\u001b[38;5;241m.\u001b[39mline\u001b[38;5;132;01m!r}\u001b[39;00m\u001b[38;5;124m, sentence =\u001b[39m\u001b[38;5;132;01m{\u001b[39;00m\u001b[38;5;28mself\u001b[39m\u001b[38;5;241m.\u001b[39msentence\u001b[38;5;132;01m!r}\u001b[39;00m\u001b[38;5;124m, comment=\u001b[39m\u001b[38;5;132;01m{\u001b[39;00m\u001b[38;5;28mself\u001b[39m\u001b[38;5;241m.\u001b[39mcomment\u001b[38;5;132;01m!r}\u001b[39;00m\u001b[38;5;124m)\u001b[39m\u001b[38;5;124m\"\u001b[39m\n",
      "File \u001b[0;32m~/.pyenv/versions/symbolic/lib/python3.11/site-packages/sqlalchemy/orm/attributes.py:566\u001b[0m, in \u001b[0;36mInstrumentedAttribute.__get__\u001b[0;34m(self, instance, owner)\u001b[0m\n\u001b[1;32m    564\u001b[0m \u001b[38;5;28;01mexcept\u001b[39;00m \u001b[38;5;167;01mAttributeError\u001b[39;00m \u001b[38;5;28;01mas\u001b[39;00m err:\n\u001b[1;32m    565\u001b[0m     \u001b[38;5;28;01mraise\u001b[39;00m orm_exc\u001b[38;5;241m.\u001b[39mUnmappedInstanceError(instance) \u001b[38;5;28;01mfrom\u001b[39;00m \u001b[38;5;21;01merr\u001b[39;00m\n\u001b[0;32m--> 566\u001b[0m \u001b[38;5;28;01mreturn\u001b[39;00m \u001b[38;5;28;43mself\u001b[39;49m\u001b[38;5;241;43m.\u001b[39;49m\u001b[43mimpl\u001b[49m\u001b[38;5;241;43m.\u001b[39;49m\u001b[43mget\u001b[49m\u001b[43m(\u001b[49m\u001b[43mstate\u001b[49m\u001b[43m,\u001b[49m\u001b[43m \u001b[49m\u001b[43mdict_\u001b[49m\u001b[43m)\u001b[49m\n",
      "File \u001b[0;32m~/.pyenv/versions/symbolic/lib/python3.11/site-packages/sqlalchemy/orm/attributes.py:1086\u001b[0m, in \u001b[0;36mAttributeImpl.get\u001b[0;34m(self, state, dict_, passive)\u001b[0m\n\u001b[1;32m   1083\u001b[0m \u001b[38;5;28;01mif\u001b[39;00m \u001b[38;5;129;01mnot\u001b[39;00m passive \u001b[38;5;241m&\u001b[39m CALLABLES_OK:\n\u001b[1;32m   1084\u001b[0m     \u001b[38;5;28;01mreturn\u001b[39;00m PASSIVE_NO_RESULT\n\u001b[0;32m-> 1086\u001b[0m value \u001b[38;5;241m=\u001b[39m \u001b[38;5;28;43mself\u001b[39;49m\u001b[38;5;241;43m.\u001b[39;49m\u001b[43m_fire_loader_callables\u001b[49m\u001b[43m(\u001b[49m\u001b[43mstate\u001b[49m\u001b[43m,\u001b[49m\u001b[43m \u001b[49m\u001b[43mkey\u001b[49m\u001b[43m,\u001b[49m\u001b[43m \u001b[49m\u001b[43mpassive\u001b[49m\u001b[43m)\u001b[49m\n\u001b[1;32m   1088\u001b[0m \u001b[38;5;28;01mif\u001b[39;00m value \u001b[38;5;129;01mis\u001b[39;00m PASSIVE_NO_RESULT \u001b[38;5;129;01mor\u001b[39;00m value \u001b[38;5;129;01mis\u001b[39;00m NO_VALUE:\n\u001b[1;32m   1089\u001b[0m     \u001b[38;5;28;01mreturn\u001b[39;00m value\n",
      "File \u001b[0;32m~/.pyenv/versions/symbolic/lib/python3.11/site-packages/sqlalchemy/orm/attributes.py:1116\u001b[0m, in \u001b[0;36mAttributeImpl._fire_loader_callables\u001b[0;34m(self, state, key, passive)\u001b[0m\n\u001b[1;32m   1108\u001b[0m \u001b[38;5;28;01mdef\u001b[39;00m \u001b[38;5;21m_fire_loader_callables\u001b[39m(\n\u001b[1;32m   1109\u001b[0m     \u001b[38;5;28mself\u001b[39m, state: InstanceState[Any], key: \u001b[38;5;28mstr\u001b[39m, passive: PassiveFlag\n\u001b[1;32m   1110\u001b[0m ) \u001b[38;5;241m-\u001b[39m\u001b[38;5;241m>\u001b[39m Any:\n\u001b[1;32m   1111\u001b[0m     \u001b[38;5;28;01mif\u001b[39;00m (\n\u001b[1;32m   1112\u001b[0m         \u001b[38;5;28mself\u001b[39m\u001b[38;5;241m.\u001b[39maccepts_scalar_loader\n\u001b[1;32m   1113\u001b[0m         \u001b[38;5;129;01mand\u001b[39;00m \u001b[38;5;28mself\u001b[39m\u001b[38;5;241m.\u001b[39mload_on_unexpire\n\u001b[1;32m   1114\u001b[0m         \u001b[38;5;129;01mand\u001b[39;00m key \u001b[38;5;129;01min\u001b[39;00m state\u001b[38;5;241m.\u001b[39mexpired_attributes\n\u001b[1;32m   1115\u001b[0m     ):\n\u001b[0;32m-> 1116\u001b[0m         \u001b[38;5;28;01mreturn\u001b[39;00m \u001b[43mstate\u001b[49m\u001b[38;5;241;43m.\u001b[39;49m\u001b[43m_load_expired\u001b[49m\u001b[43m(\u001b[49m\u001b[43mstate\u001b[49m\u001b[43m,\u001b[49m\u001b[43m \u001b[49m\u001b[43mpassive\u001b[49m\u001b[43m)\u001b[49m\n\u001b[1;32m   1117\u001b[0m     \u001b[38;5;28;01melif\u001b[39;00m key \u001b[38;5;129;01min\u001b[39;00m state\u001b[38;5;241m.\u001b[39mcallables:\n\u001b[1;32m   1118\u001b[0m         callable_ \u001b[38;5;241m=\u001b[39m state\u001b[38;5;241m.\u001b[39mcallables[key]\n",
      "File \u001b[0;32m~/.pyenv/versions/symbolic/lib/python3.11/site-packages/sqlalchemy/orm/state.py:803\u001b[0m, in \u001b[0;36mInstanceState._load_expired\u001b[0;34m(self, state, passive)\u001b[0m\n\u001b[1;32m    796\u001b[0m toload \u001b[38;5;241m=\u001b[39m \u001b[38;5;28mself\u001b[39m\u001b[38;5;241m.\u001b[39mexpired_attributes\u001b[38;5;241m.\u001b[39mintersection(\u001b[38;5;28mself\u001b[39m\u001b[38;5;241m.\u001b[39munmodified)\n\u001b[1;32m    797\u001b[0m toload \u001b[38;5;241m=\u001b[39m toload\u001b[38;5;241m.\u001b[39mdifference(\n\u001b[1;32m    798\u001b[0m     attr\n\u001b[1;32m    799\u001b[0m     \u001b[38;5;28;01mfor\u001b[39;00m attr \u001b[38;5;129;01min\u001b[39;00m toload\n\u001b[1;32m    800\u001b[0m     \u001b[38;5;28;01mif\u001b[39;00m \u001b[38;5;129;01mnot\u001b[39;00m \u001b[38;5;28mself\u001b[39m\u001b[38;5;241m.\u001b[39mmanager[attr]\u001b[38;5;241m.\u001b[39mimpl\u001b[38;5;241m.\u001b[39mload_on_unexpire\n\u001b[1;32m    801\u001b[0m )\n\u001b[0;32m--> 803\u001b[0m \u001b[38;5;28;43mself\u001b[39;49m\u001b[38;5;241;43m.\u001b[39;49m\u001b[43mmanager\u001b[49m\u001b[38;5;241;43m.\u001b[39;49m\u001b[43mexpired_attribute_loader\u001b[49m\u001b[43m(\u001b[49m\u001b[38;5;28;43mself\u001b[39;49m\u001b[43m,\u001b[49m\u001b[43m \u001b[49m\u001b[43mtoload\u001b[49m\u001b[43m,\u001b[49m\u001b[43m \u001b[49m\u001b[43mpassive\u001b[49m\u001b[43m)\u001b[49m\n\u001b[1;32m    805\u001b[0m \u001b[38;5;66;03m# if the loader failed, or this\u001b[39;00m\n\u001b[1;32m    806\u001b[0m \u001b[38;5;66;03m# instance state didn't have an identity,\u001b[39;00m\n\u001b[1;32m    807\u001b[0m \u001b[38;5;66;03m# the attributes still might be in the callables\u001b[39;00m\n\u001b[1;32m    808\u001b[0m \u001b[38;5;66;03m# dict.  ensure they are removed.\u001b[39;00m\n\u001b[1;32m    809\u001b[0m \u001b[38;5;28mself\u001b[39m\u001b[38;5;241m.\u001b[39mexpired_attributes\u001b[38;5;241m.\u001b[39mclear()\n",
      "File \u001b[0;32m~/.pyenv/versions/symbolic/lib/python3.11/site-packages/sqlalchemy/orm/loading.py:1603\u001b[0m, in \u001b[0;36mload_scalar_attributes\u001b[0;34m(mapper, state, attribute_names, passive)\u001b[0m\n\u001b[1;32m   1601\u001b[0m session \u001b[38;5;241m=\u001b[39m state\u001b[38;5;241m.\u001b[39msession\n\u001b[1;32m   1602\u001b[0m \u001b[38;5;28;01mif\u001b[39;00m \u001b[38;5;129;01mnot\u001b[39;00m session:\n\u001b[0;32m-> 1603\u001b[0m     \u001b[38;5;28;01mraise\u001b[39;00m orm_exc\u001b[38;5;241m.\u001b[39mDetachedInstanceError(\n\u001b[1;32m   1604\u001b[0m         \u001b[38;5;124m\"\u001b[39m\u001b[38;5;124mInstance \u001b[39m\u001b[38;5;132;01m%s\u001b[39;00m\u001b[38;5;124m is not bound to a Session; \u001b[39m\u001b[38;5;124m\"\u001b[39m\n\u001b[1;32m   1605\u001b[0m         \u001b[38;5;124m\"\u001b[39m\u001b[38;5;124mattribute refresh operation cannot proceed\u001b[39m\u001b[38;5;124m\"\u001b[39m \u001b[38;5;241m%\u001b[39m (state_str(state))\n\u001b[1;32m   1606\u001b[0m     )\n\u001b[1;32m   1608\u001b[0m no_autoflush \u001b[38;5;241m=\u001b[39m \u001b[38;5;28mbool\u001b[39m(passive \u001b[38;5;241m&\u001b[39m attributes\u001b[38;5;241m.\u001b[39mNO_AUTOFLUSH)\n\u001b[1;32m   1610\u001b[0m \u001b[38;5;66;03m# in the case of inheritance, particularly concrete and abstract\u001b[39;00m\n\u001b[1;32m   1611\u001b[0m \u001b[38;5;66;03m# concrete inheritance, the class manager might have some keys\u001b[39;00m\n\u001b[1;32m   1612\u001b[0m \u001b[38;5;66;03m# of attributes on the superclass that we didn't actually map.\u001b[39;00m\n\u001b[1;32m   1613\u001b[0m \u001b[38;5;66;03m# These could be mapped as \"concrete, don't load\" or could be completely\u001b[39;00m\n\u001b[1;32m   1614\u001b[0m \u001b[38;5;66;03m# excluded from the mapping and we know nothing about them.  Filter them\u001b[39;00m\n\u001b[1;32m   1615\u001b[0m \u001b[38;5;66;03m# here to prevent them from coming through.\u001b[39;00m\n",
      "\u001b[0;31mDetachedInstanceError\u001b[0m: Instance <MarkedSentence at 0x109ad3e90> is not bound to a Session; attribute refresh operation cannot proceed (Background on this error at: https://sqlalche.me/e/20/bhk3)"
     ]
    }
   ],
   "source": [
    "errors"
   ]
  },
  {
   "cell_type": "code",
   "execution_count": 24,
   "id": "1b5eb9b0-b5d7-448c-a1b9-ea5b49e4ffbf",
   "metadata": {},
   "outputs": [
    {
     "ename": "DetachedInstanceError",
     "evalue": "Instance <MarkedSentence at 0x109ad3e90> is not bound to a Session; attribute refresh operation cannot proceed (Background on this error at: https://sqlalche.me/e/20/bhk3)",
     "output_type": "error",
     "traceback": [
      "\u001b[0;31m---------------------------------------------------------------------------\u001b[0m",
      "\u001b[0;31mDetachedInstanceError\u001b[0m                     Traceback (most recent call last)",
      "File \u001b[0;32m~/.pyenv/versions/symbolic/lib/python3.11/site-packages/IPython/core/formatters.py:708\u001b[0m, in \u001b[0;36mPlainTextFormatter.__call__\u001b[0;34m(self, obj)\u001b[0m\n\u001b[1;32m    701\u001b[0m stream \u001b[38;5;241m=\u001b[39m StringIO()\n\u001b[1;32m    702\u001b[0m printer \u001b[38;5;241m=\u001b[39m pretty\u001b[38;5;241m.\u001b[39mRepresentationPrinter(stream, \u001b[38;5;28mself\u001b[39m\u001b[38;5;241m.\u001b[39mverbose,\n\u001b[1;32m    703\u001b[0m     \u001b[38;5;28mself\u001b[39m\u001b[38;5;241m.\u001b[39mmax_width, \u001b[38;5;28mself\u001b[39m\u001b[38;5;241m.\u001b[39mnewline,\n\u001b[1;32m    704\u001b[0m     max_seq_length\u001b[38;5;241m=\u001b[39m\u001b[38;5;28mself\u001b[39m\u001b[38;5;241m.\u001b[39mmax_seq_length,\n\u001b[1;32m    705\u001b[0m     singleton_pprinters\u001b[38;5;241m=\u001b[39m\u001b[38;5;28mself\u001b[39m\u001b[38;5;241m.\u001b[39msingleton_printers,\n\u001b[1;32m    706\u001b[0m     type_pprinters\u001b[38;5;241m=\u001b[39m\u001b[38;5;28mself\u001b[39m\u001b[38;5;241m.\u001b[39mtype_printers,\n\u001b[1;32m    707\u001b[0m     deferred_pprinters\u001b[38;5;241m=\u001b[39m\u001b[38;5;28mself\u001b[39m\u001b[38;5;241m.\u001b[39mdeferred_printers)\n\u001b[0;32m--> 708\u001b[0m \u001b[43mprinter\u001b[49m\u001b[38;5;241;43m.\u001b[39;49m\u001b[43mpretty\u001b[49m\u001b[43m(\u001b[49m\u001b[43mobj\u001b[49m\u001b[43m)\u001b[49m\n\u001b[1;32m    709\u001b[0m printer\u001b[38;5;241m.\u001b[39mflush()\n\u001b[1;32m    710\u001b[0m \u001b[38;5;28;01mreturn\u001b[39;00m stream\u001b[38;5;241m.\u001b[39mgetvalue()\n",
      "File \u001b[0;32m~/.pyenv/versions/symbolic/lib/python3.11/site-packages/IPython/lib/pretty.py:393\u001b[0m, in \u001b[0;36mRepresentationPrinter.pretty\u001b[0;34m(self, obj)\u001b[0m\n\u001b[1;32m    390\u001b[0m \u001b[38;5;28;01mfor\u001b[39;00m \u001b[38;5;28mcls\u001b[39m \u001b[38;5;129;01min\u001b[39;00m _get_mro(obj_class):\n\u001b[1;32m    391\u001b[0m     \u001b[38;5;28;01mif\u001b[39;00m \u001b[38;5;28mcls\u001b[39m \u001b[38;5;129;01min\u001b[39;00m \u001b[38;5;28mself\u001b[39m\u001b[38;5;241m.\u001b[39mtype_pprinters:\n\u001b[1;32m    392\u001b[0m         \u001b[38;5;66;03m# printer registered in self.type_pprinters\u001b[39;00m\n\u001b[0;32m--> 393\u001b[0m         \u001b[38;5;28;01mreturn\u001b[39;00m \u001b[38;5;28;43mself\u001b[39;49m\u001b[38;5;241;43m.\u001b[39;49m\u001b[43mtype_pprinters\u001b[49m\u001b[43m[\u001b[49m\u001b[38;5;28;43mcls\u001b[39;49m\u001b[43m]\u001b[49m\u001b[43m(\u001b[49m\u001b[43mobj\u001b[49m\u001b[43m,\u001b[49m\u001b[43m \u001b[49m\u001b[38;5;28;43mself\u001b[39;49m\u001b[43m,\u001b[49m\u001b[43m \u001b[49m\u001b[43mcycle\u001b[49m\u001b[43m)\u001b[49m\n\u001b[1;32m    394\u001b[0m     \u001b[38;5;28;01melse\u001b[39;00m:\n\u001b[1;32m    395\u001b[0m         \u001b[38;5;66;03m# deferred printer\u001b[39;00m\n\u001b[1;32m    396\u001b[0m         printer \u001b[38;5;241m=\u001b[39m \u001b[38;5;28mself\u001b[39m\u001b[38;5;241m.\u001b[39m_in_deferred_types(\u001b[38;5;28mcls\u001b[39m)\n",
      "File \u001b[0;32m~/.pyenv/versions/symbolic/lib/python3.11/site-packages/IPython/lib/pretty.py:640\u001b[0m, in \u001b[0;36m_seq_pprinter_factory.<locals>.inner\u001b[0;34m(obj, p, cycle)\u001b[0m\n\u001b[1;32m    638\u001b[0m         p\u001b[38;5;241m.\u001b[39mtext(\u001b[38;5;124m'\u001b[39m\u001b[38;5;124m,\u001b[39m\u001b[38;5;124m'\u001b[39m)\n\u001b[1;32m    639\u001b[0m         p\u001b[38;5;241m.\u001b[39mbreakable()\n\u001b[0;32m--> 640\u001b[0m     \u001b[43mp\u001b[49m\u001b[38;5;241;43m.\u001b[39;49m\u001b[43mpretty\u001b[49m\u001b[43m(\u001b[49m\u001b[43mx\u001b[49m\u001b[43m)\u001b[49m\n\u001b[1;32m    641\u001b[0m \u001b[38;5;28;01mif\u001b[39;00m \u001b[38;5;28mlen\u001b[39m(obj) \u001b[38;5;241m==\u001b[39m \u001b[38;5;241m1\u001b[39m \u001b[38;5;129;01mand\u001b[39;00m \u001b[38;5;28misinstance\u001b[39m(obj, \u001b[38;5;28mtuple\u001b[39m):\n\u001b[1;32m    642\u001b[0m     \u001b[38;5;66;03m# Special case for 1-item tuples.\u001b[39;00m\n\u001b[1;32m    643\u001b[0m     p\u001b[38;5;241m.\u001b[39mtext(\u001b[38;5;124m'\u001b[39m\u001b[38;5;124m,\u001b[39m\u001b[38;5;124m'\u001b[39m)\n",
      "File \u001b[0;32m~/.pyenv/versions/symbolic/lib/python3.11/site-packages/IPython/lib/pretty.py:410\u001b[0m, in \u001b[0;36mRepresentationPrinter.pretty\u001b[0;34m(self, obj)\u001b[0m\n\u001b[1;32m    407\u001b[0m                         \u001b[38;5;28;01mreturn\u001b[39;00m meth(obj, \u001b[38;5;28mself\u001b[39m, cycle)\n\u001b[1;32m    408\u001b[0m                 \u001b[38;5;28;01mif\u001b[39;00m \u001b[38;5;28mcls\u001b[39m \u001b[38;5;129;01mis\u001b[39;00m \u001b[38;5;129;01mnot\u001b[39;00m \u001b[38;5;28mobject\u001b[39m \\\n\u001b[1;32m    409\u001b[0m                         \u001b[38;5;129;01mand\u001b[39;00m \u001b[38;5;28mcallable\u001b[39m(\u001b[38;5;28mcls\u001b[39m\u001b[38;5;241m.\u001b[39m\u001b[38;5;18m__dict__\u001b[39m\u001b[38;5;241m.\u001b[39mget(\u001b[38;5;124m'\u001b[39m\u001b[38;5;124m__repr__\u001b[39m\u001b[38;5;124m'\u001b[39m)):\n\u001b[0;32m--> 410\u001b[0m                     \u001b[38;5;28;01mreturn\u001b[39;00m \u001b[43m_repr_pprint\u001b[49m\u001b[43m(\u001b[49m\u001b[43mobj\u001b[49m\u001b[43m,\u001b[49m\u001b[43m \u001b[49m\u001b[38;5;28;43mself\u001b[39;49m\u001b[43m,\u001b[49m\u001b[43m \u001b[49m\u001b[43mcycle\u001b[49m\u001b[43m)\u001b[49m\n\u001b[1;32m    412\u001b[0m     \u001b[38;5;28;01mreturn\u001b[39;00m _default_pprint(obj, \u001b[38;5;28mself\u001b[39m, cycle)\n\u001b[1;32m    413\u001b[0m \u001b[38;5;28;01mfinally\u001b[39;00m:\n",
      "File \u001b[0;32m~/.pyenv/versions/symbolic/lib/python3.11/site-packages/IPython/lib/pretty.py:778\u001b[0m, in \u001b[0;36m_repr_pprint\u001b[0;34m(obj, p, cycle)\u001b[0m\n\u001b[1;32m    776\u001b[0m \u001b[38;5;250m\u001b[39m\u001b[38;5;124;03m\"\"\"A pprint that just redirects to the normal repr function.\"\"\"\u001b[39;00m\n\u001b[1;32m    777\u001b[0m \u001b[38;5;66;03m# Find newlines and replace them with p.break_()\u001b[39;00m\n\u001b[0;32m--> 778\u001b[0m output \u001b[38;5;241m=\u001b[39m \u001b[38;5;28mrepr\u001b[39m(obj)\n\u001b[1;32m    779\u001b[0m lines \u001b[38;5;241m=\u001b[39m output\u001b[38;5;241m.\u001b[39msplitlines()\n\u001b[1;32m    780\u001b[0m \u001b[38;5;28;01mwith\u001b[39;00m p\u001b[38;5;241m.\u001b[39mgroup():\n",
      "File \u001b[0;32m~/assimil/database.py:73\u001b[0m, in \u001b[0;36mMarkedSentence.__repr__\u001b[0;34m(self)\u001b[0m\n\u001b[1;32m     72\u001b[0m \u001b[38;5;28;01mdef\u001b[39;00m \u001b[38;5;21m__repr__\u001b[39m(\u001b[38;5;28mself\u001b[39m) \u001b[38;5;241m-\u001b[39m\u001b[38;5;241m>\u001b[39m \u001b[38;5;28mstr\u001b[39m:\n\u001b[0;32m---> 73\u001b[0m     \u001b[38;5;28;01mreturn\u001b[39;00m \u001b[38;5;124mf\u001b[39m\u001b[38;5;124m\"\u001b[39m\u001b[38;5;124mSentence(id=\u001b[39m\u001b[38;5;132;01m{\u001b[39;00m\u001b[38;5;28;43mself\u001b[39;49m\u001b[38;5;241;43m.\u001b[39;49m\u001b[43mid\u001b[49m\u001b[38;5;132;01m!r}\u001b[39;00m\u001b[38;5;124m, line=\u001b[39m\u001b[38;5;132;01m{\u001b[39;00m\u001b[38;5;28mself\u001b[39m\u001b[38;5;241m.\u001b[39mline\u001b[38;5;132;01m!r}\u001b[39;00m\u001b[38;5;124m, sentence =\u001b[39m\u001b[38;5;132;01m{\u001b[39;00m\u001b[38;5;28mself\u001b[39m\u001b[38;5;241m.\u001b[39msentence\u001b[38;5;132;01m!r}\u001b[39;00m\u001b[38;5;124m, comment=\u001b[39m\u001b[38;5;132;01m{\u001b[39;00m\u001b[38;5;28mself\u001b[39m\u001b[38;5;241m.\u001b[39mcomment\u001b[38;5;132;01m!r}\u001b[39;00m\u001b[38;5;124m)\u001b[39m\u001b[38;5;124m\"\u001b[39m\n",
      "File \u001b[0;32m~/.pyenv/versions/symbolic/lib/python3.11/site-packages/sqlalchemy/orm/attributes.py:566\u001b[0m, in \u001b[0;36mInstrumentedAttribute.__get__\u001b[0;34m(self, instance, owner)\u001b[0m\n\u001b[1;32m    564\u001b[0m \u001b[38;5;28;01mexcept\u001b[39;00m \u001b[38;5;167;01mAttributeError\u001b[39;00m \u001b[38;5;28;01mas\u001b[39;00m err:\n\u001b[1;32m    565\u001b[0m     \u001b[38;5;28;01mraise\u001b[39;00m orm_exc\u001b[38;5;241m.\u001b[39mUnmappedInstanceError(instance) \u001b[38;5;28;01mfrom\u001b[39;00m \u001b[38;5;21;01merr\u001b[39;00m\n\u001b[0;32m--> 566\u001b[0m \u001b[38;5;28;01mreturn\u001b[39;00m \u001b[38;5;28;43mself\u001b[39;49m\u001b[38;5;241;43m.\u001b[39;49m\u001b[43mimpl\u001b[49m\u001b[38;5;241;43m.\u001b[39;49m\u001b[43mget\u001b[49m\u001b[43m(\u001b[49m\u001b[43mstate\u001b[49m\u001b[43m,\u001b[49m\u001b[43m \u001b[49m\u001b[43mdict_\u001b[49m\u001b[43m)\u001b[49m\n",
      "File \u001b[0;32m~/.pyenv/versions/symbolic/lib/python3.11/site-packages/sqlalchemy/orm/attributes.py:1086\u001b[0m, in \u001b[0;36mAttributeImpl.get\u001b[0;34m(self, state, dict_, passive)\u001b[0m\n\u001b[1;32m   1083\u001b[0m \u001b[38;5;28;01mif\u001b[39;00m \u001b[38;5;129;01mnot\u001b[39;00m passive \u001b[38;5;241m&\u001b[39m CALLABLES_OK:\n\u001b[1;32m   1084\u001b[0m     \u001b[38;5;28;01mreturn\u001b[39;00m PASSIVE_NO_RESULT\n\u001b[0;32m-> 1086\u001b[0m value \u001b[38;5;241m=\u001b[39m \u001b[38;5;28;43mself\u001b[39;49m\u001b[38;5;241;43m.\u001b[39;49m\u001b[43m_fire_loader_callables\u001b[49m\u001b[43m(\u001b[49m\u001b[43mstate\u001b[49m\u001b[43m,\u001b[49m\u001b[43m \u001b[49m\u001b[43mkey\u001b[49m\u001b[43m,\u001b[49m\u001b[43m \u001b[49m\u001b[43mpassive\u001b[49m\u001b[43m)\u001b[49m\n\u001b[1;32m   1088\u001b[0m \u001b[38;5;28;01mif\u001b[39;00m value \u001b[38;5;129;01mis\u001b[39;00m PASSIVE_NO_RESULT \u001b[38;5;129;01mor\u001b[39;00m value \u001b[38;5;129;01mis\u001b[39;00m NO_VALUE:\n\u001b[1;32m   1089\u001b[0m     \u001b[38;5;28;01mreturn\u001b[39;00m value\n",
      "File \u001b[0;32m~/.pyenv/versions/symbolic/lib/python3.11/site-packages/sqlalchemy/orm/attributes.py:1116\u001b[0m, in \u001b[0;36mAttributeImpl._fire_loader_callables\u001b[0;34m(self, state, key, passive)\u001b[0m\n\u001b[1;32m   1108\u001b[0m \u001b[38;5;28;01mdef\u001b[39;00m \u001b[38;5;21m_fire_loader_callables\u001b[39m(\n\u001b[1;32m   1109\u001b[0m     \u001b[38;5;28mself\u001b[39m, state: InstanceState[Any], key: \u001b[38;5;28mstr\u001b[39m, passive: PassiveFlag\n\u001b[1;32m   1110\u001b[0m ) \u001b[38;5;241m-\u001b[39m\u001b[38;5;241m>\u001b[39m Any:\n\u001b[1;32m   1111\u001b[0m     \u001b[38;5;28;01mif\u001b[39;00m (\n\u001b[1;32m   1112\u001b[0m         \u001b[38;5;28mself\u001b[39m\u001b[38;5;241m.\u001b[39maccepts_scalar_loader\n\u001b[1;32m   1113\u001b[0m         \u001b[38;5;129;01mand\u001b[39;00m \u001b[38;5;28mself\u001b[39m\u001b[38;5;241m.\u001b[39mload_on_unexpire\n\u001b[1;32m   1114\u001b[0m         \u001b[38;5;129;01mand\u001b[39;00m key \u001b[38;5;129;01min\u001b[39;00m state\u001b[38;5;241m.\u001b[39mexpired_attributes\n\u001b[1;32m   1115\u001b[0m     ):\n\u001b[0;32m-> 1116\u001b[0m         \u001b[38;5;28;01mreturn\u001b[39;00m \u001b[43mstate\u001b[49m\u001b[38;5;241;43m.\u001b[39;49m\u001b[43m_load_expired\u001b[49m\u001b[43m(\u001b[49m\u001b[43mstate\u001b[49m\u001b[43m,\u001b[49m\u001b[43m \u001b[49m\u001b[43mpassive\u001b[49m\u001b[43m)\u001b[49m\n\u001b[1;32m   1117\u001b[0m     \u001b[38;5;28;01melif\u001b[39;00m key \u001b[38;5;129;01min\u001b[39;00m state\u001b[38;5;241m.\u001b[39mcallables:\n\u001b[1;32m   1118\u001b[0m         callable_ \u001b[38;5;241m=\u001b[39m state\u001b[38;5;241m.\u001b[39mcallables[key]\n",
      "File \u001b[0;32m~/.pyenv/versions/symbolic/lib/python3.11/site-packages/sqlalchemy/orm/state.py:803\u001b[0m, in \u001b[0;36mInstanceState._load_expired\u001b[0;34m(self, state, passive)\u001b[0m\n\u001b[1;32m    796\u001b[0m toload \u001b[38;5;241m=\u001b[39m \u001b[38;5;28mself\u001b[39m\u001b[38;5;241m.\u001b[39mexpired_attributes\u001b[38;5;241m.\u001b[39mintersection(\u001b[38;5;28mself\u001b[39m\u001b[38;5;241m.\u001b[39munmodified)\n\u001b[1;32m    797\u001b[0m toload \u001b[38;5;241m=\u001b[39m toload\u001b[38;5;241m.\u001b[39mdifference(\n\u001b[1;32m    798\u001b[0m     attr\n\u001b[1;32m    799\u001b[0m     \u001b[38;5;28;01mfor\u001b[39;00m attr \u001b[38;5;129;01min\u001b[39;00m toload\n\u001b[1;32m    800\u001b[0m     \u001b[38;5;28;01mif\u001b[39;00m \u001b[38;5;129;01mnot\u001b[39;00m \u001b[38;5;28mself\u001b[39m\u001b[38;5;241m.\u001b[39mmanager[attr]\u001b[38;5;241m.\u001b[39mimpl\u001b[38;5;241m.\u001b[39mload_on_unexpire\n\u001b[1;32m    801\u001b[0m )\n\u001b[0;32m--> 803\u001b[0m \u001b[38;5;28;43mself\u001b[39;49m\u001b[38;5;241;43m.\u001b[39;49m\u001b[43mmanager\u001b[49m\u001b[38;5;241;43m.\u001b[39;49m\u001b[43mexpired_attribute_loader\u001b[49m\u001b[43m(\u001b[49m\u001b[38;5;28;43mself\u001b[39;49m\u001b[43m,\u001b[49m\u001b[43m \u001b[49m\u001b[43mtoload\u001b[49m\u001b[43m,\u001b[49m\u001b[43m \u001b[49m\u001b[43mpassive\u001b[49m\u001b[43m)\u001b[49m\n\u001b[1;32m    805\u001b[0m \u001b[38;5;66;03m# if the loader failed, or this\u001b[39;00m\n\u001b[1;32m    806\u001b[0m \u001b[38;5;66;03m# instance state didn't have an identity,\u001b[39;00m\n\u001b[1;32m    807\u001b[0m \u001b[38;5;66;03m# the attributes still might be in the callables\u001b[39;00m\n\u001b[1;32m    808\u001b[0m \u001b[38;5;66;03m# dict.  ensure they are removed.\u001b[39;00m\n\u001b[1;32m    809\u001b[0m \u001b[38;5;28mself\u001b[39m\u001b[38;5;241m.\u001b[39mexpired_attributes\u001b[38;5;241m.\u001b[39mclear()\n",
      "File \u001b[0;32m~/.pyenv/versions/symbolic/lib/python3.11/site-packages/sqlalchemy/orm/loading.py:1603\u001b[0m, in \u001b[0;36mload_scalar_attributes\u001b[0;34m(mapper, state, attribute_names, passive)\u001b[0m\n\u001b[1;32m   1601\u001b[0m session \u001b[38;5;241m=\u001b[39m state\u001b[38;5;241m.\u001b[39msession\n\u001b[1;32m   1602\u001b[0m \u001b[38;5;28;01mif\u001b[39;00m \u001b[38;5;129;01mnot\u001b[39;00m session:\n\u001b[0;32m-> 1603\u001b[0m     \u001b[38;5;28;01mraise\u001b[39;00m orm_exc\u001b[38;5;241m.\u001b[39mDetachedInstanceError(\n\u001b[1;32m   1604\u001b[0m         \u001b[38;5;124m\"\u001b[39m\u001b[38;5;124mInstance \u001b[39m\u001b[38;5;132;01m%s\u001b[39;00m\u001b[38;5;124m is not bound to a Session; \u001b[39m\u001b[38;5;124m\"\u001b[39m\n\u001b[1;32m   1605\u001b[0m         \u001b[38;5;124m\"\u001b[39m\u001b[38;5;124mattribute refresh operation cannot proceed\u001b[39m\u001b[38;5;124m\"\u001b[39m \u001b[38;5;241m%\u001b[39m (state_str(state))\n\u001b[1;32m   1606\u001b[0m     )\n\u001b[1;32m   1608\u001b[0m no_autoflush \u001b[38;5;241m=\u001b[39m \u001b[38;5;28mbool\u001b[39m(passive \u001b[38;5;241m&\u001b[39m attributes\u001b[38;5;241m.\u001b[39mNO_AUTOFLUSH)\n\u001b[1;32m   1610\u001b[0m \u001b[38;5;66;03m# in the case of inheritance, particularly concrete and abstract\u001b[39;00m\n\u001b[1;32m   1611\u001b[0m \u001b[38;5;66;03m# concrete inheritance, the class manager might have some keys\u001b[39;00m\n\u001b[1;32m   1612\u001b[0m \u001b[38;5;66;03m# of attributes on the superclass that we didn't actually map.\u001b[39;00m\n\u001b[1;32m   1613\u001b[0m \u001b[38;5;66;03m# These could be mapped as \"concrete, don't load\" or could be completely\u001b[39;00m\n\u001b[1;32m   1614\u001b[0m \u001b[38;5;66;03m# excluded from the mapping and we know nothing about them.  Filter them\u001b[39;00m\n\u001b[1;32m   1615\u001b[0m \u001b[38;5;66;03m# here to prevent them from coming through.\u001b[39;00m\n",
      "\u001b[0;31mDetachedInstanceError\u001b[0m: Instance <MarkedSentence at 0x109ad3e90> is not bound to a Session; attribute refresh operation cannot proceed (Background on this error at: https://sqlalche.me/e/20/bhk3)"
     ]
    }
   ],
   "source": [
    "new_errors"
   ]
  },
  {
   "cell_type": "code",
   "execution_count": 3,
   "id": "38281072-3287-48b7-bf8e-794a2a6708b6",
   "metadata": {},
   "outputs": [],
   "source": [
    "from sqlalchemy import ForeignKey, select, delete, String, and_\n",
    "from sqlalchemy.orm import Session\n",
    "from database import MarkedSentence, LessonSession, engine\n",
    "from tonic_accent import clean_paragraph\n",
    "import datetime"
   ]
  },
  {
   "cell_type": "code",
   "execution_count": 13,
   "id": "c067ed4d-0fa9-4adf-8857-789152f70c5f",
   "metadata": {},
   "outputs": [
    {
     "name": "stdout",
     "output_type": "stream",
     "text": [
      "----- Leçon : 50 -------\n",
      "----- Leçon : 1 -------\n",
      "----- Leçon : 51 -------\n",
      "----- Leçon : 3 -------\n",
      "----- Leçon : 52 -------\n",
      "----- Leçon : 53 -------\n",
      "----- Leçon : 4 -------\n",
      "----- Leçon : 54 -------\n",
      "----- Leçon : 5 -------\n",
      "----- Leçon : 55 -------\n",
      "----- Leçon : 56 -------\n",
      "----- Leçon : 7 -------\n",
      "----- Leçon : 57 -------\n",
      "----- Leçon : 58 -------\n",
      "----- Leçon : 2 -------\n",
      "----- Leçon : 6 -------\n",
      "----- Leçon : 59 -------\n",
      "----- Leçon : 6 -------\n",
      "----- Leçon : 7 -------\n",
      "----- Leçon : 8 -------\n",
      "----- Leçon : 9 -------\n",
      "----- Leçon : 10 -------\n",
      "----- Leçon : 60 -------\n",
      "----- Leçon : 11 -------\n",
      "----- Leçon : 61 -------\n",
      "----- Leçon : 62 -------\n",
      "----- Leçon : 12 -------\n",
      "----- Leçon : 63 -------\n",
      "----- Leçon : 14 -------\n",
      "----- Leçon : 13 -------\n",
      "----- Leçon : 15 -------\n",
      "----- Leçon : 64 -------\n",
      "----- Leçon : 65 -------\n",
      "----- Leçon : 16 -------\n",
      "----- Leçon : 66 -------\n",
      "----- Leçon : 27 -------\n",
      "----- Leçon : 17 -------\n",
      "----- Leçon : 67 -------\n",
      "----- Leçon : 18 -------\n",
      "----- Leçon : 68 -------\n",
      "----- Leçon : 19 -------\n",
      "----- Leçon : 69 -------\n",
      "----- Leçon : 20 -------\n",
      "----- Leçon : 70 -------\n",
      "----- Leçon : 21 -------\n",
      "----- Leçon : 71 -------\n",
      "----- Leçon : 22 -------\n",
      "----- Leçon : 72 -------\n",
      "----- Leçon : 23 -------\n",
      "----- Leçon : 73 -------\n",
      "----- Leçon : 24 -------\n",
      "----- Leçon : 74 -------\n",
      "----- Leçon : 25 -------\n",
      "----- Leçon : 75 -------\n",
      "----- Leçon : 26 -------\n",
      "----- Leçon : 76 -------\n",
      "----- Leçon : 27 -------\n",
      "----- Leçon : 77 -------\n",
      "----- Leçon : 78 -------\n",
      "----- Leçon : 29 -------\n",
      "----- Leçon : 79 -------\n",
      "----- Leçon : 28 -------\n",
      "----- Leçon : 30 -------\n",
      "----- Leçon : 80 -------\n",
      "----- Leçon : 31 -------\n",
      "----- Leçon : 81 -------\n",
      "----- Leçon : 82 -------\n",
      "----- Leçon : 32 -------\n",
      "----- Leçon : 33 -------\n",
      "----- Leçon : 83 -------\n",
      "----- Leçon : 34 -------\n",
      "----- Leçon : 84 -------\n",
      "----- Leçon : 35 -------\n",
      "----- Leçon : 85 -------\n",
      "----- Leçon : 36 -------\n",
      "----- Leçon : 86 -------\n",
      "----- Leçon : 37 -------\n",
      "----- Leçon : 87 -------\n",
      "----- Leçon : 38 -------\n",
      "----- Leçon : 88 -------\n",
      "----- Leçon : 39 -------\n",
      "----- Leçon : 89 -------\n",
      "----- Leçon : 40 -------\n",
      "----- Leçon : 90 -------\n",
      "----- Leçon : 41 -------\n",
      "----- Leçon : 91 -------\n",
      "----- Leçon : 42 -------\n"
     ]
    }
   ],
   "source": [
    "\n",
    "stmt = select(LessonSession).where(LessonSession.date_time < datetime.datetime(2024, 9, 28))\n",
    "\n",
    "with Session(engine) as session:\n",
    "    for lesson_session in session.scalars(stmt):\n",
    "        print(f\"----- Leçon : {lesson_session.lesson} -------\")\n",
    "        for s in lesson_session.errored_sentences:\n",
    "            #print(s.line, s.sentence)\n",
    "            #print(s.line, clean_paragraph(s.sentence))\n",
    "            #s.sentence = clean_paragraph(s.sentence)\n",
    "    session.commit()\n",
    "    \n",
    "\n"
   ]
  },
  {
   "cell_type": "code",
   "execution_count": 31,
   "id": "3c709cbd-c512-4129-ae6d-d9ca853c5098",
   "metadata": {},
   "outputs": [
    {
     "name": "stdout",
     "output_type": "stream",
     "text": [
      "date time : datetime.datetime(2024, 10, 6, 17, 43, 40, 596969), lesson 52 errors number : 2\n",
      "----- Leçon : 52 -------\n",
      "[Sentence(id=445, line=10, sentence =\"Sí, <b>cla</b>ro, hoy en <b>dí</b>a tam<b>bién</b> <mark class='G' title='&#034;le&#034; et non pas &#034;se lo&#034;'>le</mark> <b>e</b>chan a<b>zú</b>car, \", comment=None), Sentence(id=446, line=12, sentence =\"<b>Nues</b>tras me<b>rien</b>das sí que las <mark class='G' title='&#034;las echaba&#034; et non pas &#034;echaban&#034;'>e<b>cha</b>ba</mark> de <b>me</b>nos: un buen choco<b>la</b>te con <b>chu</b>rros…\", comment=None)]\n"
     ]
    }
   ],
   "source": [
    "stmt = select(LessonSession).where(\n",
    "    and_(\n",
    "        LessonSession.lesson == 52,\n",
    "        LessonSession.date_time == datetime.datetime(2024, 10, 6, 17, 43, 40, 596969)\n",
    "    )\n",
    ")\n",
    "\n",
    "with Session(engine) as session:\n",
    "    for lesson_session in session.scalars(stmt):\n",
    "        print(lesson_session)\n",
    "        print(f\"----- Leçon : {lesson_session.lesson} -------\")\n",
    "        print(lesson_session.errored_sentences)\n",
    "        #session.delete(lesson_session.errored_sentences[0])\n",
    "    session.commit()\n"
   ]
  },
  {
   "cell_type": "code",
   "execution_count": null,
   "id": "e4e06291-28e7-4e3c-83fa-94b288368ea3",
   "metadata": {},
   "outputs": [],
   "source": []
  }
 ],
 "metadata": {
  "kernelspec": {
   "display_name": "Python 3 (ipykernel)",
   "language": "python",
   "name": "python3"
  },
  "language_info": {
   "codemirror_mode": {
    "name": "ipython",
    "version": 3
   },
   "file_extension": ".py",
   "mimetype": "text/x-python",
   "name": "python",
   "nbconvert_exporter": "python",
   "pygments_lexer": "ipython3",
   "version": "3.11.3"
  }
 },
 "nbformat": 4,
 "nbformat_minor": 5
}
