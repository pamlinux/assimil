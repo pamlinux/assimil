{
 "cells": [
  {
   "cell_type": "code",
   "execution_count": 6,
   "id": "5b5587f2-af25-4400-8a50-9dacc63dbcf9",
   "metadata": {},
   "outputs": [],
   "source": [
    "from sqlalchemy import ForeignKey, select, delete, String, and_\n",
    "from sqlalchemy.orm import Session\n",
    "from database import MarkedSentence, LessonSession, engine"
   ]
  },
  {
   "cell_type": "code",
   "execution_count": 7,
   "id": "4242b764-aa9e-4ed3-8804-bf57302c7d59",
   "metadata": {},
   "outputs": [
    {
     "name": "stdout",
     "output_type": "stream",
     "text": [
      "2024-09-07 13:16:05,448 INFO sqlalchemy.engine.Engine BEGIN (implicit)\n",
      "2024-09-07 13:16:05,454 INFO sqlalchemy.engine.Engine SELECT lesson_sessions.id, lesson_sessions.lesson, lesson_sessions.date_time, lesson_sessions.errors_number \n",
      "FROM lesson_sessions\n",
      "2024-09-07 13:16:05,455 INFO sqlalchemy.engine.Engine [generated in 0.00146s] ()\n",
      "date time : datetime.datetime(2024, 9, 4, 22, 42, 30, 759328), lesson 50 errors number : 6\n",
      "date time : datetime.datetime(2024, 9, 4, 23, 2, 0, 780033), lesson 1 errors number : 0\n",
      "date time : datetime.datetime(2024, 9, 5, 9, 19, 11, 922138), lesson 51 errors number : 3\n",
      "date time : datetime.datetime(2024, 9, 6, 23, 30, 29, 589456), lesson 52 errors number : 5\n",
      "date time : datetime.datetime(2024, 9, 6, 23, 54, 35, 589923), lesson 3 errors number : 3\n",
      "2024-09-07 13:16:05,458 INFO sqlalchemy.engine.Engine ROLLBACK\n"
     ]
    }
   ],
   "source": [
    "stmt = select(LessonSession)\n",
    "with Session(engine) as session:\n",
    "    for entry in session.scalars(stmt):\n",
    "        print(entry)"
   ]
  },
  {
   "cell_type": "code",
   "execution_count": 8,
   "id": "f53695ed-467b-4e8d-bbf0-88343454a3d8",
   "metadata": {},
   "outputs": [
    {
     "name": "stdout",
     "output_type": "stream",
     "text": [
      "2024-09-07 13:16:06,492 INFO sqlalchemy.engine.Engine BEGIN (implicit)\n",
      "2024-09-07 13:16:06,495 INFO sqlalchemy.engine.Engine SELECT lesson_sessions.id, lesson_sessions.lesson, lesson_sessions.date_time, lesson_sessions.errors_number \n",
      "FROM lesson_sessions\n",
      "2024-09-07 13:16:06,496 INFO sqlalchemy.engine.Engine [cached since 1.042s ago] ()\n",
      "2024-09-07 13:16:06,522 INFO sqlalchemy.engine.Engine SELECT marked_sentences.id AS marked_sentences_id, marked_sentences.sentence AS marked_sentences_sentence, marked_sentences.comment AS marked_sentences_comment, marked_sentences.line AS marked_sentences_line, marked_sentences.session_id AS marked_sentences_session_id \n",
      "FROM marked_sentences \n",
      "WHERE ? = marked_sentences.session_id\n",
      "2024-09-07 13:16:06,522 INFO sqlalchemy.engine.Engine [generated in 0.00072s] (1,)\n",
      "date time : datetime.datetime(2024, 9, 4, 22, 42, 30, 759328), lesson 50 errors number : 6\n",
      "date time : datetime.datetime(2024, 9, 4, 22, 42, 30, 759328), lesson 50 errors number : 6\n",
      "date time : datetime.datetime(2024, 9, 4, 22, 42, 30, 759328), lesson 50 errors number : 6\n",
      "date time : datetime.datetime(2024, 9, 4, 22, 42, 30, 759328), lesson 50 errors number : 6\n",
      "date time : datetime.datetime(2024, 9, 4, 22, 42, 30, 759328), lesson 50 errors number : 6\n",
      "date time : datetime.datetime(2024, 9, 4, 22, 42, 30, 759328), lesson 50 errors number : 6\n",
      "2024-09-07 13:16:06,528 INFO sqlalchemy.engine.Engine SELECT marked_sentences.id AS marked_sentences_id, marked_sentences.sentence AS marked_sentences_sentence, marked_sentences.comment AS marked_sentences_comment, marked_sentences.line AS marked_sentences_line, marked_sentences.session_id AS marked_sentences_session_id \n",
      "FROM marked_sentences \n",
      "WHERE ? = marked_sentences.session_id\n",
      "2024-09-07 13:16:06,529 INFO sqlalchemy.engine.Engine [cached since 0.007367s ago] (2,)\n",
      "2024-09-07 13:16:06,530 INFO sqlalchemy.engine.Engine SELECT marked_sentences.id AS marked_sentences_id, marked_sentences.sentence AS marked_sentences_sentence, marked_sentences.comment AS marked_sentences_comment, marked_sentences.line AS marked_sentences_line, marked_sentences.session_id AS marked_sentences_session_id \n",
      "FROM marked_sentences \n",
      "WHERE ? = marked_sentences.session_id\n",
      "2024-09-07 13:16:06,530 INFO sqlalchemy.engine.Engine [cached since 0.008597s ago] (3,)\n",
      "date time : datetime.datetime(2024, 9, 5, 9, 19, 11, 922138), lesson 51 errors number : 3\n",
      "date time : datetime.datetime(2024, 9, 5, 9, 19, 11, 922138), lesson 51 errors number : 3\n",
      "date time : datetime.datetime(2024, 9, 5, 9, 19, 11, 922138), lesson 51 errors number : 3\n",
      "2024-09-07 13:16:06,532 INFO sqlalchemy.engine.Engine SELECT marked_sentences.id AS marked_sentences_id, marked_sentences.sentence AS marked_sentences_sentence, marked_sentences.comment AS marked_sentences_comment, marked_sentences.line AS marked_sentences_line, marked_sentences.session_id AS marked_sentences_session_id \n",
      "FROM marked_sentences \n",
      "WHERE ? = marked_sentences.session_id\n",
      "2024-09-07 13:16:06,532 INFO sqlalchemy.engine.Engine [cached since 0.01066s ago] (4,)\n",
      "date time : datetime.datetime(2024, 9, 6, 23, 30, 29, 589456), lesson 52 errors number : 5\n",
      "date time : datetime.datetime(2024, 9, 6, 23, 30, 29, 589456), lesson 52 errors number : 5\n",
      "date time : datetime.datetime(2024, 9, 6, 23, 30, 29, 589456), lesson 52 errors number : 5\n",
      "date time : datetime.datetime(2024, 9, 6, 23, 30, 29, 589456), lesson 52 errors number : 5\n",
      "date time : datetime.datetime(2024, 9, 6, 23, 30, 29, 589456), lesson 52 errors number : 5\n",
      "2024-09-07 13:16:06,534 INFO sqlalchemy.engine.Engine SELECT marked_sentences.id AS marked_sentences_id, marked_sentences.sentence AS marked_sentences_sentence, marked_sentences.comment AS marked_sentences_comment, marked_sentences.line AS marked_sentences_line, marked_sentences.session_id AS marked_sentences_session_id \n",
      "FROM marked_sentences \n",
      "WHERE ? = marked_sentences.session_id\n",
      "2024-09-07 13:16:06,534 INFO sqlalchemy.engine.Engine [cached since 0.01262s ago] (5,)\n",
      "date time : datetime.datetime(2024, 9, 6, 23, 54, 35, 589923), lesson 3 errors number : 3\n",
      "date time : datetime.datetime(2024, 9, 6, 23, 54, 35, 589923), lesson 3 errors number : 3\n",
      "date time : datetime.datetime(2024, 9, 6, 23, 54, 35, 589923), lesson 3 errors number : 3\n",
      "2024-09-07 13:16:06,535 INFO sqlalchemy.engine.Engine ROLLBACK\n"
     ]
    }
   ],
   "source": [
    "stmt = select(LessonSession)\n",
    "with Session(engine) as session:\n",
    "    for entry in session.scalars(stmt):\n",
    "        for sentence in entry.errored_sentences:\n",
    "            print(sentence.session)\n",
    "            "
   ]
  },
  {
   "cell_type": "code",
   "execution_count": 9,
   "id": "5e3d0040-6ce2-42b9-8232-805d0c04a76a",
   "metadata": {},
   "outputs": [],
   "source": [
    "from database import get_lesson_sessions_history"
   ]
  },
  {
   "cell_type": "code",
   "execution_count": 15,
   "id": "23c5260a-c13d-43f1-9b48-a10fb295b7a5",
   "metadata": {},
   "outputs": [
    {
     "name": "stdout",
     "output_type": "stream",
     "text": [
      "----------------- begin_date : None\n",
      "----------------- end_date : None\n",
      "2024-09-07 13:18:14,721 INFO sqlalchemy.engine.Engine BEGIN (implicit)\n",
      "2024-09-07 13:18:14,724 INFO sqlalchemy.engine.Engine SELECT lesson_sessions.id, lesson_sessions.lesson, lesson_sessions.date_time, lesson_sessions.errors_number \n",
      "FROM lesson_sessions \n",
      "WHERE lesson_sessions.date_time >= ? AND lesson_sessions.date_time <= ? AND lesson_sessions.lesson <= ? AND lesson_sessions.lesson >= ?\n",
      "2024-09-07 13:18:14,726 INFO sqlalchemy.engine.Engine [cached since 119s ago] ('0001-01-01 00:00:00.000000', '9999-12-31 23:59:59.999999', 100, 1)\n",
      "2024-09-07 13:18:14,729 INFO sqlalchemy.engine.Engine ROLLBACK\n"
     ]
    }
   ],
   "source": [
    "sessions = get_lesson_sessions_history()"
   ]
  },
  {
   "cell_type": "code",
   "execution_count": 16,
   "id": "56c1e924-62b6-4b52-88ce-d779376c216c",
   "metadata": {},
   "outputs": [
    {
     "data": {
      "text/plain": [
       "{50: {datetime.datetime(2024, 9, 4, 22, 42, 30, 759328): 6},\n",
       " 1: {datetime.datetime(2024, 9, 4, 23, 2, 0, 780033): 0},\n",
       " 51: {datetime.datetime(2024, 9, 5, 9, 19, 11, 922138): 3},\n",
       " 3: {datetime.datetime(2024, 9, 6, 23, 54, 35, 589923): 3}}"
      ]
     },
     "execution_count": 16,
     "metadata": {},
     "output_type": "execute_result"
    }
   ],
   "source": [
    "sessions"
   ]
  },
  {
   "cell_type": "code",
   "execution_count": 17,
   "id": "6ffce796-3582-4b88-9655-05765d8928e9",
   "metadata": {},
   "outputs": [],
   "source": [
    "import datetime"
   ]
  },
  {
   "cell_type": "code",
   "execution_count": 18,
   "id": "d5f4a369-7fa6-4472-b43d-88259b559812",
   "metadata": {},
   "outputs": [
    {
     "name": "stdout",
     "output_type": "stream",
     "text": [
      "2024-09-07 13:18:28,314 INFO sqlalchemy.engine.Engine BEGIN (implicit)\n",
      "2024-09-07 13:18:28,316 INFO sqlalchemy.engine.Engine DELETE FROM lesson_sessions WHERE lesson_sessions.date_time = ?\n",
      "2024-09-07 13:18:28,317 INFO sqlalchemy.engine.Engine [cached since 175.2s ago] ('2024-09-06 23:30:29.589456',)\n",
      "2024-09-07 13:18:28,318 INFO sqlalchemy.engine.Engine COMMIT\n"
     ]
    }
   ],
   "source": [
    "stmt = select(LessonSession)\n",
    "with Session(engine) as session:\n",
    "    session.execute(delete(LessonSession).where(LessonSession.date_time == datetime.datetime(2024, 9, 6, 23, 30, 29, 589456)))\n",
    "    session.commit()"
   ]
  },
  {
   "cell_type": "code",
   "execution_count": 19,
   "id": "51a177f0-a7e2-4e65-9963-77102cec6161",
   "metadata": {},
   "outputs": [],
   "source": [
    "html_with_selection = \"\"\"<p> N52-Lec<b>ción</b> cin<b>cuen</b>ta y dos </p>                  <p> S00-TITLE-La co<b>ci</b>na mexi<b>ca</b>na </p>                  <p> S01-No me has <b>di</b>cho <b>na</b>da de la co<b>ci</b>na mexi<b>ca</b>na </p>                  <p> S02-¿O a lo me<b>jor</b> no te atre<b>vis</b>te a pro<b>bar</b>la?  </p>                  <p> S03-¡Por su<b>pues</b>to que la pro<b>bé</b>! Me gus<b>tó</b> <b>so</b>bre <b>to</b>do el <b>mo</b>le es <b>u</b>na <b>sal</b>sa de ca<b>ca</b>o y guin<b>di</b>llas.  </p>                  <p> S04-¿Choco<b>la</b>te pi<b>can</b>te? ¿No te <mark class='V' title='3ème personne du singulier du passé simple de dar : dio et non pas di.'>dio</mark> <b>as</b>co?  </p>                  <p> S05-¡Qué va! ¡Es<b>tá</b> muy <b>ri</b>co! Lo a<b>mar</b>go va muy bien con lo pi<b>can</b>te.  </p>                  <p> S06-Los <b>pue</b>blos precolom<b>bi</b>nos ha<b>cí</b>an <b>u</b>na be<b>bi</b>da <b>ro</b>ja con el ca<b>ca</b>o.  </p>                  <p> S07-¡Por <b>e</b>so los conquista<b>do</b>res cre<b>ye</b>ron que be<b>bí</b>an <b>san</b>gre!  </p>                  <p> S08-¿<b>Pe</b>ro <b>nun</b>ca lo <b>to</b>man <b></b><mark class='V' title='3ème personne du pluriel du présent du verbe tomar.'><b>dul</b>ce</mark>?  </p>                  <p> S09-Sí, <b>cla</b>ro, hoy en <b>dí</b>a tam<b>bién</b> <mark class='G' title='cacao est complément d&#39;objet indirect donc=\"le\" et non pas \"lo\"'>le</mark> <b>e</b>chan a<b>zú</b>car,  </p>                  <p> S10-<b>pe</b>ro en la tradi<b>ción</b> in<b>dí</b>gena no se <mark class='G' title='cacao est complément d&#39;objet indirect donc=\"le\" et non pas \"lo\"'>le</mark> a<b>ña</b>de <b>le</b>che, <b>so</b>lo <b>a</b>gua.  </p>                  <p> S11-<b></b><mark class='O'><b></b><mark class='O' title='Meriendas est féminin, donc nuestras et non pas nuestros.'><b>Nues</b>tras</mark></mark> me<b>rien</b>das sí que las e<b>cha</b>ba de <b>me</b>nos un buen choco<b>la</b>te con <b>chu</b>rros. . .  </p>                  <p> S12-<b>E</b>so, <b>pa</b>ra meren<b>dar</b>, ¡<b>na</b>da <b>co</b>mo Es<b>pa</b>ña!  </p>                  <p> T00-TRANSLATE-Ejer<b>ci</b>cio 1 – Tra<b>duz</b>ca </p>                  <p> T01-No me has <b>di</b>cho si te gus<b>tó</b> la <b>sal</b>sa de ca<b>ca</b>o y guin<b>di</b>llas.  </p>                  <p> T02-¿Te atre<b>vis</b>te a to<b>mar</b> choco<b>la</b>te a<b>mar</b>go, pi<b>can</b>te y sin a<b>zú</b>car?  </p>                  <p> T03-¡Qué va! Me dio <b>as</b>co y no lo pro<b>bé</b>.  </p>                  <p> T04-Pues a lo me<b>jor</b> es<b>tá</b> muy <b>ri</b>co, <b>pe</b>ro pre<b>fie</b>ro un choco<b>la</b>te con <b>chu</b>rros.  </p>                  <p> T05-<b>E</b>cho de <b>me</b>nos la co<b>ci</b>na mexi<b>ca</b>na.  </p>\"\"\"              "
   ]
  },
  {
   "cell_type": "code",
   "execution_count": 20,
   "id": "309071e0-38c2-415a-9d4e-46719477167c",
   "metadata": {},
   "outputs": [
    {
     "name": "stdout",
     "output_type": "stream",
     "text": [
      "<p> N52-Lec<b>ción</b> cin<b>cuen</b>ta y dos </p>                  <p> S00-TITLE-La co<b>ci</b>na mexi<b>ca</b>na </p>                  <p> S01-No me has <b>di</b>cho <b>na</b>da de la co<b>ci</b>na mexi<b>ca</b>na </p>                  <p> S02-¿O a lo me<b>jor</b> no te atre<b>vis</b>te a pro<b>bar</b>la?  </p>                  <p> S03-¡Por su<b>pues</b>to que la pro<b>bé</b>! Me gus<b>tó</b> <b>so</b>bre <b>to</b>do el <b>mo</b>le es <b>u</b>na <b>sal</b>sa de ca<b>ca</b>o y guin<b>di</b>llas.  </p>                  <p> S04-¿Choco<b>la</b>te pi<b>can</b>te? ¿No te <mark class='V' title='3ème personne du singulier du passé simple de dar : dio et non pas di.'>dio</mark> <b>as</b>co?  </p>                  <p> S05-¡Qué va! ¡Es<b>tá</b> muy <b>ri</b>co! Lo a<b>mar</b>go va muy bien con lo pi<b>can</b>te.  </p>                  <p> S06-Los <b>pue</b>blos precolom<b>bi</b>nos ha<b>cí</b>an <b>u</b>na be<b>bi</b>da <b>ro</b>ja con el ca<b>ca</b>o.  </p>                  <p> S07-¡Por <b>e</b>so los conquista<b>do</b>res cre<b>ye</b>ron que be<b>bí</b>an <b>san</b>gre!  </p>                  <p> S08-¿<b>Pe</b>ro <b>nun</b>ca lo <b>to</b>man <b></b><mark class='V' title='3ème personne du pluriel du présent du verbe tomar.'><b>dul</b>ce</mark>?  </p>                  <p> S09-Sí, <b>cla</b>ro, hoy en <b>dí</b>a tam<b>bién</b> <mark class='G' title='cacao est complément d&#39;objet indirect donc=\"le\" et non pas \"lo\"'>le</mark> <b>e</b>chan a<b>zú</b>car,  </p>                  <p> S10-<b>pe</b>ro en la tradi<b>ción</b> in<b>dí</b>gena no se <mark class='G' title='cacao est complément d&#39;objet indirect donc=\"le\" et non pas \"lo\"'>le</mark> a<b>ña</b>de <b>le</b>che, <b>so</b>lo <b>a</b>gua.  </p>                  <p> S11-<b></b><mark class='O'><b></b><mark class='O' title='Meriendas est féminin, donc nuestras et non pas nuestros.'><b>Nues</b>tras</mark></mark> me<b>rien</b>das sí que las e<b>cha</b>ba de <b>me</b>nos un buen choco<b>la</b>te con <b>chu</b>rros. . .  </p>                  <p> S12-<b>E</b>so, <b>pa</b>ra meren<b>dar</b>, ¡<b>na</b>da <b>co</b>mo Es<b>pa</b>ña!  </p>                  <p> T00-TRANSLATE-Ejer<b>ci</b>cio 1 – Tra<b>duz</b>ca </p>                  <p> T01-No me has <b>di</b>cho si te gus<b>tó</b> la <b>sal</b>sa de ca<b>ca</b>o y guin<b>di</b>llas.  </p>                  <p> T02-¿Te atre<b>vis</b>te a to<b>mar</b> choco<b>la</b>te a<b>mar</b>go, pi<b>can</b>te y sin a<b>zú</b>car?  </p>                  <p> T03-¡Qué va! Me dio <b>as</b>co y no lo pro<b>bé</b>.  </p>                  <p> T04-Pues a lo me<b>jor</b> es<b>tá</b> muy <b>ri</b>co, <b>pe</b>ro pre<b>fie</b>ro un choco<b>la</b>te con <b>chu</b>rros.  </p>                  <p> T05-<b>E</b>cho de <b>me</b>nos la co<b>ci</b>na mexi<b>ca</b>na.  </p>\n"
     ]
    }
   ],
   "source": [
    "print(html_with_selection)"
   ]
  },
  {
   "cell_type": "code",
   "execution_count": 3,
   "id": "f687b69a-f81a-4fd9-bf04-c6b29b4e5f5d",
   "metadata": {},
   "outputs": [
    {
     "data": {
      "text/plain": [
       "'<p> N52-Lec<b>ción</b> cin<b>cuen</b>ta y dos </p>                  <p> S00-TITLE-La co<b>ci</b>na mexi<b>ca</b>na </p>                  <p> S01-No me has <b>di</b>cho <b>na</b>da de la co<b>ci</b>na mexi<b>ca</b>na </p>                  <p> S02-¿O a lo me<b>jor</b> no te atre<b>vis</b>te a pro<b>bar</b>la?  </p>                  <p> S03-¡Por su<b>pues</b>to que la pro<b>bé</b>! Me gus<b>tó</b> <b>so</b>bre <b>to</b>do el <b>mo</b>le es <b>u</b>na <b>sal</b>sa de ca<b>ca</b>o y guin<b>di</b>llas.  </p>                  <p> S04-¿Choco<b>la</b>te pi<b>can</b>te? ¿No te <mark class=\\'V\\' title=\\'3ème personne du singulier du passé simple de dar : dio et non pas di.\\'>dio</mark> <b>as</b>co?  </p>                  <p> S05-¡Qué va! ¡Es<b>tá</b> muy <b>ri</b>co! Lo a<b>mar</b>go va muy bien con lo pi<b>can</b>te.  </p>                  <p> S06-Los <b>pue</b>blos precolom<b>bi</b>nos ha<b>cí</b>an <b>u</b>na be<b>bi</b>da <b>ro</b>ja con el ca<b>ca</b>o.  </p>                  <p> S07-¡Por <b>e</b>so los conquista<b>do</b>res cre<b>ye</b>ron que be<b>bí</b>an <b>san</b>gre!  </p>                  <p> S08-¿<b>Pe</b>ro <b>nun</b>ca lo <b>to</b>man <b></b><mark class=\\'V\\' title=\\'3ème personne du pluriel du présent du verbe tomar.\\'><b>dul</b>ce</mark>?  </p>                  <p> S09-Sí, <b>cla</b>ro, hoy en <b>dí</b>a tam<b>bién</b> <mark class=\\'G\\' title=\\'cacao est complément d&#39;objet indirect donc=\"le\" et non pas \"lo\"\\'>le</mark> <b>e</b>chan a<b>zú</b>car,  </p>                  <p> S10-<b>pe</b>ro en la tradi<b>ción</b> in<b>dí</b>gena no se <mark class=\\'G\\' title=\\'cacao est complément d&#39;objet indirect donc=\"le\" et non pas \"lo\"\\'>le</mark> a<b>ña</b>de <b>le</b>che, <b>so</b>lo <b>a</b>gua.  </p>                  <p> S11-<b></b><mark class=\\'O\\'><b></b><mark class=\\'O\\' title=\\'Meriendas est féminin, donc nuestras et non pas nuestros.\\'><b>Nues</b>tras</mark></mark> me<b>rien</b>das sí que las e<b>cha</b>ba de <b>me</b>nos un buen choco<b>la</b>te con <b>chu</b>rros. . .  </p>                  <p> S12-<b>E</b>so, <b>pa</b>ra meren<b>dar</b>, ¡<b>na</b>da <b>co</b>mo Es<b>pa</b>ña!  </p>                  <p> T00-TRANSLATE-Ejer<b>ci</b>cio 1 – Tra<b>duz</b>ca </p>                  <p> T01-No me has <b>di</b>cho si te gus<b>tó</b> la <b>sal</b>sa de ca<b>ca</b>o y guin<b>di</b>llas.  </p>                  <p> T02-¿Te atre<b>vis</b>te a to<b>mar</b> choco<b>la</b>te a<b>mar</b>go, pi<b>can</b>te y sin a<b>zú</b>car?  </p>                  <p> T03-¡Qué va! Me dio <b>as</b>co y no lo pro<b>bé</b>.  </p>                  <p> T04-Pues a lo me<b>jor</b> es<b>tá</b> muy <b>ri</b>co, <b>pe</b>ro pre<b>fie</b>ro un choco<b>la</b>te con <b>chu</b>rros.  </p>                  <p> T05-<b>E</b>cho de <b>me</b>nos la co<b>ci</b>na mexi<b>ca</b>na.  </p>'"
      ]
     },
     "execution_count": 3,
     "metadata": {},
     "output_type": "execute_result"
    }
   ],
   "source": [
    "html_with_selection"
   ]
  },
  {
   "cell_type": "code",
   "execution_count": 21,
   "id": "b684bf44-f689-4322-8303-380cc8041fde",
   "metadata": {},
   "outputs": [],
   "source": [
    "from selection import extract_selection"
   ]
  },
  {
   "cell_type": "code",
   "execution_count": 23,
   "id": "8445bb88-4efb-425e-bb57-65d7b1736de0",
   "metadata": {},
   "outputs": [
    {
     "name": "stdout",
     "output_type": "stream",
     "text": [
      "attr_name : class, attr_value : V\n",
      "---- in convert_to_html_escape, returning V\n",
      "---- escaped_attr_value : V\n",
      "attr_name = class, char : V, 86, 0\n",
      "attr_name : title, attr_value : 3ème personne du singulier du passé simple de dar : dio et non pas di.\n",
      "---- in convert_to_html_escape, returning 3ème personne du singulier du passé simple de dar : dio et non pas di.\n",
      "---- escaped_attr_value : 3ème personne du singulier du passé simple de dar : dio et non pas di.\n",
      "attr_name = title, char : 3, 51, 0\n",
      "attr_name = title, char : è, 232, 1\n",
      "attr_name = title, char : m, 109, 2\n",
      "attr_name = title, char : e, 101, 3\n",
      "attr_name = title, char :  , 32, 4\n",
      "attr_name = title, char : p, 112, 5\n",
      "attr_name = title, char : e, 101, 6\n",
      "attr_name = title, char : r, 114, 7\n",
      "attr_name = title, char : s, 115, 8\n",
      "attr_name = title, char : o, 111, 9\n",
      "attr_name = title, char : n, 110, 10\n",
      "attr_name = title, char : n, 110, 11\n",
      "attr_name = title, char : e, 101, 12\n",
      "attr_name = title, char :  , 32, 13\n",
      "attr_name = title, char : d, 100, 14\n",
      "attr_name = title, char : u, 117, 15\n",
      "attr_name = title, char :  , 32, 16\n",
      "attr_name = title, char : s, 115, 17\n",
      "attr_name = title, char : i, 105, 18\n",
      "attr_name = title, char : n, 110, 19\n",
      "attr_name = title, char : g, 103, 20\n",
      "attr_name = title, char : u, 117, 21\n",
      "attr_name = title, char : l, 108, 22\n",
      "attr_name = title, char : i, 105, 23\n",
      "attr_name = title, char : e, 101, 24\n",
      "attr_name = title, char : r, 114, 25\n",
      "attr_name = title, char :  , 32, 26\n",
      "attr_name = title, char : d, 100, 27\n",
      "attr_name = title, char : u, 117, 28\n",
      "attr_name = title, char :  , 32, 29\n",
      "attr_name = title, char : p, 112, 30\n",
      "attr_name = title, char : a, 97, 31\n",
      "attr_name = title, char : s, 115, 32\n",
      "attr_name = title, char : s, 115, 33\n",
      "attr_name = title, char : é, 233, 34\n",
      "attr_name = title, char :  , 32, 35\n",
      "attr_name = title, char : s, 115, 36\n",
      "attr_name = title, char : i, 105, 37\n",
      "attr_name = title, char : m, 109, 38\n",
      "attr_name = title, char : p, 112, 39\n",
      "attr_name = title, char : l, 108, 40\n",
      "attr_name = title, char : e, 101, 41\n",
      "attr_name = title, char :  , 32, 42\n",
      "attr_name = title, char : d, 100, 43\n",
      "attr_name = title, char : e, 101, 44\n",
      "attr_name = title, char :  , 32, 45\n",
      "attr_name = title, char : d, 100, 46\n",
      "attr_name = title, char : a, 97, 47\n",
      "attr_name = title, char : r, 114, 48\n",
      "attr_name = title, char :  , 32, 49\n",
      "attr_name = title, char : :, 58, 50\n",
      "attr_name = title, char :  , 32, 51\n",
      "attr_name = title, char : d, 100, 52\n",
      "attr_name = title, char : i, 105, 53\n",
      "attr_name = title, char : o, 111, 54\n",
      "attr_name = title, char :  , 32, 55\n",
      "attr_name = title, char : e, 101, 56\n",
      "attr_name = title, char : t, 116, 57\n",
      "attr_name = title, char :  , 32, 58\n",
      "attr_name = title, char : n, 110, 59\n",
      "attr_name = title, char : o, 111, 60\n",
      "attr_name = title, char : n, 110, 61\n",
      "attr_name = title, char :  , 32, 62\n",
      "attr_name = title, char : p, 112, 63\n",
      "attr_name = title, char : a, 97, 64\n",
      "attr_name = title, char : s, 115, 65\n",
      "attr_name = title, char :  , 32, 66\n",
      "attr_name = title, char : d, 100, 67\n",
      "attr_name = title, char : i, 105, 68\n",
      "attr_name = title, char : ., 46, 69\n",
      "attr_name : class, attr_value : V\n",
      "---- in convert_to_html_escape, returning V\n",
      "---- escaped_attr_value : V\n",
      "attr_name = class, char : V, 86, 0\n",
      "attr_name : title, attr_value : 3ème personne du pluriel du présent du verbe tomar.\n",
      "---- in convert_to_html_escape, returning 3ème personne du pluriel du présent du verbe tomar.\n",
      "---- escaped_attr_value : 3ème personne du pluriel du présent du verbe tomar.\n",
      "attr_name = title, char : 3, 51, 0\n",
      "attr_name = title, char : è, 232, 1\n",
      "attr_name = title, char : m, 109, 2\n",
      "attr_name = title, char : e, 101, 3\n",
      "attr_name = title, char :  , 32, 4\n",
      "attr_name = title, char : p, 112, 5\n",
      "attr_name = title, char : e, 101, 6\n",
      "attr_name = title, char : r, 114, 7\n",
      "attr_name = title, char : s, 115, 8\n",
      "attr_name = title, char : o, 111, 9\n",
      "attr_name = title, char : n, 110, 10\n",
      "attr_name = title, char : n, 110, 11\n",
      "attr_name = title, char : e, 101, 12\n",
      "attr_name = title, char :  , 32, 13\n",
      "attr_name = title, char : d, 100, 14\n",
      "attr_name = title, char : u, 117, 15\n",
      "attr_name = title, char :  , 32, 16\n",
      "attr_name = title, char : p, 112, 17\n",
      "attr_name = title, char : l, 108, 18\n",
      "attr_name = title, char : u, 117, 19\n",
      "attr_name = title, char : r, 114, 20\n",
      "attr_name = title, char : i, 105, 21\n",
      "attr_name = title, char : e, 101, 22\n",
      "attr_name = title, char : l, 108, 23\n",
      "attr_name = title, char :  , 32, 24\n",
      "attr_name = title, char : d, 100, 25\n",
      "attr_name = title, char : u, 117, 26\n",
      "attr_name = title, char :  , 32, 27\n",
      "attr_name = title, char : p, 112, 28\n",
      "attr_name = title, char : r, 114, 29\n",
      "attr_name = title, char : é, 233, 30\n",
      "attr_name = title, char : s, 115, 31\n",
      "attr_name = title, char : e, 101, 32\n",
      "attr_name = title, char : n, 110, 33\n",
      "attr_name = title, char : t, 116, 34\n",
      "attr_name = title, char :  , 32, 35\n",
      "attr_name = title, char : d, 100, 36\n",
      "attr_name = title, char : u, 117, 37\n",
      "attr_name = title, char :  , 32, 38\n",
      "attr_name = title, char : v, 118, 39\n",
      "attr_name = title, char : e, 101, 40\n",
      "attr_name = title, char : r, 114, 41\n",
      "attr_name = title, char : b, 98, 42\n",
      "attr_name = title, char : e, 101, 43\n",
      "attr_name = title, char :  , 32, 44\n",
      "attr_name = title, char : t, 116, 45\n",
      "attr_name = title, char : o, 111, 46\n",
      "attr_name = title, char : m, 109, 47\n",
      "attr_name = title, char : a, 97, 48\n",
      "attr_name = title, char : r, 114, 49\n",
      "attr_name = title, char : ., 46, 50\n",
      "attr_name : class, attr_value : G\n",
      "---- in convert_to_html_escape, returning G\n",
      "---- escaped_attr_value : G\n",
      "attr_name = class, char : G, 71, 0\n",
      "attr_name : title, attr_value : cacao est complément d'objet indirect donc=\"le\" et non pas \"lo\"\n",
      "---- in convert_to_html_escape, returning cacao est complément d'objet indirect donc=\"le\" et non pas \"lo\"\n",
      "---- escaped_attr_value : cacao est complément d&#039;objet indirect donc=&#034;le&#034; et non pas &#034;lo&#034;\n",
      "attr_name = title, char : c, 99, 0\n",
      "attr_name = title, char : a, 97, 1\n",
      "attr_name = title, char : c, 99, 2\n",
      "attr_name = title, char : a, 97, 3\n",
      "attr_name = title, char : o, 111, 4\n",
      "attr_name = title, char :  , 32, 5\n",
      "attr_name = title, char : e, 101, 6\n",
      "attr_name = title, char : s, 115, 7\n",
      "attr_name = title, char : t, 116, 8\n",
      "attr_name = title, char :  , 32, 9\n",
      "attr_name = title, char : c, 99, 10\n",
      "attr_name = title, char : o, 111, 11\n",
      "attr_name = title, char : m, 109, 12\n",
      "attr_name = title, char : p, 112, 13\n",
      "attr_name = title, char : l, 108, 14\n",
      "attr_name = title, char : é, 233, 15\n",
      "attr_name = title, char : m, 109, 16\n",
      "attr_name = title, char : e, 101, 17\n",
      "attr_name = title, char : n, 110, 18\n",
      "attr_name = title, char : t, 116, 19\n",
      "attr_name = title, char :  , 32, 20\n",
      "attr_name = title, char : d, 100, 21\n",
      "attr_name = title, char : ', 39, 22\n",
      "attr_name = title, char : o, 111, 23\n",
      "attr_name = title, char : b, 98, 24\n",
      "attr_name = title, char : j, 106, 25\n",
      "attr_name = title, char : e, 101, 26\n",
      "attr_name = title, char : t, 116, 27\n",
      "attr_name = title, char :  , 32, 28\n",
      "attr_name = title, char : i, 105, 29\n",
      "attr_name = title, char : n, 110, 30\n",
      "attr_name = title, char : d, 100, 31\n",
      "attr_name = title, char : i, 105, 32\n",
      "attr_name = title, char : r, 114, 33\n",
      "attr_name = title, char : e, 101, 34\n",
      "attr_name = title, char : c, 99, 35\n",
      "attr_name = title, char : t, 116, 36\n",
      "attr_name = title, char :  , 32, 37\n",
      "attr_name = title, char : d, 100, 38\n",
      "attr_name = title, char : o, 111, 39\n",
      "attr_name = title, char : n, 110, 40\n",
      "attr_name = title, char : c, 99, 41\n",
      "attr_name = title, char : =, 61, 42\n",
      "attr_name = title, char : \", 34, 43\n",
      "attr_name = title, char : l, 108, 44\n",
      "attr_name = title, char : e, 101, 45\n",
      "attr_name = title, char : \", 34, 46\n",
      "attr_name = title, char :  , 32, 47\n",
      "attr_name = title, char : e, 101, 48\n",
      "attr_name = title, char : t, 116, 49\n",
      "attr_name = title, char :  , 32, 50\n",
      "attr_name = title, char : n, 110, 51\n",
      "attr_name = title, char : o, 111, 52\n",
      "attr_name = title, char : n, 110, 53\n",
      "attr_name = title, char :  , 32, 54\n",
      "attr_name = title, char : p, 112, 55\n",
      "attr_name = title, char : a, 97, 56\n",
      "attr_name = title, char : s, 115, 57\n",
      "attr_name = title, char :  , 32, 58\n",
      "attr_name = title, char : \", 34, 59\n",
      "attr_name = title, char : l, 108, 60\n",
      "attr_name = title, char : o, 111, 61\n",
      "attr_name = title, char : \", 34, 62\n",
      "attr_name : class, attr_value : G\n",
      "---- in convert_to_html_escape, returning G\n",
      "---- escaped_attr_value : G\n",
      "attr_name = class, char : G, 71, 0\n",
      "attr_name : title, attr_value : cacao est complément d'objet indirect donc=\"le\" et non pas \"lo\"\n",
      "---- in convert_to_html_escape, returning cacao est complément d'objet indirect donc=\"le\" et non pas \"lo\"\n",
      "---- escaped_attr_value : cacao est complément d&#039;objet indirect donc=&#034;le&#034; et non pas &#034;lo&#034;\n",
      "attr_name = title, char : c, 99, 0\n",
      "attr_name = title, char : a, 97, 1\n",
      "attr_name = title, char : c, 99, 2\n",
      "attr_name = title, char : a, 97, 3\n",
      "attr_name = title, char : o, 111, 4\n",
      "attr_name = title, char :  , 32, 5\n",
      "attr_name = title, char : e, 101, 6\n",
      "attr_name = title, char : s, 115, 7\n",
      "attr_name = title, char : t, 116, 8\n",
      "attr_name = title, char :  , 32, 9\n",
      "attr_name = title, char : c, 99, 10\n",
      "attr_name = title, char : o, 111, 11\n",
      "attr_name = title, char : m, 109, 12\n",
      "attr_name = title, char : p, 112, 13\n",
      "attr_name = title, char : l, 108, 14\n",
      "attr_name = title, char : é, 233, 15\n",
      "attr_name = title, char : m, 109, 16\n",
      "attr_name = title, char : e, 101, 17\n",
      "attr_name = title, char : n, 110, 18\n",
      "attr_name = title, char : t, 116, 19\n",
      "attr_name = title, char :  , 32, 20\n",
      "attr_name = title, char : d, 100, 21\n",
      "attr_name = title, char : ', 39, 22\n",
      "attr_name = title, char : o, 111, 23\n",
      "attr_name = title, char : b, 98, 24\n",
      "attr_name = title, char : j, 106, 25\n",
      "attr_name = title, char : e, 101, 26\n",
      "attr_name = title, char : t, 116, 27\n",
      "attr_name = title, char :  , 32, 28\n",
      "attr_name = title, char : i, 105, 29\n",
      "attr_name = title, char : n, 110, 30\n",
      "attr_name = title, char : d, 100, 31\n",
      "attr_name = title, char : i, 105, 32\n",
      "attr_name = title, char : r, 114, 33\n",
      "attr_name = title, char : e, 101, 34\n",
      "attr_name = title, char : c, 99, 35\n",
      "attr_name = title, char : t, 116, 36\n",
      "attr_name = title, char :  , 32, 37\n",
      "attr_name = title, char : d, 100, 38\n",
      "attr_name = title, char : o, 111, 39\n",
      "attr_name = title, char : n, 110, 40\n",
      "attr_name = title, char : c, 99, 41\n",
      "attr_name = title, char : =, 61, 42\n",
      "attr_name = title, char : \", 34, 43\n",
      "attr_name = title, char : l, 108, 44\n",
      "attr_name = title, char : e, 101, 45\n",
      "attr_name = title, char : \", 34, 46\n",
      "attr_name = title, char :  , 32, 47\n",
      "attr_name = title, char : e, 101, 48\n",
      "attr_name = title, char : t, 116, 49\n",
      "attr_name = title, char :  , 32, 50\n",
      "attr_name = title, char : n, 110, 51\n",
      "attr_name = title, char : o, 111, 52\n",
      "attr_name = title, char : n, 110, 53\n",
      "attr_name = title, char :  , 32, 54\n",
      "attr_name = title, char : p, 112, 55\n",
      "attr_name = title, char : a, 97, 56\n",
      "attr_name = title, char : s, 115, 57\n",
      "attr_name = title, char :  , 32, 58\n",
      "attr_name = title, char : \", 34, 59\n",
      "attr_name = title, char : l, 108, 60\n",
      "attr_name = title, char : o, 111, 61\n",
      "attr_name = title, char : \", 34, 62\n",
      "attr_name : class, attr_value : O\n",
      "---- in convert_to_html_escape, returning O\n",
      "---- escaped_attr_value : O\n",
      "attr_name = class, char : O, 79, 0\n",
      "attr_name : class, attr_value : O\n",
      "---- in convert_to_html_escape, returning O\n",
      "---- escaped_attr_value : O\n",
      "attr_name = class, char : O, 79, 0\n",
      "attr_name : title, attr_value : Meriendas est féminin, donc nuestras et non pas nuestros.\n",
      "---- in convert_to_html_escape, returning Meriendas est féminin, donc nuestras et non pas nuestros.\n",
      "---- escaped_attr_value : Meriendas est féminin, donc nuestras et non pas nuestros.\n",
      "attr_name = title, char : M, 77, 0\n",
      "attr_name = title, char : e, 101, 1\n",
      "attr_name = title, char : r, 114, 2\n",
      "attr_name = title, char : i, 105, 3\n",
      "attr_name = title, char : e, 101, 4\n",
      "attr_name = title, char : n, 110, 5\n",
      "attr_name = title, char : d, 100, 6\n",
      "attr_name = title, char : a, 97, 7\n",
      "attr_name = title, char : s, 115, 8\n",
      "attr_name = title, char :  , 32, 9\n",
      "attr_name = title, char : e, 101, 10\n",
      "attr_name = title, char : s, 115, 11\n",
      "attr_name = title, char : t, 116, 12\n",
      "attr_name = title, char :  , 32, 13\n",
      "attr_name = title, char : f, 102, 14\n",
      "attr_name = title, char : é, 233, 15\n",
      "attr_name = title, char : m, 109, 16\n",
      "attr_name = title, char : i, 105, 17\n",
      "attr_name = title, char : n, 110, 18\n",
      "attr_name = title, char : i, 105, 19\n",
      "attr_name = title, char : n, 110, 20\n",
      "attr_name = title, char : ,, 44, 21\n",
      "attr_name = title, char :  , 32, 22\n",
      "attr_name = title, char : d, 100, 23\n",
      "attr_name = title, char : o, 111, 24\n",
      "attr_name = title, char : n, 110, 25\n",
      "attr_name = title, char : c, 99, 26\n",
      "attr_name = title, char :  , 32, 27\n",
      "attr_name = title, char : n, 110, 28\n",
      "attr_name = title, char : u, 117, 29\n",
      "attr_name = title, char : e, 101, 30\n",
      "attr_name = title, char : s, 115, 31\n",
      "attr_name = title, char : t, 116, 32\n",
      "attr_name = title, char : r, 114, 33\n",
      "attr_name = title, char : a, 97, 34\n",
      "attr_name = title, char : s, 115, 35\n",
      "attr_name = title, char :  , 32, 36\n",
      "attr_name = title, char : e, 101, 37\n",
      "attr_name = title, char : t, 116, 38\n",
      "attr_name = title, char :  , 32, 39\n",
      "attr_name = title, char : n, 110, 40\n",
      "attr_name = title, char : o, 111, 41\n",
      "attr_name = title, char : n, 110, 42\n",
      "attr_name = title, char :  , 32, 43\n",
      "attr_name = title, char : p, 112, 44\n",
      "attr_name = title, char : a, 97, 45\n",
      "attr_name = title, char : s, 115, 46\n",
      "attr_name = title, char :  , 32, 47\n",
      "attr_name = title, char : n, 110, 48\n",
      "attr_name = title, char : u, 117, 49\n",
      "attr_name = title, char : e, 101, 50\n",
      "attr_name = title, char : s, 115, 51\n",
      "attr_name = title, char : t, 116, 52\n",
      "attr_name = title, char : r, 114, 53\n",
      "attr_name = title, char : o, 111, 54\n",
      "attr_name = title, char : s, 115, 55\n",
      "attr_name = title, char : ., 46, 56\n"
     ]
    }
   ],
   "source": [
    "marked_lines_numbers, sentences = extract_selection(html_with_selection)"
   ]
  },
  {
   "cell_type": "code",
   "execution_count": 24,
   "id": "502f92d5-7a28-4460-831f-e1635f3fd23c",
   "metadata": {},
   "outputs": [
    {
     "data": {
      "text/plain": [
       "{5: True, 9: True, 10: True, 11: True, 12: True}"
      ]
     },
     "execution_count": 24,
     "metadata": {},
     "output_type": "execute_result"
    }
   ],
   "source": [
    "marked_lines_numbers"
   ]
  },
  {
   "cell_type": "code",
   "execution_count": 25,
   "id": "f57f2431-c403-4d25-aa1d-0308f8d411dc",
   "metadata": {},
   "outputs": [
    {
     "data": {
      "text/plain": [
       "['N52-Lec<b>ción</b> cin<b>cuen</b>ta y dos',\n",
       " 'S00-TITLE-La co<b>ci</b>na mexi<b>ca</b>na',\n",
       " 'S01-No me has <b>di</b>cho <b>na</b>da de la co<b>ci</b>na mexi<b>ca</b>na',\n",
       " 'S02-¿O a lo me<b>jor</b> no te atre<b>vis</b>te a pro<b>bar</b>la?',\n",
       " 'S03-¡Por su<b>pues</b>to que la pro<b>bé</b>! Me gus<b>tó</b> <b>so</b>bre <b>to</b>do el <b>mo</b>le es <b>u</b>na <b>sal</b>sa de ca<b>ca</b>o y guin<b>di</b>llas.',\n",
       " \"S04-¿Choco<b>la</b>te pi<b>can</b>te? ¿No te <mark class='V' title='3ème personne du singulier du passé simple de dar : dio et non pas di.'>dio</mark> <b>as</b>co?\",\n",
       " 'S05-¡Qué va! ¡Es<b>tá</b> muy <b>ri</b>co! Lo a<b>mar</b>go va muy bien con lo pi<b>can</b>te.',\n",
       " 'S06-Los <b>pue</b>blos precolom<b>bi</b>nos ha<b>cí</b>an <b>u</b>na be<b>bi</b>da <b>ro</b>ja con el ca<b>ca</b>o.',\n",
       " 'S07-¡Por <b>e</b>so los conquista<b>do</b>res cre<b>ye</b>ron que be<b>bí</b>an <b>san</b>gre!',\n",
       " \"S08-¿<b>Pe</b>ro <b>nun</b>ca lo <b>to</b>man <b></b><mark class='V' title='3ème personne du pluriel du présent du verbe tomar.'><b>dul</b>ce</mark>?\",\n",
       " \"S09-Sí, <b>cla</b>ro, hoy en <b>dí</b>a tam<b>bién</b> <mark class='G' title='cacao est complément d&#039;objet indirect donc=&#034;le&#034; et non pas &#034;lo&#034;'>le</mark> <b>e</b>chan a<b>zú</b>car,\",\n",
       " \"S10-<b>pe</b>ro en la tradi<b>ción</b> in<b>dí</b>gena no se <mark class='G' title='cacao est complément d&#039;objet indirect donc=&#034;le&#034; et non pas &#034;lo&#034;'>le</mark> a<b>ña</b>de <b>le</b>che, <b>so</b>lo <b>a</b>gua.\",\n",
       " \"S11-<b></b><mark class='O'><b></b><mark class='O' title='Meriendas est féminin, donc nuestras et non pas nuestros.'><b>Nues</b>tras</mark></mark> me<b>rien</b>das sí que las e<b>cha</b>ba de <b>me</b>nos un buen choco<b>la</b>te con <b>chu</b>rros. . .\",\n",
       " 'S12-<b>E</b>so, <b>pa</b>ra meren<b>dar</b>, ¡<b>na</b>da <b>co</b>mo Es<b>pa</b>ña!',\n",
       " 'T00-TRANSLATE-Ejer<b>ci</b>cio 1 – Tra<b>duz</b>ca',\n",
       " 'T01-No me has <b>di</b>cho si te gus<b>tó</b> la <b>sal</b>sa de ca<b>ca</b>o y guin<b>di</b>llas.',\n",
       " 'T02-¿Te atre<b>vis</b>te a to<b>mar</b> choco<b>la</b>te a<b>mar</b>go, pi<b>can</b>te y sin a<b>zú</b>car?',\n",
       " 'T03-¡Qué va! Me dio <b>as</b>co y no lo pro<b>bé</b>.',\n",
       " 'T04-Pues a lo me<b>jor</b> es<b>tá</b> muy <b>ri</b>co, <b>pe</b>ro pre<b>fie</b>ro un choco<b>la</b>te con <b>chu</b>rros.',\n",
       " 'T05-<b>E</b>cho de <b>me</b>nos la co<b>ci</b>na mexi<b>ca</b>na.']"
      ]
     },
     "execution_count": 25,
     "metadata": {},
     "output_type": "execute_result"
    }
   ],
   "source": [
    "sentences"
   ]
  },
  {
   "cell_type": "code",
   "execution_count": 26,
   "id": "ad7c76d0-2323-4026-aab1-13b32fdd53dc",
   "metadata": {},
   "outputs": [
    {
     "name": "stdout",
     "output_type": "stream",
     "text": [
      "0 N52-Lec<b>ción</b> cin<b>cuen</b>ta y dos\n",
      "1 S00-TITLE-La co<b>ci</b>na mexi<b>ca</b>na\n",
      "2 S01-No me has <b>di</b>cho <b>na</b>da de la co<b>ci</b>na mexi<b>ca</b>na\n",
      "3 S02-¿O a lo me<b>jor</b> no te atre<b>vis</b>te a pro<b>bar</b>la?\n",
      "4 S03-¡Por su<b>pues</b>to que la pro<b>bé</b>! Me gus<b>tó</b> <b>so</b>bre <b>to</b>do el <b>mo</b>le es <b>u</b>na <b>sal</b>sa de ca<b>ca</b>o y guin<b>di</b>llas.\n",
      "5 S04-¿Choco<b>la</b>te pi<b>can</b>te? ¿No te <mark class='V' title='3ème personne du singulier du passé simple de dar : dio et non pas di.'>dio</mark> <b>as</b>co?\n",
      "6 S05-¡Qué va! ¡Es<b>tá</b> muy <b>ri</b>co! Lo a<b>mar</b>go va muy bien con lo pi<b>can</b>te.\n",
      "7 S06-Los <b>pue</b>blos precolom<b>bi</b>nos ha<b>cí</b>an <b>u</b>na be<b>bi</b>da <b>ro</b>ja con el ca<b>ca</b>o.\n",
      "8 S07-¡Por <b>e</b>so los conquista<b>do</b>res cre<b>ye</b>ron que be<b>bí</b>an <b>san</b>gre!\n",
      "9 S08-¿<b>Pe</b>ro <b>nun</b>ca lo <b>to</b>man <b></b><mark class='V' title='3ème personne du pluriel du présent du verbe tomar.'><b>dul</b>ce</mark>?\n",
      "10 S09-Sí, <b>cla</b>ro, hoy en <b>dí</b>a tam<b>bién</b> <mark class='G' title='cacao est complément d&#039;objet indirect donc=&#034;le&#034; et non pas &#034;lo&#034;'>le</mark> <b>e</b>chan a<b>zú</b>car,\n",
      "11 S10-<b>pe</b>ro en la tradi<b>ción</b> in<b>dí</b>gena no se <mark class='G' title='cacao est complément d&#039;objet indirect donc=&#034;le&#034; et non pas &#034;lo&#034;'>le</mark> a<b>ña</b>de <b>le</b>che, <b>so</b>lo <b>a</b>gua.\n",
      "12 S11-<b></b><mark class='O'><b></b><mark class='O' title='Meriendas est féminin, donc nuestras et non pas nuestros.'><b>Nues</b>tras</mark></mark> me<b>rien</b>das sí que las e<b>cha</b>ba de <b>me</b>nos un buen choco<b>la</b>te con <b>chu</b>rros. . .\n",
      "13 S12-<b>E</b>so, <b>pa</b>ra meren<b>dar</b>, ¡<b>na</b>da <b>co</b>mo Es<b>pa</b>ña!\n",
      "14 T00-TRANSLATE-Ejer<b>ci</b>cio 1 – Tra<b>duz</b>ca\n",
      "15 T01-No me has <b>di</b>cho si te gus<b>tó</b> la <b>sal</b>sa de ca<b>ca</b>o y guin<b>di</b>llas.\n",
      "16 T02-¿Te atre<b>vis</b>te a to<b>mar</b> choco<b>la</b>te a<b>mar</b>go, pi<b>can</b>te y sin a<b>zú</b>car?\n",
      "17 T03-¡Qué va! Me dio <b>as</b>co y no lo pro<b>bé</b>.\n",
      "18 T04-Pues a lo me<b>jor</b> es<b>tá</b> muy <b>ri</b>co, <b>pe</b>ro pre<b>fie</b>ro un choco<b>la</b>te con <b>chu</b>rros.\n",
      "19 T05-<b>E</b>cho de <b>me</b>nos la co<b>ci</b>na mexi<b>ca</b>na.\n"
     ]
    }
   ],
   "source": [
    "for index, sentence in enumerate(sentences):\n",
    "    print(index, sentence)"
   ]
  },
  {
   "cell_type": "code",
   "execution_count": 27,
   "id": "5fec2476-9045-488e-b580-ff57d7cb68bc",
   "metadata": {},
   "outputs": [],
   "source": [
    "from selection import store_lesson_errors"
   ]
  },
  {
   "cell_type": "code",
   "execution_count": 28,
   "id": "cec0de19-8465-4430-871e-adb2e3e2c1d0",
   "metadata": {},
   "outputs": [
    {
     "name": "stdout",
     "output_type": "stream",
     "text": [
      "-------------- In store_lesson_errors\n",
      "---- 0 ------ N52-Lec<b>ción</b> cin<b>cuen</b>ta y dos\n",
      "---- 1 ------ S00-TITLE-La co<b>ci</b>na mexi<b>ca</b>na\n",
      "---- 2 ------ S01-No me has <b>di</b>cho <b>na</b>da de la co<b>ci</b>na mexi<b>ca</b>na\n",
      "---- 3 ------ S02-¿O a lo me<b>jor</b> no te atre<b>vis</b>te a pro<b>bar</b>la?\n",
      "---- 4 ------ S03-¡Por su<b>pues</b>to que la pro<b>bé</b>! Me gus<b>tó</b> <b>so</b>bre <b>to</b>do el <b>mo</b>le es <b>u</b>na <b>sal</b>sa de ca<b>ca</b>o y guin<b>di</b>llas.\n",
      "---- 5 ------ S04-¿Choco<b>la</b>te pi<b>can</b>te? ¿No te <mark class='V' title='3ème personne du singulier du passé simple de dar : dio et non pas di.'>dio</mark> <b>as</b>co?\n",
      "---- 6 ------ S05-¡Qué va! ¡Es<b>tá</b> muy <b>ri</b>co! Lo a<b>mar</b>go va muy bien con lo pi<b>can</b>te.\n",
      "---- 7 ------ S06-Los <b>pue</b>blos precolom<b>bi</b>nos ha<b>cí</b>an <b>u</b>na be<b>bi</b>da <b>ro</b>ja con el ca<b>ca</b>o.\n",
      "---- 8 ------ S07-¡Por <b>e</b>so los conquista<b>do</b>res cre<b>ye</b>ron que be<b>bí</b>an <b>san</b>gre!\n",
      "---- 9 ------ S08-¿<b>Pe</b>ro <b>nun</b>ca lo <b>to</b>man <b></b><mark class='V' title='3ème personne du pluriel du présent du verbe tomar.'><b>dul</b>ce</mark>?\n",
      "---- 10 ------ S09-Sí, <b>cla</b>ro, hoy en <b>dí</b>a tam<b>bién</b> <mark class='G' title='cacao est complément d&#039;objet indirect donc=&#034;le&#034; et non pas &#034;lo&#034;'>le</mark> <b>e</b>chan a<b>zú</b>car,\n",
      "---- 11 ------ S10-<b>pe</b>ro en la tradi<b>ción</b> in<b>dí</b>gena no se <mark class='G' title='cacao est complément d&#039;objet indirect donc=&#034;le&#034; et non pas &#034;lo&#034;'>le</mark> a<b>ña</b>de <b>le</b>che, <b>so</b>lo <b>a</b>gua.\n",
      "---- 12 ------ S11-<b></b><mark class='O'><b></b><mark class='O' title='Meriendas est féminin, donc nuestras et non pas nuestros.'><b>Nues</b>tras</mark></mark> me<b>rien</b>das sí que las e<b>cha</b>ba de <b>me</b>nos un buen choco<b>la</b>te con <b>chu</b>rros. . .\n",
      "---- 13 ------ S12-<b>E</b>so, <b>pa</b>ra meren<b>dar</b>, ¡<b>na</b>da <b>co</b>mo Es<b>pa</b>ña!\n",
      "---- 14 ------ T00-TRANSLATE-Ejer<b>ci</b>cio 1 – Tra<b>duz</b>ca\n",
      "---- 15 ------ T01-No me has <b>di</b>cho si te gus<b>tó</b> la <b>sal</b>sa de ca<b>ca</b>o y guin<b>di</b>llas.\n",
      "---- 16 ------ T02-¿Te atre<b>vis</b>te a to<b>mar</b> choco<b>la</b>te a<b>mar</b>go, pi<b>can</b>te y sin a<b>zú</b>car?\n",
      "---- 17 ------ T03-¡Qué va! Me dio <b>as</b>co y no lo pro<b>bé</b>.\n",
      "---- 18 ------ T04-Pues a lo me<b>jor</b> es<b>tá</b> muy <b>ri</b>co, <b>pe</b>ro pre<b>fie</b>ro un choco<b>la</b>te con <b>chu</b>rros.\n",
      "---- 19 ------ T05-<b>E</b>cho de <b>me</b>nos la co<b>ci</b>na mexi<b>ca</b>na.\n",
      "2024-09-07 13:25:16,719 INFO sqlalchemy.engine.Engine BEGIN (implicit)\n",
      "2024-09-07 13:25:16,735 INFO sqlalchemy.engine.Engine INSERT INTO lesson_sessions (lesson, date_time, errors_number) VALUES (?, ?, ?)\n",
      "2024-09-07 13:25:16,736 INFO sqlalchemy.engine.Engine [generated in 0.00133s] (52, '2024-09-06 23:30:29.589456', 5)\n",
      "2024-09-07 13:25:16,746 INFO sqlalchemy.engine.Engine INSERT INTO marked_sentences (sentence, comment, line, session_id) VALUES (?, ?, ?, ?) RETURNING id\n",
      "2024-09-07 13:25:16,746 INFO sqlalchemy.engine.Engine [generated in 0.00015s (insertmanyvalues) 1/5 (ordered; batch not supported)] (\"S04-¿Choco<b>la</b>te pi<b>can</b>te? ¿No te <mark class='V' title='3ème personne du singulier du passé simple de dar : dio et non pas di.'>dio</mark> <b>as</b>co?\", None, 5, 6)\n",
      "2024-09-07 13:25:16,749 INFO sqlalchemy.engine.Engine INSERT INTO marked_sentences (sentence, comment, line, session_id) VALUES (?, ?, ?, ?) RETURNING id\n",
      "2024-09-07 13:25:16,750 INFO sqlalchemy.engine.Engine [insertmanyvalues 2/5 (ordered; batch not supported)] (\"S08-¿<b>Pe</b>ro <b>nun</b>ca lo <b>to</b>man <b></b><mark class='V' title='3ème personne du pluriel du présent du verbe tomar.'><b>dul</b>ce</mark>?\", None, 9, 6)\n",
      "2024-09-07 13:25:16,754 INFO sqlalchemy.engine.Engine INSERT INTO marked_sentences (sentence, comment, line, session_id) VALUES (?, ?, ?, ?) RETURNING id\n",
      "2024-09-07 13:25:16,756 INFO sqlalchemy.engine.Engine [insertmanyvalues 3/5 (ordered; batch not supported)] (\"S09-Sí, <b>cla</b>ro, hoy en <b>dí</b>a tam<b>bién</b> <mark class='G' title='cacao est complément d&#039;objet indirect donc=&#034;le&#034; et non pas &#034;lo&#034;'>le</mark> <b>e</b>chan a<b>zú</b>car,\", None, 10, 6)\n",
      "2024-09-07 13:25:16,758 INFO sqlalchemy.engine.Engine INSERT INTO marked_sentences (sentence, comment, line, session_id) VALUES (?, ?, ?, ?) RETURNING id\n",
      "2024-09-07 13:25:16,759 INFO sqlalchemy.engine.Engine [insertmanyvalues 4/5 (ordered; batch not supported)] (\"S10-<b>pe</b>ro en la tradi<b>ción</b> in<b>dí</b>gena no se <mark class='G' title='cacao est complément d&#039;objet indirect donc=&#034;le&#034; et non pas &#034;lo&#034;'>le</mark> a<b>ña</b>de <b>le</b>che, <b>so</b>lo <b>a</b>gua.\", None, 11, 6)\n",
      "2024-09-07 13:25:16,759 INFO sqlalchemy.engine.Engine INSERT INTO marked_sentences (sentence, comment, line, session_id) VALUES (?, ?, ?, ?) RETURNING id\n",
      "2024-09-07 13:25:16,760 INFO sqlalchemy.engine.Engine [insertmanyvalues 5/5 (ordered; batch not supported)] (\"S11-<b></b><mark class='O'><b></b><mark class='O' title='Meriendas est féminin, donc nuestras et non pas nuestros.'><b>Nues</b>tras</mark></mark> me<b>rien</b>das sí que las e<b>cha</b>ba de <b>me</b>nos un buen choco<b>la</b>te con <b>chu</b>rros. . .\", None, 12, 6)\n",
      "2024-09-07 13:25:16,762 INFO sqlalchemy.engine.Engine COMMIT\n"
     ]
    }
   ],
   "source": [
    "store_lesson_errors(52, sentences, marked_lines_numbers, datetime.datetime(2024, 9, 6, 23, 30, 29, 589456))"
   ]
  },
  {
   "cell_type": "code",
   "execution_count": 29,
   "id": "d58ea373-9e63-4def-821d-82232dff6bdd",
   "metadata": {},
   "outputs": [
    {
     "data": {
      "text/plain": [
       "<function sqlalchemy.sql._selectable_constructors.select(*entities: '_ColumnsClauseArgument[Any]', **__kw: 'Any') -> 'Select[Any]'>"
      ]
     },
     "execution_count": 29,
     "metadata": {},
     "output_type": "execute_result"
    }
   ],
   "source": [
    "select"
   ]
  },
  {
   "cell_type": "code",
   "execution_count": 30,
   "id": "5c3593ee-39ec-4525-a646-842ce204ac4c",
   "metadata": {},
   "outputs": [],
   "source": [
    "from database import MarkedSentence"
   ]
  },
  {
   "cell_type": "code",
   "execution_count": 31,
   "id": "edbcfd8e-a9b9-4bfb-bb78-2e33b75d40f5",
   "metadata": {},
   "outputs": [
    {
     "name": "stdout",
     "output_type": "stream",
     "text": [
      "2024-09-07 13:25:50,255 INFO sqlalchemy.engine.Engine BEGIN (implicit)\n",
      "2024-09-07 13:25:50,257 INFO sqlalchemy.engine.Engine SELECT lesson_sessions.id, lesson_sessions.lesson, lesson_sessions.date_time, lesson_sessions.errors_number \n",
      "FROM lesson_sessions \n",
      "WHERE lesson_sessions.lesson = ?\n",
      "2024-09-07 13:25:50,258 INFO sqlalchemy.engine.Engine [generated in 0.00101s] (52,)\n",
      "2024-09-07 13:25:50,261 INFO sqlalchemy.engine.Engine SELECT marked_sentences.id AS marked_sentences_id, marked_sentences.sentence AS marked_sentences_sentence, marked_sentences.comment AS marked_sentences_comment, marked_sentences.line AS marked_sentences_line, marked_sentences.session_id AS marked_sentences_session_id \n",
      "FROM marked_sentences \n",
      "WHERE ? = marked_sentences.session_id\n",
      "2024-09-07 13:25:50,262 INFO sqlalchemy.engine.Engine [cached since 583.8s ago] (6,)\n",
      "[Sentence(id=18, line=5, sentence =\"S04-¿Choco<b>la</b>te pi<b>can</b>te? ¿No te <mark class='V' title='3ème personne du singulier du passé simple de dar : dio et non pas di.'>dio</mark> <b>as</b>co?\", comment=None), Sentence(id=19, line=9, sentence =\"S08-¿<b>Pe</b>ro <b>nun</b>ca lo <b>to</b>man <b></b><mark class='V' title='3ème personne du pluriel du présent du verbe tomar.'><b>dul</b>ce</mark>?\", comment=None), Sentence(id=20, line=10, sentence =\"S09-Sí, <b>cla</b>ro, hoy en <b>dí</b>a tam<b>bién</b> <mark class='G' title='cacao est complément d&#039;objet indirect donc=&#034;le&#034; et non pas &#034;lo&#034;'>le</mark> <b>e</b>chan a<b>zú</b>car,\", comment=None), Sentence(id=21, line=11, sentence =\"S10-<b>pe</b>ro en la tradi<b>ción</b> in<b>dí</b>gena no se <mark class='G' title='cacao est complément d&#039;objet indirect donc=&#034;le&#034; et non pas &#034;lo&#034;'>le</mark> a<b>ña</b>de <b>le</b>che, <b>so</b>lo <b>a</b>gua.\", comment=None), Sentence(id=22, line=12, sentence =\"S11-<b></b><mark class='O'><b></b><mark class='O' title='Meriendas est féminin, donc nuestras et non pas nuestros.'><b>Nues</b>tras</mark></mark> me<b>rien</b>das sí que las e<b>cha</b>ba de <b>me</b>nos un buen choco<b>la</b>te con <b>chu</b>rros. . .\", comment=None)]\n",
      "2024-09-07 13:25:50,264 INFO sqlalchemy.engine.Engine ROLLBACK\n"
     ]
    }
   ],
   "source": [
    "stmt = select(LessonSession).where(\n",
    "                        LessonSession.lesson == 52)\n",
    "\n",
    "with Session(engine) as session:\n",
    "    for entry in session.scalars(stmt):\n",
    "        print(entry.errored_sentences)\n",
    "        sfdb = entry.errored_sentences"
   ]
  },
  {
   "cell_type": "code",
   "execution_count": 32,
   "id": "1f90ac53-9663-40af-b261-b905de61139f",
   "metadata": {},
   "outputs": [
    {
     "data": {
      "text/plain": [
       "[Sentence(id=18, line=5, sentence =\"S04-¿Choco<b>la</b>te pi<b>can</b>te? ¿No te <mark class='V' title='3ème personne du singulier du passé simple de dar : dio et non pas di.'>dio</mark> <b>as</b>co?\", comment=None),\n",
       " Sentence(id=19, line=9, sentence =\"S08-¿<b>Pe</b>ro <b>nun</b>ca lo <b>to</b>man <b></b><mark class='V' title='3ème personne du pluriel du présent du verbe tomar.'><b>dul</b>ce</mark>?\", comment=None),\n",
       " Sentence(id=20, line=10, sentence =\"S09-Sí, <b>cla</b>ro, hoy en <b>dí</b>a tam<b>bién</b> <mark class='G' title='cacao est complément d&#039;objet indirect donc=&#034;le&#034; et non pas &#034;lo&#034;'>le</mark> <b>e</b>chan a<b>zú</b>car,\", comment=None),\n",
       " Sentence(id=21, line=11, sentence =\"S10-<b>pe</b>ro en la tradi<b>ción</b> in<b>dí</b>gena no se <mark class='G' title='cacao est complément d&#039;objet indirect donc=&#034;le&#034; et non pas &#034;lo&#034;'>le</mark> a<b>ña</b>de <b>le</b>che, <b>so</b>lo <b>a</b>gua.\", comment=None),\n",
       " Sentence(id=22, line=12, sentence =\"S11-<b></b><mark class='O'><b></b><mark class='O' title='Meriendas est féminin, donc nuestras et non pas nuestros.'><b>Nues</b>tras</mark></mark> me<b>rien</b>das sí que las e<b>cha</b>ba de <b>me</b>nos un buen choco<b>la</b>te con <b>chu</b>rros. . .\", comment=None)]"
      ]
     },
     "execution_count": 32,
     "metadata": {},
     "output_type": "execute_result"
    }
   ],
   "source": [
    "sfdb"
   ]
  },
  {
   "cell_type": "code",
   "execution_count": 66,
   "id": "cb18b601-9643-4f86-8e06-64c83af61d7f",
   "metadata": {},
   "outputs": [
    {
     "data": {
      "text/plain": [
       "Sentence(id=12, line=10, sentence ='S09-Sí, <b>cla</b>ro, hoy en <b>dí</b>a tam<b>bién</b> <mark class=\\'G\\' title=\\'cacao est complément d\\\\\\'objet indirect donc \"le\" et non pas \"lo\"\\'>le</mark> <b>e</b>chan a<b>zú</b>car,', comment=None)"
      ]
     },
     "execution_count": 66,
     "metadata": {},
     "output_type": "execute_result"
    }
   ],
   "source": [
    "sfdb[2]"
   ]
  },
  {
   "cell_type": "code",
   "execution_count": 69,
   "id": "89527593-3210-4dd9-847b-2e605ccc461a",
   "metadata": {},
   "outputs": [
    {
     "name": "stdout",
     "output_type": "stream",
     "text": [
      "char : S, 83, 0\n",
      "char : 0, 48, 1\n",
      "char : 9, 57, 2\n",
      "char : -, 45, 3\n",
      "char : S, 83, 4\n",
      "char : í, 237, 5\n",
      "char : ,, 44, 6\n",
      "char :  , 32, 7\n",
      "char : <, 60, 8\n",
      "char : b, 98, 9\n",
      "char : >, 62, 10\n",
      "char : c, 99, 11\n",
      "char : l, 108, 12\n",
      "char : a, 97, 13\n",
      "char : <, 60, 14\n",
      "char : /, 47, 15\n",
      "char : b, 98, 16\n",
      "char : >, 62, 17\n",
      "char : r, 114, 18\n",
      "char : o, 111, 19\n",
      "char : ,, 44, 20\n",
      "char :  , 32, 21\n",
      "char : h, 104, 22\n",
      "char : o, 111, 23\n",
      "char : y, 121, 24\n",
      "char :  , 32, 25\n",
      "char : e, 101, 26\n",
      "char : n, 110, 27\n",
      "char :  , 32, 28\n",
      "char : <, 60, 29\n",
      "char : b, 98, 30\n",
      "char : >, 62, 31\n",
      "char : d, 100, 32\n",
      "char : í, 237, 33\n",
      "char : <, 60, 34\n",
      "char : /, 47, 35\n",
      "char : b, 98, 36\n",
      "char : >, 62, 37\n",
      "char : a, 97, 38\n",
      "char :  , 32, 39\n",
      "char : t, 116, 40\n",
      "char : a, 97, 41\n",
      "char : m, 109, 42\n",
      "char : <, 60, 43\n",
      "char : b, 98, 44\n",
      "char : >, 62, 45\n",
      "char : b, 98, 46\n",
      "char : i, 105, 47\n",
      "char : é, 233, 48\n",
      "char : n, 110, 49\n",
      "char : <, 60, 50\n",
      "char : /, 47, 51\n",
      "char : b, 98, 52\n",
      "char : >, 62, 53\n",
      "char :  , 32, 54\n",
      "char : <, 60, 55\n",
      "char : m, 109, 56\n",
      "char : a, 97, 57\n",
      "char : r, 114, 58\n",
      "char : k, 107, 59\n",
      "char :  , 32, 60\n",
      "char : c, 99, 61\n",
      "char : l, 108, 62\n",
      "char : a, 97, 63\n",
      "char : s, 115, 64\n",
      "char : s, 115, 65\n",
      "char : =, 61, 66\n",
      "char : ', 39, 67\n",
      "char : G, 71, 68\n",
      "char : ', 39, 69\n",
      "char :  , 32, 70\n",
      "char : t, 116, 71\n",
      "char : i, 105, 72\n",
      "char : t, 116, 73\n",
      "char : l, 108, 74\n",
      "char : e, 101, 75\n",
      "char : =, 61, 76\n",
      "char : ', 39, 77\n",
      "char : c, 99, 78\n",
      "char : a, 97, 79\n",
      "char : c, 99, 80\n",
      "char : a, 97, 81\n",
      "char : o, 111, 82\n",
      "char :  , 32, 83\n",
      "char : e, 101, 84\n",
      "char : s, 115, 85\n",
      "char : t, 116, 86\n",
      "char :  , 32, 87\n",
      "char : c, 99, 88\n",
      "char : o, 111, 89\n",
      "char : m, 109, 90\n",
      "char : p, 112, 91\n",
      "char : l, 108, 92\n",
      "char : é, 233, 93\n",
      "char : m, 109, 94\n",
      "char : e, 101, 95\n",
      "char : n, 110, 96\n",
      "char : t, 116, 97\n",
      "char :  , 32, 98\n",
      "char : d, 100, 99\n",
      "char : \\, 92, 100\n",
      "char : ', 39, 101\n",
      "char : o, 111, 102\n",
      "char : b, 98, 103\n",
      "char : j, 106, 104\n",
      "char : e, 101, 105\n",
      "char : t, 116, 106\n",
      "char :  , 32, 107\n",
      "char : i, 105, 108\n",
      "char : n, 110, 109\n",
      "char : d, 100, 110\n",
      "char : i, 105, 111\n",
      "char : r, 114, 112\n",
      "char : e, 101, 113\n",
      "char : c, 99, 114\n",
      "char : t, 116, 115\n",
      "char :  , 32, 116\n",
      "char : d, 100, 117\n",
      "char : o, 111, 118\n",
      "char : n, 110, 119\n",
      "char : c, 99, 120\n",
      "char :  , 32, 121\n",
      "char : \", 34, 122\n",
      "char : l, 108, 123\n",
      "char : e, 101, 124\n",
      "char : \", 34, 125\n",
      "char :  , 32, 126\n",
      "char : e, 101, 127\n",
      "char : t, 116, 128\n",
      "char :  , 32, 129\n",
      "char : n, 110, 130\n",
      "char : o, 111, 131\n",
      "char : n, 110, 132\n",
      "char :  , 32, 133\n",
      "char : p, 112, 134\n",
      "char : a, 97, 135\n",
      "char : s, 115, 136\n",
      "char :  , 32, 137\n",
      "char : \", 34, 138\n",
      "char : l, 108, 139\n",
      "char : o, 111, 140\n",
      "char : \", 34, 141\n",
      "char : ', 39, 142\n",
      "char : >, 62, 143\n",
      "char : l, 108, 144\n",
      "char : e, 101, 145\n",
      "char : <, 60, 146\n",
      "char : /, 47, 147\n",
      "char : m, 109, 148\n",
      "char : a, 97, 149\n",
      "char : r, 114, 150\n",
      "char : k, 107, 151\n",
      "char : >, 62, 152\n",
      "char :  , 32, 153\n",
      "char : <, 60, 154\n",
      "char : b, 98, 155\n",
      "char : >, 62, 156\n",
      "char : e, 101, 157\n",
      "char : <, 60, 158\n",
      "char : /, 47, 159\n",
      "char : b, 98, 160\n",
      "char : >, 62, 161\n",
      "char : c, 99, 162\n",
      "char : h, 104, 163\n",
      "char : a, 97, 164\n",
      "char : n, 110, 165\n",
      "char :  , 32, 166\n",
      "char : a, 97, 167\n",
      "char : <, 60, 168\n",
      "char : b, 98, 169\n",
      "char : >, 62, 170\n",
      "char : z, 122, 171\n",
      "char : ú, 250, 172\n",
      "char : <, 60, 173\n",
      "char : /, 47, 174\n",
      "char : b, 98, 175\n",
      "char : >, 62, 176\n",
      "char : c, 99, 177\n",
      "char : a, 97, 178\n",
      "char : r, 114, 179\n",
      "char : ,, 44, 180\n"
     ]
    }
   ],
   "source": [
    "for index, char in enumerate(sfdb[2].sentence):\n",
    "    print(f\"char : {char}, {ord(char)}, {index}\")"
   ]
  },
  {
   "cell_type": "code",
   "execution_count": 70,
   "id": "9d690ea6-7718-4fc5-b79b-6854ce8a98f0",
   "metadata": {},
   "outputs": [
    {
     "name": "stdout",
     "output_type": "stream",
     "text": [
      "S09-Sí, <b>cla</b>ro, hoy en <b>dí</b>a tam<b>bién</b> <mark class='G' title='cacao est complément d\\'objet indirect donc \"le\" et non pas \"lo\"'>le</mark> <b>e</b>chan a<b>zú</b>car,\n"
     ]
    }
   ],
   "source": [
    "print(sfdb[2].sentence)"
   ]
  },
  {
   "cell_type": "code",
   "execution_count": null,
   "id": "21e5ec99-2be8-4dc9-a123-2adb747dc1bb",
   "metadata": {},
   "outputs": [],
   "source": []
  }
 ],
 "metadata": {
  "kernelspec": {
   "display_name": "Python 3 (ipykernel)",
   "language": "python",
   "name": "python3"
  },
  "language_info": {
   "codemirror_mode": {
    "name": "ipython",
    "version": 3
   },
   "file_extension": ".py",
   "mimetype": "text/x-python",
   "name": "python",
   "nbconvert_exporter": "python",
   "pygments_lexer": "ipython3",
   "version": "3.11.3"
  }
 },
 "nbformat": 4,
 "nbformat_minor": 5
}
