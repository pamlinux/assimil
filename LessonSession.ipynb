{
 "cells": [
  {
   "cell_type": "code",
   "execution_count": 1,
   "id": "5b5587f2-af25-4400-8a50-9dacc63dbcf9",
   "metadata": {},
   "outputs": [
    {
     "name": "stdout",
     "output_type": "stream",
     "text": [
      "2024-09-12 20:19:08,480 INFO sqlalchemy.engine.Engine BEGIN (implicit)\n",
      "2024-09-12 20:19:08,480 INFO sqlalchemy.engine.Engine PRAGMA main.table_info(\"word_dict\")\n",
      "2024-09-12 20:19:08,481 INFO sqlalchemy.engine.Engine [raw sql] ()\n",
      "2024-09-12 20:19:08,481 INFO sqlalchemy.engine.Engine PRAGMA main.table_info(\"word_index\")\n",
      "2024-09-12 20:19:08,481 INFO sqlalchemy.engine.Engine [raw sql] ()\n",
      "2024-09-12 20:19:08,482 INFO sqlalchemy.engine.Engine PRAGMA main.table_info(\"sentences\")\n",
      "2024-09-12 20:19:08,482 INFO sqlalchemy.engine.Engine [raw sql] ()\n",
      "2024-09-12 20:19:08,482 INFO sqlalchemy.engine.Engine PRAGMA main.table_info(\"marked_sentences\")\n",
      "2024-09-12 20:19:08,483 INFO sqlalchemy.engine.Engine [raw sql] ()\n",
      "2024-09-12 20:19:08,483 INFO sqlalchemy.engine.Engine PRAGMA main.table_info(\"lesson_sessions\")\n",
      "2024-09-12 20:19:08,483 INFO sqlalchemy.engine.Engine [raw sql] ()\n",
      "2024-09-12 20:19:08,483 INFO sqlalchemy.engine.Engine COMMIT\n"
     ]
    }
   ],
   "source": [
    "from sqlalchemy import ForeignKey, select, delete, String, and_\n",
    "from sqlalchemy.orm import Session\n",
    "from databaseold import MarkedSentence, LessonSession, engine"
   ]
  },
  {
   "cell_type": "code",
   "execution_count": 2,
   "id": "4242b764-aa9e-4ed3-8804-bf57302c7d59",
   "metadata": {
    "scrolled": true
   },
   "outputs": [
    {
     "name": "stdout",
     "output_type": "stream",
     "text": [
      "2024-09-12 20:19:11,557 INFO sqlalchemy.engine.Engine BEGIN (implicit)\n",
      "2024-09-12 20:19:11,577 INFO sqlalchemy.engine.Engine SELECT lesson_sessions.id, lesson_sessions.lesson, lesson_sessions.date_time, lesson_sessions.errors_number \n",
      "FROM lesson_sessions\n",
      "2024-09-12 20:19:11,578 INFO sqlalchemy.engine.Engine [generated in 0.00096s] ()\n",
      "date time : datetime.datetime(2024, 9, 4, 22, 42, 30, 759328), lesson 50 errors number : 6\n",
      "date time : datetime.datetime(2024, 9, 4, 23, 2, 0, 780033), lesson 1 errors number : 0\n",
      "date time : datetime.datetime(2024, 9, 5, 9, 19, 11, 922138), lesson 51 errors number : 3\n",
      "date time : datetime.datetime(2024, 9, 6, 23, 54, 35, 589923), lesson 3 errors number : 3\n",
      "date time : datetime.datetime(2024, 9, 6, 23, 30, 29, 589456), lesson 52 errors number : 5\n",
      "date time : datetime.datetime(2024, 9, 7, 15, 38, 11, 304630), lesson 53 errors number : 4\n",
      "date time : datetime.datetime(2024, 9, 7, 15, 47, 54, 852500), lesson 4 errors number : 0\n",
      "date time : datetime.datetime(2024, 9, 9, 0, 33, 9, 558002), lesson 54 errors number : 4\n",
      "date time : datetime.datetime(2024, 9, 9, 0, 37, 30, 688736), lesson 5 errors number : 0\n",
      "date time : datetime.datetime(2024, 9, 9, 23, 49, 20, 733862), lesson 55 errors number : 8\n",
      "date time : datetime.datetime(2024, 9, 10, 11, 28, 32, 681006), lesson 56 errors number : 10\n",
      "date time : datetime.datetime(2024, 9, 10, 11, 34, 52, 105091), lesson 7 errors number : 2\n",
      "date time : datetime.datetime(2024, 9, 11, 15, 24, 26, 952928), lesson 57 errors number : 7\n",
      "date time : datetime.datetime(2024, 9, 12, 18, 13, 29, 359135), lesson 58 errors number : 4\n",
      "2024-09-12 20:19:11,579 INFO sqlalchemy.engine.Engine ROLLBACK\n"
     ]
    }
   ],
   "source": [
    "stmt = select(LessonSession)\n",
    "with Session(engine) as session:\n",
    "    for entry in session.scalars(stmt):\n",
    "        print(entry)"
   ]
  },
  {
   "cell_type": "code",
   "execution_count": 3,
   "id": "f53695ed-467b-4e8d-bbf0-88343454a3d8",
   "metadata": {},
   "outputs": [
    {
     "name": "stdout",
     "output_type": "stream",
     "text": [
      "2024-09-11 22:31:46,172 INFO sqlalchemy.engine.Engine BEGIN (implicit)\n",
      "2024-09-11 22:31:46,174 INFO sqlalchemy.engine.Engine SELECT lesson_sessions.id, lesson_sessions.lesson, lesson_sessions.date_time, lesson_sessions.errors_number \n",
      "FROM lesson_sessions\n",
      "2024-09-11 22:31:46,174 INFO sqlalchemy.engine.Engine [cached since 1.826s ago] ()\n",
      "2024-09-11 22:31:46,180 INFO sqlalchemy.engine.Engine SELECT marked_sentences.id AS marked_sentences_id, marked_sentences.sentence AS marked_sentences_sentence, marked_sentences.comment AS marked_sentences_comment, marked_sentences.line AS marked_sentences_line, marked_sentences.session_id AS marked_sentences_session_id \n",
      "FROM marked_sentences \n",
      "WHERE ? = marked_sentences.session_id\n",
      "2024-09-11 22:31:46,181 INFO sqlalchemy.engine.Engine [generated in 0.00111s] (1,)\n",
      "date time : datetime.datetime(2024, 9, 4, 22, 42, 30, 759328), lesson 50 errors number : 6\n",
      "date time : datetime.datetime(2024, 9, 4, 22, 42, 30, 759328), lesson 50 errors number : 6\n",
      "date time : datetime.datetime(2024, 9, 4, 22, 42, 30, 759328), lesson 50 errors number : 6\n",
      "date time : datetime.datetime(2024, 9, 4, 22, 42, 30, 759328), lesson 50 errors number : 6\n",
      "date time : datetime.datetime(2024, 9, 4, 22, 42, 30, 759328), lesson 50 errors number : 6\n",
      "date time : datetime.datetime(2024, 9, 4, 22, 42, 30, 759328), lesson 50 errors number : 6\n",
      "2024-09-11 22:31:46,185 INFO sqlalchemy.engine.Engine SELECT marked_sentences.id AS marked_sentences_id, marked_sentences.sentence AS marked_sentences_sentence, marked_sentences.comment AS marked_sentences_comment, marked_sentences.line AS marked_sentences_line, marked_sentences.session_id AS marked_sentences_session_id \n",
      "FROM marked_sentences \n",
      "WHERE ? = marked_sentences.session_id\n",
      "2024-09-11 22:31:46,185 INFO sqlalchemy.engine.Engine [cached since 0.005576s ago] (2,)\n",
      "2024-09-11 22:31:46,187 INFO sqlalchemy.engine.Engine SELECT marked_sentences.id AS marked_sentences_id, marked_sentences.sentence AS marked_sentences_sentence, marked_sentences.comment AS marked_sentences_comment, marked_sentences.line AS marked_sentences_line, marked_sentences.session_id AS marked_sentences_session_id \n",
      "FROM marked_sentences \n",
      "WHERE ? = marked_sentences.session_id\n",
      "2024-09-11 22:31:46,188 INFO sqlalchemy.engine.Engine [cached since 0.0078s ago] (3,)\n",
      "date time : datetime.datetime(2024, 9, 5, 9, 19, 11, 922138), lesson 51 errors number : 3\n",
      "date time : datetime.datetime(2024, 9, 5, 9, 19, 11, 922138), lesson 51 errors number : 3\n",
      "date time : datetime.datetime(2024, 9, 5, 9, 19, 11, 922138), lesson 51 errors number : 3\n",
      "2024-09-11 22:31:46,190 INFO sqlalchemy.engine.Engine SELECT marked_sentences.id AS marked_sentences_id, marked_sentences.sentence AS marked_sentences_sentence, marked_sentences.comment AS marked_sentences_comment, marked_sentences.line AS marked_sentences_line, marked_sentences.session_id AS marked_sentences_session_id \n",
      "FROM marked_sentences \n",
      "WHERE ? = marked_sentences.session_id\n",
      "2024-09-11 22:31:46,190 INFO sqlalchemy.engine.Engine [cached since 0.01052s ago] (5,)\n",
      "date time : datetime.datetime(2024, 9, 6, 23, 54, 35, 589923), lesson 3 errors number : 3\n",
      "date time : datetime.datetime(2024, 9, 6, 23, 54, 35, 589923), lesson 3 errors number : 3\n",
      "date time : datetime.datetime(2024, 9, 6, 23, 54, 35, 589923), lesson 3 errors number : 3\n",
      "2024-09-11 22:31:46,193 INFO sqlalchemy.engine.Engine SELECT marked_sentences.id AS marked_sentences_id, marked_sentences.sentence AS marked_sentences_sentence, marked_sentences.comment AS marked_sentences_comment, marked_sentences.line AS marked_sentences_line, marked_sentences.session_id AS marked_sentences_session_id \n",
      "FROM marked_sentences \n",
      "WHERE ? = marked_sentences.session_id\n",
      "2024-09-11 22:31:46,194 INFO sqlalchemy.engine.Engine [cached since 0.01388s ago] (6,)\n",
      "date time : datetime.datetime(2024, 9, 6, 23, 30, 29, 589456), lesson 52 errors number : 5\n",
      "date time : datetime.datetime(2024, 9, 6, 23, 30, 29, 589456), lesson 52 errors number : 5\n",
      "date time : datetime.datetime(2024, 9, 6, 23, 30, 29, 589456), lesson 52 errors number : 5\n",
      "date time : datetime.datetime(2024, 9, 6, 23, 30, 29, 589456), lesson 52 errors number : 5\n",
      "date time : datetime.datetime(2024, 9, 6, 23, 30, 29, 589456), lesson 52 errors number : 5\n",
      "2024-09-11 22:31:46,195 INFO sqlalchemy.engine.Engine SELECT marked_sentences.id AS marked_sentences_id, marked_sentences.sentence AS marked_sentences_sentence, marked_sentences.comment AS marked_sentences_comment, marked_sentences.line AS marked_sentences_line, marked_sentences.session_id AS marked_sentences_session_id \n",
      "FROM marked_sentences \n",
      "WHERE ? = marked_sentences.session_id\n",
      "2024-09-11 22:31:46,196 INFO sqlalchemy.engine.Engine [cached since 0.0158s ago] (7,)\n",
      "date time : datetime.datetime(2024, 9, 7, 15, 38, 11, 304630), lesson 53 errors number : 4\n",
      "date time : datetime.datetime(2024, 9, 7, 15, 38, 11, 304630), lesson 53 errors number : 4\n",
      "date time : datetime.datetime(2024, 9, 7, 15, 38, 11, 304630), lesson 53 errors number : 4\n",
      "date time : datetime.datetime(2024, 9, 7, 15, 38, 11, 304630), lesson 53 errors number : 4\n",
      "2024-09-11 22:31:46,196 INFO sqlalchemy.engine.Engine SELECT marked_sentences.id AS marked_sentences_id, marked_sentences.sentence AS marked_sentences_sentence, marked_sentences.comment AS marked_sentences_comment, marked_sentences.line AS marked_sentences_line, marked_sentences.session_id AS marked_sentences_session_id \n",
      "FROM marked_sentences \n",
      "WHERE ? = marked_sentences.session_id\n",
      "2024-09-11 22:31:46,197 INFO sqlalchemy.engine.Engine [cached since 0.01683s ago] (8,)\n",
      "2024-09-11 22:31:46,197 INFO sqlalchemy.engine.Engine SELECT marked_sentences.id AS marked_sentences_id, marked_sentences.sentence AS marked_sentences_sentence, marked_sentences.comment AS marked_sentences_comment, marked_sentences.line AS marked_sentences_line, marked_sentences.session_id AS marked_sentences_session_id \n",
      "FROM marked_sentences \n",
      "WHERE ? = marked_sentences.session_id\n",
      "2024-09-11 22:31:46,197 INFO sqlalchemy.engine.Engine [cached since 0.01761s ago] (9,)\n",
      "date time : datetime.datetime(2024, 9, 9, 0, 33, 9, 558002), lesson 54 errors number : 4\n",
      "date time : datetime.datetime(2024, 9, 9, 0, 33, 9, 558002), lesson 54 errors number : 4\n",
      "date time : datetime.datetime(2024, 9, 9, 0, 33, 9, 558002), lesson 54 errors number : 4\n",
      "date time : datetime.datetime(2024, 9, 9, 0, 33, 9, 558002), lesson 54 errors number : 4\n",
      "2024-09-11 22:31:46,198 INFO sqlalchemy.engine.Engine SELECT marked_sentences.id AS marked_sentences_id, marked_sentences.sentence AS marked_sentences_sentence, marked_sentences.comment AS marked_sentences_comment, marked_sentences.line AS marked_sentences_line, marked_sentences.session_id AS marked_sentences_session_id \n",
      "FROM marked_sentences \n",
      "WHERE ? = marked_sentences.session_id\n",
      "2024-09-11 22:31:46,199 INFO sqlalchemy.engine.Engine [cached since 0.0188s ago] (10,)\n",
      "2024-09-11 22:31:46,201 INFO sqlalchemy.engine.Engine SELECT marked_sentences.id AS marked_sentences_id, marked_sentences.sentence AS marked_sentences_sentence, marked_sentences.comment AS marked_sentences_comment, marked_sentences.line AS marked_sentences_line, marked_sentences.session_id AS marked_sentences_session_id \n",
      "FROM marked_sentences \n",
      "WHERE ? = marked_sentences.session_id\n",
      "2024-09-11 22:31:46,201 INFO sqlalchemy.engine.Engine [cached since 0.02154s ago] (11,)\n",
      "date time : datetime.datetime(2024, 9, 9, 23, 49, 20, 733862), lesson 55 errors number : 8\n",
      "date time : datetime.datetime(2024, 9, 9, 23, 49, 20, 733862), lesson 55 errors number : 8\n",
      "date time : datetime.datetime(2024, 9, 9, 23, 49, 20, 733862), lesson 55 errors number : 8\n",
      "date time : datetime.datetime(2024, 9, 9, 23, 49, 20, 733862), lesson 55 errors number : 8\n",
      "date time : datetime.datetime(2024, 9, 9, 23, 49, 20, 733862), lesson 55 errors number : 8\n",
      "date time : datetime.datetime(2024, 9, 9, 23, 49, 20, 733862), lesson 55 errors number : 8\n",
      "date time : datetime.datetime(2024, 9, 9, 23, 49, 20, 733862), lesson 55 errors number : 8\n",
      "date time : datetime.datetime(2024, 9, 9, 23, 49, 20, 733862), lesson 55 errors number : 8\n",
      "2024-09-11 22:31:46,203 INFO sqlalchemy.engine.Engine SELECT marked_sentences.id AS marked_sentences_id, marked_sentences.sentence AS marked_sentences_sentence, marked_sentences.comment AS marked_sentences_comment, marked_sentences.line AS marked_sentences_line, marked_sentences.session_id AS marked_sentences_session_id \n",
      "FROM marked_sentences \n",
      "WHERE ? = marked_sentences.session_id\n",
      "2024-09-11 22:31:46,204 INFO sqlalchemy.engine.Engine [cached since 0.02376s ago] (12,)\n",
      "date time : datetime.datetime(2024, 9, 10, 11, 28, 32, 681006), lesson 56 errors number : 10\n",
      "date time : datetime.datetime(2024, 9, 10, 11, 28, 32, 681006), lesson 56 errors number : 10\n",
      "date time : datetime.datetime(2024, 9, 10, 11, 28, 32, 681006), lesson 56 errors number : 10\n",
      "date time : datetime.datetime(2024, 9, 10, 11, 28, 32, 681006), lesson 56 errors number : 10\n",
      "date time : datetime.datetime(2024, 9, 10, 11, 28, 32, 681006), lesson 56 errors number : 10\n",
      "date time : datetime.datetime(2024, 9, 10, 11, 28, 32, 681006), lesson 56 errors number : 10\n",
      "date time : datetime.datetime(2024, 9, 10, 11, 28, 32, 681006), lesson 56 errors number : 10\n",
      "date time : datetime.datetime(2024, 9, 10, 11, 28, 32, 681006), lesson 56 errors number : 10\n",
      "date time : datetime.datetime(2024, 9, 10, 11, 28, 32, 681006), lesson 56 errors number : 10\n",
      "date time : datetime.datetime(2024, 9, 10, 11, 28, 32, 681006), lesson 56 errors number : 10\n",
      "2024-09-11 22:31:46,205 INFO sqlalchemy.engine.Engine SELECT marked_sentences.id AS marked_sentences_id, marked_sentences.sentence AS marked_sentences_sentence, marked_sentences.comment AS marked_sentences_comment, marked_sentences.line AS marked_sentences_line, marked_sentences.session_id AS marked_sentences_session_id \n",
      "FROM marked_sentences \n",
      "WHERE ? = marked_sentences.session_id\n",
      "2024-09-11 22:31:46,205 INFO sqlalchemy.engine.Engine [cached since 0.02531s ago] (13,)\n",
      "date time : datetime.datetime(2024, 9, 10, 11, 34, 52, 105091), lesson 7 errors number : 2\n",
      "date time : datetime.datetime(2024, 9, 10, 11, 34, 52, 105091), lesson 7 errors number : 2\n",
      "2024-09-11 22:31:46,206 INFO sqlalchemy.engine.Engine SELECT marked_sentences.id AS marked_sentences_id, marked_sentences.sentence AS marked_sentences_sentence, marked_sentences.comment AS marked_sentences_comment, marked_sentences.line AS marked_sentences_line, marked_sentences.session_id AS marked_sentences_session_id \n",
      "FROM marked_sentences \n",
      "WHERE ? = marked_sentences.session_id\n",
      "2024-09-11 22:31:46,207 INFO sqlalchemy.engine.Engine [cached since 0.02734s ago] (14,)\n",
      "date time : datetime.datetime(2024, 9, 11, 15, 24, 26, 952928), lesson 57 errors number : 7\n",
      "date time : datetime.datetime(2024, 9, 11, 15, 24, 26, 952928), lesson 57 errors number : 7\n",
      "date time : datetime.datetime(2024, 9, 11, 15, 24, 26, 952928), lesson 57 errors number : 7\n",
      "date time : datetime.datetime(2024, 9, 11, 15, 24, 26, 952928), lesson 57 errors number : 7\n",
      "date time : datetime.datetime(2024, 9, 11, 15, 24, 26, 952928), lesson 57 errors number : 7\n",
      "date time : datetime.datetime(2024, 9, 11, 15, 24, 26, 952928), lesson 57 errors number : 7\n",
      "date time : datetime.datetime(2024, 9, 11, 15, 24, 26, 952928), lesson 57 errors number : 7\n",
      "2024-09-11 22:31:46,209 INFO sqlalchemy.engine.Engine SELECT marked_sentences.id AS marked_sentences_id, marked_sentences.sentence AS marked_sentences_sentence, marked_sentences.comment AS marked_sentences_comment, marked_sentences.line AS marked_sentences_line, marked_sentences.session_id AS marked_sentences_session_id \n",
      "FROM marked_sentences \n",
      "WHERE ? = marked_sentences.session_id\n",
      "2024-09-11 22:31:46,209 INFO sqlalchemy.engine.Engine [cached since 0.02937s ago] (15,)\n",
      "date time : datetime.datetime(2024, 9, 11, 22, 30, 17, 924723), lesson 55 errors number : 3\n",
      "date time : datetime.datetime(2024, 9, 11, 22, 30, 17, 924723), lesson 55 errors number : 3\n",
      "date time : datetime.datetime(2024, 9, 11, 22, 30, 17, 924723), lesson 55 errors number : 3\n",
      "2024-09-11 22:31:46,212 INFO sqlalchemy.engine.Engine ROLLBACK\n"
     ]
    }
   ],
   "source": [
    "stmt = select(LessonSession)\n",
    "with Session(engine) as session:\n",
    "    for entry in session.scalars(stmt):\n",
    "        for sentence in entry.errored_sentences:\n",
    "            print(sentence.session)\n",
    "            "
   ]
  },
  {
   "cell_type": "code",
   "execution_count": 10,
   "id": "5e3d0040-6ce2-42b9-8232-805d0c04a76a",
   "metadata": {},
   "outputs": [],
   "source": [
    "from database import get_lesson_sessions_history"
   ]
  },
  {
   "cell_type": "code",
   "execution_count": 11,
   "id": "23c5260a-c13d-43f1-9b48-a10fb295b7a5",
   "metadata": {},
   "outputs": [
    {
     "name": "stdout",
     "output_type": "stream",
     "text": [
      "----------------- begin_date : None\n",
      "----------------- end_date : None\n",
      "2024-09-12 18:05:41,428 INFO sqlalchemy.engine.Engine BEGIN (implicit)\n",
      "2024-09-12 18:05:41,432 INFO sqlalchemy.engine.Engine SELECT lesson_sessions.id, lesson_sessions.lesson, lesson_sessions.date_time, lesson_sessions.errors_number \n",
      "FROM lesson_sessions \n",
      "WHERE lesson_sessions.date_time >= ? AND lesson_sessions.date_time <= ? AND lesson_sessions.lesson <= ? AND lesson_sessions.lesson >= ?\n",
      "2024-09-12 18:05:41,433 INFO sqlalchemy.engine.Engine [cached since 7.043e+04s ago] ('0001-01-01 00:00:00.000000', '9999-12-31 23:59:59.999999', 100, 1)\n",
      "2024-09-12 18:05:41,446 INFO sqlalchemy.engine.Engine ROLLBACK\n"
     ]
    }
   ],
   "source": [
    "sessions = get_lesson_sessions_history()"
   ]
  },
  {
   "cell_type": "code",
   "execution_count": 12,
   "id": "56c1e924-62b6-4b52-88ce-d779376c216c",
   "metadata": {},
   "outputs": [
    {
     "data": {
      "text/plain": [
       "{50: {datetime.datetime(2024, 9, 4, 22, 42, 30, 759328): 6},\n",
       " 1: {datetime.datetime(2024, 9, 4, 23, 2, 0, 780033): 0},\n",
       " 51: {datetime.datetime(2024, 9, 5, 9, 19, 11, 922138): 3},\n",
       " 3: {datetime.datetime(2024, 9, 6, 23, 54, 35, 589923): 3},\n",
       " 52: {datetime.datetime(2024, 9, 6, 23, 30, 29, 589456): 5},\n",
       " 53: {datetime.datetime(2024, 9, 7, 15, 38, 11, 304630): 4},\n",
       " 4: {datetime.datetime(2024, 9, 7, 15, 47, 54, 852500): 0},\n",
       " 54: {datetime.datetime(2024, 9, 9, 0, 33, 9, 558002): 4},\n",
       " 5: {datetime.datetime(2024, 9, 9, 0, 37, 30, 688736): 0},\n",
       " 55: {datetime.datetime(2024, 9, 9, 23, 49, 20, 733862): 8},\n",
       " 56: {datetime.datetime(2024, 9, 10, 11, 28, 32, 681006): 10},\n",
       " 7: {datetime.datetime(2024, 9, 10, 11, 34, 52, 105091): 2},\n",
       " 57: {datetime.datetime(2024, 9, 11, 15, 24, 26, 952928): 7}}"
      ]
     },
     "execution_count": 12,
     "metadata": {},
     "output_type": "execute_result"
    }
   ],
   "source": [
    "sessions"
   ]
  },
  {
   "cell_type": "code",
   "execution_count": 7,
   "id": "6ffce796-3582-4b88-9655-05765d8928e9",
   "metadata": {},
   "outputs": [],
   "source": [
    "import datetime"
   ]
  },
  {
   "cell_type": "code",
   "execution_count": 9,
   "id": "d5f4a369-7fa6-4472-b43d-88259b559812",
   "metadata": {},
   "outputs": [
    {
     "name": "stdout",
     "output_type": "stream",
     "text": [
      "2024-09-12 18:02:55,234 INFO sqlalchemy.engine.Engine BEGIN (implicit)\n",
      "2024-09-12 18:02:55,247 INFO sqlalchemy.engine.Engine DELETE FROM lesson_sessions WHERE lesson_sessions.date_time >= ?\n",
      "2024-09-12 18:02:55,248 INFO sqlalchemy.engine.Engine [cached since 7.014e+04s ago] ('2024-09-11 21:00:00.000000',)\n",
      "2024-09-12 18:02:55,253 INFO sqlalchemy.engine.Engine COMMIT\n"
     ]
    }
   ],
   "source": [
    "stmt = select(LessonSession)\n",
    "with Session(engine) as session:\n",
    "    session.execute(delete(LessonSession).where(LessonSession.date_time >= datetime.datetime(2024, 9, 11, 21, 0, 0, 0)))\n",
    "    session.commit()"
   ]
  },
  {
   "cell_type": "code",
   "execution_count": 9,
   "id": "51a177f0-a7e2-4e65-9963-77102cec6161",
   "metadata": {},
   "outputs": [],
   "source": [
    "html_with_selection = \"\"\"<p> N52-Lec<b>ción</b> cin<b>cuen</b>ta y dos </p>                  <p> S00-TITLE-La co<b>ci</b>na mexi<b>ca</b>na </p>                  <p> S01-No me has <b>di</b>cho <b>na</b>da de la co<b>ci</b>na mexi<b>ca</b>na </p>                  <p> S02-¿O a lo me<b>jor</b> no te atre<b>vis</b>te a pro<b>bar</b>la?  </p>                  <p> S03-¡Por su<b>pues</b>to que la pro<b>bé</b>! Me gus<b>tó</b> <b>so</b>bre <b>to</b>do el <b>mo</b>le es <b>u</b>na <b>sal</b>sa de ca<b>ca</b>o y guin<b>di</b>llas.  </p>                  <p> S04-¿Choco<b>la</b>te pi<b>can</b>te? ¿No te <mark class='V' title='3ème personne du singulier du passé simple de dar : dio et non pas di.'>dio</mark> <b>as</b>co?  </p>                  <p> S05-¡Qué va! ¡Es<b>tá</b> muy <b>ri</b>co! Lo a<b>mar</b>go va muy bien con lo pi<b>can</b>te.  </p>                  <p> S06-Los <b>pue</b>blos precolom<b>bi</b>nos ha<b>cí</b>an <b>u</b>na be<b>bi</b>da <b>ro</b>ja con el ca<b>ca</b>o.  </p>                  <p> S07-¡Por <b>e</b>so los conquista<b>do</b>res cre<b>ye</b>ron que be<b>bí</b>an <b>san</b>gre!  </p>                  <p> S08-¿<b>Pe</b>ro <b>nun</b>ca lo <mark class='V' title='3ème personne du pluriel du présent du verbe tomar.'><b>to</b>man</mark> <b></b><b>dul</b>ce?  </p>                  <p> S09-Sí, <b>cla</b>ro, hoy en <b>dí</b>a tam<b>bién</b> <mark class='G' title='cacao est complément d&#39;objet indirect donc=\"le\" et non pas \"lo\"'>le</mark> <b>e</b>chan a<b>zú</b>car,  </p>                  <p> S10-<b>pe</b>ro en la tradi<b>ción</b> in<b>dí</b>gena no se <mark class='G' title='cacao est complément d&#39;objet indirect donc=\"le\" et non pas \"lo\"'>le</mark> a<b>ña</b>de <b>le</b>che, <b>so</b>lo <b>a</b>gua.  </p>                  <p> S11-<b></b><mark class='O'><b></b><mark class='O' title='Meriendas est féminin, donc nuestras et non pas nuestros.'><b>Nues</b>tras</mark></mark> me<b>rien</b>das sí que las e<b>cha</b>ba de <b>me</b>nos un buen choco<b>la</b>te con <b>chu</b>rros. . .  </p>                  <p> S12-<b>E</b>so, <b>pa</b>ra meren<b>dar</b>, ¡<b>na</b>da <b>co</b>mo Es<b>pa</b>ña!  </p>                  <p> T00-TRANSLATE-Ejer<b>ci</b>cio 1 – Tra<b>duz</b>ca </p>                  <p> T01-No me has <b>di</b>cho si te gus<b>tó</b> la <b>sal</b>sa de ca<b>ca</b>o y guin<b>di</b>llas.  </p>                  <p> T02-¿Te atre<b>vis</b>te a to<b>mar</b> choco<b>la</b>te a<b>mar</b>go, pi<b>can</b>te y sin a<b>zú</b>car?  </p>                  <p> T03-¡Qué va! Me dio <b>as</b>co y no lo pro<b>bé</b>.  </p>                  <p> T04-Pues a lo me<b>jor</b> es<b>tá</b> muy <b>ri</b>co, <b>pe</b>ro pre<b>fie</b>ro un choco<b>la</b>te con <b>chu</b>rros.  </p>                  <p> T05-<b>E</b>cho de <b>me</b>nos la co<b>ci</b>na mexi<b>ca</b>na.  </p>\"\"\""
   ]
  },
  {
   "cell_type": "code",
   "execution_count": 11,
   "id": "309071e0-38c2-415a-9d4e-46719477167c",
   "metadata": {},
   "outputs": [
    {
     "name": "stdout",
     "output_type": "stream",
     "text": [
      "<p> N52-Lec<b>ción</b> cin<b>cuen</b>ta y dos </p>                  <p> S00-TITLE-La co<b>ci</b>na mexi<b>ca</b>na </p>                  <p> S01-No me has <b>di</b>cho <b>na</b>da de la co<b>ci</b>na mexi<b>ca</b>na </p>                  <p> S02-¿O a lo me<b>jor</b> no te atre<b>vis</b>te a pro<b>bar</b>la?  </p>                  <p> S03-¡Por su<b>pues</b>to que la pro<b>bé</b>! Me gus<b>tó</b> <b>so</b>bre <b>to</b>do el <b>mo</b>le es <b>u</b>na <b>sal</b>sa de ca<b>ca</b>o y guin<b>di</b>llas.  </p>                  <p> S04-¿Choco<b>la</b>te pi<b>can</b>te? ¿No te <mark class='V' title='3ème personne du singulier du passé simple de dar : dio et non pas di.'>dio</mark> <b>as</b>co?  </p>                  <p> S05-¡Qué va! ¡Es<b>tá</b> muy <b>ri</b>co! Lo a<b>mar</b>go va muy bien con lo pi<b>can</b>te.  </p>                  <p> S06-Los <b>pue</b>blos precolom<b>bi</b>nos ha<b>cí</b>an <b>u</b>na be<b>bi</b>da <b>ro</b>ja con el ca<b>ca</b>o.  </p>                  <p> S07-¡Por <b>e</b>so los conquista<b>do</b>res cre<b>ye</b>ron que be<b>bí</b>an <b>san</b>gre!  </p>                  <p> S08-¿<b>Pe</b>ro <b>nun</b>ca lo <mark class='V' title='3ème personne du pluriel du présent du verbe tomar.'><b>to</b>man</mark> <b></b><b>dul</b>ce?  </p>                  <p> S09-Sí, <b>cla</b>ro, hoy en <b>dí</b>a tam<b>bién</b> <mark class='G' title='cacao est complément d&#39;objet indirect donc=\"le\" et non pas \"lo\"'>le</mark> <b>e</b>chan a<b>zú</b>car,  </p>                  <p> S10-<b>pe</b>ro en la tradi<b>ción</b> in<b>dí</b>gena no se <mark class='G' title='cacao est complément d&#39;objet indirect donc=\"le\" et non pas \"lo\"'>le</mark> a<b>ña</b>de <b>le</b>che, <b>so</b>lo <b>a</b>gua.  </p>                  <p> S11-<b></b><mark class='O'><b></b><mark class='O' title='Meriendas est féminin, donc nuestras et non pas nuestros.'><b>Nues</b>tras</mark></mark> me<b>rien</b>das sí que las e<b>cha</b>ba de <b>me</b>nos un buen choco<b>la</b>te con <b>chu</b>rros. . .  </p>                  <p> S12-<b>E</b>so, <b>pa</b>ra meren<b>dar</b>, ¡<b>na</b>da <b>co</b>mo Es<b>pa</b>ña!  </p>                  <p> T00-TRANSLATE-Ejer<b>ci</b>cio 1 – Tra<b>duz</b>ca </p>                  <p> T01-No me has <b>di</b>cho si te gus<b>tó</b> la <b>sal</b>sa de ca<b>ca</b>o y guin<b>di</b>llas.  </p>                  <p> T02-¿Te atre<b>vis</b>te a to<b>mar</b> choco<b>la</b>te a<b>mar</b>go, pi<b>can</b>te y sin a<b>zú</b>car?  </p>                  <p> T03-¡Qué va! Me dio <b>as</b>co y no lo pro<b>bé</b>.  </p>                  <p> T04-Pues a lo me<b>jor</b> es<b>tá</b> muy <b>ri</b>co, <b>pe</b>ro pre<b>fie</b>ro un choco<b>la</b>te con <b>chu</b>rros.  </p>                  <p> T05-<b>E</b>cho de <b>me</b>nos la co<b>ci</b>na mexi<b>ca</b>na.  </p>\n"
     ]
    }
   ],
   "source": [
    "print(html_with_selection)"
   ]
  },
  {
   "cell_type": "code",
   "execution_count": 47,
   "id": "f687b69a-f81a-4fd9-bf04-c6b29b4e5f5d",
   "metadata": {},
   "outputs": [
    {
     "data": {
      "text/plain": [
       "'<p> N52-Lec<b>ción</b> cin<b>cuen</b>ta y dos </p>                  <p> S00-TITLE-La co<b>ci</b>na mexi<b>ca</b>na </p>                  <p> S01-No me has <b>di</b>cho <b>na</b>da de la co<b>ci</b>na mexi<b>ca</b>na </p>                  <p> S02-¿O a lo me<b>jor</b> no te atre<b>vis</b>te a pro<b>bar</b>la?  </p>                  <p> S03-¡Por su<b>pues</b>to que la pro<b>bé</b>! Me gus<b>tó</b> <b>so</b>bre <b>to</b>do el <b>mo</b>le es <b>u</b>na <b>sal</b>sa de ca<b>ca</b>o y guin<b>di</b>llas.  </p>                  <p> S04-¿Choco<b>la</b>te pi<b>can</b>te? ¿No te <mark class=\\'V\\' title=\\'3ème personne du singulier du passé simple de dar : dio et non pas di.\\'>dio</mark> <b>as</b>co?  </p>                  <p> S05-¡Qué va! ¡Es<b>tá</b> muy <b>ri</b>co! Lo a<b>mar</b>go va muy bien con lo pi<b>can</b>te.  </p>                  <p> S06-Los <b>pue</b>blos precolom<b>bi</b>nos ha<b>cí</b>an <b>u</b>na be<b>bi</b>da <b>ro</b>ja con el ca<b>ca</b>o.  </p>                  <p> S07-¡Por <b>e</b>so los conquista<b>do</b>res cre<b>ye</b>ron que be<b>bí</b>an <b>san</b>gre!  </p>                  <p> S08-¿<b>Pe</b>ro <b>nun</b>ca lo <mark class=\\'V\\' title=\\'3ème personne du pluriel du présent du verbe tomar.\\'><b>to</b>man</mark> <b></b><b>dul</b>ce?  </p>                  <p> S09-Sí, <b>cla</b>ro, hoy en <b>dí</b>a tam<b>bién</b> <mark class=\\'G\\' title=\\'cacao est complément d&#39;objet indirect donc=\"le\" et non pas \"lo\"\\'>le</mark> <b>e</b>chan a<b>zú</b>car,  </p>                  <p> S10-<b>pe</b>ro en la tradi<b>ción</b> in<b>dí</b>gena no se <mark class=\\'G\\' title=\\'cacao est complément d&#39;objet indirect donc=\"le\" et non pas \"lo\"\\'>le</mark> a<b>ña</b>de <b>le</b>che, <b>so</b>lo <b>a</b>gua.  </p>                  <p> S11-<b></b><mark class=\\'O\\'><b></b><mark class=\\'O\\' title=\\'Meriendas est féminin, donc nuestras et non pas nuestros.\\'><b>Nues</b>tras</mark></mark> me<b>rien</b>das sí que las e<b>cha</b>ba de <b>me</b>nos un buen choco<b>la</b>te con <b>chu</b>rros. . .  </p>                  <p> S12-<b>E</b>so, <b>pa</b>ra meren<b>dar</b>, ¡<b>na</b>da <b>co</b>mo Es<b>pa</b>ña!  </p>                  <p> T00-TRANSLATE-Ejer<b>ci</b>cio 1 – Tra<b>duz</b>ca </p>                  <p> T01-No me has <b>di</b>cho si te gus<b>tó</b> la <b>sal</b>sa de ca<b>ca</b>o y guin<b>di</b>llas.  </p>                  <p> T02-¿Te atre<b>vis</b>te a to<b>mar</b> choco<b>la</b>te a<b>mar</b>go, pi<b>can</b>te y sin a<b>zú</b>car?  </p>                  <p> T03-¡Qué va! Me dio <b>as</b>co y no lo pro<b>bé</b>.  </p>                  <p> T04-Pues a lo me<b>jor</b> es<b>tá</b> muy <b>ri</b>co, <b>pe</b>ro pre<b>fie</b>ro un choco<b>la</b>te con <b>chu</b>rros.  </p>                  <p> T05-<b>E</b>cho de <b>me</b>nos la co<b>ci</b>na mexi<b>ca</b>na.  </p>'"
      ]
     },
     "execution_count": 47,
     "metadata": {},
     "output_type": "execute_result"
    }
   ],
   "source": [
    "html_with_selection"
   ]
  },
  {
   "cell_type": "code",
   "execution_count": 48,
   "id": "b684bf44-f689-4322-8303-380cc8041fde",
   "metadata": {},
   "outputs": [],
   "source": [
    "from selection import extract_selection"
   ]
  },
  {
   "cell_type": "code",
   "execution_count": 49,
   "id": "8445bb88-4efb-425e-bb57-65d7b1736de0",
   "metadata": {},
   "outputs": [
    {
     "name": "stdout",
     "output_type": "stream",
     "text": [
      "attr_name : class, attr_value : V\n",
      "---- in convert_to_html_escape, returning V\n",
      "---- escaped_attr_value : V\n",
      "attr_name = class, char : V, 86, 0\n",
      "attr_name : title, attr_value : 3ème personne du singulier du passé simple de dar : dio et non pas di.\n",
      "---- in convert_to_html_escape, returning 3ème personne du singulier du passé simple de dar : dio et non pas di.\n",
      "---- escaped_attr_value : 3ème personne du singulier du passé simple de dar : dio et non pas di.\n",
      "attr_name = title, char : 3, 51, 0\n",
      "attr_name = title, char : è, 232, 1\n",
      "attr_name = title, char : m, 109, 2\n",
      "attr_name = title, char : e, 101, 3\n",
      "attr_name = title, char :  , 32, 4\n",
      "attr_name = title, char : p, 112, 5\n",
      "attr_name = title, char : e, 101, 6\n",
      "attr_name = title, char : r, 114, 7\n",
      "attr_name = title, char : s, 115, 8\n",
      "attr_name = title, char : o, 111, 9\n",
      "attr_name = title, char : n, 110, 10\n",
      "attr_name = title, char : n, 110, 11\n",
      "attr_name = title, char : e, 101, 12\n",
      "attr_name = title, char :  , 32, 13\n",
      "attr_name = title, char : d, 100, 14\n",
      "attr_name = title, char : u, 117, 15\n",
      "attr_name = title, char :  , 32, 16\n",
      "attr_name = title, char : s, 115, 17\n",
      "attr_name = title, char : i, 105, 18\n",
      "attr_name = title, char : n, 110, 19\n",
      "attr_name = title, char : g, 103, 20\n",
      "attr_name = title, char : u, 117, 21\n",
      "attr_name = title, char : l, 108, 22\n",
      "attr_name = title, char : i, 105, 23\n",
      "attr_name = title, char : e, 101, 24\n",
      "attr_name = title, char : r, 114, 25\n",
      "attr_name = title, char :  , 32, 26\n",
      "attr_name = title, char : d, 100, 27\n",
      "attr_name = title, char : u, 117, 28\n",
      "attr_name = title, char :  , 32, 29\n",
      "attr_name = title, char : p, 112, 30\n",
      "attr_name = title, char : a, 97, 31\n",
      "attr_name = title, char : s, 115, 32\n",
      "attr_name = title, char : s, 115, 33\n",
      "attr_name = title, char : é, 233, 34\n",
      "attr_name = title, char :  , 32, 35\n",
      "attr_name = title, char : s, 115, 36\n",
      "attr_name = title, char : i, 105, 37\n",
      "attr_name = title, char : m, 109, 38\n",
      "attr_name = title, char : p, 112, 39\n",
      "attr_name = title, char : l, 108, 40\n",
      "attr_name = title, char : e, 101, 41\n",
      "attr_name = title, char :  , 32, 42\n",
      "attr_name = title, char : d, 100, 43\n",
      "attr_name = title, char : e, 101, 44\n",
      "attr_name = title, char :  , 32, 45\n",
      "attr_name = title, char : d, 100, 46\n",
      "attr_name = title, char : a, 97, 47\n",
      "attr_name = title, char : r, 114, 48\n",
      "attr_name = title, char :  , 32, 49\n",
      "attr_name = title, char : :, 58, 50\n",
      "attr_name = title, char :  , 32, 51\n",
      "attr_name = title, char : d, 100, 52\n",
      "attr_name = title, char : i, 105, 53\n",
      "attr_name = title, char : o, 111, 54\n",
      "attr_name = title, char :  , 32, 55\n",
      "attr_name = title, char : e, 101, 56\n",
      "attr_name = title, char : t, 116, 57\n",
      "attr_name = title, char :  , 32, 58\n",
      "attr_name = title, char : n, 110, 59\n",
      "attr_name = title, char : o, 111, 60\n",
      "attr_name = title, char : n, 110, 61\n",
      "attr_name = title, char :  , 32, 62\n",
      "attr_name = title, char : p, 112, 63\n",
      "attr_name = title, char : a, 97, 64\n",
      "attr_name = title, char : s, 115, 65\n",
      "attr_name = title, char :  , 32, 66\n",
      "attr_name = title, char : d, 100, 67\n",
      "attr_name = title, char : i, 105, 68\n",
      "attr_name = title, char : ., 46, 69\n",
      "attr_name : class, attr_value : V\n",
      "---- in convert_to_html_escape, returning V\n",
      "---- escaped_attr_value : V\n",
      "attr_name = class, char : V, 86, 0\n",
      "attr_name : title, attr_value : 3ème personne du pluriel du présent du verbe tomar.\n",
      "---- in convert_to_html_escape, returning 3ème personne du pluriel du présent du verbe tomar.\n",
      "---- escaped_attr_value : 3ème personne du pluriel du présent du verbe tomar.\n",
      "attr_name = title, char : 3, 51, 0\n",
      "attr_name = title, char : è, 232, 1\n",
      "attr_name = title, char : m, 109, 2\n",
      "attr_name = title, char : e, 101, 3\n",
      "attr_name = title, char :  , 32, 4\n",
      "attr_name = title, char : p, 112, 5\n",
      "attr_name = title, char : e, 101, 6\n",
      "attr_name = title, char : r, 114, 7\n",
      "attr_name = title, char : s, 115, 8\n",
      "attr_name = title, char : o, 111, 9\n",
      "attr_name = title, char : n, 110, 10\n",
      "attr_name = title, char : n, 110, 11\n",
      "attr_name = title, char : e, 101, 12\n",
      "attr_name = title, char :  , 32, 13\n",
      "attr_name = title, char : d, 100, 14\n",
      "attr_name = title, char : u, 117, 15\n",
      "attr_name = title, char :  , 32, 16\n",
      "attr_name = title, char : p, 112, 17\n",
      "attr_name = title, char : l, 108, 18\n",
      "attr_name = title, char : u, 117, 19\n",
      "attr_name = title, char : r, 114, 20\n",
      "attr_name = title, char : i, 105, 21\n",
      "attr_name = title, char : e, 101, 22\n",
      "attr_name = title, char : l, 108, 23\n",
      "attr_name = title, char :  , 32, 24\n",
      "attr_name = title, char : d, 100, 25\n",
      "attr_name = title, char : u, 117, 26\n",
      "attr_name = title, char :  , 32, 27\n",
      "attr_name = title, char : p, 112, 28\n",
      "attr_name = title, char : r, 114, 29\n",
      "attr_name = title, char : é, 233, 30\n",
      "attr_name = title, char : s, 115, 31\n",
      "attr_name = title, char : e, 101, 32\n",
      "attr_name = title, char : n, 110, 33\n",
      "attr_name = title, char : t, 116, 34\n",
      "attr_name = title, char :  , 32, 35\n",
      "attr_name = title, char : d, 100, 36\n",
      "attr_name = title, char : u, 117, 37\n",
      "attr_name = title, char :  , 32, 38\n",
      "attr_name = title, char : v, 118, 39\n",
      "attr_name = title, char : e, 101, 40\n",
      "attr_name = title, char : r, 114, 41\n",
      "attr_name = title, char : b, 98, 42\n",
      "attr_name = title, char : e, 101, 43\n",
      "attr_name = title, char :  , 32, 44\n",
      "attr_name = title, char : t, 116, 45\n",
      "attr_name = title, char : o, 111, 46\n",
      "attr_name = title, char : m, 109, 47\n",
      "attr_name = title, char : a, 97, 48\n",
      "attr_name = title, char : r, 114, 49\n",
      "attr_name = title, char : ., 46, 50\n",
      "attr_name : class, attr_value : G\n",
      "---- in convert_to_html_escape, returning G\n",
      "---- escaped_attr_value : G\n",
      "attr_name = class, char : G, 71, 0\n",
      "attr_name : title, attr_value : cacao est complément d'objet indirect donc=\"le\" et non pas \"lo\"\n",
      "---- in convert_to_html_escape, returning cacao est complément d'objet indirect donc=\"le\" et non pas \"lo\"\n",
      "---- escaped_attr_value : cacao est complément d&#039;objet indirect donc=&#034;le&#034; et non pas &#034;lo&#034;\n",
      "attr_name = title, char : c, 99, 0\n",
      "attr_name = title, char : a, 97, 1\n",
      "attr_name = title, char : c, 99, 2\n",
      "attr_name = title, char : a, 97, 3\n",
      "attr_name = title, char : o, 111, 4\n",
      "attr_name = title, char :  , 32, 5\n",
      "attr_name = title, char : e, 101, 6\n",
      "attr_name = title, char : s, 115, 7\n",
      "attr_name = title, char : t, 116, 8\n",
      "attr_name = title, char :  , 32, 9\n",
      "attr_name = title, char : c, 99, 10\n",
      "attr_name = title, char : o, 111, 11\n",
      "attr_name = title, char : m, 109, 12\n",
      "attr_name = title, char : p, 112, 13\n",
      "attr_name = title, char : l, 108, 14\n",
      "attr_name = title, char : é, 233, 15\n",
      "attr_name = title, char : m, 109, 16\n",
      "attr_name = title, char : e, 101, 17\n",
      "attr_name = title, char : n, 110, 18\n",
      "attr_name = title, char : t, 116, 19\n",
      "attr_name = title, char :  , 32, 20\n",
      "attr_name = title, char : d, 100, 21\n",
      "attr_name = title, char : ', 39, 22\n",
      "attr_name = title, char : o, 111, 23\n",
      "attr_name = title, char : b, 98, 24\n",
      "attr_name = title, char : j, 106, 25\n",
      "attr_name = title, char : e, 101, 26\n",
      "attr_name = title, char : t, 116, 27\n",
      "attr_name = title, char :  , 32, 28\n",
      "attr_name = title, char : i, 105, 29\n",
      "attr_name = title, char : n, 110, 30\n",
      "attr_name = title, char : d, 100, 31\n",
      "attr_name = title, char : i, 105, 32\n",
      "attr_name = title, char : r, 114, 33\n",
      "attr_name = title, char : e, 101, 34\n",
      "attr_name = title, char : c, 99, 35\n",
      "attr_name = title, char : t, 116, 36\n",
      "attr_name = title, char :  , 32, 37\n",
      "attr_name = title, char : d, 100, 38\n",
      "attr_name = title, char : o, 111, 39\n",
      "attr_name = title, char : n, 110, 40\n",
      "attr_name = title, char : c, 99, 41\n",
      "attr_name = title, char : =, 61, 42\n",
      "attr_name = title, char : \", 34, 43\n",
      "attr_name = title, char : l, 108, 44\n",
      "attr_name = title, char : e, 101, 45\n",
      "attr_name = title, char : \", 34, 46\n",
      "attr_name = title, char :  , 32, 47\n",
      "attr_name = title, char : e, 101, 48\n",
      "attr_name = title, char : t, 116, 49\n",
      "attr_name = title, char :  , 32, 50\n",
      "attr_name = title, char : n, 110, 51\n",
      "attr_name = title, char : o, 111, 52\n",
      "attr_name = title, char : n, 110, 53\n",
      "attr_name = title, char :  , 32, 54\n",
      "attr_name = title, char : p, 112, 55\n",
      "attr_name = title, char : a, 97, 56\n",
      "attr_name = title, char : s, 115, 57\n",
      "attr_name = title, char :  , 32, 58\n",
      "attr_name = title, char : \", 34, 59\n",
      "attr_name = title, char : l, 108, 60\n",
      "attr_name = title, char : o, 111, 61\n",
      "attr_name = title, char : \", 34, 62\n",
      "attr_name : class, attr_value : G\n",
      "---- in convert_to_html_escape, returning G\n",
      "---- escaped_attr_value : G\n",
      "attr_name = class, char : G, 71, 0\n",
      "attr_name : title, attr_value : cacao est complément d'objet indirect donc=\"le\" et non pas \"lo\"\n",
      "---- in convert_to_html_escape, returning cacao est complément d'objet indirect donc=\"le\" et non pas \"lo\"\n",
      "---- escaped_attr_value : cacao est complément d&#039;objet indirect donc=&#034;le&#034; et non pas &#034;lo&#034;\n",
      "attr_name = title, char : c, 99, 0\n",
      "attr_name = title, char : a, 97, 1\n",
      "attr_name = title, char : c, 99, 2\n",
      "attr_name = title, char : a, 97, 3\n",
      "attr_name = title, char : o, 111, 4\n",
      "attr_name = title, char :  , 32, 5\n",
      "attr_name = title, char : e, 101, 6\n",
      "attr_name = title, char : s, 115, 7\n",
      "attr_name = title, char : t, 116, 8\n",
      "attr_name = title, char :  , 32, 9\n",
      "attr_name = title, char : c, 99, 10\n",
      "attr_name = title, char : o, 111, 11\n",
      "attr_name = title, char : m, 109, 12\n",
      "attr_name = title, char : p, 112, 13\n",
      "attr_name = title, char : l, 108, 14\n",
      "attr_name = title, char : é, 233, 15\n",
      "attr_name = title, char : m, 109, 16\n",
      "attr_name = title, char : e, 101, 17\n",
      "attr_name = title, char : n, 110, 18\n",
      "attr_name = title, char : t, 116, 19\n",
      "attr_name = title, char :  , 32, 20\n",
      "attr_name = title, char : d, 100, 21\n",
      "attr_name = title, char : ', 39, 22\n",
      "attr_name = title, char : o, 111, 23\n",
      "attr_name = title, char : b, 98, 24\n",
      "attr_name = title, char : j, 106, 25\n",
      "attr_name = title, char : e, 101, 26\n",
      "attr_name = title, char : t, 116, 27\n",
      "attr_name = title, char :  , 32, 28\n",
      "attr_name = title, char : i, 105, 29\n",
      "attr_name = title, char : n, 110, 30\n",
      "attr_name = title, char : d, 100, 31\n",
      "attr_name = title, char : i, 105, 32\n",
      "attr_name = title, char : r, 114, 33\n",
      "attr_name = title, char : e, 101, 34\n",
      "attr_name = title, char : c, 99, 35\n",
      "attr_name = title, char : t, 116, 36\n",
      "attr_name = title, char :  , 32, 37\n",
      "attr_name = title, char : d, 100, 38\n",
      "attr_name = title, char : o, 111, 39\n",
      "attr_name = title, char : n, 110, 40\n",
      "attr_name = title, char : c, 99, 41\n",
      "attr_name = title, char : =, 61, 42\n",
      "attr_name = title, char : \", 34, 43\n",
      "attr_name = title, char : l, 108, 44\n",
      "attr_name = title, char : e, 101, 45\n",
      "attr_name = title, char : \", 34, 46\n",
      "attr_name = title, char :  , 32, 47\n",
      "attr_name = title, char : e, 101, 48\n",
      "attr_name = title, char : t, 116, 49\n",
      "attr_name = title, char :  , 32, 50\n",
      "attr_name = title, char : n, 110, 51\n",
      "attr_name = title, char : o, 111, 52\n",
      "attr_name = title, char : n, 110, 53\n",
      "attr_name = title, char :  , 32, 54\n",
      "attr_name = title, char : p, 112, 55\n",
      "attr_name = title, char : a, 97, 56\n",
      "attr_name = title, char : s, 115, 57\n",
      "attr_name = title, char :  , 32, 58\n",
      "attr_name = title, char : \", 34, 59\n",
      "attr_name = title, char : l, 108, 60\n",
      "attr_name = title, char : o, 111, 61\n",
      "attr_name = title, char : \", 34, 62\n",
      "attr_name : class, attr_value : O\n",
      "---- in convert_to_html_escape, returning O\n",
      "---- escaped_attr_value : O\n",
      "attr_name = class, char : O, 79, 0\n",
      "attr_name : class, attr_value : O\n",
      "---- in convert_to_html_escape, returning O\n",
      "---- escaped_attr_value : O\n",
      "attr_name = class, char : O, 79, 0\n",
      "attr_name : title, attr_value : Meriendas est féminin, donc nuestras et non pas nuestros.\n",
      "---- in convert_to_html_escape, returning Meriendas est féminin, donc nuestras et non pas nuestros.\n",
      "---- escaped_attr_value : Meriendas est féminin, donc nuestras et non pas nuestros.\n",
      "attr_name = title, char : M, 77, 0\n",
      "attr_name = title, char : e, 101, 1\n",
      "attr_name = title, char : r, 114, 2\n",
      "attr_name = title, char : i, 105, 3\n",
      "attr_name = title, char : e, 101, 4\n",
      "attr_name = title, char : n, 110, 5\n",
      "attr_name = title, char : d, 100, 6\n",
      "attr_name = title, char : a, 97, 7\n",
      "attr_name = title, char : s, 115, 8\n",
      "attr_name = title, char :  , 32, 9\n",
      "attr_name = title, char : e, 101, 10\n",
      "attr_name = title, char : s, 115, 11\n",
      "attr_name = title, char : t, 116, 12\n",
      "attr_name = title, char :  , 32, 13\n",
      "attr_name = title, char : f, 102, 14\n",
      "attr_name = title, char : é, 233, 15\n",
      "attr_name = title, char : m, 109, 16\n",
      "attr_name = title, char : i, 105, 17\n",
      "attr_name = title, char : n, 110, 18\n",
      "attr_name = title, char : i, 105, 19\n",
      "attr_name = title, char : n, 110, 20\n",
      "attr_name = title, char : ,, 44, 21\n",
      "attr_name = title, char :  , 32, 22\n",
      "attr_name = title, char : d, 100, 23\n",
      "attr_name = title, char : o, 111, 24\n",
      "attr_name = title, char : n, 110, 25\n",
      "attr_name = title, char : c, 99, 26\n",
      "attr_name = title, char :  , 32, 27\n",
      "attr_name = title, char : n, 110, 28\n",
      "attr_name = title, char : u, 117, 29\n",
      "attr_name = title, char : e, 101, 30\n",
      "attr_name = title, char : s, 115, 31\n",
      "attr_name = title, char : t, 116, 32\n",
      "attr_name = title, char : r, 114, 33\n",
      "attr_name = title, char : a, 97, 34\n",
      "attr_name = title, char : s, 115, 35\n",
      "attr_name = title, char :  , 32, 36\n",
      "attr_name = title, char : e, 101, 37\n",
      "attr_name = title, char : t, 116, 38\n",
      "attr_name = title, char :  , 32, 39\n",
      "attr_name = title, char : n, 110, 40\n",
      "attr_name = title, char : o, 111, 41\n",
      "attr_name = title, char : n, 110, 42\n",
      "attr_name = title, char :  , 32, 43\n",
      "attr_name = title, char : p, 112, 44\n",
      "attr_name = title, char : a, 97, 45\n",
      "attr_name = title, char : s, 115, 46\n",
      "attr_name = title, char :  , 32, 47\n",
      "attr_name = title, char : n, 110, 48\n",
      "attr_name = title, char : u, 117, 49\n",
      "attr_name = title, char : e, 101, 50\n",
      "attr_name = title, char : s, 115, 51\n",
      "attr_name = title, char : t, 116, 52\n",
      "attr_name = title, char : r, 114, 53\n",
      "attr_name = title, char : o, 111, 54\n",
      "attr_name = title, char : s, 115, 55\n",
      "attr_name = title, char : ., 46, 56\n"
     ]
    }
   ],
   "source": [
    "marked_lines_numbers, sentences = extract_selection(html_with_selection)"
   ]
  },
  {
   "cell_type": "code",
   "execution_count": 50,
   "id": "502f92d5-7a28-4460-831f-e1635f3fd23c",
   "metadata": {},
   "outputs": [
    {
     "data": {
      "text/plain": [
       "{5: True, 9: True, 10: True, 11: True, 12: True}"
      ]
     },
     "execution_count": 50,
     "metadata": {},
     "output_type": "execute_result"
    }
   ],
   "source": [
    "marked_lines_numbers"
   ]
  },
  {
   "cell_type": "code",
   "execution_count": 51,
   "id": "f57f2431-c403-4d25-aa1d-0308f8d411dc",
   "metadata": {},
   "outputs": [
    {
     "data": {
      "text/plain": [
       "['N52-Lec<b>ción</b> cin<b>cuen</b>ta y dos',\n",
       " 'S00-TITLE-La co<b>ci</b>na mexi<b>ca</b>na',\n",
       " 'S01-No me has <b>di</b>cho <b>na</b>da de la co<b>ci</b>na mexi<b>ca</b>na',\n",
       " 'S02-¿O a lo me<b>jor</b> no te atre<b>vis</b>te a pro<b>bar</b>la?',\n",
       " 'S03-¡Por su<b>pues</b>to que la pro<b>bé</b>! Me gus<b>tó</b> <b>so</b>bre <b>to</b>do el <b>mo</b>le es <b>u</b>na <b>sal</b>sa de ca<b>ca</b>o y guin<b>di</b>llas.',\n",
       " \"S04-¿Choco<b>la</b>te pi<b>can</b>te? ¿No te <mark class='V' title='3ème personne du singulier du passé simple de dar : dio et non pas di.'>dio</mark> <b>as</b>co?\",\n",
       " 'S05-¡Qué va! ¡Es<b>tá</b> muy <b>ri</b>co! Lo a<b>mar</b>go va muy bien con lo pi<b>can</b>te.',\n",
       " 'S06-Los <b>pue</b>blos precolom<b>bi</b>nos ha<b>cí</b>an <b>u</b>na be<b>bi</b>da <b>ro</b>ja con el ca<b>ca</b>o.',\n",
       " 'S07-¡Por <b>e</b>so los conquista<b>do</b>res cre<b>ye</b>ron que be<b>bí</b>an <b>san</b>gre!',\n",
       " \"S08-¿<b>Pe</b>ro <b>nun</b>ca lo <mark class='V' title='3ème personne du pluriel du présent du verbe tomar.'><b>to</b>man</mark> <b></b><b>dul</b>ce?\",\n",
       " \"S09-Sí, <b>cla</b>ro, hoy en <b>dí</b>a tam<b>bién</b> <mark class='G' title='cacao est complément d&#039;objet indirect donc=&#034;le&#034; et non pas &#034;lo&#034;'>le</mark> <b>e</b>chan a<b>zú</b>car,\",\n",
       " \"S10-<b>pe</b>ro en la tradi<b>ción</b> in<b>dí</b>gena no se <mark class='G' title='cacao est complément d&#039;objet indirect donc=&#034;le&#034; et non pas &#034;lo&#034;'>le</mark> a<b>ña</b>de <b>le</b>che, <b>so</b>lo <b>a</b>gua.\",\n",
       " \"S11-<b></b><mark class='O'><b></b><mark class='O' title='Meriendas est féminin, donc nuestras et non pas nuestros.'><b>Nues</b>tras</mark></mark> me<b>rien</b>das sí que las e<b>cha</b>ba de <b>me</b>nos un buen choco<b>la</b>te con <b>chu</b>rros. . .\",\n",
       " 'S12-<b>E</b>so, <b>pa</b>ra meren<b>dar</b>, ¡<b>na</b>da <b>co</b>mo Es<b>pa</b>ña!',\n",
       " 'T00-TRANSLATE-Ejer<b>ci</b>cio 1 – Tra<b>duz</b>ca',\n",
       " 'T01-No me has <b>di</b>cho si te gus<b>tó</b> la <b>sal</b>sa de ca<b>ca</b>o y guin<b>di</b>llas.',\n",
       " 'T02-¿Te atre<b>vis</b>te a to<b>mar</b> choco<b>la</b>te a<b>mar</b>go, pi<b>can</b>te y sin a<b>zú</b>car?',\n",
       " 'T03-¡Qué va! Me dio <b>as</b>co y no lo pro<b>bé</b>.',\n",
       " 'T04-Pues a lo me<b>jor</b> es<b>tá</b> muy <b>ri</b>co, <b>pe</b>ro pre<b>fie</b>ro un choco<b>la</b>te con <b>chu</b>rros.',\n",
       " 'T05-<b>E</b>cho de <b>me</b>nos la co<b>ci</b>na mexi<b>ca</b>na.']"
      ]
     },
     "execution_count": 51,
     "metadata": {},
     "output_type": "execute_result"
    }
   ],
   "source": [
    "sentences"
   ]
  },
  {
   "cell_type": "code",
   "execution_count": 52,
   "id": "ad7c76d0-2323-4026-aab1-13b32fdd53dc",
   "metadata": {},
   "outputs": [
    {
     "name": "stdout",
     "output_type": "stream",
     "text": [
      "0 N52-Lec<b>ción</b> cin<b>cuen</b>ta y dos\n",
      "1 S00-TITLE-La co<b>ci</b>na mexi<b>ca</b>na\n",
      "2 S01-No me has <b>di</b>cho <b>na</b>da de la co<b>ci</b>na mexi<b>ca</b>na\n",
      "3 S02-¿O a lo me<b>jor</b> no te atre<b>vis</b>te a pro<b>bar</b>la?\n",
      "4 S03-¡Por su<b>pues</b>to que la pro<b>bé</b>! Me gus<b>tó</b> <b>so</b>bre <b>to</b>do el <b>mo</b>le es <b>u</b>na <b>sal</b>sa de ca<b>ca</b>o y guin<b>di</b>llas.\n",
      "5 S04-¿Choco<b>la</b>te pi<b>can</b>te? ¿No te <mark class='V' title='3ème personne du singulier du passé simple de dar : dio et non pas di.'>dio</mark> <b>as</b>co?\n",
      "6 S05-¡Qué va! ¡Es<b>tá</b> muy <b>ri</b>co! Lo a<b>mar</b>go va muy bien con lo pi<b>can</b>te.\n",
      "7 S06-Los <b>pue</b>blos precolom<b>bi</b>nos ha<b>cí</b>an <b>u</b>na be<b>bi</b>da <b>ro</b>ja con el ca<b>ca</b>o.\n",
      "8 S07-¡Por <b>e</b>so los conquista<b>do</b>res cre<b>ye</b>ron que be<b>bí</b>an <b>san</b>gre!\n",
      "9 S08-¿<b>Pe</b>ro <b>nun</b>ca lo <mark class='V' title='3ème personne du pluriel du présent du verbe tomar.'><b>to</b>man</mark> <b></b><b>dul</b>ce?\n",
      "10 S09-Sí, <b>cla</b>ro, hoy en <b>dí</b>a tam<b>bién</b> <mark class='G' title='cacao est complément d&#039;objet indirect donc=&#034;le&#034; et non pas &#034;lo&#034;'>le</mark> <b>e</b>chan a<b>zú</b>car,\n",
      "11 S10-<b>pe</b>ro en la tradi<b>ción</b> in<b>dí</b>gena no se <mark class='G' title='cacao est complément d&#039;objet indirect donc=&#034;le&#034; et non pas &#034;lo&#034;'>le</mark> a<b>ña</b>de <b>le</b>che, <b>so</b>lo <b>a</b>gua.\n",
      "12 S11-<b></b><mark class='O'><b></b><mark class='O' title='Meriendas est féminin, donc nuestras et non pas nuestros.'><b>Nues</b>tras</mark></mark> me<b>rien</b>das sí que las e<b>cha</b>ba de <b>me</b>nos un buen choco<b>la</b>te con <b>chu</b>rros. . .\n",
      "13 S12-<b>E</b>so, <b>pa</b>ra meren<b>dar</b>, ¡<b>na</b>da <b>co</b>mo Es<b>pa</b>ña!\n",
      "14 T00-TRANSLATE-Ejer<b>ci</b>cio 1 – Tra<b>duz</b>ca\n",
      "15 T01-No me has <b>di</b>cho si te gus<b>tó</b> la <b>sal</b>sa de ca<b>ca</b>o y guin<b>di</b>llas.\n",
      "16 T02-¿Te atre<b>vis</b>te a to<b>mar</b> choco<b>la</b>te a<b>mar</b>go, pi<b>can</b>te y sin a<b>zú</b>car?\n",
      "17 T03-¡Qué va! Me dio <b>as</b>co y no lo pro<b>bé</b>.\n",
      "18 T04-Pues a lo me<b>jor</b> es<b>tá</b> muy <b>ri</b>co, <b>pe</b>ro pre<b>fie</b>ro un choco<b>la</b>te con <b>chu</b>rros.\n",
      "19 T05-<b>E</b>cho de <b>me</b>nos la co<b>ci</b>na mexi<b>ca</b>na.\n"
     ]
    }
   ],
   "source": [
    "for index, sentence in enumerate(sentences):\n",
    "    print(index, sentence)"
   ]
  },
  {
   "cell_type": "code",
   "execution_count": 15,
   "id": "a74114ba-a672-4f91-acd1-56f56245106b",
   "metadata": {},
   "outputs": [
    {
     "name": "stdout",
     "output_type": "stream",
     "text": [
      "2024-09-12 18:15:40,450 INFO sqlalchemy.engine.Engine BEGIN (implicit)\n",
      "2024-09-12 18:15:40,453 INFO sqlalchemy.engine.Engine SELECT marked_sentences.id, marked_sentences.sentence, marked_sentences.comment, marked_sentences.line, marked_sentences.session_id \n",
      "FROM marked_sentences\n",
      "2024-09-12 18:15:40,454 INFO sqlalchemy.engine.Engine [cached since 538.1s ago] ()\n",
      "Sentence(id=1, line=2, sentence =\"S01-Fe<b>li</b>pe, <b>gua</b>po, <b>da</b>me diez <b>lon</b>chas de <mark class='A'>ja<b>món</b></mark><b></b> de york, por fa<b>vor</b>.\", comment=None)\n",
      "Sentence(id=2, line=5, sentence =\"S04-Y <mark class='E'>yo</mark> se la di a <b>es</b>ta se<b>ño</b>ra.\", comment=None)\n",
      "Sentence(id=3, line=6, sentence =\"S05-O <b>se</b>a, que a<b>ho</b>ra me <b>to</b>ca a mí, y us<b>ted</b> ¡a ha<b>cer</b> <b>co</b>la i<b>gual</b> que <mark class='O'>los</mark> de<b>más</b>!\", comment=None)\n",
      "Sentence(id=4, line=10, sentence =\"S09-<b></b><mark class='E'><b>Ven</b>ga</mark>, <b>pa</b>se, <b>pe</b>ro que <b>se</b>a <b>rá</b>pido.\", comment=None)\n",
      "Sentence(id=5, line=15, sentence =\"T01-Te <mark class='E'>pe<b>dí</b></mark><b></b> diez <b>lon</b>chas de ja<b>món</b> de York y <b>me</b>dio <b>ki</b>lo de <b>car</b>ne pi<b>ca</b>da.\", comment=None)\n",
      "Sentence(id=6, line=19, sentence =\"T05-Me <b></b><mark class='G'><b>ha</b>cen</mark> <b>fal</b>ta <b>cua</b>tro <b>mus</b>los de <b>po</b>llo y dos pe<b>chu</b>gas.\", comment=None)\n",
      "Sentence(id=7, line=7, sentence =\"S06-¡En <b>to</b>das <b>par</b>tes! Pri<b>me</b>ro en <mark class='O'>el</mark> Ca<b>ri</b>be.\", comment=None)\n",
      "Sentence(id=8, line=20, sentence =\"T03-Via<b>ja</b>mos por <b>to</b>do el pa<b>ís</b> y <b></b><mark class='V'><b>fui</b>mos</mark> a <b>to</b>das <b>par</b>tes.\", comment=None)\n",
      "Sentence(id=9, line=21, sentence =\"T04-No me gus<b>tó</b> Ciu<b>dad</b> de <b>Mé</b>xico, <b>pe</b>ro la <b>gen</b>te <mark class='V'>me pare<b>ció</b></mark><b></b> encanta<b>do</b>ra.\", comment=None)\n",
      "Sentence(id=15, line=1, sentence =\"S00-TITLE-¡<mark class='O' title='      '>Bienve<b>ni</b>da</mark>!\", comment=None)\n",
      "Sentence(id=16, line=5, sentence =\"S04-No, no soy madri<b>le</b>ña. Soy <mark class='O' title='andaluza avec z'>anda<b>lu</b>za</mark>, de Se<b>vi</b>lla.\", comment=None)\n",
      "Sentence(id=17, line=6, sentence =\"S05-¡Pues <mark class='O' title='bienvenida et non pas benvenida.'>bienve<b>ni</b>da</mark> a Ma<b>drid</b>, mo<b>re</b>na!\", comment=None)\n",
      "Sentence(id=18, line=5, sentence =\"S04-¿Choco<b>la</b>te pi<b>can</b>te? ¿No te <mark class='V' title='3ème personne du singulier du passé simple de dar : dio et non pas di.'>dio</mark> <b>as</b>co?\", comment=None)\n",
      "Sentence(id=19, line=9, sentence =\"S08-¿<b>Pe</b>ro <b>nun</b>ca lo <mark class='V' title='3ème personne du pluriel du présent du verbe tomar.'><b>to</b>man</mark> <b></b><b>dul</b>ce?\", comment=None)\n",
      "Sentence(id=20, line=10, sentence =\"S09-Sí, <b>cla</b>ro, hoy en <b>dí</b>a tam<b>bién</b> <mark class='G' title='cacao est complément d&#039;objet indirect donc=&#034;le&#034; et non pas &#034;lo&#034;'>le</mark> <b>e</b>chan a<b>zú</b>car,\", comment=None)\n",
      "Sentence(id=21, line=11, sentence =\"S10-<b>pe</b>ro en la tradi<b>ción</b> in<b>dí</b>gena no se <mark class='G' title='cacao est complément d&#039;objet indirect donc=&#034;le&#034; et non pas &#034;lo&#034;'>le</mark> a<b>ña</b>de <b>le</b>che, <b>so</b>lo <b>a</b>gua.\", comment=None)\n",
      "Sentence(id=22, line=12, sentence =\"S11-<b></b><mark class='O'><b></b><mark class='O' title='Meriendas est féminin, donc nuestras et non pas nuestros.'><b>Nues</b>tras</mark></mark> me<b>rien</b>das sí que las e<b>cha</b>ba de <b>me</b>nos un buen choco<b>la</b>te con <b>chu</b>rros. . .\", comment=None)\n",
      "Sentence(id=23, line=2, sentence =\"S01-Cris<b>tó</b>bal Co<b>l<mark class='A' title='      '>ó</mark>n</b> sa<b>bí</b>a que la <b>Tie</b>rra <b>e</b>ra re<b>don</b>da y <b>qui</b>so alcan<b>zar</b> las <b>In</b>dias <b>yen</b>do <b>siem</b>pre <b></b><mark class='O' title='hacia et non pas hasta'><b>ha</b>cia</mark> el o<b>es</b>te.\", comment=None)\n",
      "Sentence(id=24, line=8, sentence =\"S07-y <mark class='V' title='Passé simple irrégulier de traer au passé simple dont le radical devient traj'>tra<b>je</b>ron</mark> <b></b><mark class='G'><b></b><mark class='G' title='Au pluriel'><b>o</b>tros <b>tan</b>tos</mark></mark> a Eu<b>ro</b>pa.\", comment=None)\n",
      "Sentence(id=25, line=11, sentence =\"S10-<b>nues</b>tros <b>pos</b>tres sin vai<b>ni</b>lla o los <b>Pie</b>les <b></b><mark class='O' title='Terminaison en a de Roja'><b>Ro</b>jas</mark> sin ca<b>ba</b>llos?\", comment=None)\n",
      "Sentence(id=26, line=12, sentence =\"S11-Un <b>nue</b>vo <b>mun</b>do <mark class='V' title='nació\\xa0et non pas naci'>na<b>ció</b></mark><b></b> el 12 de oc<b>tu</b>bre de 1492 mil cuatro<b>cien</b>tos no<b>ven</b>ta y dos.\", comment=None)\n",
      "Sentence(id=27, line=2, sentence =\"S01-¡<mark class='E' title='&#034;Ya&#034; está au lieu de &#034;Ya&#034;'>Ya</mark> <b></b><mark class='O' title='&#034;fue&#034; au lieu de &#034;hice&#034;'><b>hi</b>ce</mark> la entre<b>vis</b>ta!\", comment=None)\n",
      "Sentence(id=28, line=15, sentence =\"S14-Por Dios ¿Y qué <mark class='V' title='3ème du singulier du assé simple de pasar.'>pa<b>só</b></mark><b></b>?\", comment=None)\n",
      "Sentence(id=29, line=17, sentence =\"S16-Te lo <b></b><mark class='V' title='&#034;digo&#034; et non pas &#034;dicho&#034;'><b>di</b>go</mark> el <b>pues</b>to es <b>mí</b>o.\", comment=None)\n",
      "Sentence(id=30, line=19, sentence =\"T01-He te<b>ni</b>do <b>suer</b>te, la entre<b>vis</b>ta <mark class='E' title='&#034;me fue&#034; et non pas &#034;se pasó&#034;'>me fue</mark> muy bien y he conse<b>gui</b>do el <b>pues</b>to.\", comment=None)\n",
      "Sentence(id=31, line=3, sentence =\"S02-<mark class='G' title='Cazadora est féminin, donc le pronom est &#034;la&#034;'>La</mark> com<b>pré</b> a<b>yer</b> en el <b>Ras</b>tro, no <b>pu</b>de resis<b>tir</b>me.\", comment=None)\n",
      "Sentence(id=32, line=4, sentence =\"S03-<b>Tu</b>ve que regate<b>ar</b> un buen <b>ra</b>to, el <b>tí</b>o no <mark class='V' title='Querer à l&#039;imparfait et non pas au passé simple.'>que<b>rí</b>a</mark> ba<b>jar</b> el <b>pre</b>cio.\", comment=None)\n",
      "Sentence(id=33, line=6, sentence =\"S05-que no <b>i</b>ba a encon<b>trar</b> <b></b><mark class='G' title='Cazadora féminin, donc &#034;otra&#034; et non pas &#034;otro&#034;'><b>o</b>tra</mark> i<b>gual</b>.\", comment=None)\n",
      "Sentence(id=34, line=7, sentence =\"S06-Le pa<b>gué</b> la mi<b>tad</b> de lo que <mark class='O' title='&#034;pedir&#034; et non pas &#034;preguntar&#034;. De plus à l&#039;imparfait et non pas au passé simple.'>pe<b>dí</b>a</mark> al prin<b>ci</b>pio, <mark class='O' title='&#034;doscientos&#034; en un seul mot.'>dos<b>cien</b>tos</mark> <b>eu</b>ros. ¡<b>U</b>na <b>gan</b>ga!\", comment=None)\n",
      "Sentence(id=35, line=13, sentence =\"S12-No <b>pe</b>sa <b>mu</b>cho, pa<b>re</b>ce <b>fal</b>sa. . . ¿<mark class='E' title='&#034;De verdad&#034; placé avant crees pour insister dessus.'>De ver<b>dad</b></mark><b></b> <b>cre</b>es que es de <b>cue</b>ro?\", comment=None)\n",
      "Sentence(id=36, line=15, sentence =\"S14-A<b>mi</b>go <b>mí</b>o, me pa<b>re</b>ce que te han <b>da</b>do <b>ga</b>to por <b></b><mark class='O' title='&#034;liebre&#034; et non pas &#034;liebro&#034;'><b>lie</b>bre</mark>\", comment=None)\n",
      "Sentence(id=37, line=18, sentence =\"T02-<b></b><mark class='O' title='&#034;Trater&#034; et non pas &#034;probar&#034;'><b>Tra</b>té</mark> de regate<b>ar</b>, <b>pe</b>ro el <b>tí</b>o no <b>qui</b>so ba<b>jar</b> el <b>pre</b>cio.\", comment=None)\n",
      "Sentence(id=38, line=19, sentence =\"T03-<b>Tu</b>ve que pa<b>gar</b> lo que <mark class='V' title='Imparfait et non pas passé simple.'>pe<b>dí</b>a</mark> al prin<b>ci</b>pio.\", comment=None)\n",
      "Sentence(id=39, line=3, sentence =\"S02-Es<b>toy</b> conven<b>ci</b>do de que sí. Pa<b>sé</b> la entre<b>vis</b>ta a<b>yer</b> y <b>cre</b>o que <b>su</b>pe contes<b>tar</b> a <b>to</b>do lo que me <mark class='V' title='Passé simple 3ème personne des verbes en -ar : terminaison -aron'>pregun<b>ta</b>ron</mark>.\", comment=None)\n",
      "Sentence(id=40, line=4, sentence =\"S03-¡Enhora<b>bue</b>na! <b>Pe</b>ro, <b>di</b>me, ¿qué <b>ti</b>po de pre<b>gun</b>tas te <mark class='V' title='Passé simple 3ème personne des verbes en -er et ir : terminaison -ieron'>hi<b>cie</b>ron</mark>? A <b>ve</b>ces hay <b>tram</b>pas en las entre<b>vis</b>tas, ¿<b>sa</b>bes?\", comment=None)\n",
      "Sentence(id=41, line=5, sentence =\"S04-¡<mark class='E' title='&#034;En absoluto&#034; convient aussi.'>Qué va!</mark> <b>Fue</b>ron la mar de a<b>ma</b>bles y edu<b>ca</b>dos.\", comment=None)\n",
      "Sentence(id=42, line=6, sentence =\"S05-Me di<b>je</b>ron que a lo me<b>jor</b> <b>i</b>ban a man<b>dar</b>me a traba<b>jar</b> a Ciu<b>dad</b> de <b>Mé</b>xico y qui<b>sier</b>on sa<b>ber</b> si ya <mark class='V' title='Imparfait &#034;había&#034; et non pas le passé simple'>ha<b>bí</b>a</mark> es<b>ta</b>do a<b>llí</b>.\", comment=None)\n",
      "Sentence(id=43, line=7, sentence =\"S06-Les contes<b>té</b> que por su<b>pues</b>to cono<b>cí</b>a Latinoa<b>mé</b>rica y nos <mark class='V' title='&#034;pusimos&#034;\\xa0passé simple de poner'>pu<b>si</b>mos</mark> a ha<b>blar</b> de la <b>vi</b>da en <b>Mé</b>xico.\", comment=None)\n",
      "Sentence(id=44, line=8, sentence =\"S07-Les con<b>té</b> que ha<b>bí</b>a es<b>ta</b>do en <b>to</b>das <b></b><mark class='V' title='&#034;partes&#034; et non pas &#034;partas&#034;'><b>par</b>tes</mark> y que <b>has</b>ta ha<b>bí</b>a rega<b>tea</b>do el <b>pre</b>cio de un jer<b>sey</b> muy <b>chu</b>lo en un mer<b>ca</b>do in<b>dí</b>gena.\", comment=None)\n",
      "Sentence(id=45, line=9, sentence =\"S08-¿Te atre<b>vis</b>te a <mark class='G' title='&#034;contarles&#034; et non pas &#034;les contar&#034;'>con<b>tar</b>les</mark> <b>e</b>so?\", comment=None)\n",
      "Sentence(id=46, line=10, sentence =\"S09-Sí, ¡les <b></b><mark class='V' title='&#034;hizo&#034; passé simple et non imparfait'><b>hi</b>zo</mark> <b>mu</b>cha <b>gra</b>cia!\", comment=None)\n",
      "Sentence(id=47, line=11, sentence =\"S10-¿Y les <mark class='V' title='&#034;dijiste&#034; passé simple et non imparfait'>di<b>jis</b>te</mark> tam<b>bién</b> que te ha<b>bí</b>a <b>da</b>do <b>as</b>co la co<b>ci</b>na mexi<b>ca</b>na, que no la ha<b>bí</b>as pro<b>ba</b>do y que e<b>cha</b>bas de <b>me</b>nos las me<b>rien</b>das <mark class='O' title='&#034;españolas&#034; acord au féminin'>espa<b>ño</b>las</mark>?\", comment=None)\n",
      "Sentence(id=48, line=12, sentence =\"S11-No, <b></b><mark class='E' title='Formule courrante'><b>e</b>so sí</mark> que no lo <b>di</b>je\", comment=None)\n",
      "Sentence(id=49, line=4, sentence =\"S03-Muy bien, <b>pe</b>ro ¡<b></b><mark class='A' title='      '><b>há</b>blame</mark> de tú, por fa<b>vor</b>!\", comment=None)\n",
      "Sentence(id=50, line=6, sentence =\"S05-<mark class='O' title='&#034;Encantada&#034; et non pas &#034;Encantadora&#034;'>Encan<b>ta</b>da</mark>. Me <b>lla</b>mo <b>Mon</b>tse. ¿<b>E</b>res de Barce<b>lo</b>na?\", comment=None)\n",
      "Sentence(id=51, line=2, sentence =\"S01-<mark class='O' title='&#034;Anoche&#034; et non pas &#034;anteanoche&#034; qui signifie avant hier soir'>A<b>no</b>che</mark> <b>tu</b>ve un <b>sue</b>ño ex<b>tra</b>ño. \", comment=None)\n",
      "Sentence(id=52, line=6, sentence ='S05-¿Por qué? ¿Tú no hay <b>dí</b>as en que es<b>tás</b> can<b>sa</b>do del <b></b><b>trá</b>fico, del <b>rui</b>do y de los a<b>tas</b>cos? ', comment=None)\n",
      "Sentence(id=53, line=8, sentence =\"S07-<mark class='E' title='&#034;quizás&#034;\\xa0et &#034;tal vez&#034; sont équivalents'>qui<b>zás</b></mark><b></b> <b>ha</b>ya <b>me</b>nos contamina<b>ción</b>, <b>pe</b>ro te a<b>bu</b>rres <b>co</b>mo <b>u</b>na <b>os</b>tra. \", comment=None)\n",
      "Sentence(id=54, line=9, sentence =\"S08-Mi cu<b>ña</b>do de<b>cí</b>a lo <b>mis</b>mo que tú. Se <mark class='V' title='&#034;fue&#034; au lieu de &#034;iba&#034;'>fue</mark> a vi<b>vir</b> al <b>pue</b>blo y al <b>ca</b>bo de seis <b>me</b>ses vol<b>vió</b>. \", comment=None)\n",
      "Sentence(id=55, line=11, sentence =\"S10-Pues, que yo <b>se</b>pa, <mark class='E' title='&#034;tú no te\\xa0pierdes\\xa0nunca&#034; au lieu &#034;tú\\xa0nunca te\\xa0pierdes&#034;'>tú no te <b>pier</b>des <b>nun</b>ca</mark> las <b>fies</b>tas de tu <b>pue</b>blo, ¿no? \", comment=None)\n",
      "Sentence(id=56, line=14, sentence =\"S13-Ah, por <b>cier</b>to <mark class='S' title='&#034;el&#034; au lieu de &#034;mi&#034;'>el</mark> <b>je</b>fe no me son<b>rió</b>. \", comment=None)\n",
      "Sentence(id=57, line=17, sentence =\"T02-Que yo <b>se</b>pa, <b>nun</b>ca te <mark class='V' title='&#034;has perdido&#034; au lieu &#034;perdies&#034;'>has per<b>di</b>do</mark> las <b>fies</b>tas de tu <b>pue</b>blo. \", comment=None)\n",
      "Sentence(id=58, line=7, sentence =\"S06-De<b>cí</b>an que <b>e</b>ra entrete<b>ni</b>do, y me ha pare<b>ci</b>do <mark class='B'>aburri<b>dí</b>simo</mark>. \", comment=None)\n",
      "Sentence(id=59, line=9, sentence =\"S08-¿Me es<b>tá</b> <mark class='O' title='&#034;gastando&#034; et non pas &#034;haciendo&#034;'>gas<b>tan</b>do</mark> <b>u</b>na <b>bro</b>ma? \", comment=None)\n",
      "Sentence(id=60, line=10, sentence =\"S09-En abso<b>lu</b>to. <b>Cuan</b>do un apa<b>ra</b>to no fun<b>cio</b>na, <b>pi</b>de que se lo a<b>rre</b>glen o que le <mark class='V' title='&#034;devuelvan&#034; est au subjonctif'>de<b>vuel</b>van</mark> el di<b>ne</b>ro, ¿no? \", comment=None)\n",
      "Sentence(id=61, line=13, sentence =\"S12-Soy muy cuida<b>do</b>so con los <b>li</b>bros, <mark class='E' title='&#034;incluso&#034; au lieu de &#034;hasta&#034;'>in<b>clu</b>so</mark> con los que no me <b>gus</b>tan. \", comment=None)\n",
      "2024-09-12 18:15:40,475 INFO sqlalchemy.engine.Engine ROLLBACK\n"
     ]
    }
   ],
   "source": [
    "stmt = select(MarkedSentence)\n",
    "with Session(engine) as session:\n",
    "    for entry in session.scalars(stmt):\n",
    "        print(entry)\n"
   ]
  },
  {
   "cell_type": "code",
   "execution_count": 16,
   "id": "e4f810dd-7717-441c-9821-8ef2446642b0",
   "metadata": {},
   "outputs": [
    {
     "name": "stdout",
     "output_type": "stream",
     "text": [
      "2024-09-12 18:15:43,376 INFO sqlalchemy.engine.Engine BEGIN (implicit)\n",
      "2024-09-12 18:15:43,378 INFO sqlalchemy.engine.Engine SELECT marked_sentences.id, marked_sentences.sentence, marked_sentences.comment, marked_sentences.line, marked_sentences.session_id \n",
      "FROM marked_sentences\n",
      "2024-09-12 18:15:43,378 INFO sqlalchemy.engine.Engine [cached since 541s ago] ()\n",
      "2024-09-12 18:15:43,383 INFO sqlalchemy.engine.Engine SELECT lesson_sessions.id AS lesson_sessions_id, lesson_sessions.lesson AS lesson_sessions_lesson, lesson_sessions.date_time AS lesson_sessions_date_time, lesson_sessions.errors_number AS lesson_sessions_errors_number \n",
      "FROM lesson_sessions \n",
      "WHERE lesson_sessions.id = ?\n",
      "2024-09-12 18:15:43,384 INFO sqlalchemy.engine.Engine [cached since 541s ago] (1,)\n",
      "50\n",
      "50\n",
      "50\n",
      "50\n",
      "50\n",
      "50\n",
      "2024-09-12 18:15:43,386 INFO sqlalchemy.engine.Engine SELECT lesson_sessions.id AS lesson_sessions_id, lesson_sessions.lesson AS lesson_sessions_lesson, lesson_sessions.date_time AS lesson_sessions_date_time, lesson_sessions.errors_number AS lesson_sessions_errors_number \n",
      "FROM lesson_sessions \n",
      "WHERE lesson_sessions.id = ?\n",
      "2024-09-12 18:15:43,387 INFO sqlalchemy.engine.Engine [cached since 541s ago] (3,)\n",
      "51\n",
      "51\n",
      "51\n",
      "2024-09-12 18:15:43,390 INFO sqlalchemy.engine.Engine SELECT lesson_sessions.id AS lesson_sessions_id, lesson_sessions.lesson AS lesson_sessions_lesson, lesson_sessions.date_time AS lesson_sessions_date_time, lesson_sessions.errors_number AS lesson_sessions_errors_number \n",
      "FROM lesson_sessions \n",
      "WHERE lesson_sessions.id = ?\n",
      "2024-09-12 18:15:43,391 INFO sqlalchemy.engine.Engine [cached since 541s ago] (5,)\n",
      "3\n",
      "3\n",
      "3\n",
      "2024-09-12 18:15:43,399 INFO sqlalchemy.engine.Engine SELECT lesson_sessions.id AS lesson_sessions_id, lesson_sessions.lesson AS lesson_sessions_lesson, lesson_sessions.date_time AS lesson_sessions_date_time, lesson_sessions.errors_number AS lesson_sessions_errors_number \n",
      "FROM lesson_sessions \n",
      "WHERE lesson_sessions.id = ?\n",
      "2024-09-12 18:15:43,400 INFO sqlalchemy.engine.Engine [cached since 541s ago] (6,)\n",
      "52\n",
      "52\n",
      "52\n",
      "52\n",
      "52\n",
      "2024-09-12 18:15:43,413 INFO sqlalchemy.engine.Engine SELECT lesson_sessions.id AS lesson_sessions_id, lesson_sessions.lesson AS lesson_sessions_lesson, lesson_sessions.date_time AS lesson_sessions_date_time, lesson_sessions.errors_number AS lesson_sessions_errors_number \n",
      "FROM lesson_sessions \n",
      "WHERE lesson_sessions.id = ?\n",
      "2024-09-12 18:15:43,421 INFO sqlalchemy.engine.Engine [cached since 541s ago] (7,)\n",
      "53\n",
      "53\n",
      "53\n",
      "53\n",
      "2024-09-12 18:15:43,433 INFO sqlalchemy.engine.Engine SELECT lesson_sessions.id AS lesson_sessions_id, lesson_sessions.lesson AS lesson_sessions_lesson, lesson_sessions.date_time AS lesson_sessions_date_time, lesson_sessions.errors_number AS lesson_sessions_errors_number \n",
      "FROM lesson_sessions \n",
      "WHERE lesson_sessions.id = ?\n",
      "2024-09-12 18:15:43,433 INFO sqlalchemy.engine.Engine [cached since 541s ago] (9,)\n",
      "54\n",
      "54\n",
      "54\n",
      "54\n",
      "2024-09-12 18:15:43,435 INFO sqlalchemy.engine.Engine SELECT lesson_sessions.id AS lesson_sessions_id, lesson_sessions.lesson AS lesson_sessions_lesson, lesson_sessions.date_time AS lesson_sessions_date_time, lesson_sessions.errors_number AS lesson_sessions_errors_number \n",
      "FROM lesson_sessions \n",
      "WHERE lesson_sessions.id = ?\n",
      "2024-09-12 18:15:43,436 INFO sqlalchemy.engine.Engine [cached since 541s ago] (11,)\n",
      "55\n",
      "55\n",
      "55\n",
      "55\n",
      "55\n",
      "55\n",
      "55\n",
      "55\n",
      "2024-09-12 18:15:43,438 INFO sqlalchemy.engine.Engine SELECT lesson_sessions.id AS lesson_sessions_id, lesson_sessions.lesson AS lesson_sessions_lesson, lesson_sessions.date_time AS lesson_sessions_date_time, lesson_sessions.errors_number AS lesson_sessions_errors_number \n",
      "FROM lesson_sessions \n",
      "WHERE lesson_sessions.id = ?\n",
      "2024-09-12 18:15:43,439 INFO sqlalchemy.engine.Engine [cached since 541s ago] (12,)\n",
      "56\n",
      "56\n",
      "56\n",
      "56\n",
      "56\n",
      "56\n",
      "56\n",
      "56\n",
      "56\n",
      "56\n",
      "2024-09-12 18:15:43,440 INFO sqlalchemy.engine.Engine SELECT lesson_sessions.id AS lesson_sessions_id, lesson_sessions.lesson AS lesson_sessions_lesson, lesson_sessions.date_time AS lesson_sessions_date_time, lesson_sessions.errors_number AS lesson_sessions_errors_number \n",
      "FROM lesson_sessions \n",
      "WHERE lesson_sessions.id = ?\n",
      "2024-09-12 18:15:43,440 INFO sqlalchemy.engine.Engine [cached since 541s ago] (13,)\n",
      "7\n",
      "7\n",
      "2024-09-12 18:15:43,441 INFO sqlalchemy.engine.Engine SELECT lesson_sessions.id AS lesson_sessions_id, lesson_sessions.lesson AS lesson_sessions_lesson, lesson_sessions.date_time AS lesson_sessions_date_time, lesson_sessions.errors_number AS lesson_sessions_errors_number \n",
      "FROM lesson_sessions \n",
      "WHERE lesson_sessions.id = ?\n",
      "2024-09-12 18:15:43,441 INFO sqlalchemy.engine.Engine [cached since 541s ago] (14,)\n",
      "57\n",
      "57\n",
      "57\n",
      "57\n",
      "57\n",
      "57\n",
      "57\n",
      "2024-09-12 18:15:43,442 INFO sqlalchemy.engine.Engine SELECT lesson_sessions.id AS lesson_sessions_id, lesson_sessions.lesson AS lesson_sessions_lesson, lesson_sessions.date_time AS lesson_sessions_date_time, lesson_sessions.errors_number AS lesson_sessions_errors_number \n",
      "FROM lesson_sessions \n",
      "WHERE lesson_sessions.id = ?\n",
      "2024-09-12 18:15:43,442 INFO sqlalchemy.engine.Engine [cached since 541s ago] (15,)\n",
      "58\n",
      "58\n",
      "58\n",
      "58\n",
      "2024-09-12 18:15:43,443 INFO sqlalchemy.engine.Engine COMMIT\n"
     ]
    }
   ],
   "source": [
    "stmt = select(MarkedSentence)\n",
    "with Session(engine) as session:\n",
    "    for entry in session.scalars(stmt):\n",
    "        try:\n",
    "            print(entry.session.lesson)\n",
    "        except:\n",
    "            print(\"----entry without lesson : \", entry.id)\n",
    "            session.execute(delete(MarkedSentence).where(MarkedSentence.id == entry.id))\n",
    "    session.commit()\n",
    "\n",
    "            #session.execute(delete(entry))\n",
    "            "
   ]
  },
  {
   "cell_type": "code",
   "execution_count": null,
   "id": "a110169c-7878-47fb-bce6-d0be74e7671a",
   "metadata": {},
   "outputs": [],
   "source": []
  },
  {
   "cell_type": "code",
   "execution_count": null,
   "id": "f30c3f3f-7865-4786-a572-2e7cfe9b57ce",
   "metadata": {},
   "outputs": [],
   "source": []
  },
  {
   "cell_type": "code",
   "execution_count": 54,
   "id": "5fec2476-9045-488e-b580-ff57d7cb68bc",
   "metadata": {},
   "outputs": [],
   "source": [
    "from selection import store_lesson_errors"
   ]
  },
  {
   "cell_type": "code",
   "execution_count": null,
   "id": "8dc406a6-3b20-409b-b0da-c9174ce72476",
   "metadata": {},
   "outputs": [],
   "source": []
  },
  {
   "cell_type": "code",
   "execution_count": 55,
   "id": "cec0de19-8465-4430-871e-adb2e3e2c1d0",
   "metadata": {},
   "outputs": [
    {
     "name": "stdout",
     "output_type": "stream",
     "text": [
      "-------------- In store_lesson_errors\n",
      "---- 0 ------ N52-Lec<b>ción</b> cin<b>cuen</b>ta y dos\n",
      "---- 1 ------ S00-TITLE-La co<b>ci</b>na mexi<b>ca</b>na\n",
      "---- 2 ------ S01-No me has <b>di</b>cho <b>na</b>da de la co<b>ci</b>na mexi<b>ca</b>na\n",
      "---- 3 ------ S02-¿O a lo me<b>jor</b> no te atre<b>vis</b>te a pro<b>bar</b>la?\n",
      "---- 4 ------ S03-¡Por su<b>pues</b>to que la pro<b>bé</b>! Me gus<b>tó</b> <b>so</b>bre <b>to</b>do el <b>mo</b>le es <b>u</b>na <b>sal</b>sa de ca<b>ca</b>o y guin<b>di</b>llas.\n",
      "---- 5 ------ S04-¿Choco<b>la</b>te pi<b>can</b>te? ¿No te <mark class='V' title='3ème personne du singulier du passé simple de dar : dio et non pas di.'>dio</mark> <b>as</b>co?\n",
      "---- 6 ------ S05-¡Qué va! ¡Es<b>tá</b> muy <b>ri</b>co! Lo a<b>mar</b>go va muy bien con lo pi<b>can</b>te.\n",
      "---- 7 ------ S06-Los <b>pue</b>blos precolom<b>bi</b>nos ha<b>cí</b>an <b>u</b>na be<b>bi</b>da <b>ro</b>ja con el ca<b>ca</b>o.\n",
      "---- 8 ------ S07-¡Por <b>e</b>so los conquista<b>do</b>res cre<b>ye</b>ron que be<b>bí</b>an <b>san</b>gre!\n",
      "---- 9 ------ S08-¿<b>Pe</b>ro <b>nun</b>ca lo <mark class='V' title='3ème personne du pluriel du présent du verbe tomar.'><b>to</b>man</mark> <b></b><b>dul</b>ce?\n",
      "---- 10 ------ S09-Sí, <b>cla</b>ro, hoy en <b>dí</b>a tam<b>bién</b> <mark class='G' title='cacao est complément d&#039;objet indirect donc=&#034;le&#034; et non pas &#034;lo&#034;'>le</mark> <b>e</b>chan a<b>zú</b>car,\n",
      "---- 11 ------ S10-<b>pe</b>ro en la tradi<b>ción</b> in<b>dí</b>gena no se <mark class='G' title='cacao est complément d&#039;objet indirect donc=&#034;le&#034; et non pas &#034;lo&#034;'>le</mark> a<b>ña</b>de <b>le</b>che, <b>so</b>lo <b>a</b>gua.\n",
      "---- 12 ------ S11-<b></b><mark class='O'><b></b><mark class='O' title='Meriendas est féminin, donc nuestras et non pas nuestros.'><b>Nues</b>tras</mark></mark> me<b>rien</b>das sí que las e<b>cha</b>ba de <b>me</b>nos un buen choco<b>la</b>te con <b>chu</b>rros. . .\n",
      "---- 13 ------ S12-<b>E</b>so, <b>pa</b>ra meren<b>dar</b>, ¡<b>na</b>da <b>co</b>mo Es<b>pa</b>ña!\n",
      "---- 14 ------ T00-TRANSLATE-Ejer<b>ci</b>cio 1 – Tra<b>duz</b>ca\n",
      "---- 15 ------ T01-No me has <b>di</b>cho si te gus<b>tó</b> la <b>sal</b>sa de ca<b>ca</b>o y guin<b>di</b>llas.\n",
      "---- 16 ------ T02-¿Te atre<b>vis</b>te a to<b>mar</b> choco<b>la</b>te a<b>mar</b>go, pi<b>can</b>te y sin a<b>zú</b>car?\n",
      "---- 17 ------ T03-¡Qué va! Me dio <b>as</b>co y no lo pro<b>bé</b>.\n",
      "---- 18 ------ T04-Pues a lo me<b>jor</b> es<b>tá</b> muy <b>ri</b>co, <b>pe</b>ro pre<b>fie</b>ro un choco<b>la</b>te con <b>chu</b>rros.\n",
      "---- 19 ------ T05-<b>E</b>cho de <b>me</b>nos la co<b>ci</b>na mexi<b>ca</b>na.\n",
      "2024-09-07 14:18:05,413 INFO sqlalchemy.engine.Engine BEGIN (implicit)\n",
      "2024-09-07 14:18:05,415 INFO sqlalchemy.engine.Engine INSERT INTO lesson_sessions (lesson, date_time, errors_number) VALUES (?, ?, ?)\n",
      "2024-09-07 14:18:05,416 INFO sqlalchemy.engine.Engine [cached since 2141s ago] (52, '2024-09-06 23:30:29.589456', 5)\n",
      "2024-09-07 14:18:05,419 INFO sqlalchemy.engine.Engine INSERT INTO marked_sentences (sentence, comment, line, session_id) VALUES (?, ?, ?, ?) RETURNING id\n",
      "2024-09-07 14:18:05,419 INFO sqlalchemy.engine.Engine [cached since 2141s ago (insertmanyvalues) 1/5 (ordered; batch not supported)] (\"S04-¿Choco<b>la</b>te pi<b>can</b>te? ¿No te <mark class='V' title='3ème personne du singulier du passé simple de dar : dio et non pas di.'>dio</mark> <b>as</b>co?\", None, 5, 6)\n",
      "2024-09-07 14:18:05,421 INFO sqlalchemy.engine.Engine INSERT INTO marked_sentences (sentence, comment, line, session_id) VALUES (?, ?, ?, ?) RETURNING id\n",
      "2024-09-07 14:18:05,421 INFO sqlalchemy.engine.Engine [insertmanyvalues 2/5 (ordered; batch not supported)] (\"S08-¿<b>Pe</b>ro <b>nun</b>ca lo <mark class='V' title='3ème personne du pluriel du présent du verbe tomar.'><b>to</b>man</mark> <b></b><b>dul</b>ce?\", None, 9, 6)\n",
      "2024-09-07 14:18:05,422 INFO sqlalchemy.engine.Engine INSERT INTO marked_sentences (sentence, comment, line, session_id) VALUES (?, ?, ?, ?) RETURNING id\n",
      "2024-09-07 14:18:05,423 INFO sqlalchemy.engine.Engine [insertmanyvalues 3/5 (ordered; batch not supported)] (\"S09-Sí, <b>cla</b>ro, hoy en <b>dí</b>a tam<b>bién</b> <mark class='G' title='cacao est complément d&#039;objet indirect donc=&#034;le&#034; et non pas &#034;lo&#034;'>le</mark> <b>e</b>chan a<b>zú</b>car,\", None, 10, 6)\n",
      "2024-09-07 14:18:05,424 INFO sqlalchemy.engine.Engine INSERT INTO marked_sentences (sentence, comment, line, session_id) VALUES (?, ?, ?, ?) RETURNING id\n",
      "2024-09-07 14:18:05,425 INFO sqlalchemy.engine.Engine [insertmanyvalues 4/5 (ordered; batch not supported)] (\"S10-<b>pe</b>ro en la tradi<b>ción</b> in<b>dí</b>gena no se <mark class='G' title='cacao est complément d&#039;objet indirect donc=&#034;le&#034; et non pas &#034;lo&#034;'>le</mark> a<b>ña</b>de <b>le</b>che, <b>so</b>lo <b>a</b>gua.\", None, 11, 6)\n",
      "2024-09-07 14:18:05,426 INFO sqlalchemy.engine.Engine INSERT INTO marked_sentences (sentence, comment, line, session_id) VALUES (?, ?, ?, ?) RETURNING id\n",
      "2024-09-07 14:18:05,426 INFO sqlalchemy.engine.Engine [insertmanyvalues 5/5 (ordered; batch not supported)] (\"S11-<b></b><mark class='O'><b></b><mark class='O' title='Meriendas est féminin, donc nuestras et non pas nuestros.'><b>Nues</b>tras</mark></mark> me<b>rien</b>das sí que las e<b>cha</b>ba de <b>me</b>nos un buen choco<b>la</b>te con <b>chu</b>rros. . .\", None, 12, 6)\n",
      "2024-09-07 14:18:05,428 INFO sqlalchemy.engine.Engine COMMIT\n"
     ]
    }
   ],
   "source": [
    "store_lesson_errors(52, sentences, marked_lines_numbers, datetime.datetime(2024, 9, 6, 23, 30, 29, 589456))"
   ]
  },
  {
   "cell_type": "code",
   "execution_count": 56,
   "id": "d58ea373-9e63-4def-821d-82232dff6bdd",
   "metadata": {},
   "outputs": [
    {
     "data": {
      "text/plain": [
       "<function sqlalchemy.sql._selectable_constructors.select(*entities: '_ColumnsClauseArgument[Any]', **__kw: 'Any') -> 'Select[Any]'>"
      ]
     },
     "execution_count": 56,
     "metadata": {},
     "output_type": "execute_result"
    }
   ],
   "source": [
    "select"
   ]
  },
  {
   "cell_type": "code",
   "execution_count": 57,
   "id": "5c3593ee-39ec-4525-a646-842ce204ac4c",
   "metadata": {},
   "outputs": [],
   "source": [
    "from database import MarkedSentence"
   ]
  },
  {
   "cell_type": "code",
   "execution_count": 24,
   "id": "edbcfd8e-a9b9-4bfb-bb78-2e33b75d40f5",
   "metadata": {},
   "outputs": [
    {
     "name": "stdout",
     "output_type": "stream",
     "text": [
      "2024-09-12 18:23:06,707 INFO sqlalchemy.engine.Engine BEGIN (implicit)\n",
      "2024-09-12 18:23:06,731 INFO sqlalchemy.engine.Engine SELECT lesson_sessions.id, lesson_sessions.lesson, lesson_sessions.date_time, lesson_sessions.errors_number \n",
      "FROM lesson_sessions \n",
      "WHERE lesson_sessions.lesson = ?\n",
      "2024-09-12 18:23:06,733 INFO sqlalchemy.engine.Engine [cached since 341.9s ago] (58,)\n",
      "2024-09-12 18:23:06,736 INFO sqlalchemy.engine.Engine SELECT marked_sentences.id AS marked_sentences_id, marked_sentences.sentence AS marked_sentences_sentence, marked_sentences.comment AS marked_sentences_comment, marked_sentences.line AS marked_sentences_line, marked_sentences.session_id AS marked_sentences_session_id \n",
      "FROM marked_sentences \n",
      "WHERE ? = marked_sentences.session_id\n",
      "2024-09-12 18:23:06,737 INFO sqlalchemy.engine.Engine [cached since 7.148e+04s ago] (15,)\n",
      "58 date time : datetime.datetime(2024, 9, 12, 18, 13, 29, 359135), lesson 58 errors number : 4\n",
      "59 date time : datetime.datetime(2024, 9, 12, 18, 13, 29, 359135), lesson 58 errors number : 4\n",
      "60 date time : datetime.datetime(2024, 9, 12, 18, 13, 29, 359135), lesson 58 errors number : 4\n",
      "61 date time : datetime.datetime(2024, 9, 12, 18, 13, 29, 359135), lesson 58 errors number : 4\n",
      "2024-09-12 18:23:06,740 INFO sqlalchemy.engine.Engine ROLLBACK\n"
     ]
    }
   ],
   "source": [
    "stmt = select(LessonSession).where(\n",
    "                        LessonSession.lesson == 58)\n",
    "\n",
    "with Session(engine) as session:\n",
    "    for entry in session.scalars(stmt):\n",
    "        for sentence in entry.errored_sentences:\n",
    "            print(sentence.id, sentence.session)\n"
   ]
  },
  {
   "cell_type": "code",
   "execution_count": 18,
   "id": "1f90ac53-9663-40af-b261-b905de61139f",
   "metadata": {},
   "outputs": [
    {
     "data": {
      "text/plain": [
       "[Sentence(id=58, line=7, sentence =\"S06-De<b>cí</b>an que <b>e</b>ra entrete<b>ni</b>do, y me ha pare<b>ci</b>do <mark class='B'>aburri<b>dí</b>simo</mark>. \", comment=None),\n",
       " Sentence(id=59, line=9, sentence =\"S08-¿Me es<b>tá</b> <mark class='O' title='&#034;gastando&#034; et non pas &#034;haciendo&#034;'>gas<b>tan</b>do</mark> <b>u</b>na <b>bro</b>ma? \", comment=None),\n",
       " Sentence(id=60, line=10, sentence =\"S09-En abso<b>lu</b>to. <b>Cuan</b>do un apa<b>ra</b>to no fun<b>cio</b>na, <b>pi</b>de que se lo a<b>rre</b>glen o que le <mark class='V' title='&#034;devuelvan&#034; est au subjonctif'>de<b>vuel</b>van</mark> el di<b>ne</b>ro, ¿no? \", comment=None),\n",
       " Sentence(id=61, line=13, sentence =\"S12-Soy muy cuida<b>do</b>so con los <b>li</b>bros, <mark class='E' title='&#034;incluso&#034; au lieu de &#034;hasta&#034;'>in<b>clu</b>so</mark> con los que no me <b>gus</b>tan. \", comment=None)]"
      ]
     },
     "execution_count": 18,
     "metadata": {},
     "output_type": "execute_result"
    }
   ],
   "source": [
    "sfdb"
   ]
  },
  {
   "cell_type": "code",
   "execution_count": 20,
   "id": "cb18b601-9643-4f86-8e06-64c83af61d7f",
   "metadata": {},
   "outputs": [
    {
     "ename": "DetachedInstanceError",
     "evalue": "Parent instance <MarkedSentence at 0x108acfb50> is not bound to a Session; lazy load operation of attribute 'session' cannot proceed (Background on this error at: https://sqlalche.me/e/20/bhk3)",
     "output_type": "error",
     "traceback": [
      "\u001b[0;31m---------------------------------------------------------------------------\u001b[0m",
      "\u001b[0;31mDetachedInstanceError\u001b[0m                     Traceback (most recent call last)",
      "Cell \u001b[0;32mIn[20], line 1\u001b[0m\n\u001b[0;32m----> 1\u001b[0m \u001b[43msfdb\u001b[49m\u001b[43m[\u001b[49m\u001b[38;5;241;43m0\u001b[39;49m\u001b[43m]\u001b[49m\u001b[38;5;241;43m.\u001b[39;49m\u001b[43msession\u001b[49m\n",
      "File \u001b[0;32m~/.pyenv/versions/symbolic/lib/python3.11/site-packages/sqlalchemy/orm/attributes.py:566\u001b[0m, in \u001b[0;36mInstrumentedAttribute.__get__\u001b[0;34m(self, instance, owner)\u001b[0m\n\u001b[1;32m    564\u001b[0m \u001b[38;5;28;01mexcept\u001b[39;00m \u001b[38;5;167;01mAttributeError\u001b[39;00m \u001b[38;5;28;01mas\u001b[39;00m err:\n\u001b[1;32m    565\u001b[0m     \u001b[38;5;28;01mraise\u001b[39;00m orm_exc\u001b[38;5;241m.\u001b[39mUnmappedInstanceError(instance) \u001b[38;5;28;01mfrom\u001b[39;00m \u001b[38;5;21;01merr\u001b[39;00m\n\u001b[0;32m--> 566\u001b[0m \u001b[38;5;28;01mreturn\u001b[39;00m \u001b[38;5;28;43mself\u001b[39;49m\u001b[38;5;241;43m.\u001b[39;49m\u001b[43mimpl\u001b[49m\u001b[38;5;241;43m.\u001b[39;49m\u001b[43mget\u001b[49m\u001b[43m(\u001b[49m\u001b[43mstate\u001b[49m\u001b[43m,\u001b[49m\u001b[43m \u001b[49m\u001b[43mdict_\u001b[49m\u001b[43m)\u001b[49m\n",
      "File \u001b[0;32m~/.pyenv/versions/symbolic/lib/python3.11/site-packages/sqlalchemy/orm/attributes.py:1086\u001b[0m, in \u001b[0;36mAttributeImpl.get\u001b[0;34m(self, state, dict_, passive)\u001b[0m\n\u001b[1;32m   1083\u001b[0m \u001b[38;5;28;01mif\u001b[39;00m \u001b[38;5;129;01mnot\u001b[39;00m passive \u001b[38;5;241m&\u001b[39m CALLABLES_OK:\n\u001b[1;32m   1084\u001b[0m     \u001b[38;5;28;01mreturn\u001b[39;00m PASSIVE_NO_RESULT\n\u001b[0;32m-> 1086\u001b[0m value \u001b[38;5;241m=\u001b[39m \u001b[38;5;28;43mself\u001b[39;49m\u001b[38;5;241;43m.\u001b[39;49m\u001b[43m_fire_loader_callables\u001b[49m\u001b[43m(\u001b[49m\u001b[43mstate\u001b[49m\u001b[43m,\u001b[49m\u001b[43m \u001b[49m\u001b[43mkey\u001b[49m\u001b[43m,\u001b[49m\u001b[43m \u001b[49m\u001b[43mpassive\u001b[49m\u001b[43m)\u001b[49m\n\u001b[1;32m   1088\u001b[0m \u001b[38;5;28;01mif\u001b[39;00m value \u001b[38;5;129;01mis\u001b[39;00m PASSIVE_NO_RESULT \u001b[38;5;129;01mor\u001b[39;00m value \u001b[38;5;129;01mis\u001b[39;00m NO_VALUE:\n\u001b[1;32m   1089\u001b[0m     \u001b[38;5;28;01mreturn\u001b[39;00m value\n",
      "File \u001b[0;32m~/.pyenv/versions/symbolic/lib/python3.11/site-packages/sqlalchemy/orm/attributes.py:1121\u001b[0m, in \u001b[0;36mAttributeImpl._fire_loader_callables\u001b[0;34m(self, state, key, passive)\u001b[0m\n\u001b[1;32m   1119\u001b[0m     \u001b[38;5;28;01mreturn\u001b[39;00m callable_(state, passive)\n\u001b[1;32m   1120\u001b[0m \u001b[38;5;28;01melif\u001b[39;00m \u001b[38;5;28mself\u001b[39m\u001b[38;5;241m.\u001b[39mcallable_:\n\u001b[0;32m-> 1121\u001b[0m     \u001b[38;5;28;01mreturn\u001b[39;00m \u001b[38;5;28;43mself\u001b[39;49m\u001b[38;5;241;43m.\u001b[39;49m\u001b[43mcallable_\u001b[49m\u001b[43m(\u001b[49m\u001b[43mstate\u001b[49m\u001b[43m,\u001b[49m\u001b[43m \u001b[49m\u001b[43mpassive\u001b[49m\u001b[43m)\u001b[49m\n\u001b[1;32m   1122\u001b[0m \u001b[38;5;28;01melse\u001b[39;00m:\n\u001b[1;32m   1123\u001b[0m     \u001b[38;5;28;01mreturn\u001b[39;00m ATTR_EMPTY\n",
      "File \u001b[0;32m~/.pyenv/versions/symbolic/lib/python3.11/site-packages/sqlalchemy/orm/strategies.py:918\u001b[0m, in \u001b[0;36mLazyLoader._load_for_state\u001b[0;34m(self, state, passive, loadopt, extra_criteria, extra_options, alternate_effective_path, execution_options)\u001b[0m\n\u001b[1;32m    915\u001b[0m     \u001b[38;5;28;01mif\u001b[39;00m passive \u001b[38;5;241m&\u001b[39m PassiveFlag\u001b[38;5;241m.\u001b[39mNO_RAISE:\n\u001b[1;32m    916\u001b[0m         \u001b[38;5;28;01mreturn\u001b[39;00m LoaderCallableStatus\u001b[38;5;241m.\u001b[39mPASSIVE_NO_RESULT\n\u001b[0;32m--> 918\u001b[0m     \u001b[38;5;28;01mraise\u001b[39;00m orm_exc\u001b[38;5;241m.\u001b[39mDetachedInstanceError(\n\u001b[1;32m    919\u001b[0m         \u001b[38;5;124m\"\u001b[39m\u001b[38;5;124mParent instance \u001b[39m\u001b[38;5;132;01m%s\u001b[39;00m\u001b[38;5;124m is not bound to a Session; \u001b[39m\u001b[38;5;124m\"\u001b[39m\n\u001b[1;32m    920\u001b[0m         \u001b[38;5;124m\"\u001b[39m\u001b[38;5;124mlazy load operation of attribute \u001b[39m\u001b[38;5;124m'\u001b[39m\u001b[38;5;132;01m%s\u001b[39;00m\u001b[38;5;124m'\u001b[39m\u001b[38;5;124m cannot proceed\u001b[39m\u001b[38;5;124m\"\u001b[39m\n\u001b[1;32m    921\u001b[0m         \u001b[38;5;241m%\u001b[39m (orm_util\u001b[38;5;241m.\u001b[39mstate_str(state), \u001b[38;5;28mself\u001b[39m\u001b[38;5;241m.\u001b[39mkey)\n\u001b[1;32m    922\u001b[0m     )\n\u001b[1;32m    924\u001b[0m \u001b[38;5;66;03m# if we have a simple primary key load, check the\u001b[39;00m\n\u001b[1;32m    925\u001b[0m \u001b[38;5;66;03m# identity map without generating a Query at all\u001b[39;00m\n\u001b[1;32m    926\u001b[0m \u001b[38;5;28;01mif\u001b[39;00m use_get:\n",
      "\u001b[0;31mDetachedInstanceError\u001b[0m: Parent instance <MarkedSentence at 0x108acfb50> is not bound to a Session; lazy load operation of attribute 'session' cannot proceed (Background on this error at: https://sqlalche.me/e/20/bhk3)"
     ]
    }
   ],
   "source": [
    "sfdb[0].session\n"
   ]
  },
  {
   "cell_type": "code",
   "execution_count": 61,
   "id": "9d690ea6-7718-4fc5-b79b-6854ce8a98f0",
   "metadata": {},
   "outputs": [
    {
     "name": "stdout",
     "output_type": "stream",
     "text": [
      "S09-Sí, <b>cla</b>ro, hoy en <b>dí</b>a tam<b>bién</b> <mark class='G' title='cacao est complément d&#039;objet indirect donc=&#034;le&#034; et non pas &#034;lo&#034;'>le</mark> <b>e</b>chan a<b>zú</b>car,\n"
     ]
    }
   ],
   "source": [
    "print(sfdb[2].sentence)"
   ]
  },
  {
   "cell_type": "code",
   "execution_count": 35,
   "id": "21e5ec99-2be8-4dc9-a123-2adb747dc1bb",
   "metadata": {},
   "outputs": [
    {
     "data": {
      "text/plain": [
       "5"
      ]
     },
     "execution_count": 35,
     "metadata": {},
     "output_type": "execute_result"
    }
   ],
   "source": [
    "len(sfdb)"
   ]
  },
  {
   "cell_type": "code",
   "execution_count": 3,
   "id": "359633fd-2154-4f80-9d86-3cf5a52cd2a7",
   "metadata": {},
   "outputs": [
    {
     "ename": "ImportError",
     "evalue": "cannot import name 'User' from 'database' (/Users/pam/assimil/database.py)",
     "output_type": "error",
     "traceback": [
      "\u001b[0;31m---------------------------------------------------------------------------\u001b[0m",
      "\u001b[0;31mImportError\u001b[0m                               Traceback (most recent call last)",
      "Cell \u001b[0;32mIn[3], line 4\u001b[0m\n\u001b[1;32m      2\u001b[0m \u001b[38;5;28;01mfrom\u001b[39;00m \u001b[38;5;21;01msqlalchemy\u001b[39;00m \u001b[38;5;28;01mimport\u001b[39;00m ForeignKey, select, delete, String, and_\n\u001b[1;32m      3\u001b[0m \u001b[38;5;28;01mfrom\u001b[39;00m \u001b[38;5;21;01msqlalchemy\u001b[39;00m\u001b[38;5;21;01m.\u001b[39;00m\u001b[38;5;21;01morm\u001b[39;00m \u001b[38;5;28;01mimport\u001b[39;00m Session\n\u001b[0;32m----> 4\u001b[0m \u001b[38;5;28;01mfrom\u001b[39;00m \u001b[38;5;21;01mdatabase\u001b[39;00m \u001b[38;5;28;01mimport\u001b[39;00m MarkedSentence, LessonSession, User, engine\n",
      "\u001b[0;31mImportError\u001b[0m: cannot import name 'User' from 'database' (/Users/pam/assimil/database.py)"
     ]
    }
   ],
   "source": [
    "import database\n",
    "from sqlalchemy import ForeignKey, select, delete, String, and_\n",
    "from sqlalchemy.orm import Session\n",
    "from database import MarkedSentence, LessonSession, User, engine"
   ]
  },
  {
   "cell_type": "code",
   "execution_count": 2,
   "id": "48a67b62-73a7-4eea-b9ee-8320817715f9",
   "metadata": {},
   "outputs": [
    {
     "ename": "NameError",
     "evalue": "name 'select' is not defined",
     "output_type": "error",
     "traceback": [
      "\u001b[0;31m---------------------------------------------------------------------------\u001b[0m",
      "\u001b[0;31mNameError\u001b[0m                                 Traceback (most recent call last)",
      "Cell \u001b[0;32mIn[2], line 1\u001b[0m\n\u001b[0;32m----> 1\u001b[0m stmt \u001b[38;5;241m=\u001b[39m \u001b[43mselect\u001b[49m(LessonSession)\u001b[38;5;241m.\u001b[39mwhere(\n\u001b[1;32m      2\u001b[0m                         LessonSession\u001b[38;5;241m.\u001b[39mlesson \u001b[38;5;241m==\u001b[39m \u001b[38;5;241m58\u001b[39m)\n\u001b[1;32m      4\u001b[0m \u001b[38;5;28;01mwith\u001b[39;00m Session(engine) \u001b[38;5;28;01mas\u001b[39;00m session:\n\u001b[1;32m      5\u001b[0m     \u001b[38;5;28;01mfor\u001b[39;00m entry \u001b[38;5;129;01min\u001b[39;00m session\u001b[38;5;241m.\u001b[39mscalars(stmt):\n",
      "\u001b[0;31mNameError\u001b[0m: name 'select' is not defined"
     ]
    }
   ],
   "source": [
    "stmt = select(LessonSession).where(\n",
    "                        LessonSession.lesson == 58)\n",
    "\n",
    "with Session(engine) as session:\n",
    "    for entry in session.scalars(stmt):\n",
    "        for sentence in entry.errored_sentences:\n",
    "            print(sentence.id, sentence.session)\n"
   ]
  },
  {
   "cell_type": "code",
   "execution_count": 1,
   "id": "455e95f2-a282-4a42-b452-35a855e7cd58",
   "metadata": {},
   "outputs": [
    {
     "name": "stdout",
     "output_type": "stream",
     "text": [
      "2024-09-12 21:26:25,934 INFO sqlalchemy.engine.Engine BEGIN (implicit)\n",
      "2024-09-12 21:26:25,935 INFO sqlalchemy.engine.Engine PRAGMA main.table_info(\"word_dict\")\n",
      "2024-09-12 21:26:25,935 INFO sqlalchemy.engine.Engine [raw sql] ()\n",
      "2024-09-12 21:26:25,936 INFO sqlalchemy.engine.Engine PRAGMA main.table_info(\"word_index\")\n",
      "2024-09-12 21:26:25,936 INFO sqlalchemy.engine.Engine [raw sql] ()\n",
      "2024-09-12 21:26:25,936 INFO sqlalchemy.engine.Engine PRAGMA main.table_info(\"sentences\")\n",
      "2024-09-12 21:26:25,936 INFO sqlalchemy.engine.Engine [raw sql] ()\n",
      "2024-09-12 21:26:25,936 INFO sqlalchemy.engine.Engine PRAGMA main.table_info(\"marked_sentences\")\n",
      "2024-09-12 21:26:25,937 INFO sqlalchemy.engine.Engine [raw sql] ()\n",
      "2024-09-12 21:26:25,937 INFO sqlalchemy.engine.Engine PRAGMA main.table_info(\"user_account\")\n",
      "2024-09-12 21:26:25,937 INFO sqlalchemy.engine.Engine [raw sql] ()\n",
      "2024-09-12 21:26:25,937 INFO sqlalchemy.engine.Engine PRAGMA main.table_info(\"lesson_sessions\")\n",
      "2024-09-12 21:26:25,937 INFO sqlalchemy.engine.Engine [raw sql] ()\n",
      "2024-09-12 21:26:25,938 INFO sqlalchemy.engine.Engine COMMIT\n",
      "2024-09-12 21:26:25,942 INFO sqlalchemy.engine.Engine BEGIN (implicit)\n",
      "2024-09-12 21:26:25,942 INFO sqlalchemy.engine.Engine PRAGMA main.table_info(\"word_dict\")\n",
      "2024-09-12 21:26:25,942 INFO sqlalchemy.engine.Engine [raw sql] ()\n",
      "2024-09-12 21:26:25,943 INFO sqlalchemy.engine.Engine PRAGMA main.table_info(\"word_index\")\n",
      "2024-09-12 21:26:25,943 INFO sqlalchemy.engine.Engine [raw sql] ()\n",
      "2024-09-12 21:26:25,943 INFO sqlalchemy.engine.Engine PRAGMA main.table_info(\"sentences\")\n",
      "2024-09-12 21:26:25,943 INFO sqlalchemy.engine.Engine [raw sql] ()\n",
      "2024-09-12 21:26:25,943 INFO sqlalchemy.engine.Engine PRAGMA main.table_info(\"marked_sentences\")\n",
      "2024-09-12 21:26:25,944 INFO sqlalchemy.engine.Engine [raw sql] ()\n",
      "2024-09-12 21:26:25,944 INFO sqlalchemy.engine.Engine PRAGMA main.table_info(\"lesson_sessions\")\n",
      "2024-09-12 21:26:25,944 INFO sqlalchemy.engine.Engine [raw sql] ()\n",
      "2024-09-12 21:26:25,944 INFO sqlalchemy.engine.Engine COMMIT\n"
     ]
    }
   ],
   "source": [
    "import database\n",
    "import databaseold\n",
    "from sqlalchemy import ForeignKey, select, delete, String, and_\n",
    "from sqlalchemy.orm import Session"
   ]
  },
  {
   "cell_type": "code",
   "execution_count": 2,
   "id": "ac2cbe0e-4146-4474-94fb-27d1254fa823",
   "metadata": {},
   "outputs": [],
   "source": [
    "from database import engine as engine_new"
   ]
  },
  {
   "cell_type": "code",
   "execution_count": 3,
   "id": "ef4967a5-5081-4465-972d-4a6bd37849b0",
   "metadata": {},
   "outputs": [],
   "source": [
    "from databaseold import engine as engine_old"
   ]
  },
  {
   "cell_type": "code",
   "execution_count": 4,
   "id": "e94fb3a3-facc-43ca-9dd7-a555343dce46",
   "metadata": {},
   "outputs": [],
   "source": [
    "from database import User"
   ]
  },
  {
   "cell_type": "code",
   "execution_count": 5,
   "id": "1b1e27d7-a351-4ba2-86a8-921a61600c9b",
   "metadata": {},
   "outputs": [
    {
     "name": "stdout",
     "output_type": "stream",
     "text": [
      "2024-09-12 21:10:55,477 INFO sqlalchemy.engine.Engine BEGIN (implicit)\n",
      "2024-09-12 21:10:55,479 INFO sqlalchemy.engine.Engine INSERT INTO user_account (username, password, fullname, email) VALUES (?, ?, ?, ?)\n",
      "2024-09-12 21:10:55,480 INFO sqlalchemy.engine.Engine [generated in 0.00043s] ('pam', 'TOTO1234', 'Pierre-Alain Moret', 'moret.pierre.alain@gmail.com')\n",
      "2024-09-12 21:10:55,481 INFO sqlalchemy.engine.Engine COMMIT\n"
     ]
    }
   ],
   "source": [
    "with Session(engine_new) as session:\n",
    "    pam = User(\n",
    "        username=\"pam\",\n",
    "        password=\"TOTO1234\",\n",
    "        fullname=\"Pierre-Alain Moret\",\n",
    "        email=\"moret.pierre.alain@gmail.com\"\n",
    "    )\n",
    "    session.add(pam)\n",
    "    session.commit()"
   ]
  },
  {
   "cell_type": "code",
   "execution_count": 20,
   "id": "3d9e420d-5e79-4340-971f-3a1299e733ba",
   "metadata": {},
   "outputs": [
    {
     "name": "stdout",
     "output_type": "stream",
     "text": [
      "2024-09-12 20:39:43,052 INFO sqlalchemy.engine.Engine BEGIN (implicit)\n",
      "2024-09-12 20:39:43,053 INFO sqlalchemy.engine.Engine SELECT user.id, user.username, user.password, user.fullname, user.email \n",
      "FROM user\n",
      "2024-09-12 20:39:43,054 INFO sqlalchemy.engine.Engine [cached since 211.6s ago] ()\n",
      "1 pam moret.pierre.alain@gmail.com\n",
      "2024-09-12 20:39:43,056 INFO sqlalchemy.engine.Engine ROLLBACK\n"
     ]
    }
   ],
   "source": [
    "stmt = select(User)\n",
    "with Session(engine_new) as session:\n",
    "    for user in session.scalars(stmt):\n",
    "        #for sentence in entry.errored_sentences:\n",
    "            print(user.id, user.username, user.email)\n"
   ]
  },
  {
   "cell_type": "code",
   "execution_count": 10,
   "id": "aa7bf6a1-5618-4afe-b527-816114c73c94",
   "metadata": {},
   "outputs": [
    {
     "name": "stdout",
     "output_type": "stream",
     "text": [
      "2024-09-12 21:21:48,726 INFO sqlalchemy.engine.Engine SELECT user_account.id, user_account.username, user_account.password, user_account.fullname, user_account.email \n",
      "FROM user_account \n",
      "WHERE user_account.username = ?\n",
      "2024-09-12 21:21:48,735 INFO sqlalchemy.engine.Engine [cached since 641.4s ago] ('pam',)\n",
      "username : 'pam', password : 'TOTO1234', full name :Pierre-Alain Moret\n",
      "2024-09-12 21:21:48,752 INFO sqlalchemy.engine.Engine BEGIN (implicit)\n",
      "2024-09-12 21:21:48,754 INFO sqlalchemy.engine.Engine SELECT lesson_sessions.id, lesson_sessions.lesson, lesson_sessions.date_time, lesson_sessions.errors_number \n",
      "FROM lesson_sessions\n",
      "2024-09-12 21:21:48,757 INFO sqlalchemy.engine.Engine [cached since 411s ago] ()\n",
      "2024-09-12 21:21:48,760 INFO sqlalchemy.engine.Engine ROLLBACK\n"
     ]
    }
   ],
   "source": [
    "stmt_old = select(databaseold.LessonSession)\n",
    "session_new = Session(engine_new) \n",
    "stmt_new = select(User).where(User.username == \"pam\")\n",
    "pam = session.scalars(stmt_new).one()\n",
    "print(pam)\n",
    "with Session(engine_old) as session_old:\n",
    "    for user_session in session_old.scalars(stmt_old):\n",
    "        print(user_session.id)\n",
    "        pam.lesson_sessions.append(database.LessonSession(\n",
    "            user=pam,\n",
    "            lesson = user_session.lesson,\n",
    "            date_time = user_session.date_time\n",
    "        ))\n",
    "    session_new.commit()\n",
    "    \n",
    "            \n"
   ]
  },
  {
   "cell_type": "code",
   "execution_count": 12,
   "id": "8fff9b2f-ddaa-4ab1-9b47-2509717b5a9a",
   "metadata": {},
   "outputs": [
    {
     "name": "stdout",
     "output_type": "stream",
     "text": [
      "2024-09-12 21:22:13,757 INFO sqlalchemy.engine.Engine SELECT user_account.id, user_account.username, user_account.password, user_account.fullname, user_account.email \n",
      "FROM user_account \n",
      "WHERE user_account.username = ?\n",
      "2024-09-12 21:22:13,759 INFO sqlalchemy.engine.Engine [cached since 666.4s ago] ('pam',)\n"
     ]
    },
    {
     "data": {
      "text/plain": [
       "username : 'pam', password : 'TOTO1234', full name :Pierre-Alain Moret"
      ]
     },
     "execution_count": 12,
     "metadata": {},
     "output_type": "execute_result"
    }
   ],
   "source": [
    "stmt_new = select(User).where(User.username == \"pam\")\n",
    "pam = session.scalars(stmt_new).one()\n",
    "\n",
    "pam\n",
    "    \n"
   ]
  },
  {
   "cell_type": "code",
   "execution_count": 11,
   "id": "0e56d178-cb65-4d4d-86eb-bde2e5cd0b4b",
   "metadata": {},
   "outputs": [
    {
     "name": "stdout",
     "output_type": "stream",
     "text": [
      "2024-09-12 21:22:05,455 INFO sqlalchemy.engine.Engine BEGIN (implicit)\n",
      "2024-09-12 21:22:05,457 INFO sqlalchemy.engine.Engine SELECT lesson_sessions.id, lesson_sessions.lesson, lesson_sessions.date_time, lesson_sessions.errors_number, lesson_sessions.user_id \n",
      "FROM lesson_sessions\n",
      "2024-09-12 21:22:05,458 INFO sqlalchemy.engine.Engine [cached since 244.8s ago] ()\n",
      "2024-09-12 21:22:05,460 INFO sqlalchemy.engine.Engine ROLLBACK\n"
     ]
    }
   ],
   "source": [
    "stmt_new = select(database.LessonSession)\n",
    "with Session(engine_new) as session_new:\n",
    "    for user_session in session_new.scalars(stmt_new):\n",
    "        print(user_session)"
   ]
  },
  {
   "cell_type": "code",
   "execution_count": 5,
   "id": "f34fe8d4-82ef-434e-8b91-3f6406ecc0b7",
   "metadata": {},
   "outputs": [
    {
     "name": "stdout",
     "output_type": "stream",
     "text": [
      "2024-09-12 21:26:43,398 INFO sqlalchemy.engine.Engine BEGIN (implicit)\n",
      "2024-09-12 21:26:43,414 INFO sqlalchemy.engine.Engine SELECT lesson_sessions.id, lesson_sessions.lesson, lesson_sessions.date_time, lesson_sessions.errors_number \n",
      "FROM lesson_sessions\n",
      "2024-09-12 21:26:43,414 INFO sqlalchemy.engine.Engine [generated in 0.00078s] ()\n",
      "2024-09-12 21:26:43,416 INFO sqlalchemy.engine.Engine ROLLBACK\n"
     ]
    }
   ],
   "source": [
    "stmt_old = select(databaseold.LessonSession)\n",
    "with Session(engine_old) as session_old:\n",
    "    for lesson_session in session_old.scalars(stmt_old):\n",
    "        print(lesson_session)"
   ]
  },
  {
   "cell_type": "code",
   "execution_count": null,
   "id": "ebcc9986-8b4f-4f76-b983-dafbd6c96d6b",
   "metadata": {},
   "outputs": [],
   "source": []
  }
 ],
 "metadata": {
  "kernelspec": {
   "display_name": "Python 3 (ipykernel)",
   "language": "python",
   "name": "python3"
  },
  "language_info": {
   "codemirror_mode": {
    "name": "ipython",
    "version": 3
   },
   "file_extension": ".py",
   "mimetype": "text/x-python",
   "name": "python",
   "nbconvert_exporter": "python",
   "pygments_lexer": "ipython3",
   "version": "3.11.3"
  }
 },
 "nbformat": 4,
 "nbformat_minor": 5
}
