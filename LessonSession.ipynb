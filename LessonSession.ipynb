{
 "cells": [
  {
   "cell_type": "code",
   "execution_count": 62,
   "id": "5b5587f2-af25-4400-8a50-9dacc63dbcf9",
   "metadata": {},
   "outputs": [],
   "source": [
    "from sqlalchemy import ForeignKey, select, delete, String, and_\n",
    "from sqlalchemy.orm import Session\n",
    "from database import MarkedSentence, LessonSession, engine"
   ]
  },
  {
   "cell_type": "code",
   "execution_count": 63,
   "id": "4242b764-aa9e-4ed3-8804-bf57302c7d59",
   "metadata": {
    "scrolled": true
   },
   "outputs": [
    {
     "name": "stdout",
     "output_type": "stream",
     "text": [
      "2024-09-11 18:17:57,443 INFO sqlalchemy.engine.Engine BEGIN (implicit)\n",
      "2024-09-11 18:17:57,459 INFO sqlalchemy.engine.Engine SELECT lesson_sessions.id, lesson_sessions.lesson, lesson_sessions.date_time, lesson_sessions.errors_number \n",
      "FROM lesson_sessions\n",
      "2024-09-11 18:17:57,460 INFO sqlalchemy.engine.Engine [cached since 2.273e+05s ago] ()\n",
      "date time : datetime.datetime(2024, 9, 4, 22, 42, 30, 759328), lesson 50 errors number : 6\n",
      "date time : datetime.datetime(2024, 9, 4, 23, 2, 0, 780033), lesson 1 errors number : 0\n",
      "date time : datetime.datetime(2024, 9, 5, 9, 19, 11, 922138), lesson 51 errors number : 3\n",
      "date time : datetime.datetime(2024, 9, 6, 23, 54, 35, 589923), lesson 3 errors number : 3\n",
      "date time : datetime.datetime(2024, 9, 6, 23, 30, 29, 589456), lesson 52 errors number : 5\n",
      "date time : datetime.datetime(2024, 9, 7, 15, 38, 11, 304630), lesson 53 errors number : 4\n",
      "date time : datetime.datetime(2024, 9, 7, 15, 47, 54, 852500), lesson 4 errors number : 0\n",
      "date time : datetime.datetime(2024, 9, 9, 0, 33, 9, 558002), lesson 54 errors number : 4\n",
      "date time : datetime.datetime(2024, 9, 9, 0, 37, 30, 688736), lesson 5 errors number : 0\n",
      "date time : datetime.datetime(2024, 9, 9, 23, 49, 20, 733862), lesson 55 errors number : 8\n",
      "date time : datetime.datetime(2024, 9, 10, 11, 28, 32, 681006), lesson 56 errors number : 10\n",
      "date time : datetime.datetime(2024, 9, 10, 11, 34, 52, 105091), lesson 7 errors number : 2\n",
      "date time : datetime.datetime(2024, 9, 11, 15, 24, 26, 952928), lesson 57 errors number : 7\n",
      "date time : datetime.datetime(2024, 9, 11, 18, 9, 59, 310234), lesson 1 errors number : 5\n",
      "2024-09-11 18:17:57,474 INFO sqlalchemy.engine.Engine ROLLBACK\n"
     ]
    }
   ],
   "source": [
    "stmt = select(LessonSession)\n",
    "with Session(engine) as session:\n",
    "    for entry in session.scalars(stmt):\n",
    "        print(entry)"
   ]
  },
  {
   "cell_type": "code",
   "execution_count": 64,
   "id": "f53695ed-467b-4e8d-bbf0-88343454a3d8",
   "metadata": {},
   "outputs": [
    {
     "name": "stdout",
     "output_type": "stream",
     "text": [
      "2024-09-11 18:18:11,114 INFO sqlalchemy.engine.Engine BEGIN (implicit)\n",
      "2024-09-11 18:18:11,118 INFO sqlalchemy.engine.Engine SELECT lesson_sessions.id, lesson_sessions.lesson, lesson_sessions.date_time, lesson_sessions.errors_number \n",
      "FROM lesson_sessions\n",
      "2024-09-11 18:18:11,120 INFO sqlalchemy.engine.Engine [cached since 2.273e+05s ago] ()\n",
      "2024-09-11 18:18:11,131 INFO sqlalchemy.engine.Engine SELECT marked_sentences.id AS marked_sentences_id, marked_sentences.sentence AS marked_sentences_sentence, marked_sentences.comment AS marked_sentences_comment, marked_sentences.line AS marked_sentences_line, marked_sentences.session_id AS marked_sentences_session_id \n",
      "FROM marked_sentences \n",
      "WHERE ? = marked_sentences.session_id\n",
      "2024-09-11 18:18:11,134 INFO sqlalchemy.engine.Engine [cached since 2.273e+05s ago] (1,)\n",
      "date time : datetime.datetime(2024, 9, 4, 22, 42, 30, 759328), lesson 50 errors number : 6\n",
      "date time : datetime.datetime(2024, 9, 4, 22, 42, 30, 759328), lesson 50 errors number : 6\n",
      "date time : datetime.datetime(2024, 9, 4, 22, 42, 30, 759328), lesson 50 errors number : 6\n",
      "date time : datetime.datetime(2024, 9, 4, 22, 42, 30, 759328), lesson 50 errors number : 6\n",
      "date time : datetime.datetime(2024, 9, 4, 22, 42, 30, 759328), lesson 50 errors number : 6\n",
      "date time : datetime.datetime(2024, 9, 4, 22, 42, 30, 759328), lesson 50 errors number : 6\n",
      "2024-09-11 18:18:11,139 INFO sqlalchemy.engine.Engine SELECT marked_sentences.id AS marked_sentences_id, marked_sentences.sentence AS marked_sentences_sentence, marked_sentences.comment AS marked_sentences_comment, marked_sentences.line AS marked_sentences_line, marked_sentences.session_id AS marked_sentences_session_id \n",
      "FROM marked_sentences \n",
      "WHERE ? = marked_sentences.session_id\n",
      "2024-09-11 18:18:11,143 INFO sqlalchemy.engine.Engine [cached since 2.273e+05s ago] (2,)\n",
      "2024-09-11 18:18:11,144 INFO sqlalchemy.engine.Engine SELECT marked_sentences.id AS marked_sentences_id, marked_sentences.sentence AS marked_sentences_sentence, marked_sentences.comment AS marked_sentences_comment, marked_sentences.line AS marked_sentences_line, marked_sentences.session_id AS marked_sentences_session_id \n",
      "FROM marked_sentences \n",
      "WHERE ? = marked_sentences.session_id\n",
      "2024-09-11 18:18:11,145 INFO sqlalchemy.engine.Engine [cached since 2.273e+05s ago] (3,)\n",
      "date time : datetime.datetime(2024, 9, 5, 9, 19, 11, 922138), lesson 51 errors number : 3\n",
      "date time : datetime.datetime(2024, 9, 5, 9, 19, 11, 922138), lesson 51 errors number : 3\n",
      "date time : datetime.datetime(2024, 9, 5, 9, 19, 11, 922138), lesson 51 errors number : 3\n",
      "2024-09-11 18:18:11,145 INFO sqlalchemy.engine.Engine SELECT marked_sentences.id AS marked_sentences_id, marked_sentences.sentence AS marked_sentences_sentence, marked_sentences.comment AS marked_sentences_comment, marked_sentences.line AS marked_sentences_line, marked_sentences.session_id AS marked_sentences_session_id \n",
      "FROM marked_sentences \n",
      "WHERE ? = marked_sentences.session_id\n",
      "2024-09-11 18:18:11,146 INFO sqlalchemy.engine.Engine [cached since 2.273e+05s ago] (5,)\n",
      "date time : datetime.datetime(2024, 9, 6, 23, 54, 35, 589923), lesson 3 errors number : 3\n",
      "date time : datetime.datetime(2024, 9, 6, 23, 54, 35, 589923), lesson 3 errors number : 3\n",
      "date time : datetime.datetime(2024, 9, 6, 23, 54, 35, 589923), lesson 3 errors number : 3\n",
      "2024-09-11 18:18:11,147 INFO sqlalchemy.engine.Engine SELECT marked_sentences.id AS marked_sentences_id, marked_sentences.sentence AS marked_sentences_sentence, marked_sentences.comment AS marked_sentences_comment, marked_sentences.line AS marked_sentences_line, marked_sentences.session_id AS marked_sentences_session_id \n",
      "FROM marked_sentences \n",
      "WHERE ? = marked_sentences.session_id\n",
      "2024-09-11 18:18:11,148 INFO sqlalchemy.engine.Engine [cached since 2.273e+05s ago] (6,)\n",
      "date time : datetime.datetime(2024, 9, 6, 23, 30, 29, 589456), lesson 52 errors number : 5\n",
      "date time : datetime.datetime(2024, 9, 6, 23, 30, 29, 589456), lesson 52 errors number : 5\n",
      "date time : datetime.datetime(2024, 9, 6, 23, 30, 29, 589456), lesson 52 errors number : 5\n",
      "date time : datetime.datetime(2024, 9, 6, 23, 30, 29, 589456), lesson 52 errors number : 5\n",
      "date time : datetime.datetime(2024, 9, 6, 23, 30, 29, 589456), lesson 52 errors number : 5\n",
      "2024-09-11 18:18:11,156 INFO sqlalchemy.engine.Engine SELECT marked_sentences.id AS marked_sentences_id, marked_sentences.sentence AS marked_sentences_sentence, marked_sentences.comment AS marked_sentences_comment, marked_sentences.line AS marked_sentences_line, marked_sentences.session_id AS marked_sentences_session_id \n",
      "FROM marked_sentences \n",
      "WHERE ? = marked_sentences.session_id\n",
      "2024-09-11 18:18:11,157 INFO sqlalchemy.engine.Engine [cached since 2.273e+05s ago] (7,)\n",
      "date time : datetime.datetime(2024, 9, 7, 15, 38, 11, 304630), lesson 53 errors number : 4\n",
      "date time : datetime.datetime(2024, 9, 7, 15, 38, 11, 304630), lesson 53 errors number : 4\n",
      "date time : datetime.datetime(2024, 9, 7, 15, 38, 11, 304630), lesson 53 errors number : 4\n",
      "date time : datetime.datetime(2024, 9, 7, 15, 38, 11, 304630), lesson 53 errors number : 4\n",
      "2024-09-11 18:18:11,159 INFO sqlalchemy.engine.Engine SELECT marked_sentences.id AS marked_sentences_id, marked_sentences.sentence AS marked_sentences_sentence, marked_sentences.comment AS marked_sentences_comment, marked_sentences.line AS marked_sentences_line, marked_sentences.session_id AS marked_sentences_session_id \n",
      "FROM marked_sentences \n",
      "WHERE ? = marked_sentences.session_id\n",
      "2024-09-11 18:18:11,160 INFO sqlalchemy.engine.Engine [cached since 2.273e+05s ago] (8,)\n",
      "2024-09-11 18:18:11,162 INFO sqlalchemy.engine.Engine SELECT marked_sentences.id AS marked_sentences_id, marked_sentences.sentence AS marked_sentences_sentence, marked_sentences.comment AS marked_sentences_comment, marked_sentences.line AS marked_sentences_line, marked_sentences.session_id AS marked_sentences_session_id \n",
      "FROM marked_sentences \n",
      "WHERE ? = marked_sentences.session_id\n",
      "2024-09-11 18:18:11,162 INFO sqlalchemy.engine.Engine [cached since 2.273e+05s ago] (9,)\n",
      "date time : datetime.datetime(2024, 9, 9, 0, 33, 9, 558002), lesson 54 errors number : 4\n",
      "date time : datetime.datetime(2024, 9, 9, 0, 33, 9, 558002), lesson 54 errors number : 4\n",
      "date time : datetime.datetime(2024, 9, 9, 0, 33, 9, 558002), lesson 54 errors number : 4\n",
      "date time : datetime.datetime(2024, 9, 9, 0, 33, 9, 558002), lesson 54 errors number : 4\n",
      "2024-09-11 18:18:11,164 INFO sqlalchemy.engine.Engine SELECT marked_sentences.id AS marked_sentences_id, marked_sentences.sentence AS marked_sentences_sentence, marked_sentences.comment AS marked_sentences_comment, marked_sentences.line AS marked_sentences_line, marked_sentences.session_id AS marked_sentences_session_id \n",
      "FROM marked_sentences \n",
      "WHERE ? = marked_sentences.session_id\n",
      "2024-09-11 18:18:11,164 INFO sqlalchemy.engine.Engine [cached since 2.273e+05s ago] (10,)\n",
      "2024-09-11 18:18:11,165 INFO sqlalchemy.engine.Engine SELECT marked_sentences.id AS marked_sentences_id, marked_sentences.sentence AS marked_sentences_sentence, marked_sentences.comment AS marked_sentences_comment, marked_sentences.line AS marked_sentences_line, marked_sentences.session_id AS marked_sentences_session_id \n",
      "FROM marked_sentences \n",
      "WHERE ? = marked_sentences.session_id\n",
      "2024-09-11 18:18:11,166 INFO sqlalchemy.engine.Engine [cached since 2.273e+05s ago] (11,)\n",
      "date time : datetime.datetime(2024, 9, 9, 23, 49, 20, 733862), lesson 55 errors number : 8\n",
      "date time : datetime.datetime(2024, 9, 9, 23, 49, 20, 733862), lesson 55 errors number : 8\n",
      "date time : datetime.datetime(2024, 9, 9, 23, 49, 20, 733862), lesson 55 errors number : 8\n",
      "date time : datetime.datetime(2024, 9, 9, 23, 49, 20, 733862), lesson 55 errors number : 8\n",
      "date time : datetime.datetime(2024, 9, 9, 23, 49, 20, 733862), lesson 55 errors number : 8\n",
      "date time : datetime.datetime(2024, 9, 9, 23, 49, 20, 733862), lesson 55 errors number : 8\n",
      "date time : datetime.datetime(2024, 9, 9, 23, 49, 20, 733862), lesson 55 errors number : 8\n",
      "date time : datetime.datetime(2024, 9, 9, 23, 49, 20, 733862), lesson 55 errors number : 8\n",
      "2024-09-11 18:18:11,168 INFO sqlalchemy.engine.Engine SELECT marked_sentences.id AS marked_sentences_id, marked_sentences.sentence AS marked_sentences_sentence, marked_sentences.comment AS marked_sentences_comment, marked_sentences.line AS marked_sentences_line, marked_sentences.session_id AS marked_sentences_session_id \n",
      "FROM marked_sentences \n",
      "WHERE ? = marked_sentences.session_id\n",
      "2024-09-11 18:18:11,168 INFO sqlalchemy.engine.Engine [cached since 2.273e+05s ago] (12,)\n",
      "date time : datetime.datetime(2024, 9, 10, 11, 28, 32, 681006), lesson 56 errors number : 10\n",
      "date time : datetime.datetime(2024, 9, 10, 11, 28, 32, 681006), lesson 56 errors number : 10\n",
      "date time : datetime.datetime(2024, 9, 10, 11, 28, 32, 681006), lesson 56 errors number : 10\n",
      "date time : datetime.datetime(2024, 9, 10, 11, 28, 32, 681006), lesson 56 errors number : 10\n",
      "date time : datetime.datetime(2024, 9, 10, 11, 28, 32, 681006), lesson 56 errors number : 10\n",
      "date time : datetime.datetime(2024, 9, 10, 11, 28, 32, 681006), lesson 56 errors number : 10\n",
      "date time : datetime.datetime(2024, 9, 10, 11, 28, 32, 681006), lesson 56 errors number : 10\n",
      "date time : datetime.datetime(2024, 9, 10, 11, 28, 32, 681006), lesson 56 errors number : 10\n",
      "date time : datetime.datetime(2024, 9, 10, 11, 28, 32, 681006), lesson 56 errors number : 10\n",
      "date time : datetime.datetime(2024, 9, 10, 11, 28, 32, 681006), lesson 56 errors number : 10\n",
      "2024-09-11 18:18:11,173 INFO sqlalchemy.engine.Engine SELECT marked_sentences.id AS marked_sentences_id, marked_sentences.sentence AS marked_sentences_sentence, marked_sentences.comment AS marked_sentences_comment, marked_sentences.line AS marked_sentences_line, marked_sentences.session_id AS marked_sentences_session_id \n",
      "FROM marked_sentences \n",
      "WHERE ? = marked_sentences.session_id\n",
      "2024-09-11 18:18:11,173 INFO sqlalchemy.engine.Engine [cached since 2.273e+05s ago] (13,)\n",
      "date time : datetime.datetime(2024, 9, 10, 11, 34, 52, 105091), lesson 7 errors number : 2\n",
      "date time : datetime.datetime(2024, 9, 10, 11, 34, 52, 105091), lesson 7 errors number : 2\n",
      "2024-09-11 18:18:11,176 INFO sqlalchemy.engine.Engine SELECT marked_sentences.id AS marked_sentences_id, marked_sentences.sentence AS marked_sentences_sentence, marked_sentences.comment AS marked_sentences_comment, marked_sentences.line AS marked_sentences_line, marked_sentences.session_id AS marked_sentences_session_id \n",
      "FROM marked_sentences \n",
      "WHERE ? = marked_sentences.session_id\n",
      "2024-09-11 18:18:11,176 INFO sqlalchemy.engine.Engine [cached since 2.273e+05s ago] (14,)\n",
      "date time : datetime.datetime(2024, 9, 11, 15, 24, 26, 952928), lesson 57 errors number : 7\n",
      "date time : datetime.datetime(2024, 9, 11, 15, 24, 26, 952928), lesson 57 errors number : 7\n",
      "date time : datetime.datetime(2024, 9, 11, 15, 24, 26, 952928), lesson 57 errors number : 7\n",
      "date time : datetime.datetime(2024, 9, 11, 15, 24, 26, 952928), lesson 57 errors number : 7\n",
      "date time : datetime.datetime(2024, 9, 11, 15, 24, 26, 952928), lesson 57 errors number : 7\n",
      "date time : datetime.datetime(2024, 9, 11, 15, 24, 26, 952928), lesson 57 errors number : 7\n",
      "date time : datetime.datetime(2024, 9, 11, 15, 24, 26, 952928), lesson 57 errors number : 7\n",
      "2024-09-11 18:18:11,178 INFO sqlalchemy.engine.Engine SELECT marked_sentences.id AS marked_sentences_id, marked_sentences.sentence AS marked_sentences_sentence, marked_sentences.comment AS marked_sentences_comment, marked_sentences.line AS marked_sentences_line, marked_sentences.session_id AS marked_sentences_session_id \n",
      "FROM marked_sentences \n",
      "WHERE ? = marked_sentences.session_id\n",
      "2024-09-11 18:18:11,178 INFO sqlalchemy.engine.Engine [cached since 2.273e+05s ago] (15,)\n",
      "date time : datetime.datetime(2024, 9, 11, 18, 9, 59, 310234), lesson 1 errors number : 5\n",
      "date time : datetime.datetime(2024, 9, 11, 18, 9, 59, 310234), lesson 1 errors number : 5\n",
      "date time : datetime.datetime(2024, 9, 11, 18, 9, 59, 310234), lesson 1 errors number : 5\n",
      "date time : datetime.datetime(2024, 9, 11, 18, 9, 59, 310234), lesson 1 errors number : 5\n",
      "date time : datetime.datetime(2024, 9, 11, 18, 9, 59, 310234), lesson 1 errors number : 5\n",
      "2024-09-11 18:18:11,181 INFO sqlalchemy.engine.Engine ROLLBACK\n"
     ]
    }
   ],
   "source": [
    "stmt = select(LessonSession)\n",
    "with Session(engine) as session:\n",
    "    for entry in session.scalars(stmt):\n",
    "        for sentence in entry.errored_sentences:\n",
    "            print(sentence.session)\n",
    "            "
   ]
  },
  {
   "cell_type": "code",
   "execution_count": 65,
   "id": "5e3d0040-6ce2-42b9-8232-805d0c04a76a",
   "metadata": {},
   "outputs": [],
   "source": [
    "from database import get_lesson_sessions_history"
   ]
  },
  {
   "cell_type": "code",
   "execution_count": 71,
   "id": "23c5260a-c13d-43f1-9b48-a10fb295b7a5",
   "metadata": {},
   "outputs": [
    {
     "name": "stdout",
     "output_type": "stream",
     "text": [
      "----------------- begin_date : None\n",
      "----------------- end_date : None\n",
      "2024-09-11 18:20:49,912 INFO sqlalchemy.engine.Engine BEGIN (implicit)\n",
      "2024-09-11 18:20:49,915 INFO sqlalchemy.engine.Engine SELECT lesson_sessions.id, lesson_sessions.lesson, lesson_sessions.date_time, lesson_sessions.errors_number \n",
      "FROM lesson_sessions \n",
      "WHERE lesson_sessions.date_time >= ? AND lesson_sessions.date_time <= ? AND lesson_sessions.lesson <= ? AND lesson_sessions.lesson >= ?\n",
      "2024-09-11 18:20:49,916 INFO sqlalchemy.engine.Engine [cached since 2.275e+05s ago] ('0001-01-01 00:00:00.000000', '9999-12-31 23:59:59.999999', 100, 1)\n",
      "2024-09-11 18:20:49,934 INFO sqlalchemy.engine.Engine ROLLBACK\n"
     ]
    }
   ],
   "source": [
    "sessions = get_lesson_sessions_history()"
   ]
  },
  {
   "cell_type": "code",
   "execution_count": 72,
   "id": "56c1e924-62b6-4b52-88ce-d779376c216c",
   "metadata": {},
   "outputs": [
    {
     "data": {
      "text/plain": [
       "{50: {datetime.datetime(2024, 9, 4, 22, 42, 30, 759328): 6},\n",
       " 1: {datetime.datetime(2024, 9, 4, 23, 2, 0, 780033): 0},\n",
       " 51: {datetime.datetime(2024, 9, 5, 9, 19, 11, 922138): 3},\n",
       " 3: {datetime.datetime(2024, 9, 6, 23, 54, 35, 589923): 3},\n",
       " 52: {datetime.datetime(2024, 9, 6, 23, 30, 29, 589456): 5},\n",
       " 53: {datetime.datetime(2024, 9, 7, 15, 38, 11, 304630): 4},\n",
       " 4: {datetime.datetime(2024, 9, 7, 15, 47, 54, 852500): 0},\n",
       " 54: {datetime.datetime(2024, 9, 9, 0, 33, 9, 558002): 4},\n",
       " 5: {datetime.datetime(2024, 9, 9, 0, 37, 30, 688736): 0},\n",
       " 55: {datetime.datetime(2024, 9, 9, 23, 49, 20, 733862): 8},\n",
       " 56: {datetime.datetime(2024, 9, 10, 11, 28, 32, 681006): 10},\n",
       " 7: {datetime.datetime(2024, 9, 10, 11, 34, 52, 105091): 2},\n",
       " 57: {datetime.datetime(2024, 9, 11, 15, 24, 26, 952928): 7}}"
      ]
     },
     "execution_count": 72,
     "metadata": {},
     "output_type": "execute_result"
    }
   ],
   "source": [
    "sessions"
   ]
  },
  {
   "cell_type": "code",
   "execution_count": 68,
   "id": "6ffce796-3582-4b88-9655-05765d8928e9",
   "metadata": {},
   "outputs": [],
   "source": [
    "import datetime"
   ]
  },
  {
   "cell_type": "code",
   "execution_count": 70,
   "id": "d5f4a369-7fa6-4472-b43d-88259b559812",
   "metadata": {},
   "outputs": [
    {
     "name": "stdout",
     "output_type": "stream",
     "text": [
      "2024-09-11 18:20:36,510 INFO sqlalchemy.engine.Engine BEGIN (implicit)\n",
      "2024-09-11 18:20:36,519 INFO sqlalchemy.engine.Engine DELETE FROM lesson_sessions WHERE lesson_sessions.date_time = ?\n",
      "2024-09-11 18:20:36,521 INFO sqlalchemy.engine.Engine [cached since 2.275e+05s ago] ('2024-09-11 18:09:59.310234',)\n",
      "2024-09-11 18:20:36,525 INFO sqlalchemy.engine.Engine COMMIT\n"
     ]
    }
   ],
   "source": [
    "stmt = select(LessonSession)\n",
    "with Session(engine) as session:\n",
    "    session.execute(delete(LessonSession).where(LessonSession.date_time == datetime.datetime(2024, 9, 11, 18, 9, 59, 310234)))\n",
    "    session.commit()"
   ]
  },
  {
   "cell_type": "code",
   "execution_count": 9,
   "id": "51a177f0-a7e2-4e65-9963-77102cec6161",
   "metadata": {},
   "outputs": [],
   "source": [
    "html_with_selection = \"\"\"<p> N52-Lec<b>ción</b> cin<b>cuen</b>ta y dos </p>                  <p> S00-TITLE-La co<b>ci</b>na mexi<b>ca</b>na </p>                  <p> S01-No me has <b>di</b>cho <b>na</b>da de la co<b>ci</b>na mexi<b>ca</b>na </p>                  <p> S02-¿O a lo me<b>jor</b> no te atre<b>vis</b>te a pro<b>bar</b>la?  </p>                  <p> S03-¡Por su<b>pues</b>to que la pro<b>bé</b>! Me gus<b>tó</b> <b>so</b>bre <b>to</b>do el <b>mo</b>le es <b>u</b>na <b>sal</b>sa de ca<b>ca</b>o y guin<b>di</b>llas.  </p>                  <p> S04-¿Choco<b>la</b>te pi<b>can</b>te? ¿No te <mark class='V' title='3ème personne du singulier du passé simple de dar : dio et non pas di.'>dio</mark> <b>as</b>co?  </p>                  <p> S05-¡Qué va! ¡Es<b>tá</b> muy <b>ri</b>co! Lo a<b>mar</b>go va muy bien con lo pi<b>can</b>te.  </p>                  <p> S06-Los <b>pue</b>blos precolom<b>bi</b>nos ha<b>cí</b>an <b>u</b>na be<b>bi</b>da <b>ro</b>ja con el ca<b>ca</b>o.  </p>                  <p> S07-¡Por <b>e</b>so los conquista<b>do</b>res cre<b>ye</b>ron que be<b>bí</b>an <b>san</b>gre!  </p>                  <p> S08-¿<b>Pe</b>ro <b>nun</b>ca lo <mark class='V' title='3ème personne du pluriel du présent du verbe tomar.'><b>to</b>man</mark> <b></b><b>dul</b>ce?  </p>                  <p> S09-Sí, <b>cla</b>ro, hoy en <b>dí</b>a tam<b>bién</b> <mark class='G' title='cacao est complément d&#39;objet indirect donc=\"le\" et non pas \"lo\"'>le</mark> <b>e</b>chan a<b>zú</b>car,  </p>                  <p> S10-<b>pe</b>ro en la tradi<b>ción</b> in<b>dí</b>gena no se <mark class='G' title='cacao est complément d&#39;objet indirect donc=\"le\" et non pas \"lo\"'>le</mark> a<b>ña</b>de <b>le</b>che, <b>so</b>lo <b>a</b>gua.  </p>                  <p> S11-<b></b><mark class='O'><b></b><mark class='O' title='Meriendas est féminin, donc nuestras et non pas nuestros.'><b>Nues</b>tras</mark></mark> me<b>rien</b>das sí que las e<b>cha</b>ba de <b>me</b>nos un buen choco<b>la</b>te con <b>chu</b>rros. . .  </p>                  <p> S12-<b>E</b>so, <b>pa</b>ra meren<b>dar</b>, ¡<b>na</b>da <b>co</b>mo Es<b>pa</b>ña!  </p>                  <p> T00-TRANSLATE-Ejer<b>ci</b>cio 1 – Tra<b>duz</b>ca </p>                  <p> T01-No me has <b>di</b>cho si te gus<b>tó</b> la <b>sal</b>sa de ca<b>ca</b>o y guin<b>di</b>llas.  </p>                  <p> T02-¿Te atre<b>vis</b>te a to<b>mar</b> choco<b>la</b>te a<b>mar</b>go, pi<b>can</b>te y sin a<b>zú</b>car?  </p>                  <p> T03-¡Qué va! Me dio <b>as</b>co y no lo pro<b>bé</b>.  </p>                  <p> T04-Pues a lo me<b>jor</b> es<b>tá</b> muy <b>ri</b>co, <b>pe</b>ro pre<b>fie</b>ro un choco<b>la</b>te con <b>chu</b>rros.  </p>                  <p> T05-<b>E</b>cho de <b>me</b>nos la co<b>ci</b>na mexi<b>ca</b>na.  </p>\"\"\""
   ]
  },
  {
   "cell_type": "code",
   "execution_count": 11,
   "id": "309071e0-38c2-415a-9d4e-46719477167c",
   "metadata": {},
   "outputs": [
    {
     "name": "stdout",
     "output_type": "stream",
     "text": [
      "<p> N52-Lec<b>ción</b> cin<b>cuen</b>ta y dos </p>                  <p> S00-TITLE-La co<b>ci</b>na mexi<b>ca</b>na </p>                  <p> S01-No me has <b>di</b>cho <b>na</b>da de la co<b>ci</b>na mexi<b>ca</b>na </p>                  <p> S02-¿O a lo me<b>jor</b> no te atre<b>vis</b>te a pro<b>bar</b>la?  </p>                  <p> S03-¡Por su<b>pues</b>to que la pro<b>bé</b>! Me gus<b>tó</b> <b>so</b>bre <b>to</b>do el <b>mo</b>le es <b>u</b>na <b>sal</b>sa de ca<b>ca</b>o y guin<b>di</b>llas.  </p>                  <p> S04-¿Choco<b>la</b>te pi<b>can</b>te? ¿No te <mark class='V' title='3ème personne du singulier du passé simple de dar : dio et non pas di.'>dio</mark> <b>as</b>co?  </p>                  <p> S05-¡Qué va! ¡Es<b>tá</b> muy <b>ri</b>co! Lo a<b>mar</b>go va muy bien con lo pi<b>can</b>te.  </p>                  <p> S06-Los <b>pue</b>blos precolom<b>bi</b>nos ha<b>cí</b>an <b>u</b>na be<b>bi</b>da <b>ro</b>ja con el ca<b>ca</b>o.  </p>                  <p> S07-¡Por <b>e</b>so los conquista<b>do</b>res cre<b>ye</b>ron que be<b>bí</b>an <b>san</b>gre!  </p>                  <p> S08-¿<b>Pe</b>ro <b>nun</b>ca lo <mark class='V' title='3ème personne du pluriel du présent du verbe tomar.'><b>to</b>man</mark> <b></b><b>dul</b>ce?  </p>                  <p> S09-Sí, <b>cla</b>ro, hoy en <b>dí</b>a tam<b>bién</b> <mark class='G' title='cacao est complément d&#39;objet indirect donc=\"le\" et non pas \"lo\"'>le</mark> <b>e</b>chan a<b>zú</b>car,  </p>                  <p> S10-<b>pe</b>ro en la tradi<b>ción</b> in<b>dí</b>gena no se <mark class='G' title='cacao est complément d&#39;objet indirect donc=\"le\" et non pas \"lo\"'>le</mark> a<b>ña</b>de <b>le</b>che, <b>so</b>lo <b>a</b>gua.  </p>                  <p> S11-<b></b><mark class='O'><b></b><mark class='O' title='Meriendas est féminin, donc nuestras et non pas nuestros.'><b>Nues</b>tras</mark></mark> me<b>rien</b>das sí que las e<b>cha</b>ba de <b>me</b>nos un buen choco<b>la</b>te con <b>chu</b>rros. . .  </p>                  <p> S12-<b>E</b>so, <b>pa</b>ra meren<b>dar</b>, ¡<b>na</b>da <b>co</b>mo Es<b>pa</b>ña!  </p>                  <p> T00-TRANSLATE-Ejer<b>ci</b>cio 1 – Tra<b>duz</b>ca </p>                  <p> T01-No me has <b>di</b>cho si te gus<b>tó</b> la <b>sal</b>sa de ca<b>ca</b>o y guin<b>di</b>llas.  </p>                  <p> T02-¿Te atre<b>vis</b>te a to<b>mar</b> choco<b>la</b>te a<b>mar</b>go, pi<b>can</b>te y sin a<b>zú</b>car?  </p>                  <p> T03-¡Qué va! Me dio <b>as</b>co y no lo pro<b>bé</b>.  </p>                  <p> T04-Pues a lo me<b>jor</b> es<b>tá</b> muy <b>ri</b>co, <b>pe</b>ro pre<b>fie</b>ro un choco<b>la</b>te con <b>chu</b>rros.  </p>                  <p> T05-<b>E</b>cho de <b>me</b>nos la co<b>ci</b>na mexi<b>ca</b>na.  </p>\n"
     ]
    }
   ],
   "source": [
    "print(html_with_selection)"
   ]
  },
  {
   "cell_type": "code",
   "execution_count": 47,
   "id": "f687b69a-f81a-4fd9-bf04-c6b29b4e5f5d",
   "metadata": {},
   "outputs": [
    {
     "data": {
      "text/plain": [
       "'<p> N52-Lec<b>ción</b> cin<b>cuen</b>ta y dos </p>                  <p> S00-TITLE-La co<b>ci</b>na mexi<b>ca</b>na </p>                  <p> S01-No me has <b>di</b>cho <b>na</b>da de la co<b>ci</b>na mexi<b>ca</b>na </p>                  <p> S02-¿O a lo me<b>jor</b> no te atre<b>vis</b>te a pro<b>bar</b>la?  </p>                  <p> S03-¡Por su<b>pues</b>to que la pro<b>bé</b>! Me gus<b>tó</b> <b>so</b>bre <b>to</b>do el <b>mo</b>le es <b>u</b>na <b>sal</b>sa de ca<b>ca</b>o y guin<b>di</b>llas.  </p>                  <p> S04-¿Choco<b>la</b>te pi<b>can</b>te? ¿No te <mark class=\\'V\\' title=\\'3ème personne du singulier du passé simple de dar : dio et non pas di.\\'>dio</mark> <b>as</b>co?  </p>                  <p> S05-¡Qué va! ¡Es<b>tá</b> muy <b>ri</b>co! Lo a<b>mar</b>go va muy bien con lo pi<b>can</b>te.  </p>                  <p> S06-Los <b>pue</b>blos precolom<b>bi</b>nos ha<b>cí</b>an <b>u</b>na be<b>bi</b>da <b>ro</b>ja con el ca<b>ca</b>o.  </p>                  <p> S07-¡Por <b>e</b>so los conquista<b>do</b>res cre<b>ye</b>ron que be<b>bí</b>an <b>san</b>gre!  </p>                  <p> S08-¿<b>Pe</b>ro <b>nun</b>ca lo <mark class=\\'V\\' title=\\'3ème personne du pluriel du présent du verbe tomar.\\'><b>to</b>man</mark> <b></b><b>dul</b>ce?  </p>                  <p> S09-Sí, <b>cla</b>ro, hoy en <b>dí</b>a tam<b>bién</b> <mark class=\\'G\\' title=\\'cacao est complément d&#39;objet indirect donc=\"le\" et non pas \"lo\"\\'>le</mark> <b>e</b>chan a<b>zú</b>car,  </p>                  <p> S10-<b>pe</b>ro en la tradi<b>ción</b> in<b>dí</b>gena no se <mark class=\\'G\\' title=\\'cacao est complément d&#39;objet indirect donc=\"le\" et non pas \"lo\"\\'>le</mark> a<b>ña</b>de <b>le</b>che, <b>so</b>lo <b>a</b>gua.  </p>                  <p> S11-<b></b><mark class=\\'O\\'><b></b><mark class=\\'O\\' title=\\'Meriendas est féminin, donc nuestras et non pas nuestros.\\'><b>Nues</b>tras</mark></mark> me<b>rien</b>das sí que las e<b>cha</b>ba de <b>me</b>nos un buen choco<b>la</b>te con <b>chu</b>rros. . .  </p>                  <p> S12-<b>E</b>so, <b>pa</b>ra meren<b>dar</b>, ¡<b>na</b>da <b>co</b>mo Es<b>pa</b>ña!  </p>                  <p> T00-TRANSLATE-Ejer<b>ci</b>cio 1 – Tra<b>duz</b>ca </p>                  <p> T01-No me has <b>di</b>cho si te gus<b>tó</b> la <b>sal</b>sa de ca<b>ca</b>o y guin<b>di</b>llas.  </p>                  <p> T02-¿Te atre<b>vis</b>te a to<b>mar</b> choco<b>la</b>te a<b>mar</b>go, pi<b>can</b>te y sin a<b>zú</b>car?  </p>                  <p> T03-¡Qué va! Me dio <b>as</b>co y no lo pro<b>bé</b>.  </p>                  <p> T04-Pues a lo me<b>jor</b> es<b>tá</b> muy <b>ri</b>co, <b>pe</b>ro pre<b>fie</b>ro un choco<b>la</b>te con <b>chu</b>rros.  </p>                  <p> T05-<b>E</b>cho de <b>me</b>nos la co<b>ci</b>na mexi<b>ca</b>na.  </p>'"
      ]
     },
     "execution_count": 47,
     "metadata": {},
     "output_type": "execute_result"
    }
   ],
   "source": [
    "html_with_selection"
   ]
  },
  {
   "cell_type": "code",
   "execution_count": 48,
   "id": "b684bf44-f689-4322-8303-380cc8041fde",
   "metadata": {},
   "outputs": [],
   "source": [
    "from selection import extract_selection"
   ]
  },
  {
   "cell_type": "code",
   "execution_count": 49,
   "id": "8445bb88-4efb-425e-bb57-65d7b1736de0",
   "metadata": {},
   "outputs": [
    {
     "name": "stdout",
     "output_type": "stream",
     "text": [
      "attr_name : class, attr_value : V\n",
      "---- in convert_to_html_escape, returning V\n",
      "---- escaped_attr_value : V\n",
      "attr_name = class, char : V, 86, 0\n",
      "attr_name : title, attr_value : 3ème personne du singulier du passé simple de dar : dio et non pas di.\n",
      "---- in convert_to_html_escape, returning 3ème personne du singulier du passé simple de dar : dio et non pas di.\n",
      "---- escaped_attr_value : 3ème personne du singulier du passé simple de dar : dio et non pas di.\n",
      "attr_name = title, char : 3, 51, 0\n",
      "attr_name = title, char : è, 232, 1\n",
      "attr_name = title, char : m, 109, 2\n",
      "attr_name = title, char : e, 101, 3\n",
      "attr_name = title, char :  , 32, 4\n",
      "attr_name = title, char : p, 112, 5\n",
      "attr_name = title, char : e, 101, 6\n",
      "attr_name = title, char : r, 114, 7\n",
      "attr_name = title, char : s, 115, 8\n",
      "attr_name = title, char : o, 111, 9\n",
      "attr_name = title, char : n, 110, 10\n",
      "attr_name = title, char : n, 110, 11\n",
      "attr_name = title, char : e, 101, 12\n",
      "attr_name = title, char :  , 32, 13\n",
      "attr_name = title, char : d, 100, 14\n",
      "attr_name = title, char : u, 117, 15\n",
      "attr_name = title, char :  , 32, 16\n",
      "attr_name = title, char : s, 115, 17\n",
      "attr_name = title, char : i, 105, 18\n",
      "attr_name = title, char : n, 110, 19\n",
      "attr_name = title, char : g, 103, 20\n",
      "attr_name = title, char : u, 117, 21\n",
      "attr_name = title, char : l, 108, 22\n",
      "attr_name = title, char : i, 105, 23\n",
      "attr_name = title, char : e, 101, 24\n",
      "attr_name = title, char : r, 114, 25\n",
      "attr_name = title, char :  , 32, 26\n",
      "attr_name = title, char : d, 100, 27\n",
      "attr_name = title, char : u, 117, 28\n",
      "attr_name = title, char :  , 32, 29\n",
      "attr_name = title, char : p, 112, 30\n",
      "attr_name = title, char : a, 97, 31\n",
      "attr_name = title, char : s, 115, 32\n",
      "attr_name = title, char : s, 115, 33\n",
      "attr_name = title, char : é, 233, 34\n",
      "attr_name = title, char :  , 32, 35\n",
      "attr_name = title, char : s, 115, 36\n",
      "attr_name = title, char : i, 105, 37\n",
      "attr_name = title, char : m, 109, 38\n",
      "attr_name = title, char : p, 112, 39\n",
      "attr_name = title, char : l, 108, 40\n",
      "attr_name = title, char : e, 101, 41\n",
      "attr_name = title, char :  , 32, 42\n",
      "attr_name = title, char : d, 100, 43\n",
      "attr_name = title, char : e, 101, 44\n",
      "attr_name = title, char :  , 32, 45\n",
      "attr_name = title, char : d, 100, 46\n",
      "attr_name = title, char : a, 97, 47\n",
      "attr_name = title, char : r, 114, 48\n",
      "attr_name = title, char :  , 32, 49\n",
      "attr_name = title, char : :, 58, 50\n",
      "attr_name = title, char :  , 32, 51\n",
      "attr_name = title, char : d, 100, 52\n",
      "attr_name = title, char : i, 105, 53\n",
      "attr_name = title, char : o, 111, 54\n",
      "attr_name = title, char :  , 32, 55\n",
      "attr_name = title, char : e, 101, 56\n",
      "attr_name = title, char : t, 116, 57\n",
      "attr_name = title, char :  , 32, 58\n",
      "attr_name = title, char : n, 110, 59\n",
      "attr_name = title, char : o, 111, 60\n",
      "attr_name = title, char : n, 110, 61\n",
      "attr_name = title, char :  , 32, 62\n",
      "attr_name = title, char : p, 112, 63\n",
      "attr_name = title, char : a, 97, 64\n",
      "attr_name = title, char : s, 115, 65\n",
      "attr_name = title, char :  , 32, 66\n",
      "attr_name = title, char : d, 100, 67\n",
      "attr_name = title, char : i, 105, 68\n",
      "attr_name = title, char : ., 46, 69\n",
      "attr_name : class, attr_value : V\n",
      "---- in convert_to_html_escape, returning V\n",
      "---- escaped_attr_value : V\n",
      "attr_name = class, char : V, 86, 0\n",
      "attr_name : title, attr_value : 3ème personne du pluriel du présent du verbe tomar.\n",
      "---- in convert_to_html_escape, returning 3ème personne du pluriel du présent du verbe tomar.\n",
      "---- escaped_attr_value : 3ème personne du pluriel du présent du verbe tomar.\n",
      "attr_name = title, char : 3, 51, 0\n",
      "attr_name = title, char : è, 232, 1\n",
      "attr_name = title, char : m, 109, 2\n",
      "attr_name = title, char : e, 101, 3\n",
      "attr_name = title, char :  , 32, 4\n",
      "attr_name = title, char : p, 112, 5\n",
      "attr_name = title, char : e, 101, 6\n",
      "attr_name = title, char : r, 114, 7\n",
      "attr_name = title, char : s, 115, 8\n",
      "attr_name = title, char : o, 111, 9\n",
      "attr_name = title, char : n, 110, 10\n",
      "attr_name = title, char : n, 110, 11\n",
      "attr_name = title, char : e, 101, 12\n",
      "attr_name = title, char :  , 32, 13\n",
      "attr_name = title, char : d, 100, 14\n",
      "attr_name = title, char : u, 117, 15\n",
      "attr_name = title, char :  , 32, 16\n",
      "attr_name = title, char : p, 112, 17\n",
      "attr_name = title, char : l, 108, 18\n",
      "attr_name = title, char : u, 117, 19\n",
      "attr_name = title, char : r, 114, 20\n",
      "attr_name = title, char : i, 105, 21\n",
      "attr_name = title, char : e, 101, 22\n",
      "attr_name = title, char : l, 108, 23\n",
      "attr_name = title, char :  , 32, 24\n",
      "attr_name = title, char : d, 100, 25\n",
      "attr_name = title, char : u, 117, 26\n",
      "attr_name = title, char :  , 32, 27\n",
      "attr_name = title, char : p, 112, 28\n",
      "attr_name = title, char : r, 114, 29\n",
      "attr_name = title, char : é, 233, 30\n",
      "attr_name = title, char : s, 115, 31\n",
      "attr_name = title, char : e, 101, 32\n",
      "attr_name = title, char : n, 110, 33\n",
      "attr_name = title, char : t, 116, 34\n",
      "attr_name = title, char :  , 32, 35\n",
      "attr_name = title, char : d, 100, 36\n",
      "attr_name = title, char : u, 117, 37\n",
      "attr_name = title, char :  , 32, 38\n",
      "attr_name = title, char : v, 118, 39\n",
      "attr_name = title, char : e, 101, 40\n",
      "attr_name = title, char : r, 114, 41\n",
      "attr_name = title, char : b, 98, 42\n",
      "attr_name = title, char : e, 101, 43\n",
      "attr_name = title, char :  , 32, 44\n",
      "attr_name = title, char : t, 116, 45\n",
      "attr_name = title, char : o, 111, 46\n",
      "attr_name = title, char : m, 109, 47\n",
      "attr_name = title, char : a, 97, 48\n",
      "attr_name = title, char : r, 114, 49\n",
      "attr_name = title, char : ., 46, 50\n",
      "attr_name : class, attr_value : G\n",
      "---- in convert_to_html_escape, returning G\n",
      "---- escaped_attr_value : G\n",
      "attr_name = class, char : G, 71, 0\n",
      "attr_name : title, attr_value : cacao est complément d'objet indirect donc=\"le\" et non pas \"lo\"\n",
      "---- in convert_to_html_escape, returning cacao est complément d'objet indirect donc=\"le\" et non pas \"lo\"\n",
      "---- escaped_attr_value : cacao est complément d&#039;objet indirect donc=&#034;le&#034; et non pas &#034;lo&#034;\n",
      "attr_name = title, char : c, 99, 0\n",
      "attr_name = title, char : a, 97, 1\n",
      "attr_name = title, char : c, 99, 2\n",
      "attr_name = title, char : a, 97, 3\n",
      "attr_name = title, char : o, 111, 4\n",
      "attr_name = title, char :  , 32, 5\n",
      "attr_name = title, char : e, 101, 6\n",
      "attr_name = title, char : s, 115, 7\n",
      "attr_name = title, char : t, 116, 8\n",
      "attr_name = title, char :  , 32, 9\n",
      "attr_name = title, char : c, 99, 10\n",
      "attr_name = title, char : o, 111, 11\n",
      "attr_name = title, char : m, 109, 12\n",
      "attr_name = title, char : p, 112, 13\n",
      "attr_name = title, char : l, 108, 14\n",
      "attr_name = title, char : é, 233, 15\n",
      "attr_name = title, char : m, 109, 16\n",
      "attr_name = title, char : e, 101, 17\n",
      "attr_name = title, char : n, 110, 18\n",
      "attr_name = title, char : t, 116, 19\n",
      "attr_name = title, char :  , 32, 20\n",
      "attr_name = title, char : d, 100, 21\n",
      "attr_name = title, char : ', 39, 22\n",
      "attr_name = title, char : o, 111, 23\n",
      "attr_name = title, char : b, 98, 24\n",
      "attr_name = title, char : j, 106, 25\n",
      "attr_name = title, char : e, 101, 26\n",
      "attr_name = title, char : t, 116, 27\n",
      "attr_name = title, char :  , 32, 28\n",
      "attr_name = title, char : i, 105, 29\n",
      "attr_name = title, char : n, 110, 30\n",
      "attr_name = title, char : d, 100, 31\n",
      "attr_name = title, char : i, 105, 32\n",
      "attr_name = title, char : r, 114, 33\n",
      "attr_name = title, char : e, 101, 34\n",
      "attr_name = title, char : c, 99, 35\n",
      "attr_name = title, char : t, 116, 36\n",
      "attr_name = title, char :  , 32, 37\n",
      "attr_name = title, char : d, 100, 38\n",
      "attr_name = title, char : o, 111, 39\n",
      "attr_name = title, char : n, 110, 40\n",
      "attr_name = title, char : c, 99, 41\n",
      "attr_name = title, char : =, 61, 42\n",
      "attr_name = title, char : \", 34, 43\n",
      "attr_name = title, char : l, 108, 44\n",
      "attr_name = title, char : e, 101, 45\n",
      "attr_name = title, char : \", 34, 46\n",
      "attr_name = title, char :  , 32, 47\n",
      "attr_name = title, char : e, 101, 48\n",
      "attr_name = title, char : t, 116, 49\n",
      "attr_name = title, char :  , 32, 50\n",
      "attr_name = title, char : n, 110, 51\n",
      "attr_name = title, char : o, 111, 52\n",
      "attr_name = title, char : n, 110, 53\n",
      "attr_name = title, char :  , 32, 54\n",
      "attr_name = title, char : p, 112, 55\n",
      "attr_name = title, char : a, 97, 56\n",
      "attr_name = title, char : s, 115, 57\n",
      "attr_name = title, char :  , 32, 58\n",
      "attr_name = title, char : \", 34, 59\n",
      "attr_name = title, char : l, 108, 60\n",
      "attr_name = title, char : o, 111, 61\n",
      "attr_name = title, char : \", 34, 62\n",
      "attr_name : class, attr_value : G\n",
      "---- in convert_to_html_escape, returning G\n",
      "---- escaped_attr_value : G\n",
      "attr_name = class, char : G, 71, 0\n",
      "attr_name : title, attr_value : cacao est complément d'objet indirect donc=\"le\" et non pas \"lo\"\n",
      "---- in convert_to_html_escape, returning cacao est complément d'objet indirect donc=\"le\" et non pas \"lo\"\n",
      "---- escaped_attr_value : cacao est complément d&#039;objet indirect donc=&#034;le&#034; et non pas &#034;lo&#034;\n",
      "attr_name = title, char : c, 99, 0\n",
      "attr_name = title, char : a, 97, 1\n",
      "attr_name = title, char : c, 99, 2\n",
      "attr_name = title, char : a, 97, 3\n",
      "attr_name = title, char : o, 111, 4\n",
      "attr_name = title, char :  , 32, 5\n",
      "attr_name = title, char : e, 101, 6\n",
      "attr_name = title, char : s, 115, 7\n",
      "attr_name = title, char : t, 116, 8\n",
      "attr_name = title, char :  , 32, 9\n",
      "attr_name = title, char : c, 99, 10\n",
      "attr_name = title, char : o, 111, 11\n",
      "attr_name = title, char : m, 109, 12\n",
      "attr_name = title, char : p, 112, 13\n",
      "attr_name = title, char : l, 108, 14\n",
      "attr_name = title, char : é, 233, 15\n",
      "attr_name = title, char : m, 109, 16\n",
      "attr_name = title, char : e, 101, 17\n",
      "attr_name = title, char : n, 110, 18\n",
      "attr_name = title, char : t, 116, 19\n",
      "attr_name = title, char :  , 32, 20\n",
      "attr_name = title, char : d, 100, 21\n",
      "attr_name = title, char : ', 39, 22\n",
      "attr_name = title, char : o, 111, 23\n",
      "attr_name = title, char : b, 98, 24\n",
      "attr_name = title, char : j, 106, 25\n",
      "attr_name = title, char : e, 101, 26\n",
      "attr_name = title, char : t, 116, 27\n",
      "attr_name = title, char :  , 32, 28\n",
      "attr_name = title, char : i, 105, 29\n",
      "attr_name = title, char : n, 110, 30\n",
      "attr_name = title, char : d, 100, 31\n",
      "attr_name = title, char : i, 105, 32\n",
      "attr_name = title, char : r, 114, 33\n",
      "attr_name = title, char : e, 101, 34\n",
      "attr_name = title, char : c, 99, 35\n",
      "attr_name = title, char : t, 116, 36\n",
      "attr_name = title, char :  , 32, 37\n",
      "attr_name = title, char : d, 100, 38\n",
      "attr_name = title, char : o, 111, 39\n",
      "attr_name = title, char : n, 110, 40\n",
      "attr_name = title, char : c, 99, 41\n",
      "attr_name = title, char : =, 61, 42\n",
      "attr_name = title, char : \", 34, 43\n",
      "attr_name = title, char : l, 108, 44\n",
      "attr_name = title, char : e, 101, 45\n",
      "attr_name = title, char : \", 34, 46\n",
      "attr_name = title, char :  , 32, 47\n",
      "attr_name = title, char : e, 101, 48\n",
      "attr_name = title, char : t, 116, 49\n",
      "attr_name = title, char :  , 32, 50\n",
      "attr_name = title, char : n, 110, 51\n",
      "attr_name = title, char : o, 111, 52\n",
      "attr_name = title, char : n, 110, 53\n",
      "attr_name = title, char :  , 32, 54\n",
      "attr_name = title, char : p, 112, 55\n",
      "attr_name = title, char : a, 97, 56\n",
      "attr_name = title, char : s, 115, 57\n",
      "attr_name = title, char :  , 32, 58\n",
      "attr_name = title, char : \", 34, 59\n",
      "attr_name = title, char : l, 108, 60\n",
      "attr_name = title, char : o, 111, 61\n",
      "attr_name = title, char : \", 34, 62\n",
      "attr_name : class, attr_value : O\n",
      "---- in convert_to_html_escape, returning O\n",
      "---- escaped_attr_value : O\n",
      "attr_name = class, char : O, 79, 0\n",
      "attr_name : class, attr_value : O\n",
      "---- in convert_to_html_escape, returning O\n",
      "---- escaped_attr_value : O\n",
      "attr_name = class, char : O, 79, 0\n",
      "attr_name : title, attr_value : Meriendas est féminin, donc nuestras et non pas nuestros.\n",
      "---- in convert_to_html_escape, returning Meriendas est féminin, donc nuestras et non pas nuestros.\n",
      "---- escaped_attr_value : Meriendas est féminin, donc nuestras et non pas nuestros.\n",
      "attr_name = title, char : M, 77, 0\n",
      "attr_name = title, char : e, 101, 1\n",
      "attr_name = title, char : r, 114, 2\n",
      "attr_name = title, char : i, 105, 3\n",
      "attr_name = title, char : e, 101, 4\n",
      "attr_name = title, char : n, 110, 5\n",
      "attr_name = title, char : d, 100, 6\n",
      "attr_name = title, char : a, 97, 7\n",
      "attr_name = title, char : s, 115, 8\n",
      "attr_name = title, char :  , 32, 9\n",
      "attr_name = title, char : e, 101, 10\n",
      "attr_name = title, char : s, 115, 11\n",
      "attr_name = title, char : t, 116, 12\n",
      "attr_name = title, char :  , 32, 13\n",
      "attr_name = title, char : f, 102, 14\n",
      "attr_name = title, char : é, 233, 15\n",
      "attr_name = title, char : m, 109, 16\n",
      "attr_name = title, char : i, 105, 17\n",
      "attr_name = title, char : n, 110, 18\n",
      "attr_name = title, char : i, 105, 19\n",
      "attr_name = title, char : n, 110, 20\n",
      "attr_name = title, char : ,, 44, 21\n",
      "attr_name = title, char :  , 32, 22\n",
      "attr_name = title, char : d, 100, 23\n",
      "attr_name = title, char : o, 111, 24\n",
      "attr_name = title, char : n, 110, 25\n",
      "attr_name = title, char : c, 99, 26\n",
      "attr_name = title, char :  , 32, 27\n",
      "attr_name = title, char : n, 110, 28\n",
      "attr_name = title, char : u, 117, 29\n",
      "attr_name = title, char : e, 101, 30\n",
      "attr_name = title, char : s, 115, 31\n",
      "attr_name = title, char : t, 116, 32\n",
      "attr_name = title, char : r, 114, 33\n",
      "attr_name = title, char : a, 97, 34\n",
      "attr_name = title, char : s, 115, 35\n",
      "attr_name = title, char :  , 32, 36\n",
      "attr_name = title, char : e, 101, 37\n",
      "attr_name = title, char : t, 116, 38\n",
      "attr_name = title, char :  , 32, 39\n",
      "attr_name = title, char : n, 110, 40\n",
      "attr_name = title, char : o, 111, 41\n",
      "attr_name = title, char : n, 110, 42\n",
      "attr_name = title, char :  , 32, 43\n",
      "attr_name = title, char : p, 112, 44\n",
      "attr_name = title, char : a, 97, 45\n",
      "attr_name = title, char : s, 115, 46\n",
      "attr_name = title, char :  , 32, 47\n",
      "attr_name = title, char : n, 110, 48\n",
      "attr_name = title, char : u, 117, 49\n",
      "attr_name = title, char : e, 101, 50\n",
      "attr_name = title, char : s, 115, 51\n",
      "attr_name = title, char : t, 116, 52\n",
      "attr_name = title, char : r, 114, 53\n",
      "attr_name = title, char : o, 111, 54\n",
      "attr_name = title, char : s, 115, 55\n",
      "attr_name = title, char : ., 46, 56\n"
     ]
    }
   ],
   "source": [
    "marked_lines_numbers, sentences = extract_selection(html_with_selection)"
   ]
  },
  {
   "cell_type": "code",
   "execution_count": 50,
   "id": "502f92d5-7a28-4460-831f-e1635f3fd23c",
   "metadata": {},
   "outputs": [
    {
     "data": {
      "text/plain": [
       "{5: True, 9: True, 10: True, 11: True, 12: True}"
      ]
     },
     "execution_count": 50,
     "metadata": {},
     "output_type": "execute_result"
    }
   ],
   "source": [
    "marked_lines_numbers"
   ]
  },
  {
   "cell_type": "code",
   "execution_count": 51,
   "id": "f57f2431-c403-4d25-aa1d-0308f8d411dc",
   "metadata": {},
   "outputs": [
    {
     "data": {
      "text/plain": [
       "['N52-Lec<b>ción</b> cin<b>cuen</b>ta y dos',\n",
       " 'S00-TITLE-La co<b>ci</b>na mexi<b>ca</b>na',\n",
       " 'S01-No me has <b>di</b>cho <b>na</b>da de la co<b>ci</b>na mexi<b>ca</b>na',\n",
       " 'S02-¿O a lo me<b>jor</b> no te atre<b>vis</b>te a pro<b>bar</b>la?',\n",
       " 'S03-¡Por su<b>pues</b>to que la pro<b>bé</b>! Me gus<b>tó</b> <b>so</b>bre <b>to</b>do el <b>mo</b>le es <b>u</b>na <b>sal</b>sa de ca<b>ca</b>o y guin<b>di</b>llas.',\n",
       " \"S04-¿Choco<b>la</b>te pi<b>can</b>te? ¿No te <mark class='V' title='3ème personne du singulier du passé simple de dar : dio et non pas di.'>dio</mark> <b>as</b>co?\",\n",
       " 'S05-¡Qué va! ¡Es<b>tá</b> muy <b>ri</b>co! Lo a<b>mar</b>go va muy bien con lo pi<b>can</b>te.',\n",
       " 'S06-Los <b>pue</b>blos precolom<b>bi</b>nos ha<b>cí</b>an <b>u</b>na be<b>bi</b>da <b>ro</b>ja con el ca<b>ca</b>o.',\n",
       " 'S07-¡Por <b>e</b>so los conquista<b>do</b>res cre<b>ye</b>ron que be<b>bí</b>an <b>san</b>gre!',\n",
       " \"S08-¿<b>Pe</b>ro <b>nun</b>ca lo <mark class='V' title='3ème personne du pluriel du présent du verbe tomar.'><b>to</b>man</mark> <b></b><b>dul</b>ce?\",\n",
       " \"S09-Sí, <b>cla</b>ro, hoy en <b>dí</b>a tam<b>bién</b> <mark class='G' title='cacao est complément d&#039;objet indirect donc=&#034;le&#034; et non pas &#034;lo&#034;'>le</mark> <b>e</b>chan a<b>zú</b>car,\",\n",
       " \"S10-<b>pe</b>ro en la tradi<b>ción</b> in<b>dí</b>gena no se <mark class='G' title='cacao est complément d&#039;objet indirect donc=&#034;le&#034; et non pas &#034;lo&#034;'>le</mark> a<b>ña</b>de <b>le</b>che, <b>so</b>lo <b>a</b>gua.\",\n",
       " \"S11-<b></b><mark class='O'><b></b><mark class='O' title='Meriendas est féminin, donc nuestras et non pas nuestros.'><b>Nues</b>tras</mark></mark> me<b>rien</b>das sí que las e<b>cha</b>ba de <b>me</b>nos un buen choco<b>la</b>te con <b>chu</b>rros. . .\",\n",
       " 'S12-<b>E</b>so, <b>pa</b>ra meren<b>dar</b>, ¡<b>na</b>da <b>co</b>mo Es<b>pa</b>ña!',\n",
       " 'T00-TRANSLATE-Ejer<b>ci</b>cio 1 – Tra<b>duz</b>ca',\n",
       " 'T01-No me has <b>di</b>cho si te gus<b>tó</b> la <b>sal</b>sa de ca<b>ca</b>o y guin<b>di</b>llas.',\n",
       " 'T02-¿Te atre<b>vis</b>te a to<b>mar</b> choco<b>la</b>te a<b>mar</b>go, pi<b>can</b>te y sin a<b>zú</b>car?',\n",
       " 'T03-¡Qué va! Me dio <b>as</b>co y no lo pro<b>bé</b>.',\n",
       " 'T04-Pues a lo me<b>jor</b> es<b>tá</b> muy <b>ri</b>co, <b>pe</b>ro pre<b>fie</b>ro un choco<b>la</b>te con <b>chu</b>rros.',\n",
       " 'T05-<b>E</b>cho de <b>me</b>nos la co<b>ci</b>na mexi<b>ca</b>na.']"
      ]
     },
     "execution_count": 51,
     "metadata": {},
     "output_type": "execute_result"
    }
   ],
   "source": [
    "sentences"
   ]
  },
  {
   "cell_type": "code",
   "execution_count": 52,
   "id": "ad7c76d0-2323-4026-aab1-13b32fdd53dc",
   "metadata": {},
   "outputs": [
    {
     "name": "stdout",
     "output_type": "stream",
     "text": [
      "0 N52-Lec<b>ción</b> cin<b>cuen</b>ta y dos\n",
      "1 S00-TITLE-La co<b>ci</b>na mexi<b>ca</b>na\n",
      "2 S01-No me has <b>di</b>cho <b>na</b>da de la co<b>ci</b>na mexi<b>ca</b>na\n",
      "3 S02-¿O a lo me<b>jor</b> no te atre<b>vis</b>te a pro<b>bar</b>la?\n",
      "4 S03-¡Por su<b>pues</b>to que la pro<b>bé</b>! Me gus<b>tó</b> <b>so</b>bre <b>to</b>do el <b>mo</b>le es <b>u</b>na <b>sal</b>sa de ca<b>ca</b>o y guin<b>di</b>llas.\n",
      "5 S04-¿Choco<b>la</b>te pi<b>can</b>te? ¿No te <mark class='V' title='3ème personne du singulier du passé simple de dar : dio et non pas di.'>dio</mark> <b>as</b>co?\n",
      "6 S05-¡Qué va! ¡Es<b>tá</b> muy <b>ri</b>co! Lo a<b>mar</b>go va muy bien con lo pi<b>can</b>te.\n",
      "7 S06-Los <b>pue</b>blos precolom<b>bi</b>nos ha<b>cí</b>an <b>u</b>na be<b>bi</b>da <b>ro</b>ja con el ca<b>ca</b>o.\n",
      "8 S07-¡Por <b>e</b>so los conquista<b>do</b>res cre<b>ye</b>ron que be<b>bí</b>an <b>san</b>gre!\n",
      "9 S08-¿<b>Pe</b>ro <b>nun</b>ca lo <mark class='V' title='3ème personne du pluriel du présent du verbe tomar.'><b>to</b>man</mark> <b></b><b>dul</b>ce?\n",
      "10 S09-Sí, <b>cla</b>ro, hoy en <b>dí</b>a tam<b>bién</b> <mark class='G' title='cacao est complément d&#039;objet indirect donc=&#034;le&#034; et non pas &#034;lo&#034;'>le</mark> <b>e</b>chan a<b>zú</b>car,\n",
      "11 S10-<b>pe</b>ro en la tradi<b>ción</b> in<b>dí</b>gena no se <mark class='G' title='cacao est complément d&#039;objet indirect donc=&#034;le&#034; et non pas &#034;lo&#034;'>le</mark> a<b>ña</b>de <b>le</b>che, <b>so</b>lo <b>a</b>gua.\n",
      "12 S11-<b></b><mark class='O'><b></b><mark class='O' title='Meriendas est féminin, donc nuestras et non pas nuestros.'><b>Nues</b>tras</mark></mark> me<b>rien</b>das sí que las e<b>cha</b>ba de <b>me</b>nos un buen choco<b>la</b>te con <b>chu</b>rros. . .\n",
      "13 S12-<b>E</b>so, <b>pa</b>ra meren<b>dar</b>, ¡<b>na</b>da <b>co</b>mo Es<b>pa</b>ña!\n",
      "14 T00-TRANSLATE-Ejer<b>ci</b>cio 1 – Tra<b>duz</b>ca\n",
      "15 T01-No me has <b>di</b>cho si te gus<b>tó</b> la <b>sal</b>sa de ca<b>ca</b>o y guin<b>di</b>llas.\n",
      "16 T02-¿Te atre<b>vis</b>te a to<b>mar</b> choco<b>la</b>te a<b>mar</b>go, pi<b>can</b>te y sin a<b>zú</b>car?\n",
      "17 T03-¡Qué va! Me dio <b>as</b>co y no lo pro<b>bé</b>.\n",
      "18 T04-Pues a lo me<b>jor</b> es<b>tá</b> muy <b>ri</b>co, <b>pe</b>ro pre<b>fie</b>ro un choco<b>la</b>te con <b>chu</b>rros.\n",
      "19 T05-<b>E</b>cho de <b>me</b>nos la co<b>ci</b>na mexi<b>ca</b>na.\n"
     ]
    }
   ],
   "source": [
    "for index, sentence in enumerate(sentences):\n",
    "    print(index, sentence)"
   ]
  },
  {
   "cell_type": "code",
   "execution_count": 53,
   "id": "a74114ba-a672-4f91-acd1-56f56245106b",
   "metadata": {},
   "outputs": [
    {
     "name": "stdout",
     "output_type": "stream",
     "text": [
      "2024-09-07 14:17:48,735 INFO sqlalchemy.engine.Engine BEGIN (implicit)\n",
      "2024-09-07 14:17:48,736 INFO sqlalchemy.engine.Engine SELECT marked_sentences.id, marked_sentences.sentence, marked_sentences.comment, marked_sentences.line, marked_sentences.session_id \n",
      "FROM marked_sentences\n",
      "2024-09-07 14:17:48,737 INFO sqlalchemy.engine.Engine [cached since 1689s ago] ()\n",
      "Sentence(id=1, line=2, sentence =\"S01-Fe<b>li</b>pe, <b>gua</b>po, <b>da</b>me diez <b>lon</b>chas de <mark class='A'>ja<b>món</b></mark><b></b> de york, por fa<b>vor</b>.\", comment=None)\n",
      "Sentence(id=2, line=5, sentence =\"S04-Y <mark class='E'>yo</mark> se la di a <b>es</b>ta se<b>ño</b>ra.\", comment=None)\n",
      "Sentence(id=3, line=6, sentence =\"S05-O <b>se</b>a, que a<b>ho</b>ra me <b>to</b>ca a mí, y us<b>ted</b> ¡a ha<b>cer</b> <b>co</b>la i<b>gual</b> que <mark class='O'>los</mark> de<b>más</b>!\", comment=None)\n",
      "Sentence(id=4, line=10, sentence =\"S09-<b></b><mark class='E'><b>Ven</b>ga</mark>, <b>pa</b>se, <b>pe</b>ro que <b>se</b>a <b>rá</b>pido.\", comment=None)\n",
      "Sentence(id=5, line=15, sentence =\"T01-Te <mark class='E'>pe<b>dí</b></mark><b></b> diez <b>lon</b>chas de ja<b>món</b> de York y <b>me</b>dio <b>ki</b>lo de <b>car</b>ne pi<b>ca</b>da.\", comment=None)\n",
      "Sentence(id=6, line=19, sentence =\"T05-Me <b></b><mark class='G'><b>ha</b>cen</mark> <b>fal</b>ta <b>cua</b>tro <b>mus</b>los de <b>po</b>llo y dos pe<b>chu</b>gas.\", comment=None)\n",
      "Sentence(id=7, line=7, sentence =\"S06-¡En <b>to</b>das <b>par</b>tes! Pri<b>me</b>ro en <mark class='O'>el</mark> Ca<b>ri</b>be.\", comment=None)\n",
      "Sentence(id=8, line=20, sentence =\"T03-Via<b>ja</b>mos por <b>to</b>do el pa<b>ís</b> y <b></b><mark class='V'><b>fui</b>mos</mark> a <b>to</b>das <b>par</b>tes.\", comment=None)\n",
      "Sentence(id=9, line=21, sentence =\"T04-No me gus<b>tó</b> Ciu<b>dad</b> de <b>Mé</b>xico, <b>pe</b>ro la <b>gen</b>te <mark class='V'>me pare<b>ció</b></mark><b></b> encanta<b>do</b>ra.\", comment=None)\n",
      "Sentence(id=15, line=1, sentence =\"S00-TITLE-¡<mark class='O' title='      '>Bienve<b>ni</b>da</mark>!\", comment=None)\n",
      "Sentence(id=16, line=5, sentence =\"S04-No, no soy madri<b>le</b>ña. Soy <mark class='O' title='andaluza avec z'>anda<b>lu</b>za</mark>, de Se<b>vi</b>lla.\", comment=None)\n",
      "Sentence(id=17, line=6, sentence =\"S05-¡Pues <mark class='O' title='bienvenida et non pas benvenida.'>bienve<b>ni</b>da</mark> a Ma<b>drid</b>, mo<b>re</b>na!\", comment=None)\n",
      "2024-09-07 14:17:48,741 INFO sqlalchemy.engine.Engine ROLLBACK\n"
     ]
    }
   ],
   "source": [
    "stmt = select(MarkedSentence)\n",
    "with Session(engine) as session:\n",
    "    for entry in session.scalars(stmt):\n",
    "        print(entry)\n"
   ]
  },
  {
   "cell_type": "code",
   "execution_count": 46,
   "id": "e4f810dd-7717-441c-9821-8ef2446642b0",
   "metadata": {},
   "outputs": [
    {
     "name": "stdout",
     "output_type": "stream",
     "text": [
      "2024-09-07 14:13:30,110 INFO sqlalchemy.engine.Engine BEGIN (implicit)\n",
      "2024-09-07 14:13:30,113 INFO sqlalchemy.engine.Engine SELECT marked_sentences.id, marked_sentences.sentence, marked_sentences.comment, marked_sentences.line, marked_sentences.session_id \n",
      "FROM marked_sentences\n",
      "2024-09-07 14:13:30,114 INFO sqlalchemy.engine.Engine [cached since 1431s ago] ()\n",
      "2024-09-07 14:13:30,118 INFO sqlalchemy.engine.Engine SELECT lesson_sessions.id AS lesson_sessions_id, lesson_sessions.lesson AS lesson_sessions_lesson, lesson_sessions.date_time AS lesson_sessions_date_time, lesson_sessions.errors_number AS lesson_sessions_errors_number \n",
      "FROM lesson_sessions \n",
      "WHERE lesson_sessions.id = ?\n",
      "2024-09-07 14:13:30,119 INFO sqlalchemy.engine.Engine [cached since 1320s ago] (1,)\n",
      "50\n",
      "50\n",
      "50\n",
      "50\n",
      "50\n",
      "50\n",
      "2024-09-07 14:13:30,121 INFO sqlalchemy.engine.Engine SELECT lesson_sessions.id AS lesson_sessions_id, lesson_sessions.lesson AS lesson_sessions_lesson, lesson_sessions.date_time AS lesson_sessions_date_time, lesson_sessions.errors_number AS lesson_sessions_errors_number \n",
      "FROM lesson_sessions \n",
      "WHERE lesson_sessions.id = ?\n",
      "2024-09-07 14:13:30,121 INFO sqlalchemy.engine.Engine [cached since 1320s ago] (3,)\n",
      "51\n",
      "51\n",
      "51\n",
      "2024-09-07 14:13:30,123 INFO sqlalchemy.engine.Engine SELECT lesson_sessions.id AS lesson_sessions_id, lesson_sessions.lesson AS lesson_sessions_lesson, lesson_sessions.date_time AS lesson_sessions_date_time, lesson_sessions.errors_number AS lesson_sessions_errors_number \n",
      "FROM lesson_sessions \n",
      "WHERE lesson_sessions.id = ?\n",
      "2024-09-07 14:13:30,123 INFO sqlalchemy.engine.Engine [cached since 1320s ago] (5,)\n",
      "3\n",
      "3\n",
      "3\n",
      "2024-09-07 14:13:30,124 INFO sqlalchemy.engine.Engine COMMIT\n"
     ]
    }
   ],
   "source": [
    "stmt = select(MarkedSentence)\n",
    "with Session(engine) as session:\n",
    "    for entry in session.scalars(stmt):\n",
    "        try:\n",
    "            print(entry.session.lesson)\n",
    "        except:\n",
    "            print(\"----entry without lesson : \", entry.id)\n",
    "            session.execute(delete(MarkedSentence).where(MarkedSentence.id == entry.id))\n",
    "    session.commit()\n",
    "\n",
    "            #session.execute(delete(entry))\n",
    "            "
   ]
  },
  {
   "cell_type": "code",
   "execution_count": null,
   "id": "a110169c-7878-47fb-bce6-d0be74e7671a",
   "metadata": {},
   "outputs": [],
   "source": []
  },
  {
   "cell_type": "code",
   "execution_count": null,
   "id": "f30c3f3f-7865-4786-a572-2e7cfe9b57ce",
   "metadata": {},
   "outputs": [],
   "source": []
  },
  {
   "cell_type": "code",
   "execution_count": 54,
   "id": "5fec2476-9045-488e-b580-ff57d7cb68bc",
   "metadata": {},
   "outputs": [],
   "source": [
    "from selection import store_lesson_errors"
   ]
  },
  {
   "cell_type": "code",
   "execution_count": null,
   "id": "8dc406a6-3b20-409b-b0da-c9174ce72476",
   "metadata": {},
   "outputs": [],
   "source": []
  },
  {
   "cell_type": "code",
   "execution_count": 55,
   "id": "cec0de19-8465-4430-871e-adb2e3e2c1d0",
   "metadata": {},
   "outputs": [
    {
     "name": "stdout",
     "output_type": "stream",
     "text": [
      "-------------- In store_lesson_errors\n",
      "---- 0 ------ N52-Lec<b>ción</b> cin<b>cuen</b>ta y dos\n",
      "---- 1 ------ S00-TITLE-La co<b>ci</b>na mexi<b>ca</b>na\n",
      "---- 2 ------ S01-No me has <b>di</b>cho <b>na</b>da de la co<b>ci</b>na mexi<b>ca</b>na\n",
      "---- 3 ------ S02-¿O a lo me<b>jor</b> no te atre<b>vis</b>te a pro<b>bar</b>la?\n",
      "---- 4 ------ S03-¡Por su<b>pues</b>to que la pro<b>bé</b>! Me gus<b>tó</b> <b>so</b>bre <b>to</b>do el <b>mo</b>le es <b>u</b>na <b>sal</b>sa de ca<b>ca</b>o y guin<b>di</b>llas.\n",
      "---- 5 ------ S04-¿Choco<b>la</b>te pi<b>can</b>te? ¿No te <mark class='V' title='3ème personne du singulier du passé simple de dar : dio et non pas di.'>dio</mark> <b>as</b>co?\n",
      "---- 6 ------ S05-¡Qué va! ¡Es<b>tá</b> muy <b>ri</b>co! Lo a<b>mar</b>go va muy bien con lo pi<b>can</b>te.\n",
      "---- 7 ------ S06-Los <b>pue</b>blos precolom<b>bi</b>nos ha<b>cí</b>an <b>u</b>na be<b>bi</b>da <b>ro</b>ja con el ca<b>ca</b>o.\n",
      "---- 8 ------ S07-¡Por <b>e</b>so los conquista<b>do</b>res cre<b>ye</b>ron que be<b>bí</b>an <b>san</b>gre!\n",
      "---- 9 ------ S08-¿<b>Pe</b>ro <b>nun</b>ca lo <mark class='V' title='3ème personne du pluriel du présent du verbe tomar.'><b>to</b>man</mark> <b></b><b>dul</b>ce?\n",
      "---- 10 ------ S09-Sí, <b>cla</b>ro, hoy en <b>dí</b>a tam<b>bién</b> <mark class='G' title='cacao est complément d&#039;objet indirect donc=&#034;le&#034; et non pas &#034;lo&#034;'>le</mark> <b>e</b>chan a<b>zú</b>car,\n",
      "---- 11 ------ S10-<b>pe</b>ro en la tradi<b>ción</b> in<b>dí</b>gena no se <mark class='G' title='cacao est complément d&#039;objet indirect donc=&#034;le&#034; et non pas &#034;lo&#034;'>le</mark> a<b>ña</b>de <b>le</b>che, <b>so</b>lo <b>a</b>gua.\n",
      "---- 12 ------ S11-<b></b><mark class='O'><b></b><mark class='O' title='Meriendas est féminin, donc nuestras et non pas nuestros.'><b>Nues</b>tras</mark></mark> me<b>rien</b>das sí que las e<b>cha</b>ba de <b>me</b>nos un buen choco<b>la</b>te con <b>chu</b>rros. . .\n",
      "---- 13 ------ S12-<b>E</b>so, <b>pa</b>ra meren<b>dar</b>, ¡<b>na</b>da <b>co</b>mo Es<b>pa</b>ña!\n",
      "---- 14 ------ T00-TRANSLATE-Ejer<b>ci</b>cio 1 – Tra<b>duz</b>ca\n",
      "---- 15 ------ T01-No me has <b>di</b>cho si te gus<b>tó</b> la <b>sal</b>sa de ca<b>ca</b>o y guin<b>di</b>llas.\n",
      "---- 16 ------ T02-¿Te atre<b>vis</b>te a to<b>mar</b> choco<b>la</b>te a<b>mar</b>go, pi<b>can</b>te y sin a<b>zú</b>car?\n",
      "---- 17 ------ T03-¡Qué va! Me dio <b>as</b>co y no lo pro<b>bé</b>.\n",
      "---- 18 ------ T04-Pues a lo me<b>jor</b> es<b>tá</b> muy <b>ri</b>co, <b>pe</b>ro pre<b>fie</b>ro un choco<b>la</b>te con <b>chu</b>rros.\n",
      "---- 19 ------ T05-<b>E</b>cho de <b>me</b>nos la co<b>ci</b>na mexi<b>ca</b>na.\n",
      "2024-09-07 14:18:05,413 INFO sqlalchemy.engine.Engine BEGIN (implicit)\n",
      "2024-09-07 14:18:05,415 INFO sqlalchemy.engine.Engine INSERT INTO lesson_sessions (lesson, date_time, errors_number) VALUES (?, ?, ?)\n",
      "2024-09-07 14:18:05,416 INFO sqlalchemy.engine.Engine [cached since 2141s ago] (52, '2024-09-06 23:30:29.589456', 5)\n",
      "2024-09-07 14:18:05,419 INFO sqlalchemy.engine.Engine INSERT INTO marked_sentences (sentence, comment, line, session_id) VALUES (?, ?, ?, ?) RETURNING id\n",
      "2024-09-07 14:18:05,419 INFO sqlalchemy.engine.Engine [cached since 2141s ago (insertmanyvalues) 1/5 (ordered; batch not supported)] (\"S04-¿Choco<b>la</b>te pi<b>can</b>te? ¿No te <mark class='V' title='3ème personne du singulier du passé simple de dar : dio et non pas di.'>dio</mark> <b>as</b>co?\", None, 5, 6)\n",
      "2024-09-07 14:18:05,421 INFO sqlalchemy.engine.Engine INSERT INTO marked_sentences (sentence, comment, line, session_id) VALUES (?, ?, ?, ?) RETURNING id\n",
      "2024-09-07 14:18:05,421 INFO sqlalchemy.engine.Engine [insertmanyvalues 2/5 (ordered; batch not supported)] (\"S08-¿<b>Pe</b>ro <b>nun</b>ca lo <mark class='V' title='3ème personne du pluriel du présent du verbe tomar.'><b>to</b>man</mark> <b></b><b>dul</b>ce?\", None, 9, 6)\n",
      "2024-09-07 14:18:05,422 INFO sqlalchemy.engine.Engine INSERT INTO marked_sentences (sentence, comment, line, session_id) VALUES (?, ?, ?, ?) RETURNING id\n",
      "2024-09-07 14:18:05,423 INFO sqlalchemy.engine.Engine [insertmanyvalues 3/5 (ordered; batch not supported)] (\"S09-Sí, <b>cla</b>ro, hoy en <b>dí</b>a tam<b>bién</b> <mark class='G' title='cacao est complément d&#039;objet indirect donc=&#034;le&#034; et non pas &#034;lo&#034;'>le</mark> <b>e</b>chan a<b>zú</b>car,\", None, 10, 6)\n",
      "2024-09-07 14:18:05,424 INFO sqlalchemy.engine.Engine INSERT INTO marked_sentences (sentence, comment, line, session_id) VALUES (?, ?, ?, ?) RETURNING id\n",
      "2024-09-07 14:18:05,425 INFO sqlalchemy.engine.Engine [insertmanyvalues 4/5 (ordered; batch not supported)] (\"S10-<b>pe</b>ro en la tradi<b>ción</b> in<b>dí</b>gena no se <mark class='G' title='cacao est complément d&#039;objet indirect donc=&#034;le&#034; et non pas &#034;lo&#034;'>le</mark> a<b>ña</b>de <b>le</b>che, <b>so</b>lo <b>a</b>gua.\", None, 11, 6)\n",
      "2024-09-07 14:18:05,426 INFO sqlalchemy.engine.Engine INSERT INTO marked_sentences (sentence, comment, line, session_id) VALUES (?, ?, ?, ?) RETURNING id\n",
      "2024-09-07 14:18:05,426 INFO sqlalchemy.engine.Engine [insertmanyvalues 5/5 (ordered; batch not supported)] (\"S11-<b></b><mark class='O'><b></b><mark class='O' title='Meriendas est féminin, donc nuestras et non pas nuestros.'><b>Nues</b>tras</mark></mark> me<b>rien</b>das sí que las e<b>cha</b>ba de <b>me</b>nos un buen choco<b>la</b>te con <b>chu</b>rros. . .\", None, 12, 6)\n",
      "2024-09-07 14:18:05,428 INFO sqlalchemy.engine.Engine COMMIT\n"
     ]
    }
   ],
   "source": [
    "store_lesson_errors(52, sentences, marked_lines_numbers, datetime.datetime(2024, 9, 6, 23, 30, 29, 589456))"
   ]
  },
  {
   "cell_type": "code",
   "execution_count": 56,
   "id": "d58ea373-9e63-4def-821d-82232dff6bdd",
   "metadata": {},
   "outputs": [
    {
     "data": {
      "text/plain": [
       "<function sqlalchemy.sql._selectable_constructors.select(*entities: '_ColumnsClauseArgument[Any]', **__kw: 'Any') -> 'Select[Any]'>"
      ]
     },
     "execution_count": 56,
     "metadata": {},
     "output_type": "execute_result"
    }
   ],
   "source": [
    "select"
   ]
  },
  {
   "cell_type": "code",
   "execution_count": 57,
   "id": "5c3593ee-39ec-4525-a646-842ce204ac4c",
   "metadata": {},
   "outputs": [],
   "source": [
    "from database import MarkedSentence"
   ]
  },
  {
   "cell_type": "code",
   "execution_count": 58,
   "id": "edbcfd8e-a9b9-4bfb-bb78-2e33b75d40f5",
   "metadata": {},
   "outputs": [
    {
     "name": "stdout",
     "output_type": "stream",
     "text": [
      "2024-09-07 14:18:15,921 INFO sqlalchemy.engine.Engine BEGIN (implicit)\n",
      "2024-09-07 14:18:15,923 INFO sqlalchemy.engine.Engine SELECT lesson_sessions.id, lesson_sessions.lesson, lesson_sessions.date_time, lesson_sessions.errors_number \n",
      "FROM lesson_sessions \n",
      "WHERE lesson_sessions.lesson = ?\n",
      "2024-09-07 14:18:15,924 INFO sqlalchemy.engine.Engine [cached since 2141s ago] (52,)\n",
      "2024-09-07 14:18:15,927 INFO sqlalchemy.engine.Engine SELECT marked_sentences.id AS marked_sentences_id, marked_sentences.sentence AS marked_sentences_sentence, marked_sentences.comment AS marked_sentences_comment, marked_sentences.line AS marked_sentences_line, marked_sentences.session_id AS marked_sentences_session_id \n",
      "FROM marked_sentences \n",
      "WHERE ? = marked_sentences.session_id\n",
      "2024-09-07 14:18:15,928 INFO sqlalchemy.engine.Engine [cached since 2388s ago] (6,)\n",
      "[Sentence(id=18, line=5, sentence =\"S04-¿Choco<b>la</b>te pi<b>can</b>te? ¿No te <mark class='V' title='3ème personne du singulier du passé simple de dar : dio et non pas di.'>dio</mark> <b>as</b>co?\", comment=None), Sentence(id=19, line=9, sentence =\"S08-¿<b>Pe</b>ro <b>nun</b>ca lo <mark class='V' title='3ème personne du pluriel du présent du verbe tomar.'><b>to</b>man</mark> <b></b><b>dul</b>ce?\", comment=None), Sentence(id=20, line=10, sentence =\"S09-Sí, <b>cla</b>ro, hoy en <b>dí</b>a tam<b>bién</b> <mark class='G' title='cacao est complément d&#039;objet indirect donc=&#034;le&#034; et non pas &#034;lo&#034;'>le</mark> <b>e</b>chan a<b>zú</b>car,\", comment=None), Sentence(id=21, line=11, sentence =\"S10-<b>pe</b>ro en la tradi<b>ción</b> in<b>dí</b>gena no se <mark class='G' title='cacao est complément d&#039;objet indirect donc=&#034;le&#034; et non pas &#034;lo&#034;'>le</mark> a<b>ña</b>de <b>le</b>che, <b>so</b>lo <b>a</b>gua.\", comment=None), Sentence(id=22, line=12, sentence =\"S11-<b></b><mark class='O'><b></b><mark class='O' title='Meriendas est féminin, donc nuestras et non pas nuestros.'><b>Nues</b>tras</mark></mark> me<b>rien</b>das sí que las e<b>cha</b>ba de <b>me</b>nos un buen choco<b>la</b>te con <b>chu</b>rros. . .\", comment=None)]\n",
      "2024-09-07 14:18:15,930 INFO sqlalchemy.engine.Engine ROLLBACK\n"
     ]
    }
   ],
   "source": [
    "stmt = select(LessonSession).where(\n",
    "                        LessonSession.lesson == 52)\n",
    "\n",
    "with Session(engine) as session:\n",
    "    for entry in session.scalars(stmt):\n",
    "        print(entry.errored_sentences)\n",
    "        sfdb = entry.errored_sentences"
   ]
  },
  {
   "cell_type": "code",
   "execution_count": 59,
   "id": "1f90ac53-9663-40af-b261-b905de61139f",
   "metadata": {},
   "outputs": [
    {
     "data": {
      "text/plain": [
       "[Sentence(id=18, line=5, sentence =\"S04-¿Choco<b>la</b>te pi<b>can</b>te? ¿No te <mark class='V' title='3ème personne du singulier du passé simple de dar : dio et non pas di.'>dio</mark> <b>as</b>co?\", comment=None),\n",
       " Sentence(id=19, line=9, sentence =\"S08-¿<b>Pe</b>ro <b>nun</b>ca lo <mark class='V' title='3ème personne du pluriel du présent du verbe tomar.'><b>to</b>man</mark> <b></b><b>dul</b>ce?\", comment=None),\n",
       " Sentence(id=20, line=10, sentence =\"S09-Sí, <b>cla</b>ro, hoy en <b>dí</b>a tam<b>bién</b> <mark class='G' title='cacao est complément d&#039;objet indirect donc=&#034;le&#034; et non pas &#034;lo&#034;'>le</mark> <b>e</b>chan a<b>zú</b>car,\", comment=None),\n",
       " Sentence(id=21, line=11, sentence =\"S10-<b>pe</b>ro en la tradi<b>ción</b> in<b>dí</b>gena no se <mark class='G' title='cacao est complément d&#039;objet indirect donc=&#034;le&#034; et non pas &#034;lo&#034;'>le</mark> a<b>ña</b>de <b>le</b>che, <b>so</b>lo <b>a</b>gua.\", comment=None),\n",
       " Sentence(id=22, line=12, sentence =\"S11-<b></b><mark class='O'><b></b><mark class='O' title='Meriendas est féminin, donc nuestras et non pas nuestros.'><b>Nues</b>tras</mark></mark> me<b>rien</b>das sí que las e<b>cha</b>ba de <b>me</b>nos un buen choco<b>la</b>te con <b>chu</b>rros. . .\", comment=None)]"
      ]
     },
     "execution_count": 59,
     "metadata": {},
     "output_type": "execute_result"
    }
   ],
   "source": [
    "sfdb"
   ]
  },
  {
   "cell_type": "code",
   "execution_count": 60,
   "id": "cb18b601-9643-4f86-8e06-64c83af61d7f",
   "metadata": {},
   "outputs": [
    {
     "data": {
      "text/plain": [
       "Sentence(id=19, line=9, sentence =\"S08-¿<b>Pe</b>ro <b>nun</b>ca lo <mark class='V' title='3ème personne du pluriel du présent du verbe tomar.'><b>to</b>man</mark> <b></b><b>dul</b>ce?\", comment=None)"
      ]
     },
     "execution_count": 60,
     "metadata": {},
     "output_type": "execute_result"
    }
   ],
   "source": [
    "sfdb[1]"
   ]
  },
  {
   "cell_type": "code",
   "execution_count": 61,
   "id": "9d690ea6-7718-4fc5-b79b-6854ce8a98f0",
   "metadata": {},
   "outputs": [
    {
     "name": "stdout",
     "output_type": "stream",
     "text": [
      "S09-Sí, <b>cla</b>ro, hoy en <b>dí</b>a tam<b>bién</b> <mark class='G' title='cacao est complément d&#039;objet indirect donc=&#034;le&#034; et non pas &#034;lo&#034;'>le</mark> <b>e</b>chan a<b>zú</b>car,\n"
     ]
    }
   ],
   "source": [
    "print(sfdb[2].sentence)"
   ]
  },
  {
   "cell_type": "code",
   "execution_count": 35,
   "id": "21e5ec99-2be8-4dc9-a123-2adb747dc1bb",
   "metadata": {},
   "outputs": [
    {
     "data": {
      "text/plain": [
       "5"
      ]
     },
     "execution_count": 35,
     "metadata": {},
     "output_type": "execute_result"
    }
   ],
   "source": [
    "len(sfdb)"
   ]
  },
  {
   "cell_type": "code",
   "execution_count": null,
   "id": "359633fd-2154-4f80-9d86-3cf5a52cd2a7",
   "metadata": {},
   "outputs": [],
   "source": []
  }
 ],
 "metadata": {
  "kernelspec": {
   "display_name": "Python 3 (ipykernel)",
   "language": "python",
   "name": "python3"
  },
  "language_info": {
   "codemirror_mode": {
    "name": "ipython",
    "version": 3
   },
   "file_extension": ".py",
   "mimetype": "text/x-python",
   "name": "python",
   "nbconvert_exporter": "python",
   "pygments_lexer": "ipython3",
   "version": "3.11.3"
  }
 },
 "nbformat": 4,
 "nbformat_minor": 5
}
