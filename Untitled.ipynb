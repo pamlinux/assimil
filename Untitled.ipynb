{
 "cells": [
  {
   "cell_type": "code",
   "execution_count": 1,
   "id": "7edf0c00-2ce2-427e-a519-4573ee3f4161",
   "metadata": {},
   "outputs": [],
   "source": [
    "from tonic_accent import get_sentences"
   ]
  },
  {
   "cell_type": "code",
   "execution_count": 2,
   "id": "fc128eef-738e-4601-abd6-ec7280bea622",
   "metadata": {},
   "outputs": [],
   "source": [
    "sentences = get_sentences(2)"
   ]
  },
  {
   "cell_type": "code",
   "execution_count": 3,
   "id": "716efa12-14aa-4ff2-94fd-d4337f0e0135",
   "metadata": {},
   "outputs": [
    {
     "data": {
      "text/plain": [
       "['N2-Lección segunda',\n",
       " 'S00-TITLE-¿Dónde vives? ',\n",
       " 'S01-¿De dóndeeres, Montse? ',\n",
       " 'S02-Mi familia es de Andalucía. ',\n",
       " 'S03-Pero yo nací en Barcelona. ',\n",
       " 'S04-¿Y vives en Barcelona? ',\n",
       " 'S05-Vivo en las afueras de Barcelona. ',\n",
       " 'T00-TRANSLATE-Ejercicio 1 – Traduzca',\n",
       " 'T01-¿De dónde es Montse? ',\n",
       " 'T02-¿De dónde eres? ',\n",
       " 'T03-Vivo en Barcelona. ',\n",
       " 'T04-¿Vives en las afueras? ',\n",
       " 'T05-Nací en Andalucía. ']"
      ]
     },
     "execution_count": 3,
     "metadata": {},
     "output_type": "execute_result"
    }
   ],
   "source": [
    "sentences"
   ]
  },
  {
   "cell_type": "code",
   "execution_count": 4,
   "id": "dba17df3-292e-4eab-b41b-a6954a60a15e",
   "metadata": {},
   "outputs": [],
   "source": [
    "from tonic_accent import global_word_dict"
   ]
  },
  {
   "cell_type": "code",
   "execution_count": 6,
   "id": "c6759cc0-5496-4932-aa9b-ca3b001bc7ba",
   "metadata": {},
   "outputs": [
    {
     "ename": "KeyError",
     "evalue": "b'en'",
     "output_type": "error",
     "traceback": [
      "\u001b[0;31m---------------------------------------------------------------------------\u001b[0m",
      "\u001b[0;31mKeyError\u001b[0m                                  Traceback (most recent call last)",
      "File \u001b[0;32m~/.pyenv/versions/3.11.3/lib/python3.11/shelve.py:111\u001b[0m, in \u001b[0;36mShelf.__getitem__\u001b[0;34m(self, key)\u001b[0m\n\u001b[1;32m    110\u001b[0m \u001b[38;5;28;01mtry\u001b[39;00m:\n\u001b[0;32m--> 111\u001b[0m     value \u001b[38;5;241m=\u001b[39m \u001b[38;5;28;43mself\u001b[39;49m\u001b[38;5;241;43m.\u001b[39;49m\u001b[43mcache\u001b[49m\u001b[43m[\u001b[49m\u001b[43mkey\u001b[49m\u001b[43m]\u001b[49m\n\u001b[1;32m    112\u001b[0m \u001b[38;5;28;01mexcept\u001b[39;00m \u001b[38;5;167;01mKeyError\u001b[39;00m:\n",
      "\u001b[0;31mKeyError\u001b[0m: 'en'",
      "\nDuring handling of the above exception, another exception occurred:\n",
      "\u001b[0;31mKeyError\u001b[0m                                  Traceback (most recent call last)",
      "Cell \u001b[0;32mIn[6], line 1\u001b[0m\n\u001b[0;32m----> 1\u001b[0m \u001b[43mglobal_word_dict\u001b[49m\u001b[43m[\u001b[49m\u001b[38;5;124;43m\"\u001b[39;49m\u001b[38;5;124;43men\u001b[39;49m\u001b[38;5;124;43m\"\u001b[39;49m\u001b[43m]\u001b[49m\n",
      "File \u001b[0;32m~/.pyenv/versions/3.11.3/lib/python3.11/shelve.py:113\u001b[0m, in \u001b[0;36mShelf.__getitem__\u001b[0;34m(self, key)\u001b[0m\n\u001b[1;32m    111\u001b[0m     value \u001b[38;5;241m=\u001b[39m \u001b[38;5;28mself\u001b[39m\u001b[38;5;241m.\u001b[39mcache[key]\n\u001b[1;32m    112\u001b[0m \u001b[38;5;28;01mexcept\u001b[39;00m \u001b[38;5;167;01mKeyError\u001b[39;00m:\n\u001b[0;32m--> 113\u001b[0m     f \u001b[38;5;241m=\u001b[39m BytesIO(\u001b[38;5;28;43mself\u001b[39;49m\u001b[38;5;241;43m.\u001b[39;49m\u001b[43mdict\u001b[49m\u001b[43m[\u001b[49m\u001b[43mkey\u001b[49m\u001b[38;5;241;43m.\u001b[39;49m\u001b[43mencode\u001b[49m\u001b[43m(\u001b[49m\u001b[38;5;28;43mself\u001b[39;49m\u001b[38;5;241;43m.\u001b[39;49m\u001b[43mkeyencoding\u001b[49m\u001b[43m)\u001b[49m\u001b[43m]\u001b[49m)\n\u001b[1;32m    114\u001b[0m     value \u001b[38;5;241m=\u001b[39m Unpickler(f)\u001b[38;5;241m.\u001b[39mload()\n\u001b[1;32m    115\u001b[0m     \u001b[38;5;28;01mif\u001b[39;00m \u001b[38;5;28mself\u001b[39m\u001b[38;5;241m.\u001b[39mwriteback:\n",
      "\u001b[0;31mKeyError\u001b[0m: b'en'"
     ]
    }
   ],
   "source": [
    "global_word_dict[\"en\"]"
   ]
  },
  {
   "cell_type": "code",
   "execution_count": null,
   "id": "b4c9228e-0792-41e5-9567-e6afd01fb504",
   "metadata": {},
   "outputs": [],
   "source": []
  },
  {
   "cell_type": "code",
   "execution_count": null,
   "id": "8b1e9abe-9594-432a-8bac-5fed2f7e62fe",
   "metadata": {},
   "outputs": [],
   "source": []
  },
  {
   "cell_type": "code",
   "execution_count": null,
   "id": "44b41afc-fea2-4093-801a-7b73d23b41d7",
   "metadata": {},
   "outputs": [],
   "source": []
  },
  {
   "cell_type": "code",
   "execution_count": null,
   "id": "fb85d6e6-599e-424d-ace9-1384026a448f",
   "metadata": {},
   "outputs": [],
   "source": []
  },
  {
   "cell_type": "code",
   "execution_count": null,
   "id": "e9b2df63-7e58-4f0e-ad18-6ac497b644de",
   "metadata": {},
   "outputs": [],
   "source": []
  },
  {
   "cell_type": "code",
   "execution_count": null,
   "id": "46160276-2fb4-45a2-9c47-68edd31253cf",
   "metadata": {},
   "outputs": [],
   "source": []
  },
  {
   "cell_type": "code",
   "execution_count": null,
   "id": "bf1d1785-11f1-415a-be9e-34a7e7b75271",
   "metadata": {},
   "outputs": [],
   "source": []
  },
  {
   "cell_type": "code",
   "execution_count": null,
   "id": "35ad62b1-fe9b-475d-9fab-0276831f5b53",
   "metadata": {},
   "outputs": [],
   "source": []
  },
  {
   "cell_type": "code",
   "execution_count": 8,
   "id": "043f1a1c-8ad5-4546-aca5-e8759226c705",
   "metadata": {},
   "outputs": [],
   "source": [
    "parser = MyHTMLParser()"
   ]
  },
  {
   "cell_type": "code",
   "execution_count": 9,
   "id": "1693e06c-4e56-4361-a166-73a49a74604f",
   "metadata": {},
   "outputs": [],
   "source": [
    "parser.analyze_lesson(lesson)"
   ]
  },
  {
   "cell_type": "code",
   "execution_count": 10,
   "id": "a9d50043-6d65-45e5-bfb8-fffb5149d43e",
   "metadata": {},
   "outputs": [
    {
     "data": {
      "text/plain": [
       "[' N7-Lección séptima ',\n",
       " ' S00-TITLE-Diálogo de repaso ',\n",
       " ' S01-Hola, ¿qué tal, guapo?  ',\n",
       " ' S02-Bien, gracias. . . ¿Y usted?  ',\n",
       " ' S03-Muy bien, pero ¡háblame de tú, por favor!  ',\n",
       " ' S04-Sí, claro Yo soy Javier. ¿Y tú?  ',\n",
       " ' S05-Encantada. Me llamo Montse. ¿Eres de Barcelona?  ',\n",
       " ' S06-No, vivo en Barcelona pero nací en Madrid.  ',\n",
       " ' S07-¿Y hablas catalán?  ',\n",
       " ' S08-Lo leo, pero no lo hablo muy bien ',\n",
       " ' S09-Te invito al cine, ¿vale?  ',\n",
       " ' S10-Ejem gracias, pero estoy pachucho.  ']"
      ]
     },
     "execution_count": 10,
     "metadata": {},
     "output_type": "execute_result"
    }
   ],
   "source": [
    "parser.sentences"
   ]
  },
  {
   "cell_type": "code",
   "execution_count": 11,
   "id": "200ec2a7-4350-4c46-96b8-d9762bc330f5",
   "metadata": {},
   "outputs": [],
   "source": [
    "word_dict = parser.get_lesson_word_dict()"
   ]
  },
  {
   "cell_type": "code",
   "execution_count": 12,
   "id": "dd542bb0-93d3-40cc-8503-5e575ca27072",
   "metadata": {},
   "outputs": [
    {
     "data": {
      "text/plain": [
       "'Sentences/L008-Spanish ASSIMIL'"
      ]
     },
     "execution_count": 12,
     "metadata": {},
     "output_type": "execute_result"
    }
   ],
   "source": [
    "lesson_nb = 8\n",
    "lesson_directory = f\"Sentences/L{str(lesson_nb).zfill(3)}-Spanish ASSIMIL\"\n",
    "lesson_directory"
   ]
  },
  {
   "cell_type": "code",
   "execution_count": 16,
   "id": "9cd695e4-dc33-45a6-858b-b3d85f6febd4",
   "metadata": {},
   "outputs": [
    {
     "name": "stdout",
     "output_type": "stream",
     "text": [
      "Attribute Error with file : .DS_Store\n"
     ]
    },
    {
     "data": {
      "text/plain": [
       "('N8-Lección octava',\n",
       " 'S00-TITLE-¡Feliz cumpleaños, abuela!',\n",
       " 'S01-¿Qué quieres por tu cumpleaños, abuela?',\n",
       " 'S02-¡No quiero tarta, no quiero regalos, no quiero nada! Solo quiero ser más joven…',\n",
       " 'S03-No eres vieja, mujer, solo tienes ochenta años. ',\n",
       " 'S04-¿Qué? ¡No tengo ochenta años, tengo setenta y nueve!',\n",
       " 'S05-¿Ves? Eres todavía joven. Entonces, ¿no quieres nada?',\n",
       " 'S06-Bueno… ¿Por qué no una botellita de coñac? Es un regalo útil, ¿no?',\n",
       " 'T00-TRANSLATE-Ejercicio 1 – Traduzca',\n",
       " 'T01-Quiero un regalo útil.',\n",
       " 'T02-¡Feliz cumpleaños, abuelo! ',\n",
       " 'T03-Soy viejo: tengo ochenta y nueve años.',\n",
       " 'T04-¿Qué quieres?',\n",
       " 'T05-Tienes una mujer joven.')"
      ]
     },
     "execution_count": 16,
     "metadata": {},
     "output_type": "execute_result"
    }
   ],
   "source": [
    "sentences = get_sentences(lesson_nb)\n",
    "sentences"
   ]
  },
  {
   "cell_type": "code",
   "execution_count": 14,
   "id": "45859fe9-9ea9-4ce8-959e-651935b649fb",
   "metadata": {},
   "outputs": [
    {
     "name": "stdout",
     "output_type": "stream",
     "text": [
      "['T00-TRANSLATE.mp3', '.DS_Store', 'S00-TITLE.mp3', 'S04.mp3', 'S05.mp3', 'S06.mp3', 'S02.mp3', 'S03.mp3', 'S01.mp3', 'T01.mp3', 'T02.mp3', 'T03.mp3', 'T04.mp3', 'N8.mp3', 'T05.mp3']\n",
      "T00-TRANSLATE.mp3\n",
      ".DS_Store\n"
     ]
    },
    {
     "ename": "AttributeError",
     "evalue": "'NoneType' object has no attribute 'tag'",
     "output_type": "error",
     "traceback": [
      "\u001b[0;31m---------------------------------------------------------------------------\u001b[0m",
      "\u001b[0;31mAttributeError\u001b[0m                            Traceback (most recent call last)",
      "Cell \u001b[0;32mIn[14], line 6\u001b[0m\n\u001b[1;32m      4\u001b[0m \u001b[38;5;28mprint\u001b[39m(fn)\n\u001b[1;32m      5\u001b[0m full_path \u001b[38;5;241m=\u001b[39m os\u001b[38;5;241m.\u001b[39mpath\u001b[38;5;241m.\u001b[39mjoin(dirpath, fn)\n\u001b[0;32m----> 6\u001b[0m sentences_with_path\u001b[38;5;241m.\u001b[39mappend([full_path, \u001b[43mget_title\u001b[49m\u001b[43m(\u001b[49m\u001b[43mfull_path\u001b[49m\u001b[43m)\u001b[49m])\n",
      "File \u001b[0;32m~/assimil/tonic_accent.py:34\u001b[0m, in \u001b[0;36mget_title\u001b[0;34m(filename)\u001b[0m\n\u001b[1;32m     32\u001b[0m \u001b[38;5;28;01mdef\u001b[39;00m \u001b[38;5;21mget_title\u001b[39m(filename):\n\u001b[1;32m     33\u001b[0m     audiofile \u001b[38;5;241m=\u001b[39m eyed3\u001b[38;5;241m.\u001b[39mload(filename)\n\u001b[0;32m---> 34\u001b[0m     \u001b[38;5;28;01mreturn\u001b[39;00m \u001b[43maudiofile\u001b[49m\u001b[38;5;241;43m.\u001b[39;49m\u001b[43mtag\u001b[49m\u001b[38;5;241m.\u001b[39mtitle\n",
      "\u001b[0;31mAttributeError\u001b[0m: 'NoneType' object has no attribute 'tag'"
     ]
    }
   ],
   "source": [
    "for (dirpath, dirnames, filenames) in w:\n",
    "    print(filenames)\n",
    "    for fn in filenames:\n",
    "        print(fn)\n",
    "        full_path = os.path.join(dirpath, fn)\n",
    "        sentences_with_path.append([full_path, get_title(full_path)])\n",
    "        "
   ]
  },
  {
   "cell_type": "code",
   "execution_count": 21,
   "id": "614438cd-3cf5-4051-8468-2eeb27ea8ec5",
   "metadata": {},
   "outputs": [
    {
     "data": {
      "text/plain": [
       "[['Sentences/L007-Spanish ASSIMIL/N7.mp3', 'N7-Lección séptima'],\n",
       " ['Sentences/L007-Spanish ASSIMIL/S00-TITLE.mp3',\n",
       "  'S00-TITLE-Diálogo de repaso'],\n",
       " ['Sentences/L007-Spanish ASSIMIL/S08.mp3',\n",
       "  'S08-Lo leo, pero no lo hablo muy bien…'],\n",
       " ['Sentences/L007-Spanish ASSIMIL/S09.mp3', 'S09-Te invito al cine, ¿vale?'],\n",
       " ['Sentences/L007-Spanish ASSIMIL/S10.mp3',\n",
       "  'S10-Ejem… gracias, pero estoy pachucho.'],\n",
       " ['Sentences/L007-Spanish ASSIMIL/S04.mp3',\n",
       "  'S04-Sí, claro… Yo soy Javier. ¿Y tú?'],\n",
       " ['Sentences/L007-Spanish ASSIMIL/S05.mp3',\n",
       "  'S05-Encantada. Me llamo Montse. ¿Eres de Barcelona?'],\n",
       " ['Sentences/L007-Spanish ASSIMIL/S07.mp3', 'S07-¿Y hablas catalán?'],\n",
       " ['Sentences/L007-Spanish ASSIMIL/S06.mp3',\n",
       "  'S06-No, vivo en Barcelona pero nací en Madrid.'],\n",
       " ['Sentences/L007-Spanish ASSIMIL/S02.mp3', 'S02-Bien, gracias... ¿Y usted?'],\n",
       " ['Sentences/L007-Spanish ASSIMIL/S03.mp3',\n",
       "  'S03-Muy bien, pero ¡háblame de tú, por favor!'],\n",
       " ['Sentences/L007-Spanish ASSIMIL/S01.mp3', 'S01-Hola, ¿qué tal, guapo?']]"
      ]
     },
     "execution_count": 21,
     "metadata": {},
     "output_type": "execute_result"
    }
   ],
   "source": [
    "sentences_with_path"
   ]
  },
  {
   "cell_type": "code",
   "execution_count": 13,
   "id": "850b4682-65c6-4254-be81-3026b19e22bf",
   "metadata": {},
   "outputs": [],
   "source": [
    "import re\n",
    "m = \"L[\\d]{3}\"\n",
    "p = re.compile(m)"
   ]
  },
  {
   "cell_type": "code",
   "execution_count": 26,
   "id": "c07723eb-a61b-4851-8af3-d2a33c72e29e",
   "metadata": {},
   "outputs": [],
   "source": [
    "import os\n",
    "file_list = []\n",
    "w = os.walk(\"Sentences/html\")\n",
    "for (dirpath, dirnames, filenames) in w:\n",
    "    for fn in filenames:\n",
    "        if p.match(fn):\n",
    "            file_list.append(fn)"
   ]
  },
  {
   "cell_type": "code",
   "execution_count": 27,
   "id": "9a9901f7-eeb7-4708-8cfc-6300898d985c",
   "metadata": {},
   "outputs": [
    {
     "data": {
      "text/plain": [
       "['L005.html',\n",
       " 'L008.html',\n",
       " 'L004.html',\n",
       " 'L003.html',\n",
       " 'L002.html',\n",
       " 'L001.html',\n",
       " 'L007.html',\n",
       " 'L006.html']"
      ]
     },
     "execution_count": 27,
     "metadata": {},
     "output_type": "execute_result"
    }
   ],
   "source": [
    "file_list"
   ]
  },
  {
   "cell_type": "code",
   "execution_count": 20,
   "id": "191cddf3-1cff-4bd5-a608-271acf70ba90",
   "metadata": {},
   "outputs": [
    {
     "data": {
      "text/plain": [
       "<re.Match object; span=(0, 4), match='L008'>"
      ]
     },
     "execution_count": 20,
     "metadata": {},
     "output_type": "execute_result"
    }
   ],
   "source": [
    "p.match(file_list[1])"
   ]
  },
  {
   "cell_type": "code",
   "execution_count": 25,
   "id": "20bfc9d8-d891-4129-8b59-1e6027941b6d",
   "metadata": {},
   "outputs": [
    {
     "data": {
      "text/plain": [
       "<re.Match object; span=(0, 4), match='L008'>"
      ]
     },
     "execution_count": 25,
     "metadata": {},
     "output_type": "execute_result"
    }
   ],
   "source": [
    "p.match(\"L008.html\")"
   ]
  },
  {
   "cell_type": "code",
   "execution_count": 2,
   "id": "48326f53-8530-407f-8392-7316c4ab80be",
   "metadata": {},
   "outputs": [
    {
     "name": "stdout",
     "output_type": "stream",
     "text": [
      "L001.html  :  1428\n",
      "L002.html  :  2081\n",
      "L003.html  :  2141\n",
      "L004.html  :  2099\n",
      "L005.html  :  805\n",
      "L006.html  :  785\n",
      "L007.html  :  744\n",
      "L008.html  :  1026\n"
     ]
    }
   ],
   "source": [
    "from tonic_accent import get_html_lesson_list"
   ]
  },
  {
   "cell_type": "code",
   "execution_count": 5,
   "id": "d88aa9fa-6b9c-4f8b-b360-2c71b6059888",
   "metadata": {},
   "outputs": [],
   "source": [
    "l=get_html_lesson_list()"
   ]
  },
  {
   "cell_type": "code",
   "execution_count": 6,
   "id": "57843e58-186f-49b3-ae4b-bede2a57579e",
   "metadata": {},
   "outputs": [
    {
     "data": {
      "text/plain": [
       "['L001.html',\n",
       " 'L002.html',\n",
       " 'L003.html',\n",
       " 'L004.html',\n",
       " 'L005.html',\n",
       " 'L006.html',\n",
       " 'L007.html',\n",
       " 'L008.html']"
      ]
     },
     "execution_count": 6,
     "metadata": {},
     "output_type": "execute_result"
    }
   ],
   "source": [
    "sorted(l)"
   ]
  },
  {
   "cell_type": "code",
   "execution_count": 1,
   "id": "c065f05c-b854-40d7-8f83-3164153e7404",
   "metadata": {},
   "outputs": [
    {
     "name": "stdout",
     "output_type": "stream",
     "text": [
      "L001.html  :  1428\n",
      "L002.html  :  2081\n",
      "L003.html  :  2141\n",
      "L004.html  :  2099\n",
      "L005.html  :  805\n",
      "L006.html  :  785\n",
      "L007.html  :  744\n",
      "L008.html  :  1026\n",
      "Attribute Error with file : .DS_Store\n",
      "N8-Lección octava\n",
      "S00-TITLE-¡Feliz cumpleaños, abuela!\n",
      "S01-¿Qué quieres por tu cumpleaños, abuela?\n",
      "S02-¡No quiero tarta, no quiero regalos, no quiero nada! Solo quiero ser más joven…\n",
      "S03-No eres vieja, mujer, solo tienes ochenta años. \n",
      "S04-¿Qué? ¡No tengo ochenta años, tengo setenta y nueve!\n",
      "S05-¿Ves? Eres todavía joven. Entonces, ¿no quieres nada?\n",
      "S06-Bueno… ¿Por qué no una botellita de coñac? Es un regalo útil, ¿no?\n",
      "T00-TRANSLATE-Ejercicio 1 – Traduzca\n",
      "T01-Quiero un regalo útil.\n",
      "T02-¡Feliz cumpleaños, abuelo! \n",
      "T03-Soy viejo: tengo ochenta y nueve años.\n",
      "T04-¿Qué quieres?\n",
      "T05-Tienes una mujer joven.\n"
     ]
    }
   ],
   "source": [
    "from tonic_accent import get_html_lesson\n",
    "lesseon8_html = get_html_lesson(8)"
   ]
  },
  {
   "cell_type": "code",
   "execution_count": 2,
   "id": "721d267b-48b8-4cd7-ac4f-3270ef17f4fc",
   "metadata": {},
   "outputs": [
    {
     "data": {
      "text/plain": [
       "'<p>N8-Lec<b>ción</b> oc<b>ta</b>va</p><p>S00-TITLE-¡Fe<b>liz</b> cumple<b>a</b>ños, a<b>bue</b>la! </p><p>S01-¿Qué <b>quie</b>res por tu cumple<b>a</b>ños, a<b>bue</b>la? </p><p>S02-¡No quiero <b>tar</b>ta, no quiero re<b>ga</b>los, no quiero <b>na</b>da! Solo quiero ser más <b>jo</b>ven</p><p>S03-No <b>e</b>res <b>vie</b>ja, mu<b>jer</b>, solo <b>tie</b>nes <b>ochen</b>ta <b>a</b>ños. </p><p>S04-¿Qué? ¡No tengo <b>ochen</b>ta <b>a</b>ños, tengo se<b>ten</b>ta y <b>nue</b>ve! </p><p>S05-¿Ves? <b>E</b>res toda<b>ví</b>a <b>jo</b>ven. En<b>ton</b>ces, ¿no <b>quie</b>res <b>na</b>da? </p><p>S06-Bueno ¿Por qué no <b>u</b>na bote<b>lli</b>ta de co<b>ñac</b>? Es un re<b>ga</b>lo <b>ú</b>til, ¿no? </p><p>T00-TRANSLATE-Ejer<b>ci</b>cio 1 – Tra<b>du</b>zca</p><p>T01-Quiero un re<b>ga</b>lo <b>ú</b>til. </p><p>T02-¡Fe<b>liz</b> cumple<b>a</b>ños, abuelo! </p><p>T03-Soy viejo tengo <b>ochen</b>ta y <b>nue</b>ve <b>a</b>ños. </p><p>T04-¿Qué <b>quie</b>res? </p><p>T05-<b>Tie</b>nes <b>u</b>na mu<b>jer</b> <b>jo</b>ven. </p>'"
      ]
     },
     "execution_count": 2,
     "metadata": {},
     "output_type": "execute_result"
    }
   ],
   "source": [
    "lesseon8_html"
   ]
  },
  {
   "cell_type": "code",
   "execution_count": 2,
   "id": "603e13fc-aa6d-4678-b31c-e55a58ebd771",
   "metadata": {},
   "outputs": [
    {
     "name": "stdout",
     "output_type": "stream",
     "text": [
      "L001.html  :  1428\n",
      "L002.html  :  2081\n",
      "L003.html  :  2141\n",
      "L004.html  :  2099\n",
      "L005.html  :  805\n",
      "L006.html  :  785\n",
      "L007.html  :  744\n",
      "L008.html  :  1026\n"
     ]
    }
   ],
   "source": [
    "from tonic_accent import store_lesson"
   ]
  },
  {
   "cell_type": "code",
   "execution_count": 3,
   "id": "9399b47d-3017-4389-9fa5-f69959b46756",
   "metadata": {},
   "outputs": [],
   "source": [
    "lesson = \"\"\"        \n",
    "\n",
    "          <p> N8-Lec<b>ción</b> oc<b>ta</b>va </p>\n",
    "\n",
    "        \n",
    "\n",
    "          <p> S00-TITLE-¡Fe<b>liz</b> cumple<b>a</b>ños, a<b>bue</b>la!  </p>\n",
    "\n",
    "        \n",
    "\n",
    "          <p> S01-¿Qué <b>quie</b>res por tu cumple<b>a</b>ños, a<b>bue</b>la?  </p>\n",
    "\n",
    "        \n",
    "\n",
    "          <p> S02-¡No quiero <b>tar</b>ta, no quiero re<b>ga</b>los, no quiero <b>na</b>da! Solo quiero ser más <b>jo</b>ven </p>\n",
    "\n",
    "        \n",
    "\n",
    "          <p> S03-No <b>e</b>res <b>vie</b>ja, mu<b>jer</b>, solo <b>tie</b>nes <b>ochen</b>ta <b>a</b>ños.  </p>\n",
    "\n",
    "        \n",
    "\n",
    "          <p> S04-¿Qué? ¡No tengo <b>ochen</b>ta <b>a</b>ños, tengo se<b>ten</b>ta y <b>nue</b>ve!  </p>\n",
    "\n",
    "        \n",
    "\n",
    "          <p> S05-¿Ves? <b>E</b>res toda<b>ví</b>a <b>jo</b>ven. En<b>ton</b>ces, ¿no <b>quie</b>res <b>na</b>da?  </p>\n",
    "\n",
    "        \n",
    "\n",
    "          <p> S06-Bueno ¿Por qué no <b>u</b>na bote<b>lli</b>ta de co<b>ñac</b>? Es un re<b>ga</b>lo <b>ú</b>til, ¿no?  </p>\n",
    "\n",
    "        \n",
    "\n",
    "          <p> T00-TRANSLATE-Ejer<b>ci</b>cio 1 – Tra<b>du</b>zca </p>\n",
    "\n",
    "        \n",
    "\n",
    "          <p> T01-Quiero un re<b>ga</b>lo <b>ú</b>til.  </p>\n",
    "\n",
    "        \n",
    "\n",
    "          <p> T02-¡Fe<b>liz</b> cumple<b>a</b>ños, abuelo!  </p>\n",
    "\n",
    "        \n",
    "\n",
    "          <p> T03-Soy viejo tengo <b>ochen</b>ta y <b>nue</b>ve <b>a</b>ños.  </p>\n",
    "\n",
    "        \n",
    "\n",
    "          <p> T04-¿Qué <b>quie</b>res?  </p>\n",
    "\n",
    "        \n",
    "\n",
    "          <p> T05-<b>Tie</b>nes <b>u</b>na mu<b>jer</b> <b>jo</b>ven.  </p>\"\"\"\n",
    "\n",
    "        \n"
   ]
  },
  {
   "cell_type": "code",
   "execution_count": 4,
   "id": "653892f2-2d2b-4cb6-9c53-8f2e6cc8a59b",
   "metadata": {},
   "outputs": [
    {
     "data": {
      "text/plain": [
       "'        \\n\\n          <p> N8-Lec<b>ción</b> oc<b>ta</b>va </p>\\n\\n        \\n\\n          <p> S00-TITLE-¡Fe<b>liz</b> cumple<b>a</b>ños, a<b>bue</b>la!  </p>\\n\\n        \\n\\n          <p> S01-¿Qué <b>quie</b>res por tu cumple<b>a</b>ños, a<b>bue</b>la?  </p>\\n\\n        \\n\\n          <p> S02-¡No quiero <b>tar</b>ta, no quiero re<b>ga</b>los, no quiero <b>na</b>da! Solo quiero ser más <b>jo</b>ven </p>\\n\\n        \\n\\n          <p> S03-No <b>e</b>res <b>vie</b>ja, mu<b>jer</b>, solo <b>tie</b>nes <b>ochen</b>ta <b>a</b>ños.  </p>\\n\\n        \\n\\n          <p> S04-¿Qué? ¡No tengo <b>ochen</b>ta <b>a</b>ños, tengo se<b>ten</b>ta y <b>nue</b>ve!  </p>\\n\\n        \\n\\n          <p> S05-¿Ves? <b>E</b>res toda<b>ví</b>a <b>jo</b>ven. En<b>ton</b>ces, ¿no <b>quie</b>res <b>na</b>da?  </p>\\n\\n        \\n\\n          <p> S06-Bueno ¿Por qué no <b>u</b>na bote<b>lli</b>ta de co<b>ñac</b>? Es un re<b>ga</b>lo <b>ú</b>til, ¿no?  </p>\\n\\n        \\n\\n          <p> T00-TRANSLATE-Ejer<b>ci</b>cio 1 – Tra<b>du</b>zca </p>\\n\\n        \\n\\n          <p> T01-Quiero un re<b>ga</b>lo <b>ú</b>til.  </p>\\n\\n        \\n\\n          <p> T02-¡Fe<b>liz</b> cumple<b>a</b>ños, abuelo!  </p>\\n\\n        \\n\\n          <p> T03-Soy viejo tengo <b>ochen</b>ta y <b>nue</b>ve <b>a</b>ños.  </p>\\n\\n        \\n\\n          <p> T04-¿Qué <b>quie</b>res?  </p>\\n\\n        \\n\\n          <p> T05-<b>Tie</b>nes <b>u</b>na mu<b>jer</b> <b>jo</b>ven.  </p>'"
      ]
     },
     "execution_count": 4,
     "metadata": {},
     "output_type": "execute_result"
    }
   ],
   "source": [
    "lesson"
   ]
  },
  {
   "cell_type": "code",
   "execution_count": 5,
   "id": "c4a8bcd4-ecb0-4f80-b88d-6848fa297a9d",
   "metadata": {},
   "outputs": [
    {
     "data": {
      "text/plain": [
       "'<p>N8-Lec<b>ción</b> oc<b>ta</b>va</p><p>S00-TITLE-¡Fe<b>liz</b> cumple<b>a</b>ños, a<b>bue</b>la! </p><p>S01-¿Qué <b>quie</b>res por tu cumple<b>a</b>ños, a<b>bue</b>la? </p><p>S02-¡No quiero <b>tar</b>ta, no quiero re<b>ga</b>los, no quiero <b>na</b>da! Solo quiero ser más <b>jo</b>ven</p><p>S03-No <b>e</b>res <b>vie</b>ja, mu<b>jer</b>, solo <b>tie</b>nes <b>ochen</b>ta <b>a</b>ños. </p><p>S04-¿Qué? ¡No tengo <b>ochen</b>ta <b>a</b>ños, tengo se<b>ten</b>ta y <b>nue</b>ve! </p><p>S05-¿Ves? <b>E</b>res toda<b>ví</b>a <b>jo</b>ven. En<b>ton</b>ces, ¿no <b>quie</b>res <b>na</b>da? </p><p>S06-Bueno ¿Por qué no <b>u</b>na bote<b>lli</b>ta de co<b>ñac</b>? Es un re<b>ga</b>lo <b>ú</b>til, ¿no? </p><p>T00-TRANSLATE-Ejer<b>ci</b>cio 1 – Tra<b>du</b>zca</p><p>T01-Quiero un re<b>ga</b>lo <b>ú</b>til. </p><p>T02-¡Fe<b>liz</b> cumple<b>a</b>ños, abuelo! </p><p>T03-Soy viejo tengo <b>ochen</b>ta y <b>nue</b>ve <b>a</b>ños. </p><p>T04-¿Qué <b>quie</b>res? </p><p>T05-<b>Tie</b>nes <b>u</b>na mu<b>jer</b> <b>jo</b>ven. </p>'"
      ]
     },
     "execution_count": 5,
     "metadata": {},
     "output_type": "execute_result"
    }
   ],
   "source": [
    "store_lesson(10, lesson)"
   ]
  },
  {
   "cell_type": "code",
   "execution_count": 1,
   "id": "b2af243f-bdbb-48b5-a310-62db582a9902",
   "metadata": {},
   "outputs": [
    {
     "data": {
      "text/plain": [
       "'Sentences/L010.html'"
      ]
     },
     "execution_count": 1,
     "metadata": {},
     "output_type": "execute_result"
    }
   ],
   "source": [
    "lesson_nb = 10\n",
    "filename = f\"Sentences/L{str(lesson_nb).zfill(3)}.html\"\n",
    "filename"
   ]
  },
  {
   "cell_type": "code",
   "execution_count": 6,
   "id": "565a7e63-e235-43d2-b565-33f10b862e25",
   "metadata": {},
   "outputs": [],
   "source": [
    "from tonic_accent import get_html_lesson_list"
   ]
  },
  {
   "cell_type": "code",
   "execution_count": 7,
   "id": "df43def0-2669-4d59-9cd5-3adf50325161",
   "metadata": {},
   "outputs": [
    {
     "data": {
      "text/plain": [
       "['L005.html',\n",
       " 'L009.html',\n",
       " 'L008.html',\n",
       " '.DS_Store',\n",
       " 'L004.html',\n",
       " 'L003.html',\n",
       " 'L002.html',\n",
       " 'L001.html',\n",
       " 'L007.html',\n",
       " 'L006.html']"
      ]
     },
     "execution_count": 7,
     "metadata": {},
     "output_type": "execute_result"
    }
   ],
   "source": [
    "get_html_lesson_list()"
   ]
  },
  {
   "cell_type": "code",
   "execution_count": 3,
   "id": "ddf67c22-a70c-47dc-a2f9-6b0b6f054557",
   "metadata": {},
   "outputs": [],
   "source": [
    "a={1 : \"Pierre\", 2 : \"Alain\", 3 : \"Moret\"}"
   ]
  },
  {
   "cell_type": "code",
   "execution_count": 4,
   "id": "108d91f2-2edf-4a9f-a989-e9b95245c013",
   "metadata": {},
   "outputs": [
    {
     "data": {
      "text/plain": [
       "{1: 'Pierre', 2: 'Alain', 3: 'Moret'}"
      ]
     },
     "execution_count": 4,
     "metadata": {},
     "output_type": "execute_result"
    }
   ],
   "source": [
    "a"
   ]
  },
  {
   "cell_type": "code",
   "execution_count": 5,
   "id": "0784d10f-3df0-4a18-9e54-29b3a861041d",
   "metadata": {},
   "outputs": [],
   "source": [
    "b={1 : \"kfjm\", 2 : \"kejfekjh\"}"
   ]
  },
  {
   "cell_type": "code",
   "execution_count": 6,
   "id": "2229c59c-8eb1-4cee-9eb8-5ab648758ad0",
   "metadata": {},
   "outputs": [],
   "source": [
    "b.update(a)"
   ]
  },
  {
   "cell_type": "code",
   "execution_count": 7,
   "id": "bac68d85-a75d-407a-ad5e-bc6cc4a1befa",
   "metadata": {},
   "outputs": [
    {
     "data": {
      "text/plain": [
       "{1: 'Pierre', 2: 'Alain', 3: 'Moret'}"
      ]
     },
     "execution_count": 7,
     "metadata": {},
     "output_type": "execute_result"
    }
   ],
   "source": [
    "b"
   ]
  },
  {
   "cell_type": "code",
   "execution_count": 8,
   "id": "25c5a2d1-451d-4c65-8b83-4ae2b52b7d42",
   "metadata": {},
   "outputs": [
    {
     "name": "stdout",
     "output_type": "stream",
     "text": [
      "D.update([E, ]**F) -> None.  Update D from dict/iterable E and F.\n",
      "If E is present and has a .keys() method, then does:  for k in E: D[k] = E[k]\n",
      "If E is present and lacks a .keys() method, then does:  for k, v in E: D[k] = v\n",
      "In either case, this is followed by: for k in F:  D[k] = F[k]\n"
     ]
    }
   ],
   "source": [
    "print(b.update.__doc__)"
   ]
  },
  {
   "cell_type": "code",
   "execution_count": 10,
   "id": "70d97fd0-be81-438e-add1-4e7378665d6d",
   "metadata": {},
   "outputs": [
    {
     "name": "stdout",
     "output_type": "stream",
     "text": [
      "1 2\n",
      "3 4\n",
      "5 6\n"
     ]
    }
   ],
   "source": [
    "for k, v in [(1, 2), (3, 4), (5, 6)]:\n",
    "    print(k, v)"
   ]
  },
  {
   "cell_type": "code",
   "execution_count": 11,
   "id": "7b19744c-4f24-435f-a38d-af1c5306697f",
   "metadata": {},
   "outputs": [
    {
     "name": "stderr",
     "output_type": "stream",
     "text": [
      "/var/folders/2l/kkk_s1ks6vs8jf0jbdk9q0n40000gn/T/ipykernel_59422/3609978653.py:1: DeprecationWarning: 'cgi' is deprecated and slated for removal in Python 3.13\n",
      "  from cgi import test\n"
     ]
    }
   ],
   "source": [
    "from cgi import test"
   ]
  },
  {
   "cell_type": "code",
   "execution_count": 12,
   "id": "6eac16a0-0caa-42b5-ae60-9dd5c68c8a27",
   "metadata": {},
   "outputs": [
    {
     "data": {
      "text/plain": [
       "<function cgi.test(environ=environ({'MANPATH': '/opt/homebrew/share/man::', 'TERM_PROGRAM': 'Apple_Terminal', 'SSL_CERT_FILE': '/Users/pam/emsdk/python/3.9.2_64bit/lib/python3.9/site-packages/certifi/cacert.pem', 'PYENV_ROOT': '/Users/pam/.pyenv', 'TERM': 'xterm-color', 'SHELL': '/bin/zsh', 'HOMEBREW_REPOSITORY': '/opt/homebrew', 'TMPDIR': '/var/folders/2l/kkk_s1ks6vs8jf0jbdk9q0n40000gn/T/', 'EMSDK': '/Users/pam/emsdk', 'TERM_PROGRAM_VERSION': '453', 'TERM_SESSION_ID': 'DA9AAA2B-00F8-4F5B-B57B-282002FE8B0B', 'PYENV_VERSION': 'symbolic', 'EMSDK_NODE': '/Users/pam/emsdk/node/14.18.2_64bit/bin/node', 'USER': 'pam', 'SSH_AUTH_SOCK': '/private/tmp/com.apple.launchd.gscJRqiBbt/Listeners', 'PYENV_DIR': '/Users/pam/assimil', 'PYENV_VIRTUALENV_INIT': '1', 'VIRTUAL_ENV': '/Users/pam/.pyenv/versions/3.11.3/envs/symbolic', 'PYENV_VIRTUAL_ENV': '/Users/pam/.pyenv/versions/3.11.3/envs/symbolic', 'PATH': '/Users/pam/.pyenv/versions/symbolic/bin:/opt/homebrew/Cellar/pyenv/2.3.17/libexec:/opt/homebrew/Cellar/pyenv/2.3.17/plugins/python-build/bin:/opt/homebrew/Cellar/pyenv-virtualenv/1.2.1/shims:/Users/pam/.pyenv/shims:/Users/pam/.pyenv/bin:/Users/pam/bin:/opt/homebrew/bin:/opt/homebrew/sbin:/Users/pam/emsdk:/Users/pam/emsdk/upstream/emscripten:/Users/pam/emsdk/node/14.18.2_64bit/bin:/usr/local/bin:/System/Cryptexes/App/usr/bin:/usr/bin:/bin:/usr/sbin:/sbin:/var/run/com.apple.security.cryptexd/codex.system/bootstrap/usr/local/bin:/var/run/com.apple.security.cryptexd/codex.system/bootstrap/usr/bin:/var/run/com.apple.security.cryptexd/codex.system/bootstrap/usr/appleinternal/bin:/Library/TeX/texbin:/Users/pam/.cargo/bin', 'LaunchInstanceID': '41418EFD-FDA9-4E57-A112-3F2711CF1978', '__CFBundleIdentifier': 'com.apple.Terminal', 'PWD': '/Users/pam/assimil', 'LANG': 'fr_CH.UTF-8', 'PYENV_HOOK_PATH': '/Users/pam/.pyenv/pyenv.d:/opt/homebrew/Cellar/pyenv/2.3.17/pyenv.d:/opt/homebrew/etc/pyenv.d:/etc/pyenv.d:/usr/lib/pyenv/hooks', '_OLD_VIRTUAL_PS1': '%n@%m %1~ %# ', 'EMSDK_PYTHON': '/Users/pam/emsdk/python/3.9.2_64bit/bin/python3', 'XPC_FLAGS': '0x0', 'XPC_SERVICE_NAME': '0', 'PYENV_SHELL': 'zsh', 'HOME': '/Users/pam', 'SHLVL': '1', 'HOMEBREW_PREFIX': '/opt/homebrew', 'LOGNAME': 'pam', 'INFOPATH': '/opt/homebrew/share/info:', 'HOMEBREW_CELLAR': '/opt/homebrew/Cellar', 'SECURITYSESSIONID': '186a2', '__CF_USER_TEXT_ENCODING': '0x1F5:0x0:0x12', 'PYDEVD_USE_FRAME_EVAL': 'NO', 'JPY_SESSION_NAME': '/Users/pam/assimil/Untitled.ipynb', 'JPY_PARENT_PID': '19432', 'CLICOLOR': '1', 'FORCE_COLOR': '1', 'CLICOLOR_FORCE': '1', 'PAGER': 'cat', 'GIT_PAGER': 'cat', 'MPLBACKEND': 'module://matplotlib_inline.backend_inline'}))>"
      ]
     },
     "execution_count": 12,
     "metadata": {},
     "output_type": "execute_result"
    }
   ],
   "source": [
    "test"
   ]
  },
  {
   "cell_type": "code",
   "execution_count": 24,
   "id": "617244e6-a8b2-4a25-ab3f-4e8f61e75298",
   "metadata": {},
   "outputs": [],
   "source": [
    "import shelve\n",
    "import sqlite3\n",
    "import time\n",
    "\n",
    "\n",
    "def test_sqlite3():\n",
    "    start_time = time.time()\n",
    "    conn = sqlite3.connect(\"debug.s3db\")\n",
    "    cur = conn.cursor()\n",
    "    cur.execute(\"CREATE TABLE IF NOT EXISTS [mydict] (\"\n",
    "                \"[key] VARCHAR(255) PRIMARY KEY NOT NULL, \"\n",
    "                \"[value] VARCHAR(255) NOT NULL)\")\n",
    "    for i in range(0, 1000000):\n",
    "        cur.execute(\"INSERT INTO [mydict] (key, value) VALUES (?, ?)\",\n",
    "                    (str(i), str(i*2)))\n",
    "    conn.commit()\n",
    "    cur.close()\n",
    "    conn.close()\n",
    "    print(\"--- %s seconds ---\" % (time.time() - start_time))\n",
    "   \n",
    "def test_shelve():\n",
    "    start_time = time.time()\n",
    "    d = shelve.open(\"debug.shelf\")\n",
    "    for i in range(0, 1000000):\n",
    "        d[str(i)] = str(i*2)\n",
    "    d.close()\n",
    "    print(\"--- %s seconds ---\" % (time.time() - start_time))\n"
   ]
  },
  {
   "cell_type": "code",
   "execution_count": 25,
   "id": "47a27c58-dfaf-4755-9a58-733e06b1dc1f",
   "metadata": {},
   "outputs": [
    {
     "name": "stdout",
     "output_type": "stream",
     "text": [
      "--- 3.0988609790802 seconds ---\n"
     ]
    }
   ],
   "source": [
    "test_shelve()"
   ]
  },
  {
   "cell_type": "code",
   "execution_count": 26,
   "id": "85858bd8-cda8-450e-840c-cc714583f5ff",
   "metadata": {},
   "outputs": [
    {
     "name": "stdout",
     "output_type": "stream",
     "text": [
      "--- 1.2058801651000977 seconds ---\n"
     ]
    }
   ],
   "source": [
    "test_sqlite3()"
   ]
  },
  {
   "cell_type": "code",
   "execution_count": null,
   "id": "5e054f8b-219f-4098-b98d-d5cf44d2e234",
   "metadata": {},
   "outputs": [],
   "source": []
  }
 ],
 "metadata": {
  "kernelspec": {
   "display_name": "Python 3 (ipykernel)",
   "language": "python",
   "name": "python3"
  },
  "language_info": {
   "codemirror_mode": {
    "name": "ipython",
    "version": 3
   },
   "file_extension": ".py",
   "mimetype": "text/x-python",
   "name": "python",
   "nbconvert_exporter": "python",
   "pygments_lexer": "ipython3",
   "version": "3.11.3"
  }
 },
 "nbformat": 4,
 "nbformat_minor": 5
}
