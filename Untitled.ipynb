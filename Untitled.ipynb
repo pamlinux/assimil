{
 "cells": [
  {
   "cell_type": "code",
   "execution_count": 1,
   "id": "7edf0c00-2ce2-427e-a519-4573ee3f4161",
   "metadata": {},
   "outputs": [
    {
     "name": "stdout",
     "output_type": "stream",
     "text": [
      "['L001.html', 'L002.html', 'L003.html', 'L004.html', 'L005.html', 'L006.html', 'L007.html', 'L008.html', 'L009.html']\n",
      "L001.html\n",
      "L001.html  :  1428\n",
      "L002.html\n",
      "L002.html  :  2081\n",
      "L003.html\n",
      "L003.html  :  2141\n",
      "L004.html\n",
      "L004.html  :  2099\n",
      "L005.html\n",
      "L005.html  :  812\n",
      "L006.html\n",
      "L006.html  :  785\n",
      "L007.html\n",
      "L007.html  :  744\n",
      "L008.html\n",
      "L008.html  :  1468\n",
      "------------------------\n",
      " S04-¿Qué? ¡No tengo ochenta años, tengo setenta y nueve!   [(' S04-¿Qué? ¡No ', False), ('ten', True), ('go ', False), ('ochen', True), ('ta ', False), ('a', True), ('ños, ', False), ('ten', True), ('go se', False), ('ten', True), ('ta y ', False), ('nue', True), ('ve!  ', False), ('\\n\\n        \\n\\n          ', False)] [('ten', True), ('go', False)]\n",
      "------------------------\n",
      "------------------------\n",
      " S04-¿Qué? ¡No tengo ochenta años, tengo setenta y nueve!   [(' S04-¿Qué? ¡No ', False), ('ten', True), ('go ', False), ('ochen', True), ('ta ', False), ('a', True), ('ños, ', False), ('ten', True), ('go se', False), ('ten', True), ('ta y ', False), ('nue', True), ('ve!  ', False), ('\\n\\n        \\n\\n          ', False)] [('ten', True), ('go', False)]\n",
      "------------------------\n",
      "------------------------\n",
      " T03-Soy viejo tengo ochenta y nueve años.   [(' T03-Soy ', False), ('vie', True), ('jo ', False), ('ten', True), ('go ', False), ('ochen', True), ('ta y ', False), ('nue', True), ('ve ', False), ('a', True), ('ños.  ', False), ('\\n\\n        \\n\\n          ', False)] [('ten', True), ('go', False)]\n",
      "------------------------\n",
      "L009.html\n",
      "L009.html  :  1038\n",
      "------------------------\n",
      "S02-Lo siento, caballero, no tengo cruasanes.  [('S02-Lo ', False), ('sien', True), ('to, caba', False), ('lle', True), ('ro, no tengo crua', False), ('sa', True), ('nes. ', False)] [('tengo', False)]\n",
      "------------------------\n",
      "------------------------\n",
      "T04-Tengo un tomate y aceite.  [('T04-Tengo un to', False), ('ma', True), ('te y a', False), ('ce', True), ('ite. ', False)] [('Tengo', False)]\n",
      "------------------------\n",
      "Attribute Error with file : .DS_Store\n",
      "N8-Lección octava\n",
      "S00-TITLE-¡Feliz cumpleaños, abuela!\n",
      "S01-¿Qué quieres por tu cumpleaños, abuela?\n",
      "S02-¡No quiero tarta, no quiero regalos, no quiero nada! Solo quiero ser más joven…\n",
      "S03-No eres vieja, mujer, solo tienes ochenta años. \n",
      "S04-¿Qué? ¡No tengo ochenta años, tengo setenta y nueve!\n",
      "S05-¿Ves? Eres todavía joven. Entonces, ¿no quieres nada?\n",
      "S06-Bueno… ¿Por qué no una botellita de coñac? Es un regalo útil, ¿no?\n",
      "T00-TRANSLATE-Ejercicio 1 – Traduzca\n",
      "T01-Quiero un regalo útil.\n",
      "T02-¡Feliz cumpleaños, abuelo! \n",
      "T03-Soy viejo: tengo ochenta y nueve años.\n",
      "T04-¿Qué quieres?\n",
      "T05-Tienes una mujer joven.\n"
     ]
    }
   ],
   "source": [
    "from tonic_accent import get_list_of_bold_sentences, get_sentences, get_title \n",
    "from tonic_accent import get_word_dict_from_html_files\n",
    "from lesson_parser import MyHTMLParser\n",
    "lesson_nb = 8\n",
    "list_of_bold_sentences = get_list_of_bold_sentences(lesson_nb)\n",
    "\n",
    "\n"
   ]
  },
  {
   "cell_type": "code",
   "execution_count": 2,
   "id": "9a1cf141-bdec-483f-875b-9ca90a5e323d",
   "metadata": {},
   "outputs": [
    {
     "data": {
      "text/plain": [
       "['N8-Lec<b>ción</b> oc<b>ta</b>va',\n",
       " 'S00-TITLE-¡Fe<b>liz</b> cumple<b>a</b>ños, a<b>bue</b>la! ',\n",
       " 'S01-¿Qué <b>quie</b>res por tu cumple<b>a</b>ños, a<b>bue</b>la? ',\n",
       " 'S02-¡No <b>quie</b>ro <b>tar</b>ta, no <b>quie</b>ro re<b>ga</b>los, no <b>quie</b>ro <b>na</b>da! <b>So</b>lo <b>quie</b>ro ser más <b>jo</b>ven',\n",
       " 'S03-No <b>e</b>res <b>vie</b>ja, mu<b>jer</b>, <b>so</b>lo <b>tie</b>nes <b>ochen</b>ta <b>a</b>ños. ',\n",
       " 'S04-¿Qué? ¡No tengo <b>ochen</b>ta <b>a</b>ños, tengo se<b>ten</b>ta y <b>nue</b>ve! ',\n",
       " 'S05-¿Ves? <b>E</b>res toda<b>ví</b>a <b>jo</b>ven. En<b>ton</b>ces, ¿no <b>quie</b>res <b>na</b>da? ',\n",
       " 'S06-<b>Bue</b>no ¿Por qué no <b>u</b>na bote<b>lli</b>ta de co<b>ñac</b>? Es un re<b>ga</b>lo <b>ú</b>til, ¿no? ',\n",
       " 'T00-TRANSLATE-Ejer<b>ci</b>cio 1 – Tra<b>du</b>zca',\n",
       " 'T01-<b>Quie</b>ro un re<b>ga</b>lo <b>ú</b>til. ',\n",
       " 'T02-¡Fe<b>liz</b> cumple<b>a</b>ños, <b>abue</b>lo! ',\n",
       " 'T03-Soy <b>vie</b>jo tengo <b>ochen</b>ta y <b>nue</b>ve <b>a</b>ños. ',\n",
       " 'T04-¿Qué <b>quie</b>res? ',\n",
       " 'T05-<b>Tie</b>nes <b>u</b>na mu<b>jer</b> <b>jo</b>ven. ']"
      ]
     },
     "execution_count": 2,
     "metadata": {},
     "output_type": "execute_result"
    }
   ],
   "source": [
    "list_of_bold_sentences"
   ]
  },
  {
   "cell_type": "code",
   "execution_count": null,
   "id": "aa77ad08-ec46-4d2a-8e6e-e2469a001b75",
   "metadata": {},
   "outputs": [],
   "source": []
  },
  {
   "cell_type": "code",
   "execution_count": 5,
   "id": "fb0e0f77-7d68-4bf1-9d1a-c2ab69376f9f",
   "metadata": {},
   "outputs": [
    {
     "data": {
      "text/plain": [
       "['L008.html']"
      ]
     },
     "execution_count": 5,
     "metadata": {},
     "output_type": "execute_result"
    }
   ],
   "source": [
    "fn = [f\"L{str(8).zfill(3)}.html\"]\n",
    "fn"
   ]
  },
  {
   "cell_type": "code",
   "execution_count": 6,
   "id": "715c063f-18f0-40d3-8b86-a6e246cab565",
   "metadata": {},
   "outputs": [
    {
     "name": "stdout",
     "output_type": "stream",
     "text": [
      "L008.html  :  1453\n"
     ]
    }
   ],
   "source": [
    "l8wd = get_word_dict_from_html_files(fn)"
   ]
  },
  {
   "cell_type": "code",
   "execution_count": 7,
   "id": "034518de-20d1-4b27-83be-c23c9ebbec5c",
   "metadata": {},
   "outputs": [
    {
     "data": {
      "text/plain": [
       "[('ten', True), ('go', False)]"
      ]
     },
     "execution_count": 7,
     "metadata": {},
     "output_type": "execute_result"
    }
   ],
   "source": [
    "l8wd[\"tengo\"]"
   ]
  },
  {
   "cell_type": "code",
   "execution_count": 8,
   "id": "5fef6658-eab5-4d83-bbe5-97561f7c4818",
   "metadata": {},
   "outputs": [],
   "source": [
    "parser = MyHTMLParser()"
   ]
  },
  {
   "cell_type": "code",
   "execution_count": 9,
   "id": "8ab2173d-c9eb-4a01-9725-fd245134d850",
   "metadata": {},
   "outputs": [],
   "source": [
    "from tonic_accent import word_dict"
   ]
  },
  {
   "cell_type": "code",
   "execution_count": 10,
   "id": "e15c6f87-27d0-4695-a2a3-e74b61c47e31",
   "metadata": {},
   "outputs": [
    {
     "data": {
      "text/plain": [
       "[('ten', True), ('go', False)]"
      ]
     },
     "execution_count": 10,
     "metadata": {},
     "output_type": "execute_result"
    }
   ],
   "source": [
    "word_dict[\"tengo\"]"
   ]
  },
  {
   "cell_type": "code",
   "execution_count": 11,
   "id": "e3b507e1-2b20-4176-916a-1f04d9fb185a",
   "metadata": {},
   "outputs": [],
   "source": [
    "def prettyfy (lesson_nb):\n",
    "    lesson_html = \"\"\n",
    "    list_of_bold_sentences = get_list_of_bold_sentences(lesson_nb)\n",
    "    for sentence in list_of_bold_sentences:\n",
    "        if sentence:\n",
    "            lesson_html += \"<p>\" + sentence + \"</p>\"\n",
    "    return lesson_html"
   ]
  },
  {
   "cell_type": "code",
   "execution_count": 4,
   "id": "f21e7b28-b784-4588-a0bf-eab08a81471f",
   "metadata": {},
   "outputs": [
    {
     "name": "stdout",
     "output_type": "stream",
     "text": [
      "Attribute Error with file : .DS_Store\n",
      "N8-Lección octava\n",
      "S00-TITLE-¡Feliz cumpleaños, abuela!\n",
      "S01-¿Qué quieres por tu cumpleaños, abuela?\n",
      "S02-¡No quiero tarta, no quiero regalos, no quiero nada! Solo quiero ser más joven…\n",
      "S03-No eres vieja, mujer, solo tienes ochenta años. \n",
      "S04-¿Qué? ¡No tengo ochenta años, tengo setenta y nueve!\n",
      "S05-¿Ves? Eres todavía joven. Entonces, ¿no quieres nada?\n",
      "S06-Bueno… ¿Por qué no una botellita de coñac? Es un regalo útil, ¿no?\n",
      "T00-TRANSLATE-Ejercicio 1 – Traduzca\n",
      "T01-Quiero un regalo útil.\n",
      "T02-¡Feliz cumpleaños, abuelo! \n",
      "T03-Soy viejo: tengo ochenta y nueve años.\n",
      "T04-¿Qué quieres?\n",
      "T05-Tienes una mujer joven.\n"
     ]
    },
    {
     "data": {
      "text/plain": [
       "'<p>N8-Lec<b>ción</b> oc<b>ta</b>va</p><p>S00-TITLE-¡Fe<b>liz</b> cumple<b>a</b>ños, a<b>bue</b>la! </p><p>S01-¿Qué <b>quie</b>res por tu cumple<b>a</b>ños, a<b>bue</b>la? </p><p>S02-¡No quiero <b>tar</b>ta, no quiero re<b>ga</b>los, no quiero <b>na</b>da! Solo quiero ser más <b>jo</b>ven</p><p>S03-No <b>e</b>res <b>vie</b>ja, mu<b>jer</b>, solo <b>tie</b>nes <b>ochen</b>ta <b>a</b>ños. </p><p>S04-¿Qué? ¡No tengo <b>ochen</b>ta <b>a</b>ños, tengo se<b>ten</b>ta y <b>nue</b>ve! </p><p>S05-¿Ves? <b>E</b>res toda<b>ví</b>a <b>jo</b>ven. En<b>ton</b>ces, ¿no <b>quie</b>res <b>na</b>da? </p><p>S06-Bueno ¿Por qué no <b>u</b>na bote<b>lli</b>ta de co<b>ñac</b>? Es un re<b>ga</b>lo <b>ú</b>til, ¿no? </p><p>T00-TRANSLATE-Ejer<b>ci</b>cio 1 – Tra<b>du</b>zca</p><p>T01-Quiero un re<b>ga</b>lo <b>ú</b>til. </p><p>T02-¡Fe<b>liz</b> cumple<b>a</b>ños, abuelo! </p><p>T03-Soy viejo tengo <b>ochen</b>ta y <b>nue</b>ve <b>a</b>ños. </p><p>T04-¿Qué <b>quie</b>res? </p><p>T05-<b>Tie</b>nes <b>u</b>na mu<b>jer</b> <b>jo</b>ven. </p>'"
      ]
     },
     "execution_count": 4,
     "metadata": {},
     "output_type": "execute_result"
    }
   ],
   "source": [
    "prettyfy(8)"
   ]
  },
  {
   "cell_type": "code",
   "execution_count": 5,
   "id": "101b2d74-e716-4e73-b044-76a116c74136",
   "metadata": {},
   "outputs": [
    {
     "data": {
      "text/plain": [
       "'<p>N8-Lec<b>ción</b> octava</p><p>S00-TITLE-¡Feliz cumpleaños, abuela! </p><p>S01-¿Qué quieres por tu cumpleaños, abuela? </p><p>S02-¡No quiero tarta, no quiero regalos, no quiero nada! Solo quiero ser más joven</p><p>S03-No <b>e</b>res vieja, mujer, solo tienes ochenta años. </p><p>S04-¿Qué? ¡No tengo ochenta años, tengo setenta y nueve! </p><p>S05-¿Ves? <b>E</b>res todavía joven. En<b>ton</b>ces, ¿no quieres nada? </p><p>S06-Bueno ¿Por qué no una botellita de coñac? Es un regalo útil, ¿no? </p><p>T00-TRANSLATE-Ejer<b>ci</b>cio 1 – Tra<b>du</b>zca</p><p>T01-Quiero un regalo útil. </p><p>T02-¡Feliz cumpleaños, abuelo! </p><p>T03-Soy viejo tengo ochenta y nueve años. </p><p>T04-¿Qué quieres? </p><p>T05-Tienes una mujer joven. </p>'"
      ]
     },
     "execution_count": 5,
     "metadata": {},
     "output_type": "execute_result"
    }
   ],
   "source": [
    "lesson_html = \"\"\n",
    "for sentence in list_of_bold_sentences:\n",
    "    if sentence:\n",
    "        lesson_html += \"<p>\" + sentence + \"</p>\"\n",
    "\n",
    "lesson_html"
   ]
  },
  {
   "cell_type": "code",
   "execution_count": 6,
   "id": "aa68d582-fb5c-464f-bb11-c87dc5f30a2d",
   "metadata": {},
   "outputs": [
    {
     "data": {
      "text/plain": [
       "['N8-Lec<b>ción</b> octava',\n",
       " 'S00-TITLE-¡Feliz cumpleaños, abuela! ',\n",
       " 'S01-¿Qué quieres por tu cumpleaños, abuela? ',\n",
       " 'S02-¡No quiero tarta, no quiero regalos, no quiero nada! Solo quiero ser más joven',\n",
       " 'S03-No <b>e</b>res vieja, mujer, solo tienes ochenta años. ',\n",
       " 'S04-¿Qué? ¡No tengo ochenta años, tengo setenta y nueve! ',\n",
       " 'S05-¿Ves? <b>E</b>res todavía joven. En<b>ton</b>ces, ¿no quieres nada? ',\n",
       " 'S06-Bueno ¿Por qué no una botellita de coñac? Es un regalo útil, ¿no? ',\n",
       " 'T00-TRANSLATE-Ejer<b>ci</b>cio 1 – Tra<b>du</b>zca',\n",
       " 'T01-Quiero un regalo útil. ',\n",
       " 'T02-¡Feliz cumpleaños, abuelo! ',\n",
       " 'T03-Soy viejo tengo ochenta y nueve años. ',\n",
       " 'T04-¿Qué quieres? ',\n",
       " 'T05-Tienes una mujer joven. ']"
      ]
     },
     "execution_count": 6,
     "metadata": {},
     "output_type": "execute_result"
    }
   ],
   "source": [
    "list_of_bold_sentences"
   ]
  },
  {
   "cell_type": "code",
   "execution_count": 7,
   "id": "994d6709-5d38-4b83-90c3-932be9720455",
   "metadata": {},
   "outputs": [],
   "source": [
    "lesson=\"\"\"\\r\\n        \\r\\n\\r\\n          \\u003Cp\\u003E N7-Lec\\u003Cb\\u003Eción\\u003C/b\\u003E \\u003Cb\\u003Esép\\u003C/b\\u003Etima \\u003C/p\\u003E\\r\\n\\r\\n        \\r\\n\\r\\n          \\u003Cp\\u003E S00-TITLE-\\u003Cb\\u003EDiá\\u003C/b\\u003Elogo de re\\u003Cb\\u003Epa\\u003C/b\\u003Eso \\u003C/p\\u003E\\r\\n\\r\\n        \\r\\n\\r\\n          \\u003Cp\\u003E S01-\\u003Cb\\u003EHo\\u003C/b\\u003Ela, ¿qué tal, \\u003Cb\\u003Egua\\u003C/b\\u003Epo?  \\u003C/p\\u003E\\r\\n\\r\\n        \\r\\n\\r\\n          \\u003Cp\\u003E S02-Bien, \\u003Cb\\u003Egra\\u003C/b\\u003Ecias. . . ¿Y us\\u003Cb\\u003Eted\\u003C/b\\u003E?  \\u003C/p\\u003E\\r\\n\\r\\n        \\r\\n\\r\\n          \\u003Cp\\u003E S03-Muy bien, \\u003Cb\\u003Epe\\u003C/b\\u003Ero ¡\\u003Cb\\u003Ehá\\u003C/b\\u003Eblame de tú, por fa\\u003Cb\\u003Evor\\u003C/b\\u003E!  \\u003C/p\\u003E\\r\\n\\r\\n        \\r\\n\\r\\n          \\u003Cp\\u003E S04-Sí, \\u003Cb\\u003Ecla\\u003C/b\\u003Ero Yo soy Ja\\u003Cb\\u003Evier\\u003C/b\\u003E. ¿Y tú?  \\u003C/p\\u003E\\r\\n\\r\\n        \\r\\n\\r\\n          \\u003Cp\\u003E S05-Encan\\u003Cb\\u003Eta\\u003C/b\\u003Eda. Me \\u003Cb\\u003Ella\\u003C/b\\u003Emo \\u003Cb\\u003EMon\\u003C/b\\u003Etse. ¿\\u003Cb\\u003EE\\u003C/b\\u003Eres de Barce\\u003Cb\\u003Elo\\u003C/b\\u003Ena?  \\u003C/p\\u003E\\r\\n\\r\\n        \\r\\n\\r\\n          \\u003Cp\\u003E S06-No, \\u003Cb\\u003Evi\\u003C/b\\u003Evo en Barce\\u003Cb\\u003Elo\\u003C/b\\u003Ena \\u003Cb\\u003Epe\\u003C/b\\u003Ero na\\u003Cb\\u003Ecí\\u003C/b\\u003E en Ma\\u003Cb\\u003Edrid\\u003C/b\\u003E.  \\u003C/p\\u003E\\r\\n\\r\\n        \\r\\n\\r\\n          \\u003Cp\\u003E S07-¿Y \\u003Cb\\u003Ehab\\u003C/b\\u003Elas catalán?  \\u003C/p\\u003E\\r\\n\\r\\n        \\r\\n\\r\\n          \\u003Cp\\u003E S08-Lo \\u003Cb\\u003Ele\\u003C/b\\u003Eo, \\u003Cb\\u003Epe\\u003C/b\\u003Ero no lo \\u003Cb\\u003Eha\\u003C/b\\u003Eblo muy bien \\u003C/p\\u003E\\r\\n\\r\\n        \\r\\n\\r\\n          \\u003Cp\\u003E S09-Te in\\u003Cb\\u003Evi\\u003C/b\\u003Eto al \\u003Cb\\u003Eci\\u003C/b\\u003Ene, ¿\\u003Cb\\u003Eva\\u003C/b\\u003Ele?  \\u003C/p\\u003E\\r\\n\\r\\n        \\r\\n\\r\\n          \\u003Cp\\u003E S10-E\\u003Cb\\u003Ejem\\u003C/b\\u003E \\u003Cb\\u003Egra\\u003C/b\\u003Ecias, \\u003Cb\\u003Epe\\u003C/b\\u003Ero es\\u003Cb\\u003Etoy\\u003C/b\\u003E pa\\u003Cb\\u003Echu\\u003C/b\\u003Echo.  \\u003C/p\\u003E\\r\\n\\r\\n        \\r\\n      \"\"\""
   ]
  },
  {
   "cell_type": "code",
   "execution_count": 8,
   "id": "043f1a1c-8ad5-4546-aca5-e8759226c705",
   "metadata": {},
   "outputs": [],
   "source": [
    "parser = MyHTMLParser()"
   ]
  },
  {
   "cell_type": "code",
   "execution_count": 9,
   "id": "1693e06c-4e56-4361-a166-73a49a74604f",
   "metadata": {},
   "outputs": [],
   "source": [
    "parser.analyze_lesson(lesson)"
   ]
  },
  {
   "cell_type": "code",
   "execution_count": 10,
   "id": "a9d50043-6d65-45e5-bfb8-fffb5149d43e",
   "metadata": {},
   "outputs": [
    {
     "data": {
      "text/plain": [
       "[' N7-Lección séptima ',\n",
       " ' S00-TITLE-Diálogo de repaso ',\n",
       " ' S01-Hola, ¿qué tal, guapo?  ',\n",
       " ' S02-Bien, gracias. . . ¿Y usted?  ',\n",
       " ' S03-Muy bien, pero ¡háblame de tú, por favor!  ',\n",
       " ' S04-Sí, claro Yo soy Javier. ¿Y tú?  ',\n",
       " ' S05-Encantada. Me llamo Montse. ¿Eres de Barcelona?  ',\n",
       " ' S06-No, vivo en Barcelona pero nací en Madrid.  ',\n",
       " ' S07-¿Y hablas catalán?  ',\n",
       " ' S08-Lo leo, pero no lo hablo muy bien ',\n",
       " ' S09-Te invito al cine, ¿vale?  ',\n",
       " ' S10-Ejem gracias, pero estoy pachucho.  ']"
      ]
     },
     "execution_count": 10,
     "metadata": {},
     "output_type": "execute_result"
    }
   ],
   "source": [
    "parser.sentences"
   ]
  },
  {
   "cell_type": "code",
   "execution_count": 11,
   "id": "200ec2a7-4350-4c46-96b8-d9762bc330f5",
   "metadata": {},
   "outputs": [],
   "source": [
    "word_dict = parser.get_lesson_word_dict()"
   ]
  },
  {
   "cell_type": "code",
   "execution_count": 12,
   "id": "dd542bb0-93d3-40cc-8503-5e575ca27072",
   "metadata": {},
   "outputs": [
    {
     "data": {
      "text/plain": [
       "'Sentences/L008-Spanish ASSIMIL'"
      ]
     },
     "execution_count": 12,
     "metadata": {},
     "output_type": "execute_result"
    }
   ],
   "source": [
    "lesson_nb = 8\n",
    "lesson_directory = f\"Sentences/L{str(lesson_nb).zfill(3)}-Spanish ASSIMIL\"\n",
    "lesson_directory"
   ]
  },
  {
   "cell_type": "code",
   "execution_count": 16,
   "id": "9cd695e4-dc33-45a6-858b-b3d85f6febd4",
   "metadata": {},
   "outputs": [
    {
     "name": "stdout",
     "output_type": "stream",
     "text": [
      "Attribute Error with file : .DS_Store\n"
     ]
    },
    {
     "data": {
      "text/plain": [
       "('N8-Lección octava',\n",
       " 'S00-TITLE-¡Feliz cumpleaños, abuela!',\n",
       " 'S01-¿Qué quieres por tu cumpleaños, abuela?',\n",
       " 'S02-¡No quiero tarta, no quiero regalos, no quiero nada! Solo quiero ser más joven…',\n",
       " 'S03-No eres vieja, mujer, solo tienes ochenta años. ',\n",
       " 'S04-¿Qué? ¡No tengo ochenta años, tengo setenta y nueve!',\n",
       " 'S05-¿Ves? Eres todavía joven. Entonces, ¿no quieres nada?',\n",
       " 'S06-Bueno… ¿Por qué no una botellita de coñac? Es un regalo útil, ¿no?',\n",
       " 'T00-TRANSLATE-Ejercicio 1 – Traduzca',\n",
       " 'T01-Quiero un regalo útil.',\n",
       " 'T02-¡Feliz cumpleaños, abuelo! ',\n",
       " 'T03-Soy viejo: tengo ochenta y nueve años.',\n",
       " 'T04-¿Qué quieres?',\n",
       " 'T05-Tienes una mujer joven.')"
      ]
     },
     "execution_count": 16,
     "metadata": {},
     "output_type": "execute_result"
    }
   ],
   "source": [
    "sentences = get_sentences(lesson_nb)\n",
    "sentences"
   ]
  },
  {
   "cell_type": "code",
   "execution_count": 14,
   "id": "45859fe9-9ea9-4ce8-959e-651935b649fb",
   "metadata": {},
   "outputs": [
    {
     "name": "stdout",
     "output_type": "stream",
     "text": [
      "['T00-TRANSLATE.mp3', '.DS_Store', 'S00-TITLE.mp3', 'S04.mp3', 'S05.mp3', 'S06.mp3', 'S02.mp3', 'S03.mp3', 'S01.mp3', 'T01.mp3', 'T02.mp3', 'T03.mp3', 'T04.mp3', 'N8.mp3', 'T05.mp3']\n",
      "T00-TRANSLATE.mp3\n",
      ".DS_Store\n"
     ]
    },
    {
     "ename": "AttributeError",
     "evalue": "'NoneType' object has no attribute 'tag'",
     "output_type": "error",
     "traceback": [
      "\u001b[0;31m---------------------------------------------------------------------------\u001b[0m",
      "\u001b[0;31mAttributeError\u001b[0m                            Traceback (most recent call last)",
      "Cell \u001b[0;32mIn[14], line 6\u001b[0m\n\u001b[1;32m      4\u001b[0m \u001b[38;5;28mprint\u001b[39m(fn)\n\u001b[1;32m      5\u001b[0m full_path \u001b[38;5;241m=\u001b[39m os\u001b[38;5;241m.\u001b[39mpath\u001b[38;5;241m.\u001b[39mjoin(dirpath, fn)\n\u001b[0;32m----> 6\u001b[0m sentences_with_path\u001b[38;5;241m.\u001b[39mappend([full_path, \u001b[43mget_title\u001b[49m\u001b[43m(\u001b[49m\u001b[43mfull_path\u001b[49m\u001b[43m)\u001b[49m])\n",
      "File \u001b[0;32m~/assimil/tonic_accent.py:34\u001b[0m, in \u001b[0;36mget_title\u001b[0;34m(filename)\u001b[0m\n\u001b[1;32m     32\u001b[0m \u001b[38;5;28;01mdef\u001b[39;00m \u001b[38;5;21mget_title\u001b[39m(filename):\n\u001b[1;32m     33\u001b[0m     audiofile \u001b[38;5;241m=\u001b[39m eyed3\u001b[38;5;241m.\u001b[39mload(filename)\n\u001b[0;32m---> 34\u001b[0m     \u001b[38;5;28;01mreturn\u001b[39;00m \u001b[43maudiofile\u001b[49m\u001b[38;5;241;43m.\u001b[39;49m\u001b[43mtag\u001b[49m\u001b[38;5;241m.\u001b[39mtitle\n",
      "\u001b[0;31mAttributeError\u001b[0m: 'NoneType' object has no attribute 'tag'"
     ]
    }
   ],
   "source": [
    "for (dirpath, dirnames, filenames) in w:\n",
    "    print(filenames)\n",
    "    for fn in filenames:\n",
    "        print(fn)\n",
    "        full_path = os.path.join(dirpath, fn)\n",
    "        sentences_with_path.append([full_path, get_title(full_path)])\n",
    "        "
   ]
  },
  {
   "cell_type": "code",
   "execution_count": 21,
   "id": "614438cd-3cf5-4051-8468-2eeb27ea8ec5",
   "metadata": {},
   "outputs": [
    {
     "data": {
      "text/plain": [
       "[['Sentences/L007-Spanish ASSIMIL/N7.mp3', 'N7-Lección séptima'],\n",
       " ['Sentences/L007-Spanish ASSIMIL/S00-TITLE.mp3',\n",
       "  'S00-TITLE-Diálogo de repaso'],\n",
       " ['Sentences/L007-Spanish ASSIMIL/S08.mp3',\n",
       "  'S08-Lo leo, pero no lo hablo muy bien…'],\n",
       " ['Sentences/L007-Spanish ASSIMIL/S09.mp3', 'S09-Te invito al cine, ¿vale?'],\n",
       " ['Sentences/L007-Spanish ASSIMIL/S10.mp3',\n",
       "  'S10-Ejem… gracias, pero estoy pachucho.'],\n",
       " ['Sentences/L007-Spanish ASSIMIL/S04.mp3',\n",
       "  'S04-Sí, claro… Yo soy Javier. ¿Y tú?'],\n",
       " ['Sentences/L007-Spanish ASSIMIL/S05.mp3',\n",
       "  'S05-Encantada. Me llamo Montse. ¿Eres de Barcelona?'],\n",
       " ['Sentences/L007-Spanish ASSIMIL/S07.mp3', 'S07-¿Y hablas catalán?'],\n",
       " ['Sentences/L007-Spanish ASSIMIL/S06.mp3',\n",
       "  'S06-No, vivo en Barcelona pero nací en Madrid.'],\n",
       " ['Sentences/L007-Spanish ASSIMIL/S02.mp3', 'S02-Bien, gracias... ¿Y usted?'],\n",
       " ['Sentences/L007-Spanish ASSIMIL/S03.mp3',\n",
       "  'S03-Muy bien, pero ¡háblame de tú, por favor!'],\n",
       " ['Sentences/L007-Spanish ASSIMIL/S01.mp3', 'S01-Hola, ¿qué tal, guapo?']]"
      ]
     },
     "execution_count": 21,
     "metadata": {},
     "output_type": "execute_result"
    }
   ],
   "source": [
    "sentences_with_path"
   ]
  },
  {
   "cell_type": "code",
   "execution_count": 13,
   "id": "850b4682-65c6-4254-be81-3026b19e22bf",
   "metadata": {},
   "outputs": [],
   "source": [
    "import re\n",
    "m = \"L[\\d]{3}\"\n",
    "p = re.compile(m)"
   ]
  },
  {
   "cell_type": "code",
   "execution_count": 26,
   "id": "c07723eb-a61b-4851-8af3-d2a33c72e29e",
   "metadata": {},
   "outputs": [],
   "source": [
    "import os\n",
    "file_list = []\n",
    "w = os.walk(\"Sentences/html\")\n",
    "for (dirpath, dirnames, filenames) in w:\n",
    "    for fn in filenames:\n",
    "        if p.match(fn):\n",
    "            file_list.append(fn)"
   ]
  },
  {
   "cell_type": "code",
   "execution_count": 27,
   "id": "9a9901f7-eeb7-4708-8cfc-6300898d985c",
   "metadata": {},
   "outputs": [
    {
     "data": {
      "text/plain": [
       "['L005.html',\n",
       " 'L008.html',\n",
       " 'L004.html',\n",
       " 'L003.html',\n",
       " 'L002.html',\n",
       " 'L001.html',\n",
       " 'L007.html',\n",
       " 'L006.html']"
      ]
     },
     "execution_count": 27,
     "metadata": {},
     "output_type": "execute_result"
    }
   ],
   "source": [
    "file_list"
   ]
  },
  {
   "cell_type": "code",
   "execution_count": 20,
   "id": "191cddf3-1cff-4bd5-a608-271acf70ba90",
   "metadata": {},
   "outputs": [
    {
     "data": {
      "text/plain": [
       "<re.Match object; span=(0, 4), match='L008'>"
      ]
     },
     "execution_count": 20,
     "metadata": {},
     "output_type": "execute_result"
    }
   ],
   "source": [
    "p.match(file_list[1])"
   ]
  },
  {
   "cell_type": "code",
   "execution_count": 25,
   "id": "20bfc9d8-d891-4129-8b59-1e6027941b6d",
   "metadata": {},
   "outputs": [
    {
     "data": {
      "text/plain": [
       "<re.Match object; span=(0, 4), match='L008'>"
      ]
     },
     "execution_count": 25,
     "metadata": {},
     "output_type": "execute_result"
    }
   ],
   "source": [
    "p.match(\"L008.html\")"
   ]
  },
  {
   "cell_type": "code",
   "execution_count": 2,
   "id": "48326f53-8530-407f-8392-7316c4ab80be",
   "metadata": {},
   "outputs": [
    {
     "name": "stdout",
     "output_type": "stream",
     "text": [
      "L001.html  :  1428\n",
      "L002.html  :  2081\n",
      "L003.html  :  2141\n",
      "L004.html  :  2099\n",
      "L005.html  :  805\n",
      "L006.html  :  785\n",
      "L007.html  :  744\n",
      "L008.html  :  1026\n"
     ]
    }
   ],
   "source": [
    "from tonic_accent import get_html_lesson_list"
   ]
  },
  {
   "cell_type": "code",
   "execution_count": 5,
   "id": "d88aa9fa-6b9c-4f8b-b360-2c71b6059888",
   "metadata": {},
   "outputs": [],
   "source": [
    "l=get_html_lesson_list()"
   ]
  },
  {
   "cell_type": "code",
   "execution_count": 6,
   "id": "57843e58-186f-49b3-ae4b-bede2a57579e",
   "metadata": {},
   "outputs": [
    {
     "data": {
      "text/plain": [
       "['L001.html',\n",
       " 'L002.html',\n",
       " 'L003.html',\n",
       " 'L004.html',\n",
       " 'L005.html',\n",
       " 'L006.html',\n",
       " 'L007.html',\n",
       " 'L008.html']"
      ]
     },
     "execution_count": 6,
     "metadata": {},
     "output_type": "execute_result"
    }
   ],
   "source": [
    "sorted(l)"
   ]
  },
  {
   "cell_type": "code",
   "execution_count": 1,
   "id": "c065f05c-b854-40d7-8f83-3164153e7404",
   "metadata": {},
   "outputs": [
    {
     "name": "stdout",
     "output_type": "stream",
     "text": [
      "L001.html  :  1428\n",
      "L002.html  :  2081\n",
      "L003.html  :  2141\n",
      "L004.html  :  2099\n",
      "L005.html  :  805\n",
      "L006.html  :  785\n",
      "L007.html  :  744\n",
      "L008.html  :  1026\n",
      "Attribute Error with file : .DS_Store\n",
      "N8-Lección octava\n",
      "S00-TITLE-¡Feliz cumpleaños, abuela!\n",
      "S01-¿Qué quieres por tu cumpleaños, abuela?\n",
      "S02-¡No quiero tarta, no quiero regalos, no quiero nada! Solo quiero ser más joven…\n",
      "S03-No eres vieja, mujer, solo tienes ochenta años. \n",
      "S04-¿Qué? ¡No tengo ochenta años, tengo setenta y nueve!\n",
      "S05-¿Ves? Eres todavía joven. Entonces, ¿no quieres nada?\n",
      "S06-Bueno… ¿Por qué no una botellita de coñac? Es un regalo útil, ¿no?\n",
      "T00-TRANSLATE-Ejercicio 1 – Traduzca\n",
      "T01-Quiero un regalo útil.\n",
      "T02-¡Feliz cumpleaños, abuelo! \n",
      "T03-Soy viejo: tengo ochenta y nueve años.\n",
      "T04-¿Qué quieres?\n",
      "T05-Tienes una mujer joven.\n"
     ]
    }
   ],
   "source": [
    "from tonic_accent import get_html_lesson\n",
    "lesseon8_html = get_html_lesson(8)"
   ]
  },
  {
   "cell_type": "code",
   "execution_count": 2,
   "id": "721d267b-48b8-4cd7-ac4f-3270ef17f4fc",
   "metadata": {},
   "outputs": [
    {
     "data": {
      "text/plain": [
       "'<p>N8-Lec<b>ción</b> oc<b>ta</b>va</p><p>S00-TITLE-¡Fe<b>liz</b> cumple<b>a</b>ños, a<b>bue</b>la! </p><p>S01-¿Qué <b>quie</b>res por tu cumple<b>a</b>ños, a<b>bue</b>la? </p><p>S02-¡No quiero <b>tar</b>ta, no quiero re<b>ga</b>los, no quiero <b>na</b>da! Solo quiero ser más <b>jo</b>ven</p><p>S03-No <b>e</b>res <b>vie</b>ja, mu<b>jer</b>, solo <b>tie</b>nes <b>ochen</b>ta <b>a</b>ños. </p><p>S04-¿Qué? ¡No tengo <b>ochen</b>ta <b>a</b>ños, tengo se<b>ten</b>ta y <b>nue</b>ve! </p><p>S05-¿Ves? <b>E</b>res toda<b>ví</b>a <b>jo</b>ven. En<b>ton</b>ces, ¿no <b>quie</b>res <b>na</b>da? </p><p>S06-Bueno ¿Por qué no <b>u</b>na bote<b>lli</b>ta de co<b>ñac</b>? Es un re<b>ga</b>lo <b>ú</b>til, ¿no? </p><p>T00-TRANSLATE-Ejer<b>ci</b>cio 1 – Tra<b>du</b>zca</p><p>T01-Quiero un re<b>ga</b>lo <b>ú</b>til. </p><p>T02-¡Fe<b>liz</b> cumple<b>a</b>ños, abuelo! </p><p>T03-Soy viejo tengo <b>ochen</b>ta y <b>nue</b>ve <b>a</b>ños. </p><p>T04-¿Qué <b>quie</b>res? </p><p>T05-<b>Tie</b>nes <b>u</b>na mu<b>jer</b> <b>jo</b>ven. </p>'"
      ]
     },
     "execution_count": 2,
     "metadata": {},
     "output_type": "execute_result"
    }
   ],
   "source": [
    "lesseon8_html"
   ]
  },
  {
   "cell_type": "code",
   "execution_count": 2,
   "id": "603e13fc-aa6d-4678-b31c-e55a58ebd771",
   "metadata": {},
   "outputs": [
    {
     "name": "stdout",
     "output_type": "stream",
     "text": [
      "L001.html  :  1428\n",
      "L002.html  :  2081\n",
      "L003.html  :  2141\n",
      "L004.html  :  2099\n",
      "L005.html  :  805\n",
      "L006.html  :  785\n",
      "L007.html  :  744\n",
      "L008.html  :  1026\n"
     ]
    }
   ],
   "source": [
    "from tonic_accent import store_lesson"
   ]
  },
  {
   "cell_type": "code",
   "execution_count": 3,
   "id": "9399b47d-3017-4389-9fa5-f69959b46756",
   "metadata": {},
   "outputs": [],
   "source": [
    "lesson = \"\"\"        \n",
    "\n",
    "          <p> N8-Lec<b>ción</b> oc<b>ta</b>va </p>\n",
    "\n",
    "        \n",
    "\n",
    "          <p> S00-TITLE-¡Fe<b>liz</b> cumple<b>a</b>ños, a<b>bue</b>la!  </p>\n",
    "\n",
    "        \n",
    "\n",
    "          <p> S01-¿Qué <b>quie</b>res por tu cumple<b>a</b>ños, a<b>bue</b>la?  </p>\n",
    "\n",
    "        \n",
    "\n",
    "          <p> S02-¡No quiero <b>tar</b>ta, no quiero re<b>ga</b>los, no quiero <b>na</b>da! Solo quiero ser más <b>jo</b>ven </p>\n",
    "\n",
    "        \n",
    "\n",
    "          <p> S03-No <b>e</b>res <b>vie</b>ja, mu<b>jer</b>, solo <b>tie</b>nes <b>ochen</b>ta <b>a</b>ños.  </p>\n",
    "\n",
    "        \n",
    "\n",
    "          <p> S04-¿Qué? ¡No tengo <b>ochen</b>ta <b>a</b>ños, tengo se<b>ten</b>ta y <b>nue</b>ve!  </p>\n",
    "\n",
    "        \n",
    "\n",
    "          <p> S05-¿Ves? <b>E</b>res toda<b>ví</b>a <b>jo</b>ven. En<b>ton</b>ces, ¿no <b>quie</b>res <b>na</b>da?  </p>\n",
    "\n",
    "        \n",
    "\n",
    "          <p> S06-Bueno ¿Por qué no <b>u</b>na bote<b>lli</b>ta de co<b>ñac</b>? Es un re<b>ga</b>lo <b>ú</b>til, ¿no?  </p>\n",
    "\n",
    "        \n",
    "\n",
    "          <p> T00-TRANSLATE-Ejer<b>ci</b>cio 1 – Tra<b>du</b>zca </p>\n",
    "\n",
    "        \n",
    "\n",
    "          <p> T01-Quiero un re<b>ga</b>lo <b>ú</b>til.  </p>\n",
    "\n",
    "        \n",
    "\n",
    "          <p> T02-¡Fe<b>liz</b> cumple<b>a</b>ños, abuelo!  </p>\n",
    "\n",
    "        \n",
    "\n",
    "          <p> T03-Soy viejo tengo <b>ochen</b>ta y <b>nue</b>ve <b>a</b>ños.  </p>\n",
    "\n",
    "        \n",
    "\n",
    "          <p> T04-¿Qué <b>quie</b>res?  </p>\n",
    "\n",
    "        \n",
    "\n",
    "          <p> T05-<b>Tie</b>nes <b>u</b>na mu<b>jer</b> <b>jo</b>ven.  </p>\"\"\"\n",
    "\n",
    "        \n"
   ]
  },
  {
   "cell_type": "code",
   "execution_count": 4,
   "id": "653892f2-2d2b-4cb6-9c53-8f2e6cc8a59b",
   "metadata": {},
   "outputs": [
    {
     "data": {
      "text/plain": [
       "'        \\n\\n          <p> N8-Lec<b>ción</b> oc<b>ta</b>va </p>\\n\\n        \\n\\n          <p> S00-TITLE-¡Fe<b>liz</b> cumple<b>a</b>ños, a<b>bue</b>la!  </p>\\n\\n        \\n\\n          <p> S01-¿Qué <b>quie</b>res por tu cumple<b>a</b>ños, a<b>bue</b>la?  </p>\\n\\n        \\n\\n          <p> S02-¡No quiero <b>tar</b>ta, no quiero re<b>ga</b>los, no quiero <b>na</b>da! Solo quiero ser más <b>jo</b>ven </p>\\n\\n        \\n\\n          <p> S03-No <b>e</b>res <b>vie</b>ja, mu<b>jer</b>, solo <b>tie</b>nes <b>ochen</b>ta <b>a</b>ños.  </p>\\n\\n        \\n\\n          <p> S04-¿Qué? ¡No tengo <b>ochen</b>ta <b>a</b>ños, tengo se<b>ten</b>ta y <b>nue</b>ve!  </p>\\n\\n        \\n\\n          <p> S05-¿Ves? <b>E</b>res toda<b>ví</b>a <b>jo</b>ven. En<b>ton</b>ces, ¿no <b>quie</b>res <b>na</b>da?  </p>\\n\\n        \\n\\n          <p> S06-Bueno ¿Por qué no <b>u</b>na bote<b>lli</b>ta de co<b>ñac</b>? Es un re<b>ga</b>lo <b>ú</b>til, ¿no?  </p>\\n\\n        \\n\\n          <p> T00-TRANSLATE-Ejer<b>ci</b>cio 1 – Tra<b>du</b>zca </p>\\n\\n        \\n\\n          <p> T01-Quiero un re<b>ga</b>lo <b>ú</b>til.  </p>\\n\\n        \\n\\n          <p> T02-¡Fe<b>liz</b> cumple<b>a</b>ños, abuelo!  </p>\\n\\n        \\n\\n          <p> T03-Soy viejo tengo <b>ochen</b>ta y <b>nue</b>ve <b>a</b>ños.  </p>\\n\\n        \\n\\n          <p> T04-¿Qué <b>quie</b>res?  </p>\\n\\n        \\n\\n          <p> T05-<b>Tie</b>nes <b>u</b>na mu<b>jer</b> <b>jo</b>ven.  </p>'"
      ]
     },
     "execution_count": 4,
     "metadata": {},
     "output_type": "execute_result"
    }
   ],
   "source": [
    "lesson"
   ]
  },
  {
   "cell_type": "code",
   "execution_count": 5,
   "id": "c4a8bcd4-ecb0-4f80-b88d-6848fa297a9d",
   "metadata": {},
   "outputs": [
    {
     "data": {
      "text/plain": [
       "'<p>N8-Lec<b>ción</b> oc<b>ta</b>va</p><p>S00-TITLE-¡Fe<b>liz</b> cumple<b>a</b>ños, a<b>bue</b>la! </p><p>S01-¿Qué <b>quie</b>res por tu cumple<b>a</b>ños, a<b>bue</b>la? </p><p>S02-¡No quiero <b>tar</b>ta, no quiero re<b>ga</b>los, no quiero <b>na</b>da! Solo quiero ser más <b>jo</b>ven</p><p>S03-No <b>e</b>res <b>vie</b>ja, mu<b>jer</b>, solo <b>tie</b>nes <b>ochen</b>ta <b>a</b>ños. </p><p>S04-¿Qué? ¡No tengo <b>ochen</b>ta <b>a</b>ños, tengo se<b>ten</b>ta y <b>nue</b>ve! </p><p>S05-¿Ves? <b>E</b>res toda<b>ví</b>a <b>jo</b>ven. En<b>ton</b>ces, ¿no <b>quie</b>res <b>na</b>da? </p><p>S06-Bueno ¿Por qué no <b>u</b>na bote<b>lli</b>ta de co<b>ñac</b>? Es un re<b>ga</b>lo <b>ú</b>til, ¿no? </p><p>T00-TRANSLATE-Ejer<b>ci</b>cio 1 – Tra<b>du</b>zca</p><p>T01-Quiero un re<b>ga</b>lo <b>ú</b>til. </p><p>T02-¡Fe<b>liz</b> cumple<b>a</b>ños, abuelo! </p><p>T03-Soy viejo tengo <b>ochen</b>ta y <b>nue</b>ve <b>a</b>ños. </p><p>T04-¿Qué <b>quie</b>res? </p><p>T05-<b>Tie</b>nes <b>u</b>na mu<b>jer</b> <b>jo</b>ven. </p>'"
      ]
     },
     "execution_count": 5,
     "metadata": {},
     "output_type": "execute_result"
    }
   ],
   "source": [
    "store_lesson(10, lesson)"
   ]
  },
  {
   "cell_type": "code",
   "execution_count": 1,
   "id": "b2af243f-bdbb-48b5-a310-62db582a9902",
   "metadata": {},
   "outputs": [
    {
     "data": {
      "text/plain": [
       "'Sentences/L010.html'"
      ]
     },
     "execution_count": 1,
     "metadata": {},
     "output_type": "execute_result"
    }
   ],
   "source": [
    "lesson_nb = 10\n",
    "filename = f\"Sentences/L{str(lesson_nb).zfill(3)}.html\"\n",
    "filename"
   ]
  },
  {
   "cell_type": "code",
   "execution_count": 6,
   "id": "565a7e63-e235-43d2-b565-33f10b862e25",
   "metadata": {},
   "outputs": [],
   "source": [
    "from tonic_accent import get_html_lesson_list"
   ]
  },
  {
   "cell_type": "code",
   "execution_count": 7,
   "id": "df43def0-2669-4d59-9cd5-3adf50325161",
   "metadata": {},
   "outputs": [
    {
     "data": {
      "text/plain": [
       "['L005.html',\n",
       " 'L009.html',\n",
       " 'L008.html',\n",
       " '.DS_Store',\n",
       " 'L004.html',\n",
       " 'L003.html',\n",
       " 'L002.html',\n",
       " 'L001.html',\n",
       " 'L007.html',\n",
       " 'L006.html']"
      ]
     },
     "execution_count": 7,
     "metadata": {},
     "output_type": "execute_result"
    }
   ],
   "source": [
    "get_html_lesson_list()"
   ]
  },
  {
   "cell_type": "code",
   "execution_count": 3,
   "id": "ddf67c22-a70c-47dc-a2f9-6b0b6f054557",
   "metadata": {},
   "outputs": [],
   "source": [
    "a={1 : \"Pierre\", 2 : \"Alain\", 3 : \"Moret\"}"
   ]
  },
  {
   "cell_type": "code",
   "execution_count": 4,
   "id": "108d91f2-2edf-4a9f-a989-e9b95245c013",
   "metadata": {},
   "outputs": [
    {
     "data": {
      "text/plain": [
       "{1: 'Pierre', 2: 'Alain', 3: 'Moret'}"
      ]
     },
     "execution_count": 4,
     "metadata": {},
     "output_type": "execute_result"
    }
   ],
   "source": [
    "a"
   ]
  },
  {
   "cell_type": "code",
   "execution_count": 5,
   "id": "0784d10f-3df0-4a18-9e54-29b3a861041d",
   "metadata": {},
   "outputs": [],
   "source": [
    "b={1 : \"kfjm\", 2 : \"kejfekjh\"}"
   ]
  },
  {
   "cell_type": "code",
   "execution_count": 6,
   "id": "2229c59c-8eb1-4cee-9eb8-5ab648758ad0",
   "metadata": {},
   "outputs": [],
   "source": [
    "b.update(a)"
   ]
  },
  {
   "cell_type": "code",
   "execution_count": 7,
   "id": "bac68d85-a75d-407a-ad5e-bc6cc4a1befa",
   "metadata": {},
   "outputs": [
    {
     "data": {
      "text/plain": [
       "{1: 'Pierre', 2: 'Alain', 3: 'Moret'}"
      ]
     },
     "execution_count": 7,
     "metadata": {},
     "output_type": "execute_result"
    }
   ],
   "source": [
    "b"
   ]
  },
  {
   "cell_type": "code",
   "execution_count": 8,
   "id": "25c5a2d1-451d-4c65-8b83-4ae2b52b7d42",
   "metadata": {},
   "outputs": [
    {
     "name": "stdout",
     "output_type": "stream",
     "text": [
      "D.update([E, ]**F) -> None.  Update D from dict/iterable E and F.\n",
      "If E is present and has a .keys() method, then does:  for k in E: D[k] = E[k]\n",
      "If E is present and lacks a .keys() method, then does:  for k, v in E: D[k] = v\n",
      "In either case, this is followed by: for k in F:  D[k] = F[k]\n"
     ]
    }
   ],
   "source": [
    "print(b.update.__doc__)"
   ]
  },
  {
   "cell_type": "code",
   "execution_count": 10,
   "id": "70d97fd0-be81-438e-add1-4e7378665d6d",
   "metadata": {},
   "outputs": [
    {
     "name": "stdout",
     "output_type": "stream",
     "text": [
      "1 2\n",
      "3 4\n",
      "5 6\n"
     ]
    }
   ],
   "source": [
    "for k, v in [(1, 2), (3, 4), (5, 6)]:\n",
    "    print(k, v)"
   ]
  },
  {
   "cell_type": "code",
   "execution_count": 11,
   "id": "7b19744c-4f24-435f-a38d-af1c5306697f",
   "metadata": {},
   "outputs": [
    {
     "name": "stderr",
     "output_type": "stream",
     "text": [
      "/var/folders/2l/kkk_s1ks6vs8jf0jbdk9q0n40000gn/T/ipykernel_59422/3609978653.py:1: DeprecationWarning: 'cgi' is deprecated and slated for removal in Python 3.13\n",
      "  from cgi import test\n"
     ]
    }
   ],
   "source": [
    "from cgi import test"
   ]
  },
  {
   "cell_type": "code",
   "execution_count": 12,
   "id": "6eac16a0-0caa-42b5-ae60-9dd5c68c8a27",
   "metadata": {},
   "outputs": [
    {
     "data": {
      "text/plain": [
       "<function cgi.test(environ=environ({'MANPATH': '/opt/homebrew/share/man::', 'TERM_PROGRAM': 'Apple_Terminal', 'SSL_CERT_FILE': '/Users/pam/emsdk/python/3.9.2_64bit/lib/python3.9/site-packages/certifi/cacert.pem', 'PYENV_ROOT': '/Users/pam/.pyenv', 'TERM': 'xterm-color', 'SHELL': '/bin/zsh', 'HOMEBREW_REPOSITORY': '/opt/homebrew', 'TMPDIR': '/var/folders/2l/kkk_s1ks6vs8jf0jbdk9q0n40000gn/T/', 'EMSDK': '/Users/pam/emsdk', 'TERM_PROGRAM_VERSION': '453', 'TERM_SESSION_ID': 'DA9AAA2B-00F8-4F5B-B57B-282002FE8B0B', 'PYENV_VERSION': 'symbolic', 'EMSDK_NODE': '/Users/pam/emsdk/node/14.18.2_64bit/bin/node', 'USER': 'pam', 'SSH_AUTH_SOCK': '/private/tmp/com.apple.launchd.gscJRqiBbt/Listeners', 'PYENV_DIR': '/Users/pam/assimil', 'PYENV_VIRTUALENV_INIT': '1', 'VIRTUAL_ENV': '/Users/pam/.pyenv/versions/3.11.3/envs/symbolic', 'PYENV_VIRTUAL_ENV': '/Users/pam/.pyenv/versions/3.11.3/envs/symbolic', 'PATH': '/Users/pam/.pyenv/versions/symbolic/bin:/opt/homebrew/Cellar/pyenv/2.3.17/libexec:/opt/homebrew/Cellar/pyenv/2.3.17/plugins/python-build/bin:/opt/homebrew/Cellar/pyenv-virtualenv/1.2.1/shims:/Users/pam/.pyenv/shims:/Users/pam/.pyenv/bin:/Users/pam/bin:/opt/homebrew/bin:/opt/homebrew/sbin:/Users/pam/emsdk:/Users/pam/emsdk/upstream/emscripten:/Users/pam/emsdk/node/14.18.2_64bit/bin:/usr/local/bin:/System/Cryptexes/App/usr/bin:/usr/bin:/bin:/usr/sbin:/sbin:/var/run/com.apple.security.cryptexd/codex.system/bootstrap/usr/local/bin:/var/run/com.apple.security.cryptexd/codex.system/bootstrap/usr/bin:/var/run/com.apple.security.cryptexd/codex.system/bootstrap/usr/appleinternal/bin:/Library/TeX/texbin:/Users/pam/.cargo/bin', 'LaunchInstanceID': '41418EFD-FDA9-4E57-A112-3F2711CF1978', '__CFBundleIdentifier': 'com.apple.Terminal', 'PWD': '/Users/pam/assimil', 'LANG': 'fr_CH.UTF-8', 'PYENV_HOOK_PATH': '/Users/pam/.pyenv/pyenv.d:/opt/homebrew/Cellar/pyenv/2.3.17/pyenv.d:/opt/homebrew/etc/pyenv.d:/etc/pyenv.d:/usr/lib/pyenv/hooks', '_OLD_VIRTUAL_PS1': '%n@%m %1~ %# ', 'EMSDK_PYTHON': '/Users/pam/emsdk/python/3.9.2_64bit/bin/python3', 'XPC_FLAGS': '0x0', 'XPC_SERVICE_NAME': '0', 'PYENV_SHELL': 'zsh', 'HOME': '/Users/pam', 'SHLVL': '1', 'HOMEBREW_PREFIX': '/opt/homebrew', 'LOGNAME': 'pam', 'INFOPATH': '/opt/homebrew/share/info:', 'HOMEBREW_CELLAR': '/opt/homebrew/Cellar', 'SECURITYSESSIONID': '186a2', '__CF_USER_TEXT_ENCODING': '0x1F5:0x0:0x12', 'PYDEVD_USE_FRAME_EVAL': 'NO', 'JPY_SESSION_NAME': '/Users/pam/assimil/Untitled.ipynb', 'JPY_PARENT_PID': '19432', 'CLICOLOR': '1', 'FORCE_COLOR': '1', 'CLICOLOR_FORCE': '1', 'PAGER': 'cat', 'GIT_PAGER': 'cat', 'MPLBACKEND': 'module://matplotlib_inline.backend_inline'}))>"
      ]
     },
     "execution_count": 12,
     "metadata": {},
     "output_type": "execute_result"
    }
   ],
   "source": [
    "test"
   ]
  },
  {
   "cell_type": "code",
   "execution_count": null,
   "id": "617244e6-a8b2-4a25-ab3f-4e8f61e75298",
   "metadata": {},
   "outputs": [],
   "source": []
  }
 ],
 "metadata": {
  "kernelspec": {
   "display_name": "Python 3 (ipykernel)",
   "language": "python",
   "name": "python3"
  },
  "language_info": {
   "codemirror_mode": {
    "name": "ipython",
    "version": 3
   },
   "file_extension": ".py",
   "mimetype": "text/x-python",
   "name": "python",
   "nbconvert_exporter": "python",
   "pygments_lexer": "ipython3",
   "version": "3.11.3"
  }
 },
 "nbformat": 4,
 "nbformat_minor": 5
}
