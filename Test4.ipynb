{
 "cells": [
  {
   "cell_type": "code",
   "execution_count": 1,
   "id": "212839e5-4e5f-4dce-be77-6fa87c29db33",
   "metadata": {},
   "outputs": [],
   "source": [
    "s=\"\"\"/Users/pam/Library/pnpm:/opt/homebrew/Cellar/pyenv-virtualenv/1.2.1/shims:/Users/pam/.pyenv/shims:/Users/pam/.pyenv/bin:/opt/homebrew/Cellar/pyenv-virtualenv/1.2.1/shims:/Users/pam/.pyenv/bin:/Users/pam/bin:/opt/homebrew/bin:/opt/homebrew/sbin:/Users/pam/emsdk:/Users/pam/emsdk/upstream/emscripten:/Users/pam/emsdk/node/14.18.2_64bit/bin:/usr/local/bin:/System/Cryptexes/App/usr/bin:/usr/bin:/bin:/usr/sbin:/sbin:/var/run/com.apple.security.cryptexd/codex.system/bootstrap/usr/local/bin:/var/run/com.apple.security.cryptexd/codex.system/bootstrap/usr/bin:/var/run/com.apple.security.cryptexd/codex.system/bootstrap/usr/appleinternal/bin:/Library/TeX/texbin:/Users/pam/.cargo/bin:/Applications/Visual Studio Code.app/Contents/Resources/app/bin:/Applications/Visual Studio Code.app/Contents/Resources/app/bin:/Applications/Visual Studio Code.app/Contents/Resources/app/bin\"\"\""
   ]
  },
  {
   "cell_type": "code",
   "execution_count": 2,
   "id": "3306330d-80e8-44a5-93c3-1639231ed2a2",
   "metadata": {},
   "outputs": [
    {
     "data": {
      "text/plain": [
       "'/Users/pam/Library/pnpm:/opt/homebrew/Cellar/pyenv-virtualenv/1.2.1/shims:/Users/pam/.pyenv/shims:/Users/pam/.pyenv/bin:/opt/homebrew/Cellar/pyenv-virtualenv/1.2.1/shims:/Users/pam/.pyenv/bin:/Users/pam/bin:/opt/homebrew/bin:/opt/homebrew/sbin:/Users/pam/emsdk:/Users/pam/emsdk/upstream/emscripten:/Users/pam/emsdk/node/14.18.2_64bit/bin:/usr/local/bin:/System/Cryptexes/App/usr/bin:/usr/bin:/bin:/usr/sbin:/sbin:/var/run/com.apple.security.cryptexd/codex.system/bootstrap/usr/local/bin:/var/run/com.apple.security.cryptexd/codex.system/bootstrap/usr/bin:/var/run/com.apple.security.cryptexd/codex.system/bootstrap/usr/appleinternal/bin:/Library/TeX/texbin:/Users/pam/.cargo/bin:/Applications/Visual Studio Code.app/Contents/Resources/app/bin:/Applications/Visual Studio Code.app/Contents/Resources/app/bin:/Applications/Visual Studio Code.app/Contents/Resources/app/bin'"
      ]
     },
     "execution_count": 2,
     "metadata": {},
     "output_type": "execute_result"
    }
   ],
   "source": [
    "s"
   ]
  },
  {
   "cell_type": "code",
   "execution_count": 4,
   "id": "dcfce77a-96ae-4295-8fdc-5213462ea254",
   "metadata": {},
   "outputs": [
    {
     "data": {
      "text/plain": [
       "68"
      ]
     },
     "execution_count": 4,
     "metadata": {},
     "output_type": "execute_result"
    }
   ],
   "source": [
    "s.find('shims')"
   ]
  },
  {
   "cell_type": "code",
   "execution_count": null,
   "id": "0d9f0b4d-d694-450f-826f-446a60824d5e",
   "metadata": {},
   "outputs": [],
   "source": []
  }
 ],
 "metadata": {
  "kernelspec": {
   "display_name": "Python 3 (ipykernel)",
   "language": "python",
   "name": "python3"
  },
  "language_info": {
   "codemirror_mode": {
    "name": "ipython",
    "version": 3
   },
   "file_extension": ".py",
   "mimetype": "text/x-python",
   "name": "python",
   "nbconvert_exporter": "python",
   "pygments_lexer": "ipython3",
   "version": "3.11.3"
  }
 },
 "nbformat": 4,
 "nbformat_minor": 5
}
