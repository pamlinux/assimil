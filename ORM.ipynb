{
 "cells": [
  {
   "cell_type": "code",
   "execution_count": 1,
   "id": "81563818-826c-48d2-adfb-5635766134fe",
   "metadata": {},
   "outputs": [],
   "source": [
    "from typing import List\n",
    "from typing import Optional\n",
    "from sqlalchemy import ForeignKey\n",
    "from sqlalchemy import String\n",
    "from sqlalchemy.orm import DeclarativeBase\n",
    "from sqlalchemy.orm import Mapped\n",
    "from sqlalchemy.orm import mapped_column\n",
    "from sqlalchemy.orm import relationship\n",
    "\n",
    "class Base(DeclarativeBase):\n",
    "    pass\n",
    "\n",
    "class User(Base):\n",
    "    __tablename__ = \"user_account\"\n",
    "    id: Mapped[int] = mapped_column(primary_key=True)\n",
    "    name: Mapped[str] = mapped_column(String(30))\n",
    "    fullname: Mapped[Optional[str]]\n",
    "    addresses: Mapped[List[\"Address\"]] = relationship(\n",
    "        back_populates=\"user\", cascade=\"all, delete-orphan\"\n",
    "    )\n",
    "    def __repr__(self) -> str:\n",
    "        return f\"User(id={self.id!r}, name={self.name!r}, fullname={self.fullname!r})\"\n",
    "\n",
    "class Address(Base):\n",
    "    __tablename__ = \"address\"\n",
    "    id: Mapped[int] = mapped_column(primary_key=True)\n",
    "    email_address: Mapped[str]\n",
    "    user_id: Mapped[int] = mapped_column(ForeignKey(\"user_account.id\"))\n",
    "    user: Mapped[\"User\"] = relationship(back_populates=\"addresses\")\n",
    "    def __repr__(self) -> str:\n",
    "        return f\"Address(id={self.id!r}, email_address={self.email_address!r})\""
   ]
  },
  {
   "cell_type": "code",
   "execution_count": 2,
   "id": "82cd10cb-7034-48a3-9ac6-eb680315ac23",
   "metadata": {},
   "outputs": [],
   "source": [
    "from sqlalchemy import create_engine\n",
    "engine = create_engine(\"sqlite://\", echo=True)"
   ]
  },
  {
   "cell_type": "code",
   "execution_count": 3,
   "id": "1c2b17c6-c4fd-425f-89a1-1bfbac929007",
   "metadata": {},
   "outputs": [
    {
     "name": "stdout",
     "output_type": "stream",
     "text": [
      "2024-09-13 00:37:07,321 INFO sqlalchemy.engine.Engine BEGIN (implicit)\n",
      "2024-09-13 00:37:07,322 INFO sqlalchemy.engine.Engine PRAGMA main.table_info(\"user_account\")\n",
      "2024-09-13 00:37:07,323 INFO sqlalchemy.engine.Engine [raw sql] ()\n",
      "2024-09-13 00:37:07,324 INFO sqlalchemy.engine.Engine PRAGMA temp.table_info(\"user_account\")\n",
      "2024-09-13 00:37:07,324 INFO sqlalchemy.engine.Engine [raw sql] ()\n",
      "2024-09-13 00:37:07,325 INFO sqlalchemy.engine.Engine PRAGMA main.table_info(\"address\")\n",
      "2024-09-13 00:37:07,325 INFO sqlalchemy.engine.Engine [raw sql] ()\n",
      "2024-09-13 00:37:07,326 INFO sqlalchemy.engine.Engine PRAGMA temp.table_info(\"address\")\n",
      "2024-09-13 00:37:07,326 INFO sqlalchemy.engine.Engine [raw sql] ()\n",
      "2024-09-13 00:37:07,328 INFO sqlalchemy.engine.Engine \n",
      "CREATE TABLE user_account (\n",
      "\tid INTEGER NOT NULL, \n",
      "\tname VARCHAR(30) NOT NULL, \n",
      "\tfullname VARCHAR, \n",
      "\tPRIMARY KEY (id)\n",
      ")\n",
      "\n",
      "\n",
      "2024-09-13 00:37:07,328 INFO sqlalchemy.engine.Engine [no key 0.00049s] ()\n",
      "2024-09-13 00:37:07,330 INFO sqlalchemy.engine.Engine \n",
      "CREATE TABLE address (\n",
      "\tid INTEGER NOT NULL, \n",
      "\temail_address VARCHAR NOT NULL, \n",
      "\tuser_id INTEGER NOT NULL, \n",
      "\tPRIMARY KEY (id), \n",
      "\tFOREIGN KEY(user_id) REFERENCES user_account (id)\n",
      ")\n",
      "\n",
      "\n",
      "2024-09-13 00:37:07,330 INFO sqlalchemy.engine.Engine [no key 0.00067s] ()\n",
      "2024-09-13 00:37:07,331 INFO sqlalchemy.engine.Engine COMMIT\n"
     ]
    }
   ],
   "source": [
    "Base.metadata.create_all(engine)"
   ]
  },
  {
   "cell_type": "code",
   "execution_count": 6,
   "id": "ca33f840-2d44-4bbc-b2d5-06b6e919d6db",
   "metadata": {},
   "outputs": [
    {
     "name": "stdout",
     "output_type": "stream",
     "text": [
      "2024-08-19 08:56:07,254 INFO sqlalchemy.engine.Engine BEGIN (implicit)\n",
      "2024-08-19 08:56:07,255 INFO sqlalchemy.engine.Engine INSERT INTO user_account (name, fullname) VALUES (?, ?) RETURNING id\n",
      "2024-08-19 08:56:07,256 INFO sqlalchemy.engine.Engine [cached since 159.7s ago (insertmanyvalues) 1/3 (ordered; batch not supported)] ('spongebob', 'Spongebob Squarepants')\n",
      "2024-08-19 08:56:07,257 INFO sqlalchemy.engine.Engine INSERT INTO user_account (name, fullname) VALUES (?, ?) RETURNING id\n",
      "2024-08-19 08:56:07,258 INFO sqlalchemy.engine.Engine [insertmanyvalues 2/3 (ordered; batch not supported)] ('sandy', 'Sandy Cheeks')\n",
      "2024-08-19 08:56:07,259 INFO sqlalchemy.engine.Engine INSERT INTO user_account (name, fullname) VALUES (?, ?) RETURNING id\n",
      "2024-08-19 08:56:07,259 INFO sqlalchemy.engine.Engine [insertmanyvalues 3/3 (ordered; batch not supported)] ('patrick', 'Patrick Star')\n",
      "2024-08-19 08:56:07,262 INFO sqlalchemy.engine.Engine INSERT INTO address (email_address, user_id) VALUES (?, ?) RETURNING id\n",
      "2024-08-19 08:56:07,263 INFO sqlalchemy.engine.Engine [generated in 0.00015s (insertmanyvalues) 1/3 (ordered; batch not supported)] ('spongebob@sqlalchemy.org', 1)\n",
      "2024-08-19 08:56:07,263 INFO sqlalchemy.engine.Engine INSERT INTO address (email_address, user_id) VALUES (?, ?) RETURNING id\n",
      "2024-08-19 08:56:07,264 INFO sqlalchemy.engine.Engine [insertmanyvalues 2/3 (ordered; batch not supported)] ('sandy@sqlalchemy.org', 2)\n",
      "2024-08-19 08:56:07,264 INFO sqlalchemy.engine.Engine INSERT INTO address (email_address, user_id) VALUES (?, ?) RETURNING id\n",
      "2024-08-19 08:56:07,265 INFO sqlalchemy.engine.Engine [insertmanyvalues 3/3 (ordered; batch not supported)] ('sandy@squirrelpower.org', 2)\n",
      "2024-08-19 08:56:07,266 INFO sqlalchemy.engine.Engine COMMIT\n"
     ]
    }
   ],
   "source": [
    "from sqlalchemy.orm import Session\n",
    "\n",
    "with Session(engine) as session:\n",
    "    spongebob = User(\n",
    "        name=\"spongebob\",\n",
    "        fullname=\"Spongebob Squarepants\",\n",
    "        addresses=[Address(email_address=\"spongebob@sqlalchemy.org\")],\n",
    "    )\n",
    "    sandy = User(\n",
    "        name=\"sandy\",\n",
    "        fullname=\"Sandy Cheeks\",\n",
    "        addresses=[\n",
    "            Address(email_address=\"sandy@sqlalchemy.org\"),\n",
    "            Address(email_address=\"sandy@squirrelpower.org\"),\n",
    "        ],\n",
    "    )\n",
    "    patrick = User(name=\"patrick\", fullname=\"Patrick Star\")\n",
    "    session.add_all([spongebob, sandy, patrick])\n",
    "    session.commit()"
   ]
  },
  {
   "cell_type": "code",
   "execution_count": 7,
   "id": "f2aaec74-76bf-4e38-a2a2-6d69cdb10341",
   "metadata": {},
   "outputs": [
    {
     "name": "stdout",
     "output_type": "stream",
     "text": [
      "2024-08-19 08:56:11,280 INFO sqlalchemy.engine.Engine BEGIN (implicit)\n",
      "2024-08-19 08:56:11,284 INFO sqlalchemy.engine.Engine SELECT user_account.id, user_account.name, user_account.fullname \n",
      "FROM user_account \n",
      "WHERE user_account.name IN (?, ?)\n",
      "2024-08-19 08:56:11,286 INFO sqlalchemy.engine.Engine [generated in 0.00165s] ('spongebob', 'sandy')\n",
      "User(id=1, name='spongebob', fullname='Spongebob Squarepants')\n",
      "User(id=2, name='sandy', fullname='Sandy Cheeks')\n"
     ]
    }
   ],
   "source": [
    "from sqlalchemy import select\n",
    "\n",
    "session = Session(engine)\n",
    "\n",
    "stmt = select(User).where(User.name.in_([\"spongebob\", \"sandy\"]))\n",
    "\n",
    "for user in session.scalars(stmt):\n",
    "    print(user)"
   ]
  },
  {
   "cell_type": "code",
   "execution_count": 8,
   "id": "f1afea34-17b7-4f6c-a027-d8a302870d76",
   "metadata": {},
   "outputs": [
    {
     "name": "stdout",
     "output_type": "stream",
     "text": [
      "2024-08-19 08:56:13,623 INFO sqlalchemy.engine.Engine BEGIN (implicit)\n",
      "2024-08-19 08:56:13,626 INFO sqlalchemy.engine.Engine SELECT user_account.id, user_account.name, user_account.fullname \n",
      "FROM user_account \n",
      "WHERE user_account.name = ?\n",
      "2024-08-19 08:56:13,627 INFO sqlalchemy.engine.Engine [generated in 0.00133s] ('patrick',)\n",
      "User(id=3, name='patrick', fullname='Patrick Star')\n"
     ]
    }
   ],
   "source": [
    "from sqlalchemy import select\n",
    "\n",
    "session = Session(engine)\n",
    "\n",
    "stmt = select(User).where(User.name == \"patrick\")\n",
    "\n",
    "for user in session.scalars(stmt):\n",
    "    print(user)"
   ]
  },
  {
   "cell_type": "code",
   "execution_count": 9,
   "id": "55343707-f771-4477-85d3-114dc54d0410",
   "metadata": {},
   "outputs": [
    {
     "name": "stdout",
     "output_type": "stream",
     "text": [
      "2024-08-19 08:56:15,608 INFO sqlalchemy.engine.Engine SELECT address.id, address.email_address, address.user_id \n",
      "FROM address JOIN user_account ON user_account.id = address.user_id \n",
      "WHERE user_account.name = ? AND address.email_address = ?\n",
      "2024-08-19 08:56:15,608 INFO sqlalchemy.engine.Engine [generated in 0.00106s] ('sandy', 'sandy@sqlalchemy.org')\n"
     ]
    },
    {
     "data": {
      "text/plain": [
       "Address(id=2, email_address='sandy@sqlalchemy.org')"
      ]
     },
     "execution_count": 9,
     "metadata": {},
     "output_type": "execute_result"
    }
   ],
   "source": [
    "stmt = (\n",
    "    select(Address)\n",
    "    .join(Address.user)\n",
    "    .where(User.name == \"sandy\")\n",
    "    .where(Address.email_address == \"sandy@sqlalchemy.org\")\n",
    ")\n",
    "sandy_address = session.scalars(stmt).one()\n",
    "sandy_address"
   ]
  },
  {
   "cell_type": "code",
   "execution_count": 10,
   "id": "ace6496f-b3eb-4c1d-8228-cf9e78ef990a",
   "metadata": {},
   "outputs": [
    {
     "name": "stdout",
     "output_type": "stream",
     "text": [
      "2024-08-19 08:56:17,319 INFO sqlalchemy.engine.Engine SELECT user_account.id, user_account.name, user_account.fullname \n",
      "FROM user_account \n",
      "WHERE user_account.name = ?\n",
      "2024-08-19 08:56:17,320 INFO sqlalchemy.engine.Engine [cached since 3.695s ago] ('patrick',)\n",
      "2024-08-19 08:56:17,324 INFO sqlalchemy.engine.Engine SELECT address.id AS address_id, address.email_address AS address_email_address, address.user_id AS address_user_id \n",
      "FROM address \n",
      "WHERE ? = address.user_id\n",
      "2024-08-19 08:56:17,325 INFO sqlalchemy.engine.Engine [generated in 0.00109s] (3,)\n",
      "2024-08-19 08:56:17,329 INFO sqlalchemy.engine.Engine UPDATE address SET email_address=? WHERE address.id = ?\n",
      "2024-08-19 08:56:17,329 INFO sqlalchemy.engine.Engine [generated in 0.00072s] ('sandy_cheeks@sqlalchemy.org', 2)\n",
      "2024-08-19 08:56:17,331 INFO sqlalchemy.engine.Engine INSERT INTO address (email_address, user_id) VALUES (?, ?)\n",
      "2024-08-19 08:56:17,331 INFO sqlalchemy.engine.Engine [generated in 0.00059s] ('patrickstar@sqlalchemy.org', 3)\n",
      "2024-08-19 08:56:17,332 INFO sqlalchemy.engine.Engine COMMIT\n"
     ]
    }
   ],
   "source": [
    "stmt = select(User).where(User.name == \"patrick\")\n",
    "patrick = session.scalars(stmt).one()\n",
    "patrick.addresses.append(Address(email_address=\"patrickstar@sqlalchemy.org\"))\n",
    "sandy_address.email_address = \"sandy_cheeks@sqlalchemy.org\"\n",
    "\n",
    "session.commit()"
   ]
  },
  {
   "cell_type": "code",
   "execution_count": 11,
   "id": "5e731e9b-7c89-4a73-9ce4-a4c807a51668",
   "metadata": {},
   "outputs": [],
   "source": [
    "stmt = select(User)"
   ]
  },
  {
   "cell_type": "code",
   "execution_count": 12,
   "id": "4cfb1189-d0be-4edc-a477-6fd99e834e8a",
   "metadata": {},
   "outputs": [
    {
     "name": "stdout",
     "output_type": "stream",
     "text": [
      "2024-08-19 08:56:20,512 INFO sqlalchemy.engine.Engine BEGIN (implicit)\n",
      "2024-08-19 08:56:20,513 INFO sqlalchemy.engine.Engine SELECT user_account.id, user_account.name, user_account.fullname \n",
      "FROM user_account\n",
      "2024-08-19 08:56:20,514 INFO sqlalchemy.engine.Engine [generated in 0.00080s] ()\n",
      "User(id=1, name='spongebob', fullname='Spongebob Squarepants')\n",
      "User(id=2, name='sandy', fullname='Sandy Cheeks')\n",
      "User(id=3, name='patrick', fullname='Patrick Star')\n"
     ]
    }
   ],
   "source": [
    "for user in session.scalars(stmt):\n",
    "    print(user)"
   ]
  },
  {
   "cell_type": "code",
   "execution_count": 13,
   "id": "2b58d46b-0326-4f31-a75b-3e81d889bb9b",
   "metadata": {},
   "outputs": [],
   "source": [
    "stmt = select(User).where(User.name == \"patrick\")"
   ]
  },
  {
   "cell_type": "code",
   "execution_count": 14,
   "id": "580ad7ca-f05d-4d82-84a5-9d3c61c4b829",
   "metadata": {},
   "outputs": [
    {
     "name": "stdout",
     "output_type": "stream",
     "text": [
      "2024-08-19 08:56:22,043 INFO sqlalchemy.engine.Engine SELECT user_account.id, user_account.name, user_account.fullname \n",
      "FROM user_account \n",
      "WHERE user_account.name = ?\n",
      "2024-08-19 08:56:22,044 INFO sqlalchemy.engine.Engine [cached since 8.418s ago] ('patrick',)\n"
     ]
    }
   ],
   "source": [
    "patrick = session.scalars(stmt).one()"
   ]
  },
  {
   "cell_type": "code",
   "execution_count": 15,
   "id": "c16db7c2-b2ef-471a-a081-1a6d00b94b01",
   "metadata": {},
   "outputs": [
    {
     "data": {
      "text/plain": [
       "User(id=3, name='patrick', fullname='Patrick Star')"
      ]
     },
     "execution_count": 15,
     "metadata": {},
     "output_type": "execute_result"
    }
   ],
   "source": [
    "patrick"
   ]
  },
  {
   "cell_type": "code",
   "execution_count": 16,
   "id": "3b2b80f5-e380-4998-ae99-4367c7aa0816",
   "metadata": {},
   "outputs": [
    {
     "name": "stdout",
     "output_type": "stream",
     "text": [
      "2024-08-19 08:56:25,056 INFO sqlalchemy.engine.Engine SELECT address.id AS address_id, address.email_address AS address_email_address, address.user_id AS address_user_id \n",
      "FROM address \n",
      "WHERE ? = address.user_id\n",
      "2024-08-19 08:56:25,057 INFO sqlalchemy.engine.Engine [cached since 7.734s ago] (3,)\n"
     ]
    },
    {
     "data": {
      "text/plain": [
       "[Address(id=4, email_address='patrickstar@sqlalchemy.org')]"
      ]
     },
     "execution_count": 16,
     "metadata": {},
     "output_type": "execute_result"
    }
   ],
   "source": [
    "patrick.addresses"
   ]
  },
  {
   "cell_type": "code",
   "execution_count": 17,
   "id": "2e95abdf-b8bd-4dbd-b090-216946d54f79",
   "metadata": {},
   "outputs": [
    {
     "name": "stdout",
     "output_type": "stream",
     "text": [
      "2024-08-19 08:56:26,906 INFO sqlalchemy.engine.Engine SELECT user_account.id AS user_account_id, user_account.name AS user_account_name, user_account.fullname AS user_account_fullname \n",
      "FROM user_account \n",
      "WHERE user_account.id = ?\n",
      "2024-08-19 08:56:26,907 INFO sqlalchemy.engine.Engine [generated in 0.00103s] (2,)\n",
      "2024-08-19 08:56:26,909 INFO sqlalchemy.engine.Engine SELECT address.id AS address_id, address.email_address AS address_email_address, address.user_id AS address_user_id \n",
      "FROM address \n",
      "WHERE ? = address.user_id\n",
      "2024-08-19 08:56:26,910 INFO sqlalchemy.engine.Engine [cached since 9.586s ago] (2,)\n"
     ]
    }
   ],
   "source": [
    "sandy = session.get(User, 2)\n",
    "sandy.addresses.remove(sandy_address)"
   ]
  },
  {
   "cell_type": "code",
   "execution_count": 18,
   "id": "409d198e-59a1-4ce5-90ce-44e28adf2150",
   "metadata": {},
   "outputs": [
    {
     "name": "stdout",
     "output_type": "stream",
     "text": [
      "2024-08-19 08:56:31,403 INFO sqlalchemy.engine.Engine DELETE FROM address WHERE address.id = ?\n",
      "2024-08-19 08:56:31,404 INFO sqlalchemy.engine.Engine [generated in 0.00112s] (2,)\n"
     ]
    }
   ],
   "source": [
    "session.flush()"
   ]
  },
  {
   "cell_type": "code",
   "execution_count": 19,
   "id": "0e9eb979-3e4c-47cc-99dd-276bef5ef80f",
   "metadata": {},
   "outputs": [],
   "source": [
    "session.delete(patrick)"
   ]
  },
  {
   "cell_type": "code",
   "execution_count": 20,
   "id": "86714630-0e95-4aee-b9f1-942b33fac9ea",
   "metadata": {},
   "outputs": [
    {
     "name": "stdout",
     "output_type": "stream",
     "text": [
      "2024-08-19 08:56:32,641 INFO sqlalchemy.engine.Engine DELETE FROM address WHERE address.id = ?\n",
      "2024-08-19 08:56:32,642 INFO sqlalchemy.engine.Engine [cached since 1.24s ago] (4,)\n",
      "2024-08-19 08:56:32,644 INFO sqlalchemy.engine.Engine DELETE FROM user_account WHERE user_account.id = ?\n",
      "2024-08-19 08:56:32,645 INFO sqlalchemy.engine.Engine [generated in 0.00086s] (3,)\n",
      "2024-08-19 08:56:32,645 INFO sqlalchemy.engine.Engine COMMIT\n"
     ]
    }
   ],
   "source": [
    "session.commit()"
   ]
  },
  {
   "cell_type": "code",
   "execution_count": null,
   "id": "072fdb27-d35d-4bc2-b19c-8da1017de68f",
   "metadata": {},
   "outputs": [],
   "source": []
  }
 ],
 "metadata": {
  "kernelspec": {
   "display_name": "Python 3 (ipykernel)",
   "language": "python",
   "name": "python3"
  },
  "language_info": {
   "codemirror_mode": {
    "name": "ipython",
    "version": 3
   },
   "file_extension": ".py",
   "mimetype": "text/x-python",
   "name": "python",
   "nbconvert_exporter": "python",
   "pygments_lexer": "ipython3",
   "version": "3.11.3"
  }
 },
 "nbformat": 4,
 "nbformat_minor": 5
}
