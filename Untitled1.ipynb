{
 "cells": [
  {
   "cell_type": "code",
   "execution_count": 16,
   "id": "6ea7f66c-5cd1-4020-ad92-b0507aba1980",
   "metadata": {},
   "outputs": [
    {
     "data": {
      "text/plain": [
       "PosixPath('db/tonic_accent_word_dict.db')"
      ]
     },
     "execution_count": 16,
     "metadata": {},
     "output_type": "execute_result"
    }
   ],
   "source": [
    "from tonic_accent import get_tonic_accent_word_dict\n",
    "from pathlib import Path\n",
    "db_directory = \"db\"\n",
    "word_dict_filename = \"tonic_accent_word_dict\"\n",
    "Path(db_directory, word_dict_filename).with_suffix(\".db\")"
   ]
  },
  {
   "cell_type": "code",
   "execution_count": 17,
   "id": "66da73bc-6ef0-4bb9-be05-eccbbbdcdf6a",
   "metadata": {},
   "outputs": [
    {
     "name": "stdout",
     "output_type": "stream",
     "text": [
      "L001.html\n",
      "L001.html  :  1428\n",
      "L002.html\n",
      "L002.html  :  2081\n",
      "L003.html\n",
      "L003.html  :  2141\n",
      "L004.html\n",
      "L004.html  :  2099\n",
      "L005.html\n",
      "L005.html  :  812\n",
      "L006.html\n",
      "L006.html  :  785\n",
      "L007.html\n",
      "L007.html  :  751\n",
      "L008.html\n",
      "L008.html  :  1117\n",
      "L009.html\n",
      "L009.html  :  1059\n",
      "L010.html\n",
      "L010.html  :  1064\n",
      "L011.html\n",
      "L011.html  :  1216\n",
      "L012.html\n",
      "L012.html  :  1104\n",
      "L013.html\n",
      "L013.html  :  1180\n",
      "L014.html\n",
      "L014.html  :  954\n",
      "L015.html\n",
      "L015.html  :  812\n",
      "--- 0.032376766204833984 seconds ---\n"
     ]
    }
   ],
   "source": [
    "import time\n",
    "start_time = time.time()\n",
    "wd = get_tonic_accent_word_dict()\n",
    "print(\"--- %s seconds ---\" % (time.time() - start_time))"
   ]
  },
  {
   "cell_type": "code",
   "execution_count": 18,
   "id": "92fc8576-4f92-4ce2-b6a8-6ff0458f56f3",
   "metadata": {},
   "outputs": [
    {
     "data": {
      "text/plain": [
       "<shelve.DbfilenameShelf at 0x105d6a550>"
      ]
     },
     "execution_count": 18,
     "metadata": {},
     "output_type": "execute_result"
    }
   ],
   "source": [
    "wd"
   ]
  },
  {
   "cell_type": "code",
   "execution_count": 19,
   "id": "eb13c899-93ed-4e73-8fb1-b49c9b83c5dd",
   "metadata": {},
   "outputs": [
    {
     "data": {
      "text/plain": [
       "KeysView(<shelve.DbfilenameShelf object at 0x105d6a550>)"
      ]
     },
     "execution_count": 19,
     "metadata": {},
     "output_type": "execute_result"
    }
   ],
   "source": [
    "wd.keys()"
   ]
  },
  {
   "cell_type": "code",
   "execution_count": 20,
   "id": "8d20f3bd-9213-404b-9e92-ec402e541d5e",
   "metadata": {},
   "outputs": [
    {
     "data": {
      "text/plain": [
       "[('o', False), ('chen', True), ('ta', False)]"
      ]
     },
     "execution_count": 20,
     "metadata": {},
     "output_type": "execute_result"
    }
   ],
   "source": [
    "wd[\"ochenta\"]"
   ]
  },
  {
   "cell_type": "code",
   "execution_count": 21,
   "id": "0f7ae427-775d-4afb-b690-55b644d7ad22",
   "metadata": {},
   "outputs": [
    {
     "ename": "KeyError",
     "evalue": "b'Ad\\xc3\\xb3nde'",
     "output_type": "error",
     "traceback": [
      "\u001b[0;31m---------------------------------------------------------------------------\u001b[0m",
      "\u001b[0;31mKeyError\u001b[0m                                  Traceback (most recent call last)",
      "File \u001b[0;32m~/.pyenv/versions/3.11.3/lib/python3.11/shelve.py:111\u001b[0m, in \u001b[0;36mShelf.__getitem__\u001b[0;34m(self, key)\u001b[0m\n\u001b[1;32m    110\u001b[0m \u001b[38;5;28;01mtry\u001b[39;00m:\n\u001b[0;32m--> 111\u001b[0m     value \u001b[38;5;241m=\u001b[39m \u001b[38;5;28;43mself\u001b[39;49m\u001b[38;5;241;43m.\u001b[39;49m\u001b[43mcache\u001b[49m\u001b[43m[\u001b[49m\u001b[43mkey\u001b[49m\u001b[43m]\u001b[49m\n\u001b[1;32m    112\u001b[0m \u001b[38;5;28;01mexcept\u001b[39;00m \u001b[38;5;167;01mKeyError\u001b[39;00m:\n",
      "\u001b[0;31mKeyError\u001b[0m: 'Adónde'",
      "\nDuring handling of the above exception, another exception occurred:\n",
      "\u001b[0;31mKeyError\u001b[0m                                  Traceback (most recent call last)",
      "Cell \u001b[0;32mIn[21], line 1\u001b[0m\n\u001b[0;32m----> 1\u001b[0m \u001b[43mwd\u001b[49m\u001b[43m[\u001b[49m\u001b[38;5;124;43m\"\u001b[39;49m\u001b[38;5;124;43mAdónde\u001b[39;49m\u001b[38;5;124;43m\"\u001b[39;49m\u001b[43m]\u001b[49m\n",
      "File \u001b[0;32m~/.pyenv/versions/3.11.3/lib/python3.11/shelve.py:113\u001b[0m, in \u001b[0;36mShelf.__getitem__\u001b[0;34m(self, key)\u001b[0m\n\u001b[1;32m    111\u001b[0m     value \u001b[38;5;241m=\u001b[39m \u001b[38;5;28mself\u001b[39m\u001b[38;5;241m.\u001b[39mcache[key]\n\u001b[1;32m    112\u001b[0m \u001b[38;5;28;01mexcept\u001b[39;00m \u001b[38;5;167;01mKeyError\u001b[39;00m:\n\u001b[0;32m--> 113\u001b[0m     f \u001b[38;5;241m=\u001b[39m BytesIO(\u001b[38;5;28;43mself\u001b[39;49m\u001b[38;5;241;43m.\u001b[39;49m\u001b[43mdict\u001b[49m\u001b[43m[\u001b[49m\u001b[43mkey\u001b[49m\u001b[38;5;241;43m.\u001b[39;49m\u001b[43mencode\u001b[49m\u001b[43m(\u001b[49m\u001b[38;5;28;43mself\u001b[39;49m\u001b[38;5;241;43m.\u001b[39;49m\u001b[43mkeyencoding\u001b[49m\u001b[43m)\u001b[49m\u001b[43m]\u001b[49m)\n\u001b[1;32m    114\u001b[0m     value \u001b[38;5;241m=\u001b[39m Unpickler(f)\u001b[38;5;241m.\u001b[39mload()\n\u001b[1;32m    115\u001b[0m     \u001b[38;5;28;01mif\u001b[39;00m \u001b[38;5;28mself\u001b[39m\u001b[38;5;241m.\u001b[39mwriteback:\n",
      "\u001b[0;31mKeyError\u001b[0m: b'Ad\\xc3\\xb3nde'"
     ]
    }
   ],
   "source": [
    "wd[\"Adónde\"]"
   ]
  },
  {
   "cell_type": "code",
   "execution_count": 14,
   "id": "e8d7a7c8-d631-465e-96d4-b40f87abd2dd",
   "metadata": {},
   "outputs": [],
   "source": [
    "lwd = {}\n",
    "for key in wd:\n",
    "    lwd[key] = wd[key]"
   ]
  },
  {
   "cell_type": "code",
   "execution_count": 30,
   "id": "145a736e-dc37-458c-b262-d82adf9dd1f6",
   "metadata": {},
   "outputs": [
    {
     "data": {
      "text/plain": [
       "{'primera': [('pri', False), ('me', True), ('ra', False)],\n",
       " 'n2': [('N2', False)],\n",
       " 'las': [('las', False)],\n",
       " 'andaluza': [('anda', False), ('lu', True), ('za', False)],\n",
       " 'sevilla': [('Se', False), ('vi', True), ('lla', False)],\n",
       " 'cuarta': [('cua', True), ('rta', False)],\n",
       " 'está': [('est', False), ('á', True)],\n",
       " 'cuántos': [('Cuá', True), ('ntos', False)],\n",
       " 'leo': [('le', True), ('o', False)],\n",
       " 'botellita': [('bote', False), ('lli', True), ('ta', False)],\n",
       " 'con': [('con', False)],\n",
       " 'cruasán': [('crua', False), ('sán', True)],\n",
       " 'sobrasada': [('sobra', False), ('sa', True), ('da', False)],\n",
       " 'son': [('Son', False)],\n",
       " 'tarde': [('tar', True), ('de', False)],\n",
       " 'duermen': [('duer', True), ('men', False)],\n",
       " 'nos': [('nos', False)],\n",
       " 'media': [('me', True), ('dia', False)],\n",
       " 'españoles': [('espa', False), ('ño', True), ('les', False)],\n",
       " 'n11': [('N11', False)],\n",
       " 'compro': [('com', True), ('pro', False)],\n",
       " 'cerveza': [('cer', False), ('ve', True), ('za', False)],\n",
       " 'y': [('Y', False)],\n",
       " 'tú': [('tú', False)],\n",
       " 'tal': [('tal', False)],\n",
       " '1': [('1', False)],\n",
       " 't05': [('T05', False)],\n",
       " 'dónde': [('Dón', True), ('de', False)],\n",
       " 'de': [('De', False)],\n",
       " 'andalucía': [('Andalu', False), ('cí', True), ('a', False)],\n",
       " 'n3': [('N3', False)],\n",
       " 'javier': [('Ja', False), ('vier', True)],\n",
       " 'te': [('te', False)],\n",
       " 'madrid': [('Ma', False), ('drid', True)],\n",
       " 'a': [('a', False)],\n",
       " 'por': [('por', False)],\n",
       " 'inglés': [('in', False), ('glés', True)],\n",
       " 'francés': [('fran', False), ('cés', True)],\n",
       " 'ejem': [('E', False), ('jem', True)],\n",
       " 'el': [('el', False)],\n",
       " 'claro': [('cla', True), ('ro', False)],\n",
       " 'invito': [('in', False), ('vi', True), ('to', False)],\n",
       " 'ocho': [('o', True), ('cho', False)],\n",
       " 's06': [('S06', False)],\n",
       " 'st02': [('ST02', False)],\n",
       " 'tu': [('tu', False)],\n",
       " 'bueno': [('Bue', True), ('no', False)],\n",
       " 'leche': [('le', True), ('che', False)],\n",
       " 'disculpe': [('dis', False), ('cu', True), ('lpe', False)],\n",
       " 'todos': [('to', True), ('dos', False)],\n",
       " 'poco': [('po', True), ('co', False)],\n",
       " 'quién': [('Quién', False)],\n",
       " 'hablando': [('ha', False), ('blan', True), ('do', False)],\n",
       " 'pelamos': [('pe', False), ('la', True), ('mos', False)],\n",
       " 'muchas': [('Mu', True), ('chas', False)],\n",
       " 'madre': [('ma', True), ('dre', False)],\n",
       " 'n12': [('N12', False)],\n",
       " 'tapas': [('ta', True), ('pas', False)],\n",
       " 'caña': [('ca', True), ('ña', False)],\n",
       " 'calamares': [('cala', False), ('ma', True), ('res', False)],\n",
       " 'nadie': [('na', True), ('die', False)],\n",
       " 'pizzas': [('pi', True), ('zzas', False)],\n",
       " 'compráis': [('com', False), ('práis', True)],\n",
       " 'este': [('este', False)],\n",
       " 'catorce': [('ca', False), ('tor', True), ('ce', False)],\n",
       " 'barato': [('ba', False), ('ra', True), ('to', False)],\n",
       " 'cansado': [('can', False), ('sa', True), ('do', False)],\n",
       " 'levanto': [('le', False), ('van', True), ('to', False)],\n",
       " 'title': [('TITLE', False)],\n",
       " 'qué': [('Qué', False)],\n",
       " 'gracias': [('gra', True), ('cias', False)],\n",
       " 'nací': [('na', False), ('cí', True)],\n",
       " 'llamas': [('lla', True), ('mas', False)],\n",
       " 'me': [('Me', False)],\n",
       " 'morena': [('mo', False), ('re', True), ('na', False)],\n",
       " 'n4': [('N4', False)],\n",
       " 'rafa': [('Ra', True), ('fa', False)],\n",
       " 'hermano': [('her', False), ('ma', True), ('no', False)],\n",
       " 'gusto': [('gus', True), ('to', False)],\n",
       " 'quinta': [('quin', True), ('ta', False)],\n",
       " 'siete': [('sie', True), ('te', False)],\n",
       " 'mañana': [('ma', False), ('ña', True), ('na', False)],\n",
       " 'hora': [('ho', True), ('ra', False)],\n",
       " 'st03': [('ST03', False)],\n",
       " 'séptima': [('sép', True), ('tima', False)],\n",
       " 'diálogo': [('Diá', True), ('logo', False)],\n",
       " 'repaso': [('re', False), ('pa', True), ('so', False)],\n",
       " 's07': [('S07', False)],\n",
       " 'feliz': [('Fe', False), ('liz', True)],\n",
       " 'abuela': [('a', False), ('bue', True), ('la', False)],\n",
       " 'ser': [('ser', False)],\n",
       " 'joven': [('jo', True), ('ven', False)],\n",
       " 'ochenta': [('ochen', True), ('ta', False)],\n",
       " 'coñac': [('co', False), ('ñac', True)],\n",
       " 'regalo': [('re', False), ('ga', True), ('lo', False)],\n",
       " 'siento': [('sien', True), ('to', False)],\n",
       " 'tomate': [('to', False), ('ma', True), ('te', False)],\n",
       " 'menos': [('me', True), ('nos', False)],\n",
       " 'décima': [('dé', True), ('cima', False)],\n",
       " 'vemos': [('Ve', True), ('mos', False)],\n",
       " 'tele': [('te', True), ('le', False)],\n",
       " 'acostamos': [('acos', False), ('ta', True), ('mos', False)],\n",
       " 'os': [('os', False)],\n",
       " 'levantáis': [('levan', False), ('táis', True)],\n",
       " 'ya': [('ya', False)],\n",
       " 'despiertos': [('des', False), ('pier', True), ('tos', False)],\n",
       " 'cariño': [('ca', False), ('ri', True), ('ño', False)],\n",
       " 'correo': [('co', False), ('rre', True), ('o', False)],\n",
       " 'cuántas': [('Cuán', True), ('tas', False)],\n",
       " 'hay': [('Hay', False)],\n",
       " 'ensaladilla': [('ensala', False), ('di', True), ('lla', False)],\n",
       " 'gustan': [('gus', True), ('tan', False)],\n",
       " 'encanta': [('en', False), ('can', True), ('ta', False)],\n",
       " 'n13': [('N13', False)],\n",
       " 'donde': [('don', True), ('de', False)],\n",
       " 'ganas': [('ga', True), ('nas', False)],\n",
       " 'prefiere': [('Pre', False), ('fie', True), ('re', False)],\n",
       " 'quedarse': [('que', False), ('dar', True), ('se', False)],\n",
       " 's00': [('S00', False)],\n",
       " 'paco': [('Pa', True), ('co', False)],\n",
       " 'estás': [('es', False), ('tás', True)],\n",
       " 'pachucho…': [('pa', False), ('chu', True), ('cho…', False)],\n",
       " 'pachucho': [('pa', False), ('chu', True), ('cho', False)],\n",
       " 'familia': [('fa', False), ('mi', True), ('lia', False)],\n",
       " 'en': [('en', False)],\n",
       " 'soy': [('soy', False)],\n",
       " 'rocío': [('Ro', False), ('cío', True)],\n",
       " 'madrileña': [('madri', False), ('le', True), ('ña', False)],\n",
       " 'presentaciones': [('Presenta', False), ('cio', True), ('nes', False)],\n",
       " 'luz': [('Luz', False)],\n",
       " 'miguel': [('Mi', False), ('guel', True)],\n",
       " 'muy': [('Muy', False)],\n",
       " 'n5': [('N5', False)],\n",
       " 'trabajo': [('tra', False), ('ba', True), ('jo', False)],\n",
       " 'lo': [('lo', False)],\n",
       " 'sí': [('Sí', False)],\n",
       " 'terminas': [('ter', False), ('mi', True), ('nas', False)],\n",
       " 'st04': [('ST04', False)],\n",
       " 'hablas': [('hab', True), ('las', False)],\n",
       " 's08': [('S08', False)],\n",
       " 'mujer': [('mu', False), ('jer', True)],\n",
       " 'nueve': [('nue', True), ('ve', False)],\n",
       " 'un': [('un', False)],\n",
       " 'tenemos': [('Te', False), ('ne', True), ('mos', False)],\n",
       " 'tostadas': [('tos', False), ('ta', True), ('das', False)],\n",
       " 'aceite': [('a', False), ('ce', True), ('ite', False)],\n",
       " 'quiere': [('Quie', True), ('re', False)],\n",
       " 'doce': [('do', True), ('ce', False)],\n",
       " 'sabe': [('sa', True), ('be', False)],\n",
       " 'que': [('que', False)],\n",
       " 'pelando': [('Pe', False), ('lan', True), ('do', False)],\n",
       " 'teléfono': [('te', False), ('lé', True), ('fono', False)],\n",
       " 'tampoco': [('tam', False), ('po', True), ('co', False)],\n",
       " 'haciendo': [('ha', False), ('cien', True), ('do', False)],\n",
       " 'podéis': [('po', False), ('déis', True)],\n",
       " 'tortilla': [('tor', False), ('ti', True), ('lla', False)],\n",
       " 'hacer': [('ha', False), ('cer', True)],\n",
       " 'copa': [('co', True), ('pa', False)],\n",
       " 'pongo': [('pon', True), ('go', False)],\n",
       " 'tapita': [('ta', False), ('pi', True), ('ta', False)],\n",
       " 'bacalao': [('bacal', False), ('a', True), ('o', False)],\n",
       " 'boquerones': [('boque', False), ('ro', True), ('nes', False)],\n",
       " 'ración': [('ra', False), ('ción', True)],\n",
       " 'trece': [('tre', True), ('ce', False)],\n",
       " 'plan': [('plan', False)],\n",
       " 'cansada': [('can', False), ('sa', True), ('da', False)],\n",
       " 'conozco': [('Co', False), ('noz', True), ('co', False)],\n",
       " 'centro': [('cen', True), ('tro', False)],\n",
       " 'ir': [('ir', False)],\n",
       " 'mala': [('ma', True), ('la', False)],\n",
       " 'idea': [('i', False), ('de', True), ('a', False)],\n",
       " 'cervezas': [('cer', False), ('ve', True), ('zas', False)],\n",
       " 'acuerdo': [('a', False), ('cuer', True), ('do', False)],\n",
       " 'barata': [('ba', False), ('ra', True), ('ta', False)],\n",
       " 'n14': [('N14', False)],\n",
       " 'lección': [('Lec', False), ('ción', True)],\n",
       " 's01': [('S01', False)],\n",
       " 'hola': [('Ho', True), ('la', False)],\n",
       " 'estoy': [('Es', False), ('toy', True)],\n",
       " 't00': [('T00', False)],\n",
       " 'vivo': [('Vi', True), ('vo', False)],\n",
       " 'buenos': [('Bue', True), ('nos', False)],\n",
       " 'hermana': [('her', False), ('ma', True), ('na', False)],\n",
       " 'padre': [('pa', True), ('dre', False)],\n",
       " 'mucho': [('Mu', True), ('cho', False)],\n",
       " 'n6': [('N6', False)],\n",
       " 'hospital': [('hospi', False), ('tal', True)],\n",
       " 'st05': [('ST05', False)],\n",
       " 'guapo': [('gua', True), ('po', False)],\n",
       " 's09': [('S09', False)],\n",
       " 's10': [('S10', False)],\n",
       " 'tarta': [('tar', True), ('ta', False)],\n",
       " 'nada': [('na', True), ('da', False)],\n",
       " 'más': [('más', False)],\n",
       " 'setenta': [('se', False), ('ten', True), ('ta', False)],\n",
       " 'una': [('u', True), ('na', False)],\n",
       " 'desayunar': [('desayu', False), ('nar', True)],\n",
       " 'diez': [('diez', False)],\n",
       " 'estamos': [('es', False), ('ta', True), ('mos', False)],\n",
       " 'estáis': [('es', False), ('táis', True)],\n",
       " 'cansados': [('can', False), ('sa', True), ('dos', False)],\n",
       " 'ayuda': [('a', False), ('yu', True), ('da', False)],\n",
       " 'pelar': [('pelar', False)],\n",
       " 'mami': [('ma', True), ('mi', False)],\n",
       " 'para': [('pa', True), ('ra', False)],\n",
       " 'brava': [('bra', True), ('va', False)],\n",
       " 'si': [('Si', False)],\n",
       " 'gusta': [('gus', True), ('ta', False)],\n",
       " 'vinagre': [('vi', False), ('na', True), ('gre', False)],\n",
       " 'prefiero': [('Pre', False), ('fie', True), ('ro', False)],\n",
       " 'quedarme': [('que', False), ('dar', True), ('me', False)],\n",
       " 'duermo': [('Duer', True), ('mo', False)],\n",
       " 'seis': [('Seis', False)],\n",
       " 'acuesto': [('a', False), ('cues', True), ('to', False)],\n",
       " 'laura': [('Lau', True), ('ra', False)],\n",
       " 's02': [('S02', False)],\n",
       " 'cómo': [('Có', True), ('mo', False)],\n",
       " 'ejercicio': [('Ejer', False), ('ci', True), ('cio', False)],\n",
       " '–': [('–', False)],\n",
       " 't01': [('T01', False)],\n",
       " 'vives': [('vi', True), ('ves', False)],\n",
       " 'bienvenida': [('Bienve', False), ('ni', True), ('da', False)],\n",
       " 'llamo': [('lla', True), ('mo', False)],\n",
       " 'encantado': [('Encan', False), ('ta', True), ('do', False)],\n",
       " 'no': [('No', False)],\n",
       " 'pues': [('Pues', False)],\n",
       " 'usted': [('us', False), ('ted', True)],\n",
       " 'háblame': [('há', True), ('blame', False)],\n",
       " 'entrevista': [('Entre', False), ('vis', True), ('ta', False)],\n",
       " 'solo': [('so', True), ('lo', False)],\n",
       " 'escribe': [('es', False), ('cri', True), ('be', False)],\n",
       " 'sexta': [('sex', True), ('ta', False)],\n",
       " 'la': [('la', False)],\n",
       " 'enfermera': [('enfer', False), ('me', True), ('ra', False)],\n",
       " 'al': [('al', False)],\n",
       " 'n7': [('N7', False)],\n",
       " 'cumpleaños': [('cumple', False), ('a', True), ('ños', False)],\n",
       " 'quiero': [('quie', True), ('ro', False)],\n",
       " 'regalos': [('re', False), ('ga', True), ('los', False)],\n",
       " 'tengo': [('ten', True), ('go', False)],\n",
       " 'viejo': [('vie', True), ('jo', False)],\n",
       " 'caballero': [('caba', False), ('lle', True), ('ro', False)],\n",
       " 'cruasanes': [('crua', False), ('sa', True), ('nes', False)],\n",
       " 'da': [('da', False)],\n",
       " 'once': [('on', True), ('ce', False)],\n",
       " 'cuándo': [('Cuán', True), ('do', False)],\n",
       " 'noche': [('no', True), ('che', False)],\n",
       " 'día': [('dí', True), ('a', False)],\n",
       " 'puedo': [('pue', True), ('do', False)],\n",
       " 'tarea': [('ta', False), ('re', True), ('a', False)],\n",
       " 'yuju': [('Yu', True), ('ju', False)],\n",
       " 'amables': [('a', False), ('ma', True), ('bles', False)],\n",
       " 'pones': [('po', True), ('nes', False)],\n",
       " 'rioja': [('Rio', True), ('ja', False)],\n",
       " 'pon': [('pon', False)],\n",
       " 'marchando': [('Mar', False), ('chan', True), ('do', False)],\n",
       " 'fin': [('Fin', False)],\n",
       " 'semana': [('se', False), ('ma', True), ('na', False)],\n",
       " 'sábado': [('sá', True), ('bado', False)],\n",
       " 'ver': [('ver', False)],\n",
       " 'bar': [('bar', False)],\n",
       " 'viendo': [('vien', True), ('do', False)],\n",
       " 'tiene': [('tie', True), ('ne', False)],\n",
       " 'horas': [('ho', True), ('ras', False)],\n",
       " 'duermes': [('duermes', False)],\n",
       " 's03': [('S03', False)],\n",
       " 'guapa': [('gua', True), ('pa', False)],\n",
       " 'bien': [('Bien', False)],\n",
       " 'translate': [('TRANSLATE', False)],\n",
       " 'traduzca': [('Tra', False), ('du', True), ('zca', False)],\n",
       " 't02': [('T02', False)],\n",
       " 'montse': [('Mon', True), ('tse', False)],\n",
       " 'mi': [('Mi', False)],\n",
       " 'pero': [('Pe', True), ('ro', False)],\n",
       " 'tercera': [('ter', False), ('ce', True), ('ra', False)],\n",
       " 'ella': [('e', True), ('lla', False)],\n",
       " 'favor': [('fa', False), ('vor', True)],\n",
       " 'idiomas': [('i', False), ('dio', True), ('mas', False)],\n",
       " 'hablo': [('Ha', True), ('blo', False)],\n",
       " 'termino': [('Ter', False), ('mi', True), ('no', False)],\n",
       " 'n8': [('N8', False)],\n",
       " 'octava': [('oc', False), ('ta', True), ('va', False)],\n",
       " 'quieres': [('quie', True), ('res', False)],\n",
       " 'ves': [('Ves', False)],\n",
       " 'útil': [('ú', True), ('til', False)],\n",
       " 'café': [('ca', False), ('fé', True)],\n",
       " 'cuarto': [('cua', True), ('rto', False)],\n",
       " 'tiempo': [('tiem', True), ('po', False)],\n",
       " 'cenamos': [('ce', False), ('na', True), ('mos', False)],\n",
       " 'temprano': [('tem', False), ('pra', True), ('no', False)],\n",
       " 'todo': [('to', True), ('do', False)],\n",
       " 'los': [('los', False)],\n",
       " 'patatas': [('pa', False), ('ta', True), ('tas', False)],\n",
       " 'electrónico': [('elec', False), ('tró', True), ('nico', False)],\n",
       " 'ayudar': [('ayu', False), ('dar', True)],\n",
       " 'están': [('es', False), ('tán', True)],\n",
       " 'sois': [('sois', False)],\n",
       " 'dos': [('dos', False)],\n",
       " 'tapa': [('tapa', False)],\n",
       " 'buenas': [('bue', True), ('nas', False)],\n",
       " 'baratas': [('ba', False), ('ra', True), ('tas', False)],\n",
       " 'copas': [('co', True), ('pas', False)],\n",
       " 'película': [('pe', False), ('lí', True), ('cula', False)],\n",
       " 'n1': [('N1', False)],\n",
       " 'sorpresa': [('sorp', False), ('re', True), ('sa', False)],\n",
       " 's04': [('S04', False)],\n",
       " 'segunda': [('se', False), ('gun', True), ('da', False)],\n",
       " 'eres': [('e', True), ('res', False)],\n",
       " 'barcelona': [('Barce', False), ('lo', True), ('na', False)],\n",
       " 'afueras': [('a', False), ('fue', True), ('ras', False)],\n",
       " 't03': [('T03', False)],\n",
       " 'encantada': [('Encan', False), ('ta', True), ('da', False)],\n",
       " 'hablamos': [('Ha', False), ('bla', True), ('mos', False)],\n",
       " 'entonces': [('en', False), ('ton', True), ('ces', False)],\n",
       " 'o': [('o', False)],\n",
       " 'escribo': [('es', False), ('cri', True), ('bo', False)],\n",
       " 'cine': [('ci', True), ('ne', False)],\n",
       " 'st00': [('ST00', False)],\n",
       " 'catalán': [('catal', False), ('án', True)],\n",
       " 'vieja': [('vie', True), ('ja', False)],\n",
       " 'años': [('a', True), ('ños', False)],\n",
       " 'todavía': [('toda', False), ('ví', True), ('a', False)],\n",
       " 'n9': [('N9', False)],\n",
       " 'novena': [('no', False), ('ve', True), ('na', False)],\n",
       " 'oh': [('Oh', False)],\n",
       " 'adiós': [('a', False), ('diós', True)],\n",
       " 'n10': [('N10', False)],\n",
       " 'cena': [('ce', True), ('na', False)],\n",
       " 'escribiendo': [('escri', False), ('bien', True), ('do', False)],\n",
       " 'amiga': [('a', False), ('mi', True), ('ga', False)],\n",
       " 'mamá': [('ma', False), ('má', True)],\n",
       " 'hago': [('ha', True), ('go', False)],\n",
       " 'pescado': [('pes', False), ('ca', True), ('do', False)],\n",
       " 'también': [('tam', False), ('bién', True)],\n",
       " 'fritos': [('fri', True), ('tos', False)],\n",
       " 'tenéis': [('Ten', False), ('éis', True)],\n",
       " 'ni': [('ni', False)],\n",
       " 'vosotros': [('vo', False), ('so', True), ('tros', False)],\n",
       " 's05': [('S05', False)],\n",
       " 't04': [('T04', False)],\n",
       " 'es': [('es', False)],\n",
       " 'yo': [('yo', False)],\n",
       " 'días': [('dí', True), ('as', False)],\n",
       " 'él': [('Él', False)],\n",
       " 'vale': [('Va', True), ('le', False)],\n",
       " 'habla': [('ha', True), ('bla', False)],\n",
       " 'enhorabuena': [('Enhora', False), ('bue', True), ('na', False)],\n",
       " 'trabajas': [('tra', False), ('ba', True), ('jas', False)],\n",
       " 'st01': [('ST01', False)],\n",
       " 'tienes': [('tie', True), ('nes', False)],\n",
       " 'abuelo': [('abue', True), ('lo', False)],\n",
       " 'desayuno': [('desa', False), ('yu', True), ('no', False)],\n",
       " 'especialidad': [('especiali', False), ('dad', True)],\n",
       " 'casa': [('ca', True), ('sa', False)],\n",
       " 'se': [('se', False)],\n",
       " 'encantan': [('en', False), ('can', True), ('tan', False)]}"
      ]
     },
     "execution_count": 30,
     "metadata": {},
     "output_type": "execute_result"
    }
   ],
   "source": [
    "lwd"
   ]
  },
  {
   "cell_type": "code",
   "execution_count": 22,
   "id": "5e34367c-2586-4e95-b8b8-e0fd79707c83",
   "metadata": {},
   "outputs": [],
   "source": [
    "wd.close()\n"
   ]
  },
  {
   "cell_type": "code",
   "execution_count": 16,
   "id": "60729305-3aab-450c-b611-469772a48d80",
   "metadata": {},
   "outputs": [],
   "source": [
    "db_name = Path(db_directory, word_dict_filename)\n"
   ]
  },
  {
   "cell_type": "code",
   "execution_count": 8,
   "id": "644fe1b2-93c4-4514-85f4-46ee3d54c029",
   "metadata": {},
   "outputs": [
    {
     "data": {
      "text/plain": [
       "PosixPath('db/tonic_accent_word_dict')"
      ]
     },
     "execution_count": 8,
     "metadata": {},
     "output_type": "execute_result"
    }
   ],
   "source": [
    "db_name"
   ]
  },
  {
   "cell_type": "code",
   "execution_count": 9,
   "id": "dc57957f-7e44-4968-b92f-f63703249940",
   "metadata": {},
   "outputs": [],
   "source": [
    "path = Path(db_directory, word_dict_filename)"
   ]
  },
  {
   "cell_type": "code",
   "execution_count": 10,
   "id": "c18019ea-2251-4806-b6eb-721f40ac4494",
   "metadata": {},
   "outputs": [
    {
     "data": {
      "text/plain": [
       "PosixPath('db/tonic_accent_word_dict.db')"
      ]
     },
     "execution_count": 10,
     "metadata": {},
     "output_type": "execute_result"
    }
   ],
   "source": [
    "path.with_suffix(\".db\")"
   ]
  },
  {
   "cell_type": "code",
   "execution_count": 8,
   "id": "517c9397-2e4e-4211-9afb-5bc99d3f7302",
   "metadata": {},
   "outputs": [],
   "source": [
    "wd[\"ochenta\"] = [('o', False), ('chen', True), ('ta', False)]"
   ]
  },
  {
   "cell_type": "code",
   "execution_count": 9,
   "id": "7e60cc7e-fcae-41d9-a2c0-16d1c5d27a65",
   "metadata": {},
   "outputs": [
    {
     "data": {
      "text/plain": [
       "[('o', False), ('chen', True), ('ta', False)]"
      ]
     },
     "execution_count": 9,
     "metadata": {},
     "output_type": "execute_result"
    }
   ],
   "source": [
    "wd[\"ochenta\"] "
   ]
  },
  {
   "cell_type": "code",
   "execution_count": 11,
   "id": "01052d82-2b99-45e1-a3a8-970b01beffa7",
   "metadata": {},
   "outputs": [],
   "source": [
    "wd.close()"
   ]
  },
  {
   "cell_type": "code",
   "execution_count": null,
   "id": "3c4a1f07-78a6-45d3-aa52-a4c929d3649e",
   "metadata": {},
   "outputs": [],
   "source": []
  }
 ],
 "metadata": {
  "kernelspec": {
   "display_name": "Python 3 (ipykernel)",
   "language": "python",
   "name": "python3"
  },
  "language_info": {
   "codemirror_mode": {
    "name": "ipython",
    "version": 3
   },
   "file_extension": ".py",
   "mimetype": "text/x-python",
   "name": "python",
   "nbconvert_exporter": "python",
   "pygments_lexer": "ipython3",
   "version": "3.11.3"
  }
 },
 "nbformat": 4,
 "nbformat_minor": 5
}
