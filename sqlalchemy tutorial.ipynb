{
 "cells": [
  {
   "cell_type": "code",
   "execution_count": 1,
   "id": "2509fd20-d2ba-44d1-bd0e-7b3bf95a37da",
   "metadata": {},
   "outputs": [
    {
     "data": {
      "text/plain": [
       "'2.0.32'"
      ]
     },
     "execution_count": 1,
     "metadata": {},
     "output_type": "execute_result"
    }
   ],
   "source": [
    "import sqlalchemy\n",
    "sqlalchemy.__version__  "
   ]
  },
  {
   "cell_type": "code",
   "execution_count": 2,
   "id": "81b92b16-27f1-4562-974d-f975c80497e9",
   "metadata": {},
   "outputs": [],
   "source": [
    "from sqlalchemy import create_engine\n",
    "engine = create_engine(\"sqlite+pysqlite:///:memory:\", echo=True)"
   ]
  },
  {
   "cell_type": "code",
   "execution_count": 3,
   "id": "a5fa5536-ba28-4687-a251-785d0fc91f99",
   "metadata": {},
   "outputs": [
    {
     "name": "stdout",
     "output_type": "stream",
     "text": [
      "2024-08-09 19:22:46,186 INFO sqlalchemy.engine.Engine BEGIN (implicit)\n",
      "2024-08-09 19:22:46,187 INFO sqlalchemy.engine.Engine select 'hello world'\n",
      "2024-08-09 19:22:46,188 INFO sqlalchemy.engine.Engine [generated in 0.00127s] ()\n",
      "[('hello world',)]\n",
      "2024-08-09 19:22:46,188 INFO sqlalchemy.engine.Engine ROLLBACK\n"
     ]
    }
   ],
   "source": [
    "from sqlalchemy import text\n",
    "\n",
    "with engine.connect() as conn:\n",
    "    result = conn.execute(text(\"select 'hello world'\"))\n",
    "    print(result.all())\n",
    "    "
   ]
  },
  {
   "cell_type": "code",
   "execution_count": 4,
   "id": "6859b499-a994-46f6-b206-7483192fb29b",
   "metadata": {},
   "outputs": [
    {
     "name": "stdout",
     "output_type": "stream",
     "text": [
      "2024-08-09 19:22:54,905 INFO sqlalchemy.engine.Engine BEGIN (implicit)\n",
      "2024-08-09 19:22:54,906 INFO sqlalchemy.engine.Engine CREATE TABLE some_table (x int, y int)\n",
      "2024-08-09 19:22:54,907 INFO sqlalchemy.engine.Engine [generated in 0.00229s] ()\n",
      "2024-08-09 19:22:54,908 INFO sqlalchemy.engine.Engine INSERT INTO some_table (x, y) VALUES (?, ?)\n",
      "2024-08-09 19:22:54,909 INFO sqlalchemy.engine.Engine [generated in 0.00051s] [(1, 1), (2, 4)]\n",
      "2024-08-09 19:22:54,910 INFO sqlalchemy.engine.Engine COMMIT\n"
     ]
    }
   ],
   "source": [
    "with engine.connect() as conn:\n",
    "    conn.execute(text(\"CREATE TABLE some_table (x int, y int)\"))\n",
    "    conn.execute(\n",
    "        text(\"INSERT INTO some_table (x, y) VALUES (:x, :y)\"),\n",
    "        [{\"x\": 1, \"y\": 1}, {\"x\": 2, \"y\": 4}],\n",
    "    )\n",
    "    conn.commit()"
   ]
  },
  {
   "cell_type": "code",
   "execution_count": 5,
   "id": "37a1de7d-3a13-4be1-9ad2-dc15e9c5a8c3",
   "metadata": {},
   "outputs": [
    {
     "name": "stdout",
     "output_type": "stream",
     "text": [
      "2024-08-09 19:23:01,469 INFO sqlalchemy.engine.Engine BEGIN (implicit)\n",
      "2024-08-09 19:23:01,470 INFO sqlalchemy.engine.Engine INSERT INTO some_table (x, y) VALUES (?, ?)\n",
      "2024-08-09 19:23:01,471 INFO sqlalchemy.engine.Engine [cached since 6.563s ago] [(6, 8), (9, 10)]\n",
      "2024-08-09 19:23:01,471 INFO sqlalchemy.engine.Engine COMMIT\n"
     ]
    }
   ],
   "source": [
    "with engine.begin() as conn:\n",
    "    conn.execute(\n",
    "        text(\"INSERT INTO some_table (x, y) VALUES (:x, :y)\"),\n",
    "        [{\"x\": 6, \"y\": 8}, {\"x\": 9, \"y\": 10}],\n",
    "    )"
   ]
  },
  {
   "cell_type": "code",
   "execution_count": 6,
   "id": "82f771ef-0dc3-4270-8f96-1b7e487f438a",
   "metadata": {},
   "outputs": [
    {
     "name": "stdout",
     "output_type": "stream",
     "text": [
      "2024-08-09 19:23:24,745 INFO sqlalchemy.engine.Engine BEGIN (implicit)\n",
      "2024-08-09 19:23:24,746 INFO sqlalchemy.engine.Engine SELECT x, y FROM some_table\n",
      "2024-08-09 19:23:24,747 INFO sqlalchemy.engine.Engine [generated in 0.00166s] ()\n",
      "x: 1  y: 1\n",
      "x: 2  y: 4\n",
      "x: 6  y: 8\n",
      "x: 9  y: 10\n",
      "2024-08-09 19:23:24,749 INFO sqlalchemy.engine.Engine ROLLBACK\n"
     ]
    }
   ],
   "source": [
    "with engine.connect() as conn:\n",
    "    result = conn.execute(text(\"SELECT x, y FROM some_table\"))\n",
    "    for row in result:\n",
    "        print(f\"x: {row.x}  y: {row.y}\")"
   ]
  },
  {
   "cell_type": "code",
   "execution_count": 7,
   "id": "2d86035e-d971-4e8c-bc32-263f8ed321fc",
   "metadata": {},
   "outputs": [
    {
     "name": "stdout",
     "output_type": "stream",
     "text": [
      "2024-08-09 19:23:39,896 INFO sqlalchemy.engine.Engine BEGIN (implicit)\n",
      "2024-08-09 19:23:39,897 INFO sqlalchemy.engine.Engine select x, y from some_table\n",
      "2024-08-09 19:23:39,898 INFO sqlalchemy.engine.Engine [generated in 0.00175s] ()\n",
      "x : 1, y : 1\n",
      "x : 2, y : 4\n",
      "x : 6, y : 8\n",
      "x : 9, y : 10\n",
      "2024-08-09 19:23:39,899 INFO sqlalchemy.engine.Engine ROLLBACK\n"
     ]
    }
   ],
   "source": [
    "with engine.connect() as conn:\n",
    "    result = conn.execute(text(\"select x, y from some_table\"))\n",
    "\n",
    "    for x, y in result:\n",
    "        print(f\"x : {x}, y : {y}\")"
   ]
  },
  {
   "cell_type": "code",
   "execution_count": 8,
   "id": "9e5e9976-db46-490a-bf83-c0f4d50e1e5f",
   "metadata": {},
   "outputs": [
    {
     "name": "stdout",
     "output_type": "stream",
     "text": [
      "2024-08-09 19:23:47,798 INFO sqlalchemy.engine.Engine BEGIN (implicit)\n",
      "2024-08-09 19:23:47,798 INFO sqlalchemy.engine.Engine select x, y from some_table\n",
      "2024-08-09 19:23:47,799 INFO sqlalchemy.engine.Engine [cached since 7.903s ago] ()\n",
      "x : 1, y : 1\n",
      "x : 2, y : 4\n",
      "x : 6, y : 8\n",
      "x : 9, y : 10\n",
      "2024-08-09 19:23:47,800 INFO sqlalchemy.engine.Engine ROLLBACK\n"
     ]
    }
   ],
   "source": [
    "with engine.connect() as conn:\n",
    "    result = conn.execute(text(\"select x, y from some_table\"))\n",
    "\n",
    "    for row in result:\n",
    "        print(f\"x : {row[0]}, y : {row[1]}\")"
   ]
  },
  {
   "cell_type": "code",
   "execution_count": 9,
   "id": "ad1a0f8a-d120-4363-bc72-0dbb1caea59a",
   "metadata": {},
   "outputs": [
    {
     "name": "stdout",
     "output_type": "stream",
     "text": [
      "2024-08-09 19:24:04,512 INFO sqlalchemy.engine.Engine BEGIN (implicit)\n",
      "2024-08-09 19:24:04,513 INFO sqlalchemy.engine.Engine select x, y from some_table\n",
      "2024-08-09 19:24:04,513 INFO sqlalchemy.engine.Engine [cached since 24.62s ago] ()\n",
      "x : 1, y : 1\n",
      "x : 2, y : 4\n",
      "x : 6, y : 8\n",
      "x : 9, y : 10\n",
      "2024-08-09 19:24:04,514 INFO sqlalchemy.engine.Engine ROLLBACK\n"
     ]
    }
   ],
   "source": [
    "with engine.connect() as conn:\n",
    "    result = conn.execute(text(\"select x, y from some_table\"))\n",
    "\n",
    "    for dict_row in result.mappings():\n",
    "        x = dict_row[\"x\"]\n",
    "        y = dict_row[\"y\"]\n",
    "        print(f\"x : {x}, y : {y}\")"
   ]
  },
  {
   "cell_type": "code",
   "execution_count": 10,
   "id": "4d876a05-a57f-42b5-9b35-66918f3bcd00",
   "metadata": {},
   "outputs": [
    {
     "name": "stdout",
     "output_type": "stream",
     "text": [
      "2024-08-09 19:24:34,593 INFO sqlalchemy.engine.Engine BEGIN (implicit)\n",
      "2024-08-09 19:24:34,594 INFO sqlalchemy.engine.Engine SELECT x, y FROM some_table WHERE y > ?\n",
      "2024-08-09 19:24:34,595 INFO sqlalchemy.engine.Engine [generated in 0.00227s] (2,)\n",
      "x: 2  y: 4\n",
      "x: 6  y: 8\n",
      "x: 9  y: 10\n",
      "2024-08-09 19:24:34,597 INFO sqlalchemy.engine.Engine ROLLBACK\n"
     ]
    }
   ],
   "source": [
    "with engine.connect() as conn:\n",
    "    result = conn.execute(text(\"SELECT x, y FROM some_table WHERE y > :v\"), {\"v\": 2})\n",
    "    for row in result:\n",
    "        print(f\"x: {row.x}  y: {row.y}\")"
   ]
  },
  {
   "cell_type": "code",
   "execution_count": 11,
   "id": "b34fbd6d-e276-46ea-ad67-611fe9db1df8",
   "metadata": {},
   "outputs": [
    {
     "name": "stdout",
     "output_type": "stream",
     "text": [
      "2024-08-09 19:24:57,033 INFO sqlalchemy.engine.Engine BEGIN (implicit)\n",
      "2024-08-09 19:24:57,034 INFO sqlalchemy.engine.Engine INSERT INTO some_table (x, y) VALUES (?, ?)\n",
      "2024-08-09 19:24:57,035 INFO sqlalchemy.engine.Engine [cached since 122.1s ago] [(11, 12), (13, 14)]\n",
      "2024-08-09 19:24:57,036 INFO sqlalchemy.engine.Engine COMMIT\n"
     ]
    }
   ],
   "source": [
    "with engine.connect() as conn:\n",
    "    conn.execute(\n",
    "        text(\"INSERT INTO some_table (x, y) VALUES (:x, :y)\"),\n",
    "        [{\"x\": 11, \"y\": 12}, {\"x\": 13, \"y\": 14}],\n",
    "    )\n",
    "    conn.commit()"
   ]
  },
  {
   "cell_type": "code",
   "execution_count": 12,
   "id": "b239b28e-69ef-4ad0-8ef7-8b0b0a5f8600",
   "metadata": {},
   "outputs": [
    {
     "name": "stdout",
     "output_type": "stream",
     "text": [
      "2024-08-09 19:25:46,320 INFO sqlalchemy.engine.Engine BEGIN (implicit)\n",
      "2024-08-09 19:25:46,321 INFO sqlalchemy.engine.Engine SELECT x, y FROM some_table\n",
      "2024-08-09 19:25:46,322 INFO sqlalchemy.engine.Engine [cached since 141.6s ago] ()\n",
      "x: 1  y: 1\n",
      "x: 2  y: 4\n",
      "x: 6  y: 8\n",
      "x: 9  y: 10\n",
      "x: 11  y: 12\n",
      "x: 13  y: 14\n",
      "2024-08-09 19:25:46,323 INFO sqlalchemy.engine.Engine ROLLBACK\n"
     ]
    }
   ],
   "source": [
    "with engine.connect() as conn:\n",
    "    result = conn.execute(text(\"SELECT x, y FROM some_table\"))\n",
    "    for row in result:\n",
    "        print(f\"x: {row.x}  y: {row.y}\")"
   ]
  },
  {
   "cell_type": "code",
   "execution_count": 14,
   "id": "df9d3a64-dbd5-41a4-88e4-006075fa9a73",
   "metadata": {},
   "outputs": [
    {
     "name": "stdout",
     "output_type": "stream",
     "text": [
      "2024-08-09 19:28:20,875 INFO sqlalchemy.engine.Engine BEGIN (implicit)\n",
      "2024-08-09 19:28:20,875 INFO sqlalchemy.engine.Engine SELECT x, y FROM some_table WHERE y > ? ORDER BY x, y\n",
      "2024-08-09 19:28:20,875 INFO sqlalchemy.engine.Engine [generated in 0.00028s] (6,)\n",
      "x: 6  y: 8\n",
      "x: 9  y: 10\n",
      "x: 11  y: 12\n",
      "x: 13  y: 14\n",
      "2024-08-09 19:28:20,876 INFO sqlalchemy.engine.Engine ROLLBACK\n"
     ]
    }
   ],
   "source": [
    "from sqlalchemy.orm import Session\n",
    "\n",
    "stmt = text(\"SELECT x, y FROM some_table WHERE y > :y ORDER BY x, y\")\n",
    "with Session(engine) as session:\n",
    "    result = session.execute(stmt, {\"y\": 6})\n",
    "    for row in result:\n",
    "        print(f\"x: {row.x}  y: {row.y}\")"
   ]
  },
  {
   "cell_type": "code",
   "execution_count": 15,
   "id": "26575b2b-967f-4f26-a4c0-7625a42fc4dd",
   "metadata": {},
   "outputs": [
    {
     "name": "stdout",
     "output_type": "stream",
     "text": [
      "2024-08-09 19:28:35,384 INFO sqlalchemy.engine.Engine BEGIN (implicit)\n",
      "2024-08-09 19:28:35,386 INFO sqlalchemy.engine.Engine UPDATE some_table SET y=? WHERE x=?\n",
      "2024-08-09 19:28:35,388 INFO sqlalchemy.engine.Engine [generated in 0.00147s] [(11, 9), (15, 13)]\n",
      "2024-08-09 19:28:35,389 INFO sqlalchemy.engine.Engine COMMIT\n"
     ]
    }
   ],
   "source": [
    "with Session(engine) as session:\n",
    "    result = session.execute(\n",
    "        text(\"UPDATE some_table SET y=:y WHERE x=:x\"),\n",
    "        [{\"x\": 9, \"y\": 11}, {\"x\": 13, \"y\": 15}],\n",
    "    )\n",
    "    session.commit()"
   ]
  },
  {
   "cell_type": "code",
   "execution_count": 16,
   "id": "145d5f3b-8ad9-4b6f-aaf9-e46fcfaf967e",
   "metadata": {},
   "outputs": [
    {
     "name": "stdout",
     "output_type": "stream",
     "text": [
      "2024-08-09 19:28:55,973 INFO sqlalchemy.engine.Engine BEGIN (implicit)\n",
      "2024-08-09 19:28:55,974 INFO sqlalchemy.engine.Engine SELECT x, y FROM some_table\n",
      "2024-08-09 19:28:55,975 INFO sqlalchemy.engine.Engine [cached since 331.2s ago] ()\n",
      "x: 1  y: 1\n",
      "x: 2  y: 4\n",
      "x: 6  y: 8\n",
      "x: 9  y: 11\n",
      "x: 11  y: 12\n",
      "x: 13  y: 15\n",
      "2024-08-09 19:28:55,976 INFO sqlalchemy.engine.Engine ROLLBACK\n"
     ]
    }
   ],
   "source": [
    "with engine.connect() as conn:\n",
    "    result = conn.execute(text(\"SELECT x, y FROM some_table\"))\n",
    "    for row in result:\n",
    "        print(f\"x: {row.x}  y: {row.y}\")"
   ]
  },
  {
   "cell_type": "code",
   "execution_count": 17,
   "id": "2050e3cf-0438-413e-a52c-ef7558ffe605",
   "metadata": {},
   "outputs": [],
   "source": [
    "a={1 :\"one\", 2 : \"two\", 3 :\"three\"}\n"
   ]
  },
  {
   "cell_type": "code",
   "execution_count": 18,
   "id": "26e81fbf-2188-4ec8-a48d-ee27d990655d",
   "metadata": {},
   "outputs": [
    {
     "data": {
      "text/plain": [
       "['__class__',\n",
       " '__class_getitem__',\n",
       " '__contains__',\n",
       " '__delattr__',\n",
       " '__delitem__',\n",
       " '__dir__',\n",
       " '__doc__',\n",
       " '__eq__',\n",
       " '__format__',\n",
       " '__ge__',\n",
       " '__getattribute__',\n",
       " '__getitem__',\n",
       " '__getstate__',\n",
       " '__gt__',\n",
       " '__hash__',\n",
       " '__init__',\n",
       " '__init_subclass__',\n",
       " '__ior__',\n",
       " '__iter__',\n",
       " '__le__',\n",
       " '__len__',\n",
       " '__lt__',\n",
       " '__ne__',\n",
       " '__new__',\n",
       " '__or__',\n",
       " '__reduce__',\n",
       " '__reduce_ex__',\n",
       " '__repr__',\n",
       " '__reversed__',\n",
       " '__ror__',\n",
       " '__setattr__',\n",
       " '__setitem__',\n",
       " '__sizeof__',\n",
       " '__str__',\n",
       " '__subclasshook__',\n",
       " 'clear',\n",
       " 'copy',\n",
       " 'fromkeys',\n",
       " 'get',\n",
       " 'items',\n",
       " 'keys',\n",
       " 'pop',\n",
       " 'popitem',\n",
       " 'setdefault',\n",
       " 'update',\n",
       " 'values']"
      ]
     },
     "execution_count": 18,
     "metadata": {},
     "output_type": "execute_result"
    }
   ],
   "source": [
    "dir(a)"
   ]
  },
  {
   "cell_type": "code",
   "execution_count": 19,
   "id": "4468118a-6326-4dd3-9110-ca9b135d8a0e",
   "metadata": {},
   "outputs": [
    {
     "name": "stdout",
     "output_type": "stream",
     "text": [
      "x.__getitem__(y) <==> x[y]\n"
     ]
    }
   ],
   "source": [
    "print(a.__getitem__.__doc__)"
   ]
  },
  {
   "cell_type": "code",
   "execution_count": 21,
   "id": "46af4c68-e421-4155-8af2-4554fa701b21",
   "metadata": {},
   "outputs": [],
   "source": [
    "class Test:\n",
    "    def __init__(self):\n",
    "        self.a = {1 :\"one\", 2 : \"two\", 3 :\"three\"}\n",
    "\n",
    "    def __getitem__(self, x):\n",
    "        return self.a[x]"
   ]
  },
  {
   "cell_type": "code",
   "execution_count": 22,
   "id": "d8caa913-eb31-45eb-a70b-04496cbddc75",
   "metadata": {},
   "outputs": [],
   "source": [
    "test = Test()"
   ]
  },
  {
   "cell_type": "code",
   "execution_count": 23,
   "id": "aa3ee6ef-7f3a-4a17-af39-9ff31d51fbf3",
   "metadata": {},
   "outputs": [
    {
     "data": {
      "text/plain": [
       "{1: 'one', 2: 'two', 3: 'three'}"
      ]
     },
     "execution_count": 23,
     "metadata": {},
     "output_type": "execute_result"
    }
   ],
   "source": [
    "test.a"
   ]
  },
  {
   "cell_type": "code",
   "execution_count": 25,
   "id": "b96b4a72-d529-422b-9d06-81a36cafd124",
   "metadata": {},
   "outputs": [
    {
     "data": {
      "text/plain": [
       "'two'"
      ]
     },
     "execution_count": 25,
     "metadata": {},
     "output_type": "execute_result"
    }
   ],
   "source": [
    "test[2]"
   ]
  },
  {
   "cell_type": "code",
   "execution_count": 35,
   "id": "bca8c1fc-1b76-4173-9b0f-fce52e56ae4b",
   "metadata": {},
   "outputs": [],
   "source": [
    "class Test2:\n",
    "    def __getitem__(self, x):\n",
    "        with engine.connect() as conn:\n",
    "            result = conn.execute(text(\"SELECT x, y FROM some_table WHERE x == :x\"), {\"x\": x})\n",
    "            for row in result:\n",
    "                print(f\"x: {row.x}  y: {row.y}\")\n",
    "            return row.y"
   ]
  },
  {
   "cell_type": "code",
   "execution_count": 36,
   "id": "2395570e-24a1-4c9e-a00a-8d26fc5cbb92",
   "metadata": {},
   "outputs": [],
   "source": [
    "test2 = Test2()"
   ]
  },
  {
   "cell_type": "code",
   "execution_count": 37,
   "id": "628d1b03-bd2f-4e75-b07d-d8f1f5a2ea61",
   "metadata": {},
   "outputs": [
    {
     "name": "stdout",
     "output_type": "stream",
     "text": [
      "2024-08-09 20:00:02,165 INFO sqlalchemy.engine.Engine BEGIN (implicit)\n",
      "2024-08-09 20:00:02,166 INFO sqlalchemy.engine.Engine SELECT x, y FROM some_table\n",
      "2024-08-09 20:00:02,166 INFO sqlalchemy.engine.Engine [cached since 2198s ago] ()\n",
      "x: 1  y: 1\n",
      "x: 2  y: 4\n",
      "x: 6  y: 8\n",
      "x: 9  y: 11\n",
      "x: 11  y: 12\n",
      "x: 13  y: 15\n",
      "2024-08-09 20:00:02,167 INFO sqlalchemy.engine.Engine ROLLBACK\n"
     ]
    }
   ],
   "source": [
    "with engine.connect() as conn:\n",
    "    result = conn.execute(text(\"SELECT x, y FROM some_table\"))\n",
    "    for row in result:\n",
    "        print(f\"x: {row.x}  y: {row.y}\")"
   ]
  },
  {
   "cell_type": "code",
   "execution_count": 39,
   "id": "e04d5f84-2165-412f-85e6-cedcd55c52e4",
   "metadata": {},
   "outputs": [
    {
     "name": "stdout",
     "output_type": "stream",
     "text": [
      "2024-08-09 20:00:21,975 INFO sqlalchemy.engine.Engine BEGIN (implicit)\n",
      "2024-08-09 20:00:21,976 INFO sqlalchemy.engine.Engine SELECT x, y FROM some_table WHERE x == ?\n",
      "2024-08-09 20:00:21,977 INFO sqlalchemy.engine.Engine [cached since 53.69s ago] (11,)\n",
      "x: 11  y: 12\n",
      "2024-08-09 20:00:21,978 INFO sqlalchemy.engine.Engine ROLLBACK\n"
     ]
    },
    {
     "data": {
      "text/plain": [
       "12"
      ]
     },
     "execution_count": 39,
     "metadata": {},
     "output_type": "execute_result"
    }
   ],
   "source": [
    "test2[11]"
   ]
  },
  {
   "cell_type": "code",
   "execution_count": null,
   "id": "f11ceab9-7fca-4578-954b-97b2a4546ee1",
   "metadata": {},
   "outputs": [],
   "source": []
  }
 ],
 "metadata": {
  "kernelspec": {
   "display_name": "Python 3 (ipykernel)",
   "language": "python",
   "name": "python3"
  },
  "language_info": {
   "codemirror_mode": {
    "name": "ipython",
    "version": 3
   },
   "file_extension": ".py",
   "mimetype": "text/x-python",
   "name": "python",
   "nbconvert_exporter": "python",
   "pygments_lexer": "ipython3",
   "version": "3.11.3"
  }
 },
 "nbformat": 4,
 "nbformat_minor": 5
}
