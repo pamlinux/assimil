{
 "cells": [
  {
   "cell_type": "code",
   "execution_count": 1,
   "id": "2509fd20-d2ba-44d1-bd0e-7b3bf95a37da",
   "metadata": {},
   "outputs": [
    {
     "data": {
      "text/plain": [
       "'2.0.32'"
      ]
     },
     "execution_count": 1,
     "metadata": {},
     "output_type": "execute_result"
    }
   ],
   "source": [
    "import sqlalchemy\n",
    "sqlalchemy.__version__  "
   ]
  },
  {
   "cell_type": "code",
   "execution_count": 3,
   "id": "81b92b16-27f1-4562-974d-f975c80497e9",
   "metadata": {},
   "outputs": [],
   "source": [
    "from sqlalchemy import create_engine\n",
    "engine = create_engine(\"sqlite+pysqlite:///tuto.db\", echo=True)"
   ]
  },
  {
   "cell_type": "code",
   "execution_count": 5,
   "id": "a5fa5536-ba28-4687-a251-785d0fc91f99",
   "metadata": {
    "scrolled": true
   },
   "outputs": [
    {
     "name": "stdout",
     "output_type": "stream",
     "text": [
      "2024-08-12 21:55:49,751 INFO sqlalchemy.engine.Engine BEGIN (implicit)\n",
      "2024-08-12 21:55:49,753 INFO sqlalchemy.engine.Engine select 'hello world'\n",
      "2024-08-12 21:55:49,754 INFO sqlalchemy.engine.Engine [cached since 650.9s ago] ()\n",
      "[('hello world',)]\n",
      "2024-08-12 21:55:49,756 INFO sqlalchemy.engine.Engine ROLLBACK\n"
     ]
    }
   ],
   "source": [
    "from sqlalchemy import text\n",
    "\n",
    "with engine.connect() as conn:\n",
    "    result = conn.execute(text(\"select 'hello world'\"))\n",
    "    print(result.all())\n",
    "    "
   ]
  },
  {
   "cell_type": "code",
   "execution_count": 6,
   "id": "6859b499-a994-46f6-b206-7483192fb29b",
   "metadata": {},
   "outputs": [
    {
     "name": "stdout",
     "output_type": "stream",
     "text": [
      "2024-08-12 21:58:52,528 INFO sqlalchemy.engine.Engine BEGIN (implicit)\n",
      "2024-08-12 21:58:52,530 INFO sqlalchemy.engine.Engine CREATE TABLE some_table (x int, y int)\n",
      "2024-08-12 21:58:52,531 INFO sqlalchemy.engine.Engine [generated in 0.00236s] ()\n",
      "2024-08-12 21:58:52,534 INFO sqlalchemy.engine.Engine INSERT INTO some_table (x, y) VALUES (?, ?)\n",
      "2024-08-12 21:58:52,535 INFO sqlalchemy.engine.Engine [generated in 0.00101s] [(1, 1), (2, 4)]\n",
      "2024-08-12 21:58:52,536 INFO sqlalchemy.engine.Engine COMMIT\n"
     ]
    }
   ],
   "source": [
    "with engine.connect() as conn:\n",
    "    conn.execute(text(\"CREATE TABLE some_table (x int, y int)\"))\n",
    "    conn.execute(\n",
    "        text(\"INSERT INTO some_table (x, y) VALUES (:x, :y)\"),\n",
    "        [{\"x\": 1, \"y\": 1}, {\"x\": 2, \"y\": 4}],\n",
    "    )\n",
    "    conn.commit()"
   ]
  },
  {
   "cell_type": "code",
   "execution_count": 7,
   "id": "37a1de7d-3a13-4be1-9ad2-dc15e9c5a8c3",
   "metadata": {},
   "outputs": [
    {
     "name": "stdout",
     "output_type": "stream",
     "text": [
      "2024-08-12 22:03:39,830 INFO sqlalchemy.engine.Engine BEGIN (implicit)\n",
      "2024-08-12 22:03:39,833 INFO sqlalchemy.engine.Engine INSERT INTO some_table (x, y) VALUES (?, ?)\n",
      "2024-08-12 22:03:39,834 INFO sqlalchemy.engine.Engine [cached since 287.3s ago] [(6, 8), (9, 10)]\n",
      "2024-08-12 22:03:39,836 INFO sqlalchemy.engine.Engine COMMIT\n"
     ]
    }
   ],
   "source": [
    "with engine.begin() as conn:\n",
    "    conn.execute(\n",
    "        text(\"INSERT INTO some_table (x, y) VALUES (:x, :y)\"),\n",
    "        [{\"x\": 6, \"y\": 8}, {\"x\": 9, \"y\": 10}],\n",
    "    )"
   ]
  },
  {
   "cell_type": "code",
   "execution_count": 8,
   "id": "82f771ef-0dc3-4270-8f96-1b7e487f438a",
   "metadata": {},
   "outputs": [
    {
     "name": "stdout",
     "output_type": "stream",
     "text": [
      "2024-08-12 22:07:27,365 INFO sqlalchemy.engine.Engine BEGIN (implicit)\n",
      "2024-08-12 22:07:27,366 INFO sqlalchemy.engine.Engine SELECT x, y FROM some_table\n",
      "2024-08-12 22:07:27,367 INFO sqlalchemy.engine.Engine [generated in 0.00229s] ()\n",
      "x: 1  y: 1\n",
      "x: 2  y: 4\n",
      "x: 6  y: 8\n",
      "x: 9  y: 10\n",
      "2024-08-12 22:07:27,370 INFO sqlalchemy.engine.Engine ROLLBACK\n"
     ]
    }
   ],
   "source": [
    "with engine.connect() as conn:\n",
    "    result = conn.execute(text(\"SELECT x, y FROM some_table\"))\n",
    "    for row in result:\n",
    "        print(f\"x: {row.x}  y: {row.y}\")"
   ]
  },
  {
   "cell_type": "code",
   "execution_count": 9,
   "id": "2d86035e-d971-4e8c-bc32-263f8ed321fc",
   "metadata": {},
   "outputs": [
    {
     "name": "stdout",
     "output_type": "stream",
     "text": [
      "2024-08-12 22:18:50,902 INFO sqlalchemy.engine.Engine BEGIN (implicit)\n",
      "2024-08-12 22:18:50,903 INFO sqlalchemy.engine.Engine select x, y from some_table\n",
      "2024-08-12 22:18:50,903 INFO sqlalchemy.engine.Engine [generated in 0.04837s] ()\n",
      "x : 1, y : 1\n",
      "x : 2, y : 4\n",
      "x : 6, y : 8\n",
      "x : 9, y : 10\n",
      "2024-08-12 22:18:50,905 INFO sqlalchemy.engine.Engine ROLLBACK\n"
     ]
    }
   ],
   "source": [
    "with engine.connect() as conn:\n",
    "    result = conn.execute(text(\"select x, y from some_table\"))\n",
    "\n",
    "    for x, y in result:\n",
    "        print(f\"x : {x}, y : {y}\")"
   ]
  },
  {
   "cell_type": "code",
   "execution_count": 10,
   "id": "9e5e9976-db46-490a-bf83-c0f4d50e1e5f",
   "metadata": {},
   "outputs": [
    {
     "name": "stdout",
     "output_type": "stream",
     "text": [
      "2024-08-12 22:26:34,886 INFO sqlalchemy.engine.Engine BEGIN (implicit)\n",
      "2024-08-12 22:26:34,888 INFO sqlalchemy.engine.Engine select x, y from some_table\n",
      "2024-08-12 22:26:34,888 INFO sqlalchemy.engine.Engine [cached since 464.1s ago] ()\n",
      "x : 1, y : 1\n",
      "x : 2, y : 4\n",
      "x : 6, y : 8\n",
      "x : 9, y : 10\n",
      "2024-08-12 22:26:34,892 INFO sqlalchemy.engine.Engine ROLLBACK\n"
     ]
    }
   ],
   "source": [
    "with engine.connect() as conn:\n",
    "    result = conn.execute(text(\"select x, y from some_table\"))\n",
    "\n",
    "    for row in result:\n",
    "        print(f\"x : {row[0]}, y : {row[1]}\")"
   ]
  },
  {
   "cell_type": "code",
   "execution_count": 11,
   "id": "ad1a0f8a-d120-4363-bc72-0dbb1caea59a",
   "metadata": {},
   "outputs": [
    {
     "name": "stdout",
     "output_type": "stream",
     "text": [
      "2024-08-12 22:26:39,247 INFO sqlalchemy.engine.Engine BEGIN (implicit)\n",
      "2024-08-12 22:26:39,248 INFO sqlalchemy.engine.Engine select x, y from some_table\n",
      "2024-08-12 22:26:39,249 INFO sqlalchemy.engine.Engine [cached since 468.4s ago] ()\n",
      "x : 1, y : 1\n",
      "x : 2, y : 4\n",
      "x : 6, y : 8\n",
      "x : 9, y : 10\n",
      "2024-08-12 22:26:39,251 INFO sqlalchemy.engine.Engine ROLLBACK\n"
     ]
    }
   ],
   "source": [
    "with engine.connect() as conn:\n",
    "    result = conn.execute(text(\"select x, y from some_table\"))\n",
    "\n",
    "    for dict_row in result.mappings():\n",
    "        x = dict_row[\"x\"]\n",
    "        y = dict_row[\"y\"]\n",
    "        print(f\"x : {x}, y : {y}\")"
   ]
  },
  {
   "cell_type": "code",
   "execution_count": 12,
   "id": "4d876a05-a57f-42b5-9b35-66918f3bcd00",
   "metadata": {},
   "outputs": [
    {
     "name": "stdout",
     "output_type": "stream",
     "text": [
      "2024-08-12 22:27:52,675 INFO sqlalchemy.engine.Engine BEGIN (implicit)\n",
      "2024-08-12 22:27:52,676 INFO sqlalchemy.engine.Engine SELECT x, y FROM some_table WHERE y > ?\n",
      "2024-08-12 22:27:52,677 INFO sqlalchemy.engine.Engine [generated in 0.00173s] (2,)\n",
      "x: 2  y: 4\n",
      "x: 6  y: 8\n",
      "x: 9  y: 10\n",
      "2024-08-12 22:27:52,677 INFO sqlalchemy.engine.Engine ROLLBACK\n"
     ]
    }
   ],
   "source": [
    "with engine.connect() as conn:\n",
    "    result = conn.execute(text(\"SELECT x, y FROM some_table WHERE y > :v\"), {\"v\": 2})\n",
    "    for row in result:\n",
    "        print(f\"x: {row.x}  y: {row.y}\")"
   ]
  },
  {
   "cell_type": "code",
   "execution_count": 13,
   "id": "b34fbd6d-e276-46ea-ad67-611fe9db1df8",
   "metadata": {},
   "outputs": [
    {
     "name": "stdout",
     "output_type": "stream",
     "text": [
      "2024-08-12 22:32:57,210 INFO sqlalchemy.engine.Engine BEGIN (implicit)\n",
      "2024-08-12 22:32:57,212 INFO sqlalchemy.engine.Engine INSERT INTO some_table (x, y) VALUES (?, ?)\n",
      "2024-08-12 22:32:57,213 INFO sqlalchemy.engine.Engine [cached since 2045s ago] [(11, 12), (13, 14)]\n",
      "2024-08-12 22:32:57,215 INFO sqlalchemy.engine.Engine COMMIT\n"
     ]
    }
   ],
   "source": [
    "with engine.connect() as conn:\n",
    "    conn.execute(\n",
    "        text(\"INSERT INTO some_table (x, y) VALUES (:x, :y)\"),\n",
    "        [{\"x\": 11, \"y\": 12}, {\"x\": 13, \"y\": 14}],\n",
    "    )\n",
    "    conn.commit()"
   ]
  },
  {
   "cell_type": "code",
   "execution_count": 14,
   "id": "b239b28e-69ef-4ad0-8ef7-8b0b0a5f8600",
   "metadata": {},
   "outputs": [
    {
     "name": "stdout",
     "output_type": "stream",
     "text": [
      "2024-08-12 22:33:01,323 INFO sqlalchemy.engine.Engine BEGIN (implicit)\n",
      "2024-08-12 22:33:01,324 INFO sqlalchemy.engine.Engine SELECT x, y FROM some_table\n",
      "2024-08-12 22:33:01,325 INFO sqlalchemy.engine.Engine [cached since 1534s ago] ()\n",
      "x: 1  y: 1\n",
      "x: 2  y: 4\n",
      "x: 6  y: 8\n",
      "x: 9  y: 10\n",
      "x: 11  y: 12\n",
      "x: 13  y: 14\n",
      "2024-08-12 22:33:01,326 INFO sqlalchemy.engine.Engine ROLLBACK\n"
     ]
    }
   ],
   "source": [
    "with engine.connect() as conn:\n",
    "    result = conn.execute(text(\"SELECT x, y FROM some_table\"))\n",
    "    for row in result:\n",
    "        print(f\"x: {row.x}  y: {row.y}\")"
   ]
  },
  {
   "cell_type": "code",
   "execution_count": 15,
   "id": "df9d3a64-dbd5-41a4-88e4-006075fa9a73",
   "metadata": {},
   "outputs": [
    {
     "name": "stdout",
     "output_type": "stream",
     "text": [
      "2024-08-12 22:36:09,516 INFO sqlalchemy.engine.Engine BEGIN (implicit)\n",
      "2024-08-12 22:36:09,517 INFO sqlalchemy.engine.Engine SELECT x, y FROM some_table WHERE y > ? ORDER BY x, y\n",
      "2024-08-12 22:36:09,517 INFO sqlalchemy.engine.Engine [generated in 0.00027s] (6,)\n",
      "x: 6  y: 8\n",
      "x: 9  y: 10\n",
      "x: 11  y: 12\n",
      "x: 13  y: 14\n",
      "2024-08-12 22:36:09,518 INFO sqlalchemy.engine.Engine ROLLBACK\n"
     ]
    }
   ],
   "source": [
    "from sqlalchemy.orm import Session\n",
    "\n",
    "stmt = text(\"SELECT x, y FROM some_table WHERE y > :y ORDER BY x, y\")\n",
    "with Session(engine) as session:\n",
    "    result = session.execute(stmt, {\"y\": 6})\n",
    "    for row in result:\n",
    "        print(f\"x: {row.x}  y: {row.y}\")"
   ]
  },
  {
   "cell_type": "code",
   "execution_count": 16,
   "id": "26575b2b-967f-4f26-a4c0-7625a42fc4dd",
   "metadata": {},
   "outputs": [
    {
     "name": "stdout",
     "output_type": "stream",
     "text": [
      "2024-08-12 22:38:27,027 INFO sqlalchemy.engine.Engine BEGIN (implicit)\n",
      "2024-08-12 22:38:27,030 INFO sqlalchemy.engine.Engine UPDATE some_table SET y=? WHERE x=?\n",
      "2024-08-12 22:38:27,031 INFO sqlalchemy.engine.Engine [generated in 0.00129s] [(11, 9), (15, 13)]\n",
      "2024-08-12 22:38:27,033 INFO sqlalchemy.engine.Engine COMMIT\n"
     ]
    }
   ],
   "source": [
    "with Session(engine) as session:\n",
    "    result = session.execute(\n",
    "        text(\"UPDATE some_table SET y=:y WHERE x=:x\"),\n",
    "        [{\"x\": 9, \"y\": 11}, {\"x\": 13, \"y\": 15}],\n",
    "    )\n",
    "    session.commit()"
   ]
  },
  {
   "cell_type": "code",
   "execution_count": 17,
   "id": "145d5f3b-8ad9-4b6f-aaf9-e46fcfaf967e",
   "metadata": {},
   "outputs": [
    {
     "name": "stdout",
     "output_type": "stream",
     "text": [
      "2024-08-12 22:38:38,616 INFO sqlalchemy.engine.Engine BEGIN (implicit)\n",
      "2024-08-12 22:38:38,617 INFO sqlalchemy.engine.Engine SELECT x, y FROM some_table\n",
      "2024-08-12 22:38:38,618 INFO sqlalchemy.engine.Engine [cached since 1871s ago] ()\n",
      "x: 1  y: 1\n",
      "x: 2  y: 4\n",
      "x: 6  y: 8\n",
      "x: 9  y: 11\n",
      "x: 11  y: 12\n",
      "x: 13  y: 15\n",
      "2024-08-12 22:38:38,621 INFO sqlalchemy.engine.Engine ROLLBACK\n"
     ]
    }
   ],
   "source": [
    "with engine.connect() as conn:\n",
    "    result = conn.execute(text(\"SELECT x, y FROM some_table\"))\n",
    "    for row in result:\n",
    "        print(f\"x: {row.x}  y: {row.y}\")"
   ]
  },
  {
   "cell_type": "code",
   "execution_count": 18,
   "id": "f11ceab9-7fca-4578-954b-97b2a4546ee1",
   "metadata": {},
   "outputs": [],
   "source": [
    "from sqlalchemy import MetaData\n",
    "metadata_obj = MetaData()"
   ]
  },
  {
   "cell_type": "code",
   "execution_count": 19,
   "id": "d0a0c06e-bc2c-44af-9d76-9f761afab6bd",
   "metadata": {},
   "outputs": [],
   "source": [
    "from sqlalchemy import Table, Column, Integer, String\n",
    "user_table = Table(\n",
    "    \"user_account\",\n",
    "    metadata_obj,\n",
    "    Column(\"id\", Integer, primary_key=True),\n",
    "    Column(\"name\", String(30)),\n",
    "    Column(\"fullname\", String),\n",
    ")"
   ]
  },
  {
   "cell_type": "code",
   "execution_count": 20,
   "id": "5bc94b7a-bd76-4082-b196-2b388bf8e5e2",
   "metadata": {},
   "outputs": [
    {
     "data": {
      "text/plain": [
       "Table('user_account', MetaData(), Column('id', Integer(), table=<user_account>, primary_key=True, nullable=False), Column('name', String(length=30), table=<user_account>), Column('fullname', String(), table=<user_account>), schema=None)"
      ]
     },
     "execution_count": 20,
     "metadata": {},
     "output_type": "execute_result"
    }
   ],
   "source": [
    "user_table"
   ]
  },
  {
   "cell_type": "code",
   "execution_count": 21,
   "id": "1379abd6-8da3-4b83-afb4-15b3d1b25dd2",
   "metadata": {},
   "outputs": [
    {
     "data": {
      "text/plain": [
       "Column('name', String(length=30), table=<user_account>)"
      ]
     },
     "execution_count": 21,
     "metadata": {},
     "output_type": "execute_result"
    }
   ],
   "source": [
    "user_table.c.name"
   ]
  },
  {
   "cell_type": "code",
   "execution_count": 22,
   "id": "e526c6fd-2072-4bf1-a4ea-f1663226719c",
   "metadata": {},
   "outputs": [
    {
     "data": {
      "text/plain": [
       "['id', 'name', 'fullname']"
      ]
     },
     "execution_count": 22,
     "metadata": {},
     "output_type": "execute_result"
    }
   ],
   "source": [
    "user_table.c.keys()"
   ]
  },
  {
   "cell_type": "code",
   "execution_count": 45,
   "id": "2f4f0830-55f7-4d0a-aa0c-dc2a0ef61b02",
   "metadata": {},
   "outputs": [
    {
     "data": {
      "text/plain": [
       "PrimaryKeyConstraint(Column('id', Integer(), table=<user_account>, primary_key=True, nullable=False))"
      ]
     },
     "execution_count": 45,
     "metadata": {},
     "output_type": "execute_result"
    }
   ],
   "source": [
    "user_table.primary_key"
   ]
  },
  {
   "cell_type": "code",
   "execution_count": 23,
   "id": "f76f3759-ba7b-4129-8be4-d308729f212d",
   "metadata": {},
   "outputs": [
    {
     "data": {
      "text/plain": [
       "Column('id', Integer(), table=<user_account>, primary_key=True, nullable=False)"
      ]
     },
     "execution_count": 23,
     "metadata": {},
     "output_type": "execute_result"
    }
   ],
   "source": [
    "user_table.c.id"
   ]
  },
  {
   "cell_type": "code",
   "execution_count": 24,
   "id": "45ba6285-ba2b-45cf-b173-601f30a9a37e",
   "metadata": {},
   "outputs": [],
   "source": [
    "from sqlalchemy import ForeignKey\n",
    "address_table = Table(\n",
    "    \"address\",\n",
    "    metadata_obj,\n",
    "    Column(\"id\", Integer, primary_key=True),\n",
    "    Column(\"user_id\", ForeignKey(\"user_account.id\"), nullable=False),\n",
    "    Column(\"email_address\", String, nullable=False),\n",
    ")"
   ]
  },
  {
   "cell_type": "code",
   "execution_count": 25,
   "id": "4ba1666a-6dc3-4419-b3c2-b6aa76cbd457",
   "metadata": {},
   "outputs": [
    {
     "name": "stdout",
     "output_type": "stream",
     "text": [
      "2024-08-13 18:34:46,853 INFO sqlalchemy.engine.Engine BEGIN (implicit)\n",
      "2024-08-13 18:34:46,855 INFO sqlalchemy.engine.Engine PRAGMA main.table_info(\"user_account\")\n",
      "2024-08-13 18:34:46,856 INFO sqlalchemy.engine.Engine [raw sql] ()\n",
      "2024-08-13 18:34:46,859 INFO sqlalchemy.engine.Engine PRAGMA temp.table_info(\"user_account\")\n",
      "2024-08-13 18:34:46,859 INFO sqlalchemy.engine.Engine [raw sql] ()\n",
      "2024-08-13 18:34:46,860 INFO sqlalchemy.engine.Engine PRAGMA main.table_info(\"address\")\n",
      "2024-08-13 18:34:46,861 INFO sqlalchemy.engine.Engine [raw sql] ()\n",
      "2024-08-13 18:34:46,862 INFO sqlalchemy.engine.Engine PRAGMA temp.table_info(\"address\")\n",
      "2024-08-13 18:34:46,863 INFO sqlalchemy.engine.Engine [raw sql] ()\n",
      "2024-08-13 18:34:46,866 INFO sqlalchemy.engine.Engine \n",
      "CREATE TABLE user_account (\n",
      "\tid INTEGER NOT NULL, \n",
      "\tname VARCHAR(30), \n",
      "\tfullname VARCHAR, \n",
      "\tPRIMARY KEY (id)\n",
      ")\n",
      "\n",
      "\n",
      "2024-08-13 18:34:46,866 INFO sqlalchemy.engine.Engine [no key 0.00091s] ()\n",
      "2024-08-13 18:34:46,869 INFO sqlalchemy.engine.Engine \n",
      "CREATE TABLE address (\n",
      "\tid INTEGER NOT NULL, \n",
      "\tuser_id INTEGER NOT NULL, \n",
      "\temail_address VARCHAR NOT NULL, \n",
      "\tPRIMARY KEY (id), \n",
      "\tFOREIGN KEY(user_id) REFERENCES user_account (id)\n",
      ")\n",
      "\n",
      "\n",
      "2024-08-13 18:34:46,870 INFO sqlalchemy.engine.Engine [no key 0.00085s] ()\n",
      "2024-08-13 18:34:46,872 INFO sqlalchemy.engine.Engine COMMIT\n"
     ]
    }
   ],
   "source": [
    "metadata_obj.create_all(engine)"
   ]
  },
  {
   "cell_type": "code",
   "execution_count": 26,
   "id": "28d25fdf-d84f-4b77-9c57-bb39c4492b1d",
   "metadata": {},
   "outputs": [],
   "source": [
    "from sqlalchemy.orm import DeclarativeBase\n",
    "class Base(DeclarativeBase):\n",
    "    pass"
   ]
  },
  {
   "cell_type": "code",
   "execution_count": 27,
   "id": "8d8f7bad-e8ef-42d1-8aef-ce342183846c",
   "metadata": {},
   "outputs": [
    {
     "data": {
      "text/plain": [
       "MetaData()"
      ]
     },
     "execution_count": 27,
     "metadata": {},
     "output_type": "execute_result"
    }
   ],
   "source": [
    "Base.metadata"
   ]
  },
  {
   "cell_type": "code",
   "execution_count": 28,
   "id": "34a0bd14-566c-4e57-9bab-6a61c1c2ee55",
   "metadata": {},
   "outputs": [
    {
     "data": {
      "text/plain": [
       "<sqlalchemy.orm.decl_api.registry at 0x104aff2d0>"
      ]
     },
     "execution_count": 28,
     "metadata": {},
     "output_type": "execute_result"
    }
   ],
   "source": [
    "Base.registry"
   ]
  },
  {
   "cell_type": "code",
   "execution_count": 29,
   "id": "482b7b84-d7c8-456d-9739-980d89da3e22",
   "metadata": {},
   "outputs": [],
   "source": [
    "from typing import List\n",
    "from typing import Optional\n",
    "from sqlalchemy.orm import Mapped\n",
    "from sqlalchemy.orm import mapped_column\n",
    "from sqlalchemy.orm import relationship\n",
    "\n",
    "class User(Base):\n",
    "    __tablename__ = \"user_account\"\n",
    "    id: Mapped[int] = mapped_column(primary_key=True)\n",
    "    name: Mapped[str] = mapped_column(String(30))\n",
    "    fullname: Mapped[Optional[str]]\n",
    "    addresses: Mapped[List[\"Address\"]] = relationship(back_populates=\"user\")\n",
    "    def __repr__(self) -> str:\n",
    "        return f\"User(id={self.id!r}, name={self.name!r}, fullname={self.fullname!r})\"\n",
    "\n",
    "class Address(Base):\n",
    "    __tablename__ = \"address\"\n",
    "    id: Mapped[int] = mapped_column(primary_key=True)\n",
    "    email_address: Mapped[str]\n",
    "    user_id = mapped_column(ForeignKey(\"user_account.id\"))\n",
    "    user: Mapped[User] = relationship(back_populates=\"addresses\")\n",
    "    def __repr__(self) -> str:\n",
    "        return f\"Address(id={self.id!r}, email_address={self.email_address!r})\""
   ]
  },
  {
   "cell_type": "code",
   "execution_count": 30,
   "id": "c5ff147f-8f61-4ed3-8619-50f522a3bfa6",
   "metadata": {},
   "outputs": [],
   "source": [
    "sandy = User(name=\"sandy\", fullname=\"Sandy Cheeks\")"
   ]
  },
  {
   "cell_type": "code",
   "execution_count": 31,
   "id": "c3e07e48-5e9f-4778-a373-2a355932d060",
   "metadata": {},
   "outputs": [
    {
     "name": "stdout",
     "output_type": "stream",
     "text": [
      "2024-08-13 19:24:23,350 INFO sqlalchemy.engine.Engine BEGIN (implicit)\n",
      "2024-08-13 19:24:23,356 INFO sqlalchemy.engine.Engine PRAGMA main.table_info(\"user_account\")\n",
      "2024-08-13 19:24:23,357 INFO sqlalchemy.engine.Engine [raw sql] ()\n",
      "2024-08-13 19:24:23,359 INFO sqlalchemy.engine.Engine PRAGMA main.table_info(\"address\")\n",
      "2024-08-13 19:24:23,360 INFO sqlalchemy.engine.Engine [raw sql] ()\n",
      "2024-08-13 19:24:23,360 INFO sqlalchemy.engine.Engine COMMIT\n"
     ]
    }
   ],
   "source": [
    "Base.metadata.create_all(engine)"
   ]
  },
  {
   "cell_type": "code",
   "execution_count": 32,
   "id": "ca05fbb0-d49e-4b79-b139-5481a1746dda",
   "metadata": {},
   "outputs": [
    {
     "name": "stdout",
     "output_type": "stream",
     "text": [
      "2024-08-13 19:26:59,468 INFO sqlalchemy.engine.Engine BEGIN (implicit)\n",
      "2024-08-13 19:26:59,470 INFO sqlalchemy.engine.Engine PRAGMA main.table_xinfo(\"some_table\")\n",
      "2024-08-13 19:26:59,471 INFO sqlalchemy.engine.Engine [raw sql] ()\n",
      "2024-08-13 19:26:59,474 INFO sqlalchemy.engine.Engine SELECT sql FROM  (SELECT * FROM sqlite_master UNION ALL   SELECT * FROM sqlite_temp_master) WHERE name = ? AND type in ('table', 'view')\n",
      "2024-08-13 19:26:59,475 INFO sqlalchemy.engine.Engine [raw sql] ('some_table',)\n",
      "2024-08-13 19:26:59,477 INFO sqlalchemy.engine.Engine PRAGMA main.foreign_key_list(\"some_table\")\n",
      "2024-08-13 19:26:59,477 INFO sqlalchemy.engine.Engine [raw sql] ()\n",
      "2024-08-13 19:26:59,479 INFO sqlalchemy.engine.Engine PRAGMA temp.foreign_key_list(\"some_table\")\n",
      "2024-08-13 19:26:59,480 INFO sqlalchemy.engine.Engine [raw sql] ()\n",
      "2024-08-13 19:26:59,481 INFO sqlalchemy.engine.Engine SELECT sql FROM  (SELECT * FROM sqlite_master UNION ALL   SELECT * FROM sqlite_temp_master) WHERE name = ? AND type in ('table', 'view')\n",
      "2024-08-13 19:26:59,482 INFO sqlalchemy.engine.Engine [raw sql] ('some_table',)\n",
      "2024-08-13 19:26:59,486 INFO sqlalchemy.engine.Engine PRAGMA main.index_list(\"some_table\")\n",
      "2024-08-13 19:26:59,487 INFO sqlalchemy.engine.Engine [raw sql] ()\n",
      "2024-08-13 19:26:59,489 INFO sqlalchemy.engine.Engine PRAGMA temp.index_list(\"some_table\")\n",
      "2024-08-13 19:26:59,490 INFO sqlalchemy.engine.Engine [raw sql] ()\n",
      "2024-08-13 19:26:59,491 INFO sqlalchemy.engine.Engine PRAGMA main.table_info(\"some_table\")\n",
      "2024-08-13 19:26:59,491 INFO sqlalchemy.engine.Engine [raw sql] ()\n",
      "2024-08-13 19:26:59,492 INFO sqlalchemy.engine.Engine PRAGMA main.index_list(\"some_table\")\n",
      "2024-08-13 19:26:59,493 INFO sqlalchemy.engine.Engine [raw sql] ()\n",
      "2024-08-13 19:26:59,494 INFO sqlalchemy.engine.Engine PRAGMA temp.index_list(\"some_table\")\n",
      "2024-08-13 19:26:59,494 INFO sqlalchemy.engine.Engine [raw sql] ()\n",
      "2024-08-13 19:26:59,495 INFO sqlalchemy.engine.Engine PRAGMA main.table_info(\"some_table\")\n",
      "2024-08-13 19:26:59,496 INFO sqlalchemy.engine.Engine [raw sql] ()\n",
      "2024-08-13 19:26:59,497 INFO sqlalchemy.engine.Engine SELECT sql FROM  (SELECT * FROM sqlite_master UNION ALL   SELECT * FROM sqlite_temp_master) WHERE name = ? AND type in ('table', 'view')\n",
      "2024-08-13 19:26:59,497 INFO sqlalchemy.engine.Engine [raw sql] ('some_table',)\n",
      "2024-08-13 19:26:59,500 INFO sqlalchemy.engine.Engine ROLLBACK\n"
     ]
    }
   ],
   "source": [
    "some_table = Table(\"some_table\", metadata_obj, autoload_with=engine)"
   ]
  },
  {
   "cell_type": "code",
   "execution_count": 33,
   "id": "0833e691-f09f-45fd-95e9-f54aaa4dd49b",
   "metadata": {},
   "outputs": [
    {
     "data": {
      "text/plain": [
       "Table('some_table', MetaData(), Column('x', INTEGER(), table=<some_table>), Column('y', INTEGER(), table=<some_table>), schema=None)"
      ]
     },
     "execution_count": 33,
     "metadata": {},
     "output_type": "execute_result"
    }
   ],
   "source": [
    "some_table"
   ]
  },
  {
   "cell_type": "code",
   "execution_count": 34,
   "id": "6a504dde-8ec5-4053-a7c9-f6e45149e2f8",
   "metadata": {},
   "outputs": [],
   "source": [
    "sandy = User(name=\"sandy\", fullname=\"Sandy Cheeks\")"
   ]
  },
  {
   "cell_type": "code",
   "execution_count": 35,
   "id": "0991bb1d-553c-40e8-bd54-dcda9d06a635",
   "metadata": {},
   "outputs": [
    {
     "data": {
      "text/plain": [
       "User(id=None, name='sandy', fullname='Sandy Cheeks')"
      ]
     },
     "execution_count": 35,
     "metadata": {},
     "output_type": "execute_result"
    }
   ],
   "source": [
    "sandy"
   ]
  },
  {
   "cell_type": "code",
   "execution_count": 36,
   "id": "d5378bfa-0437-4c7d-b1ef-855d9fe28fdf",
   "metadata": {},
   "outputs": [],
   "source": [
    "from sqlalchemy import insert\n",
    "stmt = insert(user_table).values(name=\"spongebob\", fullname=\"Spongebob Squarepants\")"
   ]
  },
  {
   "cell_type": "code",
   "execution_count": 37,
   "id": "cb3cf901-42b0-4b9e-834d-0e084556c265",
   "metadata": {},
   "outputs": [
    {
     "name": "stdout",
     "output_type": "stream",
     "text": [
      "INSERT INTO user_account (name, fullname) VALUES (:name, :fullname)\n"
     ]
    }
   ],
   "source": [
    "print(stmt)"
   ]
  },
  {
   "cell_type": "code",
   "execution_count": 38,
   "id": "db03143c-3177-41e5-aae8-e3ac5aa56773",
   "metadata": {},
   "outputs": [],
   "source": [
    "compiled = stmt.compile()"
   ]
  },
  {
   "cell_type": "code",
   "execution_count": 39,
   "id": "9309a3c9-7641-4acb-931f-ad51fa379477",
   "metadata": {},
   "outputs": [
    {
     "data": {
      "text/plain": [
       "<sqlalchemy.sql.compiler.StrSQLCompiler at 0x104b4a150>"
      ]
     },
     "execution_count": 39,
     "metadata": {},
     "output_type": "execute_result"
    }
   ],
   "source": [
    "compiled"
   ]
  },
  {
   "cell_type": "code",
   "execution_count": 40,
   "id": "2a7097c9-0248-4f9b-b675-53b5b8af3047",
   "metadata": {},
   "outputs": [
    {
     "data": {
      "text/plain": [
       "{'name': 'spongebob', 'fullname': 'Spongebob Squarepants'}"
      ]
     },
     "execution_count": 40,
     "metadata": {},
     "output_type": "execute_result"
    }
   ],
   "source": [
    "compiled.params"
   ]
  },
  {
   "cell_type": "code",
   "execution_count": 41,
   "id": "425f1e13-66ce-419b-a3eb-555380d0c5eb",
   "metadata": {},
   "outputs": [
    {
     "name": "stdout",
     "output_type": "stream",
     "text": [
      "2024-08-13 23:18:31,099 INFO sqlalchemy.engine.Engine BEGIN (implicit)\n",
      "2024-08-13 23:18:31,103 INFO sqlalchemy.engine.Engine INSERT INTO user_account (name, fullname) VALUES (?, ?)\n",
      "2024-08-13 23:18:31,105 INFO sqlalchemy.engine.Engine [generated in 0.01133s] ('spongebob', 'Spongebob Squarepants')\n",
      "2024-08-13 23:18:31,110 INFO sqlalchemy.engine.Engine COMMIT\n"
     ]
    }
   ],
   "source": [
    "with engine.connect() as conn:\n",
    "    result = conn.execute(stmt)\n",
    "    conn.commit()"
   ]
  },
  {
   "cell_type": "code",
   "execution_count": 42,
   "id": "66694a5c-64b0-46c9-99c2-82d8b6736e84",
   "metadata": {},
   "outputs": [
    {
     "data": {
      "text/plain": [
       "(1,)"
      ]
     },
     "execution_count": 42,
     "metadata": {},
     "output_type": "execute_result"
    }
   ],
   "source": [
    "result.inserted_primary_key"
   ]
  },
  {
   "cell_type": "code",
   "execution_count": 44,
   "id": "70984037-d8f8-4b25-abfb-cd32459f5b2d",
   "metadata": {},
   "outputs": [
    {
     "data": {
      "text/plain": [
       "sqlalchemy.engine.cursor.CursorResult"
      ]
     },
     "execution_count": 44,
     "metadata": {},
     "output_type": "execute_result"
    }
   ],
   "source": [
    "type(result)"
   ]
  },
  {
   "cell_type": "code",
   "execution_count": 45,
   "id": "d4e38058-f900-4dfd-82db-6b8f65c79d92",
   "metadata": {},
   "outputs": [
    {
     "name": "stdout",
     "output_type": "stream",
     "text": [
      "INSERT INTO user_account (id, name, fullname) VALUES (:id, :name, :fullname)\n"
     ]
    }
   ],
   "source": [
    "print(insert(user_table))"
   ]
  },
  {
   "cell_type": "code",
   "execution_count": 46,
   "id": "3e77aff9-c417-4562-8c0e-1374b4b9f14c",
   "metadata": {},
   "outputs": [
    {
     "name": "stdout",
     "output_type": "stream",
     "text": [
      "2024-08-13 23:24:19,590 INFO sqlalchemy.engine.Engine BEGIN (implicit)\n",
      "2024-08-13 23:24:19,591 INFO sqlalchemy.engine.Engine INSERT INTO user_account (name, fullname) VALUES (?, ?)\n",
      "2024-08-13 23:24:19,592 INFO sqlalchemy.engine.Engine [generated in 0.00187s] [('sandy', 'Sandy Cheeks'), ('patrick', 'Patrick Star')]\n",
      "2024-08-13 23:24:19,593 INFO sqlalchemy.engine.Engine COMMIT\n"
     ]
    }
   ],
   "source": [
    "with engine.connect() as conn:\n",
    "    result = conn.execute(\n",
    "        insert(user_table),\n",
    "        [\n",
    "            {\"name\": \"sandy\", \"fullname\": \"Sandy Cheeks\"},\n",
    "            {\"name\": \"patrick\", \"fullname\": \"Patrick Star\"},\n",
    "        ],\n",
    "    )\n",
    "    conn.commit()"
   ]
  },
  {
   "cell_type": "code",
   "execution_count": 47,
   "id": "6b1fe9e8-0290-4d1b-8f9e-7471d529330f",
   "metadata": {},
   "outputs": [
    {
     "name": "stdout",
     "output_type": "stream",
     "text": [
      "2024-08-13 23:31:22,660 INFO sqlalchemy.engine.Engine BEGIN (implicit)\n",
      "2024-08-13 23:31:22,661 INFO sqlalchemy.engine.Engine INSERT INTO address (user_id, email_address) VALUES ((SELECT user_account.id \n",
      "FROM user_account \n",
      "WHERE user_account.name = ?), ?)\n",
      "2024-08-13 23:31:22,662 INFO sqlalchemy.engine.Engine [generated in 0.00239s] [('spongebob', 'spongebob@sqlalchemy.org'), ('sandy', 'sandy@sqlalchemy.org'), ('sandy', 'sandy@squirrelpower.org')]\n",
      "2024-08-13 23:31:22,663 INFO sqlalchemy.engine.Engine COMMIT\n"
     ]
    }
   ],
   "source": [
    "from sqlalchemy import select, bindparam\n",
    "scalar_subq = (\n",
    "    select(user_table.c.id)\n",
    "    .where(user_table.c.name == bindparam(\"username\"))\n",
    "    .scalar_subquery()\n",
    ")\n",
    "\n",
    "with engine.connect() as conn:\n",
    "    result = conn.execute(\n",
    "        insert(address_table).values(user_id=scalar_subq),\n",
    "        [\n",
    "            {\n",
    "                \"username\": \"spongebob\",\n",
    "                \"email_address\": \"spongebob@sqlalchemy.org\",\n",
    "            },\n",
    "            {\"username\": \"sandy\", \"email_address\": \"sandy@sqlalchemy.org\"},\n",
    "            {\"username\": \"sandy\", \"email_address\": \"sandy@squirrelpower.org\"},\n",
    "        ],\n",
    "    )\n",
    "    conn.commit()"
   ]
  },
  {
   "cell_type": "code",
   "execution_count": 48,
   "id": "7a1c121d-68eb-4b8b-82f2-cd5d6bb88206",
   "metadata": {},
   "outputs": [
    {
     "name": "stdout",
     "output_type": "stream",
     "text": [
      "INSERT INTO user_account DEFAULT VALUES\n"
     ]
    }
   ],
   "source": [
    "print(insert(user_table).values().compile(engine))"
   ]
  },
  {
   "cell_type": "code",
   "execution_count": 49,
   "id": "379ceb93-73e4-44c4-b101-8c9567d272b8",
   "metadata": {},
   "outputs": [
    {
     "name": "stdout",
     "output_type": "stream",
     "text": [
      "INSERT INTO address (id, user_id, email_address) VALUES (:id, :user_id, :email_address) RETURNING address.id, address.email_address\n"
     ]
    }
   ],
   "source": [
    "insert_stmt = insert(address_table).returning(\n",
    "    address_table.c.id, address_table.c.email_address\n",
    ")\n",
    "print(insert_stmt)"
   ]
  },
  {
   "cell_type": "code",
   "execution_count": 50,
   "id": "f2fec160-2a51-439c-bfb5-ec851c9de5ba",
   "metadata": {},
   "outputs": [
    {
     "name": "stdout",
     "output_type": "stream",
     "text": [
      "INSERT INTO address (user_id, email_address) SELECT user_account.id, user_account.name || :name_1 AS anon_1 \n",
      "FROM user_account RETURNING address.id, address.email_address\n"
     ]
    }
   ],
   "source": [
    "select_stmt = select(user_table.c.id, user_table.c.name + \"@aol.com\")\n",
    "insert_stmt = insert(address_table).from_select(\n",
    "    [\"user_id\", \"email_address\"], select_stmt\n",
    ")\n",
    "print(insert_stmt.returning(address_table.c.id, address_table.c.email_address))"
   ]
  },
  {
   "cell_type": "code",
   "execution_count": 51,
   "id": "2ef0dfb0-bddd-4996-a438-0d2abf50f37c",
   "metadata": {},
   "outputs": [
    {
     "name": "stdout",
     "output_type": "stream",
     "text": [
      "SELECT user_account.id, user_account.name, user_account.fullname \n",
      "FROM user_account \n",
      "WHERE user_account.name = :name_1\n"
     ]
    }
   ],
   "source": [
    "from sqlalchemy import select\n",
    "stmt = select(user_table).where(user_table.c.name == \"spongebob\")\n",
    "print(stmt)"
   ]
  },
  {
   "cell_type": "code",
   "execution_count": 52,
   "id": "aaf7dc95-9b80-4c12-b1b9-5f9a406820c3",
   "metadata": {},
   "outputs": [
    {
     "name": "stdout",
     "output_type": "stream",
     "text": [
      "2024-08-13 23:52:16,882 INFO sqlalchemy.engine.Engine BEGIN (implicit)\n",
      "2024-08-13 23:52:16,884 INFO sqlalchemy.engine.Engine SELECT user_account.id, user_account.name, user_account.fullname \n",
      "FROM user_account \n",
      "WHERE user_account.name = ?\n",
      "2024-08-13 23:52:16,885 INFO sqlalchemy.engine.Engine [generated in 0.00252s] ('spongebob',)\n",
      "(1, 'spongebob', 'Spongebob Squarepants')\n",
      "2024-08-13 23:52:16,887 INFO sqlalchemy.engine.Engine ROLLBACK\n"
     ]
    }
   ],
   "source": [
    "with engine.connect() as conn:\n",
    "    for row in conn.execute(stmt):\n",
    "        print(row)"
   ]
  },
  {
   "cell_type": "code",
   "execution_count": 53,
   "id": "f6a5bd89-d70b-4572-b818-278602eaab83",
   "metadata": {},
   "outputs": [
    {
     "name": "stdout",
     "output_type": "stream",
     "text": [
      "2024-08-13 23:53:45,542 INFO sqlalchemy.engine.Engine BEGIN (implicit)\n",
      "2024-08-13 23:53:45,546 INFO sqlalchemy.engine.Engine SELECT user_account.id, user_account.name, user_account.fullname \n",
      "FROM user_account \n",
      "WHERE user_account.name = ?\n",
      "2024-08-13 23:53:45,547 INFO sqlalchemy.engine.Engine [generated in 0.00106s] ('spongebob',)\n",
      "(User(id=1, name='spongebob', fullname='Spongebob Squarepants'),)\n",
      "2024-08-13 23:53:45,549 INFO sqlalchemy.engine.Engine ROLLBACK\n"
     ]
    }
   ],
   "source": [
    "stmt = select(User).where(User.name == \"spongebob\")\n",
    "with Session(engine) as session:\n",
    "    for row in session.execute(stmt):\n",
    "        print(row)"
   ]
  },
  {
   "cell_type": "code",
   "execution_count": 54,
   "id": "5c33762d-b674-4dfc-8873-647548566d69",
   "metadata": {},
   "outputs": [
    {
     "name": "stdout",
     "output_type": "stream",
     "text": [
      "SELECT user_account.id, user_account.name, user_account.fullname \n",
      "FROM user_account\n"
     ]
    }
   ],
   "source": [
    "print(select(user_table))"
   ]
  },
  {
   "cell_type": "code",
   "execution_count": 55,
   "id": "3bb50ff9-a7a5-4bce-a10f-e2ae7e7f715d",
   "metadata": {},
   "outputs": [
    {
     "name": "stdout",
     "output_type": "stream",
     "text": [
      "SELECT user_account.name, user_account.fullname \n",
      "FROM user_account\n"
     ]
    }
   ],
   "source": [
    "print(select(user_table.c.name, user_table.c.fullname))"
   ]
  },
  {
   "cell_type": "code",
   "execution_count": 56,
   "id": "83dbd927-7741-4de7-b0dd-4446624d2d60",
   "metadata": {},
   "outputs": [
    {
     "name": "stdout",
     "output_type": "stream",
     "text": [
      "SELECT user_account.name, user_account.fullname \n",
      "FROM user_account\n"
     ]
    }
   ],
   "source": [
    "print(select(user_table.c[\"name\", \"fullname\"]))"
   ]
  },
  {
   "cell_type": "code",
   "execution_count": 57,
   "id": "1aa4a903-c345-4e6e-b411-3c33a7c5b1d4",
   "metadata": {},
   "outputs": [
    {
     "name": "stdout",
     "output_type": "stream",
     "text": [
      "SELECT user_account.id, user_account.name, user_account.fullname \n",
      "FROM user_account\n"
     ]
    }
   ],
   "source": [
    "print(select(User))"
   ]
  },
  {
   "cell_type": "code",
   "execution_count": 58,
   "id": "e6b08d35-04a0-4ef9-923d-36ac977f3540",
   "metadata": {},
   "outputs": [
    {
     "name": "stdout",
     "output_type": "stream",
     "text": [
      "2024-08-14 00:04:37,386 INFO sqlalchemy.engine.Engine BEGIN (implicit)\n",
      "2024-08-14 00:04:37,390 INFO sqlalchemy.engine.Engine SELECT user_account.id, user_account.name, user_account.fullname \n",
      "FROM user_account\n",
      "2024-08-14 00:04:37,391 INFO sqlalchemy.engine.Engine [generated in 0.00096s] ()\n"
     ]
    },
    {
     "data": {
      "text/plain": [
       "(User(id=1, name='spongebob', fullname='Spongebob Squarepants'),)"
      ]
     },
     "execution_count": 58,
     "metadata": {},
     "output_type": "execute_result"
    }
   ],
   "source": [
    "row = session.execute(select(User)).first()\n",
    "row"
   ]
  },
  {
   "cell_type": "code",
   "execution_count": 59,
   "id": "b1f54e78-a01e-4314-9670-32a012cf5557",
   "metadata": {},
   "outputs": [
    {
     "data": {
      "text/plain": [
       "User(id=1, name='spongebob', fullname='Spongebob Squarepants')"
      ]
     },
     "execution_count": 59,
     "metadata": {},
     "output_type": "execute_result"
    }
   ],
   "source": [
    "row[0]"
   ]
  },
  {
   "cell_type": "code",
   "execution_count": 60,
   "id": "bbef29bd-0596-49fa-b28d-4018d31282f0",
   "metadata": {},
   "outputs": [
    {
     "name": "stdout",
     "output_type": "stream",
     "text": [
      "2024-08-14 00:06:39,565 INFO sqlalchemy.engine.Engine SELECT user_account.id, user_account.name, user_account.fullname \n",
      "FROM user_account\n",
      "2024-08-14 00:06:39,566 INFO sqlalchemy.engine.Engine [cached since 122.2s ago] ()\n"
     ]
    },
    {
     "data": {
      "text/plain": [
       "User(id=1, name='spongebob', fullname='Spongebob Squarepants')"
      ]
     },
     "execution_count": 60,
     "metadata": {},
     "output_type": "execute_result"
    }
   ],
   "source": [
    "user = session.scalars(select(User)).first()\n",
    "user"
   ]
  },
  {
   "cell_type": "code",
   "execution_count": 61,
   "id": "adeb61a8-3a3f-4b31-892a-3d0c94554d56",
   "metadata": {},
   "outputs": [
    {
     "name": "stdout",
     "output_type": "stream",
     "text": [
      "SELECT user_account.name, user_account.fullname \n",
      "FROM user_account\n"
     ]
    }
   ],
   "source": [
    "print(select(User.name, User.fullname))"
   ]
  },
  {
   "cell_type": "code",
   "execution_count": 62,
   "id": "d496e9d3-7a5d-41c7-9c46-0d225cb2259c",
   "metadata": {},
   "outputs": [
    {
     "name": "stdout",
     "output_type": "stream",
     "text": [
      "2024-08-14 00:07:46,753 INFO sqlalchemy.engine.Engine SELECT user_account.name, user_account.fullname \n",
      "FROM user_account\n",
      "2024-08-14 00:07:46,754 INFO sqlalchemy.engine.Engine [generated in 0.00108s] ()\n"
     ]
    },
    {
     "data": {
      "text/plain": [
       "('spongebob', 'Spongebob Squarepants')"
      ]
     },
     "execution_count": 62,
     "metadata": {},
     "output_type": "execute_result"
    }
   ],
   "source": [
    "row = session.execute(select(User.name, User.fullname)).first()\n",
    "row"
   ]
  },
  {
   "cell_type": "code",
   "execution_count": 63,
   "id": "a69066f9-10da-492c-9257-244f9b1221fb",
   "metadata": {},
   "outputs": [
    {
     "name": "stdout",
     "output_type": "stream",
     "text": [
      "2024-08-14 00:07:52,634 INFO sqlalchemy.engine.Engine SELECT user_account.name, address.id, address.email_address, address.user_id \n",
      "FROM user_account, address \n",
      "WHERE user_account.id = address.user_id ORDER BY address.id\n",
      "2024-08-14 00:07:52,636 INFO sqlalchemy.engine.Engine [generated in 0.00132s] ()\n"
     ]
    },
    {
     "data": {
      "text/plain": [
       "[('spongebob', Address(id=1, email_address='spongebob@sqlalchemy.org')),\n",
       " ('sandy', Address(id=2, email_address='sandy@sqlalchemy.org')),\n",
       " ('sandy', Address(id=3, email_address='sandy@squirrelpower.org'))]"
      ]
     },
     "execution_count": 63,
     "metadata": {},
     "output_type": "execute_result"
    }
   ],
   "source": [
    "session.execute(\n",
    "    select(User.name, Address).where(User.id == Address.user_id).order_by(Address.id)\n",
    ").all()"
   ]
  },
  {
   "cell_type": "code",
   "execution_count": 64,
   "id": "a03a112d-fe9e-4839-a2f6-03f3c0fdf340",
   "metadata": {},
   "outputs": [
    {
     "name": "stdout",
     "output_type": "stream",
     "text": [
      "2024-08-14 00:11:22,282 INFO sqlalchemy.engine.Engine BEGIN (implicit)\n",
      "2024-08-14 00:11:22,283 INFO sqlalchemy.engine.Engine SELECT ? || user_account.name AS username \n",
      "FROM user_account ORDER BY user_account.name\n",
      "2024-08-14 00:11:22,283 INFO sqlalchemy.engine.Engine [generated in 0.00192s] ('Username: ',)\n",
      "Username: patrick\n",
      "Username: sandy\n",
      "Username: spongebob\n",
      "2024-08-14 00:11:22,285 INFO sqlalchemy.engine.Engine ROLLBACK\n"
     ]
    }
   ],
   "source": [
    "from sqlalchemy import func, cast\n",
    "stmt = select(\n",
    "    (\"Username: \" + user_table.c.name).label(\"username\"),\n",
    ").order_by(user_table.c.name)\n",
    "with engine.connect() as conn:\n",
    "    for row in conn.execute(stmt):\n",
    "        print(f\"{row.username}\")"
   ]
  },
  {
   "cell_type": "code",
   "execution_count": 70,
   "id": "544ddff2-5443-4a02-a10c-32f760f1364e",
   "metadata": {},
   "outputs": [
    {
     "data": {
      "text/plain": [
       "<sqlalchemy.sql.elements.Label at 0x1050a0ed0; username>"
      ]
     },
     "execution_count": 70,
     "metadata": {},
     "output_type": "execute_result"
    }
   ],
   "source": [
    "(\"Username: \" + user_table.c.name).label(\"username\")"
   ]
  },
  {
   "cell_type": "code",
   "execution_count": 68,
   "id": "418dab47-8d5c-485e-851a-822f27e72aed",
   "metadata": {},
   "outputs": [
    {
     "data": {
      "text/plain": [
       "Column('name', String(length=30), table=<user_account>)"
      ]
     },
     "execution_count": 68,
     "metadata": {},
     "output_type": "execute_result"
    }
   ],
   "source": [
    "user_table.c.name"
   ]
  },
  {
   "cell_type": "code",
   "execution_count": 72,
   "id": "23522ea7-0fc7-4fd8-8a82-49066169e899",
   "metadata": {},
   "outputs": [
    {
     "data": {
      "text/plain": [
       "sqlalchemy.sql.base.ReadOnlyColumnCollection"
      ]
     },
     "execution_count": 72,
     "metadata": {},
     "output_type": "execute_result"
    }
   ],
   "source": [
    "type(user_table.c)"
   ]
  },
  {
   "cell_type": "code",
   "execution_count": 76,
   "id": "63cbd988-061d-46f6-a09c-1344360faa4c",
   "metadata": {},
   "outputs": [
    {
     "name": "stdout",
     "output_type": "stream",
     "text": [
      "2024-08-14 06:18:05,151 INFO sqlalchemy.engine.Engine BEGIN (implicit)\n",
      "2024-08-14 06:18:05,173 INFO sqlalchemy.engine.Engine SELECT ? || user_account.name AS toto \n",
      "FROM user_account ORDER BY user_account.name\n",
      "2024-08-14 06:18:05,175 INFO sqlalchemy.engine.Engine [generated in 0.02367s] ('Username: ',)\n",
      "Username: patrick\n",
      "Username: sandy\n",
      "Username: spongebob\n",
      "2024-08-14 06:18:05,178 INFO sqlalchemy.engine.Engine ROLLBACK\n"
     ]
    }
   ],
   "source": [
    "from sqlalchemy import func, cast\n",
    "stmt = select(\n",
    "    (\"Username: \" + user_table.c.name).label(\"toto\"),\n",
    ").order_by(user_table.c.name)\n",
    "with engine.connect() as conn:\n",
    "    for row in conn.execute(stmt):\n",
    "        print(f\"{row.toto}\")"
   ]
  },
  {
   "cell_type": "code",
   "execution_count": 77,
   "id": "21a0fd99-84cb-40dc-9455-11f548d774cb",
   "metadata": {},
   "outputs": [
    {
     "name": "stdout",
     "output_type": "stream",
     "text": [
      "2024-08-14 06:23:37,734 INFO sqlalchemy.engine.Engine BEGIN (implicit)\n",
      "2024-08-14 06:23:37,736 INFO sqlalchemy.engine.Engine SELECT 'some phrase', user_account.name \n",
      "FROM user_account ORDER BY user_account.name\n",
      "2024-08-14 06:23:37,736 INFO sqlalchemy.engine.Engine [generated in 0.00231s] ()\n",
      "[('some phrase', 'patrick'), ('some phrase', 'sandy'), ('some phrase', 'spongebob')]\n",
      "2024-08-14 06:23:37,739 INFO sqlalchemy.engine.Engine ROLLBACK\n"
     ]
    }
   ],
   "source": [
    "from sqlalchemy import text\n",
    "stmt = select(text(\"'some phrase'\"), user_table.c.name).order_by(user_table.c.name)\n",
    "with engine.connect() as conn:\n",
    "    print(conn.execute(stmt).all())"
   ]
  },
  {
   "cell_type": "code",
   "execution_count": 78,
   "id": "d13dde20-c6f0-47f9-9d27-e6e334449f19",
   "metadata": {},
   "outputs": [
    {
     "name": "stdout",
     "output_type": "stream",
     "text": [
      "2024-08-14 06:24:24,352 INFO sqlalchemy.engine.Engine BEGIN (implicit)\n",
      "2024-08-14 06:24:24,353 INFO sqlalchemy.engine.Engine SELECT 'some phrase', user_account.id \n",
      "FROM user_account ORDER BY user_account.id\n",
      "2024-08-14 06:24:24,354 INFO sqlalchemy.engine.Engine [generated in 0.00157s] ()\n",
      "[('some phrase', 1), ('some phrase', 2), ('some phrase', 3)]\n",
      "2024-08-14 06:24:24,355 INFO sqlalchemy.engine.Engine ROLLBACK\n"
     ]
    }
   ],
   "source": [
    "from sqlalchemy import text\n",
    "stmt = select(text(\"'some phrase'\"), user_table.c.id).order_by(user_table.c.id)\n",
    "with engine.connect() as conn:\n",
    "    print(conn.execute(stmt).all())"
   ]
  },
  {
   "cell_type": "code",
   "execution_count": 82,
   "id": "d3a44ded-7bbf-4045-9188-f482a9a1d12a",
   "metadata": {},
   "outputs": [
    {
     "name": "stdout",
     "output_type": "stream",
     "text": [
      "2024-08-14 06:32:35,599 INFO sqlalchemy.engine.Engine BEGIN (implicit)\n",
      "2024-08-14 06:32:35,600 INFO sqlalchemy.engine.Engine SELECT 'some phrase' AS arbitraire, user_account.name \n",
      "FROM user_account ORDER BY user_account.name\n",
      "2024-08-14 06:32:35,601 INFO sqlalchemy.engine.Engine [generated in 0.00264s] ()\n",
      "some phrase, patrick\n",
      "some phrase, sandy\n",
      "some phrase, spongebob\n",
      "2024-08-14 06:32:35,603 INFO sqlalchemy.engine.Engine ROLLBACK\n"
     ]
    }
   ],
   "source": [
    "from sqlalchemy import literal_column\n",
    "stmt = select(literal_column(\"'some phrase'\").label(\"arbitraire\"), user_table.c.name).order_by(\n",
    "    user_table.c.name\n",
    ")\n",
    "with engine.connect() as conn:\n",
    "    for row in conn.execute(stmt):\n",
    "        print(f\"{row.arbitraire}, {row.name}\")"
   ]
  },
  {
   "cell_type": "code",
   "execution_count": 83,
   "id": "cee1e0e8-1dbe-42ed-bd26-c578f1b53add",
   "metadata": {},
   "outputs": [
    {
     "name": "stdout",
     "output_type": "stream",
     "text": [
      "user_account.name = :name_1\n"
     ]
    }
   ],
   "source": [
    "print(user_table.c.name == \"squidward\")"
   ]
  },
  {
   "cell_type": "code",
   "execution_count": 84,
   "id": "52904a43-3394-4ab6-8c5c-1ea14e1b26af",
   "metadata": {},
   "outputs": [
    {
     "name": "stdout",
     "output_type": "stream",
     "text": [
      "address.user_id > :user_id_1\n"
     ]
    }
   ],
   "source": [
    "print(address_table.c.user_id > 10)"
   ]
  },
  {
   "cell_type": "code",
   "execution_count": 85,
   "id": "b3c135be-66f5-4964-b2a1-909fa5b10d3b",
   "metadata": {},
   "outputs": [
    {
     "name": "stdout",
     "output_type": "stream",
     "text": [
      "SELECT user_account.id, user_account.name, user_account.fullname \n",
      "FROM user_account \n",
      "WHERE user_account.name = :name_1\n"
     ]
    }
   ],
   "source": [
    "print(select(user_table).where(user_table.c.name == \"squidward\"))"
   ]
  },
  {
   "cell_type": "code",
   "execution_count": 86,
   "id": "09193f2c-2afe-4043-bfe7-a086929069ce",
   "metadata": {},
   "outputs": [
    {
     "name": "stdout",
     "output_type": "stream",
     "text": [
      "SELECT address.email_address \n",
      "FROM address, user_account \n",
      "WHERE user_account.name = :name_1 AND address.user_id = user_account.id\n"
     ]
    }
   ],
   "source": [
    "print(\n",
    "    select(address_table.c.email_address).where(\n",
    "        user_table.c.name == \"squidward\",\n",
    "        address_table.c.user_id == user_table.c.id,\n",
    "    )\n",
    ")"
   ]
  },
  {
   "cell_type": "code",
   "execution_count": 87,
   "id": "382b100b-9af4-41c5-b4b4-c1fd941dcd55",
   "metadata": {},
   "outputs": [
    {
     "name": "stdout",
     "output_type": "stream",
     "text": [
      "SELECT address.email_address \n",
      "FROM address, user_account \n",
      "WHERE (user_account.name = :name_1 OR user_account.name = :name_2) AND address.user_id = user_account.id\n"
     ]
    }
   ],
   "source": [
    "from sqlalchemy import and_, or_\n",
    "print(\n",
    "    select(Address.email_address).where(\n",
    "        and_(\n",
    "            or_(User.name == \"squidward\", User.name == \"sandy\"),\n",
    "            Address.user_id == User.id,\n",
    "        )\n",
    "    )\n",
    ")"
   ]
  },
  {
   "cell_type": "code",
   "execution_count": 88,
   "id": "89ea9099-ca82-4282-b2ea-148c23d667cc",
   "metadata": {},
   "outputs": [
    {
     "name": "stdout",
     "output_type": "stream",
     "text": [
      "SELECT user_account.id, user_account.name, user_account.fullname \n",
      "FROM user_account \n",
      "WHERE user_account.name = :name_1 AND user_account.fullname = :fullname_1\n"
     ]
    }
   ],
   "source": [
    "print(select(User).filter_by(name=\"spongebob\", fullname=\"Spongebob Squarepants\"))"
   ]
  },
  {
   "cell_type": "code",
   "execution_count": 89,
   "id": "96a4f5b9-ab43-4329-8b45-a2b20e92a0ab",
   "metadata": {},
   "outputs": [
    {
     "name": "stdout",
     "output_type": "stream",
     "text": [
      "SELECT user_account.name \n",
      "FROM user_account\n"
     ]
    }
   ],
   "source": [
    "print(select(user_table.c.name))"
   ]
  },
  {
   "cell_type": "code",
   "execution_count": 90,
   "id": "03e5267d-def8-487c-abe7-1666da538528",
   "metadata": {},
   "outputs": [
    {
     "name": "stdout",
     "output_type": "stream",
     "text": [
      "SELECT user_account.name, address.email_address \n",
      "FROM user_account, address\n"
     ]
    }
   ],
   "source": [
    "print(select(user_table.c.name, address_table.c.email_address))"
   ]
  },
  {
   "cell_type": "code",
   "execution_count": 91,
   "id": "0f8cf89a-7cb1-4dfd-a18e-74f2de8ed965",
   "metadata": {},
   "outputs": [
    {
     "data": {
      "text/plain": [
       "<sqlalchemy.sql.selectable.Select object at 0x1060340d0>"
      ]
     },
     "execution_count": 91,
     "metadata": {},
     "output_type": "execute_result"
    }
   ],
   "source": [
    "select(user_table.c.name, address_table.c.email_address)"
   ]
  },
  {
   "cell_type": "code",
   "execution_count": 96,
   "id": "386233cf-d0f8-4f70-99da-299aac102333",
   "metadata": {},
   "outputs": [
    {
     "name": "stdout",
     "output_type": "stream",
     "text": [
      "2024-08-14 06:59:54,433 INFO sqlalchemy.engine.Engine BEGIN (implicit)\n",
      "2024-08-14 06:59:54,434 INFO sqlalchemy.engine.Engine SELECT user_account.name, address.email_address \n",
      "FROM user_account, address\n",
      "2024-08-14 06:59:54,435 INFO sqlalchemy.engine.Engine [cached since 171.5s ago] ()\n",
      "spongebob, spongebob@sqlalchemy.org\n",
      "spongebob, sandy@sqlalchemy.org\n",
      "spongebob, sandy@squirrelpower.org\n",
      "sandy, spongebob@sqlalchemy.org\n",
      "sandy, sandy@sqlalchemy.org\n",
      "sandy, sandy@squirrelpower.org\n",
      "patrick, spongebob@sqlalchemy.org\n",
      "patrick, sandy@sqlalchemy.org\n",
      "patrick, sandy@squirrelpower.org\n",
      "2024-08-14 06:59:54,437 INFO sqlalchemy.engine.Engine ROLLBACK\n"
     ]
    }
   ],
   "source": [
    "stmt = select(user_table.c.name, address_table.c.email_address)\n",
    "with engine.connect() as conn:\n",
    "    for row in conn.execute(stmt):\n",
    "        print(f\"{row.name}, {row.email_address}\")"
   ]
  },
  {
   "cell_type": "code",
   "execution_count": 97,
   "id": "7a7cab3c-fa87-453f-a0dc-b4fd190c47b9",
   "metadata": {},
   "outputs": [
    {
     "name": "stdout",
     "output_type": "stream",
     "text": [
      "SELECT user_account.name, address.email_address \n",
      "FROM user_account JOIN address ON user_account.id = address.user_id\n"
     ]
    }
   ],
   "source": [
    "print(\n",
    "    select(user_table.c.name, address_table.c.email_address).join_from(\n",
    "        user_table, address_table\n",
    "    )\n",
    ")"
   ]
  },
  {
   "cell_type": "code",
   "execution_count": 98,
   "id": "9dbc1f63-9ef1-48c1-a188-61650cd63813",
   "metadata": {},
   "outputs": [
    {
     "name": "stdout",
     "output_type": "stream",
     "text": [
      "2024-08-14 07:03:33,402 INFO sqlalchemy.engine.Engine BEGIN (implicit)\n",
      "2024-08-14 07:03:33,404 INFO sqlalchemy.engine.Engine SELECT user_account.name, address.email_address \n",
      "FROM user_account JOIN address ON user_account.id = address.user_id\n",
      "2024-08-14 07:03:33,404 INFO sqlalchemy.engine.Engine [generated in 0.00211s] ()\n",
      "spongebob, spongebob@sqlalchemy.org\n",
      "sandy, sandy@sqlalchemy.org\n",
      "sandy, sandy@squirrelpower.org\n",
      "2024-08-14 07:03:33,406 INFO sqlalchemy.engine.Engine ROLLBACK\n"
     ]
    }
   ],
   "source": [
    "stmt = select(user_table.c.name, address_table.c.email_address).join_from(user_table, address_table)\n",
    "with engine.connect() as conn:\n",
    "    for row in conn.execute(stmt):\n",
    "        print(f\"{row.name}, {row.email_address}\")"
   ]
  },
  {
   "cell_type": "code",
   "execution_count": 99,
   "id": "348360a3-f2bc-4208-ab62-df7a02f2ef31",
   "metadata": {},
   "outputs": [
    {
     "name": "stdout",
     "output_type": "stream",
     "text": [
      "SELECT user_account.name, address.email_address \n",
      "FROM user_account JOIN address ON user_account.id = address.user_id\n"
     ]
    }
   ],
   "source": [
    "print(select(user_table.c.name, address_table.c.email_address).join(address_table))"
   ]
  },
  {
   "cell_type": "code",
   "execution_count": 100,
   "id": "87f75d31-ea84-45ff-ae1f-638df14b96e8",
   "metadata": {},
   "outputs": [
    {
     "data": {
      "text/plain": [
       "<sqlalchemy.sql.functions._FunctionGenerator at 0x104481ad0>"
      ]
     },
     "execution_count": 100,
     "metadata": {},
     "output_type": "execute_result"
    }
   ],
   "source": [
    "func"
   ]
  },
  {
   "cell_type": "code",
   "execution_count": 101,
   "id": "8697f705-863f-4e34-b56f-cffd98ffe329",
   "metadata": {},
   "outputs": [
    {
     "name": "stdout",
     "output_type": "stream",
     "text": [
      "SELECT count(:count_2) AS count_1 \n",
      "FROM user_account\n"
     ]
    }
   ],
   "source": [
    "print(select(func.count(\"*\")).select_from(user_table))"
   ]
  },
  {
   "cell_type": "code",
   "execution_count": 104,
   "id": "6cec0e34-7a5d-4335-93c7-c05f03484f8e",
   "metadata": {},
   "outputs": [
    {
     "name": "stdout",
     "output_type": "stream",
     "text": [
      "2024-08-14 07:16:03,535 INFO sqlalchemy.engine.Engine BEGIN (implicit)\n",
      "2024-08-14 07:16:03,536 INFO sqlalchemy.engine.Engine SELECT count(?) AS count_1 \n",
      "FROM user_account\n",
      "2024-08-14 07:16:03,537 INFO sqlalchemy.engine.Engine [cached since 77.85s ago] ('*',)\n",
      "Count : 3\n",
      "2024-08-14 07:16:03,539 INFO sqlalchemy.engine.Engine ROLLBACK\n"
     ]
    }
   ],
   "source": [
    "stmt = select(func.count(\"*\")).select_from(user_table)\n",
    "with engine.connect() as conn:\n",
    "    for row in conn.execute(stmt):\n",
    "        print(f\"Count : {row[0]}\")"
   ]
  },
  {
   "cell_type": "code",
   "execution_count": null,
   "id": "4b0bb744-7d9f-4be2-b1fc-9f26e0b8a2ef",
   "metadata": {},
   "outputs": [],
   "source": []
  }
 ],
 "metadata": {
  "kernelspec": {
   "display_name": "Python 3 (ipykernel)",
   "language": "python",
   "name": "python3"
  },
  "language_info": {
   "codemirror_mode": {
    "name": "ipython",
    "version": 3
   },
   "file_extension": ".py",
   "mimetype": "text/x-python",
   "name": "python",
   "nbconvert_exporter": "python",
   "pygments_lexer": "ipython3",
   "version": "3.11.3"
  }
 },
 "nbformat": 4,
 "nbformat_minor": 5
}
