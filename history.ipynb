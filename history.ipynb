{
 "cells": [
  {
   "cell_type": "code",
   "execution_count": 1,
   "id": "e80cc529-0c88-4e1a-9830-ad90d7575519",
   "metadata": {},
   "outputs": [
    {
     "name": "stdout",
     "output_type": "stream",
     "text": [
      "2024-09-11 21:48:45,540 INFO sqlalchemy.engine.Engine BEGIN (implicit)\n",
      "2024-09-11 21:48:45,540 INFO sqlalchemy.engine.Engine PRAGMA main.table_info(\"word_dict\")\n",
      "2024-09-11 21:48:45,541 INFO sqlalchemy.engine.Engine [raw sql] ()\n",
      "2024-09-11 21:48:45,541 INFO sqlalchemy.engine.Engine PRAGMA main.table_info(\"word_index\")\n",
      "2024-09-11 21:48:45,541 INFO sqlalchemy.engine.Engine [raw sql] ()\n",
      "2024-09-11 21:48:45,542 INFO sqlalchemy.engine.Engine PRAGMA main.table_info(\"sentences\")\n",
      "2024-09-11 21:48:45,543 INFO sqlalchemy.engine.Engine [raw sql] ()\n",
      "2024-09-11 21:48:45,543 INFO sqlalchemy.engine.Engine PRAGMA main.table_info(\"marked_sentences\")\n",
      "2024-09-11 21:48:45,543 INFO sqlalchemy.engine.Engine [raw sql] ()\n",
      "2024-09-11 21:48:45,543 INFO sqlalchemy.engine.Engine PRAGMA main.table_info(\"lesson_sessions\")\n",
      "2024-09-11 21:48:45,544 INFO sqlalchemy.engine.Engine [raw sql] ()\n",
      "2024-09-11 21:48:45,544 INFO sqlalchemy.engine.Engine COMMIT\n"
     ]
    }
   ],
   "source": [
    "from sqlalchemy import ForeignKey, select, String, and_\n",
    "from sqlalchemy.orm import Session\n",
    "from database import engine, MarkedSentence"
   ]
  },
  {
   "cell_type": "code",
   "execution_count": 2,
   "id": "68938bcd-0e36-45f0-a973-27781ce6df1f",
   "metadata": {},
   "outputs": [],
   "source": [
    "stmt = select(MarkedSentence)\n"
   ]
  },
  {
   "cell_type": "code",
   "execution_count": 3,
   "id": "fac7fd37-5de4-4ed4-885b-830c4b198cf8",
   "metadata": {},
   "outputs": [
    {
     "name": "stdout",
     "output_type": "stream",
     "text": [
      "2024-09-11 21:48:47,366 INFO sqlalchemy.engine.Engine BEGIN (implicit)\n",
      "2024-09-11 21:48:47,382 INFO sqlalchemy.engine.Engine SELECT marked_sentences.id, marked_sentences.sentence, marked_sentences.comment, marked_sentences.line, marked_sentences.session_id \n",
      "FROM marked_sentences\n",
      "2024-09-11 21:48:47,383 INFO sqlalchemy.engine.Engine [generated in 0.00117s] ()\n",
      "Sentence(id=1, line=2, sentence =\"S01-Fe<b>li</b>pe, <b>gua</b>po, <b>da</b>me diez <b>lon</b>chas de <mark class='A'>ja<b>món</b></mark><b></b> de york, por fa<b>vor</b>.\", comment=None)\n",
      "Sentence(id=2, line=5, sentence =\"S04-Y <mark class='E'>yo</mark> se la di a <b>es</b>ta se<b>ño</b>ra.\", comment=None)\n",
      "Sentence(id=3, line=6, sentence =\"S05-O <b>se</b>a, que a<b>ho</b>ra me <b>to</b>ca a mí, y us<b>ted</b> ¡a ha<b>cer</b> <b>co</b>la i<b>gual</b> que <mark class='O'>los</mark> de<b>más</b>!\", comment=None)\n",
      "Sentence(id=4, line=10, sentence =\"S09-<b></b><mark class='E'><b>Ven</b>ga</mark>, <b>pa</b>se, <b>pe</b>ro que <b>se</b>a <b>rá</b>pido.\", comment=None)\n",
      "Sentence(id=5, line=15, sentence =\"T01-Te <mark class='E'>pe<b>dí</b></mark><b></b> diez <b>lon</b>chas de ja<b>món</b> de York y <b>me</b>dio <b>ki</b>lo de <b>car</b>ne pi<b>ca</b>da.\", comment=None)\n",
      "Sentence(id=6, line=19, sentence =\"T05-Me <b></b><mark class='G'><b>ha</b>cen</mark> <b>fal</b>ta <b>cua</b>tro <b>mus</b>los de <b>po</b>llo y dos pe<b>chu</b>gas.\", comment=None)\n",
      "Sentence(id=7, line=7, sentence =\"S06-¡En <b>to</b>das <b>par</b>tes! Pri<b>me</b>ro en <mark class='O'>el</mark> Ca<b>ri</b>be.\", comment=None)\n",
      "Sentence(id=8, line=20, sentence =\"T03-Via<b>ja</b>mos por <b>to</b>do el pa<b>ís</b> y <b></b><mark class='V'><b>fui</b>mos</mark> a <b>to</b>das <b>par</b>tes.\", comment=None)\n",
      "Sentence(id=9, line=21, sentence =\"T04-No me gus<b>tó</b> Ciu<b>dad</b> de <b>Mé</b>xico, <b>pe</b>ro la <b>gen</b>te <mark class='V'>me pare<b>ció</b></mark><b></b> encanta<b>do</b>ra.\", comment=None)\n",
      "Sentence(id=15, line=1, sentence =\"S00-TITLE-¡<mark class='O' title='      '>Bienve<b>ni</b>da</mark>!\", comment=None)\n",
      "Sentence(id=16, line=5, sentence =\"S04-No, no soy madri<b>le</b>ña. Soy <mark class='O' title='andaluza avec z'>anda<b>lu</b>za</mark>, de Se<b>vi</b>lla.\", comment=None)\n",
      "Sentence(id=17, line=6, sentence =\"S05-¡Pues <mark class='O' title='bienvenida et non pas benvenida.'>bienve<b>ni</b>da</mark> a Ma<b>drid</b>, mo<b>re</b>na!\", comment=None)\n",
      "Sentence(id=18, line=5, sentence =\"S04-¿Choco<b>la</b>te pi<b>can</b>te? ¿No te <mark class='V' title='3ème personne du singulier du passé simple de dar : dio et non pas di.'>dio</mark> <b>as</b>co?\", comment=None)\n",
      "Sentence(id=19, line=9, sentence =\"S08-¿<b>Pe</b>ro <b>nun</b>ca lo <mark class='V' title='3ème personne du pluriel du présent du verbe tomar.'><b>to</b>man</mark> <b></b><b>dul</b>ce?\", comment=None)\n",
      "Sentence(id=20, line=10, sentence =\"S09-Sí, <b>cla</b>ro, hoy en <b>dí</b>a tam<b>bién</b> <mark class='G' title='cacao est complément d&#039;objet indirect donc=&#034;le&#034; et non pas &#034;lo&#034;'>le</mark> <b>e</b>chan a<b>zú</b>car,\", comment=None)\n",
      "Sentence(id=21, line=11, sentence =\"S10-<b>pe</b>ro en la tradi<b>ción</b> in<b>dí</b>gena no se <mark class='G' title='cacao est complément d&#039;objet indirect donc=&#034;le&#034; et non pas &#034;lo&#034;'>le</mark> a<b>ña</b>de <b>le</b>che, <b>so</b>lo <b>a</b>gua.\", comment=None)\n",
      "Sentence(id=22, line=12, sentence =\"S11-<b></b><mark class='O'><b></b><mark class='O' title='Meriendas est féminin, donc nuestras et non pas nuestros.'><b>Nues</b>tras</mark></mark> me<b>rien</b>das sí que las e<b>cha</b>ba de <b>me</b>nos un buen choco<b>la</b>te con <b>chu</b>rros. . .\", comment=None)\n",
      "Sentence(id=23, line=2, sentence =\"S01-Cris<b>tó</b>bal Co<b>l<mark class='A' title='      '>ó</mark>n</b> sa<b>bí</b>a que la <b>Tie</b>rra <b>e</b>ra re<b>don</b>da y <b>qui</b>so alcan<b>zar</b> las <b>In</b>dias <b>yen</b>do <b>siem</b>pre <b></b><mark class='O' title='hacia et non pas hasta'><b>ha</b>cia</mark> el o<b>es</b>te.\", comment=None)\n",
      "Sentence(id=24, line=8, sentence =\"S07-y <mark class='V' title='Passé simple irrégulier de traer au passé simple dont le radical devient traj'>tra<b>je</b>ron</mark> <b></b><mark class='G'><b></b><mark class='G' title='Au pluriel'><b>o</b>tros <b>tan</b>tos</mark></mark> a Eu<b>ro</b>pa.\", comment=None)\n",
      "Sentence(id=25, line=11, sentence =\"S10-<b>nues</b>tros <b>pos</b>tres sin vai<b>ni</b>lla o los <b>Pie</b>les <b></b><mark class='O' title='Terminaison en a de Roja'><b>Ro</b>jas</mark> sin ca<b>ba</b>llos?\", comment=None)\n",
      "Sentence(id=26, line=12, sentence =\"S11-Un <b>nue</b>vo <b>mun</b>do <mark class='V' title='nació\\xa0et non pas naci'>na<b>ció</b></mark><b></b> el 12 de oc<b>tu</b>bre de 1492 mil cuatro<b>cien</b>tos no<b>ven</b>ta y dos.\", comment=None)\n",
      "Sentence(id=27, line=2, sentence =\"S01-¡<mark class='E' title='&#034;Ya&#034; está au lieu de &#034;Ya&#034;'>Ya</mark> <b></b><mark class='O' title='&#034;fue&#034; au lieu de &#034;hice&#034;'><b>hi</b>ce</mark> la entre<b>vis</b>ta!\", comment=None)\n",
      "Sentence(id=28, line=15, sentence =\"S14-Por Dios ¿Y qué <mark class='V' title='3ème du singulier du assé simple de pasar.'>pa<b>só</b></mark><b></b>?\", comment=None)\n",
      "Sentence(id=29, line=17, sentence =\"S16-Te lo <b></b><mark class='V' title='&#034;digo&#034; et non pas &#034;dicho&#034;'><b>di</b>go</mark> el <b>pues</b>to es <b>mí</b>o.\", comment=None)\n",
      "Sentence(id=30, line=19, sentence =\"T01-He te<b>ni</b>do <b>suer</b>te, la entre<b>vis</b>ta <mark class='E' title='&#034;me fue&#034; et non pas &#034;se pasó&#034;'>me fue</mark> muy bien y he conse<b>gui</b>do el <b>pues</b>to.\", comment=None)\n",
      "Sentence(id=31, line=3, sentence =\"S02-<mark class='G' title='Cazadora est féminin, donc le pronom est &#034;la&#034;'>La</mark> com<b>pré</b> a<b>yer</b> en el <b>Ras</b>tro, no <b>pu</b>de resis<b>tir</b>me.\", comment=None)\n",
      "Sentence(id=32, line=4, sentence =\"S03-<b>Tu</b>ve que regate<b>ar</b> un buen <b>ra</b>to, el <b>tí</b>o no <mark class='V' title='Querer à l&#039;imparfait et non pas au passé simple.'>que<b>rí</b>a</mark> ba<b>jar</b> el <b>pre</b>cio.\", comment=None)\n",
      "Sentence(id=33, line=6, sentence =\"S05-que no <b>i</b>ba a encon<b>trar</b> <b></b><mark class='G' title='Cazadora féminin, donc &#034;otra&#034; et non pas &#034;otro&#034;'><b>o</b>tra</mark> i<b>gual</b>.\", comment=None)\n",
      "Sentence(id=34, line=7, sentence =\"S06-Le pa<b>gué</b> la mi<b>tad</b> de lo que <mark class='O' title='&#034;pedir&#034; et non pas &#034;preguntar&#034;. De plus à l&#039;imparfait et non pas au passé simple.'>pe<b>dí</b>a</mark> al prin<b>ci</b>pio, <mark class='O' title='&#034;doscientos&#034; en un seul mot.'>dos<b>cien</b>tos</mark> <b>eu</b>ros. ¡<b>U</b>na <b>gan</b>ga!\", comment=None)\n",
      "Sentence(id=35, line=13, sentence =\"S12-No <b>pe</b>sa <b>mu</b>cho, pa<b>re</b>ce <b>fal</b>sa. . . ¿<mark class='E' title='&#034;De verdad&#034; placé avant crees pour insister dessus.'>De ver<b>dad</b></mark><b></b> <b>cre</b>es que es de <b>cue</b>ro?\", comment=None)\n",
      "Sentence(id=36, line=15, sentence =\"S14-A<b>mi</b>go <b>mí</b>o, me pa<b>re</b>ce que te han <b>da</b>do <b>ga</b>to por <b></b><mark class='O' title='&#034;liebre&#034; et non pas &#034;liebro&#034;'><b>lie</b>bre</mark>\", comment=None)\n",
      "Sentence(id=37, line=18, sentence =\"T02-<b></b><mark class='O' title='&#034;Trater&#034; et non pas &#034;probar&#034;'><b>Tra</b>té</mark> de regate<b>ar</b>, <b>pe</b>ro el <b>tí</b>o no <b>qui</b>so ba<b>jar</b> el <b>pre</b>cio.\", comment=None)\n",
      "Sentence(id=38, line=19, sentence =\"T03-<b>Tu</b>ve que pa<b>gar</b> lo que <mark class='V' title='Imparfait et non pas passé simple.'>pe<b>dí</b>a</mark> al prin<b>ci</b>pio.\", comment=None)\n",
      "Sentence(id=39, line=3, sentence =\"S02-Es<b>toy</b> conven<b>ci</b>do de que sí. Pa<b>sé</b> la entre<b>vis</b>ta a<b>yer</b> y <b>cre</b>o que <b>su</b>pe contes<b>tar</b> a <b>to</b>do lo que me <mark class='V' title='Passé simple 3ème personne des verbes en -ar : terminaison -aron'>pregun<b>ta</b>ron</mark>.\", comment=None)\n",
      "Sentence(id=40, line=4, sentence =\"S03-¡Enhora<b>bue</b>na! <b>Pe</b>ro, <b>di</b>me, ¿qué <b>ti</b>po de pre<b>gun</b>tas te <mark class='V' title='Passé simple 3ème personne des verbes en -er et ir : terminaison -ieron'>hi<b>cie</b>ron</mark>? A <b>ve</b>ces hay <b>tram</b>pas en las entre<b>vis</b>tas, ¿<b>sa</b>bes?\", comment=None)\n",
      "Sentence(id=41, line=5, sentence =\"S04-¡<mark class='E' title='&#034;En absoluto&#034; convient aussi.'>Qué va!</mark> <b>Fue</b>ron la mar de a<b>ma</b>bles y edu<b>ca</b>dos.\", comment=None)\n",
      "Sentence(id=42, line=6, sentence =\"S05-Me di<b>je</b>ron que a lo me<b>jor</b> <b>i</b>ban a man<b>dar</b>me a traba<b>jar</b> a Ciu<b>dad</b> de <b>Mé</b>xico y qui<b>sier</b>on sa<b>ber</b> si ya <mark class='V' title='Imparfait &#034;había&#034; et non pas le passé simple'>ha<b>bí</b>a</mark> es<b>ta</b>do a<b>llí</b>.\", comment=None)\n",
      "Sentence(id=43, line=7, sentence =\"S06-Les contes<b>té</b> que por su<b>pues</b>to cono<b>cí</b>a Latinoa<b>mé</b>rica y nos <mark class='V' title='&#034;pusimos&#034;\\xa0passé simple de poner'>pu<b>si</b>mos</mark> a ha<b>blar</b> de la <b>vi</b>da en <b>Mé</b>xico.\", comment=None)\n",
      "Sentence(id=44, line=8, sentence =\"S07-Les con<b>té</b> que ha<b>bí</b>a es<b>ta</b>do en <b>to</b>das <b></b><mark class='V' title='&#034;partes&#034; et non pas &#034;partas&#034;'><b>par</b>tes</mark> y que <b>has</b>ta ha<b>bí</b>a rega<b>tea</b>do el <b>pre</b>cio de un jer<b>sey</b> muy <b>chu</b>lo en un mer<b>ca</b>do in<b>dí</b>gena.\", comment=None)\n",
      "Sentence(id=45, line=9, sentence =\"S08-¿Te atre<b>vis</b>te a <mark class='G' title='&#034;contarles&#034; et non pas &#034;les contar&#034;'>con<b>tar</b>les</mark> <b>e</b>so?\", comment=None)\n",
      "Sentence(id=46, line=10, sentence =\"S09-Sí, ¡les <b></b><mark class='V' title='&#034;hizo&#034; passé simple et non imparfait'><b>hi</b>zo</mark> <b>mu</b>cha <b>gra</b>cia!\", comment=None)\n",
      "Sentence(id=47, line=11, sentence =\"S10-¿Y les <mark class='V' title='&#034;dijiste&#034; passé simple et non imparfait'>di<b>jis</b>te</mark> tam<b>bién</b> que te ha<b>bí</b>a <b>da</b>do <b>as</b>co la co<b>ci</b>na mexi<b>ca</b>na, que no la ha<b>bí</b>as pro<b>ba</b>do y que e<b>cha</b>bas de <b>me</b>nos las me<b>rien</b>das <mark class='O' title='&#034;españolas&#034; acord au féminin'>espa<b>ño</b>las</mark>?\", comment=None)\n",
      "Sentence(id=48, line=12, sentence =\"S11-No, <b></b><mark class='E' title='Formule courrante'><b>e</b>so sí</mark> que no lo <b>di</b>je\", comment=None)\n",
      "Sentence(id=49, line=4, sentence =\"S03-Muy bien, <b>pe</b>ro ¡<b></b><mark class='A' title='      '><b>há</b>blame</mark> de tú, por fa<b>vor</b>!\", comment=None)\n",
      "Sentence(id=50, line=6, sentence =\"S05-<mark class='O' title='&#034;Encantada&#034; et non pas &#034;Encantadora&#034;'>Encan<b>ta</b>da</mark>. Me <b>lla</b>mo <b>Mon</b>tse. ¿<b>E</b>res de Barce<b>lo</b>na?\", comment=None)\n",
      "Sentence(id=51, line=2, sentence =\"S01-<mark class='O' title='&#034;Anoche&#034; et non pas &#034;anteanoche&#034; qui signifie avant hier soir'>A<b>no</b>che</mark> <b>tu</b>ve un <b>sue</b>ño ex<b>tra</b>ño. \", comment=None)\n",
      "Sentence(id=52, line=6, sentence ='S05-¿Por qué? ¿Tú no hay <b>dí</b>as en que es<b>tás</b> can<b>sa</b>do del <b></b><b>trá</b>fico, del <b>rui</b>do y de los a<b>tas</b>cos? ', comment=None)\n",
      "Sentence(id=53, line=8, sentence =\"S07-<mark class='E' title='&#034;quizás&#034;\\xa0et &#034;tal vez&#034; sont équivalents'>qui<b>zás</b></mark><b></b> <b>ha</b>ya <b>me</b>nos contamina<b>ción</b>, <b>pe</b>ro te a<b>bu</b>rres <b>co</b>mo <b>u</b>na <b>os</b>tra. \", comment=None)\n",
      "Sentence(id=54, line=9, sentence =\"S08-Mi cu<b>ña</b>do de<b>cí</b>a lo <b>mis</b>mo que tú. Se <mark class='V' title='&#034;fue&#034; au lieu de &#034;iba&#034;'>fue</mark> a vi<b>vir</b> al <b>pue</b>blo y al <b>ca</b>bo de seis <b>me</b>ses vol<b>vió</b>. \", comment=None)\n",
      "Sentence(id=55, line=11, sentence =\"S10-Pues, que yo <b>se</b>pa, <mark class='E' title='&#034;tú no te\\xa0pierdes\\xa0nunca&#034; au lieu &#034;tú\\xa0nunca te\\xa0pierdes&#034;'>tú no te <b>pier</b>des <b>nun</b>ca</mark> las <b>fies</b>tas de tu <b>pue</b>blo, ¿no? \", comment=None)\n",
      "Sentence(id=56, line=14, sentence =\"S13-Ah, por <b>cier</b>to <mark class='S' title='&#034;el&#034; au lieu de &#034;mi&#034;'>el</mark> <b>je</b>fe no me son<b>rió</b>. \", comment=None)\n",
      "Sentence(id=57, line=17, sentence =\"T02-Que yo <b>se</b>pa, <b>nun</b>ca te <mark class='V' title='&#034;has perdido&#034; au lieu &#034;perdies&#034;'>has per<b>di</b>do</mark> las <b>fies</b>tas de tu <b>pue</b>blo. \", comment=None)\n",
      "Sentence(id=58, line=1, sentence =\"S00-TITLE-¡Qué <mark class='G' title='PAs de com'>sor<b>pre</b>sa</mark>!\", comment=None)\n",
      "Sentence(id=59, line=2, sentence =\"S01-¡<b>Ho</b>la, <b></b><mark class='V' title='PAs de com'><b>Lau</b>ra</mark>!\", comment=None)\n",
      "Sentence(id=60, line=3, sentence =\"S02-¡<b>Ho</b>la, <b>Pa</b>co, qué <mark class='G' title='PAs de comm 2'>sor<b>pre</b>sa</mark>!\", comment=None)\n",
      "Sentence(id=61, line=10, sentence =\"T03-¡<b>Ho</b>la, <b>g</b><mark class='E' title='PAs de comm 3'><b>ua</b>pa, qué sor<b>pre</b>sa!  </mark>\", comment=None)\n",
      "Sentence(id=62, line=11, sentence =\"<mark class='E' title='PAs de comm 3'> T04-¿Es<b>tás</b> pa<b>ch</b></mark><b>u</b>cho?\", comment=None)\n",
      "Sentence(id=63, line=1, sentence =\"S00-TITLE-¡Qué <mark class='G' title='toto'>sor<b>pre</b>sa</mark>!\", comment=None)\n",
      "Sentence(id=64, line=2, sentence =\"S01-¡<b>Ho</b>la, <b></b><mark class='O' title='toto'><b>Lau</b>ra</mark>!\", comment=None)\n",
      "Sentence(id=65, line=3, sentence =\"S02-¡<b>Ho</b>la, <b></b><mark class='G' title='toto'><b>Pa</b>co</mark>, qué sor<b>pre</b>sa!\", comment=None)\n",
      "Sentence(id=66, line=0, sentence =\"N1-Lec<b>ción</b> <mark class='O' title='      '>pri<b>me</b>ra</mark>\", comment=None)\n",
      "Sentence(id=67, line=0, sentence =\"N1-Lec<b>ción</b> <mark class='O' title='      '>pri<b>me</b>ra</mark>\", comment=None)\n",
      "Sentence(id=68, line=2, sentence =\"S01-¡<b>Ho</b>la, <b></b><mark class='E' title='      '><b>Lau</b>ra</mark>!\", comment=None)\n",
      "Sentence(id=69, line=4, sentence =\"S03-¿<b>Có</b>mo <mark class='S' title='      '>es<b>tás</b></mark><b></b>, <b>gua</b>pa?\", comment=None)\n",
      "2024-09-11 21:48:47,387 INFO sqlalchemy.engine.Engine ROLLBACK\n"
     ]
    }
   ],
   "source": [
    "with Session(engine) as session:\n",
    "    for entry in session.scalars(stmt):\n",
    "        print(entry)"
   ]
  },
  {
   "cell_type": "code",
   "execution_count": null,
   "id": "7886d2b5-f5e0-47c7-99a6-37ca1446e160",
   "metadata": {},
   "outputs": [],
   "source": []
  },
  {
   "cell_type": "code",
   "execution_count": 20,
   "id": "7738c49a-d306-4c30-a82a-854cd06b5a01",
   "metadata": {},
   "outputs": [
    {
     "name": "stdout",
     "output_type": "stream",
     "text": [
      "2022-08-31 00:00:00\n"
     ]
    }
   ],
   "source": [
    "import datetime\n",
    "begin_date = datetime.datetime.strptime('2022-08-31', '%Y-%m-%d')\n",
    "print(begin_date)\n",
    "stmt = select(MarkedSentence).where(\n",
    "                     and_(\n",
    "                        MarkedSentence.lesson >= 4,\n",
    "                        MarkedSentence.lesson <= 4,\n",
    "                        MarkedSentence.date_time >= begin_date,\n",
    "                        MarkedSentence.date_time <= datetime.datetime(2024, 9, 2, 18, 2, 3, 624221)\n",
    "                     )\n",
    "            )\n",
    "\n"
   ]
  },
  {
   "cell_type": "code",
   "execution_count": 21,
   "id": "5629bc13-8e72-4049-b426-3d054ddf9cd6",
   "metadata": {},
   "outputs": [
    {
     "name": "stdout",
     "output_type": "stream",
     "text": [
      "2024-09-02 19:04:11,831 INFO sqlalchemy.engine.Engine BEGIN (implicit)\n",
      "2024-09-02 19:04:11,833 INFO sqlalchemy.engine.Engine SELECT marked_sentences.id, marked_sentences.date_time, marked_sentences.sentence, marked_sentences.comment, marked_sentences.lesson, marked_sentences.line \n",
      "FROM marked_sentences \n",
      "WHERE marked_sentences.lesson >= ? AND marked_sentences.lesson <= ? AND marked_sentences.date_time >= ? AND marked_sentences.date_time <= ?\n",
      "2024-09-02 19:04:11,834 INFO sqlalchemy.engine.Engine [cached since 2394s ago] (4, 4, '2022-08-31 00:00:00.000000', '2024-09-02 18:02:03.624221')\n",
      "Sentence(id=1, date_time = datetime.datetime(2024, 8, 30, 18, 11, 11, 870753), lesson=4, line=0, sentence ='N4-Le<mark>c<b>ción</b> <b>cua</b>rta </mark>', comment=None)\n",
      "Sentence(id=2, date_time = datetime.datetime(2024, 8, 30, 18, 11, 11, 870753), lesson=4, line=1, sentence ='<mark> S00-TITLE-Pres</mark>enta<b>cio</b>nes', comment=None)\n",
      "Sentence(id=3, date_time = datetime.datetime(2024, 8, 30, 18, 11, 11, 870753), lesson=4, line=3, sentence ='S02-Y él es <mark>mi <b>pa</b>dre, Mi<b>guel</b>.  </mark>', comment=None)\n",
      "Sentence(id=4, date_time = datetime.datetime(2024, 8, 30, 18, 11, 11, 870753), lesson=4, line=4, sentence ='<mark> S03-<b>Mu</b>cho <b>gus</b>to. ¿<b>C</b></mark><b>ó</b>mo es<b>tá</b> us<b>ted</b>?', comment=None)\n",
      "Sentence(id=5, date_time = datetime.datetime(2024, 8, 30, 18, 11, 11, 870753), lesson=4, line=9, sentence ='T02-Y <b>e</b>lla e<mark>s mi her<b>ma</b>na.  </mark>', comment=None)\n",
      "Sentence(id=6, date_time = datetime.datetime(2024, 8, 30, 18, 11, 11, 870753), lesson=4, line=10, sentence ='<mark> T03-<b>Mu</b>cho <b>gus</b>to.  </mark>', comment=None)\n",
      "Sentence(id=7, date_time = datetime.datetime(2024, 8, 30, 18, 11, 11, 870753), lesson=4, line=11, sentence ='<mark></mark>', comment=None)\n",
      "Sentence(id=20, date_time = datetime.datetime(2024, 8, 30, 18, 37, 31, 497652), lesson=4, line=7, sentence ='T00-TRANSLATE-Ejer<b>ci</b>cio 1 – <mark>Tra<b>duz</b>ca</mark>', comment=None)\n",
      "Sentence(id=21, date_time = datetime.datetime(2024, 8, 30, 18, 37, 31, 497652), lesson=4, line=10, sentence ='T03-<b></b><mark><b>Mu</b>cho <b>gus</b>to.</mark>', comment=None)\n",
      "Sentence(id=22, date_time = datetime.datetime(2024, 8, 31, 17, 32, 18, 58630), lesson=4, line=3, sentence ='S02-Y <mark>él</mark> es mi <b>pa</b>dre, <mark>Mi<b>guel</b></mark><b></b>.', comment=None)\n",
      "Sentence(id=30, date_time = datetime.datetime(2024, 9, 2, 17, 57, 11, 358085), lesson=4, line=4, sentence ='S03-<b>Mu</b>cho <b>gus</b>to. ¿<b>Có</b>mo es<b>tá</b> <mark>us<b>ted</b></mark><b></b>?', comment=None)\n",
      "Sentence(id=31, date_time = datetime.datetime(2024, 9, 2, 17, 59, 8, 842864), lesson=4, line=4, sentence ='S03-<b>Mu</b>cho <b>gus</b>to. ¿<b>Có</b>mo es<b>tá</b> <mark>us<b>ted</b></mark><b></b>?', comment=None)\n",
      "Sentence(id=32, date_time = datetime.datetime(2024, 9, 2, 17, 59, 8, 842864), lesson=4, line=5, sentence ='S04-Muy bien, <b>pe</b>ro ¡<b></b><mark><b>há</b>blame</mark> de tú, por fa<b>vor</b>!', comment=None)\n",
      "2024-09-02 19:04:11,836 INFO sqlalchemy.engine.Engine ROLLBACK\n"
     ]
    }
   ],
   "source": [
    "with Session(engine) as session:\n",
    "    for entry in session.scalars(stmt):\n",
    "        print(entry)"
   ]
  },
  {
   "cell_type": "code",
   "execution_count": 25,
   "id": "4e02085d-3b1d-4489-9788-2b2bd5bb5e60",
   "metadata": {},
   "outputs": [
    {
     "data": {
      "text/plain": [
       "False"
      ]
     },
     "execution_count": 25,
     "metadata": {},
     "output_type": "execute_result"
    }
   ],
   "source": [
    "datetime.datetime(2024, 8, 30, 18, 0, 0, 0) < begin_date"
   ]
  },
  {
   "cell_type": "code",
   "execution_count": 23,
   "id": "8d76ec93-cfcd-4daa-b16d-87446a915a8e",
   "metadata": {},
   "outputs": [
    {
     "data": {
      "text/plain": [
       "datetime.datetime(2022, 8, 31, 0, 0)"
      ]
     },
     "execution_count": 23,
     "metadata": {},
     "output_type": "execute_result"
    }
   ],
   "source": [
    "begin_date"
   ]
  },
  {
   "cell_type": "code",
   "execution_count": 4,
   "id": "66b9c956-f95b-4333-a8bc-b7ec52d5a0f7",
   "metadata": {},
   "outputs": [
    {
     "name": "stdout",
     "output_type": "stream",
     "text": [
      "2024-09-03 17:23:53,417 INFO sqlalchemy.engine.Engine BEGIN (implicit)\n",
      "2024-09-03 17:23:53,420 INFO sqlalchemy.engine.Engine SELECT marked_sentences.id, marked_sentences.date_time, marked_sentences.sentence, marked_sentences.comment, marked_sentences.lesson, marked_sentences.line \n",
      "FROM marked_sentences \n",
      "WHERE marked_sentences.lesson = ?\n",
      "2024-09-03 17:23:53,421 INFO sqlalchemy.engine.Engine [cached since 5665s ago] (2,)\n",
      "Sentence(id=79, date_time = datetime.datetime(2024, 9, 3, 14, 49, 1, 447650), lesson=2, line=1, sentence =\"S00-TITLE-¿<b></b><mark class='A'><b>Dón</b>de</mark> <b>vi</b>ves?\", comment=None)\n",
      "Sentence(id=80, date_time = datetime.datetime(2024, 9, 3, 14, 49, 1, 447650), lesson=2, line=2, sentence =\"S01-¿De <mark class='O'>dóndeeres</mark>, <b>Mon</b>tse?\", comment=None)\n",
      "2024-09-03 17:23:53,424 INFO sqlalchemy.engine.Engine ROLLBACK\n"
     ]
    }
   ],
   "source": [
    "stmt = select(MarkedSentence).where(MarkedSentence.lesson == 2)\n",
    "with Session(engine) as session:\n",
    "    for entry in session.scalars(stmt):\n",
    "        print(entry)"
   ]
  },
  {
   "cell_type": "code",
   "execution_count": 8,
   "id": "40eecc3b-2827-48be-b2bc-7d644fad85c6",
   "metadata": {},
   "outputs": [
    {
     "name": "stdout",
     "output_type": "stream",
     "text": [
      "2024-09-03 17:42:37,863 INFO sqlalchemy.engine.Engine BEGIN (implicit)\n",
      "2024-09-03 17:42:37,868 INFO sqlalchemy.engine.Engine SELECT marked_sentences.id, marked_sentences.date_time, marked_sentences.sentence, marked_sentences.comment, marked_sentences.lesson, marked_sentences.line \n",
      "FROM marked_sentences \n",
      "WHERE marked_sentences.date_time = ?\n",
      "2024-09-03 17:42:37,869 INFO sqlalchemy.engine.Engine [generated in 0.00135s] ('2024-09-03 14:49:01.447650',)\n",
      "entry : Sentence(id=79, date_time = datetime.datetime(2024, 9, 3, 14, 49, 1, 447650), lesson=2, line=1, sentence =\"S00-TITLE-¿<b></b><mark class='A'><b>Dón</b>de</mark> <b>vi</b>ves?\", comment=None)\n",
      "entry : Sentence(id=80, date_time = datetime.datetime(2024, 9, 3, 14, 49, 1, 447650), lesson=2, line=2, sentence =\"S01-¿De <mark class='O'>dóndeeres</mark>, <b>Mon</b>tse?\", comment=None)\n",
      "2024-09-03 17:42:37,871 INFO sqlalchemy.engine.Engine ROLLBACK\n"
     ]
    }
   ],
   "source": [
    "import datetime\n",
    "date_time_string = '03-09-2024 14:49:01447650'\n",
    "date_time = datetime.datetime.strptime(date_time_string, '%d-%m-%Y %H:%M:%S%f')\n",
    "\n",
    "stmt = select(MarkedSentence).where(MarkedSentence.date_time == date_time)\n",
    "with Session(engine) as session:\n",
    "    for entry in session.scalars(stmt):\n",
    "        print(f\"entry : {entry}\")"
   ]
  },
  {
   "cell_type": "code",
   "execution_count": 9,
   "id": "53ce5daa-55a1-4d72-84e2-b12405c63254",
   "metadata": {},
   "outputs": [
    {
     "data": {
      "text/plain": [
       "datetime.datetime(2024, 9, 3, 14, 49, 1, 447650)"
      ]
     },
     "execution_count": 9,
     "metadata": {},
     "output_type": "execute_result"
    }
   ],
   "source": [
    "date_time"
   ]
  },
  {
   "cell_type": "code",
   "execution_count": 12,
   "id": "70b3cb9b-00d2-4746-9f53-166f5e3a99de",
   "metadata": {},
   "outputs": [
    {
     "data": {
      "text/plain": [
       "'03-09-2024 à 14:49:01'"
      ]
     },
     "execution_count": 12,
     "metadata": {},
     "output_type": "execute_result"
    }
   ],
   "source": [
    "date_time.strftime(\"%d-%m-%Y à %H:%M:%S\")"
   ]
  },
  {
   "cell_type": "code",
   "execution_count": null,
   "id": "8b62f6af-4380-4a25-8189-f1a768c5772a",
   "metadata": {},
   "outputs": [],
   "source": []
  }
 ],
 "metadata": {
  "kernelspec": {
   "display_name": "Python 3 (ipykernel)",
   "language": "python",
   "name": "python3"
  },
  "language_info": {
   "codemirror_mode": {
    "name": "ipython",
    "version": 3
   },
   "file_extension": ".py",
   "mimetype": "text/x-python",
   "name": "python",
   "nbconvert_exporter": "python",
   "pygments_lexer": "ipython3",
   "version": "3.11.3"
  }
 },
 "nbformat": 4,
 "nbformat_minor": 5
}
