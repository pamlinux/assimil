{
 "cells": [
  {
   "cell_type": "code",
   "execution_count": 3,
   "id": "e80cc529-0c88-4e1a-9830-ad90d7575519",
   "metadata": {},
   "outputs": [],
   "source": [
    "from sqlalchemy import ForeignKey, select, String, and_\n",
    "from sqlalchemy.orm import Session\n",
    "from database import engine, MarkedSentence"
   ]
  },
  {
   "cell_type": "code",
   "execution_count": 4,
   "id": "68938bcd-0e36-45f0-a973-27781ce6df1f",
   "metadata": {},
   "outputs": [],
   "source": [
    "stmt = select(MarkedSentence)\n"
   ]
  },
  {
   "cell_type": "code",
   "execution_count": 5,
   "id": "fac7fd37-5de4-4ed4-885b-830c4b198cf8",
   "metadata": {},
   "outputs": [
    {
     "name": "stdout",
     "output_type": "stream",
     "text": [
      "2024-09-02 18:13:30,756 INFO sqlalchemy.engine.Engine BEGIN (implicit)\n",
      "2024-09-02 18:13:30,767 INFO sqlalchemy.engine.Engine SELECT marked_sentences.id, marked_sentences.date_time, marked_sentences.sentence, marked_sentences.comment, marked_sentences.lesson, marked_sentences.line \n",
      "FROM marked_sentences\n",
      "2024-09-02 18:13:30,768 INFO sqlalchemy.engine.Engine [generated in 0.00050s] ()\n",
      "Sentence(id=1, date_time = datetime.datetime(2024, 8, 30, 18, 11, 11, 870753), lesson=4, line=0, sentence ='N4-Le<mark>c<b>ción</b> <b>cua</b>rta </mark>', comment=None)\n",
      "Sentence(id=2, date_time = datetime.datetime(2024, 8, 30, 18, 11, 11, 870753), lesson=4, line=1, sentence ='<mark> S00-TITLE-Pres</mark>enta<b>cio</b>nes', comment=None)\n",
      "Sentence(id=3, date_time = datetime.datetime(2024, 8, 30, 18, 11, 11, 870753), lesson=4, line=3, sentence ='S02-Y él es <mark>mi <b>pa</b>dre, Mi<b>guel</b>.  </mark>', comment=None)\n",
      "Sentence(id=4, date_time = datetime.datetime(2024, 8, 30, 18, 11, 11, 870753), lesson=4, line=4, sentence ='<mark> S03-<b>Mu</b>cho <b>gus</b>to. ¿<b>C</b></mark><b>ó</b>mo es<b>tá</b> us<b>ted</b>?', comment=None)\n",
      "Sentence(id=5, date_time = datetime.datetime(2024, 8, 30, 18, 11, 11, 870753), lesson=4, line=9, sentence ='T02-Y <b>e</b>lla e<mark>s mi her<b>ma</b>na.  </mark>', comment=None)\n",
      "Sentence(id=6, date_time = datetime.datetime(2024, 8, 30, 18, 11, 11, 870753), lesson=4, line=10, sentence ='<mark> T03-<b>Mu</b>cho <b>gus</b>to.  </mark>', comment=None)\n",
      "Sentence(id=7, date_time = datetime.datetime(2024, 8, 30, 18, 11, 11, 870753), lesson=4, line=11, sentence ='<mark></mark>', comment=None)\n",
      "Sentence(id=8, date_time = datetime.datetime(2024, 8, 30, 18, 12, 5, 788656), lesson=5, line=0, sentence ='N5-Lec<b>ción</b> <b>q</b><mark><b>uin</b>ta </mark>', comment=None)\n",
      "Sentence(id=9, date_time = datetime.datetime(2024, 8, 30, 18, 12, 5, 788656), lesson=5, line=1, sentence ='<mark> S00-TITLE-Entr</mark>e<b>vis</b>ta de tra<b>ba</b>jo', comment=None)\n",
      "Sentence(id=10, date_time = datetime.datetime(2024, 8, 30, 18, 12, 5, 788656), lesson=5, line=4, sentence ='S03-¡Enhor<mark>a<b>bue</b>na! ¿Ha<b>bla</b>mos in<b>glés</b> en<b>ton</b>ces?  </mark>', comment=None)\n",
      "Sentence(id=11, date_time = datetime.datetime(2024, 8, 30, 18, 12, 5, 788656), lesson=5, line=5, sentence ='<mark> S04-E<b>jem</b>, el in<b>glés</b> lo </mark><b>le</b>o, <b>pe</b>ro no lo <b>ha</b>blo muy bien.', comment=None)\n",
      "Sentence(id=12, date_time = datetime.datetime(2024, 8, 30, 18, 12, 5, 788656), lesson=5, line=9, sentence ='T02-¿<b>Cuá</b>ntos i<b></b><mark><b>dio</b>mas es<b>cri</b>be us<b>ted</b>?  </mark>', comment=None)\n",
      "Sentence(id=13, date_time = datetime.datetime(2024, 8, 30, 18, 12, 5, 788656), lesson=5, line=10, sentence ='<mark> T03-No <b>ha</b>blo fran<b>cés</b>.  </mark>', comment=None)\n",
      "Sentence(id=14, date_time = datetime.datetime(2024, 8, 30, 18, 12, 5, 788656), lesson=5, line=11, sentence ='<mark></mark>', comment=None)\n",
      "Sentence(id=15, date_time = datetime.datetime(2024, 8, 30, 18, 13, 24, 955334), lesson=45, line=0, sentence ='N45-Lec<b>ción</b> cua<b>r</b><mark><b>en</b>ta y <b>cin</b>co </mark>', comment=None)\n",
      "Sentence(id=16, date_time = datetime.datetime(2024, 8, 30, 18, 13, 24, 955334), lesson=45, line=1, sentence ='<mark> S00-TITLE-En el <b>cí</b>b</mark>er', comment=None)\n",
      "Sentence(id=17, date_time = datetime.datetime(2024, 8, 30, 18, 13, 24, 955334), lesson=45, line=5, sentence ='S04-<b>Va</b>ya, pues <b>me</b>nos mal que los <b>ten</b>go en el co<b>rre</b>o. ¿Me da un e<b>qui</b>po <b>pa</b>ra que los <mark>recu<b>pe</b>re</mark>?', comment=None)\n",
      "Sentence(id=18, date_time = datetime.datetime(2024, 8, 30, 18, 13, 24, 955334), lesson=45, line=6, sentence ='S05-Si, <b></b><mark><b>pón</b>gase</mark> en el 4.', comment=None)\n",
      "Sentence(id=19, date_time = datetime.datetime(2024, 8, 30, 18, 13, 24, 955334), lesson=45, line=8, sentence ='S07-¿Ah? <b></b><mark><b>Co</b>ja</mark> el 6.', comment=None)\n",
      "Sentence(id=20, date_time = datetime.datetime(2024, 8, 30, 18, 37, 31, 497652), lesson=4, line=7, sentence ='T00-TRANSLATE-Ejer<b>ci</b>cio 1 – <mark>Tra<b>duz</b>ca</mark>', comment=None)\n",
      "Sentence(id=21, date_time = datetime.datetime(2024, 8, 30, 18, 37, 31, 497652), lesson=4, line=10, sentence ='T03-<b></b><mark><b>Mu</b>cho <b>gus</b>to.</mark>', comment=None)\n",
      "Sentence(id=22, date_time = datetime.datetime(2024, 8, 31, 17, 32, 18, 58630), lesson=4, line=3, sentence ='S02-Y <mark>él</mark> es mi <b>pa</b>dre, <mark>Mi<b>guel</b></mark><b></b>.', comment=None)\n",
      "Sentence(id=23, date_time = datetime.datetime(2024, 8, 31, 17, 33, 16, 342000), lesson=5, line=2, sentence ='S01-¿<b></b><mark><b>Cuá</b>ntos</mark> i<b>dio</b>mas <b>ha</b>bla us<b>ted</b>?', comment=None)\n",
      "Sentence(id=24, date_time = datetime.datetime(2024, 8, 31, 17, 33, 16, 342000), lesson=5, line=3, sentence ='S02-<b>Ha</b>blo in<b>glés</b> y <mark>fran<b>cés</b></mark><b></b>.', comment=None)\n",
      "Sentence(id=25, date_time = datetime.datetime(2024, 8, 31, 17, 33, 16, 342000), lesson=5, line=4, sentence ='S03-¡Enhora<b>bue</b>na! ¿Ha<b>bla</b>mos <mark>in<b>glés</b></mark><b></b> en<b>ton</b>ces?', comment=None)\n",
      "Sentence(id=26, date_time = datetime.datetime(2024, 8, 31, 17, 33, 16, 342000), lesson=5, line=6, sentence ='S05-Sí, <b>cla</b>ro Y <mark>el fran<b>cés</b>, ¿lo <b>ha</b>bla o <b>so</b>lo lo es<b>cri</b>be?  </mark>', comment=None)\n",
      "Sentence(id=27, date_time = datetime.datetime(2024, 8, 31, 17, 33, 16, 342000), lesson=5, line=7, sentence ='<mark> T00-TRANSLATE-Ejer<b>ci</b>cio 1</mark> – Tra<b>duz</b>ca', comment=None)\n",
      "Sentence(id=28, date_time = datetime.datetime(2024, 8, 31, 17, 34, 3, 198940), lesson=97, line=4, sentence ='S03-<b>U</b>na <b>gan</b>ga, ¡43 con 70! <b>Has</b>ta he po<b>di</b>do ele<b>gir</b> a<b>sien</b>to: venta<b>ni</b>lla, <b>pa</b>ra ver el <mark>des<b>pe</b>gue</mark>.', comment=None)\n",
      "Sentence(id=29, date_time = datetime.datetime(2024, 8, 31, 17, 34, 3, 198940), lesson=97, line=10, sentence ='S09-<b>Tie</b>nes <mark>en<b>vi</b>dia</mark>, con<b>fié</b>salo.', comment=None)\n",
      "Sentence(id=30, date_time = datetime.datetime(2024, 9, 2, 17, 57, 11, 358085), lesson=4, line=4, sentence ='S03-<b>Mu</b>cho <b>gus</b>to. ¿<b>Có</b>mo es<b>tá</b> <mark>us<b>ted</b></mark><b></b>?', comment=None)\n",
      "Sentence(id=31, date_time = datetime.datetime(2024, 9, 2, 17, 59, 8, 842864), lesson=4, line=4, sentence ='S03-<b>Mu</b>cho <b>gus</b>to. ¿<b>Có</b>mo es<b>tá</b> <mark>us<b>ted</b></mark><b></b>?', comment=None)\n",
      "Sentence(id=32, date_time = datetime.datetime(2024, 9, 2, 17, 59, 8, 842864), lesson=4, line=5, sentence ='S04-Muy bien, <b>pe</b>ro ¡<b></b><mark><b>há</b>blame</mark> de tú, por fa<b>vor</b>!', comment=None)\n",
      "Sentence(id=33, date_time = datetime.datetime(2024, 9, 2, 18, 2, 3, 624222), lesson=4, line=4, sentence ='S03-<b>Mu</b>cho <b>gus</b>to. ¿<b>Có</b>mo es<b>tá</b> <mark>us<b>ted</b></mark><b></b>?', comment=None)\n",
      "Sentence(id=34, date_time = datetime.datetime(2024, 9, 2, 18, 2, 3, 624222), lesson=4, line=5, sentence ='S04-Muy bien, <b>pe</b>ro ¡<b></b><mark><b>há</b>blame</mark> de tú, por fa<b>vor</b>!', comment=None)\n",
      "Sentence(id=35, date_time = datetime.datetime(2024, 9, 2, 18, 2, 3, 624222), lesson=4, line=11, sentence ='T04-<b></b><mark><b>Há</b>blame</mark> de tú, por fa<b>vor</b>.', comment=None)\n",
      "2024-09-02 18:13:30,769 INFO sqlalchemy.engine.Engine ROLLBACK\n"
     ]
    }
   ],
   "source": [
    "with Session(engine) as session:\n",
    "    for entry in session.scalars(stmt):\n",
    "        print(entry)"
   ]
  },
  {
   "cell_type": "code",
   "execution_count": null,
   "id": "7886d2b5-f5e0-47c7-99a6-37ca1446e160",
   "metadata": {},
   "outputs": [],
   "source": []
  },
  {
   "cell_type": "code",
   "execution_count": 20,
   "id": "7738c49a-d306-4c30-a82a-854cd06b5a01",
   "metadata": {},
   "outputs": [
    {
     "name": "stdout",
     "output_type": "stream",
     "text": [
      "2022-08-31 00:00:00\n"
     ]
    }
   ],
   "source": [
    "import datetime\n",
    "begin_date = datetime.datetime.strptime('2022-08-31', '%Y-%m-%d')\n",
    "print(begin_date)\n",
    "stmt = select(MarkedSentence).where(\n",
    "                     and_(\n",
    "                        MarkedSentence.lesson >= 4,\n",
    "                        MarkedSentence.lesson <= 4,\n",
    "                        MarkedSentence.date_time >= begin_date,\n",
    "                        MarkedSentence.date_time <= datetime.datetime(2024, 9, 2, 18, 2, 3, 624221)\n",
    "                     )\n",
    "            )\n",
    "\n"
   ]
  },
  {
   "cell_type": "code",
   "execution_count": 21,
   "id": "5629bc13-8e72-4049-b426-3d054ddf9cd6",
   "metadata": {},
   "outputs": [
    {
     "name": "stdout",
     "output_type": "stream",
     "text": [
      "2024-09-02 19:04:11,831 INFO sqlalchemy.engine.Engine BEGIN (implicit)\n",
      "2024-09-02 19:04:11,833 INFO sqlalchemy.engine.Engine SELECT marked_sentences.id, marked_sentences.date_time, marked_sentences.sentence, marked_sentences.comment, marked_sentences.lesson, marked_sentences.line \n",
      "FROM marked_sentences \n",
      "WHERE marked_sentences.lesson >= ? AND marked_sentences.lesson <= ? AND marked_sentences.date_time >= ? AND marked_sentences.date_time <= ?\n",
      "2024-09-02 19:04:11,834 INFO sqlalchemy.engine.Engine [cached since 2394s ago] (4, 4, '2022-08-31 00:00:00.000000', '2024-09-02 18:02:03.624221')\n",
      "Sentence(id=1, date_time = datetime.datetime(2024, 8, 30, 18, 11, 11, 870753), lesson=4, line=0, sentence ='N4-Le<mark>c<b>ción</b> <b>cua</b>rta </mark>', comment=None)\n",
      "Sentence(id=2, date_time = datetime.datetime(2024, 8, 30, 18, 11, 11, 870753), lesson=4, line=1, sentence ='<mark> S00-TITLE-Pres</mark>enta<b>cio</b>nes', comment=None)\n",
      "Sentence(id=3, date_time = datetime.datetime(2024, 8, 30, 18, 11, 11, 870753), lesson=4, line=3, sentence ='S02-Y él es <mark>mi <b>pa</b>dre, Mi<b>guel</b>.  </mark>', comment=None)\n",
      "Sentence(id=4, date_time = datetime.datetime(2024, 8, 30, 18, 11, 11, 870753), lesson=4, line=4, sentence ='<mark> S03-<b>Mu</b>cho <b>gus</b>to. ¿<b>C</b></mark><b>ó</b>mo es<b>tá</b> us<b>ted</b>?', comment=None)\n",
      "Sentence(id=5, date_time = datetime.datetime(2024, 8, 30, 18, 11, 11, 870753), lesson=4, line=9, sentence ='T02-Y <b>e</b>lla e<mark>s mi her<b>ma</b>na.  </mark>', comment=None)\n",
      "Sentence(id=6, date_time = datetime.datetime(2024, 8, 30, 18, 11, 11, 870753), lesson=4, line=10, sentence ='<mark> T03-<b>Mu</b>cho <b>gus</b>to.  </mark>', comment=None)\n",
      "Sentence(id=7, date_time = datetime.datetime(2024, 8, 30, 18, 11, 11, 870753), lesson=4, line=11, sentence ='<mark></mark>', comment=None)\n",
      "Sentence(id=20, date_time = datetime.datetime(2024, 8, 30, 18, 37, 31, 497652), lesson=4, line=7, sentence ='T00-TRANSLATE-Ejer<b>ci</b>cio 1 – <mark>Tra<b>duz</b>ca</mark>', comment=None)\n",
      "Sentence(id=21, date_time = datetime.datetime(2024, 8, 30, 18, 37, 31, 497652), lesson=4, line=10, sentence ='T03-<b></b><mark><b>Mu</b>cho <b>gus</b>to.</mark>', comment=None)\n",
      "Sentence(id=22, date_time = datetime.datetime(2024, 8, 31, 17, 32, 18, 58630), lesson=4, line=3, sentence ='S02-Y <mark>él</mark> es mi <b>pa</b>dre, <mark>Mi<b>guel</b></mark><b></b>.', comment=None)\n",
      "Sentence(id=30, date_time = datetime.datetime(2024, 9, 2, 17, 57, 11, 358085), lesson=4, line=4, sentence ='S03-<b>Mu</b>cho <b>gus</b>to. ¿<b>Có</b>mo es<b>tá</b> <mark>us<b>ted</b></mark><b></b>?', comment=None)\n",
      "Sentence(id=31, date_time = datetime.datetime(2024, 9, 2, 17, 59, 8, 842864), lesson=4, line=4, sentence ='S03-<b>Mu</b>cho <b>gus</b>to. ¿<b>Có</b>mo es<b>tá</b> <mark>us<b>ted</b></mark><b></b>?', comment=None)\n",
      "Sentence(id=32, date_time = datetime.datetime(2024, 9, 2, 17, 59, 8, 842864), lesson=4, line=5, sentence ='S04-Muy bien, <b>pe</b>ro ¡<b></b><mark><b>há</b>blame</mark> de tú, por fa<b>vor</b>!', comment=None)\n",
      "2024-09-02 19:04:11,836 INFO sqlalchemy.engine.Engine ROLLBACK\n"
     ]
    }
   ],
   "source": [
    "with Session(engine) as session:\n",
    "    for entry in session.scalars(stmt):\n",
    "        print(entry)"
   ]
  },
  {
   "cell_type": "code",
   "execution_count": 25,
   "id": "4e02085d-3b1d-4489-9788-2b2bd5bb5e60",
   "metadata": {},
   "outputs": [
    {
     "data": {
      "text/plain": [
       "False"
      ]
     },
     "execution_count": 25,
     "metadata": {},
     "output_type": "execute_result"
    }
   ],
   "source": [
    "datetime.datetime(2024, 8, 30, 18, 0, 0, 0) < begin_date"
   ]
  },
  {
   "cell_type": "code",
   "execution_count": 23,
   "id": "8d76ec93-cfcd-4daa-b16d-87446a915a8e",
   "metadata": {},
   "outputs": [
    {
     "data": {
      "text/plain": [
       "datetime.datetime(2022, 8, 31, 0, 0)"
      ]
     },
     "execution_count": 23,
     "metadata": {},
     "output_type": "execute_result"
    }
   ],
   "source": [
    "begin_date"
   ]
  },
  {
   "cell_type": "code",
   "execution_count": null,
   "id": "66b9c956-f95b-4333-a8bc-b7ec52d5a0f7",
   "metadata": {},
   "outputs": [],
   "source": []
  }
 ],
 "metadata": {
  "kernelspec": {
   "display_name": "Python 3 (ipykernel)",
   "language": "python",
   "name": "python3"
  },
  "language_info": {
   "codemirror_mode": {
    "name": "ipython",
    "version": 3
   },
   "file_extension": ".py",
   "mimetype": "text/x-python",
   "name": "python",
   "nbconvert_exporter": "python",
   "pygments_lexer": "ipython3",
   "version": "3.11.3"
  }
 },
 "nbformat": 4,
 "nbformat_minor": 5
}
