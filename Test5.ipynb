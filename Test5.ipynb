{
 "cells": [
  {
   "cell_type": "code",
   "execution_count": 1,
   "id": "1c73a537-ace2-4e25-8951-236a0caeaf54",
   "metadata": {},
   "outputs": [
    {
     "name": "stdout",
     "output_type": "stream",
     "text": [
      "{'database_name': 'sqlite:////Users/pam/assimil/db/assimil_spanish.db', 'lessons_directory': '/Users/pam/AssimilAudio/Sentences', 'html_lessons_directory': '/Users/pam/assimil/lessons/html', 'databases_directory': '/Users/pam/assimil/db', 'french_translation_lessons_directoy': '/Users/pam/assimil/lessons/new', 'word_dict_logfilename': '/Users/pam/assimil/word_dict_logfile.log', 'notes_directory': '/Users/pam/assimil/lessons/notes'}\n",
      "Yo cuando tenía tu edad leía el periódico, grammar_indexes :  6: 28\n",
      "\n"
     ]
    }
   ],
   "source": [
    "from sqlalchemy import select, and_\n",
    "from sqlalchemy.orm import Session\n",
    "from database import engine, Paragraph\n",
    "from sqlalchemy.orm import Session\n",
    "\n",
    "lesson_nb = 48\n",
    "line_nb = 7\n",
    "\n",
    "stmt = select(Paragraph).where(\n",
    "    and_(\n",
    "        Paragraph.lesson_nb == lesson_nb,\n",
    "        Paragraph.line_nb == line_nb\n",
    "    )\n",
    ")\n",
    "with Session(engine) as session:\n",
    "    for entry in session.scalars(stmt):\n",
    "        if entry.grammar_indexes:\n",
    "            print(entry.paragraph, \"grammar_indexes : \", entry.grammar_indexes)\n",
    "            #entry.grammar_indexes = None\n",
    "    session.commit()\n",
    "\n"
   ]
  },
  {
   "cell_type": "code",
   "execution_count": 3,
   "id": "f1a0e144-39b8-414a-a687-d4337259a545",
   "metadata": {},
   "outputs": [
    {
     "data": {
      "text/plain": [
       "True"
      ]
     },
     "execution_count": 3,
     "metadata": {},
     "output_type": "execute_result"
    }
   ],
   "source": [
    "a=[1,2,3,\"toto\"]\n",
    "type(a) is list"
   ]
  },
  {
   "cell_type": "code",
   "execution_count": 4,
   "id": "87c61ced-47ab-4bdf-98c7-2519b97c90ac",
   "metadata": {},
   "outputs": [],
   "source": [
    "b={1:35}"
   ]
  },
  {
   "cell_type": "code",
   "execution_count": 6,
   "id": "23b688a4-a024-4021-abb8-0aafc8899a43",
   "metadata": {},
   "outputs": [],
   "source": [
    "b[1] = [b[1], 74]"
   ]
  },
  {
   "cell_type": "code",
   "execution_count": 7,
   "id": "ba47cda6-0042-4bf2-afe9-774509965c0a",
   "metadata": {},
   "outputs": [
    {
     "data": {
      "text/plain": [
       "{1: [35, 74]}"
      ]
     },
     "execution_count": 7,
     "metadata": {},
     "output_type": "execute_result"
    }
   ],
   "source": [
    "b"
   ]
  },
  {
   "cell_type": "code",
   "execution_count": null,
   "id": "afc18923-fc4a-46ec-9367-679f24c855f1",
   "metadata": {},
   "outputs": [],
   "source": []
  }
 ],
 "metadata": {
  "kernelspec": {
   "display_name": "Python 3 (ipykernel)",
   "language": "python",
   "name": "python3"
  },
  "language_info": {
   "codemirror_mode": {
    "name": "ipython",
    "version": 3
   },
   "file_extension": ".py",
   "mimetype": "text/x-python",
   "name": "python",
   "nbconvert_exporter": "python",
   "pygments_lexer": "ipython3",
   "version": "3.11.3"
  }
 },
 "nbformat": 4,
 "nbformat_minor": 5
}
