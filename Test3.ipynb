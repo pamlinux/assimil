{
 "cells": [
  {
   "cell_type": "code",
   "execution_count": 24,
   "id": "ba1536bb-c9e4-4a7b-aa8d-fb856480b3a5",
   "metadata": {},
   "outputs": [],
   "source": [
    "from tonic_accent import global_word_dict\n",
    "lesson_word_dict = parser.get_lesson_word_tonic_accent_dict()"
   ]
  },
  {
   "cell_type": "code",
   "execution_count": 438,
   "id": "58f7355b-6f5f-4a41-95c8-58c53b4f62be",
   "metadata": {},
   "outputs": [],
   "source": [
    "import re\n",
    "\n",
    "def get_html_of_token(token, lesson_dict = {}):\n",
    "    token_properties = lesson_dict.get(token.lower(), '')\n",
    "    if not token_properties:\n",
    "        token_properties = global_word_dict.get(token.lower(), '')\n",
    "        if not token_properties:\n",
    "            return token\n",
    "    txt = \"\"\n",
    "    index = 0\n",
    "    for frag_struct in token_properties:\n",
    "        frag_txt = token[index:index+len(frag_struct[0])]\n",
    "        if frag_struct[1]:\n",
    "            txt += \"<b>\" + frag_txt + \"</b>\"\n",
    "        else:\n",
    "            txt += frag_txt\n",
    "        index += len(frag_struct[0])\n",
    "    return txt\n",
    "\n",
    "def get_bold_sentence(sentence, lesson_dict = {}):\n",
    "    tokens = re.findall(r\"[\\w']+|[.,¡!¿:&\\-?;–]\", sentence)\n",
    "    bold_sentence = \"\"\n",
    "    index = 0\n",
    "    for token in tokens:\n",
    "        token_length = len(token)\n",
    "        pos = sentence.find(token, index)\n",
    "        inter_token = sentence[index:pos]\n",
    "        bold_sentence += inter_token + get_html_of_token(token, lesson_dict)\n",
    "        index += len(inter_token) + token_length\n",
    "    return bold_sentence\n",
    "    \n",
    "\n"
   ]
  },
  {
   "cell_type": "code",
   "execution_count": 439,
   "id": "357bc3e9-34a6-400b-816d-3bb98352e8a0",
   "metadata": {},
   "outputs": [
    {
     "data": {
      "text/plain": [
       "'S07-Uf, escucha, da miedo:: &quot;Nos dijeron que la habitación tendría vistas y nos dieron una que daba al patio.&quot; '"
      ]
     },
     "execution_count": 439,
     "metadata": {},
     "output_type": "execute_result"
    }
   ],
   "source": [
    "sb='S07-Uf, escucha, da miedo:: &quot;Nos dijeron que la habitación tendría vistas y nos dieron una que daba al patio.&quot; '\n",
    "sb"
   ]
  },
  {
   "cell_type": "code",
   "execution_count": 440,
   "id": "f7d3d4a9-59ca-4d6e-84a5-c809e6220c5b",
   "metadata": {},
   "outputs": [
    {
     "data": {
      "text/plain": [
       "'S07-Uf, es<b>cu</b>cha, da <b>mie</b>do:: &quot;Nos di<b>je</b>ron que la habita<b>ción</b> ten<b>drí</b>a <b>vis</b>tas y nos <b>die</b>ron <b>u</b>na que <b>da</b>ba al <b>pa</b>tio.&quot;'"
      ]
     },
     "execution_count": 440,
     "metadata": {},
     "output_type": "execute_result"
    }
   ],
   "source": [
    "get_bold_sentence(sb)"
   ]
  },
  {
   "cell_type": "code",
   "execution_count": 425,
   "id": "2823099e-a975-47e3-b720-cb93174505da",
   "metadata": {},
   "outputs": [
    {
     "name": "stdout",
     "output_type": "stream",
     "text": [
      "S07\n",
      "S07-\n",
      "S07-Uf\n",
      "S07-Uf,\n",
      "S07-Uf, escucha\n",
      "S07-Uf, escucha,\n",
      "S07-Uf, escucha, da\n",
      "S07-Uf, escucha, da miedo\n",
      "S07-Uf, escucha, da miedo:\n",
      "S07-Uf, escucha, da miedo::\n",
      "S07-Uf, escucha, da miedo:: &\n",
      "S07-Uf, escucha, da miedo:: &quot\n",
      "S07-Uf, escucha, da miedo:: &quot;\n",
      "S07-Uf, escucha, da miedo:: &quot;Nos\n",
      "S07-Uf, escucha, da miedo:: &quot;Nos dijeron\n",
      "S07-Uf, escucha, da miedo:: &quot;Nos dijeron que\n",
      "S07-Uf, escucha, da miedo:: &quot;Nos dijeron que la\n",
      "S07-Uf, escucha, da miedo:: &quot;Nos dijeron que la habitación\n",
      "S07-Uf, escucha, da miedo:: &quot;Nos dijeron que la habitación tendría\n",
      "S07-Uf, escucha, da miedo:: &quot;Nos dijeron que la habitación tendría vistas\n",
      "S07-Uf, escucha, da miedo:: &quot;Nos dijeron que la habitación tendría vistas y\n",
      "S07-Uf, escucha, da miedo:: &quot;Nos dijeron que la habitación tendría vistas y nos\n",
      "S07-Uf, escucha, da miedo:: &quot;Nos dijeron que la habitación tendría vistas y nos dieron\n",
      "S07-Uf, escucha, da miedo:: &quot;Nos dijeron que la habitación tendría vistas y nos dieron una\n",
      "S07-Uf, escucha, da miedo:: &quot;Nos dijeron que la habitación tendría vistas y nos dieron una que\n",
      "S07-Uf, escucha, da miedo:: &quot;Nos dijeron que la habitación tendría vistas y nos dieron una que daba\n",
      "S07-Uf, escucha, da miedo:: &quot;Nos dijeron que la habitación tendría vistas y nos dieron una que daba al\n",
      "S07-Uf, escucha, da miedo:: &quot;Nos dijeron que la habitación tendría vistas y nos dieron una que daba al patio\n",
      "S07-Uf, escucha, da miedo:: &quot;Nos dijeron que la habitación tendría vistas y nos dieron una que daba al patio.\n",
      "S07-Uf, escucha, da miedo:: &quot;Nos dijeron que la habitación tendría vistas y nos dieron una que daba al patio.&\n",
      "S07-Uf, escucha, da miedo:: &quot;Nos dijeron que la habitación tendría vistas y nos dieron una que daba al patio.&quot\n",
      "S07-Uf, escucha, da miedo:: &quot;Nos dijeron que la habitación tendría vistas y nos dieron una que daba al patio.&quot;\n"
     ]
    }
   ],
   "source": [
    "sb2 = \"\"\n",
    "\n",
    "index = 0\n",
    "for token in tokens:\n",
    "    token_length = len(token)\n",
    "    pos = sb.find(token, index)\n",
    "    inter_token = sb[index:pos]\n",
    "    sb2 += inter_token + token\n",
    "    index += len(inter_token) + token_length\n",
    "    print(sb2)"
   ]
  },
  {
   "cell_type": "code",
   "execution_count": 427,
   "id": "944f2645-a58c-4c0f-8751-896ee5dd2a17",
   "metadata": {},
   "outputs": [
    {
     "data": {
      "text/plain": [
       "'S07-Uf, escucha, da miedo:: &quot;Nos dijeron que la habitación tendría vistas y nos dieron una que daba al patio.&quot;'"
      ]
     },
     "execution_count": 427,
     "metadata": {},
     "output_type": "execute_result"
    }
   ],
   "source": [
    "sb2"
   ]
  },
  {
   "cell_type": "code",
   "execution_count": 428,
   "id": "c92c9ede-574f-46c1-bd82-ef84804464df",
   "metadata": {},
   "outputs": [
    {
     "data": {
      "text/plain": [
       "'S07-Uf, escucha, da miedo:: &quot;Nos dijeron que la habitación tendría vistas y nos dieron una que daba al patio.&quot; '"
      ]
     },
     "execution_count": 428,
     "metadata": {},
     "output_type": "execute_result"
    }
   ],
   "source": [
    "sb"
   ]
  },
  {
   "cell_type": "code",
   "execution_count": 430,
   "id": "d838c643-7627-49b8-986e-e58db2e3283f",
   "metadata": {},
   "outputs": [
    {
     "data": {
      "text/plain": [
       "True"
      ]
     },
     "execution_count": 430,
     "metadata": {},
     "output_type": "execute_result"
    }
   ],
   "source": [
    "sb[:-1] == sb2"
   ]
  },
  {
   "cell_type": "code",
   "execution_count": 263,
   "id": "23816f9d-bfe8-42e2-ac77-a23b42c82dfc",
   "metadata": {},
   "outputs": [
    {
     "data": {
      "text/plain": [
       "('', 0, 0, 'S07', 3)"
      ]
     },
     "execution_count": 263,
     "metadata": {},
     "output_type": "execute_result"
    }
   ],
   "source": [
    "index = 0\n",
    "i = 0\n",
    "token = tokens[i]\n",
    "token_length = len(token)\n",
    "pos = sb.find(token, index)\n",
    "inter_token = sb[index:pos]\n",
    "inter_token, index, pos, token, token_length"
   ]
  },
  {
   "cell_type": "code",
   "execution_count": 264,
   "id": "17a24a34-e3d4-4823-9d95-b8f5d830bde3",
   "metadata": {},
   "outputs": [
    {
     "data": {
      "text/plain": [
       "('', 3, 0, 'S07', 3)"
      ]
     },
     "execution_count": 264,
     "metadata": {},
     "output_type": "execute_result"
    }
   ],
   "source": [
    "index += len(inter_token) + token_length\n",
    "inter_token, index, pos, token, token_length"
   ]
  },
  {
   "cell_type": "code",
   "execution_count": 265,
   "id": "e2d4450a-710d-4ee1-8cba-46b406416c4a",
   "metadata": {},
   "outputs": [
    {
     "data": {
      "text/plain": [
       "'-Uf, escucha, da miedo:: &quot;Nos dijeron que la habitación tendría vistas y nos dieron una que daba al patio.&quot; '"
      ]
     },
     "execution_count": 265,
     "metadata": {},
     "output_type": "execute_result"
    }
   ],
   "source": [
    "sb[index:]"
   ]
  },
  {
   "cell_type": "code",
   "execution_count": 423,
   "id": "782b1a14-6a39-4120-a6fb-0a8d16c54d63",
   "metadata": {},
   "outputs": [],
   "source": [
    "i+=1"
   ]
  },
  {
   "cell_type": "code",
   "execution_count": 424,
   "id": "8b1f53b1-7322-4d1b-962a-d55738a1d8b3",
   "metadata": {},
   "outputs": [
    {
     "ename": "IndexError",
     "evalue": "list index out of range",
     "output_type": "error",
     "traceback": [
      "\u001b[0;31m---------------------------------------------------------------------------\u001b[0m",
      "\u001b[0;31mIndexError\u001b[0m                                Traceback (most recent call last)",
      "Cell \u001b[0;32mIn[424], line 1\u001b[0m\n\u001b[0;32m----> 1\u001b[0m token \u001b[38;5;241m=\u001b[39m \u001b[43mtokens\u001b[49m\u001b[43m[\u001b[49m\u001b[43mi\u001b[49m\u001b[43m]\u001b[49m\n\u001b[1;32m      2\u001b[0m token_length \u001b[38;5;241m=\u001b[39m \u001b[38;5;28mlen\u001b[39m(token)\n\u001b[1;32m      3\u001b[0m pos \u001b[38;5;241m=\u001b[39m sb\u001b[38;5;241m.\u001b[39mfind(token, index)\n",
      "\u001b[0;31mIndexError\u001b[0m: list index out of range"
     ]
    }
   ],
   "source": [
    "token = tokens[i]\n",
    "token_length = len(token)\n",
    "pos = sb.find(token, index)\n",
    "inter_token = sb[index:pos]\n",
    "print(f\"inter_token : '{inter_token}', index : {index}, pos : {pos}, token : '{token}', token_length : {token_length}\")"
   ]
  },
  {
   "cell_type": "code",
   "execution_count": 420,
   "id": "d6b7524c-c7d0-4e3c-a38e-da1ee996791c",
   "metadata": {},
   "outputs": [
    {
     "data": {
      "text/plain": [
       "31"
      ]
     },
     "execution_count": 420,
     "metadata": {},
     "output_type": "execute_result"
    }
   ],
   "source": [
    "i"
   ]
  },
  {
   "cell_type": "code",
   "execution_count": 421,
   "id": "f54f3fb2-e09e-4282-b5bb-73c545ccb60f",
   "metadata": {},
   "outputs": [
    {
     "name": "stdout",
     "output_type": "stream",
     "text": [
      "inter_token : '', index : 120, pos : 119, token : ';', token_length : 1\n"
     ]
    }
   ],
   "source": [
    "index += len(inter_token) + token_length\n",
    "print(f\"inter_token : '{inter_token}', index : {index}, pos : {pos}, token : '{token}', token_length : {token_length}\")"
   ]
  },
  {
   "cell_type": "code",
   "execution_count": 422,
   "id": "cc05bb7c-ea8c-4c87-87f7-85e763857ca8",
   "metadata": {},
   "outputs": [
    {
     "data": {
      "text/plain": [
       "' '"
      ]
     },
     "execution_count": 422,
     "metadata": {},
     "output_type": "execute_result"
    }
   ],
   "source": [
    "sb[index:]"
   ]
  },
  {
   "cell_type": "code",
   "execution_count": 252,
   "id": "7ac199b0-d9e6-49b7-81a6-df2cb9f93a19",
   "metadata": {},
   "outputs": [
    {
     "data": {
      "text/plain": [
       "0"
      ]
     },
     "execution_count": 252,
     "metadata": {},
     "output_type": "execute_result"
    }
   ],
   "source": [
    "pos"
   ]
  },
  {
   "cell_type": "code",
   "execution_count": 242,
   "id": "29372fbe-abbe-454e-b48d-f3236b1c3b96",
   "metadata": {},
   "outputs": [
    {
     "data": {
      "text/plain": [
       "'que la habitación tendría vistas y nos dieron una que daba al patio.&quot; '"
      ]
     },
     "execution_count": 242,
     "metadata": {},
     "output_type": "execute_result"
    }
   ],
   "source": [
    "sb[46:]"
   ]
  },
  {
   "cell_type": "code",
   "execution_count": 258,
   "id": "57ef6295-8c6e-41b1-9e0b-5929d93b7aab",
   "metadata": {},
   "outputs": [
    {
     "data": {
      "text/plain": [
       "6"
      ]
     },
     "execution_count": 258,
     "metadata": {},
     "output_type": "execute_result"
    }
   ],
   "source": [
    "index"
   ]
  },
  {
   "cell_type": "code",
   "execution_count": 261,
   "id": "d2458394-122d-4cdf-b41a-68f77e858d19",
   "metadata": {},
   "outputs": [
    {
     "data": {
      "text/plain": [
       "'Uf'"
      ]
     },
     "execution_count": 261,
     "metadata": {},
     "output_type": "execute_result"
    }
   ],
   "source": [
    "tokens[2]"
   ]
  },
  {
   "cell_type": "code",
   "execution_count": null,
   "id": "82aa46b0-9955-4a7a-b79c-908ee6d24958",
   "metadata": {},
   "outputs": [],
   "source": []
  }
 ],
 "metadata": {
  "kernelspec": {
   "display_name": "Python 3 (ipykernel)",
   "language": "python",
   "name": "python3"
  },
  "language_info": {
   "codemirror_mode": {
    "name": "ipython",
    "version": 3
   },
   "file_extension": ".py",
   "mimetype": "text/x-python",
   "name": "python",
   "nbconvert_exporter": "python",
   "pygments_lexer": "ipython3",
   "version": "3.11.3"
  }
 },
 "nbformat": 4,
 "nbformat_minor": 5
}
