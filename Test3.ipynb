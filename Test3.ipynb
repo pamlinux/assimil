{
 "cells": [
  {
   "cell_type": "code",
   "execution_count": 1,
   "id": "47fcc538-eef6-45e1-9af2-ae00088d8daa",
   "metadata": {},
   "outputs": [
    {
     "name": "stdout",
     "output_type": "stream",
     "text": [
      "2024-09-13 14:39:10,999 INFO sqlalchemy.engine.Engine BEGIN (implicit)\n",
      "2024-09-13 14:39:10,999 INFO sqlalchemy.engine.Engine PRAGMA main.table_info(\"word_dict\")\n",
      "2024-09-13 14:39:11,000 INFO sqlalchemy.engine.Engine [raw sql] ()\n",
      "2024-09-13 14:39:11,000 INFO sqlalchemy.engine.Engine PRAGMA main.table_info(\"word_index\")\n",
      "2024-09-13 14:39:11,000 INFO sqlalchemy.engine.Engine [raw sql] ()\n",
      "2024-09-13 14:39:11,001 INFO sqlalchemy.engine.Engine PRAGMA main.table_info(\"sentences\")\n",
      "2024-09-13 14:39:11,001 INFO sqlalchemy.engine.Engine [raw sql] ()\n",
      "2024-09-13 14:39:11,001 INFO sqlalchemy.engine.Engine PRAGMA main.table_info(\"lesson_sessions\")\n",
      "2024-09-13 14:39:11,001 INFO sqlalchemy.engine.Engine [raw sql] ()\n",
      "2024-09-13 14:39:11,002 INFO sqlalchemy.engine.Engine PRAGMA main.table_info(\"marked_sentences\")\n",
      "2024-09-13 14:39:11,002 INFO sqlalchemy.engine.Engine [raw sql] ()\n",
      "2024-09-13 14:39:11,002 INFO sqlalchemy.engine.Engine PRAGMA main.table_info(\"user_account\")\n",
      "2024-09-13 14:39:11,002 INFO sqlalchemy.engine.Engine [raw sql] ()\n",
      "2024-09-13 14:39:11,002 INFO sqlalchemy.engine.Engine PRAGMA main.table_info(\"parameters\")\n",
      "2024-09-13 14:39:11,003 INFO sqlalchemy.engine.Engine [raw sql] ()\n",
      "2024-09-13 14:39:11,003 INFO sqlalchemy.engine.Engine COMMIT\n"
     ]
    }
   ],
   "source": [
    "from tonic_accent import get_title, get_list_of_bold_sentences, store_lesson, update_lesson, correct_word\n",
    "from translation import get_french_lesson\n"
   ]
  },
  {
   "cell_type": "code",
   "execution_count": 18,
   "id": "65be4900-35c6-41ef-929e-838fb37cb014",
   "metadata": {},
   "outputs": [
    {
     "name": "stdout",
     "output_type": "stream",
     "text": [
      "N1-Lección primera\n",
      "S00-TITLE-¡Qué sorpresa! \n",
      "S01-¡Hola, Laura! \n",
      "S02-¡Hola, Paco, qué sorpresa! \n",
      "S03-¿Cómo estás, guapa? \n",
      "S04-¡Bien, gracias! ¿Y tú, qué tal? \n",
      "S05-Estoy pachucho...\n",
      "T00-TRANSLATE-Ejercicio 1 – Traduzca\n",
      "T01-¿Qué tal? \n",
      "T02-¿Cómo estás? \n",
      "T03-¡Hola, guapa, qué sorpresa!\n",
      "T04-¿Estás pachucho? \n",
      "T05-Estoy bien, gracias. \n"
     ]
    },
    {
     "data": {
      "text/plain": [
       "['Première leçon (leçon première)',\n",
       " 'Quelle (que) surprise!',\n",
       " '- Salut, Laura !',\n",
       " '- Salut, Paco, quelle surprise!',\n",
       " '- Comment vas (es) [-tu], [la] belle ?',\n",
       " '- Bien, merci (mercis)! Et toi, ça va (que tel) ?',\n",
       " '- [Je] suis patraque…']"
      ]
     },
     "execution_count": 18,
     "metadata": {},
     "output_type": "execute_result"
    }
   ],
   "source": [
    "lesson_nb = 1\n",
    "lesson, exercise1_correction = get_french_lesson(lesson_nb)\n",
    "spanish_sentences = get_list_of_bold_sentences(lesson_nb)\n",
    "ex_index = len(lesson)\n",
    "spanish_lesson = spanish_sentences[:ex_index]\n",
    "spanish_exercise1_correction = spanish_sentences[ex_index + 1:]\n",
    "if exercise1_correction:\n",
    "    french_sentences = lesson + [\"Corrigé de l'exercice 1\"] + exercise1_correction\n",
    "else:\n",
    "    french_sentences = lesson\n",
    "\n",
    "french_sentences"
   ]
  },
  {
   "cell_type": "code",
   "execution_count": 15,
   "id": "faa78977-a822-4d20-bd04-b842cd7c5fd3",
   "metadata": {},
   "outputs": [
    {
     "data": {
      "text/plain": [
       "['T01-¿Qué tal? ',\n",
       " 'T02-¿<b>Có</b>mo es<b>tás</b>? ',\n",
       " 'T03-¡<b>Ho</b>la, <b>gua</b>pa, qué sor<b>pre</b>sa! ',\n",
       " 'T04-¿Es<b>tás</b> pa<b>chu</b>cho? ',\n",
       " 'T05-Es<b>toy</b> bien, <b>gra</b>cias. ']"
      ]
     },
     "execution_count": 15,
     "metadata": {},
     "output_type": "execute_result"
    }
   ],
   "source": [
    "spanish_exercise1_correction"
   ]
  },
  {
   "cell_type": "code",
   "execution_count": 4,
   "id": "9ac265fa-21d3-4b98-b244-d6dca5a192af",
   "metadata": {},
   "outputs": [
    {
     "data": {
      "text/plain": [
       "12"
      ]
     },
     "execution_count": 4,
     "metadata": {},
     "output_type": "execute_result"
    }
   ],
   "source": [
    "len(lesson) + len(exercise1_correction)"
   ]
  },
  {
   "cell_type": "code",
   "execution_count": 5,
   "id": "74161884-2918-4dfd-b5e4-1a2c4f437f6a",
   "metadata": {},
   "outputs": [
    {
     "data": {
      "text/plain": [
       "13"
      ]
     },
     "execution_count": 5,
     "metadata": {},
     "output_type": "execute_result"
    }
   ],
   "source": [
    "len(spanish_sentences)"
   ]
  },
  {
   "cell_type": "code",
   "execution_count": 6,
   "id": "02529edd-2f77-4e99-9602-0ba148623e74",
   "metadata": {},
   "outputs": [
    {
     "data": {
      "text/plain": [
       "['N1-Lec<b>ción</b> pri<b>me</b>ra',\n",
       " 'S00-TITLE-¡Qué sor<b>pre</b>sa! ',\n",
       " 'S01-¡<b>Ho</b>la, <b>Lau</b>ra! ',\n",
       " 'S02-¡<b>Ho</b>la, <b>Pa</b>co, qué sor<b>pre</b>sa! ',\n",
       " 'S03-¿<b>Có</b>mo es<b>tás</b>, <b>gua</b>pa? ',\n",
       " 'S04-¡Bien, <b>gra</b>cias! ¿Y tú, qué tal? ',\n",
       " 'S05-Es<b>toy</b> pa<b>chu</b>cho. . . ',\n",
       " 'T00-TRANSLATE-Ejer<b>ci</b>cio 1 – Tra<b>duz</b>ca',\n",
       " 'T01-¿Qué tal? ',\n",
       " 'T02-¿<b>Có</b>mo es<b>tás</b>? ',\n",
       " 'T03-¡<b>Ho</b>la, <b>gua</b>pa, qué sor<b>pre</b>sa! ',\n",
       " 'T04-¿Es<b>tás</b> pa<b>chu</b>cho? ',\n",
       " 'T05-Es<b>toy</b> bien, <b>gra</b>cias. ']"
      ]
     },
     "execution_count": 6,
     "metadata": {},
     "output_type": "execute_result"
    }
   ],
   "source": [
    "spanish_sentences\n"
   ]
  },
  {
   "cell_type": "code",
   "execution_count": 7,
   "id": "9d1ef858-2b03-473c-b500-fad57ba7c7d2",
   "metadata": {},
   "outputs": [
    {
     "data": {
      "text/plain": [
       "['Première leçon (leçon première)',\n",
       " 'Quelle (que) surprise!',\n",
       " '- Salut, Laura !',\n",
       " '- Salut, Paco, quelle surprise!',\n",
       " '- Comment vas (es) [-tu], [la] belle ?',\n",
       " '- Bien, merci (mercis)! Et toi, ça va (que tel) ?',\n",
       " '- [Je] suis patraque…',\n",
       " 'Ça va?',\n",
       " 'Comment vas-tu ?',\n",
       " 'Salut, la belle, quelle surprise!',\n",
       " 'Tu es patraque?',\n",
       " 'Je vais bien, merci.\\n']"
      ]
     },
     "execution_count": 7,
     "metadata": {},
     "output_type": "execute_result"
    }
   ],
   "source": [
    "lesson + exercise1_correction"
   ]
  },
  {
   "cell_type": "code",
   "execution_count": 8,
   "id": "e3cc71d6-68a7-4ecb-83a2-492bf0228c73",
   "metadata": {},
   "outputs": [
    {
     "data": {
      "text/plain": [
       "['N1-Lec<b>ción</b> pri<b>me</b>ra',\n",
       " 'S00-TITLE-¡Qué sor<b>pre</b>sa! ',\n",
       " 'S01-¡<b>Ho</b>la, <b>Lau</b>ra! ',\n",
       " 'S02-¡<b>Ho</b>la, <b>Pa</b>co, qué sor<b>pre</b>sa! ',\n",
       " 'S03-¿<b>Có</b>mo es<b>tás</b>, <b>gua</b>pa? ',\n",
       " 'S04-¡Bien, <b>gra</b>cias! ¿Y tú, qué tal? ',\n",
       " 'S05-Es<b>toy</b> pa<b>chu</b>cho. . . ']"
      ]
     },
     "execution_count": 8,
     "metadata": {},
     "output_type": "execute_result"
    }
   ],
   "source": [
    "ex_index = len(lesson)\n",
    "spanish_lesson = spanish_sentences[:ex_index]\n",
    "spanish_lesson"
   ]
  },
  {
   "cell_type": "code",
   "execution_count": 10,
   "id": "aa26ebdb-3047-4df1-b7dd-aa127c6af149",
   "metadata": {},
   "outputs": [
    {
     "data": {
      "text/plain": [
       "['T01-¿Qué tal? ',\n",
       " 'T02-¿<b>Có</b>mo es<b>tás</b>? ',\n",
       " 'T03-¡<b>Ho</b>la, <b>gua</b>pa, qué sor<b>pre</b>sa! ',\n",
       " 'T04-¿Es<b>tás</b> pa<b>chu</b>cho? ',\n",
       " 'T05-Es<b>toy</b> bien, <b>gra</b>cias. ']"
      ]
     },
     "execution_count": 10,
     "metadata": {},
     "output_type": "execute_result"
    }
   ],
   "source": [
    "spanish_exercise1_correction = spanish_sentences[ex_index + 1:]\n",
    "spanish_exercise1_correction"
   ]
  },
  {
   "cell_type": "code",
   "execution_count": null,
   "id": "2585d721-da35-4bf3-8308-5a035db92519",
   "metadata": {},
   "outputs": [],
   "source": []
  }
 ],
 "metadata": {
  "kernelspec": {
   "display_name": "Python 3 (ipykernel)",
   "language": "python",
   "name": "python3"
  },
  "language_info": {
   "codemirror_mode": {
    "name": "ipython",
    "version": 3
   },
   "file_extension": ".py",
   "mimetype": "text/x-python",
   "name": "python",
   "nbconvert_exporter": "python",
   "pygments_lexer": "ipython3",
   "version": "3.11.3"
  }
 },
 "nbformat": 4,
 "nbformat_minor": 5
}
