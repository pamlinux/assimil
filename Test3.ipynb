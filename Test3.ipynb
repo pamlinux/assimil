{
 "cells": [
  {
   "cell_type": "code",
   "execution_count": 23,
   "id": "0e0784a6-45b6-47f7-80f0-8921314aa9c6",
   "metadata": {},
   "outputs": [],
   "source": [
    "from jinja2 import Environment, FileSystemLoader\n",
    "from tonic_accent import get_history\n",
    "from datetime import date, datetime\n"
   ]
  },
  {
   "cell_type": "code",
   "execution_count": 30,
   "id": "2585d721-da35-4bf3-8308-5a035db92519",
   "metadata": {},
   "outputs": [],
   "source": [
    "def get_history_html(lessons, rows):\n",
    "    env = Environment(loader = FileSystemLoader(\"templates\"))\n",
    "    template = env.get_template('errors_list.html')\n",
    "    div0 = template.render(\n",
    "        lessons = lessons,\n",
    "        rows = rows\n",
    "    )\n",
    "    div0 = div0.replace('\\n', '')\n",
    "    return div0\n"
   ]
  },
  {
   "cell_type": "code",
   "execution_count": 31,
   "id": "ba18df6c-0339-412c-8768-823460c8b582",
   "metadata": {},
   "outputs": [
    {
     "name": "stdout",
     "output_type": "stream",
     "text": [
      "----------------- begin_date : None\n",
      "----------------- end_date : None\n",
      "2024-09-16 08:57:25,317 INFO sqlalchemy.engine.Engine BEGIN (implicit)\n",
      "2024-09-16 08:57:25,320 INFO sqlalchemy.engine.Engine SELECT lesson_sessions.id, lesson_sessions.lesson, lesson_sessions.date_time, lesson_sessions.errors_number, lesson_sessions.user_id \n",
      "FROM lesson_sessions \n",
      "WHERE lesson_sessions.date_time >= ? AND lesson_sessions.date_time <= ? AND lesson_sessions.lesson <= ? AND lesson_sessions.lesson >= ?\n",
      "2024-09-16 08:57:25,321 INFO sqlalchemy.engine.Engine [cached since 134.4s ago] ('0001-01-01 00:00:00.000000', '9999-12-31 23:59:59.999999', 100, 1)\n",
      "2024-09-16 08:57:25,324 INFO sqlalchemy.engine.Engine ROLLBACK\n"
     ]
    },
    {
     "data": {
      "text/plain": [
       "'<style>    h1,    h2,    h3,    h4 {        margin: 0.1rem 0;    }    h1 {        font-size: 2rem;    }    h2 {        font-size: 1.5rem;        padding-left: 20px;        color: rgba(122,29,1,255)    }    h3 {        font-size: 1.2rem;        padding-left: 40px;    }    h4 {        font-size: 1rem;        font-style: italic;        padding-left: 60px;    }    p {        padding-left: 40px;    }    li#el {         padding: 20px;        display: table-cell;    }    a {        text-decoration: none;    }    li :last-child a {        margin-right: 0;    }   li a[id^=\\'id_\\']:link, li a[id^=\\'id_\\']:visited, li a[id^=\\'id_\\']:focus {        background: yellow;        display: inline;    }    li a[id^=\\'id_\\']:hover {        background: orange;        display: inline;    }    li a[id^=\\'id_\\']:active {        background: red;        color: white;        display: inline;    }    li span a[id^=\\'id_\\']:link, li span a[id^=\\'id_\\']:visited, li span a[id^=\\'id_\\']:focus {        background: lightgreen;        display: inline;    }    li span a[id^=\\'id_\\']:hover {        background: orange;        display: inline;    }    ul {        display: table-row     }    h2 {        padding: 20px;        display: table-cell;    }    h1 {        padding: 30px;    }    .history {        display: table;     }</style><p>  </p><h1>Sessions groupées par leçon</h1>                        <div class=\"history\">                <ul>                    <h2>Leçon 50</h2>                                                                                                <li id=\\'el\\'><a id=\\'id_1\\' href=\\'/lesson-errors/?lesson=50&datetimekey=04-09-2024 22:42:30759328\\'>04-09-2024 22:42:30</a></li>                                                            </ul>            </div>                                <div class=\"history\">                <ul>                    <h2>Leçon 1</h2>                                                                                                <li id=\\'el\\'><span><a id= \\'id_1\\' href=\\'/lesson-errors/?lesson=1&datetimekey=04-09-2024 23:02:00780033\\'>04-09-2024 23:02:00</a></span></li>                                                            </ul>            </div>                                <div class=\"history\">                <ul>                    <h2>Leçon 51</h2>                                                                                                <li id=\\'el\\'><a id=\\'id_1\\' href=\\'/lesson-errors/?lesson=51&datetimekey=05-09-2024 09:19:11922138\\'>05-09-2024 09:19:11</a></li>                                                            </ul>            </div>                                <div class=\"history\">                <ul>                    <h2>Leçon 3</h2>                                                                                                <li id=\\'el\\'><a id=\\'id_1\\' href=\\'/lesson-errors/?lesson=3&datetimekey=06-09-2024 23:54:35589923\\'>06-09-2024 23:54:35</a></li>                                                            </ul>            </div>                                <div class=\"history\">                <ul>                    <h2>Leçon 52</h2>                                                                                                <li id=\\'el\\'><a id=\\'id_1\\' href=\\'/lesson-errors/?lesson=52&datetimekey=06-09-2024 23:30:29589456\\'>06-09-2024 23:30:29</a></li>                                                            </ul>            </div>                                <div class=\"history\">                <ul>                    <h2>Leçon 53</h2>                                                                                                <li id=\\'el\\'><a id=\\'id_1\\' href=\\'/lesson-errors/?lesson=53&datetimekey=07-09-2024 15:38:11304630\\'>07-09-2024 15:38:11</a></li>                                                            </ul>            </div>                                <div class=\"history\">                <ul>                    <h2>Leçon 4</h2>                                                                                                <li id=\\'el\\'><span><a id= \\'id_1\\' href=\\'/lesson-errors/?lesson=4&datetimekey=07-09-2024 15:47:54852500\\'>07-09-2024 15:47:54</a></span></li>                                                            </ul>            </div>                                <div class=\"history\">                <ul>                    <h2>Leçon 54</h2>                                                                                                <li id=\\'el\\'><a id=\\'id_1\\' href=\\'/lesson-errors/?lesson=54&datetimekey=09-09-2024 00:33:09558002\\'>09-09-2024 00:33:09</a></li>                                                            </ul>            </div>                                <div class=\"history\">                <ul>                    <h2>Leçon 5</h2>                                                                                                <li id=\\'el\\'><span><a id= \\'id_1\\' href=\\'/lesson-errors/?lesson=5&datetimekey=09-09-2024 00:37:30688736\\'>09-09-2024 00:37:30</a></span></li>                                                            </ul>            </div>                                <div class=\"history\">                <ul>                    <h2>Leçon 55</h2>                                                                                                <li id=\\'el\\'><a id=\\'id_1\\' href=\\'/lesson-errors/?lesson=55&datetimekey=09-09-2024 23:49:20733862\\'>09-09-2024 23:49:20</a></li>                                                            </ul>            </div>                                <div class=\"history\">                <ul>                    <h2>Leçon 56</h2>                                                                                                <li id=\\'el\\'><a id=\\'id_1\\' href=\\'/lesson-errors/?lesson=56&datetimekey=10-09-2024 11:28:32681006\\'>10-09-2024 11:28:32</a></li>                                                            </ul>            </div>                                <div class=\"history\">                <ul>                    <h2>Leçon 7</h2>                                                                                                <li id=\\'el\\'><a id=\\'id_1\\' href=\\'/lesson-errors/?lesson=7&datetimekey=10-09-2024 11:34:52105091\\'>10-09-2024 11:34:52</a></li>                                                                                                                        <li id=\\'el\\'><span><a id= \\'id_1\\' href=\\'/lesson-errors/?lesson=7&datetimekey=14-09-2024 20:36:34061151\\'>14-09-2024 20:36:34</a></span></li>                                                            </ul>            </div>                                <div class=\"history\">                <ul>                    <h2>Leçon 57</h2>                                                                                                <li id=\\'el\\'><a id=\\'id_1\\' href=\\'/lesson-errors/?lesson=57&datetimekey=11-09-2024 15:24:26952928\\'>11-09-2024 15:24:26</a></li>                                                            </ul>            </div>                                <div class=\"history\">                <ul>                    <h2>Leçon 58</h2>                                                                                                <li id=\\'el\\'><a id=\\'id_1\\' href=\\'/lesson-errors/?lesson=58&datetimekey=12-09-2024 18:13:29359135\\'>12-09-2024 18:13:29</a></li>                                                            </ul>            </div>                                <div class=\"history\">                <ul>                    <h2>Leçon 2</h2>                                                                                                <li id=\\'el\\'><span><a id= \\'id_1\\' href=\\'/lesson-errors/?lesson=2&datetimekey=13-09-2024 09:25:10802152\\'>13-09-2024 09:25:10</a></span></li>                                                            </ul>            </div>                                <div class=\"history\">                <ul>                    <h2>Leçon 6</h2>                                                                                                <li id=\\'el\\'><a id=\\'id_1\\' href=\\'/lesson-errors/?lesson=6&datetimekey=13-09-2024 09:47:17289446\\'>13-09-2024 09:47:17</a></li>                                                                                                                        <li id=\\'el\\'><a id=\\'id_1\\' href=\\'/lesson-errors/?lesson=6&datetimekey=14-09-2024 20:33:44326247\\'>14-09-2024 20:33:44</a></li>                                                            </ul>            </div>                                <div class=\"history\">                <ul>                    <h2>Leçon 59</h2>                                                                                                <li id=\\'el\\'><a id=\\'id_1\\' href=\\'/lesson-errors/?lesson=59&datetimekey=14-09-2024 19:34:55403665\\'>14-09-2024 19:34:55</a></li>                                                            </ul>            </div>                                <div class=\"history\">                <ul>                    <h2>Leçon 8</h2>                                                                                                <li id=\\'el\\'><a id=\\'id_1\\' href=\\'/lesson-errors/?lesson=8&datetimekey=14-09-2024 20:48:41013369\\'>14-09-2024 20:48:41</a></li>                                                            </ul>            </div>                                <div class=\"history\">                <ul>                    <h2>Leçon 9</h2>                                                                                                <li id=\\'el\\'><a id=\\'id_1\\' href=\\'/lesson-errors/?lesson=9&datetimekey=15-09-2024 00:08:28172602\\'>15-09-2024 00:08:28</a></li>                                                            </ul>            </div>                                <div class=\"history\">                <ul>                    <h2>Leçon 10</h2>                                                                                                <li id=\\'el\\'><span><a id= \\'id_1\\' href=\\'/lesson-errors/?lesson=10&datetimekey=15-09-2024 00:12:03035027\\'>15-09-2024 00:12:03</a></span></li>                                                            </ul>            </div>                                <div class=\"history\">                <ul>                    <h2>Leçon 60</h2>                                                                                                <li id=\\'el\\'><a id=\\'id_1\\' href=\\'/lesson-errors/?lesson=60&datetimekey=15-09-2024 13:22:39591806\\'>15-09-2024 13:22:39</a></li>                                                            </ul>            </div>                                <div class=\"history\">                <ul>                    <h2>Leçon 11</h2>                                                                                                <li id=\\'el\\'><a id=\\'id_1\\' href=\\'/lesson-errors/?lesson=11&datetimekey=15-09-2024 13:29:12319298\\'>15-09-2024 13:29:12</a></li>                                                            </ul>            </div>                                <div class=\"history\">                <ul>                    <h2>Leçon 61</h2>                                                                                                <li id=\\'el\\'><a id=\\'id_1\\' href=\\'/lesson-errors/?lesson=61&datetimekey=15-09-2024 15:22:24347706\\'>15-09-2024 15:22:24</a></li>                                                            </ul>            </div>                                <div class=\"history\">                <ul>                    <h2>Leçon 62</h2>                                                                                                <li id=\\'el\\'><a id=\\'id_1\\' href=\\'/lesson-errors/?lesson=62&datetimekey=15-09-2024 20:59:22890332\\'>15-09-2024 20:59:22</a></li>                                                            </ul>            </div>                                <div class=\"history\">                <ul>                    <h2>Leçon 12</h2>                                                                                                <li id=\\'el\\'><a id=\\'id_1\\' href=\\'/lesson-errors/?lesson=12&datetimekey=15-09-2024 21:06:58485276\\'>15-09-2024 21:06:58</a></li>                                                            </ul>            </div>            '"
      ]
     },
     "execution_count": 31,
     "metadata": {},
     "output_type": "execute_result"
    }
   ],
   "source": [
    "lessons, rows = get_history()\n",
    "get_history_html(lessons, rows)"
   ]
  },
  {
   "cell_type": "code",
   "execution_count": 28,
   "id": "e464a43d-bcb5-49b5-b6ac-06476e54c7f5",
   "metadata": {},
   "outputs": [
    {
     "data": {
      "text/plain": [
       "[[(datetime.datetime(2024, 9, 4, 22, 42, 30, 759328), 6)],\n",
       " [(datetime.datetime(2024, 9, 4, 23, 2, 0, 780033), 0)],\n",
       " [(datetime.datetime(2024, 9, 5, 9, 19, 11, 922138), 3)],\n",
       " [(datetime.datetime(2024, 9, 6, 23, 54, 35, 589923), 3)],\n",
       " [(datetime.datetime(2024, 9, 6, 23, 30, 29, 589456), 5)],\n",
       " [(datetime.datetime(2024, 9, 7, 15, 38, 11, 304630), 4)],\n",
       " [(datetime.datetime(2024, 9, 7, 15, 47, 54, 852500), 0)],\n",
       " [(datetime.datetime(2024, 9, 9, 0, 33, 9, 558002), 4)],\n",
       " [(datetime.datetime(2024, 9, 9, 0, 37, 30, 688736), 0)],\n",
       " [(datetime.datetime(2024, 9, 9, 23, 49, 20, 733862), 8)],\n",
       " [(datetime.datetime(2024, 9, 10, 11, 28, 32, 681006), 10)],\n",
       " [(datetime.datetime(2024, 9, 10, 11, 34, 52, 105091), 2),\n",
       "  (datetime.datetime(2024, 9, 14, 20, 36, 34, 61151), 0)],\n",
       " [(datetime.datetime(2024, 9, 11, 15, 24, 26, 952928), 7)],\n",
       " [(datetime.datetime(2024, 9, 12, 18, 13, 29, 359135), 4)],\n",
       " [(datetime.datetime(2024, 9, 13, 9, 25, 10, 802152), 0)],\n",
       " [(datetime.datetime(2024, 9, 13, 9, 47, 17, 289446), 2),\n",
       "  (datetime.datetime(2024, 9, 14, 20, 33, 44, 326247), 1)],\n",
       " [(datetime.datetime(2024, 9, 14, 19, 34, 55, 403665), 5)],\n",
       " [(datetime.datetime(2024, 9, 14, 20, 48, 41, 13369), 1)],\n",
       " [(datetime.datetime(2024, 9, 15, 0, 8, 28, 172602), 1)],\n",
       " [(datetime.datetime(2024, 9, 15, 0, 12, 3, 35027), 0)],\n",
       " [(datetime.datetime(2024, 9, 15, 13, 22, 39, 591806), 9)],\n",
       " [(datetime.datetime(2024, 9, 15, 13, 29, 12, 319298), 1)],\n",
       " [(datetime.datetime(2024, 9, 15, 15, 22, 24, 347706), 1)],\n",
       " [(datetime.datetime(2024, 9, 15, 20, 59, 22, 890332), 4)],\n",
       " [(datetime.datetime(2024, 9, 15, 21, 6, 58, 485276), 1)]]"
      ]
     },
     "execution_count": 28,
     "metadata": {},
     "output_type": "execute_result"
    }
   ],
   "source": [
    "rows"
   ]
  },
  {
   "cell_type": "code",
   "execution_count": null,
   "id": "58f7355b-6f5f-4a41-95c8-58c53b4f62be",
   "metadata": {},
   "outputs": [],
   "source": []
  }
 ],
 "metadata": {
  "kernelspec": {
   "display_name": "Python 3 (ipykernel)",
   "language": "python",
   "name": "python3"
  },
  "language_info": {
   "codemirror_mode": {
    "name": "ipython",
    "version": 3
   },
   "file_extension": ".py",
   "mimetype": "text/x-python",
   "name": "python",
   "nbconvert_exporter": "python",
   "pygments_lexer": "ipython3",
   "version": "3.11.3"
  }
 },
 "nbformat": 4,
 "nbformat_minor": 5
}
