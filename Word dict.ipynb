{
 "cells": [
  {
   "cell_type": "code",
   "execution_count": 1,
   "id": "f7ad5cdf-8572-4c44-98fb-d5b6125bb918",
   "metadata": {},
   "outputs": [],
   "source": [
    "from typing import List\n",
    "from typing import Optional\n",
    "from sqlalchemy import ForeignKey\n",
    "from sqlalchemy import String\n",
    "import datetime\n",
    "import pytz\n",
    "from sqlalchemy.orm import DeclarativeBase\n",
    "from sqlalchemy.orm import Mapped\n",
    "from sqlalchemy.orm import mapped_column\n",
    "from sqlalchemy.orm import relationship\n",
    "from sqlalchemy.sql import func\n",
    "\n",
    "class Base(DeclarativeBase):\n",
    "    pass\n",
    "\n",
    "class Word(Base):\n",
    "    __tablename__ = \"word_dict\"\n",
    "    id: Mapped[int] = mapped_column(primary_key=True)\n",
    "    word: Mapped[str] \n",
    "    tonic_accent: Mapped[str]\n",
    "    comment: Mapped[Optional[str]]\n",
    "    index_ref_entries: Mapped[List[\"IndexEntry\"]] = relationship(\n",
    "        back_populates=\"word\", cascade=\"all, delete-orphan\"\n",
    "    )\n",
    "    def __repr__(self) -> str:\n",
    "        return f\"Word(id={self.id!r}, word={self.word!r}, comment={self.comment!r})\"\n",
    "\n",
    "class IndexEntry(Base):\n",
    "    __tablename__ = \"word_index\"\n",
    "    id : Mapped[int] = mapped_column(primary_key=True)\n",
    "    lesson : Mapped[int]\n",
    "    line : Mapped[int]\n",
    "    position : Mapped[Optional[int]]\n",
    "    word_id : Mapped[int] = mapped_column(ForeignKey(\"word_dict.id\"))\n",
    "    word : Mapped[\"Word\"] = relationship(back_populates=\"index_ref_entries\")\n",
    "    def __repr__(self) -> str:\n",
    "        return f\"IndexEntry(id={self.id!r}, word={self.word!r}, word_id={self.word_id}, lesson={self.lesson!r}, line={self.line!r}), position={self.position!r}\"\n",
    "        \n",
    "class Sentence(Base):\n",
    "    __tablename__ = \"sentences\"\n",
    "    id: Mapped[int] = mapped_column(primary_key=True)\n",
    "    sentence: Mapped[str] \n",
    "    comment: Mapped[Optional[str]]\n",
    "    lesson : Mapped[int]\n",
    "    line : Mapped[int]\n",
    "    def __repr__(self) -> str:\n",
    "        return f\"Sentence(id={self.id!r}, lesson={lesson!r}, numero={numero!r}, sentence ={self.sentence!r}, comment={self.comment!r})\"\n",
    "\n",
    "class MarkedSentence(Base):\n",
    "    __tablename__ = \"marked_sentences\"\n",
    "    id: Mapped[int] = mapped_column(primary_key=True)\n",
    "    date_time: Mapped[datetime.datetime]\n",
    "    sentence: Mapped[str] \n",
    "    comment: Mapped[Optional[str]]\n",
    "    lesson : Mapped[int]\n",
    "    line : Mapped[int]\n",
    "    def __repr__(self) -> str:\n",
    "        return f\"Sentence(id={self.id!r}, date_time = {self.date_time!r}, lesson={self.lesson!r}, line={self.line!r}, sentence ={self.sentence!r}, comment={self.comment!r})\"\n"
   ]
  },
  {
   "cell_type": "code",
   "execution_count": 2,
   "id": "babb349e-f673-49d1-af7c-6680804909cc",
   "metadata": {},
   "outputs": [
    {
     "data": {
      "text/plain": [
       "'sqlite:///db/test_tonic_accent_word_dict.db'"
      ]
     },
     "execution_count": 2,
     "metadata": {},
     "output_type": "execute_result"
    }
   ],
   "source": [
    "from pathlib import Path\n",
    "\n",
    "db_directory = \"./db\"\n",
    "word_dict_filename = \"test_tonic_accent_word_dict.db\"\n",
    "\n",
    "db_name = Path(db_directory, word_dict_filename)\n",
    "db_url  = f\"sqlite:///{db_name}\"\n",
    "db_url"
   ]
  },
  {
   "cell_type": "code",
   "execution_count": 3,
   "id": "1cf0300e-815e-46d7-a48e-437f6d7880c5",
   "metadata": {},
   "outputs": [],
   "source": [
    "from sqlalchemy import create_engine\n",
    "engine = create_engine(db_url, echo=True)"
   ]
  },
  {
   "cell_type": "code",
   "execution_count": 4,
   "id": "dcdacead-e9e3-41cc-9c8c-651600d31c43",
   "metadata": {},
   "outputs": [
    {
     "name": "stdout",
     "output_type": "stream",
     "text": [
      "2024-08-31 10:59:01,062 INFO sqlalchemy.engine.Engine BEGIN (implicit)\n",
      "2024-08-31 10:59:01,064 INFO sqlalchemy.engine.Engine PRAGMA main.table_info(\"word_dict\")\n",
      "2024-08-31 10:59:01,064 INFO sqlalchemy.engine.Engine [raw sql] ()\n",
      "2024-08-31 10:59:01,067 INFO sqlalchemy.engine.Engine PRAGMA main.table_info(\"word_index\")\n",
      "2024-08-31 10:59:01,068 INFO sqlalchemy.engine.Engine [raw sql] ()\n",
      "2024-08-31 10:59:01,069 INFO sqlalchemy.engine.Engine PRAGMA main.table_info(\"sentences\")\n",
      "2024-08-31 10:59:01,069 INFO sqlalchemy.engine.Engine [raw sql] ()\n",
      "2024-08-31 10:59:01,070 INFO sqlalchemy.engine.Engine PRAGMA main.table_info(\"marked_sentences\")\n",
      "2024-08-31 10:59:01,071 INFO sqlalchemy.engine.Engine [raw sql] ()\n",
      "2024-08-31 10:59:01,072 INFO sqlalchemy.engine.Engine COMMIT\n"
     ]
    }
   ],
   "source": [
    "Base.metadata.create_all(engine)"
   ]
  },
  {
   "cell_type": "code",
   "execution_count": 5,
   "id": "7b01be76-dc53-43e1-ba82-4f54f68813db",
   "metadata": {},
   "outputs": [
    {
     "name": "stdout",
     "output_type": "stream",
     "text": [
      "2024-08-31 10:59:07,907 INFO sqlalchemy.engine.Engine BEGIN (implicit)\n",
      "2024-08-31 10:59:07,907 INFO sqlalchemy.engine.Engine PRAGMA main.table_info(\"word_dict\")\n",
      "2024-08-31 10:59:07,908 INFO sqlalchemy.engine.Engine [raw sql] ()\n",
      "2024-08-31 10:59:07,908 INFO sqlalchemy.engine.Engine PRAGMA main.table_info(\"word_index\")\n",
      "2024-08-31 10:59:07,908 INFO sqlalchemy.engine.Engine [raw sql] ()\n",
      "2024-08-31 10:59:07,909 INFO sqlalchemy.engine.Engine PRAGMA main.table_info(\"sentences\")\n",
      "2024-08-31 10:59:07,909 INFO sqlalchemy.engine.Engine [raw sql] ()\n",
      "2024-08-31 10:59:07,910 INFO sqlalchemy.engine.Engine PRAGMA main.table_info(\"marked_sentences\")\n",
      "2024-08-31 10:59:07,910 INFO sqlalchemy.engine.Engine [raw sql] ()\n",
      "2024-08-31 10:59:07,910 INFO sqlalchemy.engine.Engine COMMIT\n",
      "time to fetch word dictionary from html files : 0.22655296325683594\n"
     ]
    }
   ],
   "source": [
    "from time import time\n",
    "ti = time()\n",
    "from tonic_accent import global_word_dict as word_dict\n",
    "tf = time()\n",
    "print(f\"time to fetch word dictionary from html files : {tf-ti}\")\n"
   ]
  },
  {
   "cell_type": "code",
   "execution_count": 6,
   "id": "f9fe1b8b-b7dd-4e77-8ebe-0da91f7f90d3",
   "metadata": {},
   "outputs": [
    {
     "name": "stdout",
     "output_type": "stream",
     "text": [
      "Number of keys : 3555\n"
     ]
    }
   ],
   "source": [
    "keys_number = 0\n",
    "for key in word_dict:\n",
    "    keys_number += 1\n",
    "print(f\"Number of keys : {keys_number}\")"
   ]
  },
  {
   "cell_type": "code",
   "execution_count": 7,
   "id": "7b49699e-e359-4a95-937e-e2b27a670d60",
   "metadata": {},
   "outputs": [
    {
     "data": {
      "text/plain": [
       "[('ca', True), ('sa', False)]"
      ]
     },
     "execution_count": 7,
     "metadata": {},
     "output_type": "execute_result"
    }
   ],
   "source": [
    "word_dict[\"casa\"]"
   ]
  },
  {
   "cell_type": "code",
   "execution_count": 8,
   "id": "0cb86032-eb6f-43fd-9271-7fc21d986c8a",
   "metadata": {},
   "outputs": [
    {
     "data": {
      "text/plain": [
       "[('sal', False), ('drí', True), ('amos', False)]"
      ]
     },
     "execution_count": 8,
     "metadata": {},
     "output_type": "execute_result"
    }
   ],
   "source": [
    "word_dict[\"saldríamos\"]"
   ]
  },
  {
   "cell_type": "code",
   "execution_count": 9,
   "id": "ddc4ae7c-0ca7-4028-9ac0-a166bc2a37cd",
   "metadata": {},
   "outputs": [
    {
     "data": {
      "text/plain": [
       "[('ni', True), ('ños', False)]"
      ]
     },
     "execution_count": 9,
     "metadata": {},
     "output_type": "execute_result"
    }
   ],
   "source": [
    "word_dict[\"niños\"]"
   ]
  },
  {
   "cell_type": "code",
   "execution_count": 7,
   "id": "2625e15e-8cd6-45ff-bde4-6a7863c2588e",
   "metadata": {},
   "outputs": [],
   "source": [
    "from tonic_accent import get_word_index_dict"
   ]
  },
  {
   "cell_type": "code",
   "execution_count": 8,
   "id": "3b8904f1-3567-4e9d-9f71-53cfcbbb8e58",
   "metadata": {},
   "outputs": [],
   "source": [
    "word_index_dict = get_word_index_dict()"
   ]
  },
  {
   "cell_type": "code",
   "execution_count": 12,
   "id": "39a35c35-1273-49d4-9847-cb6af52b6333",
   "metadata": {},
   "outputs": [],
   "source": [
    "from sqlalchemy.orm import Session"
   ]
  },
  {
   "cell_type": "code",
   "execution_count": 12,
   "id": "3a296603-a939-4ad4-bdfa-a6a5255fca92",
   "metadata": {},
   "outputs": [
    {
     "data": {
      "text/plain": [
       "[(48, 8)]"
      ]
     },
     "execution_count": 12,
     "metadata": {},
     "output_type": "execute_result"
    }
   ],
   "source": [
    "word_index_dict[\"ocurría\".lower()]"
   ]
  },
  {
   "cell_type": "code",
   "execution_count": null,
   "id": "6f4d79eb-ad3f-4dcc-a725-8e4c8933411a",
   "metadata": {},
   "outputs": [],
   "source": [
    "list(word_index_dict.keys()"
   ]
  },
  {
   "cell_type": "code",
   "execution_count": 13,
   "id": "d3b1d2e3-ed89-4b8a-8483-cdf21639d2b3",
   "metadata": {},
   "outputs": [],
   "source": [
    "engine.echo=True"
   ]
  },
  {
   "cell_type": "code",
   "execution_count": 14,
   "id": "3adc5383-e978-4f05-8591-8fc1f3a8f69f",
   "metadata": {},
   "outputs": [],
   "source": [
    "test_word_add_all_with_3_words = False\n",
    "engine.echo=False\n",
    "from sqlalchemy.orm import Session\n",
    "import pickle\n",
    "with Session(engine) as session:\n",
    "    casa = Word(\n",
    "        word=\"casa\", \n",
    "        tonic_accent=pickle.dumps(word_index_dict[\"casa\"]),\n",
    "        index_ref_entries=[\n",
    "            IndexEntry(lesson=9, line=5),\n",
    "            IndexEntry(lesson=10, line=2),\n",
    "            IndexEntry(lesson=10, line=3),\n",
    "            IndexEntry(lesson=13, line=6),\n",
    "            IndexEntry(lesson=13, line=14),\n",
    "        ],\n",
    "    )\n",
    "    saldriamos = Word(\n",
    "        word=\"saldríamos\", \n",
    "        tonic_accent=pickle.dumps(word_index_dict[\"saldríamos\"]),\n",
    "        index_ref_entries=[\n",
    "            IndexEntry(lesson=80, line=3),\n",
    "        ]\n",
    "    )\n",
    "    ninos = Word(\n",
    "        word=\"niños\", \n",
    "        tonic_accent=pickle.dumps(word_index_dict[\"niños\"]),\n",
    "        index_ref_entries=[\n",
    "            IndexEntry(lesson=24, line=10),\n",
    "            IndexEntry(lesson=30, line=6),\n",
    "            IndexEntry(lesson=30, line=15),\n",
    "            IndexEntry(lesson=62, line=21),\n",
    "            IndexEntry(lesson=79, line=12),\n",
    "        ],\n",
    "    )\n",
    "    if test_word_add_all_with_3_words:\n",
    "        session.add_all([casa, saldriamos, ninos])\n",
    "        session.commit()\n",
    "    \n",
    "    \n"
   ]
  },
  {
   "cell_type": "code",
   "execution_count": 15,
   "id": "7c77a425-cdb9-4473-8de8-ea1bd9f5a888",
   "metadata": {},
   "outputs": [],
   "source": [
    "from sqlalchemy import select\n",
    "stmt = select(Word).where(Word.word == \"niños\")\n",
    "\n",
    "for word in session.scalars(stmt):\n",
    "    print(word)"
   ]
  },
  {
   "cell_type": "code",
   "execution_count": 16,
   "id": "2330a234-8116-47d4-8ff2-6838b6473138",
   "metadata": {},
   "outputs": [],
   "source": [
    "from sqlalchemy.orm import Session\n",
    "import pickle\n",
    "with Session(engine) as session:\n",
    "\n",
    "    stmt = select(IndexEntry).where(IndexEntry.lesson == 62)\n",
    "\n",
    "    for entry in session.scalars(stmt):\n",
    "        print(entry)"
   ]
  },
  {
   "cell_type": "code",
   "execution_count": 17,
   "id": "d1d598b3-7d49-4107-8d01-f5f62b924428",
   "metadata": {},
   "outputs": [],
   "source": [
    "stmt = select(IndexEntry).where(IndexEntry.word_id == 3)\n",
    "\n",
    "for entry in session.scalars(stmt):\n",
    "    print(entry)"
   ]
  },
  {
   "cell_type": "code",
   "execution_count": 18,
   "id": "cdaeb8b1-c98e-47ef-9bab-1ecffa2c8b3a",
   "metadata": {},
   "outputs": [
    {
     "name": "stdout",
     "output_type": "stream",
     "text": [
      "time to store word_dict in db : 1.1030960083007812\n"
     ]
    }
   ],
   "source": [
    "from sqlalchemy.orm import Session\n",
    "import pickle\n",
    "engine.echo=False\n",
    "ti = time()\n",
    "with Session(engine) as session:\n",
    "    for word in word_dict:\n",
    "        entries = []\n",
    "        for entry in word_index_dict[word]:\n",
    "            lesson, line = entry\n",
    "            entries.append(IndexEntry(lesson=lesson, line=line))\n",
    "        word_obj = Word(\n",
    "            word=word, \n",
    "            tonic_accent=pickle.dumps(word_dict[word]),\n",
    "            index_ref_entries=entries\n",
    "        )\n",
    "        session.add_all([word_obj])\n",
    "    session.commit()\n",
    "tf = time()\n",
    "\n",
    "print(f\"time to store word_dict in db : {tf - ti}\")\n"
   ]
  },
  {
   "cell_type": "code",
   "execution_count": null,
   "id": "18905fb9-f523-4e56-b48a-41ebbd646ea7",
   "metadata": {},
   "outputs": [],
   "source": []
  },
  {
   "cell_type": "code",
   "execution_count": 19,
   "id": "48ccaccd-f9c0-4816-b525-9a6ec5effa1c",
   "metadata": {},
   "outputs": [
    {
     "name": "stdout",
     "output_type": "stream",
     "text": [
      "Word(id=639, word='niños', comment=None)\n",
      "lesson : 24, line : 10\n",
      "lesson : 30, line : 6\n",
      "lesson : 30, line : 15\n",
      "lesson : 62, line : 21\n",
      "lesson : 79, line : 12\n",
      "lesson : 80, line : 9\n",
      "lesson : 80, line : 10\n",
      "lesson : 80, line : 19\n"
     ]
    }
   ],
   "source": [
    "from sqlalchemy import select\n",
    "stmt = select(Word).where(Word.word == \"niños\")\n",
    "\n",
    "for word in session.scalars(stmt):\n",
    "    print(word)\n",
    "    for entry in word.index_ref_entries:\n",
    "        print(f\"lesson : {entry.lesson}, line : {entry.line}\")"
   ]
  },
  {
   "cell_type": "code",
   "execution_count": 20,
   "id": "50659d5d-0c84-4aef-b439-f93cfb0d8923",
   "metadata": {},
   "outputs": [
    {
     "name": "stdout",
     "output_type": "stream",
     "text": [
      "IndexEntry(id=13226, word=Word(id=639, word='niños', comment=None), word_id=639, lesson=24, line=10), position=None\n",
      "IndexEntry(id=13227, word=Word(id=639, word='niños', comment=None), word_id=639, lesson=30, line=6), position=None\n",
      "IndexEntry(id=13228, word=Word(id=639, word='niños', comment=None), word_id=639, lesson=30, line=15), position=None\n",
      "IndexEntry(id=13229, word=Word(id=639, word='niños', comment=None), word_id=639, lesson=62, line=21), position=None\n",
      "IndexEntry(id=13230, word=Word(id=639, word='niños', comment=None), word_id=639, lesson=79, line=12), position=None\n",
      "IndexEntry(id=13231, word=Word(id=639, word='niños', comment=None), word_id=639, lesson=80, line=9), position=None\n",
      "IndexEntry(id=13232, word=Word(id=639, word='niños', comment=None), word_id=639, lesson=80, line=10), position=None\n",
      "IndexEntry(id=13233, word=Word(id=639, word='niños', comment=None), word_id=639, lesson=80, line=19), position=None\n"
     ]
    }
   ],
   "source": [
    "engine.echo=True\n",
    "stmt = select(IndexEntry).where(IndexEntry.word_id == 639)\n",
    "\n",
    "for entry in session.scalars(stmt):\n",
    "    print(entry)"
   ]
  },
  {
   "cell_type": "code",
   "execution_count": 21,
   "id": "81ccbf63-59e7-4983-8f72-b8639f2217c8",
   "metadata": {},
   "outputs": [
    {
     "data": {
      "text/plain": [
       "[(24, 10), (30, 6), (30, 15), (62, 21), (79, 12), (80, 9), (80, 10), (80, 19)]"
      ]
     },
     "execution_count": 21,
     "metadata": {},
     "output_type": "execute_result"
    }
   ],
   "source": [
    "word_index_dict[\"niños\"]"
   ]
  },
  {
   "cell_type": "code",
   "execution_count": 22,
   "id": "c127671c-1477-4ec2-9c32-49c3772da5ee",
   "metadata": {},
   "outputs": [
    {
     "name": "stdout",
     "output_type": "stream",
     "text": [
      "Word(id=2627, word='quedaran', comment=None)\n"
     ]
    }
   ],
   "source": [
    "from sqlalchemy import select\n",
    "stmt = select(Word).where(Word.word == \"quedaran\")\n",
    "\n",
    "for word in session.scalars(stmt):\n",
    "    print(word)"
   ]
  },
  {
   "cell_type": "code",
   "execution_count": 23,
   "id": "c9f37634-a1b4-467d-85ab-826ae594879c",
   "metadata": {},
   "outputs": [
    {
     "name": "stdout",
     "output_type": "stream",
     "text": [
      "IndexEntry(id=18271, word=Word(id=2627, word='quedaran', comment=None), word_id=2627, lesson=80, line=9), position=None\n"
     ]
    }
   ],
   "source": [
    "stmt = select(IndexEntry).where(IndexEntry.word_id == 2627)\n",
    "\n",
    "for entry in session.scalars(stmt):\n",
    "    print(entry)"
   ]
  },
  {
   "cell_type": "code",
   "execution_count": 24,
   "id": "3173c373-33f3-4353-a73d-70cf9ef5f6d9",
   "metadata": {},
   "outputs": [
    {
     "name": "stdout",
     "output_type": "stream",
     "text": [
      "time to fetch index word dictionary from db : 2.3891656398773193\n"
     ]
    }
   ],
   "source": [
    "stmt = select(Word)\n",
    "new_word_index_dict = {}\n",
    "ti = time()\n",
    "for word in session.scalars(stmt):\n",
    "    index_ref = []\n",
    "    for entry in word.index_ref_entries:\n",
    "        index_ref.append((entry.lesson, entry.line))\n",
    "    new_word_index_dict[word.word] = index_ref\n",
    "tf = time()\n",
    "print(f\"time to fetch index word dictionary from db : {tf-ti}\")"
   ]
  },
  {
   "cell_type": "code",
   "execution_count": 25,
   "id": "cc344db5-8b41-4c10-8e7f-c46650be033b",
   "metadata": {},
   "outputs": [
    {
     "data": {
      "text/plain": [
       "[(9, 5),\n",
       " (10, 2),\n",
       " (10, 3),\n",
       " (13, 6),\n",
       " (13, 14),\n",
       " (14, 5),\n",
       " (26, 3),\n",
       " (26, 15),\n",
       " (28, 7),\n",
       " (28, 11),\n",
       " (35, 9),\n",
       " (78, 2),\n",
       " (78, 20),\n",
       " (80, 12),\n",
       " (84, 8),\n",
       " (88, 4),\n",
       " (88, 7),\n",
       " (90, 1)]"
      ]
     },
     "execution_count": 25,
     "metadata": {},
     "output_type": "execute_result"
    }
   ],
   "source": [
    "new_word_index_dict[\"casa\"]"
   ]
  },
  {
   "cell_type": "code",
   "execution_count": 26,
   "id": "336a36be-392a-4363-8211-a774548aad53",
   "metadata": {},
   "outputs": [
    {
     "name": "stdout",
     "output_type": "stream",
     "text": [
      "time to fetch index word dictionary from db directly: 0.6335129737854004\n"
     ]
    }
   ],
   "source": [
    "new_word_index_dict = {}\n",
    "stmt = select(IndexEntry)\n",
    "ti = time()\n",
    "for entry in session.scalars(stmt):\n",
    "    if not entry.word.word in new_word_index_dict:\n",
    "        new_word_index_dict[entry.word.word] = [(entry.lesson, entry.line)]\n",
    "    else:\n",
    "        new_word_index_dict[entry.word.word].append((entry.lesson, entry.line))\n",
    "tf = time()\n",
    "print(f\"time to fetch index word dictionary from db directly: {tf-ti}\")    "
   ]
  },
  {
   "cell_type": "code",
   "execution_count": 27,
   "id": "788592ae-b9e8-4a57-99ec-1e76302461e0",
   "metadata": {},
   "outputs": [
    {
     "data": {
      "text/plain": [
       "[(9, 5),\n",
       " (10, 2),\n",
       " (10, 3),\n",
       " (13, 6),\n",
       " (13, 14),\n",
       " (14, 5),\n",
       " (26, 3),\n",
       " (26, 15),\n",
       " (28, 7),\n",
       " (28, 11),\n",
       " (35, 9),\n",
       " (78, 2),\n",
       " (78, 20),\n",
       " (80, 12),\n",
       " (84, 8),\n",
       " (88, 4),\n",
       " (88, 7),\n",
       " (90, 1)]"
      ]
     },
     "execution_count": 27,
     "metadata": {},
     "output_type": "execute_result"
    }
   ],
   "source": [
    "new_word_index_dict[\"casa\"]"
   ]
  },
  {
   "cell_type": "code",
   "execution_count": 28,
   "id": "c9f9a21c-9134-4251-b304-78e4fed7bdb5",
   "metadata": {},
   "outputs": [
    {
     "name": "stdout",
     "output_type": "stream",
     "text": [
      "time to fetch word dictionary with only tonic_accent from db : 0.031355857849121094\n"
     ]
    }
   ],
   "source": [
    "stmt = select(Word)\n",
    "new_dict = {}\n",
    "ti = time()\n",
    "for word in session.scalars(stmt):\n",
    "    new_dict[word.word] = pickle.loads(word.tonic_accent)\n",
    "tf = time()\n",
    "print(f\"time to fetch word dictionary with only tonic_accent from db : {tf-ti}\")"
   ]
  },
  {
   "cell_type": "code",
   "execution_count": 29,
   "id": "12cb5c1b-90f1-4369-98b3-41ae88c781b8",
   "metadata": {},
   "outputs": [
    {
     "data": {
      "text/plain": [
       "[('ca', True), ('sa', False)]"
      ]
     },
     "execution_count": 29,
     "metadata": {},
     "output_type": "execute_result"
    }
   ],
   "source": [
    "new_dict[\"casa\"]"
   ]
  },
  {
   "cell_type": "code",
   "execution_count": 30,
   "id": "8ee9fe4a-30b7-40c2-88cf-ff99af3dbf7e",
   "metadata": {},
   "outputs": [
    {
     "name": "stdout",
     "output_type": "stream",
     "text": [
      "time to write word dictionnary to pickle file 0.005590200424194336s\n"
     ]
    }
   ],
   "source": [
    "f = open('testdummy.dat', 'wb')\n",
    "ti = time()\n",
    "pickle.dump(word_dict, f)\n",
    "tf = time()\n",
    "print(f\"time to write word dictionnary to pickle file {tf-ti}s\")"
   ]
  },
  {
   "cell_type": "code",
   "execution_count": 31,
   "id": "4727ec90-ff0a-47f5-b0a1-bdf8fb34aa4f",
   "metadata": {},
   "outputs": [
    {
     "name": "stdout",
     "output_type": "stream",
     "text": [
      "time to read word dictionnary from pickle file 0.007337093353271484s\n"
     ]
    }
   ],
   "source": [
    "f = open('testdummy.dat', 'rb')\n",
    "ti = time()\n",
    "pickle.load(f)\n",
    "tf = time()\n",
    "print(f\"time to read word dictionnary from pickle file {tf-ti}s\")"
   ]
  },
  {
   "cell_type": "code",
   "execution_count": 32,
   "id": "8cd2b98a-51ad-44a9-9ded-307e7f574d22",
   "metadata": {},
   "outputs": [
    {
     "name": "stdout",
     "output_type": "stream",
     "text": [
      "time to write all sentences to db : 0.15726518630981445\n"
     ]
    }
   ],
   "source": [
    "from lesson_parser import get_words\n",
    "from tonic_accent import get_sentences\n",
    "\n",
    "ti = time()\n",
    "from sqlalchemy.orm import Session\n",
    "engine.echo=False\n",
    "with Session(engine) as session:\n",
    "    for lesson in range(1, 101):\n",
    "        sentences = get_sentences(lesson)\n",
    "        for line, sentence in enumerate(sentences):\n",
    "            s_obj = Sentence(\n",
    "                lesson = lesson,\n",
    "                line = line,\n",
    "                sentence = sentence\n",
    "            )\n",
    "            session.add(s_obj)\n",
    "    session.commit()\n",
    "\n",
    "tf = time()\n",
    "print(f\"time to write all sentences to db : {tf-ti}\")"
   ]
  },
  {
   "cell_type": "code",
   "execution_count": 33,
   "id": "9acf2a10-4961-436a-b612-e5fc18529647",
   "metadata": {},
   "outputs": [
    {
     "name": "stdout",
     "output_type": "stream",
     "text": [
      "50 11 S10-¡Ay, cuánto se lo agradezco! Es usted muy amable. \n",
      "time to fetch word dictionary from db : 0.002752065658569336\n"
     ]
    }
   ],
   "source": [
    "from sqlalchemy import and_\n",
    "stmt = select(Sentence).where(and_(Sentence.line == 11, Sentence.lesson == 50))\n",
    "ti = time()\n",
    "for s_obj in session.scalars(stmt):\n",
    "    print(s_obj.lesson, s_obj.line, s_obj.sentence)\n",
    "tf = time()\n",
    "print(f\"time to fetch word dictionary from db : {tf-ti}\")"
   ]
  },
  {
   "cell_type": "code",
   "execution_count": 34,
   "id": "da9883d7-ffa9-4cd9-be9a-5c9b9359a72b",
   "metadata": {},
   "outputs": [
    {
     "name": "stdout",
     "output_type": "stream",
     "text": [
      "Word(id=326, word='ganas', comment=None)\n",
      "13, 5 : S04-Lo siento, yo tampoco tengo ganas de ir de copas. \n",
      "13, 13 : T04-Mi mujer tampoco tiene ganas de ir de copas. \n",
      "14, 3 : S02-No, no tengo ganas de hacer nada. \n",
      "25, 8 : S07-Y si tengo ganas de mejor tiempo, \n",
      "30, 2 : S01-Nochebuena, Nochevieja, Reyes ¡Tengo ganas de que acaben estas fiestas! \n",
      "30, 12 : T01-Tengo ganas de que los Reyes Magos me traigan regalos el seis de enero. \n",
      "35, 9 : S08-No tengo mucha hambre ni muchas ganas de beber Creo que me voy a quedar en casa. \n",
      "35, 11 : S10-En absoluto, lo siento. Solo tengo ganas de algo ligero un puré de verduras, agua con gas y dormir. \n",
      "49, 4 : S03-La gente se vuelve vaga nadie tiene ganas de ir por un sello al estanco o por un sobre a la papelería. \n",
      "59, 15 : S14-Venga cara ganas tú, cruz gano yo. \n",
      "89, 18 : S17-¿A que te mueres de ganas de probarla? \n"
     ]
    }
   ],
   "source": [
    "word = \"ganas\"\n",
    "stmt = select(Word).where(Word.word == word)\n",
    "word_obj = session.scalars(stmt).one()\n",
    "print(word_obj)\n",
    "for entry in word_obj.index_ref_entries:\n",
    "    stmt = select(Sentence).where(and_(Sentence.lesson == entry.lesson, Sentence.line == entry.line))\n",
    "    for s_obj in session.scalars(stmt):\n",
    "        print(f\"{s_obj.lesson}, {s_obj.line} : {s_obj.sentence}\")\n",
    "    "
   ]
  },
  {
   "cell_type": "code",
   "execution_count": 35,
   "id": "0d0b7bfa-e589-43dd-b705-602d18a54f8c",
   "metadata": {},
   "outputs": [],
   "source": [
    "def store_lesson_error(lesson_number, sentences, marked_lines_numbers):\n",
    "    with Session(engine) as session:\n",
    "        for line, s in enumerate(sentences):\n",
    "            if line in marked_lines_numbers:\n",
    "                s_obj = MarkedSentence(\n",
    "                    lesson = lesson_number,\n",
    "                    line = line,\n",
    "                    date_time = datetime.datetime.now(),\n",
    "                    sentence = sentences[line]\n",
    "                )\n",
    "                session.add(s_obj)\n",
    "        session.commit()\n",
    "\n",
    "                    \n",
    "                \n",
    "    "
   ]
  },
  {
   "cell_type": "code",
   "execution_count": 36,
   "id": "6a66f12e-02c2-477f-a324-52837935b5ae",
   "metadata": {},
   "outputs": [
    {
     "data": {
      "text/plain": [
       "['N4-Lec<b>ción</b> <b>cua</b>rta',\n",
       " 'S00-TITLE-Prese<mark>nta<b>cio</b>n</mark>es',\n",
       " 'S01-Él es <b>Ra</b>fa, <mark>mi her<b>ma</b>no, y <b>e</b>lla es Luz, mi her<b>ma</b>na.  </mark>',\n",
       " '<mark> S02-Y él es mi <b>pa</b>dre, </mark>Mi<b>guel</b>.',\n",
       " 'S03-<b>Mu</b>cho <b>gus</b>to. ¿<b>Có</b>mo es<b>tá</b> us<b>ted</b>?',\n",
       " 'S04-Muy bien, <b>pe</b>ro ¡<b>h</b><mark><b>á</b>blame d</mark>e tú, por fa<b>vor</b>!',\n",
       " 'S05-¡<b>Va</b>le!',\n",
       " 'T00-TRANSLA<mark>TE-Ejer<b>ci</b>cio </mark>1 – Tra<b>duz</b>ca',\n",
       " 'T01-Él es mi <b>pa</b>dre.',\n",
       " 'T02-Y <b>e</b>lla es mi her<b>ma</b>na.',\n",
       " 'T03-<b>Mu</b>cho <b></b><mark><b>gus</b>to.  </mark>',\n",
       " '<mark> T04-<b>Há</b>blame de </mark>tú, por fa<b>vor</b>.',\n",
       " 'T05-¿<b>Có</b>mo es<b>tá</b> us<b>ted</b>?']"
      ]
     },
     "execution_count": 36,
     "metadata": {},
     "output_type": "execute_result"
    }
   ],
   "source": [
    "sentences = ['N4-Lec<b>ción</b> <b>cua</b>rta',\n",
    " 'S00-TITLE-Prese<mark>nta<b>cio</b>n</mark>es',\n",
    " 'S01-Él es <b>Ra</b>fa, <mark>mi her<b>ma</b>no, y <b>e</b>lla es Luz, mi her<b>ma</b>na.  </mark>',\n",
    " '<mark> S02-Y él es mi <b>pa</b>dre, </mark>Mi<b>guel</b>.',\n",
    " 'S03-<b>Mu</b>cho <b>gus</b>to. ¿<b>Có</b>mo es<b>tá</b> us<b>ted</b>?',\n",
    " 'S04-Muy bien, <b>pe</b>ro ¡<b>h</b><mark><b>á</b>blame d</mark>e tú, por fa<b>vor</b>!',\n",
    " 'S05-¡<b>Va</b>le!',\n",
    " 'T00-TRANSLA<mark>TE-Ejer<b>ci</b>cio </mark>1 – Tra<b>duz</b>ca',\n",
    " 'T01-Él es mi <b>pa</b>dre.',\n",
    " 'T02-Y <b>e</b>lla es mi her<b>ma</b>na.',\n",
    " 'T03-<b>Mu</b>cho <b></b><mark><b>gus</b>to.  </mark>',\n",
    " '<mark> T04-<b>Há</b>blame de </mark>tú, por fa<b>vor</b>.',\n",
    " 'T05-¿<b>Có</b>mo es<b>tá</b> us<b>ted</b>?']\n",
    "\n",
    "sentences"
   ]
  },
  {
   "cell_type": "code",
   "execution_count": 37,
   "id": "39aa1bb0-e775-49bc-97f2-3a65e8a752f6",
   "metadata": {},
   "outputs": [],
   "source": [
    "marked_lines_numbers = {1: True, 2: True, 3: True, 5: True, 7: True, 10: True, 11: True}"
   ]
  },
  {
   "cell_type": "code",
   "execution_count": 38,
   "id": "8afff230-74df-4397-8a9e-827be6bab85a",
   "metadata": {},
   "outputs": [
    {
     "data": {
      "text/plain": [
       "4"
      ]
     },
     "execution_count": 38,
     "metadata": {},
     "output_type": "execute_result"
    }
   ],
   "source": [
    "lesson_number = 4\n",
    "lesson_number"
   ]
  },
  {
   "cell_type": "code",
   "execution_count": 39,
   "id": "b068ad43-bc48-497c-9fd7-89cee97a9a9c",
   "metadata": {},
   "outputs": [],
   "source": [
    "store_lesson_error(lesson_number, sentences, marked_lines_numbers)"
   ]
  },
  {
   "cell_type": "code",
   "execution_count": 40,
   "id": "e923bb04-6e8f-48f0-bf06-66d8a7d31c6f",
   "metadata": {},
   "outputs": [
    {
     "name": "stdout",
     "output_type": "stream",
     "text": [
      "Sentence(id=1, date_time = datetime.datetime(2024, 8, 26, 14, 51, 0, 279989), lesson=4, line=1, sentence ='S00-TITLE-Prese<mark>nta<b>cio</b>n</mark>es', comment=None)\n",
      "Sentence(id=2, date_time = datetime.datetime(2024, 8, 26, 14, 51, 0, 280221), lesson=4, line=2, sentence ='S01-Él es <b>Ra</b>fa, <mark>mi her<b>ma</b>no, y <b>e</b>lla es Luz, mi her<b>ma</b>na.  </mark>', comment=None)\n",
      "Sentence(id=3, date_time = datetime.datetime(2024, 8, 26, 14, 51, 0, 280261), lesson=4, line=3, sentence ='<mark> S02-Y él es mi <b>pa</b>dre, </mark>Mi<b>guel</b>.', comment=None)\n",
      "Sentence(id=4, date_time = datetime.datetime(2024, 8, 26, 14, 51, 0, 280295), lesson=4, line=5, sentence ='S04-Muy bien, <b>pe</b>ro ¡<b>h</b><mark><b>á</b>blame d</mark>e tú, por fa<b>vor</b>!', comment=None)\n",
      "Sentence(id=5, date_time = datetime.datetime(2024, 8, 26, 14, 51, 0, 280331), lesson=4, line=7, sentence ='T00-TRANSLA<mark>TE-Ejer<b>ci</b>cio </mark>1 – Tra<b>duz</b>ca', comment=None)\n",
      "Sentence(id=6, date_time = datetime.datetime(2024, 8, 26, 14, 51, 0, 280363), lesson=4, line=10, sentence ='T03-<b>Mu</b>cho <b></b><mark><b>gus</b>to.  </mark>', comment=None)\n",
      "Sentence(id=7, date_time = datetime.datetime(2024, 8, 26, 14, 51, 0, 280392), lesson=4, line=11, sentence ='<mark> T04-<b>Há</b>blame de </mark>tú, por fa<b>vor</b>.', comment=None)\n"
     ]
    }
   ],
   "source": [
    "from sqlalchemy import select\n",
    "stmt = select(MarkedSentence)\n",
    "\n",
    "for marked_line in session.scalars(stmt):\n",
    "    print(marked_line)"
   ]
  },
  {
   "cell_type": "code",
   "execution_count": 41,
   "id": "0dd2cc2a-89ef-47d2-9cea-63abcdac10a0",
   "metadata": {},
   "outputs": [
    {
     "data": {
      "text/plain": [
       "['N5-Lec<b>ción</b> <b>quin</b>ta',\n",
       " 'S00-TITLE-Entre<b>vis</b>ta de tra<b>ba</b>jo',\n",
       " 'S01-¿<b>Cu</b><mark><b>á</b>ntos i<b>dio</b>mas <b>ha</b>bla us<b>ted</b>?  </mark>',\n",
       " '<mark> S02-<b>Ha</b>blo in<b>glés</b> y fra</mark>n<b>cés</b>.',\n",
       " 'S03-¡<mark>Enhora<b>bue</b>na! ¿Ha<b>bla</b>mos in<b>glés</b> en<b>ton</b>ces?  </mark>',\n",
       " '<mark> S04-E<b>jem</b>, el in<b>glés</b> lo <b>le</b>o, <b>pe</b>ro no lo <b>ha</b>blo muy bien.  </mark>',\n",
       " '<mark> S05-Sí, <b>cla</b>ro</mark> Y el fran<b>cés</b>, ¿lo <b>ha</b>bla o <b>so</b>lo lo es<b>cri</b>be?',\n",
       " 'T00-TRANSLATE-Ejer<b>ci</b>cio 1 – Tra<b>duz</b>ca',\n",
       " 'T01-¿<b>H</b><mark><b>a</b>bla us<b>ted</b> in<b>glés</b>?  </mark>',\n",
       " '<mark> T02-¿<b>Cuá</b>ntos i<b>dio</b>mas es<b>cri</b>be us<b>te</b></mark><b>d</b>?',\n",
       " 'T03-No <b>ha</b>blo fran<b>cés</b>.',\n",
       " 'T04-¡Enhora<b>bue</b>na!',\n",
       " 'T05-Lo <b>le</b>o, <b>pe</b>ro no lo es<b>cri</b>bo.']"
      ]
     },
     "execution_count": 41,
     "metadata": {},
     "output_type": "execute_result"
    }
   ],
   "source": [
    "sentences = ['N5-Lec<b>ción</b> <b>quin</b>ta',\n",
    " 'S00-TITLE-Entre<b>vis</b>ta de tra<b>ba</b>jo',\n",
    " 'S01-¿<b>Cu</b><mark><b>á</b>ntos i<b>dio</b>mas <b>ha</b>bla us<b>ted</b>?  </mark>',\n",
    " '<mark> S02-<b>Ha</b>blo in<b>glés</b> y fra</mark>n<b>cés</b>.',\n",
    " 'S03-¡<mark>Enhora<b>bue</b>na! ¿Ha<b>bla</b>mos in<b>glés</b> en<b>ton</b>ces?  </mark>',\n",
    " '<mark> S04-E<b>jem</b>, el in<b>glés</b> lo <b>le</b>o, <b>pe</b>ro no lo <b>ha</b>blo muy bien.  </mark>',\n",
    " '<mark> S05-Sí, <b>cla</b>ro</mark> Y el fran<b>cés</b>, ¿lo <b>ha</b>bla o <b>so</b>lo lo es<b>cri</b>be?',\n",
    " 'T00-TRANSLATE-Ejer<b>ci</b>cio 1 – Tra<b>duz</b>ca',\n",
    " 'T01-¿<b>H</b><mark><b>a</b>bla us<b>ted</b> in<b>glés</b>?  </mark>',\n",
    " '<mark> T02-¿<b>Cuá</b>ntos i<b>dio</b>mas es<b>cri</b>be us<b>te</b></mark><b>d</b>?',\n",
    " 'T03-No <b>ha</b>blo fran<b>cés</b>.',\n",
    " 'T04-¡Enhora<b>bue</b>na!',\n",
    " 'T05-Lo <b>le</b>o, <b>pe</b>ro no lo es<b>cri</b>bo.']\n",
    "\n",
    "sentences"
   ]
  },
  {
   "cell_type": "code",
   "execution_count": 42,
   "id": "dfb79c2b-6854-4889-86db-aa73b30f6037",
   "metadata": {},
   "outputs": [
    {
     "data": {
      "text/plain": [
       "{2: True, 3: True, 4: True, 5: True, 6: True, 8: True, 9: True}"
      ]
     },
     "execution_count": 42,
     "metadata": {},
     "output_type": "execute_result"
    }
   ],
   "source": [
    "marked_lines_numbers = {2: True, 3: True, 4: True, 5: True, 6: True, 8: True, 9: True}\n",
    "\n",
    "marked_lines_numbers"
   ]
  },
  {
   "cell_type": "code",
   "execution_count": 43,
   "id": "72ecdf5f-c91b-4c64-a6c4-f7b842a374d6",
   "metadata": {},
   "outputs": [
    {
     "data": {
      "text/plain": [
       "5"
      ]
     },
     "execution_count": 43,
     "metadata": {},
     "output_type": "execute_result"
    }
   ],
   "source": [
    "lesson_number = 5\n",
    "lesson_number"
   ]
  },
  {
   "cell_type": "code",
   "execution_count": 44,
   "id": "2537118c-8f31-4926-a293-ce639db334d7",
   "metadata": {},
   "outputs": [],
   "source": [
    "store_lesson_error(lesson_number, sentences, marked_lines_numbers)"
   ]
  },
  {
   "cell_type": "code",
   "execution_count": 45,
   "id": "665836c2-9b18-40b7-82b2-42ed465c5f5e",
   "metadata": {},
   "outputs": [
    {
     "data": {
      "text/plain": [
       "6"
      ]
     },
     "execution_count": 45,
     "metadata": {},
     "output_type": "execute_result"
    }
   ],
   "source": [
    "lesson_number = 6\n",
    "lesson_number"
   ]
  },
  {
   "cell_type": "code",
   "execution_count": 46,
   "id": "58cb7b21-da12-4161-8b2f-e0fa847a9097",
   "metadata": {},
   "outputs": [
    {
     "data": {
      "text/plain": [
       "{3: True, 8: True, 9: True, 10: True, 11: True}"
      ]
     },
     "execution_count": 46,
     "metadata": {},
     "output_type": "execute_result"
    }
   ],
   "source": [
    "marked_lines_numbers = {3: True, 8: True, 9: True, 10: True, 11: True}\n",
    "marked_lines_numbers"
   ]
  },
  {
   "cell_type": "code",
   "execution_count": 47,
   "id": "765d5d0c-4183-4bd2-9290-212e92684f0c",
   "metadata": {},
   "outputs": [
    {
     "data": {
      "text/plain": [
       "['N6-Lec<b>ción</b> <b>sex</b>ta',\n",
       " 'S00-TITLE-A las <b>sie</b>te ¡de la ma<b>ña</b>na!',\n",
       " 'S01-¿En qué tra<b>ba</b>jas?',\n",
       " 'S02-Soy enfer<b>m</b><mark><b>e</b>ra, tra<b>ba</b>jo en el hospi<b>ta</b></mark><b>l</b>.',\n",
       " 'S03-¿A qué <b>ho</b>ra ter<b>mi</b>nas?',\n",
       " 'S04-Ter<b>mi</b>no a las <b>sie</b>te.',\n",
       " 'S05-Pues te in<b>vi</b>to al <b>ci</b>ne a las <b>o</b>cho, ¿<b>va</b>le?',\n",
       " 'S06-<b>Gra</b>cias, <b>pe</b>ro ter<b>mi</b>no a las <b>sie</b>te ¡de la ma<b>ña</b>na!',\n",
       " 'ST00-TRANSLATE-Ejer<b>ci</b>cio 1 – Tra<b>d<mark>u</mark>z</b>ca',\n",
       " 'ST01-¿<b>E</b>res <mark>enfer<b>me</b>ra?  </mark>',\n",
       " '<mark> ST02-¿Tra<b>ba</b>jas en el hospi<b>tal</b>?  </mark>',\n",
       " '<mark> ST03-No, tra<b>ba</b>jo en e</mark>l <b>ci</b>ne.',\n",
       " 'ST04-Te in<b>vi</b>to a las <b>o</b>cho, ¿<b>va</b>le?',\n",
       " 'ST05-¿Ter<b>mi</b>nas a las <b>sie</b>te?']"
      ]
     },
     "execution_count": 47,
     "metadata": {},
     "output_type": "execute_result"
    }
   ],
   "source": [
    "sentences = ['N6-Lec<b>ción</b> <b>sex</b>ta',\n",
    " 'S00-TITLE-A las <b>sie</b>te ¡de la ma<b>ña</b>na!',\n",
    " 'S01-¿En qué tra<b>ba</b>jas?',\n",
    " 'S02-Soy enfer<b>m</b><mark><b>e</b>ra, tra<b>ba</b>jo en el hospi<b>ta</b></mark><b>l</b>.',\n",
    " 'S03-¿A qué <b>ho</b>ra ter<b>mi</b>nas?',\n",
    " 'S04-Ter<b>mi</b>no a las <b>sie</b>te.',\n",
    " 'S05-Pues te in<b>vi</b>to al <b>ci</b>ne a las <b>o</b>cho, ¿<b>va</b>le?',\n",
    " 'S06-<b>Gra</b>cias, <b>pe</b>ro ter<b>mi</b>no a las <b>sie</b>te ¡de la ma<b>ña</b>na!',\n",
    " 'ST00-TRANSLATE-Ejer<b>ci</b>cio 1 – Tra<b>d<mark>u</mark>z</b>ca',\n",
    " 'ST01-¿<b>E</b>res <mark>enfer<b>me</b>ra?  </mark>',\n",
    " '<mark> ST02-¿Tra<b>ba</b>jas en el hospi<b>tal</b>?  </mark>',\n",
    " '<mark> ST03-No, tra<b>ba</b>jo en e</mark>l <b>ci</b>ne.',\n",
    " 'ST04-Te in<b>vi</b>to a las <b>o</b>cho, ¿<b>va</b>le?',\n",
    " 'ST05-¿Ter<b>mi</b>nas a las <b>sie</b>te?']\n",
    "\n",
    "sentences"
   ]
  },
  {
   "cell_type": "code",
   "execution_count": 48,
   "id": "a9e49ebd-2f47-47ae-bf48-af8ad0603a38",
   "metadata": {},
   "outputs": [],
   "source": [
    "store_lesson_error(lesson_number, sentences, marked_lines_numbers)"
   ]
  },
  {
   "cell_type": "code",
   "execution_count": 49,
   "id": "a25ede1f-2e90-46c2-b767-8d9c9cb07e4a",
   "metadata": {},
   "outputs": [
    {
     "name": "stdout",
     "output_type": "stream",
     "text": [
      "Sentence(id=1, date_time = datetime.datetime(2024, 8, 26, 14, 51, 0, 279989), lesson=4, line=1, sentence ='S00-TITLE-Prese<mark>nta<b>cio</b>n</mark>es', comment=None)\n",
      "Sentence(id=2, date_time = datetime.datetime(2024, 8, 26, 14, 51, 0, 280221), lesson=4, line=2, sentence ='S01-Él es <b>Ra</b>fa, <mark>mi her<b>ma</b>no, y <b>e</b>lla es Luz, mi her<b>ma</b>na.  </mark>', comment=None)\n",
      "Sentence(id=3, date_time = datetime.datetime(2024, 8, 26, 14, 51, 0, 280261), lesson=4, line=3, sentence ='<mark> S02-Y él es mi <b>pa</b>dre, </mark>Mi<b>guel</b>.', comment=None)\n",
      "Sentence(id=4, date_time = datetime.datetime(2024, 8, 26, 14, 51, 0, 280295), lesson=4, line=5, sentence ='S04-Muy bien, <b>pe</b>ro ¡<b>h</b><mark><b>á</b>blame d</mark>e tú, por fa<b>vor</b>!', comment=None)\n",
      "Sentence(id=5, date_time = datetime.datetime(2024, 8, 26, 14, 51, 0, 280331), lesson=4, line=7, sentence ='T00-TRANSLA<mark>TE-Ejer<b>ci</b>cio </mark>1 – Tra<b>duz</b>ca', comment=None)\n",
      "Sentence(id=6, date_time = datetime.datetime(2024, 8, 26, 14, 51, 0, 280363), lesson=4, line=10, sentence ='T03-<b>Mu</b>cho <b></b><mark><b>gus</b>to.  </mark>', comment=None)\n",
      "Sentence(id=7, date_time = datetime.datetime(2024, 8, 26, 14, 51, 0, 280392), lesson=4, line=11, sentence ='<mark> T04-<b>Há</b>blame de </mark>tú, por fa<b>vor</b>.', comment=None)\n",
      "Sentence(id=8, date_time = datetime.datetime(2024, 8, 26, 14, 51, 10, 833773), lesson=5, line=2, sentence ='S01-¿<b>Cu</b><mark><b>á</b>ntos i<b>dio</b>mas <b>ha</b>bla us<b>ted</b>?  </mark>', comment=None)\n",
      "Sentence(id=9, date_time = datetime.datetime(2024, 8, 26, 14, 51, 10, 833949), lesson=5, line=3, sentence ='<mark> S02-<b>Ha</b>blo in<b>glés</b> y fra</mark>n<b>cés</b>.', comment=None)\n",
      "Sentence(id=10, date_time = datetime.datetime(2024, 8, 26, 14, 51, 10, 833986), lesson=5, line=4, sentence ='S03-¡<mark>Enhora<b>bue</b>na! ¿Ha<b>bla</b>mos in<b>glés</b> en<b>ton</b>ces?  </mark>', comment=None)\n",
      "Sentence(id=11, date_time = datetime.datetime(2024, 8, 26, 14, 51, 10, 834018), lesson=5, line=5, sentence ='<mark> S04-E<b>jem</b>, el in<b>glés</b> lo <b>le</b>o, <b>pe</b>ro no lo <b>ha</b>blo muy bien.  </mark>', comment=None)\n",
      "Sentence(id=12, date_time = datetime.datetime(2024, 8, 26, 14, 51, 10, 834050), lesson=5, line=6, sentence ='<mark> S05-Sí, <b>cla</b>ro</mark> Y el fran<b>cés</b>, ¿lo <b>ha</b>bla o <b>so</b>lo lo es<b>cri</b>be?', comment=None)\n",
      "Sentence(id=13, date_time = datetime.datetime(2024, 8, 26, 14, 51, 10, 834080), lesson=5, line=8, sentence ='T01-¿<b>H</b><mark><b>a</b>bla us<b>ted</b> in<b>glés</b>?  </mark>', comment=None)\n",
      "Sentence(id=14, date_time = datetime.datetime(2024, 8, 26, 14, 51, 10, 834111), lesson=5, line=9, sentence ='<mark> T02-¿<b>Cuá</b>ntos i<b>dio</b>mas es<b>cri</b>be us<b>te</b></mark><b>d</b>?', comment=None)\n",
      "Sentence(id=15, date_time = datetime.datetime(2024, 8, 26, 14, 51, 17, 31888), lesson=6, line=3, sentence ='S02-Soy enfer<b>m</b><mark><b>e</b>ra, tra<b>ba</b>jo en el hospi<b>ta</b></mark><b>l</b>.', comment=None)\n",
      "Sentence(id=16, date_time = datetime.datetime(2024, 8, 26, 14, 51, 17, 32093), lesson=6, line=8, sentence ='ST00-TRANSLATE-Ejer<b>ci</b>cio 1 – Tra<b>d<mark>u</mark>z</b>ca', comment=None)\n",
      "Sentence(id=17, date_time = datetime.datetime(2024, 8, 26, 14, 51, 17, 32130), lesson=6, line=9, sentence ='ST01-¿<b>E</b>res <mark>enfer<b>me</b>ra?  </mark>', comment=None)\n",
      "Sentence(id=18, date_time = datetime.datetime(2024, 8, 26, 14, 51, 17, 32161), lesson=6, line=10, sentence ='<mark> ST02-¿Tra<b>ba</b>jas en el hospi<b>tal</b>?  </mark>', comment=None)\n",
      "Sentence(id=19, date_time = datetime.datetime(2024, 8, 26, 14, 51, 17, 32192), lesson=6, line=11, sentence ='<mark> ST03-No, tra<b>ba</b>jo en e</mark>l <b>ci</b>ne.', comment=None)\n"
     ]
    }
   ],
   "source": [
    "stmt = select(MarkedSentence)\n",
    "\n",
    "for marked_line in session.scalars(stmt):\n",
    "    print(marked_line)"
   ]
  },
  {
   "cell_type": "code",
   "execution_count": 50,
   "id": "cd63c391-21f1-4cf5-83e8-90de5d48919a",
   "metadata": {},
   "outputs": [
    {
     "data": {
      "text/plain": [
       "datetime.datetime(2024, 8, 26, 14, 51, 16, 32192)"
      ]
     },
     "execution_count": 50,
     "metadata": {},
     "output_type": "execute_result"
    }
   ],
   "source": [
    "from datetime import timedelta\n",
    "stmt = select(MarkedSentence)\n",
    "\n",
    "history = []\n",
    "for marked_line_entry in session.scalars(stmt):\n",
    "    history.append(marked_line_entry)\n",
    "\n",
    "tb = history[0].date_time + timedelta(0, 1)\n",
    "te = history[-1].date_time - timedelta(0, 1)\n",
    "te"
   ]
  },
  {
   "cell_type": "code",
   "execution_count": 51,
   "id": "732cb7a5-036d-4601-a00d-c6cd7af192c0",
   "metadata": {},
   "outputs": [
    {
     "name": "stdout",
     "output_type": "stream",
     "text": [
      "Sentence(id=8, date_time = datetime.datetime(2024, 8, 26, 14, 51, 10, 833773), lesson=5, line=2, sentence ='S01-¿<b>Cu</b><mark><b>á</b>ntos i<b>dio</b>mas <b>ha</b>bla us<b>ted</b>?  </mark>', comment=None)\n",
      "Sentence(id=9, date_time = datetime.datetime(2024, 8, 26, 14, 51, 10, 833949), lesson=5, line=3, sentence ='<mark> S02-<b>Ha</b>blo in<b>glés</b> y fra</mark>n<b>cés</b>.', comment=None)\n",
      "Sentence(id=10, date_time = datetime.datetime(2024, 8, 26, 14, 51, 10, 833986), lesson=5, line=4, sentence ='S03-¡<mark>Enhora<b>bue</b>na! ¿Ha<b>bla</b>mos in<b>glés</b> en<b>ton</b>ces?  </mark>', comment=None)\n",
      "Sentence(id=11, date_time = datetime.datetime(2024, 8, 26, 14, 51, 10, 834018), lesson=5, line=5, sentence ='<mark> S04-E<b>jem</b>, el in<b>glés</b> lo <b>le</b>o, <b>pe</b>ro no lo <b>ha</b>blo muy bien.  </mark>', comment=None)\n",
      "Sentence(id=12, date_time = datetime.datetime(2024, 8, 26, 14, 51, 10, 834050), lesson=5, line=6, sentence ='<mark> S05-Sí, <b>cla</b>ro</mark> Y el fran<b>cés</b>, ¿lo <b>ha</b>bla o <b>so</b>lo lo es<b>cri</b>be?', comment=None)\n",
      "Sentence(id=13, date_time = datetime.datetime(2024, 8, 26, 14, 51, 10, 834080), lesson=5, line=8, sentence ='T01-¿<b>H</b><mark><b>a</b>bla us<b>ted</b> in<b>glés</b>?  </mark>', comment=None)\n",
      "Sentence(id=14, date_time = datetime.datetime(2024, 8, 26, 14, 51, 10, 834111), lesson=5, line=9, sentence ='<mark> T02-¿<b>Cuá</b>ntos i<b>dio</b>mas es<b>cri</b>be us<b>te</b></mark><b>d</b>?', comment=None)\n"
     ]
    }
   ],
   "source": [
    "stmt = select(MarkedSentence).where(and_(MarkedSentence.date_time > tb, MarkedSentence.date_time < te))\n",
    "\n",
    "for marked_line in session.scalars(stmt):\n",
    "    print(marked_line)"
   ]
  },
  {
   "cell_type": "code",
   "execution_count": 40,
   "id": "8cae3427-8b3d-40a4-b4fa-17a5b6ab57f7",
   "metadata": {},
   "outputs": [
    {
     "name": "stdout",
     "output_type": "stream",
     "text": [
      "7\n",
      "33\n",
      "45\n"
     ]
    },
    {
     "data": {
      "text/plain": [
       "datetime.datetime(2024, 8, 26, 7, 33, 45, 965149)"
      ]
     },
     "execution_count": 40,
     "metadata": {},
     "output_type": "execute_result"
    }
   ],
   "source": [
    "import datetime\n",
    "import pytz\n",
    "utc_dt = datetime.datetime.now(tz=pytz.utc)\n",
    "amsterdam_tz = pytz.timezone(\"Europe/Paris\")\n",
    "local_amsterdam_time = amsterdam_tz.normalize(utc_dt)\n",
    "print(local_amsterdam_time.hour)\n",
    "print (local_amsterdam_time.minute)\n",
    "print (local_amsterdam_time.second)\n",
    "local_amsterdam_time.now()"
   ]
  },
  {
   "cell_type": "code",
   "execution_count": null,
   "id": "402a4b0f-7d3b-473b-98ca-854b41dde1d2",
   "metadata": {},
   "outputs": [],
   "source": []
  }
 ],
 "metadata": {
  "kernelspec": {
   "display_name": "Python 3 (ipykernel)",
   "language": "python",
   "name": "python3"
  },
  "language_info": {
   "codemirror_mode": {
    "name": "ipython",
    "version": 3
   },
   "file_extension": ".py",
   "mimetype": "text/x-python",
   "name": "python",
   "nbconvert_exporter": "python",
   "pygments_lexer": "ipython3",
   "version": "3.11.3"
  }
 },
 "nbformat": 4,
 "nbformat_minor": 5
}
