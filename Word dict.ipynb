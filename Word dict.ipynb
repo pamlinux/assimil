{
 "cells": [
  {
   "cell_type": "code",
   "execution_count": 1,
   "id": "f7ad5cdf-8572-4c44-98fb-d5b6125bb918",
   "metadata": {},
   "outputs": [],
   "source": [
    "from typing import List\n",
    "from typing import Optional\n",
    "from sqlalchemy import ForeignKey\n",
    "from sqlalchemy import String\n",
    "from sqlalchemy.orm import DeclarativeBase\n",
    "from sqlalchemy.orm import Mapped\n",
    "from sqlalchemy.orm import mapped_column\n",
    "from sqlalchemy.orm import relationship\n",
    "\n",
    "class Base(DeclarativeBase):\n",
    "    pass\n",
    "\n",
    "class Word(Base):\n",
    "    __tablename__ = \"word_dict\"\n",
    "    id: Mapped[int] = mapped_column(primary_key=True)\n",
    "    word: Mapped[str] \n",
    "    tonic_accent: Mapped[str]\n",
    "    comment: Mapped[Optional[str]]\n",
    "    index_ref_entries: Mapped[List[\"IndexEntry\"]] = relationship(\n",
    "        back_populates=\"word\", cascade=\"all, delete-orphan\"\n",
    "    )\n",
    "    def __repr__(self) -> str:\n",
    "        return f\"Word(id={self.id!r}, word={self.word!r}, comment={self.comment!r})\"\n",
    "\n",
    "class IndexEntry(Base):\n",
    "    __tablename__ = \"word_index\"\n",
    "    id : Mapped[int] = mapped_column(primary_key=True)\n",
    "    lesson : Mapped[int]\n",
    "    line : Mapped[int]\n",
    "    position : Mapped[Optional[int]]\n",
    "    word_id : Mapped[int] = mapped_column(ForeignKey(\"word_dict.id\"))\n",
    "    word : Mapped[\"Word\"] = relationship(back_populates=\"index_ref_entries\")\n",
    "    def __repr__(self) -> str:\n",
    "        return f\"IndexEntry(id={self.id!r}, word={self.word!r}, word_id={self.word_id}, lesson={self.lesson!r}, line={self.line!r}), position={self.position!r}\"\n",
    "        \n",
    "class Sentence(Base):\n",
    "    __tablename__ = \"sentences\"\n",
    "    id: Mapped[int] = mapped_column(primary_key=True)\n",
    "    sentence: Mapped[str] \n",
    "    comment: Mapped[Optional[str]]\n",
    "    lesson : Mapped[int]\n",
    "    line : Mapped[int]\n",
    "    def __repr__(self) -> str:\n",
    "        return f\"Sentence(id={self.id!r}, lesson={lesson!r}, numero={numero!r}, sentence ={self.sentence!r}, comment={self.comment!r})\""
   ]
  },
  {
   "cell_type": "code",
   "execution_count": 2,
   "id": "babb349e-f673-49d1-af7c-6680804909cc",
   "metadata": {},
   "outputs": [
    {
     "data": {
      "text/plain": [
       "'sqlite:///db/test_tonic_accent_word_dict.db'"
      ]
     },
     "execution_count": 2,
     "metadata": {},
     "output_type": "execute_result"
    }
   ],
   "source": [
    "from pathlib import Path\n",
    "\n",
    "db_directory = \"./db\"\n",
    "word_dict_filename = \"test_tonic_accent_word_dict.db\"\n",
    "\n",
    "db_name = Path(db_directory, word_dict_filename)\n",
    "db_url  = f\"sqlite:///{db_name}\"\n",
    "db_url"
   ]
  },
  {
   "cell_type": "code",
   "execution_count": 3,
   "id": "1cf0300e-815e-46d7-a48e-437f6d7880c5",
   "metadata": {},
   "outputs": [],
   "source": [
    "from sqlalchemy import create_engine\n",
    "engine = create_engine(db_url, echo=True)"
   ]
  },
  {
   "cell_type": "code",
   "execution_count": 4,
   "id": "dcdacead-e9e3-41cc-9c8c-651600d31c43",
   "metadata": {},
   "outputs": [
    {
     "name": "stdout",
     "output_type": "stream",
     "text": [
      "2024-08-20 09:23:53,305 INFO sqlalchemy.engine.Engine BEGIN (implicit)\n",
      "2024-08-20 09:23:53,306 INFO sqlalchemy.engine.Engine PRAGMA main.table_info(\"word_dict\")\n",
      "2024-08-20 09:23:53,306 INFO sqlalchemy.engine.Engine [raw sql] ()\n",
      "2024-08-20 09:23:53,307 INFO sqlalchemy.engine.Engine PRAGMA temp.table_info(\"word_dict\")\n",
      "2024-08-20 09:23:53,308 INFO sqlalchemy.engine.Engine [raw sql] ()\n",
      "2024-08-20 09:23:53,308 INFO sqlalchemy.engine.Engine PRAGMA main.table_info(\"word_index\")\n",
      "2024-08-20 09:23:53,309 INFO sqlalchemy.engine.Engine [raw sql] ()\n",
      "2024-08-20 09:23:53,310 INFO sqlalchemy.engine.Engine PRAGMA temp.table_info(\"word_index\")\n",
      "2024-08-20 09:23:53,310 INFO sqlalchemy.engine.Engine [raw sql] ()\n",
      "2024-08-20 09:23:53,311 INFO sqlalchemy.engine.Engine PRAGMA main.table_info(\"sentences\")\n",
      "2024-08-20 09:23:53,311 INFO sqlalchemy.engine.Engine [raw sql] ()\n",
      "2024-08-20 09:23:53,312 INFO sqlalchemy.engine.Engine PRAGMA temp.table_info(\"sentences\")\n",
      "2024-08-20 09:23:53,312 INFO sqlalchemy.engine.Engine [raw sql] ()\n",
      "2024-08-20 09:23:53,314 INFO sqlalchemy.engine.Engine \n",
      "CREATE TABLE word_dict (\n",
      "\tid INTEGER NOT NULL, \n",
      "\tword VARCHAR NOT NULL, \n",
      "\ttonic_accent VARCHAR NOT NULL, \n",
      "\tcomment VARCHAR, \n",
      "\tPRIMARY KEY (id)\n",
      ")\n",
      "\n",
      "\n",
      "2024-08-20 09:23:53,314 INFO sqlalchemy.engine.Engine [no key 0.00051s] ()\n",
      "2024-08-20 09:23:53,317 INFO sqlalchemy.engine.Engine \n",
      "CREATE TABLE sentences (\n",
      "\tid INTEGER NOT NULL, \n",
      "\tsentence VARCHAR NOT NULL, \n",
      "\tcomment VARCHAR, \n",
      "\tlesson INTEGER NOT NULL, \n",
      "\tline INTEGER NOT NULL, \n",
      "\tPRIMARY KEY (id)\n",
      ")\n",
      "\n",
      "\n",
      "2024-08-20 09:23:53,318 INFO sqlalchemy.engine.Engine [no key 0.00081s] ()\n",
      "2024-08-20 09:23:53,320 INFO sqlalchemy.engine.Engine \n",
      "CREATE TABLE word_index (\n",
      "\tid INTEGER NOT NULL, \n",
      "\tlesson INTEGER NOT NULL, \n",
      "\tline INTEGER NOT NULL, \n",
      "\tposition INTEGER, \n",
      "\tword_id INTEGER NOT NULL, \n",
      "\tPRIMARY KEY (id), \n",
      "\tFOREIGN KEY(word_id) REFERENCES word_dict (id)\n",
      ")\n",
      "\n",
      "\n",
      "2024-08-20 09:23:53,321 INFO sqlalchemy.engine.Engine [no key 0.00103s] ()\n",
      "2024-08-20 09:23:53,323 INFO sqlalchemy.engine.Engine COMMIT\n"
     ]
    }
   ],
   "source": [
    "Base.metadata.create_all(engine)"
   ]
  },
  {
   "cell_type": "code",
   "execution_count": 5,
   "id": "7b01be76-dc53-43e1-ba82-4f54f68813db",
   "metadata": {},
   "outputs": [
    {
     "name": "stdout",
     "output_type": "stream",
     "text": [
      "Analyzing lesson 1 with length 521\n",
      "Analyzing lesson 2 with length 631\n",
      "Analyzing lesson 3 with length 706\n",
      "Analyzing lesson 4 with length 670\n",
      "Analyzing lesson 5 with length 807\n",
      "Analyzing lesson 6 with length 785\n",
      "Analyzing lesson 7 with length 751\n",
      "Analyzing lesson 8 with length 1117\n",
      "Analyzing lesson 9 with length 1059\n",
      "Analyzing lesson 10 with length 1064\n",
      "word_dict.index_ref : [(9, 5), (10, 2), (10, 3)]\n",
      "Analyzing lesson 11 with length 1216\n",
      "Analyzing lesson 12 with length 1104\n",
      "Analyzing lesson 13 with length 1187\n",
      "word_dict.index_ref : [(9, 5), (10, 2), (10, 3), (13, 6), (13, 14)]\n",
      "Analyzing lesson 14 with length 954\n",
      "word_dict.index_ref : [(9, 5), (10, 2), (10, 3), (13, 6), (13, 14), (14, 5)]\n",
      "Analyzing lesson 15 with length 1058\n",
      "Analyzing lesson 16 with length 1392\n",
      "Analyzing lesson 17 with length 1143\n",
      "Analyzing lesson 18 with length 1307\n",
      "Analyzing lesson 19 with length 1206\n",
      "Analyzing lesson 20 with length 1273\n",
      "Analyzing lesson 21 with length 1297\n",
      "Analyzing lesson 22 with length 1353\n",
      "Analyzing lesson 23 with length 1504\n",
      "Analyzing lesson 24 with length 1367\n",
      "Analyzing lesson 25 with length 1642\n",
      "Analyzing lesson 26 with length 1478\n",
      "word_dict.index_ref : [(9, 5), (10, 2), (10, 3), (13, 6), (13, 14), (14, 5), (26, 3), (26, 15)]\n",
      "Analyzing lesson 27 with length 1551\n",
      "Analyzing lesson 28 with length 1317\n",
      "word_dict.index_ref : [(9, 5), (10, 2), (10, 3), (13, 6), (13, 14), (14, 5), (26, 3), (26, 15), (28, 7), (28, 11)]\n",
      "Analyzing lesson 29 with length 1871\n",
      "Analyzing lesson 30 with length 1683\n",
      "Analyzing lesson 31 with length 1685\n",
      "Analyzing lesson 32 with length 1715\n",
      "Analyzing lesson 33 with length 2007\n",
      "Analyzing lesson 34 with length 1561\n",
      "Analyzing lesson 35 with length 1448\n",
      "word_dict.index_ref : [(9, 5), (10, 2), (10, 3), (13, 6), (13, 14), (14, 5), (26, 3), (26, 15), (28, 7), (28, 11), (35, 9)]\n",
      "Analyzing lesson 36 with length 1775\n",
      "Analyzing lesson 37 with length 1885\n",
      "Analyzing lesson 38 with length 1846\n",
      "Analyzing lesson 39 with length 1632\n",
      "Analyzing lesson 40 with length 1607\n",
      "Analyzing lesson 41 with length 1743\n",
      "Analyzing lesson 42 with length 1678\n",
      "Analyzing lesson 43 with length 1860\n",
      "Analyzing lesson 44 with length 1809\n",
      "Analyzing lesson 45 with length 1624\n",
      "Analyzing lesson 46 with length 1831\n",
      "Analyzing lesson 47 with length 1823\n",
      "Analyzing lesson 48 with length 1703\n",
      "Analyzing lesson 49 with length 1624\n",
      "Analyzing lesson 50 with length 1984\n",
      "Analyzing lesson 51 with length 2104\n",
      "Analyzing lesson 52 with length 1873\n",
      "Analyzing lesson 53 with length 2046\n",
      "Analyzing lesson 54 with length 2149\n",
      "Analyzing lesson 55 with length 2039\n",
      "Analyzing lesson 56 with length 1643\n",
      "Analyzing lesson 57 with length 2186\n",
      "Analyzing lesson 58 with length 2349\n",
      "Analyzing lesson 59 with length 2340\n",
      "Analyzing lesson 60 with length 2265\n",
      "Analyzing lesson 61 with length 2512\n",
      "Analyzing lesson 62 with length 2295\n",
      "Analyzing lesson 63 with length 1768\n",
      "Analyzing lesson 64 with length 2012\n",
      "Analyzing lesson 65 with length 2269\n",
      "Analyzing lesson 66 with length 2365\n",
      "Analyzing lesson 67 with length 2227\n",
      "Analyzing lesson 68 with length 2499\n",
      "Analyzing lesson 69 with length 2458\n",
      "Analyzing lesson 70 with length 1728\n",
      "Analyzing lesson 71 with length 2129\n",
      "Analyzing lesson 72 with length 2443\n",
      "Analyzing lesson 73 with length 2281\n",
      "Analyzing lesson 74 with length 2338\n",
      "Analyzing lesson 75 with length 2196\n",
      "Analyzing lesson 76 with length 2310\n",
      "Analyzing lesson 77 with length 1808\n",
      "Analyzing lesson 78 with length 2383\n",
      "word_dict.index_ref : [(9, 5), (10, 2), (10, 3), (13, 6), (13, 14), (14, 5), (26, 3), (26, 15), (28, 7), (28, 11), (35, 9), (78, 2), (78, 20)]\n",
      "Analyzing lesson 79 with length 2329\n",
      "Analyzing lesson 80 with length 2400\n",
      "word_dict.index_ref : [(9, 5), (10, 2), (10, 3), (13, 6), (13, 14), (14, 5), (26, 3), (26, 15), (28, 7), (28, 11), (35, 9), (78, 2), (78, 20), (80, 12)]\n",
      "Analyzing lesson 81 with length 2303\n",
      "Analyzing lesson 82 with length 2491\n",
      "Analyzing lesson 83 with length 2566\n",
      "Analyzing lesson 84 with length 2108\n",
      "word_dict.index_ref : [(9, 5), (10, 2), (10, 3), (13, 6), (13, 14), (14, 5), (26, 3), (26, 15), (28, 7), (28, 11), (35, 9), (78, 2), (78, 20), (80, 12), (84, 8)]\n",
      "Analyzing lesson 85 with length 2427\n",
      "Analyzing lesson 86 with length 2548\n",
      "Analyzing lesson 87 with length 2356\n",
      "Analyzing lesson 88 with length 2439\n",
      "word_dict.index_ref : [(9, 5), (10, 2), (10, 3), (13, 6), (13, 14), (14, 5), (26, 3), (26, 15), (28, 7), (28, 11), (35, 9), (78, 2), (78, 20), (80, 12), (84, 8), (88, 4), (88, 7)]\n",
      "Analyzing lesson 89 with length 2624\n",
      "Analyzing lesson 90 with length 2448\n",
      "word_dict.index_ref : [(9, 5), (10, 2), (10, 3), (13, 6), (13, 14), (14, 5), (26, 3), (26, 15), (28, 7), (28, 11), (35, 9), (78, 2), (78, 20), (80, 12), (84, 8), (88, 4), (88, 7), (90, 1)]\n",
      "Analyzing lesson 91 with length 2213\n",
      "Analyzing lesson 92 with length 2572\n",
      "Analyzing lesson 93 with length 2562\n",
      "Analyzing lesson 94 with length 2944\n",
      "Analyzing lesson 95 with length 2875\n",
      "Analyzing lesson 96 with length 2868\n",
      "Analyzing lesson 97 with length 2811\n",
      "Analyzing lesson 98 with length 2050\n",
      "Analyzing lesson 99 with length 2418\n",
      "Analyzing lesson 100 with length 3465\n",
      "time to fetch word dictionary from html files : 0.14186406135559082\n"
     ]
    }
   ],
   "source": [
    "from time import time\n",
    "ti = time()\n",
    "from tonic_accent import global_word_dict as word_dict\n",
    "tf = time()\n",
    "print(f\"time to fetch word dictionary from html files : {tf-ti}\")\n"
   ]
  },
  {
   "cell_type": "code",
   "execution_count": 6,
   "id": "f9fe1b8b-b7dd-4e77-8ebe-0da91f7f90d3",
   "metadata": {},
   "outputs": [
    {
     "name": "stdout",
     "output_type": "stream",
     "text": [
      "Number of keys : 3555\n"
     ]
    }
   ],
   "source": [
    "keys_number = 0\n",
    "for key in word_dict:\n",
    "    keys_number += 1\n",
    "print(f\"Number of keys : {keys_number}\")"
   ]
  },
  {
   "cell_type": "code",
   "execution_count": 7,
   "id": "7b49699e-e359-4a95-937e-e2b27a670d60",
   "metadata": {},
   "outputs": [
    {
     "data": {
      "text/plain": [
       "Word_properties(tonic_accent=[('ca', True), ('sa', False)], index_ref=[(9, 5), (10, 2), (10, 3), (13, 6), (13, 14), (14, 5), (26, 3), (26, 15), (28, 7), (28, 11), (35, 9), (78, 2), (78, 20), (80, 12), (84, 8), (88, 4), (88, 7), (90, 1)])"
      ]
     },
     "execution_count": 7,
     "metadata": {},
     "output_type": "execute_result"
    }
   ],
   "source": [
    "word_dict[\"casa\"]"
   ]
  },
  {
   "cell_type": "code",
   "execution_count": 8,
   "id": "0cb86032-eb6f-43fd-9271-7fc21d986c8a",
   "metadata": {},
   "outputs": [
    {
     "data": {
      "text/plain": [
       "Word_properties(tonic_accent=[('sal', False), ('drí', True), ('amos', False)], index_ref=[(80, 3)])"
      ]
     },
     "execution_count": 8,
     "metadata": {},
     "output_type": "execute_result"
    }
   ],
   "source": [
    "word_dict[\"saldríamos\"]"
   ]
  },
  {
   "cell_type": "code",
   "execution_count": 9,
   "id": "ddc4ae7c-0ca7-4028-9ac0-a166bc2a37cd",
   "metadata": {},
   "outputs": [
    {
     "data": {
      "text/plain": [
       "Word_properties(tonic_accent=[('ni', True), ('ños', False)], index_ref=[(24, 10), (30, 6), (30, 15), (62, 21), (79, 12), (80, 9), (80, 10), (80, 19)])"
      ]
     },
     "execution_count": 9,
     "metadata": {},
     "output_type": "execute_result"
    }
   ],
   "source": [
    "word_dict[\"niños\"]"
   ]
  },
  {
   "cell_type": "code",
   "execution_count": 10,
   "id": "39a35c35-1273-49d4-9847-cb6af52b6333",
   "metadata": {},
   "outputs": [],
   "source": [
    "from sqlalchemy.orm import Session"
   ]
  },
  {
   "cell_type": "code",
   "execution_count": 11,
   "id": "d3b1d2e3-ed89-4b8a-8483-cdf21639d2b3",
   "metadata": {},
   "outputs": [],
   "source": [
    "engine.echo=True"
   ]
  },
  {
   "cell_type": "code",
   "execution_count": 12,
   "id": "c5dd356c-13bf-4767-8d36-8c86c095d351",
   "metadata": {},
   "outputs": [
    {
     "data": {
      "text/plain": [
       "True"
      ]
     },
     "execution_count": 12,
     "metadata": {},
     "output_type": "execute_result"
    }
   ],
   "source": [
    "engine.echo"
   ]
  },
  {
   "cell_type": "code",
   "execution_count": 13,
   "id": "3adc5383-e978-4f05-8591-8fc1f3a8f69f",
   "metadata": {},
   "outputs": [
    {
     "name": "stdout",
     "output_type": "stream",
     "text": [
      "2024-08-20 09:19:05,571 INFO sqlalchemy.engine.Engine BEGIN (implicit)\n",
      "2024-08-20 09:19:05,574 INFO sqlalchemy.engine.Engine INSERT INTO word_dict (word, tonic_accent, comment) VALUES (?, ?, ?) RETURNING id\n",
      "2024-08-20 09:19:05,575 INFO sqlalchemy.engine.Engine [generated in 0.00017s (insertmanyvalues) 1/3 (ordered; batch not supported)] ('casa', b'\\x80\\x04\\x95q\\x00\\x00\\x00\\x00\\x00\\x00\\x00]\\x94(K\\tK\\x05\\x86\\x94K\\nK\\x02\\x86\\x94K\\nK\\x03\\x86\\x94K\\rK\\x06\\x86\\x94K\\rK\\x0e\\x86\\x94K\\x0eK\\x05\\x86\\x94K\\x ... (40 characters truncated) ... x07\\x86\\x94K\\x1cK\\x0b\\x86\\x94K#K\\t\\x86\\x94KNK\\x02\\x86\\x94KNK\\x14\\x86\\x94KPK\\x0c\\x86\\x94KTK\\x08\\x86\\x94KXK\\x04\\x86\\x94KXK\\x07\\x86\\x94KZK\\x01\\x86\\x94e.', None)\n",
      "2024-08-20 09:19:05,577 INFO sqlalchemy.engine.Engine INSERT INTO word_dict (word, tonic_accent, comment) VALUES (?, ?, ?) RETURNING id\n",
      "2024-08-20 09:19:05,577 INFO sqlalchemy.engine.Engine [insertmanyvalues 2/3 (ordered; batch not supported)] ('saldríamos', b'\\x80\\x04\\x95\\n\\x00\\x00\\x00\\x00\\x00\\x00\\x00]\\x94KPK\\x03\\x86\\x94a.', None)\n",
      "2024-08-20 09:19:05,578 INFO sqlalchemy.engine.Engine INSERT INTO word_dict (word, tonic_accent, comment) VALUES (?, ?, ?) RETURNING id\n",
      "2024-08-20 09:19:05,579 INFO sqlalchemy.engine.Engine [insertmanyvalues 3/3 (ordered; batch not supported)] ('niños', b'\\x80\\x04\\x955\\x00\\x00\\x00\\x00\\x00\\x00\\x00]\\x94(K\\x18K\\n\\x86\\x94K\\x1eK\\x06\\x86\\x94K\\x1eK\\x0f\\x86\\x94K>K\\x15\\x86\\x94KOK\\x0c\\x86\\x94KPK\\t\\x86\\x94KPK\\n\\x86\\x94KPK\\x13\\x86\\x94e.', None)\n",
      "2024-08-20 09:19:05,581 INFO sqlalchemy.engine.Engine INSERT INTO word_index (lesson, line, position, word_id) VALUES (?, ?, ?, ?) RETURNING id\n",
      "2024-08-20 09:19:05,582 INFO sqlalchemy.engine.Engine [generated in 0.00016s (insertmanyvalues) 1/11 (ordered; batch not supported)] (9, 5, None, 1)\n",
      "2024-08-20 09:19:05,583 INFO sqlalchemy.engine.Engine INSERT INTO word_index (lesson, line, position, word_id) VALUES (?, ?, ?, ?) RETURNING id\n",
      "2024-08-20 09:19:05,584 INFO sqlalchemy.engine.Engine [insertmanyvalues 2/11 (ordered; batch not supported)] (10, 2, None, 1)\n",
      "2024-08-20 09:19:05,584 INFO sqlalchemy.engine.Engine INSERT INTO word_index (lesson, line, position, word_id) VALUES (?, ?, ?, ?) RETURNING id\n",
      "2024-08-20 09:19:05,585 INFO sqlalchemy.engine.Engine [insertmanyvalues 3/11 (ordered; batch not supported)] (10, 3, None, 1)\n",
      "2024-08-20 09:19:05,585 INFO sqlalchemy.engine.Engine INSERT INTO word_index (lesson, line, position, word_id) VALUES (?, ?, ?, ?) RETURNING id\n",
      "2024-08-20 09:19:05,586 INFO sqlalchemy.engine.Engine [insertmanyvalues 4/11 (ordered; batch not supported)] (13, 6, None, 1)\n",
      "2024-08-20 09:19:05,586 INFO sqlalchemy.engine.Engine INSERT INTO word_index (lesson, line, position, word_id) VALUES (?, ?, ?, ?) RETURNING id\n",
      "2024-08-20 09:19:05,586 INFO sqlalchemy.engine.Engine [insertmanyvalues 5/11 (ordered; batch not supported)] (13, 14, None, 1)\n",
      "2024-08-20 09:19:05,587 INFO sqlalchemy.engine.Engine INSERT INTO word_index (lesson, line, position, word_id) VALUES (?, ?, ?, ?) RETURNING id\n",
      "2024-08-20 09:19:05,588 INFO sqlalchemy.engine.Engine [insertmanyvalues 6/11 (ordered; batch not supported)] (80, 3, None, 2)\n",
      "2024-08-20 09:19:05,588 INFO sqlalchemy.engine.Engine INSERT INTO word_index (lesson, line, position, word_id) VALUES (?, ?, ?, ?) RETURNING id\n",
      "2024-08-20 09:19:05,589 INFO sqlalchemy.engine.Engine [insertmanyvalues 7/11 (ordered; batch not supported)] (24, 10, None, 3)\n",
      "2024-08-20 09:19:05,590 INFO sqlalchemy.engine.Engine INSERT INTO word_index (lesson, line, position, word_id) VALUES (?, ?, ?, ?) RETURNING id\n",
      "2024-08-20 09:19:05,590 INFO sqlalchemy.engine.Engine [insertmanyvalues 8/11 (ordered; batch not supported)] (30, 6, None, 3)\n",
      "2024-08-20 09:19:05,591 INFO sqlalchemy.engine.Engine INSERT INTO word_index (lesson, line, position, word_id) VALUES (?, ?, ?, ?) RETURNING id\n",
      "2024-08-20 09:19:05,591 INFO sqlalchemy.engine.Engine [insertmanyvalues 9/11 (ordered; batch not supported)] (30, 15, None, 3)\n",
      "2024-08-20 09:19:05,592 INFO sqlalchemy.engine.Engine INSERT INTO word_index (lesson, line, position, word_id) VALUES (?, ?, ?, ?) RETURNING id\n",
      "2024-08-20 09:19:05,592 INFO sqlalchemy.engine.Engine [insertmanyvalues 10/11 (ordered; batch not supported)] (62, 21, None, 3)\n",
      "2024-08-20 09:19:05,593 INFO sqlalchemy.engine.Engine INSERT INTO word_index (lesson, line, position, word_id) VALUES (?, ?, ?, ?) RETURNING id\n",
      "2024-08-20 09:19:05,593 INFO sqlalchemy.engine.Engine [insertmanyvalues 11/11 (ordered; batch not supported)] (79, 12, None, 3)\n",
      "2024-08-20 09:19:05,594 INFO sqlalchemy.engine.Engine COMMIT\n"
     ]
    }
   ],
   "source": [
    "from sqlalchemy.orm import Session\n",
    "import pickle\n",
    "with Session(engine) as session:\n",
    "    casa = Word(\n",
    "        word=\"casa\", \n",
    "        tonic_accent=pickle.dumps(word_dict[\"casa\"].index_ref),\n",
    "        index_ref_entries=[\n",
    "            IndexEntry(lesson=9, line=5),\n",
    "            IndexEntry(lesson=10, line=2),\n",
    "            IndexEntry(lesson=10, line=3),\n",
    "            IndexEntry(lesson=13, line=6),\n",
    "            IndexEntry(lesson=13, line=14),\n",
    "        ],\n",
    "    )\n",
    "    saldriamos = Word(\n",
    "        word=\"saldríamos\", \n",
    "        tonic_accent=pickle.dumps(word_dict[\"saldríamos\"].index_ref),\n",
    "        index_ref_entries=[\n",
    "            IndexEntry(lesson=80, line=3),\n",
    "        ]\n",
    "    )\n",
    "    ninos = Word(\n",
    "        word=\"niños\", \n",
    "        tonic_accent=pickle.dumps(word_dict[\"niños\"].index_ref),\n",
    "        index_ref_entries=[\n",
    "            IndexEntry(lesson=24, line=10),\n",
    "            IndexEntry(lesson=30, line=6),\n",
    "            IndexEntry(lesson=30, line=15),\n",
    "            IndexEntry(lesson=62, line=21),\n",
    "            IndexEntry(lesson=79, line=12),\n",
    "        ],\n",
    "    )\n",
    "    session.add_all([casa, saldriamos, ninos])\n",
    "    session.commit()\n",
    "    \n",
    "    \n"
   ]
  },
  {
   "cell_type": "code",
   "execution_count": 14,
   "id": "7c77a425-cdb9-4473-8de8-ea1bd9f5a888",
   "metadata": {},
   "outputs": [
    {
     "name": "stdout",
     "output_type": "stream",
     "text": [
      "2024-08-20 09:19:10,335 INFO sqlalchemy.engine.Engine BEGIN (implicit)\n",
      "2024-08-20 09:19:10,338 INFO sqlalchemy.engine.Engine SELECT word_dict.id, word_dict.word, word_dict.tonic_accent, word_dict.comment \n",
      "FROM word_dict \n",
      "WHERE word_dict.word = ?\n",
      "2024-08-20 09:19:10,339 INFO sqlalchemy.engine.Engine [generated in 0.00132s] ('niños',)\n",
      "Word(id=3, word='niños', comment=None)\n"
     ]
    }
   ],
   "source": [
    "from sqlalchemy import select\n",
    "stmt = select(Word).where(Word.word == \"niños\")\n",
    "\n",
    "for word in session.scalars(stmt):\n",
    "    print(word)"
   ]
  },
  {
   "cell_type": "code",
   "execution_count": 15,
   "id": "2330a234-8116-47d4-8ff2-6838b6473138",
   "metadata": {},
   "outputs": [
    {
     "name": "stdout",
     "output_type": "stream",
     "text": [
      "2024-08-20 09:19:11,245 INFO sqlalchemy.engine.Engine BEGIN (implicit)\n",
      "2024-08-20 09:19:11,247 INFO sqlalchemy.engine.Engine SELECT word_index.id, word_index.lesson, word_index.line, word_index.position, word_index.word_id \n",
      "FROM word_index \n",
      "WHERE word_index.lesson = ?\n",
      "2024-08-20 09:19:11,248 INFO sqlalchemy.engine.Engine [generated in 0.00095s] (62,)\n",
      "2024-08-20 09:19:11,252 INFO sqlalchemy.engine.Engine SELECT word_dict.id AS word_dict_id, word_dict.word AS word_dict_word, word_dict.tonic_accent AS word_dict_tonic_accent, word_dict.comment AS word_dict_comment \n",
      "FROM word_dict \n",
      "WHERE word_dict.id = ?\n",
      "2024-08-20 09:19:11,253 INFO sqlalchemy.engine.Engine [generated in 0.00099s] (3,)\n",
      "IndexEntry(id=10, word=Word(id=3, word='niños', comment=None), word_id=3, lesson=62, line=21), position=None\n",
      "2024-08-20 09:19:11,254 INFO sqlalchemy.engine.Engine ROLLBACK\n"
     ]
    }
   ],
   "source": [
    "from sqlalchemy.orm import Session\n",
    "import pickle\n",
    "with Session(engine) as session:\n",
    "\n",
    "    stmt = select(IndexEntry).where(IndexEntry.lesson == 62)\n",
    "\n",
    "    for entry in session.scalars(stmt):\n",
    "        print(entry)"
   ]
  },
  {
   "cell_type": "code",
   "execution_count": 16,
   "id": "d1d598b3-7d49-4107-8d01-f5f62b924428",
   "metadata": {},
   "outputs": [
    {
     "name": "stdout",
     "output_type": "stream",
     "text": [
      "2024-08-20 09:19:12,476 INFO sqlalchemy.engine.Engine BEGIN (implicit)\n",
      "2024-08-20 09:19:12,478 INFO sqlalchemy.engine.Engine SELECT word_index.id, word_index.lesson, word_index.line, word_index.position, word_index.word_id \n",
      "FROM word_index \n",
      "WHERE word_index.word_id = ?\n",
      "2024-08-20 09:19:12,479 INFO sqlalchemy.engine.Engine [generated in 0.00080s] (3,)\n",
      "2024-08-20 09:19:12,482 INFO sqlalchemy.engine.Engine SELECT word_dict.id AS word_dict_id, word_dict.word AS word_dict_word, word_dict.tonic_accent AS word_dict_tonic_accent, word_dict.comment AS word_dict_comment \n",
      "FROM word_dict \n",
      "WHERE word_dict.id = ?\n",
      "2024-08-20 09:19:12,483 INFO sqlalchemy.engine.Engine [cached since 1.231s ago] (3,)\n",
      "IndexEntry(id=7, word=Word(id=3, word='niños', comment=None), word_id=3, lesson=24, line=10), position=None\n",
      "IndexEntry(id=8, word=Word(id=3, word='niños', comment=None), word_id=3, lesson=30, line=6), position=None\n",
      "IndexEntry(id=9, word=Word(id=3, word='niños', comment=None), word_id=3, lesson=30, line=15), position=None\n",
      "IndexEntry(id=10, word=Word(id=3, word='niños', comment=None), word_id=3, lesson=62, line=21), position=None\n",
      "IndexEntry(id=11, word=Word(id=3, word='niños', comment=None), word_id=3, lesson=79, line=12), position=None\n"
     ]
    }
   ],
   "source": [
    "stmt = select(IndexEntry).where(IndexEntry.word_id == 3)\n",
    "\n",
    "for entry in session.scalars(stmt):\n",
    "    print(entry)"
   ]
  },
  {
   "cell_type": "code",
   "execution_count": 7,
   "id": "cdaeb8b1-c98e-47ef-9bab-1ecffa2c8b3a",
   "metadata": {},
   "outputs": [],
   "source": [
    "from sqlalchemy.orm import Session\n",
    "import pickle\n",
    "engine.echo=False\n",
    "with Session(engine) as session:\n",
    "    for word in word_dict:\n",
    "        entries = []\n",
    "        for entry in word_dict[word].index_ref:\n",
    "            lesson, line = entry\n",
    "            entries.append(IndexEntry(lesson=lesson, line=line))\n",
    "        word_obj = Word(\n",
    "            word=word, \n",
    "            tonic_accent=pickle.dumps(word_dict[word].tonic_accent),\n",
    "            index_ref_entries=entries\n",
    "        )\n",
    "        session.add_all([word_obj])\n",
    "        session.commit()\n",
    "    \n"
   ]
  },
  {
   "cell_type": "code",
   "execution_count": 8,
   "id": "48ccaccd-f9c0-4816-b525-9a6ec5effa1c",
   "metadata": {},
   "outputs": [
    {
     "name": "stdout",
     "output_type": "stream",
     "text": [
      "Word(id=639, word='niños', comment=None)\n",
      "lesson : 24, line : 10\n",
      "lesson : 30, line : 6\n",
      "lesson : 30, line : 15\n",
      "lesson : 62, line : 21\n",
      "lesson : 79, line : 12\n",
      "lesson : 80, line : 9\n",
      "lesson : 80, line : 10\n",
      "lesson : 80, line : 19\n"
     ]
    }
   ],
   "source": [
    "from sqlalchemy import select\n",
    "stmt = select(Word).where(Word.word == \"niños\")\n",
    "\n",
    "for word in session.scalars(stmt):\n",
    "    print(word)\n",
    "    for entry in word.index_ref_entries:\n",
    "        print(f\"lesson : {entry.lesson}, line : {entry.line}\")"
   ]
  },
  {
   "cell_type": "code",
   "execution_count": 9,
   "id": "50659d5d-0c84-4aef-b439-f93cfb0d8923",
   "metadata": {},
   "outputs": [
    {
     "name": "stdout",
     "output_type": "stream",
     "text": [
      "IndexEntry(id=13226, word=Word(id=639, word='niños', comment=None), word_id=639, lesson=24, line=10), position=None\n",
      "IndexEntry(id=13227, word=Word(id=639, word='niños', comment=None), word_id=639, lesson=30, line=6), position=None\n",
      "IndexEntry(id=13228, word=Word(id=639, word='niños', comment=None), word_id=639, lesson=30, line=15), position=None\n",
      "IndexEntry(id=13229, word=Word(id=639, word='niños', comment=None), word_id=639, lesson=62, line=21), position=None\n",
      "IndexEntry(id=13230, word=Word(id=639, word='niños', comment=None), word_id=639, lesson=79, line=12), position=None\n",
      "IndexEntry(id=13231, word=Word(id=639, word='niños', comment=None), word_id=639, lesson=80, line=9), position=None\n",
      "IndexEntry(id=13232, word=Word(id=639, word='niños', comment=None), word_id=639, lesson=80, line=10), position=None\n",
      "IndexEntry(id=13233, word=Word(id=639, word='niños', comment=None), word_id=639, lesson=80, line=19), position=None\n"
     ]
    }
   ],
   "source": [
    "stmt = select(IndexEntry).where(IndexEntry.word_id == 639)\n",
    "\n",
    "for entry in session.scalars(stmt):\n",
    "    print(entry)"
   ]
  },
  {
   "cell_type": "code",
   "execution_count": 10,
   "id": "81ccbf63-59e7-4983-8f72-b8639f2217c8",
   "metadata": {},
   "outputs": [
    {
     "data": {
      "text/plain": [
       "[(24, 10), (30, 6), (30, 15), (62, 21), (79, 12), (80, 9), (80, 10), (80, 19)]"
      ]
     },
     "execution_count": 10,
     "metadata": {},
     "output_type": "execute_result"
    }
   ],
   "source": [
    "word_dict[\"niños\"].index_ref"
   ]
  },
  {
   "cell_type": "code",
   "execution_count": 11,
   "id": "c127671c-1477-4ec2-9c32-49c3772da5ee",
   "metadata": {},
   "outputs": [
    {
     "name": "stdout",
     "output_type": "stream",
     "text": [
      "Word(id=2627, word='quedaran', comment=None)\n"
     ]
    }
   ],
   "source": [
    "from sqlalchemy import select\n",
    "stmt = select(Word).where(Word.word == \"quedaran\")\n",
    "\n",
    "for word in session.scalars(stmt):\n",
    "    print(word)"
   ]
  },
  {
   "cell_type": "code",
   "execution_count": 12,
   "id": "c9f37634-a1b4-467d-85ab-826ae594879c",
   "metadata": {},
   "outputs": [
    {
     "name": "stdout",
     "output_type": "stream",
     "text": [
      "IndexEntry(id=18271, word=Word(id=2627, word='quedaran', comment=None), word_id=2627, lesson=80, line=9), position=None\n"
     ]
    }
   ],
   "source": [
    "stmt = select(IndexEntry).where(IndexEntry.word_id == 2627)\n",
    "\n",
    "for entry in session.scalars(stmt):\n",
    "    print(entry)"
   ]
  },
  {
   "cell_type": "code",
   "execution_count": null,
   "id": "9c63a4ad-ac34-4e1c-b246-16a225902fab",
   "metadata": {},
   "outputs": [],
   "source": []
  },
  {
   "cell_type": "code",
   "execution_count": 13,
   "id": "3173c373-33f3-4353-a73d-70cf9ef5f6d9",
   "metadata": {},
   "outputs": [
    {
     "name": "stdout",
     "output_type": "stream",
     "text": [
      "time to fetch word dictionary from db : 2.3888509273529053\n"
     ]
    }
   ],
   "source": [
    "from time import time\n",
    "from lesson_parser import Word_properties\n",
    "stmt = select(Word)\n",
    "new_dict = {}\n",
    "ti = time()\n",
    "for word in session.scalars(stmt):\n",
    "    index_ref = []\n",
    "    for entry in word.index_ref_entries:\n",
    "        index_ref.append((entry.lesson, entry.line))\n",
    "    new_dict[word.word] = Word_properties(word.tonic_accent, index_ref)\n",
    "tf = time()\n",
    "print(f\"time to fetch word dictionary from db : {tf-ti}\")"
   ]
  },
  {
   "cell_type": "code",
   "execution_count": 14,
   "id": "8cd2b98a-51ad-44a9-9ded-307e7f574d22",
   "metadata": {},
   "outputs": [],
   "source": [
    "from lesson_parser import get_words\n",
    "from tonic_accent import get_sentences\n",
    "\n",
    "from sqlalchemy.orm import Session\n",
    "engine.echo=False\n",
    "with Session(engine) as session:\n",
    "    for lesson in range(1, 101):\n",
    "        sentences = get_sentences(lesson)\n",
    "        for line, sentence in enumerate(sentences):\n",
    "            s_obj = Sentence(\n",
    "                lesson = lesson,\n",
    "                line = line,\n",
    "                sentence = sentence\n",
    "            )\n",
    "            session.add(s_obj)\n",
    "    session.commit()\n"
   ]
  },
  {
   "cell_type": "code",
   "execution_count": 24,
   "id": "9acf2a10-4961-436a-b612-e5fc18529647",
   "metadata": {},
   "outputs": [
    {
     "name": "stdout",
     "output_type": "stream",
     "text": [
      "50 11 S10-¡Ay, cuánto se lo agradezco! Es usted muy amable. \n",
      "time to fetch word dictionary from db : 0.0016322135925292969\n"
     ]
    }
   ],
   "source": [
    "from sqlalchemy import and_\n",
    "stmt = select(Sentence).where(and_(Sentence.line == 11, Sentence.lesson == 50))\n",
    "ti = time()\n",
    "for s_obj in session.scalars(stmt):\n",
    "    print(s_obj.lesson, s_obj.line, s_obj.sentence)\n",
    "tf = time()\n",
    "print(f\"time to fetch word dictionary from db : {tf-ti}\")"
   ]
  },
  {
   "cell_type": "code",
   "execution_count": 37,
   "id": "da9883d7-ffa9-4cd9-be9a-5c9b9359a72b",
   "metadata": {},
   "outputs": [
    {
     "name": "stdout",
     "output_type": "stream",
     "text": [
      "Word(id=263, word='tampoco', comment=None)\n",
      "11, 5 : S04-Yo tampoco, mamá, estoy haciendo la tarea. \n",
      "11, 13 : T02-Yo tampoco te puedo ayudar estoy haciendo la tarea. \n",
      "13, 5 : S04-Lo siento, yo tampoco tengo ganas de ir de copas. \n",
      "13, 13 : T04-Mi mujer tampoco tiene ganas de ir de copas. \n",
      "22, 5 : S04-Yo tampoco me encuentro bien, hija mía. \n",
      "33, 13 : S12-Es que tampoco tenemos mucho dinero, ¿sabe? \n",
      "49, 5 : S04-Yo tampoco escribo mucho, sabes, tal vez una postal de vez en cuando\n",
      "81, 5 : S04-Yo tampoco. Si se tratara de eso, yo también estaría en contra. \n",
      "84, 6 : S05-No, yo tampoco soy partidaria de cambiar las costumbres españolas. \n",
      "86, 12 : S11-¿Ese? Y de marido perfecto tampoco No para de hacerle ojitos a la del tercero A. \n",
      "96, 11 : S10-y por lo tanto tampoco una numerosa población indígena. \n"
     ]
    }
   ],
   "source": [
    "word = \"tampoco\"\n",
    "stmt = select(Word).where(Word.word == word)\n",
    "word_obj = session.scalars(stmt).one()\n",
    "print(word_obj)\n",
    "for entry in word_obj.index_ref_entries:\n",
    "    stmt = select(Sentence).where(and_(Sentence.lesson == entry.lesson, Sentence.line == entry.line))\n",
    "    for s_obj in session.scalars(stmt):\n",
    "        print(f\"{s_obj.lesson}, {s_obj.line} : {s_obj.sentence}\")\n",
    "    "
   ]
  },
  {
   "cell_type": "code",
   "execution_count": null,
   "id": "0d0b7bfa-e589-43dd-b705-602d18a54f8c",
   "metadata": {},
   "outputs": [],
   "source": []
  }
 ],
 "metadata": {
  "kernelspec": {
   "display_name": "Python 3 (ipykernel)",
   "language": "python",
   "name": "python3"
  },
  "language_info": {
   "codemirror_mode": {
    "name": "ipython",
    "version": 3
   },
   "file_extension": ".py",
   "mimetype": "text/x-python",
   "name": "python",
   "nbconvert_exporter": "python",
   "pygments_lexer": "ipython3",
   "version": "3.11.3"
  }
 },
 "nbformat": 4,
 "nbformat_minor": 5
}
