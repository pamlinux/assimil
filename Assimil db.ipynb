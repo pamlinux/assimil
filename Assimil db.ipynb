{
 "cells": [
  {
   "cell_type": "code",
   "execution_count": 1,
   "id": "ceab4d0f-9564-4134-8589-e9f616cd47bd",
   "metadata": {},
   "outputs": [],
   "source": [
    "from sqlalchemy import select\n",
    "from sqlalchemy.orm import Session\n",
    "\n",
    "from database import Word, IndexEntry, Sentence, MarkedSentence, fill_word_table \n",
    "from database import fill_sentences_table, store_lesson_errors, get_lessons_errors\n",
    "from tonic_accent import get_sentences\n",
    "from tonic_accent import get_tonic_accent_word_dict, get_word_index_dict"
   ]
  },
  {
   "cell_type": "code",
   "execution_count": 2,
   "id": "2c04dba9-a229-4de4-b9ad-e8295ce39d48",
   "metadata": {},
   "outputs": [],
   "source": [
    "word_index_dict = get_word_index_dict()\n",
    "tonic_accent_word_dict = get_tonic_accent_word_dict()"
   ]
  },
  {
   "cell_type": "code",
   "execution_count": 3,
   "id": "8b30bcce-f758-4da7-b89b-c27610490c99",
   "metadata": {},
   "outputs": [],
   "source": [
    "fill_word_table(tonic_accent_word_dict, word_index_dict)"
   ]
  },
  {
   "cell_type": "code",
   "execution_count": 4,
   "id": "ea0945c8-fb2e-44f3-8395-77ab39b6db3e",
   "metadata": {},
   "outputs": [
    {
     "data": {
      "text/plain": [
       "3555"
      ]
     },
     "execution_count": 4,
     "metadata": {},
     "output_type": "execute_result"
    }
   ],
   "source": [
    "len(word_index_dict.keys())"
   ]
  },
  {
   "cell_type": "code",
   "execution_count": 5,
   "id": "f6928203-a484-454b-b52c-9624f0c7e94b",
   "metadata": {},
   "outputs": [
    {
     "data": {
      "text/plain": [
       "3555"
      ]
     },
     "execution_count": 5,
     "metadata": {},
     "output_type": "execute_result"
    }
   ],
   "source": [
    "len(tonic_accent_word_dict.keys())"
   ]
  },
  {
   "cell_type": "code",
   "execution_count": 6,
   "id": "c0a0d58e-35a2-427a-a882-2260abbe1119",
   "metadata": {},
   "outputs": [
    {
     "name": "stdout",
     "output_type": "stream",
     "text": [
      "niños [('ni', True), ('ños', False)] [IndexEntry(id=13226, word=Word(id=639, word='niños', comment=None), word_id=639, lesson=24, line=10), position=None, IndexEntry(id=13227, word=Word(id=639, word='niños', comment=None), word_id=639, lesson=30, line=6), position=None, IndexEntry(id=13228, word=Word(id=639, word='niños', comment=None), word_id=639, lesson=30, line=15), position=None, IndexEntry(id=13229, word=Word(id=639, word='niños', comment=None), word_id=639, lesson=62, line=21), position=None, IndexEntry(id=13230, word=Word(id=639, word='niños', comment=None), word_id=639, lesson=79, line=12), position=None, IndexEntry(id=13231, word=Word(id=639, word='niños', comment=None), word_id=639, lesson=80, line=9), position=None, IndexEntry(id=13232, word=Word(id=639, word='niños', comment=None), word_id=639, lesson=80, line=10), position=None, IndexEntry(id=13233, word=Word(id=639, word='niños', comment=None), word_id=639, lesson=80, line=19), position=None]\n"
     ]
    }
   ],
   "source": [
    "from database import engine\n",
    "import pickle\n",
    "with Session(engine) as session:\n",
    "    stmt = select(Word).where(Word.word == \"niños\")\n",
    "\n",
    "    for word in session.scalars(stmt):\n",
    "        print(word.word, pickle.loads(word.tonic_accent), word.index_ref_entries)"
   ]
  },
  {
   "cell_type": "code",
   "execution_count": 7,
   "id": "5adfd698-1744-4b15-94f9-035c449e4648",
   "metadata": {},
   "outputs": [
    {
     "data": {
      "text/plain": [
       "<sqlalchemy.orm.session.Session at 0x12335d610>"
      ]
     },
     "execution_count": 7,
     "metadata": {},
     "output_type": "execute_result"
    }
   ],
   "source": [
    "session"
   ]
  },
  {
   "cell_type": "code",
   "execution_count": 8,
   "id": "51989212-48f6-4a7a-953f-73dcffb3d907",
   "metadata": {},
   "outputs": [
    {
     "data": {
      "text/plain": [
       "[(24, 10), (30, 6), (30, 15), (62, 21), (79, 12), (80, 9), (80, 10), (80, 19)]"
      ]
     },
     "execution_count": 8,
     "metadata": {},
     "output_type": "execute_result"
    }
   ],
   "source": [
    "word_index_dict[\"niños\"]"
   ]
  },
  {
   "cell_type": "code",
   "execution_count": null,
   "id": "76aa9fca-a255-4b5a-8a87-a202df60842b",
   "metadata": {},
   "outputs": [],
   "source": []
  },
  {
   "cell_type": "code",
   "execution_count": 9,
   "id": "c4d702e4-e90c-42f3-91a2-bb2f40527b4c",
   "metadata": {},
   "outputs": [],
   "source": [
    "for lesson in range(1, 101):\n",
    "    sentences = get_sentences(lesson)\n",
    "    fill_sentences_table(lesson, sentences)\n"
   ]
  },
  {
   "cell_type": "code",
   "execution_count": 10,
   "id": "491abe1d-caff-41f4-bbba-95dba06c0e5d",
   "metadata": {},
   "outputs": [
    {
     "name": "stdout",
     "output_type": "stream",
     "text": [
      "50 11 S10-¡Ay, cuánto se lo agradezco! Es usted muy amable. \n"
     ]
    }
   ],
   "source": [
    "from sqlalchemy import and_\n",
    "with Session(engine) as session:\n",
    "    stmt = select(Sentence).where(and_(Sentence.line == 11, Sentence.lesson == 50))\n",
    "    for s_obj in session.scalars(stmt):\n",
    "        print(s_obj.lesson, s_obj.line, s_obj.sentence)"
   ]
  },
  {
   "cell_type": "code",
   "execution_count": 11,
   "id": "7b4b9ecc-7177-4013-a406-1736d2d1c7e2",
   "metadata": {},
   "outputs": [],
   "source": [
    "from sqlalchemy import select\n",
    "stmt = select(MarkedSentence)\n",
    "\n",
    "for marked_line in session.scalars(stmt):\n",
    "    print(marked_line)"
   ]
  },
  {
   "cell_type": "code",
   "execution_count": 12,
   "id": "197d5d14-628e-44be-accb-4843332d6d77",
   "metadata": {},
   "outputs": [],
   "source": [
    "sentences = ['N4-Lec<b>ción</b> <b>cua</b>rta',\n",
    " 'S00-TITLE-Prese<mark>nta<b>cio</b>n</mark>es',\n",
    " 'S01-Él es <b>Ra</b>fa, <mark>mi her<b>ma</b>no, y <b>e</b>lla es Luz, mi her<b>ma</b>na.  </mark>',\n",
    " '<mark> S02-Y él es mi <b>pa</b>dre, </mark>Mi<b>guel</b>.',\n",
    " 'S03-<b>Mu</b>cho <b>gus</b>to. ¿<b>Có</b>mo es<b>tá</b> us<b>ted</b>?',\n",
    " 'S04-Muy bien, <b>pe</b>ro ¡<b>h</b><mark><b>á</b>blame d</mark>e tú, por fa<b>vor</b>!',\n",
    " 'S05-¡<b>Va</b>le!',\n",
    " 'T00-TRANSLA<mark>TE-Ejer<b>ci</b>cio </mark>1 – Tra<b>duz</b>ca',\n",
    " 'T01-Él es mi <b>pa</b>dre.',\n",
    " 'T02-Y <b>e</b>lla es mi her<b>ma</b>na.',\n",
    " 'T03-<b>Mu</b>cho <b></b><mark><b>gus</b>to.  </mark>',\n",
    " '<mark> T04-<b>Há</b>blame de </mark>tú, por fa<b>vor</b>.',\n",
    " 'T05-¿<b>Có</b>mo es<b>tá</b> us<b>ted</b>?']\n",
    "\n",
    "marked_lines_numbers = {1: True, 2: True, 3: True, 5: True, 7: True, 10: True, 11: True}\n",
    "\n",
    "lesson_number = 4\n",
    "store_lesson_errors(lesson_number, sentences, marked_lines_numbers)\n"
   ]
  },
  {
   "cell_type": "code",
   "execution_count": 13,
   "id": "e44e114b-1e01-4708-978c-25a060cf4c7d",
   "metadata": {},
   "outputs": [],
   "source": [
    "sentences = ['N5-Lec<b>ción</b> <b>quin</b>ta',\n",
    " 'S00-TITLE-Entre<b>vis</b>ta de tra<b>ba</b>jo',\n",
    " 'S01-¿<b>Cu</b><mark><b>á</b>ntos i<b>dio</b>mas <b>ha</b>bla us<b>ted</b>?  </mark>',\n",
    " '<mark> S02-<b>Ha</b>blo in<b>glés</b> y fra</mark>n<b>cés</b>.',\n",
    " 'S03-¡<mark>Enhora<b>bue</b>na! ¿Ha<b>bla</b>mos in<b>glés</b> en<b>ton</b>ces?  </mark>',\n",
    " '<mark> S04-E<b>jem</b>, el in<b>glés</b> lo <b>le</b>o, <b>pe</b>ro no lo <b>ha</b>blo muy bien.  </mark>',\n",
    " '<mark> S05-Sí, <b>cla</b>ro</mark> Y el fran<b>cés</b>, ¿lo <b>ha</b>bla o <b>so</b>lo lo es<b>cri</b>be?',\n",
    " 'T00-TRANSLATE-Ejer<b>ci</b>cio 1 – Tra<b>duz</b>ca',\n",
    " 'T01-¿<b>H</b><mark><b>a</b>bla us<b>ted</b> in<b>glés</b>?  </mark>',\n",
    " '<mark> T02-¿<b>Cuá</b>ntos i<b>dio</b>mas es<b>cri</b>be us<b>te</b></mark><b>d</b>?',\n",
    " 'T03-No <b>ha</b>blo fran<b>cés</b>.',\n",
    " 'T04-¡Enhora<b>bue</b>na!',\n",
    " 'T05-Lo <b>le</b>o, <b>pe</b>ro no lo es<b>cri</b>bo.']\n",
    "\n",
    "marked_lines_numbers = {2: True, 3: True, 4: True, 5: True, 6: True, 8: True, 9: True}\n",
    "\n",
    "lesson_number = 5\n",
    "\n",
    "store_lesson_errors(lesson_number, sentences, marked_lines_numbers)\n"
   ]
  },
  {
   "cell_type": "code",
   "execution_count": 14,
   "id": "d720b108-c209-41bf-8f67-45dd694665cb",
   "metadata": {},
   "outputs": [],
   "source": [
    "sentences = ['N6-Lec<b>ción</b> <b>sex</b>ta',\n",
    " 'S00-TITLE-A las <b>sie</b>te ¡de la ma<b>ña</b>na!',\n",
    " 'S01-¿En qué tra<b>ba</b>jas?',\n",
    " 'S02-Soy enfer<b>m</b><mark><b>e</b>ra, tra<b>ba</b>jo en el hospi<b>ta</b></mark><b>l</b>.',\n",
    " 'S03-¿A qué <b>ho</b>ra ter<b>mi</b>nas?',\n",
    " 'S04-Ter<b>mi</b>no a las <b>sie</b>te.',\n",
    " 'S05-Pues te in<b>vi</b>to al <b>ci</b>ne a las <b>o</b>cho, ¿<b>va</b>le?',\n",
    " 'S06-<b>Gra</b>cias, <b>pe</b>ro ter<b>mi</b>no a las <b>sie</b>te ¡de la ma<b>ña</b>na!',\n",
    " 'ST00-TRANSLATE-Ejer<b>ci</b>cio 1 – Tra<b>d<mark>u</mark>z</b>ca',\n",
    " 'ST01-¿<b>E</b>res <mark>enfer<b>me</b>ra?  </mark>',\n",
    " '<mark> ST02-¿Tra<b>ba</b>jas en el hospi<b>tal</b>?  </mark>',\n",
    " '<mark> ST03-No, tra<b>ba</b>jo en e</mark>l <b>ci</b>ne.',\n",
    " 'ST04-Te in<b>vi</b>to a las <b>o</b>cho, ¿<b>va</b>le?',\n",
    " 'ST05-¿Ter<b>mi</b>nas a las <b>sie</b>te?']\n",
    "\n",
    "marked_lines_numbers = {3: True, 8: True, 9: True, 10: True, 11: True}\n",
    "\n",
    "lesson_number = 6\n",
    "\n",
    "store_lesson_errors(lesson_number, sentences, marked_lines_numbers)"
   ]
  },
  {
   "cell_type": "code",
   "execution_count": 15,
   "id": "0a1024c8-bd6f-4d7a-99d6-f4880e07ba08",
   "metadata": {},
   "outputs": [
    {
     "name": "stdout",
     "output_type": "stream",
     "text": [
      "Sentence(id=1, date_time = datetime.datetime(2024, 8, 28, 13, 18, 23, 37151), lesson=4, line=1, sentence ='S00-TITLE-Prese<mark>nta<b>cio</b>n</mark>es', comment=None)\n",
      "Sentence(id=2, date_time = datetime.datetime(2024, 8, 28, 13, 18, 23, 37552), lesson=4, line=2, sentence ='S01-Él es <b>Ra</b>fa, <mark>mi her<b>ma</b>no, y <b>e</b>lla es Luz, mi her<b>ma</b>na.  </mark>', comment=None)\n",
      "Sentence(id=3, date_time = datetime.datetime(2024, 8, 28, 13, 18, 23, 37586), lesson=4, line=3, sentence ='<mark> S02-Y él es mi <b>pa</b>dre, </mark>Mi<b>guel</b>.', comment=None)\n",
      "Sentence(id=4, date_time = datetime.datetime(2024, 8, 28, 13, 18, 23, 37610), lesson=4, line=5, sentence ='S04-Muy bien, <b>pe</b>ro ¡<b>h</b><mark><b>á</b>blame d</mark>e tú, por fa<b>vor</b>!', comment=None)\n",
      "Sentence(id=5, date_time = datetime.datetime(2024, 8, 28, 13, 18, 23, 37635), lesson=4, line=7, sentence ='T00-TRANSLA<mark>TE-Ejer<b>ci</b>cio </mark>1 – Tra<b>duz</b>ca', comment=None)\n",
      "Sentence(id=6, date_time = datetime.datetime(2024, 8, 28, 13, 18, 23, 37657), lesson=4, line=10, sentence ='T03-<b>Mu</b>cho <b></b><mark><b>gus</b>to.  </mark>', comment=None)\n",
      "Sentence(id=7, date_time = datetime.datetime(2024, 8, 28, 13, 18, 23, 37678), lesson=4, line=11, sentence ='<mark> T04-<b>Há</b>blame de </mark>tú, por fa<b>vor</b>.', comment=None)\n",
      "Sentence(id=8, date_time = datetime.datetime(2024, 8, 28, 13, 18, 25, 206141), lesson=5, line=2, sentence ='S01-¿<b>Cu</b><mark><b>á</b>ntos i<b>dio</b>mas <b>ha</b>bla us<b>ted</b>?  </mark>', comment=None)\n",
      "Sentence(id=9, date_time = datetime.datetime(2024, 8, 28, 13, 18, 25, 206358), lesson=5, line=3, sentence ='<mark> S02-<b>Ha</b>blo in<b>glés</b> y fra</mark>n<b>cés</b>.', comment=None)\n",
      "Sentence(id=10, date_time = datetime.datetime(2024, 8, 28, 13, 18, 25, 206400), lesson=5, line=4, sentence ='S03-¡<mark>Enhora<b>bue</b>na! ¿Ha<b>bla</b>mos in<b>glés</b> en<b>ton</b>ces?  </mark>', comment=None)\n",
      "Sentence(id=11, date_time = datetime.datetime(2024, 8, 28, 13, 18, 25, 206431), lesson=5, line=5, sentence ='<mark> S04-E<b>jem</b>, el in<b>glés</b> lo <b>le</b>o, <b>pe</b>ro no lo <b>ha</b>blo muy bien.  </mark>', comment=None)\n",
      "Sentence(id=12, date_time = datetime.datetime(2024, 8, 28, 13, 18, 25, 206461), lesson=5, line=6, sentence ='<mark> S05-Sí, <b>cla</b>ro</mark> Y el fran<b>cés</b>, ¿lo <b>ha</b>bla o <b>so</b>lo lo es<b>cri</b>be?', comment=None)\n",
      "Sentence(id=13, date_time = datetime.datetime(2024, 8, 28, 13, 18, 25, 206490), lesson=5, line=8, sentence ='T01-¿<b>H</b><mark><b>a</b>bla us<b>ted</b> in<b>glés</b>?  </mark>', comment=None)\n",
      "Sentence(id=14, date_time = datetime.datetime(2024, 8, 28, 13, 18, 25, 206522), lesson=5, line=9, sentence ='<mark> T02-¿<b>Cuá</b>ntos i<b>dio</b>mas es<b>cri</b>be us<b>te</b></mark><b>d</b>?', comment=None)\n",
      "Sentence(id=15, date_time = datetime.datetime(2024, 8, 28, 13, 18, 26, 715843), lesson=6, line=3, sentence ='S02-Soy enfer<b>m</b><mark><b>e</b>ra, tra<b>ba</b>jo en el hospi<b>ta</b></mark><b>l</b>.', comment=None)\n",
      "Sentence(id=16, date_time = datetime.datetime(2024, 8, 28, 13, 18, 26, 716014), lesson=6, line=8, sentence ='ST00-TRANSLATE-Ejer<b>ci</b>cio 1 – Tra<b>d<mark>u</mark>z</b>ca', comment=None)\n",
      "Sentence(id=17, date_time = datetime.datetime(2024, 8, 28, 13, 18, 26, 716048), lesson=6, line=9, sentence ='ST01-¿<b>E</b>res <mark>enfer<b>me</b>ra?  </mark>', comment=None)\n",
      "Sentence(id=18, date_time = datetime.datetime(2024, 8, 28, 13, 18, 26, 716079), lesson=6, line=10, sentence ='<mark> ST02-¿Tra<b>ba</b>jas en el hospi<b>tal</b>?  </mark>', comment=None)\n",
      "Sentence(id=19, date_time = datetime.datetime(2024, 8, 28, 13, 18, 26, 716108), lesson=6, line=11, sentence ='<mark> ST03-No, tra<b>ba</b>jo en e</mark>l <b>ci</b>ne.', comment=None)\n"
     ]
    }
   ],
   "source": [
    "stmt = select(MarkedSentence)\n",
    "\n",
    "for marked_line in session.scalars(stmt):\n",
    "    print(marked_line)"
   ]
  },
  {
   "cell_type": "code",
   "execution_count": 2,
   "id": "0e4ab2a3-b88d-4c64-b4e8-082942839479",
   "metadata": {},
   "outputs": [
    {
     "data": {
      "text/plain": [
       "(datetime.datetime(2024, 8, 28, 13, 18, 24, 37151),\n",
       " datetime.datetime(2024, 8, 28, 16, 18, 48, 110972))"
      ]
     },
     "execution_count": 2,
     "metadata": {},
     "output_type": "execute_result"
    }
   ],
   "source": [
    "from datetime import timedelta\n",
    "from database import engine\n",
    "stmt = select(MarkedSentence)\n",
    "\n",
    "history = []\n",
    "with Session(engine) as session:\n",
    "    for marked_line_entry in session.scalars(stmt):\n",
    "        history.append(marked_line_entry)\n",
    "\n",
    "tb = history[0].date_time + timedelta(0, 1)\n",
    "te = history[-1].date_time - timedelta(0, 1)\n",
    "tb, te"
   ]
  },
  {
   "cell_type": "code",
   "execution_count": 18,
   "id": "7ba98ae8-fec9-41ca-8dd1-fa58c23d4d37",
   "metadata": {},
   "outputs": [
    {
     "name": "stdout",
     "output_type": "stream",
     "text": [
      "Sentence(id=8, date_time = datetime.datetime(2024, 8, 28, 13, 7, 29, 799933), lesson=5, line=2, sentence ='S01-¿<b>Cu</b><mark><b>á</b>ntos i<b>dio</b>mas <b>ha</b>bla us<b>ted</b>?  </mark>', comment=None)\n",
      "Sentence(id=9, date_time = datetime.datetime(2024, 8, 28, 13, 7, 29, 801593), lesson=5, line=3, sentence ='<mark> S02-<b>Ha</b>blo in<b>glés</b> y fra</mark>n<b>cés</b>.', comment=None)\n",
      "Sentence(id=10, date_time = datetime.datetime(2024, 8, 28, 13, 7, 29, 801640), lesson=5, line=4, sentence ='S03-¡<mark>Enhora<b>bue</b>na! ¿Ha<b>bla</b>mos in<b>glés</b> en<b>ton</b>ces?  </mark>', comment=None)\n",
      "Sentence(id=11, date_time = datetime.datetime(2024, 8, 28, 13, 7, 29, 801671), lesson=5, line=5, sentence ='<mark> S04-E<b>jem</b>, el in<b>glés</b> lo <b>le</b>o, <b>pe</b>ro no lo <b>ha</b>blo muy bien.  </mark>', comment=None)\n",
      "Sentence(id=12, date_time = datetime.datetime(2024, 8, 28, 13, 7, 29, 801700), lesson=5, line=6, sentence ='<mark> S05-Sí, <b>cla</b>ro</mark> Y el fran<b>cés</b>, ¿lo <b>ha</b>bla o <b>so</b>lo lo es<b>cri</b>be?', comment=None)\n",
      "Sentence(id=13, date_time = datetime.datetime(2024, 8, 28, 13, 7, 29, 801728), lesson=5, line=8, sentence ='T01-¿<b>H</b><mark><b>a</b>bla us<b>ted</b> in<b>glés</b>?  </mark>', comment=None)\n",
      "Sentence(id=14, date_time = datetime.datetime(2024, 8, 28, 13, 7, 29, 801756), lesson=5, line=9, sentence ='<mark> T02-¿<b>Cuá</b>ntos i<b>dio</b>mas es<b>cri</b>be us<b>te</b></mark><b>d</b>?', comment=None)\n"
     ]
    }
   ],
   "source": [
    "stmt = select(MarkedSentence).where(and_(MarkedSentence.date_time > tb, MarkedSentence.date_time < te))\n",
    "\n",
    "for marked_line in session.scalars(stmt):\n",
    "    print(marked_line)"
   ]
  },
  {
   "cell_type": "code",
   "execution_count": 1,
   "id": "95fb43d9-97c1-43f2-91c7-636930a464a1",
   "metadata": {},
   "outputs": [],
   "source": [
    "import database\n",
    "import time"
   ]
  },
  {
   "cell_type": "code",
   "execution_count": 2,
   "id": "028f21af-8d22-4611-8d9f-37dec3719e15",
   "metadata": {},
   "outputs": [
    {
     "name": "stdout",
     "output_type": "stream",
     "text": [
      "Time to fetch tonic_accent_word_dict from db : 0.04988813400268555\n"
     ]
    }
   ],
   "source": [
    "ti = time.time()\n",
    "tonic_accent_word_dict = database.get_tonic_accent_word_dict()\n",
    "tf = time.time()\n",
    "print(f\"Time to fetch tonic_accent_word_dict from db : {tf - ti}\")"
   ]
  },
  {
   "cell_type": "code",
   "execution_count": 3,
   "id": "ac14b6d3-9567-4b3f-be05-653ceaeba0cc",
   "metadata": {},
   "outputs": [
    {
     "data": {
      "text/plain": [
       "[('ni', True), ('ños', False)]"
      ]
     },
     "execution_count": 3,
     "metadata": {},
     "output_type": "execute_result"
    }
   ],
   "source": [
    "tonic_accent_word_dict[\"niños\"]"
   ]
  },
  {
   "cell_type": "code",
   "execution_count": 4,
   "id": "4919976f-5484-428f-9298-60b8ef7c20cf",
   "metadata": {},
   "outputs": [
    {
     "name": "stdout",
     "output_type": "stream",
     "text": [
      "Time to fetch index_word_dict from db : 0.6172761917114258\n"
     ]
    }
   ],
   "source": [
    "ti = time.time()\n",
    "index_word_dict = database.get_word_index_dict()\n",
    "tf = time.time()\n",
    "print(f\"Time to fetch index_word_dict from db : {tf - ti}\")"
   ]
  },
  {
   "cell_type": "code",
   "execution_count": 6,
   "id": "6722e81a-44a0-41bb-be5f-cd287a5a5831",
   "metadata": {},
   "outputs": [],
   "source": [
    "lesson45 = \"<p> N45-Lec<b>ción</b> cua<b>ren</b>ta y <b>cin</b>co </p>                  <p> S00-TITLE-En el <b>cí</b>ber </p>                  <p> S01-Los ar<b>chi</b>vos es<b>tán</b> en la car<b>pe</b>ta <b>fo</b>tos.  </p>                  <p> S02-Sí, los <b>ve</b>o, se los <mark>im<b>pri</b>mo ense<b>gui</b>da.  </mark></p>                  <p><mark> S03-¡Oh, per<b>dón</b>, los he bo<b>rra</b>do en vez de impri<b>mir</b>los!  </mark></p>                  <p><mark> S04-<b>Va</b>ya, pues <b>me</b>nos mal que</mark> los <b>ten</b>go en el co<b>rre</b>o. ¿Me da un e<b>qui</b>po <b>pa</b>ra que los recu<b>pe</b>re?  </p>                  <p> S05-Si, <b>pón</b>gase en el 4.  </p>                  <p> S06-<b>Oi</b>ga, el ordena<b>dor</b> no se en<b>cien</b>de.  </p>                  <p> S07-¿Ah? <b></b><mark><b>Co</b>ja</mark> el 6.  </p>                  <p> S08-Y el te<b>cla</b>do de <b>es</b>te no fun<b>cio</b>na.  </p>                  <p> S09-Qué <b>ra</b>ro, <b>va</b>ya al e<b>qui</b>po 8.  </p>                  <p> S10-<b>Mi</b>re, ya es<b>tá</b> bien, de<b>vuél</b>vame el pen y me voy.  </p>                  <p> S11-<b>Co</b>mo us<b>ted</b> <b></b><mark><b>quie</b>ra</mark>, son dos con cin<b>cuen</b>ta.  </p>                  <p> S12-¿Y en<b>ci</b>ma <b>quie</b>re co<b>brar</b>? ¡<b>Pe</b>ro qué <b>ca</b>ra <b>du</b>ra!  </p>                  <p> S13-No se <b>pon</b>ga ner<b>vio</b>so. ¡Es <b>pa</b>ra la <b>cá</b>mara o<b>cul</b>ta!  </p>                  <p> T00-TRANSLATE-Ejer<b>ci</b>cio 1 – Tra<b>duz</b>ca </p>                  <p> T01-<b>Me</b>nos mal que <b>ten</b>go tam<b>bién</b> los ar<b>chi</b>vos en el pen.  </p>                  <p> T02-<b>U</b>na vez impri<b>mi</b>da, ¿<b>pue</b>do bo<b>rrar</b> la car<b>pe</b>ta?  </p>                  <p> T03-Qué <b>ra</b>ro, el te<b>cla</b>do no fun<b>cio</b>na.  </p>                  <p> T04-<b>Es</b>te ordena<b>dor</b> no se en<b>cien</b>de <b>pón</b>gase en <b>o</b>tro e<b>qui</b>po.  </p>                  <p> T05-No te <b>pon</b>gas ner<b>vio</b>so, co<b>noz</b>co <b>o</b>tro <b>cí</b>ber me<b>jor</b> que <b>es</b>te.  </p> \""
   ]
  },
  {
   "cell_type": "code",
   "execution_count": 12,
   "id": "66d6a20f-efc8-4098-9a0c-51cd9a1b6f8c",
   "metadata": {
    "scrolled": true
   },
   "outputs": [
    {
     "name": "stdout",
     "output_type": "stream",
     "text": [
      "Sentence(id=20, date_time = datetime.datetime(2024, 8, 28, 16, 18, 49, 95007), lesson=45, line=2, sentence ='S01-Los ar<b>chi</b>vos es<b>tán</b> <mark>en la car<b>pe</b>ta <b>fo</b>tos.  </mark>', comment=None)\n",
      "Sentence(id=21, date_time = datetime.datetime(2024, 8, 28, 16, 18, 49, 110628), lesson=45, line=3, sentence ='<mark> S02-Sí, los <b>ve</b>o, se los im</mark><b>pri</b>mo ense<b>gui</b>da.', comment=None)\n",
      "Sentence(id=22, date_time = datetime.datetime(2024, 8, 28, 16, 18, 49, 110752), lesson=45, line=5, sentence ='S04-<b>Va</b>ya,<mark> pues <b>me</b>nos mal que los <b>ten</b>go en el co<b>rre</b>o. ¿Me da un e<b>qui</b>po <b>pa</b>ra que los</mark> recu<b>pe</b>re?', comment=None)\n",
      "Sentence(id=23, date_time = datetime.datetime(2024, 8, 28, 16, 18, 49, 110803), lesson=45, line=6, sentence ='S05-Si, <b></b><mark><b>pón</b>gase en el 4.  </mark>', comment=None)\n",
      "Sentence(id=24, date_time = datetime.datetime(2024, 8, 28, 16, 18, 49, 110863), lesson=45, line=7, sentence ='<mark> S06-<b>Oi</b>ga, el </mark>ordena<b>dor</b> no se en<b>cien</b>de.', comment=None)\n",
      "Sentence(id=25, date_time = datetime.datetime(2024, 8, 28, 16, 18, 49, 110901), lesson=45, line=11, sentence ='S10-<b>Mi</b>re, ya es<b>tá</b> bien, <mark>de<b>vuél</b>vame el pe</mark>n y me voy.', comment=None)\n",
      "Sentence(id=26, date_time = datetime.datetime(2024, 8, 28, 16, 18, 49, 110938), lesson=45, line=16, sentence ='T01-<b>Me</b>nos mal que <b></b><mark><b>ten</b>go tam<b>bién</b> los ar<b>chi</b>vos en el pen.  </mark>', comment=None)\n",
      "Sentence(id=27, date_time = datetime.datetime(2024, 8, 28, 16, 18, 49, 110972), lesson=45, line=17, sentence ='<mark> T02-<b>U</b>na vez impri<b>mi</b>da, ¿<b>pue</b>d</mark>o bo<b>rrar</b> la car<b>pe</b>ta?', comment=None)\n"
     ]
    }
   ],
   "source": [
    "from sqlalchemy import select\n",
    "from database import engine, MarkedSentence\n",
    "from sqlalchemy.orm import Session\n",
    "\n",
    "\n",
    "stmt = select(MarkedSentence).where(MarkedSentence.lesson == 45)\n",
    "with Session(engine) as session:\n",
    "    for marked_line in session.scalars(stmt):\n",
    "        print(marked_line)"
   ]
  },
  {
   "cell_type": "code",
   "execution_count": 3,
   "id": "4e12d4eb-ff90-463c-90ac-d4de9a8bb443",
   "metadata": {},
   "outputs": [
    {
     "data": {
      "text/plain": [
       "[Sentence(id=1, date_time = datetime.datetime(2024, 8, 28, 13, 18, 23, 37151), lesson=4, line=1, sentence ='S00-TITLE-Prese<mark>nta<b>cio</b>n</mark>es', comment=None),\n",
       " Sentence(id=2, date_time = datetime.datetime(2024, 8, 28, 13, 18, 23, 37552), lesson=4, line=2, sentence ='S01-Él es <b>Ra</b>fa, <mark>mi her<b>ma</b>no, y <b>e</b>lla es Luz, mi her<b>ma</b>na.  </mark>', comment=None),\n",
       " Sentence(id=3, date_time = datetime.datetime(2024, 8, 28, 13, 18, 23, 37586), lesson=4, line=3, sentence ='<mark> S02-Y él es mi <b>pa</b>dre, </mark>Mi<b>guel</b>.', comment=None),\n",
       " Sentence(id=4, date_time = datetime.datetime(2024, 8, 28, 13, 18, 23, 37610), lesson=4, line=5, sentence ='S04-Muy bien, <b>pe</b>ro ¡<b>h</b><mark><b>á</b>blame d</mark>e tú, por fa<b>vor</b>!', comment=None),\n",
       " Sentence(id=5, date_time = datetime.datetime(2024, 8, 28, 13, 18, 23, 37635), lesson=4, line=7, sentence ='T00-TRANSLA<mark>TE-Ejer<b>ci</b>cio </mark>1 – Tra<b>duz</b>ca', comment=None),\n",
       " Sentence(id=6, date_time = datetime.datetime(2024, 8, 28, 13, 18, 23, 37657), lesson=4, line=10, sentence ='T03-<b>Mu</b>cho <b></b><mark><b>gus</b>to.  </mark>', comment=None),\n",
       " Sentence(id=7, date_time = datetime.datetime(2024, 8, 28, 13, 18, 23, 37678), lesson=4, line=11, sentence ='<mark> T04-<b>Há</b>blame de </mark>tú, por fa<b>vor</b>.', comment=None),\n",
       " Sentence(id=8, date_time = datetime.datetime(2024, 8, 28, 13, 18, 25, 206141), lesson=5, line=2, sentence ='S01-¿<b>Cu</b><mark><b>á</b>ntos i<b>dio</b>mas <b>ha</b>bla us<b>ted</b>?  </mark>', comment=None),\n",
       " Sentence(id=9, date_time = datetime.datetime(2024, 8, 28, 13, 18, 25, 206358), lesson=5, line=3, sentence ='<mark> S02-<b>Ha</b>blo in<b>glés</b> y fra</mark>n<b>cés</b>.', comment=None),\n",
       " Sentence(id=10, date_time = datetime.datetime(2024, 8, 28, 13, 18, 25, 206400), lesson=5, line=4, sentence ='S03-¡<mark>Enhora<b>bue</b>na! ¿Ha<b>bla</b>mos in<b>glés</b> en<b>ton</b>ces?  </mark>', comment=None),\n",
       " Sentence(id=11, date_time = datetime.datetime(2024, 8, 28, 13, 18, 25, 206431), lesson=5, line=5, sentence ='<mark> S04-E<b>jem</b>, el in<b>glés</b> lo <b>le</b>o, <b>pe</b>ro no lo <b>ha</b>blo muy bien.  </mark>', comment=None),\n",
       " Sentence(id=12, date_time = datetime.datetime(2024, 8, 28, 13, 18, 25, 206461), lesson=5, line=6, sentence ='<mark> S05-Sí, <b>cla</b>ro</mark> Y el fran<b>cés</b>, ¿lo <b>ha</b>bla o <b>so</b>lo lo es<b>cri</b>be?', comment=None),\n",
       " Sentence(id=13, date_time = datetime.datetime(2024, 8, 28, 13, 18, 25, 206490), lesson=5, line=8, sentence ='T01-¿<b>H</b><mark><b>a</b>bla us<b>ted</b> in<b>glés</b>?  </mark>', comment=None),\n",
       " Sentence(id=14, date_time = datetime.datetime(2024, 8, 28, 13, 18, 25, 206522), lesson=5, line=9, sentence ='<mark> T02-¿<b>Cuá</b>ntos i<b>dio</b>mas es<b>cri</b>be us<b>te</b></mark><b>d</b>?', comment=None),\n",
       " Sentence(id=15, date_time = datetime.datetime(2024, 8, 28, 13, 18, 26, 715843), lesson=6, line=3, sentence ='S02-Soy enfer<b>m</b><mark><b>e</b>ra, tra<b>ba</b>jo en el hospi<b>ta</b></mark><b>l</b>.', comment=None),\n",
       " Sentence(id=16, date_time = datetime.datetime(2024, 8, 28, 13, 18, 26, 716014), lesson=6, line=8, sentence ='ST00-TRANSLATE-Ejer<b>ci</b>cio 1 – Tra<b>d<mark>u</mark>z</b>ca', comment=None),\n",
       " Sentence(id=17, date_time = datetime.datetime(2024, 8, 28, 13, 18, 26, 716048), lesson=6, line=9, sentence ='ST01-¿<b>E</b>res <mark>enfer<b>me</b>ra?  </mark>', comment=None),\n",
       " Sentence(id=18, date_time = datetime.datetime(2024, 8, 28, 13, 18, 26, 716079), lesson=6, line=10, sentence ='<mark> ST02-¿Tra<b>ba</b>jas en el hospi<b>tal</b>?  </mark>', comment=None),\n",
       " Sentence(id=19, date_time = datetime.datetime(2024, 8, 28, 13, 18, 26, 716108), lesson=6, line=11, sentence ='<mark> ST03-No, tra<b>ba</b>jo en e</mark>l <b>ci</b>ne.', comment=None),\n",
       " Sentence(id=20, date_time = datetime.datetime(2024, 8, 28, 16, 18, 49, 95007), lesson=45, line=2, sentence ='S01-Los ar<b>chi</b>vos es<b>tán</b> <mark>en la car<b>pe</b>ta <b>fo</b>tos.  </mark>', comment=None),\n",
       " Sentence(id=21, date_time = datetime.datetime(2024, 8, 28, 16, 18, 49, 110628), lesson=45, line=3, sentence ='<mark> S02-Sí, los <b>ve</b>o, se los im</mark><b>pri</b>mo ense<b>gui</b>da.', comment=None),\n",
       " Sentence(id=22, date_time = datetime.datetime(2024, 8, 28, 16, 18, 49, 110752), lesson=45, line=5, sentence ='S04-<b>Va</b>ya,<mark> pues <b>me</b>nos mal que los <b>ten</b>go en el co<b>rre</b>o. ¿Me da un e<b>qui</b>po <b>pa</b>ra que los</mark> recu<b>pe</b>re?', comment=None),\n",
       " Sentence(id=23, date_time = datetime.datetime(2024, 8, 28, 16, 18, 49, 110803), lesson=45, line=6, sentence ='S05-Si, <b></b><mark><b>pón</b>gase en el 4.  </mark>', comment=None),\n",
       " Sentence(id=24, date_time = datetime.datetime(2024, 8, 28, 16, 18, 49, 110863), lesson=45, line=7, sentence ='<mark> S06-<b>Oi</b>ga, el </mark>ordena<b>dor</b> no se en<b>cien</b>de.', comment=None),\n",
       " Sentence(id=25, date_time = datetime.datetime(2024, 8, 28, 16, 18, 49, 110901), lesson=45, line=11, sentence ='S10-<b>Mi</b>re, ya es<b>tá</b> bien, <mark>de<b>vuél</b>vame el pe</mark>n y me voy.', comment=None),\n",
       " Sentence(id=26, date_time = datetime.datetime(2024, 8, 28, 16, 18, 49, 110938), lesson=45, line=16, sentence ='T01-<b>Me</b>nos mal que <b></b><mark><b>ten</b>go tam<b>bién</b> los ar<b>chi</b>vos en el pen.  </mark>', comment=None),\n",
       " Sentence(id=27, date_time = datetime.datetime(2024, 8, 28, 16, 18, 49, 110972), lesson=45, line=17, sentence ='<mark> T02-<b>U</b>na vez impri<b>mi</b>da, ¿<b>pue</b>d</mark>o bo<b>rrar</b> la car<b>pe</b>ta?', comment=None)]"
      ]
     },
     "execution_count": 3,
     "metadata": {},
     "output_type": "execute_result"
    }
   ],
   "source": [
    "get_lessons_errors()"
   ]
  },
  {
   "cell_type": "code",
   "execution_count": 5,
   "id": "04bd803e-de27-48a9-a5b0-6b6321f879b8",
   "metadata": {},
   "outputs": [
    {
     "data": {
      "text/plain": [
       "datetime.datetime(1, 1, 1, 0, 0)"
      ]
     },
     "execution_count": 5,
     "metadata": {},
     "output_type": "execute_result"
    }
   ],
   "source": [
    "import datetime\n",
    "datetime.datetime.min"
   ]
  },
  {
   "cell_type": "code",
   "execution_count": 7,
   "id": "9a0e8bf3-d46e-43ae-ae31-f2e2f4d9258d",
   "metadata": {},
   "outputs": [],
   "source": [
    "d = {1 : \"toto\", 2 : \"titi\", 3 : \"tutu\"}"
   ]
  },
  {
   "cell_type": "raw",
   "id": "0d926436-f120-43ee-8c6c-25711c01b129",
   "metadata": {},
   "source": [
    "if 4 in d:\n",
    "    print(d[1])"
   ]
  },
  {
   "cell_type": "code",
   "execution_count": 13,
   "id": "4759f0b1-8ce9-45c1-adff-907a9743ee78",
   "metadata": {},
   "outputs": [
    {
     "data": {
      "text/plain": [
       "{1: 'toto', 2: 'titi', 3: 'tutu'}"
      ]
     },
     "execution_count": 13,
     "metadata": {},
     "output_type": "execute_result"
    }
   ],
   "source": [
    "d"
   ]
  },
  {
   "cell_type": "code",
   "execution_count": 15,
   "id": "0cd1b4de-9150-466f-9fbe-625b49ac6bee",
   "metadata": {},
   "outputs": [
    {
     "data": {
      "text/plain": [
       "'toto'"
      ]
     },
     "execution_count": 15,
     "metadata": {},
     "output_type": "execute_result"
    }
   ],
   "source": [
    "d[1]"
   ]
  },
  {
   "cell_type": "code",
   "execution_count": 17,
   "id": "fa56dc64-596d-4de2-a9f0-3281f61f42af",
   "metadata": {},
   "outputs": [
    {
     "name": "stdout",
     "output_type": "stream",
     "text": [
      "toto\n"
     ]
    }
   ],
   "source": [
    "if 1 in d:\n",
    "    print(d[1])"
   ]
  },
  {
   "cell_type": "code",
   "execution_count": null,
   "id": "47398d39-5cf2-49b3-9597-8f0f0f3af77b",
   "metadata": {},
   "outputs": [],
   "source": []
  }
 ],
 "metadata": {
  "kernelspec": {
   "display_name": "Python 3 (ipykernel)",
   "language": "python",
   "name": "python3"
  },
  "language_info": {
   "codemirror_mode": {
    "name": "ipython",
    "version": 3
   },
   "file_extension": ".py",
   "mimetype": "text/x-python",
   "name": "python",
   "nbconvert_exporter": "python",
   "pygments_lexer": "ipython3",
   "version": "3.11.3"
  }
 },
 "nbformat": 4,
 "nbformat_minor": 5
}
