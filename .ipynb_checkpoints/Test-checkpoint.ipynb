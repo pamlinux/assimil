{
 "cells": [
  {
   "cell_type": "code",
   "execution_count": 12,
   "id": "bbf7e184-f1b1-41bc-b56d-b54b21bdee1b",
   "metadata": {},
   "outputs": [],
   "source": [
    "from tonic_accent import get_history\n",
    "from database import get_single_lesson_errors"
   ]
  },
  {
   "cell_type": "code",
   "execution_count": 13,
   "id": "b9ae5440-bc03-46c0-842e-631ba62be2d0",
   "metadata": {},
   "outputs": [
    {
     "name": "stdout",
     "output_type": "stream",
     "text": [
      "2024-09-02 12:54:34,704 INFO sqlalchemy.engine.Engine BEGIN (implicit)\n",
      "2024-09-02 12:54:34,709 INFO sqlalchemy.engine.Engine SELECT marked_sentences.id, marked_sentences.date_time, marked_sentences.sentence, marked_sentences.comment, marked_sentences.lesson, marked_sentences.line \n",
      "FROM marked_sentences \n",
      "WHERE marked_sentences.date_time > ? AND marked_sentences.date_time < ? AND marked_sentences.lesson = ?\n",
      "2024-09-02 12:54:34,711 INFO sqlalchemy.engine.Engine [generated in 0.00142s] ('0001-01-01 00:00:00.000000', '9999-12-31 23:59:59.999999', 1)\n",
      "2024-09-02 12:54:34,713 INFO sqlalchemy.engine.Engine ROLLBACK\n",
      "2024-09-02 12:54:34,714 INFO sqlalchemy.engine.Engine BEGIN (implicit)\n",
      "2024-09-02 12:54:34,715 INFO sqlalchemy.engine.Engine SELECT marked_sentences.id, marked_sentences.date_time, marked_sentences.sentence, marked_sentences.comment, marked_sentences.lesson, marked_sentences.line \n",
      "FROM marked_sentences \n",
      "WHERE marked_sentences.date_time > ? AND marked_sentences.date_time < ? AND marked_sentences.lesson = ?\n",
      "2024-09-02 12:54:34,716 INFO sqlalchemy.engine.Engine [cached since 0.006341s ago] ('0001-01-01 00:00:00.000000', '9999-12-31 23:59:59.999999', 2)\n",
      "2024-09-02 12:54:34,716 INFO sqlalchemy.engine.Engine ROLLBACK\n",
      "2024-09-02 12:54:34,718 INFO sqlalchemy.engine.Engine BEGIN (implicit)\n",
      "2024-09-02 12:54:34,719 INFO sqlalchemy.engine.Engine SELECT marked_sentences.id, marked_sentences.date_time, marked_sentences.sentence, marked_sentences.comment, marked_sentences.lesson, marked_sentences.line \n",
      "FROM marked_sentences \n",
      "WHERE marked_sentences.date_time > ? AND marked_sentences.date_time < ? AND marked_sentences.lesson = ?\n",
      "2024-09-02 12:54:34,719 INFO sqlalchemy.engine.Engine [cached since 0.01008s ago] ('0001-01-01 00:00:00.000000', '9999-12-31 23:59:59.999999', 3)\n",
      "2024-09-02 12:54:34,720 INFO sqlalchemy.engine.Engine ROLLBACK\n",
      "2024-09-02 12:54:34,721 INFO sqlalchemy.engine.Engine BEGIN (implicit)\n",
      "2024-09-02 12:54:34,722 INFO sqlalchemy.engine.Engine SELECT marked_sentences.id, marked_sentences.date_time, marked_sentences.sentence, marked_sentences.comment, marked_sentences.lesson, marked_sentences.line \n",
      "FROM marked_sentences \n",
      "WHERE marked_sentences.date_time > ? AND marked_sentences.date_time < ? AND marked_sentences.lesson = ?\n",
      "2024-09-02 12:54:34,723 INFO sqlalchemy.engine.Engine [cached since 0.01339s ago] ('0001-01-01 00:00:00.000000', '9999-12-31 23:59:59.999999', 4)\n",
      "2024-09-02 12:54:34,724 INFO sqlalchemy.engine.Engine ROLLBACK\n",
      "2024-09-02 12:54:34,725 INFO sqlalchemy.engine.Engine BEGIN (implicit)\n",
      "2024-09-02 12:54:34,725 INFO sqlalchemy.engine.Engine SELECT marked_sentences.id, marked_sentences.date_time, marked_sentences.sentence, marked_sentences.comment, marked_sentences.lesson, marked_sentences.line \n",
      "FROM marked_sentences \n",
      "WHERE marked_sentences.date_time > ? AND marked_sentences.date_time < ? AND marked_sentences.lesson = ?\n",
      "2024-09-02 12:54:34,726 INFO sqlalchemy.engine.Engine [cached since 0.01638s ago] ('0001-01-01 00:00:00.000000', '9999-12-31 23:59:59.999999', 5)\n",
      "2024-09-02 12:54:34,727 INFO sqlalchemy.engine.Engine ROLLBACK\n",
      "2024-09-02 12:54:34,727 INFO sqlalchemy.engine.Engine BEGIN (implicit)\n",
      "2024-09-02 12:54:34,728 INFO sqlalchemy.engine.Engine SELECT marked_sentences.id, marked_sentences.date_time, marked_sentences.sentence, marked_sentences.comment, marked_sentences.lesson, marked_sentences.line \n",
      "FROM marked_sentences \n",
      "WHERE marked_sentences.date_time > ? AND marked_sentences.date_time < ? AND marked_sentences.lesson = ?\n",
      "2024-09-02 12:54:34,729 INFO sqlalchemy.engine.Engine [cached since 0.01983s ago] ('0001-01-01 00:00:00.000000', '9999-12-31 23:59:59.999999', 6)\n",
      "2024-09-02 12:54:34,730 INFO sqlalchemy.engine.Engine ROLLBACK\n",
      "2024-09-02 12:54:34,731 INFO sqlalchemy.engine.Engine BEGIN (implicit)\n",
      "2024-09-02 12:54:34,732 INFO sqlalchemy.engine.Engine SELECT marked_sentences.id, marked_sentences.date_time, marked_sentences.sentence, marked_sentences.comment, marked_sentences.lesson, marked_sentences.line \n",
      "FROM marked_sentences \n",
      "WHERE marked_sentences.date_time > ? AND marked_sentences.date_time < ? AND marked_sentences.lesson = ?\n",
      "2024-09-02 12:54:34,733 INFO sqlalchemy.engine.Engine [cached since 0.02369s ago] ('0001-01-01 00:00:00.000000', '9999-12-31 23:59:59.999999', 7)\n",
      "2024-09-02 12:54:34,734 INFO sqlalchemy.engine.Engine ROLLBACK\n",
      "2024-09-02 12:54:34,735 INFO sqlalchemy.engine.Engine BEGIN (implicit)\n",
      "2024-09-02 12:54:34,736 INFO sqlalchemy.engine.Engine SELECT marked_sentences.id, marked_sentences.date_time, marked_sentences.sentence, marked_sentences.comment, marked_sentences.lesson, marked_sentences.line \n",
      "FROM marked_sentences \n",
      "WHERE marked_sentences.date_time > ? AND marked_sentences.date_time < ? AND marked_sentences.lesson = ?\n",
      "2024-09-02 12:54:34,737 INFO sqlalchemy.engine.Engine [cached since 0.02746s ago] ('0001-01-01 00:00:00.000000', '9999-12-31 23:59:59.999999', 8)\n",
      "2024-09-02 12:54:34,737 INFO sqlalchemy.engine.Engine ROLLBACK\n",
      "2024-09-02 12:54:34,738 INFO sqlalchemy.engine.Engine BEGIN (implicit)\n",
      "2024-09-02 12:54:34,739 INFO sqlalchemy.engine.Engine SELECT marked_sentences.id, marked_sentences.date_time, marked_sentences.sentence, marked_sentences.comment, marked_sentences.lesson, marked_sentences.line \n",
      "FROM marked_sentences \n",
      "WHERE marked_sentences.date_time > ? AND marked_sentences.date_time < ? AND marked_sentences.lesson = ?\n",
      "2024-09-02 12:54:34,739 INFO sqlalchemy.engine.Engine [cached since 0.03004s ago] ('0001-01-01 00:00:00.000000', '9999-12-31 23:59:59.999999', 9)\n",
      "2024-09-02 12:54:34,740 INFO sqlalchemy.engine.Engine ROLLBACK\n",
      "2024-09-02 12:54:34,740 INFO sqlalchemy.engine.Engine BEGIN (implicit)\n",
      "2024-09-02 12:54:34,741 INFO sqlalchemy.engine.Engine SELECT marked_sentences.id, marked_sentences.date_time, marked_sentences.sentence, marked_sentences.comment, marked_sentences.lesson, marked_sentences.line \n",
      "FROM marked_sentences \n",
      "WHERE marked_sentences.date_time > ? AND marked_sentences.date_time < ? AND marked_sentences.lesson = ?\n",
      "2024-09-02 12:54:34,742 INFO sqlalchemy.engine.Engine [cached since 0.03244s ago] ('0001-01-01 00:00:00.000000', '9999-12-31 23:59:59.999999', 10)\n",
      "2024-09-02 12:54:34,743 INFO sqlalchemy.engine.Engine ROLLBACK\n",
      "2024-09-02 12:54:34,743 INFO sqlalchemy.engine.Engine BEGIN (implicit)\n",
      "2024-09-02 12:54:34,744 INFO sqlalchemy.engine.Engine SELECT marked_sentences.id, marked_sentences.date_time, marked_sentences.sentence, marked_sentences.comment, marked_sentences.lesson, marked_sentences.line \n",
      "FROM marked_sentences \n",
      "WHERE marked_sentences.date_time > ? AND marked_sentences.date_time < ? AND marked_sentences.lesson = ?\n",
      "2024-09-02 12:54:34,745 INFO sqlalchemy.engine.Engine [cached since 0.03564s ago] ('0001-01-01 00:00:00.000000', '9999-12-31 23:59:59.999999', 11)\n",
      "2024-09-02 12:54:34,746 INFO sqlalchemy.engine.Engine ROLLBACK\n",
      "2024-09-02 12:54:34,746 INFO sqlalchemy.engine.Engine BEGIN (implicit)\n",
      "2024-09-02 12:54:34,747 INFO sqlalchemy.engine.Engine SELECT marked_sentences.id, marked_sentences.date_time, marked_sentences.sentence, marked_sentences.comment, marked_sentences.lesson, marked_sentences.line \n",
      "FROM marked_sentences \n",
      "WHERE marked_sentences.date_time > ? AND marked_sentences.date_time < ? AND marked_sentences.lesson = ?\n",
      "2024-09-02 12:54:34,747 INFO sqlalchemy.engine.Engine [cached since 0.03816s ago] ('0001-01-01 00:00:00.000000', '9999-12-31 23:59:59.999999', 12)\n",
      "2024-09-02 12:54:34,748 INFO sqlalchemy.engine.Engine ROLLBACK\n",
      "2024-09-02 12:54:34,749 INFO sqlalchemy.engine.Engine BEGIN (implicit)\n",
      "2024-09-02 12:54:34,749 INFO sqlalchemy.engine.Engine SELECT marked_sentences.id, marked_sentences.date_time, marked_sentences.sentence, marked_sentences.comment, marked_sentences.lesson, marked_sentences.line \n",
      "FROM marked_sentences \n",
      "WHERE marked_sentences.date_time > ? AND marked_sentences.date_time < ? AND marked_sentences.lesson = ?\n",
      "2024-09-02 12:54:34,750 INFO sqlalchemy.engine.Engine [cached since 0.0404s ago] ('0001-01-01 00:00:00.000000', '9999-12-31 23:59:59.999999', 13)\n",
      "2024-09-02 12:54:34,750 INFO sqlalchemy.engine.Engine ROLLBACK\n",
      "2024-09-02 12:54:34,751 INFO sqlalchemy.engine.Engine BEGIN (implicit)\n",
      "2024-09-02 12:54:34,751 INFO sqlalchemy.engine.Engine SELECT marked_sentences.id, marked_sentences.date_time, marked_sentences.sentence, marked_sentences.comment, marked_sentences.lesson, marked_sentences.line \n",
      "FROM marked_sentences \n",
      "WHERE marked_sentences.date_time > ? AND marked_sentences.date_time < ? AND marked_sentences.lesson = ?\n",
      "2024-09-02 12:54:34,751 INFO sqlalchemy.engine.Engine [cached since 0.04231s ago] ('0001-01-01 00:00:00.000000', '9999-12-31 23:59:59.999999', 14)\n",
      "2024-09-02 12:54:34,752 INFO sqlalchemy.engine.Engine ROLLBACK\n",
      "2024-09-02 12:54:34,752 INFO sqlalchemy.engine.Engine BEGIN (implicit)\n",
      "2024-09-02 12:54:34,753 INFO sqlalchemy.engine.Engine SELECT marked_sentences.id, marked_sentences.date_time, marked_sentences.sentence, marked_sentences.comment, marked_sentences.lesson, marked_sentences.line \n",
      "FROM marked_sentences \n",
      "WHERE marked_sentences.date_time > ? AND marked_sentences.date_time < ? AND marked_sentences.lesson = ?\n",
      "2024-09-02 12:54:34,753 INFO sqlalchemy.engine.Engine [cached since 0.04392s ago] ('0001-01-01 00:00:00.000000', '9999-12-31 23:59:59.999999', 15)\n",
      "2024-09-02 12:54:34,753 INFO sqlalchemy.engine.Engine ROLLBACK\n",
      "2024-09-02 12:54:34,754 INFO sqlalchemy.engine.Engine BEGIN (implicit)\n",
      "2024-09-02 12:54:34,754 INFO sqlalchemy.engine.Engine SELECT marked_sentences.id, marked_sentences.date_time, marked_sentences.sentence, marked_sentences.comment, marked_sentences.lesson, marked_sentences.line \n",
      "FROM marked_sentences \n",
      "WHERE marked_sentences.date_time > ? AND marked_sentences.date_time < ? AND marked_sentences.lesson = ?\n",
      "2024-09-02 12:54:34,755 INFO sqlalchemy.engine.Engine [cached since 0.04536s ago] ('0001-01-01 00:00:00.000000', '9999-12-31 23:59:59.999999', 16)\n",
      "2024-09-02 12:54:34,755 INFO sqlalchemy.engine.Engine ROLLBACK\n",
      "2024-09-02 12:54:34,755 INFO sqlalchemy.engine.Engine BEGIN (implicit)\n",
      "2024-09-02 12:54:34,756 INFO sqlalchemy.engine.Engine SELECT marked_sentences.id, marked_sentences.date_time, marked_sentences.sentence, marked_sentences.comment, marked_sentences.lesson, marked_sentences.line \n",
      "FROM marked_sentences \n",
      "WHERE marked_sentences.date_time > ? AND marked_sentences.date_time < ? AND marked_sentences.lesson = ?\n",
      "2024-09-02 12:54:34,756 INFO sqlalchemy.engine.Engine [cached since 0.04683s ago] ('0001-01-01 00:00:00.000000', '9999-12-31 23:59:59.999999', 17)\n",
      "2024-09-02 12:54:34,757 INFO sqlalchemy.engine.Engine ROLLBACK\n",
      "2024-09-02 12:54:34,757 INFO sqlalchemy.engine.Engine BEGIN (implicit)\n",
      "2024-09-02 12:54:34,758 INFO sqlalchemy.engine.Engine SELECT marked_sentences.id, marked_sentences.date_time, marked_sentences.sentence, marked_sentences.comment, marked_sentences.lesson, marked_sentences.line \n",
      "FROM marked_sentences \n",
      "WHERE marked_sentences.date_time > ? AND marked_sentences.date_time < ? AND marked_sentences.lesson = ?\n",
      "2024-09-02 12:54:34,758 INFO sqlalchemy.engine.Engine [cached since 0.04897s ago] ('0001-01-01 00:00:00.000000', '9999-12-31 23:59:59.999999', 18)\n",
      "2024-09-02 12:54:34,759 INFO sqlalchemy.engine.Engine ROLLBACK\n",
      "2024-09-02 12:54:34,759 INFO sqlalchemy.engine.Engine BEGIN (implicit)\n",
      "2024-09-02 12:54:34,760 INFO sqlalchemy.engine.Engine SELECT marked_sentences.id, marked_sentences.date_time, marked_sentences.sentence, marked_sentences.comment, marked_sentences.lesson, marked_sentences.line \n",
      "FROM marked_sentences \n",
      "WHERE marked_sentences.date_time > ? AND marked_sentences.date_time < ? AND marked_sentences.lesson = ?\n",
      "2024-09-02 12:54:34,760 INFO sqlalchemy.engine.Engine [cached since 0.05059s ago] ('0001-01-01 00:00:00.000000', '9999-12-31 23:59:59.999999', 19)\n",
      "2024-09-02 12:54:34,760 INFO sqlalchemy.engine.Engine ROLLBACK\n",
      "2024-09-02 12:54:34,761 INFO sqlalchemy.engine.Engine BEGIN (implicit)\n",
      "2024-09-02 12:54:34,761 INFO sqlalchemy.engine.Engine SELECT marked_sentences.id, marked_sentences.date_time, marked_sentences.sentence, marked_sentences.comment, marked_sentences.lesson, marked_sentences.line \n",
      "FROM marked_sentences \n",
      "WHERE marked_sentences.date_time > ? AND marked_sentences.date_time < ? AND marked_sentences.lesson = ?\n",
      "2024-09-02 12:54:34,761 INFO sqlalchemy.engine.Engine [cached since 0.05198s ago] ('0001-01-01 00:00:00.000000', '9999-12-31 23:59:59.999999', 20)\n",
      "2024-09-02 12:54:34,762 INFO sqlalchemy.engine.Engine ROLLBACK\n",
      "2024-09-02 12:54:34,762 INFO sqlalchemy.engine.Engine BEGIN (implicit)\n",
      "2024-09-02 12:54:34,762 INFO sqlalchemy.engine.Engine SELECT marked_sentences.id, marked_sentences.date_time, marked_sentences.sentence, marked_sentences.comment, marked_sentences.lesson, marked_sentences.line \n",
      "FROM marked_sentences \n",
      "WHERE marked_sentences.date_time > ? AND marked_sentences.date_time < ? AND marked_sentences.lesson = ?\n",
      "2024-09-02 12:54:34,763 INFO sqlalchemy.engine.Engine [cached since 0.05349s ago] ('0001-01-01 00:00:00.000000', '9999-12-31 23:59:59.999999', 21)\n",
      "2024-09-02 12:54:34,763 INFO sqlalchemy.engine.Engine ROLLBACK\n",
      "2024-09-02 12:54:34,764 INFO sqlalchemy.engine.Engine BEGIN (implicit)\n",
      "2024-09-02 12:54:34,764 INFO sqlalchemy.engine.Engine SELECT marked_sentences.id, marked_sentences.date_time, marked_sentences.sentence, marked_sentences.comment, marked_sentences.lesson, marked_sentences.line \n",
      "FROM marked_sentences \n",
      "WHERE marked_sentences.date_time > ? AND marked_sentences.date_time < ? AND marked_sentences.lesson = ?\n",
      "2024-09-02 12:54:34,764 INFO sqlalchemy.engine.Engine [cached since 0.05493s ago] ('0001-01-01 00:00:00.000000', '9999-12-31 23:59:59.999999', 22)\n",
      "2024-09-02 12:54:34,764 INFO sqlalchemy.engine.Engine ROLLBACK\n",
      "2024-09-02 12:54:34,765 INFO sqlalchemy.engine.Engine BEGIN (implicit)\n",
      "2024-09-02 12:54:34,765 INFO sqlalchemy.engine.Engine SELECT marked_sentences.id, marked_sentences.date_time, marked_sentences.sentence, marked_sentences.comment, marked_sentences.lesson, marked_sentences.line \n",
      "FROM marked_sentences \n",
      "WHERE marked_sentences.date_time > ? AND marked_sentences.date_time < ? AND marked_sentences.lesson = ?\n",
      "2024-09-02 12:54:34,766 INFO sqlalchemy.engine.Engine [cached since 0.05644s ago] ('0001-01-01 00:00:00.000000', '9999-12-31 23:59:59.999999', 23)\n",
      "2024-09-02 12:54:34,766 INFO sqlalchemy.engine.Engine ROLLBACK\n",
      "2024-09-02 12:54:34,766 INFO sqlalchemy.engine.Engine BEGIN (implicit)\n",
      "2024-09-02 12:54:34,767 INFO sqlalchemy.engine.Engine SELECT marked_sentences.id, marked_sentences.date_time, marked_sentences.sentence, marked_sentences.comment, marked_sentences.lesson, marked_sentences.line \n",
      "FROM marked_sentences \n",
      "WHERE marked_sentences.date_time > ? AND marked_sentences.date_time < ? AND marked_sentences.lesson = ?\n",
      "2024-09-02 12:54:34,767 INFO sqlalchemy.engine.Engine [cached since 0.05777s ago] ('0001-01-01 00:00:00.000000', '9999-12-31 23:59:59.999999', 24)\n",
      "2024-09-02 12:54:34,767 INFO sqlalchemy.engine.Engine ROLLBACK\n",
      "2024-09-02 12:54:34,768 INFO sqlalchemy.engine.Engine BEGIN (implicit)\n",
      "2024-09-02 12:54:34,768 INFO sqlalchemy.engine.Engine SELECT marked_sentences.id, marked_sentences.date_time, marked_sentences.sentence, marked_sentences.comment, marked_sentences.lesson, marked_sentences.line \n",
      "FROM marked_sentences \n",
      "WHERE marked_sentences.date_time > ? AND marked_sentences.date_time < ? AND marked_sentences.lesson = ?\n",
      "2024-09-02 12:54:34,768 INFO sqlalchemy.engine.Engine [cached since 0.05896s ago] ('0001-01-01 00:00:00.000000', '9999-12-31 23:59:59.999999', 25)\n",
      "2024-09-02 12:54:34,768 INFO sqlalchemy.engine.Engine ROLLBACK\n",
      "2024-09-02 12:54:34,769 INFO sqlalchemy.engine.Engine BEGIN (implicit)\n",
      "2024-09-02 12:54:34,769 INFO sqlalchemy.engine.Engine SELECT marked_sentences.id, marked_sentences.date_time, marked_sentences.sentence, marked_sentences.comment, marked_sentences.lesson, marked_sentences.line \n",
      "FROM marked_sentences \n",
      "WHERE marked_sentences.date_time > ? AND marked_sentences.date_time < ? AND marked_sentences.lesson = ?\n",
      "2024-09-02 12:54:34,769 INFO sqlalchemy.engine.Engine [cached since 0.06015s ago] ('0001-01-01 00:00:00.000000', '9999-12-31 23:59:59.999999', 26)\n",
      "2024-09-02 12:54:34,770 INFO sqlalchemy.engine.Engine ROLLBACK\n",
      "2024-09-02 12:54:34,770 INFO sqlalchemy.engine.Engine BEGIN (implicit)\n",
      "2024-09-02 12:54:34,770 INFO sqlalchemy.engine.Engine SELECT marked_sentences.id, marked_sentences.date_time, marked_sentences.sentence, marked_sentences.comment, marked_sentences.lesson, marked_sentences.line \n",
      "FROM marked_sentences \n",
      "WHERE marked_sentences.date_time > ? AND marked_sentences.date_time < ? AND marked_sentences.lesson = ?\n",
      "2024-09-02 12:54:34,771 INFO sqlalchemy.engine.Engine [cached since 0.0615s ago] ('0001-01-01 00:00:00.000000', '9999-12-31 23:59:59.999999', 27)\n",
      "2024-09-02 12:54:34,771 INFO sqlalchemy.engine.Engine ROLLBACK\n",
      "2024-09-02 12:54:34,771 INFO sqlalchemy.engine.Engine BEGIN (implicit)\n",
      "2024-09-02 12:54:34,772 INFO sqlalchemy.engine.Engine SELECT marked_sentences.id, marked_sentences.date_time, marked_sentences.sentence, marked_sentences.comment, marked_sentences.lesson, marked_sentences.line \n",
      "FROM marked_sentences \n",
      "WHERE marked_sentences.date_time > ? AND marked_sentences.date_time < ? AND marked_sentences.lesson = ?\n",
      "2024-09-02 12:54:34,772 INFO sqlalchemy.engine.Engine [cached since 0.06277s ago] ('0001-01-01 00:00:00.000000', '9999-12-31 23:59:59.999999', 28)\n",
      "2024-09-02 12:54:34,772 INFO sqlalchemy.engine.Engine ROLLBACK\n",
      "2024-09-02 12:54:34,773 INFO sqlalchemy.engine.Engine BEGIN (implicit)\n",
      "2024-09-02 12:54:34,773 INFO sqlalchemy.engine.Engine SELECT marked_sentences.id, marked_sentences.date_time, marked_sentences.sentence, marked_sentences.comment, marked_sentences.lesson, marked_sentences.line \n",
      "FROM marked_sentences \n",
      "WHERE marked_sentences.date_time > ? AND marked_sentences.date_time < ? AND marked_sentences.lesson = ?\n",
      "2024-09-02 12:54:34,773 INFO sqlalchemy.engine.Engine [cached since 0.06399s ago] ('0001-01-01 00:00:00.000000', '9999-12-31 23:59:59.999999', 29)\n",
      "2024-09-02 12:54:34,774 INFO sqlalchemy.engine.Engine ROLLBACK\n",
      "2024-09-02 12:54:34,774 INFO sqlalchemy.engine.Engine BEGIN (implicit)\n",
      "2024-09-02 12:54:34,774 INFO sqlalchemy.engine.Engine SELECT marked_sentences.id, marked_sentences.date_time, marked_sentences.sentence, marked_sentences.comment, marked_sentences.lesson, marked_sentences.line \n",
      "FROM marked_sentences \n",
      "WHERE marked_sentences.date_time > ? AND marked_sentences.date_time < ? AND marked_sentences.lesson = ?\n",
      "2024-09-02 12:54:34,774 INFO sqlalchemy.engine.Engine [cached since 0.06509s ago] ('0001-01-01 00:00:00.000000', '9999-12-31 23:59:59.999999', 30)\n",
      "2024-09-02 12:54:34,775 INFO sqlalchemy.engine.Engine ROLLBACK\n",
      "2024-09-02 12:54:34,775 INFO sqlalchemy.engine.Engine BEGIN (implicit)\n",
      "2024-09-02 12:54:34,775 INFO sqlalchemy.engine.Engine SELECT marked_sentences.id, marked_sentences.date_time, marked_sentences.sentence, marked_sentences.comment, marked_sentences.lesson, marked_sentences.line \n",
      "FROM marked_sentences \n",
      "WHERE marked_sentences.date_time > ? AND marked_sentences.date_time < ? AND marked_sentences.lesson = ?\n",
      "2024-09-02 12:54:34,775 INFO sqlalchemy.engine.Engine [cached since 0.06629s ago] ('0001-01-01 00:00:00.000000', '9999-12-31 23:59:59.999999', 31)\n",
      "2024-09-02 12:54:34,776 INFO sqlalchemy.engine.Engine ROLLBACK\n",
      "2024-09-02 12:54:34,776 INFO sqlalchemy.engine.Engine BEGIN (implicit)\n",
      "2024-09-02 12:54:34,777 INFO sqlalchemy.engine.Engine SELECT marked_sentences.id, marked_sentences.date_time, marked_sentences.sentence, marked_sentences.comment, marked_sentences.lesson, marked_sentences.line \n",
      "FROM marked_sentences \n",
      "WHERE marked_sentences.date_time > ? AND marked_sentences.date_time < ? AND marked_sentences.lesson = ?\n",
      "2024-09-02 12:54:34,777 INFO sqlalchemy.engine.Engine [cached since 0.06761s ago] ('0001-01-01 00:00:00.000000', '9999-12-31 23:59:59.999999', 32)\n",
      "2024-09-02 12:54:34,777 INFO sqlalchemy.engine.Engine ROLLBACK\n",
      "2024-09-02 12:54:34,778 INFO sqlalchemy.engine.Engine BEGIN (implicit)\n",
      "2024-09-02 12:54:34,778 INFO sqlalchemy.engine.Engine SELECT marked_sentences.id, marked_sentences.date_time, marked_sentences.sentence, marked_sentences.comment, marked_sentences.lesson, marked_sentences.line \n",
      "FROM marked_sentences \n",
      "WHERE marked_sentences.date_time > ? AND marked_sentences.date_time < ? AND marked_sentences.lesson = ?\n",
      "2024-09-02 12:54:34,778 INFO sqlalchemy.engine.Engine [cached since 0.06897s ago] ('0001-01-01 00:00:00.000000', '9999-12-31 23:59:59.999999', 33)\n",
      "2024-09-02 12:54:34,778 INFO sqlalchemy.engine.Engine ROLLBACK\n",
      "2024-09-02 12:54:34,779 INFO sqlalchemy.engine.Engine BEGIN (implicit)\n",
      "2024-09-02 12:54:34,779 INFO sqlalchemy.engine.Engine SELECT marked_sentences.id, marked_sentences.date_time, marked_sentences.sentence, marked_sentences.comment, marked_sentences.lesson, marked_sentences.line \n",
      "FROM marked_sentences \n",
      "WHERE marked_sentences.date_time > ? AND marked_sentences.date_time < ? AND marked_sentences.lesson = ?\n",
      "2024-09-02 12:54:34,779 INFO sqlalchemy.engine.Engine [cached since 0.0701s ago] ('0001-01-01 00:00:00.000000', '9999-12-31 23:59:59.999999', 34)\n",
      "2024-09-02 12:54:34,780 INFO sqlalchemy.engine.Engine ROLLBACK\n",
      "2024-09-02 12:54:34,780 INFO sqlalchemy.engine.Engine BEGIN (implicit)\n",
      "2024-09-02 12:54:34,780 INFO sqlalchemy.engine.Engine SELECT marked_sentences.id, marked_sentences.date_time, marked_sentences.sentence, marked_sentences.comment, marked_sentences.lesson, marked_sentences.line \n",
      "FROM marked_sentences \n",
      "WHERE marked_sentences.date_time > ? AND marked_sentences.date_time < ? AND marked_sentences.lesson = ?\n",
      "2024-09-02 12:54:34,781 INFO sqlalchemy.engine.Engine [cached since 0.07137s ago] ('0001-01-01 00:00:00.000000', '9999-12-31 23:59:59.999999', 35)\n",
      "2024-09-02 12:54:34,781 INFO sqlalchemy.engine.Engine ROLLBACK\n",
      "2024-09-02 12:54:34,781 INFO sqlalchemy.engine.Engine BEGIN (implicit)\n",
      "2024-09-02 12:54:34,782 INFO sqlalchemy.engine.Engine SELECT marked_sentences.id, marked_sentences.date_time, marked_sentences.sentence, marked_sentences.comment, marked_sentences.lesson, marked_sentences.line \n",
      "FROM marked_sentences \n",
      "WHERE marked_sentences.date_time > ? AND marked_sentences.date_time < ? AND marked_sentences.lesson = ?\n",
      "2024-09-02 12:54:34,782 INFO sqlalchemy.engine.Engine [cached since 0.07258s ago] ('0001-01-01 00:00:00.000000', '9999-12-31 23:59:59.999999', 36)\n",
      "2024-09-02 12:54:34,782 INFO sqlalchemy.engine.Engine ROLLBACK\n",
      "2024-09-02 12:54:34,783 INFO sqlalchemy.engine.Engine BEGIN (implicit)\n",
      "2024-09-02 12:54:34,783 INFO sqlalchemy.engine.Engine SELECT marked_sentences.id, marked_sentences.date_time, marked_sentences.sentence, marked_sentences.comment, marked_sentences.lesson, marked_sentences.line \n",
      "FROM marked_sentences \n",
      "WHERE marked_sentences.date_time > ? AND marked_sentences.date_time < ? AND marked_sentences.lesson = ?\n",
      "2024-09-02 12:54:34,783 INFO sqlalchemy.engine.Engine [cached since 0.07386s ago] ('0001-01-01 00:00:00.000000', '9999-12-31 23:59:59.999999', 37)\n",
      "2024-09-02 12:54:34,783 INFO sqlalchemy.engine.Engine ROLLBACK\n",
      "2024-09-02 12:54:34,784 INFO sqlalchemy.engine.Engine BEGIN (implicit)\n",
      "2024-09-02 12:54:34,784 INFO sqlalchemy.engine.Engine SELECT marked_sentences.id, marked_sentences.date_time, marked_sentences.sentence, marked_sentences.comment, marked_sentences.lesson, marked_sentences.line \n",
      "FROM marked_sentences \n",
      "WHERE marked_sentences.date_time > ? AND marked_sentences.date_time < ? AND marked_sentences.lesson = ?\n",
      "2024-09-02 12:54:34,784 INFO sqlalchemy.engine.Engine [cached since 0.0749s ago] ('0001-01-01 00:00:00.000000', '9999-12-31 23:59:59.999999', 38)\n",
      "2024-09-02 12:54:34,784 INFO sqlalchemy.engine.Engine ROLLBACK\n",
      "2024-09-02 12:54:34,785 INFO sqlalchemy.engine.Engine BEGIN (implicit)\n",
      "2024-09-02 12:54:34,785 INFO sqlalchemy.engine.Engine SELECT marked_sentences.id, marked_sentences.date_time, marked_sentences.sentence, marked_sentences.comment, marked_sentences.lesson, marked_sentences.line \n",
      "FROM marked_sentences \n",
      "WHERE marked_sentences.date_time > ? AND marked_sentences.date_time < ? AND marked_sentences.lesson = ?\n",
      "2024-09-02 12:54:34,785 INFO sqlalchemy.engine.Engine [cached since 0.076s ago] ('0001-01-01 00:00:00.000000', '9999-12-31 23:59:59.999999', 39)\n",
      "2024-09-02 12:54:34,785 INFO sqlalchemy.engine.Engine ROLLBACK\n",
      "2024-09-02 12:54:34,786 INFO sqlalchemy.engine.Engine BEGIN (implicit)\n",
      "2024-09-02 12:54:34,786 INFO sqlalchemy.engine.Engine SELECT marked_sentences.id, marked_sentences.date_time, marked_sentences.sentence, marked_sentences.comment, marked_sentences.lesson, marked_sentences.line \n",
      "FROM marked_sentences \n",
      "WHERE marked_sentences.date_time > ? AND marked_sentences.date_time < ? AND marked_sentences.lesson = ?\n",
      "2024-09-02 12:54:34,786 INFO sqlalchemy.engine.Engine [cached since 0.07707s ago] ('0001-01-01 00:00:00.000000', '9999-12-31 23:59:59.999999', 40)\n",
      "2024-09-02 12:54:34,787 INFO sqlalchemy.engine.Engine ROLLBACK\n",
      "2024-09-02 12:54:34,787 INFO sqlalchemy.engine.Engine BEGIN (implicit)\n",
      "2024-09-02 12:54:34,787 INFO sqlalchemy.engine.Engine SELECT marked_sentences.id, marked_sentences.date_time, marked_sentences.sentence, marked_sentences.comment, marked_sentences.lesson, marked_sentences.line \n",
      "FROM marked_sentences \n",
      "WHERE marked_sentences.date_time > ? AND marked_sentences.date_time < ? AND marked_sentences.lesson = ?\n",
      "2024-09-02 12:54:34,787 INFO sqlalchemy.engine.Engine [cached since 0.07803s ago] ('0001-01-01 00:00:00.000000', '9999-12-31 23:59:59.999999', 41)\n",
      "2024-09-02 12:54:34,787 INFO sqlalchemy.engine.Engine ROLLBACK\n",
      "2024-09-02 12:54:34,788 INFO sqlalchemy.engine.Engine BEGIN (implicit)\n",
      "2024-09-02 12:54:34,788 INFO sqlalchemy.engine.Engine SELECT marked_sentences.id, marked_sentences.date_time, marked_sentences.sentence, marked_sentences.comment, marked_sentences.lesson, marked_sentences.line \n",
      "FROM marked_sentences \n",
      "WHERE marked_sentences.date_time > ? AND marked_sentences.date_time < ? AND marked_sentences.lesson = ?\n",
      "2024-09-02 12:54:34,788 INFO sqlalchemy.engine.Engine [cached since 0.07917s ago] ('0001-01-01 00:00:00.000000', '9999-12-31 23:59:59.999999', 42)\n",
      "2024-09-02 12:54:34,789 INFO sqlalchemy.engine.Engine ROLLBACK\n",
      "2024-09-02 12:54:34,789 INFO sqlalchemy.engine.Engine BEGIN (implicit)\n",
      "2024-09-02 12:54:34,789 INFO sqlalchemy.engine.Engine SELECT marked_sentences.id, marked_sentences.date_time, marked_sentences.sentence, marked_sentences.comment, marked_sentences.lesson, marked_sentences.line \n",
      "FROM marked_sentences \n",
      "WHERE marked_sentences.date_time > ? AND marked_sentences.date_time < ? AND marked_sentences.lesson = ?\n",
      "2024-09-02 12:54:34,790 INFO sqlalchemy.engine.Engine [cached since 0.08035s ago] ('0001-01-01 00:00:00.000000', '9999-12-31 23:59:59.999999', 43)\n",
      "2024-09-02 12:54:34,790 INFO sqlalchemy.engine.Engine ROLLBACK\n",
      "2024-09-02 12:54:34,790 INFO sqlalchemy.engine.Engine BEGIN (implicit)\n",
      "2024-09-02 12:54:34,790 INFO sqlalchemy.engine.Engine SELECT marked_sentences.id, marked_sentences.date_time, marked_sentences.sentence, marked_sentences.comment, marked_sentences.lesson, marked_sentences.line \n",
      "FROM marked_sentences \n",
      "WHERE marked_sentences.date_time > ? AND marked_sentences.date_time < ? AND marked_sentences.lesson = ?\n",
      "2024-09-02 12:54:34,791 INFO sqlalchemy.engine.Engine [cached since 0.08149s ago] ('0001-01-01 00:00:00.000000', '9999-12-31 23:59:59.999999', 44)\n",
      "2024-09-02 12:54:34,791 INFO sqlalchemy.engine.Engine ROLLBACK\n",
      "2024-09-02 12:54:34,791 INFO sqlalchemy.engine.Engine BEGIN (implicit)\n",
      "2024-09-02 12:54:34,792 INFO sqlalchemy.engine.Engine SELECT marked_sentences.id, marked_sentences.date_time, marked_sentences.sentence, marked_sentences.comment, marked_sentences.lesson, marked_sentences.line \n",
      "FROM marked_sentences \n",
      "WHERE marked_sentences.date_time > ? AND marked_sentences.date_time < ? AND marked_sentences.lesson = ?\n",
      "2024-09-02 12:54:34,792 INFO sqlalchemy.engine.Engine [cached since 0.08253s ago] ('0001-01-01 00:00:00.000000', '9999-12-31 23:59:59.999999', 45)\n",
      "2024-09-02 12:54:34,792 INFO sqlalchemy.engine.Engine ROLLBACK\n",
      "2024-09-02 12:54:34,792 INFO sqlalchemy.engine.Engine BEGIN (implicit)\n",
      "2024-09-02 12:54:34,793 INFO sqlalchemy.engine.Engine SELECT marked_sentences.id, marked_sentences.date_time, marked_sentences.sentence, marked_sentences.comment, marked_sentences.lesson, marked_sentences.line \n",
      "FROM marked_sentences \n",
      "WHERE marked_sentences.date_time > ? AND marked_sentences.date_time < ? AND marked_sentences.lesson = ?\n",
      "2024-09-02 12:54:34,793 INFO sqlalchemy.engine.Engine [cached since 0.08364s ago] ('0001-01-01 00:00:00.000000', '9999-12-31 23:59:59.999999', 46)\n",
      "2024-09-02 12:54:34,793 INFO sqlalchemy.engine.Engine ROLLBACK\n",
      "2024-09-02 12:54:34,793 INFO sqlalchemy.engine.Engine BEGIN (implicit)\n",
      "2024-09-02 12:54:34,794 INFO sqlalchemy.engine.Engine SELECT marked_sentences.id, marked_sentences.date_time, marked_sentences.sentence, marked_sentences.comment, marked_sentences.lesson, marked_sentences.line \n",
      "FROM marked_sentences \n",
      "WHERE marked_sentences.date_time > ? AND marked_sentences.date_time < ? AND marked_sentences.lesson = ?\n",
      "2024-09-02 12:54:34,794 INFO sqlalchemy.engine.Engine [cached since 0.08474s ago] ('0001-01-01 00:00:00.000000', '9999-12-31 23:59:59.999999', 47)\n",
      "2024-09-02 12:54:34,794 INFO sqlalchemy.engine.Engine ROLLBACK\n",
      "2024-09-02 12:54:34,795 INFO sqlalchemy.engine.Engine BEGIN (implicit)\n",
      "2024-09-02 12:54:34,795 INFO sqlalchemy.engine.Engine SELECT marked_sentences.id, marked_sentences.date_time, marked_sentences.sentence, marked_sentences.comment, marked_sentences.lesson, marked_sentences.line \n",
      "FROM marked_sentences \n",
      "WHERE marked_sentences.date_time > ? AND marked_sentences.date_time < ? AND marked_sentences.lesson = ?\n",
      "2024-09-02 12:54:34,795 INFO sqlalchemy.engine.Engine [cached since 0.0858s ago] ('0001-01-01 00:00:00.000000', '9999-12-31 23:59:59.999999', 48)\n",
      "2024-09-02 12:54:34,795 INFO sqlalchemy.engine.Engine ROLLBACK\n",
      "2024-09-02 12:54:34,796 INFO sqlalchemy.engine.Engine BEGIN (implicit)\n",
      "2024-09-02 12:54:34,796 INFO sqlalchemy.engine.Engine SELECT marked_sentences.id, marked_sentences.date_time, marked_sentences.sentence, marked_sentences.comment, marked_sentences.lesson, marked_sentences.line \n",
      "FROM marked_sentences \n",
      "WHERE marked_sentences.date_time > ? AND marked_sentences.date_time < ? AND marked_sentences.lesson = ?\n",
      "2024-09-02 12:54:34,796 INFO sqlalchemy.engine.Engine [cached since 0.0869s ago] ('0001-01-01 00:00:00.000000', '9999-12-31 23:59:59.999999', 49)\n",
      "2024-09-02 12:54:34,796 INFO sqlalchemy.engine.Engine ROLLBACK\n",
      "2024-09-02 12:54:34,797 INFO sqlalchemy.engine.Engine BEGIN (implicit)\n",
      "2024-09-02 12:54:34,797 INFO sqlalchemy.engine.Engine SELECT marked_sentences.id, marked_sentences.date_time, marked_sentences.sentence, marked_sentences.comment, marked_sentences.lesson, marked_sentences.line \n",
      "FROM marked_sentences \n",
      "WHERE marked_sentences.date_time > ? AND marked_sentences.date_time < ? AND marked_sentences.lesson = ?\n",
      "2024-09-02 12:54:34,797 INFO sqlalchemy.engine.Engine [cached since 0.08795s ago] ('0001-01-01 00:00:00.000000', '9999-12-31 23:59:59.999999', 50)\n",
      "2024-09-02 12:54:34,798 INFO sqlalchemy.engine.Engine ROLLBACK\n",
      "2024-09-02 12:54:34,798 INFO sqlalchemy.engine.Engine BEGIN (implicit)\n",
      "2024-09-02 12:54:34,798 INFO sqlalchemy.engine.Engine SELECT marked_sentences.id, marked_sentences.date_time, marked_sentences.sentence, marked_sentences.comment, marked_sentences.lesson, marked_sentences.line \n",
      "FROM marked_sentences \n",
      "WHERE marked_sentences.date_time > ? AND marked_sentences.date_time < ? AND marked_sentences.lesson = ?\n",
      "2024-09-02 12:54:34,798 INFO sqlalchemy.engine.Engine [cached since 0.08918s ago] ('0001-01-01 00:00:00.000000', '9999-12-31 23:59:59.999999', 51)\n",
      "2024-09-02 12:54:34,799 INFO sqlalchemy.engine.Engine ROLLBACK\n",
      "2024-09-02 12:54:34,799 INFO sqlalchemy.engine.Engine BEGIN (implicit)\n",
      "2024-09-02 12:54:34,799 INFO sqlalchemy.engine.Engine SELECT marked_sentences.id, marked_sentences.date_time, marked_sentences.sentence, marked_sentences.comment, marked_sentences.lesson, marked_sentences.line \n",
      "FROM marked_sentences \n",
      "WHERE marked_sentences.date_time > ? AND marked_sentences.date_time < ? AND marked_sentences.lesson = ?\n",
      "2024-09-02 12:54:34,799 INFO sqlalchemy.engine.Engine [cached since 0.09031s ago] ('0001-01-01 00:00:00.000000', '9999-12-31 23:59:59.999999', 52)\n",
      "2024-09-02 12:54:34,800 INFO sqlalchemy.engine.Engine ROLLBACK\n",
      "2024-09-02 12:54:34,800 INFO sqlalchemy.engine.Engine BEGIN (implicit)\n",
      "2024-09-02 12:54:34,800 INFO sqlalchemy.engine.Engine SELECT marked_sentences.id, marked_sentences.date_time, marked_sentences.sentence, marked_sentences.comment, marked_sentences.lesson, marked_sentences.line \n",
      "FROM marked_sentences \n",
      "WHERE marked_sentences.date_time > ? AND marked_sentences.date_time < ? AND marked_sentences.lesson = ?\n",
      "2024-09-02 12:54:34,801 INFO sqlalchemy.engine.Engine [cached since 0.09139s ago] ('0001-01-01 00:00:00.000000', '9999-12-31 23:59:59.999999', 53)\n",
      "2024-09-02 12:54:34,801 INFO sqlalchemy.engine.Engine ROLLBACK\n",
      "2024-09-02 12:54:34,801 INFO sqlalchemy.engine.Engine BEGIN (implicit)\n",
      "2024-09-02 12:54:34,801 INFO sqlalchemy.engine.Engine SELECT marked_sentences.id, marked_sentences.date_time, marked_sentences.sentence, marked_sentences.comment, marked_sentences.lesson, marked_sentences.line \n",
      "FROM marked_sentences \n",
      "WHERE marked_sentences.date_time > ? AND marked_sentences.date_time < ? AND marked_sentences.lesson = ?\n",
      "2024-09-02 12:54:34,802 INFO sqlalchemy.engine.Engine [cached since 0.09247s ago] ('0001-01-01 00:00:00.000000', '9999-12-31 23:59:59.999999', 54)\n",
      "2024-09-02 12:54:34,802 INFO sqlalchemy.engine.Engine ROLLBACK\n",
      "2024-09-02 12:54:34,802 INFO sqlalchemy.engine.Engine BEGIN (implicit)\n",
      "2024-09-02 12:54:34,803 INFO sqlalchemy.engine.Engine SELECT marked_sentences.id, marked_sentences.date_time, marked_sentences.sentence, marked_sentences.comment, marked_sentences.lesson, marked_sentences.line \n",
      "FROM marked_sentences \n",
      "WHERE marked_sentences.date_time > ? AND marked_sentences.date_time < ? AND marked_sentences.lesson = ?\n",
      "2024-09-02 12:54:34,803 INFO sqlalchemy.engine.Engine [cached since 0.09359s ago] ('0001-01-01 00:00:00.000000', '9999-12-31 23:59:59.999999', 55)\n",
      "2024-09-02 12:54:34,803 INFO sqlalchemy.engine.Engine ROLLBACK\n",
      "2024-09-02 12:54:34,804 INFO sqlalchemy.engine.Engine BEGIN (implicit)\n",
      "2024-09-02 12:54:34,804 INFO sqlalchemy.engine.Engine SELECT marked_sentences.id, marked_sentences.date_time, marked_sentences.sentence, marked_sentences.comment, marked_sentences.lesson, marked_sentences.line \n",
      "FROM marked_sentences \n",
      "WHERE marked_sentences.date_time > ? AND marked_sentences.date_time < ? AND marked_sentences.lesson = ?\n",
      "2024-09-02 12:54:34,804 INFO sqlalchemy.engine.Engine [cached since 0.09529s ago] ('0001-01-01 00:00:00.000000', '9999-12-31 23:59:59.999999', 56)\n",
      "2024-09-02 12:54:34,805 INFO sqlalchemy.engine.Engine ROLLBACK\n",
      "2024-09-02 12:54:34,805 INFO sqlalchemy.engine.Engine BEGIN (implicit)\n",
      "2024-09-02 12:54:34,806 INFO sqlalchemy.engine.Engine SELECT marked_sentences.id, marked_sentences.date_time, marked_sentences.sentence, marked_sentences.comment, marked_sentences.lesson, marked_sentences.line \n",
      "FROM marked_sentences \n",
      "WHERE marked_sentences.date_time > ? AND marked_sentences.date_time < ? AND marked_sentences.lesson = ?\n",
      "2024-09-02 12:54:34,806 INFO sqlalchemy.engine.Engine [cached since 0.09653s ago] ('0001-01-01 00:00:00.000000', '9999-12-31 23:59:59.999999', 57)\n",
      "2024-09-02 12:54:34,806 INFO sqlalchemy.engine.Engine ROLLBACK\n",
      "2024-09-02 12:54:34,806 INFO sqlalchemy.engine.Engine BEGIN (implicit)\n",
      "2024-09-02 12:54:34,807 INFO sqlalchemy.engine.Engine SELECT marked_sentences.id, marked_sentences.date_time, marked_sentences.sentence, marked_sentences.comment, marked_sentences.lesson, marked_sentences.line \n",
      "FROM marked_sentences \n",
      "WHERE marked_sentences.date_time > ? AND marked_sentences.date_time < ? AND marked_sentences.lesson = ?\n",
      "2024-09-02 12:54:34,807 INFO sqlalchemy.engine.Engine [cached since 0.09755s ago] ('0001-01-01 00:00:00.000000', '9999-12-31 23:59:59.999999', 58)\n",
      "2024-09-02 12:54:34,807 INFO sqlalchemy.engine.Engine ROLLBACK\n",
      "2024-09-02 12:54:34,807 INFO sqlalchemy.engine.Engine BEGIN (implicit)\n",
      "2024-09-02 12:54:34,808 INFO sqlalchemy.engine.Engine SELECT marked_sentences.id, marked_sentences.date_time, marked_sentences.sentence, marked_sentences.comment, marked_sentences.lesson, marked_sentences.line \n",
      "FROM marked_sentences \n",
      "WHERE marked_sentences.date_time > ? AND marked_sentences.date_time < ? AND marked_sentences.lesson = ?\n",
      "2024-09-02 12:54:34,808 INFO sqlalchemy.engine.Engine [cached since 0.09871s ago] ('0001-01-01 00:00:00.000000', '9999-12-31 23:59:59.999999', 59)\n",
      "2024-09-02 12:54:34,808 INFO sqlalchemy.engine.Engine ROLLBACK\n",
      "2024-09-02 12:54:34,808 INFO sqlalchemy.engine.Engine BEGIN (implicit)\n",
      "2024-09-02 12:54:34,809 INFO sqlalchemy.engine.Engine SELECT marked_sentences.id, marked_sentences.date_time, marked_sentences.sentence, marked_sentences.comment, marked_sentences.lesson, marked_sentences.line \n",
      "FROM marked_sentences \n",
      "WHERE marked_sentences.date_time > ? AND marked_sentences.date_time < ? AND marked_sentences.lesson = ?\n",
      "2024-09-02 12:54:34,809 INFO sqlalchemy.engine.Engine [cached since 0.09969s ago] ('0001-01-01 00:00:00.000000', '9999-12-31 23:59:59.999999', 60)\n",
      "2024-09-02 12:54:34,809 INFO sqlalchemy.engine.Engine ROLLBACK\n",
      "2024-09-02 12:54:34,809 INFO sqlalchemy.engine.Engine BEGIN (implicit)\n",
      "2024-09-02 12:54:34,810 INFO sqlalchemy.engine.Engine SELECT marked_sentences.id, marked_sentences.date_time, marked_sentences.sentence, marked_sentences.comment, marked_sentences.lesson, marked_sentences.line \n",
      "FROM marked_sentences \n",
      "WHERE marked_sentences.date_time > ? AND marked_sentences.date_time < ? AND marked_sentences.lesson = ?\n",
      "2024-09-02 12:54:34,810 INFO sqlalchemy.engine.Engine [cached since 0.1008s ago] ('0001-01-01 00:00:00.000000', '9999-12-31 23:59:59.999999', 61)\n",
      "2024-09-02 12:54:34,810 INFO sqlalchemy.engine.Engine ROLLBACK\n",
      "2024-09-02 12:54:34,811 INFO sqlalchemy.engine.Engine BEGIN (implicit)\n",
      "2024-09-02 12:54:34,811 INFO sqlalchemy.engine.Engine SELECT marked_sentences.id, marked_sentences.date_time, marked_sentences.sentence, marked_sentences.comment, marked_sentences.lesson, marked_sentences.line \n",
      "FROM marked_sentences \n",
      "WHERE marked_sentences.date_time > ? AND marked_sentences.date_time < ? AND marked_sentences.lesson = ?\n",
      "2024-09-02 12:54:34,811 INFO sqlalchemy.engine.Engine [cached since 0.1022s ago] ('0001-01-01 00:00:00.000000', '9999-12-31 23:59:59.999999', 62)\n",
      "2024-09-02 12:54:34,812 INFO sqlalchemy.engine.Engine ROLLBACK\n",
      "2024-09-02 12:54:34,812 INFO sqlalchemy.engine.Engine BEGIN (implicit)\n",
      "2024-09-02 12:54:34,812 INFO sqlalchemy.engine.Engine SELECT marked_sentences.id, marked_sentences.date_time, marked_sentences.sentence, marked_sentences.comment, marked_sentences.lesson, marked_sentences.line \n",
      "FROM marked_sentences \n",
      "WHERE marked_sentences.date_time > ? AND marked_sentences.date_time < ? AND marked_sentences.lesson = ?\n",
      "2024-09-02 12:54:34,812 INFO sqlalchemy.engine.Engine [cached since 0.1032s ago] ('0001-01-01 00:00:00.000000', '9999-12-31 23:59:59.999999', 63)\n",
      "2024-09-02 12:54:34,813 INFO sqlalchemy.engine.Engine ROLLBACK\n",
      "2024-09-02 12:54:34,813 INFO sqlalchemy.engine.Engine BEGIN (implicit)\n",
      "2024-09-02 12:54:34,813 INFO sqlalchemy.engine.Engine SELECT marked_sentences.id, marked_sentences.date_time, marked_sentences.sentence, marked_sentences.comment, marked_sentences.lesson, marked_sentences.line \n",
      "FROM marked_sentences \n",
      "WHERE marked_sentences.date_time > ? AND marked_sentences.date_time < ? AND marked_sentences.lesson = ?\n",
      "2024-09-02 12:54:34,813 INFO sqlalchemy.engine.Engine [cached since 0.1043s ago] ('0001-01-01 00:00:00.000000', '9999-12-31 23:59:59.999999', 64)\n",
      "2024-09-02 12:54:34,814 INFO sqlalchemy.engine.Engine ROLLBACK\n",
      "2024-09-02 12:54:34,814 INFO sqlalchemy.engine.Engine BEGIN (implicit)\n",
      "2024-09-02 12:54:34,815 INFO sqlalchemy.engine.Engine SELECT marked_sentences.id, marked_sentences.date_time, marked_sentences.sentence, marked_sentences.comment, marked_sentences.lesson, marked_sentences.line \n",
      "FROM marked_sentences \n",
      "WHERE marked_sentences.date_time > ? AND marked_sentences.date_time < ? AND marked_sentences.lesson = ?\n",
      "2024-09-02 12:54:34,815 INFO sqlalchemy.engine.Engine [cached since 0.1055s ago] ('0001-01-01 00:00:00.000000', '9999-12-31 23:59:59.999999', 65)\n",
      "2024-09-02 12:54:34,815 INFO sqlalchemy.engine.Engine ROLLBACK\n",
      "2024-09-02 12:54:34,815 INFO sqlalchemy.engine.Engine BEGIN (implicit)\n",
      "2024-09-02 12:54:34,816 INFO sqlalchemy.engine.Engine SELECT marked_sentences.id, marked_sentences.date_time, marked_sentences.sentence, marked_sentences.comment, marked_sentences.lesson, marked_sentences.line \n",
      "FROM marked_sentences \n",
      "WHERE marked_sentences.date_time > ? AND marked_sentences.date_time < ? AND marked_sentences.lesson = ?\n",
      "2024-09-02 12:54:34,816 INFO sqlalchemy.engine.Engine [cached since 0.1066s ago] ('0001-01-01 00:00:00.000000', '9999-12-31 23:59:59.999999', 66)\n",
      "2024-09-02 12:54:34,816 INFO sqlalchemy.engine.Engine ROLLBACK\n",
      "2024-09-02 12:54:34,816 INFO sqlalchemy.engine.Engine BEGIN (implicit)\n",
      "2024-09-02 12:54:34,817 INFO sqlalchemy.engine.Engine SELECT marked_sentences.id, marked_sentences.date_time, marked_sentences.sentence, marked_sentences.comment, marked_sentences.lesson, marked_sentences.line \n",
      "FROM marked_sentences \n",
      "WHERE marked_sentences.date_time > ? AND marked_sentences.date_time < ? AND marked_sentences.lesson = ?\n",
      "2024-09-02 12:54:34,817 INFO sqlalchemy.engine.Engine [cached since 0.1077s ago] ('0001-01-01 00:00:00.000000', '9999-12-31 23:59:59.999999', 67)\n",
      "2024-09-02 12:54:34,817 INFO sqlalchemy.engine.Engine ROLLBACK\n",
      "2024-09-02 12:54:34,818 INFO sqlalchemy.engine.Engine BEGIN (implicit)\n",
      "2024-09-02 12:54:34,818 INFO sqlalchemy.engine.Engine SELECT marked_sentences.id, marked_sentences.date_time, marked_sentences.sentence, marked_sentences.comment, marked_sentences.lesson, marked_sentences.line \n",
      "FROM marked_sentences \n",
      "WHERE marked_sentences.date_time > ? AND marked_sentences.date_time < ? AND marked_sentences.lesson = ?\n",
      "2024-09-02 12:54:34,818 INFO sqlalchemy.engine.Engine [cached since 0.1087s ago] ('0001-01-01 00:00:00.000000', '9999-12-31 23:59:59.999999', 68)\n",
      "2024-09-02 12:54:34,818 INFO sqlalchemy.engine.Engine ROLLBACK\n",
      "2024-09-02 12:54:34,818 INFO sqlalchemy.engine.Engine BEGIN (implicit)\n",
      "2024-09-02 12:54:34,819 INFO sqlalchemy.engine.Engine SELECT marked_sentences.id, marked_sentences.date_time, marked_sentences.sentence, marked_sentences.comment, marked_sentences.lesson, marked_sentences.line \n",
      "FROM marked_sentences \n",
      "WHERE marked_sentences.date_time > ? AND marked_sentences.date_time < ? AND marked_sentences.lesson = ?\n",
      "2024-09-02 12:54:34,819 INFO sqlalchemy.engine.Engine [cached since 0.1098s ago] ('0001-01-01 00:00:00.000000', '9999-12-31 23:59:59.999999', 69)\n",
      "2024-09-02 12:54:34,819 INFO sqlalchemy.engine.Engine ROLLBACK\n",
      "2024-09-02 12:54:34,820 INFO sqlalchemy.engine.Engine BEGIN (implicit)\n",
      "2024-09-02 12:54:34,820 INFO sqlalchemy.engine.Engine SELECT marked_sentences.id, marked_sentences.date_time, marked_sentences.sentence, marked_sentences.comment, marked_sentences.lesson, marked_sentences.line \n",
      "FROM marked_sentences \n",
      "WHERE marked_sentences.date_time > ? AND marked_sentences.date_time < ? AND marked_sentences.lesson = ?\n",
      "2024-09-02 12:54:34,820 INFO sqlalchemy.engine.Engine [cached since 0.1108s ago] ('0001-01-01 00:00:00.000000', '9999-12-31 23:59:59.999999', 70)\n",
      "2024-09-02 12:54:34,820 INFO sqlalchemy.engine.Engine ROLLBACK\n",
      "2024-09-02 12:54:34,821 INFO sqlalchemy.engine.Engine BEGIN (implicit)\n",
      "2024-09-02 12:54:34,821 INFO sqlalchemy.engine.Engine SELECT marked_sentences.id, marked_sentences.date_time, marked_sentences.sentence, marked_sentences.comment, marked_sentences.lesson, marked_sentences.line \n",
      "FROM marked_sentences \n",
      "WHERE marked_sentences.date_time > ? AND marked_sentences.date_time < ? AND marked_sentences.lesson = ?\n",
      "2024-09-02 12:54:34,821 INFO sqlalchemy.engine.Engine [cached since 0.1118s ago] ('0001-01-01 00:00:00.000000', '9999-12-31 23:59:59.999999', 71)\n",
      "2024-09-02 12:54:34,821 INFO sqlalchemy.engine.Engine ROLLBACK\n",
      "2024-09-02 12:54:34,822 INFO sqlalchemy.engine.Engine BEGIN (implicit)\n",
      "2024-09-02 12:54:34,822 INFO sqlalchemy.engine.Engine SELECT marked_sentences.id, marked_sentences.date_time, marked_sentences.sentence, marked_sentences.comment, marked_sentences.lesson, marked_sentences.line \n",
      "FROM marked_sentences \n",
      "WHERE marked_sentences.date_time > ? AND marked_sentences.date_time < ? AND marked_sentences.lesson = ?\n",
      "2024-09-02 12:54:34,822 INFO sqlalchemy.engine.Engine [cached since 0.1129s ago] ('0001-01-01 00:00:00.000000', '9999-12-31 23:59:59.999999', 72)\n",
      "2024-09-02 12:54:34,822 INFO sqlalchemy.engine.Engine ROLLBACK\n",
      "2024-09-02 12:54:34,823 INFO sqlalchemy.engine.Engine BEGIN (implicit)\n",
      "2024-09-02 12:54:34,823 INFO sqlalchemy.engine.Engine SELECT marked_sentences.id, marked_sentences.date_time, marked_sentences.sentence, marked_sentences.comment, marked_sentences.lesson, marked_sentences.line \n",
      "FROM marked_sentences \n",
      "WHERE marked_sentences.date_time > ? AND marked_sentences.date_time < ? AND marked_sentences.lesson = ?\n",
      "2024-09-02 12:54:34,823 INFO sqlalchemy.engine.Engine [cached since 0.1139s ago] ('0001-01-01 00:00:00.000000', '9999-12-31 23:59:59.999999', 73)\n",
      "2024-09-02 12:54:34,823 INFO sqlalchemy.engine.Engine ROLLBACK\n",
      "2024-09-02 12:54:34,824 INFO sqlalchemy.engine.Engine BEGIN (implicit)\n",
      "2024-09-02 12:54:34,824 INFO sqlalchemy.engine.Engine SELECT marked_sentences.id, marked_sentences.date_time, marked_sentences.sentence, marked_sentences.comment, marked_sentences.lesson, marked_sentences.line \n",
      "FROM marked_sentences \n",
      "WHERE marked_sentences.date_time > ? AND marked_sentences.date_time < ? AND marked_sentences.lesson = ?\n",
      "2024-09-02 12:54:34,824 INFO sqlalchemy.engine.Engine [cached since 0.1149s ago] ('0001-01-01 00:00:00.000000', '9999-12-31 23:59:59.999999', 74)\n",
      "2024-09-02 12:54:34,824 INFO sqlalchemy.engine.Engine ROLLBACK\n",
      "2024-09-02 12:54:34,825 INFO sqlalchemy.engine.Engine BEGIN (implicit)\n",
      "2024-09-02 12:54:34,825 INFO sqlalchemy.engine.Engine SELECT marked_sentences.id, marked_sentences.date_time, marked_sentences.sentence, marked_sentences.comment, marked_sentences.lesson, marked_sentences.line \n",
      "FROM marked_sentences \n",
      "WHERE marked_sentences.date_time > ? AND marked_sentences.date_time < ? AND marked_sentences.lesson = ?\n",
      "2024-09-02 12:54:34,825 INFO sqlalchemy.engine.Engine [cached since 0.116s ago] ('0001-01-01 00:00:00.000000', '9999-12-31 23:59:59.999999', 75)\n",
      "2024-09-02 12:54:34,825 INFO sqlalchemy.engine.Engine ROLLBACK\n",
      "2024-09-02 12:54:34,826 INFO sqlalchemy.engine.Engine BEGIN (implicit)\n",
      "2024-09-02 12:54:34,826 INFO sqlalchemy.engine.Engine SELECT marked_sentences.id, marked_sentences.date_time, marked_sentences.sentence, marked_sentences.comment, marked_sentences.lesson, marked_sentences.line \n",
      "FROM marked_sentences \n",
      "WHERE marked_sentences.date_time > ? AND marked_sentences.date_time < ? AND marked_sentences.lesson = ?\n",
      "2024-09-02 12:54:34,826 INFO sqlalchemy.engine.Engine [cached since 0.117s ago] ('0001-01-01 00:00:00.000000', '9999-12-31 23:59:59.999999', 76)\n",
      "2024-09-02 12:54:34,827 INFO sqlalchemy.engine.Engine ROLLBACK\n",
      "2024-09-02 12:54:34,827 INFO sqlalchemy.engine.Engine BEGIN (implicit)\n",
      "2024-09-02 12:54:34,827 INFO sqlalchemy.engine.Engine SELECT marked_sentences.id, marked_sentences.date_time, marked_sentences.sentence, marked_sentences.comment, marked_sentences.lesson, marked_sentences.line \n",
      "FROM marked_sentences \n",
      "WHERE marked_sentences.date_time > ? AND marked_sentences.date_time < ? AND marked_sentences.lesson = ?\n",
      "2024-09-02 12:54:34,827 INFO sqlalchemy.engine.Engine [cached since 0.1181s ago] ('0001-01-01 00:00:00.000000', '9999-12-31 23:59:59.999999', 77)\n",
      "2024-09-02 12:54:34,828 INFO sqlalchemy.engine.Engine ROLLBACK\n",
      "2024-09-02 12:54:34,828 INFO sqlalchemy.engine.Engine BEGIN (implicit)\n",
      "2024-09-02 12:54:34,838 INFO sqlalchemy.engine.Engine SELECT marked_sentences.id, marked_sentences.date_time, marked_sentences.sentence, marked_sentences.comment, marked_sentences.lesson, marked_sentences.line \n",
      "FROM marked_sentences \n",
      "WHERE marked_sentences.date_time > ? AND marked_sentences.date_time < ? AND marked_sentences.lesson = ?\n",
      "2024-09-02 12:54:34,838 INFO sqlalchemy.engine.Engine [cached since 0.1293s ago] ('0001-01-01 00:00:00.000000', '9999-12-31 23:59:59.999999', 78)\n",
      "2024-09-02 12:54:34,846 INFO sqlalchemy.engine.Engine ROLLBACK\n",
      "2024-09-02 12:54:34,846 INFO sqlalchemy.engine.Engine BEGIN (implicit)\n",
      "2024-09-02 12:54:34,858 INFO sqlalchemy.engine.Engine SELECT marked_sentences.id, marked_sentences.date_time, marked_sentences.sentence, marked_sentences.comment, marked_sentences.lesson, marked_sentences.line \n",
      "FROM marked_sentences \n",
      "WHERE marked_sentences.date_time > ? AND marked_sentences.date_time < ? AND marked_sentences.lesson = ?\n",
      "2024-09-02 12:54:34,863 INFO sqlalchemy.engine.Engine [cached since 0.1535s ago] ('0001-01-01 00:00:00.000000', '9999-12-31 23:59:59.999999', 79)\n",
      "2024-09-02 12:54:34,863 INFO sqlalchemy.engine.Engine ROLLBACK\n",
      "2024-09-02 12:54:34,864 INFO sqlalchemy.engine.Engine BEGIN (implicit)\n",
      "2024-09-02 12:54:34,864 INFO sqlalchemy.engine.Engine SELECT marked_sentences.id, marked_sentences.date_time, marked_sentences.sentence, marked_sentences.comment, marked_sentences.lesson, marked_sentences.line \n",
      "FROM marked_sentences \n",
      "WHERE marked_sentences.date_time > ? AND marked_sentences.date_time < ? AND marked_sentences.lesson = ?\n",
      "2024-09-02 12:54:34,864 INFO sqlalchemy.engine.Engine [cached since 0.155s ago] ('0001-01-01 00:00:00.000000', '9999-12-31 23:59:59.999999', 80)\n",
      "2024-09-02 12:54:34,864 INFO sqlalchemy.engine.Engine ROLLBACK\n",
      "2024-09-02 12:54:34,865 INFO sqlalchemy.engine.Engine BEGIN (implicit)\n",
      "2024-09-02 12:54:34,865 INFO sqlalchemy.engine.Engine SELECT marked_sentences.id, marked_sentences.date_time, marked_sentences.sentence, marked_sentences.comment, marked_sentences.lesson, marked_sentences.line \n",
      "FROM marked_sentences \n",
      "WHERE marked_sentences.date_time > ? AND marked_sentences.date_time < ? AND marked_sentences.lesson = ?\n",
      "2024-09-02 12:54:34,866 INFO sqlalchemy.engine.Engine [cached since 0.1564s ago] ('0001-01-01 00:00:00.000000', '9999-12-31 23:59:59.999999', 81)\n",
      "2024-09-02 12:54:34,866 INFO sqlalchemy.engine.Engine ROLLBACK\n",
      "2024-09-02 12:54:34,866 INFO sqlalchemy.engine.Engine BEGIN (implicit)\n",
      "2024-09-02 12:54:34,867 INFO sqlalchemy.engine.Engine SELECT marked_sentences.id, marked_sentences.date_time, marked_sentences.sentence, marked_sentences.comment, marked_sentences.lesson, marked_sentences.line \n",
      "FROM marked_sentences \n",
      "WHERE marked_sentences.date_time > ? AND marked_sentences.date_time < ? AND marked_sentences.lesson = ?\n",
      "2024-09-02 12:54:34,867 INFO sqlalchemy.engine.Engine [cached since 0.1577s ago] ('0001-01-01 00:00:00.000000', '9999-12-31 23:59:59.999999', 82)\n",
      "2024-09-02 12:54:34,867 INFO sqlalchemy.engine.Engine ROLLBACK\n",
      "2024-09-02 12:54:34,868 INFO sqlalchemy.engine.Engine BEGIN (implicit)\n",
      "2024-09-02 12:54:34,868 INFO sqlalchemy.engine.Engine SELECT marked_sentences.id, marked_sentences.date_time, marked_sentences.sentence, marked_sentences.comment, marked_sentences.lesson, marked_sentences.line \n",
      "FROM marked_sentences \n",
      "WHERE marked_sentences.date_time > ? AND marked_sentences.date_time < ? AND marked_sentences.lesson = ?\n",
      "2024-09-02 12:54:34,868 INFO sqlalchemy.engine.Engine [cached since 0.1588s ago] ('0001-01-01 00:00:00.000000', '9999-12-31 23:59:59.999999', 83)\n",
      "2024-09-02 12:54:34,868 INFO sqlalchemy.engine.Engine ROLLBACK\n",
      "2024-09-02 12:54:34,869 INFO sqlalchemy.engine.Engine BEGIN (implicit)\n",
      "2024-09-02 12:54:34,874 INFO sqlalchemy.engine.Engine SELECT marked_sentences.id, marked_sentences.date_time, marked_sentences.sentence, marked_sentences.comment, marked_sentences.lesson, marked_sentences.line \n",
      "FROM marked_sentences \n",
      "WHERE marked_sentences.date_time > ? AND marked_sentences.date_time < ? AND marked_sentences.lesson = ?\n",
      "2024-09-02 12:54:34,874 INFO sqlalchemy.engine.Engine [cached since 0.1651s ago] ('0001-01-01 00:00:00.000000', '9999-12-31 23:59:59.999999', 84)\n",
      "2024-09-02 12:54:34,875 INFO sqlalchemy.engine.Engine ROLLBACK\n",
      "2024-09-02 12:54:34,875 INFO sqlalchemy.engine.Engine BEGIN (implicit)\n",
      "2024-09-02 12:54:34,876 INFO sqlalchemy.engine.Engine SELECT marked_sentences.id, marked_sentences.date_time, marked_sentences.sentence, marked_sentences.comment, marked_sentences.lesson, marked_sentences.line \n",
      "FROM marked_sentences \n",
      "WHERE marked_sentences.date_time > ? AND marked_sentences.date_time < ? AND marked_sentences.lesson = ?\n",
      "2024-09-02 12:54:34,876 INFO sqlalchemy.engine.Engine [cached since 0.1667s ago] ('0001-01-01 00:00:00.000000', '9999-12-31 23:59:59.999999', 85)\n",
      "2024-09-02 12:54:34,876 INFO sqlalchemy.engine.Engine ROLLBACK\n",
      "2024-09-02 12:54:34,877 INFO sqlalchemy.engine.Engine BEGIN (implicit)\n",
      "2024-09-02 12:54:34,877 INFO sqlalchemy.engine.Engine SELECT marked_sentences.id, marked_sentences.date_time, marked_sentences.sentence, marked_sentences.comment, marked_sentences.lesson, marked_sentences.line \n",
      "FROM marked_sentences \n",
      "WHERE marked_sentences.date_time > ? AND marked_sentences.date_time < ? AND marked_sentences.lesson = ?\n",
      "2024-09-02 12:54:34,877 INFO sqlalchemy.engine.Engine [cached since 0.1681s ago] ('0001-01-01 00:00:00.000000', '9999-12-31 23:59:59.999999', 86)\n",
      "2024-09-02 12:54:34,878 INFO sqlalchemy.engine.Engine ROLLBACK\n",
      "2024-09-02 12:54:34,878 INFO sqlalchemy.engine.Engine BEGIN (implicit)\n",
      "2024-09-02 12:54:34,879 INFO sqlalchemy.engine.Engine SELECT marked_sentences.id, marked_sentences.date_time, marked_sentences.sentence, marked_sentences.comment, marked_sentences.lesson, marked_sentences.line \n",
      "FROM marked_sentences \n",
      "WHERE marked_sentences.date_time > ? AND marked_sentences.date_time < ? AND marked_sentences.lesson = ?\n",
      "2024-09-02 12:54:34,879 INFO sqlalchemy.engine.Engine [cached since 0.1697s ago] ('0001-01-01 00:00:00.000000', '9999-12-31 23:59:59.999999', 87)\n",
      "2024-09-02 12:54:34,879 INFO sqlalchemy.engine.Engine ROLLBACK\n",
      "2024-09-02 12:54:34,880 INFO sqlalchemy.engine.Engine BEGIN (implicit)\n",
      "2024-09-02 12:54:34,880 INFO sqlalchemy.engine.Engine SELECT marked_sentences.id, marked_sentences.date_time, marked_sentences.sentence, marked_sentences.comment, marked_sentences.lesson, marked_sentences.line \n",
      "FROM marked_sentences \n",
      "WHERE marked_sentences.date_time > ? AND marked_sentences.date_time < ? AND marked_sentences.lesson = ?\n",
      "2024-09-02 12:54:34,880 INFO sqlalchemy.engine.Engine [cached since 0.1708s ago] ('0001-01-01 00:00:00.000000', '9999-12-31 23:59:59.999999', 88)\n",
      "2024-09-02 12:54:34,881 INFO sqlalchemy.engine.Engine ROLLBACK\n",
      "2024-09-02 12:54:34,881 INFO sqlalchemy.engine.Engine BEGIN (implicit)\n",
      "2024-09-02 12:54:34,881 INFO sqlalchemy.engine.Engine SELECT marked_sentences.id, marked_sentences.date_time, marked_sentences.sentence, marked_sentences.comment, marked_sentences.lesson, marked_sentences.line \n",
      "FROM marked_sentences \n",
      "WHERE marked_sentences.date_time > ? AND marked_sentences.date_time < ? AND marked_sentences.lesson = ?\n",
      "2024-09-02 12:54:34,881 INFO sqlalchemy.engine.Engine [cached since 0.1723s ago] ('0001-01-01 00:00:00.000000', '9999-12-31 23:59:59.999999', 89)\n",
      "2024-09-02 12:54:34,882 INFO sqlalchemy.engine.Engine ROLLBACK\n",
      "2024-09-02 12:54:34,882 INFO sqlalchemy.engine.Engine BEGIN (implicit)\n",
      "2024-09-02 12:54:34,882 INFO sqlalchemy.engine.Engine SELECT marked_sentences.id, marked_sentences.date_time, marked_sentences.sentence, marked_sentences.comment, marked_sentences.lesson, marked_sentences.line \n",
      "FROM marked_sentences \n",
      "WHERE marked_sentences.date_time > ? AND marked_sentences.date_time < ? AND marked_sentences.lesson = ?\n",
      "2024-09-02 12:54:34,883 INFO sqlalchemy.engine.Engine [cached since 0.1735s ago] ('0001-01-01 00:00:00.000000', '9999-12-31 23:59:59.999999', 90)\n",
      "2024-09-02 12:54:34,883 INFO sqlalchemy.engine.Engine ROLLBACK\n",
      "2024-09-02 12:54:34,883 INFO sqlalchemy.engine.Engine BEGIN (implicit)\n",
      "2024-09-02 12:54:34,884 INFO sqlalchemy.engine.Engine SELECT marked_sentences.id, marked_sentences.date_time, marked_sentences.sentence, marked_sentences.comment, marked_sentences.lesson, marked_sentences.line \n",
      "FROM marked_sentences \n",
      "WHERE marked_sentences.date_time > ? AND marked_sentences.date_time < ? AND marked_sentences.lesson = ?\n",
      "2024-09-02 12:54:34,884 INFO sqlalchemy.engine.Engine [cached since 0.1746s ago] ('0001-01-01 00:00:00.000000', '9999-12-31 23:59:59.999999', 91)\n",
      "2024-09-02 12:54:34,884 INFO sqlalchemy.engine.Engine ROLLBACK\n",
      "2024-09-02 12:54:34,884 INFO sqlalchemy.engine.Engine BEGIN (implicit)\n",
      "2024-09-02 12:54:34,885 INFO sqlalchemy.engine.Engine SELECT marked_sentences.id, marked_sentences.date_time, marked_sentences.sentence, marked_sentences.comment, marked_sentences.lesson, marked_sentences.line \n",
      "FROM marked_sentences \n",
      "WHERE marked_sentences.date_time > ? AND marked_sentences.date_time < ? AND marked_sentences.lesson = ?\n",
      "2024-09-02 12:54:34,885 INFO sqlalchemy.engine.Engine [cached since 0.1756s ago] ('0001-01-01 00:00:00.000000', '9999-12-31 23:59:59.999999', 92)\n",
      "2024-09-02 12:54:34,885 INFO sqlalchemy.engine.Engine ROLLBACK\n",
      "2024-09-02 12:54:34,885 INFO sqlalchemy.engine.Engine BEGIN (implicit)\n",
      "2024-09-02 12:54:34,886 INFO sqlalchemy.engine.Engine SELECT marked_sentences.id, marked_sentences.date_time, marked_sentences.sentence, marked_sentences.comment, marked_sentences.lesson, marked_sentences.line \n",
      "FROM marked_sentences \n",
      "WHERE marked_sentences.date_time > ? AND marked_sentences.date_time < ? AND marked_sentences.lesson = ?\n",
      "2024-09-02 12:54:34,886 INFO sqlalchemy.engine.Engine [cached since 0.1767s ago] ('0001-01-01 00:00:00.000000', '9999-12-31 23:59:59.999999', 93)\n",
      "2024-09-02 12:54:34,886 INFO sqlalchemy.engine.Engine ROLLBACK\n",
      "2024-09-02 12:54:34,886 INFO sqlalchemy.engine.Engine BEGIN (implicit)\n",
      "2024-09-02 12:54:34,887 INFO sqlalchemy.engine.Engine SELECT marked_sentences.id, marked_sentences.date_time, marked_sentences.sentence, marked_sentences.comment, marked_sentences.lesson, marked_sentences.line \n",
      "FROM marked_sentences \n",
      "WHERE marked_sentences.date_time > ? AND marked_sentences.date_time < ? AND marked_sentences.lesson = ?\n",
      "2024-09-02 12:54:34,887 INFO sqlalchemy.engine.Engine [cached since 0.1778s ago] ('0001-01-01 00:00:00.000000', '9999-12-31 23:59:59.999999', 94)\n",
      "2024-09-02 12:54:34,887 INFO sqlalchemy.engine.Engine ROLLBACK\n",
      "2024-09-02 12:54:34,888 INFO sqlalchemy.engine.Engine BEGIN (implicit)\n",
      "2024-09-02 12:54:34,888 INFO sqlalchemy.engine.Engine SELECT marked_sentences.id, marked_sentences.date_time, marked_sentences.sentence, marked_sentences.comment, marked_sentences.lesson, marked_sentences.line \n",
      "FROM marked_sentences \n",
      "WHERE marked_sentences.date_time > ? AND marked_sentences.date_time < ? AND marked_sentences.lesson = ?\n",
      "2024-09-02 12:54:34,888 INFO sqlalchemy.engine.Engine [cached since 0.1789s ago] ('0001-01-01 00:00:00.000000', '9999-12-31 23:59:59.999999', 95)\n",
      "2024-09-02 12:54:34,888 INFO sqlalchemy.engine.Engine ROLLBACK\n",
      "2024-09-02 12:54:34,889 INFO sqlalchemy.engine.Engine BEGIN (implicit)\n",
      "2024-09-02 12:54:34,889 INFO sqlalchemy.engine.Engine SELECT marked_sentences.id, marked_sentences.date_time, marked_sentences.sentence, marked_sentences.comment, marked_sentences.lesson, marked_sentences.line \n",
      "FROM marked_sentences \n",
      "WHERE marked_sentences.date_time > ? AND marked_sentences.date_time < ? AND marked_sentences.lesson = ?\n",
      "2024-09-02 12:54:34,889 INFO sqlalchemy.engine.Engine [cached since 0.1799s ago] ('0001-01-01 00:00:00.000000', '9999-12-31 23:59:59.999999', 96)\n",
      "2024-09-02 12:54:34,889 INFO sqlalchemy.engine.Engine ROLLBACK\n",
      "2024-09-02 12:54:34,890 INFO sqlalchemy.engine.Engine BEGIN (implicit)\n",
      "2024-09-02 12:54:34,890 INFO sqlalchemy.engine.Engine SELECT marked_sentences.id, marked_sentences.date_time, marked_sentences.sentence, marked_sentences.comment, marked_sentences.lesson, marked_sentences.line \n",
      "FROM marked_sentences \n",
      "WHERE marked_sentences.date_time > ? AND marked_sentences.date_time < ? AND marked_sentences.lesson = ?\n",
      "2024-09-02 12:54:34,890 INFO sqlalchemy.engine.Engine [cached since 0.1809s ago] ('0001-01-01 00:00:00.000000', '9999-12-31 23:59:59.999999', 97)\n",
      "2024-09-02 12:54:34,890 INFO sqlalchemy.engine.Engine ROLLBACK\n",
      "2024-09-02 12:54:34,891 INFO sqlalchemy.engine.Engine BEGIN (implicit)\n",
      "2024-09-02 12:54:34,891 INFO sqlalchemy.engine.Engine SELECT marked_sentences.id, marked_sentences.date_time, marked_sentences.sentence, marked_sentences.comment, marked_sentences.lesson, marked_sentences.line \n",
      "FROM marked_sentences \n",
      "WHERE marked_sentences.date_time > ? AND marked_sentences.date_time < ? AND marked_sentences.lesson = ?\n",
      "2024-09-02 12:54:34,891 INFO sqlalchemy.engine.Engine [cached since 0.1818s ago] ('0001-01-01 00:00:00.000000', '9999-12-31 23:59:59.999999', 98)\n",
      "2024-09-02 12:54:34,891 INFO sqlalchemy.engine.Engine ROLLBACK\n",
      "2024-09-02 12:54:34,892 INFO sqlalchemy.engine.Engine BEGIN (implicit)\n",
      "2024-09-02 12:54:34,892 INFO sqlalchemy.engine.Engine SELECT marked_sentences.id, marked_sentences.date_time, marked_sentences.sentence, marked_sentences.comment, marked_sentences.lesson, marked_sentences.line \n",
      "FROM marked_sentences \n",
      "WHERE marked_sentences.date_time > ? AND marked_sentences.date_time < ? AND marked_sentences.lesson = ?\n",
      "2024-09-02 12:54:34,892 INFO sqlalchemy.engine.Engine [cached since 0.1828s ago] ('0001-01-01 00:00:00.000000', '9999-12-31 23:59:59.999999', 99)\n",
      "2024-09-02 12:54:34,892 INFO sqlalchemy.engine.Engine ROLLBACK\n",
      "2024-09-02 12:54:34,893 INFO sqlalchemy.engine.Engine BEGIN (implicit)\n",
      "2024-09-02 12:54:34,893 INFO sqlalchemy.engine.Engine SELECT marked_sentences.id, marked_sentences.date_time, marked_sentences.sentence, marked_sentences.comment, marked_sentences.lesson, marked_sentences.line \n",
      "FROM marked_sentences \n",
      "WHERE marked_sentences.date_time > ? AND marked_sentences.date_time < ? AND marked_sentences.lesson = ?\n",
      "2024-09-02 12:54:34,893 INFO sqlalchemy.engine.Engine [cached since 0.1838s ago] ('0001-01-01 00:00:00.000000', '9999-12-31 23:59:59.999999', 100)\n",
      "2024-09-02 12:54:34,893 INFO sqlalchemy.engine.Engine ROLLBACK\n"
     ]
    }
   ],
   "source": [
    "col_nb, th_rows, rows = get_history()\n"
   ]
  },
  {
   "cell_type": "code",
   "execution_count": 14,
   "id": "9d1fd9ce-9299-4b20-b53f-3bcd89f224e1",
   "metadata": {},
   "outputs": [
    {
     "data": {
      "text/plain": [
       "(3,\n",
       " [4, 5, 45, 97],\n",
       " [[datetime.datetime(2024, 8, 30, 18, 11, 11, 870753),\n",
       "   datetime.datetime(2024, 8, 30, 18, 37, 31, 497652),\n",
       "   datetime.datetime(2024, 8, 31, 17, 32, 18, 58630)],\n",
       "  [datetime.datetime(2024, 8, 30, 18, 12, 5, 788656),\n",
       "   datetime.datetime(2024, 8, 31, 17, 33, 16, 342000)],\n",
       "  [datetime.datetime(2024, 8, 30, 18, 13, 24, 955334)],\n",
       "  [datetime.datetime(2024, 8, 31, 17, 34, 3, 198940)]])"
      ]
     },
     "execution_count": 14,
     "metadata": {},
     "output_type": "execute_result"
    }
   ],
   "source": [
    "col_nb, th_rows, rows"
   ]
  },
  {
   "cell_type": "code",
   "execution_count": 15,
   "id": "e3456b29-6cd5-42a7-960a-f6ee75e8f2c7",
   "metadata": {},
   "outputs": [],
   "source": [
    "from jinja2 import Environment, FileSystemLoader\n",
    "import os\n"
   ]
  },
  {
   "cell_type": "code",
   "execution_count": 16,
   "id": "5772f762-eeed-4ab2-8d5c-27aa86d23e99",
   "metadata": {},
   "outputs": [],
   "source": [
    "env = Environment( loader = FileSystemLoader(\"templates\") )\n"
   ]
  },
  {
   "cell_type": "code",
   "execution_count": 20,
   "id": "24d5a616-20be-41bf-b4d9-00baacd1b1dd",
   "metadata": {},
   "outputs": [],
   "source": [
    "template = env.get_template('errors_list.html')"
   ]
  },
  {
   "cell_type": "code",
   "execution_count": 21,
   "id": "d9ee1fe3-55f1-4fd2-bdaf-35c0513de223",
   "metadata": {},
   "outputs": [],
   "source": [
    "div0 = template.render(\n",
    "    col_nb = col_nb,\n",
    "    th_rows = th_rows,\n",
    "    rows = rows\n",
    ")\n",
    "    "
   ]
  },
  {
   "cell_type": "code",
   "execution_count": 22,
   "id": "89608e1c-30fd-494b-968e-831733f4c5e4",
   "metadata": {},
   "outputs": [
    {
     "name": "stdout",
     "output_type": "stream",
     "text": [
      "<style>\n",
      "    h1,\n",
      "    h2,\n",
      "    h3,\n",
      "    h4 {\n",
      "        margin: 0.1rem 0;\n",
      "    }\n",
      "\n",
      "    h1 {\n",
      "        font-size: 2rem;\n",
      "    }\n",
      "\n",
      "    h2 {\n",
      "        font-size: 1.5rem;\n",
      "        padding-left: 20px;\n",
      "        color: rgba(122,29,1,255)\n",
      "    }\n",
      "\n",
      "    h3 {\n",
      "        font-size: 1.2rem;\n",
      "        padding-left: 40px;\n",
      "    }\n",
      "\n",
      "    h4 {\n",
      "        font-size: 1rem;\n",
      "        font-style: italic;\n",
      "        padding-left: 60px;\n",
      "    }\n",
      "\n",
      "    p {\n",
      "        padding-left: 40px;\n",
      "    }\n",
      "    ul {\n",
      "  padding: 0;\n",
      "  width: 100%;\n",
      "}\n",
      "\n",
      "    li {\n",
      "        display: inline;\n",
      "    }\n",
      "\n",
      "    a {\n",
      "        outline: none;\n",
      "        text-decoration: none;\n",
      "        display: inline-block;\n",
      "        margin-right: 0.625%;\n",
      "        text-align: center;\n",
      "        line-height: 3;\n",
      "        color: black;\n",
      "}\n",
      "\n",
      "    li:last-child a {\n",
      "        margin-right: 0;\n",
      "    }\n",
      "\n",
      "   li a:link, li a:visited, li a:focus {\n",
      "        background: yellow;\n",
      "    }\n",
      "\n",
      "    li a:hover {\n",
      "        background: orange;\n",
      "    }\n",
      "\n",
      "    li a:active {\n",
      "        background: red;\n",
      "        color: white;\n",
      "    }\n",
      "</style>\n",
      "<p></p>\n",
      "<h1>Erreurs trouvées par leçon</h1>\n",
      "    <p></p>\n",
      "    \n",
      "        \n",
      "        <div>\n",
      "            <h2>Lección 4</h2>\n",
      "            <p>\n",
      "                <ul>\n",
      "                    \n",
      "                        \n",
      "                        <li><a href='/lesson-errors/?lesson=4&datetime=30-08-2024 18:11:11870753'>30-08-2024 18:11:11</a></li>\n",
      "                    \n",
      "                        \n",
      "                        <li><a href='/lesson-errors/?lesson=4&datetime=30-08-2024 18:37:31497652'>30-08-2024 18:37:31</a></li>\n",
      "                    \n",
      "                        \n",
      "                        <li><a href='/lesson-errors/?lesson=4&datetime=31-08-2024 17:32:18058630'>31-08-2024 17:32:18</a></li>\n",
      "                    \n",
      "                </ul>\n",
      "            </p>\n",
      "        </div>\n",
      "        <p></p>\n",
      " \n",
      "    \n",
      "        \n",
      "        <div>\n",
      "            <h2>Lección 5</h2>\n",
      "            <p>\n",
      "                <ul>\n",
      "                    \n",
      "                        \n",
      "                        <li><a href='/lesson-errors/?lesson=5&datetime=30-08-2024 18:12:05788656'>30-08-2024 18:12:05</a></li>\n",
      "                    \n",
      "                        \n",
      "                        <li><a href='/lesson-errors/?lesson=5&datetime=31-08-2024 17:33:16342000'>31-08-2024 17:33:16</a></li>\n",
      "                    \n",
      "                </ul>\n",
      "            </p>\n",
      "        </div>\n",
      "        <p></p>\n",
      " \n",
      "    \n",
      "        \n",
      "        <div>\n",
      "            <h2>Lección 45</h2>\n",
      "            <p>\n",
      "                <ul>\n",
      "                    \n",
      "                        \n",
      "                        <li><a href='/lesson-errors/?lesson=45&datetime=30-08-2024 18:13:24955334'>30-08-2024 18:13:24</a></li>\n",
      "                    \n",
      "                </ul>\n",
      "            </p>\n",
      "        </div>\n",
      "        <p></p>\n",
      " \n",
      "    \n",
      "        \n",
      "        <div>\n",
      "            <h2>Lección 97</h2>\n",
      "            <p>\n",
      "                <ul>\n",
      "                    \n",
      "                        \n",
      "                        <li><a href='/lesson-errors/?lesson=97&datetime=31-08-2024 17:34:03198940'>31-08-2024 17:34:03</a></li>\n",
      "                    \n",
      "                </ul>\n",
      "            </p>\n",
      "        </div>\n",
      "        <p></p>\n",
      " \n",
      "    \n",
      "\n",
      "<script>\n",
      "          \n",
      "    function loadLesson(row, col) {\n",
      "        console.log(row);\n",
      "        console.log(col);\n",
      "\n",
      "    }\n",
      "\n",
      "</script>\n"
     ]
    }
   ],
   "source": [
    "print(div0)"
   ]
  },
  {
   "cell_type": "code",
   "execution_count": 9,
   "id": "c52af686-5c3f-4187-9212-bc468fa2a1c6",
   "metadata": {},
   "outputs": [
    {
     "data": {
      "text/plain": [
       "\"<style>    h1,    h2,    h3,    h4 {        margin: 0.1rem 0;    }    h1 {        font-size: 2rem;    }    h2 {        font-size: 1.5rem;        padding-left: 20px;        color: rgba(122,29,1,255)    }    h3 {        font-size: 1.2rem;        padding-left: 40px;    }    h4 {        font-size: 1rem;        font-style: italic;        padding-left: 60px;    }    p {        padding-left: 40px;    }</style><p></p><h1>Erreurs trouvées par leçon</h1>                    <div>            <h2>Lección 4</h2>            <p>                                    <button onclick='loadLesson(0, 0)'>30-08-2024 18:11:11</button>                                    <button onclick='loadLesson(0, 1)'>30-08-2024 18:37:31</button>                                    <button onclick='loadLesson(0, 2)'>31-08-2024 17:32:18</button>                            </p>        </div>                    <div>            <h2>Lección 5</h2>            <p>                                    <button onclick='loadLesson(1, 0)'>30-08-2024 18:12:05</button>                                    <button onclick='loadLesson(1, 1)'>31-08-2024 17:33:16</button>                            </p>        </div>                    <div>            <h2>Lección 45</h2>            <p>                                    <button onclick='loadLesson(2, 0)'>30-08-2024 18:13:24</button>                            </p>        </div>                    <div>            <h2>Lección 97</h2>            <p>                                    <button onclick='loadLesson(3, 0)'>31-08-2024 17:34:03</button>                            </p>        </div>    <script>              function loadLesson(row, col) {        console.log(row);        console.log(col);    }</script>\""
      ]
     },
     "execution_count": 9,
     "metadata": {},
     "output_type": "execute_result"
    }
   ],
   "source": [
    "div0 = div0.replace('\\n', '')\n",
    "div0"
   ]
  },
  {
   "cell_type": "code",
   "execution_count": 10,
   "id": "65494ef6-1715-4939-a1de-7cb5c7d795be",
   "metadata": {},
   "outputs": [],
   "source": [
    "from datetime import datetime"
   ]
  },
  {
   "cell_type": "code",
   "execution_count": 12,
   "id": "b2c5522e-0b0d-4286-a4ff-8a71929d56ec",
   "metadata": {},
   "outputs": [],
   "source": [
    "date_to_datetime = datetime.strptime(\"2024-09-01\", '%Y-%m-%d')"
   ]
  },
  {
   "cell_type": "code",
   "execution_count": 13,
   "id": "69688873-9b67-4086-9c81-a2b8a467b3d2",
   "metadata": {},
   "outputs": [
    {
     "data": {
      "text/plain": [
       "datetime.datetime(2024, 9, 1, 0, 0)"
      ]
     },
     "execution_count": 13,
     "metadata": {},
     "output_type": "execute_result"
    }
   ],
   "source": [
    "date_to_datetime"
   ]
  },
  {
   "cell_type": "code",
   "execution_count": 14,
   "id": "36a916da-c575-4660-a112-4016fa0492c8",
   "metadata": {},
   "outputs": [
    {
     "data": {
      "text/plain": [
       "[[datetime.datetime(2024, 8, 30, 18, 11, 11, 870753),\n",
       "  datetime.datetime(2024, 8, 30, 18, 37, 31, 497652),\n",
       "  datetime.datetime(2024, 8, 31, 17, 32, 18, 58630)],\n",
       " [datetime.datetime(2024, 8, 30, 18, 12, 5, 788656),\n",
       "  datetime.datetime(2024, 8, 31, 17, 33, 16, 342000)],\n",
       " [datetime.datetime(2024, 8, 30, 18, 13, 24, 955334)],\n",
       " [datetime.datetime(2024, 8, 31, 17, 34, 3, 198940)]]"
      ]
     },
     "execution_count": 14,
     "metadata": {},
     "output_type": "execute_result"
    }
   ],
   "source": [
    "rows"
   ]
  },
  {
   "cell_type": "code",
   "execution_count": 15,
   "id": "7951cc3f-3fae-48c5-aacc-bc987692a64c",
   "metadata": {},
   "outputs": [],
   "source": [
    "for row in rows:\n",
    "    if len(row) < col_nb:\n",
    "        for i in range(len(row) + 1, col_nb + 1):\n",
    "            row.append(None)"
   ]
  },
  {
   "cell_type": "code",
   "execution_count": 16,
   "id": "806c3437-45c2-4c9e-8b18-724684f0d0f0",
   "metadata": {},
   "outputs": [
    {
     "data": {
      "text/plain": [
       "[[datetime.datetime(2024, 8, 30, 18, 11, 11, 870753),\n",
       "  datetime.datetime(2024, 8, 30, 18, 37, 31, 497652),\n",
       "  datetime.datetime(2024, 8, 31, 17, 32, 18, 58630)],\n",
       " [datetime.datetime(2024, 8, 30, 18, 12, 5, 788656),\n",
       "  datetime.datetime(2024, 8, 31, 17, 33, 16, 342000),\n",
       "  None],\n",
       " [datetime.datetime(2024, 8, 30, 18, 13, 24, 955334), None, None],\n",
       " [datetime.datetime(2024, 8, 31, 17, 34, 3, 198940), None, None]]"
      ]
     },
     "execution_count": 16,
     "metadata": {},
     "output_type": "execute_result"
    }
   ],
   "source": [
    "rows"
   ]
  },
  {
   "cell_type": "code",
   "execution_count": 17,
   "id": "5630a3a3-8731-4d8b-8ad9-095e094414d0",
   "metadata": {},
   "outputs": [
    {
     "name": "stdout",
     "output_type": "stream",
     "text": [
      "1\n",
      "2\n"
     ]
    }
   ],
   "source": [
    "for i in range(1,3):\n",
    "    print(i)"
   ]
  },
  {
   "cell_type": "code",
   "execution_count": 18,
   "id": "1e030836-8e03-44e5-acea-1bff41b9bd1f",
   "metadata": {},
   "outputs": [
    {
     "data": {
      "text/plain": [
       "'30-08-2024 18:11:11870753'"
      ]
     },
     "execution_count": 18,
     "metadata": {},
     "output_type": "execute_result"
    }
   ],
   "source": [
    "rows[0][0].strftime('%d-%m-%Y %H:%M:%S%f')"
   ]
  },
  {
   "cell_type": "code",
   "execution_count": 1,
   "id": "c3f00224-5fc6-4e59-b1da-825b1060f9fa",
   "metadata": {},
   "outputs": [],
   "source": [
    "import datetime"
   ]
  },
  {
   "cell_type": "code",
   "execution_count": 2,
   "id": "508e5e80-bf63-416b-931d-55374a964e6b",
   "metadata": {},
   "outputs": [
    {
     "data": {
      "text/plain": [
       "datetime.datetime(2024, 8, 30, 18, 11, 11, 870753)"
      ]
     },
     "execution_count": 2,
     "metadata": {},
     "output_type": "execute_result"
    }
   ],
   "source": [
    "datetime.datetime.strptime('30-08-2024 18:11:11870753', '%d-%m-%Y %H:%M:%S%f')"
   ]
  },
  {
   "cell_type": "code",
   "execution_count": 4,
   "id": "392b879f-4b7b-47e9-a0dc-4edc9344b0c4",
   "metadata": {},
   "outputs": [],
   "source": [
    "from tonic_accent import get_single_lesson_with_errors, get_lesson_with_errors_text"
   ]
  },
  {
   "cell_type": "code",
   "execution_count": 5,
   "id": "6d0c9d14-4cfd-4f2a-b4ca-c8ddbde57b3d",
   "metadata": {},
   "outputs": [
    {
     "name": "stdout",
     "output_type": "stream",
     "text": [
      "2024-09-02 09:57:32,478 INFO sqlalchemy.engine.Engine BEGIN (implicit)\n",
      "2024-09-02 09:57:32,493 INFO sqlalchemy.engine.Engine SELECT marked_sentences.id, marked_sentences.date_time, marked_sentences.sentence, marked_sentences.comment, marked_sentences.lesson, marked_sentences.line \n",
      "FROM marked_sentences \n",
      "WHERE marked_sentences.lesson = ? AND marked_sentences.date_time = ?\n",
      "2024-09-02 09:57:32,494 INFO sqlalchemy.engine.Engine [generated in 0.00151s] (4, '2024-08-30 18:11:11.870753')\n",
      "2024-09-02 09:57:32,496 INFO sqlalchemy.engine.Engine ROLLBACK\n"
     ]
    },
    {
     "data": {
      "text/plain": [
       "['N4-Le<mark>c<b>ción</b> <b>cua</b>rta </mark>',\n",
       " '<mark> S00-TITLE-Pres</mark>enta<b>cio</b>nes',\n",
       " 'S01-Él es <b>Ra</b>fa, mi her<b>ma</b>no, y <b>e</b>lla es Luz, mi her<b>ma</b>na.',\n",
       " 'S02-Y él es <mark>mi <b>pa</b>dre, Mi<b>guel</b>.  </mark>',\n",
       " '<mark> S03-<b>Mu</b>cho <b>gus</b>to. ¿<b>C</b></mark><b>ó</b>mo es<b>tá</b> us<b>ted</b>?',\n",
       " 'S04-Muy bien, <b>pe</b>ro ¡<b>há</b>blame de tú, por fa<b>vor</b>!',\n",
       " 'S05-¡<b>Va</b>le!',\n",
       " 'T00-TRANSLATE-Ejer<b>ci</b>cio 1 – Tra<b>duz</b>ca',\n",
       " 'T01-Él es mi <b>pa</b>dre.',\n",
       " 'T02-Y <b>e</b>lla e<mark>s mi her<b>ma</b>na.  </mark>',\n",
       " '<mark> T03-<b>Mu</b>cho <b>gus</b>to.  </mark>',\n",
       " '<mark></mark>',\n",
       " 'T05-¿<b>Có</b>mo es<b>tá</b> us<b>ted</b>?']"
      ]
     },
     "execution_count": 5,
     "metadata": {},
     "output_type": "execute_result"
    }
   ],
   "source": [
    "get_single_lesson_with_errors(4, datetime.datetime.strptime('30-08-2024 18:11:11870753', '%d-%m-%Y %H:%M:%S%f'))"
   ]
  },
  {
   "cell_type": "code",
   "execution_count": 6,
   "id": "943bd88d-c60a-4a8d-b686-28f52689dfb1",
   "metadata": {},
   "outputs": [
    {
     "name": "stdout",
     "output_type": "stream",
     "text": [
      "2024-09-02 09:58:09,129 INFO sqlalchemy.engine.Engine BEGIN (implicit)\n",
      "2024-09-02 09:58:09,131 INFO sqlalchemy.engine.Engine SELECT marked_sentences.id, marked_sentences.date_time, marked_sentences.sentence, marked_sentences.comment, marked_sentences.lesson, marked_sentences.line \n",
      "FROM marked_sentences \n",
      "WHERE marked_sentences.lesson = ? AND marked_sentences.date_time = ?\n",
      "2024-09-02 09:58:09,131 INFO sqlalchemy.engine.Engine [cached since 36.64s ago] (4, '2024-08-30 18:11:11.870753')\n",
      "2024-09-02 09:58:09,132 INFO sqlalchemy.engine.Engine ROLLBACK\n"
     ]
    },
    {
     "data": {
      "text/plain": [
       "'<p>N4-Le<mark>c<b>ción</b> <b>cua</b>rta </mark></p><p><mark> S00-TITLE-Pres</mark>enta<b>cio</b>nes</p><p>S01-Él es <b>Ra</b>fa, mi her<b>ma</b>no, y <b>e</b>lla es Luz, mi her<b>ma</b>na.</p><p>S02-Y él es <mark>mi <b>pa</b>dre, Mi<b>guel</b>.  </mark></p><p><mark> S03-<b>Mu</b>cho <b>gus</b>to. ¿<b>C</b></mark><b>ó</b>mo es<b>tá</b> us<b>ted</b>?</p><p>S04-Muy bien, <b>pe</b>ro ¡<b>há</b>blame de tú, por fa<b>vor</b>!</p><p>S05-¡<b>Va</b>le!</p><p>T00-TRANSLATE-Ejer<b>ci</b>cio 1 – Tra<b>duz</b>ca</p><p>T01-Él es mi <b>pa</b>dre.</p><p>T02-Y <b>e</b>lla e<mark>s mi her<b>ma</b>na.  </mark></p><p><mark> T03-<b>Mu</b>cho <b>gus</b>to.  </mark></p><p><mark></mark></p><p>T05-¿<b>Có</b>mo es<b>tá</b> us<b>ted</b>?</p>'"
      ]
     },
     "execution_count": 6,
     "metadata": {},
     "output_type": "execute_result"
    }
   ],
   "source": [
    "get_lesson_with_errors_text(4, '30-08-2024 18:11:11870753')"
   ]
  },
  {
   "cell_type": "code",
   "execution_count": 1,
   "id": "b87a2081-7b3d-44aa-afdd-2c0d92326ef4",
   "metadata": {},
   "outputs": [],
   "source": [
    "from selection import extract_selection"
   ]
  },
  {
   "cell_type": "code",
   "execution_count": 2,
   "id": "cd77048a-9b64-4ee7-99fb-e95b9644dad5",
   "metadata": {},
   "outputs": [],
   "source": [
    "marked_lines_numbers, sentences = extract_selection('<p>N4-Le<mark>c<b>ción</b> <b>cua</b>rta </mark></p><p><mark> S00-TITLE-Pres</mark>enta<b>cio</b>nes</p><p>S01-Él es <b>Ra</b>fa, mi her<b>ma</b>no, y <b>e</b>lla es Luz, mi her<b>ma</b>na.</p><p>S02-Y él es <mark>mi <b>pa</b>dre, Mi<b>guel</b>.  </mark></p><p><mark> S03-<b>Mu</b>cho <b>gus</b>to. ¿<b>C</b></mark><b>ó</b>mo es<b>tá</b> us<b>ted</b>?</p><p>S04-Muy bien, <b>pe</b>ro ¡<b>há</b>blame de tú, por fa<b>vor</b>!</p><p>S05-¡<b>Va</b>le!</p><p>T00-TRANSLATE-Ejer<b>ci</b>cio 1 – Tra<b>duz</b>ca</p><p>T01-Él es mi <b>pa</b>dre.</p><p>T02-Y <b>e</b>lla e<mark>s mi her<b>ma</b>na.  </mark></p><p><mark color=\"rgba(23, 36, 45)\"> T03-<b>Mu</b>cho <b>gus</b>to.  </mark></p><p><mark></mark></p><p>T05-¿<b>Có</b>mo es<b>tá</b> us<b>ted</b>?</p>')"
   ]
  },
  {
   "cell_type": "code",
   "execution_count": 3,
   "id": "f08ad8f0-cf3a-4d90-a160-9464fda4708f",
   "metadata": {},
   "outputs": [
    {
     "data": {
      "text/plain": [
       "({0: True, 1: True, 3: True, 4: True, 9: True, 10: True, 11: True},\n",
       " ['N4-Le<mark>c<b>ción</b> <b>cua</b>rta </mark>',\n",
       "  '<mark> S00-TITLE-Pres</mark>enta<b>cio</b>nes',\n",
       "  'S01-Él es <b>Ra</b>fa, mi her<b>ma</b>no, y <b>e</b>lla es Luz, mi her<b>ma</b>na.',\n",
       "  'S02-Y él es <mark>mi <b>pa</b>dre, Mi<b>guel</b>.  </mark>',\n",
       "  '<mark> S03-<b>Mu</b>cho <b>gus</b>to. ¿<b>C</b></mark><b>ó</b>mo es<b>tá</b> us<b>ted</b>?',\n",
       "  'S04-Muy bien, <b>pe</b>ro ¡<b>há</b>blame de tú, por fa<b>vor</b>!',\n",
       "  'S05-¡<b>Va</b>le!',\n",
       "  'T00-TRANSLATE-Ejer<b>ci</b>cio 1 – Tra<b>duz</b>ca',\n",
       "  'T01-Él es mi <b>pa</b>dre.',\n",
       "  'T02-Y <b>e</b>lla e<mark>s mi her<b>ma</b>na.  </mark>',\n",
       "  '<mark color=rgba(23, 36, 45)> T03-<b>Mu</b>cho <b>gus</b>to.  </mark>',\n",
       "  '<mark></mark>',\n",
       "  'T05-¿<b>Có</b>mo es<b>tá</b> us<b>ted</b>?'])"
      ]
     },
     "execution_count": 3,
     "metadata": {},
     "output_type": "execute_result"
    }
   ],
   "source": [
    "marked_lines_numbers, sentences"
   ]
  },
  {
   "cell_type": "code",
   "execution_count": 4,
   "id": "6b2ed498-60fe-4ddc-8ed7-2e508b881312",
   "metadata": {},
   "outputs": [
    {
     "data": {
      "text/plain": [
       "'valuer : 3'"
      ]
     },
     "execution_count": 4,
     "metadata": {},
     "output_type": "execute_result"
    }
   ],
   "source": [
    "a=3\n",
    "f'valuer : {a}'"
   ]
  },
  {
   "cell_type": "code",
   "execution_count": 6,
   "id": "d9fb1bdb-08a6-40cb-9d95-72f627103637",
   "metadata": {},
   "outputs": [
    {
     "name": "stdin",
     "output_type": "stream",
     "text": [
      "What's the programming language you want to learn?  Python\n"
     ]
    },
    {
     "name": "stdout",
     "output_type": "stream",
     "text": [
      "You can become a Data Scientist\n"
     ]
    }
   ],
   "source": [
    "lang = input(\"What's the programming language you want to learn? \")\n",
    "\n",
    "match lang:\n",
    "    case \"JavaScript\":\n",
    "        print(\"You can become a web developer.\")\n",
    "\n",
    "    case \"Python\":\n",
    "        print(\"You can become a Data Scientist\")\n",
    "\n",
    "    case \"PHP\":\n",
    "        print(\"You can become a backend developer\")\n",
    "\n",
    "    case \"Solidity\":\n",
    "        print(\"You can become a Blockchain developer\")\n",
    "\n",
    "    case \"Java\":\n",
    "        print(\"You can become a mobile app developer\")\n",
    "    case _:\n",
    "        print(\"The language doesn't matter, what matters is solving problems.\")"
   ]
  },
  {
   "cell_type": "code",
   "execution_count": 6,
   "id": "edbf4f6f-a447-4b5b-bbcf-24363aa0c12f",
   "metadata": {},
   "outputs": [
    {
     "data": {
      "text/plain": [
       "'<mark \"color\"=\"rgba(255, 165, 0, 1.0)\">'"
      ]
     },
     "execution_count": 6,
     "metadata": {},
     "output_type": "execute_result"
    }
   ],
   "source": [
    "class Item:\n",
    "    pass\n",
    "item = Item()\n",
    "item.markType = \"A\"\n",
    "\n",
    "#color = (152, 27, 198, 0.75)\n",
    "\n",
    "#mark_tag_pattern = f'<mark \"color\"=\"rgba{color}\">'\n",
    "\n",
    "match item.markType:\n",
    "    case \"A\":\n",
    "        color = (255, 165, 0, 1.0)\n",
    "    case \"G\":\n",
    "        color = (152, 27, 198, 0.75)\n",
    "    case \"O\":\n",
    "        color = (27, 75, 198, 0.75)\n",
    "    case \"V\":\n",
    "        color = (198, 27, 144, 0.75)\n",
    "    case \"S\":\n",
    "        color = (255, 255, 0, 1.0)\n",
    "    case _:\n",
    "        raise\n",
    "\n",
    "\n",
    "\n",
    "mark_tag_string = f'<mark \"color\"=\"rgba{color}\">'\n",
    "mark_tag_string"
   ]
  },
  {
   "cell_type": "code",
   "execution_count": 9,
   "id": "f007b4cc-50bc-4e29-a4f0-7ee309873a10",
   "metadata": {},
   "outputs": [
    {
     "data": {
      "text/plain": [
       "'<mark class=\"V\">'"
      ]
     },
     "execution_count": 9,
     "metadata": {},
     "output_type": "execute_result"
    }
   ],
   "source": [
    "item.markType = \"V\"\n",
    "mark_tag_string = f'<mark class=\"{item.markType}\">'\n",
    "mark_tag_string"
   ]
  },
  {
   "cell_type": "code",
   "execution_count": 10,
   "id": "676d6697-d6e0-4a52-95b5-fbc4f553f210",
   "metadata": {},
   "outputs": [],
   "source": [
    "editor = {'tagName': 'div', 'status': '', 'attributes': {'id': 'editor', 'contenteditable;': ''}, 'children': [{'tagName': '', 'status': '', 'attributes': {}, 'children': [], 'textContent': '                  '}, {'tagName': 'p', 'status': '', 'attributes': {}, 'children': [{'tagName': '', 'status': '', 'attributes': {}, 'children': [], 'textContent': ' N1-Lec'}, {'tagName': 'b', 'status': '', 'attributes': {}, 'children': [{'tagName': '', 'status': '', 'attributes': {}, 'children': [], 'textContent': 'ción'}], 'textContent': 'ción'}, {'tagName': '', 'status': '', 'attributes': {}, 'children': [], 'textContent': ' '}, {'tagName': 'mark', 'status': '', 'attributes': {'class': 'E'}, 'children': [{'tagName': '', 'status': '', 'attributes': {}, 'children': [], 'textContent': 'pri'}, {'tagName': 'b', 'status': '', 'attributes': {}, 'children': [{'tagName': '', 'status': '', 'attributes': {}, 'children': [], 'textContent': 'me'}], 'textContent': 'me'}, {'tagName': '', 'status': '', 'attributes': {}, 'children': [], 'textContent': 'ra'}], 'textContent': 'primera'}, {'tagName': '', 'status': '', 'attributes': {}, 'children': [], 'textContent': ' '}], 'textContent': ' N1-Lección primera '}, {'tagName': '', 'status': '', 'attributes': {}, 'children': [], 'textContent': '                  '}, {'tagName': 'p', 'status': '', 'attributes': {}, 'children': [{'tagName': '', 'status': 'isAnchor', 'attributes': {}, 'children': [], 'textContent': ' S00-TITLE-¡Qué sorp'}, {'tagName': 'b', 'status': '', 'attributes': {}, 'children': [{'tagName': '', 'status': '', 'attributes': {}, 'children': [], 'textContent': 're'}], 'textContent': 're'}, {'tagName': '', 'status': 'isFocus', 'attributes': {}, 'children': [], 'textContent': 'sa!  '}], 'textContent': ' S00-TITLE-¡Qué sorpresa!  '}, {'tagName': '', 'status': '', 'attributes': {}, 'children': [], 'textContent': '                  '}, {'tagName': 'p', 'status': '', 'attributes': {}, 'children': [{'tagName': '', 'status': '', 'attributes': {}, 'children': [], 'textContent': ' S01-¡'}, {'tagName': 'b', 'status': '', 'attributes': {}, 'children': [{'tagName': '', 'status': '', 'attributes': {}, 'children': [], 'textContent': 'Ho'}], 'textContent': 'Ho'}, {'tagName': '', 'status': '', 'attributes': {}, 'children': [], 'textContent': 'la, '}, {'tagName': 'b', 'status': '', 'attributes': {}, 'children': [{'tagName': '', 'status': '', 'attributes': {}, 'children': [], 'textContent': 'Lau'}], 'textContent': 'Lau'}, {'tagName': '', 'status': '', 'attributes': {}, 'children': [], 'textContent': 'ra!  '}], 'textContent': ' S01-¡Hola, Laura!  '}, {'tagName': '', 'status': '', 'attributes': {}, 'children': [], 'textContent': '                  '}, {'tagName': 'p', 'status': '', 'attributes': {}, 'children': [{'tagName': '', 'status': '', 'attributes': {}, 'children': [], 'textContent': ' S02-¡'}, {'tagName': 'b', 'status': '', 'attributes': {}, 'children': [{'tagName': '', 'status': '', 'attributes': {}, 'children': [], 'textContent': 'Ho'}], 'textContent': 'Ho'}, {'tagName': '', 'status': '', 'attributes': {}, 'children': [], 'textContent': 'la, '}, {'tagName': 'b', 'status': '', 'attributes': {}, 'children': [{'tagName': '', 'status': '', 'attributes': {}, 'children': [], 'textContent': 'Pa'}], 'textContent': 'Pa'}, {'tagName': '', 'status': '', 'attributes': {}, 'children': [], 'textContent': 'co, qué sorp'}, {'tagName': 'b', 'status': '', 'attributes': {}, 'children': [{'tagName': '', 'status': '', 'attributes': {}, 'children': [], 'textContent': 're'}], 'textContent': 're'}, {'tagName': '', 'status': '', 'attributes': {}, 'children': [], 'textContent': 'sa!  '}], 'textContent': ' S02-¡Hola, Paco, qué sorpresa!  '}, {'tagName': '', 'status': '', 'attributes': {}, 'children': [], 'textContent': '                  '}, {'tagName': 'p', 'status': '', 'attributes': {}, 'children': [{'tagName': '', 'status': '', 'attributes': {}, 'children': [], 'textContent': ' S03-¿'}, {'tagName': 'b', 'status': '', 'attributes': {}, 'children': [{'tagName': '', 'status': '', 'attributes': {}, 'children': [], 'textContent': 'Có'}], 'textContent': 'Có'}, {'tagName': '', 'status': '', 'attributes': {}, 'children': [], 'textContent': 'mo es'}, {'tagName': 'b', 'status': '', 'attributes': {}, 'children': [{'tagName': '', 'status': '', 'attributes': {}, 'children': [], 'textContent': 'tás'}], 'textContent': 'tás'}, {'tagName': '', 'status': '', 'attributes': {}, 'children': [], 'textContent': ', '}, {'tagName': 'b', 'status': '', 'attributes': {}, 'children': [{'tagName': '', 'status': '', 'attributes': {}, 'children': [], 'textContent': 'gua'}], 'textContent': 'gua'}, {'tagName': '', 'status': '', 'attributes': {}, 'children': [], 'textContent': 'pa?  '}], 'textContent': ' S03-¿Cómo estás, guapa?  '}, {'tagName': '', 'status': '', 'attributes': {}, 'children': [], 'textContent': '                  '}, {'tagName': 'p', 'status': '', 'attributes': {}, 'children': [{'tagName': '', 'status': '', 'attributes': {}, 'children': [], 'textContent': ' S04-¡Bien, '}, {'tagName': 'b', 'status': '', 'attributes': {}, 'children': [{'tagName': '', 'status': '', 'attributes': {}, 'children': [], 'textContent': 'gra'}], 'textContent': 'gra'}, {'tagName': '', 'status': '', 'attributes': {}, 'children': [], 'textContent': 'cias! ¿Y tú, qué tal?  '}], 'textContent': ' S04-¡Bien, gracias! ¿Y tú, qué tal?  '}, {'tagName': '', 'status': '', 'attributes': {}, 'children': [], 'textContent': '                  '}, {'tagName': 'p', 'status': '', 'attributes': {}, 'children': [{'tagName': '', 'status': '', 'attributes': {}, 'children': [], 'textContent': ' S05-Es'}, {'tagName': 'b', 'status': '', 'attributes': {}, 'children': [{'tagName': '', 'status': '', 'attributes': {}, 'children': [], 'textContent': 'toy'}], 'textContent': 'toy'}, {'tagName': '', 'status': '', 'attributes': {}, 'children': [], 'textContent': ' pa'}, {'tagName': 'b', 'status': '', 'attributes': {}, 'children': [{'tagName': '', 'status': '', 'attributes': {}, 'children': [], 'textContent': 'chu'}], 'textContent': 'chu'}, {'tagName': '', 'status': '', 'attributes': {}, 'children': [], 'textContent': 'cho '}], 'textContent': ' S05-Estoy pachucho '}, {'tagName': '', 'status': '', 'attributes': {}, 'children': [], 'textContent': '                  '}, {'tagName': 'p', 'status': '', 'attributes': {}, 'children': [{'tagName': '', 'status': '', 'attributes': {}, 'children': [], 'textContent': ' T00-TRANSLATE-Ejer'}, {'tagName': 'b', 'status': '', 'attributes': {}, 'children': [{'tagName': '', 'status': '', 'attributes': {}, 'children': [], 'textContent': 'ci'}], 'textContent': 'ci'}, {'tagName': '', 'status': '', 'attributes': {}, 'children': [], 'textContent': 'cio 1 – Tra'}, {'tagName': 'b', 'status': '', 'attributes': {}, 'children': [{'tagName': '', 'status': '', 'attributes': {}, 'children': [], 'textContent': 'duz'}], 'textContent': 'duz'}, {'tagName': '', 'status': '', 'attributes': {}, 'children': [], 'textContent': 'ca '}], 'textContent': ' T00-TRANSLATE-Ejercicio 1 – Traduzca '}, {'tagName': '', 'status': '', 'attributes': {}, 'children': [], 'textContent': '                  '}, {'tagName': 'p', 'status': '', 'attributes': {}, 'children': [{'tagName': '', 'status': '', 'attributes': {}, 'children': [], 'textContent': ' T01-¿Qué tal?  '}], 'textContent': ' T01-¿Qué tal?  '}, {'tagName': '', 'status': '', 'attributes': {}, 'children': [], 'textContent': '                  '}, {'tagName': 'p', 'status': '', 'attributes': {}, 'children': [{'tagName': '', 'status': '', 'attributes': {}, 'children': [], 'textContent': ' T02-¿'}, {'tagName': 'b', 'status': '', 'attributes': {}, 'children': [{'tagName': '', 'status': '', 'attributes': {}, 'children': [], 'textContent': 'Có'}], 'textContent': 'Có'}, {'tagName': '', 'status': '', 'attributes': {}, 'children': [], 'textContent': 'mo es'}, {'tagName': 'b', 'status': '', 'attributes': {}, 'children': [{'tagName': '', 'status': '', 'attributes': {}, 'children': [], 'textContent': 'tás'}], 'textContent': 'tás'}, {'tagName': '', 'status': '', 'attributes': {}, 'children': [], 'textContent': '?  '}], 'textContent': ' T02-¿Cómo estás?  '}, {'tagName': '', 'status': '', 'attributes': {}, 'children': [], 'textContent': '                  '}, {'tagName': 'p', 'status': '', 'attributes': {}, 'children': [{'tagName': '', 'status': '', 'attributes': {}, 'children': [], 'textContent': ' T04-¿Es'}, {'tagName': 'b', 'status': '', 'attributes': {}, 'children': [{'tagName': '', 'status': '', 'attributes': {}, 'children': [], 'textContent': 'tás'}], 'textContent': 'tás'}, {'tagName': '', 'status': '', 'attributes': {}, 'children': [], 'textContent': ' pa'}, {'tagName': 'b', 'status': '', 'attributes': {}, 'children': [{'tagName': '', 'status': '', 'attributes': {}, 'children': [], 'textContent': 'chu'}], 'textContent': 'chu'}, {'tagName': '', 'status': '', 'attributes': {}, 'children': [], 'textContent': 'cho?  '}], 'textContent': ' T04-¿Estás pachucho?  '}, {'tagName': '', 'status': '', 'attributes': {}, 'children': [], 'textContent': '                  '}, {'tagName': 'p', 'status': '', 'attributes': {}, 'children': [{'tagName': '', 'status': '', 'attributes': {}, 'children': [], 'textContent': ' T05-Es'}, {'tagName': 'b', 'status': '', 'attributes': {}, 'children': [{'tagName': '', 'status': '', 'attributes': {}, 'children': [], 'textContent': 'toy'}], 'textContent': 'toy'}, {'tagName': '', 'status': '', 'attributes': {}, 'children': [], 'textContent': ' bien, '}, {'tagName': 'b', 'status': '', 'attributes': {}, 'children': [{'tagName': '', 'status': '', 'attributes': {}, 'children': [], 'textContent': 'gra'}], 'textContent': 'gra'}, {'tagName': '', 'status': '', 'attributes': {}, 'children': [], 'textContent': 'cias.  '}], 'textContent': ' T05-Estoy bien, gracias.  '}, {'tagName': '', 'status': '', 'attributes': {}, 'children': [], 'textContent': '              '}], 'textContent': '                   N1-Lección primera                    S00-TITLE-¡Qué sorpresa!                     S01-¡Hola, Laura!                     S02-¡Hola, Paco, qué sorpresa!                     S03-¿Cómo estás, guapa?                     S04-¡Bien, gracias! ¿Y tú, qué tal?                     S05-Estoy pachucho                    T00-TRANSLATE-Ejercicio 1 – Traduzca                    T01-¿Qué tal?                     T02-¿Cómo estás?                     T04-¿Estás pachucho?                     T05-Estoy bien, gracias.                '}"
   ]
  },
  {
   "cell_type": "code",
   "execution_count": 11,
   "id": "9f0566ed-5dcb-4177-92c1-75719637fd8a",
   "metadata": {},
   "outputs": [
    {
     "data": {
      "text/plain": [
       "dict_keys(['tagName', 'status', 'attributes', 'children', 'textContent'])"
      ]
     },
     "execution_count": 11,
     "metadata": {},
     "output_type": "execute_result"
    }
   ],
   "source": [
    "editor.keys()"
   ]
  },
  {
   "cell_type": "code",
   "execution_count": 19,
   "id": "51fa66f8-d9a8-46cf-bdb5-42a842cfcfe7",
   "metadata": {},
   "outputs": [
    {
     "data": {
      "text/plain": [
       "{'class': 'E'}"
      ]
     },
     "execution_count": 19,
     "metadata": {},
     "output_type": "execute_result"
    }
   ],
   "source": [
    "editor['children'][1]['children'][3]['attributes']"
   ]
  },
  {
   "cell_type": "code",
   "execution_count": 20,
   "id": "cb70bcc8-70db-4ab7-a18a-682fa810710c",
   "metadata": {},
   "outputs": [],
   "source": [
    "element=editor['children'][1]['children'][3]"
   ]
  },
  {
   "cell_type": "code",
   "execution_count": 21,
   "id": "1ff96dfb-ef18-40dc-8f5b-eb6fa472ab51",
   "metadata": {},
   "outputs": [],
   "source": [
    "text= \"\"\n",
    "for name in element['attributes']:\n",
    "    text += f\" {name}='{element['attributes'][name]}'\"\n"
   ]
  },
  {
   "cell_type": "code",
   "execution_count": 22,
   "id": "3e2830ae-83aa-4ad3-8e4f-a8f689d0160c",
   "metadata": {},
   "outputs": [
    {
     "data": {
      "text/plain": [
       "\" class='E'\""
      ]
     },
     "execution_count": 22,
     "metadata": {},
     "output_type": "execute_result"
    }
   ],
   "source": [
    "text"
   ]
  },
  {
   "cell_type": "code",
   "execution_count": null,
   "id": "9e958375-5033-47ba-8004-658769b86348",
   "metadata": {},
   "outputs": [],
   "source": [
    "class ErrorColor:\n",
    "    background-color "
   ]
  },
  {
   "cell_type": "code",
   "execution_count": 1,
   "id": "438e25f6-626e-48dc-af0b-57545d59a9c4",
   "metadata": {},
   "outputs": [
    {
     "data": {
      "text/plain": [
       "<function chr(i, /)>"
      ]
     },
     "execution_count": 1,
     "metadata": {},
     "output_type": "execute_result"
    }
   ],
   "source": [
    "chr"
   ]
  },
  {
   "cell_type": "code",
   "execution_count": 1,
   "id": "a8d86a9b-888c-4952-ae6a-93bfbf532f8a",
   "metadata": {},
   "outputs": [],
   "source": [
    "from errors_editor import ErrorsColor, Color"
   ]
  },
  {
   "cell_type": "code",
   "execution_count": 3,
   "id": "ce55ffda-519d-4f84-863e-ac364f8ccc65",
   "metadata": {},
   "outputs": [],
   "source": [
    "a = ErrorsColor(label = 'A', background_color = Color(255, 165, 0, 1.0), color = Color(0, 0, 0, 1.0))"
   ]
  },
  {
   "cell_type": "code",
   "execution_count": 4,
   "id": "ea1e71cf-c321-4461-ad59-69bb87bcc351",
   "metadata": {},
   "outputs": [
    {
     "data": {
      "text/plain": [
       "ErrorsColor(label='A', background_color=Color(R=255, G=165, B=0, A=1), color=Color(R=0, G=0, B=0, A=1))"
      ]
     },
     "execution_count": 4,
     "metadata": {},
     "output_type": "execute_result"
    }
   ],
   "source": [
    "a"
   ]
  },
  {
   "cell_type": "code",
   "execution_count": 5,
   "id": "883d819f-8dcb-4916-8c3a-80b335acebd0",
   "metadata": {},
   "outputs": [],
   "source": [
    "line = \"&#060   |   <   less than sign\""
   ]
  },
  {
   "cell_type": "code",
   "execution_count": 6,
   "id": "5bf9c6eb-7da6-4509-a881-d9aef5c9c27c",
   "metadata": {},
   "outputs": [
    {
     "data": {
      "text/plain": [
       "'&#060   |   <   less than sign'"
      ]
     },
     "execution_count": 6,
     "metadata": {},
     "output_type": "execute_result"
    }
   ],
   "source": [
    "line.split"
   ]
  },
  {
   "cell_type": "code",
   "execution_count": 7,
   "id": "6479259e-5275-43d3-94b7-9c2cd88cadf9",
   "metadata": {},
   "outputs": [
    {
     "data": {
      "text/plain": [
       "['&#060   |   <   less than sign']"
      ]
     },
     "execution_count": 7,
     "metadata": {},
     "output_type": "execute_result"
    }
   ],
   "source": [
    "import re\n",
    "re.split('; |, ', line)"
   ]
  },
  {
   "cell_type": "code",
   "execution_count": 8,
   "id": "618fbad1-ad82-45ad-a254-a2f3dc05226c",
   "metadata": {},
   "outputs": [
    {
     "data": {
      "text/plain": [
       "['Beautiful', 'is', 'better', 'than', 'ugly']"
      ]
     },
     "execution_count": 8,
     "metadata": {},
     "output_type": "execute_result"
    }
   ],
   "source": [
    "string_to_split = 'Beautiful, is; better*than\\nugly'\n",
    "re.split('; |, |\\*|\\n', string_to_split)"
   ]
  },
  {
   "cell_type": "code",
   "execution_count": 16,
   "id": "57a92e6c-13bb-46c7-b260-d55ea17120a0",
   "metadata": {},
   "outputs": [
    {
     "data": {
      "text/plain": [
       "['&#060   ', '   <   less than sign']"
      ]
     },
     "execution_count": 16,
     "metadata": {},
     "output_type": "execute_result"
    }
   ],
   "source": [
    "re.split('\\|' , line)"
   ]
  },
  {
   "cell_type": "code",
   "execution_count": 17,
   "id": "05884fda-ef24-4ad5-9ead-95b9fecb7ca0",
   "metadata": {},
   "outputs": [],
   "source": [
    "result=[x for x in re.split('\\|| ',line) if x!='']"
   ]
  },
  {
   "cell_type": "code",
   "execution_count": 18,
   "id": "608ca328-d7e5-42bc-9529-ae5c6b38fd8c",
   "metadata": {},
   "outputs": [
    {
     "data": {
      "text/plain": [
       "['&#060', '<', 'less', 'than', 'sign']"
      ]
     },
     "execution_count": 18,
     "metadata": {},
     "output_type": "execute_result"
    }
   ],
   "source": [
    "result"
   ]
  },
  {
   "cell_type": "code",
   "execution_count": 7,
   "id": "d0871dab-ee84-4fb5-8dc7-c5673f7689e7",
   "metadata": {},
   "outputs": [],
   "source": [
    "HTML_escape_characters = \"\"\"&#060   |   <   less than sign\n",
    "&#064   |   @   at sign\n",
    "&#093   |   ]   right bracket\n",
    "&#123   |   {   left curly brace\n",
    "&#125   |   }   right curly brace\n",
    "&#133   |   …   ellipsis\n",
    "&#135   |   ‡   double dagger\n",
    "&#146   |   ’   right single quote\n",
    "&#148   |   ”   right double quote\n",
    "&#150   |   –   short dash\n",
    "&#153   |   ™   trademark\n",
    "&#162   |   ¢   cent sign\n",
    "&#165   |   ¥   yen sign\n",
    "&#169   |   ©   copyright sign\n",
    "&#172   |   ¬   logical not sign\n",
    "&#176   |   °   degree sign\n",
    "&#178   |   ²   superscript 2\n",
    "&#185   |   ¹   superscript 1\n",
    "&#188   |   ¼   fraction 1/4\n",
    "&#190   |   ¾   fraction 3/4\n",
    "&#247   |   ÷   division sign\n",
    "&#8221  |   ”   right double quote\n",
    "&#062   |   >   greater than sign\n",
    "&#091   |   [   left bracket\n",
    "&#096   |   `   back apostrophe\n",
    "&#124   |   |   vertical bar\n",
    "&#126   |   ~   tilde\n",
    "&#134   |   †   dagger\n",
    "&#145   |   ‘   left single quote\n",
    "&#147   |   “   left double quote\n",
    "&#149   |   •   bullet\n",
    "&#151   |   —   longer dash\n",
    "&#161   |   ¡   inverted exclamation point\n",
    "&#163   |   £   pound sign\n",
    "&#166   |   ¦   broken vertical bar\n",
    "&#171   |   «   double left than sign\n",
    "&#174   |   ®   registered trademark sign\n",
    "&#177   |   ±   plus or minus sign\n",
    "&#179   |   ³   superscript 3\n",
    "&#187   |   »   double greater-than sign\n",
    "&#189   |   ½   fraction 1/2\n",
    "&#191   |   ¿   inverted question mark\n",
    "&#8220  |   “   left double quote\n",
    "&#8212  |   —   dash\"\"\""
   ]
  },
  {
   "cell_type": "code",
   "execution_count": 8,
   "id": "f852da00-2b5b-4834-a310-bbc24a04be8a",
   "metadata": {},
   "outputs": [
    {
     "data": {
      "text/plain": [
       "'&#060   |   <   less than sign\\n&#064   |   @   at sign\\n&#093   |   ]   right bracket\\n&#123   |   {   left curly brace\\n&#125   |   }   right curly brace\\n&#133   |   …   ellipsis\\n&#135   |   ‡   double dagger\\n&#146   |   ’   right single quote\\n&#148   |   ”   right double quote\\n&#150   |   –   short dash\\n&#153   |   ™   trademark\\n&#162   |   ¢   cent sign\\n&#165   |   ¥   yen sign\\n&#169   |   ©   copyright sign\\n&#172   |   ¬   logical not sign\\n&#176   |   °   degree sign\\n&#178   |   ²   superscript 2\\n&#185   |   ¹   superscript 1\\n&#188   |   ¼   fraction 1/4\\n&#190   |   ¾   fraction 3/4\\n&#247   |   ÷   division sign\\n&#8221  |   ”   right double quote\\n&#062   |   >   greater than sign\\n&#091   |   [   left bracket\\n&#096   |   `   back apostrophe\\n&#124   |   |   vertical bar\\n&#126   |   ~   tilde\\n&#134   |   †   dagger\\n&#145   |   ‘   left single quote\\n&#147   |   “   left double quote\\n&#149   |   •   bullet\\n&#151   |   —   longer dash\\n&#161   |   ¡   inverted exclamation point\\n&#163   |   £   pound sign\\n&#166   |   ¦   broken vertical bar\\n&#171   |   «   double left than sign\\n&#174   |   ®   registered trademark sign\\n&#177   |   ±   plus or minus sign\\n&#179   |   ³   superscript 3\\n&#187   |   »   double greater-than sign\\n&#189   |   ½   fraction 1/2\\n&#191   |   ¿   inverted question mark\\n&#8220  |   “   left double quote\\n&#8212  |   —   dash'"
      ]
     },
     "execution_count": 8,
     "metadata": {},
     "output_type": "execute_result"
    }
   ],
   "source": [
    "HTML_escape_characters"
   ]
  },
  {
   "cell_type": "code",
   "execution_count": 13,
   "id": "96569c8a-711f-4ecf-b253-299fef170571",
   "metadata": {},
   "outputs": [
    {
     "data": {
      "text/plain": [
       "['&#060   |   <   less than sign',\n",
       " '&#064   |   @   at sign',\n",
       " '&#093   |   ]   right bracket',\n",
       " '&#123   |   {   left curly brace',\n",
       " '&#125   |   }   right curly brace',\n",
       " '&#133   |   …   ellipsis',\n",
       " '&#135   |   ‡   double dagger',\n",
       " '&#146   |   ’   right single quote',\n",
       " '&#148   |   ”   right double quote',\n",
       " '&#150   |   –   short dash',\n",
       " '&#153   |   ™   trademark',\n",
       " '&#162   |   ¢   cent sign',\n",
       " '&#165   |   ¥   yen sign',\n",
       " '&#169   |   ©   copyright sign',\n",
       " '&#172   |   ¬   logical not sign',\n",
       " '&#176   |   °   degree sign',\n",
       " '&#178   |   ²   superscript 2',\n",
       " '&#185   |   ¹   superscript 1',\n",
       " '&#188   |   ¼   fraction 1/4',\n",
       " '&#190   |   ¾   fraction 3/4',\n",
       " '&#247   |   ÷   division sign',\n",
       " '&#8221  |   ”   right double quote',\n",
       " '&#062   |   >   greater than sign',\n",
       " '&#091   |   [   left bracket',\n",
       " '&#096   |   `   back apostrophe',\n",
       " '&#124   |   |   vertical bar',\n",
       " '&#126   |   ~   tilde',\n",
       " '&#134   |   †   dagger',\n",
       " '&#145   |   ‘   left single quote',\n",
       " '&#147   |   “   left double quote',\n",
       " '&#149   |   •   bullet',\n",
       " '&#151   |   —   longer dash',\n",
       " '&#161   |   ¡   inverted exclamation point',\n",
       " '&#163   |   £   pound sign',\n",
       " '&#166   |   ¦   broken vertical bar',\n",
       " '&#171   |   «   double left than sign',\n",
       " '&#174   |   ®   registered trademark sign',\n",
       " '&#177   |   ±   plus or minus sign',\n",
       " '&#179   |   ³   superscript 3',\n",
       " '&#187   |   »   double greater-than sign',\n",
       " '&#189   |   ½   fraction 1/2',\n",
       " '&#191   |   ¿   inverted question mark',\n",
       " '&#8220  |   “   left double quote',\n",
       " '&#8212  |   —   dash']"
      ]
     },
     "execution_count": 13,
     "metadata": {},
     "output_type": "execute_result"
    }
   ],
   "source": [
    "HTML_escape_characters.split('\\n')"
   ]
  },
  {
   "cell_type": "code",
   "execution_count": 22,
   "id": "a08c4fbc-88bc-4bf2-ae21-0fd0a196773c",
   "metadata": {},
   "outputs": [],
   "source": [
    "import re\n",
    "HTML_escape_characters_dict = {}\n",
    "for line in HTML_escape_characters.split('\\n'):\n",
    "    spiltted_line =[x for x in re.split('\\|| ',line) if x!='']\n",
    "    HTML_escape_characters_dict[spiltted_line[1]] = spiltted_line[0] + ';'\n",
    "    "
   ]
  },
  {
   "cell_type": "code",
   "execution_count": 23,
   "id": "60a6d776-7326-4cf0-9df6-49eec57b36e2",
   "metadata": {},
   "outputs": [
    {
     "data": {
      "text/plain": [
       "{'<': '&#060;',\n",
       " '@': '&#064;',\n",
       " ']': '&#093;',\n",
       " '{': '&#123;',\n",
       " '}': '&#125;',\n",
       " '…': '&#133;',\n",
       " '‡': '&#135;',\n",
       " '’': '&#146;',\n",
       " '”': '&#8221;',\n",
       " '–': '&#150;',\n",
       " '™': '&#153;',\n",
       " '¢': '&#162;',\n",
       " '¥': '&#165;',\n",
       " '©': '&#169;',\n",
       " '¬': '&#172;',\n",
       " '°': '&#176;',\n",
       " '²': '&#178;',\n",
       " '¹': '&#185;',\n",
       " '¼': '&#188;',\n",
       " '¾': '&#190;',\n",
       " '÷': '&#247;',\n",
       " '>': '&#062;',\n",
       " '[': '&#091;',\n",
       " '`': '&#096;',\n",
       " 'vertical': '&#124;',\n",
       " '~': '&#126;',\n",
       " '†': '&#134;',\n",
       " '‘': '&#145;',\n",
       " '“': '&#8220;',\n",
       " '•': '&#149;',\n",
       " '—': '&#8212;',\n",
       " '¡': '&#161;',\n",
       " '£': '&#163;',\n",
       " '¦': '&#166;',\n",
       " '«': '&#171;',\n",
       " '®': '&#174;',\n",
       " '±': '&#177;',\n",
       " '³': '&#179;',\n",
       " '»': '&#187;',\n",
       " '½': '&#189;',\n",
       " '¿': '&#191;'}"
      ]
     },
     "execution_count": 23,
     "metadata": {},
     "output_type": "execute_result"
    }
   ],
   "source": [
    "HTML_escape_characters_dict"
   ]
  },
  {
   "cell_type": "code",
   "execution_count": 16,
   "id": "78000773-407c-4579-a09b-806cafa2209e",
   "metadata": {},
   "outputs": [],
   "source": [
    "HTML_escape_characters_dict['|'] = '&#124'"
   ]
  },
  {
   "cell_type": "code",
   "execution_count": 17,
   "id": "da7127cd-390b-443a-a634-0215342d5219",
   "metadata": {},
   "outputs": [
    {
     "data": {
      "text/plain": [
       "{'<': '&#060',\n",
       " '@': '&#064',\n",
       " ']': '&#093',\n",
       " '{': '&#123',\n",
       " '}': '&#125',\n",
       " '…': '&#133',\n",
       " '‡': '&#135',\n",
       " '’': '&#146',\n",
       " '”': '&#8221',\n",
       " '–': '&#150',\n",
       " '™': '&#153',\n",
       " '¢': '&#162',\n",
       " '¥': '&#165',\n",
       " '©': '&#169',\n",
       " '¬': '&#172',\n",
       " '°': '&#176',\n",
       " '²': '&#178',\n",
       " '¹': '&#185',\n",
       " '¼': '&#188',\n",
       " '¾': '&#190',\n",
       " '÷': '&#247',\n",
       " '>': '&#062',\n",
       " '[': '&#091',\n",
       " '`': '&#096',\n",
       " 'vertical': '&#124',\n",
       " '~': '&#126',\n",
       " '†': '&#134',\n",
       " '‘': '&#145',\n",
       " '“': '&#8220',\n",
       " '•': '&#149',\n",
       " '—': '&#8212',\n",
       " '¡': '&#161',\n",
       " '£': '&#163',\n",
       " '¦': '&#166',\n",
       " '«': '&#171',\n",
       " '®': '&#174',\n",
       " '±': '&#177',\n",
       " '³': '&#179',\n",
       " '»': '&#187',\n",
       " '½': '&#189',\n",
       " '¿': '&#191',\n",
       " '|': '&#124'}"
      ]
     },
     "execution_count": 17,
     "metadata": {},
     "output_type": "execute_result"
    }
   ],
   "source": [
    "HTML_escape_characters_dict"
   ]
  },
  {
   "cell_type": "code",
   "execution_count": 18,
   "id": "7e55b49c-1c27-417f-82fb-9ba9f2aab01c",
   "metadata": {},
   "outputs": [],
   "source": [
    "del HTML_escape_characters_dict['vertical']"
   ]
  },
  {
   "cell_type": "code",
   "execution_count": 19,
   "id": "89fc29b9-2417-4cf3-b010-5c7e8d69acdb",
   "metadata": {},
   "outputs": [
    {
     "data": {
      "text/plain": [
       "{'<': '&#060',\n",
       " '@': '&#064',\n",
       " ']': '&#093',\n",
       " '{': '&#123',\n",
       " '}': '&#125',\n",
       " '…': '&#133',\n",
       " '‡': '&#135',\n",
       " '’': '&#146',\n",
       " '”': '&#8221',\n",
       " '–': '&#150',\n",
       " '™': '&#153',\n",
       " '¢': '&#162',\n",
       " '¥': '&#165',\n",
       " '©': '&#169',\n",
       " '¬': '&#172',\n",
       " '°': '&#176',\n",
       " '²': '&#178',\n",
       " '¹': '&#185',\n",
       " '¼': '&#188',\n",
       " '¾': '&#190',\n",
       " '÷': '&#247',\n",
       " '>': '&#062',\n",
       " '[': '&#091',\n",
       " '`': '&#096',\n",
       " '~': '&#126',\n",
       " '†': '&#134',\n",
       " '‘': '&#145',\n",
       " '“': '&#8220',\n",
       " '•': '&#149',\n",
       " '—': '&#8212',\n",
       " '¡': '&#161',\n",
       " '£': '&#163',\n",
       " '¦': '&#166',\n",
       " '«': '&#171',\n",
       " '®': '&#174',\n",
       " '±': '&#177',\n",
       " '³': '&#179',\n",
       " '»': '&#187',\n",
       " '½': '&#189',\n",
       " '¿': '&#191',\n",
       " '|': '&#124'}"
      ]
     },
     "execution_count": 19,
     "metadata": {},
     "output_type": "execute_result"
    }
   ],
   "source": [
    "HTML_escape_characters_dict"
   ]
  },
  {
   "cell_type": "code",
   "execution_count": 34,
   "id": "038c63ec-ec59-463b-946b-eca0938603c8",
   "metadata": {},
   "outputs": [],
   "source": [
    "a=b'\\x80abc'"
   ]
  },
  {
   "cell_type": "code",
   "execution_count": 41,
   "id": "dc59cfaf-ea56-418c-b762-d48688ebc2e0",
   "metadata": {},
   "outputs": [
    {
     "data": {
      "text/plain": [
       "(128, 97, 98, 99)"
      ]
     },
     "execution_count": 41,
     "metadata": {},
     "output_type": "execute_result"
    }
   ],
   "source": [
    "a[0], a[1], a[2], a[3]"
   ]
  },
  {
   "cell_type": "code",
   "execution_count": 45,
   "id": "99d0825f-8f8d-449d-8bf9-09f71f3d29cb",
   "metadata": {},
   "outputs": [
    {
     "data": {
      "text/plain": [
       "('0x80', '0x61', '0x62', '0x63')"
      ]
     },
     "execution_count": 45,
     "metadata": {},
     "output_type": "execute_result"
    }
   ],
   "source": [
    "hex(128), hex(97), hex(98), hex(99)"
   ]
  },
  {
   "cell_type": "code",
   "execution_count": 46,
   "id": "7b698ff3-1d72-40f2-8c04-791bf832d78b",
   "metadata": {},
   "outputs": [
    {
     "data": {
      "text/plain": [
       "'\\x80'"
      ]
     },
     "execution_count": 46,
     "metadata": {},
     "output_type": "execute_result"
    }
   ],
   "source": [
    "'\\x80'"
   ]
  },
  {
   "cell_type": "code",
   "execution_count": 47,
   "id": "09be6fa0-f688-427b-a279-8238960c566b",
   "metadata": {},
   "outputs": [
    {
     "data": {
      "text/plain": [
       "'\\x80'"
      ]
     },
     "execution_count": 47,
     "metadata": {},
     "output_type": "execute_result"
    }
   ],
   "source": [
    "chr(128)"
   ]
  },
  {
   "cell_type": "code",
   "execution_count": 50,
   "id": "25684978-374a-4130-8802-bf9fe51e4103",
   "metadata": {},
   "outputs": [],
   "source": [
    "a=b'\\xFFabc'"
   ]
  },
  {
   "cell_type": "code",
   "execution_count": 51,
   "id": "ca331bd8-1290-4eaf-9b50-6f6ed9f066ac",
   "metadata": {},
   "outputs": [
    {
     "data": {
      "text/plain": [
       "(255, 97, 98, 99)"
      ]
     },
     "execution_count": 51,
     "metadata": {},
     "output_type": "execute_result"
    }
   ],
   "source": [
    "a[0], a[1], a[2], a[3]"
   ]
  },
  {
   "cell_type": "code",
   "execution_count": 52,
   "id": "9c62cd31-b7a5-4fbf-a63c-037cf40d6fe2",
   "metadata": {},
   "outputs": [],
   "source": [
    "a=b'\\x00abc'"
   ]
  },
  {
   "cell_type": "code",
   "execution_count": 53,
   "id": "959206b6-19e2-46c5-b915-044263a3daa9",
   "metadata": {},
   "outputs": [
    {
     "data": {
      "text/plain": [
       "(0, 97, 98, 99)"
      ]
     },
     "execution_count": 53,
     "metadata": {},
     "output_type": "execute_result"
    }
   ],
   "source": [
    "a[0], a[1], a[2], a[3]"
   ]
  },
  {
   "cell_type": "code",
   "execution_count": 55,
   "id": "9e065226-e3fd-4e03-916f-1dd7fa7d5240",
   "metadata": {},
   "outputs": [],
   "source": [
    "a=b'\\x00,bc'"
   ]
  },
  {
   "cell_type": "code",
   "execution_count": 56,
   "id": "39fee628-2197-4231-870e-e4c0d315f69b",
   "metadata": {},
   "outputs": [
    {
     "data": {
      "text/plain": [
       "b'\\x00,bc'"
      ]
     },
     "execution_count": 56,
     "metadata": {},
     "output_type": "execute_result"
    }
   ],
   "source": [
    "a"
   ]
  },
  {
   "cell_type": "code",
   "execution_count": 59,
   "id": "82585508-ffa5-4ffe-adc0-db61d44e9831",
   "metadata": {},
   "outputs": [
    {
     "data": {
      "text/plain": [
       "(0, 44, 98, 99)"
      ]
     },
     "execution_count": 59,
     "metadata": {},
     "output_type": "execute_result"
    }
   ],
   "source": [
    "a[0], a[1], a[2], a[3]"
   ]
  },
  {
   "cell_type": "code",
   "execution_count": 60,
   "id": "8cb5defc-a7b2-484a-a196-67765c70668c",
   "metadata": {},
   "outputs": [],
   "source": [
    "a=b'\\x00\\\\bc'"
   ]
  },
  {
   "cell_type": "code",
   "execution_count": 61,
   "id": "bf5630d2-e9ec-4b1a-ab08-1efe076b488a",
   "metadata": {},
   "outputs": [
    {
     "data": {
      "text/plain": [
       "(0, 92, 98, 99)"
      ]
     },
     "execution_count": 61,
     "metadata": {},
     "output_type": "execute_result"
    }
   ],
   "source": [
    "a[0], a[1], a[2], a[3]"
   ]
  },
  {
   "cell_type": "code",
   "execution_count": 62,
   "id": "6b227fc3-57ed-4e71-9a17-e6689837c0f4",
   "metadata": {},
   "outputs": [],
   "source": [
    "a=b'\\x00|bc'"
   ]
  },
  {
   "cell_type": "code",
   "execution_count": 63,
   "id": "4ef3317d-3dd9-4d7c-8a4e-651db939d17d",
   "metadata": {},
   "outputs": [
    {
     "data": {
      "text/plain": [
       "(0, 124, 98, 99)"
      ]
     },
     "execution_count": 63,
     "metadata": {},
     "output_type": "execute_result"
    }
   ],
   "source": [
    "a[0], a[1], a[2], a[3]"
   ]
  },
  {
   "cell_type": "code",
   "execution_count": 64,
   "id": "77c8f324-1a9d-46e3-b446-08346ac293ee",
   "metadata": {},
   "outputs": [],
   "source": [
    "a=b'\\x00%bc'"
   ]
  },
  {
   "cell_type": "code",
   "execution_count": 65,
   "id": "e9ff5128-688b-4ed5-8aed-839cd6261b55",
   "metadata": {},
   "outputs": [
    {
     "data": {
      "text/plain": [
       "(0, 37, 98, 99)"
      ]
     },
     "execution_count": 65,
     "metadata": {},
     "output_type": "execute_result"
    }
   ],
   "source": [
    "a[0], a[1], a[2], a[3]"
   ]
  },
  {
   "cell_type": "code",
   "execution_count": 2,
   "id": "207471f9-11cd-4835-992b-00ac68e241b9",
   "metadata": {},
   "outputs": [],
   "source": [
    "a=b'\\x00&bc'"
   ]
  },
  {
   "cell_type": "code",
   "execution_count": 3,
   "id": "db724a6f-56a5-48a6-b67a-8f64772a36b6",
   "metadata": {},
   "outputs": [
    {
     "data": {
      "text/plain": [
       "(0, 38, 98, 99)"
      ]
     },
     "execution_count": 3,
     "metadata": {},
     "output_type": "execute_result"
    }
   ],
   "source": [
    "a[0], a[1], a[2], a[3]"
   ]
  },
  {
   "cell_type": "code",
   "execution_count": 1,
   "id": "912aea47-46bf-4d10-9f58-44c0bb65a73a",
   "metadata": {},
   "outputs": [
    {
     "ename": "SyntaxError",
     "evalue": "(unicode error) 'unicodeescape' codec can't decode bytes in position 0-2: truncated \\xXX escape (2175822066.py, line 1)",
     "output_type": "error",
     "traceback": [
      "\u001b[0;36m  Cell \u001b[0;32mIn[1], line 1\u001b[0;36m\u001b[0m\n\u001b[0;31m    b='\\xAG'\u001b[0m\n\u001b[0m            ^\u001b[0m\n\u001b[0;31mSyntaxError\u001b[0m\u001b[0;31m:\u001b[0m (unicode error) 'unicodeescape' codec can't decode bytes in position 0-2: truncated \\xXX escape\n"
     ]
    }
   ],
   "source": [
    "b='\\xAG'"
   ]
  },
  {
   "cell_type": "code",
   "execution_count": 72,
   "id": "5647a339-e5ee-4ef3-b5bf-dfd30cff40be",
   "metadata": {},
   "outputs": [
    {
     "data": {
      "text/plain": [
       "45"
      ]
     },
     "execution_count": 72,
     "metadata": {},
     "output_type": "execute_result"
    }
   ],
   "source": [
    "ord('-')"
   ]
  },
  {
   "cell_type": "code",
   "execution_count": 73,
   "id": "af2bde34-254e-417d-889f-4852bf52cdff",
   "metadata": {},
   "outputs": [
    {
     "ename": "TypeError",
     "evalue": "ord() expected a character, but string of length 0 found",
     "output_type": "error",
     "traceback": [
      "\u001b[0;31m---------------------------------------------------------------------------\u001b[0m",
      "\u001b[0;31mTypeError\u001b[0m                                 Traceback (most recent call last)",
      "Cell \u001b[0;32mIn[73], line 1\u001b[0m\n\u001b[0;32m----> 1\u001b[0m \u001b[38;5;28;43mord\u001b[39;49m\u001b[43m(\u001b[49m\u001b[38;5;124;43m'\u001b[39;49m\u001b[38;5;124;43m'\u001b[39;49m\u001b[43m)\u001b[49m\n",
      "\u001b[0;31mTypeError\u001b[0m: ord() expected a character, but string of length 0 found"
     ]
    }
   ],
   "source": [
    "ord('')"
   ]
  },
  {
   "cell_type": "code",
   "execution_count": 74,
   "id": "4883704e-4610-476a-b033-2723c96f7b88",
   "metadata": {},
   "outputs": [
    {
     "data": {
      "text/plain": [
       "'\\x96'"
      ]
     },
     "execution_count": 74,
     "metadata": {},
     "output_type": "execute_result"
    }
   ],
   "source": [
    "chr(150)"
   ]
  },
  {
   "cell_type": "code",
   "execution_count": 4,
   "id": "a94acfa1-3242-449d-8988-7e8e233ba678",
   "metadata": {},
   "outputs": [
    {
     "data": {
      "text/plain": [
       "'\\x96'"
      ]
     },
     "execution_count": 4,
     "metadata": {},
     "output_type": "execute_result"
    }
   ],
   "source": [
    "chr(150)"
   ]
  },
  {
   "cell_type": "code",
   "execution_count": 5,
   "id": "849e0385-fed7-498b-8e80-e743ff9b85e1",
   "metadata": {},
   "outputs": [
    {
     "data": {
      "text/plain": [
       "45"
      ]
     },
     "execution_count": 5,
     "metadata": {},
     "output_type": "execute_result"
    }
   ],
   "source": [
    "ord('-')"
   ]
  },
  {
   "cell_type": "code",
   "execution_count": 20,
   "id": "2aca1899-68ee-4718-9fbf-e7a66c7682bc",
   "metadata": {},
   "outputs": [
    {
     "data": {
      "text/plain": [
       "38"
      ]
     },
     "execution_count": 20,
     "metadata": {},
     "output_type": "execute_result"
    }
   ],
   "source": [
    "ord('&')"
   ]
  },
  {
   "cell_type": "code",
   "execution_count": 21,
   "id": "a2879133-a05f-4bc5-83b5-055407e8e991",
   "metadata": {},
   "outputs": [
    {
     "data": {
      "text/plain": [
       "34"
      ]
     },
     "execution_count": 21,
     "metadata": {},
     "output_type": "execute_result"
    }
   ],
   "source": [
    "ord('\"')"
   ]
  },
  {
   "cell_type": "code",
   "execution_count": 24,
   "id": "149efb8c-6471-4e52-9574-c5a8824669ee",
   "metadata": {},
   "outputs": [
    {
     "data": {
      "text/plain": [
       "39"
      ]
     },
     "execution_count": 24,
     "metadata": {},
     "output_type": "execute_result"
    }
   ],
   "source": [
    "ord(\"'\")"
   ]
  },
  {
   "cell_type": "code",
   "execution_count": 26,
   "id": "b27baf5f-d4bf-46da-8c89-2dffcb1177bc",
   "metadata": {},
   "outputs": [
    {
     "data": {
      "text/plain": [
       "39"
      ]
     },
     "execution_count": 26,
     "metadata": {},
     "output_type": "execute_result"
    }
   ],
   "source": [
    "ord('\\'')"
   ]
  },
  {
   "cell_type": "code",
   "execution_count": 27,
   "id": "a42eb77b-d7ee-4787-9f2a-2ed3791793a0",
   "metadata": {},
   "outputs": [],
   "source": []
  },
  {
   "cell_type": "code",
   "execution_count": 11,
   "id": "3e7ef4ec-b9ed-4c15-8891-4043ee8c5248",
   "metadata": {},
   "outputs": [],
   "source": [
    "a= {'tagName': 'mark', 'status': '', 'attributes': {'class': 'A', 'title': ' '}, 'children': [{'tagName': '', 'status': '', 'attributes': {}, 'children': [], 'textContent': ' S02-¡'}, {'tagName': 'b', 'status': '', 'attributes': {}, 'children': [{'tagName': '', 'status': '', 'attributes': {}, 'children': [], 'textContent': 'Ho'}], 'textContent': 'Ho'}, {'tagName': '', 'status': '', 'attributes': {}, 'children': [], 'textContent': 'la, '}, {'tagName': 'b', 'status': '', 'attributes': {}, 'children': [{'tagName': '', 'status': '', 'attributes': {}, 'children': [], 'textContent': 'Pa'}], 'textContent': 'Pa'}, {'tagName': '', 'status': 'isAnchorAndFocus', 'attributes': {}, 'children': [], 'textContent': 'co, qué sor'}, {'tagName': 'b', 'status': '', 'attributes': {}, 'children': [{'tagName': '', 'status': '', 'attributes': {}, 'children': [], 'textContent': 'pre'}], 'textContent': 'pre'}, {'tagName': '', 'status': '', 'attributes': {}, 'children': [], 'textContent': 'sa! '}], 'textContent': ' S02-¡Hola, Paco, qué sorpresa! '}"
   ]
  },
  {
   "cell_type": "code",
   "execution_count": 12,
   "id": "778d08f3-63aa-4d35-a06f-5855f76bd86b",
   "metadata": {},
   "outputs": [
    {
     "data": {
      "text/plain": [
       "{'tagName': 'mark',\n",
       " 'status': '',\n",
       " 'attributes': {'class': 'A', 'title': ' '},\n",
       " 'children': [{'tagName': '',\n",
       "   'status': '',\n",
       "   'attributes': {},\n",
       "   'children': [],\n",
       "   'textContent': ' S02-¡'},\n",
       "  {'tagName': 'b',\n",
       "   'status': '',\n",
       "   'attributes': {},\n",
       "   'children': [{'tagName': '',\n",
       "     'status': '',\n",
       "     'attributes': {},\n",
       "     'children': [],\n",
       "     'textContent': 'Ho'}],\n",
       "   'textContent': 'Ho'},\n",
       "  {'tagName': '',\n",
       "   'status': '',\n",
       "   'attributes': {},\n",
       "   'children': [],\n",
       "   'textContent': 'la, '},\n",
       "  {'tagName': 'b',\n",
       "   'status': '',\n",
       "   'attributes': {},\n",
       "   'children': [{'tagName': '',\n",
       "     'status': '',\n",
       "     'attributes': {},\n",
       "     'children': [],\n",
       "     'textContent': 'Pa'}],\n",
       "   'textContent': 'Pa'},\n",
       "  {'tagName': '',\n",
       "   'status': 'isAnchorAndFocus',\n",
       "   'attributes': {},\n",
       "   'children': [],\n",
       "   'textContent': 'co, qué sor'},\n",
       "  {'tagName': 'b',\n",
       "   'status': '',\n",
       "   'attributes': {},\n",
       "   'children': [{'tagName': '',\n",
       "     'status': '',\n",
       "     'attributes': {},\n",
       "     'children': [],\n",
       "     'textContent': 'pre'}],\n",
       "   'textContent': 'pre'},\n",
       "  {'tagName': '',\n",
       "   'status': '',\n",
       "   'attributes': {},\n",
       "   'children': [],\n",
       "   'textContent': 'sa! '}],\n",
       " 'textContent': ' S02-¡Hola, Paco, qué sorpresa! '}"
      ]
     },
     "execution_count": 12,
     "metadata": {},
     "output_type": "execute_result"
    }
   ],
   "source": [
    "a"
   ]
  },
  {
   "cell_type": "code",
   "execution_count": 13,
   "id": "99f4c2ee-e0c5-4a4a-9a7c-b00959275bd8",
   "metadata": {},
   "outputs": [
    {
     "data": {
      "text/plain": [
       "' S02-¡Hola, Paco, qué sorpresa! '"
      ]
     },
     "execution_count": 13,
     "metadata": {},
     "output_type": "execute_result"
    }
   ],
   "source": [
    "a['textContent']"
   ]
  },
  {
   "cell_type": "code",
   "execution_count": 14,
   "id": "ec8060e7-383a-45a6-b7a4-0269e98a7e4d",
   "metadata": {},
   "outputs": [
    {
     "data": {
      "text/plain": [
       "{'tagName': 'b',\n",
       " 'status': '',\n",
       " 'attributes': {},\n",
       " 'children': [{'tagName': '',\n",
       "   'status': '',\n",
       "   'attributes': {},\n",
       "   'children': [],\n",
       "   'textContent': 'Pa'}],\n",
       " 'textContent': 'Pa'}"
      ]
     },
     "execution_count": 14,
     "metadata": {},
     "output_type": "execute_result"
    }
   ],
   "source": [
    "a['children'][3]"
   ]
  },
  {
   "cell_type": "code",
   "execution_count": 17,
   "id": "123c8ec2-3e5b-438d-a83c-da962f2bed7c",
   "metadata": {},
   "outputs": [],
   "source": [
    "element={'toto' : 1, 'titi' : 2, 'children' : ['tata', 'tutu', a, 'tonton', 'tata']}"
   ]
  },
  {
   "cell_type": "code",
   "execution_count": 18,
   "id": "64e461ba-2a54-4b91-956d-69b0123bbbcb",
   "metadata": {},
   "outputs": [],
   "source": [
    "index = 2\n",
    "child = element['children'][index]"
   ]
  },
  {
   "cell_type": "code",
   "execution_count": 19,
   "id": "5703c190-b161-4f0b-8db0-1909fb4a0ca2",
   "metadata": {},
   "outputs": [
    {
     "data": {
      "text/plain": [
       "{'toto': 1,\n",
       " 'titi': 2,\n",
       " 'children': ['tata',\n",
       "  'tutu',\n",
       "  {'tagName': '',\n",
       "   'status': '',\n",
       "   'attributes': {},\n",
       "   'children': [],\n",
       "   'textContent': ' S02-¡'},\n",
       "  {'tagName': 'b',\n",
       "   'status': '',\n",
       "   'attributes': {},\n",
       "   'children': [{'tagName': '',\n",
       "     'status': '',\n",
       "     'attributes': {},\n",
       "     'children': [],\n",
       "     'textContent': 'Ho'}],\n",
       "   'textContent': 'Ho'},\n",
       "  {'tagName': '',\n",
       "   'status': '',\n",
       "   'attributes': {},\n",
       "   'children': [],\n",
       "   'textContent': 'la, '},\n",
       "  {'tagName': 'b',\n",
       "   'status': '',\n",
       "   'attributes': {},\n",
       "   'children': [{'tagName': '',\n",
       "     'status': '',\n",
       "     'attributes': {},\n",
       "     'children': [],\n",
       "     'textContent': 'Pa'}],\n",
       "   'textContent': 'Pa'},\n",
       "  {'tagName': '',\n",
       "   'status': 'isAnchorAndFocus',\n",
       "   'attributes': {},\n",
       "   'children': [],\n",
       "   'textContent': 'co, qué sor'},\n",
       "  {'tagName': 'b',\n",
       "   'status': '',\n",
       "   'attributes': {},\n",
       "   'children': [{'tagName': '',\n",
       "     'status': '',\n",
       "     'attributes': {},\n",
       "     'children': [],\n",
       "     'textContent': 'pre'}],\n",
       "   'textContent': 'pre'},\n",
       "  {'tagName': '',\n",
       "   'status': '',\n",
       "   'attributes': {},\n",
       "   'children': [],\n",
       "   'textContent': 'sa! '},\n",
       "  'tonton',\n",
       "  'tata']}"
      ]
     },
     "execution_count": 19,
     "metadata": {},
     "output_type": "execute_result"
    }
   ],
   "source": [
    "element_children = element['children']\n",
    "\n",
    "new_element_children_begining = element_children[:index]\n",
    "new_element_children_end = element_children[index+1:]\n",
    "\n",
    "new_element_children = new_element_children_begining\n",
    "for mark_child in child['children']:\n",
    "    new_element_children.append(mark_child)\n",
    "new_element_children += new_element_children_end\n",
    "element['children'] = new_element_children\n",
    "\n",
    "    \n",
    "    \n",
    "\n",
    "element"
   ]
  },
  {
   "cell_type": "code",
   "execution_count": 1,
   "id": "69f53c55-63db-40c7-9647-de72de4c7451",
   "metadata": {},
   "outputs": [],
   "source": [
    "editor = {'tagName': 'div', 'status': '', 'attributes': {'id': 'editor', 'contenteditable;': ''}, 'children': [{'tagName': '', 'status': '', 'attributes': {}, 'children': [], 'textContent': '                  '}, {'tagName': 'p', 'status': '', 'attributes': {}, 'children': [{'tagName': '', 'status': '', 'attributes': {}, 'children': [], 'textContent': ' N1-Lec'}, {'tagName': 'b', 'status': '', 'attributes': {}, 'children': [{'tagName': '', 'status': '', 'attributes': {}, 'children': [], 'textContent': 'ción'}], 'textContent': 'ción'}, {'tagName': '', 'status': '', 'attributes': {}, 'children': [], 'textContent': ' pri'}, {'tagName': 'b', 'status': '', 'attributes': {}, 'children': [{'tagName': '', 'status': '', 'attributes': {}, 'children': [], 'textContent': 'me'}], 'textContent': 'me'}, {'tagName': '', 'status': '', 'attributes': {}, 'children': [], 'textContent': 'ra '}], 'textContent': ' N1-Lección primera '}, {'tagName': '', 'status': '', 'attributes': {}, 'children': [], 'textContent': '                  '}, {'tagName': 'p', 'status': '', 'attributes': {}, 'children': [{'tagName': '', 'status': '', 'attributes': {}, 'children': [], 'textContent': ' S00-TIT'}, {'tagName': 'mark', 'status': '', 'attributes': {'class': 'E', 'title': '      '}, 'children': [{'tagName': '', 'status': '', 'attributes': {}, 'children': [], 'textContent': 'LE-¡Qué sor'}, {'tagName': 'b', 'status': '', 'attributes': {}, 'children': [{'tagName': '', 'status': '', 'attributes': {}, 'children': [], 'textContent': 'pre'}], 'textContent': 'pre'}, {'tagName': '', 'status': '', 'attributes': {}, 'children': [], 'textContent': 'sa!  '}], 'textContent': 'LE-¡Qué sorpresa!  '}], 'textContent': ' S00-TITLE-¡Qué sorpresa!  '}, {'tagName': '', 'status': '', 'attributes': {}, 'children': [], 'textContent': '                  '}, {'tagName': 'p', 'status': '', 'attributes': {}, 'children': [{'tagName': 'mark', 'status': '', 'attributes': {'class': 'E', 'title': '      '}, 'children': [{'tagName': '', 'status': '', 'attributes': {}, 'children': [], 'textContent': ' S01-¡'}, {'tagName': 'b', 'status': '', 'attributes': {}, 'children': [{'tagName': '', 'status': '', 'attributes': {}, 'children': [], 'textContent': 'Ho'}], 'textContent': 'Ho'}, {'tagName': '', 'status': '', 'attributes': {}, 'children': [], 'textContent': 'la, '}, {'tagName': 'b', 'status': '', 'attributes': {}, 'children': [{'tagName': '', 'status': 'isAnchor', 'attributes': {}, 'children': [], 'textContent': 'Lau'}], 'textContent': 'Lau'}, {'tagName': '', 'status': 'isFocus', 'attributes': {}, 'children': [], 'textContent': 'ra!  '}], 'textContent': ' S01-¡Hola, Laura!  '}], 'textContent': ' S01-¡Hola, Laura!  '}, {'tagName': '', 'status': '', 'attributes': {}, 'children': [], 'textContent': '                  '}, {'tagName': 'p', 'status': '', 'attributes': {}, 'children': [{'tagName': 'mark', 'status': '', 'attributes': {'class': 'E', 'title': '      '}, 'children': [{'tagName': '', 'status': '', 'attributes': {}, 'children': [], 'textContent': ' S02-¡'}, {'tagName': 'b', 'status': '', 'attributes': {}, 'children': [{'tagName': '', 'status': '', 'attributes': {}, 'children': [], 'textContent': 'Ho'}], 'textContent': 'Ho'}, {'tagName': '', 'status': '', 'attributes': {}, 'children': [], 'textContent': 'la, '}, {'tagName': 'b', 'status': '', 'attributes': {}, 'children': [{'tagName': '', 'status': '', 'attributes': {}, 'children': [], 'textContent': 'Pa'}], 'textContent': 'Pa'}, {'tagName': '', 'status': '', 'attributes': {}, 'children': [], 'textContent': 'co, qué sor'}, {'tagName': 'b', 'status': '', 'attributes': {}, 'children': [{'tagName': '', 'status': '', 'attributes': {}, 'children': [], 'textContent': 'pre'}], 'textContent': 'pre'}, {'tagName': '', 'status': '', 'attributes': {}, 'children': [], 'textContent': 'sa!  '}], 'textContent': ' S02-¡Hola, Paco, qué sorpresa!  '}], 'textContent': ' S02-¡Hola, Paco, qué sorpresa!  '}, {'tagName': '', 'status': '', 'attributes': {}, 'children': [], 'textContent': '                  '}, {'tagName': 'p', 'status': '', 'attributes': {}, 'children': [{'tagName': 'mark', 'status': '', 'attributes': {'class': 'E', 'title': '      '}, 'children': [{'tagName': '', 'status': '', 'attributes': {}, 'children': [], 'textContent': ' S03-¿'}, {'tagName': 'b', 'status': '', 'attributes': {}, 'children': [{'tagName': '', 'status': '', 'attributes': {}, 'children': [], 'textContent': 'Có'}], 'textContent': 'Có'}, {'tagName': '', 'status': '', 'attributes': {}, 'children': [], 'textContent': 'mo es'}, {'tagName': 'b', 'status': '', 'attributes': {}, 'children': [{'tagName': '', 'status': '', 'attributes': {}, 'children': [], 'textContent': 'tás'}], 'textContent': 'tás'}, {'tagName': '', 'status': '', 'attributes': {}, 'children': [], 'textContent': ', '}, {'tagName': 'b', 'status': '', 'attributes': {}, 'children': [{'tagName': '', 'status': '', 'attributes': {}, 'children': [], 'textContent': 'gua'}], 'textContent': 'gua'}, {'tagName': '', 'status': '', 'attributes': {}, 'children': [], 'textContent': 'pa?  '}], 'textContent': ' S03-¿Cómo estás, guapa?  '}], 'textContent': ' S03-¿Cómo estás, guapa?  '}, {'tagName': '', 'status': '', 'attributes': {}, 'children': [], 'textContent': '                  '}, {'tagName': 'p', 'status': '', 'attributes': {}, 'children': [{'tagName': 'mark', 'status': '', 'attributes': {'class': 'E', 'title': '      '}, 'children': [], 'textContent': ''}], 'textContent': ''}, {'tagName': 'p', 'status': '', 'attributes': {}, 'children': [{'tagName': '', 'status': '', 'attributes': {}, 'children': [], 'textContent': ' S04-¡Bien, gracias! ¿Y tú, qué tal?  '}], 'textContent': ' S04-¡Bien, gracias! ¿Y tú, qué tal?  '}, {'tagName': '', 'status': '', 'attributes': {}, 'children': [], 'textContent': '                  '}, {'tagName': 'p', 'status': '', 'attributes': {}, 'children': [{'tagName': '', 'status': '', 'attributes': {}, 'children': [], 'textContent': ' S05-Es'}, {'tagName': 'b', 'status': '', 'attributes': {}, 'children': [{'tagName': '', 'status': '', 'attributes': {}, 'children': [], 'textContent': 'toy'}], 'textContent': 'toy'}, {'tagName': '', 'status': '', 'attributes': {}, 'children': [], 'textContent': ' pa'}, {'tagName': 'b', 'status': '', 'attributes': {}, 'children': [{'tagName': '', 'status': '', 'attributes': {}, 'children': [], 'textContent': 'chu'}], 'textContent': 'chu'}, {'tagName': '', 'status': '', 'attributes': {}, 'children': [], 'textContent': 'cho. . .  '}], 'textContent': ' S05-Estoy pachucho. . .  '}, {'tagName': '', 'status': '', 'attributes': {}, 'children': [], 'textContent': '                  '}, {'tagName': 'p', 'status': '', 'attributes': {}, 'children': [{'tagName': '', 'status': '', 'attributes': {}, 'children': [], 'textContent': ' T00-TRANSLATE-Ejer'}, {'tagName': 'b', 'status': '', 'attributes': {}, 'children': [{'tagName': '', 'status': '', 'attributes': {}, 'children': [], 'textContent': 'ci'}], 'textContent': 'ci'}, {'tagName': '', 'status': '', 'attributes': {}, 'children': [], 'textContent': 'cio 1 – Tra'}, {'tagName': 'b', 'status': '', 'attributes': {}, 'children': [{'tagName': '', 'status': '', 'attributes': {}, 'children': [], 'textContent': 'duz'}], 'textContent': 'duz'}, {'tagName': '', 'status': '', 'attributes': {}, 'children': [], 'textContent': 'ca '}], 'textContent': ' T00-TRANSLATE-Ejercicio 1 – Traduzca '}, {'tagName': '', 'status': '', 'attributes': {}, 'children': [], 'textContent': '                  '}, {'tagName': 'p', 'status': '', 'attributes': {}, 'children': [{'tagName': '', 'status': '', 'attributes': {}, 'children': [], 'textContent': ' T01-¿Qué tal?  '}], 'textContent': ' T01-¿Qué tal?  '}, {'tagName': '', 'status': '', 'attributes': {}, 'children': [], 'textContent': '                  '}, {'tagName': 'p', 'status': '', 'attributes': {}, 'children': [{'tagName': '', 'status': '', 'attributes': {}, 'children': [], 'textContent': ' T02-¿'}, {'tagName': 'b', 'status': '', 'attributes': {}, 'children': [{'tagName': '', 'status': '', 'attributes': {}, 'children': [], 'textContent': 'Có'}], 'textContent': 'Có'}, {'tagName': '', 'status': '', 'attributes': {}, 'children': [], 'textContent': 'mo es'}, {'tagName': 'b', 'status': '', 'attributes': {}, 'children': [{'tagName': '', 'status': '', 'attributes': {}, 'children': [], 'textContent': 'tás'}], 'textContent': 'tás'}, {'tagName': '', 'status': '', 'attributes': {}, 'children': [], 'textContent': '?  '}], 'textContent': ' T02-¿Cómo estás?  '}, {'tagName': '', 'status': '', 'attributes': {}, 'children': [], 'textContent': '                  '}, {'tagName': 'p', 'status': '', 'attributes': {}, 'children': [{'tagName': '', 'status': '', 'attributes': {}, 'children': [], 'textContent': ' T03-¡'}, {'tagName': 'b', 'status': '', 'attributes': {}, 'children': [{'tagName': '', 'status': '', 'attributes': {}, 'children': [], 'textContent': 'Ho'}], 'textContent': 'Ho'}, {'tagName': '', 'status': '', 'attributes': {}, 'children': [], 'textContent': 'la, '}, {'tagName': 'b', 'status': '', 'attributes': {}, 'children': [{'tagName': '', 'status': '', 'attributes': {}, 'children': [], 'textContent': 'gua'}], 'textContent': 'gua'}, {'tagName': '', 'status': '', 'attributes': {}, 'children': [], 'textContent': 'pa, qué sor'}, {'tagName': 'b', 'status': '', 'attributes': {}, 'children': [{'tagName': '', 'status': '', 'attributes': {}, 'children': [], 'textContent': 'pre'}], 'textContent': 'pre'}, {'tagName': '', 'status': '', 'attributes': {}, 'children': [], 'textContent': 'sa!  '}], 'textContent': ' T03-¡Hola, guapa, qué sorpresa!  '}, {'tagName': '', 'status': '', 'attributes': {}, 'children': [], 'textContent': '                  '}, {'tagName': 'p', 'status': '', 'attributes': {}, 'children': [{'tagName': '', 'status': '', 'attributes': {}, 'children': [], 'textContent': ' T04-¿Es'}, {'tagName': 'b', 'status': '', 'attributes': {}, 'children': [{'tagName': '', 'status': '', 'attributes': {}, 'children': [], 'textContent': 'tás'}], 'textContent': 'tás'}, {'tagName': '', 'status': '', 'attributes': {}, 'children': [], 'textContent': ' pa'}, {'tagName': 'b', 'status': '', 'attributes': {}, 'children': [{'tagName': '', 'status': '', 'attributes': {}, 'children': [], 'textContent': 'chu'}], 'textContent': 'chu'}, {'tagName': '', 'status': '', 'attributes': {}, 'children': [], 'textContent': 'cho?  '}], 'textContent': ' T04-¿Estás pachucho?  '}, {'tagName': '', 'status': '', 'attributes': {}, 'children': [], 'textContent': '                  '}, {'tagName': 'p', 'status': '', 'attributes': {}, 'children': [{'tagName': '', 'status': '', 'attributes': {}, 'children': [], 'textContent': ' T05-Es'}, {'tagName': 'b', 'status': '', 'attributes': {}, 'children': [{'tagName': '', 'status': '', 'attributes': {}, 'children': [], 'textContent': 'toy'}], 'textContent': 'toy'}, {'tagName': '', 'status': '', 'attributes': {}, 'children': [], 'textContent': ' bien, '}, {'tagName': 'b', 'status': '', 'attributes': {}, 'children': [{'tagName': '', 'status': '', 'attributes': {}, 'children': [], 'textContent': 'gra'}], 'textContent': 'gra'}, {'tagName': '', 'status': '', 'attributes': {}, 'children': [], 'textContent': 'cias.  '}], 'textContent': ' T05-Estoy bien, gracias.  '}, {'tagName': '', 'status': '', 'attributes': {}, 'children': [], 'textContent': '              '}], 'textContent': '                   N1-Lección primera                    S00-TITLE-¡Qué sorpresa!                     S01-¡Hola, Laura!                     S02-¡Hola, Paco, qué sorpresa!                     S03-¿Cómo estás, guapa?                     S04-¡Bien, gracias! ¿Y tú, qué tal?                     S05-Estoy pachucho. . .                     T00-TRANSLATE-Ejercicio 1 – Traduzca                    T01-¿Qué tal?                     T02-¿Cómo estás?                     T03-¡Hola, guapa, qué sorpresa!                     T04-¿Estás pachucho?                     T05-Estoy bien, gracias.                '}"
   ]
  },
  {
   "cell_type": "code",
   "execution_count": 2,
   "id": "b5c98988-d447-4e29-907b-64fd49cae402",
   "metadata": {},
   "outputs": [
    {
     "data": {
      "text/plain": [
       "{'tagName': 'div',\n",
       " 'status': '',\n",
       " 'attributes': {'id': 'editor', 'contenteditable;': ''},\n",
       " 'children': [{'tagName': '',\n",
       "   'status': '',\n",
       "   'attributes': {},\n",
       "   'children': [],\n",
       "   'textContent': '                  '},\n",
       "  {'tagName': 'p',\n",
       "   'status': '',\n",
       "   'attributes': {},\n",
       "   'children': [{'tagName': '',\n",
       "     'status': '',\n",
       "     'attributes': {},\n",
       "     'children': [],\n",
       "     'textContent': ' N1-Lec'},\n",
       "    {'tagName': 'b',\n",
       "     'status': '',\n",
       "     'attributes': {},\n",
       "     'children': [{'tagName': '',\n",
       "       'status': '',\n",
       "       'attributes': {},\n",
       "       'children': [],\n",
       "       'textContent': 'ción'}],\n",
       "     'textContent': 'ción'},\n",
       "    {'tagName': '',\n",
       "     'status': '',\n",
       "     'attributes': {},\n",
       "     'children': [],\n",
       "     'textContent': ' pri'},\n",
       "    {'tagName': 'b',\n",
       "     'status': '',\n",
       "     'attributes': {},\n",
       "     'children': [{'tagName': '',\n",
       "       'status': '',\n",
       "       'attributes': {},\n",
       "       'children': [],\n",
       "       'textContent': 'me'}],\n",
       "     'textContent': 'me'},\n",
       "    {'tagName': '',\n",
       "     'status': '',\n",
       "     'attributes': {},\n",
       "     'children': [],\n",
       "     'textContent': 'ra '}],\n",
       "   'textContent': ' N1-Lección primera '},\n",
       "  {'tagName': '',\n",
       "   'status': '',\n",
       "   'attributes': {},\n",
       "   'children': [],\n",
       "   'textContent': '                  '},\n",
       "  {'tagName': 'p',\n",
       "   'status': '',\n",
       "   'attributes': {},\n",
       "   'children': [{'tagName': '',\n",
       "     'status': '',\n",
       "     'attributes': {},\n",
       "     'children': [],\n",
       "     'textContent': ' S00-TIT'},\n",
       "    {'tagName': 'mark',\n",
       "     'status': '',\n",
       "     'attributes': {'class': 'E', 'title': '      '},\n",
       "     'children': [{'tagName': '',\n",
       "       'status': '',\n",
       "       'attributes': {},\n",
       "       'children': [],\n",
       "       'textContent': 'LE-¡Qué sor'},\n",
       "      {'tagName': 'b',\n",
       "       'status': '',\n",
       "       'attributes': {},\n",
       "       'children': [{'tagName': '',\n",
       "         'status': '',\n",
       "         'attributes': {},\n",
       "         'children': [],\n",
       "         'textContent': 'pre'}],\n",
       "       'textContent': 'pre'},\n",
       "      {'tagName': '',\n",
       "       'status': '',\n",
       "       'attributes': {},\n",
       "       'children': [],\n",
       "       'textContent': 'sa!  '}],\n",
       "     'textContent': 'LE-¡Qué sorpresa!  '}],\n",
       "   'textContent': ' S00-TITLE-¡Qué sorpresa!  '},\n",
       "  {'tagName': '',\n",
       "   'status': '',\n",
       "   'attributes': {},\n",
       "   'children': [],\n",
       "   'textContent': '                  '},\n",
       "  {'tagName': 'p',\n",
       "   'status': '',\n",
       "   'attributes': {},\n",
       "   'children': [{'tagName': 'mark',\n",
       "     'status': '',\n",
       "     'attributes': {'class': 'E', 'title': '      '},\n",
       "     'children': [{'tagName': '',\n",
       "       'status': '',\n",
       "       'attributes': {},\n",
       "       'children': [],\n",
       "       'textContent': ' S01-¡'},\n",
       "      {'tagName': 'b',\n",
       "       'status': '',\n",
       "       'attributes': {},\n",
       "       'children': [{'tagName': '',\n",
       "         'status': '',\n",
       "         'attributes': {},\n",
       "         'children': [],\n",
       "         'textContent': 'Ho'}],\n",
       "       'textContent': 'Ho'},\n",
       "      {'tagName': '',\n",
       "       'status': '',\n",
       "       'attributes': {},\n",
       "       'children': [],\n",
       "       'textContent': 'la, '},\n",
       "      {'tagName': 'b',\n",
       "       'status': '',\n",
       "       'attributes': {},\n",
       "       'children': [{'tagName': '',\n",
       "         'status': 'isAnchor',\n",
       "         'attributes': {},\n",
       "         'children': [],\n",
       "         'textContent': 'Lau'}],\n",
       "       'textContent': 'Lau'},\n",
       "      {'tagName': '',\n",
       "       'status': 'isFocus',\n",
       "       'attributes': {},\n",
       "       'children': [],\n",
       "       'textContent': 'ra!  '}],\n",
       "     'textContent': ' S01-¡Hola, Laura!  '}],\n",
       "   'textContent': ' S01-¡Hola, Laura!  '},\n",
       "  {'tagName': '',\n",
       "   'status': '',\n",
       "   'attributes': {},\n",
       "   'children': [],\n",
       "   'textContent': '                  '},\n",
       "  {'tagName': 'p',\n",
       "   'status': '',\n",
       "   'attributes': {},\n",
       "   'children': [{'tagName': 'mark',\n",
       "     'status': '',\n",
       "     'attributes': {'class': 'E', 'title': '      '},\n",
       "     'children': [{'tagName': '',\n",
       "       'status': '',\n",
       "       'attributes': {},\n",
       "       'children': [],\n",
       "       'textContent': ' S02-¡'},\n",
       "      {'tagName': 'b',\n",
       "       'status': '',\n",
       "       'attributes': {},\n",
       "       'children': [{'tagName': '',\n",
       "         'status': '',\n",
       "         'attributes': {},\n",
       "         'children': [],\n",
       "         'textContent': 'Ho'}],\n",
       "       'textContent': 'Ho'},\n",
       "      {'tagName': '',\n",
       "       'status': '',\n",
       "       'attributes': {},\n",
       "       'children': [],\n",
       "       'textContent': 'la, '},\n",
       "      {'tagName': 'b',\n",
       "       'status': '',\n",
       "       'attributes': {},\n",
       "       'children': [{'tagName': '',\n",
       "         'status': '',\n",
       "         'attributes': {},\n",
       "         'children': [],\n",
       "         'textContent': 'Pa'}],\n",
       "       'textContent': 'Pa'},\n",
       "      {'tagName': '',\n",
       "       'status': '',\n",
       "       'attributes': {},\n",
       "       'children': [],\n",
       "       'textContent': 'co, qué sor'},\n",
       "      {'tagName': 'b',\n",
       "       'status': '',\n",
       "       'attributes': {},\n",
       "       'children': [{'tagName': '',\n",
       "         'status': '',\n",
       "         'attributes': {},\n",
       "         'children': [],\n",
       "         'textContent': 'pre'}],\n",
       "       'textContent': 'pre'},\n",
       "      {'tagName': '',\n",
       "       'status': '',\n",
       "       'attributes': {},\n",
       "       'children': [],\n",
       "       'textContent': 'sa!  '}],\n",
       "     'textContent': ' S02-¡Hola, Paco, qué sorpresa!  '}],\n",
       "   'textContent': ' S02-¡Hola, Paco, qué sorpresa!  '},\n",
       "  {'tagName': '',\n",
       "   'status': '',\n",
       "   'attributes': {},\n",
       "   'children': [],\n",
       "   'textContent': '                  '},\n",
       "  {'tagName': 'p',\n",
       "   'status': '',\n",
       "   'attributes': {},\n",
       "   'children': [{'tagName': 'mark',\n",
       "     'status': '',\n",
       "     'attributes': {'class': 'E', 'title': '      '},\n",
       "     'children': [{'tagName': '',\n",
       "       'status': '',\n",
       "       'attributes': {},\n",
       "       'children': [],\n",
       "       'textContent': ' S03-¿'},\n",
       "      {'tagName': 'b',\n",
       "       'status': '',\n",
       "       'attributes': {},\n",
       "       'children': [{'tagName': '',\n",
       "         'status': '',\n",
       "         'attributes': {},\n",
       "         'children': [],\n",
       "         'textContent': 'Có'}],\n",
       "       'textContent': 'Có'},\n",
       "      {'tagName': '',\n",
       "       'status': '',\n",
       "       'attributes': {},\n",
       "       'children': [],\n",
       "       'textContent': 'mo es'},\n",
       "      {'tagName': 'b',\n",
       "       'status': '',\n",
       "       'attributes': {},\n",
       "       'children': [{'tagName': '',\n",
       "         'status': '',\n",
       "         'attributes': {},\n",
       "         'children': [],\n",
       "         'textContent': 'tás'}],\n",
       "       'textContent': 'tás'},\n",
       "      {'tagName': '',\n",
       "       'status': '',\n",
       "       'attributes': {},\n",
       "       'children': [],\n",
       "       'textContent': ', '},\n",
       "      {'tagName': 'b',\n",
       "       'status': '',\n",
       "       'attributes': {},\n",
       "       'children': [{'tagName': '',\n",
       "         'status': '',\n",
       "         'attributes': {},\n",
       "         'children': [],\n",
       "         'textContent': 'gua'}],\n",
       "       'textContent': 'gua'},\n",
       "      {'tagName': '',\n",
       "       'status': '',\n",
       "       'attributes': {},\n",
       "       'children': [],\n",
       "       'textContent': 'pa?  '}],\n",
       "     'textContent': ' S03-¿Cómo estás, guapa?  '}],\n",
       "   'textContent': ' S03-¿Cómo estás, guapa?  '},\n",
       "  {'tagName': '',\n",
       "   'status': '',\n",
       "   'attributes': {},\n",
       "   'children': [],\n",
       "   'textContent': '                  '},\n",
       "  {'tagName': 'p',\n",
       "   'status': '',\n",
       "   'attributes': {},\n",
       "   'children': [{'tagName': 'mark',\n",
       "     'status': '',\n",
       "     'attributes': {'class': 'E', 'title': '      '},\n",
       "     'children': [],\n",
       "     'textContent': ''}],\n",
       "   'textContent': ''},\n",
       "  {'tagName': 'p',\n",
       "   'status': '',\n",
       "   'attributes': {},\n",
       "   'children': [{'tagName': '',\n",
       "     'status': '',\n",
       "     'attributes': {},\n",
       "     'children': [],\n",
       "     'textContent': ' S04-¡Bien, gracias! ¿Y tú, qué tal?  '}],\n",
       "   'textContent': ' S04-¡Bien, gracias! ¿Y tú, qué tal?  '},\n",
       "  {'tagName': '',\n",
       "   'status': '',\n",
       "   'attributes': {},\n",
       "   'children': [],\n",
       "   'textContent': '                  '},\n",
       "  {'tagName': 'p',\n",
       "   'status': '',\n",
       "   'attributes': {},\n",
       "   'children': [{'tagName': '',\n",
       "     'status': '',\n",
       "     'attributes': {},\n",
       "     'children': [],\n",
       "     'textContent': ' S05-Es'},\n",
       "    {'tagName': 'b',\n",
       "     'status': '',\n",
       "     'attributes': {},\n",
       "     'children': [{'tagName': '',\n",
       "       'status': '',\n",
       "       'attributes': {},\n",
       "       'children': [],\n",
       "       'textContent': 'toy'}],\n",
       "     'textContent': 'toy'},\n",
       "    {'tagName': '',\n",
       "     'status': '',\n",
       "     'attributes': {},\n",
       "     'children': [],\n",
       "     'textContent': ' pa'},\n",
       "    {'tagName': 'b',\n",
       "     'status': '',\n",
       "     'attributes': {},\n",
       "     'children': [{'tagName': '',\n",
       "       'status': '',\n",
       "       'attributes': {},\n",
       "       'children': [],\n",
       "       'textContent': 'chu'}],\n",
       "     'textContent': 'chu'},\n",
       "    {'tagName': '',\n",
       "     'status': '',\n",
       "     'attributes': {},\n",
       "     'children': [],\n",
       "     'textContent': 'cho. . .  '}],\n",
       "   'textContent': ' S05-Estoy pachucho. . .  '},\n",
       "  {'tagName': '',\n",
       "   'status': '',\n",
       "   'attributes': {},\n",
       "   'children': [],\n",
       "   'textContent': '                  '},\n",
       "  {'tagName': 'p',\n",
       "   'status': '',\n",
       "   'attributes': {},\n",
       "   'children': [{'tagName': '',\n",
       "     'status': '',\n",
       "     'attributes': {},\n",
       "     'children': [],\n",
       "     'textContent': ' T00-TRANSLATE-Ejer'},\n",
       "    {'tagName': 'b',\n",
       "     'status': '',\n",
       "     'attributes': {},\n",
       "     'children': [{'tagName': '',\n",
       "       'status': '',\n",
       "       'attributes': {},\n",
       "       'children': [],\n",
       "       'textContent': 'ci'}],\n",
       "     'textContent': 'ci'},\n",
       "    {'tagName': '',\n",
       "     'status': '',\n",
       "     'attributes': {},\n",
       "     'children': [],\n",
       "     'textContent': 'cio 1 – Tra'},\n",
       "    {'tagName': 'b',\n",
       "     'status': '',\n",
       "     'attributes': {},\n",
       "     'children': [{'tagName': '',\n",
       "       'status': '',\n",
       "       'attributes': {},\n",
       "       'children': [],\n",
       "       'textContent': 'duz'}],\n",
       "     'textContent': 'duz'},\n",
       "    {'tagName': '',\n",
       "     'status': '',\n",
       "     'attributes': {},\n",
       "     'children': [],\n",
       "     'textContent': 'ca '}],\n",
       "   'textContent': ' T00-TRANSLATE-Ejercicio 1 – Traduzca '},\n",
       "  {'tagName': '',\n",
       "   'status': '',\n",
       "   'attributes': {},\n",
       "   'children': [],\n",
       "   'textContent': '                  '},\n",
       "  {'tagName': 'p',\n",
       "   'status': '',\n",
       "   'attributes': {},\n",
       "   'children': [{'tagName': '',\n",
       "     'status': '',\n",
       "     'attributes': {},\n",
       "     'children': [],\n",
       "     'textContent': ' T01-¿Qué tal?  '}],\n",
       "   'textContent': ' T01-¿Qué tal?  '},\n",
       "  {'tagName': '',\n",
       "   'status': '',\n",
       "   'attributes': {},\n",
       "   'children': [],\n",
       "   'textContent': '                  '},\n",
       "  {'tagName': 'p',\n",
       "   'status': '',\n",
       "   'attributes': {},\n",
       "   'children': [{'tagName': '',\n",
       "     'status': '',\n",
       "     'attributes': {},\n",
       "     'children': [],\n",
       "     'textContent': ' T02-¿'},\n",
       "    {'tagName': 'b',\n",
       "     'status': '',\n",
       "     'attributes': {},\n",
       "     'children': [{'tagName': '',\n",
       "       'status': '',\n",
       "       'attributes': {},\n",
       "       'children': [],\n",
       "       'textContent': 'Có'}],\n",
       "     'textContent': 'Có'},\n",
       "    {'tagName': '',\n",
       "     'status': '',\n",
       "     'attributes': {},\n",
       "     'children': [],\n",
       "     'textContent': 'mo es'},\n",
       "    {'tagName': 'b',\n",
       "     'status': '',\n",
       "     'attributes': {},\n",
       "     'children': [{'tagName': '',\n",
       "       'status': '',\n",
       "       'attributes': {},\n",
       "       'children': [],\n",
       "       'textContent': 'tás'}],\n",
       "     'textContent': 'tás'},\n",
       "    {'tagName': '',\n",
       "     'status': '',\n",
       "     'attributes': {},\n",
       "     'children': [],\n",
       "     'textContent': '?  '}],\n",
       "   'textContent': ' T02-¿Cómo estás?  '},\n",
       "  {'tagName': '',\n",
       "   'status': '',\n",
       "   'attributes': {},\n",
       "   'children': [],\n",
       "   'textContent': '                  '},\n",
       "  {'tagName': 'p',\n",
       "   'status': '',\n",
       "   'attributes': {},\n",
       "   'children': [{'tagName': '',\n",
       "     'status': '',\n",
       "     'attributes': {},\n",
       "     'children': [],\n",
       "     'textContent': ' T03-¡'},\n",
       "    {'tagName': 'b',\n",
       "     'status': '',\n",
       "     'attributes': {},\n",
       "     'children': [{'tagName': '',\n",
       "       'status': '',\n",
       "       'attributes': {},\n",
       "       'children': [],\n",
       "       'textContent': 'Ho'}],\n",
       "     'textContent': 'Ho'},\n",
       "    {'tagName': '',\n",
       "     'status': '',\n",
       "     'attributes': {},\n",
       "     'children': [],\n",
       "     'textContent': 'la, '},\n",
       "    {'tagName': 'b',\n",
       "     'status': '',\n",
       "     'attributes': {},\n",
       "     'children': [{'tagName': '',\n",
       "       'status': '',\n",
       "       'attributes': {},\n",
       "       'children': [],\n",
       "       'textContent': 'gua'}],\n",
       "     'textContent': 'gua'},\n",
       "    {'tagName': '',\n",
       "     'status': '',\n",
       "     'attributes': {},\n",
       "     'children': [],\n",
       "     'textContent': 'pa, qué sor'},\n",
       "    {'tagName': 'b',\n",
       "     'status': '',\n",
       "     'attributes': {},\n",
       "     'children': [{'tagName': '',\n",
       "       'status': '',\n",
       "       'attributes': {},\n",
       "       'children': [],\n",
       "       'textContent': 'pre'}],\n",
       "     'textContent': 'pre'},\n",
       "    {'tagName': '',\n",
       "     'status': '',\n",
       "     'attributes': {},\n",
       "     'children': [],\n",
       "     'textContent': 'sa!  '}],\n",
       "   'textContent': ' T03-¡Hola, guapa, qué sorpresa!  '},\n",
       "  {'tagName': '',\n",
       "   'status': '',\n",
       "   'attributes': {},\n",
       "   'children': [],\n",
       "   'textContent': '                  '},\n",
       "  {'tagName': 'p',\n",
       "   'status': '',\n",
       "   'attributes': {},\n",
       "   'children': [{'tagName': '',\n",
       "     'status': '',\n",
       "     'attributes': {},\n",
       "     'children': [],\n",
       "     'textContent': ' T04-¿Es'},\n",
       "    {'tagName': 'b',\n",
       "     'status': '',\n",
       "     'attributes': {},\n",
       "     'children': [{'tagName': '',\n",
       "       'status': '',\n",
       "       'attributes': {},\n",
       "       'children': [],\n",
       "       'textContent': 'tás'}],\n",
       "     'textContent': 'tás'},\n",
       "    {'tagName': '',\n",
       "     'status': '',\n",
       "     'attributes': {},\n",
       "     'children': [],\n",
       "     'textContent': ' pa'},\n",
       "    {'tagName': 'b',\n",
       "     'status': '',\n",
       "     'attributes': {},\n",
       "     'children': [{'tagName': '',\n",
       "       'status': '',\n",
       "       'attributes': {},\n",
       "       'children': [],\n",
       "       'textContent': 'chu'}],\n",
       "     'textContent': 'chu'},\n",
       "    {'tagName': '',\n",
       "     'status': '',\n",
       "     'attributes': {},\n",
       "     'children': [],\n",
       "     'textContent': 'cho?  '}],\n",
       "   'textContent': ' T04-¿Estás pachucho?  '},\n",
       "  {'tagName': '',\n",
       "   'status': '',\n",
       "   'attributes': {},\n",
       "   'children': [],\n",
       "   'textContent': '                  '},\n",
       "  {'tagName': 'p',\n",
       "   'status': '',\n",
       "   'attributes': {},\n",
       "   'children': [{'tagName': '',\n",
       "     'status': '',\n",
       "     'attributes': {},\n",
       "     'children': [],\n",
       "     'textContent': ' T05-Es'},\n",
       "    {'tagName': 'b',\n",
       "     'status': '',\n",
       "     'attributes': {},\n",
       "     'children': [{'tagName': '',\n",
       "       'status': '',\n",
       "       'attributes': {},\n",
       "       'children': [],\n",
       "       'textContent': 'toy'}],\n",
       "     'textContent': 'toy'},\n",
       "    {'tagName': '',\n",
       "     'status': '',\n",
       "     'attributes': {},\n",
       "     'children': [],\n",
       "     'textContent': ' bien, '},\n",
       "    {'tagName': 'b',\n",
       "     'status': '',\n",
       "     'attributes': {},\n",
       "     'children': [{'tagName': '',\n",
       "       'status': '',\n",
       "       'attributes': {},\n",
       "       'children': [],\n",
       "       'textContent': 'gra'}],\n",
       "     'textContent': 'gra'},\n",
       "    {'tagName': '',\n",
       "     'status': '',\n",
       "     'attributes': {},\n",
       "     'children': [],\n",
       "     'textContent': 'cias.  '}],\n",
       "   'textContent': ' T05-Estoy bien, gracias.  '},\n",
       "  {'tagName': '',\n",
       "   'status': '',\n",
       "   'attributes': {},\n",
       "   'children': [],\n",
       "   'textContent': '              '}],\n",
       " 'textContent': '                   N1-Lección primera                    S00-TITLE-¡Qué sorpresa!                     S01-¡Hola, Laura!                     S02-¡Hola, Paco, qué sorpresa!                     S03-¿Cómo estás, guapa?                     S04-¡Bien, gracias! ¿Y tú, qué tal?                     S05-Estoy pachucho. . .                     T00-TRANSLATE-Ejercicio 1 – Traduzca                    T01-¿Qué tal?                     T02-¿Cómo estás?                     T03-¡Hola, guapa, qué sorpresa!                     T04-¿Estás pachucho?                     T05-Estoy bien, gracias.                '}"
      ]
     },
     "execution_count": 2,
     "metadata": {},
     "output_type": "execute_result"
    }
   ],
   "source": [
    "editor"
   ]
  },
  {
   "cell_type": "code",
   "execution_count": 3,
   "id": "759bd8f8-c233-4d03-8a65-d342842f1cac",
   "metadata": {},
   "outputs": [
    {
     "data": {
      "text/plain": [
       "{'tagName': 'p',\n",
       " 'status': '',\n",
       " 'attributes': {},\n",
       " 'children': [{'tagName': '',\n",
       "   'status': '',\n",
       "   'attributes': {},\n",
       "   'children': [],\n",
       "   'textContent': ' S00-TIT'},\n",
       "  {'tagName': 'mark',\n",
       "   'status': '',\n",
       "   'attributes': {'class': 'E', 'title': '      '},\n",
       "   'children': [{'tagName': '',\n",
       "     'status': '',\n",
       "     'attributes': {},\n",
       "     'children': [],\n",
       "     'textContent': 'LE-¡Qué sor'},\n",
       "    {'tagName': 'b',\n",
       "     'status': '',\n",
       "     'attributes': {},\n",
       "     'children': [{'tagName': '',\n",
       "       'status': '',\n",
       "       'attributes': {},\n",
       "       'children': [],\n",
       "       'textContent': 'pre'}],\n",
       "     'textContent': 'pre'},\n",
       "    {'tagName': '',\n",
       "     'status': '',\n",
       "     'attributes': {},\n",
       "     'children': [],\n",
       "     'textContent': 'sa!  '}],\n",
       "   'textContent': 'LE-¡Qué sorpresa!  '}],\n",
       " 'textContent': ' S00-TITLE-¡Qué sorpresa!  '}"
      ]
     },
     "execution_count": 3,
     "metadata": {},
     "output_type": "execute_result"
    }
   ],
   "source": [
    "editor['children'][3]"
   ]
  },
  {
   "cell_type": "code",
   "execution_count": null,
   "id": "61fdbab7-eda7-4038-8300-4ac908f01696",
   "metadata": {},
   "outputs": [],
   "source": []
  },
  {
   "cell_type": "code",
   "execution_count": 4,
   "id": "88b084ff-8220-49cd-94a1-262e19b292fe",
   "metadata": {},
   "outputs": [
    {
     "name": "stdout",
     "output_type": "stream",
     "text": [
      "2024-09-08 17:44:45,178 INFO sqlalchemy.engine.Engine BEGIN (implicit)\n",
      "2024-09-08 17:44:45,178 INFO sqlalchemy.engine.Engine PRAGMA main.table_info(\"word_dict\")\n",
      "2024-09-08 17:44:45,178 INFO sqlalchemy.engine.Engine [raw sql] ()\n",
      "2024-09-08 17:44:45,179 INFO sqlalchemy.engine.Engine PRAGMA main.table_info(\"word_index\")\n",
      "2024-09-08 17:44:45,179 INFO sqlalchemy.engine.Engine [raw sql] ()\n",
      "2024-09-08 17:44:45,180 INFO sqlalchemy.engine.Engine PRAGMA main.table_info(\"sentences\")\n",
      "2024-09-08 17:44:45,180 INFO sqlalchemy.engine.Engine [raw sql] ()\n",
      "2024-09-08 17:44:45,181 INFO sqlalchemy.engine.Engine PRAGMA main.table_info(\"marked_sentences\")\n",
      "2024-09-08 17:44:45,181 INFO sqlalchemy.engine.Engine [raw sql] ()\n",
      "2024-09-08 17:44:45,182 INFO sqlalchemy.engine.Engine PRAGMA main.table_info(\"lesson_sessions\")\n",
      "2024-09-08 17:44:45,182 INFO sqlalchemy.engine.Engine [raw sql] ()\n",
      "2024-09-08 17:44:45,183 INFO sqlalchemy.engine.Engine COMMIT\n"
     ]
    }
   ],
   "source": [
    "from selection import get_html_text, look_for_selection"
   ]
  },
  {
   "cell_type": "code",
   "execution_count": 5,
   "id": "5d15117e-86e1-488e-b5a0-dc8fd09ab3dd",
   "metadata": {},
   "outputs": [],
   "source": [
    "text = get_html_text(editor)"
   ]
  },
  {
   "cell_type": "code",
   "execution_count": 6,
   "id": "296360bc-530f-417a-9d85-3624b72f94d5",
   "metadata": {},
   "outputs": [],
   "source": [
    "text = text.replace('\\n', '')"
   ]
  },
  {
   "cell_type": "code",
   "execution_count": 7,
   "id": "650c4a1c-728d-4862-b902-7e0ee0eba879",
   "metadata": {},
   "outputs": [
    {
     "data": {
      "text/plain": [
       "'<div>                  <p> N1-Lec<b>ción</b> pri<b>me</b>ra </p>                  <p> S00-TIT<mark>LE-¡Qué sor<b>pre</b>sa!  </mark></p>                  <p><mark> S01-¡<b>Ho</b>la, <b>Lau</b>ra!  </mark></p>                  <p><mark> S02-¡<b>Ho</b>la, <b>Pa</b>co, qué sor<b>pre</b>sa!  </mark></p>                  <p><mark> S03-¿<b>Có</b>mo es<b>tás</b>, <b>gua</b>pa?  </mark></p>                  <p><mark></mark></p><p> S04-¡Bien, gracias! ¿Y tú, qué tal?  </p>                  <p> S05-Es<b>toy</b> pa<b>chu</b>cho. . .  </p>                  <p> T00-TRANSLATE-Ejer<b>ci</b>cio 1 – Tra<b>duz</b>ca </p>                  <p> T01-¿Qué tal?  </p>                  <p> T02-¿<b>Có</b>mo es<b>tás</b>?  </p>                  <p> T03-¡<b>Ho</b>la, <b>gua</b>pa, qué sor<b>pre</b>sa!  </p>                  <p> T04-¿Es<b>tás</b> pa<b>chu</b>cho?  </p>                  <p> T05-Es<b>toy</b> bien, <b>gra</b>cias.  </p>              </div>'"
      ]
     },
     "execution_count": 7,
     "metadata": {},
     "output_type": "execute_result"
    }
   ],
   "source": [
    "text"
   ]
  },
  {
   "cell_type": "code",
   "execution_count": 8,
   "id": "e594553b-5e0c-4c28-a004-5765dfd20184",
   "metadata": {},
   "outputs": [
    {
     "name": "stdout",
     "output_type": "stream",
     "text": [
      "\n",
      "p\n",
      "\n",
      "b\n",
      "\n",
      "\n",
      "b\n",
      "\n",
      "\n",
      "\n",
      "p\n",
      "\n",
      "mark\n",
      "\n",
      "b\n",
      "\n",
      "\n",
      "\n",
      "p\n",
      "mark\n",
      "\n",
      "b\n",
      "\n",
      "\n",
      "b\n",
      "\n",
      "Anchor found : {'tagName': '', 'status': 'isAnchor', 'attributes': {}, 'children': [], 'textContent': 'Lau'}\n"
     ]
    },
    {
     "data": {
      "text/plain": [
       "{'tagName': '',\n",
       " 'status': 'isAnchor',\n",
       " 'attributes': {},\n",
       " 'children': [],\n",
       " 'textContent': 'Lau'}"
      ]
     },
     "execution_count": 8,
     "metadata": {},
     "output_type": "execute_result"
    }
   ],
   "source": [
    "look_for_selection(editor)"
   ]
  },
  {
   "cell_type": "code",
   "execution_count": 9,
   "id": "8a556d17-5013-4eec-b1d7-ecae16ffe041",
   "metadata": {},
   "outputs": [
    {
     "data": {
      "text/plain": [
       "{'tagName': 'div',\n",
       " 'status': '',\n",
       " 'attributes': {'id': 'editor', 'contenteditable;': ''},\n",
       " 'children': [{'tagName': '',\n",
       "   'status': '',\n",
       "   'attributes': {},\n",
       "   'children': [],\n",
       "   'textContent': '                  '},\n",
       "  {'tagName': 'p',\n",
       "   'status': '',\n",
       "   'attributes': {},\n",
       "   'children': [{'tagName': '',\n",
       "     'status': '',\n",
       "     'attributes': {},\n",
       "     'children': [],\n",
       "     'textContent': ' N1-Lec'},\n",
       "    {'tagName': 'b',\n",
       "     'status': '',\n",
       "     'attributes': {},\n",
       "     'children': [{'tagName': '',\n",
       "       'status': '',\n",
       "       'attributes': {},\n",
       "       'children': [],\n",
       "       'textContent': 'ción'}],\n",
       "     'textContent': 'ción'},\n",
       "    {'tagName': '',\n",
       "     'status': '',\n",
       "     'attributes': {},\n",
       "     'children': [],\n",
       "     'textContent': ' pri'},\n",
       "    {'tagName': 'b',\n",
       "     'status': '',\n",
       "     'attributes': {},\n",
       "     'children': [{'tagName': '',\n",
       "       'status': '',\n",
       "       'attributes': {},\n",
       "       'children': [],\n",
       "       'textContent': 'me'}],\n",
       "     'textContent': 'me'},\n",
       "    {'tagName': '',\n",
       "     'status': '',\n",
       "     'attributes': {},\n",
       "     'children': [],\n",
       "     'textContent': 'ra '}],\n",
       "   'textContent': ' N1-Lección primera '},\n",
       "  {'tagName': '',\n",
       "   'status': '',\n",
       "   'attributes': {},\n",
       "   'children': [],\n",
       "   'textContent': '                  '},\n",
       "  {'tagName': 'p',\n",
       "   'status': '',\n",
       "   'attributes': {},\n",
       "   'children': [{'tagName': '',\n",
       "     'status': '',\n",
       "     'attributes': {},\n",
       "     'children': [],\n",
       "     'textContent': ' S00-TIT'},\n",
       "    {'tagName': 'mark',\n",
       "     'status': '',\n",
       "     'attributes': {'class': 'E', 'title': '      '},\n",
       "     'children': [{'tagName': '',\n",
       "       'status': '',\n",
       "       'attributes': {},\n",
       "       'children': [],\n",
       "       'textContent': 'LE-¡Qué sor'},\n",
       "      {'tagName': 'b',\n",
       "       'status': '',\n",
       "       'attributes': {},\n",
       "       'children': [{'tagName': '',\n",
       "         'status': '',\n",
       "         'attributes': {},\n",
       "         'children': [],\n",
       "         'textContent': 'pre'}],\n",
       "       'textContent': 'pre'},\n",
       "      {'tagName': '',\n",
       "       'status': '',\n",
       "       'attributes': {},\n",
       "       'children': [],\n",
       "       'textContent': 'sa!  '}],\n",
       "     'textContent': 'LE-¡Qué sorpresa!  '}],\n",
       "   'textContent': ' S00-TITLE-¡Qué sorpresa!  '},\n",
       "  {'tagName': '',\n",
       "   'status': '',\n",
       "   'attributes': {},\n",
       "   'children': [],\n",
       "   'textContent': '                  '},\n",
       "  {'tagName': 'p',\n",
       "   'status': '',\n",
       "   'attributes': {},\n",
       "   'children': [{'tagName': '',\n",
       "     'status': '',\n",
       "     'attributes': {},\n",
       "     'children': [],\n",
       "     'textContent': ' S01-¡'},\n",
       "    {'tagName': 'b',\n",
       "     'status': '',\n",
       "     'attributes': {},\n",
       "     'children': [{'tagName': '',\n",
       "       'status': '',\n",
       "       'attributes': {},\n",
       "       'children': [],\n",
       "       'textContent': 'Ho'}],\n",
       "     'textContent': 'Ho'},\n",
       "    {'tagName': '',\n",
       "     'status': '',\n",
       "     'attributes': {},\n",
       "     'children': [],\n",
       "     'textContent': 'la, '},\n",
       "    {'tagName': 'b',\n",
       "     'status': '',\n",
       "     'attributes': {},\n",
       "     'children': [{'tagName': '',\n",
       "       'status': 'isAnchor',\n",
       "       'attributes': {},\n",
       "       'children': [],\n",
       "       'textContent': 'Lau'}],\n",
       "     'textContent': 'Lau'},\n",
       "    {'tagName': '',\n",
       "     'status': 'isFocus',\n",
       "     'attributes': {},\n",
       "     'children': [],\n",
       "     'textContent': 'ra!  '}],\n",
       "   'textContent': ' S01-¡Hola, Laura!  '},\n",
       "  {'tagName': '',\n",
       "   'status': '',\n",
       "   'attributes': {},\n",
       "   'children': [],\n",
       "   'textContent': '                  '},\n",
       "  {'tagName': 'p',\n",
       "   'status': '',\n",
       "   'attributes': {},\n",
       "   'children': [{'tagName': 'mark',\n",
       "     'status': '',\n",
       "     'attributes': {'class': 'E', 'title': '      '},\n",
       "     'children': [{'tagName': '',\n",
       "       'status': '',\n",
       "       'attributes': {},\n",
       "       'children': [],\n",
       "       'textContent': ' S02-¡'},\n",
       "      {'tagName': 'b',\n",
       "       'status': '',\n",
       "       'attributes': {},\n",
       "       'children': [{'tagName': '',\n",
       "         'status': '',\n",
       "         'attributes': {},\n",
       "         'children': [],\n",
       "         'textContent': 'Ho'}],\n",
       "       'textContent': 'Ho'},\n",
       "      {'tagName': '',\n",
       "       'status': '',\n",
       "       'attributes': {},\n",
       "       'children': [],\n",
       "       'textContent': 'la, '},\n",
       "      {'tagName': 'b',\n",
       "       'status': '',\n",
       "       'attributes': {},\n",
       "       'children': [{'tagName': '',\n",
       "         'status': '',\n",
       "         'attributes': {},\n",
       "         'children': [],\n",
       "         'textContent': 'Pa'}],\n",
       "       'textContent': 'Pa'},\n",
       "      {'tagName': '',\n",
       "       'status': '',\n",
       "       'attributes': {},\n",
       "       'children': [],\n",
       "       'textContent': 'co, qué sor'},\n",
       "      {'tagName': 'b',\n",
       "       'status': '',\n",
       "       'attributes': {},\n",
       "       'children': [{'tagName': '',\n",
       "         'status': '',\n",
       "         'attributes': {},\n",
       "         'children': [],\n",
       "         'textContent': 'pre'}],\n",
       "       'textContent': 'pre'},\n",
       "      {'tagName': '',\n",
       "       'status': '',\n",
       "       'attributes': {},\n",
       "       'children': [],\n",
       "       'textContent': 'sa!  '}],\n",
       "     'textContent': ' S02-¡Hola, Paco, qué sorpresa!  '}],\n",
       "   'textContent': ' S02-¡Hola, Paco, qué sorpresa!  '},\n",
       "  {'tagName': '',\n",
       "   'status': '',\n",
       "   'attributes': {},\n",
       "   'children': [],\n",
       "   'textContent': '                  '},\n",
       "  {'tagName': 'p',\n",
       "   'status': '',\n",
       "   'attributes': {},\n",
       "   'children': [{'tagName': 'mark',\n",
       "     'status': '',\n",
       "     'attributes': {'class': 'E', 'title': '      '},\n",
       "     'children': [{'tagName': '',\n",
       "       'status': '',\n",
       "       'attributes': {},\n",
       "       'children': [],\n",
       "       'textContent': ' S03-¿'},\n",
       "      {'tagName': 'b',\n",
       "       'status': '',\n",
       "       'attributes': {},\n",
       "       'children': [{'tagName': '',\n",
       "         'status': '',\n",
       "         'attributes': {},\n",
       "         'children': [],\n",
       "         'textContent': 'Có'}],\n",
       "       'textContent': 'Có'},\n",
       "      {'tagName': '',\n",
       "       'status': '',\n",
       "       'attributes': {},\n",
       "       'children': [],\n",
       "       'textContent': 'mo es'},\n",
       "      {'tagName': 'b',\n",
       "       'status': '',\n",
       "       'attributes': {},\n",
       "       'children': [{'tagName': '',\n",
       "         'status': '',\n",
       "         'attributes': {},\n",
       "         'children': [],\n",
       "         'textContent': 'tás'}],\n",
       "       'textContent': 'tás'},\n",
       "      {'tagName': '',\n",
       "       'status': '',\n",
       "       'attributes': {},\n",
       "       'children': [],\n",
       "       'textContent': ', '},\n",
       "      {'tagName': 'b',\n",
       "       'status': '',\n",
       "       'attributes': {},\n",
       "       'children': [{'tagName': '',\n",
       "         'status': '',\n",
       "         'attributes': {},\n",
       "         'children': [],\n",
       "         'textContent': 'gua'}],\n",
       "       'textContent': 'gua'},\n",
       "      {'tagName': '',\n",
       "       'status': '',\n",
       "       'attributes': {},\n",
       "       'children': [],\n",
       "       'textContent': 'pa?  '}],\n",
       "     'textContent': ' S03-¿Cómo estás, guapa?  '}],\n",
       "   'textContent': ' S03-¿Cómo estás, guapa?  '},\n",
       "  {'tagName': '',\n",
       "   'status': '',\n",
       "   'attributes': {},\n",
       "   'children': [],\n",
       "   'textContent': '                  '},\n",
       "  {'tagName': 'p',\n",
       "   'status': '',\n",
       "   'attributes': {},\n",
       "   'children': [{'tagName': 'mark',\n",
       "     'status': '',\n",
       "     'attributes': {'class': 'E', 'title': '      '},\n",
       "     'children': [],\n",
       "     'textContent': ''}],\n",
       "   'textContent': ''},\n",
       "  {'tagName': 'p',\n",
       "   'status': '',\n",
       "   'attributes': {},\n",
       "   'children': [{'tagName': '',\n",
       "     'status': '',\n",
       "     'attributes': {},\n",
       "     'children': [],\n",
       "     'textContent': ' S04-¡Bien, gracias! ¿Y tú, qué tal?  '}],\n",
       "   'textContent': ' S04-¡Bien, gracias! ¿Y tú, qué tal?  '},\n",
       "  {'tagName': '',\n",
       "   'status': '',\n",
       "   'attributes': {},\n",
       "   'children': [],\n",
       "   'textContent': '                  '},\n",
       "  {'tagName': 'p',\n",
       "   'status': '',\n",
       "   'attributes': {},\n",
       "   'children': [{'tagName': '',\n",
       "     'status': '',\n",
       "     'attributes': {},\n",
       "     'children': [],\n",
       "     'textContent': ' S05-Es'},\n",
       "    {'tagName': 'b',\n",
       "     'status': '',\n",
       "     'attributes': {},\n",
       "     'children': [{'tagName': '',\n",
       "       'status': '',\n",
       "       'attributes': {},\n",
       "       'children': [],\n",
       "       'textContent': 'toy'}],\n",
       "     'textContent': 'toy'},\n",
       "    {'tagName': '',\n",
       "     'status': '',\n",
       "     'attributes': {},\n",
       "     'children': [],\n",
       "     'textContent': ' pa'},\n",
       "    {'tagName': 'b',\n",
       "     'status': '',\n",
       "     'attributes': {},\n",
       "     'children': [{'tagName': '',\n",
       "       'status': '',\n",
       "       'attributes': {},\n",
       "       'children': [],\n",
       "       'textContent': 'chu'}],\n",
       "     'textContent': 'chu'},\n",
       "    {'tagName': '',\n",
       "     'status': '',\n",
       "     'attributes': {},\n",
       "     'children': [],\n",
       "     'textContent': 'cho. . .  '}],\n",
       "   'textContent': ' S05-Estoy pachucho. . .  '},\n",
       "  {'tagName': '',\n",
       "   'status': '',\n",
       "   'attributes': {},\n",
       "   'children': [],\n",
       "   'textContent': '                  '},\n",
       "  {'tagName': 'p',\n",
       "   'status': '',\n",
       "   'attributes': {},\n",
       "   'children': [{'tagName': '',\n",
       "     'status': '',\n",
       "     'attributes': {},\n",
       "     'children': [],\n",
       "     'textContent': ' T00-TRANSLATE-Ejer'},\n",
       "    {'tagName': 'b',\n",
       "     'status': '',\n",
       "     'attributes': {},\n",
       "     'children': [{'tagName': '',\n",
       "       'status': '',\n",
       "       'attributes': {},\n",
       "       'children': [],\n",
       "       'textContent': 'ci'}],\n",
       "     'textContent': 'ci'},\n",
       "    {'tagName': '',\n",
       "     'status': '',\n",
       "     'attributes': {},\n",
       "     'children': [],\n",
       "     'textContent': 'cio 1 – Tra'},\n",
       "    {'tagName': 'b',\n",
       "     'status': '',\n",
       "     'attributes': {},\n",
       "     'children': [{'tagName': '',\n",
       "       'status': '',\n",
       "       'attributes': {},\n",
       "       'children': [],\n",
       "       'textContent': 'duz'}],\n",
       "     'textContent': 'duz'},\n",
       "    {'tagName': '',\n",
       "     'status': '',\n",
       "     'attributes': {},\n",
       "     'children': [],\n",
       "     'textContent': 'ca '}],\n",
       "   'textContent': ' T00-TRANSLATE-Ejercicio 1 – Traduzca '},\n",
       "  {'tagName': '',\n",
       "   'status': '',\n",
       "   'attributes': {},\n",
       "   'children': [],\n",
       "   'textContent': '                  '},\n",
       "  {'tagName': 'p',\n",
       "   'status': '',\n",
       "   'attributes': {},\n",
       "   'children': [{'tagName': '',\n",
       "     'status': '',\n",
       "     'attributes': {},\n",
       "     'children': [],\n",
       "     'textContent': ' T01-¿Qué tal?  '}],\n",
       "   'textContent': ' T01-¿Qué tal?  '},\n",
       "  {'tagName': '',\n",
       "   'status': '',\n",
       "   'attributes': {},\n",
       "   'children': [],\n",
       "   'textContent': '                  '},\n",
       "  {'tagName': 'p',\n",
       "   'status': '',\n",
       "   'attributes': {},\n",
       "   'children': [{'tagName': '',\n",
       "     'status': '',\n",
       "     'attributes': {},\n",
       "     'children': [],\n",
       "     'textContent': ' T02-¿'},\n",
       "    {'tagName': 'b',\n",
       "     'status': '',\n",
       "     'attributes': {},\n",
       "     'children': [{'tagName': '',\n",
       "       'status': '',\n",
       "       'attributes': {},\n",
       "       'children': [],\n",
       "       'textContent': 'Có'}],\n",
       "     'textContent': 'Có'},\n",
       "    {'tagName': '',\n",
       "     'status': '',\n",
       "     'attributes': {},\n",
       "     'children': [],\n",
       "     'textContent': 'mo es'},\n",
       "    {'tagName': 'b',\n",
       "     'status': '',\n",
       "     'attributes': {},\n",
       "     'children': [{'tagName': '',\n",
       "       'status': '',\n",
       "       'attributes': {},\n",
       "       'children': [],\n",
       "       'textContent': 'tás'}],\n",
       "     'textContent': 'tás'},\n",
       "    {'tagName': '',\n",
       "     'status': '',\n",
       "     'attributes': {},\n",
       "     'children': [],\n",
       "     'textContent': '?  '}],\n",
       "   'textContent': ' T02-¿Cómo estás?  '},\n",
       "  {'tagName': '',\n",
       "   'status': '',\n",
       "   'attributes': {},\n",
       "   'children': [],\n",
       "   'textContent': '                  '},\n",
       "  {'tagName': 'p',\n",
       "   'status': '',\n",
       "   'attributes': {},\n",
       "   'children': [{'tagName': '',\n",
       "     'status': '',\n",
       "     'attributes': {},\n",
       "     'children': [],\n",
       "     'textContent': ' T03-¡'},\n",
       "    {'tagName': 'b',\n",
       "     'status': '',\n",
       "     'attributes': {},\n",
       "     'children': [{'tagName': '',\n",
       "       'status': '',\n",
       "       'attributes': {},\n",
       "       'children': [],\n",
       "       'textContent': 'Ho'}],\n",
       "     'textContent': 'Ho'},\n",
       "    {'tagName': '',\n",
       "     'status': '',\n",
       "     'attributes': {},\n",
       "     'children': [],\n",
       "     'textContent': 'la, '},\n",
       "    {'tagName': 'b',\n",
       "     'status': '',\n",
       "     'attributes': {},\n",
       "     'children': [{'tagName': '',\n",
       "       'status': '',\n",
       "       'attributes': {},\n",
       "       'children': [],\n",
       "       'textContent': 'gua'}],\n",
       "     'textContent': 'gua'},\n",
       "    {'tagName': '',\n",
       "     'status': '',\n",
       "     'attributes': {},\n",
       "     'children': [],\n",
       "     'textContent': 'pa, qué sor'},\n",
       "    {'tagName': 'b',\n",
       "     'status': '',\n",
       "     'attributes': {},\n",
       "     'children': [{'tagName': '',\n",
       "       'status': '',\n",
       "       'attributes': {},\n",
       "       'children': [],\n",
       "       'textContent': 'pre'}],\n",
       "     'textContent': 'pre'},\n",
       "    {'tagName': '',\n",
       "     'status': '',\n",
       "     'attributes': {},\n",
       "     'children': [],\n",
       "     'textContent': 'sa!  '}],\n",
       "   'textContent': ' T03-¡Hola, guapa, qué sorpresa!  '},\n",
       "  {'tagName': '',\n",
       "   'status': '',\n",
       "   'attributes': {},\n",
       "   'children': [],\n",
       "   'textContent': '                  '},\n",
       "  {'tagName': 'p',\n",
       "   'status': '',\n",
       "   'attributes': {},\n",
       "   'children': [{'tagName': '',\n",
       "     'status': '',\n",
       "     'attributes': {},\n",
       "     'children': [],\n",
       "     'textContent': ' T04-¿Es'},\n",
       "    {'tagName': 'b',\n",
       "     'status': '',\n",
       "     'attributes': {},\n",
       "     'children': [{'tagName': '',\n",
       "       'status': '',\n",
       "       'attributes': {},\n",
       "       'children': [],\n",
       "       'textContent': 'tás'}],\n",
       "     'textContent': 'tás'},\n",
       "    {'tagName': '',\n",
       "     'status': '',\n",
       "     'attributes': {},\n",
       "     'children': [],\n",
       "     'textContent': ' pa'},\n",
       "    {'tagName': 'b',\n",
       "     'status': '',\n",
       "     'attributes': {},\n",
       "     'children': [{'tagName': '',\n",
       "       'status': '',\n",
       "       'attributes': {},\n",
       "       'children': [],\n",
       "       'textContent': 'chu'}],\n",
       "     'textContent': 'chu'},\n",
       "    {'tagName': '',\n",
       "     'status': '',\n",
       "     'attributes': {},\n",
       "     'children': [],\n",
       "     'textContent': 'cho?  '}],\n",
       "   'textContent': ' T04-¿Estás pachucho?  '},\n",
       "  {'tagName': '',\n",
       "   'status': '',\n",
       "   'attributes': {},\n",
       "   'children': [],\n",
       "   'textContent': '                  '},\n",
       "  {'tagName': 'p',\n",
       "   'status': '',\n",
       "   'attributes': {},\n",
       "   'children': [{'tagName': '',\n",
       "     'status': '',\n",
       "     'attributes': {},\n",
       "     'children': [],\n",
       "     'textContent': ' T05-Es'},\n",
       "    {'tagName': 'b',\n",
       "     'status': '',\n",
       "     'attributes': {},\n",
       "     'children': [{'tagName': '',\n",
       "       'status': '',\n",
       "       'attributes': {},\n",
       "       'children': [],\n",
       "       'textContent': 'toy'}],\n",
       "     'textContent': 'toy'},\n",
       "    {'tagName': '',\n",
       "     'status': '',\n",
       "     'attributes': {},\n",
       "     'children': [],\n",
       "     'textContent': ' bien, '},\n",
       "    {'tagName': 'b',\n",
       "     'status': '',\n",
       "     'attributes': {},\n",
       "     'children': [{'tagName': '',\n",
       "       'status': '',\n",
       "       'attributes': {},\n",
       "       'children': [],\n",
       "       'textContent': 'gra'}],\n",
       "     'textContent': 'gra'},\n",
       "    {'tagName': '',\n",
       "     'status': '',\n",
       "     'attributes': {},\n",
       "     'children': [],\n",
       "     'textContent': 'cias.  '}],\n",
       "   'textContent': ' T05-Estoy bien, gracias.  '},\n",
       "  {'tagName': '',\n",
       "   'status': '',\n",
       "   'attributes': {},\n",
       "   'children': [],\n",
       "   'textContent': '              '}],\n",
       " 'textContent': '                   N1-Lección primera                    S00-TITLE-¡Qué sorpresa!                     S01-¡Hola, Laura!                     S02-¡Hola, Paco, qué sorpresa!                     S03-¿Cómo estás, guapa?                     S04-¡Bien, gracias! ¿Y tú, qué tal?                     S05-Estoy pachucho. . .                     T00-TRANSLATE-Ejercicio 1 – Traduzca                    T01-¿Qué tal?                     T02-¿Cómo estás?                     T03-¡Hola, guapa, qué sorpresa!                     T04-¿Estás pachucho?                     T05-Estoy bien, gracias.                '}"
      ]
     },
     "execution_count": 9,
     "metadata": {},
     "output_type": "execute_result"
    }
   ],
   "source": [
    "editor"
   ]
  },
  {
   "cell_type": "code",
   "execution_count": 10,
   "id": "51338bf9-ee82-4c19-96a8-5b872cd28873",
   "metadata": {},
   "outputs": [],
   "source": [
    "text = get_html_text(editor)"
   ]
  },
  {
   "cell_type": "code",
   "execution_count": 11,
   "id": "b73c3355-14a9-46f8-b26b-933521146d0f",
   "metadata": {},
   "outputs": [],
   "source": [
    "text = text.replace('\\n', '')"
   ]
  },
  {
   "cell_type": "code",
   "execution_count": 12,
   "id": "838f7a00-c956-4aa1-a412-4849fdc4788e",
   "metadata": {},
   "outputs": [
    {
     "data": {
      "text/plain": [
       "'<div>                  <p> N1-Lec<b>ción</b> pri<b>me</b>ra </p>                  <p> S00-TIT<mark>LE-¡Qué sor<b>pre</b>sa!  </mark></p>                  <p> S01-¡<b>Ho</b>la, <b>Lau</b>ra!  </p>                  <p><mark> S02-¡<b>Ho</b>la, <b>Pa</b>co, qué sor<b>pre</b>sa!  </mark></p>                  <p><mark> S03-¿<b>Có</b>mo es<b>tás</b>, <b>gua</b>pa?  </mark></p>                  <p><mark></mark></p><p> S04-¡Bien, gracias! ¿Y tú, qué tal?  </p>                  <p> S05-Es<b>toy</b> pa<b>chu</b>cho. . .  </p>                  <p> T00-TRANSLATE-Ejer<b>ci</b>cio 1 – Tra<b>duz</b>ca </p>                  <p> T01-¿Qué tal?  </p>                  <p> T02-¿<b>Có</b>mo es<b>tás</b>?  </p>                  <p> T03-¡<b>Ho</b>la, <b>gua</b>pa, qué sor<b>pre</b>sa!  </p>                  <p> T04-¿Es<b>tás</b> pa<b>chu</b>cho?  </p>                  <p> T05-Es<b>toy</b> bien, <b>gra</b>cias.  </p>              </div>'"
      ]
     },
     "execution_count": 12,
     "metadata": {},
     "output_type": "execute_result"
    }
   ],
   "source": [
    "text"
   ]
  },
  {
   "cell_type": "code",
   "execution_count": 4,
   "id": "1cf51583-bbdc-4d34-b3f9-bcd6158e1a9f",
   "metadata": {},
   "outputs": [],
   "source": [
    "from translation import get_list_of_translated_sentences"
   ]
  },
  {
   "cell_type": "code",
   "execution_count": 8,
   "id": "636df6f0-f46f-45c2-beee-3f5741c2d233",
   "metadata": {},
   "outputs": [],
   "source": [
    "sections = get_list_of_translated_sentences(54)"
   ]
  },
  {
   "cell_type": "code",
   "execution_count": 10,
   "id": "7853be12-c149-4345-ab67-61f6f491e62e",
   "metadata": {},
   "outputs": [
    {
     "data": {
      "text/plain": [
       "[\"J'ai eu de la chance, l'entretien s'est très bien passé et j'ai obtenu le poste.\",\n",
       " \"Je vais faire partie d'une entreprise très moderne.\",\n",
       " \"Ils ont voulu me faire tomber dans un piège: ils m'ont demandé si j'avais envie de fumer.\",\n",
       " \"Je vous en remercie. Je sais qu'il est impoli de refuser une cigarette mais je suis en train d'essayer d'arrêter le tabac.\",\n",
       " 'Je suis convaincu que tu as bien fait.']"
      ]
     },
     "execution_count": 10,
     "metadata": {},
     "output_type": "execute_result"
    }
   ],
   "source": [
    "sections[1]"
   ]
  },
  {
   "cell_type": "code",
   "execution_count": 11,
   "id": "b40e347a-b34a-4015-855a-e1eb7c9e4521",
   "metadata": {},
   "outputs": [],
   "source": [
    "lesson_nb=55"
   ]
  },
  {
   "cell_type": "code",
   "execution_count": 15,
   "id": "9b088752-f3d5-434b-b6e0-94d97aab8574",
   "metadata": {},
   "outputs": [],
   "source": [
    "lesson_file = f\"Sentences/translation/L{str(lesson_nb).zfill(3)}.txt\"\n",
    " "
   ]
  },
  {
   "cell_type": "code",
   "execution_count": 16,
   "id": "938480d3-daa4-4591-aa26-7fea4d4805e5",
   "metadata": {},
   "outputs": [
    {
     "data": {
      "text/plain": [
       "'Sentences/translation/L055.txt'"
      ]
     },
     "execution_count": 16,
     "metadata": {},
     "output_type": "execute_result"
    }
   ],
   "source": [
    "lesson_file"
   ]
  },
  {
   "cell_type": "code",
   "execution_count": 132,
   "id": "f1659c3b-cf82-4937-9170-151b864188e3",
   "metadata": {},
   "outputs": [],
   "source": [
    "f = open(lesson_file)"
   ]
  },
  {
   "cell_type": "code",
   "execution_count": 133,
   "id": "51d66f5e-fe51-4b8c-9a4d-81bc2e94c616",
   "metadata": {},
   "outputs": [
    {
     "data": {
      "text/plain": [
       "<_io.TextIOWrapper name='Sentences/translation/L055.txt' mode='r' encoding='UTF-8'>"
      ]
     },
     "execution_count": 133,
     "metadata": {},
     "output_type": "execute_result"
    }
   ],
   "source": [
    "f"
   ]
  },
  {
   "cell_type": "code",
   "execution_count": 134,
   "id": "bdc5e941-c667-4a45-a1d1-a558bcefd9dc",
   "metadata": {},
   "outputs": [],
   "source": [
    "lesson = f.read()"
   ]
  },
  {
   "cell_type": "code",
   "execution_count": 135,
   "id": "fba49970-1cca-4b32-b79e-94e0389e1e43",
   "metadata": {},
   "outputs": [
    {
     "data": {
      "text/plain": [
       "'Une bonne affaire ?\\n\\n1- Quel chouette blouson (blouson plus crâneur) ! Où est- ce que tu l\\'as eu (obtenu)?\\n\\n2- Je l\\'ai acheté (L\\'achetai) hier au (dans le) Marché aux Puces, je n\\'ai pas pu (ne pus pas) résister (me résister).\\n\\n3 J\\'ai dû Je dus) marchander un bon moment, le type ne voulait pas baisser le prix.\\n\\n4 Il disait qu\\'il était à (d\") un aviateur russe, de l\\'époque de (de quand) la guerre,\\n\\nLeçon cinquante-cinq/55\\n\\n5 que je n\\'allais pas [en] trouver [un] autre pareil (égal).\\n\\n6 Je lui ai payé (Lui payai) la moitié de ce qu\\'il me demandait au début, deux cents euros. Une bonne affaire!\\n\\n7- J\\'ai l\\'impression (Me donne la sensation de) que les manches sont trop longues pour toi (te restent longues)\\n\\n8 et (de) qu\\'il est un peu large aux (d\\') épaules, non ?\\n\\n9- Ça m\\'est (Donne) égal. Je (me) mets un gros pull dessous.\\n\\n10- Je (Me la) peux l\\'essayer ?\\n\\n11 - Oui, bien sûr.\\n\\n12- Il ne pèse pas beaucoup, on dirait du faux (elle semble fausse)... Tu crois vraiment qu\\'il est en (de) cuir ?\\n\\n13 Tu as vu l\\'étiquette ?... Fait en Chine !\\n\\n14 Mon ami (Ami à-moi), il me semble qu\\'on t\\'a roulé (ils t\\'ont donné chat pour lièvre)...\\n\\n1 Hier j\\'ai acheté un blouson très chouette au Marché aux Puces. 2 J\\'ai essayé de marchander mais le type n\\'a pas voulu baisser le prix.\\n\\n3 J\\'ai dû payer ce qu\\'il demandait au début. 4 Ce blouson était à un aviateur, de l\\'époque de la guerre. Tu veux l\\'essayer? \\n5 Les manches sont un peu longues mais si tu mets un gros pull dessous il te va bien.\\n\\n'"
      ]
     },
     "execution_count": 135,
     "metadata": {},
     "output_type": "execute_result"
    }
   ],
   "source": [
    "lesson"
   ]
  },
  {
   "cell_type": "code",
   "execution_count": 22,
   "id": "3cbc4833-7af8-48bb-8ee4-87c51e08f09a",
   "metadata": {},
   "outputs": [],
   "source": [
    "import re"
   ]
  },
  {
   "cell_type": "code",
   "execution_count": 74,
   "id": "45464767-8d25-44ce-b316-cec56425a37a",
   "metadata": {},
   "outputs": [],
   "source": [
    "regex = regex = r'\\d+'#r\"([a-zA-Z]+) (\\d+)\" "
   ]
  },
  {
   "cell_type": "raw",
   "id": "a40150f5-c64a-4189-b4da-f6254bb656b4",
   "metadata": {},
   "source": [
    "matches = re.findall(regex, lesson)\n"
   ]
  },
  {
   "cell_type": "code",
   "execution_count": 75,
   "id": "109f57c9-0edc-400e-b9a2-e206d9199aa5",
   "metadata": {},
   "outputs": [
    {
     "name": "stdout",
     "output_type": "stream",
     "text": [
      "['pas', 'pas', 'pas', 'pas', 'pareil', 'payé', 'payai', 'paules', 'pas', 'pas', 'payer']\n"
     ]
    }
   ],
   "source": [
    "print(matches)"
   ]
  },
  {
   "cell_type": "code",
   "execution_count": 60,
   "id": "522ff80c-e9e7-4fad-8f8d-28be93aafbbf",
   "metadata": {},
   "outputs": [],
   "source": [
    "s = \"black, blue and brown\""
   ]
  },
  {
   "cell_type": "code",
   "execution_count": 112,
   "id": "a0e3345c-46fa-472a-a8c3-4444f53ab75a",
   "metadata": {},
   "outputs": [],
   "source": [
    "pattern = r'\\n\\d'"
   ]
  },
  {
   "cell_type": "code",
   "execution_count": 113,
   "id": "ae1844f9-e8a0-4c79-840d-c3d707494488",
   "metadata": {},
   "outputs": [
    {
     "data": {
      "text/plain": [
       "False"
      ]
     },
     "execution_count": 113,
     "metadata": {},
     "output_type": "execute_result"
    }
   ],
   "source": [
    "regex == pattern"
   ]
  },
  {
   "cell_type": "code",
   "execution_count": 114,
   "id": "eecd96dd-e6b2-40ee-bf25-aabdca1e0a35",
   "metadata": {},
   "outputs": [],
   "source": [
    "matches = re.findall(pattern,lesson)"
   ]
  },
  {
   "cell_type": "code",
   "execution_count": 115,
   "id": "aee70602-853c-4047-b969-c7345214c1ea",
   "metadata": {},
   "outputs": [
    {
     "name": "stdout",
     "output_type": "stream",
     "text": [
      "['\\n1', '\\n2', '\\n3', '\\n4', '\\n5', '\\n6', '\\n7', '\\n8', '\\n9', '\\n1', '\\n1', '\\n1', '\\n1', '\\n1', '\\n1', '\\n3', '\\n5']\n"
     ]
    }
   ],
   "source": [
    "print(matches)"
   ]
  },
  {
   "cell_type": "code",
   "execution_count": null,
   "id": "d80596b8-895e-4ee1-ab99-0fb2f85bf5d1",
   "metadata": {},
   "outputs": [],
   "source": []
  },
  {
   "cell_type": "code",
   "execution_count": 1,
   "id": "a07cdb8e-330a-4e81-ac6e-d81f0b394fa2",
   "metadata": {},
   "outputs": [],
   "source": [
    "from translation import SimpleParser"
   ]
  },
  {
   "cell_type": "code",
   "execution_count": 2,
   "id": "998f421f-0ed1-4d48-b1ce-66a8bd056548",
   "metadata": {},
   "outputs": [],
   "source": [
    "parser = SimpleParser()"
   ]
  },
  {
   "cell_type": "code",
   "execution_count": 3,
   "id": "349d7e1b-b128-4e85-a5b6-43613acc5ba3",
   "metadata": {},
   "outputs": [
    {
     "ename": "NameError",
     "evalue": "name 'lesson' is not defined",
     "output_type": "error",
     "traceback": [
      "\u001b[0;31m---------------------------------------------------------------------------\u001b[0m",
      "\u001b[0;31mNameError\u001b[0m                                 Traceback (most recent call last)",
      "Cell \u001b[0;32mIn[3], line 1\u001b[0m\n\u001b[0;32m----> 1\u001b[0m parser\u001b[38;5;241m.\u001b[39manalyze_lesson(\u001b[43mlesson\u001b[49m)\n",
      "\u001b[0;31mNameError\u001b[0m: name 'lesson' is not defined"
     ]
    }
   ],
   "source": [
    "parser.analyze_lesson(lesson)"
   ]
  },
  {
   "cell_type": "code",
   "execution_count": 18,
   "id": "dbcec8bb-fdd4-47c4-afef-f3d97e30c3d2",
   "metadata": {},
   "outputs": [
    {
     "data": {
      "text/plain": [
       "[\"Ça y est, j'ai fait (je fis) l'entretien !\",\n",
       " \"Comment ça s'est passé (Que tel te fut)?\",\n",
       " 'Super bien (Phénoménal)! Je suis convaincu (de) que je vais (a) obtenir le poste.',\n",
       " 'Félicitations!',\n",
       " 'Ils ont été (Furent) très (la mer de) sympathiques: ils ont commencé (commencèrent) par me demander si je voulais fumer.',\n",
       " \"Le piège classique ! Et qu'est-ce que tu as fait (que fis- tu)?\",\n",
       " \"Tu sais bien que j'essaye (je suis en train d'essayer) d'arrêter (de laisser) le tabac\",\n",
       " 'mais il est impoli (de mauvaise éducation) de refuser une cigarette, non ?',\n",
       " \"Je n'y crois pas (Ne me le peux croire)... Tu as fumé (fumas) ?\",\n",
       " 'Oui, et ensuite ils ont voulu (voulurent) savoir quel genre de presse je lis.',\n",
       " \"Bien sûr (Clair), pour faire (former) partie d'une entreprise moderne, il est nécessaire d'être (de se maintenir) informé.\",\n",
       " 'Et que leur as-tu répondu (répondis-tu) ?',\n",
       " \" Eh bien la vérité, que j'ai [l']habitude d'acheter (le) Marca tous les (chaque) matins.\",\n",
       " \"Mon (Par) Dieu... Et que s'est-il passé (se passa-t-il) ?\",\n",
       " \"Ils se sont mis (Se mirent) à rire et ils m'ont dit (me dirent) qu'ils n'avaient jamais vu un candidat aussi original que (comme) moi.\",\n",
       " 'Je te le dis: le poste est à moi (mien).']"
      ]
     },
     "execution_count": 18,
     "metadata": {},
     "output_type": "execute_result"
    }
   ],
   "source": [
    "parser.get_sections()[0]"
   ]
  },
  {
   "cell_type": "code",
   "execution_count": 19,
   "id": "0a65da4f-b003-456a-96c7-adb765932d0f",
   "metadata": {},
   "outputs": [
    {
     "data": {
      "text/plain": [
       "[\"J'ai eu de la chance, l'entretien s'est très bien passé et j'ai obtenu le poste.\",\n",
       " \"Je vais faire partie d'une entreprise très moderne.\",\n",
       " \"Ils ont voulu me faire tomber dans un piège: ils m'ont demandé si j'avais envie de fumer.\",\n",
       " \"Je vous en remercie. Je sais qu'il est impoli de refuser une cigarette mais je suis en train d'essayer d'arrêter le tabac.\",\n",
       " 'Je suis convaincu que tu as bien fait.']"
      ]
     },
     "execution_count": 19,
     "metadata": {},
     "output_type": "execute_result"
    }
   ],
   "source": [
    "parser.get_sections()[1]"
   ]
  },
  {
   "cell_type": "code",
   "execution_count": 117,
   "id": "b0a409fb-ef29-46af-8107-693b01aacaf9",
   "metadata": {},
   "outputs": [
    {
     "data": {
      "text/plain": [
       "831"
      ]
     },
     "execution_count": 117,
     "metadata": {},
     "output_type": "execute_result"
    }
   ],
   "source": [
    "lesson.find(\"\\n10\")"
   ]
  },
  {
   "cell_type": "code",
   "execution_count": 126,
   "id": "7c32dcc8-4fd7-47ed-a3e7-c6dde809bb82",
   "metadata": {},
   "outputs": [],
   "source": [
    "ll = {}\n",
    "previous_index = 0\n",
    "for i in range(20):\n",
    "    \n",
    "    index = lesson.find(\"\\n\" + str(i))\n",
    "    \n",
    "    if index != -1:\n",
    "        ll[i] = lesson[previous_index:index]\n",
    "        previous_index = index\n"
   ]
  },
  {
   "cell_type": "code",
   "execution_count": 127,
   "id": "42969ff6-754e-48f7-a1ce-ec87a82db253",
   "metadata": {},
   "outputs": [
    {
     "data": {
      "text/plain": [
       "{1: 'Une bonne affaire ?\\n',\n",
       " 2: \"\\n1- Quel chouette blouson (blouson plus crâneur) ! Où est- ce que tu l'as eu (obtenu)?\\n\",\n",
       " 3: \"\\n2- Je l'ai acheté (L'achetai) hier au (dans le) Marché aux Puces, je n'ai pas pu (ne pus pas) résister (me résister).\\n\",\n",
       " 4: \"\\n3 J'ai dû Je dus) marchander un bon moment, le type ne voulait pas baisser le prix.\\n\",\n",
       " 5: '\\n4 Il disait qu\\'il était à (d\") un aviateur russe, de l\\'époque de (de quand) la guerre,\\n\\nLeçon cinquante-cinq/55\\n',\n",
       " 6: \"\\n5 que je n'allais pas [en] trouver [un] autre pareil (égal).\\n\",\n",
       " 7: \"\\n6 Je lui ai payé (Lui payai) la moitié de ce qu'il me demandait au début, deux cents euros. Une bonne affaire!\\n\",\n",
       " 8: \"\\n7- J'ai l'impression (Me donne la sensation de) que les manches sont trop longues pour toi (te restent longues)\\n\",\n",
       " 9: \"\\n8 et (de) qu'il est un peu large aux (d') épaules, non ?\\n\",\n",
       " 10: \"\\n9- Ça m'est (Donne) égal. Je (me) mets un gros pull dessous.\\n\",\n",
       " 11: \"\\n10- Je (Me la) peux l'essayer ?\\n\",\n",
       " 12: '\\n11 - Oui, bien sûr.\\n',\n",
       " 13: \"\\n12- Il ne pèse pas beaucoup, on dirait du faux (elle semble fausse)... Tu crois vraiment qu'il est en (de) cuir ?\\n\",\n",
       " 14: \"\\n13 Tu as vu l'étiquette ?... Fait en Chine !\\n\"}"
      ]
     },
     "execution_count": 127,
     "metadata": {},
     "output_type": "execute_result"
    }
   ],
   "source": [
    "ll"
   ]
  },
  {
   "cell_type": "code",
   "execution_count": 128,
   "id": "f697993e-a42a-440a-a277-e6c7b1ca510a",
   "metadata": {},
   "outputs": [],
   "source": [
    "resultat = re.findall(r\"\\w+ \\d+: \\w+\", lesson)"
   ]
  },
  {
   "cell_type": "code",
   "execution_count": 129,
   "id": "3c56da2d-141e-4d9b-974a-802b4d0ff3d9",
   "metadata": {},
   "outputs": [
    {
     "name": "stdout",
     "output_type": "stream",
     "text": [
      "[]\n"
     ]
    }
   ],
   "source": [
    "print(resultat)"
   ]
  },
  {
   "cell_type": "code",
   "execution_count": 130,
   "id": "48ec2834-c929-42f6-a33c-411037b20e7c",
   "metadata": {},
   "outputs": [
    {
     "data": {
      "text/plain": [
       "'Une bonne affaire ?\\n\\n1- Quel chouette blouson (blouson plus crâneur) ! Où est- ce que tu l\\'as eu (obtenu)?\\n\\n2- Je l\\'ai acheté (L\\'achetai) hier au (dans le) Marché aux Puces, je n\\'ai pas pu (ne pus pas) résister (me résister).\\n\\n3 J\\'ai dû Je dus) marchander un bon moment, le type ne voulait pas baisser le prix.\\n\\n4 Il disait qu\\'il était à (d\") un aviateur russe, de l\\'époque de (de quand) la guerre,\\n\\nLeçon cinquante-cinq/55\\n\\n5 que je n\\'allais pas [en] trouver [un] autre pareil (égal).\\n\\n6 Je lui ai payé (Lui payai) la moitié de ce qu\\'il me demandait au début, deux cents euros. Une bonne affaire!\\n\\n7- J\\'ai l\\'impression (Me donne la sensation de) que les manches sont trop longues pour toi (te restent longues)\\n\\n8 et (de) qu\\'il est un peu large aux (d\\') épaules, non ?\\n\\n9- Ça m\\'est (Donne) égal. Je (me) mets un gros pull dessous.\\n\\n10- Je (Me la) peux l\\'essayer ?\\n\\n11 - Oui, bien sûr.\\n\\n12- Il ne pèse pas beaucoup, on dirait du faux (elle semble fausse)... Tu crois vraiment qu\\'il est en (de) cuir ?\\n\\n13 Tu as vu l\\'étiquette ?... Fait en Chine !\\n\\n14 Mon ami (Ami à-moi), il me semble qu\\'on t\\'a roulé (ils t\\'ont donné chat pour lièvre)...\\n\\n1 Hier j\\'ai acheté un blouson très chouette au Marché aux Puces. 2 J\\'ai essayé de marchander mais le type n\\'a pas voulu baisser le prix.\\n\\n3 J\\'ai dû payer ce qu\\'il demandait au début. 4 Ce blouson était à un aviateur, de l\\'époque de la guerre. Tu veux l\\'essayer? \\n5 Les manches sont un peu longues mais si tu mets un gros pull dessous il te va bien.\\n\\n'"
      ]
     },
     "execution_count": 130,
     "metadata": {},
     "output_type": "execute_result"
    }
   ],
   "source": [
    "lesson"
   ]
  },
  {
   "cell_type": "code",
   "execution_count": 418,
   "id": "36918a7c-dbad-4e02-b0fc-b1b6eacda03d",
   "metadata": {},
   "outputs": [
    {
     "data": {
      "text/plain": [
       "[1, 2]"
      ]
     },
     "execution_count": 418,
     "metadata": {},
     "output_type": "execute_result"
    }
   ],
   "source": [
    "[i for i in range(1,3)]"
   ]
  },
  {
   "cell_type": "code",
   "execution_count": 160,
   "id": "109d5eb8-aa38-4717-a5d0-04a3c8218867",
   "metadata": {},
   "outputs": [],
   "source": [
    "lesson_nb=62"
   ]
  },
  {
   "cell_type": "code",
   "execution_count": 161,
   "id": "1541c69e-7e04-4804-84db-dc7ee4296837",
   "metadata": {},
   "outputs": [],
   "source": [
    "lesson_file = f\"Sentences/translation/L{str(lesson_nb).zfill(3)}.txt\""
   ]
  },
  {
   "cell_type": "code",
   "execution_count": 162,
   "id": "23b23183-810d-452b-a489-9479b4806b1e",
   "metadata": {},
   "outputs": [],
   "source": [
    "f = open(lesson_file)"
   ]
  },
  {
   "cell_type": "code",
   "execution_count": 163,
   "id": "7b1fb9c1-76ff-4f67-a5ff-395ce3ca6027",
   "metadata": {},
   "outputs": [],
   "source": [
    "lesson = f.read()"
   ]
  },
  {
   "cell_type": "code",
   "execution_count": 410,
   "id": "853a2c65-1f4f-4c68-a9a7-1b97babf8e02",
   "metadata": {},
   "outputs": [],
   "source": [
    "lesson = \"\"\"Leçon 63\n",
    "\n",
    "Dialogue de révision\n",
    "\n",
    "1 Hier soir je suis sorti faire un tour et devine qui j'ai rencontré. \n",
    "\n",
    "2 Aucune idée... \n",
    "\n",
    "3 Teresa, cette fille qui a fait le lycée avec nous ! Quel hasard ! \n",
    "\n",
    "4 Moi, cette gamine, je n'ai jamais pu l'encaisser, elle passait sa vie à se prendre la tête avec ses livres. \n",
    "\n",
    "5 De fait elle a un double cursus universitaire, mais la pauvre est au chômage. \n",
    "\n",
    "6 Tu vois ? Pareil que moi, qui ai toujours eu de très mauvaises notes. \n",
    "\n",
    "7 Elle a gagné sa vie pendant des mois comme baby-sitter, en donnant des cours particuliers et en promenant des animaux de compagnie. \n",
    "\n",
    "8 Mais elle a enfin eu de la chance: on lui a donné une bourse et elle s'en va en Angleterre. \n",
    "\n",
    "9 Pourvu qu'elle trouve vite du travail !\n",
    "\n",
    "10 Moi, même en rêves, je ne pars pas d'Espagne !\n",
    "\n",
    "11 Et encore moins pour aller dans une grande ville avec des embouteillages, de la pluie, du bruit et de la pollution.\n",
    "\n",
    "12 Eh bien tu te trompes complètement (très) : si tu as l'occasion de faire un séjour à l'étranger, tu dois en profiter.\n",
    "\n",
    "13 Et je ne veux même pas penser à la nourriture anglaise : quel cauchemar !\n",
    "\n",
    "14 Mais qu'est- ce que tu es balourd !\"\"\""
   ]
  },
  {
   "cell_type": "code",
   "execution_count": 682,
   "id": "c51230a2-8161-4f64-931f-6f20a39509f2",
   "metadata": {},
   "outputs": [],
   "source": [
    "import re\n",
    "def convert_to_py(list_of_files):\n",
    "    for fn in list_of_files:\n",
    "        comp = re.split('\\.| ', fn)\n",
    "        lesson_nb = int(comp[1])\n",
    "        py_file_name = f\"lessons/L{str(lesson_nb).zfill(3)}.py\"\n",
    "        print(py_file_name)\n",
    "        txt_file = open(os.path.join(\"lessons/scanned\", fn))\n",
    "        lesson = txt_file.read()\n",
    "        ll = lesson.split('\\n\\n')\n",
    "        newll = []\n",
    "        ie = 0\n",
    "        for l in ll:\n",
    "            l = l.replace('\\n', '')\n",
    "            try:\n",
    "                if l[0].isdigit():\n",
    "                    ie += 1\n",
    "            except IndexError:\n",
    "                print(f\"IndexError pour le fichier : {py_file_name} à la ligne : {ie}, {l}\")\n",
    "            newll.append(l.lstrip('0123456789 '))\n",
    "        py_lesson =f\"\"\"lesson = {newll[:ie+2]} \\nexercise1_correction = {newll[ie+2:]}\"\"\"\n",
    "        py_file = open(py_file_name, \"w\")\n",
    "        py_file.write(py_lesson)\n",
    "\n",
    "\n"
   ]
  },
  {
   "cell_type": "code",
   "execution_count": 683,
   "id": "03e1fd15-4bba-49e0-823e-65f7d8d8e3ca",
   "metadata": {},
   "outputs": [],
   "source": [
    "import os\n",
    "list_of_files = os.listdir(\"lessons/scanned\")"
   ]
  },
  {
   "cell_type": "code",
   "execution_count": 684,
   "id": "878594f9-e0e9-40a0-993b-b2c953296da2",
   "metadata": {},
   "outputs": [
    {
     "name": "stdout",
     "output_type": "stream",
     "text": [
      "lessons/L088.py\n",
      "lessons/L077.py\n",
      "lessons/L063.py\n",
      "lessons/L062.py\n",
      "lessons/L076.py\n",
      "lessons/L089.py\n",
      "lessons/L008.py\n",
      "lessons/L060.py\n",
      "lessons/L074.py\n",
      "lessons/L075.py\n",
      "lessons/L061.py\n",
      "lessons/L065.py\n",
      "lessons/L071.py\n",
      "lessons/L070.py\n",
      "lessons/L064.py\n",
      "lessons/L072.py\n",
      "lessons/L066.py\n",
      "lessons/L067.py\n",
      "lessons/L073.py\n",
      "lessons/L028.py\n",
      "lessons/L014.py\n",
      "lessons/L015.py\n",
      "lessons/L029.py\n",
      "lessons/L017.py\n",
      "lessons/L016.py\n",
      "lessons/L013.py\n",
      "lessons/L039.py\n",
      "lessons/L038.py\n",
      "lessons/L035.py\n",
      "lessons/L021.py\n",
      "lessons/L020.py\n",
      "lessons/L034.py\n",
      "lessons/L022.py\n",
      "lessons/L036.py\n",
      "lessons/L037.py\n",
      "lessons/L023.py\n",
      "lessons/L027.py\n",
      "lessons/L033.py\n",
      "lessons/L032.py\n",
      "lessons/L026.py\n",
      "lessons/L030.py\n",
      "lessons/L024.py\n",
      "lessons/L018.py\n",
      "lessons/L019.py\n",
      "lessons/L025.py\n",
      "lessons/L031.py\n",
      "lessons/L002.py\n",
      "lessons/L081.py\n",
      "lessons/L042.py\n",
      "lessons/L043.py\n",
      "lessons/L080.py\n",
      "lessons/L001.py\n",
      "lessons/L082.py\n",
      "lessons/L069.py\n",
      "lessons/L041.py\n",
      "lessons/L040.py\n",
      "lessons/L068.py\n",
      "lessons/L083.py\n",
      "lessons/L087.py\n",
      "lessons/L093.py\n",
      "lessons/L044.py\n",
      "lessons/L050.py\n",
      "lessons/L078.py\n",
      "lessons/L079.py\n",
      "lessons/L051.py\n",
      "lessons/L092.py\n",
      "IndexError pour le fichier : lessons/L092.py à la ligne : 6\n",
      "lessons/L086.py\n",
      "lessons/L005.py\n",
      "lessons/L090.py\n",
      "IndexError pour le fichier : lessons/L090.py à la ligne : 15\n",
      "lessons/L084.py\n",
      "lessons/L053.py\n",
      "lessons/L085.py\n",
      "lessons/L091.py\n"
     ]
    }
   ],
   "source": [
    "convert_to_py(list_of_files)"
   ]
  },
  {
   "cell_type": "code",
   "execution_count": 170,
   "id": "193b9dad-dd27-4966-a130-d0eb96894734",
   "metadata": {},
   "outputs": [
    {
     "data": {
      "text/plain": [
       "\"- Quel chouette blouson (blouson plus crâneur) ! Où est- ce que tu l'as eu (obtenu)?\""
      ]
     },
     "execution_count": 170,
     "metadata": {},
     "output_type": "execute_result"
    }
   ],
   "source": [
    "sentences[1]"
   ]
  },
  {
   "cell_type": "code",
   "execution_count": 171,
   "id": "ebdc7793-e90b-46cb-9960-be3d134f594a",
   "metadata": {},
   "outputs": [
    {
     "data": {
      "text/plain": [
       "\"Hier j'ai acheté un blouson très chouette au Marché aux Puces. \""
      ]
     },
     "execution_count": 171,
     "metadata": {},
     "output_type": "execute_result"
    }
   ],
   "source": [
    "exercice1_index = 16\n",
    "sentences[exercice1_index]"
   ]
  },
  {
   "cell_type": "code",
   "execution_count": 175,
   "id": "7bd6792b-6787-44b3-86c9-b55634bf9299",
   "metadata": {},
   "outputs": [],
   "source": [
    "name = f\"L{str(lesson_nb).zfill(3)}\""
   ]
  },
  {
   "cell_type": "code",
   "execution_count": null,
   "id": "70d315d3-6934-4995-bebe-fc2a2753e2bc",
   "metadata": {},
   "outputs": [],
   "source": [
    "import importlib\n",
    "\n",
    "# equiv. of your `import matplotlib.text as text`\n",
    "text = importlib.import_module('matplotlib.text')"
   ]
  },
  {
   "cell_type": "code",
   "execution_count": 177,
   "id": "b19a358a-afb9-430e-9347-2c225cde02de",
   "metadata": {},
   "outputs": [
    {
     "ename": "NameError",
     "evalue": "name 'lessons' is not defined",
     "output_type": "error",
     "traceback": [
      "\u001b[0;31m---------------------------------------------------------------------------\u001b[0m",
      "\u001b[0;31mNameError\u001b[0m                                 Traceback (most recent call last)",
      "Cell \u001b[0;32mIn[177], line 2\u001b[0m\n\u001b[1;32m      1\u001b[0m \u001b[38;5;28;01mimport\u001b[39;00m \u001b[38;5;21;01mimportlib\u001b[39;00m\n\u001b[0;32m----> 2\u001b[0m module \u001b[38;5;241m=\u001b[39m importlib\u001b[38;5;241m.\u001b[39mimport_module(\u001b[43mlessons\u001b[49m\u001b[38;5;241m.\u001b[39mL055)\n",
      "\u001b[0;31mNameError\u001b[0m: name 'lessons' is not defined"
     ]
    }
   ],
   "source": [
    "import importlib\n",
    "module = importlib.import_module(lessons.L055)"
   ]
  },
  {
   "cell_type": "code",
   "execution_count": 178,
   "id": "b4d3a372-0bd5-44bb-b0a2-88f5c3a2eb50",
   "metadata": {},
   "outputs": [
    {
     "ename": "ModuleNotFoundError",
     "evalue": "No module named 'lessons.L055'",
     "output_type": "error",
     "traceback": [
      "\u001b[0;31m---------------------------------------------------------------------------\u001b[0m",
      "\u001b[0;31mModuleNotFoundError\u001b[0m                       Traceback (most recent call last)",
      "Cell \u001b[0;32mIn[178], line 1\u001b[0m\n\u001b[0;32m----> 1\u001b[0m \u001b[38;5;28;01mimport\u001b[39;00m \u001b[38;5;21;01mlessons\u001b[39;00m\u001b[38;5;21;01m.\u001b[39;00m\u001b[38;5;21;01mL055\u001b[39;00m\n",
      "\u001b[0;31mModuleNotFoundError\u001b[0m: No module named 'lessons.L055'"
     ]
    }
   ],
   "source": [
    "import lessons.L055"
   ]
  },
  {
   "cell_type": "code",
   "execution_count": null,
   "id": "d527bfe3-778b-4d53-96c5-fa9e05e7e19f",
   "metadata": {},
   "outputs": [],
   "source": [
    "import "
   ]
  }
 ],
 "metadata": {
  "kernelspec": {
   "display_name": "Python 3 (ipykernel)",
   "language": "python",
   "name": "python3"
  },
  "language_info": {
   "codemirror_mode": {
    "name": "ipython",
    "version": 3
   },
   "file_extension": ".py",
   "mimetype": "text/x-python",
   "name": "python",
   "nbconvert_exporter": "python",
   "pygments_lexer": "ipython3",
   "version": "3.11.3"
  }
 },
 "nbformat": 4,
 "nbformat_minor": 5
}
