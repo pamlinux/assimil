{
 "cells": [
  {
   "cell_type": "code",
   "execution_count": 116,
   "id": "2bdc6544-3344-4620-b574-60f08f66f95c",
   "metadata": {},
   "outputs": [],
   "source": [
    "from lesson_parser import MyHTMLParser\n",
    "import os\n",
    "import re\n",
    "lessons_directory = './pronunciation/lessons'"
   ]
  },
  {
   "cell_type": "code",
   "execution_count": 118,
   "id": "ee3e3eea-044c-453d-b757-3369c6189f3a",
   "metadata": {},
   "outputs": [
    {
     "name": "stdout",
     "output_type": "stream",
     "text": [
      "('./pronunciation/lessons', [], ['L005.html', 'L001.txt', 'L004.html', 'L003.html', 'L002.html', 'L001.html'])\n",
      "L005.html  :  805\n",
      "L001.txt  :  722\n",
      "L004.html  :  2099\n",
      "L003.html  :  2141\n",
      "L002.html  :  2081\n",
      "L001.html  :  1428\n"
     ]
    }
   ],
   "source": [
    "parser = MyHTMLParser()\n",
    "word_dict = {}\n",
    "lessons_directory = './pronunciation/lessons'\n",
    "\n",
    "for e in os.walk(lessons_directory):\n",
    "    print(e)\n",
    "    for fn in e[2]:\n",
    "        lesson = open(os.path.join(lessons_directory, fn)).read()\n",
    "        print(fn, \" : \", len(lesson))\n",
    "        parser.analyze_lesson(lesson)\n",
    "        wd = parser.get_lesson_word_dict()\n",
    "        word_dict.update(wd)"
   ]
  },
  {
   "cell_type": "code",
   "execution_count": 4,
   "id": "35fd7dea-e96a-4a25-899d-22078addaf4a",
   "metadata": {},
   "outputs": [
    {
     "data": {
      "text/plain": [
       "[('le', True), ('o', False)]"
      ]
     },
     "execution_count": 4,
     "metadata": {},
     "output_type": "execute_result"
    }
   ],
   "source": [
    "word_dict['leo']"
   ]
  },
  {
   "cell_type": "code",
   "execution_count": 84,
   "id": "151882c0-1e06-4322-9ffc-2859bf054dcc",
   "metadata": {},
   "outputs": [],
   "source": [
    "lesson1_html = open(os.path.join(lessons_directory, 'L001.html')).read()\n",
    "lesson5_html = open(os.path.join(lessons_directory, 'L005.html')).read()"
   ]
  },
  {
   "cell_type": "code",
   "execution_count": 108,
   "id": "85dbf7a7-bcf2-4fa1-ab2c-89cc97c0ce74",
   "metadata": {},
   "outputs": [],
   "source": [
    "parser.analyze_lesson(lesson5_html)"
   ]
  },
  {
   "cell_type": "code",
   "execution_count": 109,
   "id": "45e4d7dd-965c-4575-8df9-155afbb82d4d",
   "metadata": {},
   "outputs": [
    {
     "data": {
      "text/plain": [
       "['N5-Lección\\xa0quinta',\n",
       " '',\n",
       " 'S00-TITLE-Entrevista de trabajo',\n",
       " 'S01-¿Cuántos idiomas\\xa0habla usted?',\n",
       " 'S02-Hablo inglés\\xa0y francés.',\n",
       " 'S03-¡Enhorabuena! ¿Hablamos inglés\\xa0entonces?',\n",
       " 'S04-Ejem, el inglés\\xa0lo leo,\\xa0pero no lo\\xa0hablo muy bien.',\n",
       " 'S05-Sí,\\xa0claro Y el francés, ¿lo\\xa0habla o solo lo escribe?',\n",
       " 'T00-TRANSLATE-Ejercicio 1 – Traduzca',\n",
       " 'T01-¿Habla usted\\xa0inglés?',\n",
       " 'T02-¿Cuántos idiomas escribe usted?',\n",
       " 'T03-No\\xa0hablo francés.',\n",
       " 'T04-¡Enhorabuena!',\n",
       " 'T05-Lo leo,\\xa0pero no lo escribo.']"
      ]
     },
     "execution_count": 109,
     "metadata": {},
     "output_type": "execute_result"
    }
   ],
   "source": [
    "parser.sentences"
   ]
  },
  {
   "cell_type": "code",
   "execution_count": 106,
   "id": "2d5c320c-a49f-4c70-8c26-821f5fe79725",
   "metadata": {},
   "outputs": [
    {
     "name": "stdout",
     "output_type": "stream",
     "text": [
      "['N5', '-', 'Lección', 'quinta']\n",
      "[]\n",
      "['S00', '-', 'TITLE', '-', 'Entrevista', 'de', 'trabajo']\n",
      "['S01', '-', '¿', 'Cuántos', 'idiomas', 'habla', 'usted', '?']\n",
      "['S02', '-', 'Hablo', 'inglés', 'y', 'francés', '.']\n",
      "['S03', '-', '¡', 'Enhorabuena', '!', '¿', 'Hablamos', 'inglés', 'entonces', '?']\n",
      "['S04', '-', 'Ejem', ',', 'el', 'inglés', 'lo', 'leo', ',', 'pero', 'no', 'lo', 'hablo', 'muy', 'bien', '.']\n",
      "['S05', '-', 'Sí', ',', 'claro', 'Y', 'el', 'francés', ',', '¿', 'lo', 'habla', 'o', 'solo', 'lo', 'escribe', '?']\n",
      "['T00', '-', 'TRANSLATE', '-', 'Ejercicio', '1', 'Traduzca']\n",
      "['T01', '-', '¿', 'Habla', 'usted', 'inglés', '?']\n",
      "['T02', '-', '¿', 'Cuántos', 'idiomas', 'escribe', 'usted', '?']\n",
      "['T03', '-', 'No', 'hablo', 'francés', '.']\n",
      "['T04', '-', '¡', 'Enhorabuena', '!']\n",
      "['T05', '-', 'Lo', 'leo', ',', 'pero', 'no', 'lo', 'escribo', '.']\n"
     ]
    }
   ],
   "source": [
    "lesson = []\n",
    "for s in parser.sentences:\n",
    "    tokens = re.findall(r\"[\\w']+|[.,¡!¿\\-?;]\", s)\n",
    "    lesson.append(tokens)\n",
    "    print(tokens)"
   ]
  },
  {
   "cell_type": "code",
   "execution_count": 107,
   "id": "d9af6e9a-494d-4a7e-8063-700b0263c753",
   "metadata": {},
   "outputs": [
    {
     "data": {
      "text/plain": [
       "[('leo', False)]"
      ]
     },
     "execution_count": 107,
     "metadata": {},
     "output_type": "execute_result"
    }
   ],
   "source": [
    "parser.analyze_lesson(lesson)"
   ]
  },
  {
   "cell_type": "code",
   "execution_count": 5,
   "id": "fd6926a1-41cf-4ed6-a758-ee57e5841e19",
   "metadata": {},
   "outputs": [
    {
     "name": "stdout",
     "output_type": "stream",
     "text": [
      "[('Es', False), ('toy', True)]\n"
     ]
    }
   ],
   "source": [
    "token = 'Estoy'\n",
    "token_struct = word_dict.get(token.lower(), [])\n",
    "if token_struct:\n",
    "    print(token_struct)\n",
    "else:\n",
    "    print('Token not found : ', token)"
   ]
  },
  {
   "cell_type": "code",
   "execution_count": 6,
   "id": "76a60dc1-46d6-4222-a320-e2b0f2dddee9",
   "metadata": {},
   "outputs": [],
   "source": [
    "def get_html_of_token(token):\n",
    "    token_struct = word_dict.get(token.lower(), '')\n",
    "    if not token_struct:\n",
    "        return token\n",
    "    else:\n",
    "        txt = \"\"\n",
    "        index = 0\n",
    "        for frag_struct in token_struct:\n",
    "            frag_txt = token[index:index+len(frag_struct[0])]\n",
    "            if frag_struct[1]:\n",
    "                txt += \"<b>\" + frag_txt + \"</b>\"\n",
    "            else:\n",
    "                txt += frag_txt\n",
    "            index += len(frag_struct[0])\n",
    "        return txt"
   ]
  },
  {
   "cell_type": "code",
   "execution_count": 7,
   "id": "97687cd5-6fc3-4b4d-928c-8283f061e63c",
   "metadata": {},
   "outputs": [
    {
     "data": {
      "text/plain": [
       "'Es<b>toy</b>'"
      ]
     },
     "execution_count": 7,
     "metadata": {},
     "output_type": "execute_result"
    }
   ],
   "source": [
    "get_html_of_token(token)"
   ]
  },
  {
   "cell_type": "code",
   "execution_count": 8,
   "id": "9ca9e002-eb1c-4fc3-a269-66a997bc6b2e",
   "metadata": {},
   "outputs": [
    {
     "data": {
      "text/plain": [
       "'eS<b>toy</b>'"
      ]
     },
     "execution_count": 8,
     "metadata": {},
     "output_type": "execute_result"
    }
   ],
   "source": [
    "token = 'eStoy'\n",
    "get_html_of_token(token)"
   ]
  },
  {
   "cell_type": "code",
   "execution_count": 9,
   "id": "8b5b553d-2633-41e7-9b86-bdb1629bbba3",
   "metadata": {},
   "outputs": [
    {
     "data": {
      "text/plain": [
       "'pa<b>chu</b>cho'"
      ]
     },
     "execution_count": 9,
     "metadata": {},
     "output_type": "execute_result"
    }
   ],
   "source": [
    "token = 'pachucho'\n",
    "get_html_of_token(token)"
   ]
  },
  {
   "cell_type": "code",
   "execution_count": 10,
   "id": "6e2b5c75-5c5e-4ad5-a5c4-7396f9c86f18",
   "metadata": {},
   "outputs": [
    {
     "data": {
      "text/plain": [
       "'en<b>ton</b>ces'"
      ]
     },
     "execution_count": 10,
     "metadata": {},
     "output_type": "execute_result"
    }
   ],
   "source": [
    "token = 'entonces'\n",
    "get_html_of_token(token)"
   ]
  },
  {
   "cell_type": "code",
   "execution_count": 11,
   "id": "0eba65d5-d800-4ee1-815e-5624f1deef30",
   "metadata": {},
   "outputs": [
    {
     "data": {
      "text/plain": [
       "'<b>le</b>o'"
      ]
     },
     "execution_count": 11,
     "metadata": {},
     "output_type": "execute_result"
    }
   ],
   "source": [
    "token = 'leo'\n",
    "get_html_of_token(token)"
   ]
  },
  {
   "cell_type": "code",
   "execution_count": 12,
   "id": "838a5615-bdd8-41d3-a951-0997c8befb57",
   "metadata": {},
   "outputs": [],
   "source": [
    "def set_bold_sentence(sentence):\n",
    "    tokens = re.findall(r\"[\\w']+|[.,¡!¿\\-?;–]\", sentence)\n",
    "    bold_sentence = \"\"\n",
    "    for index, token in enumerate(tokens):\n",
    "        try:\n",
    "            next_token = tokens[index + 1]\n",
    "        except IndexError:\n",
    "            next_token = ''\n",
    "        bold_token = get_html_of_token(token)\n",
    "        bold_sentence += bold_token\n",
    "        if not token in \".,¡!¿-?;\":\n",
    "            if not next_token in \".,;!?-\":\n",
    "                bold_sentence += ' '\n",
    "        elif token in \"¡-¿\":\n",
    "            pass\n",
    "        else:\n",
    "            bold_sentence += ' '\n",
    "    return bold_sentence        \n",
    "    \n",
    "            \n",
    "        \n"
   ]
  },
  {
   "cell_type": "code",
   "execution_count": 13,
   "id": "9fc3eda7-3eb2-4d5c-b43c-6ead5333ddad",
   "metadata": {},
   "outputs": [
    {
     "data": {
      "text/plain": [
       "('S01-¡<b>Ho</b>la, <b>Lau</b>ra! ', 'S01-¡Hola, Laura!')"
      ]
     },
     "execution_count": 13,
     "metadata": {},
     "output_type": "execute_result"
    }
   ],
   "source": [
    "sentence = parser.sentences[2]\n",
    "set_bold_sentence(sentence), sentence"
   ]
  },
  {
   "cell_type": "code",
   "execution_count": 14,
   "id": "7c40fe16-6d05-4b93-aae0-cc76cbca4cb9",
   "metadata": {},
   "outputs": [
    {
     "data": {
      "text/plain": [
       "['N5-Lección quinta',\n",
       " '',\n",
       " 'S00-TITLE-Entrevista de trabajo',\n",
       " 'S01-¿Cuántos idiomas habla usted?',\n",
       " 'S02-Hablo inglés y francés.',\n",
       " 'S03-¡Enhorabuena! ¿Hablamos inglés entonces?',\n",
       " 'S04-Ejem…, el inglés lo leo, pero no lo hablo muy bien.',\n",
       " 'S05-Sí, claro… Y el francés, ¿lo habla o solo lo escribe?',\n",
       " 'T00-TRANSLATE-Ejercicio 1 – Traduzca',\n",
       " 'T01-¿Habla usted inglés?',\n",
       " 'T02-¿Cuántos idiomas escribe usted?',\n",
       " 'T03-No hablo francés.',\n",
       " 'T04-¡Enhorabuena!',\n",
       " 'T05-Lo leo, pero no lo escribo.']"
      ]
     },
     "execution_count": 14,
     "metadata": {},
     "output_type": "execute_result"
    }
   ],
   "source": [
    "lesson5_txt = \"\"\"N5-Lección quinta\n",
    "\n",
    "S00-TITLE-Entrevista de trabajo\n",
    "S01-¿Cuántos idiomas habla usted?\n",
    "S02-Hablo inglés y francés.\n",
    "S03-¡Enhorabuena! ¿Hablamos inglés entonces?\n",
    "S04-Ejem…, el inglés lo leo, pero no lo hablo muy bien.\n",
    "S05-Sí, claro… Y el francés, ¿lo habla o solo lo escribe?\n",
    "T00-TRANSLATE-Ejercicio 1 – Traduzca\n",
    "T01-¿Habla usted inglés?\n",
    "T02-¿Cuántos idiomas escribe usted?\n",
    "T03-No hablo francés.\n",
    "T04-¡Enhorabuena!\n",
    "T05-Lo leo, pero no lo escribo.\"\"\"\n",
    "\n",
    "lesson_txt = lesson5_txt.split('\\n')\n",
    "lesson_txt"
   ]
  },
  {
   "cell_type": "code",
   "execution_count": 27,
   "id": "0dbbb52c-9cec-4ad2-9bf3-513e91e0729a",
   "metadata": {},
   "outputs": [
    {
     "data": {
      "text/plain": [
       "'N5-Lec<b>ción</b> <b>quin</b>ta\\nS00-TITLE-Entre<b>vist</b>a de tra<b>ba</b>jo\\nS01-¿<b>Cuá</b>ntos i<b>dio</b>mas <b>ha</b>bla us<b>ted</b>? \\nS02-<b>Ha</b>blo in<b>glés</b> y fran<b>cés</b>. \\nS03-¡Enhora<b>bue</b>na! ¿Ha<b>bla</b>mos in<b>glés</b> en<b>ton</b>ces? \\nS04-E<b>jem</b>, el in<b>glés</b> lo <b>le</b>o, <b>pe</b>ro no lo <b>ha</b>blo muy bien. \\nS05-Sí, <b>cla</b>ro Y el fran<b>cés</b>, ¿lo <b>ha</b>bla o solo lo es<b>cri</b>be? \\nT00-TRANSLATE-Ejer<b>ci</b>cio 1 – Tra<b>du</b>zca\\nT01-¿<b>Ha</b>bla us<b>ted</b> in<b>glés</b>? \\nT02-¿<b>Cuá</b>ntos i<b>dio</b>mas es<b>cri</b>be us<b>ted</b>? \\nT03-No <b>ha</b>blo fran<b>cés</b>. \\nT04-¡Enhora<b>bue</b>na! \\nT05-Lo <b>le</b>o, <b>pe</b>ro no lo es<b>cri</b>bo. \\n'"
      ]
     },
     "execution_count": 27,
     "metadata": {},
     "output_type": "execute_result"
    }
   ],
   "source": [
    "lesson_with_bold_sentences\n"
   ]
  },
  {
   "cell_type": "code",
   "execution_count": 26,
   "id": "88afea2c-dd55-4af8-83ce-6cdee599c76f",
   "metadata": {},
   "outputs": [],
   "source": [
    "lesson_html = \"\"\n",
    "lesson_with_bold_sentences = \"\"\n",
    "for sentence in lesson_txt:\n",
    "    if sentence:\n",
    "        lesson_html += \"<p>\" + set_bold_sentence(sentence) + \"</p>\"\n",
    "        lesson_with_bold_sentences += set_bold_sentence(sentence) + \"\\n\"\n",
    "\n"
   ]
  },
  {
   "cell_type": "code",
   "execution_count": 33,
   "id": "e287eec6-20b8-45cc-b591-4edc09800bfc",
   "metadata": {},
   "outputs": [],
   "source": [
    "f=open(\"pronunciation/lessons/L001.txt\", \"w\")\n",
    "f.write(lesson_with_bold_sentences)\n",
    "f.close()"
   ]
  },
  {
   "cell_type": "code",
   "execution_count": 38,
   "id": "7b4dfc58-24b4-4285-b663-31d41c0fdd44",
   "metadata": {},
   "outputs": [
    {
     "ename": "FileNotFoundError",
     "evalue": "[Errno 2] No such file or directory: 'rrjfekw'",
     "output_type": "error",
     "traceback": [
      "\u001b[0;31m---------------------------------------------------------------------------\u001b[0m",
      "\u001b[0;31mFileNotFoundError\u001b[0m                         Traceback (most recent call last)",
      "Cell \u001b[0;32mIn[38], line 4\u001b[0m\n\u001b[1;32m      2\u001b[0m lesson_filename \u001b[38;5;241m=\u001b[39m \u001b[38;5;124mf\u001b[39m\u001b[38;5;124m\"\u001b[39m\u001b[38;5;124mSentences/L\u001b[39m\u001b[38;5;132;01m{\u001b[39;00m\u001b[38;5;28mstr\u001b[39m(lesson_nb)\u001b[38;5;241m.\u001b[39mzfill(\u001b[38;5;241m3\u001b[39m)\u001b[38;5;132;01m}\u001b[39;00m\u001b[38;5;124m.txt\u001b[39m\u001b[38;5;124m\"\u001b[39m\n\u001b[1;32m      3\u001b[0m f \u001b[38;5;241m=\u001b[39m \u001b[38;5;28mopen\u001b[39m(lesson_filename, \u001b[38;5;124m\"\u001b[39m\u001b[38;5;124mr\u001b[39m\u001b[38;5;124m\"\u001b[39m)\n\u001b[0;32m----> 4\u001b[0m f \u001b[38;5;241m=\u001b[39m \u001b[38;5;28;43mopen\u001b[39;49m\u001b[43m(\u001b[49m\u001b[38;5;124;43m\"\u001b[39;49m\u001b[38;5;124;43mrrjfekw\u001b[39;49m\u001b[38;5;124;43m\"\u001b[39;49m\u001b[43m)\u001b[49m\n",
      "File \u001b[0;32m~/.pyenv/versions/symbolic/lib/python3.11/site-packages/IPython/core/interactiveshell.py:284\u001b[0m, in \u001b[0;36m_modified_open\u001b[0;34m(file, *args, **kwargs)\u001b[0m\n\u001b[1;32m    277\u001b[0m \u001b[38;5;28;01mif\u001b[39;00m file \u001b[38;5;129;01min\u001b[39;00m {\u001b[38;5;241m0\u001b[39m, \u001b[38;5;241m1\u001b[39m, \u001b[38;5;241m2\u001b[39m}:\n\u001b[1;32m    278\u001b[0m     \u001b[38;5;28;01mraise\u001b[39;00m \u001b[38;5;167;01mValueError\u001b[39;00m(\n\u001b[1;32m    279\u001b[0m         \u001b[38;5;124mf\u001b[39m\u001b[38;5;124m\"\u001b[39m\u001b[38;5;124mIPython won\u001b[39m\u001b[38;5;124m'\u001b[39m\u001b[38;5;124mt let you open fd=\u001b[39m\u001b[38;5;132;01m{\u001b[39;00mfile\u001b[38;5;132;01m}\u001b[39;00m\u001b[38;5;124m by default \u001b[39m\u001b[38;5;124m\"\u001b[39m\n\u001b[1;32m    280\u001b[0m         \u001b[38;5;124m\"\u001b[39m\u001b[38;5;124mas it is likely to crash IPython. If you know what you are doing, \u001b[39m\u001b[38;5;124m\"\u001b[39m\n\u001b[1;32m    281\u001b[0m         \u001b[38;5;124m\"\u001b[39m\u001b[38;5;124myou can use builtins\u001b[39m\u001b[38;5;124m'\u001b[39m\u001b[38;5;124m open.\u001b[39m\u001b[38;5;124m\"\u001b[39m\n\u001b[1;32m    282\u001b[0m     )\n\u001b[0;32m--> 284\u001b[0m \u001b[38;5;28;01mreturn\u001b[39;00m \u001b[43mio_open\u001b[49m\u001b[43m(\u001b[49m\u001b[43mfile\u001b[49m\u001b[43m,\u001b[49m\u001b[43m \u001b[49m\u001b[38;5;241;43m*\u001b[39;49m\u001b[43margs\u001b[49m\u001b[43m,\u001b[49m\u001b[43m \u001b[49m\u001b[38;5;241;43m*\u001b[39;49m\u001b[38;5;241;43m*\u001b[39;49m\u001b[43mkwargs\u001b[49m\u001b[43m)\u001b[49m\n",
      "\u001b[0;31mFileNotFoundError\u001b[0m: [Errno 2] No such file or directory: 'rrjfekw'"
     ]
    }
   ],
   "source": [
    "lesson_nb = 5\n",
    "lesson_filename = f\"Sentences/L{str(lesson_nb).zfill(3)}.txt\"\n",
    "f = open(lesson_filename, \"r\")"
   ]
  },
  {
   "cell_type": "code",
   "execution_count": 37,
   "id": "ebe76899-6efa-46c9-b112-fe741bd023b7",
   "metadata": {},
   "outputs": [
    {
     "data": {
      "text/plain": [
       "['N5-Lec<b>ción</b> <b>quin</b>ta\\n',\n",
       " 'S00-TITLE-Entre<b>vist</b>a de tra<b>ba</b>jo\\n',\n",
       " 'S01-¿<b>Cuá</b>ntos i<b>dio</b>mas <b>ha</b>bla us<b>ted</b>? \\n',\n",
       " 'S02-<b>Ha</b>blo in<b>glés</b> y fran<b>cés</b>. \\n',\n",
       " 'S03-¡Enhora<b>bue</b>na! ¿Ha<b>bla</b>mos in<b>glés</b> en<b>ton</b>ces? \\n',\n",
       " 'S04-E<b>jem</b>, el in<b>glés</b> lo <b>le</b>o, <b>pe</b>ro no lo <b>ha</b>blo muy bien. \\n',\n",
       " 'S05-Sí, <b>cla</b>ro Y el fran<b>cés</b>, ¿lo <b>ha</b>bla o solo lo es<b>cri</b>be? \\n',\n",
       " 'T00-TRANSLATE-Ejer<b>ci</b>cio 1 – Tra<b>du</b>zca\\n',\n",
       " 'T01-¿<b>Ha</b>bla us<b>ted</b> in<b>glés</b>? \\n',\n",
       " 'T02-¿<b>Cuá</b>ntos i<b>dio</b>mas es<b>cri</b>be us<b>ted</b>? \\n',\n",
       " 'T03-No <b>ha</b>blo fran<b>cés</b>. \\n',\n",
       " 'T04-¡Enhora<b>bue</b>na! \\n',\n",
       " 'T05-Lo <b>le</b>o, <b>pe</b>ro no lo es<b>cri</b>bo. \\n']"
      ]
     },
     "execution_count": 37,
     "metadata": {},
     "output_type": "execute_result"
    }
   ],
   "source": [
    "f.readlines()"
   ]
  },
  {
   "cell_type": "code",
   "execution_count": 112,
   "id": "64ded0e9-a7a1-44f8-9f33-5f28d2b70737",
   "metadata": {},
   "outputs": [],
   "source": [
    "import eyed3\n",
    "def get_title(filename):\n",
    "    audiofile = eyed3.load(filename)\n",
    "    return audiofile.tag.title\n",
    "        \n",
    "\n",
    "def get_sentences(lesson_nb : int):\n",
    "    lesson_directory = f\"Sentences/L{str(lesson_nb).zfill(3)}-Spanish ASSIMIL\"\n",
    "\n",
    "    w = os.walk(lesson_directory)\n",
    "    sentences_with_path = []\n",
    "    for (dirpath, dirnames, filenames) in w:\n",
    "        for fn in filenames:\n",
    "            try:\n",
    "                full_path = os.path.join(dirpath, fn)\n",
    "                sentences_with_path.append([full_path, get_title(full_path)])\n",
    "            except AttributeError:\n",
    "                raise\n",
    "        pathes, titles = zip(*sorted(sentences_with_path))\n",
    "    return titles\n"
   ]
  },
  {
   "cell_type": "code",
   "execution_count": 113,
   "id": "1dec7066-e1ec-41b3-b237-4c0aabd847c9",
   "metadata": {},
   "outputs": [
    {
     "data": {
      "text/plain": [
       "('N4-Lección cuarta',\n",
       " 'S00-TITLE-Presentaciones',\n",
       " 'S01-Él es Rafa, mi hermano, y ella es Luz, mi hermana.',\n",
       " 'S02-Y él es mi padre, Miguel.',\n",
       " 'S03-Mucho gusto. ¿Cómo está usted?',\n",
       " 'S04-Muy bien, pero ¡háblame de tú, por favor!',\n",
       " 'S05-¡Vale!',\n",
       " 'T00-TRANSLATE-Ejercicio 1 – Traduzca',\n",
       " 'T01-Él es mi padre. ',\n",
       " 'T02-Y ella es mi hermana. ',\n",
       " 'T03-Mucho gusto. ',\n",
       " 'T04-Háblame de tú, por favor. ',\n",
       " 'T05-¿Cómo está usted? ')"
      ]
     },
     "execution_count": 113,
     "metadata": {},
     "output_type": "execute_result"
    }
   ],
   "source": [
    "sentences = get_sentences(4)\n",
    "sentences"
   ]
  },
  {
   "cell_type": "code",
   "execution_count": 95,
   "id": "cb558463-9b0d-44d8-94bc-2b7f76745011",
   "metadata": {},
   "outputs": [
    {
     "data": {
      "text/plain": [
       "('N4-Lección cuarta',\n",
       " 'S00-TITLE-Presentaciones',\n",
       " 'S01-Él es Rafa, mi hermano, y ella es Luz, mi hermana.',\n",
       " 'S02-Y él es mi padre, Miguel.',\n",
       " 'S03-Mucho gusto. ¿Cómo está usted?',\n",
       " 'S04-Muy bien, pero ¡háblame de tú, por favor!',\n",
       " 'S05-¡Vale!',\n",
       " 'T00-TRANSLATE-Ejercicio 1 – Traduzca',\n",
       " 'T01-Él es mi padre. ',\n",
       " 'T02-Y ella es mi hermana. ',\n",
       " 'T03-Mucho gusto. ',\n",
       " 'T04-Háblame de tú, por favor. ',\n",
       " 'T05-¿Cómo está usted? ')"
      ]
     },
     "execution_count": 95,
     "metadata": {},
     "output_type": "execute_result"
    }
   ],
   "source": [
    "lesson_nb=4\n",
    "#sorted(zip(*sentences_with_path))\n",
    "a, b = zip(*sorted(sentences_with_path))\n",
    "b"
   ]
  },
  {
   "cell_type": "code",
   "execution_count": 90,
   "id": "303e5311-4311-4f61-a5c3-dae2a75fd004",
   "metadata": {},
   "outputs": [
    {
     "name": "stdout",
     "output_type": "stream",
     "text": [
      "ponctuation\n"
     ]
    }
   ],
   "source": [
    "token = '-'\n",
    "if token in \".,¡!¿-?;\":\n",
    "    print(\"ponctuation\")\n",
    "else:\n",
    "    print(\"text\")"
   ]
  },
  {
   "cell_type": "code",
   "execution_count": 91,
   "id": "7b0dbdd4-f2aa-4a1b-bcfe-b2313dbe918c",
   "metadata": {},
   "outputs": [
    {
     "data": {
      "text/plain": [
       "8211"
      ]
     },
     "execution_count": 91,
     "metadata": {},
     "output_type": "execute_result"
    }
   ],
   "source": [
    "ord('–')"
   ]
  },
  {
   "cell_type": "code",
   "execution_count": 81,
   "id": "372cf709-fba0-408c-9c3b-37186b57b43d",
   "metadata": {},
   "outputs": [
    {
     "data": {
      "text/plain": [
       "'–'"
      ]
     },
     "execution_count": 81,
     "metadata": {},
     "output_type": "execute_result"
    }
   ],
   "source": [
    "u\"\\u2013\"\n"
   ]
  },
  {
   "cell_type": "code",
   "execution_count": 82,
   "id": "1dcb3157-9ec2-4dd1-a8bf-4e768cd8de92",
   "metadata": {},
   "outputs": [
    {
     "data": {
      "text/plain": [
       "'0x2013'"
      ]
     },
     "execution_count": 82,
     "metadata": {},
     "output_type": "execute_result"
    }
   ],
   "source": [
    "hex(8211)"
   ]
  },
  {
   "cell_type": "code",
   "execution_count": 87,
   "id": "a82ed5f1-1a47-46a9-85d5-ae925b7bfd2c",
   "metadata": {},
   "outputs": [
    {
     "data": {
      "text/plain": [
       "'-'"
      ]
     },
     "execution_count": 87,
     "metadata": {},
     "output_type": "execute_result"
    }
   ],
   "source": [
    "a=\"abcd\\-\"\n",
    "a[5]"
   ]
  },
  {
   "cell_type": "code",
   "execution_count": 114,
   "id": "94020c44-2404-497d-969c-d95406ff9e99",
   "metadata": {},
   "outputs": [],
   "source": [
    "import shelve"
   ]
  },
  {
   "cell_type": "code",
   "execution_count": 115,
   "id": "89d323a3-dbd0-49f2-a60e-632d94e14d7f",
   "metadata": {},
   "outputs": [
    {
     "data": {
      "text/plain": [
       "{'n5': [('N5', False)],\n",
       " 'lección': [('Lec', False), ('ción', True)],\n",
       " 'quinta': [('quin', True), ('ta', False)],\n",
       " 's00': [('S00', False)],\n",
       " 'title': [('TITLE', False)],\n",
       " 'entrevista': [('Entre', False), ('vist', True), ('a', False)],\n",
       " 'de': [('De', False)],\n",
       " 'trabajo': [('tra', False), ('ba', True), ('jo', False)],\n",
       " 's01': [('S01', False)],\n",
       " 'cuántos': [('Cuá', True), ('ntos', False)],\n",
       " 'idiomas': [('i', False), ('dio', True), ('mas', False)],\n",
       " 'habla': [('ha', True), ('bla', False)],\n",
       " 'usted': [('us', False), ('ted', True)],\n",
       " 's02': [('S02', False)],\n",
       " 'hablo': [('Ha', True), ('blo', False)],\n",
       " 'inglés': [('in', False), ('glés', True)],\n",
       " 'y': [('Y', False)],\n",
       " 'francés': [('fran', False), ('cés', True)],\n",
       " 's03': [('S03', False)],\n",
       " 'enhorabuena': [('Enhora', False), ('bue', True), ('na', False)],\n",
       " 'hablamos': [('Ha', False), ('bla', True), ('mos', False)],\n",
       " 'entonces': [('en', False), ('ton', True), ('ces', False)],\n",
       " 's04': [('S04', False)],\n",
       " 'ejem': [('E', False), ('jem', True)],\n",
       " 'el': [('el', False)],\n",
       " 'lo': [('lo', False)],\n",
       " 'leo': [('le', True), ('o', False)],\n",
       " 'pero': [('Pe', True), ('ro', False)],\n",
       " 'no': [('no', False)],\n",
       " 'muy': [('Muy', False)],\n",
       " 'bien': [('Bien', False)],\n",
       " 's05': [('S05', False)],\n",
       " 'sí': [('Sí', False)],\n",
       " 'claro': [('cla', True), ('ro', False)],\n",
       " 'o': [('o', False)],\n",
       " 'solo': [('solo', False)],\n",
       " 'escribe': [('es', False), ('cri', True), ('be', False)],\n",
       " 't00': [('T00', False)],\n",
       " 'translate': [('TRANSLATE', False)],\n",
       " 'ejercicio': [('Ejer', False), ('ci', True), ('cio', False)],\n",
       " '1': [('1', False)],\n",
       " '–': [('–', False)],\n",
       " 'traduzca': [('Tra', False), ('du', True), ('zca', False)],\n",
       " 't01': [('T01', False)],\n",
       " 't02': [('T02', False)],\n",
       " 't03': [('T03', False)],\n",
       " 't04': [('T04', False)],\n",
       " 't05': [('T05', False)],\n",
       " 'escribo': [('es', False), ('cri', True), ('bo', False)],\n",
       " 'n4': [('N4', False)],\n",
       " 'cuarta': [('cua', True), ('rta', False)],\n",
       " 'presentaciones': [('Presenta', False), ('cio', True), ('nes', False)],\n",
       " 'él': [('Él', False)],\n",
       " 'es': [('es', False)],\n",
       " 'rafa': [('Ra', True), ('fa', False)],\n",
       " 'mi': [('Mi', False)],\n",
       " 'hermano': [('her', False), ('ma', True), ('no', False)],\n",
       " 'ella': [('e', True), ('lla', False)],\n",
       " 'luz': [('Luz', False)],\n",
       " 'hermana': [('her', False), ('ma', True), ('na', False)],\n",
       " 'padre': [('pa', True), ('dre', False)],\n",
       " 'miguel': [('Mi', False), ('guel', True)],\n",
       " 'mucho': [('Mu', True), ('cho', False)],\n",
       " 'gusto': [('gus', True), ('to', False)],\n",
       " 'cómo': [('Có', True), ('mo', False)],\n",
       " 'está': [('est', False), ('á', True)],\n",
       " 'háblame': [('há', True), ('blame', False)],\n",
       " 'tú': [('tú', False)],\n",
       " 'por': [('por', False)],\n",
       " 'favor': [('fa', False), ('vor', True)],\n",
       " 'vale': [('Va', True), ('le', False)],\n",
       " 'n3': [('N3', False)],\n",
       " 'tercera': [('ter', False), ('ce', True), ('ra', False)],\n",
       " 'bienvenida': [('Bienve', False), ('ni', True), ('da', False)],\n",
       " 'buenos': [('Bue', True), ('nos', False)],\n",
       " 'días': [('dí', True), ('as', False)],\n",
       " 'soy': [('soy', False)],\n",
       " 'javier': [('Ja', False), ('vier', True)],\n",
       " 'te': [('te', False)],\n",
       " 'llamas': [('lla', True), ('mas', False)],\n",
       " 'me': [('Me', False)],\n",
       " 'llamo': [('lla', True), ('mo', False)],\n",
       " 'rocío': [('Ro', False), ('cío', True)],\n",
       " 'encantado': [('Encan', False), ('ta', True), ('do', False)],\n",
       " 'eres': [('e', True), ('res', False)],\n",
       " 'madrid': [('Ma', False), ('drid', True)],\n",
       " 'madrileña': [('madri', False), ('le', True), ('ña', False)],\n",
       " 'andaluza': [('anda', False), ('lu', True), ('za', False)],\n",
       " 'sevilla': [('Se', False), ('vi', True), ('lla', False)],\n",
       " 'pues': [('Pues', False)],\n",
       " 'a': [('a', False)],\n",
       " 'morena': [('mo', False), ('re', True), ('na', False)],\n",
       " 'encantada': [('Encan', False), ('ta', True), ('da', False)],\n",
       " 'montse': [('Mon', True), ('tse', False)],\n",
       " 'n2': [('N2', False)],\n",
       " 'segunda': [('se', False), ('gun', True), ('da', False)],\n",
       " 'dónde': [('Dón', True), ('de', False)],\n",
       " 'vives': [('vi', True), ('ves', False)],\n",
       " 'familia': [('fa', False), ('mi', True), ('lia', False)],\n",
       " 'andalucía': [('Andalu', False), ('cí', True), ('a', False)],\n",
       " 'yo': [('yo', False)],\n",
       " 'nací': [('na', False), ('cí', True)],\n",
       " 'en': [('en', False)],\n",
       " 'barcelona': [('Barce', False), ('lo', True), ('na', False)],\n",
       " 'vivo': [('Vi', True), ('vo', False)],\n",
       " 'las': [('las', False)],\n",
       " 'afueras': [('a', False), ('fue', True), ('ras', False)],\n",
       " 'n1': [('N1', False)],\n",
       " 'primera': [('pri', False), ('me', True), ('ra', False)],\n",
       " 'qué': [('Qué', False)],\n",
       " 'sorpresa': [('sorp', False), ('re', True), ('sa', False)],\n",
       " 'hola': [('Ho', True), ('la', False)],\n",
       " 'laura': [('Lau', True), ('ra', False)],\n",
       " 'paco': [('Pa', True), ('co', False)],\n",
       " 'estás': [('es', False), ('tás', True)],\n",
       " 'guapa': [('gua', True), ('pa', False)],\n",
       " 'gracias': [('gra', True), ('cias', False)],\n",
       " 'tal': [('tal', False)],\n",
       " 'estoy': [('Es', False), ('toy', True)],\n",
       " 'pachucho…': [('pa', False), ('chu', True), ('cho…', False)],\n",
       " 'pachucho': [('pa', False), ('chu', True), ('cho', False)]}"
      ]
     },
     "execution_count": 115,
     "metadata": {},
     "output_type": "execute_result"
    }
   ],
   "source": [
    "word_dict"
   ]
  },
  {
   "cell_type": "code",
   "execution_count": 129,
   "id": "073cb6e2-a2e6-4580-a912-9cf6c9526c43",
   "metadata": {},
   "outputs": [],
   "source": [
    "def get_word_dict_from_html_files(filenames):\n",
    "    parser = MyHTMLParser()\n",
    "    word_dict = {}\n",
    "\n",
    "    for fn in filenames:\n",
    "        lesson = open(os.path.join(lessons_directory, fn)).read()\n",
    "        print(fn, \" : \", len(lesson))\n",
    "        parser.analyze_lesson(lesson)\n",
    "        wd = parser.get_lesson_word_dict()\n",
    "        word_dict.update(wd)\n",
    "\n",
    "    return word_dict"
   ]
  },
  {
   "cell_type": "code",
   "execution_count": 1,
   "id": "34cd1650-0a2e-4155-8c12-79d11014e72d",
   "metadata": {},
   "outputs": [],
   "source": [
    "lessons_number = 5\n",
    "filenames = [f\"L{str(lessons_number + 1).zfill(3)}.html\" for lessons_number in range(5)]"
   ]
  },
  {
   "cell_type": "code",
   "execution_count": 2,
   "id": "382ffd3f-800e-45d2-aab7-627c675a8ad2",
   "metadata": {},
   "outputs": [
    {
     "data": {
      "text/plain": [
       "['L001.html', 'L002.html', 'L003.html', 'L004.html', 'L005.html']"
      ]
     },
     "execution_count": 2,
     "metadata": {},
     "output_type": "execute_result"
    }
   ],
   "source": [
    "filenames"
   ]
  },
  {
   "cell_type": "code",
   "execution_count": 132,
   "id": "8e154a25-78a7-4b7f-81ee-9f7dbcd7bd1d",
   "metadata": {},
   "outputs": [
    {
     "name": "stdout",
     "output_type": "stream",
     "text": [
      "L001.html  :  1428\n",
      "L002.html  :  2081\n",
      "L003.html  :  2141\n",
      "L004.html  :  2099\n",
      "L005.html  :  805\n"
     ]
    }
   ],
   "source": [
    "word_dict = get_word_dict_from_html_files(filenames)"
   ]
  },
  {
   "cell_type": "code",
   "execution_count": 137,
   "id": "e7759780-0b32-45d4-858d-fcba628facf6",
   "metadata": {},
   "outputs": [],
   "source": [
    "def get_tonic_accent_word_dict():\n",
    "    lessons_nb = 5\n",
    "    filenames = [f\"L{str(lesson_nb + 1).zfill(3)}.html\" for lesson_nb in range(lessons_nb)]\n",
    "    word_dict = get_word_dict_from_html_files(filenames)\n",
    "    return word_dict"
   ]
  },
  {
   "cell_type": "code",
   "execution_count": 138,
   "id": "420bf388-7846-43aa-93c2-52ff919d867d",
   "metadata": {},
   "outputs": [
    {
     "name": "stdout",
     "output_type": "stream",
     "text": [
      "L001.html  :  1428\n",
      "L002.html  :  2081\n",
      "L003.html  :  2141\n",
      "L004.html  :  2099\n",
      "L005.html  :  805\n"
     ]
    }
   ],
   "source": [
    "word_dict = get_tonic_accent_word_dict()"
   ]
  },
  {
   "cell_type": "code",
   "execution_count": 139,
   "id": "29abde1e-bc51-450a-a4dd-e3e7389df47f",
   "metadata": {},
   "outputs": [
    {
     "data": {
      "text/plain": [
       "[('in', False), ('glés', True)]"
      ]
     },
     "execution_count": 139,
     "metadata": {},
     "output_type": "execute_result"
    }
   ],
   "source": [
    "word_dict['inglés']"
   ]
  },
  {
   "cell_type": "code",
   "execution_count": 141,
   "id": "d6d81a8c-98d4-420e-9d4d-4104f5861e76",
   "metadata": {},
   "outputs": [
    {
     "data": {
      "text/plain": [
       "('N6-Lección sexta',\n",
       " 'S00-TITLE-A las siete… ¡de la mañana!',\n",
       " 'S01-¿En qué trabajas?',\n",
       " 'S02-Soy enfermera, trabajo en el hospital.',\n",
       " 'S03-¿A qué hora terminas?',\n",
       " 'S04-Termino a las siete.',\n",
       " 'S05-Pues te invito al cine a las ocho, ¿vale?',\n",
       " 'S06-Gracias, pero termino a las siete… ¡de la mañana!',\n",
       " 'ST00-TRANSLATE-Ejercicio 1 – Traduzca',\n",
       " 'ST01-¿Eres enfermera?',\n",
       " 'ST02-¿Trabajas en el hospital? ',\n",
       " 'ST03-No, trabajo en el cine.',\n",
       " 'ST04-Te invito a las ocho, ¿vale? ',\n",
       " 'ST05-¿Terminas a las siete?')"
      ]
     },
     "execution_count": 141,
     "metadata": {},
     "output_type": "execute_result"
    }
   ],
   "source": [
    "lesson_nb = 6\n",
    "lesson_txt = get_sentences(lesson_nb)\n",
    "lesson_txt"
   ]
  },
  {
   "cell_type": "code",
   "execution_count": 149,
   "id": "9a841784-b540-47c9-a887-71945af46f2f",
   "metadata": {},
   "outputs": [
    {
     "name": "stdout",
     "output_type": "stream",
     "text": [
      "N6-Lección sexta\n",
      "S00-TITLE-A las siete… ¡de la mañana!\n",
      "S01-¿En qué trabajas?\n",
      "S02-Soy enfermera, trabajo en el hospital.\n",
      "S03-¿A qué hora terminas?\n",
      "S04-Termino a las siete.\n",
      "S05-Pues te invito al cine a las ocho, ¿vale?\n",
      "S06-Gracias, pero termino a las siete… ¡de la mañana!\n",
      "ST00-TRANSLATE-Ejercicio 1 – Traduzca\n",
      "ST01-¿Eres enfermera?\n",
      "ST02-¿Trabajas en el hospital? \n",
      "ST03-No, trabajo en el cine.\n",
      "ST04-Te invito a las ocho, ¿vale? \n",
      "ST05-¿Terminas a las siete?\n"
     ]
    },
    {
     "data": {
      "text/plain": [
       "['N6-Lec<b>ción</b> sexta',\n",
       " 'S00-TITLE-A las siete ¡de la mañana! ',\n",
       " 'S01-¿En qué trabajas? ',\n",
       " 'S02-Soy enfermera, tra<b>ba</b>jo en el hospital. ',\n",
       " 'S03-¿A qué hora terminas? ',\n",
       " 'S04-Termino a las siete. ',\n",
       " 'S05-Pues te invito al cine a las ocho, ¿<b>va</b>le? ',\n",
       " 'S06-<b>Gra</b>cias, <b>pe</b>ro termino a las siete ¡de la mañana! ',\n",
       " 'ST00-TRANSLATE-Ejer<b>ci</b>cio 1 – Tra<b>du</b>zca',\n",
       " 'ST01-¿<b>E</b>res enfermera? ',\n",
       " 'ST02-¿Trabajas en el hospital? ',\n",
       " 'ST03-No, tra<b>ba</b>jo en el cine. ',\n",
       " 'ST04-Te invito a las ocho, ¿<b>va</b>le? ',\n",
       " 'ST05-¿Terminas a las siete? ']"
      ]
     },
     "execution_count": 149,
     "metadata": {},
     "output_type": "execute_result"
    }
   ],
   "source": [
    "def get_list_of_bold_sentences(lesson_nb):\n",
    "    lesson_txt = get_sentences(lesson_nb)\n",
    "    lesson_with_bold_sentences = []\n",
    "    for sentence in lesson_txt:\n",
    "        print(sentence)\n",
    "        if sentence:\n",
    "            lesson_with_bold_sentences.append(set_bold_sentence(sentence))\n",
    "\n",
    "\n",
    "    return lesson_with_bold_sentences\n",
    "lesson_with_bold_sentences = get_list_of_bold_sentences(lesson_nb)\n",
    "lesson_with_bold_sentences"
   ]
  },
  {
   "cell_type": "code",
   "execution_count": null,
   "id": "0ac9e153-5aec-48d5-8b76-01fe8dd4102d",
   "metadata": {},
   "outputs": [],
   "source": []
  }
 ],
 "metadata": {
  "kernelspec": {
   "display_name": "Python 3 (ipykernel)",
   "language": "python",
   "name": "python3"
  },
  "language_info": {
   "codemirror_mode": {
    "name": "ipython",
    "version": 3
   },
   "file_extension": ".py",
   "mimetype": "text/x-python",
   "name": "python",
   "nbconvert_exporter": "python",
   "pygments_lexer": "ipython3",
   "version": "3.11.3"
  }
 },
 "nbformat": 4,
 "nbformat_minor": 5
}
