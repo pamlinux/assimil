{
 "cells": [
  {
   "cell_type": "code",
   "execution_count": 24,
   "id": "ba1536bb-c9e4-4a7b-aa8d-fb856480b3a5",
   "metadata": {},
   "outputs": [],
   "source": [
    "from tonic_accent import global_word_dict\n",
    "lesson_word_dict = parser.get_lesson_word_tonic_accent_dict()"
   ]
  },
  {
   "cell_type": "code",
   "execution_count": 438,
   "id": "58f7355b-6f5f-4a41-95c8-58c53b4f62be",
   "metadata": {},
   "outputs": [],
   "source": [
    "import re\n",
    "\n",
    "def get_html_of_token(token, lesson_dict = {}):\n",
    "    token_properties = lesson_dict.get(token.lower(), '')\n",
    "    if not token_properties:\n",
    "        token_properties = global_word_dict.get(token.lower(), '')\n",
    "        if not token_properties:\n",
    "            return token\n",
    "    txt = \"\"\n",
    "    index = 0\n",
    "    for frag_struct in token_properties:\n",
    "        frag_txt = token[index:index+len(frag_struct[0])]\n",
    "        if frag_struct[1]:\n",
    "            txt += \"<b>\" + frag_txt + \"</b>\"\n",
    "        else:\n",
    "            txt += frag_txt\n",
    "        index += len(frag_struct[0])\n",
    "    return txt\n",
    "\n",
    "def get_bold_sentence(sentence, lesson_dict = {}):\n",
    "    tokens = re.findall(r\"[\\w']+|[.,¡!¿:&\\-?;–]\", sentence)\n",
    "    bold_sentence = \"\"\n",
    "    index = 0\n",
    "    for token in tokens:\n",
    "        token_length = len(token)\n",
    "        pos = sentence.find(token, index)\n",
    "        inter_token = sentence[index:pos]\n",
    "        bold_sentence += inter_token + get_html_of_token(token, lesson_dict)\n",
    "        index += len(inter_token) + token_length\n",
    "    return bold_sentence\n",
    "    \n",
    "\n"
   ]
  },
  {
   "cell_type": "code",
   "execution_count": 439,
   "id": "357bc3e9-34a6-400b-816d-3bb98352e8a0",
   "metadata": {},
   "outputs": [
    {
     "data": {
      "text/plain": [
       "'S07-Uf, escucha, da miedo:: &quot;Nos dijeron que la habitación tendría vistas y nos dieron una que daba al patio.&quot; '"
      ]
     },
     "execution_count": 439,
     "metadata": {},
     "output_type": "execute_result"
    }
   ],
   "source": [
    "sb='S07-Uf, escucha, da miedo:: &quot;Nos dijeron que la habitación tendría vistas y nos dieron una que daba al patio.&quot; '\n",
    "sb"
   ]
  },
  {
   "cell_type": "code",
   "execution_count": 440,
   "id": "f7d3d4a9-59ca-4d6e-84a5-c809e6220c5b",
   "metadata": {},
   "outputs": [
    {
     "data": {
      "text/plain": [
       "'S07-Uf, es<b>cu</b>cha, da <b>mie</b>do:: &quot;Nos di<b>je</b>ron que la habita<b>ción</b> ten<b>drí</b>a <b>vis</b>tas y nos <b>die</b>ron <b>u</b>na que <b>da</b>ba al <b>pa</b>tio.&quot;'"
      ]
     },
     "execution_count": 440,
     "metadata": {},
     "output_type": "execute_result"
    }
   ],
   "source": [
    "get_bold_sentence(sb)"
   ]
  },
  {
   "cell_type": "code",
   "execution_count": 425,
   "id": "2823099e-a975-47e3-b720-cb93174505da",
   "metadata": {},
   "outputs": [
    {
     "name": "stdout",
     "output_type": "stream",
     "text": [
      "S07\n",
      "S07-\n",
      "S07-Uf\n",
      "S07-Uf,\n",
      "S07-Uf, escucha\n",
      "S07-Uf, escucha,\n",
      "S07-Uf, escucha, da\n",
      "S07-Uf, escucha, da miedo\n",
      "S07-Uf, escucha, da miedo:\n",
      "S07-Uf, escucha, da miedo::\n",
      "S07-Uf, escucha, da miedo:: &\n",
      "S07-Uf, escucha, da miedo:: &quot\n",
      "S07-Uf, escucha, da miedo:: &quot;\n",
      "S07-Uf, escucha, da miedo:: &quot;Nos\n",
      "S07-Uf, escucha, da miedo:: &quot;Nos dijeron\n",
      "S07-Uf, escucha, da miedo:: &quot;Nos dijeron que\n",
      "S07-Uf, escucha, da miedo:: &quot;Nos dijeron que la\n",
      "S07-Uf, escucha, da miedo:: &quot;Nos dijeron que la habitación\n",
      "S07-Uf, escucha, da miedo:: &quot;Nos dijeron que la habitación tendría\n",
      "S07-Uf, escucha, da miedo:: &quot;Nos dijeron que la habitación tendría vistas\n",
      "S07-Uf, escucha, da miedo:: &quot;Nos dijeron que la habitación tendría vistas y\n",
      "S07-Uf, escucha, da miedo:: &quot;Nos dijeron que la habitación tendría vistas y nos\n",
      "S07-Uf, escucha, da miedo:: &quot;Nos dijeron que la habitación tendría vistas y nos dieron\n",
      "S07-Uf, escucha, da miedo:: &quot;Nos dijeron que la habitación tendría vistas y nos dieron una\n",
      "S07-Uf, escucha, da miedo:: &quot;Nos dijeron que la habitación tendría vistas y nos dieron una que\n",
      "S07-Uf, escucha, da miedo:: &quot;Nos dijeron que la habitación tendría vistas y nos dieron una que daba\n",
      "S07-Uf, escucha, da miedo:: &quot;Nos dijeron que la habitación tendría vistas y nos dieron una que daba al\n",
      "S07-Uf, escucha, da miedo:: &quot;Nos dijeron que la habitación tendría vistas y nos dieron una que daba al patio\n",
      "S07-Uf, escucha, da miedo:: &quot;Nos dijeron que la habitación tendría vistas y nos dieron una que daba al patio.\n",
      "S07-Uf, escucha, da miedo:: &quot;Nos dijeron que la habitación tendría vistas y nos dieron una que daba al patio.&\n",
      "S07-Uf, escucha, da miedo:: &quot;Nos dijeron que la habitación tendría vistas y nos dieron una que daba al patio.&quot\n",
      "S07-Uf, escucha, da miedo:: &quot;Nos dijeron que la habitación tendría vistas y nos dieron una que daba al patio.&quot;\n"
     ]
    }
   ],
   "source": [
    "sb2 = \"\"\n",
    "\n",
    "index = 0\n",
    "for token in tokens:\n",
    "    token_length = len(token)\n",
    "    pos = sb.find(token, index)\n",
    "    inter_token = sb[index:pos]\n",
    "    sb2 += inter_token + token\n",
    "    index += len(inter_token) + token_length\n",
    "    print(sb2)"
   ]
  },
  {
   "cell_type": "code",
   "execution_count": 427,
   "id": "944f2645-a58c-4c0f-8751-896ee5dd2a17",
   "metadata": {},
   "outputs": [
    {
     "data": {
      "text/plain": [
       "'S07-Uf, escucha, da miedo:: &quot;Nos dijeron que la habitación tendría vistas y nos dieron una que daba al patio.&quot;'"
      ]
     },
     "execution_count": 427,
     "metadata": {},
     "output_type": "execute_result"
    }
   ],
   "source": [
    "sb2"
   ]
  },
  {
   "cell_type": "code",
   "execution_count": 428,
   "id": "c92c9ede-574f-46c1-bd82-ef84804464df",
   "metadata": {},
   "outputs": [
    {
     "data": {
      "text/plain": [
       "'S07-Uf, escucha, da miedo:: &quot;Nos dijeron que la habitación tendría vistas y nos dieron una que daba al patio.&quot; '"
      ]
     },
     "execution_count": 428,
     "metadata": {},
     "output_type": "execute_result"
    }
   ],
   "source": [
    "sb"
   ]
  },
  {
   "cell_type": "code",
   "execution_count": 430,
   "id": "d838c643-7627-49b8-986e-e58db2e3283f",
   "metadata": {},
   "outputs": [
    {
     "data": {
      "text/plain": [
       "True"
      ]
     },
     "execution_count": 430,
     "metadata": {},
     "output_type": "execute_result"
    }
   ],
   "source": [
    "sb[:-1] == sb2"
   ]
  },
  {
   "cell_type": "code",
   "execution_count": 263,
   "id": "23816f9d-bfe8-42e2-ac77-a23b42c82dfc",
   "metadata": {},
   "outputs": [
    {
     "data": {
      "text/plain": [
       "('', 0, 0, 'S07', 3)"
      ]
     },
     "execution_count": 263,
     "metadata": {},
     "output_type": "execute_result"
    }
   ],
   "source": [
    "index = 0\n",
    "i = 0\n",
    "token = tokens[i]\n",
    "token_length = len(token)\n",
    "pos = sb.find(token, index)\n",
    "inter_token = sb[index:pos]\n",
    "inter_token, index, pos, token, token_length"
   ]
  },
  {
   "cell_type": "code",
   "execution_count": 264,
   "id": "17a24a34-e3d4-4823-9d95-b8f5d830bde3",
   "metadata": {},
   "outputs": [
    {
     "data": {
      "text/plain": [
       "('', 3, 0, 'S07', 3)"
      ]
     },
     "execution_count": 264,
     "metadata": {},
     "output_type": "execute_result"
    }
   ],
   "source": [
    "index += len(inter_token) + token_length\n",
    "inter_token, index, pos, token, token_length"
   ]
  },
  {
   "cell_type": "code",
   "execution_count": 265,
   "id": "e2d4450a-710d-4ee1-8cba-46b406416c4a",
   "metadata": {},
   "outputs": [
    {
     "data": {
      "text/plain": [
       "'-Uf, escucha, da miedo:: &quot;Nos dijeron que la habitación tendría vistas y nos dieron una que daba al patio.&quot; '"
      ]
     },
     "execution_count": 265,
     "metadata": {},
     "output_type": "execute_result"
    }
   ],
   "source": [
    "sb[index:]"
   ]
  },
  {
   "cell_type": "code",
   "execution_count": 423,
   "id": "782b1a14-6a39-4120-a6fb-0a8d16c54d63",
   "metadata": {},
   "outputs": [],
   "source": [
    "i+=1"
   ]
  },
  {
   "cell_type": "code",
   "execution_count": 424,
   "id": "8b1f53b1-7322-4d1b-962a-d55738a1d8b3",
   "metadata": {},
   "outputs": [
    {
     "ename": "IndexError",
     "evalue": "list index out of range",
     "output_type": "error",
     "traceback": [
      "\u001b[0;31m---------------------------------------------------------------------------\u001b[0m",
      "\u001b[0;31mIndexError\u001b[0m                                Traceback (most recent call last)",
      "Cell \u001b[0;32mIn[424], line 1\u001b[0m\n\u001b[0;32m----> 1\u001b[0m token \u001b[38;5;241m=\u001b[39m \u001b[43mtokens\u001b[49m\u001b[43m[\u001b[49m\u001b[43mi\u001b[49m\u001b[43m]\u001b[49m\n\u001b[1;32m      2\u001b[0m token_length \u001b[38;5;241m=\u001b[39m \u001b[38;5;28mlen\u001b[39m(token)\n\u001b[1;32m      3\u001b[0m pos \u001b[38;5;241m=\u001b[39m sb\u001b[38;5;241m.\u001b[39mfind(token, index)\n",
      "\u001b[0;31mIndexError\u001b[0m: list index out of range"
     ]
    }
   ],
   "source": [
    "token = tokens[i]\n",
    "token_length = len(token)\n",
    "pos = sb.find(token, index)\n",
    "inter_token = sb[index:pos]\n",
    "print(f\"inter_token : '{inter_token}', index : {index}, pos : {pos}, token : '{token}', token_length : {token_length}\")"
   ]
  },
  {
   "cell_type": "code",
   "execution_count": 420,
   "id": "d6b7524c-c7d0-4e3c-a38e-da1ee996791c",
   "metadata": {},
   "outputs": [
    {
     "data": {
      "text/plain": [
       "31"
      ]
     },
     "execution_count": 420,
     "metadata": {},
     "output_type": "execute_result"
    }
   ],
   "source": [
    "i"
   ]
  },
  {
   "cell_type": "code",
   "execution_count": 421,
   "id": "f54f3fb2-e09e-4282-b5bb-73c545ccb60f",
   "metadata": {},
   "outputs": [
    {
     "name": "stdout",
     "output_type": "stream",
     "text": [
      "inter_token : '', index : 120, pos : 119, token : ';', token_length : 1\n"
     ]
    }
   ],
   "source": [
    "index += len(inter_token) + token_length\n",
    "print(f\"inter_token : '{inter_token}', index : {index}, pos : {pos}, token : '{token}', token_length : {token_length}\")"
   ]
  },
  {
   "cell_type": "code",
   "execution_count": 422,
   "id": "cc05bb7c-ea8c-4c87-87f7-85e763857ca8",
   "metadata": {},
   "outputs": [
    {
     "data": {
      "text/plain": [
       "' '"
      ]
     },
     "execution_count": 422,
     "metadata": {},
     "output_type": "execute_result"
    }
   ],
   "source": [
    "sb[index:]"
   ]
  },
  {
   "cell_type": "code",
   "execution_count": 252,
   "id": "7ac199b0-d9e6-49b7-81a6-df2cb9f93a19",
   "metadata": {},
   "outputs": [
    {
     "data": {
      "text/plain": [
       "0"
      ]
     },
     "execution_count": 252,
     "metadata": {},
     "output_type": "execute_result"
    }
   ],
   "source": [
    "pos"
   ]
  },
  {
   "cell_type": "code",
   "execution_count": 242,
   "id": "29372fbe-abbe-454e-b48d-f3236b1c3b96",
   "metadata": {},
   "outputs": [
    {
     "data": {
      "text/plain": [
       "'que la habitación tendría vistas y nos dieron una que daba al patio.&quot; '"
      ]
     },
     "execution_count": 242,
     "metadata": {},
     "output_type": "execute_result"
    }
   ],
   "source": [
    "sb[46:]"
   ]
  },
  {
   "cell_type": "code",
   "execution_count": 258,
   "id": "57ef6295-8c6e-41b1-9e0b-5929d93b7aab",
   "metadata": {},
   "outputs": [
    {
     "data": {
      "text/plain": [
       "6"
      ]
     },
     "execution_count": 258,
     "metadata": {},
     "output_type": "execute_result"
    }
   ],
   "source": [
    "index"
   ]
  },
  {
   "cell_type": "code",
   "execution_count": 261,
   "id": "d2458394-122d-4cdf-b41a-68f77e858d19",
   "metadata": {},
   "outputs": [
    {
     "data": {
      "text/plain": [
       "'Uf'"
      ]
     },
     "execution_count": 261,
     "metadata": {},
     "output_type": "execute_result"
    }
   ],
   "source": [
    "tokens[2]"
   ]
  },
  {
   "cell_type": "code",
   "execution_count": 494,
   "id": "82aa46b0-9955-4a7a-b79c-908ee6d24958",
   "metadata": {},
   "outputs": [
    {
     "name": "stdout",
     "output_type": "stream",
     "text": [
      "-----------------\n",
      "2\n",
      "26, S01-¿De dóndeeres, Montse?\n",
      "28, S01-¿De dónde eres, Montse?\n",
      "--------------------\n",
      "-----------------\n",
      "2\n",
      "29, S03-Pero yo nacíen Barcelona.\n",
      "31, S03-Pero yo nací en Barcelona.\n",
      "--------------------\n",
      "-----------------\n",
      "5\n",
      "55, S04-Ejem…, el inglés lo leo, pero no lo hablo muy bien.\n",
      "55, S04-Ejem, el inglés lo leo, pero no lo hablo muy bien.\n",
      "--------------------\n",
      "-----------------\n",
      "5\n",
      "57, S05-Sí, claro… Y el francés, ¿lo habla o solo lo escribe?\n",
      "57, S05-Sí, claro Y el francés, ¿lo habla o solo lo escribe?\n",
      "--------------------\n",
      "-----------------\n",
      "6\n",
      "37, S00-TITLE-A las siete… ¡de la mañana!\n",
      "37, S00-TITLE-A las siete ¡de la mañana!\n",
      "--------------------\n",
      "-----------------\n",
      "6\n",
      "53, S06-Gracias, pero termino a las siete… ¡de la mañana!\n",
      "53, S06-Gracias, pero termino a las siete ¡de la mañana!\n",
      "--------------------\n",
      "-----------------\n",
      "7\n",
      "30, S02-Bien, gracias... ¿Y usted?\n",
      "33, S02-Bien, gracias… ¿Y usted?\n",
      "--------------------\n",
      "-----------------\n",
      "7\n",
      "36, S04-Sí, claro… Yo soy Javier. ¿Y tú?\n",
      "36, S04-Sí, claro Yo soy Javier. ¿Y tú?\n",
      "--------------------\n",
      "-----------------\n",
      "7\n",
      "38, S08-Lo leo, pero no lo hablo muy bien…\n",
      "37, S08-Lo leo, pero no lo hablo muy bien\n",
      "--------------------\n",
      "-----------------\n",
      "7\n",
      "39, S10-Ejem… gracias, pero estoy pachucho.\n",
      "39, S10-Ejem gracias, pero estoy pachucho.\n",
      "--------------------\n",
      "Attribute Error with file : .DS_Store\n",
      "-----------------\n",
      "8\n",
      "83, S02-¡No quiero tarta, no quiero regalos, no quiero nada! Solo quiero ser más joven…\n",
      "82, S02-¡No quiero tarta, no quiero regalos, no quiero nada! Solo quiero ser más joven\n",
      "--------------------\n",
      "-----------------\n",
      "8\n",
      "70, S06-Bueno… ¿Por qué no una botellita de coñac? Es un regalo útil, ¿no?\n",
      "70, S06-Bueno ¿Por qué no una botellita de coñac? Es un regalo útil, ¿no?\n",
      "--------------------\n",
      "-----------------\n",
      "8\n",
      "42, T03-Soy viejo: tengo ochenta y nueve años.\n",
      "42, T03-Soy viejo tengo ochenta y nueve años.\n",
      "--------------------\n",
      "Attribute Error with file : .DS_Store\n",
      "-----------------\n",
      "10\n",
      "64, S07-Un poco, sí … ¡Pero se sabe que los españoles duermen poco! \n",
      "62, S07-Un poco, sí ¡Pero se sabe que los españoles duermen poco!\n",
      "--------------------\n",
      "-----------------\n",
      "11\n",
      "43, S09-Muchas gracias, sois todos muy amables…\n",
      "42, S09-Muchas gracias, sois todos muy amables\n",
      "--------------------\n",
      "-----------------\n",
      "11\n",
      "57, T02-Yo tampoco te puedo ayudar: estoy haciendo la tarea. \n",
      "56, T02-Yo tampoco te puedo ayudar estoy haciendo la tarea.\n",
      "--------------------\n",
      "-----------------\n",
      "12\n",
      "57, S03-Hay patatas a la brava, ensaladilla… ¡Tengo de todo! \n",
      "56, S03-Hay patatas a la brava, ensaladilla ¡Tengo de todo!\n",
      "--------------------\n",
      "-----------------\n",
      "12\n",
      "101, S04-Si os gusta el pescado, también hay bacalao con tomate, calamares fritos, boquerones en vinagre… \n",
      "99, S04-Si os gusta el pescado, también hay bacalao con tomate, calamares fritos, boquerones en vinagre\n",
      "--------------------\n",
      "-----------------\n",
      "13\n",
      "63, S02-Mi mujer está cansada: no quiere hacer nada ni ver a nadie.\n",
      "63, S02-Mi mujer está cansada no quiere hacer nada ni ver a nadie.\n",
      "--------------------\n",
      "-----------------\n",
      "14\n",
      "81, S08-Seis, más o menos: me acuesto a la una de la mañana y me levanto a las siete.\n",
      "81, S08-Seis, más o menos me acuesto a la una de la mañana y me levanto a las siete.\n",
      "--------------------\n",
      "-----------------\n",
      "14\n",
      "33, S10-¡Sí, por favor: un café solo!\n",
      "33, S10-¡Sí, por favor un café solo!\n",
      "--------------------\n",
      "-----------------\n",
      "15\n",
      "72, S05-Pues porque es usted tan alta, tan rubia y con esos ojos tan azules…\n",
      "71, S05-Pues porque es usted tan alta, tan rubia y con esos ojos tan azules\n",
      "--------------------\n",
      "-----------------\n",
      "15\n",
      "35, S06-Soy alemana, sí, nacíen Berlín.\n",
      "37, S06-Soy alemana, sí, nací en Berlín.\n",
      "--------------------\n",
      "-----------------\n",
      "16\n",
      "72, S05-Cuando van al restaurante, ella siempre pidecarne con patatas fritas\n",
      "73, S05-Cuando van al restaurante, ella siempre pide carne con patatas fritas\n",
      "--------------------\n",
      "-----------------\n",
      "17\n",
      "39, S00-TITLE-Comprando zapatos (1.a parte)\n",
      "38, S00-TITLE-Comprando zapatos 1. a parte\n",
      "--------------------\n",
      "-----------------\n",
      "17\n",
      "48, S04-Ah, lo siento mucho… Ejem, qué número calza?\n",
      "48, S04-Ah, lo siento mucho Ejem, qué número calza?\n",
      "--------------------\n",
      "-----------------\n",
      "17\n",
      "60, S08-Sí, no están mal, pero… ¡ay! Me quedan un poco pequeños.\n",
      "60, S08-Sí, no están mal, pero ¡ay! Me quedan un poco pequeños.\n",
      "--------------------\n",
      "-----------------\n",
      "18\n",
      "39, S00-TITLE-Comprando zapatos (2.a parte)\n",
      "38, S00-TITLE-Comprando zapatos 2. a parte\n",
      "--------------------\n",
      "-----------------\n",
      "18\n",
      "73, S01-A ver… ¿Quiere probarse estos zapatos marrones? Son bastante cómodos.\n",
      "73, S01-A ver ¿Quiere probarse estos zapatos marrones? Son bastante cómodos.\n",
      "--------------------\n",
      "-----------------\n",
      "18\n",
      "73, S04-De su número solo me queda aquel par de color rojo, en el escaparate…\n",
      "72, S04-De su número solo me queda aquel par de color rojo, en el escaparate\n",
      "--------------------\n",
      "-----------------\n",
      "18\n",
      "28, S07-Es que estoy tan triste…\n",
      "27, S07-Es que estoy tan triste\n",
      "--------------------\n",
      "-----------------\n",
      "18\n",
      "58, T03-A ver… Me queda este par: es bastante cómodo y alegre.\n",
      "57, T03-A ver Me queda este par es bastante cómodo y alegre.\n",
      "--------------------\n",
      "-----------------\n",
      "22\n",
      "59, S07-Ay, qué vida… Bueno, me voy, tengo que hacer la compra.\n",
      "59, S07-Ay, qué vida Bueno, me voy, tengo que hacer la compra.\n",
      "--------------------\n",
      "-----------------\n",
      "23\n",
      "73, S08-No me interesa, lo siento… Si quieres, apúntame a clases de guitarra.\n",
      "73, S08-No me interesa, lo siento Si quieres, apúntame a clases de guitarra.\n",
      "--------------------\n",
      "-----------------\n",
      "24\n",
      "48, T03-No hemos tenido suerte: ha hecho mal tiempo.\n",
      "48, T03-No hemos tenido suerte ha hecho mal tiempo.\n",
      "--------------------\n",
      "-----------------\n",
      "25\n",
      "36, S01-Nunca tomo vacaciones en verano:\n",
      "35, S01-Nunca tomo vacaciones en verano\n",
      "--------------------\n",
      "-----------------\n",
      "25\n",
      "37, S07-Y si tengo ganas de mejortiempo, \n",
      "38, S07-Y si tengo ganas de mejor tiempo,\n",
      "--------------------\n",
      "-----------------\n",
      "25\n",
      "54, T01-Me encanta el sur: allí siempre hace buen tiempo. \n",
      "53, T01-Me encanta el sur allí siempre hace buen tiempo.\n",
      "--------------------\n",
      "-----------------\n",
      "26\n",
      "38, S01-¡Papá, mira lo queme han regalado!\n",
      "40, S01-¡Papá, mira lo que me han regalado!\n",
      "--------------------\n",
      "-----------------\n",
      "26\n",
      "70, S02-¡Ni hablar! Te lo he dicho mil veces: no quiero animales en casa. \n",
      "69, S02-¡Ni hablar! Te lo he dicho mil veces no quiero animales en casa.\n",
      "--------------------\n",
      "-----------------\n",
      "26\n",
      "40, S04-No hace nada, míralo: es buenísimo. \n",
      "39, S04-No hace nada, míralo es buenísimo.\n",
      "--------------------\n",
      "-----------------\n",
      "26\n",
      "56, S08-Sí, claro… ¡Madre mía, qué paciencia hay que tener! \n",
      "55, S08-Sí, claro ¡Madre mía, qué paciencia hay que tener!\n",
      "--------------------\n",
      "-----------------\n",
      "26\n",
      "40, S09-En fin… ¿Cómo se llama ese angelito?\n",
      "40, S09-En fin ¿Cómo se llama ese angelito?\n",
      "--------------------\n",
      "-----------------\n",
      "26\n",
      "25, S10-Ejem, se llama Atila…\n",
      "24, S10-Ejem, se llama Atila\n",
      "--------------------\n",
      "-----------------\n",
      "26\n",
      "61, T02-Ya te lo he dicho: ¡ni hablar de tener animales en casa! \n",
      "60, T02-Ya te lo he dicho ¡ni hablar de tener animales en casa!\n",
      "--------------------\n",
      "-----------------\n",
      "27\n",
      "60, S02-Sí, pero qué mesa más grande y más fea… Parece un ataúd.\n",
      "60, S02-Sí, pero qué mesa más grande y más fea Parece un ataúd.\n",
      "--------------------\n",
      "-----------------\n",
      "27\n",
      "70, S04-Es el dormitorio más pequeño y más oscuro que he visto en mi vida…\n",
      "69, S04-Es el dormitorio más pequeño y más oscuro que he visto en mi vida\n",
      "--------------------\n",
      "-----------------\n",
      "28\n",
      "39, S05-Bueno bueno… ¿Y qué tal la familia?\n",
      "39, S05-Bueno bueno ¿Y qué tal la familia?\n",
      "--------------------\n",
      "-----------------\n",
      "28\n",
      "24, S07-Madre mía, qué vida…\n",
      "23, S07-Madre mía, qué vida\n",
      "--------------------\n",
      "-----------------\n",
      "29\n",
      "88, S02-Sacándolo de ida y vuelta tiene usted el 25 % (veinticinco por ciento) de descuento.\n",
      "87, S02-Sacándolo de ida y vuelta tiene usted el 25 (veinticinco) por ciento de descuento.\n",
      "--------------------\n",
      "-----------------\n",
      "29\n",
      "80, S06-¡Pues preferente entonces! Pero, qué cabeza tengo…, no encuentro la tarjeta.\n",
      "80, S06-¡Pues preferente entonces! Pero, qué cabeza tengo, no encuentro la tarjeta.\n",
      "--------------------\n",
      "-----------------\n",
      "29\n",
      "20, S09-Apunte: XH553WB.\n",
      "20, S09-Apunte XH553WB.\n",
      "--------------------\n",
      "-----------------\n",
      "30\n",
      "76, S01-Nochebuena, Nochevieja, Reyes… ¡Tengo ganas de que acaben estas fiestas!\n",
      "76, S01-Nochebuena, Nochevieja, Reyes ¡Tengo ganas de que acaben estas fiestas!\n",
      "--------------------\n",
      "-----------------\n",
      "30\n",
      "66, T02-Nochebuena y Nochevieja son fechas bonitas: me divierto mucho.\n",
      "66, T02-Nochebuena y Nochevieja son fechas bonitas me divierto mucho.\n",
      "--------------------\n",
      "-----------------\n",
      "31\n",
      "58, S02-Espera un segundo. Sí, estoy seguro de que te conozco…\n",
      "57, S02-Espera un segundo. Sí, estoy seguro de que te conozco\n",
      "--------------------\n",
      "-----------------\n",
      "31\n",
      "56, S05-¡Prima, cómo has cambiado! Estás… ¡estás guapísima! \n",
      "55, S05-¡Prima, cómo has cambiado! Estás ¡estás guapísima!\n",
      "--------------------\n",
      "-----------------\n",
      "31\n",
      "75, S08-Rápido, apunta: seis cinco cuatro, veintiuno, setenta y siete, ochenta.\n",
      "75, S08-Rápido, apunta seis cinco cuatro, veintiuno, setenta y siete, ochenta.\n",
      "--------------------\n",
      "-----------------\n",
      "31\n",
      "54, S09-Tenemos que quedar, ¿eh? Estás… ¡estás estupenda! \n",
      "53, S09-Tenemos que quedar, ¿eh? Estás ¡estás estupenda!\n",
      "--------------------\n",
      "-----------------\n",
      "32\n",
      "89, T04-Tienes una llamada de tu primo: ¿quieres contestar o le digo que no estás disponible?\n",
      "89, T04-Tienes una llamada de tu primo ¿quieres contestar o le digo que no estás disponible?\n",
      "--------------------\n",
      "-----------------\n",
      "33\n",
      "59, T02-¿Qué carne le apetece: pollo asado, cordero o ternera? \n",
      "58, T02-¿Qué carne le apetece pollo asado, cordero o ternera?\n",
      "--------------------\n",
      "-----------------\n",
      "33\n",
      "110, T03-Prefiero una guarnición más ligera: ¿me puede cambiar las patatas fritas por patatas al horno, por favor? \n",
      "109, T03-Prefiero una guarnición más ligera ¿me puede cambiar las patatas fritas por patatas al horno, por favor?\n",
      "--------------------\n",
      "-----------------\n",
      "33\n",
      "75, T04-No tengo mucha hambre: quisiera un pescado a la plancha y una ensalada.\n",
      "75, T04-No tengo mucha hambre quisiera un pescado a la plancha y una ensalada.\n",
      "--------------------\n",
      "-----------------\n",
      "33\n",
      "87, T05-Mi marido no bebe alcohol: traiga una jarra de agua para él y un buen vino para mí.\n",
      "87, T05-Mi marido no bebe alcohol traiga una jarra de agua para él y un buen vino para mí.\n",
      "--------------------\n",
      "-----------------\n",
      "34\n",
      "42, S04-Disculpe, señora, ¿es suyaesta maleta?\n",
      "44, S04-Disculpe, señora, ¿es suya esta maleta?\n",
      "--------------------\n",
      "-----------------\n",
      "34\n",
      "56, S07-Disculpe que vuelva a molestarla: ¿es suyo el gato? \n",
      "55, S07-Disculpe que vuelva a molestarla ¿es suyo el gato?\n",
      "--------------------\n",
      "-----------------\n",
      "34\n",
      "75, S09-Oh, ¿de veras? Es que le gusta tanto ver el despegue por la ventanilla…\n",
      "74, S09-Oh, ¿de veras? Es que le gusta tanto ver el despegue por la ventanilla\n",
      "--------------------\n",
      "-----------------\n",
      "35\n",
      "104, S10-En absoluto, lo siento. Solo tengo ganas de algo ligero: un puré de verduras, agua con gas y dormir.\n",
      "104, S10-En absoluto, lo siento. Solo tengo ganas de algo ligero un puré de verduras, agua con gas y dormir.\n",
      "--------------------\n",
      "-----------------\n",
      "37\n",
      "42, S00-TITLE-Vengo por el anuncio (1.a parte)\n",
      "41, S00-TITLE-Vengo por el anuncio 1. a parte\n",
      "--------------------\n",
      "-----------------\n",
      "38\n",
      "42, S00-TITLE-Vengo por el anuncio (2.a parte)\n",
      "41, S00-TITLE-Vengo por el anuncio 2. a parte\n",
      "--------------------\n",
      "-----------------\n",
      "38\n",
      "68, S01-Precisamente, no creo que su estilo sea el de nuestra tienda... \n",
      "67, S01-Precisamente, no creo que su estilo sea el de nuestra tienda…\n",
      "--------------------\n",
      "-----------------\n",
      "38\n",
      "34, S03-Y ustedlleva ropa muy clásica.\n",
      "36, S03-Y usted lleva ropa muy clásica.\n",
      "--------------------\n",
      "-----------------\n",
      "38\n",
      "58, S04-¡En absoluto! Me he vestido asípara parecer más seria.\n",
      "60, S04-¡En absoluto! Me he vestido así para parecer más seria.\n",
      "--------------------\n",
      "-----------------\n",
      "39\n",
      "44, S00-TITLE-Ven conmigo a Santiago (1.a parte)\n",
      "43, S00-TITLE-Ven conmigo a Santiago 1. a parte\n",
      "--------------------\n",
      "-----------------\n",
      "39\n",
      "87, S02-Pues mira, estoy buscando a alguien para hacer el Camino de Santiago: ¡ven conmigo!\n",
      "87, S02-Pues mira, estoy buscando a alguien para hacer el Camino de Santiago ¡ven conmigo!\n",
      "--------------------\n",
      "-----------------\n",
      "40\n",
      "44, S00-TITLE-Ven conmigo a Santiago (2.a parte)\n",
      "43, S00-TITLE-Ven conmigo a Santiago 2. a parte\n",
      "--------------------\n",
      "-----------------\n",
      "40\n",
      "63, T04-No pienses en el móvil: disfruta del cielo y de las nubes. \n",
      "62, T04-No pienses en el móvil disfruta del cielo y de las nubes.\n",
      "--------------------\n",
      "-----------------\n",
      "41\n",
      "78, S05-Asturias es la región más verde de España: tiene montañas, bosques y ríos.\n",
      "78, S05-Asturias es la región más verde de España tiene montañas, bosques y ríos.\n",
      "--------------------\n",
      "-----------------\n",
      "41\n",
      "89, S08-Pues entonces ten cuidado con el Cabrales: ¡es un queso de allí que huele muy fuerte!\n",
      "89, S08-Pues entonces ten cuidado con el Cabrales ¡es un queso de allí que huele muy fuerte!\n",
      "--------------------\n",
      "-----------------\n",
      "42\n",
      "99, S11-Mire, no creo que sea capaz… Estoy demasiado gordo y me cuesta trabajo hasta subir la escalera.\n",
      "99, S11-Mire, no creo que sea capaz Estoy demasiado gordo y me cuesta trabajo hasta subir la escalera.\n",
      "--------------------\n",
      "-----------------\n",
      "42\n",
      "28, S13-Sí, tal vez tenga razón…\n",
      "27, S13-Sí, tal vez tenga razón\n",
      "--------------------\n",
      "-----------------\n",
      "43\n",
      "58, S06-después encontrar un buzón o ir a Correos… ¡Qué rollo!\n",
      "58, S06-después encontrar un buzón o ir a Correos ¡Qué rollo!\n",
      "--------------------\n",
      "-----------------\n",
      "43\n",
      "40, S09-Espera, acabo de recibir un mensaje…\n",
      "39, S09-Espera, acabo de recibir un mensaje\n",
      "--------------------\n",
      "-----------------\n",
      "43\n",
      "80, S11-Oye, dime una cosa… Y cuando no existían las redes sociales, ¿tú qué hacías?\n",
      "80, S11-Oye, dime una cosa Y cuando no existían las redes sociales, ¿tú qué hacías?\n",
      "--------------------\n",
      "-----------------\n",
      "43\n",
      "80, T03-Qué rollo: no hay ningún buzón por aquí y voy a tener que ir hasta Correos. \n",
      "79, T03-Qué rollo no hay ningún buzón por aquí y voy a tener que ir hasta Correos.\n",
      "--------------------\n",
      "-----------------\n",
      "44\n",
      "51, S02-Anda, Gerardo, cuánto tiempo… Te veo fenomenal.\n",
      "51, S02-Anda, Gerardo, cuánto tiempo Te veo fenomenal.\n",
      "--------------------\n",
      "-----------------\n",
      "44\n",
      "35, S03-Y yo a ti te noto cara triste… \n",
      "33, S03-Y yo a ti te noto cara triste\n",
      "--------------------\n",
      "-----------------\n",
      "44\n",
      "53, S06-No, por favor, es inútil. No estoy para chistes .\n",
      "53, S06-No, por favor, es inútil. No estoy para chistes.\n",
      "--------------------\n",
      "-----------------\n",
      "44\n",
      "109, S07-Es buenísimo, escucha: cae una avioneta en el cementerio de Lepe. Ya han recuperado setecientos cuerpos. \n",
      "108, S07-Es buenísimo, escucha cae una avioneta en el cementerio de Lepe. Ya han recuperado setecientos cuerpos.\n",
      "--------------------\n",
      "-----------------\n",
      "44\n",
      "109, S10-Tengo otro, espera. Suicidio en Lepe: mata a su hermano gemelo. ¡Ja ja, ja, al hermano gemelo, qué tonto!\n",
      "109, S10-Tengo otro, espera. Suicidio en Lepe mata a su hermano gemelo. ¡Ja ja, ja, al hermano gemelo, qué tonto!\n",
      "--------------------\n",
      "-----------------\n",
      "44\n",
      "40, T03-Te noto cara triste: ¿te pasa algo? \n",
      "39, T03-Te noto cara triste ¿te pasa algo?\n",
      "--------------------\n",
      "-----------------\n",
      "44\n",
      "60, T04-Ando regular, sí, y no estoy para chistes: ¡hasta luego!\n",
      "60, T04-Ando regular, sí, y no estoy para chistes ¡hasta luego!\n",
      "--------------------\n",
      "-----------------\n",
      "44\n",
      "56, T05-Tus chistes no tienen gracia: ¿por qué no te callas?\n",
      "56, T05-Tus chistes no tienen gracia ¿por qué no te callas?\n",
      "--------------------\n",
      "-----------------\n",
      "45\n",
      "45, S01-Los archivos están en la carpeta “fotos”.\n",
      "44, S01-Los archivos están en la carpeta fotos.\n",
      "--------------------\n",
      "-----------------\n",
      "45\n",
      "59, T04-Este ordenador no se enciende: póngase en otro equipo. \n",
      "58, T04-Este ordenador no se enciende póngase en otro equipo.\n",
      "--------------------\n",
      "-----------------\n",
      "46\n",
      "111, S04-Lo tenía todo dentro, mi vida entera: el DNI, las llaves, la cartera, las gafas de sol, la barra de labios…\n",
      "109, S04-Lo tenía todo dentro, mi vida entera el DNI, las llaves, la cartera, las gafas de sol, la barra de labios\n",
      "--------------------\n",
      "-----------------\n",
      "46\n",
      "50, S06-Iba en moto, llevaba un chándal y deportivas… \n",
      "48, S06-Iba en moto, llevaba un chándal y deportivas\n",
      "--------------------\n",
      "-----------------\n",
      "46\n",
      "97, S07-Tenía el pelo largo, anillos en los dedos y un tatuaje en el brazo que decía “Amor de madre”.\n",
      "96, S07-Tenía el pelo largo, anillos en los dedos y un tatuaje en el brazo que decía Amor de madre.\n",
      "--------------------\n",
      "-----------------\n",
      "46\n",
      "74, S09-Sí, también quería denunciar que me han robado el perro esta mañana...\n",
      "77, S09-Sí, también quería denunciar que me han robado el perro esta mañana…\n",
      "--------------------\n",
      "-----------------\n",
      "46\n",
      "24, S13-Debe de ser por eso…\n",
      "23, S13-Debe de ser por eso\n",
      "--------------------\n",
      "-----------------\n",
      "46\n",
      "54, T01-Quiero poner una denuncia: me han robado el bolso.\n",
      "54, T01-Quiero poner una denuncia me han robado el bolso.\n",
      "--------------------\n",
      "-----------------\n",
      "47\n",
      "54, S02-Sí. Van cerrando los restaurantes de toda la vida…\n",
      "53, S02-Sí. Van cerrando los restaurantes de toda la vida\n",
      "--------------------\n",
      "-----------------\n",
      "47\n",
      "49, S05-Daban lentejas los lunes, cocido los martes… \n",
      "47, S05-Daban lentejas los lunes, cocido los martes\n",
      "--------------------\n",
      "-----------------\n",
      "48\n",
      "55, S01-Hijo mío, llevas horas en el sillón viendo la tele…\n",
      "54, S01-Hijo mío, llevas horas en el sillón viendo la tele\n",
      "--------------------\n",
      "-----------------\n",
      "48\n",
      "70, S11-Pues no sé… Jugar un rato con la consola o conectarme al facebook.\n",
      "70, S11-Pues no sé Jugar un rato con la consola o conectarme al facebook.\n",
      "--------------------\n",
      "-----------------\n",
      "49\n",
      "107, S03-La gente se vuelve vaga: nadie tiene ganas de ir por un sello al estanco o por un sobre a la papelería.\n",
      "107, S03-La gente se vuelve vaga nadie tiene ganas de ir por un sello al estanco o por un sobre a la papelería.\n",
      "--------------------\n",
      "-----------------\n",
      "49\n",
      "74, S04-Yo tampoco escribo mucho, sabes, tal vez una postal de vez en cuando… \n",
      "72, S04-Yo tampoco escribo mucho, sabes, tal vez una postal de vez en cuando\n",
      "--------------------\n",
      "-----------------\n",
      "49\n",
      "75, S06-Claro, hoy mandas un mensaje y ya está: la persona se entera enseguida.\n",
      "75, S06-Claro, hoy mandas un mensaje y ya está la persona se entera enseguida.\n",
      "--------------------\n",
      "-----------------\n",
      "49\n",
      "98, S07-Sí, pero lo bueno de las cartas era que estaban ahí para siempre y las podías volver a leer...\n",
      "101, S07-Sí, pero lo bueno de las cartas era que estaban ahí para siempre y las podías volver a leer…\n",
      "--------------------\n",
      "-----------------\n",
      "49\n",
      "42, S09-Pues es un poco lo que me ha ocurrido…\n",
      "41, S09-Pues es un poco lo que me ha ocurrido\n",
      "--------------------\n",
      "-----------------\n",
      "49\n",
      "99, S10-Me han robado el bolso con todo lo que había dentro: las llaves, la cartera, el DNI y el móvil.\n",
      "99, S10-Me han robado el bolso con todo lo que había dentro las llaves, la cartera, el DNI y el móvil.\n",
      "--------------------\n",
      "-----------------\n",
      "49\n",
      "40, S11-Y en el móvil tenía todas mis fotos…\n",
      "39, S11-Y en el móvil tenía todas mis fotos\n",
      "--------------------\n",
      "-----------------\n",
      "49\n",
      "9, S12-Vaya…\n",
      "8, S12-Vaya\n",
      "--------------------\n",
      "-----------------\n",
      "51\n",
      "34, S02-EstuveenMéxico el año pasado. \n",
      "36, S02-Estuve en México el año pasado.\n",
      "--------------------\n",
      "-----------------\n",
      "51\n",
      "74, S14-Por ejemplo, para pagar basta con preguntar: “Camarero, ¿qué se debe?”\n",
      "72, S14-Por ejemplo, para pagar basta con preguntar Camarero, ¿qué se debe?\n",
      "--------------------\n",
      "-----------------\n",
      "51\n",
      "94, S15-Allí lo normal es decir: “Joven, ¿sería usted tan amable de traerme la cuenta, por favor?”\n",
      "92, S15-Allí lo normal es decir Joven, ¿sería usted tan amable de traerme la cuenta, por favor?\n",
      "--------------------\n",
      "-----------------\n",
      "51\n",
      "104, T05-Me fascinó México: el azul increíble del mar, la arena blanca de las playas, los peces de colores...\n",
      "106, T05-Me fascinó México el azul increíble del mar, la arena blanca de las playas, los peces de colores…\n",
      "--------------------\n",
      "-----------------\n",
      "52\n",
      "48, S01-No me has dicho nada de la cocina mexicana… \n",
      "46, S01-No me has dicho nada de la cocina mexicana\n",
      "--------------------\n",
      "-----------------\n",
      "52\n",
      "97, S03-¡Por supuesto que la probé! Me gustó sobre todo el mole: es una salsa de cacao y guindillas. \n",
      "96, S03-¡Por supuesto que la probé! Me gustó sobre todo el mole es una salsa de cacao y guindillas.\n",
      "--------------------\n",
      "-----------------\n",
      "52\n",
      "83, S11-Nuestras meriendas sí que las echaba de menos: un buen chocolate con churros...\n",
      "85, S11-Nuestras meriendas sí que las echaba de menos un buen chocolate con churros…\n",
      "--------------------\n",
      "-----------------\n",
      "53\n",
      "48, S03-y llamó “indios” a los hombres que encontró.\n",
      "47, S03-y llamó indios a los hombres que encontró.\n",
      "--------------------\n",
      "-----------------\n",
      "53\n",
      "84, S11-Un nuevo mundo nació el 12 de octubre de 1492 (mil cuatrocientos noventa y dos).\n",
      "83, S11-Un nuevo mundo nació el 12 de octubre de 1492 mil cuatrocientos noventa y dos.\n",
      "--------------------\n",
      "-----------------\n",
      "54\n",
      "75, S05-Fueron la mar de simpáticos: empezaron por preguntarme si quería fumar.\n",
      "75, S05-Fueron la mar de simpáticos empezaron por preguntarme si quería fumar.\n",
      "--------------------\n",
      "-----------------\n",
      "54\n",
      "35, S09-No me lo puedo creer… ¿Fumaste?\n",
      "35, S09-No me lo puedo creer ¿Fumaste?\n",
      "--------------------\n",
      "-----------------\n",
      "54\n",
      "26, S14-Por Dios… ¿Y qué pasó?\n",
      "26, S14-Por Dios ¿Y qué pasó?\n",
      "--------------------\n",
      "-----------------\n",
      "54\n",
      "33, S16-Te lo digo: el puesto es mío.\n",
      "33, S16-Te lo digo el puesto es mío.\n",
      "--------------------\n",
      "-----------------\n",
      "54\n",
      "78, T03-Quisieron hacerme caer en una trampa: me preguntaron si me apetecía fumar.\n",
      "78, T03-Quisieron hacerme caer en una trampa me preguntaron si me apetecía fumar.\n",
      "--------------------\n",
      "-----------------\n",
      "55\n",
      "68, S12-No pesa mucho, parece falsa... ¿De verdad crees que es de cuero?\n",
      "71, S12-No pesa mucho, parece falsa… ¿De verdad crees que es de cuero?\n",
      "--------------------\n",
      "-----------------\n",
      "55\n",
      "47, S13-¿Has visto la etiqueta?... ¡Hecho en China!\n",
      "51, S13-¿Has visto la etiqueta? … ¡Hecho en China!\n",
      "--------------------\n",
      "-----------------\n",
      "55\n",
      "57, S14-Amigo mío, me parece que te han dado gato por liebre…\n",
      "56, S14-Amigo mío, me parece que te han dado gato por liebre\n",
      "--------------------\n",
      "-----------------\n",
      "56\n",
      "31, S11-No, eso sí que no lo dije… \n",
      "29, S11-No, eso sí que no lo dije\n",
      "--------------------\n",
      "-----------------\n",
      "57\n",
      "52, S03-No te burles… Soñé que me iba a vivir al pueblo.\n",
      "52, S03-No te burles Soñé que me iba a vivir al pueblo.\n",
      "--------------------\n",
      "-----------------\n",
      "57\n",
      "46, S04-Eso parece más una pesadilla que un sueño…\n",
      "45, S04-Eso parece más una pesadilla que un sueño\n",
      "--------------------\n",
      "-----------------\n",
      "57\n",
      "68, S06-Si crees que la vida de pueblo es un paraíso, estás equivocado: \n",
      "66, S06-Si crees que la vida de pueblo es un paraíso, estás equivocado\n",
      "--------------------\n",
      "-----------------\n",
      "57\n",
      "76, S10-Pues, que yo sepa, tú no te pierde snunca las fiestas de tu pueblo, ¿no?\n",
      "77, S10-Pues, que yo sepa, tú no te pierdes nunca las fiestas de tu pueblo, ¿no?\n",
      "--------------------\n",
      "-----------------\n",
      "57\n",
      "41, S13-Ah, por cierto: el jefe no me sonrió.\n",
      "41, S13-Ah, por cierto el jefe no me sonrió.\n",
      "--------------------\n",
      "-----------------\n",
      "57\n",
      "89, T01-Anoche tuve una pesadilla: soñé que me iba a vivir al pueblo con mi jefe y mi cuñado.\n",
      "89, T01-Anoche tuve una pesadilla soñé que me iba a vivir al pueblo con mi jefe y mi cuñado.\n",
      "--------------------\n",
      "-----------------\n",
      "57\n",
      "62, T04-Créeme, estás equivocado: nada mejor que una gran ciudad. \n",
      "61, T04-Créeme, estás equivocado nada mejor que una gran ciudad.\n",
      "--------------------\n",
      "-----------------\n",
      "58\n",
      "92, S07-Además, no entiendo por qué ha conseguido un premio literario: está pésimamente escrito.\n",
      "92, S07-Además, no entiendo por qué ha conseguido un premio literario está pésimamente escrito.\n",
      "--------------------\n",
      "-----------------\n",
      "58\n",
      "75, S10-Desde que soy librera, nadie me había devuelto un libro por esa razón… \n",
      "73, S10-Desde que soy librera, nadie me había devuelto un libro por esa razón\n",
      "--------------------\n",
      "-----------------\n",
      "58\n",
      "53, ST04-No estoy conforme: no quiero un vale de compra. \n",
      "52, ST04-No estoy conforme no quiero un vale de compra.\n",
      "--------------------\n",
      "-----------------\n",
      "59\n",
      "104, S03-El acontecimiento de la temporada es la última obra del famoso director de “Un corazón tan frágil”. \n",
      "102, S03-El acontecimiento de la temporada es la última obra del famoso director de Un corazón tan frágil.\n",
      "--------------------\n",
      "-----------------\n",
      "59\n",
      "19, S07-Qué bruto eres…\n",
      "18, S07-Qué bruto eres\n",
      "--------------------\n",
      "-----------------\n",
      "59\n",
      "50, S08-Puede ser, pero esta vez la peli la elijo yo: \n",
      "48, S08-Puede ser, pero esta vez la peli la elijo yo\n",
      "--------------------\n",
      "-----------------\n",
      "59\n",
      "39, S14-Venga: cara ganas tú, cruz gano yo.\n",
      "39, S14-Venga cara ganas tú, cruz gano yo.\n",
      "--------------------\n",
      "-----------------\n",
      "59\n",
      "115, T02-¿Es el acontecimiento de la temporada? Puede ser, pero a mí me parece que “Un corazón tan frágil” es un rollo. \n",
      "113, T02-¿Es el acontecimiento de la temporada? Puede ser, pero a mí me parece que Un corazón tan frágil es un rollo.\n",
      "--------------------\n",
      "-----------------\n",
      "59\n",
      "63, T05-Soy un poco bruto: a mí las pelis psicológicas ni fu ni fa.\n",
      "63, T05-Soy un poco bruto a mí las pelis psicológicas ni fu ni fa.\n",
      "--------------------\n",
      "-----------------\n",
      "60\n",
      "37, S00-TITLE-Carta a un hijo (1.a parte)\n",
      "36, S00-TITLE-Carta a un hijo 1. a parte\n",
      "--------------------\n",
      "-----------------\n",
      "60\n",
      "17, S01-Querido hijo:\n",
      "16, S01-Querido hijo\n",
      "--------------------\n",
      "-----------------\n",
      "60\n",
      "54, S04-pero ya estoy tranquila: veo que has llegado bien.\n",
      "54, S04-pero ya estoy tranquila veo que has llegado bien.\n",
      "--------------------\n",
      "-----------------\n",
      "60\n",
      "64, S11-Diviértete y estudia: ¡se pueden hacer ambas cosas a la vez!\n",
      "64, S11-Diviértete y estudia ¡se pueden hacer ambas cosas a la vez!\n",
      "--------------------\n",
      "-----------------\n",
      "60\n",
      "88, S13-Aunque, claro, mi sueño es que vuelvas pronto a España y consigas un trabajo aquí...\n",
      "91, S13-Aunque, claro, mi sueño es que vuelvas pronto a España y consigas un trabajo aquí…\n",
      "--------------------\n",
      "-----------------\n",
      "60\n",
      "67, T01-Querida hija: confieso que me da tristeza que estés tan lejos. \n",
      "66, T01-Querida hija confieso que me da tristeza que estés tan lejos.\n",
      "--------------------\n",
      "-----------------\n",
      "61\n",
      "36, S00-TITLE-Carta a un hijo (2.aparte)\n",
      "36, S00-TITLE-Carta a un hijo 2. a parte\n",
      "--------------------\n",
      "-----------------\n",
      "61\n",
      "79, S02-En la foto me ha parecido que habías adelgazado y que tenías la nariz roja…\n",
      "78, S02-En la foto me ha parecido que habías adelgazado y que tenías la nariz roja\n",
      "--------------------\n",
      "-----------------\n",
      "61\n",
      "38, S03-No me mientas: ¿te has resfriado? \n",
      "37, S03-No me mientas ¿te has resfriado?\n",
      "--------------------\n",
      "-----------------\n",
      "61\n",
      "53, S04-Era de esperar… ¡Abrígate cuando sales, por Dios!\n",
      "53, S04-Era de esperar ¡Abrígate cuando sales, por Dios!\n",
      "--------------------\n",
      "-----------------\n",
      "61\n",
      "100, S05-Y no quiero ni pensar en las comidas: ¡debes de comer cualquier cosa, bocadillos, nada caliente!\n",
      "100, S05-Y no quiero ni pensar en las comidas ¡debes de comer cualquier cosa, bocadillos, nada caliente!\n",
      "--------------------\n",
      "-----------------\n",
      "61\n",
      "65, S06-Pero tengo una sorpresa: adivina con quién me encontré ayer, \n",
      "64, S06-Pero tengo una sorpresa adivina con quién me encontré ayer,\n",
      "--------------------\n",
      "-----------------\n",
      "61\n",
      "107, S10-Le voy a dar algunas cositas para ti: chorizos, latas de fabada, de aceitunas y tus calcetines de lana.\n",
      "107, S10-Le voy a dar algunas cositas para ti chorizos, latas de fabada, de aceitunas y tus calcetines de lana.\n",
      "--------------------\n",
      "-----------------\n",
      "61\n",
      "56, S11-Qué bien me cae esa chiquilla: es mona, inteligente…\n",
      "54, S11-Qué bien me cae esa chiquilla es mona, inteligente\n",
      "--------------------\n",
      "-----------------\n",
      "61\n",
      "60, S14-PD: Se me olvidaba: lo de compartir un piso está bien…, \n",
      "57, S14-PD Se me olvidaba lo de compartir un piso está bien,\n",
      "--------------------\n",
      "-----------------\n",
      "61\n",
      "79, T02-Te voy a mandar algunas cositas: latas, aceitunas y tus calcetines de lana.\n",
      "79, T02-Te voy a mandar algunas cositas latas, aceitunas y tus calcetines de lana.\n",
      "--------------------\n",
      "-----------------\n",
      "61\n",
      "93, T04-No me mientas: estoy segura de que comes cualquier cosa, solo bocadillos, nada caliente. \n",
      "92, T04-No me mientas estoy segura de que comes cualquier cosa, solo bocadillos, nada caliente.\n",
      "--------------------\n",
      "-----------------\n",
      "62\n",
      "20, S00-TITLE-Animales… \n",
      "18, S00-TITLE-Animales\n",
      "--------------------\n",
      "-----------------\n",
      "62\n",
      "72, S03-Es con relación al anuncio “Busco persona para pasear a mi perro ”. \n",
      "69, S03-Es con relación al anuncio Busco persona para pasear a mi perro.\n",
      "--------------------\n",
      "-----------------\n",
      "62\n",
      "39, S08-Veo que usted entiende de animales…\n",
      "38, S08-Veo que usted entiende de animales\n",
      "--------------------\n",
      "-----------------\n",
      "62\n",
      "78, S11-Bueno, tengo dos carreras y soy maestra, pero estoy desempleada, ya sabe… \n",
      "76, S11-Bueno, tengo dos carreras y soy maestra, pero estoy desempleada, ya sabe\n",
      "--------------------\n",
      "-----------------\n",
      "62\n",
      "61, S12-¿De modo que usted tambiénFpuede dar clases particulares?\n",
      "62, S12-¿De modo que usted también puede dar clases particulares?\n",
      "--------------------\n",
      "-----------------\n",
      "62\n",
      "90, S15-Además, son muy revoltosos y a la última canguro la volvieron loca. No va a ser fácil…\n",
      "89, S15-Además, son muy revoltosos y a la última canguro la volvieron loca. No va a ser fácil\n",
      "--------------------\n",
      "-----------------\n",
      "62\n",
      "87, T02-Pasear a un perro no es solo sacarlo a la calle: es correr, jugar y saltar con él. \n",
      "86, T02-Pasear a un perro no es solo sacarlo a la calle es correr, jugar y saltar con él.\n",
      "--------------------\n",
      "-----------------\n",
      "63\n",
      "12, S02-Ni idea…\n",
      "11, S02-Ni idea\n",
      "--------------------\n",
      "-----------------\n",
      "63\n",
      "81, S08-Pero por fin ha tenido suerte: le han dado una beca y se marcha a Inglaterra.\n",
      "81, S08-Pero por fin ha tenido suerte le han dado una beca y se marcha a Inglaterra.\n",
      "--------------------\n",
      "-----------------\n",
      "63\n",
      "122, S12-Pues estás muy equivocado: si tienes la oportunidad de realizar una estancia en el extranjero tienes que aprovecharla.\n",
      "122, S12-Pues estás muy equivocado si tienes la oportunidad de realizar una estancia en el extranjero tienes que aprovecharla.\n",
      "--------------------\n",
      "-----------------\n",
      "63\n",
      "63, S13-Y no quiero ni pensar en la comida inglesa: ¡qué pesadilla!\n",
      "63, S13-Y no quiero ni pensar en la comida inglesa ¡qué pesadilla!\n",
      "--------------------\n",
      "-----------------\n",
      "64\n",
      "47, S02-Acabo de suspender por quinta vez el carné…\n",
      "46, S02-Acabo de suspender por quinta vez el carné\n",
      "--------------------\n",
      "-----------------\n",
      "64\n",
      "14, S13-Me caigo… \n",
      "12, S13-Me caigo\n",
      "--------------------\n",
      "-----------------\n",
      "64\n",
      "66, S14-Me parece que lo que a ti te hace falta no es una autoescuela…\n",
      "65, S14-Me parece que lo que a ti te hace falta no es una autoescuela\n",
      "--------------------\n",
      "-----------------\n",
      "64\n",
      "75, T03-No le tengo miedo al avión: es el medio de transporte menos peligroso. \n",
      "74, T03-No le tengo miedo al avión es el medio de transporte menos peligroso.\n",
      "--------------------\n",
      "-----------------\n",
      "65\n",
      "97, S04-Eso espero… Me he pasado la noche estudiando para sacar un sobresaliente en el examen de hoy.\n",
      "97, S04-Eso espero Me he pasado la noche estudiando para sacar un sobresaliente en el examen de hoy.\n",
      "--------------------\n",
      "-----------------\n",
      "65\n",
      "53, S05-Tienes razón: a Dios rogando y con el mazo dando.\n",
      "53, S05-Tienes razón a Dios rogando y con el mazo dando.\n",
      "--------------------\n",
      "-----------------\n",
      "65\n",
      "42, S09-Sí, lo tengo decidido: haré medicina. \n",
      "41, S09-Sí, lo tengo decidido haré medicina.\n",
      "--------------------\n",
      "-----------------\n",
      "65\n",
      "37, S10-Son estudios largos y difíciles… \n",
      "35, S10-Son estudios largos y difíciles\n",
      "--------------------\n",
      "-----------------\n",
      "65\n",
      "57, S12-Aún eres joven. Nunca digas “de esta agua no beberé”.\n",
      "56, S12-Aún eres joven. Nunca digas de esta agua no beberé.\n",
      "--------------------\n",
      "-----------------\n",
      "66\n",
      "83, S05-Ya veremos… Yo soy jugador, no lo puedo remediar: compro cupones de los ciegos,\n",
      "82, S05-Ya veremos Yo soy jugador, no lo puedo remediar compro cupones de los ciegos,\n",
      "--------------------\n",
      "-----------------\n",
      "66\n",
      "85, S06-apuesto en línea a los partidos de fútbol y hasta echo monedas a las tragaperras…\n",
      "84, S06-apuesto en línea a los partidos de fútbol y hasta echo monedas a las tragaperras\n",
      "--------------------\n",
      "-----------------\n",
      "66\n",
      "112, S11-El dinero no hace la felicidad: el día que seasHrico, ya no sabrás si te quieren por amistad o por interés. \n",
      "111, S11-El dinero no hace la felicidad el día que seas rico, ya no sabrás si te quieren por amistad o por interés.\n",
      "--------------------\n",
      "-----------------\n",
      "66\n",
      "50, S12-Me has deprimido… Mira, te regalo el billete. \n",
      "49, S12-Me has deprimido Mira, te regalo el billete.\n",
      "--------------------\n",
      "-----------------\n",
      "66\n",
      "96, T03-Soy jugador, no lo puedo remediar: ¿me prestas una moneda para que la eche a la tragaperras?\n",
      "96, T03-Soy jugador, no lo puedo remediar ¿me prestas una moneda para que la eche a la tragaperras?\n",
      "--------------------\n",
      "-----------------\n",
      "66\n",
      "93, T04-Gastas mucho dinero apostando en línea a los partidos de fútbol: un día te arrepentirás. \n",
      "92, T04-Gastas mucho dinero apostando en línea a los partidos de fútbol un día te arrepentirás.\n",
      "--------------------\n",
      "-----------------\n",
      "67\n",
      "69, S03-Pues no. Como te dio por tirarlos todos cuando dejaste de fumar… \n",
      "67, S03-Pues no. Como te dio por tirarlos todos cuando dejaste de fumar\n",
      "--------------------\n",
      "-----------------\n",
      "67\n",
      "30, S04-Siempre tengo yo la culpa…\n",
      "29, S04-Siempre tengo yo la culpa\n",
      "--------------------\n",
      "-----------------\n",
      "67\n",
      "32, S06-Bueno, vale… ¿Tienes suelto?\n",
      "32, S06-Bueno, vale ¿Tienes suelto?\n",
      "--------------------\n",
      "-----------------\n",
      "67\n",
      "66, S08-Nunca querrá que le pague una caja de cerillas con cien euros…\n",
      "65, S08-Nunca querrá que le pague una caja de cerillas con cien euros\n",
      "--------------------\n",
      "-----------------\n",
      "67\n",
      "37, S11-Bueno, ¿¿y ahora a qué esperas?? \n",
      "38, S11-Bueno, ¿¿y ahora a qué esperas? ?\n",
      "--------------------\n",
      "-----------------\n",
      "67\n",
      "103, S12-Se ha puesto a llover y no encuentro el sombrero. Además no sé si ponerme el abrigo o la gabardina…\n",
      "102, S12-Se ha puesto a llover y no encuentro el sombrero. Además no sé si ponerme el abrigo o la gabardina\n",
      "--------------------\n",
      "-----------------\n",
      "68\n",
      "20, S01-¡Felizaño nuevo!\n",
      "22, S01-¡Feliz año nuevo!\n",
      "--------------------\n",
      "-----------------\n",
      "68\n",
      "29, S03-Eso, mientras haya salud…\n",
      "28, S03-Eso, mientras haya salud\n",
      "--------------------\n",
      "-----------------\n",
      "68\n",
      "80, S05-Como siempre, ¡perderHpeso! Pero ahora va en serio: no quepo en el pantalón.\n",
      "80, S05-Como siempre, ¡perder peso! Pero ahora va en serio no quepo en el pantalón.\n",
      "--------------------\n",
      "-----------------\n",
      "68\n",
      "86, S06-Yo también he engordado una barbaridad: no me puedo cerrar el cuello de la camisa.\n",
      "86, S06-Yo también he engordado una barbaridad no me puedo cerrar el cuello de la camisa.\n",
      "--------------------\n",
      "-----------------\n",
      "68\n",
      "116, S07-He decidido que saldré a correr aunque llueva, nieve o sople el viento: ¡todos los días, festivos y laborables! \n",
      "115, S07-He decidido que saldré a correr aunque llueva, nieve o sople el viento ¡todos los días, festivos y laborables!\n",
      "--------------------\n",
      "-----------------\n",
      "68\n",
      "107, S09-Y yo me pondré a dieta. Comeré fruta y verdura cada día: ¡manzanas, plátanos, peras, puerros, brócolis!\n",
      "107, S09-Y yo me pondré a dieta. Comeré fruta y verdura cada día ¡manzanas, plátanos, peras, puerros, brócolis!\n",
      "--------------------\n",
      "-----------------\n",
      "68\n",
      "54, S13-Es que… mañana tengo una boda. Pasado mañana, ¿sí?\n",
      "54, S13-Es que mañana tengo una boda. Pasado mañana, ¿sí?\n",
      "--------------------\n",
      "-----------------\n",
      "68\n",
      "41, S16-Arriba, abajo, al centro… ¡y adentro!\n",
      "41, S16-Arriba, abajo, al centro ¡y adentro!\n",
      "--------------------\n",
      "-----------------\n",
      "68\n",
      "60, T01-He engordado una barbaridad: este año me pondré a dieta.\n",
      "60, T01-He engordado una barbaridad este año me pondré a dieta.\n",
      "--------------------\n",
      "-----------------\n",
      "68\n",
      "66, T02-No quepo en mi ropa: ¡no puedo cerrar el cuello de la camisa! \n",
      "65, T02-No quepo en mi ropa ¡no puedo cerrar el cuello de la camisa!\n",
      "--------------------\n",
      "-----------------\n",
      "69\n",
      "23, S00-TITLE-Cría cuervos…\n",
      "22, S00-TITLE-Cría cuervos\n",
      "--------------------\n",
      "-----------------\n",
      "69\n",
      "85, S04-Eso, lo suyo es grabarFdiscos y hacerse famoso con sus canciones. ¡Qué disparate!\n",
      "86, S04-Eso, lo suyo es grabar discos y hacerse famoso con sus canciones. ¡Qué disparate!\n",
      "--------------------\n",
      "-----------------\n",
      "69\n",
      "27, S05-Ya se le pasará, mujer…\n",
      "26, S05-Ya se le pasará, mujer\n",
      "--------------------\n",
      "-----------------\n",
      "69\n",
      "89, S08-No hay quien entienda a esta juventud: ¡todos músicos, todos actores, todos artistas!\n",
      "89, S08-No hay quien entienda a esta juventud ¡todos músicos, todos actores, todos artistas!\n",
      "--------------------\n",
      "-----------------\n",
      "69\n",
      "75, S09-Eso digo yo: ¿quién arreglará los grifos cuando ya no haya fontaneros? \n",
      "74, S09-Eso digo yo ¿quién arreglará los grifos cuando ya no haya fontaneros?\n",
      "--------------------\n",
      "-----------------\n",
      "69\n",
      "44, S12-Bueno, ha salido a los padres entonces: \n",
      "42, S12-Bueno, ha salido a los padres entonces\n",
      "--------------------\n",
      "-----------------\n",
      "69\n",
      "129, S14-Ahí está el problema: el muchacho es de derechas y su sueño es estudiar empresariales, ser hombre de negocios y hacerse rico.\n",
      "129, S14-Ahí está el problema el muchacho es de derechas y su sueño es estudiar empresariales, ser hombre de negocios y hacerse rico.\n",
      "--------------------\n",
      "-----------------\n",
      "69\n",
      "39, S15-Cría cuervos y te sacarán los ojos…\n",
      "38, S15-Cría cuervos y te sacarán los ojos\n",
      "--------------------\n",
      "-----------------\n",
      "69\n",
      "109, T04-Es muy formal: de mayor quiere estudiar empresariales, ser hombre de negocios o dedicarse a la política. \n",
      "108, T04-Es muy formal de mayor quiere estudiar empresariales, ser hombre de negocios o dedicarse a la política.\n",
      "--------------------\n",
      "-----------------\n",
      "70\n",
      "96, S04-No le puedo dar la vuelta de cien euros, lo siento… Venga, es igual, le regalo las cerillas.\n",
      "96, S04-No le puedo dar la vuelta de cien euros, lo siento Venga, es igual, le regalo las cerillas.\n",
      "--------------------\n",
      "-----------------\n",
      "70\n",
      "59, S07-Por cierto no sé muy bien qué haré si me toca el gordo…\n",
      "58, S07-Por cierto no sé muy bien qué haré si me toca el gordo\n",
      "--------------------\n",
      "-----------------\n",
      "70\n",
      "124, S11-Y como le ha dado por ser músico, tendré que echarle una mano para que se haga famoso con sus canciones… ¡Qué disparate!\n",
      "124, S11-Y como le ha dado por ser músico, tendré que echarle una mano para que se haga famoso con sus canciones ¡Qué disparate!\n",
      "--------------------\n",
      "-----------------\n",
      "70\n",
      "101, S13-¡Aquí tiene para las cerillas! Le dejo el décimo y no sabe cuántas preocupaciones me he ahorrado…\n",
      "100, S13-¡Aquí tiene para las cerillas! Le dejo el décimo y no sabe cuántas preocupaciones me he ahorrado\n",
      "--------------------\n",
      "-----------------\n",
      "71\n",
      "76, S09-Sabe que nunca me pondría algo tan corto, así… por encima de la rodilla.\n",
      "76, S09-Sabe que nunca me pondría algo tan corto, así por encima de la rodilla.\n",
      "--------------------\n",
      "-----------------\n",
      "71\n",
      "58, S10-Además, vaya colores: ¡naranja… con lunares amarillos!\n",
      "57, S10-Además, vaya colores ¡naranja con lunares amarillos!\n",
      "--------------------\n",
      "-----------------\n",
      "71\n",
      "88, S11-Si su estilo es más sobrio, le sentaría de maravilla este vestido: es muy elegante. \n",
      "87, S11-Si su estilo es más sobrio, le sentaría de maravilla este vestido es muy elegante.\n",
      "--------------------\n",
      "-----------------\n",
      "71\n",
      "18, S12-No es feo, no…\n",
      "17, S12-No es feo, no\n",
      "--------------------\n",
      "-----------------\n",
      "71\n",
      "85, S13-Le valdría para todo tipo de ocasiones. Si quiere, los probadores están al fondo…\n",
      "84, S13-Le valdría para todo tipo de ocasiones. Si quiere, los probadores están al fondo\n",
      "--------------------\n",
      "-----------------\n",
      "71\n",
      "77, T02-Esta falda está nuevecita, pero es demasiado corta: nunca me la pondría. \n",
      "76, T02-Esta falda está nuevecita, pero es demasiado corta nunca me la pondría.\n",
      "--------------------\n",
      "-----------------\n",
      "71\n",
      "73, T05-Está usted muy joven: le sentaría de maravilla esta cazadora naranja.\n",
      "73, T05-Está usted muy joven le sentaría de maravilla esta cazadora naranja.\n",
      "--------------------\n",
      "-----------------\n",
      "72\n",
      "23, S00-TITLE-Ya que estoy…\n",
      "22, S00-TITLE-Ya que estoy\n",
      "--------------------\n",
      "-----------------\n",
      "72\n",
      "12, S02-Así así…\n",
      "11, S02-Así así\n",
      "--------------------\n",
      "-----------------\n",
      "72\n",
      "39, S07-Es de rayas… ¿Cree que me favorece?\n",
      "39, S07-Es de rayas ¿Cree que me favorece?\n",
      "--------------------\n",
      "-----------------\n",
      "72\n",
      "33, S15-Una 40, pero búsqueme una 38…\n",
      "32, S15-Una 40, pero búsqueme una 38\n",
      "--------------------\n",
      "-----------------\n",
      "72\n",
      "61, T02-Dese la vuelta delante del espejo: ¿a que le queda bien? \n",
      "60, T02-Dese la vuelta delante del espejo ¿a que le queda bien?\n",
      "--------------------\n",
      "-----------------\n",
      "73\n",
      "103, S05-Tiene algunos añitos, sí: la batería se descarga en un pis-pas y tiene que estar siempre enchufado.\n",
      "103, S05-Tiene algunos añitos, sí la batería se descarga en un pis-pas y tiene que estar siempre enchufado.\n",
      "--------------------\n",
      "-----------------\n",
      "73\n",
      "93, S10-Voy a meterlo todo en una bolsa, sí, el aparato, el cargador, el ratón: ¡y al contenedor!\n",
      "93, S10-Voy a meterlo todo en una bolsa, sí, el aparato, el cargador, el ratón ¡y al contenedor!\n",
      "--------------------\n",
      "-----------------\n",
      "73\n",
      "40, S13-No te creo… ¿Vivirías sin ordenador?\n",
      "40, S13-No te creo ¿Vivirías sin ordenador?\n",
      "--------------------\n",
      "-----------------\n",
      "73\n",
      "75, T04-Estoy hasta la coronilla de mi ordenador: va lento y se queda colgado. \n",
      "74, T04-Estoy hasta la coronilla de mi ordenador va lento y se queda colgado.\n",
      "--------------------\n",
      "-----------------\n",
      "74\n",
      "58, S10-Eso, apretado en medio de un montón de gente borracha…\n",
      "57, S10-Eso, apretado en medio de un montón de gente borracha\n",
      "--------------------\n",
      "-----------------\n",
      "74\n",
      "39, S11-Quién diría que tienes veinte años…\n",
      "38, S11-Quién diría que tienes veinte años\n",
      "--------------------\n",
      "-----------------\n",
      "75\n",
      "109, S07-Uf, escucha, da miedo: “Nos dijeron que la habitación tendría vistas y nos dieron una que daba al patio.”\n",
      "120, S07-Uf, escucha, da miedo: &quot;Nos dijeron que la habitación tendría vistas y nos dieron una que daba al patio.&quot;\n",
      "--------------------\n",
      "-----------------\n",
      "75\n",
      "114, S08-“Como el aire acondicionado estaba averiado, abrimos la ventana y hubo que cerrarla enseguida por los olores.”\n",
      "124, S08-&quot;Como el aire acondicionado estaba averiado, abrimos la ventana y hubo que cerrarla enseguida por los olores.&quot;\n",
      "--------------------\n",
      "-----------------\n",
      "75\n",
      "107, S09-“No había agua caliente ni jabón, las bombillas estaban fundidas, el lavabo atascado y el espejo roto”.\n",
      "118, S09-&quot;No había agua caliente ni jabón, las bombillas estaban fundidas, el lavabo atascado y el espejo roto. &quot;\n",
      "--------------------\n",
      "-----------------\n",
      "75\n",
      "86, S10-“Nos metimos en la cama, y a medianoche un cuadro se descolgó de la pared solito.”\n",
      "96, S10-&quot;Nos metimos en la cama, y a medianoche un cuadro se descolgó de la pared solito.&quot;\n",
      "--------------------\n",
      "-----------------\n",
      "75\n",
      "61, S11-“A no ser que os gusten las pelis de terror, ¡no vayáis!”\n",
      "71, S11-&quot;A no ser que os gusten las pelis de terror, ¡no vayáis!&quot;\n",
      "--------------------\n",
      "-----------------\n",
      "76\n",
      "86, S03-Lo que faltaba: ahora encima, ¡un resfriado! Ir de camping, ¡a quién se le ocurre!\n",
      "86, S03-Lo que faltaba ahora encima, ¡un resfriado! Ir de camping, ¡a quién se le ocurre!\n",
      "--------------------\n",
      "-----------------\n",
      "76\n",
      "90, S05-Ya, pero yo lo que tenía en mente era un bungaló con lavandería, duchas, aparcamiento…\n",
      "89, S05-Ya, pero yo lo que tenía en mente era un bungaló con lavandería, duchas, aparcamiento\n",
      "--------------------\n",
      "-----------------\n",
      "76\n",
      "28, S14-Eso tiene la naturaleza…\n",
      "27, S14-Eso tiene la naturaleza\n",
      "--------------------\n",
      "-----------------\n",
      "77\n",
      "54, S02-No grites, no estoy sorda. Y más bien aconséjame: \n",
      "52, S02-No grites, no estoy sorda. Y más bien aconséjame\n",
      "--------------------\n",
      "-----------------\n",
      "77\n",
      "27, S14-Dios mío, se me olvidó…\n",
      "26, S14-Dios mío, se me olvidó\n",
      "--------------------\n",
      "-----------------\n",
      "78\n",
      "105, S01-No me llevo bien con mi esposa: dice que no ayudo en las tareas de casa y reñimos por cualquier cosa.\n",
      "105, S01-No me llevo bien con mi esposa dice que no ayudo en las tareas de casa y reñimos por cualquier cosa.\n",
      "--------------------\n",
      "-----------------\n",
      "78\n",
      "90, S10-También desearías que te dejaran salir de noche, regresara los tres días como si nada,\n",
      "92, S10-También desearías que te dejaran salir de noche, regresar a los tres días como si nada,\n",
      "--------------------\n",
      "-----------------\n",
      "78\n",
      "95, S11-y que no te hicieran reproches, ¿eh?, que te recibieran con caricias y sonrisas, ¿a que sí?\n",
      "97, S11-y que no te hicieran reproches, ¿eh? , que te recibieran con caricias y sonrisas, ¿a que sí?\n",
      "--------------------\n",
      "-----------------\n",
      "78\n",
      "66, S12-Tener a la vez un techo y libertad: adivinas mis pensamientos.\n",
      "66, S12-Tener a la vez un techo y libertad adivinas mis pensamientos.\n",
      "--------------------\n",
      "-----------------\n",
      "78\n",
      "70, S15-Sí, ve a la iglesia… ¡y reza a Dios para que te convierta en gato!\n",
      "70, S15-Sí, ve a la iglesia ¡y reza a Dios para que te convierta en gato!\n",
      "--------------------\n",
      "-----------------\n",
      "79\n",
      "81, S03-Esta vez es importante: se trata de salvar el planeta de los extraterrestres…\n",
      "79, S03-Esta vez es importante se trata de salvar el planeta de los extraterrestres\n",
      "--------------------\n",
      "-----------------\n",
      "79\n",
      "100, S10-Cogíamos palos, piedras, y nos escondíamos en los árboles para sorprender a los del otro barrio…\n",
      "99, S10-Cogíamos palos, piedras, y nos escondíamos en los árboles para sorprender a los del otro barrio\n",
      "--------------------\n",
      "-----------------\n",
      "79\n",
      "38, S12-Bueno, pues si no hay más remedio…\n",
      "37, S12-Bueno, pues si no hay más remedio\n",
      "--------------------\n",
      "-----------------\n",
      "79\n",
      "35, S13-Vale, ten y cómprate ese juego…\n",
      "34, S13-Vale, ten y cómprate ese juego\n",
      "--------------------\n",
      "-----------------\n",
      "79\n",
      "18, S15-No hay de qué…\n",
      "17, S15-No hay de qué\n",
      "--------------------\n",
      "-----------------\n",
      "79\n",
      "71, T03-De niño, era muy violento: pegaba a los del otro barrio con palos. \n",
      "70, T03-De niño, era muy violento pegaba a los del otro barrio con palos.\n",
      "--------------------\n",
      "-----------------\n",
      "80\n",
      "21, S00-TITLE-Costumbres…\n",
      "20, S00-TITLE-Costumbres\n",
      "--------------------\n",
      "-----------------\n",
      "80\n",
      "97, S13-Y dale conSuecia. Pues por lo visto a los suecos nuestras costumbres les parecen estupendas: \n",
      "98, S13-Y dale con Suecia. Pues por lo visto a los suecos nuestras costumbres les parecen estupendas:\n",
      "--------------------\n",
      "-----------------\n",
      "81\n",
      "58, S09-Conozco ese discurso, y me pone los nervios de punta… \n",
      "56, S09-Conozco ese discurso, y me pone los nervios de punta\n",
      "--------------------\n",
      "-----------------\n",
      "81\n",
      "106, S10-Yo prohibiría las corridas, los zoológicos… ¡y ademásHestaría a favor de que dejáramos de comerHcarne!\n",
      "106, S10-Yo prohibiría las corridas, los zoológicos ¡y además estaría a favor de que dejáramos de comer carne!\n",
      "--------------------\n",
      "-----------------\n",
      "81\n",
      "121, S11-Trato hecho, ahí estoy de acuerdo contigo: el día en que nos hagamosHtodos vegetarianos, yo dejaré de ir a los toros.\n",
      "122, S11-Trato hecho, ahí estoy de acuerdo contigo: el día en que nos hagamos todos vegetarianos, yo dejaré de ir a los toros.\n",
      "--------------------\n",
      "-----------------\n",
      "82\n",
      "40, S03-Ya sabes que es mi fiesta preferida…\n",
      "39, S03-Ya sabes que es mi fiesta preferida\n",
      "--------------------\n",
      "-----------------\n",
      "82\n",
      "47, S13-No sabe anada. Mejor de limón, o de turrón.\n",
      "49, S13-No sabe a nada. Mejor de limón, o de turrón.\n",
      "--------------------\n",
      "-----------------\n",
      "82\n",
      "95, S15-Sí, servilletas para las manos, palillos para los dientes… ¡y comprimidos para el estómago!\n",
      "95, S15-Sí, servilletas para las manos, palillos para los dientes ¡y comprimidos para el estómago!\n",
      "--------------------\n",
      "-----------------\n",
      "83\n",
      "99, S05-incluso me abrí una cuenta en un sitio, comoencasa.com, pero tuve un par de malas experiencias…\n",
      "98, S05-incluso me abrí una cuenta en un sitio, comoencasa.com, pero tuve un par de malas experiencias\n",
      "--------------------\n",
      "-----------------\n",
      "83\n",
      "123, S08-Puse mi mail: rojiblanco_87@telefónica.es (guiónbajo ochenta y siete arroba… punto es). Y la contraseña es: colchonero.\n",
      "124, S08-Puse mi mail: rojiblanco_87@telefónica.es (guión bajo ochenta y siete arroba punto es). Y la contraseña es: colchonero.\n",
      "--------------------\n",
      "-----------------\n",
      "83\n",
      "77, S12-Hay una casilla “propina para el repartidor”. ¿La marco y pongo 3 euros? \n",
      "87, S12-Hay una casilla &quot;propina para el repartidor&quot;. ¿La marco y pongo 3 euros?\n",
      "--------------------\n",
      "-----------------\n",
      "83\n",
      "52, S14-Ya solo falta una cosa… ¡Que ganemos el partido!\n",
      "52, S14-Ya solo falta una cosa ¡Que ganemos el partido!\n",
      "--------------------\n",
      "-----------------\n",
      "83\n",
      "83, T03-Yo nunca marco la casilla “propina”, prefiero darla directamente al repartidor.\n",
      "94, T03-Yo nunca marco la casilla &quot;propina&quot;, prefiero darla directamente al repartidor.\n",
      "--------------------\n",
      "-----------------\n",
      "84\n",
      "50, S01-Yo sé lo que harías si me quisieras de verdad…\n",
      "49, S01-Yo sé lo que harías si me quisieras de verdad\n",
      "--------------------\n",
      "-----------------\n",
      "84\n",
      "48, S02-A ver… ¡Iría a ver una corrida con tu padre!\n",
      "48, S02-A ver ¡Iría a ver una corrida con tu padre!\n",
      "--------------------\n",
      "-----------------\n",
      "84\n",
      "80, S04-Pues… ¡Me despertaría cuando canta el gallo y me acostaría con las gallinas!\n",
      "80, S04-Pues ¡Me despertaría cuando canta el gallo y me acostaría con las gallinas!\n",
      "--------------------\n",
      "-----------------\n",
      "84\n",
      "65, S06-¿Entonces qué? Seré tonto, pero no adivino tus pensamientos… \n",
      "63, S06-¿Entonces qué? Seré tonto, pero no adivino tus pensamientos\n",
      "--------------------\n",
      "-----------------\n",
      "84\n",
      "32, S14-¿Marco la casilla “propina”?\n",
      "43, S14-¿Marco la casilla &quot;propina&quot;?\n",
      "--------------------\n",
      "-----------------\n",
      "85\n",
      "43, S03-¿Y las escaleras? Están hechas un asco…\n",
      "42, S03-¿Y las escaleras? Están hechas un asco\n",
      "--------------------\n",
      "-----------------\n",
      "85\n",
      "70, S12-No te van a elegir, y encima te vas a hacer un montón de enemigos…\n",
      "69, S12-No te van a elegir, y encima te vas a hacer un montón de enemigos\n",
      "--------------------\n",
      "-----------------\n",
      "85\n",
      "72, S13-Escucha, ya tengo un lema: “Vota a Pérez, ¡el candidato del cambio!”\n",
      "83, S13-Escucha, ya tengo un lema: &quot;Vota a Pérez, ¡el candidato del cambio!&quot;\n",
      "--------------------\n",
      "-----------------\n",
      "86\n",
      "97, S04-Pues la portera me ha contado que trabajaba en un bufete de abogados y que lo despidieron... \n",
      "97, S04-Pues la portera me ha contado que trabajaba en un bufete de abogados y que lo despidieron…\n",
      "--------------------\n",
      "-----------------\n",
      "87\n",
      "94, S01-Vaya por Dios…Y es precisamente ahora cuando no arranca el coche, con la prisa que tengo. \n",
      "97, S01-Vaya por Dios… Y es precisamente ahora cuando no arranca el coche, con la prisa que tengo.\n",
      "--------------------\n",
      "-----------------\n",
      "87\n",
      "45, S06-Uno, dos… ¡Puf!, me rindo. No hay manera.\n",
      "49, S06-Uno, dos… ¡Puf! , me rindo. No hay manera.\n",
      "--------------------\n",
      "-----------------\n",
      "88\n",
      "44, S10-Lavó los platos, sacudió las alfombras… \n",
      "42, S10-Lavó los platos, sacudió las alfombras\n",
      "--------------------\n",
      "-----------------\n",
      "88\n",
      "76, S14-Bueno… está convencida de que tiene buena voz y se pasa el día cantando.\n",
      "76, S14-Bueno está convencida de que tiene buena voz y se pasa el día cantando.\n",
      "--------------------\n",
      "-----------------\n",
      "90\n",
      "96, S12-Ah, por cierto, hoy tenemos un nuevo huésped, un amigo italiano que viene a pasar unos días…\n",
      "95, S12-Ah, por cierto, hoy tenemos un nuevo huésped, un amigo italiano que viene a pasar unos días\n",
      "--------------------\n",
      "-----------------\n",
      "90\n",
      "55, S15-¡¡Mi champú!! ¿¿Quién demonios ha usado mi champú??\n",
      "57, S15-¡¡Mi champú! ! ¿¿Quién demonios ha usado mi champú??\n",
      "--------------------\n",
      "-----------------\n",
      "91\n",
      "18, S05-Vaya por Dios…\n",
      "17, S05-Vaya por Dios\n",
      "--------------------\n",
      "-----------------\n",
      "91\n",
      "62, S12-¿De verdad? Es que todo se me ha puesto tan cuesta arriba…\n",
      "61, S12-¿De verdad? Es que todo se me ha puesto tan cuesta arriba\n",
      "--------------------\n",
      "-----------------\n",
      "92\n",
      "40, S00-TITLE-La vuelta a España (en sueños)\n",
      "38, S00-TITLE-La vuelta a España en sueños\n",
      "--------------------\n",
      "-----------------\n",
      "92\n",
      "109, S03-Hay tantos rincones de aquí por los que aún no he viajado, tantos lugares desconocidos con los que sueño…\n",
      "108, S03-Hay tantos rincones de aquí por los que aún no he viajado, tantos lugares desconocidos con los que sueño\n",
      "--------------------\n",
      "-----------------\n",
      "92\n",
      "114, S05-El teatro romano de Mérida, los palacios de los conquistadores en Trujillo…: ¡no los conozco más que en fotos!\n",
      "114, S05-El teatro romano de Mérida, los palacios de los conquistadores en Trujillo: ¡no los conozco más que en fotos!\n",
      "--------------------\n",
      "-----------------\n",
      "92\n",
      "126, S12-Sí, subir al Teide, 3 718 (tres mil setecientos dieciocho) metros, el punto más alto de España. Es la ilusión de mi vida. \n",
      "124, S12-Sí, subir al Teide, 3 718 tres mil setecientos dieciocho metros, el punto más alto de España. Es la ilusión de mi vida.\n",
      "--------------------\n",
      "-----------------\n",
      "93\n",
      "67, S01-“En un lugar de la Mancha, de cuyo nombre no quiero acordarme…”\n",
      "64, S01-En un lugar de la Mancha, de cuyo nombre no quiero acordarme\n",
      "--------------------\n",
      "-----------------\n",
      "93\n",
      "95, S13-Imagínate a la sombra de un árbol, tomándote un valdepeñas fresquito y leyendo el Quijote… \n",
      "93, S13-Imagínate a la sombra de un árbol, tomándote un valdepeñas fresquito y leyendo el Quijote\n",
      "--------------------\n",
      "-----------------\n",
      "94\n",
      "79, S06-La cultura maya se remonta a alrededor del 2000 (dos mil) antes de Cristo, \n",
      "77, S06-La cultura maya se remonta a alrededor del 2000 dos mil antes de Cristo,\n",
      "--------------------\n",
      "-----------------\n",
      "94\n",
      "113, S07-y alcanzó su máximo desarrollo entre el 250 (doscientos cincuenta) y el 900 (novecientos) después de Cristo. \n",
      "109, S07-y alcanzó su máximo desarrollo entre el 250 doscientos cincuenta y el 900 novecientos después de Cristo.\n",
      "--------------------\n",
      "-----------------\n",
      "94\n",
      "63, S14-Las selvas de Centroamérica esconden aún grandes misterios…\n",
      "62, S14-Las selvas de Centroamérica esconden aún grandes misterios\n",
      "--------------------\n",
      "-----------------\n",
      "95\n",
      "123, S04-Dicen que esto ocurrió en 1325 (mil trescientos veinticinco) en el lugar donde se encuentra la actual Ciudad de México.\n",
      "122, S04-Dicen que esto ocurrió en 1325 mil trescientos veinticinco en el lugar donde se encuentra la actual Ciudad de México.\n",
      "--------------------\n",
      "-----------------\n",
      "95\n",
      "110, S10-Cortés llegó a México en 1519 (mil quinientos diecinueve) y, con la ayuda de los enemigos de los aztecas, \n",
      "108, S10-Cortés llegó a México en 1519 mil quinientos diecinueve y, con la ayuda de los enemigos de los aztecas,\n",
      "--------------------\n",
      "-----------------\n",
      "96\n",
      "34, S00-TITLE-Érase una vez… Argentina\n",
      "33, S00-TITLE-Érase una vez Argentina\n",
      "--------------------\n",
      "-----------------\n",
      "96\n",
      "146, S01-Con una superficie de 2 780 000 (dos millones setecientos ochenta mil) kilómetros cuadrados, Argentina es el país hispanohablante más extenso,\n",
      "145, S01-Con una superficie de 2 780 000 dos millones setecientos ochenta mil kilómetros cuadrados, Argentina es el país hispanohablante más extenso,\n",
      "--------------------\n",
      "-----------------\n",
      "97\n",
      "32, S00-TITLE-Buen viaje (1.a parte)\n",
      "31, S00-TITLE-Buen viaje 1. a parte\n",
      "--------------------\n",
      "-----------------\n",
      "98\n",
      "104, S02-Desde luego, a Latinoamérica no la conozco más que en fotos, pero es que me da tanta pereza viajar… \n",
      "102, S02-Desde luego, a Latinoamérica no la conozco más que en fotos, pero es que me da tanta pereza viajar\n",
      "--------------------\n",
      "-----------------\n",
      "98\n",
      "98, S07-Pues no estaría mal… Saldría del sur, de Tierra del Fuego, a mediados de diciembre, en verano.\n",
      "98, S07-Pues no estaría mal Saldría del sur, de Tierra del Fuego, a mediados de diciembre, en verano.\n",
      "--------------------\n",
      "-----------------\n",
      "98\n",
      "151, S11-Cruzaría las llanuras inmensas de la pampa, subiría al punto más alto de América, en los Andes, vería paisajes inolvidables, selvas y desiertos... \n",
      "153, S11-Cruzaría las llanuras inmensas de la pampa, subiría al punto más alto de América, en los Andes, vería paisajes inolvidables, selvas y desiertos…\n",
      "--------------------\n",
      "-----------------\n",
      "99\n",
      "32, S00-TITLE-Buen viaje (2.a parte)\n",
      "31, S00-TITLE-Buen viaje 2. a parte\n",
      "--------------------\n",
      "-----------------\n",
      "99\n",
      "73, S08-Es una elección…, pero de esa manera tardarás quince días en llegar: \n",
      "72, S08-Es una elección, pero de esa manera tardarás quince días en llegar:\n",
      "--------------------\n",
      "-----------------\n",
      "100\n",
      "21, S00-TITLE-Continuará…\n",
      "20, S00-TITLE-Continuará\n",
      "--------------------\n",
      "-----------------\n",
      "100\n",
      "46, S03-Pero, ¡ojo!, esto no hace más que empezar.\n",
      "48, S03-Pero, ¡ojo! , esto no hace más que empezar.\n",
      "--------------------\n",
      "-----------------\n",
      "100\n",
      "53, S16-Bueno, que se hace tarde, es hora de despedirse… \n",
      "51, S16-Bueno, que se hace tarde, es hora de despedirse\n",
      "--------------------\n",
      "-----------------\n",
      "100\n",
      "71, S17-Fue un verdadero placer acompañarte. ¡Buen viaje... y hasta pronto!\n",
      "74, S17-Fue un verdadero placer acompañarte. ¡Buen viaje… y hasta pronto!\n",
      "--------------------\n",
      "Nombre de phrase différentes : 310\n"
     ]
    }
   ],
   "source": [
    "from tonic_accent import get_sentences_from_audio_files, get_sentences\n",
    "k= 0\n",
    "for lesson_nb in range(1, 101):\n",
    "    sentences_1 = get_sentences_from_audio_files(lesson_nb)\n",
    "    sentences_2 = get_sentences(lesson_nb)\n",
    "\n",
    "    for i, sentence_1 in enumerate(sentences_1):\n",
    "        sentence_2 = sentences_2[i].strip()\n",
    "        sentence_2 = sentence_2.replace(\"...\", \"…\")\n",
    "        sentence_2 = sentence_2.replace(\". . .\", \"…\")\n",
    "        if sentence_1.strip() != sentence_2:\n",
    "            print(f\"-----------------\\n{lesson_nb}\\n{len(sentence_1)}, {sentence_1}\\n{len(sentences_2[i])}, {sentence_2}\\n--------------------\")\n",
    "            k += 1\n",
    "print(f\"Nombre de phrase différentes : {k}\")"
   ]
  },
  {
   "cell_type": "code",
   "execution_count": 463,
   "id": "3363712b-9120-4c4f-98f6-a7b80e2d3367",
   "metadata": {},
   "outputs": [],
   "source": [
    "a=iter(range(1,3))\n"
   ]
  },
  {
   "cell_type": "code",
   "execution_count": 461,
   "id": "4443982d-c6f9-4cc4-a43d-0d010bfad48f",
   "metadata": {},
   "outputs": [
    {
     "name": "stdout",
     "output_type": "stream",
     "text": [
      "ok\n",
      "ok\n"
     ]
    },
    {
     "ename": "StopIteration",
     "evalue": "",
     "output_type": "error",
     "traceback": [
      "\u001b[0;31m---------------------------------------------------------------------------\u001b[0m",
      "\u001b[0;31mStopIteration\u001b[0m                             Traceback (most recent call last)",
      "Cell \u001b[0;32mIn[461], line 1\u001b[0m\n\u001b[0;32m----> 1\u001b[0m \u001b[38;5;28;01mwhile\u001b[39;00m \u001b[38;5;28;43mnext\u001b[39;49m\u001b[43m(\u001b[49m\u001b[43ma\u001b[49m\u001b[43m)\u001b[49m:\n\u001b[1;32m      2\u001b[0m     \u001b[38;5;28mprint\u001b[39m(\u001b[38;5;124m\"\u001b[39m\u001b[38;5;124mok\u001b[39m\u001b[38;5;124m\"\u001b[39m)\n",
      "\u001b[0;31mStopIteration\u001b[0m: "
     ]
    }
   ],
   "source": [
    "while next(a):\n",
    "    print(\"ok\")"
   ]
  },
  {
   "cell_type": "code",
   "execution_count": 464,
   "id": "c8d50964-31ad-41b6-be2c-f882fb7d836c",
   "metadata": {},
   "outputs": [
    {
     "name": "stdout",
     "output_type": "stream",
     "text": [
      "1\n",
      "2\n"
     ]
    }
   ],
   "source": [
    "for k in a:\n",
    "    print(k)"
   ]
  },
  {
   "cell_type": "code",
   "execution_count": 465,
   "id": "e9f5c711-df6c-4df3-96a0-2f56b6f9070f",
   "metadata": {},
   "outputs": [],
   "source": [
    "from tonic_accent import global_word_dict"
   ]
  },
  {
   "cell_type": "code",
   "execution_count": 466,
   "id": "59439673-5660-4b78-9a18-0c9971d2a792",
   "metadata": {},
   "outputs": [
    {
     "data": {
      "text/plain": [
       "3555"
      ]
     },
     "execution_count": 466,
     "metadata": {},
     "output_type": "execute_result"
    }
   ],
   "source": [
    "len(global_word_dict.keys())"
   ]
  },
  {
   "cell_type": "code",
   "execution_count": 506,
   "id": "d986bbba-1c7d-4da9-8aa4-6a00e4d205d9",
   "metadata": {
    "scrolled": true
   },
   "outputs": [
    {
     "name": "stdout",
     "output_type": "stream",
     "text": [
      "leçon : 2, token : dóndeeres, phrase : S01-¿De dóndeeres, Montse?\n",
      "leçon : 2, token : nacíen, phrase : S03-Pero yo nacíen Barcelona.\n",
      "Attribute Error with file : .DS_Store\n",
      "Attribute Error with file : .DS_Store\n",
      "leçon : 15, token : nacíen, phrase : S06-Soy alemana, sí, nacíen Berlín.\n",
      "leçon : 16, token : pidecarne, phrase : S05-Cuando van al restaurante, ella siempre pidecarne con patatas fritas\n",
      "leçon : 25, token : mejortiempo, phrase : S07-Y si tengo ganas de mejortiempo, \n",
      "leçon : 26, token : queme, phrase : S01-¡Papá, mira lo queme han regalado!\n",
      "leçon : 34, token : suyaesta, phrase : S04-Disculpe, señora, ¿es suyaesta maleta?\n",
      "leçon : 38, token : ustedlleva, phrase : S03-Y ustedlleva ropa muy clásica.\n",
      "leçon : 38, token : asípara, phrase : S04-¡En absoluto! Me he vestido asípara parecer más seria.\n",
      "leçon : 51, token : EstuveenMéxico, phrase : S02-EstuveenMéxico el año pasado. \n",
      "leçon : 57, token : pierde, phrase : S10-Pues, que yo sepa, tú no te pierde snunca las fiestas de tu pueblo, ¿no?\n",
      "leçon : 57, token : snunca, phrase : S10-Pues, que yo sepa, tú no te pierde snunca las fiestas de tu pueblo, ¿no?\n",
      "leçon : 61, token : aparte, phrase : S00-TITLE-Carta a un hijo (2.aparte)\n",
      "leçon : 62, token : tambiénFpuede, phrase : S12-¿De modo que usted tambiénFpuede dar clases particulares?\n",
      "leçon : 66, token : seasHrico, phrase : S11-El dinero no hace la felicidad: el día que seasHrico, ya no sabrás si te quieren por amistad o por interés. \n",
      "leçon : 68, token : Felizaño, phrase : S01-¡Felizaño nuevo!\n",
      "leçon : 68, token : perderHpeso, phrase : S05-Como siempre, ¡perderHpeso! Pero ahora va en serio: no quepo en el pantalón.\n",
      "leçon : 69, token : grabarFdiscos, phrase : S04-Eso, lo suyo es grabarFdiscos y hacerse famoso con sus canciones. ¡Qué disparate!\n",
      "leçon : 78, token : regresara, phrase : S10-También desearías que te dejaran salir de noche, regresara los tres días como si nada,\n",
      "leçon : 80, token : conSuecia, phrase : S13-Y dale conSuecia. Pues por lo visto a los suecos nuestras costumbres les parecen estupendas: \n",
      "leçon : 81, token : ademásHestaría, phrase : S10-Yo prohibiría las corridas, los zoológicos… ¡y ademásHestaría a favor de que dejáramos de comerHcarne!\n",
      "leçon : 81, token : comerHcarne, phrase : S10-Yo prohibiría las corridas, los zoológicos… ¡y ademásHestaría a favor de que dejáramos de comerHcarne!\n",
      "leçon : 81, token : hagamosHtodos, phrase : S11-Trato hecho, ahí estoy de acuerdo contigo: el día en que nos hagamosHtodos vegetarianos, yo dejaré de ir a los toros.\n",
      "leçon : 82, token : anada, phrase : S13-No sabe anada. Mejor de limón, o de turrón.\n",
      "leçon : 83, token : rojiblanco_87, phrase : S08-Puse mi mail: rojiblanco_87@telefónica.es (guiónbajo ochenta y siete arroba… punto es). Y la contraseña es: colchonero.\n",
      "leçon : 83, token : guiónbajo, phrase : S08-Puse mi mail: rojiblanco_87@telefónica.es (guiónbajo ochenta y siete arroba… punto es). Y la contraseña es: colchonero.\n",
      "Nombre de phrase avec faux token : 26\n"
     ]
    }
   ],
   "source": [
    "from tonic_accent import get_sentences_from_audio_files, get_sentences\n",
    "k= 0\n",
    "for lesson_nb in range(1, 101):\n",
    "    sentences_1 = get_sentences_from_audio_files(lesson_nb)\n",
    "    for i, sentence in enumerate(sentences_1):\n",
    "        tokens = re.findall(r\"[\\w]+|[.,¡!¿:&\\-?;–…]\", sentence)\n",
    "        for token in tokens:\n",
    "           if not token in ['-', \"'\", '\"', \"[\", \"]\", '¡', '!', '¿', '.', ',', '?', ';', ':', '…']:\n",
    "                if token.lower() not in global_word_dict:\n",
    "                    print(f\"leçon : {lesson_nb}, token : {token}, phrase : {sentence}\")\n",
    "                    k += 1\n",
    "print(f\"Nombre de phrase avec faux token : {k}\")\n"
   ]
  },
  {
   "cell_type": "code",
   "execution_count": 468,
   "id": "1be87640-48dc-439e-a072-f865f83b018f",
   "metadata": {},
   "outputs": [
    {
     "ename": "KeyError",
     "evalue": "'N1'",
     "output_type": "error",
     "traceback": [
      "\u001b[0;31m---------------------------------------------------------------------------\u001b[0m",
      "\u001b[0;31mKeyError\u001b[0m                                  Traceback (most recent call last)",
      "Cell \u001b[0;32mIn[468], line 1\u001b[0m\n\u001b[0;32m----> 1\u001b[0m \u001b[43mglobal_word_dict\u001b[49m\u001b[43m[\u001b[49m\u001b[38;5;124;43m\"\u001b[39;49m\u001b[38;5;124;43mN1\u001b[39;49m\u001b[38;5;124;43m\"\u001b[39;49m\u001b[43m]\u001b[49m\n",
      "\u001b[0;31mKeyError\u001b[0m: 'N1'"
     ]
    }
   ],
   "source": [
    "global_word_dict[\"N1\"]"
   ]
  },
  {
   "cell_type": "code",
   "execution_count": 469,
   "id": "5fd1a378-a257-462b-bd16-dec723fed2ac",
   "metadata": {},
   "outputs": [
    {
     "data": {
      "text/plain": [
       "dict_keys(['n1', 'lección', 'primera', 's00', 'title', 'qué', 'sorpresa', 's01', 'hola', 'laura', 's02', 'paco', 's03', 'cómo', 'estás', 'guapa', 's04', 'bien', 'gracias', 'y', 'tú', 'tal', 's05', 'estoy', 'pachucho', 't00', 'translate', 'ejercicio', '1', '–', 'traduzca', 't01', 't02', 't03', 't04', 't05', 'n2', 'segunda', 'dónde', 'vives', 'de', 'eres', 'montse', 'mi', 'familia', 'es', 'andalucía', 'pero', 'yo', 'nací', 'en', 'barcelona', 'vivo', 'las', 'afueras', 'n3', 'tercera', 'bienvenida', 'buenos', 'días', 'soy', 'javier', 'te', 'llamas', 'me', 'llamo', 'rocío', 'encantado', 'madrid', 'no', 'madrileña', 'andaluza', 'sevilla', 'pues', 'a', 'morena', 'encantada', 'n4', 'cuarta', 'presentaciones', 'él', 'rafa', 'hermano', 'ella', 'luz', 'hermana', 'padre', 'miguel', 'mucho', 'gusto', 'está', 'usted', 'muy', 'háblame', 'por', 'favor', 'vale', 'n5', 'quinta', 'entrevista', 'trabajo', 'cuántos', 'idiomas', 'habla', 'hablo', 'inglés', 'francés', 'enhorabuena', 'hablamos', 'entonces', 'ejem', 'el', 'lo', 'leo', 'sí', 'claro', 'o', 'solo', 'escribe', 'escribo', 'n6', 'sexta', 'siete', 'la', 'mañana', 'trabajas', 'enfermera', 'hospital', 'hora', 'terminas', 'termino', 'invito', 'al', 'cine', 'ocho', 's06', 'st00', 'st01', 'st02', 'st03', 'st04', 'st05', 'n7', 'séptima', 'diálogo', 'repaso', 'guapo', 's07', 'hablas', 'catalán', 's08', 's09', 's10', 'n8', 'octava', 'feliz', 'cumpleaños', 'abuela', 'quieres', 'tu', 'quiero', 'tarta', 'regalos', 'nada', 'ser', 'más', 'joven', 'vieja', 'mujer', 'tienes', 'ochenta', 'años', 'tengo', 'setenta', 'nueve', 'ves', 'todavía', 'bueno', 'una', 'botellita', 'coñac', 'un', 'regalo', 'útil', 'abuelo', 'viejo', 'n9', 'novena', 'desayuno', 'café', 'con', 'leche', 'cruasán', 'siento', 'caballero', 'cruasanes', 'tenemos', 'tostadas', 'aceite', 'tomate', 'sobrasada', 'especialidad', 'casa', 'quiere', 'disculpe', 'son', 'menos', 'cuarto', 'oh', 'tarde', 'da', 'tiempo', 'desayunar', 'adiós', 'once', 'n10', 'décima', 'cuándo', 'duermen', 'se', 'cena', 'cenamos', 'diez', 'noche', 'vemos', 'tele', 'nos', 'acostamos', 'doce', 'media', 'os', 'levantáis', 'temprano', 'ya', 'estamos', 'todos', 'despiertos', 'estáis', 'todo', 'día', 'cansados', 'poco', 'sabe', 'que', 'los', 'españoles', 'n11', 'pelando', 'patatas', 'quién', 'ayuda', 'pelar', 'cariño', 'escribiendo', 'correo', 'electrónico', 'puedo', 'mami', 'hablando', 'teléfono', 'amiga', 'tampoco', 'mamá', 'haciendo', 'tarea', 'podéis', 'ayudar', 'hago', 'tortilla', 'yuju', 'están', 'cuántas', 'pelamos', 'muchas', 'sois', 'amables', 'para', 'hacer', 'madre', 'n12', 'tapas', 'pones', 'caña', 'copa', 'rioja', 'pongo', 'tapita', 'hay', 'brava', 'ensaladilla', 'si', 'gusta', 'pescado', 'también', 'bacalao', 'calamares', 'fritos', 'boquerones', 'vinagre', 'encantan', 'pon', 'dos', 'ración', 'marchando', 'tapa', 'gustan', 'encanta', 'n13', 'trece', 'fin', 'semana', 'tenéis', 'plan', 'sábado', 'cansada', 'ni', 'ver', 'nadie', 'conozco', 'bar', 'centro', 'donde', 'buenas', 'baratas', 'ganas', 'ir', 'copas', 'prefiero', 'quedarme', 'viendo', 'película', 'mala', 'idea', 'compro', 'pizzas', 'vosotros', 'compráis', 'cervezas', 'acuerdo', 'cerveza', 'barata', 'este', 'tiene', 'prefiere', 'quedarse', 'n14', 'catorce', 'barato', 'cansado', 'duermo', 'horas', 'duermes', 'seis', 'acuesto', 'levanto', 'n15', 'quince', 'taxi', 'noches', 'señorita', 'adónde', 'vamos', 'velázquez', 'esquina', 'goya', 'tan', 'amable', 'perdone', 'aquí', 'verdad', 'exacto', 'dice', 'porque', 'alta', 'rubia', 'esos', 'ojos', 'azules', 'alemana', 'berlín', 'hace', 'cinco', 'casi', 'madrileño', 'española', 'n16', 'dieciséis', 'pareja', 'enriqueta', 'grandes', 'jaime', 'pequeños', 'negros', 'baja', 'fuerte', 'alto', 'delgado', 'pelirrojo', 'cuando', 'van', 'restaurante', 'siempre', 'pide', 'carne', 'fritas', 'verduras', 'le', 'perros', 'gatos', 'diferentes', 'casados', 'quieren', 'casado', 'pelirroja', 'gato', 'perro', 'n17', 'diecisiete', 'comprando', 'zapatos', 'parte', 'tardes', 'señora', 'ayudarla', 'necesito', 'unos', 'vestir', 'entierro', 'marido', 'ah', 'número', 'calza', 'uso', 'treinta', 'recomendar', 'modelo', 'color', 'negro', 'bastante', 'discretos', 'mal', 'ay', 'quedan', 'comprar', 'necesita', 'discreto', 'cuarenta', 'n18', 'dieciocho', '2', 'probarse', 'estos', 'marrones', 'cómodos', 'demasiado', 'tristes', 'otro', 'alegre', 'su', 'queda', 'aquel', 'par', 'rojo', 'escaparate', 'perfectos', 'mí', 'caros', 'puede', 'descuentito', 'pobre', 'viuda', 'triste', 'cómodo', 'perfecto', 'caro', 'n19', 'diecinueve', 'buscando', 'prado', 'decirme', 'museo', 'del', 'lejos', 've', 'aquella', 'plaza', 'fuente', 'hasta', 'allí', 'luego', 'girar', 'derecha', 'seguir', 'recto', 'durante', 'minutos', 'uf', 'conoce', 'cerca', 'n20', 'veinte', 'compra', 'preciosa', 'vas', 'comer', 'hoy', 'voy', 'arroz', 'marisco', 'mejillones', 'baratísimos', 'kilo', 'ricos', 'espera', 'unas', 'gambas', 'precio', 'tienen', 'esas', 'pequeñas', 'ahí', 'ti', 'regaladas', 'sirvo', 'kilos', 'riquísimas', 'cielo', 'pronto', 'eh', 'pagas', 'dices', 'sardinas', 'n21', 'veintiuno', 'lejísimos', 'pienso', 'otros', 's11', 'uno', 's12', 'esta', 'calle', 'baratísimo', 'n22', 'veintidós', 'enferma', 'carmen', 'alegro', 'verte', 'duele', 'cabeza', 'espalda', 'duelen', 'oídos', 'encuentro', 'hija', 'mía', 'cara', 'pasa', 'algo', 'fatal', 'dolor', 'muelas', 'deja', 'pegar', 'ojo', 'vida', 'charlar', 'contigo', 'n23', 'veintitrés', 'deporte', 'salud', 'actividad', 'apuntarte', 'año', 'papá', 'demasiadas', 'cosas', 'instituto', 'importante', 'fútbol', 'baloncesto', 'balonmano', 'prefieres', 'ninguno', 'sabes', 'horrorizan', 'deportes', 'equipo', 'barça', 'hincha', 'ningún', 'judo', 'piernas', 'brazos', 'interesa', 'apúntame', 'clases', 'guitarra', 'apuntarme', 'horroriza', 'tener', 'buena', 'n24', 'veinticuatro', 'vacaciones', 'verano', 'han', 'sido', 'peores', 'ha', 'pasado', 'primero', 'hemos', 'tenido', 'problemas', 'coche', 'hecho', 'perder', 'tres', 'habéis', 'buen', 'llovido', 'sin', 'parar', 'encima', 'niño', 'roto', 'brazo', 'suerte', 'suegra', 'diciendo', 'inútil', 'nunca', 'próximo', 'quedo', 'niños', 'piscina', 'pierna', 'n25', 'veinticinco', 'invierno', 'tomo', 'demasiada', 'gente', 'calor', 'suelo', 'granada', 'enero', 'febrero', 'sur', 'hombre', 'muchísimo', 'frío', 'nieve', 'esquiar', 'mejor', 'desde', 'costa', 'apenas', 'esquiando', 'sol', 'playa', 'bañador', 'playas', 'estar', 'n26', 'veintiséis', 'buenísimo', 'mira', 'regalado', 'hablar', 'he', 'dicho', 'mil', 'veces', 'animales', 'pájaro', 'dan', 'miedo', 'míralo', 'guau', 'salir', 'sé', 'sacar', 'paciencia', 'llama', 'ese', 'angelito', 'atila', 'déjame', 'ponerle', 'nombre', 'va', 'n27', 'veintisiete', 'alquilando', 'piso', 'comedor', 'habitación', 'agradable', 'mesa', 'grande', 'fea', 'parece', 'ataúd', 'dormitorio', 'íntimo', 'e', 'ideal', 'como', 'ustedes', 'pequeño', 'oscuro', 'visto', 'les', 'enseño', 'último', 'cocina', 'váter', 'independiente', 'baño', 'limpio', 'moderno', 'socorro', 'cucaracha', 'cucarachas', 'aplasto', 'plas', 'parecido', 'feísima', 'habitaciones', 'agradables', 'n28', 'veintiocho', 'pasando', 'apuntas', 'enfermo', 'peor', 'quedado', 'sola', 'vivir', 'nosotros', 'alquilarle', 'pisito', 'n29', 'veintinueve', 'quisiera', 'billete', 'almería', 'sacándolo', 'ida', 'vuelta', '25', 'ciento', 'descuento', 'salgo', 'junio', 'vuelvo', 'desea', 'turista', 'preferente', 'cuesta', 'euros', 'oferta', 'tarjeta', 'doy', 'reserva', 'paga', 'después', 'efectivo', 'salida', '7', '10', '3', 'apunte', 'xh553wb', 'perdón', 'última', 'letra', 'b', 'd', 'córdoba', 'pagar', 'n30', 'felices', 'fiestas', 'nochebuena', 'nochevieja', 'reyes', 'acaben', 'estas', 'divierte', 'fechas', 'bonito', 'digo', 'come', 'bebe', 'eso', 'dinero', 'gasta', 'juguetes', 'carísimos', 'tuyos', 'siguen', 'creyendo', 'magos', 'creo', 'piden', 'noel', 'traiga', 'sea', 'diciembre', 'además', '6', 'diles', 'existen', 'melchor', 'gaspar', 'baltasar', 'traigan', 'bonitas', 'divierto', 'bebo', 'gasto', 'míos', 'n31', 'prima', 'pedro', 'saludas', 'reconoces', 'segundo', 'seguro', 'suena', 'digas', 'acuerdas', 'angélica', 'has', 'cambiado', 'guapísima', 'mucha', 'prisa', 'vayas', 'así', 'móvil', 'pueda', 'llamar', 'rápido', 'apunta', 'cuatro', 'quedar', 'estupenda', 'espero', 'vez', 'olvides', 'reconoce', 'saluda', 'olvidado', 'segura', 'irme', 'quedamos', 'llame', 'n32', 'llamada', 'telefónica', 'disponible', 'actualmente', 'dejar', 'mensaje', 'señal', 'llamado', 'decirte', 'dime', 'contestar', 'perdona', 'molestar', 'igual', 'molestas', 'absoluto', 'preguntarte', 'apetece', 'salgamos', 'clase', 'reconozcas', 'diga', 'deje', 'dígame', 'primo', 'dejado', 'n33', 'ligera', 'permiten', 'haga', 'sugerencia', 'cordero', 'asado', 'chuletón', 'ternera', 'pollo', 'granja', 'exquisito', 'horno', 'guarnición', 'hambre', 'ligero', 'frito', 'plancha', 'ensaladita', 'puré', 'ensalada', 'compartir', 'desean', 'beber', 'vino', 'tinto', 'bebemos', 'alcohol', 'sed', 'tráiganos', 'agua', 'gas', 'jarra', 'permite', 'cambiar', 'n34', 'viaje', 'avión', 'pongan', 'equipaje', 'compartimentos', 'superiores', 'abróchense', 'cinturón', 'seguridad', 'recordamos', 'prohibido', 'fumar', 'vuelo', 'deseamos', 'suya', 'maleta', 'dejarla', 'pasillo', 'ayude', 'subirla', 'vuelva', 'molestarla', 'suyo', 'debe', 'jaulita', 'veras', 'tanto', 'despegue', 'ventanilla', 'deben', 'poner', 'abrocharse', 'recuerdo', 'deseo', 'tengas', 'moleste', 'suyas', 'maletas', 'n35', 'disculpa', 'reconocido', 'quisiéramos', 'invitarte', 'cenar', 'dormir', '31', 'n36', 'encuesta', 'dedicarme', 'pregunten', 'trata', 'antes', 'hacerle', 'preguntas', 'saber', 'edad', 'cuál', 'profesión', 'estado', 'civil', 'acabo', 'cumplir', 'jubilada', 'divorciada', 'frecuencia', 'realiza', 'compras', 'internet', 'menudo', 'mire', 'mío', 'mercado', 'tienda', 'barrio', 'cierto', 'ofrezco', 'cafelito', 'encuestas', 'hagan', 'dedicarle', 'tomar', 'n37', 'vengo', 'anuncio', 'cita', 'siéntese', 'apellidos', 'amaia', 'arguiñano', 'igartiburu', 'vasca', 'bilbao', 'padres', 'abuelos', 'bisabuelos', 'vascos', 'veo', 'currículum', 'vendedora', 'panadería', 'ahora', 'trabajando', 'camarera', 'público', 'contestado', 'esto', 'ropa', 'vender', 'sino', 'aconsejar', 'clientes', 'siente', 'capacitada', 'supuesto', 'apasionada', 'moda', 'mis', 'trabajar', 'sientes', 'n38', 'precisamente', 'estilo', 'nuestra', 'vendemos', 'camisetas', 'vaqueros', 'cazadoras', 'deportivas', 'entiende', 'lleva', 'clásica', 'vestido', 'parecer', 'seria', 'espere', 'foto', 'vea', 'llevar', 'chica', 'enteramente', 'tatuaje', 'enseñe', 'empiezo', 'cuánto', 'cobrar', 'sueldo', 'repito', 'pasión', 'vende', 'vestirte', 'camiseta', 'vestirme', 'decirle', 'llevas', 'n39', 'ven', 'conmigo', 'santiago', 'harto', 'ciudad', 'aire', 'naturaleza', 'alguien', 'camino', 'problema', 'creyente', 'falta', 'serlo', 'peregrinos', 'ante', 'aficionados', 'senderismo', 'deportista', 'subir', 'escalera', 'seas', 'vago', 'gordo', 'preciso', 'hagas', 'razón', 'deportistas', 'n40', 'albergue', 'muero', 'pies', 'mochila', 'pesa', 'barbaridad', 'pienses', 'tus', 'disfruta', 'paisaje', 'campo', 'hojas', 'árboles', 'nubes', 'lloviendo', 'pesado', 'sueño', 'cama', 'sábanas', 'blancas', 'almohada', 'cansancio', 'cobertura', 'pie', 'izquierdo', 'n41', 'norte', 'conocido', 'chat', 'vaya', 'visitarla', 'vive', 'asturias', 'aconsejas', 'verla', 'diferente', 'cariñosa', 'región', 'verde', 'españa', 'montañas', 'bosques', 'ríos', 'vacas', 'mantequilla', 'asturianas', 'famosas', 'oliva', 'ten', 'cuidado', 'cabrales', 'queso', 'huele', 'esa', 'capaz', 'hacerte', 'enamorado', 'visitar', 'quesos', 'asturianos', 'n42', 'dedicar', 'suele', 'aconsejen', 'aficionada', 'harta', 'venga', 's13', 'tenga', 'n43', 'redes', 'sociales', 'prestas', 'bolígrafo', 'porfa', 'boli', 'escribir', 'postal', 'sigues', 'cartas', 'estanco', 'sello', 'sobre', 'papelería', 'encontrar', 'buzón', 'correos', 'rollo', 'paso', 'mandando', 'mensajes', 'amigos', 'ventaja', 'juntos', 'enteramos', 'enseguida', 'recibir', 'ja', 'compañero', 'uni', 'mandado', 'chiste', 'gracioso', 'oye', 'cosa', 'existían', 'hacías', 'escribía', 'mandaba', 'postales', 'quería', 'tenían', 'n44', 'chistes', 'lepe', 'anda', 'gerardo', 'fenomenal', 'noto', 'regular', 'ando', 'desanimado', 'contar', 'escucha', 'cae', 'avioneta', 'cementerio', 'recuperado', 'setecientos', 'cuerpos', 'gracia', 'ninguna', 'suicidio', 'mata', 'gemelo', 'tonto', 'callas', 'humor', 'dejo', 'n45', 'cíber', 'archivos', 'carpeta', 'fotos', 'imprimo', 'borrado', 'imprimirlos', 'recupere', 'póngase', '4', 'oiga', 'ordenador', 'enciende', 'coja', 'teclado', 'funciona', 'raro', '8', 'devuélvame', 'pen', 'quiera', 'cincuenta', 'dura', 'ponga', 'nervioso', 'cámara', 'oculta', 'imprimida', 'borrar', 'pongas', 'n46', 'policía', 'denuncia', 'acaban', 'robar', 'bolso', 'tenía', 'dentro', 'entera', 'dni', 'llaves', 'cartera', 'gafas', 'barra', 'labios', 'ladrón', 'decir', 'era', 'iba', 'moto', 'llevaba', 'chándal', 'pelo', 'largo', 'anillos', 'dedos', 'decía', 'amor', 'denunciar', 'robado', 'sus', 'datos', 'fecha', 'firme', 'martes', '13', 'mayo', 'n47', 'deconstruida', 'abierto', 'otra', 'hamburguesería', 'cerrando', 'restaurantes', 'toda', 'había', 'detrás', 'ayuntamiento', 'podías', 'postre', 'pan', 'daban', 'lentejas', 'lunes', 'cocido', 'cuchara', 'cuchillo', 'tenedor', 'creativa', 'ejemplo', 'vaso', 'ponen', 'huevo', 'abajo', 'cebolla', 'medio', 'patata', 'arriba', 'quedas', 'cerrado', 'pedía', 'n48', 'adictos', 'pantalla', 'hijo', 'sillón', 'vergüenza', 'pasarte', 'delante', 'das', 'cuenta', 'vuelve', 'mentira', 'veas', 'telediario', 'tuyo', 'telebasura', 'leía', 'periódico', 'estaba', 'enterada', 'ocurría', 'mundo', 'luchaba', 'ideas', 'des', 'lata', 'apago', 'jugar', 'rato', 'consola', 'conectarme', 'facebook', 'dios', 'merecer', 'llevo', 'leyendo', 'pasarme', 'jóvenes', 'luchaban', 'n49', 'dado', 'recibía', 'cada', 'meses', 'abriendo', 'vaga', 'decirlo', 'mandas', 'persona', 'estaban', 'volver', 'leer', 'virus', 'borra', 'pierdes', 'ocurrido', 'todas', 'n50', 'cola', 'felipe', 'dame', 'lonchas', 'jamón', 'york', 'llegué', 'pedí', 'acaba', 'di', 'toca', 'demás', 'ruego', 'levanté', 'parado', 'poquito', 'nietos', 'pobres', 'pase', 'agradezco', 'ponme', 'serrano', 'picada', 'muslos', 'pechugas', 'chuletas', 'cerdo', 'hacen', 'n51', 'viva', 'méxico', 'latinoamérica', 'estuve', 'gustó', 'fuimos', 'novios', 'encantó', 'luna', 'miel', 'romántica', 'estuvisteis', 'partes', 'caribe', 'bañamos', 'arena', 'blanca', 'nadamos', 'entre', 'peces', 'colores', 'azul', 'mar', 'increíble', 'viajamos', 'país', 'fascinó', 'pareció', 'encantadora', 'educada', 'europa', 'somos', 'secos', 's14', 'basta', 'preguntar', 'camarero', 's15', 'normal', 'sería', 'traerme', 'n52', 'mexicana', 'atreviste', 'probarla', 'probé', 'mole', 'salsa', 'cacao', 'guindillas', 'chocolate', 'picante', 'dio', 'asco', 'rico', 'amargo', 'pueblos', 'precolombinos', 'hacían', 'bebida', 'roja', 'conquistadores', 'creyeron', 'bebían', 'sangre', 'toman', 'dulce', 'echan', 'azúcar', 'tradición', 'indígena', 'añade', 'nuestras', 'meriendas', 'echaba', 'churros', 'merendar', 'echo', 'n53', 'nuevo', 'cristóbal', 'colón', 'sabía', 'tierra', 'redonda', 'quiso', 'alcanzar', 'indias', 'yendo', 'hacia', 'oeste', 'puso', 'américa', 'creyó', 'llegado', 'llamó', 'indios', 'hombres', 'encontró', 'supo', 'trataba', 'continente', 'empezaron', 'llegar', 'atraídos', 'oro', 'plata', 'barcos', 'llevaron', 'decenas', 'productos', 'nuevos', 'trajeron', 'tantos', 'fue', 'mundialización', 'historia', 'imaginan', 'italiana', 'palomitas', 'nuestros', 'postres', 'vainilla', 'pieles', 'rojas', 'caballos', 'nació', '12', 'octubre', '1492', 'cuatrocientos', 'noventa', 'llegó', 'alcanzado', 'época', 'pensaba', 'conocer', 'mundos', 'primer', 'n54', 'candidato', 'hice', 'convencido', 'conseguir', 'puesto', 'fueron', 'simpáticos', 'preguntarme', 'trampa', 'hiciste', 'tratando', 'tabaco', 'educación', 'rechazar', 'cigarrillo', 'creer', 'fumaste', 'quisieron', 'tipo', 'prensa', 'formar', 'empresa', 'moderna', 'mantenerse', 'informado', 'contestaste', 'costumbre', 'marca', 'pasó', 'echaron', 'reír', 'dijeron', 'habían', 'original', 's16', 'conseguido', 'hacerme', 'caer', 'preguntaron', 'apetecía', 'n55', 'ganga', 'cazadora', 'chula', 'compré', 'ayer', 'rastro', 'pude', 'resistirme', 'tuve', 'regatear', 'tío', 'bajar', 'aviador', 'ruso', 'guerra', 'pagué', 'mitad', 'principio', 'doscientos', 'sensación', 'mangas', 'largas', 'ancha', 'hombros', 'jersey', 'debajo', 'probar', 'falsa', 'crees', 'cuero', 'etiqueta', 'china', 'amigo', 'liebre', 'traté', 'n56', 'pasé', 'supe', 'hicieron', 'trampas', 'entrevistas', 'educados', 'iban', 'mandarme', 'contesté', 'conocía', 'pusimos', 'conté', 'regateado', 'chulo', 'contarles', 'hizo', 'dijiste', 'habías', 'probado', 'echabas', 'españolas', 'dije', 'n57', 'pesadilla', 'anoche', 'extraño', 'soñaste', 'jefe', 'sonreía', 'burles', 'soñé', 'pueblo', 'tráfico', 'ruido', 'atascos', 'paraíso', 'equivocado', 'quizás', 'haya', 'contaminación', 'aburres', 'ostra', 'cuñado', 'mismo', 'cabo', 'volvió', 'créeme', 'gran', 'sepa', 'divertidas', 'acabó', 'sonó', 'despertador', 'lavé', 'vestí', 'fui', 'oficina', 'sonrió', 'perdido', 'sueños', 'n58', 'novela', 'vine', 'anteayer', 'varias', 'novelas', 'acuerda', 'atendí', 'devolver', 'algún', 'alguna', 'página', 'impresa', 'satisfecho', 'libro', 'decían', 'entretenido', 'aburridísimo', 'entiendo', 'premio', 'literario', 'pésimamente', 'escrito', 'gastando', 'broma', 'aparato', 'arreglen', 'devuelvan', 'librera', 'devuelto', 'reconozco', 'prácticamente', 'cuidadoso', 'libros', 'incluso', 'conforme', 'deme', 'papel', 'rotuladores', 'lápices', 'cuadernos', 'próxima', 'lea', 'escrita', 'aburridísima', 'páginas', 'impresas', 'serio', 'lápiz', 'cuaderno', 'n59', 'elige', 'peli', 'primavera', 'fiesta', 'entradas', 'gratis', 'acontecimiento', 'temporada', 'obra', 'famoso', 'director', 'corazón', 'frágil', 'fabuloso', 'dormí', 'lado', 'durmió', 'bruto', 'elijo', 'dispuesto', 'comerme', 'coco', 'psicológico', 'hostias', 'enfades', 'risa', 'gustaban', 'fu', 'fa', 'echamos', 'cruz', 'gano', 'ríes', 'pago', 'dispuesta', 'pelis', 'psicológicas', 'n60', 'sesenta', 'carta', 'querido', 'contenta', 'acabas', 'enviar', 'confieso', 'preocupada', 'noticias', 'tuyas', 'tranquila', 'aunque', 'tristeza', 'estés', 'sepas', 'apruebo', 'totalmente', 'decisión', 'marcharte', 'londres', 'creas', 'antigua', 'lloraban', 'mares', 'familiar', 'extranjero', 'beca', 'oportunidad', 'perderte', 'poder', 'viajar', 'fuera', 'aprovéchala', 'diviértete', 'estudia', 'pueden', 'ambas', 'ojalá', 'sirva', 'estancia', 'labrarte', 'porvenir', 'vuelvas', 'consigas', 'querida', 'contento', 'permita', 'n61', 'lluvia', 'gris', 'adelgazado', 'tenías', 'nariz', 'mientas', 'resfriado', 'esperar', 'abrígate', 'sales', 'pensar', 'comidas', 'debes', 'cualquier', 'bocadillos', 'caliente', 'adivina', 'encontré', 'teresa', 'estudió', 'bachillerato', 'preguntó', 'pidió', 'dirección', 'casualidad', 'inglaterra', 'semanas', 'dar', 'algunas', 'cositas', 'chorizos', 'latas', 'fabada', 'aceitunas', 'calcetines', 'lana', 'chiquilla', 'mona', 'inteligente', 'cuídate', 'besos', 'pd', 'olvidaba', 'chicos', 'sucísimo', 'poneos', 'limpiar', 'mandar', 'comes', 'n62', 'aguirre', 'relación', 'busco', 'pasear', 'personas', 'momento', 'piensa', 'llevarlo', 'parque', 'correr', 'saltar', 'mascotas', 'dedica', 'carreras', 'maestra', 'desempleada', 'modo', 'particulares', 'hijos', 'sacando', 'pésimas', 'notas', 'escuela', 'revoltosos', 'canguro', 'volvieron', 'loca', 'fácil', 'preocupe', 'animal', 'resista', 'sacarlo', 'preocupes', 'mascota', 'n63', 'salí', 'cayó', 'pasaba', 'comiéndose', 'paro', 'saqué', 'ganado', 'dando', 'paseando', 'marcha', 'encuentre', 'marcho', 'aún', 'realizar', 'aprovecharla', 'comida', 'inglesa', 'n64', 'carné', 'conducir', 'disgustado', 'suspender', 'teórico', 'práctico', 'aprobé', 'saltado', 'semáforo', 'atropello', 'conduzco', 'despacio', 'autopista', 'carretera', 'necesitas', 'transporte', 'peligroso', 'gasolina', 'multas', 'sale', 'detesto', 'tren', 'mareo', 'barco', 'aguanto', 'autobús', 'intentado', 'bicicleta', 'caigo', 'autoescuela', 'psicólogo', 'aprobar', 'suspendido', 'multa', 'autopistas', 'n65', 'refranes', 'paras', 'bostezar', 'acosté', 'tantas', 'levantado', 'amanecer', 'madruga', 'estudiando', 'sobresaliente', 'examen', 'rogando', 'mazo', 'carrera', 'matricularás', 'termines', 'podrás', 'elegir', 'quieras', 'decidido', 'haré', 'medicina', 'estudios', 'largos', 'difíciles', 'asusta', 'interesan', 'beberé', 'pertenezco', 'médicos', 'seré', 'médico', 'cirujano', 'señas', 'palo', 'astilla', 'tomando', 'madrugo', 'bostezando', 'matricularse', 'difícil', 'muchos', 'sobresalientes', 'cirujanos', 'apruebes', 'exámenes', 'acostado', 'n66', 'décimo', 'lotería', 'navidad', 'compartimos', 'juegos', 'azar', 'tontería', 'arrepentirás', 'tocará', 'veremos', 'jugador', 'remediar', 'cupones', 'ciegos', 'apuesto', 'línea', 'partidos', 'monedas', 'tragaperras', 'harás', 'tendré', 'echarle', 'mano', 'enfadarán', 'supongo', 'vendrán', 'pedirme', 'saldrán', 'felicidad', 'sabrás', 'amistad', 'interés', 'deprimido', 'paz', 'ahorro', 'preocupaciones', 'acepto', 'toque', 'echarles', 'moneda', 'eche', 'gastas', 'apostando', 'tocado', 'cupón', 'n67', 'culpa', 'acabado', 'cerillas', 'caliento', 'sopa', 'mechero', 'tirarlos', 'dejaste', 'quejarte', 'salto', 'suelto', 'cien', 'cajero', 'dile', 'cambie', 'querrá', 'pague', 'caja', 'haz', 'pedirle', 'fuego', 'vecino', 'encontrado', 'fondo', 'bolsillo', 'pantalón', 'esperas', 'llover', 'sombrero', 'ponerme', 'abrigo', 'gabardina', 'lento', 'haces', 'propósito', 'nerviosa', 'date', 'cuanto', 'volverás', 'dé', 'cambio', 'saca', 'n68', 'mientras', 'propósitos', 'peso', 'quepo', 'engordado', 'cerrar', 'cuello', 'camisa', 'saldré', 'llueva', 'sople', 'viento', 'festivos', 'laborables', 'sudar', 'sufrir', 'pondré', 'dieta', 'comeré', 'fruta', 'verdura', 'manzanas', 'plátanos', 'peras', 'puerros', 'brócolis', 'gota', 'zumo', 'zanahoria', 'yogures', 'bravo', 'seamos', 'fuertes', 'valientes', 'será', 'habrá', 'voluntad', 'pasen', 'sentiremos', 'empezamos', 'boda', 'brindemos', 'adentro', 'iré', 'esté', 'n69', 'cría', 'cuervos', 'cantante', 'aburren', 'mayor', 'dejará', 'dedicarse', 'música', 'gustaba', 'cantar', 'grabar', 'discos', 'hacerse', 'canciones', 'disparate', 'pasará', 'golpe', 'actriz', 'quien', 'entienda', 'juventud', 'músicos', 'actores', 'artistas', 'arreglará', 'grifos', 'fontaneros', 'sobrino', 'formal', 'política', 'salido', 'ellos', 'eran', 'izquierdistas', 'muchacho', 'derechas', 'estudiar', 'empresariales', 'negocios', 'sacarán', 'sobrina', 'actor', 'n70', 'debo', 'céntimos', 'finalmente', 'trae', 'entere', 'levantará', 'dará', 'músico', 'ahorrado', 'n71', 'santo', 'pistolas', 'encargada', 'servirle', 'podría', 'artículo', 'recién', 'comprado', 'tirado', 'tique', 'nuevecito', 'minifalda', 'antemano', 'sentaría', 'cuñada', 'adrede', 'fastidiarme', 'pondría', 'corto', 'rodilla', 'naranja', 'lunares', 'amarillos', 'sobrio', 'maravilla', 'elegante', 'feo', 'valdría', 'ocasiones', 'probadores', 'probarme', 'amarillo', 'falda', 'nuevecita', 'corta', 'fastidiarte', 'n72', 'mírese', 'espejo', 'prenda', 'entretiempo', 'algodón', 'serviría', 'otoño', 'estrecho', 'cintura', 'muévase', 'dese', 'perdiendo', 'kilito', 'quedaría', 'rayas', 'cree', 'favorece', 'existe', 'liso', 'cuadros', 'llevaría', 'sección', 'caballeros', 'traje', 'gustaría', 'informal', 'americana', 'sport', 'talla', '50', 'corbata', 'juego', 'rebajada', 'hacemos', 'arreglos', 'detallito', 'blusa', 'morada', 'odia', 'usa', '40', 'búsqueme', '38', 'perfecta', '42', 'n73', 'basura', 'tirar', 'estropeado', 'caído', 'arreglo', 'viejecito', 'algunos', 'añitos', 'batería', 'descarga', 'pis', 'pas', 'enchufado', 'portátil', 'deberías', 'cambiarlo', 'salen', 'modelos', 'memoria', 'capacidad', 'almacenamiento', 'velocidad', 'lentísimo', 'colgado', 'faltan', 'teclas', 'lugar', 'compraría', 'meterlo', 'bolsa', 'cargador', 'ratón', 'contenedor', 'adelante', 'informática', 'vivirías', 'coronilla', 'tecnologías', 'tíralo', 'enchufada', 'metería', 'viviría', 'n74', 'ranas', 'críen', 'festival', 'benicàssim', 'habría', 'abono', 'megaconciertos', 'quisiste', 'venir', 'harías', 'pensándolo', 'pereza', 'interesarte', 'discoteca', 'ibiza', 'megafonía', 'tope', 'sordo', 'puedes', 'cruzar', 'palabra', 'gritar', 'doliéndote', 'garganta', 'bailar', 'apretado', 'montón', 'borracha', 'diría', 'conciertos', 'vengas', 'escuchar', 'flamenco', 'ambientazo', 'sentada', 'silla', 'madera', 'frente', 'guitarrista', 'calvo', 'sala', 'vacía', 'llena', 'turistas', 'queremos', 'concierto', 'sacarlas', 'doliéndome', 'iría', 'n75', 'hoteles', 'encanto', 'hotel', 'deberíamos', 'reservar', 'búsquedas', 'saldría', 'matrimonial', 'serían', '34', 'leído', 'valoraciones', 'fías', 'imprescindible', 'quot', 'tendría', 'vistas', 'dieron', 'daba', 'patio', 'acondicionado', 'averiado', 'abrimos', 'ventana', 'hubo', 'cerrarla', 'olores', 'jabón', 'bombillas', 'fundidas', 'lavabo', 'atascado', 'metimos', 'medianoche', 'cuadro', 'descolgó', 'pared', 'solito', 'gusten', 'terror', 'vayáis', 'preferirías', 'camping', 'tendríamos', 'abrir', 'ventanas', 'fiarse', 'n76', 'ocurre', 'achís', 'faltaba', 'ocurrió', 'mente', 'bungaló', 'lavandería', 'duchas', 'aparcamiento', 'quinceañeros', 'campaña', 'zona', 'salvaje', 'pille', 'guardia', 'enterar', 'peine', 'soledad', 'descansar', 'acaso', 'habrías', 'preferido', 'veranear', 'rodeada', 'muchedumbre', 'ruidosa', 'desnuda', 'descalza', 'bajo', 'estrellas', 'soporto', 'mojada', 'ocurra', 'apaga', 'llene', 'bichos', 'picado', 'mosquito', 'bicho', 'descalzo', 'mosquitos', 'n77', 'sigas', 'mirándote', 'grites', 'sorda', 'aconséjame', 'pondrías', 'chaqueta', 'morado', 'viejecita', 'estrecha', 'debería', 'tirarla', 'fabulosa', 'pillar', 'apagado', 'tenerlas', 'quedó', 'reservando', 'sacarías', 'olvidó', 'n78', 'esposa', 'ayudo', 'tareas', 'reñimos', 'pasar', 'aquellos', 'tiempos', 'libre', 'soltero', 'estuviera', 'lista', 'menor', 'esfuerzo', 'quisieras', 'dieran', 'echar', 'siesta', 'blandito', 'imagino', 'desearías', 'dejaran', 'regresar', 'hicieran', 'reproches', 'recibieran', 'caricias', 'sonrisas', 'techo', 'libertad', 'adivinas', 'pensamientos', 'solución', 'iglesia', 'reza', 'convierta', 'regresado', 'rezarle', 'llevamos', 'riño', 'teníamos', 'hacía', 'éramos', 'solteros', 'n79', 'recuerdos', 'infancia', 'necesitaría', 'subieras', 'mes', 'comprarte', 'videojuegos', 'violentos', 'salvar', 'planeta', 'extraterrestres', 'jugaba', 'recogíamos', 'chapas', 'pintábamos', 'futbolistas', 'balón', 'garbanzo', 'empujábamos', 'chapa', 'uña', 'gol', 'pudiera', 'pesar', 'jugabais', 'cogíamos', 'palos', 'piedras', 'escondíamos', 'sorprender', 'pegara', 'matar', 'seres', 'virtuales', 'remedio', 'cómprate', 'recoger', 'pintarlas', 'violento', 'pegaba', 'volviera', 'futbolista', 'n80', 'costumbres', 'fijado', 'horarios', 'saldríamos', 'ganando', 'viviéramos', 'países', 'durmiéramos', 'seríamos', 'eficaces', 'échale', 'mapa', 'mediterráneos', 'nuestro', 'fresco', 'terraza', 'niego', 'despertarme', 'canta', 'gallo', 'acostarme', 'gallinas', 'dicen', 'causa', 'fracaso', 'escolar', 'quedaran', 'estarían', 'atentos', 'locura', 'sentido', 'saliera', 'podrían', 'sociedad', 'justa', 'suecia', 'dale', 'suecos', 'parecen', 'estupendas', 'fueran', 'malas', 'vendrían', 'mediterránea', 'n81', 'contra', 'corrida', 'pagaran', 'interesante', 'tratara', 'estaría', 'busca', 'sufrimiento', 'muerte', 'toro', 'opinión', 'tauromaquia', 'arte', 'belleza', 'peligro', 'valentía', 'parezca', 'aman', 'partidario', 'prohibieran', 'zoológicos', 'pasarse', 'encerrado', 'cárcel', 'discurso', 'pone', 'nervios', 'punta', 'prohibiría', 'corridas', 'dejáramos', 'trato', 'hagamos', 'vegetarianos', 'dejaré', 'toros', 'matara', 'parecerá', 'buscan', 'partidarios', 'discursos', 'haría', 'n82', 'víspera', 'san', 'juan', 'compráramos', 'barbacoa', 'cogemos', 'sombrilla', 'toallas', 'neverita', 'pasamos', 'orilla', 'preferida', 'puesta', 'hogueras', 'mojamos', 'pedimos', 'tocara', 'siguiéramos', 'cumplieron', 'morcillas', 'choricitos', 'ligerito', 'pinchitos', 'olvidar', 'hielo', 'bolsas', 'cubitos', 'refrescos', 'helados', 'sabores', 'limón', 'turrón', 'platos', 'vasos', 'desechables', 'servilletas', 'manos', 'palillos', 'dientes', 'comprimidos', 'estómago', 'nevera', 'saben', 'compremos', 'n83', 'aúpa', 'atleti', 'empieza', 'partido', 'frigorífico', 'deprisa', 'súper', 'traigo', 'pidiéramos', 'solía', 'hacerlo', 'abrí', 'sitio', 'comoencasa', 'com', 'experiencias', 'equivocaron', 'pedido', 'entregaron', 'recuerdas', 'usuario', 'puse', 'mail', 'rojiblanco', '87', 'guión', 'arroba', 'punto', 'contraseña', 'colchonero', 'pinta', 'menú', 'sándwiches', 'atún', 'pavo', 'empanadillas', 'pedir', 'batido', 'fresa', 'pídeme', 'llamen', 'telefonillo', 'c', 'casilla', 'propina', 'repartidor', 'marco', 'ganemos', 'ábrete', 'darla', 'directamente', 'n84', 'soportarías', 'despertaría', 'acostaría', 'partidaria', 'adivino', 'ayudarías', 'listo', 'riñas', 'echas', 'quedarte', 'charlando', 'preparo', 'vacío', 'n85', 'pérez', 'presidente', 'ascensor', 'calefacción', 'helada', 'escaleras', 'hechas', 'extraña', 'portero', 'portería', 'vigilar', 'impedir', 'entraran', 'vendedores', 'edificio', 'desastre', 'ático', 'sótano', 'junta', 'vecinos', 'montar', 'harán', 'caso', 'conforman', 'cambiará', 'administrador', 'engaña', 'vista', 'gorda', 'presentar', 'comunidad', 'enemigos', 'lema', 'vota', 'averiada', 'votarán', 'n86', 'cotilleos', 'quinto', 'bigote', 'sabelotodo', 'pijo', 'leyes', 'portera', 'contado', 'trabajaba', 'bufete', 'abogados', 'despidieron', 'realidad', 'dejas', 'piedra', 'presume', 'empleo', 'pasta', 'forrados', 'sólo', 'ligón', 'conoció', 'embarazada', 'casaron', 'yerno', 'ojitos', 'tercero', 'don', 'celosa', 'anteanoche', 'andaba', 'borracho', 'porteros', 'cobran', 'enteraríamos', 'envidiosa', 'duro', 'presumiría', 'pija', 'tuviera', 'n87', 'averías', 'accidentes', 'arranca', 'entendieras', 'bájate', 'empuja', 'hubieras', 'aparcado', 'conseguiría', 'haber', 'mueva', 'ánimo', 'inténtalo', 'puf', 'rindo', 'manera', 'estuvo', 'taller', 'pasada', 'mecánico', 'honrado', 'cochecito', 'kilómetros', 'recorridos', 'ensuciarme', 'resulta', 'tomé', 'prestado', 'llenado', 'depósito', 'gasolinera', 'pinchó', 'rueda', 'noticia', 'disgustos', 's17', 'airbag', 'ensúciate', 'arrancar', 'conociéramos', 'echarnos', 'n88', 'tina', 'hicieras', 'mudar', 'patas', 'podrías', 'asistenta', 'viniera', 'echarme', 'trabajadora', 'limpieza', 'quedé', 'estupefacta', 'limpió', 'cristales', 'quitó', 'polvo', 'estanterías', 'barrió', 'fregó', 'suelos', 'moviendo', 'muebles', 'fuerza', 'partió', 'escoba', 'fregona', 'lavó', 'sacudió', 'alfombras', 'limpia', 'cose', 'torpe', 'electrodomésticos', 'lavadora', 'olvida', 'detergente', 'único', 'defecto', 'convencida', 'voz', 'cantando', 'verdes', 'tendrás', 'acostumbrarte', 'sacudieras', 'limpiaras', 'mover', 'barrer', 'lleno', 'n89', 'aproveche', 'humo', 'viene', 'bizcocho', 'quemado', 'bomberos', 'ilusión', 'agradeces', 'burlándote', 'córtame', 'trozo', 'probarlo', 'debí', 'dejarlo', 'crujiente', 'crudo', 'sincero', 'echado', 'harina', 'levadura', 'éxito', 'repostería', 'taza', 'té', 'galletas', 'mermelada', 'cocinera', 'intento', 'sosa', 'sal', 'blanda', 'cuece', 'general', 'descubierto', 'nueva', 'receta', 'mueres', 'debiste', 'cortado', 'provecho', 'cuezo', 'bizcochos', 'bollería', 'crujientes', 'soso', 'n90', 'tócame', 'roque', 'tubo', 'destapado', 'efecto', 'dejéis', 'pelos', 'afeitáis', 'equivoquéis', 'cepillo', 'cojáis', 'gastéis', 'gel', 'ducha', 'compréis', 'higiénico', 'semejante', 'pandilla', 'infierno', 'convivir', 'distintos', 'hubiera', 'solita', 'buscarme', 'trabajillos', 'alquiler', 'ataque', 'huésped', 'italiano', 'vais', 'juerga', 'darme', 'tranquilizarme', 'champú', 'demonios', 'usado', 'use', 'afeita', 'estudiante', 'conviví', 'n91', 'ahorrar', 'cotilla', 'llevé', 'dijo', 'despedido', 'pido', 'enteras', 'trabajillo', 'avisas', 'vienes', 'encuentras', 'estudiantes', 'huéspedes', 'sinceramente', 'juergas', 'laven', 'barran', 'frieguen', 'cocinen', 's18', 's19', 'cocinar', 'n92', 'tomarme', 'sabático', 'conformaría', 'rincones', 'viajado', 'lugares', 'desconocidos', 'extremadura', 'asignatura', 'pendiente', 'teatro', 'romano', 'mérida', 'palacios', 'trujillo', 'perdería', 'valle', 'jerte', 'mediados', 'marzo', 'cientos', 'miles', 'cerezos', 'cubren', 'flores', 'nevado', 'espectáculo', 'inolvidable', 'molan', 'atlántico', 'olas', 'tarifa', 'windsurf', 'puestos', 'islas', 'canarias', 'exótico', 'imposible', 'teide', '718', 'metros', 'máximo', 'participar', 'carnaval', 'santa', 'tenerife', 'palma', 'disfrazado', 'indiano', 'fumando', 'puro', 'cuba', 'soñar', 'inolvidables', 'tomaría', 'exóticos', 'dimos', 'isla', 'subimos', 'n93', 'ruta', 'quijote', 'mancha', 'cuyo', 'acordarme', 'frase', 'español', 'obras', 'literatura', 'imagen', 'sancho', 'panza', 'montado', 'burro', 'turística', 'pasos', 'héroe', 'cervantes', 'hidalgo', 'loco', 'caballería', 'decide', 'pleno', 'siglo', 'defendiendo', 'débiles', 'saliendo', 'toledo', 'inmortalizada', 'pintor', 'greco', 'recorrerás', 'llanuras', 'sierras', 'lagunas', 'encontrarás', 'molinos', 'luchó', 'gigantes', 'uvas', 'viñedos', 'imagínate', 'sombra', 'árbol', 'tomándote', 'valdepeñas', 'fresquito', 'animas', 'anímate', 'bonita', 'defendían', 'n94', 'misterios', 'mayas', 'interesas', 'civilizaciones', 'antiguas', 'u', 'charco', 'hispanoamérica', 'sureste', 'guatemala', 'honduras', 'verás', 'millones', 'indígenas', 'prehispánicos', 'sentirás', 'milenaria', 'cultura', 'maya', 'remonta', 'alrededor', '2000', 'cristo', 'alcanzó', 'desarrollo', '250', '900', 'novecientos', 'mejores', 'astrónomos', 'europeos', 'construyeron', 'pirámides', 'inventaron', 'cero', 'escritura', 'mezclaba', 'dibujos', 'representaciones', 'sonidos', 'textos', 'quemados', 'llegaron', 'ciudades', 'abandonadas', 'siglos', 'historiadores', 'ciencia', 'cierta', 'desapareció', 'civilización', 'guerras', 'cambios', 'climáticos', 'selvas', 'centroamérica', 'esconden', 'oiréis', 'inventado', 'antiguos', 'quemaron', 'desaparecieron', 'podemos', 'ejemplos', 'n95', 'águila', 'serpiente', 'aztecas', 'nómada', 'cuya', 'lengua', 'náhuatl', 'según', 'profecía', 'fundar', 'tenochtitlán', 'vieran', '1325', 'trescientos', 'encuentra', 'actual', 'partir', 'inmenso', 'imperio', 'extendió', 'conquista', 'pobladas', 'religión', 'azteca', 'descansaba', 'desaparecería', 'sacrificios', 'humanos', 'cortés', '1519', 'quinientos', 'destruyó', 'reivindica', 'orgullo', 'antepasados', 'estatua', 'cuauhtémoc', 'emperador', 'cruce', 'avenidas', 'importantes', 'capital', 'estadio', 'bandera', 'llegada', 'desapareciera', 'destruido', 'realizaran', 'fundaréis', 'veáis', 'cuyas', 'compartían', 'podía', 'apagarse', 'n96', 'érase', 'argentina', 'superficie', '780', '000', 'cuadrados', 'hispanohablante', 'extenso', 'iberoamérica', 'tras', 'brasil', 'tamaño', 'abarca', 'variedad', 'climática', 'seco', 'húmedo', 'estaciones', 'andes', 'forman', 'frontera', 'natural', 'chile', 'pampa', 'inmensa', 'llanura', 'hierbas', 'altura', 'dedicada', 'ganadería', 'cultivo', 'trigo', 'asocia', 'tradicional', 'gaucho', 'vaquero', 'argentino', 'imperios', 'incas', 'perú', 'numerosa', 'población', 'poblaron', 'inmigrantes', 'italianos', 'orígenes', 'finales', 'principios', 'aires', 'pizzerías', 'estadios', 'librerías', 'habitante', 'tango', 'refleja', 'raíces', 'sabés', 'bailarlo', 'conocen', 'desarrollar', 'necesitan', 'superficies', 'hierba', 'poblado', 'origen', 'europeo', 'clima', 'estación', 'húmeda', 'seca', 'n97', 'menuda', 'mallorca', 'julio', 'regreso', '15', 'agosto', '43', '70', 'podido', 'asiento', 'factures', 'costará', 'fiaría', 'vuelos', 'coste', 'embarque', 'tranquilo', 'cancelan', 'dejan', 'aeropuerto', 'envidia', 'confiésalo', 'daría', 'tanta', 'destino', 'aprovecharía', 'ocasión', 'compartido', 'pasaría', 'blancos', 'guadalquivir', 'vería', 'jaén', 'millares', 'olivos', 'llegaría', 'queriendo', 'desierto', 'tabernas', 'rodado', 'películas', 'fío', 'creemos', 'final', 'facturar', 'costado', 'menudas', 'cancelaron', 'dejaron', 'tirados', 'prefieren', 'n98', 'hayas', 'cruzado', 'entendería', 'siquiera', 'conoces', 'argumento', 'mola', 'desconocido', 'recorrer', 'caballo', 'querrás', 'hemisferio', 'mismas', 'seguirías', 'cruzaría', 'inmensas', 'subiría', 'paisajes', 'desiertos', 'terminar', 'fumaría', 'habana', 'mándame', 'conformo', 'n99', 'ofenderte', 'cabra', 'explico', 'viajaría', 'valencia', 'despacito', 'etapas', 'divinamente', 'reloj', 'reservarías', 'billetes', 'retraso', 'desespero', 'pierdo', 'cojo', 'siguiente', 'elección', 'tardarás', 'tomarte', 'dársenas', 'puertos', 'andenes', 'construyeran', 'puente', 'andando', 'disfrutar', 'trayecto', 'temo', 'jubile', 'daré', 'carguero', 'esperes', 'jubilarte', 'viajes', 'sueñas', 'desesperes', 'construyan', 'tardamos', 'andén', 'n100', 'continuará', 'colorín', 'colorado', 'cuento', 'terminan', 'cuentos', 'empezar', 'traducir', 'frases', 'idioma', 'habido', 'situaciones', 'palabras', 'nuevas', 'giros', 'reglas', 'gramaticales', 'consigues', 'dominarlo', 'desenvolverte', 'cotidiana', 'refrán', 'ganó', 'zamora', 'bastan', 'dedicación', 'expresarse', 'soltura', 'practica', 'diario', 'lee', 'radio', 'programas', 'canción', 'lavas', 'navega', 'bases', 'aprovechar', 'contenidos', 'recursos', 'digitales', 'recuerda', 'boca', 'equivoca', 'derecho', 'cometer', 'errores', 'tirarse', 'ruedo', 'codos', 'despedirse', 'verdadero', 'placer', 'acompañarte', 'dominar', 'repasar'])"
      ]
     },
     "execution_count": 469,
     "metadata": {},
     "output_type": "execute_result"
    }
   ],
   "source": [
    "global_word_dict.keys()"
   ]
  },
  {
   "cell_type": "code",
   "execution_count": 476,
   "id": "d9b25854-0262-43c5-ad91-d98ba3be2252",
   "metadata": {},
   "outputs": [
    {
     "data": {
      "text/plain": [
       "8230"
      ]
     },
     "execution_count": 476,
     "metadata": {},
     "output_type": "execute_result"
    }
   ],
   "source": [
    "ord(\"…\")"
   ]
  },
  {
   "cell_type": "code",
   "execution_count": 478,
   "id": "3c3e62ff-9b77-4167-b186-de10c7ef9dc8",
   "metadata": {},
   "outputs": [
    {
     "ename": "KeyError",
     "evalue": "'…'",
     "output_type": "error",
     "traceback": [
      "\u001b[0;31m---------------------------------------------------------------------------\u001b[0m",
      "\u001b[0;31mKeyError\u001b[0m                                  Traceback (most recent call last)",
      "Cell \u001b[0;32mIn[478], line 1\u001b[0m\n\u001b[0;32m----> 1\u001b[0m \u001b[43mglobal_word_dict\u001b[49m\u001b[43m[\u001b[49m\u001b[38;5;124;43m\"\u001b[39;49m\u001b[38;5;124;43m…\u001b[39;49m\u001b[38;5;124;43m\"\u001b[39;49m\u001b[43m]\u001b[49m\n",
      "\u001b[0;31mKeyError\u001b[0m: '…'"
     ]
    }
   ],
   "source": [
    "global_word_dict[\"…\"]"
   ]
  },
  {
   "cell_type": "code",
   "execution_count": 486,
   "id": "7642a767-9318-4bb0-954d-fe2946fe8391",
   "metadata": {},
   "outputs": [
    {
     "name": "stdout",
     "output_type": "stream",
     "text": [
      "in leçon : 1, line : 0\n",
      "['N1', '-', 'Lección', 'primera']\n",
      "-----------\n",
      "\n",
      "in leçon : 1, line : 1\n",
      "['S00', '-', 'TITLE', '-', '¡', 'Qué', 'sorpresa', '!']\n",
      "-----------\n",
      "\n",
      "in leçon : 1, line : 2\n",
      "['S01', '-', '¡', 'Hola', ',', 'Laura', '!']\n",
      "-----------\n",
      "\n",
      "in leçon : 1, line : 3\n",
      "['S02', '-', '¡', 'Hola', ',', 'Paco', ',', 'qué', 'sorpresa', '!']\n",
      "-----------\n",
      "\n",
      "in leçon : 1, line : 4\n",
      "['S03', '-', '¿', 'Cómo', 'estás', ',', 'guapa', '?']\n",
      "-----------\n",
      "\n",
      "in leçon : 1, line : 5\n",
      "['S04', '-', '¡', 'Bien', ',', 'gracias', '!', '¿', 'Y', 'tú', ',', 'qué', 'tal', '?']\n",
      "-----------\n",
      "\n",
      "in leçon : 1, line : 6\n",
      "['S05', '-', 'Estoy', 'pachucho', '…']\n",
      "-----------\n",
      "\n",
      "in leçon : 1, line : 7\n",
      "['T00', '-', 'TRANSLATE', '-', 'Ejercicio', '1', '–', 'Traduzca']\n",
      "-----------\n",
      "\n",
      "in leçon : 1, line : 8\n",
      "['T01', '-', '¿', 'Qué', 'tal', '?']\n",
      "-----------\n",
      "\n",
      "in leçon : 1, line : 9\n",
      "['T02', '-', '¿', 'Cómo', 'estás', '?']\n",
      "-----------\n",
      "\n",
      "in leçon : 1, line : 10\n",
      "['T03', '-', '¡', 'Hola', ',', 'guapa', ',', 'qué', 'sorpresa', '!']\n",
      "-----------\n",
      "\n",
      "in leçon : 1, line : 11\n",
      "['T04', '-', '¿', 'Estás', 'pachucho', '?']\n",
      "-----------\n",
      "\n",
      "in leçon : 1, line : 12\n",
      "['T05', '-', 'Estoy', 'bien', ',', 'gracias', '.']\n",
      "-----------\n",
      "\n"
     ]
    }
   ],
   "source": [
    "from tonic_accent import get_sentences_from_audio_files, get_sentences\n",
    "k= 0\n",
    "for lesson_nb in range(1, 2):\n",
    "    sentences_1 = get_sentences_from_audio_files(lesson_nb)\n",
    "    for i, sentence in enumerate(sentences_1):\n",
    "        tokens = re.findall(r\"[\\w]+|[.,¡!¿:&\\-?;–…]\", sentence)\n",
    "        print(f\"in leçon : {lesson_nb}, line : {i}\")\n",
    "        print(tokens)\n",
    "        print(\"-----------\\n\")\n"
   ]
  },
  {
   "cell_type": "code",
   "execution_count": 495,
   "id": "ff5e91c9-eff8-4cfe-936e-799ce88c0ef7",
   "metadata": {},
   "outputs": [],
   "source": [
    "a=\"toto ...titi, tata\""
   ]
  },
  {
   "cell_type": "code",
   "execution_count": 496,
   "id": "787f412e-7262-440a-8559-8620b634acad",
   "metadata": {},
   "outputs": [
    {
     "data": {
      "text/plain": [
       "5"
      ]
     },
     "execution_count": 496,
     "metadata": {},
     "output_type": "execute_result"
    }
   ],
   "source": [
    "a.find(\"...\")"
   ]
  },
  {
   "cell_type": "code",
   "execution_count": 497,
   "id": "2da4c787-c622-48b7-a936-5c83c5a96892",
   "metadata": {},
   "outputs": [],
   "source": [
    "b=\"bof bof\""
   ]
  },
  {
   "cell_type": "code",
   "execution_count": 498,
   "id": "a0909f9d-b891-49b3-b336-731191cd2380",
   "metadata": {},
   "outputs": [
    {
     "data": {
      "text/plain": [
       "-1"
      ]
     },
     "execution_count": 498,
     "metadata": {},
     "output_type": "execute_result"
    }
   ],
   "source": [
    "b.find(\"...\")"
   ]
  },
  {
   "cell_type": "code",
   "execution_count": 502,
   "id": "56a5aa5c-c36f-4dc5-a137-4d7fc71f983c",
   "metadata": {},
   "outputs": [
    {
     "name": "stdout",
     "output_type": "stream",
     "text": [
      "... found in lesson : 7, line : 3, S02-Bien, gracias... ¿Y usted?\n",
      "Attribute Error with file : .DS_Store\n",
      "Attribute Error with file : .DS_Store\n",
      "... found in lesson : 38, line : 2, S01-Precisamente, no creo que su estilo sea el de nuestra tienda... \n",
      "... found in lesson : 46, line : 10, S09-Sí, también quería denunciar que me han robado el perro esta mañana...\n",
      "... found in lesson : 49, line : 8, S07-Sí, pero lo bueno de las cartas era que estaban ahí para siempre y las podías volver a leer...\n",
      "... found in lesson : 51, line : 22, T05-Me fascinó México: el azul increíble del mar, la arena blanca de las playas, los peces de colores...\n",
      "... found in lesson : 52, line : 12, S11-Nuestras meriendas sí que las echaba de menos: un buen chocolate con churros...\n",
      "... found in lesson : 55, line : 13, S12-No pesa mucho, parece falsa... ¿De verdad crees que es de cuero?\n",
      "... found in lesson : 55, line : 14, S13-¿Has visto la etiqueta?... ¡Hecho en China!\n",
      "... found in lesson : 60, line : 14, S13-Aunque, claro, mi sueño es que vuelvas pronto a España y consigas un trabajo aquí...\n",
      "... found in lesson : 86, line : 5, S04-Pues la portera me ha contado que trabajaba en un bufete de abogados y que lo despidieron... \n",
      "... found in lesson : 98, line : 12, S11-Cruzaría las llanuras inmensas de la pampa, subiría al punto más alto de América, en los Andes, vería paisajes inolvidables, selvas y desiertos... \n",
      "... found in lesson : 100, line : 18, S17-Fue un verdadero placer acompañarte. ¡Buen viaje... y hasta pronto!\n",
      "... trouvé dans 12 paragraphes\n"
     ]
    }
   ],
   "source": [
    "from tonic_accent import get_sentences_from_audio_files, get_sentences\n",
    "k= 0\n",
    "for lesson_nb in range(1, 101):\n",
    "    sentences_1 = get_sentences_from_audio_files(lesson_nb)\n",
    "    for line_nb, sentence in enumerate(sentences_1):\n",
    "        if sentence.find(\"...\") != -1:\n",
    "            print(f\"... found in lesson : {lesson_nb}, line : {line_nb}, {sentence}\")\n",
    "            k += 1\n",
    "print(f\"... trouvé dans {k} paragraphes\")\n",
    " "
   ]
  },
  {
   "cell_type": "code",
   "execution_count": 509,
   "id": "8a2ea420-5d03-410c-ac11-826c75e94296",
   "metadata": {},
   "outputs": [
    {
     "name": "stdout",
     "output_type": "stream",
     "text": [
      "Attribute Error with file : .DS_Store\n",
      "Attribute Error with file : .DS_Store\n",
      "… found in lesson : 17, line : 1, S00-TITLE-Comprando zapatos (1.a parte)\n",
      "… found in lesson : 18, line : 1, S00-TITLE-Comprando zapatos (2.a parte)\n",
      "… found in lesson : 29, line : 3, S02-Sacándolo de ida y vuelta tiene usted el 25 % (veinticinco por ciento) de descuento.\n",
      "… found in lesson : 37, line : 1, S00-TITLE-Vengo por el anuncio (1.a parte)\n",
      "… found in lesson : 38, line : 1, S00-TITLE-Vengo por el anuncio (2.a parte)\n",
      "… found in lesson : 39, line : 1, S00-TITLE-Ven conmigo a Santiago (1.a parte)\n",
      "… found in lesson : 40, line : 1, S00-TITLE-Ven conmigo a Santiago (2.a parte)\n",
      "… found in lesson : 53, line : 12, S11-Un nuevo mundo nació el 12 de octubre de 1492 (mil cuatrocientos noventa y dos).\n",
      "… found in lesson : 60, line : 1, S00-TITLE-Carta a un hijo (1.a parte)\n",
      "… found in lesson : 61, line : 1, S00-TITLE-Carta a un hijo (2.aparte)\n",
      "… found in lesson : 83, line : 9, S08-Puse mi mail: rojiblanco_87@telefónica.es (guiónbajo ochenta y siete arroba… punto es). Y la contraseña es: colchonero.\n",
      "… found in lesson : 92, line : 1, S00-TITLE-La vuelta a España (en sueños)\n",
      "… found in lesson : 92, line : 13, S12-Sí, subir al Teide, 3 718 (tres mil setecientos dieciocho) metros, el punto más alto de España. Es la ilusión de mi vida. \n",
      "… found in lesson : 94, line : 7, S06-La cultura maya se remonta a alrededor del 2000 (dos mil) antes de Cristo, \n",
      "… found in lesson : 94, line : 8, S07-y alcanzó su máximo desarrollo entre el 250 (doscientos cincuenta) y el 900 (novecientos) después de Cristo. \n",
      "… found in lesson : 95, line : 5, S04-Dicen que esto ocurrió en 1325 (mil trescientos veinticinco) en el lugar donde se encuentra la actual Ciudad de México.\n",
      "… found in lesson : 95, line : 11, S10-Cortés llegó a México en 1519 (mil quinientos diecinueve) y, con la ayuda de los enemigos de los aztecas, \n",
      "… found in lesson : 96, line : 2, S01-Con una superficie de 2 780 000 (dos millones setecientos ochenta mil) kilómetros cuadrados, Argentina es el país hispanohablante más extenso,\n",
      "… found in lesson : 97, line : 1, S00-TITLE-Buen viaje (1.a parte)\n",
      "… found in lesson : 99, line : 1, S00-TITLE-Buen viaje (2.a parte)\n",
      "'(' trouvé dans 20 paragraphes\n"
     ]
    }
   ],
   "source": [
    "from tonic_accent import get_sentences_from_audio_files, get_sentences\n",
    "k= 0\n",
    "for lesson_nb in range(1, 101):\n",
    "    sentences_1 = get_sentences_from_audio_files(lesson_nb)\n",
    "    for line_nb, sentence in enumerate(sentences_1):\n",
    "        if sentence.find(\"(\") != -1:\n",
    "            print(f\"… found in lesson : {lesson_nb}, line : {line_nb}, {sentence}\")\n",
    "            k += 1\n",
    "print(f\"'(' trouvé dans {k} paragraphes\")\n",
    " "
   ]
  },
  {
   "cell_type": "code",
   "execution_count": 1,
   "id": "f50d347a-f3df-4674-8303-3cb42696af97",
   "metadata": {},
   "outputs": [],
   "source": [
    "from tonic_accent import get_sentences_from_audio_files, get_sentences\n",
    "from sqlalchemy.orm import Session\n",
    "from sqlalchemy import select, and_\n",
    "from database import Paragraph, engine, update_paragraph, get_paragraphs"
   ]
  },
  {
   "cell_type": "code",
   "execution_count": 144,
   "id": "256499e4-b1e5-4635-9845-00ae036a0479",
   "metadata": {},
   "outputs": [
    {
     "name": "stdout",
     "output_type": "stream",
     "text": [
      "Attribute Error with file : .DS_Store\n",
      "Attribute Error with file : .DS_Store\n"
     ]
    },
    {
     "ename": "IntegrityError",
     "evalue": "(sqlite3.IntegrityError) NOT NULL constraint failed: paragraphs.translation\n[SQL: INSERT INTO paragraphs (section, lesson_nb, line_nb, paragraph, data) VALUES (?, ?, ?, ?, ?) RETURNING id]\n[parameters: (0, 1, 0, 'N1-Lección primera', None)]\n(Background on this error at: https://sqlalche.me/e/20/gkpj)",
     "output_type": "error",
     "traceback": [
      "\u001b[0;31m---------------------------------------------------------------------------\u001b[0m",
      "\u001b[0;31mIntegrityError\u001b[0m                            Traceback (most recent call last)",
      "File \u001b[0;32m~/.pyenv/versions/symbolic/lib/python3.11/site-packages/sqlalchemy/engine/base.py:2118\u001b[0m, in \u001b[0;36mConnection._exec_insertmany_context\u001b[0;34m(self, dialect, context)\u001b[0m\n\u001b[1;32m   2117\u001b[0m     \u001b[38;5;28;01melse\u001b[39;00m:\n\u001b[0;32m-> 2118\u001b[0m         \u001b[43mdialect\u001b[49m\u001b[38;5;241;43m.\u001b[39;49m\u001b[43mdo_execute\u001b[49m\u001b[43m(\u001b[49m\n\u001b[1;32m   2119\u001b[0m \u001b[43m            \u001b[49m\u001b[43mcursor\u001b[49m\u001b[43m,\u001b[49m\n\u001b[1;32m   2120\u001b[0m \u001b[43m            \u001b[49m\u001b[43msub_stmt\u001b[49m\u001b[43m,\u001b[49m\n\u001b[1;32m   2121\u001b[0m \u001b[43m            \u001b[49m\u001b[43msub_params\u001b[49m\u001b[43m,\u001b[49m\n\u001b[1;32m   2122\u001b[0m \u001b[43m            \u001b[49m\u001b[43mcontext\u001b[49m\u001b[43m,\u001b[49m\n\u001b[1;32m   2123\u001b[0m \u001b[43m        \u001b[49m\u001b[43m)\u001b[49m\n\u001b[1;32m   2125\u001b[0m \u001b[38;5;28;01mexcept\u001b[39;00m \u001b[38;5;167;01mBaseException\u001b[39;00m \u001b[38;5;28;01mas\u001b[39;00m e:\n",
      "File \u001b[0;32m~/.pyenv/versions/symbolic/lib/python3.11/site-packages/sqlalchemy/engine/default.py:941\u001b[0m, in \u001b[0;36mDefaultDialect.do_execute\u001b[0;34m(self, cursor, statement, parameters, context)\u001b[0m\n\u001b[1;32m    940\u001b[0m \u001b[38;5;28;01mdef\u001b[39;00m \u001b[38;5;21mdo_execute\u001b[39m(\u001b[38;5;28mself\u001b[39m, cursor, statement, parameters, context\u001b[38;5;241m=\u001b[39m\u001b[38;5;28;01mNone\u001b[39;00m):\n\u001b[0;32m--> 941\u001b[0m     cursor\u001b[38;5;241m.\u001b[39mexecute(statement, parameters)\n",
      "\u001b[0;31mIntegrityError\u001b[0m: NOT NULL constraint failed: paragraphs.translation",
      "\nThe above exception was the direct cause of the following exception:\n",
      "\u001b[0;31mIntegrityError\u001b[0m                            Traceback (most recent call last)",
      "Cell \u001b[0;32mIn[144], line 22\u001b[0m\n\u001b[1;32m     15\u001b[0m         entry \u001b[38;5;241m=\u001b[39m Paragraph(\n\u001b[1;32m     16\u001b[0m             section \u001b[38;5;241m=\u001b[39m section,\n\u001b[1;32m     17\u001b[0m             lesson_nb \u001b[38;5;241m=\u001b[39m lesson_nb,\n\u001b[1;32m     18\u001b[0m             line_nb \u001b[38;5;241m=\u001b[39m line_nb,\n\u001b[1;32m     19\u001b[0m             paragraph \u001b[38;5;241m=\u001b[39m paragraph\n\u001b[1;32m     20\u001b[0m         )\n\u001b[1;32m     21\u001b[0m         session\u001b[38;5;241m.\u001b[39madd(entry)\n\u001b[0;32m---> 22\u001b[0m \u001b[43msession\u001b[49m\u001b[38;5;241;43m.\u001b[39;49m\u001b[43mcommit\u001b[49m\u001b[43m(\u001b[49m\u001b[43m)\u001b[49m\n",
      "File \u001b[0;32m~/.pyenv/versions/symbolic/lib/python3.11/site-packages/sqlalchemy/orm/session.py:2028\u001b[0m, in \u001b[0;36mSession.commit\u001b[0;34m(self)\u001b[0m\n\u001b[1;32m   2025\u001b[0m \u001b[38;5;28;01mif\u001b[39;00m trans \u001b[38;5;129;01mis\u001b[39;00m \u001b[38;5;28;01mNone\u001b[39;00m:\n\u001b[1;32m   2026\u001b[0m     trans \u001b[38;5;241m=\u001b[39m \u001b[38;5;28mself\u001b[39m\u001b[38;5;241m.\u001b[39m_autobegin_t()\n\u001b[0;32m-> 2028\u001b[0m \u001b[43mtrans\u001b[49m\u001b[38;5;241;43m.\u001b[39;49m\u001b[43mcommit\u001b[49m\u001b[43m(\u001b[49m\u001b[43m_to_root\u001b[49m\u001b[38;5;241;43m=\u001b[39;49m\u001b[38;5;28;43;01mTrue\u001b[39;49;00m\u001b[43m)\u001b[49m\n",
      "File \u001b[0;32m<string>:2\u001b[0m, in \u001b[0;36mcommit\u001b[0;34m(self, _to_root)\u001b[0m\n",
      "File \u001b[0;32m~/.pyenv/versions/symbolic/lib/python3.11/site-packages/sqlalchemy/orm/state_changes.py:139\u001b[0m, in \u001b[0;36m_StateChange.declare_states.<locals>._go\u001b[0;34m(fn, self, *arg, **kw)\u001b[0m\n\u001b[1;32m    137\u001b[0m \u001b[38;5;28mself\u001b[39m\u001b[38;5;241m.\u001b[39m_next_state \u001b[38;5;241m=\u001b[39m _StateChangeStates\u001b[38;5;241m.\u001b[39mCHANGE_IN_PROGRESS\n\u001b[1;32m    138\u001b[0m \u001b[38;5;28;01mtry\u001b[39;00m:\n\u001b[0;32m--> 139\u001b[0m     ret_value \u001b[38;5;241m=\u001b[39m \u001b[43mfn\u001b[49m\u001b[43m(\u001b[49m\u001b[38;5;28;43mself\u001b[39;49m\u001b[43m,\u001b[49m\u001b[43m \u001b[49m\u001b[38;5;241;43m*\u001b[39;49m\u001b[43marg\u001b[49m\u001b[43m,\u001b[49m\u001b[43m \u001b[49m\u001b[38;5;241;43m*\u001b[39;49m\u001b[38;5;241;43m*\u001b[39;49m\u001b[43mkw\u001b[49m\u001b[43m)\u001b[49m\n\u001b[1;32m    140\u001b[0m \u001b[38;5;28;01mexcept\u001b[39;00m:\n\u001b[1;32m    141\u001b[0m     \u001b[38;5;28;01mraise\u001b[39;00m\n",
      "File \u001b[0;32m~/.pyenv/versions/symbolic/lib/python3.11/site-packages/sqlalchemy/orm/session.py:1313\u001b[0m, in \u001b[0;36mSessionTransaction.commit\u001b[0;34m(self, _to_root)\u001b[0m\n\u001b[1;32m   1311\u001b[0m \u001b[38;5;28;01mif\u001b[39;00m \u001b[38;5;28mself\u001b[39m\u001b[38;5;241m.\u001b[39m_state \u001b[38;5;129;01mis\u001b[39;00m \u001b[38;5;129;01mnot\u001b[39;00m SessionTransactionState\u001b[38;5;241m.\u001b[39mPREPARED:\n\u001b[1;32m   1312\u001b[0m     \u001b[38;5;28;01mwith\u001b[39;00m \u001b[38;5;28mself\u001b[39m\u001b[38;5;241m.\u001b[39m_expect_state(SessionTransactionState\u001b[38;5;241m.\u001b[39mPREPARED):\n\u001b[0;32m-> 1313\u001b[0m         \u001b[38;5;28;43mself\u001b[39;49m\u001b[38;5;241;43m.\u001b[39;49m\u001b[43m_prepare_impl\u001b[49m\u001b[43m(\u001b[49m\u001b[43m)\u001b[49m\n\u001b[1;32m   1315\u001b[0m \u001b[38;5;28;01mif\u001b[39;00m \u001b[38;5;28mself\u001b[39m\u001b[38;5;241m.\u001b[39m_parent \u001b[38;5;129;01mis\u001b[39;00m \u001b[38;5;28;01mNone\u001b[39;00m \u001b[38;5;129;01mor\u001b[39;00m \u001b[38;5;28mself\u001b[39m\u001b[38;5;241m.\u001b[39mnested:\n\u001b[1;32m   1316\u001b[0m     \u001b[38;5;28;01mfor\u001b[39;00m conn, trans, should_commit, autoclose \u001b[38;5;129;01min\u001b[39;00m \u001b[38;5;28mset\u001b[39m(\n\u001b[1;32m   1317\u001b[0m         \u001b[38;5;28mself\u001b[39m\u001b[38;5;241m.\u001b[39m_connections\u001b[38;5;241m.\u001b[39mvalues()\n\u001b[1;32m   1318\u001b[0m     ):\n",
      "File \u001b[0;32m<string>:2\u001b[0m, in \u001b[0;36m_prepare_impl\u001b[0;34m(self)\u001b[0m\n",
      "File \u001b[0;32m~/.pyenv/versions/symbolic/lib/python3.11/site-packages/sqlalchemy/orm/state_changes.py:139\u001b[0m, in \u001b[0;36m_StateChange.declare_states.<locals>._go\u001b[0;34m(fn, self, *arg, **kw)\u001b[0m\n\u001b[1;32m    137\u001b[0m \u001b[38;5;28mself\u001b[39m\u001b[38;5;241m.\u001b[39m_next_state \u001b[38;5;241m=\u001b[39m _StateChangeStates\u001b[38;5;241m.\u001b[39mCHANGE_IN_PROGRESS\n\u001b[1;32m    138\u001b[0m \u001b[38;5;28;01mtry\u001b[39;00m:\n\u001b[0;32m--> 139\u001b[0m     ret_value \u001b[38;5;241m=\u001b[39m \u001b[43mfn\u001b[49m\u001b[43m(\u001b[49m\u001b[38;5;28;43mself\u001b[39;49m\u001b[43m,\u001b[49m\u001b[43m \u001b[49m\u001b[38;5;241;43m*\u001b[39;49m\u001b[43marg\u001b[49m\u001b[43m,\u001b[49m\u001b[43m \u001b[49m\u001b[38;5;241;43m*\u001b[39;49m\u001b[38;5;241;43m*\u001b[39;49m\u001b[43mkw\u001b[49m\u001b[43m)\u001b[49m\n\u001b[1;32m    140\u001b[0m \u001b[38;5;28;01mexcept\u001b[39;00m:\n\u001b[1;32m    141\u001b[0m     \u001b[38;5;28;01mraise\u001b[39;00m\n",
      "File \u001b[0;32m~/.pyenv/versions/symbolic/lib/python3.11/site-packages/sqlalchemy/orm/session.py:1288\u001b[0m, in \u001b[0;36mSessionTransaction._prepare_impl\u001b[0;34m(self)\u001b[0m\n\u001b[1;32m   1286\u001b[0m     \u001b[38;5;28;01mif\u001b[39;00m \u001b[38;5;28mself\u001b[39m\u001b[38;5;241m.\u001b[39msession\u001b[38;5;241m.\u001b[39m_is_clean():\n\u001b[1;32m   1287\u001b[0m         \u001b[38;5;28;01mbreak\u001b[39;00m\n\u001b[0;32m-> 1288\u001b[0m     \u001b[38;5;28;43mself\u001b[39;49m\u001b[38;5;241;43m.\u001b[39;49m\u001b[43msession\u001b[49m\u001b[38;5;241;43m.\u001b[39;49m\u001b[43mflush\u001b[49m\u001b[43m(\u001b[49m\u001b[43m)\u001b[49m\n\u001b[1;32m   1289\u001b[0m \u001b[38;5;28;01melse\u001b[39;00m:\n\u001b[1;32m   1290\u001b[0m     \u001b[38;5;28;01mraise\u001b[39;00m exc\u001b[38;5;241m.\u001b[39mFlushError(\n\u001b[1;32m   1291\u001b[0m         \u001b[38;5;124m\"\u001b[39m\u001b[38;5;124mOver 100 subsequent flushes have occurred within \u001b[39m\u001b[38;5;124m\"\u001b[39m\n\u001b[1;32m   1292\u001b[0m         \u001b[38;5;124m\"\u001b[39m\u001b[38;5;124msession.commit() - is an after_flush() hook \u001b[39m\u001b[38;5;124m\"\u001b[39m\n\u001b[1;32m   1293\u001b[0m         \u001b[38;5;124m\"\u001b[39m\u001b[38;5;124mcreating new objects?\u001b[39m\u001b[38;5;124m\"\u001b[39m\n\u001b[1;32m   1294\u001b[0m     )\n",
      "File \u001b[0;32m~/.pyenv/versions/symbolic/lib/python3.11/site-packages/sqlalchemy/orm/session.py:4352\u001b[0m, in \u001b[0;36mSession.flush\u001b[0;34m(self, objects)\u001b[0m\n\u001b[1;32m   4350\u001b[0m \u001b[38;5;28;01mtry\u001b[39;00m:\n\u001b[1;32m   4351\u001b[0m     \u001b[38;5;28mself\u001b[39m\u001b[38;5;241m.\u001b[39m_flushing \u001b[38;5;241m=\u001b[39m \u001b[38;5;28;01mTrue\u001b[39;00m\n\u001b[0;32m-> 4352\u001b[0m     \u001b[38;5;28;43mself\u001b[39;49m\u001b[38;5;241;43m.\u001b[39;49m\u001b[43m_flush\u001b[49m\u001b[43m(\u001b[49m\u001b[43mobjects\u001b[49m\u001b[43m)\u001b[49m\n\u001b[1;32m   4353\u001b[0m \u001b[38;5;28;01mfinally\u001b[39;00m:\n\u001b[1;32m   4354\u001b[0m     \u001b[38;5;28mself\u001b[39m\u001b[38;5;241m.\u001b[39m_flushing \u001b[38;5;241m=\u001b[39m \u001b[38;5;28;01mFalse\u001b[39;00m\n",
      "File \u001b[0;32m~/.pyenv/versions/symbolic/lib/python3.11/site-packages/sqlalchemy/orm/session.py:4487\u001b[0m, in \u001b[0;36mSession._flush\u001b[0;34m(self, objects)\u001b[0m\n\u001b[1;32m   4484\u001b[0m     transaction\u001b[38;5;241m.\u001b[39mcommit()\n\u001b[1;32m   4486\u001b[0m \u001b[38;5;28;01mexcept\u001b[39;00m:\n\u001b[0;32m-> 4487\u001b[0m \u001b[43m    \u001b[49m\u001b[38;5;28;43;01mwith\u001b[39;49;00m\u001b[43m \u001b[49m\u001b[43mutil\u001b[49m\u001b[38;5;241;43m.\u001b[39;49m\u001b[43msafe_reraise\u001b[49m\u001b[43m(\u001b[49m\u001b[43m)\u001b[49m\u001b[43m:\u001b[49m\n\u001b[1;32m   4488\u001b[0m \u001b[43m        \u001b[49m\u001b[43mtransaction\u001b[49m\u001b[38;5;241;43m.\u001b[39;49m\u001b[43mrollback\u001b[49m\u001b[43m(\u001b[49m\u001b[43m_capture_exception\u001b[49m\u001b[38;5;241;43m=\u001b[39;49m\u001b[38;5;28;43;01mTrue\u001b[39;49;00m\u001b[43m)\u001b[49m\n",
      "File \u001b[0;32m~/.pyenv/versions/symbolic/lib/python3.11/site-packages/sqlalchemy/util/langhelpers.py:146\u001b[0m, in \u001b[0;36msafe_reraise.__exit__\u001b[0;34m(self, type_, value, traceback)\u001b[0m\n\u001b[1;32m    144\u001b[0m     \u001b[38;5;28;01massert\u001b[39;00m exc_value \u001b[38;5;129;01mis\u001b[39;00m \u001b[38;5;129;01mnot\u001b[39;00m \u001b[38;5;28;01mNone\u001b[39;00m\n\u001b[1;32m    145\u001b[0m     \u001b[38;5;28mself\u001b[39m\u001b[38;5;241m.\u001b[39m_exc_info \u001b[38;5;241m=\u001b[39m \u001b[38;5;28;01mNone\u001b[39;00m  \u001b[38;5;66;03m# remove potential circular references\u001b[39;00m\n\u001b[0;32m--> 146\u001b[0m     \u001b[38;5;28;01mraise\u001b[39;00m exc_value\u001b[38;5;241m.\u001b[39mwith_traceback(exc_tb)\n\u001b[1;32m    147\u001b[0m \u001b[38;5;28;01melse\u001b[39;00m:\n\u001b[1;32m    148\u001b[0m     \u001b[38;5;28mself\u001b[39m\u001b[38;5;241m.\u001b[39m_exc_info \u001b[38;5;241m=\u001b[39m \u001b[38;5;28;01mNone\u001b[39;00m  \u001b[38;5;66;03m# remove potential circular references\u001b[39;00m\n",
      "File \u001b[0;32m~/.pyenv/versions/symbolic/lib/python3.11/site-packages/sqlalchemy/orm/session.py:4448\u001b[0m, in \u001b[0;36mSession._flush\u001b[0;34m(self, objects)\u001b[0m\n\u001b[1;32m   4446\u001b[0m \u001b[38;5;28mself\u001b[39m\u001b[38;5;241m.\u001b[39m_warn_on_events \u001b[38;5;241m=\u001b[39m \u001b[38;5;28;01mTrue\u001b[39;00m\n\u001b[1;32m   4447\u001b[0m \u001b[38;5;28;01mtry\u001b[39;00m:\n\u001b[0;32m-> 4448\u001b[0m     \u001b[43mflush_context\u001b[49m\u001b[38;5;241;43m.\u001b[39;49m\u001b[43mexecute\u001b[49m\u001b[43m(\u001b[49m\u001b[43m)\u001b[49m\n\u001b[1;32m   4449\u001b[0m \u001b[38;5;28;01mfinally\u001b[39;00m:\n\u001b[1;32m   4450\u001b[0m     \u001b[38;5;28mself\u001b[39m\u001b[38;5;241m.\u001b[39m_warn_on_events \u001b[38;5;241m=\u001b[39m \u001b[38;5;28;01mFalse\u001b[39;00m\n",
      "File \u001b[0;32m~/.pyenv/versions/symbolic/lib/python3.11/site-packages/sqlalchemy/orm/unitofwork.py:466\u001b[0m, in \u001b[0;36mUOWTransaction.execute\u001b[0;34m(self)\u001b[0m\n\u001b[1;32m    464\u001b[0m \u001b[38;5;28;01melse\u001b[39;00m:\n\u001b[1;32m    465\u001b[0m     \u001b[38;5;28;01mfor\u001b[39;00m rec \u001b[38;5;129;01min\u001b[39;00m topological\u001b[38;5;241m.\u001b[39msort(\u001b[38;5;28mself\u001b[39m\u001b[38;5;241m.\u001b[39mdependencies, postsort_actions):\n\u001b[0;32m--> 466\u001b[0m         \u001b[43mrec\u001b[49m\u001b[38;5;241;43m.\u001b[39;49m\u001b[43mexecute\u001b[49m\u001b[43m(\u001b[49m\u001b[38;5;28;43mself\u001b[39;49m\u001b[43m)\u001b[49m\n",
      "File \u001b[0;32m~/.pyenv/versions/symbolic/lib/python3.11/site-packages/sqlalchemy/orm/unitofwork.py:642\u001b[0m, in \u001b[0;36mSaveUpdateAll.execute\u001b[0;34m(self, uow)\u001b[0m\n\u001b[1;32m    640\u001b[0m \u001b[38;5;129m@util\u001b[39m\u001b[38;5;241m.\u001b[39mpreload_module(\u001b[38;5;124m\"\u001b[39m\u001b[38;5;124msqlalchemy.orm.persistence\u001b[39m\u001b[38;5;124m\"\u001b[39m)\n\u001b[1;32m    641\u001b[0m \u001b[38;5;28;01mdef\u001b[39;00m \u001b[38;5;21mexecute\u001b[39m(\u001b[38;5;28mself\u001b[39m, uow):\n\u001b[0;32m--> 642\u001b[0m     \u001b[43mutil\u001b[49m\u001b[38;5;241;43m.\u001b[39;49m\u001b[43mpreloaded\u001b[49m\u001b[38;5;241;43m.\u001b[39;49m\u001b[43morm_persistence\u001b[49m\u001b[38;5;241;43m.\u001b[39;49m\u001b[43msave_obj\u001b[49m\u001b[43m(\u001b[49m\n\u001b[1;32m    643\u001b[0m \u001b[43m        \u001b[49m\u001b[38;5;28;43mself\u001b[39;49m\u001b[38;5;241;43m.\u001b[39;49m\u001b[43mmapper\u001b[49m\u001b[43m,\u001b[49m\n\u001b[1;32m    644\u001b[0m \u001b[43m        \u001b[49m\u001b[43muow\u001b[49m\u001b[38;5;241;43m.\u001b[39;49m\u001b[43mstates_for_mapper_hierarchy\u001b[49m\u001b[43m(\u001b[49m\u001b[38;5;28;43mself\u001b[39;49m\u001b[38;5;241;43m.\u001b[39;49m\u001b[43mmapper\u001b[49m\u001b[43m,\u001b[49m\u001b[43m \u001b[49m\u001b[38;5;28;43;01mFalse\u001b[39;49;00m\u001b[43m,\u001b[49m\u001b[43m \u001b[49m\u001b[38;5;28;43;01mFalse\u001b[39;49;00m\u001b[43m)\u001b[49m\u001b[43m,\u001b[49m\n\u001b[1;32m    645\u001b[0m \u001b[43m        \u001b[49m\u001b[43muow\u001b[49m\u001b[43m,\u001b[49m\n\u001b[1;32m    646\u001b[0m \u001b[43m    \u001b[49m\u001b[43m)\u001b[49m\n",
      "File \u001b[0;32m~/.pyenv/versions/symbolic/lib/python3.11/site-packages/sqlalchemy/orm/persistence.py:93\u001b[0m, in \u001b[0;36msave_obj\u001b[0;34m(base_mapper, states, uowtransaction, single)\u001b[0m\n\u001b[1;32m     81\u001b[0m     update \u001b[38;5;241m=\u001b[39m _collect_update_commands(\n\u001b[1;32m     82\u001b[0m         uowtransaction, table, states_to_update\n\u001b[1;32m     83\u001b[0m     )\n\u001b[1;32m     85\u001b[0m     _emit_update_statements(\n\u001b[1;32m     86\u001b[0m         base_mapper,\n\u001b[1;32m     87\u001b[0m         uowtransaction,\n\u001b[0;32m   (...)\u001b[0m\n\u001b[1;32m     90\u001b[0m         update,\n\u001b[1;32m     91\u001b[0m     )\n\u001b[0;32m---> 93\u001b[0m     \u001b[43m_emit_insert_statements\u001b[49m\u001b[43m(\u001b[49m\n\u001b[1;32m     94\u001b[0m \u001b[43m        \u001b[49m\u001b[43mbase_mapper\u001b[49m\u001b[43m,\u001b[49m\n\u001b[1;32m     95\u001b[0m \u001b[43m        \u001b[49m\u001b[43muowtransaction\u001b[49m\u001b[43m,\u001b[49m\n\u001b[1;32m     96\u001b[0m \u001b[43m        \u001b[49m\u001b[43mmapper\u001b[49m\u001b[43m,\u001b[49m\n\u001b[1;32m     97\u001b[0m \u001b[43m        \u001b[49m\u001b[43mtable\u001b[49m\u001b[43m,\u001b[49m\n\u001b[1;32m     98\u001b[0m \u001b[43m        \u001b[49m\u001b[43minsert\u001b[49m\u001b[43m,\u001b[49m\n\u001b[1;32m     99\u001b[0m \u001b[43m    \u001b[49m\u001b[43m)\u001b[49m\n\u001b[1;32m    101\u001b[0m _finalize_insert_update_commands(\n\u001b[1;32m    102\u001b[0m     base_mapper,\n\u001b[1;32m    103\u001b[0m     uowtransaction,\n\u001b[0;32m   (...)\u001b[0m\n\u001b[1;32m    119\u001b[0m     ),\n\u001b[1;32m    120\u001b[0m )\n",
      "File \u001b[0;32m~/.pyenv/versions/symbolic/lib/python3.11/site-packages/sqlalchemy/orm/persistence.py:1143\u001b[0m, in \u001b[0;36m_emit_insert_statements\u001b[0;34m(base_mapper, uowtransaction, mapper, table, insert, bookkeeping, use_orm_insert_stmt, execution_options)\u001b[0m\n\u001b[1;32m   1140\u001b[0m \u001b[38;5;28;01mif\u001b[39;00m do_executemany:\n\u001b[1;32m   1141\u001b[0m     multiparams \u001b[38;5;241m=\u001b[39m [rec[\u001b[38;5;241m2\u001b[39m] \u001b[38;5;28;01mfor\u001b[39;00m rec \u001b[38;5;129;01min\u001b[39;00m records]\n\u001b[0;32m-> 1143\u001b[0m     result \u001b[38;5;241m=\u001b[39m \u001b[43mconnection\u001b[49m\u001b[38;5;241;43m.\u001b[39;49m\u001b[43mexecute\u001b[49m\u001b[43m(\u001b[49m\n\u001b[1;32m   1144\u001b[0m \u001b[43m        \u001b[49m\u001b[43mstatement\u001b[49m\u001b[43m,\u001b[49m\u001b[43m \u001b[49m\u001b[43mmultiparams\u001b[49m\u001b[43m,\u001b[49m\u001b[43m \u001b[49m\u001b[43mexecution_options\u001b[49m\u001b[38;5;241;43m=\u001b[39;49m\u001b[43mexecution_options\u001b[49m\n\u001b[1;32m   1145\u001b[0m \u001b[43m    \u001b[49m\u001b[43m)\u001b[49m\n\u001b[1;32m   1147\u001b[0m     \u001b[38;5;28;01mif\u001b[39;00m use_orm_insert_stmt \u001b[38;5;129;01mis\u001b[39;00m \u001b[38;5;129;01mnot\u001b[39;00m \u001b[38;5;28;01mNone\u001b[39;00m:\n\u001b[1;32m   1148\u001b[0m         \u001b[38;5;28;01mif\u001b[39;00m return_result \u001b[38;5;129;01mis\u001b[39;00m \u001b[38;5;28;01mNone\u001b[39;00m:\n",
      "File \u001b[0;32m~/.pyenv/versions/symbolic/lib/python3.11/site-packages/sqlalchemy/engine/base.py:1418\u001b[0m, in \u001b[0;36mConnection.execute\u001b[0;34m(self, statement, parameters, execution_options)\u001b[0m\n\u001b[1;32m   1416\u001b[0m     \u001b[38;5;28;01mraise\u001b[39;00m exc\u001b[38;5;241m.\u001b[39mObjectNotExecutableError(statement) \u001b[38;5;28;01mfrom\u001b[39;00m \u001b[38;5;21;01merr\u001b[39;00m\n\u001b[1;32m   1417\u001b[0m \u001b[38;5;28;01melse\u001b[39;00m:\n\u001b[0;32m-> 1418\u001b[0m     \u001b[38;5;28;01mreturn\u001b[39;00m \u001b[43mmeth\u001b[49m\u001b[43m(\u001b[49m\n\u001b[1;32m   1419\u001b[0m \u001b[43m        \u001b[49m\u001b[38;5;28;43mself\u001b[39;49m\u001b[43m,\u001b[49m\n\u001b[1;32m   1420\u001b[0m \u001b[43m        \u001b[49m\u001b[43mdistilled_parameters\u001b[49m\u001b[43m,\u001b[49m\n\u001b[1;32m   1421\u001b[0m \u001b[43m        \u001b[49m\u001b[43mexecution_options\u001b[49m\u001b[43m \u001b[49m\u001b[38;5;129;43;01mor\u001b[39;49;00m\u001b[43m \u001b[49m\u001b[43mNO_OPTIONS\u001b[49m\u001b[43m,\u001b[49m\n\u001b[1;32m   1422\u001b[0m \u001b[43m    \u001b[49m\u001b[43m)\u001b[49m\n",
      "File \u001b[0;32m~/.pyenv/versions/symbolic/lib/python3.11/site-packages/sqlalchemy/sql/elements.py:515\u001b[0m, in \u001b[0;36mClauseElement._execute_on_connection\u001b[0;34m(self, connection, distilled_params, execution_options)\u001b[0m\n\u001b[1;32m    513\u001b[0m     \u001b[38;5;28;01mif\u001b[39;00m TYPE_CHECKING:\n\u001b[1;32m    514\u001b[0m         \u001b[38;5;28;01massert\u001b[39;00m \u001b[38;5;28misinstance\u001b[39m(\u001b[38;5;28mself\u001b[39m, Executable)\n\u001b[0;32m--> 515\u001b[0m     \u001b[38;5;28;01mreturn\u001b[39;00m \u001b[43mconnection\u001b[49m\u001b[38;5;241;43m.\u001b[39;49m\u001b[43m_execute_clauseelement\u001b[49m\u001b[43m(\u001b[49m\n\u001b[1;32m    516\u001b[0m \u001b[43m        \u001b[49m\u001b[38;5;28;43mself\u001b[39;49m\u001b[43m,\u001b[49m\u001b[43m \u001b[49m\u001b[43mdistilled_params\u001b[49m\u001b[43m,\u001b[49m\u001b[43m \u001b[49m\u001b[43mexecution_options\u001b[49m\n\u001b[1;32m    517\u001b[0m \u001b[43m    \u001b[49m\u001b[43m)\u001b[49m\n\u001b[1;32m    518\u001b[0m \u001b[38;5;28;01melse\u001b[39;00m:\n\u001b[1;32m    519\u001b[0m     \u001b[38;5;28;01mraise\u001b[39;00m exc\u001b[38;5;241m.\u001b[39mObjectNotExecutableError(\u001b[38;5;28mself\u001b[39m)\n",
      "File \u001b[0;32m~/.pyenv/versions/symbolic/lib/python3.11/site-packages/sqlalchemy/engine/base.py:1640\u001b[0m, in \u001b[0;36mConnection._execute_clauseelement\u001b[0;34m(self, elem, distilled_parameters, execution_options)\u001b[0m\n\u001b[1;32m   1628\u001b[0m compiled_cache: Optional[CompiledCacheType] \u001b[38;5;241m=\u001b[39m execution_options\u001b[38;5;241m.\u001b[39mget(\n\u001b[1;32m   1629\u001b[0m     \u001b[38;5;124m\"\u001b[39m\u001b[38;5;124mcompiled_cache\u001b[39m\u001b[38;5;124m\"\u001b[39m, \u001b[38;5;28mself\u001b[39m\u001b[38;5;241m.\u001b[39mengine\u001b[38;5;241m.\u001b[39m_compiled_cache\n\u001b[1;32m   1630\u001b[0m )\n\u001b[1;32m   1632\u001b[0m compiled_sql, extracted_params, cache_hit \u001b[38;5;241m=\u001b[39m elem\u001b[38;5;241m.\u001b[39m_compile_w_cache(\n\u001b[1;32m   1633\u001b[0m     dialect\u001b[38;5;241m=\u001b[39mdialect,\n\u001b[1;32m   1634\u001b[0m     compiled_cache\u001b[38;5;241m=\u001b[39mcompiled_cache,\n\u001b[0;32m   (...)\u001b[0m\n\u001b[1;32m   1638\u001b[0m     linting\u001b[38;5;241m=\u001b[39m\u001b[38;5;28mself\u001b[39m\u001b[38;5;241m.\u001b[39mdialect\u001b[38;5;241m.\u001b[39mcompiler_linting \u001b[38;5;241m|\u001b[39m compiler\u001b[38;5;241m.\u001b[39mWARN_LINTING,\n\u001b[1;32m   1639\u001b[0m )\n\u001b[0;32m-> 1640\u001b[0m ret \u001b[38;5;241m=\u001b[39m \u001b[38;5;28;43mself\u001b[39;49m\u001b[38;5;241;43m.\u001b[39;49m\u001b[43m_execute_context\u001b[49m\u001b[43m(\u001b[49m\n\u001b[1;32m   1641\u001b[0m \u001b[43m    \u001b[49m\u001b[43mdialect\u001b[49m\u001b[43m,\u001b[49m\n\u001b[1;32m   1642\u001b[0m \u001b[43m    \u001b[49m\u001b[43mdialect\u001b[49m\u001b[38;5;241;43m.\u001b[39;49m\u001b[43mexecution_ctx_cls\u001b[49m\u001b[38;5;241;43m.\u001b[39;49m\u001b[43m_init_compiled\u001b[49m\u001b[43m,\u001b[49m\n\u001b[1;32m   1643\u001b[0m \u001b[43m    \u001b[49m\u001b[43mcompiled_sql\u001b[49m\u001b[43m,\u001b[49m\n\u001b[1;32m   1644\u001b[0m \u001b[43m    \u001b[49m\u001b[43mdistilled_parameters\u001b[49m\u001b[43m,\u001b[49m\n\u001b[1;32m   1645\u001b[0m \u001b[43m    \u001b[49m\u001b[43mexecution_options\u001b[49m\u001b[43m,\u001b[49m\n\u001b[1;32m   1646\u001b[0m \u001b[43m    \u001b[49m\u001b[43mcompiled_sql\u001b[49m\u001b[43m,\u001b[49m\n\u001b[1;32m   1647\u001b[0m \u001b[43m    \u001b[49m\u001b[43mdistilled_parameters\u001b[49m\u001b[43m,\u001b[49m\n\u001b[1;32m   1648\u001b[0m \u001b[43m    \u001b[49m\u001b[43melem\u001b[49m\u001b[43m,\u001b[49m\n\u001b[1;32m   1649\u001b[0m \u001b[43m    \u001b[49m\u001b[43mextracted_params\u001b[49m\u001b[43m,\u001b[49m\n\u001b[1;32m   1650\u001b[0m \u001b[43m    \u001b[49m\u001b[43mcache_hit\u001b[49m\u001b[38;5;241;43m=\u001b[39;49m\u001b[43mcache_hit\u001b[49m\u001b[43m,\u001b[49m\n\u001b[1;32m   1651\u001b[0m \u001b[43m\u001b[49m\u001b[43m)\u001b[49m\n\u001b[1;32m   1652\u001b[0m \u001b[38;5;28;01mif\u001b[39;00m has_events:\n\u001b[1;32m   1653\u001b[0m     \u001b[38;5;28mself\u001b[39m\u001b[38;5;241m.\u001b[39mdispatch\u001b[38;5;241m.\u001b[39mafter_execute(\n\u001b[1;32m   1654\u001b[0m         \u001b[38;5;28mself\u001b[39m,\n\u001b[1;32m   1655\u001b[0m         elem,\n\u001b[0;32m   (...)\u001b[0m\n\u001b[1;32m   1659\u001b[0m         ret,\n\u001b[1;32m   1660\u001b[0m     )\n",
      "File \u001b[0;32m~/.pyenv/versions/symbolic/lib/python3.11/site-packages/sqlalchemy/engine/base.py:1844\u001b[0m, in \u001b[0;36mConnection._execute_context\u001b[0;34m(self, dialect, constructor, statement, parameters, execution_options, *args, **kw)\u001b[0m\n\u001b[1;32m   1841\u001b[0m context\u001b[38;5;241m.\u001b[39mpre_exec()\n\u001b[1;32m   1843\u001b[0m \u001b[38;5;28;01mif\u001b[39;00m context\u001b[38;5;241m.\u001b[39mexecute_style \u001b[38;5;129;01mis\u001b[39;00m ExecuteStyle\u001b[38;5;241m.\u001b[39mINSERTMANYVALUES:\n\u001b[0;32m-> 1844\u001b[0m     \u001b[38;5;28;01mreturn\u001b[39;00m \u001b[38;5;28;43mself\u001b[39;49m\u001b[38;5;241;43m.\u001b[39;49m\u001b[43m_exec_insertmany_context\u001b[49m\u001b[43m(\u001b[49m\u001b[43mdialect\u001b[49m\u001b[43m,\u001b[49m\u001b[43m \u001b[49m\u001b[43mcontext\u001b[49m\u001b[43m)\u001b[49m\n\u001b[1;32m   1845\u001b[0m \u001b[38;5;28;01melse\u001b[39;00m:\n\u001b[1;32m   1846\u001b[0m     \u001b[38;5;28;01mreturn\u001b[39;00m \u001b[38;5;28mself\u001b[39m\u001b[38;5;241m.\u001b[39m_exec_single_context(\n\u001b[1;32m   1847\u001b[0m         dialect, context, statement, parameters\n\u001b[1;32m   1848\u001b[0m     )\n",
      "File \u001b[0;32m~/.pyenv/versions/symbolic/lib/python3.11/site-packages/sqlalchemy/engine/base.py:2126\u001b[0m, in \u001b[0;36mConnection._exec_insertmany_context\u001b[0;34m(self, dialect, context)\u001b[0m\n\u001b[1;32m   2118\u001b[0m         dialect\u001b[38;5;241m.\u001b[39mdo_execute(\n\u001b[1;32m   2119\u001b[0m             cursor,\n\u001b[1;32m   2120\u001b[0m             sub_stmt,\n\u001b[1;32m   2121\u001b[0m             sub_params,\n\u001b[1;32m   2122\u001b[0m             context,\n\u001b[1;32m   2123\u001b[0m         )\n\u001b[1;32m   2125\u001b[0m \u001b[38;5;28;01mexcept\u001b[39;00m \u001b[38;5;167;01mBaseException\u001b[39;00m \u001b[38;5;28;01mas\u001b[39;00m e:\n\u001b[0;32m-> 2126\u001b[0m     \u001b[38;5;28;43mself\u001b[39;49m\u001b[38;5;241;43m.\u001b[39;49m\u001b[43m_handle_dbapi_exception\u001b[49m\u001b[43m(\u001b[49m\n\u001b[1;32m   2127\u001b[0m \u001b[43m        \u001b[49m\u001b[43me\u001b[49m\u001b[43m,\u001b[49m\n\u001b[1;32m   2128\u001b[0m \u001b[43m        \u001b[49m\u001b[43msql_util\u001b[49m\u001b[38;5;241;43m.\u001b[39;49m\u001b[43m_long_statement\u001b[49m\u001b[43m(\u001b[49m\u001b[43msub_stmt\u001b[49m\u001b[43m)\u001b[49m\u001b[43m,\u001b[49m\n\u001b[1;32m   2129\u001b[0m \u001b[43m        \u001b[49m\u001b[43msub_params\u001b[49m\u001b[43m,\u001b[49m\n\u001b[1;32m   2130\u001b[0m \u001b[43m        \u001b[49m\u001b[43mcursor\u001b[49m\u001b[43m,\u001b[49m\n\u001b[1;32m   2131\u001b[0m \u001b[43m        \u001b[49m\u001b[43mcontext\u001b[49m\u001b[43m,\u001b[49m\n\u001b[1;32m   2132\u001b[0m \u001b[43m        \u001b[49m\u001b[43mis_sub_exec\u001b[49m\u001b[38;5;241;43m=\u001b[39;49m\u001b[38;5;28;43;01mTrue\u001b[39;49;00m\u001b[43m,\u001b[49m\n\u001b[1;32m   2133\u001b[0m \u001b[43m    \u001b[49m\u001b[43m)\u001b[49m\n\u001b[1;32m   2135\u001b[0m \u001b[38;5;28;01mif\u001b[39;00m engine_events:\n\u001b[1;32m   2136\u001b[0m     \u001b[38;5;28mself\u001b[39m\u001b[38;5;241m.\u001b[39mdispatch\u001b[38;5;241m.\u001b[39mafter_cursor_execute(\n\u001b[1;32m   2137\u001b[0m         \u001b[38;5;28mself\u001b[39m,\n\u001b[1;32m   2138\u001b[0m         cursor,\n\u001b[0;32m   (...)\u001b[0m\n\u001b[1;32m   2142\u001b[0m         context\u001b[38;5;241m.\u001b[39mexecutemany,\n\u001b[1;32m   2143\u001b[0m     )\n",
      "File \u001b[0;32m~/.pyenv/versions/symbolic/lib/python3.11/site-packages/sqlalchemy/engine/base.py:2355\u001b[0m, in \u001b[0;36mConnection._handle_dbapi_exception\u001b[0;34m(self, e, statement, parameters, cursor, context, is_sub_exec)\u001b[0m\n\u001b[1;32m   2353\u001b[0m \u001b[38;5;28;01melif\u001b[39;00m should_wrap:\n\u001b[1;32m   2354\u001b[0m     \u001b[38;5;28;01massert\u001b[39;00m sqlalchemy_exception \u001b[38;5;129;01mis\u001b[39;00m \u001b[38;5;129;01mnot\u001b[39;00m \u001b[38;5;28;01mNone\u001b[39;00m\n\u001b[0;32m-> 2355\u001b[0m     \u001b[38;5;28;01mraise\u001b[39;00m sqlalchemy_exception\u001b[38;5;241m.\u001b[39mwith_traceback(exc_info[\u001b[38;5;241m2\u001b[39m]) \u001b[38;5;28;01mfrom\u001b[39;00m \u001b[38;5;21;01me\u001b[39;00m\n\u001b[1;32m   2356\u001b[0m \u001b[38;5;28;01melse\u001b[39;00m:\n\u001b[1;32m   2357\u001b[0m     \u001b[38;5;28;01massert\u001b[39;00m exc_info[\u001b[38;5;241m1\u001b[39m] \u001b[38;5;129;01mis\u001b[39;00m \u001b[38;5;129;01mnot\u001b[39;00m \u001b[38;5;28;01mNone\u001b[39;00m\n",
      "File \u001b[0;32m~/.pyenv/versions/symbolic/lib/python3.11/site-packages/sqlalchemy/engine/base.py:2118\u001b[0m, in \u001b[0;36mConnection._exec_insertmany_context\u001b[0;34m(self, dialect, context)\u001b[0m\n\u001b[1;32m   2116\u001b[0m             \u001b[38;5;28;01mbreak\u001b[39;00m\n\u001b[1;32m   2117\u001b[0m     \u001b[38;5;28;01melse\u001b[39;00m:\n\u001b[0;32m-> 2118\u001b[0m         \u001b[43mdialect\u001b[49m\u001b[38;5;241;43m.\u001b[39;49m\u001b[43mdo_execute\u001b[49m\u001b[43m(\u001b[49m\n\u001b[1;32m   2119\u001b[0m \u001b[43m            \u001b[49m\u001b[43mcursor\u001b[49m\u001b[43m,\u001b[49m\n\u001b[1;32m   2120\u001b[0m \u001b[43m            \u001b[49m\u001b[43msub_stmt\u001b[49m\u001b[43m,\u001b[49m\n\u001b[1;32m   2121\u001b[0m \u001b[43m            \u001b[49m\u001b[43msub_params\u001b[49m\u001b[43m,\u001b[49m\n\u001b[1;32m   2122\u001b[0m \u001b[43m            \u001b[49m\u001b[43mcontext\u001b[49m\u001b[43m,\u001b[49m\n\u001b[1;32m   2123\u001b[0m \u001b[43m        \u001b[49m\u001b[43m)\u001b[49m\n\u001b[1;32m   2125\u001b[0m \u001b[38;5;28;01mexcept\u001b[39;00m \u001b[38;5;167;01mBaseException\u001b[39;00m \u001b[38;5;28;01mas\u001b[39;00m e:\n\u001b[1;32m   2126\u001b[0m     \u001b[38;5;28mself\u001b[39m\u001b[38;5;241m.\u001b[39m_handle_dbapi_exception(\n\u001b[1;32m   2127\u001b[0m         e,\n\u001b[1;32m   2128\u001b[0m         sql_util\u001b[38;5;241m.\u001b[39m_long_statement(sub_stmt),\n\u001b[0;32m   (...)\u001b[0m\n\u001b[1;32m   2132\u001b[0m         is_sub_exec\u001b[38;5;241m=\u001b[39m\u001b[38;5;28;01mTrue\u001b[39;00m,\n\u001b[1;32m   2133\u001b[0m     )\n",
      "File \u001b[0;32m~/.pyenv/versions/symbolic/lib/python3.11/site-packages/sqlalchemy/engine/default.py:941\u001b[0m, in \u001b[0;36mDefaultDialect.do_execute\u001b[0;34m(self, cursor, statement, parameters, context)\u001b[0m\n\u001b[1;32m    940\u001b[0m \u001b[38;5;28;01mdef\u001b[39;00m \u001b[38;5;21mdo_execute\u001b[39m(\u001b[38;5;28mself\u001b[39m, cursor, statement, parameters, context\u001b[38;5;241m=\u001b[39m\u001b[38;5;28;01mNone\u001b[39;00m):\n\u001b[0;32m--> 941\u001b[0m     cursor\u001b[38;5;241m.\u001b[39mexecute(statement, parameters)\n",
      "\u001b[0;31mIntegrityError\u001b[0m: (sqlite3.IntegrityError) NOT NULL constraint failed: paragraphs.translation\n[SQL: INSERT INTO paragraphs (section, lesson_nb, line_nb, paragraph, data) VALUES (?, ?, ?, ?, ?) RETURNING id]\n[parameters: (0, 1, 0, 'N1-Lección primera', None)]\n(Background on this error at: https://sqlalche.me/e/20/gkpj)"
     ]
    }
   ],
   "source": [
    "with Session(engine) as session:\n",
    "    for lesson_nb in range(1, 101):\n",
    "        paragraphs = get_sentences_from_audio_files(lesson_nb)\n",
    "        for line_nb, paragraph in enumerate(paragraphs):\n",
    "            paragraph = paragraph.replace(\"...\", \"…\")\n",
    "            if paragraph[0] == 'N':\n",
    "                section = 0\n",
    "            elif paragraph[0] == 'S':\n",
    "                section = 1\n",
    "            elif paragraph[0] == 'T':\n",
    "                section = 2\n",
    "            else:\n",
    "                print(f\"lesson_nb : {lesson_nb}, line_nb : {line_nb}, {paragraph}\")\n",
    "                raise\n",
    "            entry = Paragraph(\n",
    "                section = section,\n",
    "                lesson_nb = lesson_nb,\n",
    "                line_nb = line_nb,\n",
    "                paragraph = paragraph\n",
    "            )\n",
    "            session.add(entry)\n",
    "    session.commit()"
   ]
  },
  {
   "cell_type": "code",
   "execution_count": 131,
   "id": "072c334a-21c3-4490-8253-3a8072848ca6",
   "metadata": {},
   "outputs": [
    {
     "name": "stdout",
     "output_type": "stream",
     "text": [
      "time to procced : 0.004405975341796875\n"
     ]
    }
   ],
   "source": [
    "import time\n",
    "stmt = select(Paragraph).where(\n",
    "    and_(\n",
    "        Paragraph.lesson_nb == 69,\n",
    "        Paragraph.line_nb == 5\n",
    "    )\n",
    ")\n",
    "ti = time.time()\n",
    "with Session(engine) as session:\n",
    "    for entry in session.scalars(stmt):\n",
    "        print(entry)\n",
    "        print(entry.paragraph)\n",
    "tf = time.time()\n",
    "print(f\"time to procced : {tf - ti}\") "
   ]
  },
  {
   "cell_type": "code",
   "execution_count": 5,
   "id": "fcf7cde6-a87f-488c-b793-c33288bbc840",
   "metadata": {},
   "outputs": [],
   "source": [
    "update_paragraph(100, 20, \"Voyons si ça marche!\")"
   ]
  },
  {
   "cell_type": "code",
   "execution_count": null,
   "id": "482e7787-1869-4fcf-93e4-41566de1baa0",
   "metadata": {},
   "outputs": [],
   "source": []
  },
  {
   "cell_type": "code",
   "execution_count": 118,
   "id": "a243d98c-2064-4f27-a4c1-074bb9c62d6e",
   "metadata": {},
   "outputs": [],
   "source": [
    "Paragraph.__table__.drop(engine)"
   ]
  },
  {
   "cell_type": "code",
   "execution_count": 119,
   "id": "d8da3adf-8dd2-4507-8256-47b107a1b043",
   "metadata": {},
   "outputs": [
    {
     "ename": "OperationalError",
     "evalue": "(sqlite3.OperationalError) no such table: paragraphs\n[SQL: SELECT paragraphs.id, paragraphs.section, paragraphs.lesson_nb, paragraphs.line_nb, paragraphs.paragraph, paragraphs.data \nFROM paragraphs \nWHERE paragraphs.lesson_nb = ? AND paragraphs.line_nb = ?]\n[parameters: (100, 20)]\n(Background on this error at: https://sqlalche.me/e/20/e3q8)",
     "output_type": "error",
     "traceback": [
      "\u001b[0;31m---------------------------------------------------------------------------\u001b[0m",
      "\u001b[0;31mOperationalError\u001b[0m                          Traceback (most recent call last)",
      "File \u001b[0;32m~/.pyenv/versions/symbolic/lib/python3.11/site-packages/sqlalchemy/engine/base.py:1967\u001b[0m, in \u001b[0;36mConnection._exec_single_context\u001b[0;34m(self, dialect, context, statement, parameters)\u001b[0m\n\u001b[1;32m   1966\u001b[0m     \u001b[38;5;28;01mif\u001b[39;00m \u001b[38;5;129;01mnot\u001b[39;00m evt_handled:\n\u001b[0;32m-> 1967\u001b[0m         \u001b[38;5;28;43mself\u001b[39;49m\u001b[38;5;241;43m.\u001b[39;49m\u001b[43mdialect\u001b[49m\u001b[38;5;241;43m.\u001b[39;49m\u001b[43mdo_execute\u001b[49m\u001b[43m(\u001b[49m\n\u001b[1;32m   1968\u001b[0m \u001b[43m            \u001b[49m\u001b[43mcursor\u001b[49m\u001b[43m,\u001b[49m\u001b[43m \u001b[49m\u001b[43mstr_statement\u001b[49m\u001b[43m,\u001b[49m\u001b[43m \u001b[49m\u001b[43meffective_parameters\u001b[49m\u001b[43m,\u001b[49m\u001b[43m \u001b[49m\u001b[43mcontext\u001b[49m\n\u001b[1;32m   1969\u001b[0m \u001b[43m        \u001b[49m\u001b[43m)\u001b[49m\n\u001b[1;32m   1971\u001b[0m \u001b[38;5;28;01mif\u001b[39;00m \u001b[38;5;28mself\u001b[39m\u001b[38;5;241m.\u001b[39m_has_events \u001b[38;5;129;01mor\u001b[39;00m \u001b[38;5;28mself\u001b[39m\u001b[38;5;241m.\u001b[39mengine\u001b[38;5;241m.\u001b[39m_has_events:\n",
      "File \u001b[0;32m~/.pyenv/versions/symbolic/lib/python3.11/site-packages/sqlalchemy/engine/default.py:941\u001b[0m, in \u001b[0;36mDefaultDialect.do_execute\u001b[0;34m(self, cursor, statement, parameters, context)\u001b[0m\n\u001b[1;32m    940\u001b[0m \u001b[38;5;28;01mdef\u001b[39;00m \u001b[38;5;21mdo_execute\u001b[39m(\u001b[38;5;28mself\u001b[39m, cursor, statement, parameters, context\u001b[38;5;241m=\u001b[39m\u001b[38;5;28;01mNone\u001b[39;00m):\n\u001b[0;32m--> 941\u001b[0m     cursor\u001b[38;5;241m.\u001b[39mexecute(statement, parameters)\n",
      "\u001b[0;31mOperationalError\u001b[0m: no such table: paragraphs",
      "\nThe above exception was the direct cause of the following exception:\n",
      "\u001b[0;31mOperationalError\u001b[0m                          Traceback (most recent call last)",
      "Cell \u001b[0;32mIn[119], line 10\u001b[0m\n\u001b[1;32m      8\u001b[0m ti \u001b[38;5;241m=\u001b[39m time\u001b[38;5;241m.\u001b[39mtime()\n\u001b[1;32m      9\u001b[0m \u001b[38;5;28;01mwith\u001b[39;00m Session(engine) \u001b[38;5;28;01mas\u001b[39;00m session:\n\u001b[0;32m---> 10\u001b[0m     \u001b[38;5;28;01mfor\u001b[39;00m entry \u001b[38;5;129;01min\u001b[39;00m \u001b[43msession\u001b[49m\u001b[38;5;241;43m.\u001b[39;49m\u001b[43mscalars\u001b[49m\u001b[43m(\u001b[49m\u001b[43mstmt\u001b[49m\u001b[43m)\u001b[49m:\n\u001b[1;32m     11\u001b[0m         \u001b[38;5;28mprint\u001b[39m(entry)\n\u001b[1;32m     12\u001b[0m         entry\u001b[38;5;241m.\u001b[39mparagraph \u001b[38;5;241m=\u001b[39m \u001b[38;5;124m\"\u001b[39m\u001b[38;5;124mtest 2 voyons si celà marche\u001b[39m\u001b[38;5;124m\"\u001b[39m\n",
      "File \u001b[0;32m~/.pyenv/versions/symbolic/lib/python3.11/site-packages/sqlalchemy/orm/session.py:2470\u001b[0m, in \u001b[0;36mSession.scalars\u001b[0;34m(self, statement, params, execution_options, bind_arguments, **kw)\u001b[0m\n\u001b[1;32m   2441\u001b[0m \u001b[38;5;28;01mdef\u001b[39;00m \u001b[38;5;21mscalars\u001b[39m(\n\u001b[1;32m   2442\u001b[0m     \u001b[38;5;28mself\u001b[39m,\n\u001b[1;32m   2443\u001b[0m     statement: Executable,\n\u001b[0;32m   (...)\u001b[0m\n\u001b[1;32m   2448\u001b[0m     \u001b[38;5;241m*\u001b[39m\u001b[38;5;241m*\u001b[39mkw: Any,\n\u001b[1;32m   2449\u001b[0m ) \u001b[38;5;241m-\u001b[39m\u001b[38;5;241m>\u001b[39m ScalarResult[Any]:\n\u001b[1;32m   2450\u001b[0m \u001b[38;5;250m    \u001b[39m\u001b[38;5;124;03m\"\"\"Execute a statement and return the results as scalars.\u001b[39;00m\n\u001b[1;32m   2451\u001b[0m \n\u001b[1;32m   2452\u001b[0m \u001b[38;5;124;03m    Usage and parameters are the same as that of\u001b[39;00m\n\u001b[0;32m   (...)\u001b[0m\n\u001b[1;32m   2467\u001b[0m \n\u001b[1;32m   2468\u001b[0m \u001b[38;5;124;03m    \"\"\"\u001b[39;00m\n\u001b[0;32m-> 2470\u001b[0m     \u001b[38;5;28;01mreturn\u001b[39;00m \u001b[38;5;28;43mself\u001b[39;49m\u001b[38;5;241;43m.\u001b[39;49m\u001b[43m_execute_internal\u001b[49m\u001b[43m(\u001b[49m\n\u001b[1;32m   2471\u001b[0m \u001b[43m        \u001b[49m\u001b[43mstatement\u001b[49m\u001b[43m,\u001b[49m\n\u001b[1;32m   2472\u001b[0m \u001b[43m        \u001b[49m\u001b[43mparams\u001b[49m\u001b[38;5;241;43m=\u001b[39;49m\u001b[43mparams\u001b[49m\u001b[43m,\u001b[49m\n\u001b[1;32m   2473\u001b[0m \u001b[43m        \u001b[49m\u001b[43mexecution_options\u001b[49m\u001b[38;5;241;43m=\u001b[39;49m\u001b[43mexecution_options\u001b[49m\u001b[43m,\u001b[49m\n\u001b[1;32m   2474\u001b[0m \u001b[43m        \u001b[49m\u001b[43mbind_arguments\u001b[49m\u001b[38;5;241;43m=\u001b[39;49m\u001b[43mbind_arguments\u001b[49m\u001b[43m,\u001b[49m\n\u001b[1;32m   2475\u001b[0m \u001b[43m        \u001b[49m\u001b[43m_scalar_result\u001b[49m\u001b[38;5;241;43m=\u001b[39;49m\u001b[38;5;28;43;01mFalse\u001b[39;49;00m\u001b[43m,\u001b[49m\u001b[43m  \u001b[49m\u001b[38;5;66;43;03m# mypy appreciates this\u001b[39;49;00m\n\u001b[1;32m   2476\u001b[0m \u001b[43m        \u001b[49m\u001b[38;5;241;43m*\u001b[39;49m\u001b[38;5;241;43m*\u001b[39;49m\u001b[43mkw\u001b[49m\u001b[43m,\u001b[49m\n\u001b[1;32m   2477\u001b[0m \u001b[43m    \u001b[49m\u001b[43m)\u001b[49m\u001b[38;5;241m.\u001b[39mscalars()\n",
      "File \u001b[0;32m~/.pyenv/versions/symbolic/lib/python3.11/site-packages/sqlalchemy/orm/session.py:2247\u001b[0m, in \u001b[0;36mSession._execute_internal\u001b[0;34m(self, statement, params, execution_options, bind_arguments, _parent_execute_state, _add_event, _scalar_result)\u001b[0m\n\u001b[1;32m   2242\u001b[0m     \u001b[38;5;28;01mreturn\u001b[39;00m conn\u001b[38;5;241m.\u001b[39mscalar(\n\u001b[1;32m   2243\u001b[0m         statement, params \u001b[38;5;129;01mor\u001b[39;00m {}, execution_options\u001b[38;5;241m=\u001b[39mexecution_options\n\u001b[1;32m   2244\u001b[0m     )\n\u001b[1;32m   2246\u001b[0m \u001b[38;5;28;01mif\u001b[39;00m compile_state_cls:\n\u001b[0;32m-> 2247\u001b[0m     result: Result[Any] \u001b[38;5;241m=\u001b[39m \u001b[43mcompile_state_cls\u001b[49m\u001b[38;5;241;43m.\u001b[39;49m\u001b[43morm_execute_statement\u001b[49m\u001b[43m(\u001b[49m\n\u001b[1;32m   2248\u001b[0m \u001b[43m        \u001b[49m\u001b[38;5;28;43mself\u001b[39;49m\u001b[43m,\u001b[49m\n\u001b[1;32m   2249\u001b[0m \u001b[43m        \u001b[49m\u001b[43mstatement\u001b[49m\u001b[43m,\u001b[49m\n\u001b[1;32m   2250\u001b[0m \u001b[43m        \u001b[49m\u001b[43mparams\u001b[49m\u001b[43m \u001b[49m\u001b[38;5;129;43;01mor\u001b[39;49;00m\u001b[43m \u001b[49m\u001b[43m{\u001b[49m\u001b[43m}\u001b[49m\u001b[43m,\u001b[49m\n\u001b[1;32m   2251\u001b[0m \u001b[43m        \u001b[49m\u001b[43mexecution_options\u001b[49m\u001b[43m,\u001b[49m\n\u001b[1;32m   2252\u001b[0m \u001b[43m        \u001b[49m\u001b[43mbind_arguments\u001b[49m\u001b[43m,\u001b[49m\n\u001b[1;32m   2253\u001b[0m \u001b[43m        \u001b[49m\u001b[43mconn\u001b[49m\u001b[43m,\u001b[49m\n\u001b[1;32m   2254\u001b[0m \u001b[43m    \u001b[49m\u001b[43m)\u001b[49m\n\u001b[1;32m   2255\u001b[0m \u001b[38;5;28;01melse\u001b[39;00m:\n\u001b[1;32m   2256\u001b[0m     result \u001b[38;5;241m=\u001b[39m conn\u001b[38;5;241m.\u001b[39mexecute(\n\u001b[1;32m   2257\u001b[0m         statement, params \u001b[38;5;129;01mor\u001b[39;00m {}, execution_options\u001b[38;5;241m=\u001b[39mexecution_options\n\u001b[1;32m   2258\u001b[0m     )\n",
      "File \u001b[0;32m~/.pyenv/versions/symbolic/lib/python3.11/site-packages/sqlalchemy/orm/context.py:293\u001b[0m, in \u001b[0;36mAbstractORMCompileState.orm_execute_statement\u001b[0;34m(cls, session, statement, params, execution_options, bind_arguments, conn)\u001b[0m\n\u001b[1;32m    283\u001b[0m \u001b[38;5;129m@classmethod\u001b[39m\n\u001b[1;32m    284\u001b[0m \u001b[38;5;28;01mdef\u001b[39;00m \u001b[38;5;21morm_execute_statement\u001b[39m(\n\u001b[1;32m    285\u001b[0m     \u001b[38;5;28mcls\u001b[39m,\n\u001b[0;32m   (...)\u001b[0m\n\u001b[1;32m    291\u001b[0m     conn,\n\u001b[1;32m    292\u001b[0m ) \u001b[38;5;241m-\u001b[39m\u001b[38;5;241m>\u001b[39m Result:\n\u001b[0;32m--> 293\u001b[0m     result \u001b[38;5;241m=\u001b[39m \u001b[43mconn\u001b[49m\u001b[38;5;241;43m.\u001b[39;49m\u001b[43mexecute\u001b[49m\u001b[43m(\u001b[49m\n\u001b[1;32m    294\u001b[0m \u001b[43m        \u001b[49m\u001b[43mstatement\u001b[49m\u001b[43m,\u001b[49m\u001b[43m \u001b[49m\u001b[43mparams\u001b[49m\u001b[43m \u001b[49m\u001b[38;5;129;43;01mor\u001b[39;49;00m\u001b[43m \u001b[49m\u001b[43m{\u001b[49m\u001b[43m}\u001b[49m\u001b[43m,\u001b[49m\u001b[43m \u001b[49m\u001b[43mexecution_options\u001b[49m\u001b[38;5;241;43m=\u001b[39;49m\u001b[43mexecution_options\u001b[49m\n\u001b[1;32m    295\u001b[0m \u001b[43m    \u001b[49m\u001b[43m)\u001b[49m\n\u001b[1;32m    296\u001b[0m     \u001b[38;5;28;01mreturn\u001b[39;00m \u001b[38;5;28mcls\u001b[39m\u001b[38;5;241m.\u001b[39morm_setup_cursor_result(\n\u001b[1;32m    297\u001b[0m         session,\n\u001b[1;32m    298\u001b[0m         statement,\n\u001b[0;32m   (...)\u001b[0m\n\u001b[1;32m    302\u001b[0m         result,\n\u001b[1;32m    303\u001b[0m     )\n",
      "File \u001b[0;32m~/.pyenv/versions/symbolic/lib/python3.11/site-packages/sqlalchemy/engine/base.py:1418\u001b[0m, in \u001b[0;36mConnection.execute\u001b[0;34m(self, statement, parameters, execution_options)\u001b[0m\n\u001b[1;32m   1416\u001b[0m     \u001b[38;5;28;01mraise\u001b[39;00m exc\u001b[38;5;241m.\u001b[39mObjectNotExecutableError(statement) \u001b[38;5;28;01mfrom\u001b[39;00m \u001b[38;5;21;01merr\u001b[39;00m\n\u001b[1;32m   1417\u001b[0m \u001b[38;5;28;01melse\u001b[39;00m:\n\u001b[0;32m-> 1418\u001b[0m     \u001b[38;5;28;01mreturn\u001b[39;00m \u001b[43mmeth\u001b[49m\u001b[43m(\u001b[49m\n\u001b[1;32m   1419\u001b[0m \u001b[43m        \u001b[49m\u001b[38;5;28;43mself\u001b[39;49m\u001b[43m,\u001b[49m\n\u001b[1;32m   1420\u001b[0m \u001b[43m        \u001b[49m\u001b[43mdistilled_parameters\u001b[49m\u001b[43m,\u001b[49m\n\u001b[1;32m   1421\u001b[0m \u001b[43m        \u001b[49m\u001b[43mexecution_options\u001b[49m\u001b[43m \u001b[49m\u001b[38;5;129;43;01mor\u001b[39;49;00m\u001b[43m \u001b[49m\u001b[43mNO_OPTIONS\u001b[49m\u001b[43m,\u001b[49m\n\u001b[1;32m   1422\u001b[0m \u001b[43m    \u001b[49m\u001b[43m)\u001b[49m\n",
      "File \u001b[0;32m~/.pyenv/versions/symbolic/lib/python3.11/site-packages/sqlalchemy/sql/elements.py:515\u001b[0m, in \u001b[0;36mClauseElement._execute_on_connection\u001b[0;34m(self, connection, distilled_params, execution_options)\u001b[0m\n\u001b[1;32m    513\u001b[0m     \u001b[38;5;28;01mif\u001b[39;00m TYPE_CHECKING:\n\u001b[1;32m    514\u001b[0m         \u001b[38;5;28;01massert\u001b[39;00m \u001b[38;5;28misinstance\u001b[39m(\u001b[38;5;28mself\u001b[39m, Executable)\n\u001b[0;32m--> 515\u001b[0m     \u001b[38;5;28;01mreturn\u001b[39;00m \u001b[43mconnection\u001b[49m\u001b[38;5;241;43m.\u001b[39;49m\u001b[43m_execute_clauseelement\u001b[49m\u001b[43m(\u001b[49m\n\u001b[1;32m    516\u001b[0m \u001b[43m        \u001b[49m\u001b[38;5;28;43mself\u001b[39;49m\u001b[43m,\u001b[49m\u001b[43m \u001b[49m\u001b[43mdistilled_params\u001b[49m\u001b[43m,\u001b[49m\u001b[43m \u001b[49m\u001b[43mexecution_options\u001b[49m\n\u001b[1;32m    517\u001b[0m \u001b[43m    \u001b[49m\u001b[43m)\u001b[49m\n\u001b[1;32m    518\u001b[0m \u001b[38;5;28;01melse\u001b[39;00m:\n\u001b[1;32m    519\u001b[0m     \u001b[38;5;28;01mraise\u001b[39;00m exc\u001b[38;5;241m.\u001b[39mObjectNotExecutableError(\u001b[38;5;28mself\u001b[39m)\n",
      "File \u001b[0;32m~/.pyenv/versions/symbolic/lib/python3.11/site-packages/sqlalchemy/engine/base.py:1640\u001b[0m, in \u001b[0;36mConnection._execute_clauseelement\u001b[0;34m(self, elem, distilled_parameters, execution_options)\u001b[0m\n\u001b[1;32m   1628\u001b[0m compiled_cache: Optional[CompiledCacheType] \u001b[38;5;241m=\u001b[39m execution_options\u001b[38;5;241m.\u001b[39mget(\n\u001b[1;32m   1629\u001b[0m     \u001b[38;5;124m\"\u001b[39m\u001b[38;5;124mcompiled_cache\u001b[39m\u001b[38;5;124m\"\u001b[39m, \u001b[38;5;28mself\u001b[39m\u001b[38;5;241m.\u001b[39mengine\u001b[38;5;241m.\u001b[39m_compiled_cache\n\u001b[1;32m   1630\u001b[0m )\n\u001b[1;32m   1632\u001b[0m compiled_sql, extracted_params, cache_hit \u001b[38;5;241m=\u001b[39m elem\u001b[38;5;241m.\u001b[39m_compile_w_cache(\n\u001b[1;32m   1633\u001b[0m     dialect\u001b[38;5;241m=\u001b[39mdialect,\n\u001b[1;32m   1634\u001b[0m     compiled_cache\u001b[38;5;241m=\u001b[39mcompiled_cache,\n\u001b[0;32m   (...)\u001b[0m\n\u001b[1;32m   1638\u001b[0m     linting\u001b[38;5;241m=\u001b[39m\u001b[38;5;28mself\u001b[39m\u001b[38;5;241m.\u001b[39mdialect\u001b[38;5;241m.\u001b[39mcompiler_linting \u001b[38;5;241m|\u001b[39m compiler\u001b[38;5;241m.\u001b[39mWARN_LINTING,\n\u001b[1;32m   1639\u001b[0m )\n\u001b[0;32m-> 1640\u001b[0m ret \u001b[38;5;241m=\u001b[39m \u001b[38;5;28;43mself\u001b[39;49m\u001b[38;5;241;43m.\u001b[39;49m\u001b[43m_execute_context\u001b[49m\u001b[43m(\u001b[49m\n\u001b[1;32m   1641\u001b[0m \u001b[43m    \u001b[49m\u001b[43mdialect\u001b[49m\u001b[43m,\u001b[49m\n\u001b[1;32m   1642\u001b[0m \u001b[43m    \u001b[49m\u001b[43mdialect\u001b[49m\u001b[38;5;241;43m.\u001b[39;49m\u001b[43mexecution_ctx_cls\u001b[49m\u001b[38;5;241;43m.\u001b[39;49m\u001b[43m_init_compiled\u001b[49m\u001b[43m,\u001b[49m\n\u001b[1;32m   1643\u001b[0m \u001b[43m    \u001b[49m\u001b[43mcompiled_sql\u001b[49m\u001b[43m,\u001b[49m\n\u001b[1;32m   1644\u001b[0m \u001b[43m    \u001b[49m\u001b[43mdistilled_parameters\u001b[49m\u001b[43m,\u001b[49m\n\u001b[1;32m   1645\u001b[0m \u001b[43m    \u001b[49m\u001b[43mexecution_options\u001b[49m\u001b[43m,\u001b[49m\n\u001b[1;32m   1646\u001b[0m \u001b[43m    \u001b[49m\u001b[43mcompiled_sql\u001b[49m\u001b[43m,\u001b[49m\n\u001b[1;32m   1647\u001b[0m \u001b[43m    \u001b[49m\u001b[43mdistilled_parameters\u001b[49m\u001b[43m,\u001b[49m\n\u001b[1;32m   1648\u001b[0m \u001b[43m    \u001b[49m\u001b[43melem\u001b[49m\u001b[43m,\u001b[49m\n\u001b[1;32m   1649\u001b[0m \u001b[43m    \u001b[49m\u001b[43mextracted_params\u001b[49m\u001b[43m,\u001b[49m\n\u001b[1;32m   1650\u001b[0m \u001b[43m    \u001b[49m\u001b[43mcache_hit\u001b[49m\u001b[38;5;241;43m=\u001b[39;49m\u001b[43mcache_hit\u001b[49m\u001b[43m,\u001b[49m\n\u001b[1;32m   1651\u001b[0m \u001b[43m\u001b[49m\u001b[43m)\u001b[49m\n\u001b[1;32m   1652\u001b[0m \u001b[38;5;28;01mif\u001b[39;00m has_events:\n\u001b[1;32m   1653\u001b[0m     \u001b[38;5;28mself\u001b[39m\u001b[38;5;241m.\u001b[39mdispatch\u001b[38;5;241m.\u001b[39mafter_execute(\n\u001b[1;32m   1654\u001b[0m         \u001b[38;5;28mself\u001b[39m,\n\u001b[1;32m   1655\u001b[0m         elem,\n\u001b[0;32m   (...)\u001b[0m\n\u001b[1;32m   1659\u001b[0m         ret,\n\u001b[1;32m   1660\u001b[0m     )\n",
      "File \u001b[0;32m~/.pyenv/versions/symbolic/lib/python3.11/site-packages/sqlalchemy/engine/base.py:1846\u001b[0m, in \u001b[0;36mConnection._execute_context\u001b[0;34m(self, dialect, constructor, statement, parameters, execution_options, *args, **kw)\u001b[0m\n\u001b[1;32m   1844\u001b[0m     \u001b[38;5;28;01mreturn\u001b[39;00m \u001b[38;5;28mself\u001b[39m\u001b[38;5;241m.\u001b[39m_exec_insertmany_context(dialect, context)\n\u001b[1;32m   1845\u001b[0m \u001b[38;5;28;01melse\u001b[39;00m:\n\u001b[0;32m-> 1846\u001b[0m     \u001b[38;5;28;01mreturn\u001b[39;00m \u001b[38;5;28;43mself\u001b[39;49m\u001b[38;5;241;43m.\u001b[39;49m\u001b[43m_exec_single_context\u001b[49m\u001b[43m(\u001b[49m\n\u001b[1;32m   1847\u001b[0m \u001b[43m        \u001b[49m\u001b[43mdialect\u001b[49m\u001b[43m,\u001b[49m\u001b[43m \u001b[49m\u001b[43mcontext\u001b[49m\u001b[43m,\u001b[49m\u001b[43m \u001b[49m\u001b[43mstatement\u001b[49m\u001b[43m,\u001b[49m\u001b[43m \u001b[49m\u001b[43mparameters\u001b[49m\n\u001b[1;32m   1848\u001b[0m \u001b[43m    \u001b[49m\u001b[43m)\u001b[49m\n",
      "File \u001b[0;32m~/.pyenv/versions/symbolic/lib/python3.11/site-packages/sqlalchemy/engine/base.py:1986\u001b[0m, in \u001b[0;36mConnection._exec_single_context\u001b[0;34m(self, dialect, context, statement, parameters)\u001b[0m\n\u001b[1;32m   1983\u001b[0m     result \u001b[38;5;241m=\u001b[39m context\u001b[38;5;241m.\u001b[39m_setup_result_proxy()\n\u001b[1;32m   1985\u001b[0m \u001b[38;5;28;01mexcept\u001b[39;00m \u001b[38;5;167;01mBaseException\u001b[39;00m \u001b[38;5;28;01mas\u001b[39;00m e:\n\u001b[0;32m-> 1986\u001b[0m     \u001b[38;5;28;43mself\u001b[39;49m\u001b[38;5;241;43m.\u001b[39;49m\u001b[43m_handle_dbapi_exception\u001b[49m\u001b[43m(\u001b[49m\n\u001b[1;32m   1987\u001b[0m \u001b[43m        \u001b[49m\u001b[43me\u001b[49m\u001b[43m,\u001b[49m\u001b[43m \u001b[49m\u001b[43mstr_statement\u001b[49m\u001b[43m,\u001b[49m\u001b[43m \u001b[49m\u001b[43meffective_parameters\u001b[49m\u001b[43m,\u001b[49m\u001b[43m \u001b[49m\u001b[43mcursor\u001b[49m\u001b[43m,\u001b[49m\u001b[43m \u001b[49m\u001b[43mcontext\u001b[49m\n\u001b[1;32m   1988\u001b[0m \u001b[43m    \u001b[49m\u001b[43m)\u001b[49m\n\u001b[1;32m   1990\u001b[0m \u001b[38;5;28;01mreturn\u001b[39;00m result\n",
      "File \u001b[0;32m~/.pyenv/versions/symbolic/lib/python3.11/site-packages/sqlalchemy/engine/base.py:2355\u001b[0m, in \u001b[0;36mConnection._handle_dbapi_exception\u001b[0;34m(self, e, statement, parameters, cursor, context, is_sub_exec)\u001b[0m\n\u001b[1;32m   2353\u001b[0m \u001b[38;5;28;01melif\u001b[39;00m should_wrap:\n\u001b[1;32m   2354\u001b[0m     \u001b[38;5;28;01massert\u001b[39;00m sqlalchemy_exception \u001b[38;5;129;01mis\u001b[39;00m \u001b[38;5;129;01mnot\u001b[39;00m \u001b[38;5;28;01mNone\u001b[39;00m\n\u001b[0;32m-> 2355\u001b[0m     \u001b[38;5;28;01mraise\u001b[39;00m sqlalchemy_exception\u001b[38;5;241m.\u001b[39mwith_traceback(exc_info[\u001b[38;5;241m2\u001b[39m]) \u001b[38;5;28;01mfrom\u001b[39;00m \u001b[38;5;21;01me\u001b[39;00m\n\u001b[1;32m   2356\u001b[0m \u001b[38;5;28;01melse\u001b[39;00m:\n\u001b[1;32m   2357\u001b[0m     \u001b[38;5;28;01massert\u001b[39;00m exc_info[\u001b[38;5;241m1\u001b[39m] \u001b[38;5;129;01mis\u001b[39;00m \u001b[38;5;129;01mnot\u001b[39;00m \u001b[38;5;28;01mNone\u001b[39;00m\n",
      "File \u001b[0;32m~/.pyenv/versions/symbolic/lib/python3.11/site-packages/sqlalchemy/engine/base.py:1967\u001b[0m, in \u001b[0;36mConnection._exec_single_context\u001b[0;34m(self, dialect, context, statement, parameters)\u001b[0m\n\u001b[1;32m   1965\u001b[0m                 \u001b[38;5;28;01mbreak\u001b[39;00m\n\u001b[1;32m   1966\u001b[0m     \u001b[38;5;28;01mif\u001b[39;00m \u001b[38;5;129;01mnot\u001b[39;00m evt_handled:\n\u001b[0;32m-> 1967\u001b[0m         \u001b[38;5;28;43mself\u001b[39;49m\u001b[38;5;241;43m.\u001b[39;49m\u001b[43mdialect\u001b[49m\u001b[38;5;241;43m.\u001b[39;49m\u001b[43mdo_execute\u001b[49m\u001b[43m(\u001b[49m\n\u001b[1;32m   1968\u001b[0m \u001b[43m            \u001b[49m\u001b[43mcursor\u001b[49m\u001b[43m,\u001b[49m\u001b[43m \u001b[49m\u001b[43mstr_statement\u001b[49m\u001b[43m,\u001b[49m\u001b[43m \u001b[49m\u001b[43meffective_parameters\u001b[49m\u001b[43m,\u001b[49m\u001b[43m \u001b[49m\u001b[43mcontext\u001b[49m\n\u001b[1;32m   1969\u001b[0m \u001b[43m        \u001b[49m\u001b[43m)\u001b[49m\n\u001b[1;32m   1971\u001b[0m \u001b[38;5;28;01mif\u001b[39;00m \u001b[38;5;28mself\u001b[39m\u001b[38;5;241m.\u001b[39m_has_events \u001b[38;5;129;01mor\u001b[39;00m \u001b[38;5;28mself\u001b[39m\u001b[38;5;241m.\u001b[39mengine\u001b[38;5;241m.\u001b[39m_has_events:\n\u001b[1;32m   1972\u001b[0m     \u001b[38;5;28mself\u001b[39m\u001b[38;5;241m.\u001b[39mdispatch\u001b[38;5;241m.\u001b[39mafter_cursor_execute(\n\u001b[1;32m   1973\u001b[0m         \u001b[38;5;28mself\u001b[39m,\n\u001b[1;32m   1974\u001b[0m         cursor,\n\u001b[0;32m   (...)\u001b[0m\n\u001b[1;32m   1978\u001b[0m         context\u001b[38;5;241m.\u001b[39mexecutemany,\n\u001b[1;32m   1979\u001b[0m     )\n",
      "File \u001b[0;32m~/.pyenv/versions/symbolic/lib/python3.11/site-packages/sqlalchemy/engine/default.py:941\u001b[0m, in \u001b[0;36mDefaultDialect.do_execute\u001b[0;34m(self, cursor, statement, parameters, context)\u001b[0m\n\u001b[1;32m    940\u001b[0m \u001b[38;5;28;01mdef\u001b[39;00m \u001b[38;5;21mdo_execute\u001b[39m(\u001b[38;5;28mself\u001b[39m, cursor, statement, parameters, context\u001b[38;5;241m=\u001b[39m\u001b[38;5;28;01mNone\u001b[39;00m):\n\u001b[0;32m--> 941\u001b[0m     cursor\u001b[38;5;241m.\u001b[39mexecute(statement, parameters)\n",
      "\u001b[0;31mOperationalError\u001b[0m: (sqlite3.OperationalError) no such table: paragraphs\n[SQL: SELECT paragraphs.id, paragraphs.section, paragraphs.lesson_nb, paragraphs.line_nb, paragraphs.paragraph, paragraphs.data \nFROM paragraphs \nWHERE paragraphs.lesson_nb = ? AND paragraphs.line_nb = ?]\n[parameters: (100, 20)]\n(Background on this error at: https://sqlalche.me/e/20/e3q8)"
     ]
    }
   ],
   "source": [
    "import time\n",
    "stmt = select(Paragraph).where(\n",
    "    and_(\n",
    "        Paragraph.lesson_nb == 100,\n",
    "        Paragraph.line_nb == 20\n",
    "    )\n",
    ")\n",
    "ti = time.time()\n",
    "with Session(engine) as session:\n",
    "    for entry in session.scalars(stmt):\n",
    "        print(entry)\n",
    "        entry.paragraph = \"test 2 voyons si celà marche\"\n",
    "    session.commit()\n",
    "tf = time.time()\n",
    "print(f\"time to procced : {tf - ti}\") "
   ]
  },
  {
   "cell_type": "code",
   "execution_count": 132,
   "id": "8a701c05-9986-47a7-b36e-b09aff15e6bf",
   "metadata": {},
   "outputs": [
    {
     "data": {
      "text/plain": [
       "{}"
      ]
     },
     "execution_count": 132,
     "metadata": {},
     "output_type": "execute_result"
    }
   ],
   "source": [
    "get_paragraphs(15)"
   ]
  },
  {
   "cell_type": "code",
   "execution_count": 134,
   "id": "c464d707-c452-413a-a17e-5b5caad511c3",
   "metadata": {},
   "outputs": [],
   "source": [
    "paragraphs = get_paragraphs(100)"
   ]
  },
  {
   "cell_type": "code",
   "execution_count": 135,
   "id": "06f8390a-98ae-4015-8704-98cd9efee152",
   "metadata": {},
   "outputs": [
    {
     "data": {
      "text/plain": [
       "[]"
      ]
     },
     "execution_count": 135,
     "metadata": {},
     "output_type": "execute_result"
    }
   ],
   "source": [
    "sorted(paragraphs.keys())"
   ]
  },
  {
   "cell_type": "code",
   "execution_count": 136,
   "id": "9292c04b-24a1-46f5-8063-a26457293f88",
   "metadata": {},
   "outputs": [],
   "source": [
    "from tonic_accent import get_list_of_bold_sentences"
   ]
  },
  {
   "cell_type": "code",
   "execution_count": 137,
   "id": "fbf48484-d5b8-4c91-b938-f23b23310331",
   "metadata": {},
   "outputs": [
    {
     "data": {
      "text/plain": [
       "[]"
      ]
     },
     "execution_count": 137,
     "metadata": {},
     "output_type": "execute_result"
    }
   ],
   "source": [
    "get_list_of_bold_sentences(15)"
   ]
  },
  {
   "cell_type": "code",
   "execution_count": 3,
   "id": "531cc183-7547-4a47-bda6-9592ac84277f",
   "metadata": {},
   "outputs": [],
   "source": [
    "from translation import get_french_lesson"
   ]
  },
  {
   "cell_type": "code",
   "execution_count": 21,
   "id": "4ec553c3-507b-4348-b975-0c7a0e11e6f6",
   "metadata": {},
   "outputs": [],
   "source": [
    "lesson, exercice_1 =get_french_lesson(1)"
   ]
  },
  {
   "cell_type": "code",
   "execution_count": 23,
   "id": "43964f2d-e38f-4569-8f14-46b04c225b62",
   "metadata": {},
   "outputs": [
    {
     "data": {
      "text/plain": [
       "'\\ufeff'"
      ]
     },
     "execution_count": 23,
     "metadata": {},
     "output_type": "execute_result"
    }
   ],
   "source": [
    "lesson[0][0]"
   ]
  },
  {
   "cell_type": "code",
   "execution_count": 138,
   "id": "9e05d401-fd79-44d3-9d9d-8c211b6a954c",
   "metadata": {},
   "outputs": [
    {
     "name": "stdout",
     "output_type": "stream",
     "text": [
      "45 - Les fichiers sont dans le dossier &quot;photos&quot;.\n",
      "46 Il avait les cheveux longs (le cheveu long), [des] bagues aux (dans les) doigts et sur (dans) le bras un tatouage qui disait &quot;Maman, je t'aime&quot; (Amour de mère).\n",
      "51 Par exemple, pour payer il suffit de (avec) demander: &quot;Garçon, qu'est-ce qu'on (il se) doit ?&quot;\n",
      "51 Là-bas normalement on dit (le normal c'est dire): &quot;Jeune [homme], auriez-vous l'amabilité (seriez vous si aimable) de m'apporter l'addition, s'il vous plaît ?&quot;\n",
      "53 et il appela &quot;Indiens&quot; (a) les hommes qu'il trouva.\n",
      "55 Il disait qu'il était à (d&quot;) un aviateur russe, de l'époque de (de quand) la guerre,\n",
      "59 3 - L'événement de la saison, [c']est la dernière œuvre du célèbre réalisateur de &quot;Un cœur si fragile&quot;.\n",
      "59 C'est l'événement de la saison ? Peut-être, mais moi, il me semble que &quot;Un cœur si fragile&quot; est un navet.\n",
      "62 - C'est au sujet de (en relation avec) l'annonce &quot;Cherche personne pour promener (a) mon chien&quot;.\n",
      "65 - Tu es encore jeune. Ne dis jamais &quot;fontaine, je ne boirai pas de ton eau&quot; (de cette eau je ne boirai pas).\n",
      "75 Hou là, écoute, ça fait peur: &quot;On nous avait dit (Nous dirent) que la chambre serait sur rue (aurait des vues) et on nous a donné (ils nous donnèrent) une qui donnait sur (a) la cour.&quot;\n",
      "75 &quot;Comme la climatisation était en panne, nous avons ouvert (ouvrîmes) la fenêtre et il a fallu (fallut) la fermer tout de suite à cause des (par les) odeurs.&quot;\n",
      "75 &quot;Il n'y avait pas [d']eau chaude ni [de] savon, les ampoules étaient grillées, le lavabo bouché et le miroir cassé.&quot;\n",
      "75 &quot;Nous nous sommes mis (Nous mîmes) au (dans le) lit, et à minuit un tableau s'est décroché (se décrocha) du mur tout seul (petit-seul).&quot;\n",
      "75 &quot;À moins que (À ne-pas être que) vous [n']aimiez les films d'horreur, n'[y] allez pas !&quot;\n",
      "83 - Il y a une case &quot;pourboire pour le livreur&quot;. Je la coche (marque) et je mets 3 euros ?\n",
      "83 Je ne coche jamais la case &quot;pourboire&quot;, je préfère le donner directement au livreur.\n",
      "84 Je coche la case &quot;pourboire&quot;?\n",
      "85 - Ecoute, ça y est, j'ai un slogan: &quot;Votez (Vote à) Pérez, le candidat du changement !&quot;\n",
      "93 \\&quot;Dans un village (endroit) de la Manche, dont je ne veux pas me rappeler le nom…\\”\n"
     ]
    }
   ],
   "source": [
    "for lesson_nb in range(1, 101):\n",
    "    lesson, exercice_1 = get_french_lesson(lesson_nb)\n",
    "    for paragraph in lesson + exercice_1:\n",
    "        if paragraph.find('&quot;') != -1:\n",
    "            print(lesson_nb, paragraph)"
   ]
  },
  {
   "cell_type": "code",
   "execution_count": 148,
   "id": "b31b6e8d-631b-4681-a7c8-fbf242ac83e7",
   "metadata": {},
   "outputs": [],
   "source": [
    "def store_lessons(list_of_files):\n",
    "    for fn in list_of_files:\n",
    "        comp = re.split('\\.| ', fn)\n",
    "        lesson_nb = int(comp[1])\n",
    "        new_file_name = f\"lessons/new/L{str(lesson_nb).zfill(3)}.txt\"\n",
    "        txt_file = open(os.path.join(\"lessons/scanned\", fn))\n",
    "        lesson = txt_file.read()\n",
    "        ll = lesson.split('\\n\\n')\n",
    "        first_line = True\n",
    "        newll = []\n",
    "        ie = 0\n",
    "        for l in ll:\n",
    "            l = l.replace('\\n', '')\n",
    "            if l.find('\\\\') != -1:\n",
    "                print(f\"Leçon No : {lesson_nb}, {l}\")\n",
    "            if l.find('\"') != -1:\n",
    "                print(f\"Leçon No : {lesson_nb}, {l}\")\n",
    "            l = l.replace('&quot;', '\"')\n",
    "            try:\n",
    "                if l[0].isdigit():\n",
    "                    ie += 1\n",
    "            except IndexError:\n",
    "                print(f\"IndexError pour le fichier : {py_file_name} à la ligne : {ie}, {l}\")\n",
    "            #newll.append(l.lstrip('0123456789 '))\n",
    "            if first_line:\n",
    "                l = l.replace('\\ufeff', '')\n",
    "                newll.append(l)\n",
    "                first_line = False\n",
    "            else:\n",
    "                newll.append('\\n' + l)\n",
    "\n",
    "        lesson = newll[:ie+2]\n",
    "        exercise1 = newll[ie+2:]\n",
    "        text = \"\"\n",
    "        for l in lesson:\n",
    "            text += l\n",
    "        text += \"\\nExercice 1 - Traduction\"\n",
    "        if exercise1:\n",
    "            for l in exercise1:\n",
    "                text += l\n",
    "        new_file = open(new_file_name, \"w\")\n",
    "        new_file.write(text)\n"
   ]
  },
  {
   "cell_type": "code",
   "execution_count": 149,
   "id": "6562d790-adbd-44d7-8cb1-2c2d1b895b28",
   "metadata": {},
   "outputs": [],
   "source": [
    "import os\n",
    "list_of_files = os.listdir(\"lessons/scanned\")"
   ]
  },
  {
   "cell_type": "code",
   "execution_count": 150,
   "id": "aa213005-f849-45e6-b952-f2c130dc5141",
   "metadata": {},
   "outputs": [
    {
     "name": "stdout",
     "output_type": "stream",
     "text": [
      "Leçon No : 62, 3- C'est au sujet de (en relation avec) l'annonce \"Cherche personne pour promener (a) mon chien\".\n",
      "Leçon No : 65, 12- Tu es encore jeune. Ne dis jamais \"fontaine, je ne boirai pas de ton eau\" (de cette eau je ne boirai pas).\n",
      "Leçon No : 59, 3 - L'événement de la saison, [c']est la dernière œuvre du célèbre réalisateur de \"Un cœur si fragile\".\n",
      "Leçon No : 59, C'est l'événement de la saison ? Peut-être, mais moi, il me semble que \"Un cœur si fragile\" est un navet.\n",
      "Leçon No : 55, 4 Il disait qu'il était à (d\") un aviateur russe, de l'époque de (de quand) la guerre,\n",
      "Leçon No : 93, 1 \"Dans un village (endroit) de la Manche, dont je ne veux pas me rappeler le nom…”\n",
      "Leçon No : 51, 14 Par exemple, pour payer il suffit de (avec) demander: \"Garçon, qu'est-ce qu'on (il se) doit ?\"\n",
      "Leçon No : 51, 15 Là-bas normalement on dit (le normal c'est dire): \"Jeune [homme], auriez-vous l'amabilité (seriez vous si aimable) de m'apporter l'addition, s'il vous plaît ?\"\n",
      "Leçon No : 45, 1 - Les fichiers sont dans le dossier \"photos\".\n",
      "Leçon No : 53, 3 et il appela \"Indiens\" (a) les hommes qu'il trouva.\n",
      "Leçon No : 46, 7 Il avait les cheveux longs (le cheveu long), [des] bagues aux (dans les) doigts et sur (dans) le bras un tatouage qui disait \"Maman, je t'aime\" (Amour de mère).\n"
     ]
    }
   ],
   "source": [
    "store_lessons(list_of_files)"
   ]
  },
  {
   "cell_type": "code",
   "execution_count": 140,
   "id": "b76a62f9-4c15-43a1-8316-4ce96b7fc23a",
   "metadata": {},
   "outputs": [
    {
     "data": {
      "text/plain": [
       "100"
      ]
     },
     "execution_count": 140,
     "metadata": {},
     "output_type": "execute_result"
    }
   ],
   "source": [
    "len(list_of_files)"
   ]
  },
  {
   "cell_type": "code",
   "execution_count": 141,
   "id": "c60260fc-1e3d-4383-bb9b-eded267e062a",
   "metadata": {},
   "outputs": [
    {
     "data": {
      "text/plain": [
       "'Première leçon (leçon première)\\nQuelle (que) surprise!\\n1- Salut, Laura !\\n2- Salut, Paco, quelle surprise!\\n3- Comment vas (es) [-tu], [la] belle ?\\n4- Bien, merci (mercis)! Et toi, ça va (que tel) ?\\n5- [Je] suis patraque…\\nÇa va?\\nComment vas-tu ?\\nSalut, la belle, quelle surprise!\\nTu es patraque?\\nJe vais bien, merci.'"
      ]
     },
     "execution_count": 141,
     "metadata": {},
     "output_type": "execute_result"
    }
   ],
   "source": [
    "lesson_nb = 1\n",
    "new_file_name = f\"lessons/new/L{str(lesson_nb).zfill(3)}.txt\"\n",
    "new_file_name\n",
    "lesson = open(new_file_name).read()\n",
    "lesson"
   ]
  },
  {
   "cell_type": "code",
   "execution_count": 142,
   "id": "fad42709-b32b-4020-8962-03a63c71bad8",
   "metadata": {},
   "outputs": [
    {
     "data": {
      "text/plain": [
       "1"
      ]
     },
     "execution_count": 142,
     "metadata": {},
     "output_type": "execute_result"
    }
   ],
   "source": [
    "len('\\ufeff')"
   ]
  },
  {
   "cell_type": "code",
   "execution_count": 78,
   "id": "355ce17d-fd96-4ee3-97ba-baa4336913a8",
   "metadata": {},
   "outputs": [
    {
     "name": "stdout",
     "output_type": "stream",
     "text": [
      "Paragraph(id=1895, section=2, lesson_nb=100, line_nb=20, paragraph ='T01-No basta con conocer muchos giros y muchas palabras para dominar un idioma. ', data =None)\n",
      "time to procced : 0.013582706451416016\n"
     ]
    }
   ],
   "source": [
    "from tonic_accent import get_sentences_from_audio_files, get_sentences\n",
    "from sqlalchemy.orm import Session\n",
    "from sqlalchemy import select, and_\n",
    "from database import Paragraph, engine, update_paragraph, get_paragraphs\n",
    "import time\n",
    "\n",
    "stmt = select(Paragraph).where(\n",
    "    and_(\n",
    "        Paragraph.lesson_nb == 100,\n",
    "        Paragraph.line_nb == 20\n",
    "    )\n",
    ")\n",
    "ti = time.time()\n",
    "with Session(engine) as session:\n",
    "    for entry in session.scalars(stmt):\n",
    "        print(entry)\n",
    "        entry.paragraph = \"test 2 voyons si celà marche\"\n",
    "    session.commit()\n",
    "tf = time.time()\n",
    "print(f\"time to procced : {tf - ti}\") "
   ]
  },
  {
   "cell_type": "code",
   "execution_count": 143,
   "id": "dbdf6434-0052-49c5-a278-595a66a27566",
   "metadata": {},
   "outputs": [
    {
     "name": "stdout",
     "output_type": "stream",
     "text": [
      "Nombre de lignes de la leçon 1, es: 0, fr: 12\n",
      "Nombre de lignes de la leçon 2, es: 0, fr: 12\n",
      "Nombre de lignes de la leçon 3, es: 0, fr: 12\n",
      "Nombre de lignes de la leçon 4, es: 0, fr: 12\n",
      "Nombre de lignes de la leçon 5, es: 0, fr: 12\n",
      "Nombre de lignes de la leçon 6, es: 0, fr: 13\n",
      "Nombre de lignes de la leçon 7, es: 0, fr: 12\n",
      "Nombre de lignes de la leçon 8, es: 0, fr: 13\n",
      "Nombre de lignes de la leçon 9, es: 0, fr: 14\n",
      "Nombre de lignes de la leçon 10, es: 0, fr: 14\n",
      "Nombre de lignes de la leçon 11, es: 0, fr: 16\n",
      "Nombre de lignes de la leçon 12, es: 0, fr: 14\n",
      "Nombre de lignes de la leçon 13, es: 0, fr: 14\n",
      "Nombre de lignes de la leçon 14, es: 0, fr: 12\n",
      "Nombre de lignes de la leçon 15, es: 0, fr: 14\n",
      "Nombre de lignes de la leçon 16, es: 0, fr: 15\n",
      "Nombre de lignes de la leçon 17, es: 0, fr: 15\n",
      "Nombre de lignes de la leçon 18, es: 0, fr: 14\n",
      "Nombre de lignes de la leçon 19, es: 0, fr: 14\n",
      "Nombre de lignes de la leçon 20, es: 0, fr: 16\n",
      "Nombre de lignes de la leçon 21, es: 0, fr: 14\n",
      "Nombre de lignes de la leçon 22, es: 0, fr: 15\n",
      "Nombre de lignes de la leçon 23, es: 0, fr: 15\n",
      "Nombre de lignes de la leçon 24, es: 0, fr: 16\n",
      "Nombre de lignes de la leçon 25, es: 0, fr: 18\n",
      "Nombre de lignes de la leçon 26, es: 0, fr: 18\n",
      "Nombre de lignes de la leçon 27, es: 0, fr: 15\n",
      "Nombre de lignes de la leçon 28, es: 0, fr: 13\n",
      "Nombre de lignes de la leçon 29, es: 0, fr: 18\n",
      "Nombre de lignes de la leçon 30, es: 0, fr: 16\n",
      "Nombre de lignes de la leçon 31, es: 0, fr: 17\n",
      "Nombre de lignes de la leçon 32, es: 0, fr: 17\n",
      "Nombre de lignes de la leçon 33, es: 0, fr: 19\n",
      "Nombre de lignes de la leçon 34, es: 0, fr: 16\n",
      "Nombre de lignes de la leçon 35, es: 0, fr: 14\n",
      "Nombre de lignes de la leçon 36, es: 0, fr: 16\n",
      "Nombre de lignes de la leçon 37, es: 0, fr: 19\n",
      "Nombre de lignes de la leçon 38, es: 0, fr: 18\n",
      "Nombre de lignes de la leçon 39, es: 0, fr: 16\n",
      "Nombre de lignes de la leçon 40, es: 0, fr: 16\n",
      "Nombre de lignes de la leçon 41, es: 0, fr: 16\n",
      "Nombre de lignes de la leçon 42, es: 0, fr: 15\n",
      "Nombre de lignes de la leçon 43, es: 0, fr: 18\n",
      "Nombre de lignes de la leçon 44, es: 0, fr: 20\n",
      "Nombre de lignes de la leçon 45, es: 0, fr: 20\n",
      "Nombre de lignes de la leçon 46, es: 0, fr: 20\n",
      "Nombre de lignes de la leçon 47, es: 0, fr: 17\n",
      "Nombre de lignes de la leçon 48, es: 0, fr: 19\n",
      "Nombre de lignes de la leçon 49, es: 0, fr: 14\n",
      "Nombre de lignes de la leçon 50, es: 0, fr: 19\n",
      "Nombre de lignes de la leçon 51, es: 0, fr: 22\n",
      "Nombre de lignes de la leçon 52, es: 0, fr: 19\n",
      "Nombre de lignes de la leçon 53, es: 0, fr: 18\n",
      "Nombre de lignes de la leçon 54, es: 0, fr: 23\n",
      "Nombre de lignes de la leçon 55, es: 0, fr: 21\n",
      "Nombre de lignes de la leçon 56, es: 0, fr: 13\n",
      "Nombre de lignes de la leçon 57, es: 0, fr: 20\n",
      "Nombre de lignes de la leçon 58, es: 0, fr: 22\n",
      "Nombre de lignes de la leçon 59, es: 0, fr: 22\n",
      "Nombre de lignes de la leçon 60, es: 0, fr: 20\n",
      "Nombre de lignes de la leçon 61, es: 0, fr: 23\n",
      "Nombre de lignes de la leçon 62, es: 0, fr: 23\n",
      "Nombre de lignes de la leçon 63, es: 0, fr: 16\n",
      "Nombre de lignes de la leçon 64, es: 0, fr: 22\n",
      "Nombre de lignes de la leçon 65, es: 0, fr: 22\n",
      "Nombre de lignes de la leçon 66, es: 0, fr: 22\n",
      "Nombre de lignes de la leçon 67, es: 0, fr: 21\n",
      "Nombre de lignes de la leçon 68, es: 0, fr: 23\n",
      "Nombre de lignes de la leçon 69, es: 0, fr: 22\n",
      "Nombre de lignes de la leçon 70, es: 0, fr: 15\n",
      "Nombre de lignes de la leçon 71, es: 0, fr: 20\n",
      "Nombre de lignes de la leçon 72, es: 0, fr: 22\n",
      "Nombre de lignes de la leçon 73, es: 0, fr: 21\n",
      "Nombre de lignes de la leçon 74, es: 0, fr: 21\n",
      "Nombre de lignes de la leçon 75, es: 0, fr: 19\n",
      "Nombre de lignes de la leçon 76, es: 0, fr: 21\n",
      "Nombre de lignes de la leçon 77, es: 0, fr: 17\n",
      "Nombre de lignes de la leçon 78, es: 0, fr: 22\n",
      "Nombre de lignes de la leçon 79, es: 0, fr: 22\n",
      "Nombre de lignes de la leçon 80, es: 0, fr: 21\n",
      "Nombre de lignes de la leçon 81, es: 0, fr: 18\n",
      "Nombre de lignes de la leçon 82, es: 0, fr: 22\n",
      "Nombre de lignes de la leçon 83, es: 0, fr: 22\n",
      "Nombre de lignes de la leçon 84, es: 0, fr: 17\n",
      "Nombre de lignes de la leçon 85, es: 0, fr: 21\n",
      "Nombre de lignes de la leçon 86, es: 0, fr: 22\n",
      "Nombre de lignes de la leçon 87, es: 0, fr: 24\n",
      "Nombre de lignes de la leçon 88, es: 0, fr: 22\n",
      "Nombre de lignes de la leçon 89, es: 0, fr: 24\n",
      "Nombre de lignes de la leçon 90, es: 0, fr: 22\n",
      "Nombre de lignes de la leçon 91, es: 0, fr: 21\n",
      "Nombre de lignes de la leçon 92, es: 0, fr: 22\n",
      "Nombre de lignes de la leçon 93, es: 0, fr: 21\n",
      "Nombre de lignes de la leçon 94, es: 0, fr: 21\n",
      "Nombre de lignes de la leçon 95, es: 0, fr: 22\n",
      "Nombre de lignes de la leçon 96, es: 0, fr: 22\n",
      "Nombre de lignes de la leçon 97, es: 0, fr: 21\n",
      "Nombre de lignes de la leçon 98, es: 0, fr: 15\n",
      "Nombre de lignes de la leçon 99, es: 0, fr: 21\n",
      "Nombre de lignes de la leçon 100, es: 0, fr: 24\n"
     ]
    }
   ],
   "source": [
    "def compare_french_and_spanisch_lessons():\n",
    "    with Session(engine) as session:\n",
    "        for lesson_nb in range(1, 101):\n",
    "            stmt = select(Paragraph).where(Paragraph.lesson_nb == lesson_nb)\n",
    "            spanish_lesson_lines_number = 0\n",
    "            for entry in session.scalars(stmt):\n",
    "                spanish_lesson_lines_number += 1\n",
    "            french_lesson_file_name = f\"lessons/new/L{str(lesson_nb).zfill(3)}.txt\"\n",
    "            french_lesson = open(french_lesson_file_name).readlines()\n",
    "            french_lesson_lines_number = len (french_lesson)\n",
    "            if french_lesson_lines_number + 1 != spanish_lesson_lines_number:\n",
    "                print(f\"Nombre de lignes de la leçon {lesson_nb}, es: {spanish_lesson_lines_number}, fr: {french_lesson_lines_number}\") \n",
    "            \n",
    "                \n",
    "        \n",
    "            \n",
    "compare_french_and_spanisch_lessons()"
   ]
  },
  {
   "cell_type": "code",
   "execution_count": 81,
   "id": "0e0fdc6f-32b3-425d-a1c5-e8cb1d6a895b",
   "metadata": {},
   "outputs": [],
   "source": [
    "list_of_files = os.listdir(\"lessons/new\")"
   ]
  },
  {
   "cell_type": "code",
   "execution_count": 130,
   "id": "2d1b88c0-3fca-4dc2-9ec2-83d012bd5b33",
   "metadata": {},
   "outputs": [],
   "source": [
    "with Session(engine) as session:\n",
    "    stmt = select(Paragraph).where(Paragraph.lesson_nb == 1)\n",
    "    k = 0\n",
    "    for entry in session.scalars(stmt):\n",
    "        k += 1\n",
    "        print(k, entry)"
   ]
  },
  {
   "cell_type": "code",
   "execution_count": 95,
   "id": "505ef82a-d8be-4589-8954-fc077d39b757",
   "metadata": {},
   "outputs": [
    {
     "data": {
      "text/plain": [
       "1"
      ]
     },
     "execution_count": 95,
     "metadata": {},
     "output_type": "execute_result"
    }
   ],
   "source": [
    "22 % 7"
   ]
  },
  {
   "cell_type": "code",
   "execution_count": 103,
   "id": "14bf5410-78d3-4a5d-a65c-977da8deb273",
   "metadata": {},
   "outputs": [],
   "source": [
    "import maintenance"
   ]
  },
  {
   "cell_type": "raw",
   "id": "ca6de1dc-dd9c-4efc-9552-b6fc3f21b9e3",
   "metadata": {},
   "source": [
    "dir(maintenance)"
   ]
  },
  {
   "cell_type": "code",
   "execution_count": 107,
   "id": "36170463-2f1a-41f6-b77d-94867b2c3870",
   "metadata": {},
   "outputs": [
    {
     "data": {
      "text/plain": [
       "'Package for maintenance'"
      ]
     },
     "execution_count": 107,
     "metadata": {},
     "output_type": "execute_result"
    }
   ],
   "source": [
    "maintenance.__doc__"
   ]
  },
  {
   "cell_type": "code",
   "execution_count": 106,
   "id": "44066bf6-f565-4503-bcd4-b11130f8f4c1",
   "metadata": {},
   "outputs": [
    {
     "data": {
      "text/plain": [
       "\"Une fonction globale accessible depuis l'extérieur du package\""
      ]
     },
     "execution_count": 106,
     "metadata": {},
     "output_type": "execute_result"
    }
   ],
   "source": [
    "maintenance.fonction_globale.__doc__"
   ]
  },
  {
   "cell_type": "code",
   "execution_count": 108,
   "id": "25e9c34e-0745-49d8-a6da-b9134ec4c19e",
   "metadata": {},
   "outputs": [
    {
     "name": "stdout",
     "output_type": "stream",
     "text": [
      "Hello from mon_package\n"
     ]
    }
   ],
   "source": [
    "maintenance.fonction_globale()"
   ]
  },
  {
   "cell_type": "code",
   "execution_count": 109,
   "id": "0415cd52-ca53-411e-8e7e-802e892be1fe",
   "metadata": {},
   "outputs": [],
   "source": [
    "from maintenance import database as db_mnt"
   ]
  },
  {
   "cell_type": "code",
   "execution_count": 111,
   "id": "66fdb6ff-8e31-438f-a819-16d31014c710",
   "metadata": {},
   "outputs": [
    {
     "data": {
      "text/plain": [
       "maintenance.database.Paragraph"
      ]
     },
     "execution_count": 111,
     "metadata": {},
     "output_type": "execute_result"
    }
   ],
   "source": [
    "db_mnt.Paragraph"
   ]
  },
  {
   "cell_type": "code",
   "execution_count": 112,
   "id": "86d2fcec-c21f-4878-9385-93ac9a01886b",
   "metadata": {},
   "outputs": [
    {
     "data": {
      "text/plain": [
       "database.Paragraph"
      ]
     },
     "execution_count": 112,
     "metadata": {},
     "output_type": "execute_result"
    }
   ],
   "source": [
    "Paragraph"
   ]
  },
  {
   "cell_type": "code",
   "execution_count": 116,
   "id": "d5c35f29-2de1-4fef-b83c-566b4f1e878a",
   "metadata": {},
   "outputs": [],
   "source": [
    "with Session(engine) as session:\n",
    "    with Session(db_mnt.engine) as db_mnt_session:\n",
    "        stmt = select(Paragraph)\n",
    "        for entry in session.scalars(stmt):\n",
    "            para = db_mnt.Paragraph(\n",
    "                section = entry.section,\n",
    "                lesson_nb = entry.lesson_nb,\n",
    "                line_nb = entry.line_nb,\n",
    "                paragraph = entry.paragraph,\n",
    "                data = entry.data\n",
    "            )\n",
    "            db_mnt_session.add(para)\n",
    "        db_mnt_session.commit()\n"
   ]
  },
  {
   "cell_type": "code",
   "execution_count": 129,
   "id": "bcc6123c-11e4-4297-9cd5-e641a6ee2574",
   "metadata": {},
   "outputs": [],
   "source": [
    "db_mnt_stmt = select(db_mnt.Paragraph)\n",
    "with Session(db_mnt.engine) as db_mnt_session:\n",
    "    for entry in session.scalars(db_mnt_stmt):\n",
    "        print(entry.paragraph)\n",
    "    "
   ]
  },
  {
   "cell_type": "code",
   "execution_count": 127,
   "id": "0aa2ded8-bd4d-476e-9d07-cc0e078a25d3",
   "metadata": {},
   "outputs": [],
   "source": [
    "def get_french_paragraphs(lesson_nb):\n",
    "    fn = f\"lessons/new/L{str(lesson_nb).zfill(3)}.txt\"\n",
    "    lines = open(fn).readlines()\n",
    "    return lines\n",
    "\n",
    "def get_spanish_paragraphs(lesson_nb):\n",
    "    para_dict = {}\n",
    "    db_mnt_stmt = select(db_mnt.Paragraph)\n",
    "    with Session(db_mnt.engine) as db_mnt_session:\n",
    "        for entry in session.scalars(db_mnt_stmt):\n",
    "            para_dict[entry.line_nb] = entry.paragraph\n",
    "    lines_number = len(para_dict.keys())\n",
    "    para_list = []\n",
    "    for k in range(lines_number):\n",
    "        para_list.append(para_dict[k])\n",
    "    return para_dict\n",
    " "
   ]
  },
  {
   "cell_type": "code",
   "execution_count": 125,
   "id": "0c1c84c3-2a31-4d3f-9037-ea38e3b09e85",
   "metadata": {},
   "outputs": [
    {
     "data": {
      "text/plain": [
       "['Deuxième leçon (leçon seconde)\\n',\n",
       " 'Où vis[-tu] ?\\n',\n",
       " \"1-D'(de) où es[-tu], Montse ?\\n\",\n",
       " \"2- Ma famille est [originaire] d'(de) Andalousie.\\n\",\n",
       " '3 Mais moi [je] suis née (naquis) à (en) Barcelone.\\n',\n",
       " '4- Et [tu] vis à (en) Barcelone ?\\n',\n",
       " '5- [Je] vis dans la banlieue (les banlieues) de Barcelone.\\n',\n",
       " \"D'où est Montse?\\n\",\n",
       " \"D'où es-tu? \\n\",\n",
       " 'Je vis à Barcelone.\\n',\n",
       " 'Tu vis en banlieue ?\\n',\n",
       " 'Je suis né/née en Andalousie.']"
      ]
     },
     "execution_count": 125,
     "metadata": {},
     "output_type": "execute_result"
    }
   ],
   "source": [
    "lesson_nb=2\n",
    "line_nb=10\n",
    "get_french_paragraphs(lesson_nb)"
   ]
  },
  {
   "cell_type": "code",
   "execution_count": 128,
   "id": "9f701022-3abe-42ac-8c7e-75dfbe7d959c",
   "metadata": {},
   "outputs": [
    {
     "data": {
      "text/plain": [
       "{}"
      ]
     },
     "execution_count": 128,
     "metadata": {},
     "output_type": "execute_result"
    }
   ],
   "source": [
    "get_spanish_paragraphs(lesson_nb)"
   ]
  },
  {
   "cell_type": "code",
   "execution_count": null,
   "id": "c2649526-eb07-40e1-bab3-1c2d71fb5b52",
   "metadata": {},
   "outputs": [],
   "source": [
    "def get_french_paragraph(lesson_nb, line_nb):\n",
    "    fn = f\"lessons/new/L{str(lesson_nb).zfill(3)}.txt\"\n",
    "    lines = open(fn).readlines()\n",
    "    return lines[line_nb]\n"
   ]
  },
  {
   "cell_type": "code",
   "execution_count": 144,
   "id": "e1d6176a-2abc-4a59-b1d8-e96a79829139",
   "metadata": {},
   "outputs": [
    {
     "name": "stdout",
     "output_type": "stream",
     "text": [
      "Attribute Error with file : .DS_Store\n",
      "Attribute Error with file : .DS_Store\n"
     ]
    },
    {
     "ename": "IntegrityError",
     "evalue": "(sqlite3.IntegrityError) NOT NULL constraint failed: paragraphs.translation\n[SQL: INSERT INTO paragraphs (section, lesson_nb, line_nb, paragraph, data) VALUES (?, ?, ?, ?, ?) RETURNING id]\n[parameters: (0, 1, 0, 'N1-Lección primera', None)]\n(Background on this error at: https://sqlalche.me/e/20/gkpj)",
     "output_type": "error",
     "traceback": [
      "\u001b[0;31m---------------------------------------------------------------------------\u001b[0m",
      "\u001b[0;31mIntegrityError\u001b[0m                            Traceback (most recent call last)",
      "File \u001b[0;32m~/.pyenv/versions/symbolic/lib/python3.11/site-packages/sqlalchemy/engine/base.py:2118\u001b[0m, in \u001b[0;36mConnection._exec_insertmany_context\u001b[0;34m(self, dialect, context)\u001b[0m\n\u001b[1;32m   2117\u001b[0m     \u001b[38;5;28;01melse\u001b[39;00m:\n\u001b[0;32m-> 2118\u001b[0m         \u001b[43mdialect\u001b[49m\u001b[38;5;241;43m.\u001b[39;49m\u001b[43mdo_execute\u001b[49m\u001b[43m(\u001b[49m\n\u001b[1;32m   2119\u001b[0m \u001b[43m            \u001b[49m\u001b[43mcursor\u001b[49m\u001b[43m,\u001b[49m\n\u001b[1;32m   2120\u001b[0m \u001b[43m            \u001b[49m\u001b[43msub_stmt\u001b[49m\u001b[43m,\u001b[49m\n\u001b[1;32m   2121\u001b[0m \u001b[43m            \u001b[49m\u001b[43msub_params\u001b[49m\u001b[43m,\u001b[49m\n\u001b[1;32m   2122\u001b[0m \u001b[43m            \u001b[49m\u001b[43mcontext\u001b[49m\u001b[43m,\u001b[49m\n\u001b[1;32m   2123\u001b[0m \u001b[43m        \u001b[49m\u001b[43m)\u001b[49m\n\u001b[1;32m   2125\u001b[0m \u001b[38;5;28;01mexcept\u001b[39;00m \u001b[38;5;167;01mBaseException\u001b[39;00m \u001b[38;5;28;01mas\u001b[39;00m e:\n",
      "File \u001b[0;32m~/.pyenv/versions/symbolic/lib/python3.11/site-packages/sqlalchemy/engine/default.py:941\u001b[0m, in \u001b[0;36mDefaultDialect.do_execute\u001b[0;34m(self, cursor, statement, parameters, context)\u001b[0m\n\u001b[1;32m    940\u001b[0m \u001b[38;5;28;01mdef\u001b[39;00m \u001b[38;5;21mdo_execute\u001b[39m(\u001b[38;5;28mself\u001b[39m, cursor, statement, parameters, context\u001b[38;5;241m=\u001b[39m\u001b[38;5;28;01mNone\u001b[39;00m):\n\u001b[0;32m--> 941\u001b[0m     cursor\u001b[38;5;241m.\u001b[39mexecute(statement, parameters)\n",
      "\u001b[0;31mIntegrityError\u001b[0m: NOT NULL constraint failed: paragraphs.translation",
      "\nThe above exception was the direct cause of the following exception:\n",
      "\u001b[0;31mIntegrityError\u001b[0m                            Traceback (most recent call last)",
      "Cell \u001b[0;32mIn[144], line 22\u001b[0m\n\u001b[1;32m     15\u001b[0m         entry \u001b[38;5;241m=\u001b[39m Paragraph(\n\u001b[1;32m     16\u001b[0m             section \u001b[38;5;241m=\u001b[39m section,\n\u001b[1;32m     17\u001b[0m             lesson_nb \u001b[38;5;241m=\u001b[39m lesson_nb,\n\u001b[1;32m     18\u001b[0m             line_nb \u001b[38;5;241m=\u001b[39m line_nb,\n\u001b[1;32m     19\u001b[0m             paragraph \u001b[38;5;241m=\u001b[39m paragraph\n\u001b[1;32m     20\u001b[0m         )\n\u001b[1;32m     21\u001b[0m         session\u001b[38;5;241m.\u001b[39madd(entry)\n\u001b[0;32m---> 22\u001b[0m \u001b[43msession\u001b[49m\u001b[38;5;241;43m.\u001b[39;49m\u001b[43mcommit\u001b[49m\u001b[43m(\u001b[49m\u001b[43m)\u001b[49m\n",
      "File \u001b[0;32m~/.pyenv/versions/symbolic/lib/python3.11/site-packages/sqlalchemy/orm/session.py:2028\u001b[0m, in \u001b[0;36mSession.commit\u001b[0;34m(self)\u001b[0m\n\u001b[1;32m   2025\u001b[0m \u001b[38;5;28;01mif\u001b[39;00m trans \u001b[38;5;129;01mis\u001b[39;00m \u001b[38;5;28;01mNone\u001b[39;00m:\n\u001b[1;32m   2026\u001b[0m     trans \u001b[38;5;241m=\u001b[39m \u001b[38;5;28mself\u001b[39m\u001b[38;5;241m.\u001b[39m_autobegin_t()\n\u001b[0;32m-> 2028\u001b[0m \u001b[43mtrans\u001b[49m\u001b[38;5;241;43m.\u001b[39;49m\u001b[43mcommit\u001b[49m\u001b[43m(\u001b[49m\u001b[43m_to_root\u001b[49m\u001b[38;5;241;43m=\u001b[39;49m\u001b[38;5;28;43;01mTrue\u001b[39;49;00m\u001b[43m)\u001b[49m\n",
      "File \u001b[0;32m<string>:2\u001b[0m, in \u001b[0;36mcommit\u001b[0;34m(self, _to_root)\u001b[0m\n",
      "File \u001b[0;32m~/.pyenv/versions/symbolic/lib/python3.11/site-packages/sqlalchemy/orm/state_changes.py:139\u001b[0m, in \u001b[0;36m_StateChange.declare_states.<locals>._go\u001b[0;34m(fn, self, *arg, **kw)\u001b[0m\n\u001b[1;32m    137\u001b[0m \u001b[38;5;28mself\u001b[39m\u001b[38;5;241m.\u001b[39m_next_state \u001b[38;5;241m=\u001b[39m _StateChangeStates\u001b[38;5;241m.\u001b[39mCHANGE_IN_PROGRESS\n\u001b[1;32m    138\u001b[0m \u001b[38;5;28;01mtry\u001b[39;00m:\n\u001b[0;32m--> 139\u001b[0m     ret_value \u001b[38;5;241m=\u001b[39m \u001b[43mfn\u001b[49m\u001b[43m(\u001b[49m\u001b[38;5;28;43mself\u001b[39;49m\u001b[43m,\u001b[49m\u001b[43m \u001b[49m\u001b[38;5;241;43m*\u001b[39;49m\u001b[43marg\u001b[49m\u001b[43m,\u001b[49m\u001b[43m \u001b[49m\u001b[38;5;241;43m*\u001b[39;49m\u001b[38;5;241;43m*\u001b[39;49m\u001b[43mkw\u001b[49m\u001b[43m)\u001b[49m\n\u001b[1;32m    140\u001b[0m \u001b[38;5;28;01mexcept\u001b[39;00m:\n\u001b[1;32m    141\u001b[0m     \u001b[38;5;28;01mraise\u001b[39;00m\n",
      "File \u001b[0;32m~/.pyenv/versions/symbolic/lib/python3.11/site-packages/sqlalchemy/orm/session.py:1313\u001b[0m, in \u001b[0;36mSessionTransaction.commit\u001b[0;34m(self, _to_root)\u001b[0m\n\u001b[1;32m   1311\u001b[0m \u001b[38;5;28;01mif\u001b[39;00m \u001b[38;5;28mself\u001b[39m\u001b[38;5;241m.\u001b[39m_state \u001b[38;5;129;01mis\u001b[39;00m \u001b[38;5;129;01mnot\u001b[39;00m SessionTransactionState\u001b[38;5;241m.\u001b[39mPREPARED:\n\u001b[1;32m   1312\u001b[0m     \u001b[38;5;28;01mwith\u001b[39;00m \u001b[38;5;28mself\u001b[39m\u001b[38;5;241m.\u001b[39m_expect_state(SessionTransactionState\u001b[38;5;241m.\u001b[39mPREPARED):\n\u001b[0;32m-> 1313\u001b[0m         \u001b[38;5;28;43mself\u001b[39;49m\u001b[38;5;241;43m.\u001b[39;49m\u001b[43m_prepare_impl\u001b[49m\u001b[43m(\u001b[49m\u001b[43m)\u001b[49m\n\u001b[1;32m   1315\u001b[0m \u001b[38;5;28;01mif\u001b[39;00m \u001b[38;5;28mself\u001b[39m\u001b[38;5;241m.\u001b[39m_parent \u001b[38;5;129;01mis\u001b[39;00m \u001b[38;5;28;01mNone\u001b[39;00m \u001b[38;5;129;01mor\u001b[39;00m \u001b[38;5;28mself\u001b[39m\u001b[38;5;241m.\u001b[39mnested:\n\u001b[1;32m   1316\u001b[0m     \u001b[38;5;28;01mfor\u001b[39;00m conn, trans, should_commit, autoclose \u001b[38;5;129;01min\u001b[39;00m \u001b[38;5;28mset\u001b[39m(\n\u001b[1;32m   1317\u001b[0m         \u001b[38;5;28mself\u001b[39m\u001b[38;5;241m.\u001b[39m_connections\u001b[38;5;241m.\u001b[39mvalues()\n\u001b[1;32m   1318\u001b[0m     ):\n",
      "File \u001b[0;32m<string>:2\u001b[0m, in \u001b[0;36m_prepare_impl\u001b[0;34m(self)\u001b[0m\n",
      "File \u001b[0;32m~/.pyenv/versions/symbolic/lib/python3.11/site-packages/sqlalchemy/orm/state_changes.py:139\u001b[0m, in \u001b[0;36m_StateChange.declare_states.<locals>._go\u001b[0;34m(fn, self, *arg, **kw)\u001b[0m\n\u001b[1;32m    137\u001b[0m \u001b[38;5;28mself\u001b[39m\u001b[38;5;241m.\u001b[39m_next_state \u001b[38;5;241m=\u001b[39m _StateChangeStates\u001b[38;5;241m.\u001b[39mCHANGE_IN_PROGRESS\n\u001b[1;32m    138\u001b[0m \u001b[38;5;28;01mtry\u001b[39;00m:\n\u001b[0;32m--> 139\u001b[0m     ret_value \u001b[38;5;241m=\u001b[39m \u001b[43mfn\u001b[49m\u001b[43m(\u001b[49m\u001b[38;5;28;43mself\u001b[39;49m\u001b[43m,\u001b[49m\u001b[43m \u001b[49m\u001b[38;5;241;43m*\u001b[39;49m\u001b[43marg\u001b[49m\u001b[43m,\u001b[49m\u001b[43m \u001b[49m\u001b[38;5;241;43m*\u001b[39;49m\u001b[38;5;241;43m*\u001b[39;49m\u001b[43mkw\u001b[49m\u001b[43m)\u001b[49m\n\u001b[1;32m    140\u001b[0m \u001b[38;5;28;01mexcept\u001b[39;00m:\n\u001b[1;32m    141\u001b[0m     \u001b[38;5;28;01mraise\u001b[39;00m\n",
      "File \u001b[0;32m~/.pyenv/versions/symbolic/lib/python3.11/site-packages/sqlalchemy/orm/session.py:1288\u001b[0m, in \u001b[0;36mSessionTransaction._prepare_impl\u001b[0;34m(self)\u001b[0m\n\u001b[1;32m   1286\u001b[0m     \u001b[38;5;28;01mif\u001b[39;00m \u001b[38;5;28mself\u001b[39m\u001b[38;5;241m.\u001b[39msession\u001b[38;5;241m.\u001b[39m_is_clean():\n\u001b[1;32m   1287\u001b[0m         \u001b[38;5;28;01mbreak\u001b[39;00m\n\u001b[0;32m-> 1288\u001b[0m     \u001b[38;5;28;43mself\u001b[39;49m\u001b[38;5;241;43m.\u001b[39;49m\u001b[43msession\u001b[49m\u001b[38;5;241;43m.\u001b[39;49m\u001b[43mflush\u001b[49m\u001b[43m(\u001b[49m\u001b[43m)\u001b[49m\n\u001b[1;32m   1289\u001b[0m \u001b[38;5;28;01melse\u001b[39;00m:\n\u001b[1;32m   1290\u001b[0m     \u001b[38;5;28;01mraise\u001b[39;00m exc\u001b[38;5;241m.\u001b[39mFlushError(\n\u001b[1;32m   1291\u001b[0m         \u001b[38;5;124m\"\u001b[39m\u001b[38;5;124mOver 100 subsequent flushes have occurred within \u001b[39m\u001b[38;5;124m\"\u001b[39m\n\u001b[1;32m   1292\u001b[0m         \u001b[38;5;124m\"\u001b[39m\u001b[38;5;124msession.commit() - is an after_flush() hook \u001b[39m\u001b[38;5;124m\"\u001b[39m\n\u001b[1;32m   1293\u001b[0m         \u001b[38;5;124m\"\u001b[39m\u001b[38;5;124mcreating new objects?\u001b[39m\u001b[38;5;124m\"\u001b[39m\n\u001b[1;32m   1294\u001b[0m     )\n",
      "File \u001b[0;32m~/.pyenv/versions/symbolic/lib/python3.11/site-packages/sqlalchemy/orm/session.py:4352\u001b[0m, in \u001b[0;36mSession.flush\u001b[0;34m(self, objects)\u001b[0m\n\u001b[1;32m   4350\u001b[0m \u001b[38;5;28;01mtry\u001b[39;00m:\n\u001b[1;32m   4351\u001b[0m     \u001b[38;5;28mself\u001b[39m\u001b[38;5;241m.\u001b[39m_flushing \u001b[38;5;241m=\u001b[39m \u001b[38;5;28;01mTrue\u001b[39;00m\n\u001b[0;32m-> 4352\u001b[0m     \u001b[38;5;28;43mself\u001b[39;49m\u001b[38;5;241;43m.\u001b[39;49m\u001b[43m_flush\u001b[49m\u001b[43m(\u001b[49m\u001b[43mobjects\u001b[49m\u001b[43m)\u001b[49m\n\u001b[1;32m   4353\u001b[0m \u001b[38;5;28;01mfinally\u001b[39;00m:\n\u001b[1;32m   4354\u001b[0m     \u001b[38;5;28mself\u001b[39m\u001b[38;5;241m.\u001b[39m_flushing \u001b[38;5;241m=\u001b[39m \u001b[38;5;28;01mFalse\u001b[39;00m\n",
      "File \u001b[0;32m~/.pyenv/versions/symbolic/lib/python3.11/site-packages/sqlalchemy/orm/session.py:4487\u001b[0m, in \u001b[0;36mSession._flush\u001b[0;34m(self, objects)\u001b[0m\n\u001b[1;32m   4484\u001b[0m     transaction\u001b[38;5;241m.\u001b[39mcommit()\n\u001b[1;32m   4486\u001b[0m \u001b[38;5;28;01mexcept\u001b[39;00m:\n\u001b[0;32m-> 4487\u001b[0m \u001b[43m    \u001b[49m\u001b[38;5;28;43;01mwith\u001b[39;49;00m\u001b[43m \u001b[49m\u001b[43mutil\u001b[49m\u001b[38;5;241;43m.\u001b[39;49m\u001b[43msafe_reraise\u001b[49m\u001b[43m(\u001b[49m\u001b[43m)\u001b[49m\u001b[43m:\u001b[49m\n\u001b[1;32m   4488\u001b[0m \u001b[43m        \u001b[49m\u001b[43mtransaction\u001b[49m\u001b[38;5;241;43m.\u001b[39;49m\u001b[43mrollback\u001b[49m\u001b[43m(\u001b[49m\u001b[43m_capture_exception\u001b[49m\u001b[38;5;241;43m=\u001b[39;49m\u001b[38;5;28;43;01mTrue\u001b[39;49;00m\u001b[43m)\u001b[49m\n",
      "File \u001b[0;32m~/.pyenv/versions/symbolic/lib/python3.11/site-packages/sqlalchemy/util/langhelpers.py:146\u001b[0m, in \u001b[0;36msafe_reraise.__exit__\u001b[0;34m(self, type_, value, traceback)\u001b[0m\n\u001b[1;32m    144\u001b[0m     \u001b[38;5;28;01massert\u001b[39;00m exc_value \u001b[38;5;129;01mis\u001b[39;00m \u001b[38;5;129;01mnot\u001b[39;00m \u001b[38;5;28;01mNone\u001b[39;00m\n\u001b[1;32m    145\u001b[0m     \u001b[38;5;28mself\u001b[39m\u001b[38;5;241m.\u001b[39m_exc_info \u001b[38;5;241m=\u001b[39m \u001b[38;5;28;01mNone\u001b[39;00m  \u001b[38;5;66;03m# remove potential circular references\u001b[39;00m\n\u001b[0;32m--> 146\u001b[0m     \u001b[38;5;28;01mraise\u001b[39;00m exc_value\u001b[38;5;241m.\u001b[39mwith_traceback(exc_tb)\n\u001b[1;32m    147\u001b[0m \u001b[38;5;28;01melse\u001b[39;00m:\n\u001b[1;32m    148\u001b[0m     \u001b[38;5;28mself\u001b[39m\u001b[38;5;241m.\u001b[39m_exc_info \u001b[38;5;241m=\u001b[39m \u001b[38;5;28;01mNone\u001b[39;00m  \u001b[38;5;66;03m# remove potential circular references\u001b[39;00m\n",
      "File \u001b[0;32m~/.pyenv/versions/symbolic/lib/python3.11/site-packages/sqlalchemy/orm/session.py:4448\u001b[0m, in \u001b[0;36mSession._flush\u001b[0;34m(self, objects)\u001b[0m\n\u001b[1;32m   4446\u001b[0m \u001b[38;5;28mself\u001b[39m\u001b[38;5;241m.\u001b[39m_warn_on_events \u001b[38;5;241m=\u001b[39m \u001b[38;5;28;01mTrue\u001b[39;00m\n\u001b[1;32m   4447\u001b[0m \u001b[38;5;28;01mtry\u001b[39;00m:\n\u001b[0;32m-> 4448\u001b[0m     \u001b[43mflush_context\u001b[49m\u001b[38;5;241;43m.\u001b[39;49m\u001b[43mexecute\u001b[49m\u001b[43m(\u001b[49m\u001b[43m)\u001b[49m\n\u001b[1;32m   4449\u001b[0m \u001b[38;5;28;01mfinally\u001b[39;00m:\n\u001b[1;32m   4450\u001b[0m     \u001b[38;5;28mself\u001b[39m\u001b[38;5;241m.\u001b[39m_warn_on_events \u001b[38;5;241m=\u001b[39m \u001b[38;5;28;01mFalse\u001b[39;00m\n",
      "File \u001b[0;32m~/.pyenv/versions/symbolic/lib/python3.11/site-packages/sqlalchemy/orm/unitofwork.py:466\u001b[0m, in \u001b[0;36mUOWTransaction.execute\u001b[0;34m(self)\u001b[0m\n\u001b[1;32m    464\u001b[0m \u001b[38;5;28;01melse\u001b[39;00m:\n\u001b[1;32m    465\u001b[0m     \u001b[38;5;28;01mfor\u001b[39;00m rec \u001b[38;5;129;01min\u001b[39;00m topological\u001b[38;5;241m.\u001b[39msort(\u001b[38;5;28mself\u001b[39m\u001b[38;5;241m.\u001b[39mdependencies, postsort_actions):\n\u001b[0;32m--> 466\u001b[0m         \u001b[43mrec\u001b[49m\u001b[38;5;241;43m.\u001b[39;49m\u001b[43mexecute\u001b[49m\u001b[43m(\u001b[49m\u001b[38;5;28;43mself\u001b[39;49m\u001b[43m)\u001b[49m\n",
      "File \u001b[0;32m~/.pyenv/versions/symbolic/lib/python3.11/site-packages/sqlalchemy/orm/unitofwork.py:642\u001b[0m, in \u001b[0;36mSaveUpdateAll.execute\u001b[0;34m(self, uow)\u001b[0m\n\u001b[1;32m    640\u001b[0m \u001b[38;5;129m@util\u001b[39m\u001b[38;5;241m.\u001b[39mpreload_module(\u001b[38;5;124m\"\u001b[39m\u001b[38;5;124msqlalchemy.orm.persistence\u001b[39m\u001b[38;5;124m\"\u001b[39m)\n\u001b[1;32m    641\u001b[0m \u001b[38;5;28;01mdef\u001b[39;00m \u001b[38;5;21mexecute\u001b[39m(\u001b[38;5;28mself\u001b[39m, uow):\n\u001b[0;32m--> 642\u001b[0m     \u001b[43mutil\u001b[49m\u001b[38;5;241;43m.\u001b[39;49m\u001b[43mpreloaded\u001b[49m\u001b[38;5;241;43m.\u001b[39;49m\u001b[43morm_persistence\u001b[49m\u001b[38;5;241;43m.\u001b[39;49m\u001b[43msave_obj\u001b[49m\u001b[43m(\u001b[49m\n\u001b[1;32m    643\u001b[0m \u001b[43m        \u001b[49m\u001b[38;5;28;43mself\u001b[39;49m\u001b[38;5;241;43m.\u001b[39;49m\u001b[43mmapper\u001b[49m\u001b[43m,\u001b[49m\n\u001b[1;32m    644\u001b[0m \u001b[43m        \u001b[49m\u001b[43muow\u001b[49m\u001b[38;5;241;43m.\u001b[39;49m\u001b[43mstates_for_mapper_hierarchy\u001b[49m\u001b[43m(\u001b[49m\u001b[38;5;28;43mself\u001b[39;49m\u001b[38;5;241;43m.\u001b[39;49m\u001b[43mmapper\u001b[49m\u001b[43m,\u001b[49m\u001b[43m \u001b[49m\u001b[38;5;28;43;01mFalse\u001b[39;49;00m\u001b[43m,\u001b[49m\u001b[43m \u001b[49m\u001b[38;5;28;43;01mFalse\u001b[39;49;00m\u001b[43m)\u001b[49m\u001b[43m,\u001b[49m\n\u001b[1;32m    645\u001b[0m \u001b[43m        \u001b[49m\u001b[43muow\u001b[49m\u001b[43m,\u001b[49m\n\u001b[1;32m    646\u001b[0m \u001b[43m    \u001b[49m\u001b[43m)\u001b[49m\n",
      "File \u001b[0;32m~/.pyenv/versions/symbolic/lib/python3.11/site-packages/sqlalchemy/orm/persistence.py:93\u001b[0m, in \u001b[0;36msave_obj\u001b[0;34m(base_mapper, states, uowtransaction, single)\u001b[0m\n\u001b[1;32m     81\u001b[0m     update \u001b[38;5;241m=\u001b[39m _collect_update_commands(\n\u001b[1;32m     82\u001b[0m         uowtransaction, table, states_to_update\n\u001b[1;32m     83\u001b[0m     )\n\u001b[1;32m     85\u001b[0m     _emit_update_statements(\n\u001b[1;32m     86\u001b[0m         base_mapper,\n\u001b[1;32m     87\u001b[0m         uowtransaction,\n\u001b[0;32m   (...)\u001b[0m\n\u001b[1;32m     90\u001b[0m         update,\n\u001b[1;32m     91\u001b[0m     )\n\u001b[0;32m---> 93\u001b[0m     \u001b[43m_emit_insert_statements\u001b[49m\u001b[43m(\u001b[49m\n\u001b[1;32m     94\u001b[0m \u001b[43m        \u001b[49m\u001b[43mbase_mapper\u001b[49m\u001b[43m,\u001b[49m\n\u001b[1;32m     95\u001b[0m \u001b[43m        \u001b[49m\u001b[43muowtransaction\u001b[49m\u001b[43m,\u001b[49m\n\u001b[1;32m     96\u001b[0m \u001b[43m        \u001b[49m\u001b[43mmapper\u001b[49m\u001b[43m,\u001b[49m\n\u001b[1;32m     97\u001b[0m \u001b[43m        \u001b[49m\u001b[43mtable\u001b[49m\u001b[43m,\u001b[49m\n\u001b[1;32m     98\u001b[0m \u001b[43m        \u001b[49m\u001b[43minsert\u001b[49m\u001b[43m,\u001b[49m\n\u001b[1;32m     99\u001b[0m \u001b[43m    \u001b[49m\u001b[43m)\u001b[49m\n\u001b[1;32m    101\u001b[0m _finalize_insert_update_commands(\n\u001b[1;32m    102\u001b[0m     base_mapper,\n\u001b[1;32m    103\u001b[0m     uowtransaction,\n\u001b[0;32m   (...)\u001b[0m\n\u001b[1;32m    119\u001b[0m     ),\n\u001b[1;32m    120\u001b[0m )\n",
      "File \u001b[0;32m~/.pyenv/versions/symbolic/lib/python3.11/site-packages/sqlalchemy/orm/persistence.py:1143\u001b[0m, in \u001b[0;36m_emit_insert_statements\u001b[0;34m(base_mapper, uowtransaction, mapper, table, insert, bookkeeping, use_orm_insert_stmt, execution_options)\u001b[0m\n\u001b[1;32m   1140\u001b[0m \u001b[38;5;28;01mif\u001b[39;00m do_executemany:\n\u001b[1;32m   1141\u001b[0m     multiparams \u001b[38;5;241m=\u001b[39m [rec[\u001b[38;5;241m2\u001b[39m] \u001b[38;5;28;01mfor\u001b[39;00m rec \u001b[38;5;129;01min\u001b[39;00m records]\n\u001b[0;32m-> 1143\u001b[0m     result \u001b[38;5;241m=\u001b[39m \u001b[43mconnection\u001b[49m\u001b[38;5;241;43m.\u001b[39;49m\u001b[43mexecute\u001b[49m\u001b[43m(\u001b[49m\n\u001b[1;32m   1144\u001b[0m \u001b[43m        \u001b[49m\u001b[43mstatement\u001b[49m\u001b[43m,\u001b[49m\u001b[43m \u001b[49m\u001b[43mmultiparams\u001b[49m\u001b[43m,\u001b[49m\u001b[43m \u001b[49m\u001b[43mexecution_options\u001b[49m\u001b[38;5;241;43m=\u001b[39;49m\u001b[43mexecution_options\u001b[49m\n\u001b[1;32m   1145\u001b[0m \u001b[43m    \u001b[49m\u001b[43m)\u001b[49m\n\u001b[1;32m   1147\u001b[0m     \u001b[38;5;28;01mif\u001b[39;00m use_orm_insert_stmt \u001b[38;5;129;01mis\u001b[39;00m \u001b[38;5;129;01mnot\u001b[39;00m \u001b[38;5;28;01mNone\u001b[39;00m:\n\u001b[1;32m   1148\u001b[0m         \u001b[38;5;28;01mif\u001b[39;00m return_result \u001b[38;5;129;01mis\u001b[39;00m \u001b[38;5;28;01mNone\u001b[39;00m:\n",
      "File \u001b[0;32m~/.pyenv/versions/symbolic/lib/python3.11/site-packages/sqlalchemy/engine/base.py:1418\u001b[0m, in \u001b[0;36mConnection.execute\u001b[0;34m(self, statement, parameters, execution_options)\u001b[0m\n\u001b[1;32m   1416\u001b[0m     \u001b[38;5;28;01mraise\u001b[39;00m exc\u001b[38;5;241m.\u001b[39mObjectNotExecutableError(statement) \u001b[38;5;28;01mfrom\u001b[39;00m \u001b[38;5;21;01merr\u001b[39;00m\n\u001b[1;32m   1417\u001b[0m \u001b[38;5;28;01melse\u001b[39;00m:\n\u001b[0;32m-> 1418\u001b[0m     \u001b[38;5;28;01mreturn\u001b[39;00m \u001b[43mmeth\u001b[49m\u001b[43m(\u001b[49m\n\u001b[1;32m   1419\u001b[0m \u001b[43m        \u001b[49m\u001b[38;5;28;43mself\u001b[39;49m\u001b[43m,\u001b[49m\n\u001b[1;32m   1420\u001b[0m \u001b[43m        \u001b[49m\u001b[43mdistilled_parameters\u001b[49m\u001b[43m,\u001b[49m\n\u001b[1;32m   1421\u001b[0m \u001b[43m        \u001b[49m\u001b[43mexecution_options\u001b[49m\u001b[43m \u001b[49m\u001b[38;5;129;43;01mor\u001b[39;49;00m\u001b[43m \u001b[49m\u001b[43mNO_OPTIONS\u001b[49m\u001b[43m,\u001b[49m\n\u001b[1;32m   1422\u001b[0m \u001b[43m    \u001b[49m\u001b[43m)\u001b[49m\n",
      "File \u001b[0;32m~/.pyenv/versions/symbolic/lib/python3.11/site-packages/sqlalchemy/sql/elements.py:515\u001b[0m, in \u001b[0;36mClauseElement._execute_on_connection\u001b[0;34m(self, connection, distilled_params, execution_options)\u001b[0m\n\u001b[1;32m    513\u001b[0m     \u001b[38;5;28;01mif\u001b[39;00m TYPE_CHECKING:\n\u001b[1;32m    514\u001b[0m         \u001b[38;5;28;01massert\u001b[39;00m \u001b[38;5;28misinstance\u001b[39m(\u001b[38;5;28mself\u001b[39m, Executable)\n\u001b[0;32m--> 515\u001b[0m     \u001b[38;5;28;01mreturn\u001b[39;00m \u001b[43mconnection\u001b[49m\u001b[38;5;241;43m.\u001b[39;49m\u001b[43m_execute_clauseelement\u001b[49m\u001b[43m(\u001b[49m\n\u001b[1;32m    516\u001b[0m \u001b[43m        \u001b[49m\u001b[38;5;28;43mself\u001b[39;49m\u001b[43m,\u001b[49m\u001b[43m \u001b[49m\u001b[43mdistilled_params\u001b[49m\u001b[43m,\u001b[49m\u001b[43m \u001b[49m\u001b[43mexecution_options\u001b[49m\n\u001b[1;32m    517\u001b[0m \u001b[43m    \u001b[49m\u001b[43m)\u001b[49m\n\u001b[1;32m    518\u001b[0m \u001b[38;5;28;01melse\u001b[39;00m:\n\u001b[1;32m    519\u001b[0m     \u001b[38;5;28;01mraise\u001b[39;00m exc\u001b[38;5;241m.\u001b[39mObjectNotExecutableError(\u001b[38;5;28mself\u001b[39m)\n",
      "File \u001b[0;32m~/.pyenv/versions/symbolic/lib/python3.11/site-packages/sqlalchemy/engine/base.py:1640\u001b[0m, in \u001b[0;36mConnection._execute_clauseelement\u001b[0;34m(self, elem, distilled_parameters, execution_options)\u001b[0m\n\u001b[1;32m   1628\u001b[0m compiled_cache: Optional[CompiledCacheType] \u001b[38;5;241m=\u001b[39m execution_options\u001b[38;5;241m.\u001b[39mget(\n\u001b[1;32m   1629\u001b[0m     \u001b[38;5;124m\"\u001b[39m\u001b[38;5;124mcompiled_cache\u001b[39m\u001b[38;5;124m\"\u001b[39m, \u001b[38;5;28mself\u001b[39m\u001b[38;5;241m.\u001b[39mengine\u001b[38;5;241m.\u001b[39m_compiled_cache\n\u001b[1;32m   1630\u001b[0m )\n\u001b[1;32m   1632\u001b[0m compiled_sql, extracted_params, cache_hit \u001b[38;5;241m=\u001b[39m elem\u001b[38;5;241m.\u001b[39m_compile_w_cache(\n\u001b[1;32m   1633\u001b[0m     dialect\u001b[38;5;241m=\u001b[39mdialect,\n\u001b[1;32m   1634\u001b[0m     compiled_cache\u001b[38;5;241m=\u001b[39mcompiled_cache,\n\u001b[0;32m   (...)\u001b[0m\n\u001b[1;32m   1638\u001b[0m     linting\u001b[38;5;241m=\u001b[39m\u001b[38;5;28mself\u001b[39m\u001b[38;5;241m.\u001b[39mdialect\u001b[38;5;241m.\u001b[39mcompiler_linting \u001b[38;5;241m|\u001b[39m compiler\u001b[38;5;241m.\u001b[39mWARN_LINTING,\n\u001b[1;32m   1639\u001b[0m )\n\u001b[0;32m-> 1640\u001b[0m ret \u001b[38;5;241m=\u001b[39m \u001b[38;5;28;43mself\u001b[39;49m\u001b[38;5;241;43m.\u001b[39;49m\u001b[43m_execute_context\u001b[49m\u001b[43m(\u001b[49m\n\u001b[1;32m   1641\u001b[0m \u001b[43m    \u001b[49m\u001b[43mdialect\u001b[49m\u001b[43m,\u001b[49m\n\u001b[1;32m   1642\u001b[0m \u001b[43m    \u001b[49m\u001b[43mdialect\u001b[49m\u001b[38;5;241;43m.\u001b[39;49m\u001b[43mexecution_ctx_cls\u001b[49m\u001b[38;5;241;43m.\u001b[39;49m\u001b[43m_init_compiled\u001b[49m\u001b[43m,\u001b[49m\n\u001b[1;32m   1643\u001b[0m \u001b[43m    \u001b[49m\u001b[43mcompiled_sql\u001b[49m\u001b[43m,\u001b[49m\n\u001b[1;32m   1644\u001b[0m \u001b[43m    \u001b[49m\u001b[43mdistilled_parameters\u001b[49m\u001b[43m,\u001b[49m\n\u001b[1;32m   1645\u001b[0m \u001b[43m    \u001b[49m\u001b[43mexecution_options\u001b[49m\u001b[43m,\u001b[49m\n\u001b[1;32m   1646\u001b[0m \u001b[43m    \u001b[49m\u001b[43mcompiled_sql\u001b[49m\u001b[43m,\u001b[49m\n\u001b[1;32m   1647\u001b[0m \u001b[43m    \u001b[49m\u001b[43mdistilled_parameters\u001b[49m\u001b[43m,\u001b[49m\n\u001b[1;32m   1648\u001b[0m \u001b[43m    \u001b[49m\u001b[43melem\u001b[49m\u001b[43m,\u001b[49m\n\u001b[1;32m   1649\u001b[0m \u001b[43m    \u001b[49m\u001b[43mextracted_params\u001b[49m\u001b[43m,\u001b[49m\n\u001b[1;32m   1650\u001b[0m \u001b[43m    \u001b[49m\u001b[43mcache_hit\u001b[49m\u001b[38;5;241;43m=\u001b[39;49m\u001b[43mcache_hit\u001b[49m\u001b[43m,\u001b[49m\n\u001b[1;32m   1651\u001b[0m \u001b[43m\u001b[49m\u001b[43m)\u001b[49m\n\u001b[1;32m   1652\u001b[0m \u001b[38;5;28;01mif\u001b[39;00m has_events:\n\u001b[1;32m   1653\u001b[0m     \u001b[38;5;28mself\u001b[39m\u001b[38;5;241m.\u001b[39mdispatch\u001b[38;5;241m.\u001b[39mafter_execute(\n\u001b[1;32m   1654\u001b[0m         \u001b[38;5;28mself\u001b[39m,\n\u001b[1;32m   1655\u001b[0m         elem,\n\u001b[0;32m   (...)\u001b[0m\n\u001b[1;32m   1659\u001b[0m         ret,\n\u001b[1;32m   1660\u001b[0m     )\n",
      "File \u001b[0;32m~/.pyenv/versions/symbolic/lib/python3.11/site-packages/sqlalchemy/engine/base.py:1844\u001b[0m, in \u001b[0;36mConnection._execute_context\u001b[0;34m(self, dialect, constructor, statement, parameters, execution_options, *args, **kw)\u001b[0m\n\u001b[1;32m   1841\u001b[0m context\u001b[38;5;241m.\u001b[39mpre_exec()\n\u001b[1;32m   1843\u001b[0m \u001b[38;5;28;01mif\u001b[39;00m context\u001b[38;5;241m.\u001b[39mexecute_style \u001b[38;5;129;01mis\u001b[39;00m ExecuteStyle\u001b[38;5;241m.\u001b[39mINSERTMANYVALUES:\n\u001b[0;32m-> 1844\u001b[0m     \u001b[38;5;28;01mreturn\u001b[39;00m \u001b[38;5;28;43mself\u001b[39;49m\u001b[38;5;241;43m.\u001b[39;49m\u001b[43m_exec_insertmany_context\u001b[49m\u001b[43m(\u001b[49m\u001b[43mdialect\u001b[49m\u001b[43m,\u001b[49m\u001b[43m \u001b[49m\u001b[43mcontext\u001b[49m\u001b[43m)\u001b[49m\n\u001b[1;32m   1845\u001b[0m \u001b[38;5;28;01melse\u001b[39;00m:\n\u001b[1;32m   1846\u001b[0m     \u001b[38;5;28;01mreturn\u001b[39;00m \u001b[38;5;28mself\u001b[39m\u001b[38;5;241m.\u001b[39m_exec_single_context(\n\u001b[1;32m   1847\u001b[0m         dialect, context, statement, parameters\n\u001b[1;32m   1848\u001b[0m     )\n",
      "File \u001b[0;32m~/.pyenv/versions/symbolic/lib/python3.11/site-packages/sqlalchemy/engine/base.py:2126\u001b[0m, in \u001b[0;36mConnection._exec_insertmany_context\u001b[0;34m(self, dialect, context)\u001b[0m\n\u001b[1;32m   2118\u001b[0m         dialect\u001b[38;5;241m.\u001b[39mdo_execute(\n\u001b[1;32m   2119\u001b[0m             cursor,\n\u001b[1;32m   2120\u001b[0m             sub_stmt,\n\u001b[1;32m   2121\u001b[0m             sub_params,\n\u001b[1;32m   2122\u001b[0m             context,\n\u001b[1;32m   2123\u001b[0m         )\n\u001b[1;32m   2125\u001b[0m \u001b[38;5;28;01mexcept\u001b[39;00m \u001b[38;5;167;01mBaseException\u001b[39;00m \u001b[38;5;28;01mas\u001b[39;00m e:\n\u001b[0;32m-> 2126\u001b[0m     \u001b[38;5;28;43mself\u001b[39;49m\u001b[38;5;241;43m.\u001b[39;49m\u001b[43m_handle_dbapi_exception\u001b[49m\u001b[43m(\u001b[49m\n\u001b[1;32m   2127\u001b[0m \u001b[43m        \u001b[49m\u001b[43me\u001b[49m\u001b[43m,\u001b[49m\n\u001b[1;32m   2128\u001b[0m \u001b[43m        \u001b[49m\u001b[43msql_util\u001b[49m\u001b[38;5;241;43m.\u001b[39;49m\u001b[43m_long_statement\u001b[49m\u001b[43m(\u001b[49m\u001b[43msub_stmt\u001b[49m\u001b[43m)\u001b[49m\u001b[43m,\u001b[49m\n\u001b[1;32m   2129\u001b[0m \u001b[43m        \u001b[49m\u001b[43msub_params\u001b[49m\u001b[43m,\u001b[49m\n\u001b[1;32m   2130\u001b[0m \u001b[43m        \u001b[49m\u001b[43mcursor\u001b[49m\u001b[43m,\u001b[49m\n\u001b[1;32m   2131\u001b[0m \u001b[43m        \u001b[49m\u001b[43mcontext\u001b[49m\u001b[43m,\u001b[49m\n\u001b[1;32m   2132\u001b[0m \u001b[43m        \u001b[49m\u001b[43mis_sub_exec\u001b[49m\u001b[38;5;241;43m=\u001b[39;49m\u001b[38;5;28;43;01mTrue\u001b[39;49;00m\u001b[43m,\u001b[49m\n\u001b[1;32m   2133\u001b[0m \u001b[43m    \u001b[49m\u001b[43m)\u001b[49m\n\u001b[1;32m   2135\u001b[0m \u001b[38;5;28;01mif\u001b[39;00m engine_events:\n\u001b[1;32m   2136\u001b[0m     \u001b[38;5;28mself\u001b[39m\u001b[38;5;241m.\u001b[39mdispatch\u001b[38;5;241m.\u001b[39mafter_cursor_execute(\n\u001b[1;32m   2137\u001b[0m         \u001b[38;5;28mself\u001b[39m,\n\u001b[1;32m   2138\u001b[0m         cursor,\n\u001b[0;32m   (...)\u001b[0m\n\u001b[1;32m   2142\u001b[0m         context\u001b[38;5;241m.\u001b[39mexecutemany,\n\u001b[1;32m   2143\u001b[0m     )\n",
      "File \u001b[0;32m~/.pyenv/versions/symbolic/lib/python3.11/site-packages/sqlalchemy/engine/base.py:2355\u001b[0m, in \u001b[0;36mConnection._handle_dbapi_exception\u001b[0;34m(self, e, statement, parameters, cursor, context, is_sub_exec)\u001b[0m\n\u001b[1;32m   2353\u001b[0m \u001b[38;5;28;01melif\u001b[39;00m should_wrap:\n\u001b[1;32m   2354\u001b[0m     \u001b[38;5;28;01massert\u001b[39;00m sqlalchemy_exception \u001b[38;5;129;01mis\u001b[39;00m \u001b[38;5;129;01mnot\u001b[39;00m \u001b[38;5;28;01mNone\u001b[39;00m\n\u001b[0;32m-> 2355\u001b[0m     \u001b[38;5;28;01mraise\u001b[39;00m sqlalchemy_exception\u001b[38;5;241m.\u001b[39mwith_traceback(exc_info[\u001b[38;5;241m2\u001b[39m]) \u001b[38;5;28;01mfrom\u001b[39;00m \u001b[38;5;21;01me\u001b[39;00m\n\u001b[1;32m   2356\u001b[0m \u001b[38;5;28;01melse\u001b[39;00m:\n\u001b[1;32m   2357\u001b[0m     \u001b[38;5;28;01massert\u001b[39;00m exc_info[\u001b[38;5;241m1\u001b[39m] \u001b[38;5;129;01mis\u001b[39;00m \u001b[38;5;129;01mnot\u001b[39;00m \u001b[38;5;28;01mNone\u001b[39;00m\n",
      "File \u001b[0;32m~/.pyenv/versions/symbolic/lib/python3.11/site-packages/sqlalchemy/engine/base.py:2118\u001b[0m, in \u001b[0;36mConnection._exec_insertmany_context\u001b[0;34m(self, dialect, context)\u001b[0m\n\u001b[1;32m   2116\u001b[0m             \u001b[38;5;28;01mbreak\u001b[39;00m\n\u001b[1;32m   2117\u001b[0m     \u001b[38;5;28;01melse\u001b[39;00m:\n\u001b[0;32m-> 2118\u001b[0m         \u001b[43mdialect\u001b[49m\u001b[38;5;241;43m.\u001b[39;49m\u001b[43mdo_execute\u001b[49m\u001b[43m(\u001b[49m\n\u001b[1;32m   2119\u001b[0m \u001b[43m            \u001b[49m\u001b[43mcursor\u001b[49m\u001b[43m,\u001b[49m\n\u001b[1;32m   2120\u001b[0m \u001b[43m            \u001b[49m\u001b[43msub_stmt\u001b[49m\u001b[43m,\u001b[49m\n\u001b[1;32m   2121\u001b[0m \u001b[43m            \u001b[49m\u001b[43msub_params\u001b[49m\u001b[43m,\u001b[49m\n\u001b[1;32m   2122\u001b[0m \u001b[43m            \u001b[49m\u001b[43mcontext\u001b[49m\u001b[43m,\u001b[49m\n\u001b[1;32m   2123\u001b[0m \u001b[43m        \u001b[49m\u001b[43m)\u001b[49m\n\u001b[1;32m   2125\u001b[0m \u001b[38;5;28;01mexcept\u001b[39;00m \u001b[38;5;167;01mBaseException\u001b[39;00m \u001b[38;5;28;01mas\u001b[39;00m e:\n\u001b[1;32m   2126\u001b[0m     \u001b[38;5;28mself\u001b[39m\u001b[38;5;241m.\u001b[39m_handle_dbapi_exception(\n\u001b[1;32m   2127\u001b[0m         e,\n\u001b[1;32m   2128\u001b[0m         sql_util\u001b[38;5;241m.\u001b[39m_long_statement(sub_stmt),\n\u001b[0;32m   (...)\u001b[0m\n\u001b[1;32m   2132\u001b[0m         is_sub_exec\u001b[38;5;241m=\u001b[39m\u001b[38;5;28;01mTrue\u001b[39;00m,\n\u001b[1;32m   2133\u001b[0m     )\n",
      "File \u001b[0;32m~/.pyenv/versions/symbolic/lib/python3.11/site-packages/sqlalchemy/engine/default.py:941\u001b[0m, in \u001b[0;36mDefaultDialect.do_execute\u001b[0;34m(self, cursor, statement, parameters, context)\u001b[0m\n\u001b[1;32m    940\u001b[0m \u001b[38;5;28;01mdef\u001b[39;00m \u001b[38;5;21mdo_execute\u001b[39m(\u001b[38;5;28mself\u001b[39m, cursor, statement, parameters, context\u001b[38;5;241m=\u001b[39m\u001b[38;5;28;01mNone\u001b[39;00m):\n\u001b[0;32m--> 941\u001b[0m     cursor\u001b[38;5;241m.\u001b[39mexecute(statement, parameters)\n",
      "\u001b[0;31mIntegrityError\u001b[0m: (sqlite3.IntegrityError) NOT NULL constraint failed: paragraphs.translation\n[SQL: INSERT INTO paragraphs (section, lesson_nb, line_nb, paragraph, data) VALUES (?, ?, ?, ?, ?) RETURNING id]\n[parameters: (0, 1, 0, 'N1-Lección primera', None)]\n(Background on this error at: https://sqlalche.me/e/20/gkpj)"
     ]
    }
   ],
   "source": [
    "with Session(engine) as session:\n",
    "    for lesson_nb in range(1, 101):\n",
    "        paragraphs = get_sentences_from_audio_files(lesson_nb)\n",
    "        for line_nb, paragraph in enumerate(paragraphs):\n",
    "            paragraph = paragraph.replace(\"...\", \"…\")\n",
    "            if paragraph[0] == 'N':\n",
    "                section = 0\n",
    "            elif paragraph[0] == 'S':\n",
    "                section = 1\n",
    "            elif paragraph[0] == 'T':\n",
    "                section = 2\n",
    "            else:\n",
    "                print(f\"lesson_nb : {lesson_nb}, line_nb : {line_nb}, {paragraph}\")\n",
    "                raise\n",
    "            entry = Paragraph(\n",
    "                section = section,\n",
    "                lesson_nb = lesson_nb,\n",
    "                line_nb = line_nb,\n",
    "                paragraph = paragraph\n",
    "            )\n",
    "            session.add(entry)\n",
    "    session.commit()"
   ]
  }
 ],
 "metadata": {
  "kernelspec": {
   "display_name": "Python 3 (ipykernel)",
   "language": "python",
   "name": "python3"
  },
  "language_info": {
   "codemirror_mode": {
    "name": "ipython",
    "version": 3
   },
   "file_extension": ".py",
   "mimetype": "text/x-python",
   "name": "python",
   "nbconvert_exporter": "python",
   "pygments_lexer": "ipython3",
   "version": "3.11.3"
  }
 },
 "nbformat": 4,
 "nbformat_minor": 5
}
