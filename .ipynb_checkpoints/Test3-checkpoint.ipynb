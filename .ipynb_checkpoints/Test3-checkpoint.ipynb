{
 "cells": [
  {
   "cell_type": "code",
   "execution_count": 47,
   "id": "ba1536bb-c9e4-4a7b-aa8d-fb856480b3a5",
   "metadata": {},
   "outputs": [],
   "source": [
    "from lesson_parser import MyHTMLParser\n",
    "from tonic_accent import global_word_dict\n",
    "parser = MyHTMLParser()\n",
    "lesson_word_dict = parser.get_lesson_word_tonic_accent_dict()"
   ]
  },
  {
   "cell_type": "code",
   "execution_count": 48,
   "id": "58f7355b-6f5f-4a41-95c8-58c53b4f62be",
   "metadata": {},
   "outputs": [],
   "source": [
    "import re\n",
    "\n",
    "def get_html_of_token(token, lesson_dict = {}):\n",
    "    token_properties = lesson_dict.get(token.lower(), '')\n",
    "    if not token_properties:\n",
    "        token_properties = global_word_dict.get(token.lower(), '')\n",
    "        if not token_properties:\n",
    "            return token\n",
    "    txt = \"\"\n",
    "    index = 0\n",
    "    for frag_struct in token_properties:\n",
    "        frag_txt = token[index:index+len(frag_struct[0])]\n",
    "        if frag_struct[1]:\n",
    "            txt += \"<b>\" + frag_txt + \"</b>\"\n",
    "        else:\n",
    "            txt += frag_txt\n",
    "        index += len(frag_struct[0])\n",
    "    return txt\n",
    "\n",
    "def get_bold_sentence(sentence, lesson_dict = {}):\n",
    "    tokens = re.findall(r\"[\\w']+|[.,¡!¿:\\-?;–]\", sentence)\n",
    "    bold_sentence = \"\"\n",
    "    for index, token in enumerate(tokens):\n",
    "        try:\n",
    "            next_token = tokens[index + 1]\n",
    "        except IndexError:\n",
    "            next_token = ''\n",
    "        bold_token = get_html_of_token(token, lesson_dict)\n",
    "        bold_sentence += bold_token\n",
    "        if not token in \".,¡!¿-?;:\":\n",
    "            if not next_token in \".,;!?-:\":\n",
    "                bold_sentence += ' '\n",
    "        elif token in \"¡-¿\":\n",
    "            pass\n",
    "        else:\n",
    "            bold_sentence += ' '\n",
    "    return bold_sentence        \n",
    "\n"
   ]
  },
  {
   "cell_type": "code",
   "execution_count": 21,
   "id": "ccda44f8-630a-40ab-a596-83ea280984ab",
   "metadata": {},
   "outputs": [],
   "source": [
    "s = \"\"\"<p>S07-Uf, es<b>cu</b>cha, da <b>mie</b>do:: &quot;Nos di<b>je</b>ron que la habita<b>ción</b> ten<b>drí</b>a <b>vis</b>tas y nos <b>die</b>ron <b>u</b>na que <b>da</b>ba al <b>pa</b>tio.&quot; </p>\"\"\""
   ]
  },
  {
   "cell_type": "code",
   "execution_count": 22,
   "id": "84c625de-fbe7-4fca-a8b1-eebade3da5b3",
   "metadata": {},
   "outputs": [
    {
     "data": {
      "text/plain": [
       "'<p>S07-Uf, es<b>cu</b>cha, da <b>mie</b>do:: &quot;Nos di<b>je</b>ron que la habita<b>ción</b> ten<b>drí</b>a <b>vis</b>tas y nos <b>die</b>ron <b>u</b>na que <b>da</b>ba al <b>pa</b>tio.&quot; </p>'"
      ]
     },
     "execution_count": 22,
     "metadata": {},
     "output_type": "execute_result"
    }
   ],
   "source": [
    "s"
   ]
  },
  {
   "cell_type": "code",
   "execution_count": 51,
   "id": "795ee717-cd23-4e8a-89c3-dd74c4e11648",
   "metadata": {},
   "outputs": [],
   "source": [
    "bs = get_bold_sentence(s, lesson_word_dict)"
   ]
  },
  {
   "cell_type": "code",
   "execution_count": 52,
   "id": "b7a36376-ae3c-468f-8998-61b70e7c3f4c",
   "metadata": {},
   "outputs": [
    {
     "data": {
      "text/plain": [
       "'p S07-Uf, es b cu b cha, da b mie b do: : quot; Nos di b je b ron que la habita b ción b ten b drí b a b vis b tas y nos b die b ron b u b na que b da b ba al b pa b tio. quot; p'"
      ]
     },
     "execution_count": 52,
     "metadata": {},
     "output_type": "execute_result"
    }
   ],
   "source": [
    "bs"
   ]
  },
  {
   "cell_type": "code",
   "execution_count": 4,
   "id": "2f9e3ec2-7ac9-4176-8fb8-28cebb312239",
   "metadata": {},
   "outputs": [],
   "source": [
    "from tonic_accent import get_sentences"
   ]
  },
  {
   "cell_type": "code",
   "execution_count": 5,
   "id": "e3163248-3253-462f-be2d-80bbf8d3b1c2",
   "metadata": {},
   "outputs": [],
   "source": [
    "lesson = get_sentences(75)"
   ]
  },
  {
   "cell_type": "code",
   "execution_count": 6,
   "id": "9bcb801c-1bb2-42d0-966a-dd37d0b12360",
   "metadata": {},
   "outputs": [
    {
     "data": {
      "text/plain": [
       "['N75-Lección setenta y cinco',\n",
       " 'S00-TITLE-Hoteles con encanto',\n",
       " 'S01-Si el plan es ir al hotel, deberíamos reservar ya. ',\n",
       " 'S02-He hecho búsquedas en Internet, y el que más barato saldría es este. ',\n",
       " 'S03-Por una habitación con una cama matrimonial, serían 34 euros por noche. ',\n",
       " 'S04-Barato es, desde luego. ¿Has leído las valoraciones de los clientes? ',\n",
       " 'S05-¿Tú te fías de eso? ',\n",
       " 'S06-Claro que sí, ¡es imprescindible! ',\n",
       " 'S07-Uf, escucha, da miedo::: \"Nos dijeron que la habitación tendría vistas y nos dieron una que daba al patio.\" ',\n",
       " 'S08-\"Como el aire acondicionado estaba averiado, abrimos la ventana y hubo que cerrarla enseguida por los olores.\"',\n",
       " 'S09-No había agua caliente ni jabón, las bombillas estaban fundidas, el lavabo atascado y el espejo roto. ',\n",
       " 'S10-Nos metimos en la cama, y a medianoche un cuadro se descolgó de la pared solito. ',\n",
       " 'S11-A no ser que os gusten las pelis de terror, ¡no vayáis! ',\n",
       " 'S12-Ejem, y ¿no preferirías ir de camping? ',\n",
       " 'T00-TRANSLATE-Ejercicio 1 – Traduzca',\n",
       " 'T01-Este hotel saldría más barato, pero las habitaciones no tienen vistas. ',\n",
       " 'T02-¿No preferirías hacer unas búsquedas en Internet antes de reservar? ',\n",
       " 'T03-No nos dijeron que tendríamos que abrir las ventanas por el calor. ',\n",
       " 'T04-¿Un hotel con encanto? Parece más bien una peli de terror. ',\n",
       " 'T05-¿Es imprescindible fiarse de las valoraciones de los clientes? ']"
      ]
     },
     "execution_count": 6,
     "metadata": {},
     "output_type": "execute_result"
    }
   ],
   "source": [
    "lesson"
   ]
  },
  {
   "cell_type": "code",
   "execution_count": 1,
   "id": "e70bc79c-7015-4cca-99c0-cb60731d318d",
   "metadata": {},
   "outputs": [],
   "source": [
    "from html.parser import HTMLParser\n",
    "class MyHTMLParser(HTMLParser):\n",
    "        \n",
    "    def analyze_lesson(self, lesson, lesson_number):\n",
    "        self.sentences = []\n",
    "        self.sentences_fragments = []\n",
    "        self.lesson_number = lesson_number\n",
    "        self.bold_data = False\n",
    "        self.feed(lesson)\n",
    "\n",
    "    def get_lesson_word_tonic_accent_dict(self):\n",
    "        word_dict = {}\n",
    "        if not hasattr(self, 'sentences'):\n",
    "            return {}\n",
    "        for i, s in enumerate(self.sentences):\n",
    "            wl = get_sentence_word_list(s, self.sentences_fragments[i])\n",
    "            for word, tonic_accent in wl:\n",
    "                if not word in word_dict:\n",
    "                    word_dict[word] = tonic_accent\n",
    "        return word_dict\n",
    "        \n",
    "    def get_lesson_word_index_dict(self):\n",
    "        word_dict = {}\n",
    "        if not hasattr(self, 'sentences'):\n",
    "            return {}\n",
    "        for i, s in enumerate(self.sentences):\n",
    "            wl = get_sentence_word_list(s, self.sentences_fragments[i])\n",
    "            for word, tonic_accent in wl:\n",
    "                if not word in word_dict:\n",
    "                    word_dict[word] = [(self.lesson_number, i)]\n",
    "                else:\n",
    "                    word_dict[word].append((self.lesson_number, i))\n",
    "        return word_dict\n",
    "       \n",
    "    def handle_starttag(self, tag, attrs):\n",
    "        if tag == \"b\":\n",
    "            self.bold_data = True\n",
    "        elif tag == \"p\":\n",
    "            self.current_sentence = \"\"\n",
    "            self.current_sentence_fragments = []\n",
    "            #self.first_data = True\n",
    "\n",
    "\n",
    "    def handle_endtag(self, tag):\n",
    "        if tag == \"b\":\n",
    "            self.bold_data = False\n",
    "        elif tag == \"p\":\n",
    "            self.sentences_fragments.append(self.current_sentence_fragments)\n",
    "            self.sentences.append(self.current_sentence)\n",
    "            \n",
    "    def handle_data(self, data):\n",
    "        print(data)\n",
    "        #if self.first_data:\n",
    "        #    self.first_data = False\n",
    "            #data = data.split('-')[1]\n",
    "        if hasattr(self, \"current_sentence\"):\n",
    "            self.current_sentence_fragments.append((data, self.bold_data))\n",
    "            self.current_sentence += data\n",
    "\n",
    "    def get_sentences(self):\n",
    "        return self.sentences\n"
   ]
  },
  {
   "cell_type": "code",
   "execution_count": 2,
   "id": "ef769757-6f02-4631-af83-09a9a2af0250",
   "metadata": {},
   "outputs": [],
   "source": [
    "parser = MyHTMLParser()"
   ]
  },
  {
   "cell_type": "code",
   "execution_count": 8,
   "id": "f447b470-376a-4f99-b705-513914ffe646",
   "metadata": {},
   "outputs": [
    {
     "data": {
      "text/plain": [
       "'Sentences/html/L075.html'"
      ]
     },
     "execution_count": 8,
     "metadata": {},
     "output_type": "execute_result"
    }
   ],
   "source": [
    "lesson_nb = 75\n",
    "lesson_filename = f\"Sentences/html/L{str(lesson_nb).zfill(3)}.html\"\n",
    "lesson_filename"
   ]
  },
  {
   "cell_type": "code",
   "execution_count": 12,
   "id": "39df864b-5fa0-4648-9b9a-8c5e08150d80",
   "metadata": {},
   "outputs": [],
   "source": [
    "f = open(lesson_filename, \"r\")\n",
    "lesson = f.readlines()[0]\n",
    "f.close()"
   ]
  },
  {
   "cell_type": "code",
   "execution_count": 13,
   "id": "96ee8fad-2775-444d-ac7b-8d26efd0f7fa",
   "metadata": {},
   "outputs": [
    {
     "data": {
      "text/plain": [
       "'<p>N75-Lec<b>ción</b> se<b>ten</b>ta y <b>cin</b>co</p><p>S00-TITLE-Ho<b>te</b>les con en<b>can</b>to</p><p>S01-Si el plan es ir al ho<b>tel</b>, debe<b>rí</b>amos reser<b>var</b> ya. </p><p>S02-He <b>he</b>cho <b>bús</b>quedas en Inter<b>net</b>, y el que más ba<b>ra</b>to sal<b>drí</b>a es <b>es</b>te. </p><p>S03-Por <b>u</b>na habita<b>ción</b> con <b>u</b>na <b>ca</b>ma matrimo<b>nial</b>, se<b>rí</b>an 34 <b>eu</b>ros por <b>no</b>che. </p><p>S04-Ba<b>ra</b>to es, <b>des</b>de <b>lue</b>go. ¿Has le<b>í</b>do las valora<b>cio</b>nes de los <b>clien</b>tes? </p><p>S05-¿Tú te <b>fí</b>as de <b>e</b>so? </p><p>S06-<b>Cla</b>ro que sí, ¡es imprescin<b>di</b>ble! </p><p>S07-Uf, es<b>cu</b>cha, da <b>mie</b>do::: &quot;Nos di<b>je</b>ron que la habita<b>ción</b> ten<b>drí</b>a <b>vis</b>tas y nos <b>die</b>ron <b>u</b>na que <b>da</b>ba al <b>pa</b>tio.&quot; </p><p>S08-&#34;<b>Co</b>mo el <b>ai</b>re acondicio<b>na</b>do es<b>ta</b>ba ave<b>ria</b>do, a<b>bri</b>mos la ven<b>ta</b>na y <b>hu</b>bo que ce<b>rrar</b>la ense<b>gui</b>da por los o<b>lo</b>res.&#34;</p><p>S09-No ha<b>bí</b>a <b>a</b>gua ca<b>lien</b>te ni ja<b>bón</b>, las bom<b>bi</b>llas es<b>ta</b>ban fun<b>di</b>das, el la<b>va</b>bo atas<b>ca</b>do y el es<b>pe</b>jo <b>ro</b>to. </p><p>S10-Nos me<b>ti</b>mos en la <b>ca</b>ma, y a media<b>no</b>che un <b>cua</b>dro se descol<b>gó</b> de la pa<b>red</b> so<b>li</b>to. </p><p>S11-A no ser que os <b>gus</b>ten las <b>pe</b>lis de te<b>rror</b>, ¡no va<b>yáis</b>! </p><p>S12-E<b>jem</b>, y ¿no preferi<b>rí</b>as ir de <b>cam</b>ping? </p><p>T00-TRANSLATE-Ejer<b>ci</b>cio 1 – Tra<b>duz</b>ca</p><p>T01-<b>Es</b>te ho<b>tel</b> sal<b>drí</b>a más ba<b>ra</b>to, <b>pe</b>ro las habita<b>cio</b>nes no <b>tie</b>nen <b>vis</b>tas. </p><p>T02-¿No preferi<b>rí</b>as ha<b>cer</b> <b>u</b>nas <b>bús</b>quedas en Inter<b>net</b> <b>an</b>tes de reser<b>var</b>? </p><p>T03-No nos di<b>je</b>ron que ten<b>drí</b>amos que abrir las ven<b>ta</b>nas por el ca<b>lor</b>. </p><p>T04-¿Un ho<b>tel</b> con en<b>can</b>to? Pa<b>re</b>ce más bien <b>u</b>na <b>pe</b>li de te<b>rror</b>. </p><p>T05-¿Es imprescin<b>di</b>ble fi<b>ar</b>se de las valora<b>cio</b>nes de los <b>clien</b>tes? </p>'"
      ]
     },
     "execution_count": 13,
     "metadata": {},
     "output_type": "execute_result"
    }
   ],
   "source": [
    "lesson"
   ]
  },
  {
   "cell_type": "code",
   "execution_count": 23,
   "id": "d82a59b9-385b-41fe-ac18-ea0a41f0a880",
   "metadata": {},
   "outputs": [],
   "source": [
    "parser.analyze_lesson(s, lesson_nb)"
   ]
  },
  {
   "cell_type": "code",
   "execution_count": 24,
   "id": "f6f073a4-302a-42ca-b7d3-c124aaf4c3ee",
   "metadata": {},
   "outputs": [],
   "source": [
    "sentences = parser.get_sentences()"
   ]
  },
  {
   "cell_type": "code",
   "execution_count": 25,
   "id": "449f423e-30b2-4f58-8f86-f1671b1b3b3c",
   "metadata": {},
   "outputs": [
    {
     "data": {
      "text/plain": [
       "['S07-Uf, escucha, da miedo:: \"Nos dijeron que la habitación tendría vistas y nos dieron una que daba al patio.\" ']"
      ]
     },
     "execution_count": 25,
     "metadata": {},
     "output_type": "execute_result"
    }
   ],
   "source": [
    "sentences"
   ]
  },
  {
   "cell_type": "code",
   "execution_count": 26,
   "id": "5b4fdbec-28f7-499c-826d-dfad6fec7c24",
   "metadata": {},
   "outputs": [
    {
     "data": {
      "text/plain": [
       "[('S07-Uf, es', False),\n",
       " ('cu', True),\n",
       " ('cha, da ', False),\n",
       " ('mie', True),\n",
       " ('do:: \"Nos di', False),\n",
       " ('je', True),\n",
       " ('ron que la habita', False),\n",
       " ('ción', True),\n",
       " (' ten', False),\n",
       " ('drí', True),\n",
       " ('a ', False),\n",
       " ('vis', True),\n",
       " ('tas y nos ', False),\n",
       " ('die', True),\n",
       " ('ron ', False),\n",
       " ('u', True),\n",
       " ('na que ', False),\n",
       " ('da', True),\n",
       " ('ba al ', False),\n",
       " ('pa', True),\n",
       " ('tio.\" ', False)]"
      ]
     },
     "execution_count": 26,
     "metadata": {},
     "output_type": "execute_result"
    }
   ],
   "source": [
    "parser.current_sentence_fragments"
   ]
  },
  {
   "cell_type": "code",
   "execution_count": 19,
   "id": "24dc0227-6ef1-4676-a858-454742d2235a",
   "metadata": {},
   "outputs": [
    {
     "ename": "IndexError",
     "evalue": "list index out of range",
     "output_type": "error",
     "traceback": [
      "\u001b[0;31m---------------------------------------------------------------------------\u001b[0m",
      "\u001b[0;31mIndexError\u001b[0m                                Traceback (most recent call last)",
      "Cell \u001b[0;32mIn[19], line 1\u001b[0m\n\u001b[0;32m----> 1\u001b[0m \u001b[43mlines\u001b[49m\u001b[43m[\u001b[49m\u001b[38;5;241;43m1\u001b[39;49m\u001b[43m]\u001b[49m\n",
      "\u001b[0;31mIndexError\u001b[0m: list index out of range"
     ]
    }
   ],
   "source": [
    "lines[1]"
   ]
  },
  {
   "cell_type": "code",
   "execution_count": 20,
   "id": "36fbe0fc-8266-4e73-849a-c9d324aa9eb3",
   "metadata": {},
   "outputs": [
    {
     "data": {
      "text/plain": [
       "['<p>N75-Lec<b>ción</b> se<b>ten</b>ta y <b>cin</b>co</p><p>S00-TITLE-Ho<b>te</b>les con en<b>can</b>to</p><p>S01-Si el plan es ir al ho<b>tel</b>, debe<b>rí</b>amos reser<b>var</b> ya. </p><p>S02-He <b>he</b>cho <b>bús</b>quedas en Inter<b>net</b>, y el que más ba<b>ra</b>to sal<b>drí</b>a es <b>es</b>te. </p><p>S03-Por <b>u</b>na habita<b>ción</b> con <b>u</b>na <b>ca</b>ma matrimo<b>nial</b>, se<b>rí</b>an 34 <b>eu</b>ros por <b>no</b>che. </p><p>S04-Ba<b>ra</b>to es, <b>des</b>de <b>lue</b>go. ¿Has le<b>í</b>do las valora<b>cio</b>nes de los <b>clien</b>tes? </p><p>S05-¿Tú te <b>fí</b>as de <b>e</b>so? </p><p>S06-<b>Cla</b>ro que sí, ¡es imprescin<b>di</b>ble! </p><p>S07-Uf, es<b>cu</b>cha, da <b>mie</b>do::: &quot;Nos di<b>je</b>ron que la habita<b>ción</b> ten<b>drí</b>a <b>vis</b>tas y nos <b>die</b>ron <b>u</b>na que <b>da</b>ba al <b>pa</b>tio.&quot; </p><p>S08-&#34;<b>Co</b>mo el <b>ai</b>re acondicio<b>na</b>do es<b>ta</b>ba ave<b>ria</b>do, a<b>bri</b>mos la ven<b>ta</b>na y <b>hu</b>bo que ce<b>rrar</b>la ense<b>gui</b>da por los o<b>lo</b>res.&#34;</p><p>S09-No ha<b>bí</b>a <b>a</b>gua ca<b>lien</b>te ni ja<b>bón</b>, las bom<b>bi</b>llas es<b>ta</b>ban fun<b>di</b>das, el la<b>va</b>bo atas<b>ca</b>do y el es<b>pe</b>jo <b>ro</b>to. </p><p>S10-Nos me<b>ti</b>mos en la <b>ca</b>ma, y a media<b>no</b>che un <b>cua</b>dro se descol<b>gó</b> de la pa<b>red</b> so<b>li</b>to. </p><p>S11-A no ser que os <b>gus</b>ten las <b>pe</b>lis de te<b>rror</b>, ¡no va<b>yáis</b>! </p><p>S12-E<b>jem</b>, y ¿no preferi<b>rí</b>as ir de <b>cam</b>ping? </p><p>T00-TRANSLATE-Ejer<b>ci</b>cio 1 – Tra<b>duz</b>ca</p><p>T01-<b>Es</b>te ho<b>tel</b> sal<b>drí</b>a más ba<b>ra</b>to, <b>pe</b>ro las habita<b>cio</b>nes no <b>tie</b>nen <b>vis</b>tas. </p><p>T02-¿No preferi<b>rí</b>as ha<b>cer</b> <b>u</b>nas <b>bús</b>quedas en Inter<b>net</b> <b>an</b>tes de reser<b>var</b>? </p><p>T03-No nos di<b>je</b>ron que ten<b>drí</b>amos que abrir las ven<b>ta</b>nas por el ca<b>lor</b>. </p><p>T04-¿Un ho<b>tel</b> con en<b>can</b>to? Pa<b>re</b>ce más bien <b>u</b>na <b>pe</b>li de te<b>rror</b>. </p><p>T05-¿Es imprescin<b>di</b>ble fi<b>ar</b>se de las valora<b>cio</b>nes de los <b>clien</b>tes? </p>']"
      ]
     },
     "execution_count": 20,
     "metadata": {},
     "output_type": "execute_result"
    }
   ],
   "source": [
    "lines"
   ]
  },
  {
   "cell_type": "code",
   "execution_count": null,
   "id": "fc81d8b4-7ac0-454e-8cd8-a072fca7d2bc",
   "metadata": {},
   "outputs": [],
   "source": []
  }
 ],
 "metadata": {
  "kernelspec": {
   "display_name": "Python 3 (ipykernel)",
   "language": "python",
   "name": "python3"
  },
  "language_info": {
   "codemirror_mode": {
    "name": "ipython",
    "version": 3
   },
   "file_extension": ".py",
   "mimetype": "text/x-python",
   "name": "python",
   "nbconvert_exporter": "python",
   "pygments_lexer": "ipython3",
   "version": "3.11.3"
  }
 },
 "nbformat": 4,
 "nbformat_minor": 5
}
