{
 "cells": [
  {
   "cell_type": "code",
   "execution_count": 1,
   "id": "db79c2cc-4444-4be1-b1a3-e5720ac8c680",
   "metadata": {},
   "outputs": [
    {
     "data": {
      "text/plain": [
       "3"
      ]
     },
     "execution_count": 1,
     "metadata": {},
     "output_type": "execute_result"
    }
   ],
   "source": [
    "def add_one(number):\n",
    "    return number + 1\n",
    "\n",
    "\n",
    "add_one(2)"
   ]
  },
  {
   "cell_type": "code",
   "execution_count": 2,
   "id": "e5e2e5bb-f1f9-4a8b-bc8e-471f09141c63",
   "metadata": {},
   "outputs": [],
   "source": [
    "def say_hello(name):\n",
    "    return f\"Hello {name}\"\n",
    "\n",
    "def be_awesome(name):\n",
    "    return f\"Yo {name}, together we're the awesomest!\"\n",
    "\n",
    "def greet_bob(greeter_func):\n",
    "    return greeter_func(\"Bob\")"
   ]
  },
  {
   "cell_type": "code",
   "execution_count": 3,
   "id": "ab9477b7-ef13-4652-bb26-995bf4df3a0f",
   "metadata": {},
   "outputs": [
    {
     "data": {
      "text/plain": [
       "'Hello Bob'"
      ]
     },
     "execution_count": 3,
     "metadata": {},
     "output_type": "execute_result"
    }
   ],
   "source": [
    "greet_bob(say_hello)"
   ]
  },
  {
   "cell_type": "code",
   "execution_count": null,
   "id": "61b5f1ca-184e-43d3-afea-8693e799e51d",
   "metadata": {},
   "outputs": [],
   "source": []
  },
  {
   "cell_type": "code",
   "execution_count": 4,
   "id": "0a1a188e-1a95-4bc1-8acb-a3d45e4aafdf",
   "metadata": {},
   "outputs": [
    {
     "data": {
      "text/plain": [
       "\"Yo Bob, together we're the awesomest!\""
      ]
     },
     "execution_count": 4,
     "metadata": {},
     "output_type": "execute_result"
    }
   ],
   "source": [
    "greet_bob(be_awesome)"
   ]
  },
  {
   "cell_type": "code",
   "execution_count": 5,
   "id": "44607612-1b43-451b-b9ca-787016c6b400",
   "metadata": {},
   "outputs": [],
   "source": [
    "def parent():\n",
    "    print(\"Printing from parent()\")\n",
    "\n",
    "    def first_child():\n",
    "        print(\"Printing from first_child()\")\n",
    "\n",
    "    def second_child():\n",
    "        print(\"Printing from second_child()\")\n",
    "\n",
    "    second_child()\n",
    "    first_child()"
   ]
  },
  {
   "cell_type": "code",
   "execution_count": 6,
   "id": "40470716-abdc-4b5e-9a29-5755ef604fba",
   "metadata": {},
   "outputs": [
    {
     "name": "stdout",
     "output_type": "stream",
     "text": [
      "Printing from parent()\n",
      "Printing from second_child()\n",
      "Printing from first_child()\n"
     ]
    }
   ],
   "source": [
    ">>> parent()"
   ]
  },
  {
   "cell_type": "code",
   "execution_count": 7,
   "id": "a5c3f07e-df0d-4e37-8084-1fd1832202a8",
   "metadata": {},
   "outputs": [],
   "source": [
    "def parent(num):\n",
    "    def first_child():\n",
    "        return \"Hi, I'm Elias\"\n",
    "\n",
    "    def second_child():\n",
    "        return \"Call me Ester\"\n",
    "\n",
    "    if num == 1:\n",
    "        return first_child\n",
    "    else:\n",
    "        return second_child"
   ]
  },
  {
   "cell_type": "code",
   "execution_count": 12,
   "id": "f6753c26-80bd-4d03-9260-478505c1f149",
   "metadata": {},
   "outputs": [
    {
     "data": {
      "text/plain": [
       "'Call me Ester'"
      ]
     },
     "execution_count": 12,
     "metadata": {},
     "output_type": "execute_result"
    }
   ],
   "source": [
    "parent(\"toto\")()"
   ]
  },
  {
   "cell_type": "code",
   "execution_count": 13,
   "id": "9bcaefda-0bd5-4322-adef-9db5750238d6",
   "metadata": {},
   "outputs": [],
   "source": [
    "def decorator(func):\n",
    "    def wrapper():\n",
    "        print(\"Something is happening before the function is called.\")\n",
    "        func()\n",
    "        print(\"Something is happening after the function is called.\")\n",
    "    return wrapper\n",
    "\n",
    "def say_whee():\n",
    "    print(\"Whee!\")\n",
    "\n",
    "say_whee = decorator(say_whee)"
   ]
  },
  {
   "cell_type": "code",
   "execution_count": 15,
   "id": "3ff1965d-f9d9-4488-bebb-a1fc0dcd9898",
   "metadata": {},
   "outputs": [
    {
     "name": "stdout",
     "output_type": "stream",
     "text": [
      "Something is happening before the function is called.\n",
      "Whee!\n",
      "Something is happening after the function is called.\n"
     ]
    }
   ],
   "source": [
    "say_whee()"
   ]
  },
  {
   "cell_type": "code",
   "execution_count": 20,
   "id": "c82c738f-d692-473b-9f1f-9e66dfed8600",
   "metadata": {},
   "outputs": [],
   "source": [
    "from datetime import datetime\n",
    "\n",
    "def not_during_the_night(func):\n",
    "    def wrapper():\n",
    "        if 7 <= datetime.now().hour < 22:\n",
    "            func()\n",
    "        else:\n",
    "            pass  # Hush, the neighbors are asleep\n",
    "    return wrapper\n",
    "\n",
    "def say_whee():\n",
    "    print(\"Whee!\")\n",
    "\n",
    "say_whee = not_during_the_night(say_whee)"
   ]
  },
  {
   "cell_type": "code",
   "execution_count": 21,
   "id": "b2bd6b90-cca5-4fe4-98b8-91fe0451db05",
   "metadata": {},
   "outputs": [
    {
     "name": "stdout",
     "output_type": "stream",
     "text": [
      "Whee!\n"
     ]
    }
   ],
   "source": [
    "say_whee()"
   ]
  },
  {
   "cell_type": "code",
   "execution_count": 22,
   "id": "006b1dc9-cb7b-47e8-b040-e31276f5b7e3",
   "metadata": {},
   "outputs": [],
   "source": [
    "def decorator(func):\n",
    "    def wrapper():\n",
    "        print(\"Something is happening before the function is called.\")\n",
    "        func()\n",
    "        print(\"Something is happening after the function is called.\")\n",
    "    return wrapper\n",
    "\n",
    "@decorator\n",
    "def say_whee():\n",
    "    print(\"Whee!\")"
   ]
  },
  {
   "cell_type": "code",
   "execution_count": 23,
   "id": "0c1567c0-c505-4c24-b6d9-a1b53d4ec505",
   "metadata": {},
   "outputs": [
    {
     "name": "stdout",
     "output_type": "stream",
     "text": [
      "Something is happening before the function is called.\n",
      "Whee!\n",
      "Something is happening after the function is called.\n"
     ]
    }
   ],
   "source": [
    "say_whee()"
   ]
  },
  {
   "cell_type": "code",
   "execution_count": 24,
   "id": "92316355-5f31-4b2f-b495-319ad5728374",
   "metadata": {},
   "outputs": [],
   "source": [
    "def do_twice(func):\n",
    "    def wrapper_do_twice():\n",
    "        func()\n",
    "        func()\n",
    "    return wrapper_do_twice"
   ]
  },
  {
   "cell_type": "code",
   "execution_count": 25,
   "id": "ed667c9b-456d-45ef-8607-b49bbe50ff29",
   "metadata": {},
   "outputs": [],
   "source": [
    "@do_twice\n",
    "def say_whee():\n",
    "    print(\"Whee!\")"
   ]
  },
  {
   "cell_type": "code",
   "execution_count": 26,
   "id": "1bcc2613-3211-464b-96ea-7881797a4f4f",
   "metadata": {},
   "outputs": [
    {
     "name": "stdout",
     "output_type": "stream",
     "text": [
      "Whee!\n",
      "Whee!\n"
     ]
    }
   ],
   "source": [
    "say_whee()"
   ]
  },
  {
   "cell_type": "code",
   "execution_count": 27,
   "id": "dcab4030-8af1-4536-86a5-cc6c5e808af6",
   "metadata": {},
   "outputs": [
    {
     "data": {
      "text/plain": [
       "7491"
      ]
     },
     "execution_count": 27,
     "metadata": {},
     "output_type": "execute_result"
    }
   ],
   "source": [
    "ord('ᵃ')"
   ]
  },
  {
   "cell_type": "code",
   "execution_count": 33,
   "id": "b5c926f6-f84f-4972-b45d-e85b78429c40",
   "metadata": {},
   "outputs": [],
   "source": [
    "import datetime\n",
    "start_date = \"11/15/24\"\n",
    "date_1 = datetime.datetime.strptime(start_date, \"%m/%d/%y\")\n",
    "\n",
    "end_date = date_1 + datetime.timedelta(days=21)"
   ]
  },
  {
   "cell_type": "code",
   "execution_count": 34,
   "id": "8a854e8b-9332-499e-8146-84961d4c9bd1",
   "metadata": {},
   "outputs": [
    {
     "data": {
      "text/plain": [
       "datetime.datetime(2024, 12, 6, 0, 0)"
      ]
     },
     "execution_count": 34,
     "metadata": {},
     "output_type": "execute_result"
    }
   ],
   "source": [
    "end_date"
   ]
  },
  {
   "cell_type": "code",
   "execution_count": 37,
   "id": "a54e7252-0991-47ce-ab2e-e1aafdcdcd94",
   "metadata": {},
   "outputs": [
    {
     "data": {
      "text/plain": [
       "datetime.datetime(2024, 12, 27, 0, 0)"
      ]
     },
     "execution_count": 37,
     "metadata": {},
     "output_type": "execute_result"
    }
   ],
   "source": [
    "start_date = \"12/06/24\"\n",
    "\n",
    "date_1 = datetime.datetime.strptime(start_date, \"%m/%d/%y\")\n",
    "\n",
    "end_date = date_1 + datetime.timedelta(days=21)\n",
    "end_date"
   ]
  },
  {
   "cell_type": "code",
   "execution_count": 35,
   "id": "856b2b4c-ee5c-4d52-8155-8e334e0b25ec",
   "metadata": {},
   "outputs": [
    {
     "name": "stdout",
     "output_type": "stream",
     "text": [
      "The Zen of Python, by Tim Peters\n",
      "\n",
      "Beautiful is better than ugly.\n",
      "Explicit is better than implicit.\n",
      "Simple is better than complex.\n",
      "Complex is better than complicated.\n",
      "Flat is better than nested.\n",
      "Sparse is better than dense.\n",
      "Readability counts.\n",
      "Special cases aren't special enough to break the rules.\n",
      "Although practicality beats purity.\n",
      "Errors should never pass silently.\n",
      "Unless explicitly silenced.\n",
      "In the face of ambiguity, refuse the temptation to guess.\n",
      "There should be one-- and preferably only one --obvious way to do it.\n",
      "Although that way may not be obvious at first unless you're Dutch.\n",
      "Now is better than never.\n",
      "Although never is often better than *right* now.\n",
      "If the implementation is hard to explain, it's a bad idea.\n",
      "If the implementation is easy to explain, it may be a good idea.\n",
      "Namespaces are one honking great idea -- let's do more of those!\n"
     ]
    }
   ],
   "source": [
    "import this"
   ]
  },
  {
   "cell_type": "code",
   "execution_count": 36,
   "id": "7607b7e6-7ad8-4eff-8656-af585fff6dd2",
   "metadata": {},
   "outputs": [
    {
     "data": {
      "text/plain": [
       "<module 'this' from '/Users/pam/.pyenv/versions/3.11.3/lib/python3.11/this.py'>"
      ]
     },
     "execution_count": 36,
     "metadata": {},
     "output_type": "execute_result"
    }
   ],
   "source": [
    "this"
   ]
  },
  {
   "cell_type": "code",
   "execution_count": 38,
   "id": "85752077-612e-453a-8126-e74f799c7002",
   "metadata": {},
   "outputs": [
    {
     "data": {
      "text/plain": [
       "1.6"
      ]
     },
     "execution_count": 38,
     "metadata": {},
     "output_type": "execute_result"
    }
   ],
   "source": [
    "400.0/250"
   ]
  },
  {
   "cell_type": "code",
   "execution_count": 40,
   "id": "159d16e0-24c7-4749-8b43-f8e0b4bf3e0a",
   "metadata": {},
   "outputs": [
    {
     "data": {
      "text/plain": [
       "186.0"
      ]
     },
     "execution_count": 40,
     "metadata": {},
     "output_type": "execute_result"
    }
   ],
   "source": [
    "744.0/4.0\n",
    "\n"
   ]
  },
  {
   "cell_type": "code",
   "execution_count": 1,
   "id": "f3777ab7-08d0-4b12-b152-0f6a33e1cfd6",
   "metadata": {},
   "outputs": [],
   "source": [
    "import os\n",
    "from maintenance.notesutilities import NotesParser"
   ]
  },
  {
   "cell_type": "code",
   "execution_count": 2,
   "id": "d4c6be08-2115-4420-92c5-823d20160ed8",
   "metadata": {},
   "outputs": [
    {
     "name": "stdout",
     "output_type": "stream",
     "text": [
      "tag for \"el tuteo\" : span\n",
      "attrs for \"el tuteo\" : [('class', 'c3')]\n",
      "tag for \"le tutoiement\" : span\n",
      "attrs for \"le tutoiement\" : [('class', 'c4')]\n",
      "tag for \"como\" : span\n",
      "attrs for \"como\" : [('class', 'c3')]\n",
      "tag for \"como\" : span\n",
      "attrs for \"como\" : [('class', 'c3')]\n",
      "tag for \"como\" : span\n",
      "attrs for \"como\" : [('class', 'c7 c3')]\n",
      "tag for \"como\" : span\n",
      "attrs for \"como\" : [('class', 'c3')]\n",
      "tag for \"como\" : span\n",
      "attrs for \"como\" : [('class', 'c3')]\n",
      "tag for \"como\" : span\n",
      "attrs for \"como\" : [('class', 'c3')]\n"
     ]
    }
   ],
   "source": [
    "level_prefix = \"UsingSpanish\"\n",
    "fn = os.path.join(\"lessons\", level_prefix, \"notes/Notes.html\")\n",
    "notes_html = open(fn).read()\n",
    "parser = NotesParser()\n",
    "\n",
    "\n",
    "parser.analyze(1, notes_html)"
   ]
  },
  {
   "cell_type": "code",
   "execution_count": 5,
   "id": "b8563095-c456-404b-bf05-3b1c29a3ec47",
   "metadata": {},
   "outputs": [
    {
     "name": "stdout",
     "output_type": "stream",
     "text": [
      "tag for \"as\" : span\n",
      "attrs for \"as\" : [('class', 'c0 c9')]\n",
      "tag for \"as\" : span\n",
      "attrs for \"as\" : [('class', 'c0 c9')]\n",
      "tag for \"patas arriba\" : span\n",
      "attrs for \"patas arriba\" : [('class', 'c0')]\n",
      "tag for \"sens dessus-dessous\" : span\n",
      "attrs for \"sens dessus-dessous\" : [('class', 'c1')]\n"
     ]
    }
   ],
   "source": [
    "level_prefix = \"basic\"\n",
    "fn = os.path.join(\"lessons\", level_prefix, \"notes/Notes.html\")\n",
    "notes_html = open(fn).read()\n",
    "parser = NotesParser()\n",
    "\n",
    "\n",
    "parser.analyze(0, notes_html)"
   ]
  },
  {
   "cell_type": "code",
   "execution_count": 49,
   "id": "b03b7292-2d6c-4f82-9bcb-2b2f449114d6",
   "metadata": {},
   "outputs": [
    {
     "data": {
      "text/plain": [
       "34"
      ]
     },
     "execution_count": 49,
     "metadata": {},
     "output_type": "execute_result"
    }
   ],
   "source": [
    "parser._lesson_nb"
   ]
  },
  {
   "cell_type": "code",
   "execution_count": 12,
   "id": "b38cc1e2-e9e3-4be8-8316-fd9feece82f0",
   "metadata": {},
   "outputs": [
    {
     "data": {
      "text/plain": [
       "1283.5"
      ]
     },
     "execution_count": 12,
     "metadata": {},
     "output_type": "execute_result"
    }
   ],
   "source": [
    "1103.50 + 180"
   ]
  },
  {
   "cell_type": "code",
   "execution_count": 13,
   "id": "68d2645d-c00d-4745-b02a-2cc492bfd611",
   "metadata": {},
   "outputs": [
    {
     "data": {
      "text/plain": [
       "1103.5"
      ]
     },
     "execution_count": 13,
     "metadata": {},
     "output_type": "execute_result"
    }
   ],
   "source": [
    "844.75+258.75"
   ]
  },
  {
   "cell_type": "code",
   "execution_count": 20,
   "id": "786a98a2-3867-4c23-80a1-34ae2a4e66cd",
   "metadata": {},
   "outputs": [
    {
     "data": {
      "text/plain": [
       "8594"
      ]
     },
     "execution_count": 20,
     "metadata": {},
     "output_type": "execute_result"
    }
   ],
   "source": [
    "ord(\"→\")"
   ]
  },
  {
   "cell_type": "code",
   "execution_count": 3,
   "id": "05577153-086d-46d5-a761-a03569a07847",
   "metadata": {},
   "outputs": [
    {
     "data": {
      "text/plain": [
       "-10765.75"
      ]
     },
     "execution_count": 3,
     "metadata": {},
     "output_type": "execute_result"
    }
   ],
   "source": [
    "17201.00-27966.75"
   ]
  },
  {
   "cell_type": "code",
   "execution_count": 2,
   "id": "ab7a54b9-3c39-435e-adef-e84b6d63f653",
   "metadata": {},
   "outputs": [
    {
     "data": {
      "text/plain": [
       "480.84999999999854"
      ]
     },
     "execution_count": 2,
     "metadata": {},
     "output_type": "execute_result"
    }
   ],
   "source": [
    "10765.75-10284.900000000001"
   ]
  },
  {
   "cell_type": "code",
   "execution_count": 7,
   "id": "8a1f09f7-d4c4-4f52-bbb9-2285cfb0a79e",
   "metadata": {},
   "outputs": [
    {
     "data": {
      "text/plain": [
       "150.0"
      ]
     },
     "execution_count": 7,
     "metadata": {},
     "output_type": "execute_result"
    }
   ],
   "source": [
    "200/160*120"
   ]
  },
  {
   "cell_type": "code",
   "execution_count": null,
   "id": "9262e9ce-2e7f-43cb-8dea-ef37ab652bbd",
   "metadata": {},
   "outputs": [],
   "source": []
  }
 ],
 "metadata": {
  "kernelspec": {
   "display_name": "Python 3 (ipykernel)",
   "language": "python",
   "name": "python3"
  },
  "language_info": {
   "codemirror_mode": {
    "name": "ipython",
    "version": 3
   },
   "file_extension": ".py",
   "mimetype": "text/x-python",
   "name": "python",
   "nbconvert_exporter": "python",
   "pygments_lexer": "ipython3",
   "version": "3.11.3"
  }
 },
 "nbformat": 4,
 "nbformat_minor": 5
}
