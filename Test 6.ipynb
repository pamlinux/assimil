{
 "cells": [
  {
   "cell_type": "code",
   "execution_count": null,
   "id": "db79c2cc-4444-4be1-b1a3-e5720ac8c680",
   "metadata": {},
   "outputs": [],
   "source": [
    "def add_one(number):\n",
    "    return number + 1\n",
    "\n",
    "\n",
    "add_one(2)"
   ]
  },
  {
   "cell_type": "code",
   "execution_count": null,
   "id": "e5e2e5bb-f1f9-4a8b-bc8e-471f09141c63",
   "metadata": {},
   "outputs": [],
   "source": [
    "def say_hello(name):\n",
    "    return f\"Hello {name}\"\n",
    "\n",
    "def be_awesome(name):\n",
    "    return f\"Yo {name}, together we're the awesomest!\"\n",
    "\n",
    "def greet_bob(greeter_func):\n",
    "    return greeter_func(\"Bob\")"
   ]
  },
  {
   "cell_type": "code",
   "execution_count": null,
   "id": "ab9477b7-ef13-4652-bb26-995bf4df3a0f",
   "metadata": {},
   "outputs": [],
   "source": [
    "greet_bob(say_hello)"
   ]
  },
  {
   "cell_type": "code",
   "execution_count": null,
   "id": "61b5f1ca-184e-43d3-afea-8693e799e51d",
   "metadata": {},
   "outputs": [],
   "source": []
  },
  {
   "cell_type": "code",
   "execution_count": null,
   "id": "0a1a188e-1a95-4bc1-8acb-a3d45e4aafdf",
   "metadata": {},
   "outputs": [],
   "source": [
    "greet_bob(be_awesome)"
   ]
  },
  {
   "cell_type": "code",
   "execution_count": null,
   "id": "44607612-1b43-451b-b9ca-787016c6b400",
   "metadata": {},
   "outputs": [],
   "source": [
    "def parent():\n",
    "    print(\"Printing from parent()\")\n",
    "\n",
    "    def first_child():\n",
    "        print(\"Printing from first_child()\")\n",
    "\n",
    "    def second_child():\n",
    "        print(\"Printing from second_child()\")\n",
    "\n",
    "    second_child()\n",
    "    first_child()"
   ]
  },
  {
   "cell_type": "code",
   "execution_count": null,
   "id": "40470716-abdc-4b5e-9a29-5755ef604fba",
   "metadata": {},
   "outputs": [],
   "source": [
    ">>> parent()"
   ]
  },
  {
   "cell_type": "code",
   "execution_count": null,
   "id": "a5c3f07e-df0d-4e37-8084-1fd1832202a8",
   "metadata": {},
   "outputs": [],
   "source": [
    "def parent(num):\n",
    "    def first_child():\n",
    "        return \"Hi, I'm Elias\"\n",
    "\n",
    "    def second_child():\n",
    "        return \"Call me Ester\"\n",
    "\n",
    "    if num == 1:\n",
    "        return first_child\n",
    "    else:\n",
    "        return second_child"
   ]
  },
  {
   "cell_type": "code",
   "execution_count": null,
   "id": "f6753c26-80bd-4d03-9260-478505c1f149",
   "metadata": {},
   "outputs": [],
   "source": [
    "parent(\"toto\")()"
   ]
  },
  {
   "cell_type": "code",
   "execution_count": null,
   "id": "9bcaefda-0bd5-4322-adef-9db5750238d6",
   "metadata": {},
   "outputs": [],
   "source": [
    "def decorator(func):\n",
    "    def wrapper():\n",
    "        print(\"Something is happening before the function is called.\")\n",
    "        func()\n",
    "        print(\"Something is happening after the function is called.\")\n",
    "    return wrapper\n",
    "\n",
    "def say_whee():\n",
    "    print(\"Whee!\")\n",
    "\n",
    "say_whee = decorator(say_whee)"
   ]
  },
  {
   "cell_type": "code",
   "execution_count": null,
   "id": "3ff1965d-f9d9-4488-bebb-a1fc0dcd9898",
   "metadata": {},
   "outputs": [],
   "source": [
    "say_whee()"
   ]
  },
  {
   "cell_type": "code",
   "execution_count": null,
   "id": "c82c738f-d692-473b-9f1f-9e66dfed8600",
   "metadata": {},
   "outputs": [],
   "source": [
    "from datetime import datetime\n",
    "\n",
    "def not_during_the_night(func):\n",
    "    def wrapper():\n",
    "        if 7 <= datetime.now().hour < 22:\n",
    "            func()\n",
    "        else:\n",
    "            pass  # Hush, the neighbors are asleep\n",
    "    return wrapper\n",
    "\n",
    "def say_whee():\n",
    "    print(\"Whee!\")\n",
    "\n",
    "say_whee = not_during_the_night(say_whee)"
   ]
  },
  {
   "cell_type": "code",
   "execution_count": null,
   "id": "b2bd6b90-cca5-4fe4-98b8-91fe0451db05",
   "metadata": {},
   "outputs": [],
   "source": [
    "say_whee()"
   ]
  },
  {
   "cell_type": "code",
   "execution_count": null,
   "id": "006b1dc9-cb7b-47e8-b040-e31276f5b7e3",
   "metadata": {},
   "outputs": [],
   "source": [
    "def decorator(func):\n",
    "    def wrapper():\n",
    "        print(\"Something is happening before the function is called.\")\n",
    "        func()\n",
    "        print(\"Something is happening after the function is called.\")\n",
    "    return wrapper\n",
    "\n",
    "@decorator\n",
    "def say_whee():\n",
    "    print(\"Whee!\")"
   ]
  },
  {
   "cell_type": "code",
   "execution_count": null,
   "id": "0c1567c0-c505-4c24-b6d9-a1b53d4ec505",
   "metadata": {},
   "outputs": [],
   "source": [
    "say_whee()"
   ]
  },
  {
   "cell_type": "code",
   "execution_count": null,
   "id": "92316355-5f31-4b2f-b495-319ad5728374",
   "metadata": {},
   "outputs": [],
   "source": [
    "def do_twice(func):\n",
    "    def wrapper_do_twice():\n",
    "        func()\n",
    "        func()\n",
    "    return wrapper_do_twice"
   ]
  },
  {
   "cell_type": "code",
   "execution_count": null,
   "id": "ed667c9b-456d-45ef-8607-b49bbe50ff29",
   "metadata": {},
   "outputs": [],
   "source": [
    "@do_twice\n",
    "def say_whee():\n",
    "    print(\"Whee!\")"
   ]
  },
  {
   "cell_type": "code",
   "execution_count": null,
   "id": "1bcc2613-3211-464b-96ea-7881797a4f4f",
   "metadata": {},
   "outputs": [],
   "source": [
    "say_whee()"
   ]
  },
  {
   "cell_type": "code",
   "execution_count": null,
   "id": "dcab4030-8af1-4536-86a5-cc6c5e808af6",
   "metadata": {},
   "outputs": [],
   "source": [
    "ord('ᵃ')"
   ]
  },
  {
   "cell_type": "code",
   "execution_count": null,
   "id": "b5c926f6-f84f-4972-b45d-e85b78429c40",
   "metadata": {},
   "outputs": [],
   "source": [
    "import datetime\n",
    "start_date = \"11/15/24\"\n",
    "date_1 = datetime.datetime.strptime(start_date, \"%m/%d/%y\")\n",
    "\n",
    "end_date = date_1 + datetime.timedelta(days=21)"
   ]
  },
  {
   "cell_type": "code",
   "execution_count": null,
   "id": "8a854e8b-9332-499e-8146-84961d4c9bd1",
   "metadata": {},
   "outputs": [],
   "source": [
    "end_date"
   ]
  },
  {
   "cell_type": "code",
   "execution_count": null,
   "id": "a54e7252-0991-47ce-ab2e-e1aafdcdcd94",
   "metadata": {},
   "outputs": [],
   "source": [
    "start_date = \"12/06/24\"\n",
    "\n",
    "date_1 = datetime.datetime.strptime(start_date, \"%m/%d/%y\")\n",
    "\n",
    "end_date = date_1 + datetime.timedelta(days=21)\n",
    "end_date"
   ]
  },
  {
   "cell_type": "code",
   "execution_count": null,
   "id": "b06fa821-27c2-4f06-a211-2cc885e10f84",
   "metadata": {},
   "outputs": [],
   "source": [
    "start_date = \"12/27/24\"\n",
    "\n",
    "date_1 = datetime.datetime.strptime(start_date, \"%m/%d/%y\")\n",
    "\n",
    "end_date = date_1 + datetime.timedelta(days=21)\n",
    "end_date"
   ]
  },
  {
   "cell_type": "code",
   "execution_count": null,
   "id": "c4971c68-4bea-433d-9c0e-a6069e889761",
   "metadata": {},
   "outputs": [],
   "source": [
    "start_date = \"01/22/25\"\n",
    "\n",
    "date_1 = datetime.datetime.strptime(start_date, \"%m/%d/%y\")\n",
    "\n",
    "end_date = date_1 + datetime.timedelta(days=21)\n",
    "end_date"
   ]
  },
  {
   "cell_type": "code",
   "execution_count": null,
   "id": "c7333c23-1638-43d9-82be-b6b3e1bb8328",
   "metadata": {},
   "outputs": [],
   "source": [
    "import datetime\n",
    "start_date = \"02/12/25\"\n",
    "\n",
    "date_1 = datetime.datetime.strptime(start_date, \"%m/%d/%y\")\n",
    "\n",
    "end_date = date_1 + datetime.timedelta(days=21)\n",
    "end_date"
   ]
  },
  {
   "cell_type": "code",
   "execution_count": 5,
   "id": "756fcbf6-c559-4918-96fc-b7f32608864d",
   "metadata": {},
   "outputs": [
    {
     "data": {
      "text/plain": [
       "datetime.datetime(2025, 3, 26, 0, 0)"
      ]
     },
     "execution_count": 5,
     "metadata": {},
     "output_type": "execute_result"
    }
   ],
   "source": [
    "import datetime\n",
    "start_date = \"03/05/25\"\n",
    "\n",
    "date_1 = datetime.datetime.strptime(start_date, \"%m/%d/%y\")\n",
    "\n",
    "end_date = date_1 + datetime.timedelta(days=21)\n",
    "end_date"
   ]
  },
  {
   "cell_type": "code",
   "execution_count": 6,
   "id": "2bf3de25-3dbd-4302-8a01-5a70ac68f8be",
   "metadata": {},
   "outputs": [
    {
     "data": {
      "text/plain": [
       "datetime.datetime(2025, 4, 16, 0, 0)"
      ]
     },
     "execution_count": 6,
     "metadata": {},
     "output_type": "execute_result"
    }
   ],
   "source": [
    "import datetime\n",
    "start_date = \"03/26/25\"\n",
    "\n",
    "date_1 = datetime.datetime.strptime(start_date, \"%m/%d/%y\")\n",
    "\n",
    "end_date = date_1 + datetime.timedelta(days=21)\n",
    "end_date"
   ]
  },
  {
   "cell_type": "code",
   "execution_count": null,
   "id": "856b2b4c-ee5c-4d52-8155-8e334e0b25ec",
   "metadata": {},
   "outputs": [],
   "source": [
    "import this"
   ]
  },
  {
   "cell_type": "code",
   "execution_count": null,
   "id": "7607b7e6-7ad8-4eff-8656-af585fff6dd2",
   "metadata": {},
   "outputs": [],
   "source": [
    "this"
   ]
  },
  {
   "cell_type": "code",
   "execution_count": null,
   "id": "85752077-612e-453a-8126-e74f799c7002",
   "metadata": {},
   "outputs": [],
   "source": [
    "400.0/250"
   ]
  },
  {
   "cell_type": "code",
   "execution_count": null,
   "id": "159d16e0-24c7-4749-8b43-f8e0b4bf3e0a",
   "metadata": {},
   "outputs": [],
   "source": [
    "744.0/4.0\n",
    "\n"
   ]
  },
  {
   "cell_type": "code",
   "execution_count": null,
   "id": "f3777ab7-08d0-4b12-b152-0f6a33e1cfd6",
   "metadata": {},
   "outputs": [],
   "source": [
    "import os\n",
    "from maintenance.notesutilities import NotesParser"
   ]
  },
  {
   "cell_type": "code",
   "execution_count": null,
   "id": "d4c6be08-2115-4420-92c5-823d20160ed8",
   "metadata": {},
   "outputs": [],
   "source": [
    "level_prefix = \"UsingSpanish\"\n",
    "fn = os.path.join(\"lessons\", level_prefix, \"notes/Notes.html\")\n",
    "notes_html = open(fn).read()\n",
    "parser = NotesParser()\n",
    "\n",
    "\n",
    "parser.analyze(1, notes_html)"
   ]
  },
  {
   "cell_type": "code",
   "execution_count": null,
   "id": "b8563095-c456-404b-bf05-3b1c29a3ec47",
   "metadata": {},
   "outputs": [],
   "source": [
    "level_prefix = \"Basic\"\n",
    "fn = os.path.join(\"lessons\", level_prefix, \"notes/Notes.html\")\n",
    "notes_html = open(fn).read()\n",
    "parser = NotesParser()\n",
    "\n",
    "\n",
    "parser.analyze(0, notes_html)"
   ]
  },
  {
   "cell_type": "code",
   "execution_count": null,
   "id": "b03b7292-2d6c-4f82-9bcb-2b2f449114d6",
   "metadata": {},
   "outputs": [],
   "source": [
    "parser._lesson_nb"
   ]
  },
  {
   "cell_type": "code",
   "execution_count": null,
   "id": "b38cc1e2-e9e3-4be8-8316-fd9feece82f0",
   "metadata": {},
   "outputs": [],
   "source": [
    "1103.50 + 180"
   ]
  },
  {
   "cell_type": "code",
   "execution_count": null,
   "id": "68d2645d-c00d-4745-b02a-2cc492bfd611",
   "metadata": {},
   "outputs": [],
   "source": [
    "844.75+258.75"
   ]
  },
  {
   "cell_type": "code",
   "execution_count": null,
   "id": "786a98a2-3867-4c23-80a1-34ae2a4e66cd",
   "metadata": {},
   "outputs": [],
   "source": [
    "ord(\"→\")"
   ]
  },
  {
   "cell_type": "code",
   "execution_count": null,
   "id": "05577153-086d-46d5-a761-a03569a07847",
   "metadata": {},
   "outputs": [],
   "source": [
    "17201.00-27966.75"
   ]
  },
  {
   "cell_type": "code",
   "execution_count": null,
   "id": "ab7a54b9-3c39-435e-adef-e84b6d63f653",
   "metadata": {},
   "outputs": [],
   "source": [
    "10765.75-10284.900000000001"
   ]
  },
  {
   "cell_type": "code",
   "execution_count": null,
   "id": "8a1f09f7-d4c4-4f52-bbb9-2285cfb0a79e",
   "metadata": {},
   "outputs": [],
   "source": [
    "200/160*120"
   ]
  },
  {
   "cell_type": "code",
   "execution_count": null,
   "id": "9262e9ce-2e7f-43cb-8dea-ef37ab652bbd",
   "metadata": {},
   "outputs": [],
   "source": [
    "176*200/160"
   ]
  },
  {
   "cell_type": "code",
   "execution_count": null,
   "id": "57d444fa-2108-48d8-b9de-134dbd0638b9",
   "metadata": {},
   "outputs": [],
   "source": [
    "60*200/160"
   ]
  },
  {
   "cell_type": "code",
   "execution_count": null,
   "id": "6c480b9e-23b3-4f6a-92c9-0990020b90de",
   "metadata": {},
   "outputs": [],
   "source": [
    "494083/43"
   ]
  },
  {
   "cell_type": "code",
   "execution_count": null,
   "id": "ff4accd7-b0e9-4c29-80f2-b32d8cd15c4a",
   "metadata": {},
   "outputs": [],
   "source": [
    "132377/18"
   ]
  },
  {
   "cell_type": "code",
   "execution_count": null,
   "id": "adddfc27-ee15-46c5-90a2-5c9bc5dd0d4d",
   "metadata": {},
   "outputs": [],
   "source": [
    "from tonic_accent import fill_word_index_dict_from_html_files\n",
    "from time import time\n",
    "\n",
    "ti = time()\n",
    "word_dict = {}\n",
    "fill_word_index_dict_from_html_files(word_dict)\n",
    "tf = time()\n",
    "print(tf-ti)"
   ]
  },
  {
   "cell_type": "code",
   "execution_count": null,
   "id": "8a49f843-c3ea-4e02-bdac-424e10251504",
   "metadata": {},
   "outputs": [],
   "source": [
    "word_dict[\"cabo\"]"
   ]
  },
  {
   "cell_type": "code",
   "execution_count": null,
   "id": "3f75efa9-44d9-4db3-b539-53dc5ece5ee9",
   "metadata": {},
   "outputs": [],
   "source": [
    "import os\n",
    "import unicodedata\n",
    "\n",
    "def normalize_filename(filename):\n",
    "    \"\"\"Convertit le nom de fichier en NFC (forme composée) pour éviter les erreurs sur macOS.\"\"\"\n",
    "    return unicodedata.normalize('NFC', filename)\n",
    "\n"
   ]
  },
  {
   "cell_type": "code",
   "execution_count": null,
   "id": "acedae18-1cf2-4365-9e84-e8cc23c6a344",
   "metadata": {},
   "outputs": [],
   "source": [
    "import os\n",
    "import zipfile\n",
    "\n",
    "def get_all_files_in_directory(directory):\n",
    "    \"\"\"Retourne une liste de tous les fichiers dans un répertoire (y compris sous-dossiers).\"\"\"\n",
    "    file_list = []\n",
    "    for root, _, files in os.walk(directory):\n",
    "        for file in files:\n",
    "            relative_path = os.path.relpath(os.path.join(root, file), directory)\n",
    "            file_list.append(normalize_filename(relative_path.replace(\"\\\\\", \"/\")))  # Normalisation des chemins\n",
    "    return set(file_list)\n"
   ]
  },
  {
   "cell_type": "code",
   "execution_count": null,
   "id": "5b3228fb-5607-4250-9ae3-0756e8c24f44",
   "metadata": {},
   "outputs": [],
   "source": [
    "\n",
    "def get_dirname(number):\n",
    "    return \"/Volumes/Public/Backup Google Photo/takeout-20250223T083631Z-\" + str(number).zfill(3)\n",
    "\n",
    "\n",
    "def get_zipname(number):\n",
    "    return \"/Volumes/Public/Backup Google Photo/takeout-20250223T083631Z-\" + str(number).zfill(3) + \".zip\"\n"
   ]
  },
  {
   "cell_type": "code",
   "execution_count": null,
   "id": "6790f7ab-fd52-4004-b80c-718bb1945670",
   "metadata": {},
   "outputs": [],
   "source": [
    "def get_files_in_zip(zip_path):\n",
    "    \"\"\"Retourne une liste de tous les fichiers contenus dans une archive ZIP.\"\"\"\n",
    "    with zipfile.ZipFile(zip_path, 'r') as zip_ref:\n",
    "        normalized_zip_files = {normalize_filename(f) for f in zip_ref.namelist()}\n",
    "        return normalized_zip_files  # Liste des fichiers dans l'archive\n"
   ]
  },
  {
   "cell_type": "code",
   "execution_count": null,
   "id": "6a5a2704-c4b9-4570-b8c3-6fe25b66fe61",
   "metadata": {},
   "outputs": [],
   "source": [
    "for k in range(1,33):\n",
    "    zip_files = get_files_in_zip(get_zipname(k))\n",
    "    dir_files = get_all_files_in_directory(get_dirname(k))\n",
    "    print(f\"Pour l'archive {k}, la différence avec le directoire est : {len(zip_files - dir_files)}\")"
   ]
  },
  {
   "cell_type": "code",
   "execution_count": null,
   "id": "35ea47b9-fd7f-42e7-8269-3c5cc6386714",
   "metadata": {},
   "outputs": [],
   "source": [
    "for k in [8, 9]:\n",
    "    zip_files = get_files_in_zip(get_zipname(k))\n",
    "    dir_files = get_all_files_in_directory(get_dirname(k))\n",
    "    print(\"zip - dir\", zip_files - dir_files)\n",
    "    print(\"----------\")\n",
    "    print(\"dir - zip\", dir_files - zip_files)"
   ]
  },
  {
   "cell_type": "code",
   "execution_count": null,
   "id": "5018a178-10a7-445d-ab5d-cb300e43306f",
   "metadata": {},
   "outputs": [],
   "source": [
    "len(dir_files -zip_files), len(zip_files - dir_files)"
   ]
  },
  {
   "cell_type": "code",
   "execution_count": null,
   "id": "621b4565-8923-45b1-b0f6-c1ff5a8b6792",
   "metadata": {},
   "outputs": [],
   "source": []
  },
  {
   "cell_type": "code",
   "execution_count": null,
   "id": "f0fe9f03-184e-4995-9a31-337ce25e59aa",
   "metadata": {},
   "outputs": [],
   "source": [
    "z = 'Takeout/Google\\xa0Photos/Photos from 2011/premier légumes d_Elena.mov.supplemental-meta.json'\n",
    "d = 'Takeout/Google\\xa0Photos/Photos from 2011/premier légumes d_Elena.mov.supplemental-meta.json'\n",
    "d == z\n",
    "\n",
    "for k, cz in enumerate(z):\n",
    "    cd = d[k]\n",
    "    if cd != cz:\n",
    "        print(k, cz, cd)"
   ]
  },
  {
   "cell_type": "code",
   "execution_count": null,
   "id": "55be8258-1d94-4330-b807-ab48dbbd2a01",
   "metadata": {},
   "outputs": [],
   "source": [
    "ord(z[49]), ord(d[49])"
   ]
  },
  {
   "cell_type": "code",
   "execution_count": null,
   "id": "7b9e8474-0dd5-46d7-b1f0-b2c5d397bdc8",
   "metadata": {},
   "outputs": [],
   "source": [
    "zip_files = get_files_in_zip(get_zipname(32))\n",
    "len(zip_files)"
   ]
  },
  {
   "cell_type": "code",
   "execution_count": null,
   "id": "450fe0a5-ab9c-418b-9ae9-5962dda89432",
   "metadata": {},
   "outputs": [],
   "source": [
    "len(zip_files - dir_files)"
   ]
  },
  {
   "cell_type": "code",
   "execution_count": null,
   "id": "c3279961-33b4-4616-96d3-fbc1358dcf08",
   "metadata": {},
   "outputs": [],
   "source": [
    "zip_files - dir_files"
   ]
  },
  {
   "cell_type": "code",
   "execution_count": null,
   "id": "4b6cbdaa-f49f-48ab-a15c-ed1ea9cb905e",
   "metadata": {},
   "outputs": [],
   "source": [
    "dir_files - zip_files"
   ]
  },
  {
   "cell_type": "code",
   "execution_count": null,
   "id": "477bf2ff-4b8d-4e86-94b9-5f026420a851",
   "metadata": {},
   "outputs": [],
   "source": [
    "\n",
    "for fn in (dir_files):\n",
    "    if fn.find(\"Vacances 2013 à\") != -1:\n",
    "              print(fn)"
   ]
  },
  {
   "cell_type": "code",
   "execution_count": null,
   "id": "86592931-9056-485b-be29-942ff35c0d6b",
   "metadata": {},
   "outputs": [],
   "source": [
    "#ord('à')\n",
    "'à' == 'à'\n",
    "ord('à')\n",
    "ord('à')"
   ]
  },
  {
   "cell_type": "code",
   "execution_count": null,
   "id": "3fcfaef5-2eb9-435f-819b-cfb2987cea34",
   "metadata": {},
   "outputs": [],
   "source": [
    "for fn in (dir_files - zip_files):\n",
    "    if fn.find(\"promenade à Riaz du 22.05.2011\") != -1:\n",
    "              print(fn)"
   ]
  },
  {
   "cell_type": "code",
   "execution_count": null,
   "id": "ebbeae4a-f5de-467f-8a45-20fbcf1978c9",
   "metadata": {},
   "outputs": [],
   "source": [
    "def compare_directory_and_zip(directory, zip_path):\n",
    "    \"\"\"Compare les fichiers d'un répertoire avec ceux d'une archive ZIP.\"\"\"\n",
    "    dir_files = get_all_files_in_directory(directory)\n",
    "    zip_files = get_files_in_zip(zip_path)\n",
    "\n",
    "    missing_files = dir_files - zip_files\n",
    "    extra_files = zip_files - dir_files\n",
    "\n",
    "    if not missing_files and not extra_files:\n",
    "        print(\"✅ Tous les fichiers du répertoire sont bien dans l'archive ZIP.\")\n",
    "    else:\n",
    "        if missing_files:\n",
    "            print(\"⚠️ Fichiers présents dans le répertoire mais absents de l'archive ZIP:\")\n",
    "            for file in missing_files:\n",
    "                print(f\"  - {file}\")\n",
    "        if extra_files:\n",
    "            print(\"ℹ️ Fichiers présents dans l'archive ZIP mais absents du répertoire:\")\n",
    "            for file in extra_files:\n",
    "                print(f\"  - {file}\")\n"
   ]
  },
  {
   "cell_type": "code",
   "execution_count": null,
   "id": "39dac36f-8da3-41e9-a1a6-fa9c004202b4",
   "metadata": {},
   "outputs": [],
   "source": [
    "directory_path = \"/Volumes/Public/Backup Google Photo/takeout-20250223T083631Z-001\"\n",
    "zip_path = \"/Volumes/Public/Backup Google Photo/takeout-20250223T083631Z-001.zip\"\n",
    "\n",
    "compare_directory_and_zip(directory_path, zip_path)\n"
   ]
  },
  {
   "cell_type": "code",
   "execution_count": null,
   "id": "734268b1-5716-46a0-9a02-3a0fca8c6cb2",
   "metadata": {},
   "outputs": [],
   "source": [
    "94075.20+6000"
   ]
  },
  {
   "cell_type": "code",
   "execution_count": null,
   "id": "257e5c60-a21d-42a7-baa2-6f2340915133",
   "metadata": {},
   "outputs": [],
   "source": [
    "1102*0.65"
   ]
  },
  {
   "cell_type": "code",
   "execution_count": null,
   "id": "b0570ec1-e884-447b-a5ed-99ba204f5548",
   "metadata": {},
   "outputs": [],
   "source": [
    "810.55/65*100"
   ]
  },
  {
   "cell_type": "code",
   "execution_count": null,
   "id": "a0a89423-8b81-467c-a934-8ee7011c8948",
   "metadata": {},
   "outputs": [],
   "source": [
    "1102/29"
   ]
  },
  {
   "cell_type": "code",
   "execution_count": null,
   "id": "274ce459-1b0c-4d40-b2c9-4b4764757e33",
   "metadata": {},
   "outputs": [],
   "source": [
    "1247/29"
   ]
  },
  {
   "cell_type": "code",
   "execution_count": null,
   "id": "c1d560af-f490-43b2-ae69-315837123d9b",
   "metadata": {},
   "outputs": [],
   "source": [
    "import deepl"
   ]
  },
  {
   "cell_type": "code",
   "execution_count": null,
   "id": "ad97bea1-c3cc-4a53-808a-39a7e52b9104",
   "metadata": {},
   "outputs": [],
   "source": [
    "auth_key = \"e904549c-e8c9-4fc4-bb0e-1323807bb240:fx\""
   ]
  },
  {
   "cell_type": "code",
   "execution_count": null,
   "id": "edd91cc4-9d4d-4eaa-b422-e22d06304252",
   "metadata": {},
   "outputs": [],
   "source": [
    "translator = deepl.Translator(auth_key)"
   ]
  },
  {
   "cell_type": "code",
   "execution_count": null,
   "id": "a8bcfd03-a7dd-4a3f-b28d-b4262fd0ec75",
   "metadata": {},
   "outputs": [],
   "source": [
    "texte = \"\"\"-¡Vicenta! Ven que esto empieza ya.\n",
    "-No, voy a acostarme.\n",
    "\"\"\"\n"
   ]
  },
  {
   "cell_type": "code",
   "execution_count": null,
   "id": "8ec545b6-2299-432e-84e6-9e6073837d48",
   "metadata": {},
   "outputs": [],
   "source": [
    "# Traduction en français\n",
    "traduction = translator.translate_text(texte, source_lang=\"ES\", target_lang=\"FR\")\n",
    "\n",
    "# Affichage du résultat\n",
    "print(traduction.text)  "
   ]
  },
  {
   "cell_type": "code",
   "execution_count": null,
   "id": "a408a115-ee55-47b0-a5da-b9f86ad95231",
   "metadata": {},
   "outputs": [],
   "source": [
    "len(texte)"
   ]
  },
  {
   "cell_type": "code",
   "execution_count": null,
   "id": "a6db5139-7bea-4a46-bce4-a96bd81486b9",
   "metadata": {},
   "outputs": [],
   "source": [
    "len(traduction.text) "
   ]
  },
  {
   "cell_type": "code",
   "execution_count": null,
   "id": "9027b679-0bc0-44c4-bcc0-a4821f4cfe73",
   "metadata": {},
   "outputs": [],
   "source": [
    "import re\n",
    "def extract_subtitles(srt_filename):\n",
    "    f = open(srt_filename)\n",
    "    content = f.read()[:]\n",
    "    if content[0] == '\\ufeff':\n",
    "        content = content[1:]\n",
    "    blocks = re.split(r\"\\n\\s*\\n\", content.strip())\n",
    "    subtitles = {}\n",
    "    for block in blocks:\n",
    "        lines = block.split(\"\\n\")\n",
    "        if re.match(r\"^\\d+$\", lines[0]):\n",
    "            nr = lines.pop(0)\n",
    "        if re.match(r\"\\d{2}:\\d{2}:\\d{2},\\d{3} --> \\d{2}:\\d{2}:\\d{2},\\d{3}\", lines[0]):\n",
    "            timestamp = lines.pop(0)\n",
    "        subtitles[int(nr)] = [timestamp, \"\\n\".join(lines)]\n",
    "    return subtitles"
   ]
  },
  {
   "cell_type": "code",
   "execution_count": null,
   "id": "8be74063-350a-49ee-9ca1-0cd048cd0e02",
   "metadata": {},
   "outputs": [],
   "source": [
    "srt_filename = \"../Movies/Aquí No Hay Quien Viva 1/A1_t00.srt\"\n",
    "subtitles = extract_subtitles(srt_filename)"
   ]
  },
  {
   "cell_type": "code",
   "execution_count": null,
   "id": "d1a063ad-e74b-445c-86df-8bec5723ea77",
   "metadata": {},
   "outputs": [],
   "source": [
    "import deepl\n",
    "\n",
    "auth_key = \"e904549c-e8c9-4fc4-bb0e-1323807bb240:fx\"\n",
    "translator = deepl.Translator(auth_key)\n",
    "\n",
    "subtitles_fr = {}\n",
    "for nr in subtitles:\n",
    "    text = subtitles[nr][1]\n",
    "    print(text)\n",
    "    subtitles_fr[nr] = translator.translate_text(text, source_lang=\"ES\", target_lang=\"FR\")\n",
    "    print(nr)\n",
    "    print(subtitles_fr[nr])\n",
    "\n",
    "    "
   ]
  },
  {
   "cell_type": "code",
   "execution_count": null,
   "id": "dc027ffe-35a1-48ce-b3ac-73fe5f00c0a1",
   "metadata": {},
   "outputs": [],
   "source": [
    "srt_filename_fr = \"../Movies/Aquí No Hay Quien Viva 1/A1_t00_fr.srt\"\n",
    "f = open(srt_filename_fr, \"w\")\n",
    "\n",
    "for nr in subtitles_fr:\n",
    "    f.write(str(nr) + \"\\n\")\n",
    "    f.write(subtitles[nr][0] + \"\\n\")\n",
    "    f.write(subtitles_fr[nr].text + \"\\n\")\n",
    "    f.write(\"\\n\")\n",
    "f.close()"
   ]
  },
  {
   "cell_type": "code",
   "execution_count": null,
   "id": "e166a0ec-dedd-41ee-9284-a7381ac39d66",
   "metadata": {},
   "outputs": [],
   "source": [
    "es_text_filename = \"../Movies/Aquí No Hay Quien Viva 1/A1_t00_es.txt\"\n",
    "f = open(es_text_filename, \"w\")\n",
    "\n",
    "for k in subtitles:\n",
    "    f.write(subtitles[k][1] + \"\\n\")\n",
    "f.close()"
   ]
  },
  {
   "cell_type": "code",
   "execution_count": null,
   "id": "d0ed799a-8c35-47d9-9d5c-a118a05d2033",
   "metadata": {},
   "outputs": [],
   "source": [
    "import re\n",
    "import string\n",
    "import os\n",
    "\n",
    "punctuation = string.punctuation+'¿¡“”…'\n",
    "\n",
    "def get_words(sentence):\n",
    "    return re.sub('['+ punctuation +']', ' ', sentence).split()\n",
    "\n",
    "f = open(es_text_filename)\n",
    "text = f.read()\n",
    "words = get_words(text)"
   ]
  },
  {
   "cell_type": "code",
   "execution_count": null,
   "id": "23fa528c-38b5-4224-b331-996da90c4211",
   "metadata": {},
   "outputs": [],
   "source": [
    "type(words)"
   ]
  },
  {
   "cell_type": "code",
   "execution_count": null,
   "id": "59a2b00c-1c84-4b69-8db3-fcfb7b93e535",
   "metadata": {},
   "outputs": [],
   "source": [
    "len(words)"
   ]
  },
  {
   "cell_type": "code",
   "execution_count": null,
   "id": "9b8d81d3-6dfe-46d2-89df-88120914cb76",
   "metadata": {},
   "outputs": [],
   "source": [
    "from tonic_accent import get_tonic_accent_word_dict"
   ]
  },
  {
   "cell_type": "code",
   "execution_count": null,
   "id": "018d2bee-b8b3-42cc-ac11-ef7668eb35ff",
   "metadata": {},
   "outputs": [],
   "source": [
    "word_dict = get_tonic_accent_word_dict()"
   ]
  },
  {
   "cell_type": "code",
   "execution_count": null,
   "id": "df0ef929-be79-420c-abb5-6b089979411c",
   "metadata": {},
   "outputs": [],
   "source": [
    "f.close()\n",
    "len(word_dict)"
   ]
  },
  {
   "cell_type": "code",
   "execution_count": null,
   "id": "77bac316-8694-4ace-af60-c0bb958bba34",
   "metadata": {},
   "outputs": [],
   "source": [
    "f = open(\"../Movies/Aquí No Hay Quien Viva 1/A1_t00_es_new_words.txt\", \"w\")"
   ]
  },
  {
   "cell_type": "code",
   "execution_count": null,
   "id": "31d64fc4-8898-42cc-952e-9fa6d7ff40a0",
   "metadata": {},
   "outputs": [],
   "source": [
    "for word in words:\n",
    "    w = word.lower()\n",
    "    if not w in word_dict:\n",
    "        word_dict[w] = [(w, False)]\n",
    "        f.write(word + \"\\n\")\n",
    "f.close()"
   ]
  },
  {
   "cell_type": "code",
   "execution_count": null,
   "id": "ef394e93-9149-4a37-a864-00930cd5509a",
   "metadata": {},
   "outputs": [],
   "source": [
    "len(word_dict)"
   ]
  },
  {
   "cell_type": "code",
   "execution_count": null,
   "id": "7a72ad26-ad2a-4ede-b110-501d2fedb415",
   "metadata": {},
   "outputs": [],
   "source": [
    "(14280 - (7008 + 2856))"
   ]
  },
  {
   "cell_type": "code",
   "execution_count": null,
   "id": "29b62f15-8b83-4439-882e-757570c39759",
   "metadata": {},
   "outputs": [],
   "source": [
    "111.35+ (523.10*4)"
   ]
  },
  {
   "cell_type": "code",
   "execution_count": null,
   "id": "7b304271-0626-4da5-bd75-b32a3a9dd905",
   "metadata": {},
   "outputs": [],
   "source": [
    "from subtitles import get_es_and_fr_subtitles"
   ]
  },
  {
   "cell_type": "code",
   "execution_count": null,
   "id": "eab6a7a1-2b9b-485c-9df4-04a978a548e0",
   "metadata": {},
   "outputs": [],
   "source": [
    "get_es_and_fr_subtitles(1)"
   ]
  },
  {
   "cell_type": "code",
   "execution_count": null,
   "id": "d692b182-0b19-401c-ac1e-5d0d5cfcc733",
   "metadata": {},
   "outputs": [],
   "source": [
    "from datetime import time"
   ]
  },
  {
   "cell_type": "code",
   "execution_count": null,
   "id": "2ad4f0ea-8edc-425e-8e6d-d2206614c6cc",
   "metadata": {},
   "outputs": [],
   "source": [
    "dir(time)"
   ]
  },
  {
   "cell_type": "code",
   "execution_count": null,
   "id": "424ef366-f8bd-4997-b918-c7bc0b036493",
   "metadata": {},
   "outputs": [],
   "source": [
    "from sqlalchemy import create_engine, Column, Integer, String, Text, Time\n",
    "from sqlalchemy.orm import declarative_base\n",
    "from datetime import time\n",
    "\n",
    "Base = declarative_base()\n",
    "\n",
    "class Subtitle(Base):\n",
    "    __tablename__ = \"subtitles\"\n",
    "    id = Column(Integer, primary_key=True)\n",
    "    show_name = Column(String, nullable=False)\n",
    "    episode = Column(String, nullable=False)\n",
    "    start_time = Column(Time, nullable=False)  # Temps de début\n",
    "    end_time = Column(Time, nullable=False)    # Temps de fin\n",
    "    spanish_text = Column(Text, nullable=False)\n",
    "    french_text = Column(Text, nullable=True)\n",
    "\n",
    "# Création de la base de données\n",
    "engine = create_engine(\"sqlite:///subtitles.db\", echo=True)\n",
    "Base.metadata.create_all(engine)\n"
   ]
  },
  {
   "cell_type": "code",
   "execution_count": null,
   "id": "7b0283bf-046f-4400-98cf-6c044fcfe935",
   "metadata": {},
   "outputs": [],
   "source": [
    "Time"
   ]
  },
  {
   "cell_type": "code",
   "execution_count": null,
   "id": "d40c703d-064d-4e6a-99be-f6349bc936e8",
   "metadata": {},
   "outputs": [],
   "source": [
    "show_name = \"Aquí no hay quien viva\"\n",
    "season = 1\n",
    "episode = \"Érase una mudanza\"\n",
    "with Session(engine) as session:\n",
    "    for nr in subtitles:\n",
    "        subtitle = Subtitle(\n",
    "            show_name=show_name,\n",
    "    episode=episode,\n",
    "    start_time=start_time,\n",
    "    end_time=end_time,\n",
    "    spanish_text=spanish_text,\n",
    "    french_text=french_text\n",
    ")\n",
    "        text = subtitles[nr][1]\n",
    "        print(text)\n",
    "        subtitles_fr[nr] = translator.translate_text(text, source_lang=\"ES\", target_lang=\"FR\")\n",
    "    print(nr)\n",
    "    print(subtitles_fr[nr])\n",
    "\n",
    "  "
   ]
  },
  {
   "cell_type": "code",
   "execution_count": null,
   "id": "9ef815a9-791b-4660-aaa5-4d43a1b7bfe2",
   "metadata": {},
   "outputs": [],
   "source": [
    "import os\n"
   ]
  },
  {
   "cell_type": "code",
   "execution_count": null,
   "id": "54e4622c-f1be-48e9-84a0-74fdb1980185",
   "metadata": {},
   "outputs": [],
   "source": [
    "os.listdir(\"Movies/Aquí No Hay Quien Viva 1\")"
   ]
  },
  {
   "cell_type": "code",
   "execution_count": null,
   "id": "3c3fa5b8-c7e1-4294-9bb6-7d950e67ed8d",
   "metadata": {},
   "outputs": [],
   "source": [
    "ord(\"|\"), ord(\"<\")"
   ]
  },
  {
   "cell_type": "code",
   "execution_count": null,
   "id": "3bf7f29d-8ee4-4b70-9df9-c0ada619550a",
   "metadata": {},
   "outputs": [],
   "source": [
    "ord(\"➡️\")"
   ]
  },
  {
   "cell_type": "code",
   "execution_count": null,
   "id": "d28d5723-a8c8-4dfa-9dd8-49eef1bd48a3",
   "metadata": {},
   "outputs": [],
   "source": [
    "import emoji"
   ]
  },
  {
   "cell_type": "code",
   "execution_count": null,
   "id": "5533ec20-2b88-4153-8d11-385d41122628",
   "metadata": {},
   "outputs": [],
   "source": [
    "%pip install emoji"
   ]
  },
  {
   "cell_type": "code",
   "execution_count": null,
   "id": "21d647a7-3ace-4977-af03-6c99a06d4be9",
   "metadata": {},
   "outputs": [],
   "source": [
    "import emoji\n",
    "import unicodedata\n",
    "\n",
    "icone = \"⬅️\"\n",
    "nom_emoji = emoji.demojize(icone)\n",
    "nom_unicode = unicodedata.name(icone)\n",
    "\n",
    "print(f\"Nom emoji: {nom_emoji}\")\n",
    "print(f\"Nom Unicode: {nom_unicode}\")\n",
    "\n",
    "# Recherche du code Unicode (U+2B05)"
   ]
  },
  {
   "cell_type": "code",
   "execution_count": null,
   "id": "e318bbe3-5803-4e2a-8a08-6fe6baef3029",
   "metadata": {},
   "outputs": [],
   "source": [
    "nom_emoji"
   ]
  },
  {
   "cell_type": "code",
   "execution_count": null,
   "id": "afed1e23-1661-4c76-8e50-d0d08d1e1163",
   "metadata": {},
   "outputs": [],
   "source": [
    "icone = \"⬅️\"\n",
    "\n",
    "points_code = [ord(caractere) for caractere in icone]\n",
    "codes_unicode = [f\"U+{point:04X}\" for point in points_code]\n",
    "\n",
    "print(f\"Codes Unicode: {codes_unicode}\")"
   ]
  },
  {
   "cell_type": "code",
   "execution_count": null,
   "id": "450f11b6-5c2e-4204-bef5-a78d6f4c567f",
   "metadata": {},
   "outputs": [],
   "source": [
    "from main_menu import MAIN_MENU"
   ]
  },
  {
   "cell_type": "code",
   "execution_count": null,
   "id": "66cbb487-cfee-4d78-8d62-ec85d5d650e3",
   "metadata": {},
   "outputs": [],
   "source": [
    "import main_menu"
   ]
  },
  {
   "cell_type": "code",
   "execution_count": null,
   "id": "32aeae07-2a6a-446d-92e3-af9150c4a7db",
   "metadata": {},
   "outputs": [],
   "source": [
    "dir(main_menu)"
   ]
  },
  {
   "cell_type": "code",
   "execution_count": null,
   "id": "a8cf4f41-3fd5-48ac-92e5-ffdf5627f599",
   "metadata": {},
   "outputs": [],
   "source": [
    "main_menu.MENU_ITEMS"
   ]
  },
  {
   "cell_type": "code",
   "execution_count": null,
   "id": "392ab8d0-de47-4820-9872-945f515c4296",
   "metadata": {},
   "outputs": [],
   "source": [
    "for menu in main_menu.MENU_ITEMS:\n",
    "    print(menu)"
   ]
  },
  {
   "cell_type": "code",
   "execution_count": null,
   "id": "8ee26702-e7b9-48c5-8880-f4f9327c94b8",
   "metadata": {},
   "outputs": [],
   "source": [
    "main_menu.MENU_ITEMS[2]"
   ]
  },
  {
   "cell_type": "code",
   "execution_count": null,
   "id": "827b917d-806c-4c65-b06f-152c304a0a64",
   "metadata": {},
   "outputs": [],
   "source": [
    "(200/160)*176\n"
   ]
  },
  {
   "cell_type": "code",
   "execution_count": null,
   "id": "46efe8ea-33b3-4549-90ed-4a8ab431b372",
   "metadata": {},
   "outputs": [],
   "source": [
    "(200/160)*120\n"
   ]
  },
  {
   "cell_type": "code",
   "execution_count": null,
   "id": "4659ab96-7bd4-4a01-baef-afa2fe7fbe56",
   "metadata": {},
   "outputs": [],
   "source": [
    "(200/160)*60"
   ]
  },
  {
   "cell_type": "code",
   "execution_count": null,
   "id": "9a53237f-14d8-4a6a-b533-87c65a212873",
   "metadata": {},
   "outputs": [],
   "source": [
    "a=[1,2,3]"
   ]
  },
  {
   "cell_type": "code",
   "execution_count": null,
   "id": "7d629ec7-d919-404d-8918-6b0bfd332a07",
   "metadata": {},
   "outputs": [],
   "source": [
    "a.items()"
   ]
  },
  {
   "cell_type": "code",
   "execution_count": null,
   "id": "dc0616ca-af5a-448b-9980-9ffcf02e0442",
   "metadata": {},
   "outputs": [],
   "source": [
    "1103.50+180.00+664.85+408.00\n"
   ]
  },
  {
   "cell_type": "code",
   "execution_count": null,
   "id": "efb25525-86a4-4343-8c49-e0366b49d6c7",
   "metadata": {},
   "outputs": [],
   "source": [
    "type\n"
   ]
  },
  {
   "cell_type": "code",
   "execution_count": null,
   "id": "11b35d0e-076c-4c84-9cc2-74ec0d1a59a2",
   "metadata": {},
   "outputs": [],
   "source": [
    "import whisper\n"
   ]
  },
  {
   "cell_type": "code",
   "execution_count": null,
   "id": "dd9067e0-ec13-46d5-a2cc-99756b4db9ee",
   "metadata": {},
   "outputs": [],
   "source": [
    "input_path = \"A1_audio_es_end.srt\""
   ]
  },
  {
   "cell_type": "code",
   "execution_count": null,
   "id": "8d1f02f2-2a1c-4176-a304-0272fcd53f39",
   "metadata": {},
   "outputs": [],
   "source": [
    "def renumber_srt(input_path, output_path, start_index):\n",
    "    with open(input_path, 'r', encoding='utf-8') as f:\n",
    "        content = f.read()\n",
    "\n",
    "    blocks = content.strip().split('\\n\\n')\n",
    "    new_blocks = []\n",
    "    current_index = start_index\n",
    "\n",
    "    for block in blocks:\n",
    "        lines = block.split('\\n')\n",
    "        if len(lines) >= 2:\n",
    "            lines[0] = str(current_index)\n",
    "            current_index += 1\n",
    "            new_blocks.append('\\n'.join(lines))\n",
    "\n",
    "    with open(output_path, 'w', encoding='utf-8') as f:\n",
    "        f.write('\\n\\n'.join(new_blocks))\n",
    "\n",
    "# Exemple d'appel :\n",
    "renumber_srt(input_path, \"renum_fin.srt\", start_index=1123)\n"
   ]
  },
  {
   "cell_type": "code",
   "execution_count": null,
   "id": "f3834580-bf14-49b3-bd73-755cc19d3da0",
   "metadata": {},
   "outputs": [],
   "source": [
    "from subtitles import load_srt_subtitles"
   ]
  },
  {
   "cell_type": "code",
   "execution_count": null,
   "id": "f6700bc8-d91d-4fff-9ecb-4dbee45bcfb3",
   "metadata": {},
   "outputs": [],
   "source": [
    "load_srt_subtitles(\"renum_fin.srt\")"
   ]
  },
  {
   "cell_type": "code",
   "execution_count": null,
   "id": "badaa9a8-9d85-4cbf-966e-db81552548ca",
   "metadata": {},
   "outputs": [],
   "source": [
    "import re\n",
    "def load_srt_subtitles(srt_file):\n",
    "    with open(srt_file, \"r\", encoding=\"utf-8\") as f:\n",
    "        content = f.read()\n",
    "    \n",
    "    print(\"in load_srt_subtitles file : \", srt_file)\n",
    "\n",
    "    # Supprimer le BOM si présent\n",
    "    if content.startswith('\\ufeff'):\n",
    "        content = content[1:]\n",
    "\n",
    "    # Séparer les blocs de sous-titres\n",
    "    blocks = re.split(r\"\\n\\s*\\n\", content.strip())\n",
    "    subtitles = []\n",
    "\n",
    "    for block in blocks:\n",
    "        lines = block.strip().split(\"\\n\")\n",
    "        if len(lines) < 3:\n",
    "            continue  # Ignorer les blocs trop courts\n",
    "\n",
    "        index = lines[0].strip()\n",
    "        # La deuxième ligne est normalement le timestamp\n",
    "        timestamp_line = lines[1].strip()\n",
    "        \n",
    "        # Vérifier le format du timestamp (doit contenir \"-->\")\n",
    "        if \"-->\" not in timestamp_line:\n",
    "            continue\n",
    "\n",
    "        # Récupérer le texte\n",
    "        text = \"\\n\".join(lines[2:]).strip()\n",
    "\n",
    "        subtitles.append({\n",
    "            \"index\": index,\n",
    "            \"timestamp\": timestamp_line,\n",
    "            \"text\": text,\n",
    "        })\n",
    "\n",
    "    return subtitles\n"
   ]
  },
  {
   "cell_type": "code",
   "execution_count": null,
   "id": "f513bc93-7b43-4927-8f07-5a1643b74c05",
   "metadata": {},
   "outputs": [],
   "source": [
    "load_srt_subtitles(\"renum_fin.srt\")"
   ]
  },
  {
   "cell_type": "code",
   "execution_count": null,
   "id": "6920b5c0-3933-4f7c-aabf-74073a57f908",
   "metadata": {},
   "outputs": [],
   "source": []
  }
 ],
 "metadata": {
  "kernelspec": {
   "display_name": "Python 3 (ipykernel)",
   "language": "python",
   "name": "python3"
  },
  "language_info": {
   "codemirror_mode": {
    "name": "ipython",
    "version": 3
   },
   "file_extension": ".py",
   "mimetype": "text/x-python",
   "name": "python",
   "nbconvert_exporter": "python",
   "pygments_lexer": "ipython3",
   "version": "3.11.3"
  }
 },
 "nbformat": 4,
 "nbformat_minor": 5
}
