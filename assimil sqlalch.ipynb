{
 "cells": [
  {
   "cell_type": "code",
   "execution_count": 5,
   "id": "e23f6d74-4822-4f72-99ff-2799ff992e7b",
   "metadata": {},
   "outputs": [
    {
     "name": "stdout",
     "output_type": "stream",
     "text": [
      "Analyzing lesson 1 with length 521\n",
      "Analyzing lesson 2 with length 631\n",
      "Analyzing lesson 3 with length 706\n",
      "Analyzing lesson 4 with length 670\n",
      "Analyzing lesson 5 with length 807\n",
      "Analyzing lesson 6 with length 785\n",
      "Analyzing lesson 7 with length 751\n",
      "Analyzing lesson 8 with length 1117\n",
      "Analyzing lesson 9 with length 1059\n",
      "Analyzing lesson 10 with length 1064\n",
      "word_dict.index_ref : [(9, 5), (10, 2), (10, 3)]\n",
      "Analyzing lesson 11 with length 1216\n",
      "Analyzing lesson 12 with length 1104\n",
      "Analyzing lesson 13 with length 1187\n",
      "word_dict.index_ref : [(9, 5), (10, 2), (10, 3), (13, 6), (13, 14)]\n",
      "Analyzing lesson 14 with length 954\n",
      "word_dict.index_ref : [(9, 5), (10, 2), (10, 3), (13, 6), (13, 14), (14, 5)]\n",
      "Analyzing lesson 15 with length 1058\n",
      "Analyzing lesson 16 with length 1392\n",
      "Analyzing lesson 17 with length 1143\n",
      "Analyzing lesson 18 with length 1307\n",
      "Analyzing lesson 19 with length 1206\n",
      "Analyzing lesson 20 with length 1273\n",
      "Analyzing lesson 21 with length 1297\n",
      "Analyzing lesson 22 with length 1353\n",
      "Analyzing lesson 23 with length 1504\n",
      "Analyzing lesson 24 with length 1367\n",
      "Analyzing lesson 25 with length 1642\n",
      "Analyzing lesson 26 with length 1478\n",
      "word_dict.index_ref : [(9, 5), (10, 2), (10, 3), (13, 6), (13, 14), (14, 5), (26, 3), (26, 15)]\n",
      "Analyzing lesson 27 with length 1551\n",
      "Analyzing lesson 28 with length 1317\n",
      "word_dict.index_ref : [(9, 5), (10, 2), (10, 3), (13, 6), (13, 14), (14, 5), (26, 3), (26, 15), (28, 7), (28, 11)]\n",
      "Analyzing lesson 29 with length 1871\n",
      "Analyzing lesson 30 with length 1683\n",
      "Analyzing lesson 31 with length 1685\n",
      "Analyzing lesson 32 with length 1715\n",
      "Analyzing lesson 33 with length 2007\n",
      "Analyzing lesson 34 with length 1561\n",
      "Analyzing lesson 35 with length 1448\n",
      "word_dict.index_ref : [(9, 5), (10, 2), (10, 3), (13, 6), (13, 14), (14, 5), (26, 3), (26, 15), (28, 7), (28, 11), (35, 9)]\n",
      "Analyzing lesson 36 with length 1775\n",
      "Analyzing lesson 37 with length 1885\n",
      "Analyzing lesson 38 with length 1846\n",
      "Analyzing lesson 39 with length 1632\n",
      "Analyzing lesson 40 with length 1607\n",
      "Analyzing lesson 41 with length 1743\n",
      "Analyzing lesson 42 with length 1678\n",
      "Analyzing lesson 43 with length 1860\n",
      "Analyzing lesson 44 with length 1809\n",
      "Analyzing lesson 45 with length 1624\n",
      "Analyzing lesson 46 with length 1831\n",
      "Analyzing lesson 47 with length 1823\n",
      "Analyzing lesson 48 with length 1703\n",
      "Analyzing lesson 49 with length 1624\n",
      "Analyzing lesson 50 with length 1984\n",
      "Analyzing lesson 51 with length 2104\n",
      "Analyzing lesson 52 with length 1873\n",
      "Analyzing lesson 53 with length 2046\n",
      "Analyzing lesson 54 with length 2149\n",
      "Analyzing lesson 55 with length 2039\n",
      "Analyzing lesson 56 with length 1643\n",
      "Analyzing lesson 57 with length 2186\n",
      "Analyzing lesson 58 with length 2349\n",
      "Analyzing lesson 59 with length 2340\n",
      "Analyzing lesson 60 with length 2265\n",
      "Analyzing lesson 61 with length 2512\n",
      "Analyzing lesson 62 with length 2295\n",
      "Analyzing lesson 63 with length 1768\n",
      "Analyzing lesson 64 with length 2012\n",
      "Analyzing lesson 65 with length 2269\n",
      "Analyzing lesson 66 with length 2365\n",
      "Analyzing lesson 67 with length 2227\n",
      "Analyzing lesson 68 with length 2499\n",
      "Analyzing lesson 69 with length 2458\n",
      "Analyzing lesson 70 with length 1728\n",
      "Analyzing lesson 71 with length 2129\n",
      "Analyzing lesson 72 with length 2443\n",
      "Analyzing lesson 73 with length 2281\n",
      "Analyzing lesson 74 with length 2338\n",
      "Analyzing lesson 75 with length 2196\n",
      "Analyzing lesson 76 with length 2310\n",
      "Analyzing lesson 77 with length 1808\n",
      "Analyzing lesson 78 with length 2383\n",
      "word_dict.index_ref : [(9, 5), (10, 2), (10, 3), (13, 6), (13, 14), (14, 5), (26, 3), (26, 15), (28, 7), (28, 11), (35, 9), (78, 2), (78, 20)]\n",
      "Analyzing lesson 79 with length 2329\n",
      "Analyzing lesson 80 with length 2400\n",
      "word_dict.index_ref : [(9, 5), (10, 2), (10, 3), (13, 6), (13, 14), (14, 5), (26, 3), (26, 15), (28, 7), (28, 11), (35, 9), (78, 2), (78, 20), (80, 12)]\n",
      "Analyzing lesson 81 with length 2303\n",
      "Analyzing lesson 82 with length 2491\n",
      "Analyzing lesson 83 with length 2566\n",
      "Analyzing lesson 84 with length 2108\n",
      "word_dict.index_ref : [(9, 5), (10, 2), (10, 3), (13, 6), (13, 14), (14, 5), (26, 3), (26, 15), (28, 7), (28, 11), (35, 9), (78, 2), (78, 20), (80, 12), (84, 8)]\n",
      "Analyzing lesson 85 with length 2427\n",
      "Analyzing lesson 86 with length 2548\n",
      "Analyzing lesson 87 with length 2356\n",
      "Analyzing lesson 88 with length 2439\n",
      "word_dict.index_ref : [(9, 5), (10, 2), (10, 3), (13, 6), (13, 14), (14, 5), (26, 3), (26, 15), (28, 7), (28, 11), (35, 9), (78, 2), (78, 20), (80, 12), (84, 8), (88, 4), (88, 7)]\n",
      "Analyzing lesson 89 with length 2624\n",
      "Analyzing lesson 90 with length 2448\n",
      "word_dict.index_ref : [(9, 5), (10, 2), (10, 3), (13, 6), (13, 14), (14, 5), (26, 3), (26, 15), (28, 7), (28, 11), (35, 9), (78, 2), (78, 20), (80, 12), (84, 8), (88, 4), (88, 7), (90, 1)]\n",
      "Analyzing lesson 91 with length 2213\n",
      "Analyzing lesson 92 with length 2572\n",
      "Analyzing lesson 93 with length 2562\n"
     ]
    }
   ],
   "source": [
    "import os\n",
    "import re\n",
    "import pickle\n",
    "from pathlib import Path\n",
    "\n",
    "from sqlalchemy import create_engine, insert, select\n",
    "\n",
    "from lesson_parser import MyHTMLParser, get_words\n",
    "from tonic_accent import get_sentences\n",
    "\n",
    "db_directory = \"./\"\n",
    "word_dict_filename = \"test_tonic_accent_word_dict.db\"\n"
   ]
  },
  {
   "cell_type": "code",
   "execution_count": 6,
   "id": "34f3df8d-fd6f-4d3e-8ca5-258407810a30",
   "metadata": {},
   "outputs": [
    {
     "name": "stdout",
     "output_type": "stream",
     "text": [
      "Number of keys : 3190\n"
     ]
    }
   ],
   "source": [
    "from tonic_accent import global_word_dict as word_dict\n",
    "keys_number = 0\n",
    "for key in word_dict:\n",
    "    keys_number += 1\n",
    "print(f\"Number of keys : {keys_number}\")"
   ]
  },
  {
   "cell_type": "code",
   "execution_count": 7,
   "id": "c8501867-527f-4690-8c47-b30c5d865549",
   "metadata": {},
   "outputs": [],
   "source": [
    "from typing import List\n",
    "from typing import Optional\n",
    "from sqlalchemy.orm import Mapped\n",
    "from sqlalchemy.orm import mapped_column\n",
    "from sqlalchemy.orm import relationship\n",
    "from sqlalchemy.orm import DeclarativeBase\n",
    "\n",
    "class Base(DeclarativeBase):\n",
    "    pass\n",
    "\n",
    "class WordDict(Base):\n",
    "    __tablename__ = \"word_dict\"\n",
    "    id: Mapped[int] = mapped_column(primary_key=True)\n",
    "    word: Mapped[str] \n",
    "    word_struct: Mapped[str]\n",
    "    comment: Mapped[Optional[str]]\n",
    "    index: Mapped[str]\n",
    "    def __repr__(self) -> str:\n",
    "        return f\"WordDict(id={self.id!r}, word={self.word!r}, comment={self.comment!r})\"\n",
    "\n",
    "class Sentence(Base):\n",
    "    __tablename__ = \"sentences\"\n",
    "    id: Mapped[int] = mapped_column(primary_key=True)\n",
    "    sentence: Mapped[str] \n",
    "    comment: Mapped[Optional[str]]\n",
    "    lesson : Mapped[int]\n",
    "    line : Mapped[int]\n",
    "    def __repr__(self) -> str:\n",
    "        return f\"Sentence(id={self.id!r}, word={self.sentence!r}, lesson={lesson!r}, numero={numero!r}, comment={self.comment!r})\""
   ]
  },
  {
   "cell_type": "code",
   "execution_count": 8,
   "id": "c906aae3-3f7d-45d6-b5ca-90e8c514ba2e",
   "metadata": {},
   "outputs": [
    {
     "data": {
      "text/plain": [
       "'sqlite:///test_tonic_accent_word_dict.db'"
      ]
     },
     "execution_count": 8,
     "metadata": {},
     "output_type": "execute_result"
    }
   ],
   "source": [
    "db_name = Path(db_directory, word_dict_filename)\n",
    "db_url  = f\"sqlite:///{db_name}\"\n",
    "db_url"
   ]
  },
  {
   "cell_type": "code",
   "execution_count": 9,
   "id": "06cb4321-ea42-4e15-a2dc-e5e08d6252e6",
   "metadata": {},
   "outputs": [],
   "source": [
    "\n",
    "engine = create_engine(db_url, echo=False)"
   ]
  },
  {
   "cell_type": "code",
   "execution_count": 10,
   "id": "ba409a4c-face-4fff-a2aa-360b51f31b08",
   "metadata": {},
   "outputs": [],
   "source": [
    "metadata = Base.metadata"
   ]
  },
  {
   "cell_type": "code",
   "execution_count": 11,
   "id": "baedd3c5-abbc-4403-b294-79dab7f7d512",
   "metadata": {},
   "outputs": [],
   "source": [
    "metadata.create_all(engine)"
   ]
  },
  {
   "cell_type": "code",
   "execution_count": 12,
   "id": "95b028d4-0738-4a2f-9e4e-77feba3cb3be",
   "metadata": {},
   "outputs": [],
   "source": [
    "word_table = metadata.tables['word_dict']\n",
    "sentence_table = metadata.tables['sentences']"
   ]
  },
  {
   "cell_type": "code",
   "execution_count": 13,
   "id": "b041002a-84c2-4d97-a946-2ada2d24b11e",
   "metadata": {},
   "outputs": [
    {
     "data": {
      "text/plain": [
       "['S01',\n",
       " 'Felipe',\n",
       " 'guapo',\n",
       " 'dame',\n",
       " 'diez',\n",
       " 'lonchas',\n",
       " 'de',\n",
       " 'jamón',\n",
       " 'de',\n",
       " 'york',\n",
       " 'por',\n",
       " 'favor']"
      ]
     },
     "execution_count": 13,
     "metadata": {},
     "output_type": "execute_result"
    }
   ],
   "source": [
    "sentences = get_sentences(50)\n",
    "get_words(sentences[2])"
   ]
  },
  {
   "cell_type": "code",
   "execution_count": 20,
   "id": "259a8b60-6160-4704-b043-fcabf15d7324",
   "metadata": {},
   "outputs": [],
   "source": [
    "\n",
    "def fill_word_dict_table(word_dict):\n",
    "    with engine.connect() as conn:\n",
    "        for word in word_dict:\n",
    "            stmt = insert(word_table).values(word=word,\\\n",
    "                                             word_struct=pickle.dumps(word_dict[word].tonic_accent),\\\n",
    "                                             index = pickle.dumps(word_dict[word].index_ref))\n",
    "            result = conn.execute(stmt)\n",
    "        conn.commit()"
   ]
  },
  {
   "cell_type": "code",
   "execution_count": 21,
   "id": "c44a0ab5-412a-4b61-b86f-373195e76dd3",
   "metadata": {},
   "outputs": [],
   "source": [
    "fill_word_dict_table(word_dict)"
   ]
  },
  {
   "cell_type": "code",
   "execution_count": null,
   "id": "6210e309-9589-4093-938d-e4fa909492ca",
   "metadata": {},
   "outputs": [],
   "source": []
  },
  {
   "cell_type": "code",
   "execution_count": null,
   "id": "8b3cd1fb-98a6-45cc-ab8a-a8572c83586f",
   "metadata": {},
   "outputs": [],
   "source": []
  },
  {
   "cell_type": "code",
   "execution_count": null,
   "id": "7aa526a5-3415-42f1-b7f9-a37886c06445",
   "metadata": {},
   "outputs": [],
   "source": []
  },
  {
   "cell_type": "code",
   "execution_count": null,
   "id": "c155ebde-1423-4b8f-b434-303138afb77c",
   "metadata": {},
   "outputs": [],
   "source": []
  },
  {
   "cell_type": "code",
   "execution_count": null,
   "id": "fec14958-849b-415b-9b8a-068914ff8b59",
   "metadata": {},
   "outputs": [],
   "source": []
  },
  {
   "cell_type": "code",
   "execution_count": null,
   "id": "02c4aa0b-0fab-4919-929e-19501811beaf",
   "metadata": {},
   "outputs": [],
   "source": []
  },
  {
   "cell_type": "code",
   "execution_count": null,
   "id": "08e5dcdf-a988-4823-8860-3428a61b6509",
   "metadata": {},
   "outputs": [],
   "source": []
  },
  {
   "cell_type": "code",
   "execution_count": 46,
   "id": "4d1e48c3-0a0e-42b3-b139-23b2317b4384",
   "metadata": {},
   "outputs": [],
   "source": [
    "stmt = select(word_table).where(word_table.c.word == \"y\")"
   ]
  },
  {
   "cell_type": "code",
   "execution_count": 47,
   "id": "aa718e3e-83e0-4b68-a3df-90145a3fc5d4",
   "metadata": {},
   "outputs": [
    {
     "name": "stdout",
     "output_type": "stream",
     "text": [
      "word : y, structure : [('y', False)], index = [(1, 5), (2, 5), (4, 2), (4, 3), (4, 9), (5, 3), (5, 6), (7, 3), (7, 5), (7, 8), (8, 5), (8, 11), (9, 2), (9, 4), (9, 11), (9, 13), (10, 4), (10, 4), (10, 7), (12, 2), (12, 3), (12, 6), (12, 7), (12, 10), (13, 4), (13, 8), (14, 4), (14, 9), (15, 6), (15, 8), (16, 2), (16, 3), (16, 4), (16, 5), (16, 7), (16, 7), (16, 8), (16, 9), (16, 13), (16, 14), (16, 15), (17, 6), (18, 12), (19, 6), (21, 5), (21, 13), (22, 12), (23, 8), (23, 8), (23, 13), (24, 7), (24, 9), (24, 10), (25, 3), (25, 8), (25, 11), (25, 11), (25, 16), (25, 18), (26, 4), (27, 3), (27, 5), (27, 6), (27, 6), (27, 6), (27, 12), (27, 14), (28, 6), (28, 7), (28, 9), (28, 12), (29, 3), (29, 4), (29, 4), (29, 8), (29, 9), (29, 9), (29, 9), (29, 14), (29, 15), (29, 17), (29, 17), (29, 17), (30, 4), (30, 5), (30, 9), (30, 10), (30, 13), (30, 14), (31, 0), (31, 7), (31, 9), (31, 13), (32, 0), (32, 5), (32, 11), (33, 0), (33, 8), (33, 10), (33, 18), (33, 19), (34, 0), (34, 3), (34, 4), (34, 12), (35, 0), (35, 7), (35, 11), (36, 0), (36, 3), (36, 5), (36, 6), (36, 10), (36, 12), (36, 13), (36, 14), (36, 16), (37, 0), (37, 3), (37, 6), (37, 8), (37, 16), (37, 19), (38, 0), (38, 4), (38, 8), (38, 16), (39, 0), (39, 2), (39, 7), (39, 9), (40, 4), (40, 5), (40, 5), (40, 8), (40, 15), (41, 0), (41, 2), (41, 4), (41, 6), (41, 7), (41, 8), (42, 0), (42, 4), (42, 7), (42, 9), (42, 10), (42, 10), (42, 11), (42, 12), (43, 0), (43, 3), (43, 9), (43, 12), (43, 14), (43, 16), (44, 0), (44, 4), (44, 19), (45, 0), (45, 9), (45, 11), (45, 13), (46, 0), (46, 7), (46, 8), (46, 11), (46, 18), (46, 19), (47, 0), (47, 5), (47, 9), (47, 10), (47, 11), (47, 15), (48, 0), (48, 5), (48, 11), (49, 0), (49, 3), (49, 7), (49, 8), (49, 11), (49, 12), (50, 5), (50, 6), (50, 8), (50, 13), (50, 15), (50, 18), (50, 19), (51, 0), (51, 2), (51, 4), (51, 5), (51, 8), (51, 11), (51, 12), (51, 13), (51, 20), (52, 0), (52, 4), (52, 15), (52, 16), (52, 17), (53, 0), (53, 2), (53, 4), (53, 6), (53, 6), (53, 7), (53, 8), (53, 12), (53, 18), (54, 0), (54, 7), (54, 11), (54, 13), (54, 15), (54, 16), (54, 19), (55, 0), (55, 9), (56, 0), (56, 3), (56, 5), (56, 6), (56, 7), (56, 8), (56, 11), (56, 11), (57, 0), (57, 6), (57, 9), (57, 12), (57, 13), (57, 16), (57, 18), (58, 0), (58, 2), (58, 7), (58, 15), (58, 18), (58, 22), (59, 0), (59, 7), (59, 12), (59, 16), (60, 11), (60, 12), (60, 13), (60, 14), (61, 0), (61, 2), (61, 3), (61, 6), (61, 9), (61, 11), (61, 20), (61, 21), (61, 23), (62, 0), (62, 8), (62, 11), (62, 12), (62, 16), (62, 20), (62, 21), (63, 0), (63, 2), (63, 8), (63, 9), (63, 12), (63, 12), (63, 14), (64, 0), (64, 7), (64, 8), (64, 8), (64, 11), (64, 12), (64, 19), (65, 0), (65, 3), (65, 6), (65, 11), (65, 12), (65, 14), (65, 20), (65, 21), (66, 0), (66, 7), (66, 8), (66, 10), (66, 14), (67, 0), (67, 2), (67, 12), (67, 13), (67, 20), (68, 0), (68, 3), (68, 8), (68, 9), (68, 10), (68, 10), (68, 11), (68, 11), (68, 12), (68, 17), (68, 21), (68, 23), (69, 0), (69, 3), (69, 5), (69, 8), (69, 11), (69, 14), (69, 15), (69, 15), (69, 16), (69, 20), (69, 22), (70, 11), (70, 12), (70, 14), (71, 0), (71, 5), (71, 5), (71, 7), (72, 0), (72, 9), (72, 12), (72, 20), (73, 0), (73, 3), (73, 3), (73, 6), (73, 8), (73, 9), (73, 11), (73, 13), (73, 20), (73, 21), (74, 0), (74, 8), (74, 9), (75, 0), (75, 3), (75, 8), (75, 9), (75, 10), (75, 11), (75, 13), (76, 0), (76, 10), (76, 13), (76, 20), (76, 21), (77, 0), (77, 3), (77, 5), (77, 5), (77, 6), (77, 12), (77, 14), (78, 0), (78, 2), (78, 4), (78, 7), (78, 12), (78, 12), (78, 13), (78, 16), (78, 20), (78, 22), (79, 0), (79, 6), (79, 7), (79, 8), (79, 11), (79, 14), (79, 18), (79, 19), (79, 21), (80, 3), (80, 7), (80, 12), (80, 14), (80, 20), (80, 20), (81, 0), (81, 3), (81, 6), (81, 7), (81, 10), (81, 11), (82, 0), (82, 2), (82, 3), (82, 5), (82, 5), (82, 6), (82, 7), (82, 10), (82, 11), (82, 12), (82, 13), (82, 15), (82, 16), (82, 18), (82, 20), (83, 0), (83, 2), (83, 3), (83, 4), (83, 7), (83, 9), (83, 9), (83, 10), (83, 10), (83, 12), (83, 13), (83, 22), (84, 0), (84, 4), (84, 5), (84, 8), (84, 10), (84, 14), (85, 0), (85, 4), (85, 9), (85, 11), (85, 13), (85, 18), (86, 0), (86, 5), (86, 8), (86, 10), (86, 12), (86, 14), (86, 15), (87, 0), (87, 1), (87, 2), (87, 3), (87, 12), (87, 16), (87, 21), (88, 0), (88, 4), (88, 9), (88, 10), (88, 12), (88, 12), (88, 15), (88, 16), (88, 20), (88, 22), (89, 0), (89, 5), (89, 8), (89, 10), (89, 12), (89, 13), (89, 16), (89, 20), (89, 22), (89, 23), (90, 6), (90, 6), (90, 7), (90, 7), (90, 22), (91, 0), (91, 3), (91, 5), (91, 7), (91, 10), (91, 18), (91, 18), (92, 0), (92, 14), (92, 15), (92, 21), (92, 22), (93, 0), (93, 10), (93, 11), (93, 13), (93, 14), (93, 19), (93, 21)]\n"
     ]
    }
   ],
   "source": [
    "with engine.connect() as conn:\n",
    "    for row in conn.execute(stmt):\n",
    "        print(f\"word : {row.word}, structure : {pickle.loads(row.word_struct)}, index = {pickle.loads(row.index)}\")"
   ]
  },
  {
   "cell_type": "code",
   "execution_count": 15,
   "id": "d6b78c0e-3db5-45eb-8d92-a7694e8c6633",
   "metadata": {},
   "outputs": [
    {
     "name": "stdout",
     "output_type": "stream",
     "text": [
      "word : traduzca, structure : [('Tra', False), ('du', True), ('zca', False)]\n"
     ]
    }
   ],
   "source": [
    "stmt = select(word_table).where(word_table.c.word == \"traduzca\")\n",
    "with engine.connect() as conn:\n",
    "    for row in conn.execute(stmt):\n",
    "        print(f\"word : {row.word}, structure : {pickle.loads(row.word_struct)}\")"
   ]
  },
  {
   "cell_type": "code",
   "execution_count": 16,
   "id": "22fd701e-d68e-4575-bcc0-ce5f17a16bd8",
   "metadata": {},
   "outputs": [
    {
     "name": "stdout",
     "output_type": "stream",
     "text": [
      "word : y, structure : [('Y', False)]\n"
     ]
    }
   ],
   "source": [
    "stmt = select(word_table).where(word_table.c.word == \"y\")\n",
    "with engine.connect() as conn:\n",
    "    for row in conn.execute(stmt):\n",
    "        print(f\"word : {row.word}, structure : {pickle.loads(row.word_struct)}\")"
   ]
  },
  {
   "cell_type": "code",
   "execution_count": 21,
   "id": "8eae2439-d121-4bfa-a3e8-bdd1d84526be",
   "metadata": {},
   "outputs": [],
   "source": [
    "with engine.connect() as conn:\n",
    "    for k in range(79):\n",
    "        lesson = k + 1\n",
    "        sentences = get_sentences(lesson)\n",
    "        for line in range(len(sentences)):\n",
    "            stmt = insert(sentence_table).values(sentence=sentences[line], lesson=lesson, line=line)\n",
    "            conn.execute(stmt)\n",
    "    conn.commit()"
   ]
  },
  {
   "cell_type": "code",
   "execution_count": 24,
   "id": "30c3e730-e803-4567-b104-70934399e0b0",
   "metadata": {},
   "outputs": [
    {
     "name": "stdout",
     "output_type": "stream",
     "text": [
      "line : 0, sentence : N72-Lección setenta y dos\n",
      "line : 1, sentence : S00-TITLE-Ya que estoy\n",
      "line : 2, sentence : S01-Mírese en el espejo, ¿cómo se siente? \n",
      "line : 3, sentence : S02-Así así\n",
      "line : 4, sentence : S03-Es una prenda de entretiempo, de algodón. Le serviría tanto para primavera como para otoño. \n",
      "line : 5, sentence : S04-Me queda un poco estrecho de cintura, ¿no? \n",
      "line : 6, sentence : S05-A ver, muévase un poco, dese la vuelta. Perdiendo un kilito, le quedaría perfecto. \n",
      "line : 7, sentence : S06-Tengo que ponerme a dieta, tiene toda la razón. \n",
      "line : 8, sentence : S07-Es de rayas ¿Cree que me favorece? \n",
      "line : 9, sentence : S08-Le queda fabuloso, pero existe también liso y de cuadros. Yo que usted me llevaría los tres. \n",
      "line : 10, sentence : S09-Venga, un día es un día. Ah, ya que estoy, he visto que tiene sección de caballeros. \n",
      "line : 11, sentence : S10-Mi marido va siempre de traje, pero me gustaría algo más informal. Una americana sport, talla 50. \n",
      "line : 12, sentence : S11-¡Esta, con su corbata a juego! Encima está rebajada, y si lo necesita hacemos arreglos. \n",
      "line : 13, sentence : S12-¿Algo más, señora, algún detallito para su cuñada? \n",
      "line : 14, sentence : S13-Buena idea, deme esa blusa morada. Odia ese color. \n",
      "line : 15, sentence : S14-¿Qué talla usa? \n",
      "line : 16, sentence : S15-Una 40, pero búsqueme una 38\n",
      "line : 17, sentence : T00-TRANSLATE-Ejercicio 1 – Traduzca\n",
      "line : 18, sentence : T01-Esta americana de entretiempo le serviría para este otoño. \n",
      "line : 19, sentence : T02-Dese la vuelta delante del espejo ¿a que le queda bien? \n",
      "line : 20, sentence : T03-Ya que estoy, quisiera un traje de algodón, de rayas y con una corbata a juego. \n",
      "line : 21, sentence : T04-Esta prenda me queda perfecta, pero me gustaría algo más informal. \n",
      "line : 22, sentence : T05-Uso una 42, pero a veces una 40 me queda bastante bien. \n"
     ]
    }
   ],
   "source": [
    "stmt = select(sentence_table).where(sentence_table.c.lesson == 72)\n",
    "with engine.connect() as conn:\n",
    "    for row in conn.execute(stmt):\n",
    "        print(f\"line : {row.line}, sentence : {row.sentence}\")"
   ]
  },
  {
   "cell_type": "code",
   "execution_count": 38,
   "id": "a2064804-45cf-4943-bd4f-09cb4d89d86d",
   "metadata": {},
   "outputs": [
    {
     "name": "stdout",
     "output_type": "stream",
     "text": [
      "match\n"
     ]
    }
   ],
   "source": [
    "m = \"L[\\d]{3}\"\n",
    "p = re.compile(m)\n",
    "if p.match(\"L067.html\"):\n",
    "    print(\"match\")"
   ]
  },
  {
   "cell_type": "code",
   "execution_count": 41,
   "id": "fe6fd4de-1b83-4dd2-ab00-31463add4b1f",
   "metadata": {},
   "outputs": [
    {
     "data": {
      "text/plain": [
       "<re.Match object; span=(0, 4), match='L067'>"
      ]
     },
     "execution_count": 41,
     "metadata": {},
     "output_type": "execute_result"
    }
   ],
   "source": [
    "p.match(\"L067.html\")"
   ]
  },
  {
   "cell_type": "code",
   "execution_count": 44,
   "id": "d58007e1-e703-4a21-b971-a1643b47d46d",
   "metadata": {},
   "outputs": [
    {
     "data": {
      "text/plain": [
       "67"
      ]
     },
     "execution_count": 44,
     "metadata": {},
     "output_type": "execute_result"
    }
   ],
   "source": [
    "fn=\"L067.html\"\n",
    "int(fn[1:4])"
   ]
  },
  {
   "cell_type": "code",
   "execution_count": 45,
   "id": "21e584c3-1507-4757-a95f-7dcd52701824",
   "metadata": {},
   "outputs": [],
   "source": [
    "a=[1,2,3]"
   ]
  },
  {
   "cell_type": "code",
   "execution_count": 46,
   "id": "05d89818-39f7-447c-b012-79153e02c692",
   "metadata": {},
   "outputs": [
    {
     "data": {
      "text/plain": [
       "[1, 2, 3]"
      ]
     },
     "execution_count": 46,
     "metadata": {},
     "output_type": "execute_result"
    }
   ],
   "source": [
    "a"
   ]
  },
  {
   "cell_type": "code",
   "execution_count": 47,
   "id": "1008d3ff-17ef-4154-9807-b56008f30e71",
   "metadata": {},
   "outputs": [
    {
     "data": {
      "text/plain": [
       "['__add__',\n",
       " '__class__',\n",
       " '__class_getitem__',\n",
       " '__contains__',\n",
       " '__delattr__',\n",
       " '__delitem__',\n",
       " '__dir__',\n",
       " '__doc__',\n",
       " '__eq__',\n",
       " '__format__',\n",
       " '__ge__',\n",
       " '__getattribute__',\n",
       " '__getitem__',\n",
       " '__getstate__',\n",
       " '__gt__',\n",
       " '__hash__',\n",
       " '__iadd__',\n",
       " '__imul__',\n",
       " '__init__',\n",
       " '__init_subclass__',\n",
       " '__iter__',\n",
       " '__le__',\n",
       " '__len__',\n",
       " '__lt__',\n",
       " '__mul__',\n",
       " '__ne__',\n",
       " '__new__',\n",
       " '__reduce__',\n",
       " '__reduce_ex__',\n",
       " '__repr__',\n",
       " '__reversed__',\n",
       " '__rmul__',\n",
       " '__setattr__',\n",
       " '__setitem__',\n",
       " '__sizeof__',\n",
       " '__str__',\n",
       " '__subclasshook__',\n",
       " 'append',\n",
       " 'clear',\n",
       " 'copy',\n",
       " 'count',\n",
       " 'extend',\n",
       " 'index',\n",
       " 'insert',\n",
       " 'pop',\n",
       " 'remove',\n",
       " 'reverse',\n",
       " 'sort']"
      ]
     },
     "execution_count": 47,
     "metadata": {},
     "output_type": "execute_result"
    }
   ],
   "source": [
    "dir(a)"
   ]
  },
  {
   "cell_type": "code",
   "execution_count": 48,
   "id": "c6afd833-c3b0-4902-82ac-d3b69e4f1b31",
   "metadata": {},
   "outputs": [],
   "source": [
    "a.extend([7, 8, 9])"
   ]
  },
  {
   "cell_type": "code",
   "execution_count": 49,
   "id": "bc6d23f8-79e0-41b4-9183-722442098cd7",
   "metadata": {},
   "outputs": [
    {
     "data": {
      "text/plain": [
       "[1, 2, 3, 7, 8, 9]"
      ]
     },
     "execution_count": 49,
     "metadata": {},
     "output_type": "execute_result"
    }
   ],
   "source": [
    "a"
   ]
  },
  {
   "cell_type": "code",
   "execution_count": 51,
   "id": "8e5c88a8-9f2f-4a8b-af24-f27b4e904caa",
   "metadata": {},
   "outputs": [],
   "source": [
    "a.extend([\"toto\", \"titi\"])"
   ]
  },
  {
   "cell_type": "code",
   "execution_count": 52,
   "id": "7dcbbda5-05af-432e-8efe-206a98802485",
   "metadata": {},
   "outputs": [
    {
     "data": {
      "text/plain": [
       "[1, 2, 3, 7, 8, 9, 'toto', 'titi']"
      ]
     },
     "execution_count": 52,
     "metadata": {},
     "output_type": "execute_result"
    }
   ],
   "source": [
    "a"
   ]
  },
  {
   "cell_type": "code",
   "execution_count": 54,
   "id": "c54897e8-24ba-4192-bda3-93fd96a97fbf",
   "metadata": {},
   "outputs": [],
   "source": [
    "a.extend(\"toto\")"
   ]
  },
  {
   "cell_type": "code",
   "execution_count": 55,
   "id": "821cd98e-5e0c-4732-a9f8-06f16d4eb7fc",
   "metadata": {},
   "outputs": [
    {
     "data": {
      "text/plain": [
       "[1, 2, 3, 7, 8, 9, 'toto', 'titi', 't', 'o', 't', 'o']"
      ]
     },
     "execution_count": 55,
     "metadata": {},
     "output_type": "execute_result"
    }
   ],
   "source": [
    "a"
   ]
  },
  {
   "cell_type": "code",
   "execution_count": 56,
   "id": "6e5a0a4f-25b3-41cb-a817-a065b3122db2",
   "metadata": {},
   "outputs": [],
   "source": [
    "Word_properties = namedtuple(\"Word_properties\", \"tonic_accent index_ref\")"
   ]
  },
  {
   "cell_type": "code",
   "execution_count": 61,
   "id": "3adbaad5-5a2f-44dd-8d7b-193ca885938d",
   "metadata": {},
   "outputs": [],
   "source": [
    "a=Word_properties(\"dummy\", [(1, 15), (2, 4)])"
   ]
  },
  {
   "cell_type": "code",
   "execution_count": 62,
   "id": "35856c45-df41-4aaf-9cca-427cda5d32e4",
   "metadata": {},
   "outputs": [
    {
     "data": {
      "text/plain": [
       "Word_properties(tonic_accent='dummy', index_ref=[(1, 15), (2, 4)])"
      ]
     },
     "execution_count": 62,
     "metadata": {},
     "output_type": "execute_result"
    }
   ],
   "source": [
    "a"
   ]
  },
  {
   "cell_type": "code",
   "execution_count": 65,
   "id": "0f9b6278-a067-4a66-85c3-a6b6c3780f9f",
   "metadata": {},
   "outputs": [
    {
     "data": {
      "text/plain": [
       "Word_properties(tonic_accent='dummy', index_ref=[(1, 15), (2, 4), (34, 5), (45, 7), (78, 19)])"
      ]
     },
     "execution_count": 65,
     "metadata": {},
     "output_type": "execute_result"
    }
   ],
   "source": [
    "a.index_ref.extend([(34, 5), (45, 7), (78, 19)])\n",
    "a"
   ]
  },
  {
   "cell_type": "code",
   "execution_count": 60,
   "id": "55686bf2-3734-418f-b598-48c5c7a66ddb",
   "metadata": {},
   "outputs": [
    {
     "data": {
      "text/plain": [
       "Word_properties(tonic_accent='dummy', index_ref=[(1, 15), (2, 4), 'toto'])"
      ]
     },
     "execution_count": 60,
     "metadata": {},
     "output_type": "execute_result"
    }
   ],
   "source": [
    "a"
   ]
  },
  {
   "cell_type": "code",
   "execution_count": 66,
   "id": "175e5f71-6758-4a1e-9188-12627b41464d",
   "metadata": {},
   "outputs": [],
   "source": [
    "b = {1 : a, 2 : \"toto\"}"
   ]
  },
  {
   "cell_type": "code",
   "execution_count": 68,
   "id": "61541893-df59-49ed-9709-24b32c262809",
   "metadata": {},
   "outputs": [],
   "source": [
    "b[1].index_ref.extend([(15, 3), (23, 1)])"
   ]
  },
  {
   "cell_type": "code",
   "execution_count": 69,
   "id": "73da5963-631d-473d-ac6b-deb03b63ece6",
   "metadata": {},
   "outputs": [
    {
     "data": {
      "text/plain": [
       "{1: Word_properties(tonic_accent='dummy', index_ref=[(1, 15), (2, 4), (34, 5), (45, 7), (78, 19), (15, 3), (23, 1)]),\n",
       " 2: 'toto'}"
      ]
     },
     "execution_count": 69,
     "metadata": {},
     "output_type": "execute_result"
    }
   ],
   "source": [
    "b"
   ]
  },
  {
   "cell_type": "code",
   "execution_count": 70,
   "id": "d0b3e783-8d56-4dc0-ab14-b71dd9d4c829",
   "metadata": {},
   "outputs": [],
   "source": [
    "c = {3 : [(23, 5), (43, 4)], 4 : \"titi\"}"
   ]
  },
  {
   "cell_type": "code",
   "execution_count": 71,
   "id": "b5837951-e435-4906-aba0-b8e0d0d1e00f",
   "metadata": {},
   "outputs": [
    {
     "data": {
      "text/plain": [
       "{3: [(23, 5), (43, 4)], 4: 'titi'}"
      ]
     },
     "execution_count": 71,
     "metadata": {},
     "output_type": "execute_result"
    }
   ],
   "source": [
    "c"
   ]
  },
  {
   "cell_type": "code",
   "execution_count": 72,
   "id": "28bcf647-0157-4c29-9cc8-5be1096f8a94",
   "metadata": {},
   "outputs": [],
   "source": [
    "b[1].index_ref.extend(c[3])"
   ]
  },
  {
   "cell_type": "code",
   "execution_count": 73,
   "id": "e729e432-2cba-41e7-b1e9-17e4834d346f",
   "metadata": {},
   "outputs": [
    {
     "data": {
      "text/plain": [
       "{1: Word_properties(tonic_accent='dummy', index_ref=[(1, 15), (2, 4), (34, 5), (45, 7), (78, 19), (15, 3), (23, 1), (23, 5), (43, 4)]),\n",
       " 2: 'toto'}"
      ]
     },
     "execution_count": 73,
     "metadata": {},
     "output_type": "execute_result"
    }
   ],
   "source": [
    "b"
   ]
  },
  {
   "cell_type": "code",
   "execution_count": null,
   "id": "14df0781-3c3f-4f25-8735-a4c7bf8c61b6",
   "metadata": {},
   "outputs": [],
   "source": []
  }
 ],
 "metadata": {
  "kernelspec": {
   "display_name": "Python 3 (ipykernel)",
   "language": "python",
   "name": "python3"
  },
  "language_info": {
   "codemirror_mode": {
    "name": "ipython",
    "version": 3
   },
   "file_extension": ".py",
   "mimetype": "text/x-python",
   "name": "python",
   "nbconvert_exporter": "python",
   "pygments_lexer": "ipython3",
   "version": "3.11.3"
  }
 },
 "nbformat": 4,
 "nbformat_minor": 5
}
