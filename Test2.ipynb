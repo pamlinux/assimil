{
 "cells": [
  {
   "cell_type": "code",
   "execution_count": 10,
   "id": "e2d5ab37-9d59-4048-a672-d0ee122ffd4c",
   "metadata": {},
   "outputs": [],
   "source": [
    "lesson_nb = 54"
   ]
  },
  {
   "cell_type": "code",
   "execution_count": 12,
   "id": "c875da9d-a379-4b9f-8b79-f71cca0a39ad",
   "metadata": {},
   "outputs": [],
   "source": [
    "from translation import get_french_lesson"
   ]
  },
  {
   "cell_type": "code",
   "execution_count": 13,
   "id": "24fe5378-f434-4b19-8e8f-920447df3c93",
   "metadata": {},
   "outputs": [],
   "source": [
    "lesson, exercise1_correction = get_french_lesson(lesson_nb)"
   ]
  },
  {
   "cell_type": "code",
   "execution_count": 14,
   "id": "8ba3ac93-f4b7-476d-b1e0-10cb7613a439",
   "metadata": {},
   "outputs": [
    {
     "data": {
      "text/plain": [
       "(['Leçon cinquante-quatre',\n",
       "  'Un bon candidat',\n",
       "  \"Ça y est, j'ai fait (je fis) l'entretien !\",\n",
       "  \"Comment ça s'est passé (Que tel te fut)?\",\n",
       "  'Super bien (Phénoménal)! Je suis convaincu (de) que je vais (a) obtenir le poste.',\n",
       "  'Félicitations!',\n",
       "  'Ils ont été (Furent) très (la mer de) sympathiques: ils ont commencé (commencèrent) par me demander si je voulais fumer.',\n",
       "  \"Le piège classique ! Et qu'est-ce que tu as fait (que fis- tu)?\",\n",
       "  \"Tu sais bien que j'essaye (je suis en train d'essayer) d'arrêter (de laisser) le tabac\",\n",
       "  'mais il est impoli (de mauvaise éducation) de refuser une cigarette, non ?',\n",
       "  \"Je n'y crois pas (Ne me le peux croire)... Tu as fumé (fumas) ?\",\n",
       "  'Oui, et ensuite ils ont voulu (voulurent) savoir quel genre de presse je lis.',\n",
       "  \"Bien sûr (Clair), pour faire (former) partie d'une entreprise moderne, il est nécessaire d'être (de se maintenir) informé.\",\n",
       "  'Et que leur as-tu répondu (répondis-tu) ?',\n",
       "  \" Eh bien la vérité, que j'ai [l']habitude d'acheter (le) Marca tous les (chaque) matins.\",\n",
       "  \"Mon (Par) Dieu... Et que s'est-il passé (se passa-t-il) ?\",\n",
       "  \"Ils se sont mis (Se mirent) à rire et ils m'ont dit (me dirent) qu'ils n'avaient jamais vu un candidat aussi original que (comme) moi.\",\n",
       "  'Je te le dis: le poste est à moi (mien).'],\n",
       " [\"J'ai eu de la chance, l'entretien s'est très bien passé et j'ai obtenu le poste.\",\n",
       "  \"Je vais faire partie d'une entreprise très moderne.\",\n",
       "  \"Ils ont voulu me faire tomber dans un piège: ils m'ont demandé si j'avais envie de fumer.\",\n",
       "  \"Je vous en remercie. Je sais qu'il est impoli de refuser une cigarette mais je suis en train d'essayer d'arrêter le tabac.\",\n",
       "  'Je suis convaincu que tu as bien fait.'])"
      ]
     },
     "execution_count": 14,
     "metadata": {},
     "output_type": "execute_result"
    }
   ],
   "source": [
    "lesson, exercise1_correction"
   ]
  },
  {
   "cell_type": "code",
   "execution_count": 1,
   "id": "f271c1da-1590-4f87-9c70-a8a77b23b3f9",
   "metadata": {},
   "outputs": [],
   "source": [
    "from translation import get_list_of_translated_sentences_lesson_54"
   ]
  },
  {
   "cell_type": "code",
   "execution_count": 3,
   "id": "967ecd93-e17a-4c40-a8cb-6aa09eb4f8c3",
   "metadata": {},
   "outputs": [],
   "source": [
    "sentences = get_list_of_translated_sentences_lesson_54()"
   ]
  },
  {
   "cell_type": "code",
   "execution_count": 4,
   "id": "e0de6a27-2484-4b4b-8bc6-3c4345efe7bc",
   "metadata": {},
   "outputs": [
    {
     "data": {
      "text/plain": [
       "['Leçon cinquante-quatre',\n",
       " 'Un bon candidat',\n",
       " \"Ça y est, j'ai fait (je fis) l'entretien !\",\n",
       " \"Comment ça s'est passé (Que tel te fut)?\",\n",
       " 'Super bien (Phénoménal)! Je suis convaincu (de) que je vais (a) obtenir le poste.',\n",
       " 'Félicitations!',\n",
       " 'Ils ont été (Furent) très (la mer de) sympathiques: ils ont commencé (commencèrent) par me demander si je voulais fumer.',\n",
       " \"Le piège classique ! Et qu'est-ce que tu as fait (que fis- tu)?\",\n",
       " \"Tu sais bien que j'essaye (je suis en train d'essayer) d'arrêter (de laisser) le tabac\",\n",
       " 'mais il est impoli (de mauvaise éducation) de refuser une cigarette, non ?',\n",
       " \"Je n'y crois pas (Ne me le peux croire)... Tu as fumé (fumas) ?\",\n",
       " 'Oui, et ensuite ils ont voulu (voulurent) savoir quel genre de presse je lis.',\n",
       " \"Bien sûr (Clair), pour faire (former) partie d'une entreprise moderne, il est nécessaire d'être (de se maintenir) informé.\",\n",
       " 'Et que leur as-tu répondu (répondis-tu) ?',\n",
       " \" Eh bien la vérité, que j'ai [l']habitude d'acheter (le) Marca tous les (chaque) matins.\",\n",
       " \"Mon (Par) Dieu... Et que s'est-il passé (se passa-t-il) ?\",\n",
       " \"Ils se sont mis (Se mirent) à rire et ils m'ont dit (me dirent) qu'ils n'avaient jamais vu un candidat aussi original que (comme) moi.\",\n",
       " 'Je te le dis: le poste est à moi (mien).',\n",
       " \"J'ai eu de la chance, l'entretien s'est très bien passé et j'ai obtenu le poste.\",\n",
       " \"Je vais faire partie d'une entreprise très moderne.\",\n",
       " \"Ils ont voulu me faire tomber dans un piège: ils m'ont demandé si j'avais envie de fumer.\",\n",
       " \"Je vous en remercie. Je sais qu'il est impoli de refuser une cigarette mais je suis en train d'essayer d'arrêter le tabac.\",\n",
       " 'Je suis convaincu que tu as bien fait.']"
      ]
     },
     "execution_count": 4,
     "metadata": {},
     "output_type": "execute_result"
    }
   ],
   "source": [
    "sentences"
   ]
  },
  {
   "cell_type": "code",
   "execution_count": 8,
   "id": "9c377468-67a3-42c9-b692-0f46b1030076",
   "metadata": {},
   "outputs": [
    {
     "data": {
      "text/plain": [
       "['Leçon cinquante-quatre',\n",
       " 'Un bon candidat',\n",
       " \"Ça y est, j'ai fait (je fis) l'entretien !\",\n",
       " \"Comment ça s'est passé (Que tel te fut)?\",\n",
       " 'Super bien (Phénoménal)! Je suis convaincu (de) que je vais (a) obtenir le poste.',\n",
       " 'Félicitations!',\n",
       " 'Ils ont été (Furent) très (la mer de) sympathiques: ils ont commencé (commencèrent) par me demander si je voulais fumer.',\n",
       " \"Le piège classique ! Et qu'est-ce que tu as fait (que fis- tu)?\",\n",
       " \"Tu sais bien que j'essaye (je suis en train d'essayer) d'arrêter (de laisser) le tabac\",\n",
       " 'mais il est impoli (de mauvaise éducation) de refuser une cigarette, non ?',\n",
       " \"Je n'y crois pas (Ne me le peux croire)... Tu as fumé (fumas) ?\",\n",
       " 'Oui, et ensuite ils ont voulu (voulurent) savoir quel genre de presse je lis.',\n",
       " \"Bien sûr (Clair), pour faire (former) partie d'une entreprise moderne, il est nécessaire d'être (de se maintenir) informé.\",\n",
       " 'Et que leur as-tu répondu (répondis-tu) ?',\n",
       " \" Eh bien la vérité, que j'ai [l']habitude d'acheter (le) Marca tous les (chaque) matins.\",\n",
       " \"Mon (Par) Dieu... Et que s'est-il passé (se passa-t-il) ?\",\n",
       " \"Ils se sont mis (Se mirent) à rire et ils m'ont dit (me dirent) qu'ils n'avaient jamais vu un candidat aussi original que (comme) moi.\",\n",
       " 'Je te le dis: le poste est à moi (mien).']"
      ]
     },
     "execution_count": 8,
     "metadata": {},
     "output_type": "execute_result"
    }
   ],
   "source": [
    "lesson = sentences[:18]"
   ]
  },
  {
   "cell_type": "code",
   "execution_count": 9,
   "id": "1963d2e8-0c6e-4033-aebd-8fb50c7edd81",
   "metadata": {},
   "outputs": [
    {
     "data": {
      "text/plain": [
       "[\"J'ai eu de la chance, l'entretien s'est très bien passé et j'ai obtenu le poste.\",\n",
       " \"Je vais faire partie d'une entreprise très moderne.\",\n",
       " \"Ils ont voulu me faire tomber dans un piège: ils m'ont demandé si j'avais envie de fumer.\",\n",
       " \"Je vous en remercie. Je sais qu'il est impoli de refuser une cigarette mais je suis en train d'essayer d'arrêter le tabac.\",\n",
       " 'Je suis convaincu que tu as bien fait.']"
      ]
     },
     "execution_count": 9,
     "metadata": {},
     "output_type": "execute_result"
    }
   ],
   "source": [
    "exercise1_correction = sentences[18:]\n",
    "exercise1_correction"
   ]
  },
  {
   "cell_type": "code",
   "execution_count": 16,
   "id": "99be3525-c0bc-4b11-9477-ca27504b64e4",
   "metadata": {},
   "outputs": [],
   "source": [
    "import importlib\n",
    "lesson_nb = 55\n",
    "module = importlib.import_module(f\"lessons.L{str(lesson_nb).zfill(3)}\")"
   ]
  },
  {
   "cell_type": "code",
   "execution_count": 17,
   "id": "9365b1fd-4356-4138-b60b-d2dd647a9eb6",
   "metadata": {},
   "outputs": [
    {
     "data": {
      "text/plain": [
       "['__builtins__',\n",
       " '__cached__',\n",
       " '__doc__',\n",
       " '__file__',\n",
       " '__loader__',\n",
       " '__name__',\n",
       " '__package__',\n",
       " '__spec__',\n",
       " 'exercise1_correction',\n",
       " 'lesson']"
      ]
     },
     "execution_count": 17,
     "metadata": {},
     "output_type": "execute_result"
    }
   ],
   "source": [
    "dir(module)"
   ]
  },
  {
   "cell_type": "code",
   "execution_count": 25,
   "id": "f215c20d-21db-41ca-99e0-39bb252b2804",
   "metadata": {},
   "outputs": [
    {
     "data": {
      "text/plain": [
       "True"
      ]
     },
     "execution_count": 25,
     "metadata": {},
     "output_type": "execute_result"
    }
   ],
   "source": [
    "hasattr(module, 'exercise1_correction')"
   ]
  },
  {
   "cell_type": "code",
   "execution_count": 3,
   "id": "1d7595fb-7cb1-494c-b9e0-48eb8287cf86",
   "metadata": {},
   "outputs": [],
   "source": [
    "marked_sentences={'2': \"S01-<mark class='O' title='&#034;Anoche&#034; et non pas &#034;anteanoche&#034; qui signifie avant hier soir'>A<b>no</b>che</mark> <b>tu</b>ve un <b>sue</b>ño ex<b>tra</b>ño. \", '6': 'S05-¿Por qué? ¿Tú no hay <b>dí</b>as en que es<b>tás</b> can<b>sa</b>do del <b></b><b>trá</b>fico, del <b>rui</b>do y de los a<b>tas</b>cos? ', '8': \"S07-<mark class='E' title='&#034;quizás&#034;\\xa0et &#034;tal vez&#034; sont équivalents'>qui<b>zás</b></mark><b></b> <b>ha</b>ya <b>me</b>nos contamina<b>ción</b>, <b>pe</b>ro te a<b>bu</b>rres <b>co</b>mo <b>u</b>na <b>os</b>tra. \", '9': \"S08-Mi cu<b>ña</b>do de<b>cí</b>a lo <b>mis</b>mo que tú. Se <mark class='V' title='&#034;fue&#034; au lieu de &#034;iba&#034;'>fue</mark> a vi<b>vir</b> al <b>pue</b>blo y al <b>ca</b>bo de seis <b>me</b>ses vol<b>vió</b>. \", '11': \"S10-Pues, que yo <b>se</b>pa, <mark class='E' title='&#034;tú no te\\xa0pierdes\\xa0nunca&#034; au lieu &#034;tú\\xa0nunca te\\xa0pierdes&#034;'>tú no te <b>pier</b>des <b>nun</b>ca</mark> las <b>fies</b>tas de tu <b>pue</b>blo, ¿no? \", '14': \"S13-Ah, por <b>cier</b>to <mark class='S' title='&#034;el&#034; au lieu de &#034;mi&#034;'>el</mark> <b>je</b>fe no me son<b>rió</b>. \", '17': \"T02-Que yo <b>se</b>pa, <b>nun</b>ca te <mark class='V' title='&#034;has perdido&#034; au lieu &#034;perdies&#034;'>has per<b>di</b>do</mark> las <b>fies</b>tas de tu <b>pue</b>blo. \"}"
   ]
  },
  {
   "cell_type": "code",
   "execution_count": 4,
   "id": "a434d490-ee25-4e79-8780-c05a1af14274",
   "metadata": {},
   "outputs": [
    {
     "data": {
      "text/plain": [
       "{'2': \"S01-<mark class='O' title='&#034;Anoche&#034; et non pas &#034;anteanoche&#034; qui signifie avant hier soir'>A<b>no</b>che</mark> <b>tu</b>ve un <b>sue</b>ño ex<b>tra</b>ño. \",\n",
       " '6': 'S05-¿Por qué? ¿Tú no hay <b>dí</b>as en que es<b>tás</b> can<b>sa</b>do del <b></b><b>trá</b>fico, del <b>rui</b>do y de los a<b>tas</b>cos? ',\n",
       " '8': \"S07-<mark class='E' title='&#034;quizás&#034;\\xa0et &#034;tal vez&#034; sont équivalents'>qui<b>zás</b></mark><b></b> <b>ha</b>ya <b>me</b>nos contamina<b>ción</b>, <b>pe</b>ro te a<b>bu</b>rres <b>co</b>mo <b>u</b>na <b>os</b>tra. \",\n",
       " '9': \"S08-Mi cu<b>ña</b>do de<b>cí</b>a lo <b>mis</b>mo que tú. Se <mark class='V' title='&#034;fue&#034; au lieu de &#034;iba&#034;'>fue</mark> a vi<b>vir</b> al <b>pue</b>blo y al <b>ca</b>bo de seis <b>me</b>ses vol<b>vió</b>. \",\n",
       " '11': \"S10-Pues, que yo <b>se</b>pa, <mark class='E' title='&#034;tú no te\\xa0pierdes\\xa0nunca&#034; au lieu &#034;tú\\xa0nunca te\\xa0pierdes&#034;'>tú no te <b>pier</b>des <b>nun</b>ca</mark> las <b>fies</b>tas de tu <b>pue</b>blo, ¿no? \",\n",
       " '14': \"S13-Ah, por <b>cier</b>to <mark class='S' title='&#034;el&#034; au lieu de &#034;mi&#034;'>el</mark> <b>je</b>fe no me son<b>rió</b>. \",\n",
       " '17': \"T02-Que yo <b>se</b>pa, <b>nun</b>ca te <mark class='V' title='&#034;has perdido&#034; au lieu &#034;perdies&#034;'>has per<b>di</b>do</mark> las <b>fies</b>tas de tu <b>pue</b>blo. \"}"
      ]
     },
     "execution_count": 4,
     "metadata": {},
     "output_type": "execute_result"
    }
   ],
   "source": [
    "marked_sentences"
   ]
  },
  {
   "cell_type": "code",
   "execution_count": 5,
   "id": "c62f6a30-b7aa-48eb-ab8c-bcb80a0b102c",
   "metadata": {},
   "outputs": [
    {
     "data": {
      "text/plain": [
       "dict_keys(['2', '6', '8', '9', '11', '14', '17'])"
      ]
     },
     "execution_count": 5,
     "metadata": {},
     "output_type": "execute_result"
    }
   ],
   "source": [
    "marked_sentences.keys()"
   ]
  },
  {
   "cell_type": "code",
   "execution_count": 6,
   "id": "f2f66c85-0c9d-49c5-ad6c-b7c5ee0c1fc2",
   "metadata": {},
   "outputs": [],
   "source": [
    "from database import store_lesson_errors_dict"
   ]
  },
  {
   "cell_type": "code",
   "execution_count": 7,
   "id": "ae577158-9931-4385-b303-5b429e7543b9",
   "metadata": {},
   "outputs": [
    {
     "name": "stdout",
     "output_type": "stream",
     "text": [
      "---- 2 ------\n",
      "---- 6 ------\n",
      "---- 8 ------\n",
      "---- 9 ------\n",
      "---- 11 ------\n",
      "---- 14 ------\n",
      "---- 17 ------\n",
      "2024-09-11 15:24:26,966 INFO sqlalchemy.engine.Engine BEGIN (implicit)\n",
      "2024-09-11 15:24:26,969 INFO sqlalchemy.engine.Engine INSERT INTO lesson_sessions (lesson, date_time, errors_number) VALUES (?, ?, ?)\n",
      "2024-09-11 15:24:26,969 INFO sqlalchemy.engine.Engine [generated in 0.00083s] (57, '2024-09-11 15:24:26.952928', 7)\n",
      "2024-09-11 15:24:26,974 INFO sqlalchemy.engine.Engine INSERT INTO marked_sentences (sentence, comment, line, session_id) VALUES (?, ?, ?, ?) RETURNING id\n",
      "2024-09-11 15:24:26,974 INFO sqlalchemy.engine.Engine [generated in 0.00020s (insertmanyvalues) 1/7 (ordered; batch not supported)] (\"S01-<mark class='O' title='&#034;Anoche&#034; et non pas &#034;anteanoche&#034; qui signifie avant hier soir'>A<b>no</b>che</mark> <b>tu</b>ve un <b>sue</b>ño ex<b>tra</b>ño. \", None, '2', 14)\n",
      "2024-09-11 15:24:26,976 INFO sqlalchemy.engine.Engine INSERT INTO marked_sentences (sentence, comment, line, session_id) VALUES (?, ?, ?, ?) RETURNING id\n",
      "2024-09-11 15:24:26,977 INFO sqlalchemy.engine.Engine [insertmanyvalues 2/7 (ordered; batch not supported)] ('S05-¿Por qué? ¿Tú no hay <b>dí</b>as en que es<b>tás</b> can<b>sa</b>do del <b></b><b>trá</b>fico, del <b>rui</b>do y de los a<b>tas</b>cos? ', None, '6', 14)\n",
      "2024-09-11 15:24:26,977 INFO sqlalchemy.engine.Engine INSERT INTO marked_sentences (sentence, comment, line, session_id) VALUES (?, ?, ?, ?) RETURNING id\n",
      "2024-09-11 15:24:26,977 INFO sqlalchemy.engine.Engine [insertmanyvalues 3/7 (ordered; batch not supported)] (\"S07-<mark class='E' title='&#034;quizás&#034;\\xa0et &#034;tal vez&#034; sont équivalents'>qui<b>zás</b></mark><b></b> <b>ha</b>ya <b>me</b>nos contamina<b>ción</b>, <b>pe</b>ro te a<b>bu</b>rres <b>co</b>mo <b>u</b>na <b>os</b>tra. \", None, '8', 14)\n",
      "2024-09-11 15:24:26,978 INFO sqlalchemy.engine.Engine INSERT INTO marked_sentences (sentence, comment, line, session_id) VALUES (?, ?, ?, ?) RETURNING id\n",
      "2024-09-11 15:24:26,978 INFO sqlalchemy.engine.Engine [insertmanyvalues 4/7 (ordered; batch not supported)] (\"S08-Mi cu<b>ña</b>do de<b>cí</b>a lo <b>mis</b>mo que tú. Se <mark class='V' title='&#034;fue&#034; au lieu de &#034;iba&#034;'>fue</mark> a vi<b>vir</b> al <b>pue</b>blo y al <b>ca</b>bo de seis <b>me</b>ses vol<b>vió</b>. \", None, '9', 14)\n",
      "2024-09-11 15:24:26,978 INFO sqlalchemy.engine.Engine INSERT INTO marked_sentences (sentence, comment, line, session_id) VALUES (?, ?, ?, ?) RETURNING id\n",
      "2024-09-11 15:24:26,978 INFO sqlalchemy.engine.Engine [insertmanyvalues 5/7 (ordered; batch not supported)] (\"S10-Pues, que yo <b>se</b>pa, <mark class='E' title='&#034;tú no te\\xa0pierdes\\xa0nunca&#034; au lieu &#034;tú\\xa0nunca te\\xa0pierdes&#034;'>tú no te <b>pier</b>des <b>nun</b>ca</mark> las <b>fies</b>tas de tu <b>pue</b>blo, ¿no? \", None, '11', 14)\n",
      "2024-09-11 15:24:26,979 INFO sqlalchemy.engine.Engine INSERT INTO marked_sentences (sentence, comment, line, session_id) VALUES (?, ?, ?, ?) RETURNING id\n",
      "2024-09-11 15:24:26,979 INFO sqlalchemy.engine.Engine [insertmanyvalues 6/7 (ordered; batch not supported)] (\"S13-Ah, por <b>cier</b>to <mark class='S' title='&#034;el&#034; au lieu de &#034;mi&#034;'>el</mark> <b>je</b>fe no me son<b>rió</b>. \", None, '14', 14)\n",
      "2024-09-11 15:24:26,979 INFO sqlalchemy.engine.Engine INSERT INTO marked_sentences (sentence, comment, line, session_id) VALUES (?, ?, ?, ?) RETURNING id\n",
      "2024-09-11 15:24:26,979 INFO sqlalchemy.engine.Engine [insertmanyvalues 7/7 (ordered; batch not supported)] (\"T02-Que yo <b>se</b>pa, <b>nun</b>ca te <mark class='V' title='&#034;has perdido&#034; au lieu &#034;perdies&#034;'>has per<b>di</b>do</mark> las <b>fies</b>tas de tu <b>pue</b>blo. \", None, '17', 14)\n",
      "2024-09-11 15:24:26,980 INFO sqlalchemy.engine.Engine COMMIT\n"
     ]
    }
   ],
   "source": [
    "store_lesson_errors_dict(57, marked_sentences)"
   ]
  },
  {
   "cell_type": "code",
   "execution_count": 8,
   "id": "73ec5e98-1596-4447-91d2-f94bb1720b6a",
   "metadata": {},
   "outputs": [
    {
     "data": {
      "text/plain": [
       "dict_keys(['2', '6', '8', '9', '11', '14', '17'])"
      ]
     },
     "execution_count": 8,
     "metadata": {},
     "output_type": "execute_result"
    }
   ],
   "source": [
    "marked_sentences.keys()"
   ]
  },
  {
   "cell_type": "code",
   "execution_count": 9,
   "id": "77081b39-a3d3-45ae-a857-685a33f4efa8",
   "metadata": {},
   "outputs": [
    {
     "ename": "ModuleNotFoundError",
     "evalue": "No module named 'deepcopy'",
     "output_type": "error",
     "traceback": [
      "\u001b[0;31m---------------------------------------------------------------------------\u001b[0m",
      "\u001b[0;31mModuleNotFoundError\u001b[0m                       Traceback (most recent call last)",
      "Cell \u001b[0;32mIn[9], line 1\u001b[0m\n\u001b[0;32m----> 1\u001b[0m \u001b[38;5;28;01mimport\u001b[39;00m \u001b[38;5;21;01mdeepcopy\u001b[39;00m\n",
      "\u001b[0;31mModuleNotFoundError\u001b[0m: No module named 'deepcopy'"
     ]
    }
   ],
   "source": [
    "import deepcopy\n"
   ]
  },
  {
   "cell_type": "code",
   "execution_count": 10,
   "id": "5cece834-66ea-4c59-bcf7-facb9962b3cc",
   "metadata": {},
   "outputs": [],
   "source": [
    "test_dict = {1: \"1\", 2 : \"2\", 3 : \"3\", 4 : \"4\", 5 : \"5\"}"
   ]
  },
  {
   "cell_type": "code",
   "execution_count": 11,
   "id": "0b6a653b-97ea-474a-b2e9-29acf42f1542",
   "metadata": {},
   "outputs": [
    {
     "data": {
      "text/plain": [
       "{1: '1', 2: '2', 3: '3', 4: '4', 5: '5'}"
      ]
     },
     "execution_count": 11,
     "metadata": {},
     "output_type": "execute_result"
    }
   ],
   "source": [
    "test_dict"
   ]
  },
  {
   "cell_type": "code",
   "execution_count": 12,
   "id": "f56a92cc-cd7b-4889-af31-c662450c0be6",
   "metadata": {},
   "outputs": [],
   "source": [
    "t_dict = {2 : True, 4 : True}"
   ]
  },
  {
   "cell_type": "code",
   "execution_count": 19,
   "id": "449f8e12-4376-43dd-be82-1ce514968108",
   "metadata": {},
   "outputs": [
    {
     "data": {
      "text/plain": [
       "{2: '2', 4: '4'}"
      ]
     },
     "execution_count": 19,
     "metadata": {},
     "output_type": "execute_result"
    }
   ],
   "source": [
    "{x : test_dict[x] for x in t_dict}"
   ]
  },
  {
   "cell_type": "code",
   "execution_count": 20,
   "id": "bb90d842-7f9c-466a-913d-3510552e86a5",
   "metadata": {},
   "outputs": [],
   "source": [
    "from sqlalchemy import ForeignKey, select, String, and_"
   ]
  },
  {
   "cell_type": "code",
   "execution_count": null,
   "id": "8c52c3f7-e8f2-40ba-9854-d1723c4a0fb5",
   "metadata": {},
   "outputs": [],
   "source": [
    "from sqlalchemy.orm import Session"
   ]
  }
 ],
 "metadata": {
  "kernelspec": {
   "display_name": "Python 3 (ipykernel)",
   "language": "python",
   "name": "python3"
  },
  "language_info": {
   "codemirror_mode": {
    "name": "ipython",
    "version": 3
   },
   "file_extension": ".py",
   "mimetype": "text/x-python",
   "name": "python",
   "nbconvert_exporter": "python",
   "pygments_lexer": "ipython3",
   "version": "3.11.3"
  }
 },
 "nbformat": 4,
 "nbformat_minor": 5
}
