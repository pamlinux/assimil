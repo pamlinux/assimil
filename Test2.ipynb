{
 "cells": [
  {
   "cell_type": "code",
   "execution_count": 10,
   "id": "e2d5ab37-9d59-4048-a672-d0ee122ffd4c",
   "metadata": {},
   "outputs": [],
   "source": [
    "lesson_nb = 54"
   ]
  },
  {
   "cell_type": "code",
   "execution_count": 12,
   "id": "c875da9d-a379-4b9f-8b79-f71cca0a39ad",
   "metadata": {},
   "outputs": [],
   "source": [
    "from translation import get_french_lesson"
   ]
  },
  {
   "cell_type": "code",
   "execution_count": 13,
   "id": "24fe5378-f434-4b19-8e8f-920447df3c93",
   "metadata": {},
   "outputs": [],
   "source": [
    "lesson, exercise1_correction = get_french_lesson(lesson_nb)"
   ]
  },
  {
   "cell_type": "code",
   "execution_count": 14,
   "id": "8ba3ac93-f4b7-476d-b1e0-10cb7613a439",
   "metadata": {},
   "outputs": [
    {
     "data": {
      "text/plain": [
       "(['Leçon cinquante-quatre',\n",
       "  'Un bon candidat',\n",
       "  \"Ça y est, j'ai fait (je fis) l'entretien !\",\n",
       "  \"Comment ça s'est passé (Que tel te fut)?\",\n",
       "  'Super bien (Phénoménal)! Je suis convaincu (de) que je vais (a) obtenir le poste.',\n",
       "  'Félicitations!',\n",
       "  'Ils ont été (Furent) très (la mer de) sympathiques: ils ont commencé (commencèrent) par me demander si je voulais fumer.',\n",
       "  \"Le piège classique ! Et qu'est-ce que tu as fait (que fis- tu)?\",\n",
       "  \"Tu sais bien que j'essaye (je suis en train d'essayer) d'arrêter (de laisser) le tabac\",\n",
       "  'mais il est impoli (de mauvaise éducation) de refuser une cigarette, non ?',\n",
       "  \"Je n'y crois pas (Ne me le peux croire)... Tu as fumé (fumas) ?\",\n",
       "  'Oui, et ensuite ils ont voulu (voulurent) savoir quel genre de presse je lis.',\n",
       "  \"Bien sûr (Clair), pour faire (former) partie d'une entreprise moderne, il est nécessaire d'être (de se maintenir) informé.\",\n",
       "  'Et que leur as-tu répondu (répondis-tu) ?',\n",
       "  \" Eh bien la vérité, que j'ai [l']habitude d'acheter (le) Marca tous les (chaque) matins.\",\n",
       "  \"Mon (Par) Dieu... Et que s'est-il passé (se passa-t-il) ?\",\n",
       "  \"Ils se sont mis (Se mirent) à rire et ils m'ont dit (me dirent) qu'ils n'avaient jamais vu un candidat aussi original que (comme) moi.\",\n",
       "  'Je te le dis: le poste est à moi (mien).'],\n",
       " [\"J'ai eu de la chance, l'entretien s'est très bien passé et j'ai obtenu le poste.\",\n",
       "  \"Je vais faire partie d'une entreprise très moderne.\",\n",
       "  \"Ils ont voulu me faire tomber dans un piège: ils m'ont demandé si j'avais envie de fumer.\",\n",
       "  \"Je vous en remercie. Je sais qu'il est impoli de refuser une cigarette mais je suis en train d'essayer d'arrêter le tabac.\",\n",
       "  'Je suis convaincu que tu as bien fait.'])"
      ]
     },
     "execution_count": 14,
     "metadata": {},
     "output_type": "execute_result"
    }
   ],
   "source": [
    "lesson, exercise1_correction"
   ]
  },
  {
   "cell_type": "code",
   "execution_count": 1,
   "id": "f271c1da-1590-4f87-9c70-a8a77b23b3f9",
   "metadata": {},
   "outputs": [],
   "source": [
    "from translation import get_list_of_translated_sentences_lesson_54"
   ]
  },
  {
   "cell_type": "code",
   "execution_count": 3,
   "id": "967ecd93-e17a-4c40-a8cb-6aa09eb4f8c3",
   "metadata": {},
   "outputs": [],
   "source": [
    "sentences = get_list_of_translated_sentences_lesson_54()"
   ]
  },
  {
   "cell_type": "code",
   "execution_count": 4,
   "id": "e0de6a27-2484-4b4b-8bc6-3c4345efe7bc",
   "metadata": {},
   "outputs": [
    {
     "data": {
      "text/plain": [
       "['Leçon cinquante-quatre',\n",
       " 'Un bon candidat',\n",
       " \"Ça y est, j'ai fait (je fis) l'entretien !\",\n",
       " \"Comment ça s'est passé (Que tel te fut)?\",\n",
       " 'Super bien (Phénoménal)! Je suis convaincu (de) que je vais (a) obtenir le poste.',\n",
       " 'Félicitations!',\n",
       " 'Ils ont été (Furent) très (la mer de) sympathiques: ils ont commencé (commencèrent) par me demander si je voulais fumer.',\n",
       " \"Le piège classique ! Et qu'est-ce que tu as fait (que fis- tu)?\",\n",
       " \"Tu sais bien que j'essaye (je suis en train d'essayer) d'arrêter (de laisser) le tabac\",\n",
       " 'mais il est impoli (de mauvaise éducation) de refuser une cigarette, non ?',\n",
       " \"Je n'y crois pas (Ne me le peux croire)... Tu as fumé (fumas) ?\",\n",
       " 'Oui, et ensuite ils ont voulu (voulurent) savoir quel genre de presse je lis.',\n",
       " \"Bien sûr (Clair), pour faire (former) partie d'une entreprise moderne, il est nécessaire d'être (de se maintenir) informé.\",\n",
       " 'Et que leur as-tu répondu (répondis-tu) ?',\n",
       " \" Eh bien la vérité, que j'ai [l']habitude d'acheter (le) Marca tous les (chaque) matins.\",\n",
       " \"Mon (Par) Dieu... Et que s'est-il passé (se passa-t-il) ?\",\n",
       " \"Ils se sont mis (Se mirent) à rire et ils m'ont dit (me dirent) qu'ils n'avaient jamais vu un candidat aussi original que (comme) moi.\",\n",
       " 'Je te le dis: le poste est à moi (mien).',\n",
       " \"J'ai eu de la chance, l'entretien s'est très bien passé et j'ai obtenu le poste.\",\n",
       " \"Je vais faire partie d'une entreprise très moderne.\",\n",
       " \"Ils ont voulu me faire tomber dans un piège: ils m'ont demandé si j'avais envie de fumer.\",\n",
       " \"Je vous en remercie. Je sais qu'il est impoli de refuser une cigarette mais je suis en train d'essayer d'arrêter le tabac.\",\n",
       " 'Je suis convaincu que tu as bien fait.']"
      ]
     },
     "execution_count": 4,
     "metadata": {},
     "output_type": "execute_result"
    }
   ],
   "source": [
    "sentences"
   ]
  },
  {
   "cell_type": "code",
   "execution_count": 8,
   "id": "9c377468-67a3-42c9-b692-0f46b1030076",
   "metadata": {},
   "outputs": [
    {
     "data": {
      "text/plain": [
       "['Leçon cinquante-quatre',\n",
       " 'Un bon candidat',\n",
       " \"Ça y est, j'ai fait (je fis) l'entretien !\",\n",
       " \"Comment ça s'est passé (Que tel te fut)?\",\n",
       " 'Super bien (Phénoménal)! Je suis convaincu (de) que je vais (a) obtenir le poste.',\n",
       " 'Félicitations!',\n",
       " 'Ils ont été (Furent) très (la mer de) sympathiques: ils ont commencé (commencèrent) par me demander si je voulais fumer.',\n",
       " \"Le piège classique ! Et qu'est-ce que tu as fait (que fis- tu)?\",\n",
       " \"Tu sais bien que j'essaye (je suis en train d'essayer) d'arrêter (de laisser) le tabac\",\n",
       " 'mais il est impoli (de mauvaise éducation) de refuser une cigarette, non ?',\n",
       " \"Je n'y crois pas (Ne me le peux croire)... Tu as fumé (fumas) ?\",\n",
       " 'Oui, et ensuite ils ont voulu (voulurent) savoir quel genre de presse je lis.',\n",
       " \"Bien sûr (Clair), pour faire (former) partie d'une entreprise moderne, il est nécessaire d'être (de se maintenir) informé.\",\n",
       " 'Et que leur as-tu répondu (répondis-tu) ?',\n",
       " \" Eh bien la vérité, que j'ai [l']habitude d'acheter (le) Marca tous les (chaque) matins.\",\n",
       " \"Mon (Par) Dieu... Et que s'est-il passé (se passa-t-il) ?\",\n",
       " \"Ils se sont mis (Se mirent) à rire et ils m'ont dit (me dirent) qu'ils n'avaient jamais vu un candidat aussi original que (comme) moi.\",\n",
       " 'Je te le dis: le poste est à moi (mien).']"
      ]
     },
     "execution_count": 8,
     "metadata": {},
     "output_type": "execute_result"
    }
   ],
   "source": [
    "lesson = sentences[:18]"
   ]
  },
  {
   "cell_type": "code",
   "execution_count": 9,
   "id": "1963d2e8-0c6e-4033-aebd-8fb50c7edd81",
   "metadata": {},
   "outputs": [
    {
     "data": {
      "text/plain": [
       "[\"J'ai eu de la chance, l'entretien s'est très bien passé et j'ai obtenu le poste.\",\n",
       " \"Je vais faire partie d'une entreprise très moderne.\",\n",
       " \"Ils ont voulu me faire tomber dans un piège: ils m'ont demandé si j'avais envie de fumer.\",\n",
       " \"Je vous en remercie. Je sais qu'il est impoli de refuser une cigarette mais je suis en train d'essayer d'arrêter le tabac.\",\n",
       " 'Je suis convaincu que tu as bien fait.']"
      ]
     },
     "execution_count": 9,
     "metadata": {},
     "output_type": "execute_result"
    }
   ],
   "source": [
    "exercise1_correction = sentences[18:]\n",
    "exercise1_correction"
   ]
  },
  {
   "cell_type": "code",
   "execution_count": null,
   "id": "99be3525-c0bc-4b11-9477-ca27504b64e4",
   "metadata": {},
   "outputs": [],
   "source": []
  }
 ],
 "metadata": {
  "kernelspec": {
   "display_name": "Python 3 (ipykernel)",
   "language": "python",
   "name": "python3"
  },
  "language_info": {
   "codemirror_mode": {
    "name": "ipython",
    "version": 3
   },
   "file_extension": ".py",
   "mimetype": "text/x-python",
   "name": "python",
   "nbconvert_exporter": "python",
   "pygments_lexer": "ipython3",
   "version": "3.11.3"
  }
 },
 "nbformat": 4,
 "nbformat_minor": 5
}
