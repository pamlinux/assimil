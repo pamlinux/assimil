{
 "cells": [
  {
   "cell_type": "code",
   "execution_count": 1,
   "id": "6ab00704-ed0e-4c54-90f7-bde8f5b00cf9",
   "metadata": {},
   "outputs": [],
   "source": [
    "import shelve\n",
    "import sqlite3\n",
    "from sqlalchemy import create_engine, text, Table, Column, Integer, String\n",
    "\n",
    "def test_sqlite3():\n",
    "    conn = sqlite3.connect(\"debug.s3db\")\n",
    "    cur = conn.cursor()\n",
    "    cur.execute(\"CREATE TABLE IF NOT EXISTS [mydict] (\"\n",
    "                \"[key] VARCHAR(255) PRIMARY KEY NOT NULL, \"\n",
    "                \"[value] VARCHAR(255) NOT NULL)\")\n",
    "    for i in range(0, 1000000):\n",
    "        cur.execute(\"INSERT INTO [mydict] (key, value) VALUES (?, ?)\",\n",
    "                    (str(i), str(i*2)))\n",
    "    conn.commit()\n",
    "    cur.close()\n",
    "    conn.close()\n",
    "    \n",
    "def test_shelve():\n",
    "    d = shelve.open(\"debug.shelf\")\n",
    "    for i in range(0, 1000000):\n",
    "        d[str(i)] = str(i*2)\n",
    "    d.close()\n",
    "\n",
    "def test_sqlalchemy():\n",
    "    # sqlite://<nohostname>/<path>\n",
    "    # where <path> is relative:\n",
    "    engine = create_engine(\"sqlite:///debug.alch\")\n",
    "    with engine.connect() as conn:\n",
    "        conn.execute(text(\"CREATE TABLE some_table (x int, y int)\"))\n",
    "        for i in range(0, 1000000):\n",
    "            conn.execute(\n",
    "            text(\"INSERT INTO some_table (x, y) VALUES (:x, :y)\"),\n",
    "            [{\"x\": i, \"y\": 2*i}],\n",
    "        )\n",
    "        conn.commit()"
   ]
  },
  {
   "cell_type": "code",
   "execution_count": 2,
   "id": "396dd646-880b-46d6-b83b-2bb4d233ab2a",
   "metadata": {},
   "outputs": [
    {
     "data": {
      "text/plain": [
       "1723233457.224305"
      ]
     },
     "execution_count": 2,
     "metadata": {},
     "output_type": "execute_result"
    }
   ],
   "source": [
    "import time\n",
    "time.time()"
   ]
  },
  {
   "cell_type": "code",
   "execution_count": 3,
   "id": "013ecb8d-e4b9-4f85-840c-cb969ab61973",
   "metadata": {},
   "outputs": [
    {
     "name": "stdout",
     "output_type": "stream",
     "text": [
      "1.2053110599517822\n"
     ]
    }
   ],
   "source": [
    "t = time.time()\n",
    "test_sqlite3()\n",
    "print(time.time() - t)"
   ]
  },
  {
   "cell_type": "code",
   "execution_count": 4,
   "id": "ee3ea53a-40d4-41f4-86ab-c54cb8ddaa6d",
   "metadata": {},
   "outputs": [
    {
     "name": "stdout",
     "output_type": "stream",
     "text": [
      "2.784661054611206\n"
     ]
    }
   ],
   "source": [
    "t = time.time()\n",
    "test_shelve()\n",
    "print(time.time() - t)"
   ]
  },
  {
   "cell_type": "code",
   "execution_count": 5,
   "id": "c593c5c1-0718-4ff1-a8d7-3622d24a8ab8",
   "metadata": {},
   "outputs": [
    {
     "name": "stdout",
     "output_type": "stream",
     "text": [
      "15.35684609413147\n"
     ]
    }
   ],
   "source": [
    "t = time.time()\n",
    "test_sqlalchemy()\n",
    "print(time.time() - t)"
   ]
  },
  {
   "cell_type": "code",
   "execution_count": null,
   "id": "da54c133-b8ac-4a55-8639-a2c036950593",
   "metadata": {},
   "outputs": [],
   "source": []
  }
 ],
 "metadata": {
  "kernelspec": {
   "display_name": "Python 3 (ipykernel)",
   "language": "python",
   "name": "python3"
  },
  "language_info": {
   "codemirror_mode": {
    "name": "ipython",
    "version": 3
   },
   "file_extension": ".py",
   "mimetype": "text/x-python",
   "name": "python",
   "nbconvert_exporter": "python",
   "pygments_lexer": "ipython3",
   "version": "3.11.3"
  }
 },
 "nbformat": 4,
 "nbformat_minor": 5
}
