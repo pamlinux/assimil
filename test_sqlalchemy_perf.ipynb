{
 "cells": [
  {
   "cell_type": "code",
   "execution_count": 4,
   "id": "6ab00704-ed0e-4c54-90f7-bde8f5b00cf9",
   "metadata": {},
   "outputs": [],
   "source": [
    "import shelve\n",
    "import sqlite3\n",
    "from sqlalchemy import create_engine, text, Table, Column, Integer, String\n",
    "from sqlalchemy import MetaData\n",
    "\n",
    "def test_sqlite3():\n",
    "    conn = sqlite3.connect(\"debug.s3db\")\n",
    "    cur = conn.cursor()\n",
    "    cur.execute(\"CREATE TABLE IF NOT EXISTS [mydict] (\"\n",
    "                \"[key] VARCHAR(255) PRIMARY KEY NOT NULL, \"\n",
    "                \"[value] VARCHAR(255) NOT NULL)\")\n",
    "    for i in range(0, 1000000):\n",
    "        cur.execute(\"INSERT INTO [mydict] (key, value) VALUES (?, ?)\",\n",
    "                    (str(i), str(i*2)))\n",
    "    conn.commit()\n",
    "    cur.close()\n",
    "    conn.close()\n",
    "    \n",
    "def test_shelve():\n",
    "    d = shelve.open(\"debug.shelf\")\n",
    "    for i in range(0, 1000000):\n",
    "        d[str(i)] = str(i*2)\n",
    "    d.close()\n",
    "\n",
    "def test_sqlalchemy():\n",
    "    # sqlite://<nohostname>/<path>\n",
    "    # where <path> is relative:\n",
    "    engine = create_engine(\"sqlite:///debug.alch\")\n",
    "    with engine.connect() as conn:\n",
    "        conn.execute(text(\"CREATE TABLE some_table (x int, y int)\"))\n",
    "        for i in range(0, 1000000):\n",
    "            conn.execute(\n",
    "            text(\"INSERT INTO some_table (x, y) VALUES (:x, :y)\"),\n",
    "            [{\"x\": i, \"y\": 2*i}],\n",
    "        )\n",
    "        conn.commit()\n",
    "\n",
    "def test_sqlalchemy2():\n",
    "    metadata_obj = MetaData()\n",
    "    second_table = Table(\n",
    "    \"second_table\",\n",
    "    metadata_obj,\n",
    "    Column(\"x\", Integer, primary_key=True),\n",
    "    Column(\"y\", Integer),\n",
    ")\n",
    "    "
   ]
  },
  {
   "cell_type": "code",
   "execution_count": 5,
   "id": "396dd646-880b-46d6-b83b-2bb4d233ab2a",
   "metadata": {},
   "outputs": [
    {
     "data": {
      "text/plain": [
       "1723306609.238223"
      ]
     },
     "execution_count": 5,
     "metadata": {},
     "output_type": "execute_result"
    }
   ],
   "source": [
    "import time\n",
    "time.time()"
   ]
  },
  {
   "cell_type": "code",
   "execution_count": 6,
   "id": "013ecb8d-e4b9-4f85-840c-cb969ab61973",
   "metadata": {},
   "outputs": [
    {
     "name": "stdout",
     "output_type": "stream",
     "text": [
      "1.2112457752227783\n"
     ]
    }
   ],
   "source": [
    "t = time.time()\n",
    "test_sqlite3()\n",
    "print(time.time() - t)"
   ]
  },
  {
   "cell_type": "code",
   "execution_count": 7,
   "id": "ee3ea53a-40d4-41f4-86ab-c54cb8ddaa6d",
   "metadata": {},
   "outputs": [
    {
     "name": "stdout",
     "output_type": "stream",
     "text": [
      "2.948441743850708\n"
     ]
    }
   ],
   "source": [
    "t = time.time()\n",
    "test_shelve()\n",
    "print(time.time() - t)"
   ]
  },
  {
   "cell_type": "code",
   "execution_count": 8,
   "id": "c593c5c1-0718-4ff1-a8d7-3622d24a8ab8",
   "metadata": {},
   "outputs": [
    {
     "name": "stdout",
     "output_type": "stream",
     "text": [
      "14.901591062545776\n"
     ]
    }
   ],
   "source": [
    "t = time.time()\n",
    "test_sqlalchemy()\n",
    "print(time.time() - t)"
   ]
  },
  {
   "cell_type": "code",
   "execution_count": 7,
   "id": "aa8fdde6-e61d-40a0-8090-f5ec0aa96ae4",
   "metadata": {},
   "outputs": [],
   "source": [
    "from sqlalchemy import MetaData\n",
    "metadata_obj = MetaData()"
   ]
  },
  {
   "cell_type": "code",
   "execution_count": 8,
   "id": "da54c133-b8ac-4a55-8639-a2c036950593",
   "metadata": {},
   "outputs": [],
   "source": [
    "from sqlalchemy import Table, Column, Integer, String\n",
    "user_table = Table(\n",
    "    \"user_account\",\n",
    "    metadata_obj,\n",
    "    Column(\"id\", Integer, primary_key=True),\n",
    "    Column(\"name\", String(30)),\n",
    "    Column(\"fullname\", String),\n",
    ")"
   ]
  },
  {
   "cell_type": "code",
   "execution_count": 9,
   "id": "475372ba-c916-4b50-a572-1d3a54c559db",
   "metadata": {},
   "outputs": [
    {
     "data": {
      "text/plain": [
       "Column('name', String(length=30), table=<user_account>)"
      ]
     },
     "execution_count": 9,
     "metadata": {},
     "output_type": "execute_result"
    }
   ],
   "source": [
    "user_table.c.name"
   ]
  },
  {
   "cell_type": "code",
   "execution_count": 10,
   "id": "6d5d368a-1e65-4324-b834-f817207a8b50",
   "metadata": {},
   "outputs": [
    {
     "data": {
      "text/plain": [
       "['id', 'name', 'fullname']"
      ]
     },
     "execution_count": 10,
     "metadata": {},
     "output_type": "execute_result"
    }
   ],
   "source": [
    "user_table.c.keys()"
   ]
  },
  {
   "cell_type": "code",
   "execution_count": null,
   "id": "fc6ad218-a245-4665-be68-1e5eaca36b50",
   "metadata": {},
   "outputs": [],
   "source": []
  }
 ],
 "metadata": {
  "kernelspec": {
   "display_name": "Python 3 (ipykernel)",
   "language": "python",
   "name": "python3"
  },
  "language_info": {
   "codemirror_mode": {
    "name": "ipython",
    "version": 3
   },
   "file_extension": ".py",
   "mimetype": "text/x-python",
   "name": "python",
   "nbconvert_exporter": "python",
   "pygments_lexer": "ipython3",
   "version": "3.11.3"
  }
 },
 "nbformat": 4,
 "nbformat_minor": 5
}
